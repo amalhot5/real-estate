{
 "cells": [
  {
   "cell_type": "code",
   "execution_count": 1,
   "metadata": {},
   "outputs": [],
   "source": [
    "import pandas as pd\n",
    "import seaborn as sns"
   ]
  },
  {
   "cell_type": "code",
   "execution_count": 2,
   "metadata": {},
   "outputs": [
    {
     "data": {
      "text/html": [
       "<div>\n",
       "<style scoped>\n",
       "    .dataframe tbody tr th:only-of-type {\n",
       "        vertical-align: middle;\n",
       "    }\n",
       "\n",
       "    .dataframe tbody tr th {\n",
       "        vertical-align: top;\n",
       "    }\n",
       "\n",
       "    .dataframe thead th {\n",
       "        text-align: right;\n",
       "    }\n",
       "</style>\n",
       "<table border=\"1\" class=\"dataframe\">\n",
       "  <thead>\n",
       "    <tr style=\"text-align: right;\">\n",
       "      <th></th>\n",
       "      <th>listing_id</th>\n",
       "      <th>address</th>\n",
       "      <th>unit</th>\n",
       "      <th>source</th>\n",
       "      <th>property_type_code</th>\n",
       "      <th>luxury_status</th>\n",
       "      <th>list_date</th>\n",
       "      <th>contract_date</th>\n",
       "      <th>sold_date</th>\n",
       "      <th>original_list_price</th>\n",
       "      <th>...</th>\n",
       "      <th>resale_or_sponsor</th>\n",
       "      <th>key</th>\n",
       "      <th>year</th>\n",
       "      <th>qtr</th>\n",
       "      <th>week</th>\n",
       "      <th>neighborhood</th>\n",
       "      <th>neighborhood_group</th>\n",
       "      <th>borough</th>\n",
       "      <th>rooms</th>\n",
       "      <th>bedrooms</th>\n",
       "    </tr>\n",
       "  </thead>\n",
       "  <tbody>\n",
       "    <tr>\n",
       "      <th>0</th>\n",
       "      <td>7512983</td>\n",
       "      <td>150-40 71st Avenue</td>\n",
       "      <td>3k</td>\n",
       "      <td>mlsli</td>\n",
       "      <td>Cooperative</td>\n",
       "      <td>standard</td>\n",
       "      <td>2023-03-13 00:00:00</td>\n",
       "      <td>2023-11-10 00:00:00</td>\n",
       "      <td>2024-08-24 00:00:00</td>\n",
       "      <td>352000.0</td>\n",
       "      <td>...</td>\n",
       "      <td>NaN</td>\n",
       "      <td>1278;1400;1416;1764</td>\n",
       "      <td>2024</td>\n",
       "      <td>3</td>\n",
       "      <td>34</td>\n",
       "      <td>Kew Gardens Hills</td>\n",
       "      <td>Northeastern Queens</td>\n",
       "      <td>Queens</td>\n",
       "      <td>5.0</td>\n",
       "      <td>2.0</td>\n",
       "    </tr>\n",
       "    <tr>\n",
       "      <th>1</th>\n",
       "      <td>7746123</td>\n",
       "      <td>211 Central Park West</td>\n",
       "      <td>3BD</td>\n",
       "      <td>rls</td>\n",
       "      <td>Cooperative</td>\n",
       "      <td>standard</td>\n",
       "      <td>2023-10-03 00:00:00</td>\n",
       "      <td>2024-05-24 00:00:00</td>\n",
       "      <td>2024-08-24 00:00:00</td>\n",
       "      <td>4500000.0</td>\n",
       "      <td>...</td>\n",
       "      <td>False</td>\n",
       "      <td>1278;1279;1333;1890</td>\n",
       "      <td>2024</td>\n",
       "      <td>3</td>\n",
       "      <td>34</td>\n",
       "      <td>Upper West Side</td>\n",
       "      <td>All Upper West Side</td>\n",
       "      <td>Manhattan</td>\n",
       "      <td>5.0</td>\n",
       "      <td>2.0</td>\n",
       "    </tr>\n",
       "    <tr>\n",
       "      <th>2</th>\n",
       "      <td>7962068</td>\n",
       "      <td>629 East 52nd Street</td>\n",
       "      <td>NaN</td>\n",
       "      <td>rls</td>\n",
       "      <td>Single-Family Townhouse</td>\n",
       "      <td>standard</td>\n",
       "      <td>2024-03-15 00:00:00</td>\n",
       "      <td>2024-05-20 00:00:00</td>\n",
       "      <td>2024-08-24 00:00:00</td>\n",
       "      <td>550000.0</td>\n",
       "      <td>...</td>\n",
       "      <td>False</td>\n",
       "      <td>1278;1337;1338;1697</td>\n",
       "      <td>2024</td>\n",
       "      <td>3</td>\n",
       "      <td>34</td>\n",
       "      <td>Northeast Flatbush</td>\n",
       "      <td>Central Brooklyn</td>\n",
       "      <td>Brooklyn</td>\n",
       "      <td>6.0</td>\n",
       "      <td>3.0</td>\n",
       "    </tr>\n",
       "    <tr>\n",
       "      <th>3</th>\n",
       "      <td>8056703</td>\n",
       "      <td>201 East 17th Street</td>\n",
       "      <td>24J</td>\n",
       "      <td>rls</td>\n",
       "      <td>Cooperative</td>\n",
       "      <td>standard</td>\n",
       "      <td>2024-03-19 00:00:00</td>\n",
       "      <td>2024-05-21 00:00:00</td>\n",
       "      <td>2024-08-24 00:00:00</td>\n",
       "      <td>899000.0</td>\n",
       "      <td>...</td>\n",
       "      <td>False</td>\n",
       "      <td>1278;1279;1280;1675</td>\n",
       "      <td>2024</td>\n",
       "      <td>3</td>\n",
       "      <td>34</td>\n",
       "      <td>Gramercy</td>\n",
       "      <td>All Downtown</td>\n",
       "      <td>Manhattan</td>\n",
       "      <td>3.0</td>\n",
       "      <td>1.0</td>\n",
       "    </tr>\n",
       "    <tr>\n",
       "      <th>4</th>\n",
       "      <td>8360115</td>\n",
       "      <td>1 Clinton Street</td>\n",
       "      <td>33B</td>\n",
       "      <td>rls</td>\n",
       "      <td>Condominium</td>\n",
       "      <td>standard</td>\n",
       "      <td>2024-04-25 00:00:00</td>\n",
       "      <td>2024-07-19 00:00:00</td>\n",
       "      <td>2024-08-24 00:00:00</td>\n",
       "      <td>4995000.0</td>\n",
       "      <td>...</td>\n",
       "      <td>False</td>\n",
       "      <td>1278;1337;1354;1730</td>\n",
       "      <td>2024</td>\n",
       "      <td>3</td>\n",
       "      <td>34</td>\n",
       "      <td>Brooklyn Heights</td>\n",
       "      <td>Northern Brooklyn</td>\n",
       "      <td>Brooklyn</td>\n",
       "      <td>6.0</td>\n",
       "      <td>4.0</td>\n",
       "    </tr>\n",
       "  </tbody>\n",
       "</table>\n",
       "<p>5 rows × 25 columns</p>\n",
       "</div>"
      ],
      "text/plain": [
       "   listing_id                address unit source       property_type_code  \\\n",
       "0     7512983     150-40 71st Avenue   3k  mlsli              Cooperative   \n",
       "1     7746123  211 Central Park West  3BD    rls              Cooperative   \n",
       "2     7962068   629 East 52nd Street  NaN    rls  Single-Family Townhouse   \n",
       "3     8056703   201 East 17th Street  24J    rls              Cooperative   \n",
       "4     8360115       1 Clinton Street  33B    rls              Condominium   \n",
       "\n",
       "  luxury_status            list_date        contract_date  \\\n",
       "0      standard  2023-03-13 00:00:00  2023-11-10 00:00:00   \n",
       "1      standard  2023-10-03 00:00:00  2024-05-24 00:00:00   \n",
       "2      standard  2024-03-15 00:00:00  2024-05-20 00:00:00   \n",
       "3      standard  2024-03-19 00:00:00  2024-05-21 00:00:00   \n",
       "4      standard  2024-04-25 00:00:00  2024-07-19 00:00:00   \n",
       "\n",
       "             sold_date  original_list_price  ...  resale_or_sponsor  \\\n",
       "0  2024-08-24 00:00:00             352000.0  ...                NaN   \n",
       "1  2024-08-24 00:00:00            4500000.0  ...              False   \n",
       "2  2024-08-24 00:00:00             550000.0  ...              False   \n",
       "3  2024-08-24 00:00:00             899000.0  ...              False   \n",
       "4  2024-08-24 00:00:00            4995000.0  ...              False   \n",
       "\n",
       "                   key  year  qtr  week        neighborhood  \\\n",
       "0  1278;1400;1416;1764  2024    3    34   Kew Gardens Hills   \n",
       "1  1278;1279;1333;1890  2024    3    34     Upper West Side   \n",
       "2  1278;1337;1338;1697  2024    3    34  Northeast Flatbush   \n",
       "3  1278;1279;1280;1675  2024    3    34            Gramercy   \n",
       "4  1278;1337;1354;1730  2024    3    34    Brooklyn Heights   \n",
       "\n",
       "    neighborhood_group    borough  rooms  bedrooms  \n",
       "0  Northeastern Queens     Queens    5.0       2.0  \n",
       "1  All Upper West Side  Manhattan    5.0       2.0  \n",
       "2     Central Brooklyn   Brooklyn    6.0       3.0  \n",
       "3         All Downtown  Manhattan    3.0       1.0  \n",
       "4    Northern Brooklyn   Brooklyn    6.0       4.0  \n",
       "\n",
       "[5 rows x 25 columns]"
      ]
     },
     "execution_count": 2,
     "metadata": {},
     "output_type": "execute_result"
    }
   ],
   "source": [
    "all_sales = pd.read_csv('data/Sum_of_Rooms_and_Sum_1724677689217.csv')\n",
    "all_sales.head()"
   ]
  },
  {
   "cell_type": "code",
   "execution_count": 22,
   "metadata": {},
   "outputs": [
    {
     "data": {
      "text/plain": [
       "resale_or_sponsor\n",
       "False     750.215094\n",
       "True     1515.830217\n",
       "Name: psqft, dtype: float64"
      ]
     },
     "execution_count": 22,
     "metadata": {},
     "output_type": "execute_result"
    }
   ],
   "source": [
    "all_sales.groupby(['resale_or_sponsor'])['psqft'].mean()"
   ]
  },
  {
   "cell_type": "code",
   "execution_count": 20,
   "metadata": {},
   "outputs": [
    {
     "data": {
      "text/plain": [
       "borough    resale_or_sponsor\n",
       "Bronx      False                 260\n",
       "           True                   50\n",
       "Brooklyn   False                2645\n",
       "           True                 1772\n",
       "Manhattan  False                7957\n",
       "           True                 2594\n",
       "Queens     False                 626\n",
       "           True                  826\n",
       "Name: listing_id, dtype: int64"
      ]
     },
     "execution_count": 20,
     "metadata": {},
     "output_type": "execute_result"
    }
   ],
   "source": [
    "all_sales.groupby(['borough', 'resale_or_sponsor'])['listing_id'].nunique()"
   ]
  },
  {
   "cell_type": "code",
   "execution_count": 3,
   "metadata": {},
   "outputs": [
    {
     "data": {
      "text/plain": [
       "Index(['listing_id', 'address', 'unit', 'source', 'property_type_code',\n",
       "       'luxury_status', 'list_date', 'contract_date', 'sold_date',\n",
       "       'original_list_price', 'contract_price', 'sold_price', 'square_feet',\n",
       "       'psqft', 'sales_num', 'resale_or_sponsor', 'key', 'year', 'qtr', 'week',\n",
       "       'neighborhood', 'neighborhood_group', 'borough', 'rooms', 'bedrooms'],\n",
       "      dtype='object')"
      ]
     },
     "execution_count": 3,
     "metadata": {},
     "output_type": "execute_result"
    }
   ],
   "source": [
    "all_sales.columns"
   ]
  },
  {
   "cell_type": "code",
   "execution_count": 4,
   "metadata": {},
   "outputs": [
    {
     "data": {
      "text/html": [
       "<div>\n",
       "<style scoped>\n",
       "    .dataframe tbody tr th:only-of-type {\n",
       "        vertical-align: middle;\n",
       "    }\n",
       "\n",
       "    .dataframe tbody tr th {\n",
       "        vertical-align: top;\n",
       "    }\n",
       "\n",
       "    .dataframe thead th {\n",
       "        text-align: right;\n",
       "    }\n",
       "</style>\n",
       "<table border=\"1\" class=\"dataframe\">\n",
       "  <thead>\n",
       "    <tr style=\"text-align: right;\">\n",
       "      <th></th>\n",
       "      <th>listing_id</th>\n",
       "      <th>address</th>\n",
       "      <th>unit</th>\n",
       "      <th>key</th>\n",
       "      <th>luxury_status</th>\n",
       "      <th>resale_or_sponsor</th>\n",
       "      <th>year</th>\n",
       "      <th>qtr</th>\n",
       "      <th>week</th>\n",
       "      <th>psqft</th>\n",
       "      <th>neighborhood</th>\n",
       "      <th>neighborhood_group</th>\n",
       "    </tr>\n",
       "  </thead>\n",
       "  <tbody>\n",
       "    <tr>\n",
       "      <th>2</th>\n",
       "      <td>7962068</td>\n",
       "      <td>629 East 52nd Street</td>\n",
       "      <td>NaN</td>\n",
       "      <td>1278;1337;1338;1697</td>\n",
       "      <td>standard</td>\n",
       "      <td>False</td>\n",
       "      <td>2024</td>\n",
       "      <td>3</td>\n",
       "      <td>34</td>\n",
       "      <td>446.0</td>\n",
       "      <td>Northeast Flatbush</td>\n",
       "      <td>Central Brooklyn</td>\n",
       "    </tr>\n",
       "    <tr>\n",
       "      <th>4</th>\n",
       "      <td>8360115</td>\n",
       "      <td>1 Clinton Street</td>\n",
       "      <td>33B</td>\n",
       "      <td>1278;1337;1354;1730</td>\n",
       "      <td>standard</td>\n",
       "      <td>False</td>\n",
       "      <td>2024</td>\n",
       "      <td>3</td>\n",
       "      <td>34</td>\n",
       "      <td>1892.0</td>\n",
       "      <td>Brooklyn Heights</td>\n",
       "      <td>Northern Brooklyn</td>\n",
       "    </tr>\n",
       "    <tr>\n",
       "      <th>6</th>\n",
       "      <td>35172757</td>\n",
       "      <td>1 CITY PT</td>\n",
       "      <td>48C</td>\n",
       "      <td>1278;1337;1354;1727</td>\n",
       "      <td>standard</td>\n",
       "      <td>True</td>\n",
       "      <td>2024</td>\n",
       "      <td>3</td>\n",
       "      <td>34</td>\n",
       "      <td>1935.0</td>\n",
       "      <td>Downtown Brooklyn</td>\n",
       "      <td>Northern Brooklyn</td>\n",
       "    </tr>\n",
       "    <tr>\n",
       "      <th>12</th>\n",
       "      <td>7804375</td>\n",
       "      <td>330 Lenox Road</td>\n",
       "      <td>7L</td>\n",
       "      <td>1278;1337;1338;1699</td>\n",
       "      <td>standard</td>\n",
       "      <td>NaN</td>\n",
       "      <td>2024</td>\n",
       "      <td>3</td>\n",
       "      <td>34</td>\n",
       "      <td>495.0</td>\n",
       "      <td>Flatbush</td>\n",
       "      <td>Central Brooklyn</td>\n",
       "    </tr>\n",
       "    <tr>\n",
       "      <th>19</th>\n",
       "      <td>7944852</td>\n",
       "      <td>481 Putnam Avenue</td>\n",
       "      <td>NaN</td>\n",
       "      <td>1278;1337;1354;1705</td>\n",
       "      <td>luxury</td>\n",
       "      <td>False</td>\n",
       "      <td>2024</td>\n",
       "      <td>3</td>\n",
       "      <td>34</td>\n",
       "      <td>842.0</td>\n",
       "      <td>Bed Stuy</td>\n",
       "      <td>Northern Brooklyn</td>\n",
       "    </tr>\n",
       "  </tbody>\n",
       "</table>\n",
       "</div>"
      ],
      "text/plain": [
       "    listing_id               address unit                  key luxury_status  \\\n",
       "2      7962068  629 East 52nd Street  NaN  1278;1337;1338;1697      standard   \n",
       "4      8360115      1 Clinton Street  33B  1278;1337;1354;1730      standard   \n",
       "6     35172757             1 CITY PT  48C  1278;1337;1354;1727      standard   \n",
       "12     7804375        330 Lenox Road   7L  1278;1337;1338;1699      standard   \n",
       "19     7944852     481 Putnam Avenue  NaN  1278;1337;1354;1705        luxury   \n",
       "\n",
       "   resale_or_sponsor  year  qtr  week   psqft        neighborhood  \\\n",
       "2              False  2024    3    34   446.0  Northeast Flatbush   \n",
       "4              False  2024    3    34  1892.0    Brooklyn Heights   \n",
       "6               True  2024    3    34  1935.0   Downtown Brooklyn   \n",
       "12               NaN  2024    3    34   495.0            Flatbush   \n",
       "19             False  2024    3    34   842.0            Bed Stuy   \n",
       "\n",
       "   neighborhood_group  \n",
       "2    Central Brooklyn  \n",
       "4   Northern Brooklyn  \n",
       "6   Northern Brooklyn  \n",
       "12   Central Brooklyn  \n",
       "19  Northern Brooklyn  "
      ]
     },
     "execution_count": 4,
     "metadata": {},
     "output_type": "execute_result"
    }
   ],
   "source": [
    "bk_all_sales = all_sales[(all_sales['borough'] == 'Brooklyn') & (all_sales['sales_num'] == 1)][['listing_id', 'address', 'unit', 'key','luxury_status', 'resale_or_sponsor',\n",
    "                                                                                                'year', 'qtr', 'week', 'psqft', 'neighborhood', 'neighborhood_group']].dropna(subset='psqft')\n",
    "bk_all_sales['psqft'] = bk_all_sales['psqft'].astype('float')\n",
    "bk_all_sales.head()"
   ]
  },
  {
   "cell_type": "code",
   "execution_count": 5,
   "metadata": {},
   "outputs": [
    {
     "data": {
      "text/plain": [
       "<Axes: xlabel='neighborhood_group'>"
      ]
     },
     "execution_count": 5,
     "metadata": {},
     "output_type": "execute_result"
    },
    {
     "data": {
      "image/png": "[encoded data removed]",
      "text/plain": [
       "<Figure size 640x480 with 1 Axes>"
      ]
     },
     "metadata": {},
     "output_type": "display_data"
    }
   ],
   "source": [
    "bk_all_sales.groupby(['neighborhood_group', 'resale_or_sponsor']).count()['key'].unstack().plot.bar()"
   ]
  },
  {
   "cell_type": "code",
   "execution_count": 6,
   "metadata": {},
   "outputs": [],
   "source": [
    "bk_all_sales = all_sales[(all_sales['neighborhood_group'] == 'Northern Brooklyn')]"
   ]
  },
  {
   "cell_type": "code",
   "execution_count": 13,
   "metadata": {},
   "outputs": [],
   "source": [
    "bk_all_sales_grouped = bk_all_sales.groupby(['neighborhood', 'resale_or_sponsor', 'year', 'qtr'])\n",
    "bk_all_sales_grouped['psqft'].mean().to_clipboard()"
   ]
  },
  {
   "cell_type": "code",
   "execution_count": 12,
   "metadata": {},
   "outputs": [],
   "source": [
    "bk_all_sales_grouped['listing_id'].nunique().to_clipboard()"
   ]
  },
  {
   "cell_type": "code",
   "execution_count": 17,
   "metadata": {},
   "outputs": [],
   "source": [
    "bk_all_sales[bk_all_sales['resale_or_sponsor'] == True].groupby('neighborhood').count()['listing_id'].to_clipboard()"
   ]
  },
  {
   "cell_type": "code",
   "execution_count": 10,
   "metadata": {},
   "outputs": [],
   "source": [
    "# TODO: cumulative price per sqft"
   ]
  },
  {
   "cell_type": "code",
   "execution_count": 18,
   "metadata": {},
   "outputs": [],
   "source": [
    "bk_all_sales.groupby(['neighborhood', 'year', 'qtr'])['psqft'].mean().to_clipboard()"
   ]
  },
  {
   "cell_type": "code",
   "execution_count": 23,
   "metadata": {},
   "outputs": [
    {
     "data": {
      "text/plain": [
       "resale_or_sponsor\n",
       "False     841.390871\n",
       "True     1388.599850\n",
       "Name: psqft, dtype: float64"
      ]
     },
     "execution_count": 23,
     "metadata": {},
     "output_type": "execute_result"
    }
   ],
   "source": [
    "bk_all_sales.groupby(['resale_or_sponsor'])['psqft'].mean()"
   ]
  },
  {
   "cell_type": "code",
   "execution_count": null,
   "metadata": {},
   "outputs": [],
   "source": []
  }
 ],
 "metadata": {
  "kernelspec": {
   "display_name": "pw_3.12",
   "language": "python",
   "name": "python3"
  },
  "language_info": {
   "codemirror_mode": {
    "name": "ipython",
    "version": 3
   },
   "file_extension": ".py",
   "mimetype": "text/x-python",
   "name": "python",
   "nbconvert_exporter": "python",
   "pygments_lexer": "ipython3",
   "version": "3.12.4"
  }
 },
 "nbformat": 4,
 "nbformat_minor": 2
}
