{
 "cells": [
  {
   "cell_type": "code",
   "execution_count": 1,
   "metadata": {},
   "outputs": [],
   "source": [
    "import pandas as pd\n",
    "import shapely\n",
    "import geopandas as gpd\n",
    "\n",
    "from tqdm.auto import tqdm"
   ]
  },
  {
   "cell_type": "code",
   "execution_count": 2,
   "metadata": {},
   "outputs": [
    {
     "data": {
      "text/plain": [
       "11178605"
      ]
     },
     "execution_count": 2,
     "metadata": {},
     "output_type": "execute_result"
    }
   ],
   "source": [
    "crmls = pd.read_csv('data/all_listings_lat_long_city_crmls.csv')\n",
    "for i in range(2,47):\n",
    "    crmls = pd.concat([crmls, pd.read_csv(f'data/all_listings_lat_long_city_crmls_{i}.csv')])\n",
    "len(crmls)"
   ]
  },
  {
   "cell_type": "code",
   "execution_count": 3,
   "metadata": {},
   "outputs": [
    {
     "data": {
      "text/html": [
       "<div>\n",
       "<style scoped>\n",
       "    .dataframe tbody tr th:only-of-type {\n",
       "        vertical-align: middle;\n",
       "    }\n",
       "\n",
       "    .dataframe tbody tr th {\n",
       "        vertical-align: top;\n",
       "    }\n",
       "\n",
       "    .dataframe thead th {\n",
       "        text-align: right;\n",
       "    }\n",
       "</style>\n",
       "<table border=\"1\" class=\"dataframe\">\n",
       "  <thead>\n",
       "    <tr style=\"text-align: right;\">\n",
       "      <th></th>\n",
       "      <th>mls_area_major</th>\n",
       "      <th>city</th>\n",
       "      <th>county_or_parish</th>\n",
       "      <th>latitude</th>\n",
       "      <th>longitude</th>\n",
       "    </tr>\n",
       "  </thead>\n",
       "  <tbody>\n",
       "    <tr>\n",
       "      <th>0</th>\n",
       "      <td>61</td>\n",
       "      <td>STAN</td>\n",
       "      <td>OR</td>\n",
       "      <td>33.784077</td>\n",
       "      <td>-117.989219</td>\n",
       "    </tr>\n",
       "    <tr>\n",
       "      <th>1</th>\n",
       "      <td>82</td>\n",
       "      <td>BP</td>\n",
       "      <td>OR</td>\n",
       "      <td>33.849421</td>\n",
       "      <td>-117.983828</td>\n",
       "    </tr>\n",
       "    <tr>\n",
       "      <th>2</th>\n",
       "      <td>CS</td>\n",
       "      <td>CDM</td>\n",
       "      <td>OR</td>\n",
       "      <td>33.591342</td>\n",
       "      <td>-117.857918</td>\n",
       "    </tr>\n",
       "    <tr>\n",
       "      <th>3</th>\n",
       "      <td>TUL</td>\n",
       "      <td>TUL</td>\n",
       "      <td>LA</td>\n",
       "      <td>34.144482</td>\n",
       "      <td>-118.364059</td>\n",
       "    </tr>\n",
       "    <tr>\n",
       "      <th>4</th>\n",
       "      <td>M3</td>\n",
       "      <td>LAM</td>\n",
       "      <td>LA</td>\n",
       "      <td>33.907450</td>\n",
       "      <td>-117.992478</td>\n",
       "    </tr>\n",
       "  </tbody>\n",
       "</table>\n",
       "</div>"
      ],
      "text/plain": [
       "  mls_area_major  city county_or_parish   latitude   longitude\n",
       "0             61  STAN               OR  33.784077 -117.989219\n",
       "1             82    BP               OR  33.849421 -117.983828\n",
       "2             CS   CDM               OR  33.591342 -117.857918\n",
       "3            TUL   TUL               LA  34.144482 -118.364059\n",
       "4             M3   LAM               LA  33.907450 -117.992478"
      ]
     },
     "execution_count": 3,
     "metadata": {},
     "output_type": "execute_result"
    }
   ],
   "source": [
    "crmls.head()"
   ]
  },
  {
   "cell_type": "code",
   "execution_count": 4,
   "metadata": {},
   "outputs": [
    {
     "data": {
      "text/html": [
       "<div>\n",
       "<style scoped>\n",
       "    .dataframe tbody tr th:only-of-type {\n",
       "        vertical-align: middle;\n",
       "    }\n",
       "\n",
       "    .dataframe tbody tr th {\n",
       "        vertical-align: top;\n",
       "    }\n",
       "\n",
       "    .dataframe thead th {\n",
       "        text-align: right;\n",
       "    }\n",
       "</style>\n",
       "<table border=\"1\" class=\"dataframe\">\n",
       "  <thead>\n",
       "    <tr style=\"text-align: right;\">\n",
       "      <th></th>\n",
       "      <th>resource</th>\n",
       "      <th>field_long</th>\n",
       "      <th>field_short</th>\n",
       "      <th>searchable</th>\n",
       "      <th>data_type</th>\n",
       "      <th>lookup_long</th>\n",
       "      <th>lookup_short</th>\n",
       "      <th>raw_value</th>\n",
       "    </tr>\n",
       "  </thead>\n",
       "  <tbody>\n",
       "    <tr>\n",
       "      <th>0</th>\n",
       "      <td>Property</td>\n",
       "      <td>City</td>\n",
       "      <td>City</td>\n",
       "      <td>True</td>\n",
       "      <td>Character</td>\n",
       "      <td>Wrightwood</td>\n",
       "      <td>WRIW</td>\n",
       "      <td>WRIW</td>\n",
       "    </tr>\n",
       "    <tr>\n",
       "      <th>1</th>\n",
       "      <td>Property</td>\n",
       "      <td>City</td>\n",
       "      <td>City</td>\n",
       "      <td>True</td>\n",
       "      <td>Character</td>\n",
       "      <td>Acton</td>\n",
       "      <td>AC</td>\n",
       "      <td>AC</td>\n",
       "    </tr>\n",
       "    <tr>\n",
       "      <th>2</th>\n",
       "      <td>Property</td>\n",
       "      <td>City</td>\n",
       "      <td>City</td>\n",
       "      <td>True</td>\n",
       "      <td>Character</td>\n",
       "      <td>Agoura</td>\n",
       "      <td>AGO</td>\n",
       "      <td>AGO</td>\n",
       "    </tr>\n",
       "    <tr>\n",
       "      <th>3</th>\n",
       "      <td>Property</td>\n",
       "      <td>City</td>\n",
       "      <td>City</td>\n",
       "      <td>True</td>\n",
       "      <td>Character</td>\n",
       "      <td>Agoura Hills</td>\n",
       "      <td>AGHI</td>\n",
       "      <td>AGHI</td>\n",
       "    </tr>\n",
       "    <tr>\n",
       "      <th>4</th>\n",
       "      <td>Property</td>\n",
       "      <td>City</td>\n",
       "      <td>City</td>\n",
       "      <td>True</td>\n",
       "      <td>Character</td>\n",
       "      <td>Agua Dulce</td>\n",
       "      <td>ADUL</td>\n",
       "      <td>ADUL</td>\n",
       "    </tr>\n",
       "  </tbody>\n",
       "</table>\n",
       "</div>"
      ],
      "text/plain": [
       "   resource field_long field_short  searchable  data_type   lookup_long  \\\n",
       "0  Property       City        City        True  Character    Wrightwood   \n",
       "1  Property       City        City        True  Character         Acton   \n",
       "2  Property       City        City        True  Character        Agoura   \n",
       "3  Property       City        City        True  Character  Agoura Hills   \n",
       "4  Property       City        City        True  Character    Agua Dulce   \n",
       "\n",
       "  lookup_short raw_value  \n",
       "0         WRIW      WRIW  \n",
       "1           AC        AC  \n",
       "2          AGO       AGO  \n",
       "3         AGHI      AGHI  \n",
       "4         ADUL      ADUL  "
      ]
     },
     "execution_count": 4,
     "metadata": {},
     "output_type": "execute_result"
    }
   ],
   "source": [
    "lookups = pd.read_csv('data/CRMLS_mapping_fields_and_lookups.csv', delimiter='\\t')\n",
    "lookups.head()"
   ]
  },
  {
   "cell_type": "code",
   "execution_count": 5,
   "metadata": {},
   "outputs": [
    {
     "data": {
      "text/plain": [
       "array(['City', 'CountyOrParish', 'MLSAreaMajor'], dtype=object)"
      ]
     },
     "execution_count": 5,
     "metadata": {},
     "output_type": "execute_result"
    }
   ],
   "source": [
    "lookups['field_long'].unique()"
   ]
  },
  {
   "cell_type": "code",
   "execution_count": 6,
   "metadata": {},
   "outputs": [
    {
     "data": {
      "text/html": [
       "<div>\n",
       "<style scoped>\n",
       "    .dataframe tbody tr th:only-of-type {\n",
       "        vertical-align: middle;\n",
       "    }\n",
       "\n",
       "    .dataframe tbody tr th {\n",
       "        vertical-align: top;\n",
       "    }\n",
       "\n",
       "    .dataframe thead th {\n",
       "        text-align: right;\n",
       "    }\n",
       "</style>\n",
       "<table border=\"1\" class=\"dataframe\">\n",
       "  <thead>\n",
       "    <tr style=\"text-align: right;\">\n",
       "      <th></th>\n",
       "      <th>mls_area_major</th>\n",
       "      <th>city</th>\n",
       "      <th>county_or_parish</th>\n",
       "      <th>latitude</th>\n",
       "      <th>longitude</th>\n",
       "    </tr>\n",
       "  </thead>\n",
       "  <tbody>\n",
       "    <tr>\n",
       "      <th>0</th>\n",
       "      <td>61</td>\n",
       "      <td>STAN</td>\n",
       "      <td>OR</td>\n",
       "      <td>33.784077</td>\n",
       "      <td>-117.989219</td>\n",
       "    </tr>\n",
       "    <tr>\n",
       "      <th>18</th>\n",
       "      <td>61</td>\n",
       "      <td>STAN</td>\n",
       "      <td>OR</td>\n",
       "      <td>33.801741</td>\n",
       "      <td>-118.009193</td>\n",
       "    </tr>\n",
       "    <tr>\n",
       "      <th>414</th>\n",
       "      <td>61</td>\n",
       "      <td>STAN</td>\n",
       "      <td>OR</td>\n",
       "      <td>33.791337</td>\n",
       "      <td>-117.997725</td>\n",
       "    </tr>\n",
       "    <tr>\n",
       "      <th>1415</th>\n",
       "      <td>61</td>\n",
       "      <td>STAN</td>\n",
       "      <td>OR</td>\n",
       "      <td>33.778590</td>\n",
       "      <td>-117.995679</td>\n",
       "    </tr>\n",
       "    <tr>\n",
       "      <th>1701</th>\n",
       "      <td>61</td>\n",
       "      <td>STAN</td>\n",
       "      <td>OR</td>\n",
       "      <td>33.808336</td>\n",
       "      <td>-117.994360</td>\n",
       "    </tr>\n",
       "    <tr>\n",
       "      <th>...</th>\n",
       "      <td>...</td>\n",
       "      <td>...</td>\n",
       "      <td>...</td>\n",
       "      <td>...</td>\n",
       "      <td>...</td>\n",
       "    </tr>\n",
       "    <tr>\n",
       "      <th>1597</th>\n",
       "      <td>61</td>\n",
       "      <td>GG</td>\n",
       "      <td>OR</td>\n",
       "      <td>33.776020</td>\n",
       "      <td>-117.943912</td>\n",
       "    </tr>\n",
       "    <tr>\n",
       "      <th>1807</th>\n",
       "      <td>61</td>\n",
       "      <td>GG</td>\n",
       "      <td>OR</td>\n",
       "      <td>33.779013</td>\n",
       "      <td>-117.946726</td>\n",
       "    </tr>\n",
       "    <tr>\n",
       "      <th>2025</th>\n",
       "      <td>61</td>\n",
       "      <td>ANA</td>\n",
       "      <td>OR</td>\n",
       "      <td>33.842293</td>\n",
       "      <td>-117.968842</td>\n",
       "    </tr>\n",
       "    <tr>\n",
       "      <th>2382</th>\n",
       "      <td>61</td>\n",
       "      <td>ANA</td>\n",
       "      <td>OR</td>\n",
       "      <td>33.793134</td>\n",
       "      <td>-117.988333</td>\n",
       "    </tr>\n",
       "    <tr>\n",
       "      <th>3508</th>\n",
       "      <td>61</td>\n",
       "      <td>ANA</td>\n",
       "      <td>OR</td>\n",
       "      <td>33.821697</td>\n",
       "      <td>-117.986229</td>\n",
       "    </tr>\n",
       "  </tbody>\n",
       "</table>\n",
       "<p>13062 rows × 5 columns</p>\n",
       "</div>"
      ],
      "text/plain": [
       "     mls_area_major  city county_or_parish   latitude   longitude\n",
       "0                61  STAN               OR  33.784077 -117.989219\n",
       "18               61  STAN               OR  33.801741 -118.009193\n",
       "414              61  STAN               OR  33.791337 -117.997725\n",
       "1415             61  STAN               OR  33.778590 -117.995679\n",
       "1701             61  STAN               OR  33.808336 -117.994360\n",
       "...             ...   ...              ...        ...         ...\n",
       "1597             61    GG               OR  33.776020 -117.943912\n",
       "1807             61    GG               OR  33.779013 -117.946726\n",
       "2025             61   ANA               OR  33.842293 -117.968842\n",
       "2382             61   ANA               OR  33.793134 -117.988333\n",
       "3508             61   ANA               OR  33.821697 -117.986229\n",
       "\n",
       "[13062 rows x 5 columns]"
      ]
     },
     "execution_count": 6,
     "metadata": {},
     "output_type": "execute_result"
    }
   ],
   "source": [
    "crmls[crmls['mls_area_major'] == '61']"
   ]
  },
  {
   "cell_type": "code",
   "execution_count": 7,
   "metadata": {},
   "outputs": [
    {
     "data": {
      "application/vnd.jupyter.widget-view+json": {
       "model_id": "459a52eb606c4b52a2c3aaf91afcdecd",
       "version_major": 2,
       "version_minor": 0
      },
      "text/plain": [
       "  0%|          | 0/11178605 [00:00<?, ?it/s]"
      ]
     },
     "metadata": {},
     "output_type": "display_data"
    }
   ],
   "source": [
    "crmls['geometry'] = [shapely.Point(long, lat) for lat, long in tqdm(zip(crmls['longitude'], crmls['latitude']), total=len(crmls))]\n",
    "crmls = gpd.GeoDataFrame(crmls, crs='EPSG:4326')"
   ]
  },
  {
   "cell_type": "code",
   "execution_count": 8,
   "metadata": {},
   "outputs": [
    {
     "data": {
      "application/vnd.jupyter.widget-view+json": {
       "model_id": "1aabe0f3e6a048d3a5fa802674360e38",
       "version_major": 2,
       "version_minor": 0
      },
      "text/plain": [
       "  0%|          | 0/1315 [00:00<?, ?it/s]"
      ]
     },
     "metadata": {},
     "output_type": "display_data"
    }
   ],
   "source": [
    "mls_area_major = {'mls_area_major': crmls['mls_area_major'].unique()}\n",
    "centroids = [shapely.MultiPoint(crmls[crmls['mls_area_major'] == area]['geometry'].values).centroid for area in tqdm(mls_area_major['mls_area_major'], total=len(crmls['mls_area_major'].unique()))]\n",
    "\n",
    "mls_area_major['centroid'] = centroids\n",
    "mls_area_major = pd.DataFrame(mls_area_major)"
   ]
  },
  {
   "cell_type": "code",
   "execution_count": 9,
   "metadata": {},
   "outputs": [
    {
     "data": {
      "application/vnd.jupyter.widget-view+json": {
       "model_id": "06f1495d4f35482d895c74198d11f172",
       "version_major": 2,
       "version_minor": 0
      },
      "text/plain": [
       "  0%|          | 0/1524 [00:00<?, ?it/s]"
      ]
     },
     "metadata": {},
     "output_type": "display_data"
    }
   ],
   "source": [
    "city = {'city': crmls['city'].unique()}\n",
    "centroids = [shapely.MultiPoint(crmls[crmls['city'] == area]['geometry'].values).centroid for area in tqdm(city['city'], total=len(crmls['city'].unique()))]\n",
    "\n",
    "city['centroid'] = centroids\n",
    "city = pd.DataFrame(city)"
   ]
  },
  {
   "cell_type": "code",
   "execution_count": 10,
   "metadata": {},
   "outputs": [
    {
     "data": {
      "application/vnd.jupyter.widget-view+json": {
       "model_id": "35d43e0f91484ce8bef553b3564cc462",
       "version_major": 2,
       "version_minor": 0
      },
      "text/plain": [
       "  0%|          | 0/63 [00:00<?, ?it/s]"
      ]
     },
     "metadata": {},
     "output_type": "display_data"
    }
   ],
   "source": [
    "county_or_parish = {'county_or_parish': crmls['county_or_parish'].unique()}\n",
    "centroids = [shapely.MultiPoint(crmls[crmls['county_or_parish'] == area]['geometry'].values).centroid for area in tqdm(county_or_parish['county_or_parish'], total=len(crmls['county_or_parish'].unique()))]\n",
    "\n",
    "county_or_parish['centroid'] = centroids\n",
    "county_or_parish = pd.DataFrame(county_or_parish)"
   ]
  },
  {
   "cell_type": "code",
   "execution_count": 11,
   "metadata": {},
   "outputs": [
    {
     "data": {
      "text/html": [
       "<div>\n",
       "<style scoped>\n",
       "    .dataframe tbody tr th:only-of-type {\n",
       "        vertical-align: middle;\n",
       "    }\n",
       "\n",
       "    .dataframe tbody tr th {\n",
       "        vertical-align: top;\n",
       "    }\n",
       "\n",
       "    .dataframe thead th {\n",
       "        text-align: right;\n",
       "    }\n",
       "</style>\n",
       "<table border=\"1\" class=\"dataframe\">\n",
       "  <thead>\n",
       "    <tr style=\"text-align: right;\">\n",
       "      <th></th>\n",
       "      <th>county_or_parish</th>\n",
       "      <th>centroid</th>\n",
       "    </tr>\n",
       "  </thead>\n",
       "  <tbody>\n",
       "    <tr>\n",
       "      <th>0</th>\n",
       "      <td>OR</td>\n",
       "      <td>POINT (33.731145635215384 -117.69873425734731)</td>\n",
       "    </tr>\n",
       "    <tr>\n",
       "      <th>1</th>\n",
       "      <td>LA</td>\n",
       "      <td>POINT (34.07895466681212 -118.20558358787336)</td>\n",
       "    </tr>\n",
       "    <tr>\n",
       "      <th>2</th>\n",
       "      <td>RI</td>\n",
       "      <td>POINT (33.79116320489932 -116.9300519756651)</td>\n",
       "    </tr>\n",
       "    <tr>\n",
       "      <th>3</th>\n",
       "      <td>SB</td>\n",
       "      <td>POINT (34.276407741010075 -117.25810459182603)</td>\n",
       "    </tr>\n",
       "    <tr>\n",
       "      <th>4</th>\n",
       "      <td>SD</td>\n",
       "      <td>POINT (32.922413048353185 -117.10506099287146)</td>\n",
       "    </tr>\n",
       "  </tbody>\n",
       "</table>\n",
       "</div>"
      ],
      "text/plain": [
       "  county_or_parish                                        centroid\n",
       "0               OR  POINT (33.731145635215384 -117.69873425734731)\n",
       "1               LA   POINT (34.07895466681212 -118.20558358787336)\n",
       "2               RI    POINT (33.79116320489932 -116.9300519756651)\n",
       "3               SB  POINT (34.276407741010075 -117.25810459182603)\n",
       "4               SD  POINT (32.922413048353185 -117.10506099287146)"
      ]
     },
     "execution_count": 11,
     "metadata": {},
     "output_type": "execute_result"
    }
   ],
   "source": [
    "county_or_parish.head()"
   ]
  },
  {
   "cell_type": "code",
   "execution_count": 12,
   "metadata": {},
   "outputs": [],
   "source": [
    "def get_radius(listings: gpd.GeoDataFrame, centroid: shapely.Point, thresh=0.95, radius_incr=0.005) -> float:\n",
    "    if len(listings) == 0:\n",
    "        return 0\n",
    "    radius = 0 + radius_incr\n",
    "    check = gpd.GeoDataFrame({'check': [0], 'geometry': [centroid.buffer(radius)]}, crs='EPSG:4326')\n",
    "    while len(listings.sjoin(check, predicate='intersects'))/len(listings) < thresh:\n",
    "        radius += radius_incr\n",
    "        check = gpd.GeoDataFrame({'check': [0], 'geometry': [centroid.buffer(radius)]}, crs='EPSG:4326')\n",
    "    # print(len(listings.sjoin(check, predicate='intersects'))/len(listings))\n",
    "    return radius\n",
    "        "
   ]
  },
  {
   "cell_type": "code",
   "execution_count": 13,
   "metadata": {},
   "outputs": [
    {
     "data": {
      "text/plain": [
       "0.3450000000000002"
      ]
     },
     "execution_count": 13,
     "metadata": {},
     "output_type": "execute_result"
    }
   ],
   "source": [
    "get_radius(crmls[crmls['county_or_parish'] == 'OR'], county_or_parish['centroid'][0])"
   ]
  },
  {
   "cell_type": "code",
   "execution_count": 14,
   "metadata": {},
   "outputs": [
    {
     "data": {
      "application/vnd.jupyter.widget-view+json": {
       "model_id": "12277c41c6184097a6659ec11df9abb0",
       "version_major": 2,
       "version_minor": 0
      },
      "text/plain": [
       "  0%|          | 0/1315 [00:00<?, ?it/s]"
      ]
     },
     "metadata": {},
     "output_type": "display_data"
    }
   ],
   "source": [
    "radii = [get_radius(crmls[crmls['mls_area_major'] == l], c) for l, c in tqdm(zip(mls_area_major['mls_area_major'],\n",
    "                                                                                  mls_area_major['centroid']),\n",
    "                                                                            total=len(mls_area_major))]\n",
    "mls_area_major['radius'] = radii"
   ]
  },
  {
   "cell_type": "code",
   "execution_count": 15,
   "metadata": {},
   "outputs": [
    {
     "data": {
      "application/vnd.jupyter.widget-view+json": {
       "model_id": "ebd4a8f11732435587d17e9431dd46bc",
       "version_major": 2,
       "version_minor": 0
      },
      "text/plain": [
       "  0%|          | 0/1524 [00:00<?, ?it/s]"
      ]
     },
     "metadata": {},
     "output_type": "display_data"
    }
   ],
   "source": [
    "radii = [get_radius(crmls[crmls['city'] == l], c) for l, c in tqdm(zip(city['city'],\n",
    "                                                                       city['centroid']), \n",
    "                                                                   total=len(city))]\n",
    "city['radius'] = radii"
   ]
  },
  {
   "cell_type": "code",
   "execution_count": 16,
   "metadata": {},
   "outputs": [
    {
     "data": {
      "application/vnd.jupyter.widget-view+json": {
       "model_id": "a171805003074f91aa47147b5e45be64",
       "version_major": 2,
       "version_minor": 0
      },
      "text/plain": [
       "  0%|          | 0/63 [00:00<?, ?it/s]"
      ]
     },
     "metadata": {},
     "output_type": "display_data"
    }
   ],
   "source": [
    "radii = [get_radius(crmls[crmls['county_or_parish'] == l], c, radius_incr=0.01) for l, c in tqdm(zip(county_or_parish['county_or_parish'],\n",
    "                                                                                   city['centroid']),\n",
    "                                                                               total=len(county_or_parish))]\n",
    "county_or_parish['radius'] = radii"
   ]
  },
  {
   "cell_type": "code",
   "execution_count": 17,
   "metadata": {},
   "outputs": [],
   "source": [
    "city = city.merge(lookups[lookups['field_long'] == 'City'][['lookup_long', 'lookup_short']], how='left', \n",
    "           left_on='city', right_on='lookup_short')[['city', 'lookup_long', 'centroid', 'radius']]\n",
    "\n",
    "mls_area_major = mls_area_major.merge(lookups[lookups['field_long'] == 'MLSAreaMajor'][['lookup_long','lookup_short']],\n",
    "                                       how='left',left_on='mls_area_major', \n",
    "                                       right_on='lookup_short')[['mls_area_major', 'lookup_long', 'centroid', 'radius']]\n",
    "\n",
    "county_or_parish = county_or_parish.merge(lookups[lookups['field_long'] == 'CountyOrParish'][['lookup_long','lookup_short']], \n",
    "                                          how='left', left_on='county_or_parish', \n",
    "                                          right_on='lookup_short')[['county_or_parish', 'lookup_long', 'centroid', 'radius']]"
   ]
  },
  {
   "cell_type": "code",
   "execution_count": 18,
   "metadata": {},
   "outputs": [],
   "source": [
    "mls_area_major.to_csv('data/mls_area_major.csv', index=False)\n",
    "city.to_csv('data/city.csv', index=False)\n",
    "county_or_parish.to_csv('data/county_or_parish.csv', index=False)"
   ]
  },
  {
   "cell_type": "code",
   "execution_count": null,
   "metadata": {},
   "outputs": [],
   "source": []
  }
 ],
 "metadata": {
  "kernelspec": {
   "display_name": "pw_3.12",
   "language": "python",
   "name": "python3"
  },
  "language_info": {
   "codemirror_mode": {
    "name": "ipython",
    "version": 3
   },
   "file_extension": ".py",
   "mimetype": "text/x-python",
   "name": "python",
   "nbconvert_exporter": "python",
   "pygments_lexer": "ipython3",
   "version": "3.12.4"
  }
 },
 "nbformat": 4,
 "nbformat_minor": 2
}
