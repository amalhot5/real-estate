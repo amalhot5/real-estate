{
 "cells": [
  {
   "cell_type": "code",
   "execution_count": 1,
   "metadata": {},
   "outputs": [],
   "source": [
    "import pandas as pd\n",
    "\n",
    "from tqdm.notebook import tqdm"
   ]
  },
  {
   "cell_type": "code",
   "execution_count": 2,
   "metadata": {},
   "outputs": [
    {
     "name": "stderr",
     "output_type": "stream",
     "text": [
      "/var/folders/_3/v349phgn4ljd3jkf3ll9p2cm0000gp/T/ipykernel_61558/3690172652.py:1: DtypeWarning: Columns (0) have mixed types. Specify dtype option on import or set low_memory=False.\n",
      "  reso_properties = pd.read_csv('data/reso_reso_properties_icaar.csv')\n"
     ]
    }
   ],
   "source": [
    "reso_properties = pd.read_csv('data/reso_reso_properties_icaar.csv')"
   ]
  },
  {
   "cell_type": "code",
   "execution_count": 3,
   "metadata": {},
   "outputs": [],
   "source": [
    "event_codes = {\n",
    "    'Coming Soon': 50,\n",
    "    'Active': 100,\n",
    "    'Contingent': 200,\n",
    "    'Active Under Contract': 240,\n",
    "    'Pending': 240,\n",
    "    'Expired': 300,\n",
    "    \"Incomplete\": 999,\n",
    "    'Hold': 640,\n",
    "    'Closed': 500,\n",
    "    \"Withdrawn\": 600,\n",
    "    \"Canceled\": 620,\n",
    "    \"Delete\": 600\n",
    "}"
   ]
  },
  {
   "cell_type": "markdown",
   "metadata": {},
   "source": [
    "# Exploring the Data\n",
    "Getting the counts by status for Buckets\n",
    "- check to see which dates are duplicates\n",
    "- break down by available dates"
   ]
  },
  {
   "cell_type": "code",
   "execution_count": 4,
   "metadata": {},
   "outputs": [
    {
     "data": {
      "text/plain": [
       "Index(['listing_id', 'standard_status', 'cancellation_date', 'close_date',\n",
       "       'contingent_date', 'contract_status_change_date', 'expiration_date',\n",
       "       'land_lease_expiration_date', 'listing_contract_date',\n",
       "       'off_market_date', 'on_market_date', 'purchase_contract_date',\n",
       "       'withdrawn_date', 'updated_at', 'furnished_availability_date',\n",
       "       'vendor_ignore_update_y_n', 'tenant_lease_expires_date',\n",
       "       'estimated_close_date', 'close_price', 'furnished_list_price',\n",
       "       'list_price', 'list_price_low', 'original_list_price',\n",
       "       'previous_list_price', 'price_change_timestamp'],\n",
       "      dtype='object')"
      ]
     },
     "execution_count": 4,
     "metadata": {},
     "output_type": "execute_result"
    }
   ],
   "source": [
    "reso_properties.columns"
   ]
  },
  {
   "cell_type": "code",
   "execution_count": 5,
   "metadata": {},
   "outputs": [
    {
     "data": {
      "text/plain": [
       "83961"
      ]
     },
     "execution_count": 5,
     "metadata": {},
     "output_type": "execute_result"
    }
   ],
   "source": [
    "len(reso_properties)"
   ]
  },
  {
   "cell_type": "code",
   "execution_count": 6,
   "metadata": {},
   "outputs": [
    {
     "data": {
      "text/plain": [
       "listing_id                83961\n",
       "standard_status           83961\n",
       "close_date                47976\n",
       "expiration_date           83961\n",
       "listing_contract_date     83961\n",
       "off_market_date           81803\n",
       "purchase_contract_date    48065\n",
       "updated_at                83961\n",
       "close_price               52238\n",
       "list_price                78838\n",
       "original_list_price       78050\n",
       "price_change_timestamp    83961\n",
       "dtype: int64"
      ]
     },
     "execution_count": 6,
     "metadata": {},
     "output_type": "execute_result"
    }
   ],
   "source": [
    "r_count = reso_properties.count()\n",
    "r_count = r_count[r_count > 0]\n",
    "r_count"
   ]
  },
  {
   "cell_type": "code",
   "execution_count": 8,
   "metadata": {},
   "outputs": [
    {
     "data": {
      "text/html": [
       "<div>\n",
       "<style scoped>\n",
       "    .dataframe tbody tr th:only-of-type {\n",
       "        vertical-align: middle;\n",
       "    }\n",
       "\n",
       "    .dataframe tbody tr th {\n",
       "        vertical-align: top;\n",
       "    }\n",
       "\n",
       "    .dataframe thead th {\n",
       "        text-align: right;\n",
       "    }\n",
       "</style>\n",
       "<table border=\"1\" class=\"dataframe\">\n",
       "  <thead>\n",
       "    <tr style=\"text-align: right;\">\n",
       "      <th></th>\n",
       "      <th>listing_id</th>\n",
       "      <th>standard_status</th>\n",
       "      <th>close_date</th>\n",
       "      <th>expiration_date</th>\n",
       "      <th>listing_contract_date</th>\n",
       "      <th>off_market_date</th>\n",
       "      <th>purchase_contract_date</th>\n",
       "      <th>updated_at</th>\n",
       "      <th>close_price</th>\n",
       "      <th>list_price</th>\n",
       "      <th>original_list_price</th>\n",
       "      <th>price_change_timestamp</th>\n",
       "    </tr>\n",
       "  </thead>\n",
       "  <tbody>\n",
       "    <tr>\n",
       "      <th>0</th>\n",
       "      <td>20112554</td>\n",
       "      <td>Expired</td>\n",
       "      <td>NaN</td>\n",
       "      <td>2011-10-13</td>\n",
       "      <td>2011-04-14</td>\n",
       "      <td>2011-10-14</td>\n",
       "      <td>NaN</td>\n",
       "      <td>2024-01-23 03:02:56.219234</td>\n",
       "      <td>NaN</td>\n",
       "      <td>524000.0</td>\n",
       "      <td>524000.0</td>\n",
       "      <td>2011-04-15 04:00:00</td>\n",
       "    </tr>\n",
       "    <tr>\n",
       "      <th>1</th>\n",
       "      <td>20106967</td>\n",
       "      <td>Expired</td>\n",
       "      <td>NaN</td>\n",
       "      <td>2011-09-30</td>\n",
       "      <td>2010-12-28</td>\n",
       "      <td>2011-10-01</td>\n",
       "      <td>NaN</td>\n",
       "      <td>2024-01-23 03:02:45.48096</td>\n",
       "      <td>NaN</td>\n",
       "      <td>587400.0</td>\n",
       "      <td>775000.0</td>\n",
       "      <td>2011-05-31 04:00:00</td>\n",
       "    </tr>\n",
       "    <tr>\n",
       "      <th>2</th>\n",
       "      <td>20105947</td>\n",
       "      <td>Expired</td>\n",
       "      <td>NaN</td>\n",
       "      <td>2011-10-08</td>\n",
       "      <td>2010-10-08</td>\n",
       "      <td>2011-10-09</td>\n",
       "      <td>NaN</td>\n",
       "      <td>2024-01-23 03:02:45.483022</td>\n",
       "      <td>NaN</td>\n",
       "      <td>55900.0</td>\n",
       "      <td>55900.0</td>\n",
       "      <td>2010-10-08 04:00:00</td>\n",
       "    </tr>\n",
       "    <tr>\n",
       "      <th>3</th>\n",
       "      <td>20105946</td>\n",
       "      <td>Expired</td>\n",
       "      <td>NaN</td>\n",
       "      <td>2011-10-08</td>\n",
       "      <td>2010-10-08</td>\n",
       "      <td>2011-10-09</td>\n",
       "      <td>NaN</td>\n",
       "      <td>2024-01-23 03:02:45.266369</td>\n",
       "      <td>NaN</td>\n",
       "      <td>54900.0</td>\n",
       "      <td>54900.0</td>\n",
       "      <td>2010-10-08 04:00:00</td>\n",
       "    </tr>\n",
       "    <tr>\n",
       "      <th>4</th>\n",
       "      <td>20084442</td>\n",
       "      <td>Expired</td>\n",
       "      <td>NaN</td>\n",
       "      <td>2011-12-31</td>\n",
       "      <td>2008-07-18</td>\n",
       "      <td>2012-01-01</td>\n",
       "      <td>NaN</td>\n",
       "      <td>2024-01-22 23:33:40.184876</td>\n",
       "      <td>NaN</td>\n",
       "      <td>55000.0</td>\n",
       "      <td>55000.0</td>\n",
       "      <td>2008-07-22 04:00:00</td>\n",
       "    </tr>\n",
       "  </tbody>\n",
       "</table>\n",
       "</div>"
      ],
      "text/plain": [
       "  listing_id standard_status close_date expiration_date listing_contract_date  \\\n",
       "0   20112554         Expired        NaN      2011-10-13            2011-04-14   \n",
       "1   20106967         Expired        NaN      2011-09-30            2010-12-28   \n",
       "2   20105947         Expired        NaN      2011-10-08            2010-10-08   \n",
       "3   20105946         Expired        NaN      2011-10-08            2010-10-08   \n",
       "4   20084442         Expired        NaN      2011-12-31            2008-07-18   \n",
       "\n",
       "  off_market_date purchase_contract_date                  updated_at  \\\n",
       "0      2011-10-14                    NaN  2024-01-23 03:02:56.219234   \n",
       "1      2011-10-01                    NaN   2024-01-23 03:02:45.48096   \n",
       "2      2011-10-09                    NaN  2024-01-23 03:02:45.483022   \n",
       "3      2011-10-09                    NaN  2024-01-23 03:02:45.266369   \n",
       "4      2012-01-01                    NaN  2024-01-22 23:33:40.184876   \n",
       "\n",
       "   close_price  list_price  original_list_price price_change_timestamp  \n",
       "0          NaN    524000.0             524000.0    2011-04-15 04:00:00  \n",
       "1          NaN    587400.0             775000.0    2011-05-31 04:00:00  \n",
       "2          NaN     55900.0              55900.0    2010-10-08 04:00:00  \n",
       "3          NaN     54900.0              54900.0    2010-10-08 04:00:00  \n",
       "4          NaN     55000.0              55000.0    2008-07-22 04:00:00  "
      ]
     },
     "execution_count": 8,
     "metadata": {},
     "output_type": "execute_result"
    }
   ],
   "source": [
    "reso_properties = reso_properties[r_count.index]\n",
    "reso_properties.head()"
   ]
  },
  {
   "cell_type": "code",
   "execution_count": 14,
   "metadata": {},
   "outputs": [],
   "source": [
    "reso_properties.groupby('standard_status').count().to_csv('buckets_with_price_date_distribution.csv')"
   ]
  },
  {
   "cell_type": "code",
   "execution_count": 59,
   "metadata": {},
   "outputs": [],
   "source": [
    "def coalesce(*values):\n",
    "    \"\"\"Return the first non-None value or None if all values are None\"\"\"\n",
    "    return next((v for v in values if pd.notna(v)), None)\n",
    "\n",
    "def create_histories_buckets(status, listing_contract_date, list_price, original_list_price, purchase_contract_date, close_date, close_price, expiration_date, off_market_date):\n",
    "    match status:\n",
    "        case 'Active':\n",
    "            events = [(100, listing_contract_date, coalesce(original_list_price, list_price, close_price))]\n",
    "        case 'Closed':\n",
    "            events = [(100, listing_contract_date, coalesce(original_list_price, list_price, close_price)),\n",
    "                      (240, purchase_contract_date, list_price),\n",
    "                      (500, close_date, coalesce(close_price, list_price))]\n",
    "        case 'Expired':\n",
    "            events = [(100, listing_contract_date, coalesce(original_list_price, list_price, close_price)),\n",
    "                      (300, expiration_date, coalesce(list_price, close_price))]\n",
    "        case 'Pending':\n",
    "            events = [(100, listing_contract_date, coalesce(original_list_price, list_price, close_price)),\n",
    "                      (240, purchase_contract_date, coalesce(list_price, close_price))]\n",
    "        case 'Withdrawn':\n",
    "            events = [(100, listing_contract_date, coalesce(original_list_price, list_price, close_price)),\n",
    "                      (600, off_market_date, coalesce(list_price, close_price))]\n",
    "            \n",
    "    try:\n",
    "        return events\n",
    "    except UnboundLocalError:\n",
    "        print(status)"
   ]
  },
  {
   "cell_type": "code",
   "execution_count": 60,
   "metadata": {},
   "outputs": [],
   "source": [
    "reso_properties['events'] = [create_histories_buckets(a, b, c, d, e, f, g, i, j) for a, b, c, d, e, f, g, i, j in zip(reso_properties['standard_status'], reso_properties['listing_contract_date'], reso_properties['list_price'], reso_properties['original_list_price'], reso_properties['purchase_contract_date'], reso_properties['close_date'], reso_properties['close_price'], reso_properties['expiration_date'], reso_properties['off_market_date'])]"
   ]
  },
  {
   "cell_type": "code",
   "execution_count": 61,
   "metadata": {},
   "outputs": [],
   "source": [
    "def is_valid(status, events):\n",
    "    try:\n",
    "        for e in events:\n",
    "            if None in e:\n",
    "                return False\n",
    "        if events[-1][0] != event_codes[status]:\n",
    "            return False\n",
    "        return True\n",
    "    except:\n",
    "        print(status, events, type(events))"
   ]
  },
  {
   "cell_type": "code",
   "execution_count": 62,
   "metadata": {},
   "outputs": [],
   "source": [
    "reso_properties['is_valid'] = [is_valid(x, y) for x, y in zip(reso_properties['standard_status'], reso_properties['events'])]"
   ]
  },
  {
   "cell_type": "code",
   "execution_count": 63,
   "metadata": {},
   "outputs": [],
   "source": [
    "reso_properties.to_csv('data/reso_properties_event_codes.csv', index=False)"
   ]
  },
  {
   "cell_type": "code",
   "execution_count": 64,
   "metadata": {},
   "outputs": [
    {
     "data": {
      "text/plain": [
       "585"
      ]
     },
     "execution_count": 64,
     "metadata": {},
     "output_type": "execute_result"
    }
   ],
   "source": [
    "len(reso_properties[~reso_properties['is_valid']])"
   ]
  },
  {
   "cell_type": "code",
   "execution_count": 65,
   "metadata": {},
   "outputs": [
    {
     "data": {
      "text/plain": [
       "83961"
      ]
     },
     "execution_count": 65,
     "metadata": {},
     "output_type": "execute_result"
    }
   ],
   "source": [
    "len(reso_properties)"
   ]
  },
  {
   "cell_type": "code",
   "execution_count": null,
   "metadata": {},
   "outputs": [],
   "source": []
  }
 ],
 "metadata": {
  "kernelspec": {
   "display_name": "pw",
   "language": "python",
   "name": "python3"
  },
  "language_info": {
   "codemirror_mode": {
    "name": "ipython",
    "version": 3
   },
   "file_extension": ".py",
   "mimetype": "text/x-python",
   "name": "python",
   "nbconvert_exporter": "python",
   "pygments_lexer": "ipython3",
   "version": "3.10.12"
  }
 },
 "nbformat": 4,
 "nbformat_minor": 2
}
