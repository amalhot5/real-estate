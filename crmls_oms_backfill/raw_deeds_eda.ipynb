{
 "cells": [
  {
   "cell_type": "code",
   "execution_count": 1,
   "metadata": {},
   "outputs": [],
   "source": [
    "import pandas as pd\n",
    "import seaborn as sns\n",
    "import matplotlib.pyplot as plt\n",
    "import math"
   ]
  },
  {
   "cell_type": "code",
   "execution_count": 2,
   "metadata": {},
   "outputs": [
    {
     "name": "stderr",
     "output_type": "stream",
     "text": [
      "/var/folders/6l/yzmcq93j41zf3wrth_tyl6g80000gn/T/ipykernel_13745/2321764194.py:1: DtypeWarning: Columns (0) have mixed types. Specify dtype option on import or set low_memory=False.\n",
      "  deeds_df = pd.concat([pd.read_csv('data/crmls_oms_validation0.csv'), pd.read_csv('data/crmls_oms_validation1.csv')])\n",
      "/var/folders/6l/yzmcq93j41zf3wrth_tyl6g80000gn/T/ipykernel_13745/2321764194.py:1: DtypeWarning: Columns (0) have mixed types. Specify dtype option on import or set low_memory=False.\n",
      "  deeds_df = pd.concat([pd.read_csv('data/crmls_oms_validation0.csv'), pd.read_csv('data/crmls_oms_validation1.csv')])\n"
     ]
    },
    {
     "data": {
      "text/html": [
       "<div>\n",
       "<style scoped>\n",
       "    .dataframe tbody tr th:only-of-type {\n",
       "        vertical-align: middle;\n",
       "    }\n",
       "\n",
       "    .dataframe tbody tr th {\n",
       "        vertical-align: top;\n",
       "    }\n",
       "\n",
       "    .dataframe thead th {\n",
       "        text-align: right;\n",
       "    }\n",
       "</style>\n",
       "<table border=\"1\" class=\"dataframe\">\n",
       "  <thead>\n",
       "    <tr style=\"text-align: right;\">\n",
       "      <th></th>\n",
       "      <th>dpid</th>\n",
       "      <th>recordingdate</th>\n",
       "      <th>salesprice</th>\n",
       "      <th>standardizedlanduse</th>\n",
       "    </tr>\n",
       "  </thead>\n",
       "  <tbody>\n",
       "    <tr>\n",
       "      <th>0</th>\n",
       "      <td>60010012587</td>\n",
       "      <td>20160601</td>\n",
       "      <td>205000.0</td>\n",
       "      <td>2012.0</td>\n",
       "    </tr>\n",
       "    <tr>\n",
       "      <th>1</th>\n",
       "      <td>60010012587</td>\n",
       "      <td>20151104</td>\n",
       "      <td>90000.0</td>\n",
       "      <td>2012.0</td>\n",
       "    </tr>\n",
       "    <tr>\n",
       "      <th>2</th>\n",
       "      <td>60010012588</td>\n",
       "      <td>20160601</td>\n",
       "      <td>205000.0</td>\n",
       "      <td>2012.0</td>\n",
       "    </tr>\n",
       "    <tr>\n",
       "      <th>3</th>\n",
       "      <td>60010012588</td>\n",
       "      <td>20151104</td>\n",
       "      <td>90000.0</td>\n",
       "      <td>2012.0</td>\n",
       "    </tr>\n",
       "    <tr>\n",
       "      <th>4</th>\n",
       "      <td>60010012590</td>\n",
       "      <td>20090814</td>\n",
       "      <td>410000.0</td>\n",
       "      <td>3010.0</td>\n",
       "    </tr>\n",
       "  </tbody>\n",
       "</table>\n",
       "</div>"
      ],
      "text/plain": [
       "          dpid  recordingdate  salesprice  standardizedlanduse\n",
       "0  60010012587       20160601    205000.0               2012.0\n",
       "1  60010012587       20151104     90000.0               2012.0\n",
       "2  60010012588       20160601    205000.0               2012.0\n",
       "3  60010012588       20151104     90000.0               2012.0\n",
       "4  60010012590       20090814    410000.0               3010.0"
      ]
     },
     "execution_count": 2,
     "metadata": {},
     "output_type": "execute_result"
    }
   ],
   "source": [
    "deeds_df = pd.concat([pd.read_csv('data/crmls_oms_validation0.csv'), pd.read_csv('data/crmls_oms_validation1.csv')])\n",
    "deeds_df.head()"
   ]
  },
  {
   "cell_type": "code",
   "execution_count": 3,
   "metadata": {},
   "outputs": [
    {
     "data": {
      "text/plain": [
       "14544114"
      ]
     },
     "execution_count": 3,
     "metadata": {},
     "output_type": "execute_result"
    }
   ],
   "source": [
    "len(deeds_df)"
   ]
  },
  {
   "cell_type": "code",
   "execution_count": 4,
   "metadata": {},
   "outputs": [
    {
     "data": {
      "text/plain": [
       "14458238"
      ]
     },
     "execution_count": 4,
     "metadata": {},
     "output_type": "execute_result"
    }
   ],
   "source": [
    "len(deeds_df.drop_duplicates())"
   ]
  },
  {
   "cell_type": "code",
   "execution_count": 5,
   "metadata": {},
   "outputs": [
    {
     "data": {
      "text/plain": [
       "recording_year\n",
       "2002    686495\n",
       "2003    853375\n",
       "2004    923591\n",
       "2005    902149\n",
       "2006    683467\n",
       "2007    548841\n",
       "2008    711977\n",
       "2009    728889\n",
       "2010    685600\n",
       "2011    659058\n",
       "2012    651349\n",
       "2013    618150\n",
       "2014    556322\n",
       "2015    601560\n",
       "2016    604660\n",
       "2017    609107\n",
       "2018    580028\n",
       "2019    571633\n",
       "2020    573306\n",
       "2021    704612\n",
       "2022    539227\n",
       "2023    410729\n",
       "2024    139989\n",
       "Name: dpid, dtype: int64"
      ]
     },
     "execution_count": 5,
     "metadata": {},
     "output_type": "execute_result"
    }
   ],
   "source": [
    "deeds_df['recording_year'] = [str(x)[:4] for x in deeds_df['recordingdate']]\n",
    "deeds_df.groupby('recording_year')['dpid'].count()"
   ]
  },
  {
   "cell_type": "code",
   "execution_count": 6,
   "metadata": {},
   "outputs": [
    {
     "name": "stderr",
     "output_type": "stream",
     "text": [
      "/var/folders/6l/yzmcq93j41zf3wrth_tyl6g80000gn/T/ipykernel_13745/2635978463.py:3: UserWarning: FixedFormatter should only be used together with FixedLocator\n",
      "  ax.set_xticklabels(ax.get_xticklabels(), rotation=40, ha=\"right\")\n"
     ]
    },
    {
     "data": {
      "image/png": "[encoded data removed]",
      "text/plain": [
       "<Figure size 800x400 with 1 Axes>"
      ]
     },
     "metadata": {},
     "output_type": "display_data"
    }
   ],
   "source": [
    "plt.figure(figsize=(8,4))\n",
    "ax = sns.barplot(deeds_df.groupby('recording_year')['dpid'].count())\n",
    "ax.set_xticklabels(ax.get_xticklabels(), rotation=40, ha=\"right\")\n",
    "plt.tight_layout()\n",
    "plt.show()\n"
   ]
  },
  {
   "cell_type": "code",
   "execution_count": 7,
   "metadata": {},
   "outputs": [
    {
     "data": {
      "text/plain": [
       "sale_price_order_mag\n",
       "1           1\n",
       "2       69434\n",
       "3      223896\n",
       "4     1240609\n",
       "5    11391635\n",
       "6     1529032\n",
       "7       85596\n",
       "8        3846\n",
       "9          65\n",
       "Name: dpid, dtype: int64"
      ]
     },
     "execution_count": 7,
     "metadata": {},
     "output_type": "execute_result"
    }
   ],
   "source": [
    "deeds_df['sale_price_order_mag'] = [math.floor(math.log(x, 10)) for x in deeds_df['salesprice']]\n",
    "deeds_df.groupby('sale_price_order_mag')['dpid'].count()"
   ]
  },
  {
   "cell_type": "code",
   "execution_count": 17,
   "metadata": {},
   "outputs": [
    {
     "data": {
      "image/png": "[encoded data removed]",
      "text/plain": [
       "<Figure size 640x480 with 1 Axes>"
      ]
     },
     "metadata": {},
     "output_type": "display_data"
    }
   ],
   "source": [
    "#plt.figure(figsize=(8,4))\n",
    "ax = sns.barplot(deeds_df.groupby('sale_price_order_mag')['dpid'].count())\n",
    "#ax.set_xticklabels(ax.get_xticklabels(), rotation=40, ha=\"right\")\n",
    "plt.tight_layout()\n",
    "plt.show()"
   ]
  },
  {
   "cell_type": "code",
   "execution_count": 31,
   "metadata": {},
   "outputs": [
    {
     "data": {
      "text/html": [
       "<div>\n",
       "<style scoped>\n",
       "    .dataframe tbody tr th:only-of-type {\n",
       "        vertical-align: middle;\n",
       "    }\n",
       "\n",
       "    .dataframe tbody tr th {\n",
       "        vertical-align: top;\n",
       "    }\n",
       "\n",
       "    .dataframe thead th {\n",
       "        text-align: right;\n",
       "    }\n",
       "</style>\n",
       "<table border=\"1\" class=\"dataframe\">\n",
       "  <thead>\n",
       "    <tr style=\"text-align: right;\">\n",
       "      <th></th>\n",
       "      <th>dpid</th>\n",
       "      <th>recordingdate</th>\n",
       "      <th>salesprice</th>\n",
       "      <th>standardizedlanduse</th>\n",
       "      <th>recording_year</th>\n",
       "      <th>sale_price_order_mag</th>\n",
       "    </tr>\n",
       "  </thead>\n",
       "  <tbody>\n",
       "    <tr>\n",
       "      <th>144</th>\n",
       "      <td>60010012671</td>\n",
       "      <td>20150601</td>\n",
       "      <td>2500.0</td>\n",
       "      <td>1004.0</td>\n",
       "      <td>2015</td>\n",
       "      <td>3</td>\n",
       "    </tr>\n",
       "    <tr>\n",
       "      <th>190</th>\n",
       "      <td>60010012728</td>\n",
       "      <td>20190321</td>\n",
       "      <td>5000.0</td>\n",
       "      <td>2044.0</td>\n",
       "      <td>2019</td>\n",
       "      <td>3</td>\n",
       "    </tr>\n",
       "    <tr>\n",
       "      <th>382</th>\n",
       "      <td>60010012907</td>\n",
       "      <td>20100422</td>\n",
       "      <td>3500.0</td>\n",
       "      <td>5002.0</td>\n",
       "      <td>2010</td>\n",
       "      <td>3</td>\n",
       "    </tr>\n",
       "    <tr>\n",
       "      <th>1239</th>\n",
       "      <td>60010013608</td>\n",
       "      <td>20170228</td>\n",
       "      <td>2000.0</td>\n",
       "      <td>1103.0</td>\n",
       "      <td>2017</td>\n",
       "      <td>3</td>\n",
       "    </tr>\n",
       "    <tr>\n",
       "      <th>1425</th>\n",
       "      <td>60010013957</td>\n",
       "      <td>20080626</td>\n",
       "      <td>1500.0</td>\n",
       "      <td>1004.0</td>\n",
       "      <td>2008</td>\n",
       "      <td>3</td>\n",
       "    </tr>\n",
       "    <tr>\n",
       "      <th>...</th>\n",
       "      <td>...</td>\n",
       "      <td>...</td>\n",
       "      <td>...</td>\n",
       "      <td>...</td>\n",
       "      <td>...</td>\n",
       "      <td>...</td>\n",
       "    </tr>\n",
       "    <tr>\n",
       "      <th>7542532</th>\n",
       "      <td>61150037207</td>\n",
       "      <td>20231120</td>\n",
       "      <td>7500.0</td>\n",
       "      <td>7005.0</td>\n",
       "      <td>2023</td>\n",
       "      <td>3</td>\n",
       "    </tr>\n",
       "    <tr>\n",
       "      <th>7543488</th>\n",
       "      <td>61150038724</td>\n",
       "      <td>20231101</td>\n",
       "      <td>8000.0</td>\n",
       "      <td>8001.0</td>\n",
       "      <td>2023</td>\n",
       "      <td>3</td>\n",
       "    </tr>\n",
       "    <tr>\n",
       "      <th>7543574</th>\n",
       "      <td>61150038727</td>\n",
       "      <td>20231101</td>\n",
       "      <td>8000.0</td>\n",
       "      <td>8001.0</td>\n",
       "      <td>2023</td>\n",
       "      <td>3</td>\n",
       "    </tr>\n",
       "    <tr>\n",
       "      <th>7543686</th>\n",
       "      <td>61150038728</td>\n",
       "      <td>20231101</td>\n",
       "      <td>8000.0</td>\n",
       "      <td>13.0</td>\n",
       "      <td>2023</td>\n",
       "      <td>3</td>\n",
       "    </tr>\n",
       "    <tr>\n",
       "      <th>7543943</th>\n",
       "      <td>61150038731</td>\n",
       "      <td>20231101</td>\n",
       "      <td>8000.0</td>\n",
       "      <td>8001.0</td>\n",
       "      <td>2023</td>\n",
       "      <td>3</td>\n",
       "    </tr>\n",
       "  </tbody>\n",
       "</table>\n",
       "<p>223896 rows × 6 columns</p>\n",
       "</div>"
      ],
      "text/plain": [
       "                dpid  recordingdate  salesprice  standardizedlanduse  \\\n",
       "144      60010012671       20150601      2500.0               1004.0   \n",
       "190      60010012728       20190321      5000.0               2044.0   \n",
       "382      60010012907       20100422      3500.0               5002.0   \n",
       "1239     60010013608       20170228      2000.0               1103.0   \n",
       "1425     60010013957       20080626      1500.0               1004.0   \n",
       "...              ...            ...         ...                  ...   \n",
       "7542532  61150037207       20231120      7500.0               7005.0   \n",
       "7543488  61150038724       20231101      8000.0               8001.0   \n",
       "7543574  61150038727       20231101      8000.0               8001.0   \n",
       "7543686  61150038728       20231101      8000.0                 13.0   \n",
       "7543943  61150038731       20231101      8000.0               8001.0   \n",
       "\n",
       "        recording_year  sale_price_order_mag  \n",
       "144               2015                     3  \n",
       "190               2019                     3  \n",
       "382               2010                     3  \n",
       "1239              2017                     3  \n",
       "1425              2008                     3  \n",
       "...                ...                   ...  \n",
       "7542532           2023                     3  \n",
       "7543488           2023                     3  \n",
       "7543574           2023                     3  \n",
       "7543686           2023                     3  \n",
       "7543943           2023                     3  \n",
       "\n",
       "[223896 rows x 6 columns]"
      ]
     },
     "execution_count": 31,
     "metadata": {},
     "output_type": "execute_result"
    }
   ],
   "source": [
    "deeds_df[deeds_df['sale_price_order_mag'].isin([3])]"
   ]
  },
  {
   "cell_type": "code",
   "execution_count": 23,
   "metadata": {},
   "outputs": [
    {
     "data": {
      "text/plain": [
       "53862.218518518515"
      ]
     },
     "execution_count": 23,
     "metadata": {},
     "output_type": "execute_result"
    }
   ],
   "source": [
    "deeds_df.groupby('standardizedlanduse')['dpid'].count().sort_values(ascending=False).values.mean()"
   ]
  },
  {
   "cell_type": "code",
   "execution_count": 29,
   "metadata": {},
   "outputs": [
    {
     "data": {
      "text/plain": [
       "standardizedlanduse\n",
       "1100.0    32692\n",
       "1015.0    31865\n",
       "7005.0    28838\n",
       "3003.0    28378\n",
       "8003.0    28180\n",
       "          ...  \n",
       "4013.0        3\n",
       "9304.0        3\n",
       "4031.0        2\n",
       "3009.0        2\n",
       "9218.0        1\n",
       "Name: dpid, Length: 253, dtype: int64"
      ]
     },
     "execution_count": 29,
     "metadata": {},
     "output_type": "execute_result"
    }
   ],
   "source": [
    "deeds_df.groupby('standardizedlanduse')['dpid'].count()[deeds_df.groupby('standardizedlanduse')['dpid'].count()<=53862].sort_values(ascending=False)"
   ]
  },
  {
   "cell_type": "code",
   "execution_count": 28,
   "metadata": {},
   "outputs": [
    {
     "data": {
      "text/plain": [
       "271"
      ]
     },
     "execution_count": 28,
     "metadata": {},
     "output_type": "execute_result"
    }
   ],
   "source": [
    "len(deeds_df['standardizedlanduse'].unique())"
   ]
  },
  {
   "cell_type": "code",
   "execution_count": 52,
   "metadata": {},
   "outputs": [
    {
     "data": {
      "text/plain": [
       "57"
      ]
     },
     "execution_count": 52,
     "metadata": {},
     "output_type": "execute_result"
    }
   ],
   "source": [
    "len(deeds_df.groupby('standardizedlanduse')['dpid'].count()[(deeds_df.groupby('standardizedlanduse')['dpid'].count()<=10000) & (deeds_df.groupby('standardizedlanduse')['dpid'].count()>1000)].sort_values(ascending=False))"
   ]
  },
  {
   "cell_type": "code",
   "execution_count": 34,
   "metadata": {},
   "outputs": [],
   "source": [
    "deeds_df.groupby('standardizedlanduse')['dpid'].count().sort_values(ascending=False).to_clipboard()"
   ]
  },
  {
   "cell_type": "code",
   "execution_count": 32,
   "metadata": {},
   "outputs": [
    {
     "data": {
      "text/plain": [
       "0.0047740962426449625"
      ]
     },
     "execution_count": 32,
     "metadata": {},
     "output_type": "execute_result"
    }
   ],
   "source": [
    "69435 / len(deeds_df)"
   ]
  },
  {
   "cell_type": "code",
   "execution_count": 54,
   "metadata": {},
   "outputs": [
    {
     "name": "stderr",
     "output_type": "stream",
     "text": [
      "/var/folders/6l/yzmcq93j41zf3wrth_tyl6g80000gn/T/ipykernel_13745/3194514228.py:3: UserWarning: FixedFormatter should only be used together with FixedLocator\n",
      "  ax.set_xticklabels(ax.get_xticklabels(), rotation=40, ha=\"right\")\n"
     ]
    },
    {
     "data": {
      "image/png": "[encoded data removed]",
      "text/plain": [
       "<Figure size 800x400 with 1 Axes>"
      ]
     },
     "metadata": {},
     "output_type": "display_data"
    }
   ],
   "source": [
    "plt.figure(figsize=(8,4))\n",
    "ax = sns.barplot(deeds_df.groupby('standardizedlanduse')['dpid'].count())\n",
    "ax.set_xticklabels(ax.get_xticklabels(), rotation=40, ha=\"right\")\n",
    "plt.tight_layout()\n",
    "plt.show()"
   ]
  },
  {
   "cell_type": "code",
   "execution_count": 67,
   "metadata": {},
   "outputs": [],
   "source": [
    "deeds_df[deeds_df['standardizedlanduse'].isin([1001,1004,8001,1101])].groupby('recording_year')['salesprice'].max().to_clipboard()"
   ]
  },
  {
   "cell_type": "code",
   "execution_count": 68,
   "metadata": {},
   "outputs": [],
   "source": [
    "deeds_df[(deeds_df['salesprice'].astype(int)>1000) & (deeds_df['standardizedlanduse'].isin([1001,1004,8001,1101]))].groupby('recording_year')['salesprice'].min().to_clipboard()"
   ]
  },
  {
   "cell_type": "code",
   "execution_count": 65,
   "metadata": {},
   "outputs": [
    {
     "data": {
      "text/html": [
       "<div>\n",
       "<style scoped>\n",
       "    .dataframe tbody tr th:only-of-type {\n",
       "        vertical-align: middle;\n",
       "    }\n",
       "\n",
       "    .dataframe tbody tr th {\n",
       "        vertical-align: top;\n",
       "    }\n",
       "\n",
       "    .dataframe thead th {\n",
       "        text-align: right;\n",
       "    }\n",
       "</style>\n",
       "<table border=\"1\" class=\"dataframe\">\n",
       "  <thead>\n",
       "    <tr style=\"text-align: right;\">\n",
       "      <th></th>\n",
       "      <th>dpid</th>\n",
       "      <th>recordingdate</th>\n",
       "      <th>salesprice</th>\n",
       "      <th>standardizedlanduse</th>\n",
       "      <th>recording_year</th>\n",
       "      <th>sale_price_order_mag</th>\n",
       "    </tr>\n",
       "  </thead>\n",
       "  <tbody>\n",
       "    <tr>\n",
       "      <th>4446885</th>\n",
       "      <td>60750022541</td>\n",
       "      <td>20170707</td>\n",
       "      <td>2.017297e+09</td>\n",
       "      <td>2001.0</td>\n",
       "      <td>2017</td>\n",
       "      <td>9</td>\n",
       "    </tr>\n",
       "  </tbody>\n",
       "</table>\n",
       "</div>"
      ],
      "text/plain": [
       "                dpid  recordingdate    salesprice  standardizedlanduse  \\\n",
       "4446885  60750022541       20170707  2.017297e+09               2001.0   \n",
       "\n",
       "        recording_year  sale_price_order_mag  \n",
       "4446885           2017                     9  "
      ]
     },
     "execution_count": 65,
     "metadata": {},
     "output_type": "execute_result"
    }
   ],
   "source": [
    "deeds_df[deeds_df['salesprice'] == 2017296875]"
   ]
  },
  {
   "cell_type": "code",
   "execution_count": null,
   "metadata": {},
   "outputs": [],
   "source": []
  }
 ],
 "metadata": {
  "kernelspec": {
   "display_name": "pw",
   "language": "python",
   "name": "python3"
  },
  "language_info": {
   "codemirror_mode": {
    "name": "ipython",
    "version": 3
   },
   "file_extension": ".py",
   "mimetype": "text/x-python",
   "name": "python",
   "nbconvert_exporter": "python",
   "pygments_lexer": "ipython3",
   "version": "3.1.undefined"
  }
 },
 "nbformat": 4,
 "nbformat_minor": 2
}
