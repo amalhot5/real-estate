{
 "cells": [
  {
   "cell_type": "code",
   "execution_count": 35,
   "metadata": {},
   "outputs": [],
   "source": [
    "import pickle as pkl\n",
    "import pandas as pd\n",
    "from tqdm.notebook import tqdm\n",
    "\n",
    "import create_history\n",
    "import datetime"
   ]
  },
  {
   "cell_type": "markdown",
   "metadata": {},
   "source": [
    "# Creating Listing Histories for CRMLS"
   ]
  },
  {
   "cell_type": "code",
   "execution_count": 53,
   "metadata": {},
   "outputs": [
    {
     "data": {
      "application/vnd.jupyter.widget-view+json": {
       "model_id": "68ad1ea3bcbc4ef2bd840bf6c3951e64",
       "version_major": 2,
       "version_minor": 0
      },
      "text/plain": [
       "  0%|          | 0/12 [00:00<?, ?it/s]"
      ]
     },
     "metadata": {},
     "output_type": "display_data"
    },
    {
     "ename": "KeyboardInterrupt",
     "evalue": "",
     "output_type": "error",
     "traceback": [
      "\u001b[0;31m---------------------------------------------------------------------------\u001b[0m",
      "\u001b[0;31mKeyboardInterrupt\u001b[0m                         Traceback (most recent call last)",
      "\u001b[1;32m/Users/arnavmalhotra/Desktop/data-quality/analysis/crmls_listing_history/listing_history_backfill.ipynb Cell 3\u001b[0m line \u001b[0;36m4\n\u001b[1;32m      <a href='vscode-notebook-cell:/Users/arnavmalhotra/Desktop/data-quality/analysis/crmls_listing_history/listing_history_backfill.ipynb#W4sZmlsZQ%3D%3D?line=1'>2</a>\u001b[0m \u001b[39mwith\u001b[39;00m \u001b[39mopen\u001b[39m(\u001b[39mf\u001b[39m\u001b[39m'\u001b[39m\u001b[39mdata/pw_df_\u001b[39m\u001b[39m{\u001b[39;00mi\u001b[39m}\u001b[39;00m\u001b[39m.pkl\u001b[39m\u001b[39m'\u001b[39m, \u001b[39m'\u001b[39m\u001b[39mrb\u001b[39m\u001b[39m'\u001b[39m) \u001b[39mas\u001b[39;00m f:\n\u001b[1;32m      <a href='vscode-notebook-cell:/Users/arnavmalhotra/Desktop/data-quality/analysis/crmls_listing_history/listing_history_backfill.ipynb#W4sZmlsZQ%3D%3D?line=2'>3</a>\u001b[0m     pw_df \u001b[39m=\u001b[39m pkl\u001b[39m.\u001b[39mload(f)\n\u001b[0;32m----> <a href='vscode-notebook-cell:/Users/arnavmalhotra/Desktop/data-quality/analysis/crmls_listing_history/listing_history_backfill.ipynb#W4sZmlsZQ%3D%3D?line=3'>4</a>\u001b[0m create_history\u001b[39m.\u001b[39;49mcreate_listings(pw_df)[[\u001b[39m'\u001b[39m\u001b[39mid\u001b[39m\u001b[39m'\u001b[39m, \u001b[39m'\u001b[39m\u001b[39mstandard_status\u001b[39m\u001b[39m'\u001b[39m,\u001b[39m'\u001b[39m\u001b[39mevents\u001b[39m\u001b[39m'\u001b[39m]]\u001b[39m.\u001b[39mto_csv(\u001b[39mf\u001b[39m\u001b[39m'\u001b[39m\u001b[39mdata/out/crmls_backfill_\u001b[39m\u001b[39m{\u001b[39;00mi\u001b[39m}\u001b[39;00m\u001b[39m.csv\u001b[39m\u001b[39m'\u001b[39m)\n",
      "File \u001b[0;32m~/Desktop/data-quality/analysis/crmls_listing_history/create_history.py:151\u001b[0m, in \u001b[0;36mcreate_listings\u001b[0;34m(listings_sample)\u001b[0m\n\u001b[1;32m    150\u001b[0m \u001b[39mdef\u001b[39;00m \u001b[39mcreate_listings\u001b[39m(listings_sample):\n\u001b[0;32m--> 151\u001b[0m     events \u001b[39m=\u001b[39m [create_listing_history(close_date, expiration_date, listing_contract_date, purchase_contract_date, withdrawn_date, \n\u001b[1;32m    152\u001b[0m                         list_price,contingent_date, original_list_price, close_price, status, status_change_timestamp) \u001b[39mfor\u001b[39;00m close_date, expiration_date, listing_contract_date, purchase_contract_date, withdrawn_date, list_price,contingent_date, original_list_price, close_price, status, status_change_timestamp \u001b[39min\u001b[39;00m \u001b[39mzip\u001b[39m(listings_sample\u001b[39m.\u001b[39mclose_date, listings_sample\u001b[39m.\u001b[39mexpiration_date, listings_sample\u001b[39m.\u001b[39mlisting_contract_date, listings_sample\u001b[39m.\u001b[39mpurchase_contract_date, listings_sample\u001b[39m.\u001b[39mwithdrawn_date,listings_sample\u001b[39m.\u001b[39mlist_price,listings_sample\u001b[39m.\u001b[39mcontingent_date, listings_sample\u001b[39m.\u001b[39moriginal_list_price, listings_sample\u001b[39m.\u001b[39mclose_price, listings_sample\u001b[39m.\u001b[39mstandard_status, listings_sample\u001b[39m.\u001b[39mstatus_change_timestamp)]\n\u001b[1;32m    154\u001b[0m \u001b[39m    \u001b[39m\u001b[39m'''events = []\u001b[39;00m\n\u001b[1;32m    155\u001b[0m \u001b[39m    for close_date, expiration_date, listing_contract_date, purchase_contract_date, withdrawn_date, list_price,contingent_date, original_list_price, close_price, status, status_change_timestamp in zip(listings_sample.close_date, listings_sample.expiration_date, listings_sample.listing_contract_date, listings_sample.purchase_contract_date, listings_sample.withdrawn_date,listings_sample.list_price,listings_sample.contingent_date, listings_sample.original_list_price, listings_sample.close_price, listings_sample.standard_status, listings_sample.status_change_timestamp):\u001b[39;00m\n\u001b[1;32m    156\u001b[0m \u001b[39m        events.append(create_listing_history(close_date, expiration_date, listing_contract_date, purchase_contract_date, withdrawn_date, \u001b[39;00m\n\u001b[1;32m    157\u001b[0m \u001b[39m                        list_price,contingent_date, original_list_price, close_price, status, status_change_timestamp))\u001b[39;00m\n\u001b[1;32m    158\u001b[0m \u001b[39m    '''\u001b[39;00m\n\u001b[1;32m    159\u001b[0m     listings_sample[\u001b[39m'\u001b[39m\u001b[39mevents\u001b[39m\u001b[39m'\u001b[39m] \u001b[39m=\u001b[39m events\n",
      "File \u001b[0;32m~/Desktop/data-quality/analysis/crmls_listing_history/create_history.py:151\u001b[0m, in \u001b[0;36m<listcomp>\u001b[0;34m(.0)\u001b[0m\n\u001b[1;32m    150\u001b[0m \u001b[39mdef\u001b[39;00m \u001b[39mcreate_listings\u001b[39m(listings_sample):\n\u001b[0;32m--> 151\u001b[0m     events \u001b[39m=\u001b[39m [create_listing_history(close_date, expiration_date, listing_contract_date, purchase_contract_date, withdrawn_date, \n\u001b[1;32m    152\u001b[0m                         list_price,contingent_date, original_list_price, close_price, status, status_change_timestamp) \u001b[39mfor\u001b[39;00m close_date, expiration_date, listing_contract_date, purchase_contract_date, withdrawn_date, list_price,contingent_date, original_list_price, close_price, status, status_change_timestamp \u001b[39min\u001b[39;00m \u001b[39mzip\u001b[39m(listings_sample\u001b[39m.\u001b[39mclose_date, listings_sample\u001b[39m.\u001b[39mexpiration_date, listings_sample\u001b[39m.\u001b[39mlisting_contract_date, listings_sample\u001b[39m.\u001b[39mpurchase_contract_date, listings_sample\u001b[39m.\u001b[39mwithdrawn_date,listings_sample\u001b[39m.\u001b[39mlist_price,listings_sample\u001b[39m.\u001b[39mcontingent_date, listings_sample\u001b[39m.\u001b[39moriginal_list_price, listings_sample\u001b[39m.\u001b[39mclose_price, listings_sample\u001b[39m.\u001b[39mstandard_status, listings_sample\u001b[39m.\u001b[39mstatus_change_timestamp)]\n\u001b[1;32m    154\u001b[0m \u001b[39m    \u001b[39m\u001b[39m'''events = []\u001b[39;00m\n\u001b[1;32m    155\u001b[0m \u001b[39m    for close_date, expiration_date, listing_contract_date, purchase_contract_date, withdrawn_date, list_price,contingent_date, original_list_price, close_price, status, status_change_timestamp in zip(listings_sample.close_date, listings_sample.expiration_date, listings_sample.listing_contract_date, listings_sample.purchase_contract_date, listings_sample.withdrawn_date,listings_sample.list_price,listings_sample.contingent_date, listings_sample.original_list_price, listings_sample.close_price, listings_sample.standard_status, listings_sample.status_change_timestamp):\u001b[39;00m\n\u001b[1;32m    156\u001b[0m \u001b[39m        events.append(create_listing_history(close_date, expiration_date, listing_contract_date, purchase_contract_date, withdrawn_date, \u001b[39;00m\n\u001b[1;32m    157\u001b[0m \u001b[39m                        list_price,contingent_date, original_list_price, close_price, status, status_change_timestamp))\u001b[39;00m\n\u001b[1;32m    158\u001b[0m \u001b[39m    '''\u001b[39;00m\n\u001b[1;32m    159\u001b[0m     listings_sample[\u001b[39m'\u001b[39m\u001b[39mevents\u001b[39m\u001b[39m'\u001b[39m] \u001b[39m=\u001b[39m events\n",
      "File \u001b[0;32m~/Desktop/data-quality/analysis/crmls_listing_history/create_history.py:137\u001b[0m, in \u001b[0;36mcreate_listing_history\u001b[0;34m(close_date, expiration_date, listing_contract_date, purchase_contract_date, withdrawn_date, list_price, contingent_date, original_list_price, close_price, status, status_change_timestamp)\u001b[0m\n\u001b[1;32m    135\u001b[0m ec \u001b[39m=\u001b[39m event_codes[status]\n\u001b[1;32m    136\u001b[0m events \u001b[39m=\u001b[39m []\n\u001b[0;32m--> 137\u001b[0m \u001b[39mif\u001b[39;00m ec \u001b[39m==\u001b[39m \u001b[39m50\u001b[39m:\n\u001b[1;32m    138\u001b[0m     events\u001b[39m.\u001b[39mappend(\u001b[39mf\u001b[39m\u001b[39m'\u001b[39m\u001b[39m{\u001b[39;00mec\u001b[39m}\u001b[39;00m\u001b[39m: \u001b[39m\u001b[39m{\u001b[39;00mlisting_contract_date\u001b[39m}\u001b[39;00m\u001b[39m, \u001b[39m\u001b[39m{\u001b[39;00mcoalesce(original_list_price,\u001b[39m \u001b[39mlist_price)\u001b[39m}\u001b[39;00m\u001b[39m'\u001b[39m)\n\u001b[1;32m    139\u001b[0m \u001b[39melse\u001b[39;00m:\n",
      "\u001b[0;31mKeyboardInterrupt\u001b[0m: "
     ]
    }
   ],
   "source": [
    "for i in tqdm(range(12)):\n",
    "    with open(f'data/pw_df_{i}.pkl', 'rb') as f:\n",
    "        pw_df = pkl.load(f)\n",
    "    create_history.create_listings(pw_df)[['id', 'standard_status','events']].to_csv(f'data/out/crmls_backfill_{i}.csv')\n"
   ]
  },
  {
   "cell_type": "markdown",
   "metadata": {},
   "source": [
    "# Transforming Listing Histories"
   ]
  },
  {
   "cell_type": "code",
   "execution_count": 24,
   "metadata": {},
   "outputs": [
    {
     "data": {
      "text/html": [
       "<div>\n",
       "<style scoped>\n",
       "    .dataframe tbody tr th:only-of-type {\n",
       "        vertical-align: middle;\n",
       "    }\n",
       "\n",
       "    .dataframe tbody tr th {\n",
       "        vertical-align: top;\n",
       "    }\n",
       "\n",
       "    .dataframe thead th {\n",
       "        text-align: right;\n",
       "    }\n",
       "</style>\n",
       "<table border=\"1\" class=\"dataframe\">\n",
       "  <thead>\n",
       "    <tr style=\"text-align: right;\">\n",
       "      <th></th>\n",
       "      <th>id</th>\n",
       "      <th>listing_id</th>\n",
       "      <th>listing_key</th>\n",
       "      <th>close_date</th>\n",
       "      <th>contingent_date</th>\n",
       "      <th>expiration_date</th>\n",
       "      <th>listing_contract_date</th>\n",
       "      <th>purchase_contract_date</th>\n",
       "      <th>withdrawn_date</th>\n",
       "      <th>list_price</th>\n",
       "      <th>original_list_price</th>\n",
       "      <th>close_price</th>\n",
       "      <th>price_change_timestamp</th>\n",
       "      <th>standard_status</th>\n",
       "      <th>previous_list_price</th>\n",
       "      <th>status_change_timestamp</th>\n",
       "      <th>coming_soon_timestamp</th>\n",
       "      <th>events</th>\n",
       "    </tr>\n",
       "  </thead>\n",
       "  <tbody>\n",
       "    <tr>\n",
       "      <th>0</th>\n",
       "      <td>531108</td>\n",
       "      <td>P482283</td>\n",
       "      <td>4304827</td>\n",
       "      <td>2006-01-27</td>\n",
       "      <td>None</td>\n",
       "      <td>2006-02-13</td>\n",
       "      <td>2005-11-18</td>\n",
       "      <td>2006-01-09</td>\n",
       "      <td>None</td>\n",
       "      <td>655000.00</td>\n",
       "      <td>699900.00</td>\n",
       "      <td>655000.00</td>\n",
       "      <td>2023-11-21 16:16:24.512301</td>\n",
       "      <td>Closed</td>\n",
       "      <td>None</td>\n",
       "      <td>2023-11-21 16:16:24.508916</td>\n",
       "      <td>None</td>\n",
       "      <td>[(100, 2005-11-18, 699900.00), (240, 2006-01-0...</td>\n",
       "    </tr>\n",
       "    <tr>\n",
       "      <th>1</th>\n",
       "      <td>531111</td>\n",
       "      <td>11518657</td>\n",
       "      <td>5217920</td>\n",
       "      <td>2011-05-11</td>\n",
       "      <td>None</td>\n",
       "      <td>2011-07-04</td>\n",
       "      <td>2011-04-05</td>\n",
       "      <td>2011-05-11</td>\n",
       "      <td>2011-05-04</td>\n",
       "      <td>3250.00</td>\n",
       "      <td>3250.00</td>\n",
       "      <td>3500.00</td>\n",
       "      <td>2023-11-21 16:16:24.802937</td>\n",
       "      <td>Closed</td>\n",
       "      <td>None</td>\n",
       "      <td>2023-11-21 16:16:24.800147</td>\n",
       "      <td>None</td>\n",
       "      <td>[(100, 2011-04-05, 3250.00), (240, 2011-05-11,...</td>\n",
       "    </tr>\n",
       "    <tr>\n",
       "      <th>2</th>\n",
       "      <td>531114</td>\n",
       "      <td>OC21232979</td>\n",
       "      <td>367508705</td>\n",
       "      <td>2021-12-01</td>\n",
       "      <td>None</td>\n",
       "      <td>2021-12-31</td>\n",
       "      <td>2021-10-21</td>\n",
       "      <td>2021-11-09</td>\n",
       "      <td>None</td>\n",
       "      <td>635000.00</td>\n",
       "      <td>635000.00</td>\n",
       "      <td>660000.00</td>\n",
       "      <td>2023-11-21 16:16:25.488849</td>\n",
       "      <td>Closed</td>\n",
       "      <td>None</td>\n",
       "      <td>2023-11-21 16:16:25.486274</td>\n",
       "      <td>None</td>\n",
       "      <td>[(100, 2021-10-21, 635000.00), (240, 2021-11-0...</td>\n",
       "    </tr>\n",
       "    <tr>\n",
       "      <th>3</th>\n",
       "      <td>531118</td>\n",
       "      <td>TR14204495</td>\n",
       "      <td>7868871</td>\n",
       "      <td>2014-10-04</td>\n",
       "      <td>None</td>\n",
       "      <td>2014-12-31</td>\n",
       "      <td>2014-09-22</td>\n",
       "      <td>2014-10-04</td>\n",
       "      <td>None</td>\n",
       "      <td>2750.00</td>\n",
       "      <td>2750.00</td>\n",
       "      <td>2700.00</td>\n",
       "      <td>2023-11-21 16:16:26.696619</td>\n",
       "      <td>Closed</td>\n",
       "      <td>None</td>\n",
       "      <td>2023-11-21 16:16:26.694795</td>\n",
       "      <td>None</td>\n",
       "      <td>[(100, 2014-09-22, 2750.00), (240, 2014-10-04,...</td>\n",
       "    </tr>\n",
       "    <tr>\n",
       "      <th>4</th>\n",
       "      <td>531120</td>\n",
       "      <td>00087285</td>\n",
       "      <td>10773243</td>\n",
       "      <td>2000-05-17</td>\n",
       "      <td>None</td>\n",
       "      <td>2000-09-13</td>\n",
       "      <td>2000-03-15</td>\n",
       "      <td>2000-03-23</td>\n",
       "      <td>None</td>\n",
       "      <td>475000.00</td>\n",
       "      <td>475000.00</td>\n",
       "      <td>475000.00</td>\n",
       "      <td>2023-11-21 16:16:26.986836</td>\n",
       "      <td>Closed</td>\n",
       "      <td>None</td>\n",
       "      <td>2023-11-21 16:16:26.984016</td>\n",
       "      <td>None</td>\n",
       "      <td>[(100, 2000-03-15, 475000.00), (240, 2000-03-2...</td>\n",
       "    </tr>\n",
       "  </tbody>\n",
       "</table>\n",
       "</div>"
      ],
      "text/plain": [
       "       id  listing_id listing_key  close_date contingent_date expiration_date  \\\n",
       "0  531108     P482283     4304827  2006-01-27            None      2006-02-13   \n",
       "1  531111    11518657     5217920  2011-05-11            None      2011-07-04   \n",
       "2  531114  OC21232979   367508705  2021-12-01            None      2021-12-31   \n",
       "3  531118  TR14204495     7868871  2014-10-04            None      2014-12-31   \n",
       "4  531120    00087285    10773243  2000-05-17            None      2000-09-13   \n",
       "\n",
       "  listing_contract_date purchase_contract_date withdrawn_date list_price  \\\n",
       "0            2005-11-18             2006-01-09           None  655000.00   \n",
       "1            2011-04-05             2011-05-11     2011-05-04    3250.00   \n",
       "2            2021-10-21             2021-11-09           None  635000.00   \n",
       "3            2014-09-22             2014-10-04           None    2750.00   \n",
       "4            2000-03-15             2000-03-23           None  475000.00   \n",
       "\n",
       "  original_list_price close_price     price_change_timestamp standard_status  \\\n",
       "0           699900.00   655000.00 2023-11-21 16:16:24.512301          Closed   \n",
       "1             3250.00     3500.00 2023-11-21 16:16:24.802937          Closed   \n",
       "2           635000.00   660000.00 2023-11-21 16:16:25.488849          Closed   \n",
       "3             2750.00     2700.00 2023-11-21 16:16:26.696619          Closed   \n",
       "4           475000.00   475000.00 2023-11-21 16:16:26.986836          Closed   \n",
       "\n",
       "  previous_list_price    status_change_timestamp coming_soon_timestamp  \\\n",
       "0                None 2023-11-21 16:16:24.508916                  None   \n",
       "1                None 2023-11-21 16:16:24.800147                  None   \n",
       "2                None 2023-11-21 16:16:25.486274                  None   \n",
       "3                None 2023-11-21 16:16:26.694795                  None   \n",
       "4                None 2023-11-21 16:16:26.984016                  None   \n",
       "\n",
       "                                              events  \n",
       "0  [(100, 2005-11-18, 699900.00), (240, 2006-01-0...  \n",
       "1  [(100, 2011-04-05, 3250.00), (240, 2011-05-11,...  \n",
       "2  [(100, 2021-10-21, 635000.00), (240, 2021-11-0...  \n",
       "3  [(100, 2014-09-22, 2750.00), (240, 2014-10-04,...  \n",
       "4  [(100, 2000-03-15, 475000.00), (240, 2000-03-2...  "
      ]
     },
     "execution_count": 24,
     "metadata": {},
     "output_type": "execute_result"
    }
   ],
   "source": [
    "with open(f'data/pw_df_{0}.pkl', 'rb') as f:\n",
    "        pw_df = pkl.load(f)\n",
    "        pw_df = create_history.create_listings(pw_df)\n",
    "pw_df.head()"
   ]
  },
  {
   "cell_type": "code",
   "execution_count": 46,
   "metadata": {},
   "outputs": [
    {
     "data": {
      "text/plain": [
       "'2014-11-18 00:00:00'"
      ]
     },
     "execution_count": 46,
     "metadata": {},
     "output_type": "execute_result"
    }
   ],
   "source": [
    "str(pw_df['events'][42][0][1]) + ' 00:00:00'"
   ]
  },
  {
   "cell_type": "code",
   "execution_count": 51,
   "metadata": {},
   "outputs": [],
   "source": [
    "def transform_histories(events):\n",
    "    status = []\n",
    "    d = []\n",
    "    price = []\n",
    "    for event in events:\n",
    "        status.append(str(event[0]))\n",
    "        if type(event[1]) == datetime.date:\n",
    "            d.append(str(event[1]) + ' 00:00:00')\n",
    "        else:\n",
    "            d.append(str(event[1]))\n",
    "        price.append(str(event[2]))\n",
    "    return status, d, price"
   ]
  },
  {
   "cell_type": "code",
   "execution_count": 47,
   "metadata": {},
   "outputs": [
    {
     "data": {
      "text/plain": [
       "(['100', '620'],\n",
       " ['2014-11-18 00:00:00', '2023-11-21 16:16:59.101017'],\n",
       " ['199500.00', '199500.00'])"
      ]
     },
     "execution_count": 47,
     "metadata": {},
     "output_type": "execute_result"
    }
   ],
   "source": [
    "transform_histories(pw_df['events'][42])"
   ]
  },
  {
   "cell_type": "code",
   "execution_count": 55,
   "metadata": {},
   "outputs": [
    {
     "data": {
      "application/vnd.jupyter.widget-view+json": {
       "model_id": "dac8a174352a4fabaefd82c7a03ebc7f",
       "version_major": 2,
       "version_minor": 0
      },
      "text/plain": [
       "  0%|          | 0/12 [00:00<?, ?it/s]"
      ]
     },
     "metadata": {},
     "output_type": "display_data"
    }
   ],
   "source": [
    "for j in tqdm(range(12)):\n",
    "    lh = {'id': [], 'status_code': [], 'price': [], 'time': []}\n",
    "    with open(f'data/pw_df_{j}.pkl', 'rb') as f:\n",
    "        pw_df = pkl.load(f)\n",
    "    tmp = create_history.create_listings(pw_df)[['id', 'standard_status','events']]\n",
    "    for i, e in zip(tmp['id'], tmp['events']):\n",
    "        s, d, p = transform_histories(e)\n",
    "        lh['status_code'] += s\n",
    "        lh['price'] += p\n",
    "        lh['time'] += d\n",
    "        lh['id'] += [i] * len(s)\n",
    "    \n",
    "    pd.DataFrame(lh).to_csv(f'data/crmls_lh_backfill/crmls_backfill_{j}.csv', index=False)"
   ]
  },
  {
   "cell_type": "code",
   "execution_count": null,
   "metadata": {},
   "outputs": [],
   "source": []
  }
 ],
 "metadata": {
  "kernelspec": {
   "display_name": "pw",
   "language": "python",
   "name": "python3"
  },
  "language_info": {
   "codemirror_mode": {
    "name": "ipython",
    "version": 3
   },
   "file_extension": ".py",
   "mimetype": "text/x-python",
   "name": "python",
   "nbconvert_exporter": "python",
   "pygments_lexer": "ipython3",
   "version": "3.10.12"
  }
 },
 "nbformat": 4,
 "nbformat_minor": 2
}
