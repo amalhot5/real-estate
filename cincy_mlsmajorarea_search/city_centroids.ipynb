{
 "cells": [
  {
   "cell_type": "code",
   "execution_count": 1,
   "metadata": {},
   "outputs": [],
   "source": [
    "import pandas as pd\n",
    "import geopandas as gpd\n",
    "import shapely\n",
    "from tqdm.auto import tqdm"
   ]
  },
  {
   "cell_type": "code",
   "execution_count": 2,
   "metadata": {},
   "outputs": [],
   "source": [
    "def geocode(data, api_key):\n",
    "    \"\"\"\n",
    "\n",
    "    Args:\n",
    "        data (_type_): _description_\n",
    "        api_key (_type_): _description_\n",
    "\n",
    "    Returns:\n",
    "        _type_: _description_\n",
    "    \"\"\"\n",
    "    from datetime import datetime\n",
    "    import pandas as pd\n",
    "    import requests\n",
    "\n",
    "    print(f\"Started geocoding {data['parsed_add'].nunique()} cities\")\n",
    "        # Required fields in data df: 'l_id'; 'parsed_add'\n",
    "    \n",
    "    now = datetime.now()\n",
    "    log_time = str(now.strftime(\"%m_%d_%Y\"))\n",
    "    n=0\n",
    "    retries =[]\n",
    "    for i in range(len(data)):\n",
    "        # Set the address that you want to geocode\n",
    "        address = data['parsed_add'][i]\n",
    "            \n",
    "            # Build the API request URL with the address and boundary\n",
    "        url = f\"https://maps.googleapis.com/maps/api/geocode/json?address={address}&key={api_key}\"\n",
    "\n",
    "            # Send the request and get the response\n",
    "        response = requests.get(url).json()\n",
    "\n",
    "        data.loc[i, 'status'] = response[\"status\"]\n",
    "        try:\n",
    "                # Get the latitude and longitude from the response\n",
    "            location = response['results'][0]['geometry']['location']\n",
    "            latitude = location['lat']\n",
    "            longitude = location['lng']\n",
    "            data.loc[i, 'lat'] = latitude\n",
    "            data.loc[i, 'long'] = longitude \n",
    "        except Exception as e:\n",
    "            retries.append(data['parsed_add'][i])\n",
    "\n",
    "        n += 1\n",
    "        if n % 100 == 0:  # Check if current index is a multiple of 500\n",
    "            print(f\"Processed {n} cities\")\n",
    "            #print(data.loc[i])\n",
    "            data.to_csv(f'data/result_geocode_{log_time}.csv',index=False)\n",
    "        \n",
    "    # Iterate through the list and write each element to the file\n",
    "    with open(f'data/failed_ids_{log_time}.txt', 'w') as file:\n",
    "        for item in retries:\n",
    "            file.write(\"%s\\n\" % item)\n",
    "    data.to_csv(f'data/result_geocode_{log_time}.csv',index=False)\n",
    "    return data, retries"
   ]
  },
  {
   "cell_type": "code",
   "execution_count": 3,
   "metadata": {},
   "outputs": [
    {
     "data": {
      "text/plain": [
       "\"d = pd.DataFrame({'parsed_add': [x + ' California' for x in lookups[lookups['field_long'] == 'City']['lookup_long']],\\n                  'lat': [0] * len(lookups[lookups['field_long'] == 'City']),\\n                  'long': [0] * len(lookups[lookups['field_long'] == 'City']),\\n                  'status': [None] * len(lookups[lookups['field_long'] == 'City'])})\\nimport json\\nwith open('data/api_keys/keys.json', 'r') as f:\\n    k = json.load(f)\\n#d, retries = geocode(d, k['google_maps'])\\n\""
      ]
     },
     "execution_count": 3,
     "metadata": {},
     "output_type": "execute_result"
    }
   ],
   "source": [
    "'''d = pd.DataFrame({'parsed_add': [x + ' California' for x in lookups[lookups['field_long'] == 'City']['lookup_long']],\n",
    "                  'lat': [0] * len(lookups[lookups['field_long'] == 'City']),\n",
    "                  'long': [0] * len(lookups[lookups['field_long'] == 'City']),\n",
    "                  'status': [None] * len(lookups[lookups['field_long'] == 'City'])})\n",
    "import json\n",
    "with open('data/api_keys/keys.json', 'r') as f:\n",
    "    k = json.load(f)\n",
    "#d, retries = geocode(d, k['google_maps'])\n",
    "'''"
   ]
  },
  {
   "cell_type": "code",
   "execution_count": 4,
   "metadata": {},
   "outputs": [],
   "source": [
    "def get_radius(\n",
    "    listings: gpd.GeoDataFrame, centroid: shapely.Point, thresh=0.75, radius_incr=0.005\n",
    ") -> float:\n",
    "    if len(listings) == 0:\n",
    "        return 0\n",
    "    if centroid == shapely.Point(0, 0) or pd.isna(centroid):\n",
    "        centroid = shapely.MultiPoint(listings[\"geometry\"].values).centroid\n",
    "    \n",
    "    radius = 0 + radius_incr\n",
    "    check = gpd.GeoDataFrame(\n",
    "        {\"check\": [0], \"geometry\": [centroid.buffer(radius)]}, crs=\"EPSG:4326\"\n",
    "    )\n",
    "    while len(listings.sjoin(check, predicate=\"intersects\")) / len(listings) < thresh:\n",
    "        radius += radius_incr\n",
    "        check = gpd.GeoDataFrame(\n",
    "            {\"check\": [0], \"geometry\": [centroid.buffer(radius)]}, crs=\"EPSG:4326\"\n",
    "        )\n",
    "    # print(len(listings.sjoin(check, predicate='intersects'))/len(listings))\n",
    "    return radius"
   ]
  },
  {
   "cell_type": "code",
   "execution_count": 5,
   "metadata": {},
   "outputs": [],
   "source": [
    "def get_centroids(listings):\n",
    "    return shapely.MultiPoint(listings[\"geometry\"].values).centroid"
   ]
  },
  {
   "cell_type": "code",
   "execution_count": 6,
   "metadata": {},
   "outputs": [
    {
     "name": "stderr",
     "output_type": "stream",
     "text": [
      "/var/folders/6l/yzmcq93j41zf3wrth_tyl6g80000gn/T/ipykernel_45668/570044259.py:1: DtypeWarning: Columns (2) have mixed types. Specify dtype option on import or set low_memory=False.\n",
      "  df = pd.concat([pd.read_csv('data/cincy_raw_data.csv'), pd.read_csv('data/cincy_raw_data_2.csv')])\n"
     ]
    },
    {
     "data": {
      "text/plain": [
       "278101"
      ]
     },
     "execution_count": 6,
     "metadata": {},
     "output_type": "execute_result"
    }
   ],
   "source": [
    "df = pd.concat([pd.read_csv('data/cincy_raw_data.csv'), pd.read_csv('data/cincy_raw_data_2.csv')])\n",
    "df = df[df['latitude']!=0]\n",
    "len(df)"
   ]
  },
  {
   "cell_type": "code",
   "execution_count": 7,
   "metadata": {},
   "outputs": [
    {
     "data": {
      "text/html": [
       "<div>\n",
       "<style scoped>\n",
       "    .dataframe tbody tr th:only-of-type {\n",
       "        vertical-align: middle;\n",
       "    }\n",
       "\n",
       "    .dataframe tbody tr th {\n",
       "        vertical-align: top;\n",
       "    }\n",
       "\n",
       "    .dataframe thead th {\n",
       "        text-align: right;\n",
       "    }\n",
       "</style>\n",
       "<table border=\"1\" class=\"dataframe\">\n",
       "  <thead>\n",
       "    <tr style=\"text-align: right;\">\n",
       "      <th></th>\n",
       "      <th>source_id</th>\n",
       "      <th>city</th>\n",
       "      <th>postal_code</th>\n",
       "      <th>mls_area_major</th>\n",
       "      <th>county_or_parish</th>\n",
       "      <th>subdivision_name</th>\n",
       "      <th>township</th>\n",
       "      <th>latitude</th>\n",
       "      <th>longitude</th>\n",
       "    </tr>\n",
       "  </thead>\n",
       "  <tbody>\n",
       "    <tr>\n",
       "      <th>17</th>\n",
       "      <td>485142</td>\n",
       "      <td>Hamilton Twp</td>\n",
       "      <td>45152</td>\n",
       "      <td>Warren-E09</td>\n",
       "      <td>Warren</td>\n",
       "      <td>Villages of Classic Way</td>\n",
       "      <td>NaN</td>\n",
       "      <td>39.351799</td>\n",
       "      <td>-84.131096</td>\n",
       "    </tr>\n",
       "    <tr>\n",
       "      <th>21</th>\n",
       "      <td>486571</td>\n",
       "      <td>Colerain Twp</td>\n",
       "      <td>45231</td>\n",
       "      <td>Hamilton-W10</td>\n",
       "      <td>Hamilton</td>\n",
       "      <td>NaN</td>\n",
       "      <td>Colerain</td>\n",
       "      <td>39.251793</td>\n",
       "      <td>-84.568352</td>\n",
       "    </tr>\n",
       "    <tr>\n",
       "      <th>24</th>\n",
       "      <td>486947</td>\n",
       "      <td>West Chester</td>\n",
       "      <td>45069</td>\n",
       "      <td>Butler-E12</td>\n",
       "      <td>Butler</td>\n",
       "      <td>NaN</td>\n",
       "      <td>NaN</td>\n",
       "      <td>39.320988</td>\n",
       "      <td>-84.399513</td>\n",
       "    </tr>\n",
       "    <tr>\n",
       "      <th>30</th>\n",
       "      <td>1234906</td>\n",
       "      <td>Oxford</td>\n",
       "      <td>45056</td>\n",
       "      <td>Butler-W18</td>\n",
       "      <td>Butler</td>\n",
       "      <td>NaN</td>\n",
       "      <td>Oxford</td>\n",
       "      <td>39.494304</td>\n",
       "      <td>-84.748276</td>\n",
       "    </tr>\n",
       "    <tr>\n",
       "      <th>34</th>\n",
       "      <td>485130</td>\n",
       "      <td>Hamilton Twp</td>\n",
       "      <td>45152</td>\n",
       "      <td>Warren-E09</td>\n",
       "      <td>Warren</td>\n",
       "      <td>Villages of Classicway</td>\n",
       "      <td>NaN</td>\n",
       "      <td>39.351799</td>\n",
       "      <td>-84.131096</td>\n",
       "    </tr>\n",
       "  </tbody>\n",
       "</table>\n",
       "</div>"
      ],
      "text/plain": [
       "    source_id          city postal_code mls_area_major county_or_parish  \\\n",
       "17     485142  Hamilton Twp       45152     Warren-E09           Warren   \n",
       "21     486571  Colerain Twp       45231   Hamilton-W10         Hamilton   \n",
       "24     486947  West Chester       45069     Butler-E12           Butler   \n",
       "30    1234906        Oxford       45056     Butler-W18           Butler   \n",
       "34     485130  Hamilton Twp       45152     Warren-E09           Warren   \n",
       "\n",
       "           subdivision_name  township   latitude  longitude  \n",
       "17  Villages of Classic Way       NaN  39.351799 -84.131096  \n",
       "21                      NaN  Colerain  39.251793 -84.568352  \n",
       "24                      NaN       NaN  39.320988 -84.399513  \n",
       "30                      NaN    Oxford  39.494304 -84.748276  \n",
       "34   Villages of Classicway       NaN  39.351799 -84.131096  "
      ]
     },
     "execution_count": 7,
     "metadata": {},
     "output_type": "execute_result"
    }
   ],
   "source": [
    "df.head()"
   ]
  },
  {
   "cell_type": "code",
   "execution_count": 8,
   "metadata": {},
   "outputs": [
    {
     "data": {
      "application/vnd.jupyter.widget-view+json": {
       "model_id": "308c6d6ed9e643349a3cf45777b6de62",
       "version_major": 2,
       "version_minor": 0
      },
      "text/plain": [
       "  0%|          | 0/278101 [00:00<?, ?it/s]"
      ]
     },
     "metadata": {},
     "output_type": "display_data"
    }
   ],
   "source": [
    "df[\"geometry\"] = [\n",
    "        shapely.Point(long, lat)\n",
    "        for lat, long in tqdm(zip(df[\"longitude\"], df[\"latitude\"]), total=len(df))\n",
    "    ]\n",
    "df = gpd.GeoDataFrame(df, crs=\"EPSG:4326\")"
   ]
  },
  {
   "cell_type": "code",
   "execution_count": 9,
   "metadata": {},
   "outputs": [
    {
     "data": {
      "text/plain": [
       "Index(['source_id', 'city', 'postal_code', 'mls_area_major',\n",
       "       'county_or_parish', 'subdivision_name', 'township', 'latitude',\n",
       "       'longitude', 'geometry'],\n",
       "      dtype='object')"
      ]
     },
     "execution_count": 9,
     "metadata": {},
     "output_type": "execute_result"
    }
   ],
   "source": [
    "df.columns"
   ]
  },
  {
   "cell_type": "code",
   "execution_count": 10,
   "metadata": {},
   "outputs": [],
   "source": [
    "fields = ['city', 'postal_code', 'mls_area_major', 'county_or_parish', 'subdivision_name', 'township']"
   ]
  },
  {
   "cell_type": "code",
   "execution_count": 11,
   "metadata": {},
   "outputs": [
    {
     "name": "stdout",
     "output_type": "stream",
     "text": [
      "city\n"
     ]
    },
    {
     "data": {
      "application/vnd.jupyter.widget-view+json": {
       "model_id": "a39a81ab16724245b86b972394d1d027",
       "version_major": 2,
       "version_minor": 0
      },
      "text/plain": [
       "  0%|          | 0/452 [00:00<?, ?it/s]"
      ]
     },
     "metadata": {},
     "output_type": "display_data"
    },
    {
     "data": {
      "application/vnd.jupyter.widget-view+json": {
       "model_id": "57d60bc989ee461ebf1f12d692c87a6b",
       "version_major": 2,
       "version_minor": 0
      },
      "text/plain": [
       "  0%|          | 0/452 [00:00<?, ?it/s]"
      ]
     },
     "metadata": {},
     "output_type": "display_data"
    },
    {
     "name": "stdout",
     "output_type": "stream",
     "text": [
      "postal_code\n"
     ]
    },
    {
     "data": {
      "application/vnd.jupyter.widget-view+json": {
       "model_id": "3186e9d8f6354f9495b20a7455d50a5e",
       "version_major": 2,
       "version_minor": 0
      },
      "text/plain": [
       "  0%|          | 0/794 [00:00<?, ?it/s]"
      ]
     },
     "metadata": {},
     "output_type": "display_data"
    },
    {
     "data": {
      "application/vnd.jupyter.widget-view+json": {
       "model_id": "ca57782ad9ee49f8b7f3cadda1cf00bb",
       "version_major": 2,
       "version_minor": 0
      },
      "text/plain": [
       "  0%|          | 0/794 [00:00<?, ?it/s]"
      ]
     },
     "metadata": {},
     "output_type": "display_data"
    },
    {
     "name": "stdout",
     "output_type": "stream",
     "text": [
      "mls_area_major\n"
     ]
    },
    {
     "data": {
      "application/vnd.jupyter.widget-view+json": {
       "model_id": "7cd2ccb61d4046b59012fb277ff8cb8a",
       "version_major": 2,
       "version_minor": 0
      },
      "text/plain": [
       "  0%|          | 0/79 [00:00<?, ?it/s]"
      ]
     },
     "metadata": {},
     "output_type": "display_data"
    },
    {
     "data": {
      "application/vnd.jupyter.widget-view+json": {
       "model_id": "72013592ba1842758a3f7fd70832d70a",
       "version_major": 2,
       "version_minor": 0
      },
      "text/plain": [
       "  0%|          | 0/79 [00:00<?, ?it/s]"
      ]
     },
     "metadata": {},
     "output_type": "display_data"
    },
    {
     "name": "stdout",
     "output_type": "stream",
     "text": [
      "county_or_parish\n"
     ]
    },
    {
     "data": {
      "application/vnd.jupyter.widget-view+json": {
       "model_id": "07a3b11f687f45f5956ec5f35a2e0124",
       "version_major": 2,
       "version_minor": 0
      },
      "text/plain": [
       "  0%|          | 0/56 [00:00<?, ?it/s]"
      ]
     },
     "metadata": {},
     "output_type": "display_data"
    },
    {
     "data": {
      "application/vnd.jupyter.widget-view+json": {
       "model_id": "3668b35b8cc64df2aa361132d397a154",
       "version_major": 2,
       "version_minor": 0
      },
      "text/plain": [
       "  0%|          | 0/56 [00:00<?, ?it/s]"
      ]
     },
     "metadata": {},
     "output_type": "display_data"
    },
    {
     "name": "stdout",
     "output_type": "stream",
     "text": [
      "subdivision_name\n"
     ]
    },
    {
     "data": {
      "application/vnd.jupyter.widget-view+json": {
       "model_id": "fd0653e947594ff79185fdefa45f06eb",
       "version_major": 2,
       "version_minor": 0
      },
      "text/plain": [
       "  0%|          | 0/17702 [00:00<?, ?it/s]"
      ]
     },
     "metadata": {},
     "output_type": "display_data"
    },
    {
     "data": {
      "application/vnd.jupyter.widget-view+json": {
       "model_id": "09796b19abcc450b82163780d090dc11",
       "version_major": 2,
       "version_minor": 0
      },
      "text/plain": [
       "  0%|          | 0/17702 [00:00<?, ?it/s]"
      ]
     },
     "metadata": {},
     "output_type": "display_data"
    },
    {
     "name": "stdout",
     "output_type": "stream",
     "text": [
      "township\n"
     ]
    },
    {
     "data": {
      "application/vnd.jupyter.widget-view+json": {
       "model_id": "3d93f74dc7c24f9eb53dce1f455c41fb",
       "version_major": 2,
       "version_minor": 0
      },
      "text/plain": [
       "  0%|          | 0/1667 [00:00<?, ?it/s]"
      ]
     },
     "metadata": {},
     "output_type": "display_data"
    },
    {
     "data": {
      "application/vnd.jupyter.widget-view+json": {
       "model_id": "f629cca733674058a5ec083bcbc7cc2b",
       "version_major": 2,
       "version_minor": 0
      },
      "text/plain": [
       "  0%|          | 0/1667 [00:00<?, ?it/s]"
      ]
     },
     "metadata": {},
     "output_type": "display_data"
    }
   ],
   "source": [
    "for field in fields:\n",
    "    print(field)\n",
    "    tmp = pd.DataFrame({f'{field}': df[f'{field}'].unique()})\n",
    "    tmp.dropna(inplace=True)\n",
    "    centroids = [\n",
    "        shapely.MultiPoint(df[df[f'{field}'] == area][\"geometry\"].values).centroid\n",
    "        for area in tqdm(\n",
    "            tmp[f'{field}'], total=len(tmp[f'{field}'])\n",
    "        )\n",
    "    ]\n",
    "    tmp[\"centroid\"] = centroids\n",
    "\n",
    "    radii = [\n",
    "        get_radius(df[df[f'{field}'] == l], c)\n",
    "        for l, c in tqdm(\n",
    "            zip(tmp[f'{field}'], tmp[\"centroid\"]),\n",
    "            total=len(tmp),\n",
    "        )\n",
    "    ]\n",
    "    tmp[\"radius\"] = radii\n",
    "    tmp.to_csv(f'data/cincy_{field}.csv')"
   ]
  },
  {
   "cell_type": "code",
   "execution_count": null,
   "metadata": {},
   "outputs": [],
   "source": []
  }
 ],
 "metadata": {
  "kernelspec": {
   "display_name": "pw_3.12",
   "language": "python",
   "name": "python3"
  },
  "language_info": {
   "codemirror_mode": {
    "name": "ipython",
    "version": 3
   },
   "file_extension": ".py",
   "mimetype": "text/x-python",
   "name": "python",
   "nbconvert_exporter": "python",
   "pygments_lexer": "ipython3",
   "version": "3.12.4"
  }
 },
 "nbformat": 4,
 "nbformat_minor": 2
}
