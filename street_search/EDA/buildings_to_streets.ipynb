{
 "cells": [
  {
   "cell_type": "markdown",
   "metadata": {},
   "source": [
    "# Matching Buildings to Streets\n",
    "The purpose of this notebook is to lay out a methodology for matching buildings in NYC to the street that they are on.\n",
    "\n",
    "This effort is being undertaken as a part of the Street Search initiative. The ticket for this can be found [here](https://perchwell.atlassian.net/browse/PWEB-11865)\n",
    "\n",
    "Author: Arnav Malhotra"
   ]
  },
  {
   "cell_type": "code",
   "execution_count": 5,
   "metadata": {},
   "outputs": [],
   "source": [
    "import geopandas as gpd\n",
    "import folium\n",
    "import shapely\n",
    "import pandas as pd\n",
    "import json\n",
    "\n",
    "from tqdm.auto import tqdm\n",
    "import warnings\n",
    "warnings.filterwarnings(action='ignore')"
   ]
  },
  {
   "cell_type": "code",
   "execution_count": 3,
   "metadata": {},
   "outputs": [],
   "source": [
    "def load_shape(x):\n",
    "    try:\n",
    "        return shapely.wkt.loads(x)\n",
    "    except:\n",
    "        return shapely.geometry.shape(json.loads(x))\n",
    "\n",
    "def load_geos(df: pd.DataFrame) -> gpd.GeoDataFrame:\n",
    "    preso_gdf = gpd.GeoDataFrame(df[(~pd.isna(df.geometry))])\n",
    "    preso_gdf['geometry'] = [load_shape(x) for x in tqdm(preso_gdf['geometry'], total=len(preso_gdf))]    \n",
    "    preso_gdf = preso_gdf.set_geometry('geometry')\n",
    "    preso_gdf.set_crs(crs=\"EPSG:4326\", inplace=True)\n",
    "    return preso_gdf\n",
    "\n",
    "def line_to_polygon(geo: shapely.LineString, street_width: float, feet_buffer=0) -> shapely.Polygon:\n",
    "    return gpd.GeoSeries(shapely.buffer(geo, (street_width + feet_buffer)/364567.2, cap_style='flat'), crs=\"EPSG:4326\")[0]"
   ]
  },
  {
   "cell_type": "code",
   "execution_count": 4,
   "metadata": {},
   "outputs": [
    {
     "data": {
      "application/vnd.jupyter.widget-view+json": {
       "model_id": "b0d583ce261543bc98bfad0ce633e0af",
       "version_major": 2,
       "version_minor": 0
      },
      "text/plain": [
       "  0%|          | 0/121906 [00:00<?, ?it/s]"
      ]
     },
     "metadata": {},
     "output_type": "display_data"
    },
    {
     "ename": "KeyboardInterrupt",
     "evalue": "",
     "output_type": "error",
     "traceback": [
      "\u001b[0;31m---------------------------------------------------------------------------\u001b[0m",
      "\u001b[0;31mKeyboardInterrupt\u001b[0m                         Traceback (most recent call last)",
      "Cell \u001b[0;32mIn[4], line 3\u001b[0m\n\u001b[1;32m      1\u001b[0m streets \u001b[38;5;241m=\u001b[39m gpd\u001b[38;5;241m.\u001b[39mread_file(\u001b[38;5;124m'\u001b[39m\u001b[38;5;124mdata/Centerline_20240520\u001b[39m\u001b[38;5;124m'\u001b[39m)\n\u001b[1;32m      2\u001b[0m streets\u001b[38;5;241m.\u001b[39mto_crs(crs\u001b[38;5;241m=\u001b[39m\u001b[38;5;124m\"\u001b[39m\u001b[38;5;124mEPSG:4326\u001b[39m\u001b[38;5;124m\"\u001b[39m, inplace\u001b[38;5;241m=\u001b[39m\u001b[38;5;28;01mTrue\u001b[39;00m)\n\u001b[0;32m----> 3\u001b[0m streets[\u001b[38;5;124m'\u001b[39m\u001b[38;5;124mgeometry\u001b[39m\u001b[38;5;124m'\u001b[39m] \u001b[38;5;241m=\u001b[39m [\u001b[43mline_to_polygon\u001b[49m\u001b[43m(\u001b[49m\u001b[43mx\u001b[49m\u001b[43m,\u001b[49m\u001b[43m \u001b[49m\u001b[43my\u001b[49m\u001b[43m,\u001b[49m\u001b[43m \u001b[49m\u001b[38;5;241;43m15\u001b[39;49m\u001b[43m)\u001b[49m \u001b[38;5;28;01mfor\u001b[39;00m x, y \u001b[38;5;129;01min\u001b[39;00m tqdm(\u001b[38;5;28mzip\u001b[39m(streets[\u001b[38;5;124m'\u001b[39m\u001b[38;5;124mgeometry\u001b[39m\u001b[38;5;124m'\u001b[39m], streets[\u001b[38;5;124m'\u001b[39m\u001b[38;5;124mST_WIDTH\u001b[39m\u001b[38;5;124m'\u001b[39m]), total\u001b[38;5;241m=\u001b[39m\u001b[38;5;28mlen\u001b[39m(streets))]\n",
      "Cell \u001b[0;32mIn[3], line 15\u001b[0m, in \u001b[0;36mline_to_polygon\u001b[0;34m(geo, street_width, feet_buffer)\u001b[0m\n\u001b[1;32m     14\u001b[0m \u001b[38;5;28;01mdef\u001b[39;00m \u001b[38;5;21mline_to_polygon\u001b[39m(geo: shapely\u001b[38;5;241m.\u001b[39mLineString, street_width: \u001b[38;5;28mfloat\u001b[39m, feet_buffer\u001b[38;5;241m=\u001b[39m\u001b[38;5;241m0\u001b[39m) \u001b[38;5;241m-\u001b[39m\u001b[38;5;241m>\u001b[39m shapely\u001b[38;5;241m.\u001b[39mPolygon:\n\u001b[0;32m---> 15\u001b[0m     \u001b[38;5;28;01mreturn\u001b[39;00m \u001b[43mgpd\u001b[49m\u001b[38;5;241;43m.\u001b[39;49m\u001b[43mGeoSeries\u001b[49m\u001b[43m(\u001b[49m\u001b[43mshapely\u001b[49m\u001b[38;5;241;43m.\u001b[39;49m\u001b[43mbuffer\u001b[49m\u001b[43m(\u001b[49m\u001b[43mgeo\u001b[49m\u001b[43m,\u001b[49m\u001b[43m \u001b[49m\u001b[43m(\u001b[49m\u001b[43mstreet_width\u001b[49m\u001b[43m \u001b[49m\u001b[38;5;241;43m+\u001b[39;49m\u001b[43m \u001b[49m\u001b[43mfeet_buffer\u001b[49m\u001b[43m)\u001b[49m\u001b[38;5;241;43m/\u001b[39;49m\u001b[38;5;241;43m364567.2\u001b[39;49m\u001b[43m,\u001b[49m\u001b[43m \u001b[49m\u001b[43mcap_style\u001b[49m\u001b[38;5;241;43m=\u001b[39;49m\u001b[38;5;124;43m'\u001b[39;49m\u001b[38;5;124;43mflat\u001b[39;49m\u001b[38;5;124;43m'\u001b[39;49m\u001b[43m)\u001b[49m\u001b[43m,\u001b[49m\u001b[43m \u001b[49m\u001b[43mcrs\u001b[49m\u001b[38;5;241;43m=\u001b[39;49m\u001b[38;5;124;43m\"\u001b[39;49m\u001b[38;5;124;43mEPSG:4326\u001b[39;49m\u001b[38;5;124;43m\"\u001b[39;49m\u001b[43m)\u001b[49m[\u001b[38;5;241m0\u001b[39m]\n",
      "File \u001b[0;32m~/anaconda3/envs/graph/lib/python3.12/site-packages/geopandas/geoseries.py:229\u001b[0m, in \u001b[0;36mGeoSeries.__init__\u001b[0;34m(self, data, index, crs, **kwargs)\u001b[0m\n\u001b[1;32m    226\u001b[0m     index \u001b[38;5;241m=\u001b[39m s\u001b[38;5;241m.\u001b[39mindex\n\u001b[1;32m    227\u001b[0m     name \u001b[38;5;241m=\u001b[39m s\u001b[38;5;241m.\u001b[39mname\n\u001b[0;32m--> 229\u001b[0m \u001b[38;5;28;43msuper\u001b[39;49m\u001b[43m(\u001b[49m\u001b[43m)\u001b[49m\u001b[38;5;241;43m.\u001b[39;49m\u001b[38;5;21;43m__init__\u001b[39;49m\u001b[43m(\u001b[49m\u001b[43mdata\u001b[49m\u001b[43m,\u001b[49m\u001b[43m \u001b[49m\u001b[43mindex\u001b[49m\u001b[38;5;241;43m=\u001b[39;49m\u001b[43mindex\u001b[49m\u001b[43m,\u001b[49m\u001b[43m \u001b[49m\u001b[43mname\u001b[49m\u001b[38;5;241;43m=\u001b[39;49m\u001b[43mname\u001b[49m\u001b[43m,\u001b[49m\u001b[43m \u001b[49m\u001b[38;5;241;43m*\u001b[39;49m\u001b[38;5;241;43m*\u001b[39;49m\u001b[43mkwargs\u001b[49m\u001b[43m)\u001b[49m\n\u001b[1;32m    230\u001b[0m \u001b[38;5;28;01mif\u001b[39;00m \u001b[38;5;129;01mnot\u001b[39;00m \u001b[38;5;28mself\u001b[39m\u001b[38;5;241m.\u001b[39mcrs:\n\u001b[1;32m    231\u001b[0m     \u001b[38;5;28mself\u001b[39m\u001b[38;5;241m.\u001b[39mcrs \u001b[38;5;241m=\u001b[39m crs\n",
      "File \u001b[0;32m~/anaconda3/envs/graph/lib/python3.12/site-packages/pandas/core/series.py:584\u001b[0m, in \u001b[0;36mSeries.__init__\u001b[0;34m(self, data, index, dtype, name, copy, fastpath)\u001b[0m\n\u001b[1;32m    582\u001b[0m         data \u001b[38;5;241m=\u001b[39m data\u001b[38;5;241m.\u001b[39mcopy()\n\u001b[1;32m    583\u001b[0m \u001b[38;5;28;01melse\u001b[39;00m:\n\u001b[0;32m--> 584\u001b[0m     data \u001b[38;5;241m=\u001b[39m \u001b[43msanitize_array\u001b[49m\u001b[43m(\u001b[49m\u001b[43mdata\u001b[49m\u001b[43m,\u001b[49m\u001b[43m \u001b[49m\u001b[43mindex\u001b[49m\u001b[43m,\u001b[49m\u001b[43m \u001b[49m\u001b[43mdtype\u001b[49m\u001b[43m,\u001b[49m\u001b[43m \u001b[49m\u001b[43mcopy\u001b[49m\u001b[43m)\u001b[49m\n\u001b[1;32m    586\u001b[0m     manager \u001b[38;5;241m=\u001b[39m _get_option(\u001b[38;5;124m\"\u001b[39m\u001b[38;5;124mmode.data_manager\u001b[39m\u001b[38;5;124m\"\u001b[39m, silent\u001b[38;5;241m=\u001b[39m\u001b[38;5;28;01mTrue\u001b[39;00m)\n\u001b[1;32m    587\u001b[0m     \u001b[38;5;28;01mif\u001b[39;00m manager \u001b[38;5;241m==\u001b[39m \u001b[38;5;124m\"\u001b[39m\u001b[38;5;124mblock\u001b[39m\u001b[38;5;124m\"\u001b[39m:\n",
      "File \u001b[0;32m~/anaconda3/envs/graph/lib/python3.12/site-packages/pandas/core/construction.py:551\u001b[0m, in \u001b[0;36msanitize_array\u001b[0;34m(data, index, dtype, copy, allow_2d)\u001b[0m\n\u001b[1;32m    548\u001b[0m     dtype \u001b[38;5;241m=\u001b[39m dtype\u001b[38;5;241m.\u001b[39mnumpy_dtype\n\u001b[1;32m    550\u001b[0m object_index \u001b[38;5;241m=\u001b[39m \u001b[38;5;28;01mFalse\u001b[39;00m\n\u001b[0;32m--> 551\u001b[0m \u001b[38;5;28;01mif\u001b[39;00m \u001b[38;5;28;43misinstance\u001b[39;49m\u001b[43m(\u001b[49m\u001b[43mdata\u001b[49m\u001b[43m,\u001b[49m\u001b[43m \u001b[49m\u001b[43mABCIndex\u001b[49m\u001b[43m)\u001b[49m \u001b[38;5;129;01mand\u001b[39;00m data\u001b[38;5;241m.\u001b[39mdtype \u001b[38;5;241m==\u001b[39m \u001b[38;5;28mobject\u001b[39m \u001b[38;5;129;01mand\u001b[39;00m dtype \u001b[38;5;129;01mis\u001b[39;00m \u001b[38;5;28;01mNone\u001b[39;00m:\n\u001b[1;32m    552\u001b[0m     object_index \u001b[38;5;241m=\u001b[39m \u001b[38;5;28;01mTrue\u001b[39;00m\n\u001b[1;32m    554\u001b[0m \u001b[38;5;66;03m# extract ndarray or ExtensionArray, ensure we have no NumpyExtensionArray\u001b[39;00m\n",
      "File \u001b[0;32m~/anaconda3/envs/graph/lib/python3.12/site-packages/pandas/core/dtypes/generic.py:42\u001b[0m, in \u001b[0;36mcreate_pandas_abc_type.<locals>._instancecheck\u001b[0;34m(cls, inst)\u001b[0m\n\u001b[1;32m     38\u001b[0m     \u001b[38;5;28;01mreturn\u001b[39;00m \u001b[38;5;28mgetattr\u001b[39m(inst, attr, \u001b[38;5;124m\"\u001b[39m\u001b[38;5;124m_typ\u001b[39m\u001b[38;5;124m\"\u001b[39m) \u001b[38;5;129;01min\u001b[39;00m comp\n\u001b[1;32m     40\u001b[0m \u001b[38;5;66;03m# https://github.com/python/mypy/issues/1006\u001b[39;00m\n\u001b[1;32m     41\u001b[0m \u001b[38;5;66;03m# error: 'classmethod' used with a non-method\u001b[39;00m\n\u001b[0;32m---> 42\u001b[0m \u001b[38;5;129m@classmethod\u001b[39m  \u001b[38;5;66;03m# type: ignore[misc]\u001b[39;00m\n\u001b[1;32m     43\u001b[0m \u001b[38;5;28;01mdef\u001b[39;00m \u001b[38;5;21m_instancecheck\u001b[39m(\u001b[38;5;28mcls\u001b[39m, inst) \u001b[38;5;241m-\u001b[39m\u001b[38;5;241m>\u001b[39m \u001b[38;5;28mbool\u001b[39m:\n\u001b[1;32m     44\u001b[0m     \u001b[38;5;28;01mreturn\u001b[39;00m _check(inst) \u001b[38;5;129;01mand\u001b[39;00m \u001b[38;5;129;01mnot\u001b[39;00m \u001b[38;5;28misinstance\u001b[39m(inst, \u001b[38;5;28mtype\u001b[39m)\n\u001b[1;32m     46\u001b[0m \u001b[38;5;129m@classmethod\u001b[39m  \u001b[38;5;66;03m# type: ignore[misc]\u001b[39;00m\n\u001b[1;32m     47\u001b[0m \u001b[38;5;28;01mdef\u001b[39;00m \u001b[38;5;21m_subclasscheck\u001b[39m(\u001b[38;5;28mcls\u001b[39m, inst) \u001b[38;5;241m-\u001b[39m\u001b[38;5;241m>\u001b[39m \u001b[38;5;28mbool\u001b[39m:\n\u001b[1;32m     48\u001b[0m     \u001b[38;5;66;03m# Raise instead of returning False\u001b[39;00m\n\u001b[1;32m     49\u001b[0m     \u001b[38;5;66;03m# This is consistent with default __subclasscheck__ behavior\u001b[39;00m\n",
      "\u001b[0;31mKeyboardInterrupt\u001b[0m: "
     ]
    }
   ],
   "source": [
    "streets = gpd.read_file('data/Centerline_20240520')\n",
    "streets.to_crs(crs=\"EPSG:4326\", inplace=True)\n",
    "streets['geometry'] = [line_to_polygon(x, y, 15) for x, y in tqdm(zip(streets['geometry'], streets['ST_WIDTH']), total=len(streets))]"
   ]
  },
  {
   "cell_type": "code",
   "execution_count": null,
   "metadata": {},
   "outputs": [
    {
     "data": {
      "application/vnd.jupyter.widget-view+json": {
       "model_id": "3a981c03425141749bda2d70b10333e9",
       "version_major": 2,
       "version_minor": 0
      },
      "text/plain": [
       "  0%|          | 0/695183 [00:00<?, ?it/s]"
      ]
     },
     "metadata": {},
     "output_type": "display_data"
    }
   ],
   "source": [
    "buildings = pd.read_csv('data/nyc_all_geos.csv')\n",
    "buildings.dropna(subset='geometry', inplace=True)\n",
    "buildings = load_geos(buildings)"
   ]
  },
  {
   "cell_type": "code",
   "execution_count": null,
   "metadata": {},
   "outputs": [
    {
     "data": {
      "text/html": [
       "<div>\n",
       "<style scoped>\n",
       "    .dataframe tbody tr th:only-of-type {\n",
       "        vertical-align: middle;\n",
       "    }\n",
       "\n",
       "    .dataframe tbody tr th {\n",
       "        vertical-align: top;\n",
       "    }\n",
       "\n",
       "    .dataframe thead th {\n",
       "        text-align: right;\n",
       "    }\n",
       "</style>\n",
       "<table border=\"1\" class=\"dataframe\">\n",
       "  <thead>\n",
       "    <tr style=\"text-align: right;\">\n",
       "      <th></th>\n",
       "      <th>id</th>\n",
       "      <th>display_address</th>\n",
       "      <th>PHYSICALID</th>\n",
       "      <th>ST_LABEL</th>\n",
       "    </tr>\n",
       "  </thead>\n",
       "  <tbody>\n",
       "    <tr>\n",
       "      <th>0</th>\n",
       "      <td>1</td>\n",
       "      <td>11 Stone Street</td>\n",
       "      <td>79615.0</td>\n",
       "      <td>STONE ST</td>\n",
       "    </tr>\n",
       "    <tr>\n",
       "      <th>1</th>\n",
       "      <td>2</td>\n",
       "      <td>17 State Street</td>\n",
       "      <td>145498.0</td>\n",
       "      <td>STATE ST</td>\n",
       "    </tr>\n",
       "    <tr>\n",
       "      <th>1</th>\n",
       "      <td>2</td>\n",
       "      <td>17 State Street</td>\n",
       "      <td>82.0</td>\n",
       "      <td>PEARL ST</td>\n",
       "    </tr>\n",
       "    <tr>\n",
       "      <th>2</th>\n",
       "      <td>3</td>\n",
       "      <td>80 Wall Street</td>\n",
       "      <td>165.0</td>\n",
       "      <td>WALL ST</td>\n",
       "    </tr>\n",
       "    <tr>\n",
       "      <th>2</th>\n",
       "      <td>3</td>\n",
       "      <td>80 Wall Street</td>\n",
       "      <td>90.0</td>\n",
       "      <td>PEARL ST</td>\n",
       "    </tr>\n",
       "    <tr>\n",
       "      <th>...</th>\n",
       "      <td>...</td>\n",
       "      <td>...</td>\n",
       "      <td>...</td>\n",
       "      <td>...</td>\n",
       "    </tr>\n",
       "    <tr>\n",
       "      <th>698312</th>\n",
       "      <td>7259154</td>\n",
       "      <td>149-53 HAWTREE STREET</td>\n",
       "      <td>90682.0</td>\n",
       "      <td>HAWTREE CREEK RD</td>\n",
       "    </tr>\n",
       "    <tr>\n",
       "      <th>698317</th>\n",
       "      <td>17208277</td>\n",
       "      <td>491 Bedford Avenue</td>\n",
       "      <td>42854.0</td>\n",
       "      <td>16 AVE</td>\n",
       "    </tr>\n",
       "    <tr>\n",
       "      <th>698320</th>\n",
       "      <td>17208397</td>\n",
       "      <td>637 MADISON STREET</td>\n",
       "      <td>NaN</td>\n",
       "      <td>NaN</td>\n",
       "    </tr>\n",
       "    <tr>\n",
       "      <th>698322</th>\n",
       "      <td>17208410</td>\n",
       "      <td>149-49 Hawtree Street</td>\n",
       "      <td>33788.0</td>\n",
       "      <td>LINDEN BLVD</td>\n",
       "    </tr>\n",
       "    <tr>\n",
       "      <th>698336</th>\n",
       "      <td>17209145</td>\n",
       "      <td>122 Pine Street</td>\n",
       "      <td>101114.0</td>\n",
       "      <td>PINE ST</td>\n",
       "    </tr>\n",
       "  </tbody>\n",
       "</table>\n",
       "<p>891457 rows × 4 columns</p>\n",
       "</div>"
      ],
      "text/plain": [
       "              id        display_address  PHYSICALID          ST_LABEL\n",
       "0              1        11 Stone Street     79615.0          STONE ST\n",
       "1              2        17 State Street    145498.0          STATE ST\n",
       "1              2        17 State Street        82.0          PEARL ST\n",
       "2              3         80 Wall Street       165.0           WALL ST\n",
       "2              3         80 Wall Street        90.0          PEARL ST\n",
       "...          ...                    ...         ...               ...\n",
       "698312   7259154  149-53 HAWTREE STREET     90682.0  HAWTREE CREEK RD\n",
       "698317  17208277     491 Bedford Avenue     42854.0            16 AVE\n",
       "698320  17208397     637 MADISON STREET         NaN               NaN\n",
       "698322  17208410  149-49 Hawtree Street     33788.0       LINDEN BLVD\n",
       "698336  17209145        122 Pine Street    101114.0           PINE ST\n",
       "\n",
       "[891457 rows x 4 columns]"
      ]
     },
     "execution_count": 6,
     "metadata": {},
     "output_type": "execute_result"
    }
   ],
   "source": [
    "buildings_x_streets = buildings.sjoin(streets, how='left', predicate='intersects')\n",
    "buildings_x_streets[['id', 'display_address', 'PHYSICALID', 'ST_LABEL']]"
   ]
  },
  {
   "cell_type": "code",
   "execution_count": null,
   "metadata": {},
   "outputs": [
    {
     "name": "stdout",
     "output_type": "stream",
     "text": [
      "number of buildings with street matches: 686052,\n",
      "number of buildings without street matches: 9131,\n",
      "percent of matches: 98.69%\n"
     ]
    }
   ],
   "source": [
    "matches = buildings_x_streets[~pd.isna(buildings_x_streets[\"PHYSICALID\"])]\n",
    "no_matches = buildings_x_streets[pd.isna(buildings_x_streets[\"PHYSICALID\"])]\n",
    "print(f'number of buildings with street matches: {matches[\"id\"].nunique()},\\nnumber of buildings without street matches: {no_matches[\"id\"].nunique()},\\npercent of matches: {matches[\"id\"].nunique()/len(buildings) * 100:.2f}%')"
   ]
  },
  {
   "cell_type": "code",
   "execution_count": null,
   "metadata": {},
   "outputs": [],
   "source": [
    "matched_list = set(matches['id'].values)\n",
    "buildings['found_street'] = [True if x in matched_list else False for x in buildings['id']]"
   ]
  },
  {
   "cell_type": "markdown",
   "metadata": {},
   "source": [
    "## Visualize Matches\n",
    "The next section is visualizing the building to street matches."
   ]
  },
  {
   "cell_type": "code",
   "execution_count": null,
   "metadata": {},
   "outputs": [],
   "source": [
    "building_style = lambda x: {\n",
    "  'color' : 'green' if x['properties']['found_street'] else 'orange',\n",
    "  'opacity' : 0.50,\n",
    "  'weight' : 2,\n",
    "}"
   ]
  },
  {
   "cell_type": "code",
   "execution_count": null,
   "metadata": {},
   "outputs": [],
   "source": [
    "buildings_sample = buildings.sample(10000, random_state=42)"
   ]
  },
  {
   "cell_type": "code",
   "execution_count": null,
   "metadata": {},
   "outputs": [
    {
     "data": {
      "text/html": [
       "<div>\n",
       "<style scoped>\n",
       "    .dataframe tbody tr th:only-of-type {\n",
       "        vertical-align: middle;\n",
       "    }\n",
       "\n",
       "    .dataframe tbody tr th {\n",
       "        vertical-align: top;\n",
       "    }\n",
       "\n",
       "    .dataframe thead th {\n",
       "        text-align: right;\n",
       "    }\n",
       "</style>\n",
       "<table border=\"1\" class=\"dataframe\">\n",
       "  <thead>\n",
       "    <tr style=\"text-align: right;\">\n",
       "      <th></th>\n",
       "      <th>id</th>\n",
       "      <th>display_address</th>\n",
       "      <th>geometry</th>\n",
       "      <th>found_street</th>\n",
       "    </tr>\n",
       "  </thead>\n",
       "  <tbody>\n",
       "    <tr>\n",
       "      <th>0</th>\n",
       "      <td>1</td>\n",
       "      <td>11 Stone Street</td>\n",
       "      <td>MULTIPOLYGON (((-74.01215 40.70409, -74.01231 ...</td>\n",
       "      <td>True</td>\n",
       "    </tr>\n",
       "    <tr>\n",
       "      <th>1</th>\n",
       "      <td>2</td>\n",
       "      <td>17 State Street</td>\n",
       "      <td>MULTIPOLYGON (((-74.01355 40.70307, -74.01355 ...</td>\n",
       "      <td>True</td>\n",
       "    </tr>\n",
       "    <tr>\n",
       "      <th>2</th>\n",
       "      <td>3</td>\n",
       "      <td>80 Wall Street</td>\n",
       "      <td>MULTIPOLYGON (((-74.00748 40.70565, -74.00752 ...</td>\n",
       "      <td>True</td>\n",
       "    </tr>\n",
       "    <tr>\n",
       "      <th>3</th>\n",
       "      <td>4</td>\n",
       "      <td>42 Water Street</td>\n",
       "      <td>MULTIPOLYGON (((-74.01021 40.70365, -74.01007 ...</td>\n",
       "      <td>True</td>\n",
       "    </tr>\n",
       "    <tr>\n",
       "      <th>4</th>\n",
       "      <td>5</td>\n",
       "      <td>32 Pearl Street</td>\n",
       "      <td>MULTIPOLYGON (((-74.01212 40.70307, -74.01220 ...</td>\n",
       "      <td>True</td>\n",
       "    </tr>\n",
       "  </tbody>\n",
       "</table>\n",
       "</div>"
      ],
      "text/plain": [
       "   id  display_address                                           geometry  \\\n",
       "0   1  11 Stone Street  MULTIPOLYGON (((-74.01215 40.70409, -74.01231 ...   \n",
       "1   2  17 State Street  MULTIPOLYGON (((-74.01355 40.70307, -74.01355 ...   \n",
       "2   3   80 Wall Street  MULTIPOLYGON (((-74.00748 40.70565, -74.00752 ...   \n",
       "3   4  42 Water Street  MULTIPOLYGON (((-74.01021 40.70365, -74.01007 ...   \n",
       "4   5  32 Pearl Street  MULTIPOLYGON (((-74.01212 40.70307, -74.01220 ...   \n",
       "\n",
       "   found_street  \n",
       "0          True  \n",
       "1          True  \n",
       "2          True  \n",
       "3          True  \n",
       "4          True  "
      ]
     },
     "execution_count": 9,
     "metadata": {},
     "output_type": "execute_result"
    }
   ],
   "source": [
    "buildings.head()"
   ]
  },
  {
   "cell_type": "code",
   "execution_count": null,
   "metadata": {},
   "outputs": [
    {
     "data": {
      "text/plain": [
       "'\\nm = folium.Map(location=[40.70, -73.94], zoom_start=10, tiles=\"CartoDB positron\")\\n\\nstreets_viz = folium.GeoJson(streets[[\\'PHYSICALID\\', \\'ST_LABEL\\', \\'geometry\\']],\\n                             highlight_function=lambda x: {\"fillOpacity\": 0.8},\\n                             zoom_on_click=True)#,tooltip=folium.GeoJsonTooltip(fields=[\\'PHYSICALID\\', \\'ST_LABEL\\']))\\nstreets_viz.add_to(m)\\nm.keep_in_front(streets_viz)'"
      ]
     },
     "execution_count": 10,
     "metadata": {},
     "output_type": "execute_result"
    }
   ],
   "source": [
    "'''\n",
    "m = folium.Map(location=[40.70, -73.94], zoom_start=10, tiles=\"CartoDB positron\")\n",
    "\n",
    "streets_viz = folium.GeoJson(streets[['PHYSICALID', 'ST_LABEL', 'geometry']],\n",
    "                             highlight_function=lambda x: {\"fillOpacity\": 0.8},\n",
    "                             zoom_on_click=True)#,tooltip=folium.GeoJsonTooltip(fields=['PHYSICALID', 'ST_LABEL']))\n",
    "streets_viz.add_to(m)\n",
    "m.keep_in_front(streets_viz)'''"
   ]
  },
  {
   "cell_type": "code",
   "execution_count": null,
   "metadata": {},
   "outputs": [
    {
     "data": {
      "text/plain": [
       "'buildings_viz = folium.GeoJson(buildings[buildings[\\'found_street\\'] == False][[\\'id\\', \\'display_address\\', \\'geometry\\', \\'found_street\\']].reset_index(), \\n                               style_function=building_style, highlight_function=lambda x: {\"fillOpacity\": 0.8}, \\n                               tooltip=folium.GeoJsonTooltip(fields=[\\'id\\', \\'display_address\\']))\\nbuildings_viz.add_to(m)\\nm.keep_in_front(buildings_viz)\\nm'"
      ]
     },
     "execution_count": 11,
     "metadata": {},
     "output_type": "execute_result"
    }
   ],
   "source": [
    "'''buildings_viz = folium.GeoJson(buildings[buildings['found_street'] == False][['id', 'display_address', 'geometry', 'found_street']].reset_index(), \n",
    "                               style_function=building_style, highlight_function=lambda x: {\"fillOpacity\": 0.8}, \n",
    "                               tooltip=folium.GeoJsonTooltip(fields=['id', 'display_address']))\n",
    "buildings_viz.add_to(m)\n",
    "m.keep_in_front(buildings_viz)\n",
    "m'''"
   ]
  },
  {
   "cell_type": "code",
   "execution_count": null,
   "metadata": {},
   "outputs": [
    {
     "data": {
      "text/html": [
       "<div>\n",
       "<style scoped>\n",
       "    .dataframe tbody tr th:only-of-type {\n",
       "        vertical-align: middle;\n",
       "    }\n",
       "\n",
       "    .dataframe tbody tr th {\n",
       "        vertical-align: top;\n",
       "    }\n",
       "\n",
       "    .dataframe thead th {\n",
       "        text-align: right;\n",
       "    }\n",
       "</style>\n",
       "<table border=\"1\" class=\"dataframe\">\n",
       "  <thead>\n",
       "    <tr style=\"text-align: right;\">\n",
       "      <th></th>\n",
       "      <th>id</th>\n",
       "      <th>display_address</th>\n",
       "      <th>geometry</th>\n",
       "      <th>found_street</th>\n",
       "    </tr>\n",
       "  </thead>\n",
       "  <tbody>\n",
       "    <tr>\n",
       "      <th>0</th>\n",
       "      <td>1</td>\n",
       "      <td>11 Stone Street</td>\n",
       "      <td>MULTIPOLYGON (((-74.01215 40.70409, -74.01231 ...</td>\n",
       "      <td>True</td>\n",
       "    </tr>\n",
       "    <tr>\n",
       "      <th>1</th>\n",
       "      <td>2</td>\n",
       "      <td>17 State Street</td>\n",
       "      <td>MULTIPOLYGON (((-74.01355 40.70307, -74.01355 ...</td>\n",
       "      <td>True</td>\n",
       "    </tr>\n",
       "    <tr>\n",
       "      <th>2</th>\n",
       "      <td>3</td>\n",
       "      <td>80 Wall Street</td>\n",
       "      <td>MULTIPOLYGON (((-74.00748 40.70565, -74.00752 ...</td>\n",
       "      <td>True</td>\n",
       "    </tr>\n",
       "    <tr>\n",
       "      <th>3</th>\n",
       "      <td>4</td>\n",
       "      <td>42 Water Street</td>\n",
       "      <td>MULTIPOLYGON (((-74.01021 40.70365, -74.01007 ...</td>\n",
       "      <td>True</td>\n",
       "    </tr>\n",
       "    <tr>\n",
       "      <th>4</th>\n",
       "      <td>5</td>\n",
       "      <td>32 Pearl Street</td>\n",
       "      <td>MULTIPOLYGON (((-74.01212 40.70307, -74.01220 ...</td>\n",
       "      <td>True</td>\n",
       "    </tr>\n",
       "  </tbody>\n",
       "</table>\n",
       "</div>"
      ],
      "text/plain": [
       "   id  display_address                                           geometry  \\\n",
       "0   1  11 Stone Street  MULTIPOLYGON (((-74.01215 40.70409, -74.01231 ...   \n",
       "1   2  17 State Street  MULTIPOLYGON (((-74.01355 40.70307, -74.01355 ...   \n",
       "2   3   80 Wall Street  MULTIPOLYGON (((-74.00748 40.70565, -74.00752 ...   \n",
       "3   4  42 Water Street  MULTIPOLYGON (((-74.01021 40.70365, -74.01007 ...   \n",
       "4   5  32 Pearl Street  MULTIPOLYGON (((-74.01212 40.70307, -74.01220 ...   \n",
       "\n",
       "   found_street  \n",
       "0          True  \n",
       "1          True  \n",
       "2          True  \n",
       "3          True  \n",
       "4          True  "
      ]
     },
     "execution_count": 12,
     "metadata": {},
     "output_type": "execute_result"
    }
   ],
   "source": [
    "buildings.head()"
   ]
  },
  {
   "cell_type": "code",
   "execution_count": null,
   "metadata": {},
   "outputs": [
    {
     "data": {
      "text/plain": [
       "geopandas.geodataframe.GeoDataFrame"
      ]
     },
     "execution_count": 13,
     "metadata": {},
     "output_type": "execute_result"
    }
   ],
   "source": [
    "type(buildings)"
   ]
  },
  {
   "cell_type": "code",
   "execution_count": null,
   "metadata": {},
   "outputs": [
    {
     "data": {
      "text/html": [
       "<div>\n",
       "<style scoped>\n",
       "    .dataframe tbody tr th:only-of-type {\n",
       "        vertical-align: middle;\n",
       "    }\n",
       "\n",
       "    .dataframe tbody tr th {\n",
       "        vertical-align: top;\n",
       "    }\n",
       "\n",
       "    .dataframe thead th {\n",
       "        text-align: right;\n",
       "    }\n",
       "</style>\n",
       "<table border=\"1\" class=\"dataframe\">\n",
       "  <thead>\n",
       "    <tr style=\"text-align: right;\">\n",
       "      <th></th>\n",
       "      <th>id</th>\n",
       "      <th>display_address</th>\n",
       "      <th>geometry</th>\n",
       "      <th>index_right</th>\n",
       "      <th>PHYSICALID</th>\n",
       "      <th>L_LOW_HN</th>\n",
       "      <th>L_HIGH_HN</th>\n",
       "      <th>R_LOW_HN</th>\n",
       "      <th>R_HIGH_HN</th>\n",
       "      <th>L_ZIP</th>\n",
       "      <th>...</th>\n",
       "      <th>PRE_DIRECT</th>\n",
       "      <th>PRE_TYPE</th>\n",
       "      <th>POST_TYPE</th>\n",
       "      <th>POST_DIREC</th>\n",
       "      <th>POST_MODIF</th>\n",
       "      <th>FULL_STREE</th>\n",
       "      <th>ST_NAME</th>\n",
       "      <th>BIKE_TRAFD</th>\n",
       "      <th>SEGMENT_TY</th>\n",
       "      <th>SHAPE_Leng</th>\n",
       "    </tr>\n",
       "  </thead>\n",
       "  <tbody>\n",
       "    <tr>\n",
       "      <th>245485</th>\n",
       "      <td>252032</td>\n",
       "      <td>116 South Elliott Place</td>\n",
       "      <td>MULTIPOLYGON (((-73.97548 40.68595, -73.97583 ...</td>\n",
       "      <td>56105.0</td>\n",
       "      <td>62747.0</td>\n",
       "      <td>91</td>\n",
       "      <td>127</td>\n",
       "      <td>88</td>\n",
       "      <td>132</td>\n",
       "      <td>11217</td>\n",
       "      <td>...</td>\n",
       "      <td>S</td>\n",
       "      <td>NaN</td>\n",
       "      <td>PL</td>\n",
       "      <td>NaN</td>\n",
       "      <td>NaN</td>\n",
       "      <td>S  ELLIOTT PL</td>\n",
       "      <td>ELLIOTT</td>\n",
       "      <td>NaN</td>\n",
       "      <td>U</td>\n",
       "      <td>498.244272</td>\n",
       "    </tr>\n",
       "  </tbody>\n",
       "</table>\n",
       "<p>1 rows × 36 columns</p>\n",
       "</div>"
      ],
      "text/plain": [
       "            id          display_address  \\\n",
       "245485  252032  116 South Elliott Place   \n",
       "\n",
       "                                                 geometry  index_right  \\\n",
       "245485  MULTIPOLYGON (((-73.97548 40.68595, -73.97583 ...      56105.0   \n",
       "\n",
       "        PHYSICALID L_LOW_HN L_HIGH_HN R_LOW_HN R_HIGH_HN  L_ZIP  ...  \\\n",
       "245485     62747.0       91       127       88       132  11217  ...   \n",
       "\n",
       "       PRE_DIRECT  PRE_TYPE  POST_TYPE POST_DIREC POST_MODIF     FULL_STREE  \\\n",
       "245485          S       NaN         PL        NaN        NaN  S  ELLIOTT PL   \n",
       "\n",
       "        ST_NAME  BIKE_TRAFD SEGMENT_TY  SHAPE_Leng  \n",
       "245485  ELLIOTT         NaN          U  498.244272  \n",
       "\n",
       "[1 rows x 36 columns]"
      ]
     },
     "execution_count": 14,
     "metadata": {},
     "output_type": "execute_result"
    }
   ],
   "source": [
    "matches[matches['id'] == 252032]"
   ]
  },
  {
   "cell_type": "code",
   "execution_count": null,
   "metadata": {},
   "outputs": [
    {
     "data": {
      "text/html": [
       "<div>\n",
       "<style scoped>\n",
       "    .dataframe tbody tr th:only-of-type {\n",
       "        vertical-align: middle;\n",
       "    }\n",
       "\n",
       "    .dataframe tbody tr th {\n",
       "        vertical-align: top;\n",
       "    }\n",
       "\n",
       "    .dataframe thead th {\n",
       "        text-align: right;\n",
       "    }\n",
       "</style>\n",
       "<table border=\"1\" class=\"dataframe\">\n",
       "  <thead>\n",
       "    <tr style=\"text-align: right;\">\n",
       "      <th></th>\n",
       "      <th>id</th>\n",
       "      <th>display_address</th>\n",
       "      <th>geometry</th>\n",
       "      <th>found_street</th>\n",
       "    </tr>\n",
       "  </thead>\n",
       "  <tbody>\n",
       "    <tr>\n",
       "      <th>245485</th>\n",
       "      <td>252032</td>\n",
       "      <td>116 South Elliott Place</td>\n",
       "      <td>MULTIPOLYGON (((-73.97548 40.68595, -73.97583 ...</td>\n",
       "      <td>True</td>\n",
       "    </tr>\n",
       "  </tbody>\n",
       "</table>\n",
       "</div>"
      ],
      "text/plain": [
       "            id          display_address  \\\n",
       "245485  252032  116 South Elliott Place   \n",
       "\n",
       "                                                 geometry  found_street  \n",
       "245485  MULTIPOLYGON (((-73.97548 40.68595, -73.97583 ...          True  "
      ]
     },
     "execution_count": 15,
     "metadata": {},
     "output_type": "execute_result"
    }
   ],
   "source": [
    "buildings[buildings['id'] == 252032]"
   ]
  },
  {
   "cell_type": "code",
   "execution_count": null,
   "metadata": {},
   "outputs": [
    {
     "data": {
      "text/plain": [
       "1.0"
      ]
     },
     "execution_count": 16,
     "metadata": {},
     "output_type": "execute_result"
    }
   ],
   "source": [
    "len(buildings[buildings['found_street'] == False].sjoin_nearest(streets, how='inner'))/len(buildings[buildings['found_street'] == False])"
   ]
  },
  {
   "cell_type": "code",
   "execution_count": null,
   "metadata": {},
   "outputs": [
    {
     "data": {
      "text/plain": [
       "'m = folium.Map(location=[40.70, -73.94], zoom_start=10, tiles=\"CartoDB positron\")\\nfor _, r in tqdm(streets.iterrows(), total=len(streets)):\\n    sim_geo = gpd.GeoSeries(r[\"geometry\"])\\n    geo_j = sim_geo.to_json()\\n    geo_j = folium.GeoJson(data=geo_j, highlight_function=lambda x: {\"fillOpacity\": 0.8})\\n    folium.Tooltip(str(r[\\'PHYSICALID\\']) + \\': \\' + r[\"ST_LABEL\"]).add_to(geo_j)\\n    geo_j.add_to(m)'"
      ]
     },
     "execution_count": 18,
     "metadata": {},
     "output_type": "execute_result"
    }
   ],
   "source": [
    "'''m = folium.Map(location=[40.70, -73.94], zoom_start=10, tiles=\"CartoDB positron\")\n",
    "for _, r in tqdm(streets.iterrows(), total=len(streets)):\n",
    "    sim_geo = gpd.GeoSeries(r[\"geometry\"])\n",
    "    geo_j = sim_geo.to_json()\n",
    "    geo_j = folium.GeoJson(data=geo_j, highlight_function=lambda x: {\"fillOpacity\": 0.8})\n",
    "    folium.Tooltip(str(r['PHYSICALID']) + ': ' + r[\"ST_LABEL\"]).add_to(geo_j)\n",
    "    geo_j.add_to(m)'''"
   ]
  },
  {
   "cell_type": "code",
   "execution_count": null,
   "metadata": {},
   "outputs": [
    {
     "data": {
      "text/plain": [
       "'buildings_viz = folium.GeoJson(buildings_sample[[\\'id\\', \\'display_address\\', \\'geometry\\', \\'found_street\\', \\'ST_LABEL\\']].reset_index(), \\n                               style_function=building_style, highlight_function=lambda x: {\"fillOpacity\": 0.8}, zoom_on_click=True,\\n                               tooltip=folium.GeoJsonTooltip(fields=[\\'id\\', \\'display_address\\', \\'ST_LABEL\\']))\\nbuildings_viz.add_to(m)\\nm.keep_in_front(buildings_viz)'"
      ]
     },
     "execution_count": 19,
     "metadata": {},
     "output_type": "execute_result"
    }
   ],
   "source": [
    "'''buildings_viz = folium.GeoJson(buildings_sample[['id', 'display_address', 'geometry', 'found_street', 'ST_LABEL']].reset_index(), \n",
    "                               style_function=building_style, highlight_function=lambda x: {\"fillOpacity\": 0.8}, zoom_on_click=True,\n",
    "                               tooltip=folium.GeoJsonTooltip(fields=['id', 'display_address', 'ST_LABEL']))\n",
    "buildings_viz.add_to(m)\n",
    "m.keep_in_front(buildings_viz)'''"
   ]
  },
  {
   "cell_type": "code",
   "execution_count": null,
   "metadata": {},
   "outputs": [],
   "source": [
    "# m.save('data/unmatched_buildings.html')"
   ]
  },
  {
   "cell_type": "markdown",
   "metadata": {},
   "source": [
    "## Go with option 2 because sjoin_nearest() causes too many false positives\n",
    "\n",
    "1. check which street segments have fewer than normal buildings\n",
    "2. increase those street segements' widths\n",
    "3. rematch all buildings to capture corner buildings as well"
   ]
  },
  {
   "cell_type": "code",
   "execution_count": null,
   "metadata": {},
   "outputs": [
    {
     "data": {
      "text/html": [
       "<div>\n",
       "<style scoped>\n",
       "    .dataframe tbody tr th:only-of-type {\n",
       "        vertical-align: middle;\n",
       "    }\n",
       "\n",
       "    .dataframe tbody tr th {\n",
       "        vertical-align: top;\n",
       "    }\n",
       "\n",
       "    .dataframe thead th {\n",
       "        text-align: right;\n",
       "    }\n",
       "</style>\n",
       "<table border=\"1\" class=\"dataframe\">\n",
       "  <thead>\n",
       "    <tr style=\"text-align: right;\">\n",
       "      <th></th>\n",
       "      <th>id</th>\n",
       "      <th>display_address</th>\n",
       "      <th>geometry</th>\n",
       "      <th>index_right</th>\n",
       "      <th>PHYSICALID</th>\n",
       "      <th>L_LOW_HN</th>\n",
       "      <th>L_HIGH_HN</th>\n",
       "      <th>R_LOW_HN</th>\n",
       "      <th>R_HIGH_HN</th>\n",
       "      <th>L_ZIP</th>\n",
       "      <th>...</th>\n",
       "      <th>PRE_DIRECT</th>\n",
       "      <th>PRE_TYPE</th>\n",
       "      <th>POST_TYPE</th>\n",
       "      <th>POST_DIREC</th>\n",
       "      <th>POST_MODIF</th>\n",
       "      <th>FULL_STREE</th>\n",
       "      <th>ST_NAME</th>\n",
       "      <th>BIKE_TRAFD</th>\n",
       "      <th>SEGMENT_TY</th>\n",
       "      <th>SHAPE_Leng</th>\n",
       "    </tr>\n",
       "  </thead>\n",
       "  <tbody>\n",
       "    <tr>\n",
       "      <th>0</th>\n",
       "      <td>1</td>\n",
       "      <td>11 Stone Street</td>\n",
       "      <td>MULTIPOLYGON (((-74.01215 40.70409, -74.01231 ...</td>\n",
       "      <td>70702.0</td>\n",
       "      <td>79615.0</td>\n",
       "      <td>1</td>\n",
       "      <td>19</td>\n",
       "      <td>2</td>\n",
       "      <td>24</td>\n",
       "      <td>10004</td>\n",
       "      <td>...</td>\n",
       "      <td>NaN</td>\n",
       "      <td>NaN</td>\n",
       "      <td>ST</td>\n",
       "      <td>NaN</td>\n",
       "      <td>NaN</td>\n",
       "      <td>STONE ST</td>\n",
       "      <td>STONE</td>\n",
       "      <td>NaN</td>\n",
       "      <td>U</td>\n",
       "      <td>446.835827</td>\n",
       "    </tr>\n",
       "    <tr>\n",
       "      <th>1</th>\n",
       "      <td>2</td>\n",
       "      <td>17 State Street</td>\n",
       "      <td>MULTIPOLYGON (((-74.01355 40.70307, -74.01355 ...</td>\n",
       "      <td>102310.0</td>\n",
       "      <td>145498.0</td>\n",
       "      <td>17</td>\n",
       "      <td>19</td>\n",
       "      <td>16</td>\n",
       "      <td>20</td>\n",
       "      <td>10004</td>\n",
       "      <td>...</td>\n",
       "      <td>NaN</td>\n",
       "      <td>NaN</td>\n",
       "      <td>ST</td>\n",
       "      <td>NaN</td>\n",
       "      <td>NaN</td>\n",
       "      <td>STATE ST</td>\n",
       "      <td>STATE</td>\n",
       "      <td>NaN</td>\n",
       "      <td>U</td>\n",
       "      <td>323.530726</td>\n",
       "    </tr>\n",
       "    <tr>\n",
       "      <th>1</th>\n",
       "      <td>2</td>\n",
       "      <td>17 State Street</td>\n",
       "      <td>MULTIPOLYGON (((-74.01355 40.70307, -74.01355 ...</td>\n",
       "      <td>52.0</td>\n",
       "      <td>82.0</td>\n",
       "      <td>1</td>\n",
       "      <td>23</td>\n",
       "      <td>2</td>\n",
       "      <td>24</td>\n",
       "      <td>10004</td>\n",
       "      <td>...</td>\n",
       "      <td>NaN</td>\n",
       "      <td>NaN</td>\n",
       "      <td>ST</td>\n",
       "      <td>NaN</td>\n",
       "      <td>NaN</td>\n",
       "      <td>PEARL ST</td>\n",
       "      <td>PEARL</td>\n",
       "      <td>TF</td>\n",
       "      <td>U</td>\n",
       "      <td>397.482660</td>\n",
       "    </tr>\n",
       "    <tr>\n",
       "      <th>2</th>\n",
       "      <td>3</td>\n",
       "      <td>80 Wall Street</td>\n",
       "      <td>MULTIPOLYGON (((-74.00748 40.70565, -74.00752 ...</td>\n",
       "      <td>125.0</td>\n",
       "      <td>165.0</td>\n",
       "      <td>78</td>\n",
       "      <td>90</td>\n",
       "      <td>75</td>\n",
       "      <td>93</td>\n",
       "      <td>10005</td>\n",
       "      <td>...</td>\n",
       "      <td>NaN</td>\n",
       "      <td>NaN</td>\n",
       "      <td>ST</td>\n",
       "      <td>NaN</td>\n",
       "      <td>NaN</td>\n",
       "      <td>WALL ST</td>\n",
       "      <td>WALL</td>\n",
       "      <td>NaN</td>\n",
       "      <td>U</td>\n",
       "      <td>203.319704</td>\n",
       "    </tr>\n",
       "    <tr>\n",
       "      <th>2</th>\n",
       "      <td>3</td>\n",
       "      <td>80 Wall Street</td>\n",
       "      <td>MULTIPOLYGON (((-74.00748 40.70565, -74.00752 ...</td>\n",
       "      <td>60.0</td>\n",
       "      <td>90.0</td>\n",
       "      <td>157</td>\n",
       "      <td>169</td>\n",
       "      <td>154</td>\n",
       "      <td>168</td>\n",
       "      <td>10005</td>\n",
       "      <td>...</td>\n",
       "      <td>NaN</td>\n",
       "      <td>NaN</td>\n",
       "      <td>ST</td>\n",
       "      <td>NaN</td>\n",
       "      <td>NaN</td>\n",
       "      <td>PEARL ST</td>\n",
       "      <td>PEARL</td>\n",
       "      <td>TF</td>\n",
       "      <td>U</td>\n",
       "      <td>229.746461</td>\n",
       "    </tr>\n",
       "  </tbody>\n",
       "</table>\n",
       "<p>5 rows × 36 columns</p>\n",
       "</div>"
      ],
      "text/plain": [
       "   id  display_address                                           geometry  \\\n",
       "0   1  11 Stone Street  MULTIPOLYGON (((-74.01215 40.70409, -74.01231 ...   \n",
       "1   2  17 State Street  MULTIPOLYGON (((-74.01355 40.70307, -74.01355 ...   \n",
       "1   2  17 State Street  MULTIPOLYGON (((-74.01355 40.70307, -74.01355 ...   \n",
       "2   3   80 Wall Street  MULTIPOLYGON (((-74.00748 40.70565, -74.00752 ...   \n",
       "2   3   80 Wall Street  MULTIPOLYGON (((-74.00748 40.70565, -74.00752 ...   \n",
       "\n",
       "   index_right  PHYSICALID L_LOW_HN L_HIGH_HN R_LOW_HN R_HIGH_HN  L_ZIP  ...  \\\n",
       "0      70702.0     79615.0        1        19        2        24  10004  ...   \n",
       "1     102310.0    145498.0       17        19       16        20  10004  ...   \n",
       "1         52.0        82.0        1        23        2        24  10004  ...   \n",
       "2        125.0       165.0       78        90       75        93  10005  ...   \n",
       "2         60.0        90.0      157       169      154       168  10005  ...   \n",
       "\n",
       "  PRE_DIRECT  PRE_TYPE  POST_TYPE POST_DIREC POST_MODIF FULL_STREE ST_NAME  \\\n",
       "0        NaN       NaN         ST        NaN        NaN   STONE ST   STONE   \n",
       "1        NaN       NaN         ST        NaN        NaN   STATE ST   STATE   \n",
       "1        NaN       NaN         ST        NaN        NaN   PEARL ST   PEARL   \n",
       "2        NaN       NaN         ST        NaN        NaN    WALL ST    WALL   \n",
       "2        NaN       NaN         ST        NaN        NaN   PEARL ST   PEARL   \n",
       "\n",
       "   BIKE_TRAFD SEGMENT_TY  SHAPE_Leng  \n",
       "0         NaN          U  446.835827  \n",
       "1         NaN          U  323.530726  \n",
       "1          TF          U  397.482660  \n",
       "2         NaN          U  203.319704  \n",
       "2          TF          U  229.746461  \n",
       "\n",
       "[5 rows x 36 columns]"
      ]
     },
     "execution_count": 21,
     "metadata": {},
     "output_type": "execute_result"
    }
   ],
   "source": [
    "buildings_x_streets.head()"
   ]
  },
  {
   "cell_type": "code",
   "execution_count": null,
   "metadata": {},
   "outputs": [],
   "source": [
    "buildings_x_streets['street_segment'] = buildings_x_streets['PHYSICALID'].astype(str) + ': ' + buildings_x_streets['ST_LABEL']"
   ]
  },
  {
   "cell_type": "code",
   "execution_count": null,
   "metadata": {},
   "outputs": [
    {
     "data": {
      "text/plain": [
       "street_segment\n",
       "167183.0: DRIVEWAY            1\n",
       "63198.0: W 174 ST             1\n",
       "38240.0: WASHINGTON AVE       1\n",
       "167644.0: BROOKVILLE BLVD     1\n",
       "167645.0: MERRICK BLVD        1\n",
       "                             ..\n",
       "48434.0: RUTLAND RD          92\n",
       "44078.0: GREENE AVE          92\n",
       "19960.0: FOCH BLVD           93\n",
       "106336.0: ALLEY              95\n",
       "75610.0: E 91 ST             98\n",
       "Name: id, Length: 78905, dtype: int64"
      ]
     },
     "execution_count": 23,
     "metadata": {},
     "output_type": "execute_result"
    }
   ],
   "source": [
    "buildings_x_streets.groupby('street_segment')['id'].nunique().sort_values()"
   ]
  },
  {
   "cell_type": "code",
   "execution_count": null,
   "metadata": {},
   "outputs": [],
   "source": [
    "building_count_by_street = buildings_x_streets.groupby('PHYSICALID')['id'].nunique().sort_values()"
   ]
  },
  {
   "cell_type": "code",
   "execution_count": null,
   "metadata": {},
   "outputs": [
    {
     "data": {
      "text/plain": [
       "36862"
      ]
     },
     "execution_count": 25,
     "metadata": {},
     "output_type": "execute_result"
    }
   ],
   "source": [
    "len(building_count_by_street[building_count_by_street < 6])"
   ]
  },
  {
   "cell_type": "code",
   "execution_count": null,
   "metadata": {},
   "outputs": [
    {
     "data": {
      "text/plain": [
       "15.0"
      ]
     },
     "execution_count": 26,
     "metadata": {},
     "output_type": "execute_result"
    }
   ],
   "source": [
    "building_count_by_street.quantile(0.75)"
   ]
  },
  {
   "cell_type": "code",
   "execution_count": null,
   "metadata": {},
   "outputs": [
    {
     "data": {
      "text/plain": [
       "42926"
      ]
     },
     "execution_count": 27,
     "metadata": {},
     "output_type": "execute_result"
    }
   ],
   "source": [
    "streets_no_match = streets[~streets['PHYSICALID'].isin(buildings_x_streets['PHYSICALID'])]\n",
    "len(streets_no_match)"
   ]
  },
  {
   "cell_type": "code",
   "execution_count": null,
   "metadata": {},
   "outputs": [
    {
     "data": {
      "text/html": [
       "<div>\n",
       "<style scoped>\n",
       "    .dataframe tbody tr th:only-of-type {\n",
       "        vertical-align: middle;\n",
       "    }\n",
       "\n",
       "    .dataframe tbody tr th {\n",
       "        vertical-align: top;\n",
       "    }\n",
       "\n",
       "    .dataframe thead th {\n",
       "        text-align: right;\n",
       "    }\n",
       "</style>\n",
       "<table border=\"1\" class=\"dataframe\">\n",
       "  <thead>\n",
       "    <tr style=\"text-align: right;\">\n",
       "      <th></th>\n",
       "      <th>PHYSICALID</th>\n",
       "      <th>L_LOW_HN</th>\n",
       "      <th>L_HIGH_HN</th>\n",
       "      <th>R_LOW_HN</th>\n",
       "      <th>R_HIGH_HN</th>\n",
       "      <th>L_ZIP</th>\n",
       "      <th>R_ZIP</th>\n",
       "      <th>L_BLKFC_ID</th>\n",
       "      <th>R_BLKFC_ID</th>\n",
       "      <th>ST_LABEL</th>\n",
       "      <th>...</th>\n",
       "      <th>PRE_TYPE</th>\n",
       "      <th>POST_TYPE</th>\n",
       "      <th>POST_DIREC</th>\n",
       "      <th>POST_MODIF</th>\n",
       "      <th>FULL_STREE</th>\n",
       "      <th>ST_NAME</th>\n",
       "      <th>BIKE_TRAFD</th>\n",
       "      <th>SEGMENT_TY</th>\n",
       "      <th>SHAPE_Leng</th>\n",
       "      <th>geometry</th>\n",
       "    </tr>\n",
       "  </thead>\n",
       "  <tbody>\n",
       "    <tr>\n",
       "      <th>42484</th>\n",
       "      <td>47566</td>\n",
       "      <td>1293</td>\n",
       "      <td>1315</td>\n",
       "      <td>1292</td>\n",
       "      <td>1316</td>\n",
       "      <td>11207</td>\n",
       "      <td>11207</td>\n",
       "      <td>2022603826</td>\n",
       "      <td>2022611140</td>\n",
       "      <td>BUSHWICK AVE</td>\n",
       "      <td>...</td>\n",
       "      <td>NaN</td>\n",
       "      <td>AVE</td>\n",
       "      <td>NaN</td>\n",
       "      <td>NaN</td>\n",
       "      <td>BUSHWICK AVE</td>\n",
       "      <td>BUSHWICK</td>\n",
       "      <td>NaN</td>\n",
       "      <td>U</td>\n",
       "      <td>260.081457</td>\n",
       "      <td>POLYGON ((-73.91231 40.68636, -73.91247 40.686...</td>\n",
       "    </tr>\n",
       "  </tbody>\n",
       "</table>\n",
       "<p>1 rows × 33 columns</p>\n",
       "</div>"
      ],
      "text/plain": [
       "       PHYSICALID L_LOW_HN L_HIGH_HN R_LOW_HN R_HIGH_HN  L_ZIP  R_ZIP  \\\n",
       "42484       47566     1293      1315     1292      1316  11207  11207   \n",
       "\n",
       "       L_BLKFC_ID  R_BLKFC_ID      ST_LABEL  ... PRE_TYPE POST_TYPE  \\\n",
       "42484  2022603826  2022611140  BUSHWICK AVE  ...      NaN       AVE   \n",
       "\n",
       "      POST_DIREC  POST_MODIF    FULL_STREE   ST_NAME BIKE_TRAFD  SEGMENT_TY  \\\n",
       "42484        NaN         NaN  BUSHWICK AVE  BUSHWICK        NaN           U   \n",
       "\n",
       "       SHAPE_Leng                                           geometry  \n",
       "42484  260.081457  POLYGON ((-73.91231 40.68636, -73.91247 40.686...  \n",
       "\n",
       "[1 rows x 33 columns]"
      ]
     },
     "execution_count": 28,
     "metadata": {},
     "output_type": "execute_result"
    }
   ],
   "source": [
    "streets_no_match[streets_no_match['PHYSICALID'] == 47566]"
   ]
  },
  {
   "cell_type": "code",
   "execution_count": null,
   "metadata": {},
   "outputs": [
    {
     "data": {
      "text/plain": [
       "78905"
      ]
     },
     "execution_count": 29,
     "metadata": {},
     "output_type": "execute_result"
    }
   ],
   "source": [
    "len(building_count_by_street)"
   ]
  },
  {
   "cell_type": "code",
   "execution_count": null,
   "metadata": {},
   "outputs": [
    {
     "data": {
      "text/plain": [
       "17"
      ]
     },
     "execution_count": 30,
     "metadata": {},
     "output_type": "execute_result"
    }
   ],
   "source": [
    "len(buildings_x_streets[buildings_x_streets['PHYSICALID'] == 88215])"
   ]
  },
  {
   "cell_type": "code",
   "execution_count": null,
   "metadata": {},
   "outputs": [
    {
     "data": {
      "application/vnd.jupyter.widget-view+json": {
       "model_id": "12680e8e515f40fc8bc8f261742f7537",
       "version_major": 2,
       "version_minor": 0
      },
      "text/plain": [
       "  0%|          | 0/121906 [00:00<?, ?it/s]"
      ]
     },
     "metadata": {},
     "output_type": "display_data"
    }
   ],
   "source": [
    "def choose_buffer(geo, st_width, ew0, ew1):\n",
    "    if ew0:\n",
    "        return line_to_polygon(geo, st_width, 40)\n",
    "    elif ew1:\n",
    "        return line_to_polygon(geo, st_width, 30)\n",
    "    else:\n",
    "        return line_to_polygon(geo, st_width, 15)\n",
    "\n",
    "streets_low_matches = building_count_by_street[building_count_by_street <= 5].reset_index()\n",
    "\n",
    "streets = gpd.read_file('data/Centerline_20240520')\n",
    "streets.to_crs(crs=\"EPSG:4326\", inplace=True)\n",
    "streets['extra_width'] = streets['PHYSICALID'].isin(streets_no_match['PHYSICALID'])\n",
    "streets['extra_width2'] = streets['PHYSICALID'].isin(streets_low_matches['PHYSICALID'])\n",
    "streets['geometry'] = [choose_buffer(x, y, extra, extra1) for x, y, extra, extra1 in tqdm(zip(streets['geometry'], streets['ST_WIDTH'], streets['extra_width'], streets['extra_width2']), total=len(streets))]"
   ]
  },
  {
   "cell_type": "code",
   "execution_count": null,
   "metadata": {},
   "outputs": [
    {
     "name": "stdout",
     "output_type": "stream",
     "text": [
      "number of buildings with street matches: 689847,\n",
      "number of buildings without street matches: 5336,\n",
      "percent of matches: 99.23%\n"
     ]
    }
   ],
   "source": [
    "buildings_x_streets = buildings.sjoin(streets, how='left', predicate='intersects')\n",
    "\n",
    "matches = buildings_x_streets[~pd.isna(buildings_x_streets[\"PHYSICALID\"])]\n",
    "no_matches = buildings_x_streets[pd.isna(buildings_x_streets[\"PHYSICALID\"])]\n",
    "buildings_x_streets['street_segment'] = buildings_x_streets['PHYSICALID'].astype(str) + ': ' + buildings_x_streets['ST_LABEL']\n",
    "matched_list = set(matches['id'].values)\n",
    "\n",
    "buildings['found_street2'] = [True if x in matched_list else False for x in buildings['id']]\n",
    "buildings_count_by_street = buildings_x_streets.groupby('PHYSICALID')['id'].nunique()\n",
    "print(f'number of buildings with street matches: {matches[\"id\"].nunique()},\\nnumber of buildings without street matches: {no_matches[\"id\"].nunique()},\\npercent of matches: {matches[\"id\"].nunique()/len(buildings) * 100:.2f}%')"
   ]
  },
  {
   "cell_type": "code",
   "execution_count": null,
   "metadata": {},
   "outputs": [
    {
     "data": {
      "text/plain": [
       "'streets = gpd.read_file(\\'data/Centerline_20240520\\')\\nstreets.to_crs(crs=\"EPSG:4326\", inplace=True)\\nstreets[\\'extra_width\\'] = streets[\\'PHYSICALID\\'].isin(streets_no_match[\\'PHYSICALID\\'])\\nstreets[\\'geometry\\'] = [line_to_polygon(x, y, 40) if extra else x     for x, y, extra in tqdm(zip(streets[\\'geometry\\'], streets[\\'ST_WIDTH\\'], streets[\\'extra_width\\']), total=len(streets))]'"
      ]
     },
     "execution_count": 33,
     "metadata": {},
     "output_type": "execute_result"
    }
   ],
   "source": [
    "'''streets = gpd.read_file('data/Centerline_20240520')\n",
    "streets.to_crs(crs=\"EPSG:4326\", inplace=True)\n",
    "streets['extra_width'] = streets['PHYSICALID'].isin(streets_no_match['PHYSICALID'])\n",
    "streets['geometry'] = [line_to_polygon(x, y, 40) if extra else x \\\n",
    "    for x, y, extra in tqdm(zip(streets['geometry'], streets['ST_WIDTH'], streets['extra_width']), total=len(streets))]'''"
   ]
  },
  {
   "cell_type": "code",
   "execution_count": null,
   "metadata": {},
   "outputs": [],
   "source": [
    "streets = streets.merge(buildings_count_by_street.rename('building_count'), how='left', left_on='PHYSICALID', right_index=True)"
   ]
  },
  {
   "cell_type": "code",
   "execution_count": null,
   "metadata": {},
   "outputs": [
    {
     "data": {
      "application/vnd.jupyter.widget-view+json": {
       "model_id": "79a2c2960cbf44219c3e74b2a736d4f7",
       "version_major": 2,
       "version_minor": 0
      },
      "text/plain": [
       "  0%|          | 0/121906 [00:00<?, ?it/s]"
      ]
     },
     "metadata": {},
     "output_type": "display_data"
    }
   ],
   "source": [
    "m = folium.Map(location=[40.70, -73.94], zoom_start=10, tiles=\"CartoDB positron\")\n",
    "for _, r in tqdm(streets.iterrows(), total=len(streets)):\n",
    "    sim_geo = gpd.GeoSeries(r[\"geometry\"])\n",
    "    geo_j = sim_geo.to_json()\n",
    "    if r['extra_width']:\n",
    "        geo_j = folium.GeoJson(data=geo_j, \n",
    "            highlight_function=lambda x: {\"fillOpacity\": 0.8},\n",
    "            style_function= lambda x: {\"color\": 'red'})\n",
    "    elif r['extra_width2']:\n",
    "        geo_j = folium.GeoJson(data=geo_j, \n",
    "            highlight_function=lambda x: {\"fillOpacity\": 0.8},\n",
    "            style_function= lambda x: {\"color\": 'yellow'})\n",
    "    else:\n",
    "        geo_j = folium.GeoJson(data=geo_j, \n",
    "            highlight_function=lambda x: {\"fillOpacity\": 0.8})\n",
    "    \n",
    "    folium.Tooltip(f\"{r['PHYSICALID']}:  {r['ST_LABEL']}, buildings matched: {r['building_count']}\").add_to(geo_j)\n",
    "    geo_j.add_to(m)"
   ]
  },
  {
   "cell_type": "code",
   "execution_count": null,
   "metadata": {},
   "outputs": [
    {
     "data": {
      "text/plain": [
       "9131"
      ]
     },
     "execution_count": 36,
     "metadata": {},
     "output_type": "execute_result"
    }
   ],
   "source": [
    "buildings_sample = buildings[(buildings['id'].isin(buildings_x_streets[buildings_x_streets['found_street'] == False]['id'])) | (buildings['id'].isin(no_matches['id']))]\n",
    "len(buildings_sample)"
   ]
  },
  {
   "cell_type": "code",
   "execution_count": null,
   "metadata": {},
   "outputs": [],
   "source": [
    "building_style = lambda x: {\n",
    "  'color' : 'green' if x['properties']['found_street2'] else 'orange',\n",
    "  'opacity' : 0.50,\n",
    "  'weight' : 2,\n",
    "}"
   ]
  },
  {
   "cell_type": "code",
   "execution_count": null,
   "metadata": {},
   "outputs": [],
   "source": [
    "buildings_viz = folium.GeoJson(buildings_sample[['id', 'display_address', 'geometry', 'found_street2']].reset_index(), \n",
    "                               style_function=building_style, highlight_function=lambda x: {\"fillOpacity\": 0.8}, zoom_on_click=True,\n",
    "                               tooltip=folium.GeoJsonTooltip(fields=['id', 'display_address']))\n",
    "buildings_viz.add_to(m)\n",
    "m.keep_in_front(buildings_viz)"
   ]
  },
  {
   "cell_type": "code",
   "execution_count": null,
   "metadata": {},
   "outputs": [],
   "source": [
    "m.save('data/unmatched_buildings_v3.html')"
   ]
  },
  {
   "cell_type": "code",
   "execution_count": null,
   "metadata": {},
   "outputs": [
    {
     "data": {
      "text/plain": [
       "8"
      ]
     },
     "execution_count": 40,
     "metadata": {},
     "output_type": "execute_result"
    }
   ],
   "source": [
    "len(buildings_x_streets[buildings_x_streets['PHYSICALID'] == 88484])"
   ]
  },
  {
   "cell_type": "code",
   "execution_count": null,
   "metadata": {},
   "outputs": [
    {
     "data": {
      "text/plain": [
       "906329"
      ]
     },
     "execution_count": 41,
     "metadata": {},
     "output_type": "execute_result"
    }
   ],
   "source": [
    "len(matches)"
   ]
  },
  {
   "cell_type": "code",
   "execution_count": null,
   "metadata": {},
   "outputs": [
    {
     "data": {
      "text/plain": [
       "4075"
      ]
     },
     "execution_count": 42,
     "metadata": {},
     "output_type": "execute_result"
    }
   ],
   "source": [
    "len(matches[matches['found_street'] == False])"
   ]
  },
  {
   "cell_type": "code",
   "execution_count": null,
   "metadata": {},
   "outputs": [
    {
     "data": {
      "text/html": [
       "<div>\n",
       "<style scoped>\n",
       "    .dataframe tbody tr th:only-of-type {\n",
       "        vertical-align: middle;\n",
       "    }\n",
       "\n",
       "    .dataframe tbody tr th {\n",
       "        vertical-align: top;\n",
       "    }\n",
       "\n",
       "    .dataframe thead th {\n",
       "        text-align: right;\n",
       "    }\n",
       "</style>\n",
       "<table border=\"1\" class=\"dataframe\">\n",
       "  <thead>\n",
       "    <tr style=\"text-align: right;\">\n",
       "      <th></th>\n",
       "      <th>id</th>\n",
       "      <th>street_segment</th>\n",
       "    </tr>\n",
       "  </thead>\n",
       "  <tbody>\n",
       "    <tr>\n",
       "      <th>176839</th>\n",
       "      <td>181712</td>\n",
       "      <td>98236.0: 4 PL</td>\n",
       "    </tr>\n",
       "  </tbody>\n",
       "</table>\n",
       "</div>"
      ],
      "text/plain": [
       "            id street_segment\n",
       "176839  181712  98236.0: 4 PL"
      ]
     },
     "execution_count": 43,
     "metadata": {},
     "output_type": "execute_result"
    }
   ],
   "source": [
    "buildings_x_streets[buildings_x_streets['id']==181712][['id', 'street_segment']]"
   ]
  },
  {
   "cell_type": "code",
   "execution_count": null,
   "metadata": {},
   "outputs": [
    {
     "data": {
      "text/plain": [
       "19"
      ]
     },
     "execution_count": 44,
     "metadata": {},
     "output_type": "execute_result"
    }
   ],
   "source": [
    "len(buildings_x_streets[buildings_x_streets['PHYSICALID'] == 47566])"
   ]
  },
  {
   "cell_type": "code",
   "execution_count": null,
   "metadata": {},
   "outputs": [
    {
     "data": {
      "text/plain": [
       "42484    True\n",
       "Name: extra_width, dtype: bool"
      ]
     },
     "execution_count": 45,
     "metadata": {},
     "output_type": "execute_result"
    }
   ],
   "source": [
    "streets[streets['PHYSICALID'] == 47566]['extra_width']"
   ]
  },
  {
   "cell_type": "markdown",
   "metadata": {},
   "source": [
    "## Checking Corners"
   ]
  },
  {
   "cell_type": "code",
   "execution_count": null,
   "metadata": {},
   "outputs": [
    {
     "data": {
      "text/plain": [
       "151203"
      ]
     },
     "execution_count": 63,
     "metadata": {},
     "output_type": "execute_result"
    }
   ],
   "source": [
    "buildings_by_street = buildings_x_streets.groupby('id')['ST_LABEL'].nunique()\n",
    "buildings_with_street = buildings_x_streets.groupby('id')['ST_LABEL'].apply(list)\n",
    "buildings_sample = buildings[buildings['id'].isin(buildings_by_street[buildings_by_street>1].reset_index()['id'])].merge(buildings_with_street, how='left', right_index=True, left_on='id').sample(50000, random_state=42)\n",
    "len(buildings_by_street[buildings_by_street>1])"
   ]
  },
  {
   "cell_type": "code",
   "execution_count": null,
   "metadata": {},
   "outputs": [],
   "source": [
    "m = folium.Map(location=[40.70, -73.94], zoom_start=10, tiles=\"CartoDB positron\")\n",
    "buildings_viz = folium.GeoJson(buildings_sample[['id', 'display_address', 'geometry', 'found_street2', 'ST_LABEL']].reset_index(), \n",
    "                               style_function=building_style, highlight_function=lambda x: {\"fillOpacity\": 0.8}, zoom_on_click=True,\n",
    "                               tooltip=folium.GeoJsonTooltip(fields=['id', 'display_address', 'ST_LABEL']))\n",
    "buildings_viz.add_to(m)\n",
    "m.keep_in_front(buildings_viz)"
   ]
  },
  {
   "cell_type": "code",
   "execution_count": null,
   "metadata": {},
   "outputs": [],
   "source": [
    "m.save('data/corner_buildings_false_positive_check.html')"
   ]
  },
  {
   "cell_type": "code",
   "execution_count": null,
   "metadata": {},
   "outputs": [],
   "source": [
    "# TODO: remove outlier streets (e.g. ST_LABEL in ['ALLEY', 'DRIVEWAY', '%FERRY RTE', '%BRG%', 'PEDESTRIAN PATH', '%BIKE PTH', '%TUNL' ...])\n",
    "# TODO: use sjoin_nearest() to identify the streets to increase their widths"
   ]
  },
  {
   "cell_type": "markdown",
   "metadata": {},
   "source": [
    "## Increasing unmatched buildings' nearest street"
   ]
  },
  {
   "cell_type": "code",
   "execution_count": null,
   "metadata": {},
   "outputs": [],
   "source": [
    "streets = gpd.read_file('data/Centerline_20240520')\n",
    "streets.to_crs(crs=\"EPSG:4326\", inplace=True)\n",
    "#streets['geometry'] = [line_to_polygon(x, y) for x, y in tqdm(zip(streets['geometry'], streets['ST_WIDTH']), total=len(streets))]\n",
    "\n",
    "buildings_nearest_street = buildings[buildings['found_street'] == False].sjoin_nearest(streets, how='inner')"
   ]
  },
  {
   "cell_type": "code",
   "execution_count": null,
   "metadata": {},
   "outputs": [
    {
     "data": {
      "text/plain": [
       "2512"
      ]
     },
     "execution_count": 53,
     "metadata": {},
     "output_type": "execute_result"
    }
   ],
   "source": [
    "len(buildings_nearest_street['PHYSICALID'].unique())"
   ]
  },
  {
   "cell_type": "code",
   "execution_count": null,
   "metadata": {},
   "outputs": [
    {
     "data": {
      "application/vnd.jupyter.widget-view+json": {
       "model_id": "58d7b71073d24fdb9b0045c165da75a5",
       "version_major": 2,
       "version_minor": 0
      },
      "text/plain": [
       "  0%|          | 0/121906 [00:00<?, ?it/s]"
      ]
     },
     "metadata": {},
     "output_type": "display_data"
    }
   ],
   "source": [
    "'''\n",
    "def choose_buffer(geo, st_width, ew0=False, ew1=False):\n",
    "    if ew0:\n",
    "        return line_to_polygon(geo, st_width, 40)\n",
    "    elif ew1:\n",
    "        return line_to_polygon(geo, st_width, 30)\n",
    "    else:\n",
    "        return line_to_polygon(geo, st_width, 15)\n",
    "\n",
    "#streets_low_matches = building_count_by_street[building_count_by_street <= 5].reset_index()\n",
    "'''\n",
    "streets = gpd.read_file('data/Centerline_20240520')\n",
    "streets.to_crs(crs=\"EPSG:4326\", inplace=True)\n",
    "streets['extra_width'] = streets['PHYSICALID'].isin(buildings_nearest_street['PHYSICALID'].unique())\n",
    "#streets['extra_width2'] = streets['PHYSICALID'].isin(streets_low_matches['PHYSICALID'])\n",
    "streets['geometry'] = [line_to_polygon(x, y, 50) if extra else line_to_polygon(x, y, 15) for x, y, extra in tqdm(zip(streets['geometry'], streets['ST_WIDTH'], streets['extra_width']), total=len(streets))]"
   ]
  },
  {
   "cell_type": "code",
   "execution_count": null,
   "metadata": {},
   "outputs": [
    {
     "name": "stdout",
     "output_type": "stream",
     "text": [
      "number of buildings with street matches: 693143,\n",
      "number of buildings without street matches: 2040,\n",
      "percent of matches: 99.71%\n"
     ]
    }
   ],
   "source": [
    "buildings_x_streets = buildings.sjoin(streets, how='left', predicate='intersects')\n",
    "\n",
    "matches = buildings_x_streets[~pd.isna(buildings_x_streets[\"PHYSICALID\"])]\n",
    "no_matches = buildings_x_streets[pd.isna(buildings_x_streets[\"PHYSICALID\"])]\n",
    "buildings_x_streets['street_segment'] = buildings_x_streets['PHYSICALID'].astype(str) + ': ' + buildings_x_streets['ST_LABEL']\n",
    "matched_list = set(matches['id'].values)\n",
    "\n",
    "buildings['found_street2'] = [True if x in matched_list else False for x in buildings['id']]\n",
    "buildings_count_by_street = buildings_x_streets.groupby('PHYSICALID')['id'].nunique()\n",
    "print(f'number of buildings with street matches: {matches[\"id\"].nunique()},\\nnumber of buildings without street matches: {no_matches[\"id\"].nunique()},\\npercent of matches: {matches[\"id\"].nunique()/len(buildings) * 100:.2f}%')"
   ]
  },
  {
   "cell_type": "code",
   "execution_count": null,
   "metadata": {},
   "outputs": [],
   "source": [
    "streets = streets.merge(buildings_count_by_street.rename('building_count'), how='left', left_on='PHYSICALID', right_index=True)"
   ]
  },
  {
   "cell_type": "code",
   "execution_count": null,
   "metadata": {},
   "outputs": [
    {
     "data": {
      "application/vnd.jupyter.widget-view+json": {
       "model_id": "af0d73a8501c44a9974a3651a8a6641d",
       "version_major": 2,
       "version_minor": 0
      },
      "text/plain": [
       "  0%|          | 0/121906 [00:00<?, ?it/s]"
      ]
     },
     "metadata": {},
     "output_type": "display_data"
    }
   ],
   "source": [
    "m = folium.Map(location=[40.70, -73.94], zoom_start=10, tiles=\"CartoDB positron\")\n",
    "for _, r in tqdm(streets.iterrows(), total=len(streets)):\n",
    "    sim_geo = gpd.GeoSeries(r[\"geometry\"])\n",
    "    geo_j = sim_geo.to_json()\n",
    "    if r['extra_width']:\n",
    "        geo_j = folium.GeoJson(data=geo_j, \n",
    "            highlight_function=lambda x: {\"fillOpacity\": 0.8},\n",
    "            style_function= lambda x: {\"color\": 'red'})\n",
    "    else:\n",
    "        geo_j = folium.GeoJson(data=geo_j, \n",
    "            highlight_function=lambda x: {\"fillOpacity\": 0.8})\n",
    "    \n",
    "    folium.Tooltip(f\"{r['PHYSICALID']}:  {r['ST_LABEL']}, buildings matched: {r['building_count']}\").add_to(geo_j)\n",
    "    geo_j.add_to(m)"
   ]
  },
  {
   "cell_type": "code",
   "execution_count": null,
   "metadata": {},
   "outputs": [],
   "source": [
    "building_style = lambda x: {\n",
    "  'color' : 'green' if x['properties']['found_street2'] else 'orange',\n",
    "  'opacity' : 0.50,\n",
    "  'weight' : 2,\n",
    "}\n",
    "buildings_sample = buildings[(buildings['id'].isin(buildings_x_streets[buildings_x_streets['found_street'] == False]['id'])) | (buildings['id'].isin(no_matches['id']))]\n",
    "\n",
    "buildings_viz = folium.GeoJson(buildings_sample[['id', 'display_address', 'geometry', 'found_street2']].reset_index(), \n",
    "                               style_function=building_style, highlight_function=lambda x: {\"fillOpacity\": 0.8}, zoom_on_click=True,\n",
    "                               tooltip=folium.GeoJsonTooltip(fields=['id', 'display_address']))\n",
    "buildings_viz.add_to(m)\n",
    "m.keep_in_front(buildings_viz)"
   ]
  },
  {
   "cell_type": "code",
   "execution_count": null,
   "metadata": {},
   "outputs": [],
   "source": [
    "m.save('data/unmatched_buildings_v4.html')"
   ]
  },
  {
   "cell_type": "code",
   "execution_count": null,
   "metadata": {},
   "outputs": [
    {
     "ename": "NameError",
     "evalue": "name 'streets' is not defined",
     "output_type": "error",
     "traceback": [
      "\u001b[0;31m---------------------------------------------------------------------------\u001b[0m",
      "\u001b[0;31mNameError\u001b[0m                                 Traceback (most recent call last)",
      "Cell \u001b[0;32mIn[1], line 1\u001b[0m\n\u001b[0;32m----> 1\u001b[0m \u001b[43mstreets\u001b[49m\u001b[38;5;241m.\u001b[39mhead()\n",
      "\u001b[0;31mNameError\u001b[0m: name 'streets' is not defined"
     ]
    }
   ],
   "source": [
    "streets.head()"
   ]
  },
  {
   "cell_type": "code",
   "execution_count": 24,
   "metadata": {},
   "outputs": [
    {
     "data": {
      "text/html": [
       "<div>\n",
       "<style scoped>\n",
       "    .dataframe tbody tr th:only-of-type {\n",
       "        vertical-align: middle;\n",
       "    }\n",
       "\n",
       "    .dataframe tbody tr th {\n",
       "        vertical-align: top;\n",
       "    }\n",
       "\n",
       "    .dataframe thead th {\n",
       "        text-align: right;\n",
       "    }\n",
       "</style>\n",
       "<table border=\"1\" class=\"dataframe\">\n",
       "  <thead>\n",
       "    <tr style=\"text-align: right;\">\n",
       "      <th></th>\n",
       "      <th>Unnamed: 0</th>\n",
       "      <th>ST_LABEL</th>\n",
       "      <th>borough</th>\n",
       "      <th>segment_ids</th>\n",
       "      <th>geometry</th>\n",
       "      <th>display_label</th>\n",
       "    </tr>\n",
       "  </thead>\n",
       "  <tbody>\n",
       "    <tr>\n",
       "      <th>0</th>\n",
       "      <td>0</td>\n",
       "      <td>1 AVE</td>\n",
       "      <td>Bronx</td>\n",
       "      <td>{64576, 187004, 64569, 64571, 64572, 64573, 64...</td>\n",
       "      <td>LINESTRING (-73.80724905083855 40.822362727790...</td>\n",
       "      <td>1st Avenue</td>\n",
       "    </tr>\n",
       "    <tr>\n",
       "      <th>1</th>\n",
       "      <td>1</td>\n",
       "      <td>1 AVE</td>\n",
       "      <td>Brooklyn</td>\n",
       "      <td>{36755, 36756, 36757, 36758, 36759, 36760, 367...</td>\n",
       "      <td>MULTILINESTRING ((-74.01269574242941 40.656593...</td>\n",
       "      <td>1st Avenue</td>\n",
       "    </tr>\n",
       "    <tr>\n",
       "      <th>2</th>\n",
       "      <td>2</td>\n",
       "      <td>1 AVE</td>\n",
       "      <td>Manhattan</td>\n",
       "      <td>{2571, 2572, 2574, 2577, 2580, 2581, 2582, 258...</td>\n",
       "      <td>MULTILINESTRING ((-73.98863843855345 40.722933...</td>\n",
       "      <td>1st Avenue</td>\n",
       "    </tr>\n",
       "    <tr>\n",
       "      <th>3</th>\n",
       "      <td>3</td>\n",
       "      <td>1 AVE</td>\n",
       "      <td>Staten</td>\n",
       "      <td>{104392, 104393, 104394, 104395, 104397, 170255}</td>\n",
       "      <td>MULTILINESTRING ((-74.15256900219933 40.597967...</td>\n",
       "      <td>1st Avenue</td>\n",
       "    </tr>\n",
       "    <tr>\n",
       "      <th>4</th>\n",
       "      <td>4</td>\n",
       "      <td>1 AVE LOOP</td>\n",
       "      <td>Manhattan</td>\n",
       "      <td>{103776, 103777, 103778, 192793, 103774, 103775}</td>\n",
       "      <td>LINESTRING (-73.98149890645011 40.732618053020...</td>\n",
       "      <td>1st Avenue Loop</td>\n",
       "    </tr>\n",
       "  </tbody>\n",
       "</table>\n",
       "</div>"
      ],
      "text/plain": [
       "   Unnamed: 0    ST_LABEL    borough  \\\n",
       "0           0       1 AVE      Bronx   \n",
       "1           1       1 AVE   Brooklyn   \n",
       "2           2       1 AVE  Manhattan   \n",
       "3           3       1 AVE     Staten   \n",
       "4           4  1 AVE LOOP  Manhattan   \n",
       "\n",
       "                                         segment_ids  \\\n",
       "0  {64576, 187004, 64569, 64571, 64572, 64573, 64...   \n",
       "1  {36755, 36756, 36757, 36758, 36759, 36760, 367...   \n",
       "2  {2571, 2572, 2574, 2577, 2580, 2581, 2582, 258...   \n",
       "3   {104392, 104393, 104394, 104395, 104397, 170255}   \n",
       "4   {103776, 103777, 103778, 192793, 103774, 103775}   \n",
       "\n",
       "                                            geometry    display_label  \n",
       "0  LINESTRING (-73.80724905083855 40.822362727790...       1st Avenue  \n",
       "1  MULTILINESTRING ((-74.01269574242941 40.656593...       1st Avenue  \n",
       "2  MULTILINESTRING ((-73.98863843855345 40.722933...       1st Avenue  \n",
       "3  MULTILINESTRING ((-74.15256900219933 40.597967...       1st Avenue  \n",
       "4  LINESTRING (-73.98149890645011 40.732618053020...  1st Avenue Loop  "
      ]
     },
     "execution_count": 24,
     "metadata": {},
     "output_type": "execute_result"
    }
   ],
   "source": [
    "display_streets = pd.read_csv('data/display_streets.csv')\n",
    "buildings_x_streets = pd.read_csv('data/buildings_x_streets.csv')\n",
    "display_streets.head()"
   ]
  },
  {
   "cell_type": "code",
   "execution_count": 25,
   "metadata": {},
   "outputs": [
    {
     "data": {
      "text/html": [
       "<div>\n",
       "<style scoped>\n",
       "    .dataframe tbody tr th:only-of-type {\n",
       "        vertical-align: middle;\n",
       "    }\n",
       "\n",
       "    .dataframe tbody tr th {\n",
       "        vertical-align: top;\n",
       "    }\n",
       "\n",
       "    .dataframe thead th {\n",
       "        text-align: right;\n",
       "    }\n",
       "</style>\n",
       "<table border=\"1\" class=\"dataframe\">\n",
       "  <thead>\n",
       "    <tr style=\"text-align: right;\">\n",
       "      <th></th>\n",
       "      <th>Unnamed: 0</th>\n",
       "      <th>id</th>\n",
       "      <th>display_address</th>\n",
       "      <th>PHYSICALID</th>\n",
       "      <th>ST_LABEL</th>\n",
       "      <th>borough</th>\n",
       "    </tr>\n",
       "  </thead>\n",
       "  <tbody>\n",
       "    <tr>\n",
       "      <th>0</th>\n",
       "      <td>0</td>\n",
       "      <td>1</td>\n",
       "      <td>11 Stone Street</td>\n",
       "      <td>79615.0</td>\n",
       "      <td>STONE ST</td>\n",
       "      <td>Manhattan</td>\n",
       "    </tr>\n",
       "    <tr>\n",
       "      <th>1</th>\n",
       "      <td>1</td>\n",
       "      <td>2</td>\n",
       "      <td>17 State Street</td>\n",
       "      <td>145498.0</td>\n",
       "      <td>STATE ST</td>\n",
       "      <td>Manhattan</td>\n",
       "    </tr>\n",
       "    <tr>\n",
       "      <th>2</th>\n",
       "      <td>1</td>\n",
       "      <td>2</td>\n",
       "      <td>17 State Street</td>\n",
       "      <td>82.0</td>\n",
       "      <td>PEARL ST</td>\n",
       "      <td>Manhattan</td>\n",
       "    </tr>\n",
       "    <tr>\n",
       "      <th>3</th>\n",
       "      <td>2</td>\n",
       "      <td>3</td>\n",
       "      <td>80 Wall Street</td>\n",
       "      <td>165.0</td>\n",
       "      <td>WALL ST</td>\n",
       "      <td>Manhattan</td>\n",
       "    </tr>\n",
       "    <tr>\n",
       "      <th>4</th>\n",
       "      <td>2</td>\n",
       "      <td>3</td>\n",
       "      <td>80 Wall Street</td>\n",
       "      <td>90.0</td>\n",
       "      <td>PEARL ST</td>\n",
       "      <td>Manhattan</td>\n",
       "    </tr>\n",
       "  </tbody>\n",
       "</table>\n",
       "</div>"
      ],
      "text/plain": [
       "   Unnamed: 0  id  display_address  PHYSICALID  ST_LABEL    borough\n",
       "0           0   1  11 Stone Street     79615.0  STONE ST  Manhattan\n",
       "1           1   2  17 State Street    145498.0  STATE ST  Manhattan\n",
       "2           1   2  17 State Street        82.0  PEARL ST  Manhattan\n",
       "3           2   3   80 Wall Street       165.0   WALL ST  Manhattan\n",
       "4           2   3   80 Wall Street        90.0  PEARL ST  Manhattan"
      ]
     },
     "execution_count": 25,
     "metadata": {},
     "output_type": "execute_result"
    }
   ],
   "source": [
    "buildings_x_streets.head()"
   ]
  },
  {
   "cell_type": "code",
   "execution_count": 26,
   "metadata": {},
   "outputs": [
    {
     "data": {
      "text/html": [
       "<div>\n",
       "<style scoped>\n",
       "    .dataframe tbody tr th:only-of-type {\n",
       "        vertical-align: middle;\n",
       "    }\n",
       "\n",
       "    .dataframe tbody tr th {\n",
       "        vertical-align: top;\n",
       "    }\n",
       "\n",
       "    .dataframe thead th {\n",
       "        text-align: right;\n",
       "    }\n",
       "</style>\n",
       "<table border=\"1\" class=\"dataframe\">\n",
       "  <thead>\n",
       "    <tr style=\"text-align: right;\">\n",
       "      <th></th>\n",
       "      <th>Unnamed: 0</th>\n",
       "      <th>ST_LABEL</th>\n",
       "      <th>borough</th>\n",
       "      <th>segment_ids</th>\n",
       "      <th>geometry</th>\n",
       "      <th>display_label</th>\n",
       "      <th>match_key</th>\n",
       "    </tr>\n",
       "  </thead>\n",
       "  <tbody>\n",
       "    <tr>\n",
       "      <th>7</th>\n",
       "      <td>7</td>\n",
       "      <td>1 DR</td>\n",
       "      <td>Manhattan</td>\n",
       "      <td>{136144, 136142, 136119}</td>\n",
       "      <td>LINESTRING (-73.92482570175383 40.789223991192...</td>\n",
       "      <td>1st Drive</td>\n",
       "      <td>1 DRManhattan</td>\n",
       "    </tr>\n",
       "    <tr>\n",
       "      <th>10</th>\n",
       "      <td>10</td>\n",
       "      <td>1 ST</td>\n",
       "      <td>Bronx</td>\n",
       "      <td>{105113, 105114, 105115, 105116, 105117, 105118}</td>\n",
       "      <td>LINESTRING (-73.8804813266689 40.8114784131601...</td>\n",
       "      <td>1st Street</td>\n",
       "      <td>1 STBronx</td>\n",
       "    </tr>\n",
       "    <tr>\n",
       "      <th>376</th>\n",
       "      <td>376</td>\n",
       "      <td>2 DR</td>\n",
       "      <td>Manhattan</td>\n",
       "      <td>{135649, 136106, 136124, 138603, 160427, 13608...</td>\n",
       "      <td>MULTILINESTRING ((-73.92571322143206 40.786266...</td>\n",
       "      <td>2nd Drive</td>\n",
       "      <td>2 DRManhattan</td>\n",
       "    </tr>\n",
       "    <tr>\n",
       "      <th>379</th>\n",
       "      <td>379</td>\n",
       "      <td>2 ST</td>\n",
       "      <td>Bronx</td>\n",
       "      <td>{105120, 105121, 105122, 105123, 105124, 105119}</td>\n",
       "      <td>LINESTRING (-73.8809018063603 40.8130902390720...</td>\n",
       "      <td>2nd Street</td>\n",
       "      <td>2 STBronx</td>\n",
       "    </tr>\n",
       "    <tr>\n",
       "      <th>553</th>\n",
       "      <td>553</td>\n",
       "      <td>3 DR</td>\n",
       "      <td>Manhattan</td>\n",
       "      <td>{136129, 136134, 136166, 136136, 136137, 13613...</td>\n",
       "      <td>MULTILINESTRING ((-73.92503469300016 40.787134...</td>\n",
       "      <td>3rd Drive</td>\n",
       "      <td>3 DRManhattan</td>\n",
       "    </tr>\n",
       "    <tr>\n",
       "      <th>...</th>\n",
       "      <td>...</td>\n",
       "      <td>...</td>\n",
       "      <td>...</td>\n",
       "      <td>...</td>\n",
       "      <td>...</td>\n",
       "      <td>...</td>\n",
       "      <td>...</td>\n",
       "    </tr>\n",
       "    <tr>\n",
       "      <th>9957</th>\n",
       "      <td>9957</td>\n",
       "      <td>WOOD RD</td>\n",
       "      <td>Bronx</td>\n",
       "      <td>{105082, 105083, 121095}</td>\n",
       "      <td>LINESTRING (-73.86229201183579 40.835572451428...</td>\n",
       "      <td>Wood Road</td>\n",
       "      <td>WOOD RDBronx</td>\n",
       "    </tr>\n",
       "    <tr>\n",
       "      <th>9997</th>\n",
       "      <td>9997</td>\n",
       "      <td>WORTHEN ST</td>\n",
       "      <td>Bronx</td>\n",
       "      <td>{98880, 98876, 98877, 98878, 98879}</td>\n",
       "      <td>LINESTRING (-73.8909890555788 40.8094851122316...</td>\n",
       "      <td>Worthen Street</td>\n",
       "      <td>WORTHEN STBronx</td>\n",
       "    </tr>\n",
       "    <tr>\n",
       "      <th>10018</th>\n",
       "      <td>10018</td>\n",
       "      <td>XAVIER WAY</td>\n",
       "      <td>Bronx</td>\n",
       "      <td>{169584, 169571, 169573, 169574}</td>\n",
       "      <td>MULTILINESTRING ((-73.88139484609307 40.861049...</td>\n",
       "      <td>Xavier Way</td>\n",
       "      <td>XAVIER WAYBronx</td>\n",
       "    </tr>\n",
       "    <tr>\n",
       "      <th>10027</th>\n",
       "      <td>10027</td>\n",
       "      <td>YEATON RD</td>\n",
       "      <td>Manhattan</td>\n",
       "      <td>{26813}</td>\n",
       "      <td>LINESTRING (-74.02113724442762 40.685138795802...</td>\n",
       "      <td>Yeaton Road</td>\n",
       "      <td>YEATON RDManhattan</td>\n",
       "    </tr>\n",
       "    <tr>\n",
       "      <th>10052</th>\n",
       "      <td>10052</td>\n",
       "      <td>ZOO PATH</td>\n",
       "      <td>Queens</td>\n",
       "      <td>{13344, 13346, 13347, 13348, 13349, 13350, 133...</td>\n",
       "      <td>MULTILINESTRING ((-73.85156571595734 40.746341...</td>\n",
       "      <td>Zoo Path</td>\n",
       "      <td>ZOO PATHQueens</td>\n",
       "    </tr>\n",
       "  </tbody>\n",
       "</table>\n",
       "<p>384 rows × 7 columns</p>\n",
       "</div>"
      ],
      "text/plain": [
       "       Unnamed: 0    ST_LABEL    borough  \\\n",
       "7               7        1 DR  Manhattan   \n",
       "10             10        1 ST      Bronx   \n",
       "376           376        2 DR  Manhattan   \n",
       "379           379        2 ST      Bronx   \n",
       "553           553        3 DR  Manhattan   \n",
       "...           ...         ...        ...   \n",
       "9957         9957     WOOD RD      Bronx   \n",
       "9997         9997  WORTHEN ST      Bronx   \n",
       "10018       10018  XAVIER WAY      Bronx   \n",
       "10027       10027   YEATON RD  Manhattan   \n",
       "10052       10052    ZOO PATH     Queens   \n",
       "\n",
       "                                             segment_ids  \\\n",
       "7                               {136144, 136142, 136119}   \n",
       "10      {105113, 105114, 105115, 105116, 105117, 105118}   \n",
       "376    {135649, 136106, 136124, 138603, 160427, 13608...   \n",
       "379     {105120, 105121, 105122, 105123, 105124, 105119}   \n",
       "553    {136129, 136134, 136166, 136136, 136137, 13613...   \n",
       "...                                                  ...   \n",
       "9957                            {105082, 105083, 121095}   \n",
       "9997                 {98880, 98876, 98877, 98878, 98879}   \n",
       "10018                   {169584, 169571, 169573, 169574}   \n",
       "10027                                            {26813}   \n",
       "10052  {13344, 13346, 13347, 13348, 13349, 13350, 133...   \n",
       "\n",
       "                                                geometry   display_label  \\\n",
       "7      LINESTRING (-73.92482570175383 40.789223991192...       1st Drive   \n",
       "10     LINESTRING (-73.8804813266689 40.8114784131601...      1st Street   \n",
       "376    MULTILINESTRING ((-73.92571322143206 40.786266...       2nd Drive   \n",
       "379    LINESTRING (-73.8809018063603 40.8130902390720...      2nd Street   \n",
       "553    MULTILINESTRING ((-73.92503469300016 40.787134...       3rd Drive   \n",
       "...                                                  ...             ...   \n",
       "9957   LINESTRING (-73.86229201183579 40.835572451428...       Wood Road   \n",
       "9997   LINESTRING (-73.8909890555788 40.8094851122316...  Worthen Street   \n",
       "10018  MULTILINESTRING ((-73.88139484609307 40.861049...      Xavier Way   \n",
       "10027  LINESTRING (-74.02113724442762 40.685138795802...     Yeaton Road   \n",
       "10052  MULTILINESTRING ((-73.85156571595734 40.746341...        Zoo Path   \n",
       "\n",
       "                match_key  \n",
       "7           1 DRManhattan  \n",
       "10              1 STBronx  \n",
       "376         2 DRManhattan  \n",
       "379             2 STBronx  \n",
       "553         3 DRManhattan  \n",
       "...                   ...  \n",
       "9957         WOOD RDBronx  \n",
       "9997      WORTHEN STBronx  \n",
       "10018     XAVIER WAYBronx  \n",
       "10027  YEATON RDManhattan  \n",
       "10052      ZOO PATHQueens  \n",
       "\n",
       "[384 rows x 7 columns]"
      ]
     },
     "execution_count": 26,
     "metadata": {},
     "output_type": "execute_result"
    }
   ],
   "source": [
    "display_streets['match_key'] = display_streets['ST_LABEL'] + display_streets['borough']\n",
    "buildings_x_streets['match_key'] = buildings_x_streets['ST_LABEL'] + buildings_x_streets['borough']\n",
    "display_streets[~(display_streets['match_key'].isin(buildings_x_streets['match_key'])) & (display_streets['borough'] != 'Staten')]"
   ]
  },
  {
   "cell_type": "code",
   "execution_count": 27,
   "metadata": {},
   "outputs": [],
   "source": [
    "no_match = display_streets[~(display_streets['match_key'].isin(buildings_x_streets['match_key'])) & (display_streets['borough'] != 'Staten')]"
   ]
  },
  {
   "cell_type": "code",
   "execution_count": 28,
   "metadata": {},
   "outputs": [
    {
     "data": {
      "text/plain": [
       "0         False\n",
       "1         False\n",
       "2         False\n",
       "3         False\n",
       "4         False\n",
       "          ...  \n",
       "832733    False\n",
       "832734    False\n",
       "832735    False\n",
       "832736    False\n",
       "832737    False\n",
       "Name: ST_LABEL, Length: 832738, dtype: bool"
      ]
     },
     "execution_count": 28,
     "metadata": {},
     "output_type": "execute_result"
    }
   ],
   "source": [
    "buildings_x_streets['ST_LABEL'] == 'DIVISION'"
   ]
  },
  {
   "cell_type": "code",
   "execution_count": 29,
   "metadata": {},
   "outputs": [],
   "source": [
    "display_streets = pd.read_csv('data/nyc_display_streets - display_streets.csv')"
   ]
  },
  {
   "cell_type": "code",
   "execution_count": 32,
   "metadata": {},
   "outputs": [],
   "source": [
    "display_streets['match_key'] = display_streets['ST_LABEL'] + display_streets['borough']\n",
    "display_streets[~display_streets['match_key'].isin(no_match['match_key'])].drop(columns=['match_key']).to_csv('data/display_streets.csv',index=False)"
   ]
  },
  {
   "cell_type": "code",
   "execution_count": null,
   "metadata": {},
   "outputs": [],
   "source": []
  }
 ],
 "metadata": {
  "kernelspec": {
   "display_name": "pw",
   "language": "python",
   "name": "python3"
  },
  "language_info": {
   "codemirror_mode": {
    "name": "ipython",
    "version": 3
   },
   "file_extension": ".py",
   "mimetype": "text/x-python",
   "name": "python",
   "nbconvert_exporter": "python",
   "pygments_lexer": "ipython3",
   "version": "3.12.3"
  }
 },
 "nbformat": 4,
 "nbformat_minor": 2
}
