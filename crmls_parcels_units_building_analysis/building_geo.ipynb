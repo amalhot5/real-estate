{
 "cells": [
  {
   "cell_type": "code",
   "execution_count": 26,
   "metadata": {},
   "outputs": [],
   "source": [
    "import json\n",
    "import pandas as pd\n",
    "import geopandas as gpd\n",
    "from shapely.geometry import shape, MultiPolygon\n",
    "from shapely import to_geojson"
   ]
  },
  {
   "cell_type": "code",
   "execution_count": 27,
   "metadata": {},
   "outputs": [
    {
     "name": "stdout",
     "output_type": "stream",
     "text": [
      "The sql extension is already loaded. To reload it, use:\n",
      "  %reload_ext sql\n"
     ]
    }
   ],
   "source": [
    "%load_ext sql"
   ]
  },
  {
   "cell_type": "code",
   "execution_count": 28,
   "metadata": {},
   "outputs": [
    {
     "data": {
      "text/plain": [
       "'Connected: teleport@property_data'"
      ]
     },
     "execution_count": 28,
     "metadata": {},
     "output_type": "execute_result"
    }
   ],
   "source": [
    "%sql postgresql://teleport@localhost:59950/property_data"
   ]
  },
  {
   "cell_type": "code",
   "execution_count": 29,
   "metadata": {},
   "outputs": [
    {
     "data": {
      "text/plain": [
       "(1449, 5)"
      ]
     },
     "execution_count": 29,
     "metadata": {},
     "output_type": "execute_result"
    }
   ],
   "source": [
    "multi_geos = pd.read_csv('data/crmls_address_multiple_geos.csv')\n",
    "multi_geos.shape"
   ]
  },
  {
   "cell_type": "code",
   "execution_count": 30,
   "metadata": {},
   "outputs": [
    {
     "data": {
      "text/plain": [
       "Index(['ParcelFullAddress', 'GeoJson_Polygon', 'ogr_fid', 'parcelapn',\n",
       "       'count_geom'],\n",
       "      dtype='object')"
      ]
     },
     "execution_count": 30,
     "metadata": {},
     "output_type": "execute_result"
    }
   ],
   "source": [
    "multi_geos.columns"
   ]
  },
  {
   "cell_type": "code",
   "execution_count": 31,
   "metadata": {},
   "outputs": [],
   "source": [
    "def combine_geos(geo_series):\n",
    "    poly_list = []\n",
    "    for i in geo_series:\n",
    "        if type(i) == MultiPolygon:\n",
    "            poly_list += i.geoms\n",
    "        else:\n",
    "            poly_list.append(i)\n",
    "\n",
    "    return MultiPolygon(poly_list)"
   ]
  },
  {
   "cell_type": "code",
   "execution_count": 32,
   "metadata": {},
   "outputs": [],
   "source": [
    "multi_geos = gpd.GeoDataFrame(multi_geos, geometry=[shape(json.loads(x)) for x in multi_geos['GeoJson_Polygon']])"
   ]
  },
  {
   "cell_type": "code",
   "execution_count": 33,
   "metadata": {},
   "outputs": [
    {
     "data": {
      "text/html": [
       "<div>\n",
       "<style scoped>\n",
       "    .dataframe tbody tr th:only-of-type {\n",
       "        vertical-align: middle;\n",
       "    }\n",
       "\n",
       "    .dataframe tbody tr th {\n",
       "        vertical-align: top;\n",
       "    }\n",
       "\n",
       "    .dataframe thead th {\n",
       "        text-align: right;\n",
       "    }\n",
       "</style>\n",
       "<table border=\"1\" class=\"dataframe\">\n",
       "  <thead>\n",
       "    <tr style=\"text-align: right;\">\n",
       "      <th></th>\n",
       "      <th>ParcelFullAddress</th>\n",
       "      <th>GeoJson_Polygon</th>\n",
       "      <th>ogr_fid</th>\n",
       "      <th>parcelapn</th>\n",
       "      <th>count_geom</th>\n",
       "      <th>geometry</th>\n",
       "    </tr>\n",
       "  </thead>\n",
       "  <tbody>\n",
       "    <tr>\n",
       "      <th>0</th>\n",
       "      <td>VILLA RDG IRVINE CA 92620</td>\n",
       "      <td>{\"type\": \"Polygon\", \"coordinates\": [[[-117.754...</td>\n",
       "      <td>695352</td>\n",
       "      <td>551-602-23</td>\n",
       "      <td>184</td>\n",
       "      <td>POLYGON ((-117.75429 33.68460, -117.75444 33.6...</td>\n",
       "    </tr>\n",
       "    <tr>\n",
       "      <th>1</th>\n",
       "      <td>VILLA RDG IRVINE CA 92620</td>\n",
       "      <td>{\"type\": \"Polygon\", \"coordinates\": [[[-117.753...</td>\n",
       "      <td>695348</td>\n",
       "      <td>551-602-25</td>\n",
       "      <td>184</td>\n",
       "      <td>POLYGON ((-117.75368 33.68521, -117.75382 33.6...</td>\n",
       "    </tr>\n",
       "    <tr>\n",
       "      <th>2</th>\n",
       "      <td>VILLA RDG IRVINE CA 92620</td>\n",
       "      <td>{\"type\": \"Polygon\", \"coordinates\": [[[-117.754...</td>\n",
       "      <td>695347</td>\n",
       "      <td>551-602-19</td>\n",
       "      <td>184</td>\n",
       "      <td>POLYGON ((-117.75400 33.68514, -117.75432 33.6...</td>\n",
       "    </tr>\n",
       "    <tr>\n",
       "      <th>3</th>\n",
       "      <td>VILLA RDG IRVINE CA 92620</td>\n",
       "      <td>{\"type\": \"Polygon\", \"coordinates\": [[[-117.754...</td>\n",
       "      <td>695272</td>\n",
       "      <td>551-602-29</td>\n",
       "      <td>184</td>\n",
       "      <td>POLYGON ((-117.75415 33.68420, -117.75447 33.6...</td>\n",
       "    </tr>\n",
       "    <tr>\n",
       "      <th>4</th>\n",
       "      <td>VILLA RDG IRVINE CA 92620</td>\n",
       "      <td>{\"type\": \"Polygon\", \"coordinates\": [[[-117.754...</td>\n",
       "      <td>695265</td>\n",
       "      <td>551-602-22</td>\n",
       "      <td>184</td>\n",
       "      <td>POLYGON ((-117.75461 33.68428, -117.75468 33.6...</td>\n",
       "    </tr>\n",
       "  </tbody>\n",
       "</table>\n",
       "</div>"
      ],
      "text/plain": [
       "             ParcelFullAddress  \\\n",
       "0    VILLA RDG IRVINE CA 92620   \n",
       "1    VILLA RDG IRVINE CA 92620   \n",
       "2    VILLA RDG IRVINE CA 92620   \n",
       "3    VILLA RDG IRVINE CA 92620   \n",
       "4    VILLA RDG IRVINE CA 92620   \n",
       "\n",
       "                                     GeoJson_Polygon  ogr_fid   parcelapn  \\\n",
       "0  {\"type\": \"Polygon\", \"coordinates\": [[[-117.754...   695352  551-602-23   \n",
       "1  {\"type\": \"Polygon\", \"coordinates\": [[[-117.753...   695348  551-602-25   \n",
       "2  {\"type\": \"Polygon\", \"coordinates\": [[[-117.754...   695347  551-602-19   \n",
       "3  {\"type\": \"Polygon\", \"coordinates\": [[[-117.754...   695272  551-602-29   \n",
       "4  {\"type\": \"Polygon\", \"coordinates\": [[[-117.754...   695265  551-602-22   \n",
       "\n",
       "   count_geom                                           geometry  \n",
       "0         184  POLYGON ((-117.75429 33.68460, -117.75444 33.6...  \n",
       "1         184  POLYGON ((-117.75368 33.68521, -117.75382 33.6...  \n",
       "2         184  POLYGON ((-117.75400 33.68514, -117.75432 33.6...  \n",
       "3         184  POLYGON ((-117.75415 33.68420, -117.75447 33.6...  \n",
       "4         184  POLYGON ((-117.75461 33.68428, -117.75468 33.6...  "
      ]
     },
     "execution_count": 33,
     "metadata": {},
     "output_type": "execute_result"
    }
   ],
   "source": [
    "multi_geos.head()"
   ]
  },
  {
   "cell_type": "code",
   "execution_count": 34,
   "metadata": {},
   "outputs": [
    {
     "name": "stdout",
     "output_type": "stream",
     "text": [
      "453 453\n"
     ]
    }
   ],
   "source": [
    "all_addresses = set(multi_geos['ParcelFullAddress'])\n",
    "multi_poly = []\n",
    "for i in all_addresses:\n",
    "    m = combine_geos(multi_geos[multi_geos['ParcelFullAddress'] == i]['geometry'])\n",
    "    multi_poly.append(m)\n",
    "\n",
    "print(len(all_addresses), len(multi_poly))"
   ]
  },
  {
   "cell_type": "code",
   "execution_count": 35,
   "metadata": {},
   "outputs": [
    {
     "data": {
      "text/html": [
       "<div>\n",
       "<style scoped>\n",
       "    .dataframe tbody tr th:only-of-type {\n",
       "        vertical-align: middle;\n",
       "    }\n",
       "\n",
       "    .dataframe tbody tr th {\n",
       "        vertical-align: top;\n",
       "    }\n",
       "\n",
       "    .dataframe thead th {\n",
       "        text-align: right;\n",
       "    }\n",
       "</style>\n",
       "<table border=\"1\" class=\"dataframe\">\n",
       "  <thead>\n",
       "    <tr style=\"text-align: right;\">\n",
       "      <th></th>\n",
       "      <th>ParcelFullAddress</th>\n",
       "      <th>geometry</th>\n",
       "    </tr>\n",
       "  </thead>\n",
       "  <tbody>\n",
       "    <tr>\n",
       "      <th>0</th>\n",
       "      <td>2  LIBERTY  IRVINE CA 92620</td>\n",
       "      <td>MULTIPOLYGON (((-117.77023 33.71646, -117.7719...</td>\n",
       "    </tr>\n",
       "    <tr>\n",
       "      <th>1</th>\n",
       "      <td>19  GLORIETA  IRVINE CA 92620</td>\n",
       "      <td>MULTIPOLYGON (((-117.75976 33.71961, -117.7600...</td>\n",
       "    </tr>\n",
       "    <tr>\n",
       "      <th>2</th>\n",
       "      <td>21  ENSUENO  IRVINE CA 92620</td>\n",
       "      <td>MULTIPOLYGON (((-117.76202 33.71880, -117.7623...</td>\n",
       "    </tr>\n",
       "    <tr>\n",
       "      <th>3</th>\n",
       "      <td>4  CAMPHOR  IRVINE CA 92612</td>\n",
       "      <td>MULTIPOLYGON (((-117.79852 33.66294, -117.7988...</td>\n",
       "    </tr>\n",
       "    <tr>\n",
       "      <th>4</th>\n",
       "      <td>22  ENTRADA  IRVINE CA 92620</td>\n",
       "      <td>MULTIPOLYGON (((-117.75535 33.71856, -117.7556...</td>\n",
       "    </tr>\n",
       "  </tbody>\n",
       "</table>\n",
       "</div>"
      ],
      "text/plain": [
       "               ParcelFullAddress  \\\n",
       "0    2  LIBERTY  IRVINE CA 92620   \n",
       "1  19  GLORIETA  IRVINE CA 92620   \n",
       "2   21  ENSUENO  IRVINE CA 92620   \n",
       "3    4  CAMPHOR  IRVINE CA 92612   \n",
       "4   22  ENTRADA  IRVINE CA 92620   \n",
       "\n",
       "                                            geometry  \n",
       "0  MULTIPOLYGON (((-117.77023 33.71646, -117.7719...  \n",
       "1  MULTIPOLYGON (((-117.75976 33.71961, -117.7600...  \n",
       "2  MULTIPOLYGON (((-117.76202 33.71880, -117.7623...  \n",
       "3  MULTIPOLYGON (((-117.79852 33.66294, -117.7988...  \n",
       "4  MULTIPOLYGON (((-117.75535 33.71856, -117.7556...  "
      ]
     },
     "execution_count": 35,
     "metadata": {},
     "output_type": "execute_result"
    }
   ],
   "source": [
    "combined_geos = gpd.GeoDataFrame({'ParcelFullAddress': list(all_addresses)}, geometry=multi_poly)\n",
    "combined_geos.head()"
   ]
  },
  {
   "cell_type": "code",
   "execution_count": 36,
   "metadata": {},
   "outputs": [
    {
     "name": "stderr",
     "output_type": "stream",
     "text": [
      "/Users/arnavmalhotra/anaconda3/envs/pw/lib/python3.10/site-packages/geopandas/geodataframe.py:1537: UserWarning: Geometry column does not contain geometry.\n",
      "  warnings.warn(\"Geometry column does not contain geometry.\")\n"
     ]
    }
   ],
   "source": [
    "combined_geos['geometry'] = to_geojson(combined_geos['geometry'])\n",
    "combined_geos.to_csv('combined_geos.csv')"
   ]
  },
  {
   "cell_type": "code",
   "execution_count": null,
   "metadata": {},
   "outputs": [],
   "source": []
  }
 ],
 "metadata": {
  "kernelspec": {
   "display_name": "crmls",
   "language": "python",
   "name": "python3"
  },
  "language_info": {
   "codemirror_mode": {
    "name": "ipython",
    "version": 3
   },
   "file_extension": ".py",
   "mimetype": "text/x-python",
   "name": "python",
   "nbconvert_exporter": "python",
   "pygments_lexer": "ipython3",
   "version": "3.10.12"
  },
  "orig_nbformat": 4
 },
 "nbformat": 4,
 "nbformat_minor": 2
}
