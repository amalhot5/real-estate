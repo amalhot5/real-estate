{
 "cells": [
  {
   "cell_type": "code",
   "execution_count": 1,
   "metadata": {},
   "outputs": [],
   "source": [
    "import pandas as pd"
   ]
  },
  {
   "cell_type": "code",
   "execution_count": 2,
   "metadata": {},
   "outputs": [
    {
     "data": {
      "text/html": [
       "<div>\n",
       "<style scoped>\n",
       "    .dataframe tbody tr th:only-of-type {\n",
       "        vertical-align: middle;\n",
       "    }\n",
       "\n",
       "    .dataframe tbody tr th {\n",
       "        vertical-align: top;\n",
       "    }\n",
       "\n",
       "    .dataframe thead th {\n",
       "        text-align: right;\n",
       "    }\n",
       "</style>\n",
       "<table border=\"1\" class=\"dataframe\">\n",
       "  <thead>\n",
       "    <tr style=\"text-align: right;\">\n",
       "      <th></th>\n",
       "      <th>first_name</th>\n",
       "      <th>middle_name</th>\n",
       "      <th>last_name</th>\n",
       "      <th>Full Name</th>\n",
       "      <th>email</th>\n",
       "    </tr>\n",
       "  </thead>\n",
       "  <tbody>\n",
       "    <tr>\n",
       "      <th>0</th>\n",
       "      <td>Steven</td>\n",
       "      <td>P</td>\n",
       "      <td>Wathen</td>\n",
       "      <td>Steven P Wathen</td>\n",
       "      <td>ap@equity.net</td>\n",
       "    </tr>\n",
       "    <tr>\n",
       "      <th>1</th>\n",
       "      <td>Cheyenne</td>\n",
       "      <td>NaN</td>\n",
       "      <td>Riley</td>\n",
       "      <td>Cheyenne Riley</td>\n",
       "      <td>Rileychey@gmail.com</td>\n",
       "    </tr>\n",
       "    <tr>\n",
       "      <th>2</th>\n",
       "      <td>Sandra</td>\n",
       "      <td>Marie</td>\n",
       "      <td>Bowles</td>\n",
       "      <td>Sandra Marie Bowles</td>\n",
       "      <td>bowles2007@hotmail.com</td>\n",
       "    </tr>\n",
       "    <tr>\n",
       "      <th>3</th>\n",
       "      <td>Joann Ryan</td>\n",
       "      <td>NaN</td>\n",
       "      <td>Parr</td>\n",
       "      <td>Joann Ryan Parr</td>\n",
       "      <td>missing@email.com</td>\n",
       "    </tr>\n",
       "    <tr>\n",
       "      <th>4</th>\n",
       "      <td>Stephen</td>\n",
       "      <td>NaN</td>\n",
       "      <td>Merkle</td>\n",
       "      <td>Stephen Merkle</td>\n",
       "      <td>mlsinfooh@sideinc.com</td>\n",
       "    </tr>\n",
       "  </tbody>\n",
       "</table>\n",
       "</div>"
      ],
      "text/plain": [
       "   first_name middle_name last_name            Full Name  \\\n",
       "0      Steven           P    Wathen      Steven P Wathen   \n",
       "1    Cheyenne         NaN     Riley       Cheyenne Riley   \n",
       "2      Sandra       Marie    Bowles  Sandra Marie Bowles   \n",
       "3  Joann Ryan         NaN      Parr      Joann Ryan Parr   \n",
       "4     Stephen         NaN    Merkle       Stephen Merkle   \n",
       "\n",
       "                    email  \n",
       "0           ap@equity.net  \n",
       "1     Rileychey@gmail.com  \n",
       "2  bowles2007@hotmail.com  \n",
       "3       missing@email.com  \n",
       "4   mlsinfooh@sideinc.com  "
      ]
     },
     "execution_count": 2,
     "metadata": {},
     "output_type": "execute_result"
    }
   ],
   "source": [
    "df = pd.read_csv('data/tangilla_members_need_listing_count.csv')\n",
    "df.head()"
   ]
  },
  {
   "cell_type": "code",
   "execution_count": 13,
   "metadata": {},
   "outputs": [],
   "source": [
    "with open('tst.txt', 'w') as f:\n",
    "    f.write('(')\n",
    "    for name in set(df['Full Name']):\n",
    "        f.write(f\"'{name}', \\n\")\n",
    "    f.write(')')"
   ]
  },
  {
   "cell_type": "code",
   "execution_count": 11,
   "metadata": {},
   "outputs": [],
   "source": [
    "def get_fullname(first_name, last_name):\n",
    "    if type(first_name) == str and type(last_name) == str:\n",
    "        return first_name + ' ' + last_name\n",
    "    else:\n",
    "        return None\n",
    "z = [get_fullname(x,y) for x, y in zip(df['first_name'], df['last_name'])]\n",
    "with open('tst.txt', 'w') as f:\n",
    "    f.write('(')\n",
    "    for name in set(z):\n",
    "        if z:\n",
    "            f.write(f\"'{name}', \\n\")\n",
    "    f.write(')')"
   ]
  },
  {
   "cell_type": "code",
   "execution_count": 14,
   "metadata": {},
   "outputs": [],
   "source": [
    "with open('tst.txt', 'w') as f:\n",
    "    f.write('(')\n",
    "    for name in set(df['email']):\n",
    "        if z:\n",
    "            f.write(f\"'{name}', \\n\")\n",
    "    f.write(')')"
   ]
  },
  {
   "cell_type": "code",
   "execution_count": null,
   "metadata": {},
   "outputs": [],
   "source": []
  }
 ],
 "metadata": {
  "kernelspec": {
   "display_name": "pw",
   "language": "python",
   "name": "python3"
  },
  "language_info": {
   "codemirror_mode": {
    "name": "ipython",
    "version": 3
   },
   "file_extension": ".py",
   "mimetype": "text/x-python",
   "name": "python",
   "nbconvert_exporter": "python",
   "pygments_lexer": "ipython3",
   "version": "3.10.12"
  },
  "orig_nbformat": 4
 },
 "nbformat": 4,
 "nbformat_minor": 2
}
