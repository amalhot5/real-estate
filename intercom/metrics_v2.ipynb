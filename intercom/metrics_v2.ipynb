{
 "cells": [
  {
   "cell_type": "markdown",
   "metadata": {},
   "source": [
    "# Deriving Metrics from Intercom Metadata\n",
    "This notebook will lay out how to get a Customer Satisfaction metric for the conversations that are being had on Intercom. It will also show a couple different ways of grouping that data to get different insights."
   ]
  },
  {
   "cell_type": "code",
   "execution_count": 1,
   "metadata": {},
   "outputs": [],
   "source": [
    "import pandas as pd\n",
    "import matplotlib.pyplot as plt"
   ]
  },
  {
   "cell_type": "code",
   "execution_count": 22,
   "metadata": {},
   "outputs": [],
   "source": [
    "def report_writer(dfs:dict, report_name:str):\n",
    "    \"\"\"Creates an excel report using a dictionary of dfs.\n",
    "\n",
    "    Args:\n",
    "        dfs (dict): Data\n",
    "        report_name (str): Name of file.\n",
    "    \"\"\"\n",
    "    writer = pd.ExcelWriter(report_name, engine='xlsxwriter')\n",
    "    workbook = writer.book\n",
    "    format = workbook.add_format()\n",
    "    format.set_align('center')\n",
    "    for sheetname, df in dfs.items():\n",
    "        df.to_excel(writer, sheet_name=sheetname, index=False)\n",
    "        worksheet = writer.sheets[sheetname]\n",
    "        for idx, col in enumerate(df):\n",
    "            series =df[col]\n",
    "            max_len = max((\n",
    "                series.astype(str).map(len).max(),\n",
    "                len(str(series.name))\n",
    "            ))+1\n",
    "            worksheet.set_column(idx, idx, max_len, format)\n",
    "\n",
    "    writer.close()"
   ]
  },
  {
   "cell_type": "code",
   "execution_count": 2,
   "metadata": {},
   "outputs": [],
   "source": [
    "data = pd.read_csv('data/metadata_231116.csv')\n",
    "data['Created at'] = pd.to_datetime(data['Created at'])\n",
    "rated_data = data.dropna(subset='Conversation rating')\n",
    "data = data[data['Inbound/Outbound'] == 'Inbound']"
   ]
  },
  {
   "cell_type": "markdown",
   "metadata": {},
   "source": [
    "[Customer Satisfaction can be calculated from a 5 point scale.](https://www.fullview.io/blog/how-to-calculate-csat#:~:text=Scores%20of%201%20to%203,responses%20and%20multiply%20by%20100.) The metric is defined as the number of 4 or 5 star reviews/total number of reviews. Once the following column is created, you can group the data by any column and get the mean of `customer_satisfaction` to get the customer satsifaction score."
   ]
  },
  {
   "cell_type": "code",
   "execution_count": 3,
   "metadata": {},
   "outputs": [],
   "source": [
    "rated_data['customer_satisfaction'] = [1 if x >= 4 else 0 for x in rated_data['Conversation rating']]"
   ]
  },
  {
   "cell_type": "markdown",
   "metadata": {},
   "source": [
    "### Creating Categorical Columns to Group By"
   ]
  },
  {
   "cell_type": "code",
   "execution_count": 4,
   "metadata": {},
   "outputs": [],
   "source": [
    "def categorize_response_time(x):\n",
    "    if x < 60:\n",
    "        return '0)0-1 min'\n",
    "    elif x < 60*5:\n",
    "        return '1)1-5 min'\n",
    "    elif x < 60*15:\n",
    "        return '2)5-15 min'\n",
    "    elif x < 60*30:\n",
    "        return '3)15-30 min'\n",
    "    elif x < 60*60:\n",
    "        return '4)30-60 min'\n",
    "    elif x < 60*120:\n",
    "        return '5)60-120 min'\n",
    "    else:\n",
    "        return '6)>120 min'\n",
    "rated_data['time_to_respond_cat'] = [categorize_response_time(x) for x in rated_data['Time to first reply (seconds)']]"
   ]
  },
  {
   "cell_type": "code",
   "execution_count": 5,
   "metadata": {},
   "outputs": [],
   "source": [
    "def categorize_close_time(x):\n",
    "    if x < 60*60:\n",
    "        return '0)<1 hour'\n",
    "    elif x < 60*60*2:\n",
    "        return '1)1-2 hours'\n",
    "    elif x < 60*60*3:\n",
    "        return '2)2-3 hours'\n",
    "    elif x < 60*60*4:\n",
    "        return '3)3-4 hours'\n",
    "    elif x < 60*60*8:\n",
    "        return '4)4-8 hours'\n",
    "    elif x < 60*60*24:\n",
    "        return '5)8-24 hours'\n",
    "    else:\n",
    "        return '6)>24 hours'\n",
    "    \n",
    "rated_data['time_to_close_cat'] = [categorize_close_time(x) for x in rated_data['Time to last close (seconds)']]"
   ]
  },
  {
   "cell_type": "code",
   "execution_count": 6,
   "metadata": {},
   "outputs": [
    {
     "data": {
      "text/plain": [
       "time_to_close_cat\n",
       "0)<1 hour       260\n",
       "1)1-2 hours     165\n",
       "2)2-3 hours     138\n",
       "3)3-4 hours     101\n",
       "4)4-8 hours     225\n",
       "5)8-24 hours    189\n",
       "6)>24 hours     126\n",
       "Name: Conversation ID, dtype: int64"
      ]
     },
     "execution_count": 6,
     "metadata": {},
     "output_type": "execute_result"
    }
   ],
   "source": [
    "rated_data.groupby('time_to_close_cat')['Conversation ID'].nunique()"
   ]
  },
  {
   "cell_type": "code",
   "execution_count": 7,
   "metadata": {},
   "outputs": [],
   "source": [
    "rated_data['created_week'] = [x.week for x in rated_data['Created at']]\n",
    "rated_data['created_month'] = [x.month for x in rated_data['Created at']]"
   ]
  },
  {
   "cell_type": "code",
   "execution_count": 8,
   "metadata": {},
   "outputs": [],
   "source": [
    "rated_data['closed_by_same'] = [1 if x == y else 0 for x, y in zip(rated_data['Closed by (ID)'], rated_data['Assigned to (ID)'])]"
   ]
  },
  {
   "cell_type": "markdown",
   "metadata": {},
   "source": [
    "## Creating Visualizations"
   ]
  },
  {
   "cell_type": "code",
   "execution_count": 9,
   "metadata": {},
   "outputs": [],
   "source": [
    "# time to response categories\n",
    "# time to close categories\n",
    "# created_by week and month\n",
    "# Companies (name)\n",
    "# Assigned to (name)\n",
    "# Closed by (name) different than Assigned to (name)"
   ]
  },
  {
   "cell_type": "code",
   "execution_count": 21,
   "metadata": {},
   "outputs": [],
   "source": [
    "retdict = {\n",
    "    'time_to_respond': rated_data.groupby('time_to_respond_cat').agg({'Conversation ID': 'nunique', 'customer_satisfaction': 'mean'}).sort_index().reset_index().rename(columns={'Conversation ID': 'conversations_rated'}),\n",
    "    'time_to_close': rated_data.groupby('time_to_close_cat').agg({'Conversation ID': 'nunique', 'customer_satisfaction': 'mean'}).rename(columns={'Conversation ID': 'conversations_rated'}).sort_index().reset_index(),\n",
    "    'created_week': rated_data.groupby('created_week').agg({'Conversation ID': 'nunique', 'customer_satisfaction': 'mean'}).rename(columns={'Conversation ID': 'conversations_rated'}).sort_index().reset_index(),\n",
    "    'created_month': rated_data.groupby('created_month').agg({'Conversation ID': 'nunique', 'customer_satisfaction': 'mean'}).rename(columns={'Conversation ID': 'conversations_rated'}).sort_index().reset_index(),\n",
    "    'company': rated_data.groupby('Companies (name)').agg({'Conversation ID': 'nunique', 'customer_satisfaction': 'mean'}).rename(columns={'Conversation ID': 'conversations_rated'}).sort_index().reset_index(),\n",
    "    'assigned_to': rated_data.groupby('Assigned to (name)').agg({'Conversation ID': 'nunique', 'customer_satisfaction': 'mean'}).rename(columns={'Conversation ID': 'conversations_rated'}).sort_index().reset_index(),\n",
    "    'closed_by': rated_data.groupby('Closed by (name)').agg({'Conversation ID': 'nunique', 'customer_satisfaction': 'mean'}).rename(columns={'Conversation ID': 'conversations_rated'}).sort_index().reset_index(),\n",
    "    'different_closer': rated_data.groupby('closed_by_same').agg({'Conversation ID': 'nunique', 'customer_satisfaction': 'mean'}).rename(columns={'Conversation ID': 'conversations_rated'}).sort_index().reset_index(),\n",
    "    'rated_data': rated_data[['Conversation ID', 'customer_satisfaction', 'time_to_respond_cat', 'time_to_close_cat', 'created_month', 'created_week', 'Companies (name)', 'Assigned to (name)', 'Closed by (name)', 'closed_by_same']]\n",
    "}"
   ]
  },
  {
   "cell_type": "code",
   "execution_count": 23,
   "metadata": {},
   "outputs": [],
   "source": [
    "report_writer(retdict, 'intercom_metrics.xlsx')"
   ]
  },
  {
   "cell_type": "code",
   "execution_count": 13,
   "metadata": {},
   "outputs": [
    {
     "data": {
      "text/html": [
       "<div>\n",
       "<style scoped>\n",
       "    .dataframe tbody tr th:only-of-type {\n",
       "        vertical-align: middle;\n",
       "    }\n",
       "\n",
       "    .dataframe tbody tr th {\n",
       "        vertical-align: top;\n",
       "    }\n",
       "\n",
       "    .dataframe thead th {\n",
       "        text-align: right;\n",
       "    }\n",
       "</style>\n",
       "<table border=\"1\" class=\"dataframe\">\n",
       "  <thead>\n",
       "    <tr style=\"text-align: right;\">\n",
       "      <th></th>\n",
       "      <th>conversations_rated</th>\n",
       "      <th>customer_satisfaction</th>\n",
       "    </tr>\n",
       "    <tr>\n",
       "      <th>time_to_close_cat</th>\n",
       "      <th></th>\n",
       "      <th></th>\n",
       "    </tr>\n",
       "  </thead>\n",
       "  <tbody>\n",
       "    <tr>\n",
       "      <th>0)&lt;1 hour</th>\n",
       "      <td>260</td>\n",
       "      <td>0.896154</td>\n",
       "    </tr>\n",
       "    <tr>\n",
       "      <th>1)1-2 hours</th>\n",
       "      <td>165</td>\n",
       "      <td>0.884848</td>\n",
       "    </tr>\n",
       "    <tr>\n",
       "      <th>2)2-3 hours</th>\n",
       "      <td>138</td>\n",
       "      <td>0.768116</td>\n",
       "    </tr>\n",
       "    <tr>\n",
       "      <th>3)3-4 hours</th>\n",
       "      <td>101</td>\n",
       "      <td>0.792079</td>\n",
       "    </tr>\n",
       "    <tr>\n",
       "      <th>4)4-8 hours</th>\n",
       "      <td>225</td>\n",
       "      <td>0.693333</td>\n",
       "    </tr>\n",
       "    <tr>\n",
       "      <th>5)8-24 hours</th>\n",
       "      <td>189</td>\n",
       "      <td>0.703704</td>\n",
       "    </tr>\n",
       "    <tr>\n",
       "      <th>6)&gt;24 hours</th>\n",
       "      <td>126</td>\n",
       "      <td>0.706349</td>\n",
       "    </tr>\n",
       "  </tbody>\n",
       "</table>\n",
       "</div>"
      ],
      "text/plain": [
       "                   conversations_rated  customer_satisfaction\n",
       "time_to_close_cat                                            \n",
       "0)<1 hour                          260               0.896154\n",
       "1)1-2 hours                        165               0.884848\n",
       "2)2-3 hours                        138               0.768116\n",
       "3)3-4 hours                        101               0.792079\n",
       "4)4-8 hours                        225               0.693333\n",
       "5)8-24 hours                       189               0.703704\n",
       "6)>24 hours                        126               0.706349"
      ]
     },
     "execution_count": 13,
     "metadata": {},
     "output_type": "execute_result"
    }
   ],
   "source": [
    "retdict['time_to_close']"
   ]
  },
  {
   "cell_type": "code",
   "execution_count": 30,
   "metadata": {},
   "outputs": [
    {
     "data": {
      "image/png": "[encoded data removed]",
      "text/plain": [
       "<Figure size 1200x1200 with 8 Axes>"
      ]
     },
     "metadata": {},
     "output_type": "display_data"
    }
   ],
   "source": [
    "fig, axs = plt.subplots(nrows=2, ncols=4, figsize=(12, 12), sharey=True)\n",
    "fs = 10\n",
    "\n",
    "axs[0, 0].bar(retdict['time_to_close']['time_to_close_cat'], retdict['time_to_close']['customer_satisfaction'])\n",
    "axs[0, 0].set_title('Time to Close', fontsize=fs)\n",
    "\n",
    "axs[0, 1].bar(retdict['time_to_respond']['time_to_respond_cat'], retdict['time_to_respond']['customer_satisfaction'])\n",
    "axs[0, 1].set_title('Time to Respond', fontsize=fs)\n",
    "\n",
    "axs[0, 2].bar(retdict['created_week']['created_week'], retdict['created_week']['customer_satisfaction'])\n",
    "axs[0, 2].set_title('Week Created', fontsize=fs)\n",
    "\n",
    "axs[0, 3].bar(retdict['created_month']['created_month'], retdict['created_month']['customer_satisfaction'])\n",
    "axs[0, 3].set_title('Month Created', fontsize=fs)\n",
    "\n",
    "#axs[1, 0].bar(retdict['company']['Companies (name)'], retdict['company']['customer_satisfaction'])\n",
    "#axs[1, 0].set_title('Company', fontsize=fs)\n",
    "\n",
    "axs[1, 1].bar(retdict['assigned_to']['Assigned to (name)'], retdict['assigned_to']['customer_satisfaction'])\n",
    "axs[1, 1].set_title('Assigned To', fontsize=fs)\n",
    "\n",
    "axs[1, 2].bar(retdict['closed_by']['Closed by (name)'], retdict['closed_by']['customer_satisfaction'])\n",
    "axs[1, 2].set_title('Closed By', fontsize=fs)\n",
    "\n",
    "axs[1, 3].bar(retdict['different_closer']['closed_by_same'], retdict['different_closer']['customer_satisfaction'])\n",
    "axs[1, 3].set_title('Same Closer', fontsize=fs)\n",
    "\n",
    "fig.subplots_adjust(hspace=0.4)\n",
    "plt.show()"
   ]
  },
  {
   "cell_type": "code",
   "execution_count": null,
   "metadata": {},
   "outputs": [],
   "source": [
    "ax1 = plt.subplot()"
   ]
  }
 ],
 "metadata": {
  "kernelspec": {
   "display_name": "pw",
   "language": "python",
   "name": "python3"
  },
  "language_info": {
   "codemirror_mode": {
    "name": "ipython",
    "version": 3
   },
   "file_extension": ".py",
   "mimetype": "text/x-python",
   "name": "python",
   "nbconvert_exporter": "python",
   "pygments_lexer": "ipython3",
   "version": "3.10.12"
  }
 },
 "nbformat": 4,
 "nbformat_minor": 2
}
