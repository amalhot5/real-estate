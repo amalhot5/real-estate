{
 "cells": [
  {
   "cell_type": "code",
   "execution_count": 1,
   "metadata": {},
   "outputs": [],
   "source": [
    "import pandas as pd\n",
    "import pickle as pkl\n",
    "\n",
    "from tqdm.notebook import tqdm"
   ]
  },
  {
   "cell_type": "code",
   "execution_count": 2,
   "metadata": {},
   "outputs": [],
   "source": [
    "sample_ids = list(pd.read_csv('data/seen_objects_all_source_id.csv').sample(n=1000000, random_state=42)['source_id'].values)"
   ]
  },
  {
   "cell_type": "code",
   "execution_count": 3,
   "metadata": {},
   "outputs": [
    {
     "data": {
      "application/vnd.jupyter.widget-view+json": {
       "model_id": "1eb98f43ecbf4330b3d75bc470a98c7b",
       "version_major": 2,
       "version_minor": 0
      },
      "text/plain": [
       "  0%|          | 0/100 [00:00<?, ?it/s]"
      ]
     },
     "metadata": {},
     "output_type": "display_data"
    },
    {
     "data": {
      "text/plain": [
       "['41043137:CCBE',\n",
       " 'ML81948792:MLSL',\n",
       " 'ML80200956:MLSL',\n",
       " 'SR23201729:CRM',\n",
       " 'RW2131627:CRM',\n",
       " 'I10075301:CRM',\n",
       " 'HD23195450:CRM',\n",
       " 'RW231340:CRM',\n",
       " 'ML81949079:MLSL',\n",
       " '23275069:CL',\n",
       " 'P0-22176561:CRF',\n",
       " 'OC23219001:CRM',\n",
       " 'RW2140497:CRM',\n",
       " 'RW250475:CRM',\n",
       " 'V1-8586:CRF',\n",
       " 'OC23192632:CRM',\n",
       " 'ML81710700:MLSL',\n",
       " 'P0-22014059:CRF',\n",
       " 'V1-20925:CRF',\n",
       " 'LG22140114:CRM',\n",
       " 'RW221000:CRM',\n",
       " 'ML81929357:MLSL',\n",
       " 'RW2121718:CRM',\n",
       " 'OC23155799:CRM',\n",
       " 'RW210372:CRM',\n",
       " 'RW282562:CRM',\n",
       " 'RW2160892:CRM',\n",
       " 'RW2180028:CRM',\n",
       " 'RW200693:CRM',\n",
       " 'SR23210452:CRM',\n",
       " 'ML81942966:MLSL',\n",
       " 'EV15242080:CRM',\n",
       " 'OC23210104:CRM',\n",
       " 'CV23186519:CRM',\n",
       " 'RW221759:CRM',\n",
       " 'ML81913995:MLSL',\n",
       " 'EV18019092:CRM',\n",
       " 'EV16746102:CRM',\n",
       " '221003427:VCR',\n",
       " 'OC23192571:CRM',\n",
       " '223002593:VCR',\n",
       " 'ML81884732:MLSL',\n",
       " '41043355:CCBE',\n",
       " 'ML81848878:MLSL',\n",
       " 'RW211663:CRM',\n",
       " '223004576:VCR',\n",
       " 'RW251955:CRM',\n",
       " 'OC23165156:CRM',\n",
       " '41039086:CCBE',\n",
       " 'RW2131754:CRM',\n",
       " 'RW260224:CRM',\n",
       " 'IG23199244:CRM',\n",
       " 'EV21165020:CRM',\n",
       " 'ML81937928:MLSL',\n",
       " 'SR23201083:CRM',\n",
       " 'ML81948864:MLSL',\n",
       " 'SW23193119:CRM',\n",
       " 'SR23212930:CRM',\n",
       " '230019642SD:SAND',\n",
       " 'RW241695:CRM',\n",
       " 'PI23208380:CRM',\n",
       " 'SR23147158:CRM',\n",
       " '41042386:CCBE',\n",
       " 'ML81945439:MLSL',\n",
       " '26039673:SAND',\n",
       " 'OC23213631:CRM',\n",
       " 'ML81939211:MLSL',\n",
       " 'CV23185962:CRM',\n",
       " 'RW202461:CRM',\n",
       " 'OC23183943:CRM',\n",
       " '41044563:CCBE',\n",
       " '41043955:CCBE',\n",
       " 'E11068804:CRM',\n",
       " 'SR23163455:CRM',\n",
       " 'ML81943858:MLSL',\n",
       " 'RW240435:CRM',\n",
       " 'ML81931302:MLSL',\n",
       " 'RW250066:CRM',\n",
       " 'RW2141520:CRM',\n",
       " 'OC23210259:CRM',\n",
       " '23324821:CL',\n",
       " 'SW23163351:CRM',\n",
       " 'EV21114584:CRM',\n",
       " 'FR23209566:CRM',\n",
       " '41041856:BMLS',\n",
       " 'ML81947435:MLSL',\n",
       " '26027804:SAND',\n",
       " 'RW240754:CRM',\n",
       " 'P1-14486:CRF',\n",
       " '23321861:CL',\n",
       " 'IV23087630:CRM',\n",
       " 'FR23046491:CRM',\n",
       " 'ML81945909:MLSL',\n",
       " 'ML81948843:MLSL',\n",
       " 'ML81948088:MLSL',\n",
       " 'ML81947594:MLSL',\n",
       " '23330651:CL',\n",
       " 'ML81948118:MLSL',\n",
       " 'SW23190226:CRM',\n",
       " '23333569:CL',\n",
       " 'RW241015:CRM',\n",
       " 'RW291114:CRM',\n",
       " '41041868:CCBE',\n",
       " 'RW291623:CRM',\n",
       " '26011653:SAND',\n",
       " 'ML80048081:MLSL',\n",
       " 'PW23213972:CRM',\n",
       " 'RW2111367:CRM',\n",
       " 'ML81947372:MLSL',\n",
       " '23333573:CL',\n",
       " 'ML81948213:MLSL',\n",
       " 'RW251147:CRM',\n",
       " '41045406:CCBE',\n",
       " 'V0-220008824:CRF',\n",
       " 'OC23214721:CRM',\n",
       " '41044695:CCBE',\n",
       " 'OC23213032:CRM',\n",
       " 'ML80127030:MLSL',\n",
       " 'RW222117:CRM',\n",
       " '23332875:CL',\n",
       " 'CV23184135:CRM',\n",
       " 'ML80334383:MLSL',\n",
       " 'ML81948692:MLSL',\n",
       " 'RW200779:CRM',\n",
       " 'IV23197409:CRM',\n",
       " 'ML81940451:MLSL',\n",
       " 'ML81013544:MLSL',\n",
       " '41045315:CCBE',\n",
       " 'RW982132:CRM',\n",
       " 'IV23100593:CRM',\n",
       " 'ML81946688:MLSL',\n",
       " 'ML80148649:MLSL',\n",
       " '41040721:CCBE',\n",
       " 'ML81897801:MLSL',\n",
       " 'OC23200571:CRM',\n",
       " 'ML81948650:MLSL',\n",
       " 'RW260851:CRM',\n",
       " 'RW220841:CRM',\n",
       " 'ML81808404:MLSL',\n",
       " 'ML81947614:MLSL',\n",
       " 'SB23161979:CRM',\n",
       " '41042089:CCBE',\n",
       " 'ML81938586:MLSL',\n",
       " 'SR23191607:CRM',\n",
       " 'RW2161163:CRM',\n",
       " 'RW221709:CRM',\n",
       " '41040339:BMLS',\n",
       " 'ML81948330:MLSL',\n",
       " 'ML81947475:MLSL',\n",
       " 'E12085259:CRM',\n",
       " 'E09130859:CRM',\n",
       " '223004595:VCR',\n",
       " 'ML81949059:MLSL',\n",
       " 'OC23214468:CRM',\n",
       " 'SB23191083:CRM',\n",
       " 'RW22092215:CRM',\n",
       " '41042762:CCBE',\n",
       " 'EV16144733:CRM',\n",
       " 'ML81944109:MLSL',\n",
       " '23327267:CL',\n",
       " 'HD23147701:CRM',\n",
       " 'RW281087:CRM',\n",
       " 'EV19058420:CRM',\n",
       " 'EV17068397:CRM',\n",
       " 'BB23210648:CRM',\n",
       " '41040670:CCBE',\n",
       " 'OC23215332:CRM',\n",
       " '26041315:SAND',\n",
       " 'RW211668:CRM',\n",
       " '41031648:BMLS',\n",
       " 'EV19096702:CRM',\n",
       " 'SB15131217:CRM',\n",
       " 'SR23122207:CRM',\n",
       " 'OC23179842:CRM',\n",
       " 'SW23147803:CRM',\n",
       " 'RW2192074:CRM',\n",
       " 'EV17229720:CRM',\n",
       " '23295653:CL',\n",
       " 'SR23213831:CRM',\n",
       " '23292741:CL',\n",
       " 'RW231047:CRM',\n",
       " '23335161:CL',\n",
       " 'WS23213715:CRM',\n",
       " 'SB23215581:CRM',\n",
       " 'ML81949068:MLSL',\n",
       " 'OC23217051:CRM',\n",
       " 'ML81948580:MLSL',\n",
       " 'ML81945854:MLSL',\n",
       " '23333983:CL',\n",
       " 'ML81946459:MLSL',\n",
       " '41043709:CCBE',\n",
       " 'ML81935490:MLSL',\n",
       " 'RW242331:CRM',\n",
       " 'EV16006867:CRM',\n",
       " 'RW2171777:CRM',\n",
       " 'SW23148914:CRM',\n",
       " '41040988:CCBE',\n",
       " 'TR13050153:CRM',\n",
       " 'RW2141446:CRM',\n",
       " 'ML81947209:MLSL',\n",
       " 'RW2140916:CRM',\n",
       " 'V0-217000628:CRF',\n",
       " 'OC23189538:CRM',\n",
       " 'ML81924726:MLSL',\n",
       " 'ML81945489:MLSL',\n",
       " 'OC23213714:CRM',\n",
       " 'HD23214197:CRM',\n",
       " '41045147:CCBE',\n",
       " 'EV14112412:CRM']"
      ]
     },
     "execution_count": 3,
     "metadata": {},
     "output_type": "execute_result"
    }
   ],
   "source": [
    "for i in tqdm(range(100)):\n",
    "    with open(f'data/listings_{i}.pkl', 'rb') as f:\n",
    "        tmp_id = pkl.load(f)['rebny_id']\n",
    "    for j in tmp_id:\n",
    "        sample_ids.remove(j)\n",
    "sample_ids"
   ]
  },
  {
   "cell_type": "code",
   "execution_count": 4,
   "metadata": {},
   "outputs": [
    {
     "data": {
      "text/plain": [
       "209"
      ]
     },
     "execution_count": 4,
     "metadata": {},
     "output_type": "execute_result"
    }
   ],
   "source": [
    "len(sample_ids)"
   ]
  },
  {
   "cell_type": "code",
   "execution_count": 13,
   "metadata": {},
   "outputs": [
    {
     "data": {
      "application/vnd.jupyter.widget-view+json": {
       "model_id": "09528fc5024a41b0b5ea459f46a4efe2",
       "version_major": 2,
       "version_minor": 0
      },
      "text/plain": [
       "  0%|          | 0/100 [00:00<?, ?it/s]"
      ]
     },
     "metadata": {},
     "output_type": "display_data"
    }
   ],
   "source": [
    "cols = []\n",
    "for i in tqdm(range(100)):\n",
    "    with open(f'data/seen_objects_{i}.pkl', 'rb') as f:\n",
    "        tmp_df = pkl.load(f)\n",
    "    for d in tmp_df['data']:\n",
    "        cols += list(d.keys())\n",
    "\n",
    "cols = set(cols)\n",
    "len(cols)    "
   ]
  },
  {
   "cell_type": "code",
   "execution_count": 12,
   "metadata": {},
   "outputs": [
    {
     "data": {
      "text/plain": [
       "687"
      ]
     },
     "execution_count": 12,
     "metadata": {},
     "output_type": "execute_result"
    }
   ],
   "source": [
    "cols = []\n",
    "with open(f'data/seen_objects_0.pkl', 'rb') as f:\n",
    "        tmp_df = pkl.load(f)\n",
    "for d in tmp_df['data']:\n",
    "        cols += list(d.keys())\n",
    "\n",
    "len(set(cols))"
   ]
  },
  {
   "cell_type": "code",
   "execution_count": 9,
   "metadata": {},
   "outputs": [
    {
     "data": {
      "text/plain": [
       "dict"
      ]
     },
     "execution_count": 9,
     "metadata": {},
     "output_type": "execute_result"
    }
   ],
   "source": [
    "type(tmp_df['data'][0])"
   ]
  },
  {
   "cell_type": "code",
   "execution_count": null,
   "metadata": {},
   "outputs": [],
   "source": []
  }
 ],
 "metadata": {
  "kernelspec": {
   "display_name": "pw",
   "language": "python",
   "name": "python3"
  },
  "language_info": {
   "codemirror_mode": {
    "name": "ipython",
    "version": 3
   },
   "file_extension": ".py",
   "mimetype": "text/x-python",
   "name": "python",
   "nbconvert_exporter": "python",
   "pygments_lexer": "ipython3",
   "version": "3.10.12"
  }
 },
 "nbformat": 4,
 "nbformat_minor": 2
}
