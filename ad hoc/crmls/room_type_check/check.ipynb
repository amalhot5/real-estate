{
 "cells": [
  {
   "cell_type": "code",
   "execution_count": 1,
   "metadata": {},
   "outputs": [],
   "source": [
    "import pandas as pd"
   ]
  },
  {
   "cell_type": "code",
   "execution_count": 2,
   "metadata": {},
   "outputs": [
    {
     "data": {
      "text/html": [
       "<div>\n",
       "<style scoped>\n",
       "    .dataframe tbody tr th:only-of-type {\n",
       "        vertical-align: middle;\n",
       "    }\n",
       "\n",
       "    .dataframe tbody tr th {\n",
       "        vertical-align: top;\n",
       "    }\n",
       "\n",
       "    .dataframe thead th {\n",
       "        text-align: right;\n",
       "    }\n",
       "</style>\n",
       "<table border=\"1\" class=\"dataframe\">\n",
       "  <thead>\n",
       "    <tr style=\"text-align: right;\">\n",
       "      <th></th>\n",
       "      <th>room_type</th>\n",
       "    </tr>\n",
       "  </thead>\n",
       "  <tbody>\n",
       "    <tr>\n",
       "      <th>0</th>\n",
       "      <td>AE</td>\n",
       "    </tr>\n",
       "    <tr>\n",
       "      <th>1</th>\n",
       "      <td>AE,AM</td>\n",
       "    </tr>\n",
       "    <tr>\n",
       "      <th>2</th>\n",
       "      <td>AE,AM,ART</td>\n",
       "    </tr>\n",
       "    <tr>\n",
       "      <th>3</th>\n",
       "      <td>AE,AM,ART,BA,BDDN,BDUP</td>\n",
       "    </tr>\n",
       "    <tr>\n",
       "      <th>4</th>\n",
       "      <td>AE,AM,ART,BA,BDDN,BDUP,BNS</td>\n",
       "    </tr>\n",
       "  </tbody>\n",
       "</table>\n",
       "</div>"
      ],
      "text/plain": [
       "                    room_type\n",
       "0                          AE\n",
       "1                       AE,AM\n",
       "2                   AE,AM,ART\n",
       "3      AE,AM,ART,BA,BDDN,BDUP\n",
       "4  AE,AM,ART,BA,BDDN,BDUP,BNS"
      ]
     },
     "execution_count": 2,
     "metadata": {},
     "output_type": "execute_result"
    }
   ],
   "source": [
    "df = pd.read_csv('CRMLS_Distinct_RoomType_Euphrates_2024_05_21.csv')\n",
    "df.head()"
   ]
  },
  {
   "cell_type": "code",
   "execution_count": 3,
   "metadata": {},
   "outputs": [
    {
     "data": {
      "text/plain": [
       "{'AE',\n",
       " 'AM',\n",
       " 'ART',\n",
       " 'BA',\n",
       " 'BDDN',\n",
       " 'BDUP',\n",
       " 'BNS',\n",
       " 'CBD',\n",
       " 'CHL',\n",
       " 'DEN',\n",
       " 'DNC',\n",
       " 'DRS',\n",
       " 'ENT',\n",
       " 'FAM',\n",
       " 'FENT',\n",
       " 'FOYR',\n",
       " 'GAL',\n",
       " 'GAME',\n",
       " 'GQ',\n",
       " 'GR',\n",
       " 'GYM',\n",
       " 'JJ',\n",
       " 'KITC',\n",
       " 'LF',\n",
       " 'LI',\n",
       " 'LIV',\n",
       " 'LNDR',\n",
       " 'MBD',\n",
       " 'MBTH',\n",
       " 'MED',\n",
       " 'MF',\n",
       " 'MLBD',\n",
       " 'MM',\n",
       " 'MSUI',\n",
       " 'PN',\n",
       " 'PRJ',\n",
       " 'PRKG',\n",
       " 'RR',\n",
       " 'RT',\n",
       " 'SAUN',\n",
       " 'SEE',\n",
       " 'SEP',\n",
       " 'SND',\n",
       " 'STD',\n",
       " 'SUN',\n",
       " 'THR',\n",
       " 'TWO',\n",
       " 'UR',\n",
       " 'WI',\n",
       " 'WK'}"
      ]
     },
     "execution_count": 3,
     "metadata": {},
     "output_type": "execute_result"
    }
   ],
   "source": [
    "ret_set = set()\n",
    "for i in df['room_type']:\n",
    "    try:\n",
    "        [ret_set.add(x) for x in i.split(',')]\n",
    "    except:\n",
    "        continue\n",
    "ret_set"
   ]
  },
  {
   "cell_type": "code",
   "execution_count": 4,
   "metadata": {},
   "outputs": [
    {
     "data": {
      "text/plain": [
       "50"
      ]
     },
     "execution_count": 4,
     "metadata": {},
     "output_type": "execute_result"
    }
   ],
   "source": [
    "len(ret_set)"
   ]
  },
  {
   "cell_type": "code",
   "execution_count": null,
   "metadata": {},
   "outputs": [],
   "source": []
  }
 ],
 "metadata": {
  "kernelspec": {
   "display_name": "pw",
   "language": "python",
   "name": "python3"
  },
  "language_info": {
   "codemirror_mode": {
    "name": "ipython",
    "version": 3
   },
   "file_extension": ".py",
   "mimetype": "text/x-python",
   "name": "python",
   "nbconvert_exporter": "python",
   "pygments_lexer": "ipython3",
   "version": "3.10.12"
  }
 },
 "nbformat": 4,
 "nbformat_minor": 2
}
