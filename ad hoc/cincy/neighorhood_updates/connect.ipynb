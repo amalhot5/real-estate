{
 "cells": [
  {
   "cell_type": "code",
   "execution_count": 3,
   "metadata": {},
   "outputs": [],
   "source": [
    "import subprocess\n",
    "def connect_to_db(user=\"teleport\", db_name=\"perchwell\",\n",
    "                   db_extended_name=\"postgres-prod-read-replica\",\n",
    "                     port=\"2023\", tunnel=True)->None:\n",
    "    \n",
    "    subprocess.Popen(f\"kill -9 $(lsof -ti:{port})\", shell = True)\n",
    "\n",
    "    subprocess.run([\"tsh\", \"login\", \"--proxy=teleport.mgmt.perchwell.com:443\"])\n",
    "\n",
    "    subprocess.run([\"tsh\", \"db\", \"login\", f\"--db-user={user}\",\n",
    "                     f\"--db-name={db_name}\", f\"{db_extended_name}\"])\n",
    " \n",
    "    subprocess.run([\"tsh\", \"db\", \"connect\", f\"--db-user={user}\",\n",
    "                     f\"--db-name={db_name}\" ,\n",
    "                     f\"{db_extended_name}\"], input=b\"\\\\q\\n\")\n",
    "    if tunnel:\n",
    "\n",
    "        subprocess.run([\"tsh\", \"proxy\", \"db\", f\"--db-user={user}\",\n",
    "                        f\"--db-name={db_name}\", \"--tunnel\" ,\n",
    "                        f\"{db_extended_name}\", \"--port\",\n",
    "                        f\"{port}\"],input=b\"CtrlD\\n\")"
   ]
  },
  {
   "cell_type": "code",
   "execution_count": 4,
   "metadata": {},
   "outputs": [
    {
     "name": "stdout",
     "output_type": "stream",
     "text": [
      "> Profile URL:        https://teleport.mgmt.perchwell.com:443\n",
      "  Logged in as:       arnav-perchwell\n",
      "  Cluster:            teleport.mgmt.perchwell.com\n",
      "  Roles:              demo-users, prod-ro-users, prod-users, stg-users\n",
      "  Logins:             ubuntu, root, ec2-user\n",
      "  Kubernetes:         enabled\n",
      "  Kubernetes groups:  system:masters\n",
      "  Databases:          datateam-staging\n",
      "  Valid until:        2023-10-12 23:15:25 -0400 EDT [valid for 11h28m0s]\n",
      "  Extensions:         login-ip, permit-port-forwarding, permit-pty, private-key-policy\n",
      "\n",
      "Connection information for database \"datateam-staging\" has been saved.\n",
      "\n",
      "You can now connect to it using the following command:\n",
      "\n",
      "  \u001b[33mtsh db connect datateam-staging\u001b[0m\n",
      "\n",
      "You can view the connect command for the native database CLI client:\n",
      "\n",
      "  \u001b[33mtsh db config --format=cmd datateam-staging\u001b[0m\n",
      "\n"
     ]
    },
    {
     "name": "stderr",
     "output_type": "stream",
     "text": [
      "psql: error: connection to server at \"teleport.mgmt.perchwell.com\" (10.32.2.104), port 443 failed: FATAL:  database \"perchwell\" does not exist\n",
      "\u001b[31mERROR: \u001b[0mexit status 2\n",
      "\n"
     ]
    },
    {
     "name": "stdout",
     "output_type": "stream",
     "text": [
      "Started authenticated tunnel for the PostgreSQL database \"datateam-staging\" in cluster \"teleport.mgmt.perchwell.com\" on 127.0.0.1:2023.\n",
      "\n",
      "Use the following command to connect to the database or to the address above using other database GUI/CLI clients:\n",
      "  $ psql postgres://teleport@localhost:2023/perchwell\n"
     ]
    }
   ],
   "source": [
    "connect_to_db(db_extended_name='datateam-staging')"
   ]
  },
  {
   "cell_type": "code",
   "execution_count": null,
   "metadata": {},
   "outputs": [],
   "source": []
  }
 ],
 "metadata": {
  "kernelspec": {
   "display_name": "pw",
   "language": "python",
   "name": "python3"
  },
  "language_info": {
   "codemirror_mode": {
    "name": "ipython",
    "version": 3
   },
   "file_extension": ".py",
   "mimetype": "text/x-python",
   "name": "python",
   "nbconvert_exporter": "python",
   "pygments_lexer": "ipython3",
   "version": "3.10.12"
  },
  "orig_nbformat": 4
 },
 "nbformat": 4,
 "nbformat_minor": 2
}
