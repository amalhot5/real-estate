{
 "cells": [
  {
   "cell_type": "code",
   "execution_count": 1,
   "metadata": {},
   "outputs": [],
   "source": [
    "import json\n",
    "import geopandas as gpd\n",
    "import pickle as pkl\n",
    "\n",
    "from pull_PW_data import pull_data\n",
    "from shapely.geometry import shape\n"
   ]
  },
  {
   "cell_type": "code",
   "execution_count": 2,
   "metadata": {},
   "outputs": [],
   "source": [
    "query_string = '''\n",
    "    select b.id, b.display_address, b.zip, st_asgeojson(b.geometry) as geometry_json\n",
    "    from buildings b\n",
    "    inner join building_geographies bg\n",
    "        on b.id = bg.building_id\n",
    "    inner join geographies g\n",
    "        on bg.geography_id = g.id\n",
    "    where g.name = 'Hamilton County'\n",
    "    --where state = 'OH'\n",
    "    --where zip in ('45140','45238','45231','45211','45215','45230','45239','45244','45240','45236','45248','45247','45241','45242','45224','45255','45251','45030','45237','45212','45208','45227','45205','45219','45243','45202','45233','45220','45229','45002','45249','45223','45246','45213','45209','45206','45225','45214','45216','45232','45207','45204','45217','45226','45950','45252','45052','45218','45203','45041','45174','45001','45033','45111','45228','45051','45201','45210','45222','45221','45234','45235','45250','45254','45253','45258','45263','45262','45267','45264','45269','45268','45271','45270','45274','45273','45296','45280','45299','45298','45999')\n",
    "'''"
   ]
  },
  {
   "cell_type": "code",
   "execution_count": 3,
   "metadata": {},
   "outputs": [
    {
     "name": "stdout",
     "output_type": "stream",
     "text": [
      "100000 rows appended\n",
      "200000 rows appended\n",
      "300000 rows appended\n",
      "321583 rows appended\n",
      "321583 rows appended\n",
      "final row count: 321583\n"
     ]
    }
   ],
   "source": [
    "try:\n",
    "    with open('hamilton1.pkl', 'rb') as f:\n",
    "        cincy_shape = pkl.load(f)\n",
    "except FileNotFoundError:\n",
    "    cincy_shape = pull_data(query_string)\n",
    "    with open('hamilton1.pkl', 'wb') as f:\n",
    "        pkl.dump(cincy_shape, f)"
   ]
  },
  {
   "cell_type": "code",
   "execution_count": 4,
   "metadata": {},
   "outputs": [],
   "source": [
    "try:\n",
    "    with open('hamilton_shape1.pkl', 'rb') as f:\n",
    "        cincy_shape = pkl.load(f)\n",
    "except FileNotFoundError:\n",
    "    cincy_shape = cincy_shape[cincy_shape.geometry_json.notnull()]\n",
    "    # Transform normal df to geopandas df\n",
    "    cincy_shape = gpd.GeoDataFrame(cincy_shape)\n",
    "    # Transform geojson to shapes\n",
    "    cincy_shape['geometry'] = [shape(json.loads(x)) for x in cincy_shape['geometry_json']]\n",
    "    # Set geometry for geodf\n",
    "    cincy_shape = cincy_shape.set_geometry('geometry')\n",
    "    cincy_shape.set_crs(crs=\"EPSG:4326\", inplace=True)\n",
    "    with open('hamilton_shape1.pkl', 'wb') as f:\n",
    "        pkl.dump(cincy_shape, f)"
   ]
  },
  {
   "cell_type": "code",
   "execution_count": 5,
   "metadata": {},
   "outputs": [
    {
     "name": "stderr",
     "output_type": "stream",
     "text": [
      "/Users/arnavmalhotra/anaconda3/envs/pluto/lib/python3.10/site-packages/geopandas/io/file.py:299: FutureWarning: pandas.Int64Index is deprecated and will be removed from pandas in a future version. Use pandas.Index with the appropriate dtype instead.\n",
      "  pd.Int64Index,\n",
      "/var/folders/_3/v349phgn4ljd3jkf3ll9p2cm0000gp/T/ipykernel_8583/997108018.py:1: UserWarning: Column names longer than 10 characters will be truncated when saved to ESRI Shapefile.\n",
      "  cincy_shape.to_file('hamilton_shape')\n"
     ]
    }
   ],
   "source": [
    "cincy_shape.to_file('hamilton_shape')"
   ]
  },
  {
   "cell_type": "code",
   "execution_count": 14,
   "metadata": {},
   "outputs": [],
   "source": [
    "roads = cincy_shape[cincy_shape['id'].isin([4026699, 4020375, 4020409, 4215435])]"
   ]
  },
  {
   "cell_type": "code",
   "execution_count": 15,
   "metadata": {},
   "outputs": [
    {
     "name": "stderr",
     "output_type": "stream",
     "text": [
      "/Users/arnavmalhotra/anaconda3/envs/pluto/lib/python3.10/site-packages/geopandas/geodataframe.py:1322: SettingWithCopyWarning: \n",
      "A value is trying to be set on a copy of a slice from a DataFrame.\n",
      "Try using .loc[row_indexer,col_indexer] = value instead\n",
      "\n",
      "See the caveats in the documentation: https://pandas.pydata.org/pandas-docs/stable/user_guide/indexing.html#returning-a-view-versus-a-copy\n",
      "  super(GeoDataFrame, self).__setitem__(key, value)\n",
      "/Users/arnavmalhotra/anaconda3/envs/pluto/lib/python3.10/site-packages/geopandas/geodataframe.py:1322: SettingWithCopyWarning: \n",
      "A value is trying to be set on a copy of a slice from a DataFrame.\n",
      "Try using .loc[row_indexer,col_indexer] = value instead\n",
      "\n",
      "See the caveats in the documentation: https://pandas.pydata.org/pandas-docs/stable/user_guide/indexing.html#returning-a-view-versus-a-copy\n",
      "  super(GeoDataFrame, self).__setitem__(key, value)\n"
     ]
    }
   ],
   "source": [
    "#from shapely import MultiPolygon, Polygon, LineString, MultiLineString\n",
    "roads['area'] = [x.area for x in roads['geometry']]\n",
    "roads['perimeter'] = [x.length for x in roads['geometry']]"
   ]
  },
  {
   "cell_type": "code",
   "execution_count": 18,
   "metadata": {},
   "outputs": [
    {
     "name": "stderr",
     "output_type": "stream",
     "text": [
      "/Users/arnavmalhotra/anaconda3/envs/pluto/lib/python3.10/site-packages/geopandas/geodataframe.py:1322: SettingWithCopyWarning: \n",
      "A value is trying to be set on a copy of a slice from a DataFrame.\n",
      "Try using .loc[row_indexer,col_indexer] = value instead\n",
      "\n",
      "See the caveats in the documentation: https://pandas.pydata.org/pandas-docs/stable/user_guide/indexing.html#returning-a-view-versus-a-copy\n",
      "  super(GeoDataFrame, self).__setitem__(key, value)\n"
     ]
    }
   ],
   "source": [
    "roads['perimeter:area'] = roads['area']/roads['perimeter']"
   ]
  },
  {
   "cell_type": "code",
   "execution_count": 19,
   "metadata": {},
   "outputs": [
    {
     "data": {
      "text/html": [
       "<div>\n",
       "<style scoped>\n",
       "    .dataframe tbody tr th:only-of-type {\n",
       "        vertical-align: middle;\n",
       "    }\n",
       "\n",
       "    .dataframe tbody tr th {\n",
       "        vertical-align: top;\n",
       "    }\n",
       "\n",
       "    .dataframe thead th {\n",
       "        text-align: right;\n",
       "    }\n",
       "</style>\n",
       "<table border=\"1\" class=\"dataframe\">\n",
       "  <thead>\n",
       "    <tr style=\"text-align: right;\">\n",
       "      <th></th>\n",
       "      <th>id</th>\n",
       "      <th>display_address</th>\n",
       "      <th>zip</th>\n",
       "      <th>geometry_json</th>\n",
       "      <th>geometry</th>\n",
       "      <th>area</th>\n",
       "      <th>perimeter</th>\n",
       "      <th>perimeter:area</th>\n",
       "    </tr>\n",
       "  </thead>\n",
       "  <tbody>\n",
       "    <tr>\n",
       "      <th>233193</th>\n",
       "      <td>4215435</td>\n",
       "      <td>1797 Leona Drive</td>\n",
       "      <td>45238</td>\n",
       "      <td>{\"type\":\"MultiPolygon\",\"coordinates\":[[[[-84.6...</td>\n",
       "      <td>MULTIPOLYGON (((-84.61664 39.12457, -84.61665 ...</td>\n",
       "      <td>7.402677e-08</td>\n",
       "      <td>0.001345</td>\n",
       "      <td>0.000055</td>\n",
       "    </tr>\n",
       "    <tr>\n",
       "      <th>314815</th>\n",
       "      <td>4026699</td>\n",
       "      <td>3430 Robinet Drive</td>\n",
       "      <td>45238</td>\n",
       "      <td>{\"type\":\"MultiPolygon\",\"coordinates\":[[[[-84.6...</td>\n",
       "      <td>MULTIPOLYGON (((-84.61844 39.13396, -84.61865 ...</td>\n",
       "      <td>7.356227e-07</td>\n",
       "      <td>0.011364</td>\n",
       "      <td>0.000065</td>\n",
       "    </tr>\n",
       "    <tr>\n",
       "      <th>318090</th>\n",
       "      <td>4020375</td>\n",
       "      <td>3403 Anaconda Drive</td>\n",
       "      <td>45211</td>\n",
       "      <td>{\"type\":\"MultiPolygon\",\"coordinates\":[[[[-84.5...</td>\n",
       "      <td>MULTIPOLYGON (((-84.58098 39.15293, -84.58111 ...</td>\n",
       "      <td>3.718873e-07</td>\n",
       "      <td>0.005627</td>\n",
       "      <td>0.000066</td>\n",
       "    </tr>\n",
       "    <tr>\n",
       "      <th>318505</th>\n",
       "      <td>4020409</td>\n",
       "      <td>3384 Rodeo Court</td>\n",
       "      <td>45211</td>\n",
       "      <td>{\"type\":\"MultiPolygon\",\"coordinates\":[[[[-84.5...</td>\n",
       "      <td>MULTIPOLYGON (((-84.57742 39.15208, -84.57745 ...</td>\n",
       "      <td>3.377843e-07</td>\n",
       "      <td>0.004269</td>\n",
       "      <td>0.000079</td>\n",
       "    </tr>\n",
       "  </tbody>\n",
       "</table>\n",
       "</div>"
      ],
      "text/plain": [
       "             id      display_address    zip  \\\n",
       "233193  4215435     1797 Leona Drive  45238   \n",
       "314815  4026699   3430 Robinet Drive  45238   \n",
       "318090  4020375  3403 Anaconda Drive  45211   \n",
       "318505  4020409     3384 Rodeo Court  45211   \n",
       "\n",
       "                                            geometry_json  \\\n",
       "233193  {\"type\":\"MultiPolygon\",\"coordinates\":[[[[-84.6...   \n",
       "314815  {\"type\":\"MultiPolygon\",\"coordinates\":[[[[-84.6...   \n",
       "318090  {\"type\":\"MultiPolygon\",\"coordinates\":[[[[-84.5...   \n",
       "318505  {\"type\":\"MultiPolygon\",\"coordinates\":[[[[-84.5...   \n",
       "\n",
       "                                                 geometry          area  \\\n",
       "233193  MULTIPOLYGON (((-84.61664 39.12457, -84.61665 ...  7.402677e-08   \n",
       "314815  MULTIPOLYGON (((-84.61844 39.13396, -84.61865 ...  7.356227e-07   \n",
       "318090  MULTIPOLYGON (((-84.58098 39.15293, -84.58111 ...  3.718873e-07   \n",
       "318505  MULTIPOLYGON (((-84.57742 39.15208, -84.57745 ...  3.377843e-07   \n",
       "\n",
       "        perimeter  perimeter:area  \n",
       "233193   0.001345        0.000055  \n",
       "314815   0.011364        0.000065  \n",
       "318090   0.005627        0.000066  \n",
       "318505   0.004269        0.000079  "
      ]
     },
     "execution_count": 19,
     "metadata": {},
     "output_type": "execute_result"
    }
   ],
   "source": [
    "roads"
   ]
  },
  {
   "cell_type": "code",
   "execution_count": null,
   "metadata": {},
   "outputs": [],
   "source": []
  }
 ],
 "metadata": {
  "kernelspec": {
   "display_name": "pluto",
   "language": "python",
   "name": "python3"
  },
  "language_info": {
   "codemirror_mode": {
    "name": "ipython",
    "version": 3
   },
   "file_extension": ".py",
   "mimetype": "text/x-python",
   "name": "python",
   "nbconvert_exporter": "python",
   "pygments_lexer": "ipython3",
   "version": "3.10.12"
  },
  "orig_nbformat": 4
 },
 "nbformat": 4,
 "nbformat_minor": 2
}
