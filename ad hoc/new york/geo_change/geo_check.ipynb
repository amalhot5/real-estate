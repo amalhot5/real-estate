{
 "cells": [
  {
   "cell_type": "code",
   "execution_count": 1,
   "metadata": {},
   "outputs": [],
   "source": [
    "import pandas as pd\n",
    "import geopandas as gpd\n",
    "\n",
    "from shapely.geometry import Point\n",
    "from tqdm.notebook import tqdm\n",
    "\n",
    "COUNTY_LIST = ['Midtown South', 'NoMad']"
   ]
  },
  {
   "cell_type": "code",
   "execution_count": 10,
   "metadata": {},
   "outputs": [
    {
     "data": {
      "application/vnd.jupyter.widget-view+json": {
       "model_id": "d5758c986d0a4b5590153ac97c7957ab",
       "version_major": 2,
       "version_minor": 0
      },
      "text/plain": [
       "  0%|          | 0/838 [00:00<?, ?it/s]"
      ]
     },
     "metadata": {},
     "output_type": "display_data"
    }
   ],
   "source": [
    "buildings = pd.read_csv('pw_buildings_nomad_midtown_2024_03_06.csv')\n",
    "shapes = gpd.read_file('NoMad_Midtown South Changes.geojson')['geometry']\n",
    "\n",
    "buildings.columns = ['building_id', 'centroid_latitude', 'centroid_longitude', 'name']\n",
    "buildings['centroid'] = [Point(x,y) for x,y in zip(buildings['centroid_longitude'], buildings['centroid_latitude'])]\n",
    "\n",
    "def new_neighborhood(p):\n",
    "    for i in range(len(shapes)):\n",
    "        if shapes[i].contains(p):\n",
    "            return COUNTY_LIST[i]\n",
    "\n",
    "    return None\n",
    "\n",
    "buildings['new_name'] = [new_neighborhood(x) for x in tqdm(buildings['centroid'], total=len(buildings))]\n",
    "buildings_to_change = buildings[((buildings['name'] != buildings['new_name']))]# & (buildings['new_name'].isin(COUNTY_LIST))) | (~(buildings.centroid_latitude.isna()) & (buildings['name'].isin(COUNTY_LIST)) & (buildings['new_name'].isna()))]\n",
    "buildings_to_change[['building_id', 'name', 'new_name']].to_csv('buildings_to_change.csv', index=False)"
   ]
  },
  {
   "cell_type": "code",
   "execution_count": 3,
   "metadata": {},
   "outputs": [],
   "source": [
    "x = gpd.read_file('NoMad_Midtown South Changes.geojson')\n",
    "x.loc[0,'layer'] = 'Midtown South'\n",
    "x.loc[1, 'layer'] = 'NoMad'"
   ]
  },
  {
   "cell_type": "code",
   "execution_count": 4,
   "metadata": {},
   "outputs": [
    {
     "data": {
      "text/html": [
       "<div>\n",
       "<style scoped>\n",
       "    .dataframe tbody tr th:only-of-type {\n",
       "        vertical-align: middle;\n",
       "    }\n",
       "\n",
       "    .dataframe tbody tr th {\n",
       "        vertical-align: top;\n",
       "    }\n",
       "\n",
       "    .dataframe thead th {\n",
       "        text-align: right;\n",
       "    }\n",
       "</style>\n",
       "<table border=\"1\" class=\"dataframe\">\n",
       "  <thead>\n",
       "    <tr style=\"text-align: right;\">\n",
       "      <th></th>\n",
       "      <th>layer</th>\n",
       "      <th>path</th>\n",
       "      <th>geometry</th>\n",
       "    </tr>\n",
       "  </thead>\n",
       "  <tbody>\n",
       "    <tr>\n",
       "      <th>0</th>\n",
       "      <td>Midtown South</td>\n",
       "      <td>NaN</td>\n",
       "      <td>MULTIPOLYGON (((-73.98806 40.74744, -73.98915 ...</td>\n",
       "    </tr>\n",
       "    <tr>\n",
       "      <th>1</th>\n",
       "      <td>NoMad</td>\n",
       "      <td>NaN</td>\n",
       "      <td>MULTIPOLYGON (((-73.98806 40.74744, -73.98725 ...</td>\n",
       "    </tr>\n",
       "  </tbody>\n",
       "</table>\n",
       "</div>"
      ],
      "text/plain": [
       "           layer  path                                           geometry\n",
       "0  Midtown South   NaN  MULTIPOLYGON (((-73.98806 40.74744, -73.98915 ...\n",
       "1          NoMad   NaN  MULTIPOLYGON (((-73.98806 40.74744, -73.98725 ..."
      ]
     },
     "execution_count": 4,
     "metadata": {},
     "output_type": "execute_result"
    }
   ],
   "source": [
    "x"
   ]
  },
  {
   "cell_type": "code",
   "execution_count": 5,
   "metadata": {},
   "outputs": [
    {
     "data": {
      "image/svg+xml": [
       "<svg xmlns=\"http://www.w3.org/2000/svg\" xmlns:xlink=\"http://www.w3.org/1999/xlink\" width=\"100.0\" height=\"100.0\" viewBox=\"-73.99589736924783 40.74385214535918 0.017248464579267875 0.010287890662070254\" preserveAspectRatio=\"xMinYMin meet\"><g transform=\"matrix(1,0,0,-1,0,81.49799218138043)\"><g><path fill-rule=\"evenodd\" fill=\"#66cc99\" stroke=\"#555555\" stroke-width=\"0.0003449692915853575\" opacity=\"0.6\" d=\"M -73.98806399181163,40.74744184945696 L -73.9891489357279,40.7478863704043 L -73.98957904858214,40.74730691056586 L -73.989579214893,40.74730698039337 L -73.98958179190163,40.74730345137064 L -73.99525853722638,40.749688381704345 L -73.99345216609427,40.7521751174998 L -73.98457569848719,40.74849409341395 L -73.98091477878233,40.7535012039998 L -73.97928773669001,40.75282054394343 L -73.98295765983812,40.74774202052061 L -73.97973528535171,40.746382778500084 L -73.98110941646006,40.74449097738063 L -73.98181717599086,40.74479068125449 L -73.9838238538532,40.74563857362914 L -73.98419657268154,40.74581051599135 L -73.98594576797511,40.74653183032522 L -73.98602879939727,40.74656398175099 L -73.98725028387442,40.747085391833636 L -73.98806399181163,40.74744184945696 z\" /></g></g></svg>"
      ],
      "text/plain": [
       "<MULTIPOLYGON (((-73.988 40.747, -73.989 40.748, -73.99 40.747, -73.99 40.74...>"
      ]
     },
     "execution_count": 5,
     "metadata": {},
     "output_type": "execute_result"
    }
   ],
   "source": [
    "shapes[0]"
   ]
  },
  {
   "cell_type": "code",
   "execution_count": 6,
   "metadata": {},
   "outputs": [
    {
     "data": {
      "image/svg+xml": [
       "<svg xmlns=\"http://www.w3.org/2000/svg\" xmlns:xlink=\"http://www.w3.org/1999/xlink\" width=\"100.0\" height=\"100.0\" viewBox=\"-73.99230329943151 40.74037048000095 0.011624416931894643 0.007946424363794335\" preserveAspectRatio=\"xMinYMin meet\"><g transform=\"matrix(1,0,0,-1,0,81.48868738436569)\"><g><path fill-rule=\"evenodd\" fill=\"#66cc99\" stroke=\"#555555\" stroke-width=\"0.00023248833863789286\" opacity=\"0.6\" d=\"M -73.98806399181163,40.74744184945696 L -73.98725028387442,40.747085391833636 L -73.98602879939727,40.74656398175099 L -73.98594576797511,40.74653183032522 L -73.98419657268154,40.74581051599135 L -73.9838238538532,40.74563857362914 L -73.98181717599086,40.74479068125449 L -73.98110941646006,40.74449097738063 L -73.98152138551872,40.74392380913765 L -73.98150922432382,40.74391870312173 L -73.98383884386742,40.74080101396139 L -73.98679314195802,40.74209043507735 L -73.98702749549817,40.742192720085185 L -73.98657221574935,40.742804526348486 L -73.98820911820438,40.743435846605415 L -73.98860694368095,40.742862994056026 L -73.99187276547107,40.74416613251004 L -73.989579214893,40.74730698039337 L -73.98957904858214,40.74730691056586 L -73.9891489357279,40.7478863704043 L -73.98806399181163,40.74744184945696 z\" /></g></g></svg>"
      ],
      "text/plain": [
       "<MULTIPOLYGON (((-73.988 40.747, -73.987 40.747, -73.986 40.747, -73.986 40....>"
      ]
     },
     "execution_count": 6,
     "metadata": {},
     "output_type": "execute_result"
    }
   ],
   "source": [
    "shapes[1]"
   ]
  },
  {
   "cell_type": "code",
   "execution_count": 7,
   "metadata": {},
   "outputs": [
    {
     "name": "stderr",
     "output_type": "stream",
     "text": [
      "/var/folders/_3/v349phgn4ljd3jkf3ll9p2cm0000gp/T/ipykernel_37865/4279117071.py:3: SettingWithCopyWarning: \n",
      "A value is trying to be set on a copy of a slice from a DataFrame.\n",
      "Try using .loc[row_indexer,col_indexer] = value instead\n",
      "\n",
      "See the caveats in the documentation: https://pandas.pydata.org/pandas-docs/stable/user_guide/indexing.html#returning-a-view-versus-a-copy\n",
      "  x['layer'] = [str(i) for i in x['layer']]\n",
      "/Users/arnavmalhotra/anaconda3/envs/pw/lib/python3.10/site-packages/geopandas/array.py:1486: UserWarning: CRS not set for some of the concatenation inputs. Setting output's CRS as WGS 84 (the single non-null crs provided).\n",
      "  warnings.warn(\n"
     ]
    }
   ],
   "source": [
    "x = buildings[['building_id', 'centroid', 'name', 'new_name']]\n",
    "x.columns = ['layer', 'geometry', 'name', 'new_name']\n",
    "x['layer'] = [str(i) for i in x['layer']]\n",
    "test = pd.concat([gpd.read_file('NoMad_Midtown South Changes.geojson'), gpd.GeoDataFrame(x)])"
   ]
  },
  {
   "cell_type": "code",
   "execution_count": 8,
   "metadata": {},
   "outputs": [
    {
     "data": {
      "text/plain": [
       "<AxesSubplot: >"
      ]
     },
     "execution_count": 8,
     "metadata": {},
     "output_type": "execute_result"
    },
    {
     "data": {
      "image/png": "[encoded data removed]",
      "text/plain": [
       "<Figure size 640x480 with 1 Axes>"
      ]
     },
     "metadata": {},
     "output_type": "display_data"
    }
   ],
   "source": [
    "test[pd.isna(test['new_name'])].plot()"
   ]
  },
  {
   "cell_type": "code",
   "execution_count": 9,
   "metadata": {},
   "outputs": [
    {
     "data": {
      "text/html": [
       "<div>\n",
       "<style scoped>\n",
       "    .dataframe tbody tr th:only-of-type {\n",
       "        vertical-align: middle;\n",
       "    }\n",
       "\n",
       "    .dataframe tbody tr th {\n",
       "        vertical-align: top;\n",
       "    }\n",
       "\n",
       "    .dataframe thead th {\n",
       "        text-align: right;\n",
       "    }\n",
       "</style>\n",
       "<table border=\"1\" class=\"dataframe\">\n",
       "  <thead>\n",
       "    <tr style=\"text-align: right;\">\n",
       "      <th></th>\n",
       "      <th>layer</th>\n",
       "      <th>path</th>\n",
       "      <th>geometry</th>\n",
       "      <th>name</th>\n",
       "      <th>new_name</th>\n",
       "    </tr>\n",
       "  </thead>\n",
       "  <tbody>\n",
       "    <tr>\n",
       "      <th>0</th>\n",
       "      <td>NaN</td>\n",
       "      <td>NaN</td>\n",
       "      <td>MULTIPOLYGON (((-73.98806 40.74744, -73.98915 ...</td>\n",
       "      <td>NaN</td>\n",
       "      <td>NaN</td>\n",
       "    </tr>\n",
       "    <tr>\n",
       "      <th>1</th>\n",
       "      <td>nomad</td>\n",
       "      <td>NaN</td>\n",
       "      <td>MULTIPOLYGON (((-73.98806 40.74744, -73.98725 ...</td>\n",
       "      <td>NaN</td>\n",
       "      <td>NaN</td>\n",
       "    </tr>\n",
       "    <tr>\n",
       "      <th>27</th>\n",
       "      <td>650616</td>\n",
       "      <td>NaN</td>\n",
       "      <td>POINT (-73.97945 40.77410)</td>\n",
       "      <td>Midtown South</td>\n",
       "      <td>None</td>\n",
       "    </tr>\n",
       "    <tr>\n",
       "      <th>339</th>\n",
       "      <td>651180</td>\n",
       "      <td>NaN</td>\n",
       "      <td>POINT (-73.96346 40.80012)</td>\n",
       "      <td>Midtown South</td>\n",
       "      <td>None</td>\n",
       "    </tr>\n",
       "    <tr>\n",
       "      <th>340</th>\n",
       "      <td>650925</td>\n",
       "      <td>NaN</td>\n",
       "      <td>POINT (-73.96018 40.75756)</td>\n",
       "      <td>Midtown South</td>\n",
       "      <td>None</td>\n",
       "    </tr>\n",
       "    <tr>\n",
       "      <th>341</th>\n",
       "      <td>650910</td>\n",
       "      <td>NaN</td>\n",
       "      <td>POINT (-73.94787 40.83137)</td>\n",
       "      <td>Midtown South</td>\n",
       "      <td>None</td>\n",
       "    </tr>\n",
       "    <tr>\n",
       "      <th>342</th>\n",
       "      <td>650907</td>\n",
       "      <td>NaN</td>\n",
       "      <td>POINT (-73.88374 40.83455)</td>\n",
       "      <td>Midtown South</td>\n",
       "      <td>None</td>\n",
       "    </tr>\n",
       "    <tr>\n",
       "      <th>343</th>\n",
       "      <td>650877</td>\n",
       "      <td>NaN</td>\n",
       "      <td>POINT (-73.99401 40.71339)</td>\n",
       "      <td>Midtown South</td>\n",
       "      <td>None</td>\n",
       "    </tr>\n",
       "    <tr>\n",
       "      <th>344</th>\n",
       "      <td>650871</td>\n",
       "      <td>NaN</td>\n",
       "      <td>POINT (-73.98890 40.72124)</td>\n",
       "      <td>Midtown South</td>\n",
       "      <td>None</td>\n",
       "    </tr>\n",
       "    <tr>\n",
       "      <th>345</th>\n",
       "      <td>650610</td>\n",
       "      <td>NaN</td>\n",
       "      <td>POINT (-73.95633 40.78537)</td>\n",
       "      <td>Midtown South</td>\n",
       "      <td>None</td>\n",
       "    </tr>\n",
       "    <tr>\n",
       "      <th>356</th>\n",
       "      <td>651181</td>\n",
       "      <td>NaN</td>\n",
       "      <td>POINT (-74.00232 40.74802)</td>\n",
       "      <td>Midtown South</td>\n",
       "      <td>None</td>\n",
       "    </tr>\n",
       "    <tr>\n",
       "      <th>358</th>\n",
       "      <td>650839</td>\n",
       "      <td>NaN</td>\n",
       "      <td>POINT (-73.95118 40.77368)</td>\n",
       "      <td>Midtown South</td>\n",
       "      <td>None</td>\n",
       "    </tr>\n",
       "    <tr>\n",
       "      <th>359</th>\n",
       "      <td>650674</td>\n",
       "      <td>NaN</td>\n",
       "      <td>POINT (-73.95455 40.76220)</td>\n",
       "      <td>Midtown South</td>\n",
       "      <td>None</td>\n",
       "    </tr>\n",
       "    <tr>\n",
       "      <th>369</th>\n",
       "      <td>651170</td>\n",
       "      <td>NaN</td>\n",
       "      <td>POINT (-74.00100 40.72986)</td>\n",
       "      <td>Midtown South</td>\n",
       "      <td>None</td>\n",
       "    </tr>\n",
       "    <tr>\n",
       "      <th>370</th>\n",
       "      <td>650927</td>\n",
       "      <td>NaN</td>\n",
       "      <td>POINT (-74.00316 40.72460)</td>\n",
       "      <td>Midtown South</td>\n",
       "      <td>None</td>\n",
       "    </tr>\n",
       "    <tr>\n",
       "      <th>371</th>\n",
       "      <td>650909</td>\n",
       "      <td>NaN</td>\n",
       "      <td>POINT (-73.99725 40.74284)</td>\n",
       "      <td>Midtown South</td>\n",
       "      <td>None</td>\n",
       "    </tr>\n",
       "    <tr>\n",
       "      <th>372</th>\n",
       "      <td>650903</td>\n",
       "      <td>NaN</td>\n",
       "      <td>POINT (-74.00455 40.73251)</td>\n",
       "      <td>Midtown South</td>\n",
       "      <td>None</td>\n",
       "    </tr>\n",
       "    <tr>\n",
       "      <th>373</th>\n",
       "      <td>650729</td>\n",
       "      <td>NaN</td>\n",
       "      <td>POINT (-73.98163 40.72823)</td>\n",
       "      <td>Midtown South</td>\n",
       "      <td>None</td>\n",
       "    </tr>\n",
       "    <tr>\n",
       "      <th>374</th>\n",
       "      <td>650657</td>\n",
       "      <td>NaN</td>\n",
       "      <td>POINT (-74.00417 40.73058)</td>\n",
       "      <td>Midtown South</td>\n",
       "      <td>None</td>\n",
       "    </tr>\n",
       "    <tr>\n",
       "      <th>375</th>\n",
       "      <td>650612</td>\n",
       "      <td>NaN</td>\n",
       "      <td>POINT (-73.96557 40.75552)</td>\n",
       "      <td>Midtown South</td>\n",
       "      <td>None</td>\n",
       "    </tr>\n",
       "    <tr>\n",
       "      <th>376</th>\n",
       "      <td>650609</td>\n",
       "      <td>NaN</td>\n",
       "      <td>POINT (-73.98261 40.71862)</td>\n",
       "      <td>Midtown South</td>\n",
       "      <td>None</td>\n",
       "    </tr>\n",
       "    <tr>\n",
       "      <th>471</th>\n",
       "      <td>650949</td>\n",
       "      <td>NaN</td>\n",
       "      <td>POINT (-73.98418 40.73957)</td>\n",
       "      <td>NoMad</td>\n",
       "      <td>None</td>\n",
       "    </tr>\n",
       "    <tr>\n",
       "      <th>472</th>\n",
       "      <td>650934</td>\n",
       "      <td>NaN</td>\n",
       "      <td>POINT (-74.00725 40.72209)</td>\n",
       "      <td>NoMad</td>\n",
       "      <td>None</td>\n",
       "    </tr>\n",
       "    <tr>\n",
       "      <th>473</th>\n",
       "      <td>650901</td>\n",
       "      <td>NaN</td>\n",
       "      <td>POINT (-73.98609 40.72701)</td>\n",
       "      <td>NoMad</td>\n",
       "      <td>None</td>\n",
       "    </tr>\n",
       "    <tr>\n",
       "      <th>482</th>\n",
       "      <td>650950</td>\n",
       "      <td>NaN</td>\n",
       "      <td>POINT (-73.94151 40.81583)</td>\n",
       "      <td>NoMad</td>\n",
       "      <td>None</td>\n",
       "    </tr>\n",
       "    <tr>\n",
       "      <th>483</th>\n",
       "      <td>650728</td>\n",
       "      <td>NaN</td>\n",
       "      <td>POINT (-73.98129 40.73916)</td>\n",
       "      <td>NoMad</td>\n",
       "      <td>None</td>\n",
       "    </tr>\n",
       "    <tr>\n",
       "      <th>493</th>\n",
       "      <td>662537</td>\n",
       "      <td>NaN</td>\n",
       "      <td>POINT (-73.99835 40.68133)</td>\n",
       "      <td>NoMad</td>\n",
       "      <td>None</td>\n",
       "    </tr>\n",
       "  </tbody>\n",
       "</table>\n",
       "</div>"
      ],
      "text/plain": [
       "      layer  path                                           geometry  \\\n",
       "0       NaN   NaN  MULTIPOLYGON (((-73.98806 40.74744, -73.98915 ...   \n",
       "1     nomad   NaN  MULTIPOLYGON (((-73.98806 40.74744, -73.98725 ...   \n",
       "27   650616   NaN                         POINT (-73.97945 40.77410)   \n",
       "339  651180   NaN                         POINT (-73.96346 40.80012)   \n",
       "340  650925   NaN                         POINT (-73.96018 40.75756)   \n",
       "341  650910   NaN                         POINT (-73.94787 40.83137)   \n",
       "342  650907   NaN                         POINT (-73.88374 40.83455)   \n",
       "343  650877   NaN                         POINT (-73.99401 40.71339)   \n",
       "344  650871   NaN                         POINT (-73.98890 40.72124)   \n",
       "345  650610   NaN                         POINT (-73.95633 40.78537)   \n",
       "356  651181   NaN                         POINT (-74.00232 40.74802)   \n",
       "358  650839   NaN                         POINT (-73.95118 40.77368)   \n",
       "359  650674   NaN                         POINT (-73.95455 40.76220)   \n",
       "369  651170   NaN                         POINT (-74.00100 40.72986)   \n",
       "370  650927   NaN                         POINT (-74.00316 40.72460)   \n",
       "371  650909   NaN                         POINT (-73.99725 40.74284)   \n",
       "372  650903   NaN                         POINT (-74.00455 40.73251)   \n",
       "373  650729   NaN                         POINT (-73.98163 40.72823)   \n",
       "374  650657   NaN                         POINT (-74.00417 40.73058)   \n",
       "375  650612   NaN                         POINT (-73.96557 40.75552)   \n",
       "376  650609   NaN                         POINT (-73.98261 40.71862)   \n",
       "471  650949   NaN                         POINT (-73.98418 40.73957)   \n",
       "472  650934   NaN                         POINT (-74.00725 40.72209)   \n",
       "473  650901   NaN                         POINT (-73.98609 40.72701)   \n",
       "482  650950   NaN                         POINT (-73.94151 40.81583)   \n",
       "483  650728   NaN                         POINT (-73.98129 40.73916)   \n",
       "493  662537   NaN                         POINT (-73.99835 40.68133)   \n",
       "\n",
       "              name new_name  \n",
       "0              NaN      NaN  \n",
       "1              NaN      NaN  \n",
       "27   Midtown South     None  \n",
       "339  Midtown South     None  \n",
       "340  Midtown South     None  \n",
       "341  Midtown South     None  \n",
       "342  Midtown South     None  \n",
       "343  Midtown South     None  \n",
       "344  Midtown South     None  \n",
       "345  Midtown South     None  \n",
       "356  Midtown South     None  \n",
       "358  Midtown South     None  \n",
       "359  Midtown South     None  \n",
       "369  Midtown South     None  \n",
       "370  Midtown South     None  \n",
       "371  Midtown South     None  \n",
       "372  Midtown South     None  \n",
       "373  Midtown South     None  \n",
       "374  Midtown South     None  \n",
       "375  Midtown South     None  \n",
       "376  Midtown South     None  \n",
       "471          NoMad     None  \n",
       "472          NoMad     None  \n",
       "473          NoMad     None  \n",
       "482          NoMad     None  \n",
       "483          NoMad     None  \n",
       "493          NoMad     None  "
      ]
     },
     "execution_count": 9,
     "metadata": {},
     "output_type": "execute_result"
    }
   ],
   "source": [
    "test[pd.isna(test['new_name'])]"
   ]
  },
  {
   "cell_type": "code",
   "execution_count": null,
   "metadata": {},
   "outputs": [],
   "source": []
  }
 ],
 "metadata": {
  "kernelspec": {
   "display_name": "pw",
   "language": "python",
   "name": "python3"
  },
  "language_info": {
   "codemirror_mode": {
    "name": "ipython",
    "version": 3
   },
   "file_extension": ".py",
   "mimetype": "text/x-python",
   "name": "python",
   "nbconvert_exporter": "python",
   "pygments_lexer": "ipython3",
   "version": "3.10.12"
  }
 },
 "nbformat": 4,
 "nbformat_minor": 2
}
