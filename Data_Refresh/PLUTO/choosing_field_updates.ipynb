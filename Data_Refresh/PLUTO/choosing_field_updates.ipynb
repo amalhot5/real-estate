{
 "cells": [
  {
   "attachments": {},
   "cell_type": "markdown",
   "metadata": {},
   "source": [
    "# Choosing Which Fields to Update\n",
    "This notebook will go through the logic needed to choose which fields to update in PW `buildings` table. The rules were created using the `pluto_preso_investigation.ipynb` notebook, and are detailed in the Notion page."
   ]
  },
  {
   "cell_type": "code",
   "execution_count": 1,
   "metadata": {},
   "outputs": [],
   "source": [
    "import pandas as pd\n",
    "import sqlalchemy as db\n",
    "from sqlalchemy import create_engine, text\n",
    "import numpy as np\n",
    "from sqlalchemy.orm import sessionmaker\n",
    "\n",
    "import pickle as pkl"
   ]
  },
  {
   "cell_type": "code",
   "execution_count": 2,
   "metadata": {},
   "outputs": [
    {
     "name": "stderr",
     "output_type": "stream",
     "text": [
      "/var/folders/_3/v349phgn4ljd3jkf3ll9p2cm0000gp/T/ipykernel_48866/3679675250.py:1: DtypeWarning: Columns (21,22,24,26,28,66) have mixed types. Specify dtype option on import or set low_memory=False.\n",
      "  pluto = pd.read_csv(\"data/pluto_23v1_1.csv\")\n"
     ]
    }
   ],
   "source": [
    "pluto = pd.read_csv(\"data/pluto_23v1_1.csv\")"
   ]
  },
  {
   "cell_type": "code",
   "execution_count": 3,
   "metadata": {},
   "outputs": [],
   "source": [
    "%load_ext sql"
   ]
  },
  {
   "cell_type": "code",
   "execution_count": 4,
   "metadata": {},
   "outputs": [],
   "source": [
    "%sql postgresql://teleport:@localhost:2023/perchwell"
   ]
  },
  {
   "cell_type": "code",
   "execution_count": 5,
   "metadata": {},
   "outputs": [],
   "source": [
    "try:\n",
    "    with open('data/buildings.pkl', 'rb') as f:\n",
    "        preso = pkl.load(f)\n",
    "except:\n",
    "    rowlist = []\n",
    "    # Create the SQLAlchemy engine\n",
    "    engine = create_engine('postgresql://teleport:@localhost:2023/perchwell')\n",
    "    # Define the SQL query string\n",
    "    for ran in range(0,800000,100000):\n",
    "        currentrow = len(rowlist)\n",
    "        query_string = f'''select b.*\n",
    "            from buildings b\n",
    "            ---join with geographies\n",
    "            inner join building_geographies bg\n",
    "                on b.id = bg.building_id\n",
    "            ---filter for only NYC region code = 1278\n",
    "            where bg.geography_id = 1278\n",
    "                --and source_id is not null \n",
    "            LIMIT 100000 OFFSET {currentrow};\n",
    "            '''\n",
    "        try:\n",
    "            # Execute the query\n",
    "            with engine.connect() as conn:\n",
    "                result = conn.execute(text(query_string))\n",
    "\n",
    "                # Process the query result\n",
    "                for row in result:\n",
    "                    # Access the row data\n",
    "                    rowlist.append(row)\n",
    "            print(f'{len(rowlist)} rows appended')\n",
    "        except:\n",
    "            engine = create_engine('postgresql://teleport:@localhost:2023/perchwell')\n",
    "            with engine.connect() as conn:\n",
    "                result = conn.execute(text(query_string))\n",
    "                for row in result:\n",
    "                    rowlist.append(row)\n",
    "            print(f'{len(rowlist)} rows appended')\n",
    "    preso = pd.DataFrame(rowlist)\n",
    "    with open('data/buildings.pkl', 'wb') as f:\n",
    "        pkl.dump(preso, f)"
   ]
  },
  {
   "cell_type": "code",
   "execution_count": 6,
   "metadata": {},
   "outputs": [],
   "source": [
    "mapped_fields = [('zip', 'zipcode'),\n",
    "                 ('year_built', 'yearbuilt'),\n",
    "                 #('school_district_code', 'schooldist'),\n",
    "                 ('num_stories', 'numfloors'), \n",
    "                 ('num_units', 'unitsres'), \n",
    "                 ('lot_area', 'lotarea'), \n",
    "                 ('lot_front', 'lotfront'), \n",
    "                 ('lot_depth', 'lotdepth'),\n",
    "                 ('building_class', 'bldgclass'),\n",
    "                 ('building_front', 'bldgfront'),\n",
    "                 ('building_depth', 'bldgdepth'),\n",
    "                 ('building_area', 'bldgarea'),\n",
    "                 ('landmark_x', 'landmark_y')]"
   ]
  },
  {
   "cell_type": "code",
   "execution_count": 7,
   "metadata": {},
   "outputs": [
    {
     "name": "stdout",
     "output_type": "stream",
     "text": [
      "matched buildings: (731141, 183)      \n",
      "buildings in preso: (748819, 91)\n",
      "buildings in pluto: (859068, 92)\n"
     ]
    }
   ],
   "source": [
    "preso['source_id'] = pd.to_numeric(preso['source_id'])\n",
    "matched_buildings = preso.merge(pluto, how='inner', left_on='source_id', right_on='bbl')\n",
    "print(f'matched buildings: {matched_buildings.shape}\\\n",
    "      \\nbuildings in preso: {preso.shape}\\nbuildings in pluto: {pluto.shape}')"
   ]
  },
  {
   "cell_type": "code",
   "execution_count": 8,
   "metadata": {},
   "outputs": [
    {
     "data": {
      "text/plain": [
       "landmark_y\n",
       "INDIVIDUAL AND INTERIOR LANDMARK      93\n",
       "INDIVIDUAL LANDMARK                 1221\n",
       "INTERIOR LANDMARK                     28\n",
       "Name: id, dtype: int64"
      ]
     },
     "execution_count": 8,
     "metadata": {},
     "output_type": "execute_result"
    }
   ],
   "source": [
    "matched_buildings.groupby('landmark_y')['id'].nunique()"
   ]
  },
  {
   "cell_type": "code",
   "execution_count": 9,
   "metadata": {},
   "outputs": [
    {
     "data": {
      "text/plain": [
       "landmark_x\n",
       "                                       18133\n",
       "                                           1\n",
       "(FORMER) DOLLAR SAVINGS BANK               1\n",
       "(FORMER) FIREHOUSE ENGINE COMPANY 2        1\n",
       "(FORMER) HAVEMEYERS & ELDER FILTER         1\n",
       "                                       ...  \n",
       "YOUNG MEN'S CHRISTIAN ASSOCIATION (        1\n",
       "f                                        950\n",
       "false                                     84\n",
       "t                                          1\n",
       "true                                       3\n",
       "Name: id, Length: 86, dtype: int64"
      ]
     },
     "execution_count": 9,
     "metadata": {},
     "output_type": "execute_result"
    }
   ],
   "source": [
    "matched_buildings.groupby('landmark_x')['id'].nunique()"
   ]
  },
  {
   "cell_type": "code",
   "execution_count": 10,
   "metadata": {},
   "outputs": [],
   "source": [
    "# map mismatched fields\n",
    "matched_buildings['zip'] = pd.to_numeric(matched_buildings['zip'])\n",
    "matched_buildings['numfloors'] = np.ceil(matched_buildings['numfloors'])\n",
    "\n",
    "# map landmark field\n",
    "matched_buildings['landmark_y'] = [True if type(x) == str else False for x in matched_buildings['landmark_y']]\n",
    "matched_buildings['landmark_x'] = [x if x else 'f' for x in matched_buildings['landmark_x']]\n",
    "matched_buildings['landmark_x'] = [False if (x.lower() in ('f', 'false') or x.isspace()) else True for x in matched_buildings['landmark_x']]"
   ]
  },
  {
   "cell_type": "code",
   "execution_count": 11,
   "metadata": {},
   "outputs": [
    {
     "data": {
      "text/plain": [
       "434074"
      ]
     },
     "execution_count": 11,
     "metadata": {},
     "output_type": "execute_result"
    }
   ],
   "source": [
    "update_df = {'id': [], 'field_name': [], 'old_value': [], 'new_value': [], 'in_search': []}\n",
    "for fnames in mapped_fields:\n",
    "    wrong = matched_buildings[matched_buildings[f'{fnames[0]}'] != matched_buildings[f'{fnames[1]}']]\n",
    "    update_df['id'] += list(wrong['id'])\n",
    "    update_df['old_value'] += list(wrong[f'{fnames[0]}'])\n",
    "    update_df['new_value'] += list(wrong[f'{fnames[1]}'])\n",
    "    update_df['in_search'] += list(wrong['in_search'])\n",
    "    update_df['field_name'] += [f'{fnames[0]}'] * len(wrong['id'])\n",
    "\n",
    "update_df = pd.DataFrame(update_df)\n",
    "update_df['id'].nunique()"
   ]
  },
  {
   "cell_type": "code",
   "execution_count": 12,
   "metadata": {},
   "outputs": [
    {
     "data": {
      "text/html": [
       "<div>\n",
       "<style scoped>\n",
       "    .dataframe tbody tr th:only-of-type {\n",
       "        vertical-align: middle;\n",
       "    }\n",
       "\n",
       "    .dataframe tbody tr th {\n",
       "        vertical-align: top;\n",
       "    }\n",
       "\n",
       "    .dataframe thead th {\n",
       "        text-align: right;\n",
       "    }\n",
       "</style>\n",
       "<table border=\"1\" class=\"dataframe\">\n",
       "  <thead>\n",
       "    <tr style=\"text-align: right;\">\n",
       "      <th></th>\n",
       "      <th>id</th>\n",
       "      <th>old_value</th>\n",
       "      <th>new_value</th>\n",
       "      <th>in_search</th>\n",
       "    </tr>\n",
       "    <tr>\n",
       "      <th>field_name</th>\n",
       "      <th></th>\n",
       "      <th></th>\n",
       "      <th></th>\n",
       "      <th></th>\n",
       "    </tr>\n",
       "  </thead>\n",
       "  <tbody>\n",
       "    <tr>\n",
       "      <th>building_area</th>\n",
       "      <td>31444</td>\n",
       "      <td>8738</td>\n",
       "      <td>12082</td>\n",
       "      <td>2</td>\n",
       "    </tr>\n",
       "    <tr>\n",
       "      <th>building_class</th>\n",
       "      <td>32344</td>\n",
       "      <td>203</td>\n",
       "      <td>188</td>\n",
       "      <td>2</td>\n",
       "    </tr>\n",
       "    <tr>\n",
       "      <th>building_depth</th>\n",
       "      <td>19171</td>\n",
       "      <td>1058</td>\n",
       "      <td>1723</td>\n",
       "      <td>2</td>\n",
       "    </tr>\n",
       "    <tr>\n",
       "      <th>building_front</th>\n",
       "      <td>13793</td>\n",
       "      <td>1028</td>\n",
       "      <td>1663</td>\n",
       "      <td>2</td>\n",
       "    </tr>\n",
       "    <tr>\n",
       "      <th>landmark_x</th>\n",
       "      <td>1275</td>\n",
       "      <td>2</td>\n",
       "      <td>2</td>\n",
       "      <td>2</td>\n",
       "    </tr>\n",
       "    <tr>\n",
       "      <th>lot_area</th>\n",
       "      <td>391161</td>\n",
       "      <td>15236</td>\n",
       "      <td>16529</td>\n",
       "      <td>2</td>\n",
       "    </tr>\n",
       "    <tr>\n",
       "      <th>lot_depth</th>\n",
       "      <td>4842</td>\n",
       "      <td>1522</td>\n",
       "      <td>2069</td>\n",
       "      <td>2</td>\n",
       "    </tr>\n",
       "    <tr>\n",
       "      <th>lot_front</th>\n",
       "      <td>8009</td>\n",
       "      <td>1751</td>\n",
       "      <td>2599</td>\n",
       "      <td>2</td>\n",
       "    </tr>\n",
       "    <tr>\n",
       "      <th>num_stories</th>\n",
       "      <td>54454</td>\n",
       "      <td>80</td>\n",
       "      <td>72</td>\n",
       "      <td>2</td>\n",
       "    </tr>\n",
       "    <tr>\n",
       "      <th>num_units</th>\n",
       "      <td>16814</td>\n",
       "      <td>378</td>\n",
       "      <td>399</td>\n",
       "      <td>2</td>\n",
       "    </tr>\n",
       "    <tr>\n",
       "      <th>year_built</th>\n",
       "      <td>27135</td>\n",
       "      <td>238</td>\n",
       "      <td>228</td>\n",
       "      <td>2</td>\n",
       "    </tr>\n",
       "    <tr>\n",
       "      <th>zip</th>\n",
       "      <td>4093</td>\n",
       "      <td>176</td>\n",
       "      <td>194</td>\n",
       "      <td>2</td>\n",
       "    </tr>\n",
       "  </tbody>\n",
       "</table>\n",
       "</div>"
      ],
      "text/plain": [
       "                    id  old_value  new_value  in_search\n",
       "field_name                                             \n",
       "building_area    31444       8738      12082          2\n",
       "building_class   32344        203        188          2\n",
       "building_depth   19171       1058       1723          2\n",
       "building_front   13793       1028       1663          2\n",
       "landmark_x        1275          2          2          2\n",
       "lot_area        391161      15236      16529          2\n",
       "lot_depth         4842       1522       2069          2\n",
       "lot_front         8009       1751       2599          2\n",
       "num_stories      54454         80         72          2\n",
       "num_units        16814        378        399          2\n",
       "year_built       27135        238        228          2\n",
       "zip               4093        176        194          2"
      ]
     },
     "execution_count": 12,
     "metadata": {},
     "output_type": "execute_result"
    }
   ],
   "source": [
    "update_df.groupby('field_name').nunique()"
   ]
  },
  {
   "cell_type": "code",
   "execution_count": 13,
   "metadata": {},
   "outputs": [
    {
     "name": "stdout",
     "output_type": "stream",
     "text": [
      "(605116, 5) 434074\n",
      "(554687, 5) 422172\n"
     ]
    }
   ],
   "source": [
    "print(update_df.shape, update_df['id'].nunique())\n",
    "update_df = update_df[(update_df['new_value'] != 0)]\n",
    "update_df =  update_df[~(update_df['new_value'].isna())]\n",
    "print(update_df.shape, update_df['id'].nunique())"
   ]
  },
  {
   "cell_type": "code",
   "execution_count": 14,
   "metadata": {},
   "outputs": [
    {
     "data": {
      "text/html": [
       "<div>\n",
       "<style scoped>\n",
       "    .dataframe tbody tr th:only-of-type {\n",
       "        vertical-align: middle;\n",
       "    }\n",
       "\n",
       "    .dataframe tbody tr th {\n",
       "        vertical-align: top;\n",
       "    }\n",
       "\n",
       "    .dataframe thead th {\n",
       "        text-align: right;\n",
       "    }\n",
       "</style>\n",
       "<table border=\"1\" class=\"dataframe\">\n",
       "  <thead>\n",
       "    <tr style=\"text-align: right;\">\n",
       "      <th></th>\n",
       "      <th>id</th>\n",
       "      <th>old_value</th>\n",
       "      <th>new_value</th>\n",
       "      <th>in_search</th>\n",
       "    </tr>\n",
       "    <tr>\n",
       "      <th>field_name</th>\n",
       "      <th></th>\n",
       "      <th></th>\n",
       "      <th></th>\n",
       "      <th></th>\n",
       "    </tr>\n",
       "  </thead>\n",
       "  <tbody>\n",
       "    <tr>\n",
       "      <th>building_area</th>\n",
       "      <td>27673</td>\n",
       "      <td>8254</td>\n",
       "      <td>12081</td>\n",
       "      <td>2</td>\n",
       "    </tr>\n",
       "    <tr>\n",
       "      <th>building_class</th>\n",
       "      <td>32311</td>\n",
       "      <td>203</td>\n",
       "      <td>188</td>\n",
       "      <td>2</td>\n",
       "    </tr>\n",
       "    <tr>\n",
       "      <th>building_depth</th>\n",
       "      <td>15550</td>\n",
       "      <td>875</td>\n",
       "      <td>1722</td>\n",
       "      <td>2</td>\n",
       "    </tr>\n",
       "    <tr>\n",
       "      <th>building_front</th>\n",
       "      <td>11264</td>\n",
       "      <td>890</td>\n",
       "      <td>1662</td>\n",
       "      <td>2</td>\n",
       "    </tr>\n",
       "    <tr>\n",
       "      <th>landmark_x</th>\n",
       "      <td>1263</td>\n",
       "      <td>1</td>\n",
       "      <td>1</td>\n",
       "      <td>2</td>\n",
       "    </tr>\n",
       "    <tr>\n",
       "      <th>lot_area</th>\n",
       "      <td>391015</td>\n",
       "      <td>15184</td>\n",
       "      <td>16528</td>\n",
       "      <td>2</td>\n",
       "    </tr>\n",
       "    <tr>\n",
       "      <th>lot_depth</th>\n",
       "      <td>4375</td>\n",
       "      <td>1411</td>\n",
       "      <td>2068</td>\n",
       "      <td>2</td>\n",
       "    </tr>\n",
       "    <tr>\n",
       "      <th>lot_front</th>\n",
       "      <td>6849</td>\n",
       "      <td>1580</td>\n",
       "      <td>2598</td>\n",
       "      <td>2</td>\n",
       "    </tr>\n",
       "    <tr>\n",
       "      <th>num_stories</th>\n",
       "      <td>22479</td>\n",
       "      <td>80</td>\n",
       "      <td>72</td>\n",
       "      <td>2</td>\n",
       "    </tr>\n",
       "    <tr>\n",
       "      <th>num_units</th>\n",
       "      <td>15010</td>\n",
       "      <td>365</td>\n",
       "      <td>398</td>\n",
       "      <td>2</td>\n",
       "    </tr>\n",
       "    <tr>\n",
       "      <th>year_built</th>\n",
       "      <td>23595</td>\n",
       "      <td>237</td>\n",
       "      <td>227</td>\n",
       "      <td>2</td>\n",
       "    </tr>\n",
       "    <tr>\n",
       "      <th>zip</th>\n",
       "      <td>2769</td>\n",
       "      <td>164</td>\n",
       "      <td>194</td>\n",
       "      <td>2</td>\n",
       "    </tr>\n",
       "  </tbody>\n",
       "</table>\n",
       "</div>"
      ],
      "text/plain": [
       "                    id  old_value  new_value  in_search\n",
       "field_name                                             \n",
       "building_area    27673       8254      12081          2\n",
       "building_class   32311        203        188          2\n",
       "building_depth   15550        875       1722          2\n",
       "building_front   11264        890       1662          2\n",
       "landmark_x        1263          1          1          2\n",
       "lot_area        391015      15184      16528          2\n",
       "lot_depth         4375       1411       2068          2\n",
       "lot_front         6849       1580       2598          2\n",
       "num_stories      22479         80         72          2\n",
       "num_units        15010        365        398          2\n",
       "year_built       23595        237        227          2\n",
       "zip               2769        164        194          2"
      ]
     },
     "execution_count": 14,
     "metadata": {},
     "output_type": "execute_result"
    }
   ],
   "source": [
    "update_df.groupby('field_name').nunique()"
   ]
  },
  {
   "cell_type": "code",
   "execution_count": 15,
   "metadata": {},
   "outputs": [],
   "source": [
    "# checking year_built and num_stories rules\n",
    "year_built = update_df[update_df['field_name'] == 'year_built']\n",
    "num_stories = update_df[update_df['field_name'] == 'num_stories']\n",
    "update_df = update_df[update_df['field_name'] != 'year_built']\n",
    "update_df = update_df[update_df['field_name'] != 'num_stories']"
   ]
  },
  {
   "cell_type": "code",
   "execution_count": 16,
   "metadata": {},
   "outputs": [],
   "source": [
    "year_built_ok = year_built[year_built['new_value'] > year_built['old_value']]\n",
    "year_built_bad = year_built[year_built['new_value'] < year_built['old_value']]\n",
    "num_stories_ok = num_stories[num_stories['new_value'] > num_stories['old_value']]\n",
    "num_stories_bad = num_stories[num_stories['new_value'] < num_stories['old_value']]"
   ]
  },
  {
   "cell_type": "code",
   "execution_count": 17,
   "metadata": {},
   "outputs": [
    {
     "name": "stdout",
     "output_type": "stream",
     "text": [
      "year_built: 23613, year_built_ok: 19146, year_built_bad: 4400\n",
      "num_stories: 22493, num_stories_ok: 19659, num_stories_bad: 2758\n"
     ]
    }
   ],
   "source": [
    "print(f'year_built: {len(year_built)}, year_built_ok: {len(year_built_ok)}, year_built_bad: {len(year_built_bad)}')\n",
    "print(f'num_stories: {len(num_stories)}, num_stories_ok: {len(num_stories_ok)}, num_stories_bad: {len(num_stories_bad)}')"
   ]
  },
  {
   "cell_type": "code",
   "execution_count": 18,
   "metadata": {},
   "outputs": [
    {
     "data": {
      "text/html": [
       "<div>\n",
       "<style scoped>\n",
       "    .dataframe tbody tr th:only-of-type {\n",
       "        vertical-align: middle;\n",
       "    }\n",
       "\n",
       "    .dataframe tbody tr th {\n",
       "        vertical-align: top;\n",
       "    }\n",
       "\n",
       "    .dataframe thead th {\n",
       "        text-align: right;\n",
       "    }\n",
       "</style>\n",
       "<table border=\"1\" class=\"dataframe\">\n",
       "  <thead>\n",
       "    <tr style=\"text-align: right;\">\n",
       "      <th></th>\n",
       "      <th>id</th>\n",
       "      <th>field_name</th>\n",
       "      <th>old_value</th>\n",
       "      <th>new_value</th>\n",
       "      <th>in_search</th>\n",
       "    </tr>\n",
       "  </thead>\n",
       "  <tbody>\n",
       "    <tr>\n",
       "      <th>4098</th>\n",
       "      <td>7069386</td>\n",
       "      <td>year_built</td>\n",
       "      <td>2022.0</td>\n",
       "      <td>2021.0</td>\n",
       "      <td>True</td>\n",
       "    </tr>\n",
       "    <tr>\n",
       "      <th>4099</th>\n",
       "      <td>5108862</td>\n",
       "      <td>year_built</td>\n",
       "      <td>2020.0</td>\n",
       "      <td>2019.0</td>\n",
       "      <td>True</td>\n",
       "    </tr>\n",
       "    <tr>\n",
       "      <th>4113</th>\n",
       "      <td>5108847</td>\n",
       "      <td>year_built</td>\n",
       "      <td>2022.0</td>\n",
       "      <td>2021.0</td>\n",
       "      <td>True</td>\n",
       "    </tr>\n",
       "    <tr>\n",
       "      <th>4120</th>\n",
       "      <td>853600</td>\n",
       "      <td>year_built</td>\n",
       "      <td>2019.0</td>\n",
       "      <td>1884.0</td>\n",
       "      <td>True</td>\n",
       "    </tr>\n",
       "    <tr>\n",
       "      <th>4122</th>\n",
       "      <td>661519</td>\n",
       "      <td>year_built</td>\n",
       "      <td>1885.0</td>\n",
       "      <td>1884.0</td>\n",
       "      <td>False</td>\n",
       "    </tr>\n",
       "    <tr>\n",
       "      <th>...</th>\n",
       "      <td>...</td>\n",
       "      <td>...</td>\n",
       "      <td>...</td>\n",
       "      <td>...</td>\n",
       "      <td>...</td>\n",
       "    </tr>\n",
       "    <tr>\n",
       "      <th>31232</th>\n",
       "      <td>4415</td>\n",
       "      <td>year_built</td>\n",
       "      <td>2017.0</td>\n",
       "      <td>2015.0</td>\n",
       "      <td>True</td>\n",
       "    </tr>\n",
       "    <tr>\n",
       "      <th>31233</th>\n",
       "      <td>4360</td>\n",
       "      <td>year_built</td>\n",
       "      <td>2001.0</td>\n",
       "      <td>2000.0</td>\n",
       "      <td>True</td>\n",
       "    </tr>\n",
       "    <tr>\n",
       "      <th>31234</th>\n",
       "      <td>4320</td>\n",
       "      <td>year_built</td>\n",
       "      <td>1931.0</td>\n",
       "      <td>1904.0</td>\n",
       "      <td>True</td>\n",
       "    </tr>\n",
       "    <tr>\n",
       "      <th>31242</th>\n",
       "      <td>230</td>\n",
       "      <td>year_built</td>\n",
       "      <td>2012.0</td>\n",
       "      <td>2009.0</td>\n",
       "      <td>True</td>\n",
       "    </tr>\n",
       "    <tr>\n",
       "      <th>31243</th>\n",
       "      <td>43052</td>\n",
       "      <td>year_built</td>\n",
       "      <td>2019.0</td>\n",
       "      <td>2015.0</td>\n",
       "      <td>True</td>\n",
       "    </tr>\n",
       "  </tbody>\n",
       "</table>\n",
       "<p>4400 rows × 5 columns</p>\n",
       "</div>"
      ],
      "text/plain": [
       "            id  field_name old_value new_value  in_search\n",
       "4098   7069386  year_built    2022.0    2021.0       True\n",
       "4099   5108862  year_built    2020.0    2019.0       True\n",
       "4113   5108847  year_built    2022.0    2021.0       True\n",
       "4120    853600  year_built    2019.0    1884.0       True\n",
       "4122    661519  year_built    1885.0    1884.0      False\n",
       "...        ...         ...       ...       ...        ...\n",
       "31232     4415  year_built    2017.0    2015.0       True\n",
       "31233     4360  year_built    2001.0    2000.0       True\n",
       "31234     4320  year_built    1931.0    1904.0       True\n",
       "31242      230  year_built    2012.0    2009.0       True\n",
       "31243    43052  year_built    2019.0    2015.0       True\n",
       "\n",
       "[4400 rows x 5 columns]"
      ]
     },
     "execution_count": 18,
     "metadata": {},
     "output_type": "execute_result"
    }
   ],
   "source": [
    "year_built_bad"
   ]
  },
  {
   "cell_type": "code",
   "execution_count": 19,
   "metadata": {},
   "outputs": [
    {
     "data": {
      "text/html": [
       "<div>\n",
       "<style scoped>\n",
       "    .dataframe tbody tr th:only-of-type {\n",
       "        vertical-align: middle;\n",
       "    }\n",
       "\n",
       "    .dataframe tbody tr th {\n",
       "        vertical-align: top;\n",
       "    }\n",
       "\n",
       "    .dataframe thead th {\n",
       "        text-align: right;\n",
       "    }\n",
       "</style>\n",
       "<table border=\"1\" class=\"dataframe\">\n",
       "  <thead>\n",
       "    <tr style=\"text-align: right;\">\n",
       "      <th></th>\n",
       "      <th>id</th>\n",
       "      <th>field_name</th>\n",
       "      <th>old_value</th>\n",
       "      <th>new_value</th>\n",
       "      <th>in_search</th>\n",
       "    </tr>\n",
       "  </thead>\n",
       "  <tbody>\n",
       "    <tr>\n",
       "      <th>31273</th>\n",
       "      <td>1826375</td>\n",
       "      <td>num_stories</td>\n",
       "      <td>17.0</td>\n",
       "      <td>16.0</td>\n",
       "      <td>True</td>\n",
       "    </tr>\n",
       "    <tr>\n",
       "      <th>31274</th>\n",
       "      <td>1826374</td>\n",
       "      <td>num_stories</td>\n",
       "      <td>17.0</td>\n",
       "      <td>16.0</td>\n",
       "      <td>True</td>\n",
       "    </tr>\n",
       "    <tr>\n",
       "      <th>31275</th>\n",
       "      <td>693348</td>\n",
       "      <td>num_stories</td>\n",
       "      <td>17.0</td>\n",
       "      <td>16.0</td>\n",
       "      <td>True</td>\n",
       "    </tr>\n",
       "    <tr>\n",
       "      <th>31299</th>\n",
       "      <td>4003407</td>\n",
       "      <td>num_stories</td>\n",
       "      <td>10.0</td>\n",
       "      <td>9.0</td>\n",
       "      <td>True</td>\n",
       "    </tr>\n",
       "    <tr>\n",
       "      <th>31301</th>\n",
       "      <td>230319</td>\n",
       "      <td>num_stories</td>\n",
       "      <td>68.0</td>\n",
       "      <td>57.0</td>\n",
       "      <td>True</td>\n",
       "    </tr>\n",
       "    <tr>\n",
       "      <th>...</th>\n",
       "      <td>...</td>\n",
       "      <td>...</td>\n",
       "      <td>...</td>\n",
       "      <td>...</td>\n",
       "      <td>...</td>\n",
       "    </tr>\n",
       "    <tr>\n",
       "      <th>85743</th>\n",
       "      <td>4415</td>\n",
       "      <td>num_stories</td>\n",
       "      <td>33.0</td>\n",
       "      <td>30.0</td>\n",
       "      <td>True</td>\n",
       "    </tr>\n",
       "    <tr>\n",
       "      <th>85745</th>\n",
       "      <td>4204</td>\n",
       "      <td>num_stories</td>\n",
       "      <td>46.0</td>\n",
       "      <td>41.0</td>\n",
       "      <td>True</td>\n",
       "    </tr>\n",
       "    <tr>\n",
       "      <th>85750</th>\n",
       "      <td>43052</td>\n",
       "      <td>num_stories</td>\n",
       "      <td>91.0</td>\n",
       "      <td>71.0</td>\n",
       "      <td>True</td>\n",
       "    </tr>\n",
       "    <tr>\n",
       "      <th>85751</th>\n",
       "      <td>24035</td>\n",
       "      <td>num_stories</td>\n",
       "      <td>42.0</td>\n",
       "      <td>41.0</td>\n",
       "      <td>True</td>\n",
       "    </tr>\n",
       "    <tr>\n",
       "      <th>85756</th>\n",
       "      <td>41233</td>\n",
       "      <td>num_stories</td>\n",
       "      <td>5.0</td>\n",
       "      <td>4.0</td>\n",
       "      <td>True</td>\n",
       "    </tr>\n",
       "  </tbody>\n",
       "</table>\n",
       "<p>2758 rows × 5 columns</p>\n",
       "</div>"
      ],
      "text/plain": [
       "            id   field_name old_value new_value  in_search\n",
       "31273  1826375  num_stories      17.0      16.0       True\n",
       "31274  1826374  num_stories      17.0      16.0       True\n",
       "31275   693348  num_stories      17.0      16.0       True\n",
       "31299  4003407  num_stories      10.0       9.0       True\n",
       "31301   230319  num_stories      68.0      57.0       True\n",
       "...        ...          ...       ...       ...        ...\n",
       "85743     4415  num_stories      33.0      30.0       True\n",
       "85745     4204  num_stories      46.0      41.0       True\n",
       "85750    43052  num_stories      91.0      71.0       True\n",
       "85751    24035  num_stories      42.0      41.0       True\n",
       "85756    41233  num_stories       5.0       4.0       True\n",
       "\n",
       "[2758 rows x 5 columns]"
      ]
     },
     "execution_count": 19,
     "metadata": {},
     "output_type": "execute_result"
    }
   ],
   "source": [
    "num_stories_bad"
   ]
  },
  {
   "cell_type": "code",
   "execution_count": 20,
   "metadata": {},
   "outputs": [],
   "source": [
    "update_df = pd.concat([update_df, num_stories_ok, year_built_ok])"
   ]
  },
  {
   "cell_type": "code",
   "execution_count": 22,
   "metadata": {},
   "outputs": [
    {
     "data": {
      "text/plain": [
       "420342"
      ]
     },
     "execution_count": 22,
     "metadata": {},
     "output_type": "execute_result"
    }
   ],
   "source": [
    "update_df['id'].nunique()"
   ]
  },
  {
   "cell_type": "code",
   "execution_count": null,
   "metadata": {},
   "outputs": [],
   "source": []
  }
 ],
 "metadata": {
  "kernelspec": {
   "display_name": "base",
   "language": "python",
   "name": "python3"
  },
  "language_info": {
   "codemirror_mode": {
    "name": "ipython",
    "version": 3
   },
   "file_extension": ".py",
   "mimetype": "text/x-python",
   "name": "python",
   "nbconvert_exporter": "python",
   "pygments_lexer": "ipython3",
   "version": "3.10.9"
  },
  "orig_nbformat": 4
 },
 "nbformat": 4,
 "nbformat_minor": 2
}
