{
 "cells": [
  {
   "cell_type": "markdown",
   "id": "2cfb298a-6b86-44cd-8880-228da4d43e74",
   "metadata": {},
   "source": [
    "## INVESTIGATE PLUTO ONLY, NO ADD/BBL MATCH TO PW"
   ]
  },
  {
   "cell_type": "markdown",
   "id": "2413bfe9-1ba5-42a4-9872-8a2700ef6b57",
   "metadata": {
    "tags": []
   },
   "source": [
    "## Prepare datasets - PLUTO and PRESO"
   ]
  },
  {
   "cell_type": "code",
   "execution_count": 1,
   "id": "02e5296a-4a64-4f36-bc85-9a5c10ad6047",
   "metadata": {},
   "outputs": [],
   "source": [
    "import geopandas as gpd\n",
    "import pandas as pd\n",
    "import geodatasets\n",
    "from sqlalchemy import create_engine, text\n",
    "\n",
    "import re"
   ]
  },
  {
   "cell_type": "code",
   "execution_count": 2,
   "id": "11c6afe0-a5fb-4eba-a72e-0756479a77f6",
   "metadata": {},
   "outputs": [
    {
     "name": "stdout",
     "output_type": "stream",
     "text": [
      "  Borough  ...                                           geometry\n",
      "0      MN  ...  POLYGON ((980898.728 191409.779, 980881.798 19...\n",
      "1      MN  ...  MULTIPOLYGON (((972428.829 190679.175, 972443....\n",
      "2      BK  ...  POLYGON ((986519.595 186440.526, 986475.486 18...\n",
      "3      MN  ...  POLYGON ((973648.066 193711.894, 973525.342 19...\n",
      "4      MN  ...  POLYGON ((980609.551 194220.421, 980608.726 19...\n",
      "\n",
      "[5 rows x 95 columns]\n"
     ]
    }
   ],
   "source": [
    "# Read shapefile\n",
    "shapefile_path = '/Users/perchwellallusers/Downloads/nyc_mappluto_23v1_1_shp/MapPLUTO.shp'\n",
    "gdf = gpd.read_file(shapefile_path)\n",
    "\n",
    "# Print GeoDataFrame information\n",
    "print(gdf.head())"
   ]
  },
  {
   "cell_type": "code",
   "execution_count": 4,
   "id": "fe24c448-54af-422f-8bec-12c3071ceecf",
   "metadata": {},
   "outputs": [
    {
     "name": "stderr",
     "output_type": "stream",
     "text": [
      "/var/folders/9s/qkj1lg4d22j6vzbkv4zxvqmm0000gp/T/ipykernel_25891/1775343207.py:1: DtypeWarning: Columns (21,22,24,26,66) have mixed types. Specify dtype option on import or set low_memory=False.\n",
      "  pluto = pd.read_csv(\"/Users/perchwellallusers/Downloads/pluto_23v1.csv\")\n"
     ]
    }
   ],
   "source": [
    "pluto = pd.read_csv(\"/Users/perchwellallusers/Downloads/pluto_23v1.csv\")"
   ]
  },
  {
   "cell_type": "code",
   "execution_count": 5,
   "id": "4cd025c9-8d2b-4428-9ae9-6252ca257ee9",
   "metadata": {},
   "outputs": [],
   "source": [
    "pluto = pluto[pluto['bbl'].isin(gdf.BBL.to_list())]"
   ]
  },
  {
   "cell_type": "code",
   "execution_count": 6,
   "id": "ef07bd65-4e54-4e12-a15f-311233ddcd1c",
   "metadata": {},
   "outputs": [],
   "source": [
    "%load_ext sql"
   ]
  },
  {
   "cell_type": "code",
   "execution_count": 7,
   "id": "ef4d5238-6fd5-43be-991d-be71c665b50f",
   "metadata": {},
   "outputs": [],
   "source": [
    "%sql postgresql://teleport:@localhost:2024/perchwell"
   ]
  },
  {
   "cell_type": "code",
   "execution_count": null,
   "id": "c354a240-b6c4-47c8-b598-f118f368fedc",
   "metadata": {},
   "outputs": [],
   "source": [
    "try:\n",
    "    with open('./buildings.pkl', 'rb') as f:\n",
    "        preso = pkl.load(f)\n",
    "except:\n",
    "    rowlist = []\n",
    "    # Create the SQLAlchemy engine\n",
    "    engine = create_engine('postgresql://teleport:@localhost:2024/perchwell')\n",
    "    # Define the SQL query string\n",
    "    for ran in range(0,800000,100000):\n",
    "        currentrow = len(rowlist)\n",
    "        \n",
    "        query_string = f'''select b.*\n",
    "            from buildings b\n",
    "            ---join with geographies\n",
    "            inner join building_geographies bg\n",
    "                on b.id = bg.building_id\n",
    "            ---filter for only NYC region code = 1278\n",
    "            where bg.geography_id = 1278\n",
    "                --and source_id is not null \n",
    "            LIMIT 100000 OFFSET {currentrow};\n",
    "            '''\n",
    "        try:\n",
    "            # Execute the query\n",
    "            with engine.connect() as conn:\n",
    "                result = conn.execute(text(query_string))\n",
    "\n",
    "                # Process the query result\n",
    "                for row in result:\n",
    "                    # Access the row data\n",
    "                    rowlist.append(row)\n",
    "            print(f'{len(rowlist)} rows appended')\n",
    "        except:\n",
    "            engine = create_engine('postgresql://teleport:@localhost:2024/perchwell')\n",
    "            with engine.connect() as conn:\n",
    "                result = conn.execute(text(query_string))\n",
    "                for row in result:\n",
    "                    rowlist.append(row)\n",
    "            print(f'{len(rowlist)} rows appended')\n",
    "    preso = pd.DataFrame(rowlist)\n",
    "    with open('./buildings.pkl', 'wb') as f:\n",
    "        pkl.dump(preso, f)"
   ]
  },
  {
   "cell_type": "markdown",
   "id": "4d389eb6-9e87-42a6-8842-2ec94fe7b56d",
   "metadata": {
    "tags": []
   },
   "source": [
    "## MATCH PLUTO AND PW WITH BBL ONLY:"
   ]
  },
  {
   "cell_type": "code",
   "execution_count": 9,
   "id": "8a961839-f6bc-42ad-b7ba-d597c23564cc",
   "metadata": {},
   "outputs": [
    {
     "name": "stdout",
     "output_type": "stream",
     "text": [
      "matched buildings: (730477, 183)      \n",
      "buildings in preso: (749220, 91)\n",
      "buildings in pluto: (856903, 92)\n"
     ]
    }
   ],
   "source": [
    "preso['source_id'] = pd.to_numeric(preso['source_id'])\n",
    "matched_buildings = preso.merge(pluto, how='inner', left_on='source_id', right_on='bbl')\n",
    "print(f'matched buildings: {matched_buildings.shape}\\\n",
    "      \\nbuildings in preso: {preso.shape}\\nbuildings in pluto: {pluto.shape}')"
   ]
  },
  {
   "cell_type": "code",
   "execution_count": 10,
   "id": "28a025b6-4492-4950-aa13-6c1378529dbb",
   "metadata": {},
   "outputs": [],
   "source": [
    "# Filter for unmatched in each and put into separate dataframes\n",
    "in_preso = preso[~preso['id'].isin(matched_buildings['id'])]\n",
    "in_pluto = pluto[~pluto['bbl'].isin(matched_buildings['bbl'])]"
   ]
  },
  {
   "cell_type": "code",
   "execution_count": 11,
   "id": "d265ea5c-bdfd-4b36-923e-faa779c165d5",
   "metadata": {},
   "outputs": [
    {
     "name": "stdout",
     "output_type": "stream",
     "text": [
      "(18743, 91) (131122, 92)\n"
     ]
    }
   ],
   "source": [
    "print(in_preso.shape, in_pluto.shape)"
   ]
  },
  {
   "cell_type": "markdown",
   "id": "aa8c544e-2259-4cdd-a7f8-064a10890e6f",
   "metadata": {
    "tags": []
   },
   "source": [
    "## MATCH PLUTO AND PW WITH ADDRESS AND ZIP:"
   ]
  },
  {
   "cell_type": "markdown",
   "id": "394b9266-dbd8-4a2c-ba83-dc6b83f4900a",
   "metadata": {},
   "source": [
    "Steps for Address Matching:\n",
    "1. strip trailing and leading whitespace from PW and PLUTO and convert to upper case\n",
    "2. drop na from PLUTO addresses\n",
    "3. convert zip codes to int\n",
    "4. Convert written out numbers to numbers (i.e. first ave -> 1st ave)\n",
    "5. Remove suffix of numbers\n",
    "6. Match buildings based on the street address and zip code being the same"
   ]
  },
  {
   "cell_type": "code",
   "execution_count": 12,
   "id": "0843896c-e392-476b-b150-1abc0a346a2d",
   "metadata": {},
   "outputs": [],
   "source": [
    "import warnings\n",
    "warnings.filterwarnings(\"ignore\")"
   ]
  },
  {
   "cell_type": "code",
   "execution_count": 13,
   "id": "35522d0d-dd39-425b-8228-ff68beebfcbe",
   "metadata": {},
   "outputs": [],
   "source": [
    "in_preso['display_address'] = in_preso['display_address'].str.upper().str.strip().copy()\n",
    "in_pluto['address'] = in_pluto['address'].str.upper().str.strip().copy()\n",
    "in_pluto = in_pluto.dropna(axis=0, subset=['address', 'zipcode'])\n",
    "in_pluto['zipcode'] = in_pluto['zipcode'].astype(int, errors='ignore').copy()\n",
    "in_preso['zip'] = in_preso['zip'].astype(int, errors='ignore').copy()"
   ]
  },
  {
   "cell_type": "code",
   "execution_count": 14,
   "id": "e6da0cb9-1baf-4a3a-91a3-ef648a1af2e7",
   "metadata": {},
   "outputs": [],
   "source": [
    "my_dict = {\n",
    "  \"FIRST\": \"1ST\",\n",
    "  \"SECOND\": \"2ND\",\n",
    "  \"THIRD\": \"3RD\",\n",
    "  \"FOURTH\": \"4TH\",\n",
    "  \"FIFTH\": \"5TH\",\n",
    "  \"SIXTH\": \"6TH\",\n",
    "  \"SEVENTH\": \"7TH\",\n",
    "  \"EIGHTH\": \"8TH\",\n",
    "  \"NINTH\": \"9TH\",\n",
    "  \"TENTH\": \"10TH\",\n",
    "  \"ELEVENTH\": \"11TH\",\n",
    "  \"TWELFTH\": \"12TH\",\n",
    "  \"THIRTEENTH\": \"13TH\",\n",
    "  \"FOURTEENTH\": \"14TH\",\n",
    "  \"FIFTEENTH\": \"15TH\",\n",
    "  \"SIXTEENTH\": \"16TH\",\n",
    "  \"SEVENTEENTH\": \"17TH\",\n",
    "  \"EIGHTEENTH\": \"18TH\",\n",
    "  \"NINETEENTH\": \"19TH\",\n",
    "  \"TWENTIETH\": \"20TH\",\n",
    "  \"TWENTY-FIRST\": \"21ST\",\n",
    "  \"TWENTY-SECOND\": \"22ND\",\n",
    "  \"TWENTY-THIRD\": \"23RD\",\n",
    "  \"TWENTY-FOURTH\": \"24TH\",\n",
    "  \"TWENTY-FIFTH\": \"25TH\",\n",
    "  \"TWENTY-SIXTH\": \"26TH\",\n",
    "  \"TWENTY-SEVENTH\": \"27TH\",\n",
    "  \"TWENTY-EIGHTH\": \"28TH\",\n",
    "  \"TWENTY-NINTH\": \"29TH\",\n",
    "  \"THIRTIETH\": \"30TH\",\n",
    "  \"THIRTY-FIRST\": \"31ST\",\n",
    "  \"THIRTY-SECOND\": \"32ND\",\n",
    "  \"THIRTY-THIRD\": \"33RD\",\n",
    "  \"THIRTY-FOURTH\": \"34TH\",\n",
    "  \"THIRTY-FIFTH\": \"35TH\",\n",
    "  \"THIRTY-SIXTH\": \"36TH\",\n",
    "  \"THIRTY-SEVENTH\": \"37TH\",\n",
    "  \"THIRTY-EIGHTH\": \"38TH\",\n",
    "  \"THIRTY-NINTH\": \"39TH\",\n",
    "  \"FORTIETH\": \"40TH\",\n",
    "  \"FORTY-FIRST\": \"41ST\",\n",
    "  \"FORTY-SECOND\": \"42ND\",\n",
    "  \"FORTY-THIRD\": \"43RD\",\n",
    "  \"FORTY-FOURTH\": \"44TH\",\n",
    "  \"FORTY-FIFTH\": \"45TH\",\n",
    "  \"FORTY-SIXTH\": \"46TH\",\n",
    "  \"FORTY-SEVENTH\": \"47TH\",\n",
    "  \"FORTY-EIGHTH\": \"48TH\",\n",
    "  \"FORTY-NINTH\": \"49TH\",\n",
    "  \"FIFTIETH\": \"50TH\",\n",
    "  \"FIFTY-FIRST\": \"51ST\",\n",
    "  \"FIFTY-SECOND\": \"52ND\",\n",
    "  \"FIFTY-THIRD\": \"53RD\",\n",
    "  \"FIFTY-FOURTH\": \"54TH\",\n",
    "  \"FIFTY-FIFTH\": \"55TH\",\n",
    "  \"FIFTY-SIXTH\": \"56TH\",\n",
    "  \"FIFTY-SEVENTH\": \"57TH\",\n",
    "  \"FIFTY-EIGHTH\": \"58TH\",\n",
    "  \"FIFTY-NINTH\": \"59TH\",\n",
    "  \"SIXTIETH\": \"60TH\",\n",
    "  \"SIXTY-FIRST\": \"61ST\",\n",
    "  \"SIXTY-SECOND\": \"62ND\",\n",
    "  \"SIXTY-THIRD\": \"63RD\",\n",
    "\"SIXTY-FOURTH\": \"64TH\",\n",
    "\"SIXTY-FIFTH\": \"65TH\",\n",
    "\"SIXTY-SIXTH\": \"66TH\",\n",
    "\"SIXTY-SEVENTH\": \"67TH\",\n",
    "\"SIXTY-EIGHTH\": \"68TH\",\n",
    "\"SIXTY-NINTH\": \"69TH\",\n",
    "\"SEVENTIETH\": \"70TH\",\n",
    "\"SEVENTY-FIRST\": \"71ST\",\n",
    "\"SEVENTY-SECOND\": \"72ND\",\n",
    "\"SEVENTY-THIRD\": \"73RD\",\n",
    "\"SEVENTY-FOURTH\": \"74TH\",\n",
    "\"SEVENTY-FIFTH\": \"75TH\",\n",
    "\"SEVENTY-SIXTH\": \"76TH\",\n",
    "\"SEVENTY-SEVENTH\": \"77TH\",\n",
    "\"SEVENTY-EIGHTH\": \"78TH\",\n",
    "\"SEVENTY-NINTH\": \"79TH\",\n",
    "\"EIGHTIETH\": \"80TH\",\n",
    "\"EIGHTY-FIRST\": \"81ST\",\n",
    "\"EIGHTY-SECOND\": \"82ND\",\n",
    "\"EIGHTY-THIRD\": \"83RD\",\n",
    "\"EIGHTY-FOURTH\": \"84TH\",\n",
    "\"EIGHTY-FIFTH\": \"85TH\",\n",
    "\"EIGHTY-SIXTH\": \"86TH\",\n",
    "\"EIGHTY-SEVENTH\": \"87TH\",\n",
    "\"EIGHTY-EIGHTH\": \"88TH\",\n",
    "\"EIGHTY-NINTH\": \"89TH\",\n",
    "\"NINETIETH\": \"90TH\",\n",
    "\"NINETY-FIRST\": \"91ST\",\n",
    "\"NINETY-SECOND\": \"92ND\",\n",
    "\"NINETY-THIRD\": \"93RD\",\n",
    "\"NINETY-FOURTH\": \"94TH\",\n",
    "\"NINETY-FIFTH\": \"95TH\",\n",
    "\"NINETY-SIXTH\": \"96TH\",\n",
    "\"NINETY-SEVENTH\": \"97TH\",\n",
    "\"NINETY-EIGHTH\": \"98TH\",\n",
    "\"NINETY-NINTH\": \"99TH\",\n",
    "\"ONE HUNDREDTH\": \"100TH\"\n",
    "}"
   ]
  },
  {
   "cell_type": "code",
   "execution_count": 15,
   "id": "451d4978-d8a4-4bfd-8d05-52565288cfa4",
   "metadata": {},
   "outputs": [],
   "source": [
    "def remove_suffix(df, field_name):\n",
    "    return df[field_name].replace(\"(?<=\\d)(st|nd|rd|th)\\b\", '', regex=True).copy()\n",
    "\n",
    "def convert_nums(df, field_name):\n",
    "    new_dict = {key.replace(\"-\", \" \"): value for key, value in my_dict.items()}\n",
    "    new_keys = list(new_dict.keys())\n",
    "    new_values = list(new_dict.values())\n",
    "    for i in range(len(new_dict)):\n",
    "        df[field_name] =  df[field_name].str.replace(new_keys[i], new_values[i]).copy()\n",
    "    return df"
   ]
  },
  {
   "cell_type": "code",
   "execution_count": 16,
   "id": "06b2bd02-1399-4f8f-a2a8-240d0b31765d",
   "metadata": {},
   "outputs": [],
   "source": [
    "in_preso = in_preso[in_preso['in_search'] == True]"
   ]
  },
  {
   "cell_type": "code",
   "execution_count": 17,
   "id": "c7ca3879-c04e-42b8-93ed-9028d5db605b",
   "metadata": {},
   "outputs": [
    {
     "data": {
      "text/html": [
       "<div>\n",
       "<style scoped>\n",
       "    .dataframe tbody tr th:only-of-type {\n",
       "        vertical-align: middle;\n",
       "    }\n",
       "\n",
       "    .dataframe tbody tr th {\n",
       "        vertical-align: top;\n",
       "    }\n",
       "\n",
       "    .dataframe thead th {\n",
       "        text-align: right;\n",
       "    }\n",
       "</style>\n",
       "<table border=\"1\" class=\"dataframe\">\n",
       "  <thead>\n",
       "    <tr style=\"text-align: right;\">\n",
       "      <th></th>\n",
       "      <th>id</th>\n",
       "      <th>city</th>\n",
       "      <th>state</th>\n",
       "      <th>zip</th>\n",
       "      <th>google_map_params</th>\n",
       "      <th>building_bike_storage</th>\n",
       "      <th>building_doorman</th>\n",
       "      <th>building_elevator</th>\n",
       "      <th>building_gym</th>\n",
       "      <th>building_laundry</th>\n",
       "      <th>building_pets</th>\n",
       "      <th>building_pool</th>\n",
       "      <th>building_prewar</th>\n",
       "      <th>building_rooftop</th>\n",
       "      <th>building_storage</th>\n",
       "      <th>building_style_code</th>\n",
       "      <th>county_code</th>\n",
       "      <th>school_district_code</th>\n",
       "      <th>created_at</th>\n",
       "      <th>updated_at</th>\n",
       "      <th>neighborhood_id</th>\n",
       "      <th>source_id</th>\n",
       "      <th>display_address</th>\n",
       "      <th>display_name</th>\n",
       "      <th>building_garage</th>\n",
       "      <th>garage_type_code</th>\n",
       "      <th>year_built</th>\n",
       "      <th>benefit_construction_completed</th>\n",
       "      <th>num_stories</th>\n",
       "      <th>num_units</th>\n",
       "      <th>tax_class</th>\n",
       "      <th>centroid_latitude</th>\n",
       "      <th>centroid_longitude</th>\n",
       "      <th>tax_benefit_code</th>\n",
       "      <th>tax_benefit_start_date</th>\n",
       "      <th>tax_exemption_end_date</th>\n",
       "      <th>tax_abatement_end_date</th>\n",
       "      <th>j51_crc_perc</th>\n",
       "      <th>building_class</th>\n",
       "      <th>landmark_x</th>\n",
       "      <th>...</th>\n",
       "      <th>bldgfront</th>\n",
       "      <th>bldgdepth</th>\n",
       "      <th>ext</th>\n",
       "      <th>proxcode</th>\n",
       "      <th>irrlotcode</th>\n",
       "      <th>lottype</th>\n",
       "      <th>bsmtcode</th>\n",
       "      <th>assessland</th>\n",
       "      <th>assesstot</th>\n",
       "      <th>exempttot</th>\n",
       "      <th>yearbuilt</th>\n",
       "      <th>yearalter1</th>\n",
       "      <th>yearalter2</th>\n",
       "      <th>histdist</th>\n",
       "      <th>landmark_y</th>\n",
       "      <th>builtfar</th>\n",
       "      <th>residfar</th>\n",
       "      <th>commfar</th>\n",
       "      <th>facilfar</th>\n",
       "      <th>borocode</th>\n",
       "      <th>bbl</th>\n",
       "      <th>condono</th>\n",
       "      <th>tract2010</th>\n",
       "      <th>xcoord</th>\n",
       "      <th>ycoord</th>\n",
       "      <th>zonemap</th>\n",
       "      <th>zmcode</th>\n",
       "      <th>sanborn</th>\n",
       "      <th>taxmap</th>\n",
       "      <th>edesignum</th>\n",
       "      <th>appbbl</th>\n",
       "      <th>appdate</th>\n",
       "      <th>plutomapid</th>\n",
       "      <th>firm07_flag</th>\n",
       "      <th>pfirm15_flag</th>\n",
       "      <th>version</th>\n",
       "      <th>dcpedited</th>\n",
       "      <th>latitude</th>\n",
       "      <th>longitude</th>\n",
       "      <th>notes</th>\n",
       "    </tr>\n",
       "  </thead>\n",
       "  <tbody>\n",
       "  </tbody>\n",
       "</table>\n",
       "<p>0 rows × 183 columns</p>\n",
       "</div>"
      ],
      "text/plain": [
       "Empty DataFrame\n",
       "Columns: [id, city, state, zip, google_map_params, building_bike_storage, building_doorman, building_elevator, building_gym, building_laundry, building_pets, building_pool, building_prewar, building_rooftop, building_storage, building_style_code, county_code, school_district_code, created_at, updated_at, neighborhood_id, source_id, display_address, display_name, building_garage, garage_type_code, year_built, benefit_construction_completed, num_stories, num_units, tax_class, centroid_latitude, centroid_longitude, tax_benefit_code, tax_benefit_start_date, tax_exemption_end_date, tax_abatement_end_date, j51_crc_perc, building_class, landmark_x, building_front, building_depth, tranche, new_development, in_search, architect, developer, management_firm_id, building_style, conversion_notes, account_executive_name, account_executive_phone, service_level, pet_policy, sublet_policy, front_desk_phone, building_type, source, building_complex_id, apportionment_date, lot_front, lot_depth, built_far, corner_lot, building_area, lot_area, zoning_primary, zoning_secondary, geometry, max_allowed_far, years_last_altered, apportionment_source_id, description, offering_plan_id, new_dev_start_date, new_dev_end_date, manual_new_dev_start_date, manual_new_dev_end_date, developer_brokerage_id, property_type, unit_schemes, cross_streets, tax_id, sponsor_names, place_name_override, land_lease_building, land_lease_expiration, timezone, census_tract, owner_name, owner_name2, borough, block, lot, cd, bct2020, bctcb2020, ct2010, cb2010, schooldist, ...]\n",
       "Index: []\n",
       "\n",
       "[0 rows x 183 columns]"
      ]
     },
     "execution_count": 17,
     "metadata": {},
     "output_type": "execute_result"
    }
   ],
   "source": [
    "first_matches = in_preso.merge(right=in_pluto, how='inner', left_on='display_address', right_on='address')\n",
    "first_matches[first_matches['zip'] == first_matches['zipcode']]"
   ]
  },
  {
   "cell_type": "code",
   "execution_count": 18,
   "id": "f9a87519-cf05-4e68-b6b5-ebcd9cf68b9a",
   "metadata": {},
   "outputs": [],
   "source": [
    "# convert numbers\n",
    "new_dict = {key.replace('-', ' '): value for key, value in my_dict.items()}\n",
    "new_keys = list(new_dict.keys())\n",
    "new_values = list(new_dict.values())\n",
    "for i in range(len(new_dict)):\n",
    "    in_pluto['address'] = pluto.loc[:,'address'].str.replace(new_keys[i], new_values[i]).copy()\n",
    "    in_preso['display_address'] = in_preso.loc[:,'display_address'].str.replace(new_keys[i], new_values[i]).copy()"
   ]
  },
  {
   "cell_type": "code",
   "execution_count": 19,
   "id": "a6633d23-10ff-4f5a-88ed-17a4120bf3e2",
   "metadata": {},
   "outputs": [],
   "source": [
    "in_pluto['address'] = [re.sub(r\"(?<=\\d)(ST|ND|RD|TH)\\b\", '', x) for x in in_pluto['address']]\n",
    "in_preso['display_address'] = [re.sub(r\"(?<=\\d)(ST|ND|RD|TH)\\b\", '', x) for x in in_preso['display_address']]"
   ]
  },
  {
   "cell_type": "code",
   "execution_count": 20,
   "id": "a56f791b-e637-4b83-91ba-3c531094b437",
   "metadata": {},
   "outputs": [
    {
     "data": {
      "text/plain": [
       "648"
      ]
     },
     "execution_count": 20,
     "metadata": {},
     "output_type": "execute_result"
    }
   ],
   "source": [
    "second_matches = in_preso.merge(right=in_pluto, how='inner', left_on='display_address', right_on='address')\n",
    "second_matches[second_matches['zip'] == second_matches['zipcode']]\n",
    "len(second_matches)"
   ]
  },
  {
   "cell_type": "markdown",
   "id": "6a6a3f40-f1ae-4785-ab0f-4335af4ecc69",
   "metadata": {},
   "source": [
    "## Filter for PLUTO only dataset"
   ]
  },
  {
   "cell_type": "code",
   "execution_count": 352,
   "id": "c3d6dc66-f8a5-485e-bb11-a5cbfe1248c8",
   "metadata": {},
   "outputs": [
    {
     "data": {
      "text/plain": [
       "129890"
      ]
     },
     "execution_count": 352,
     "metadata": {},
     "output_type": "execute_result"
    }
   ],
   "source": [
    "len(in_pluto)"
   ]
  },
  {
   "cell_type": "code",
   "execution_count": 21,
   "id": "9f1e1b00-02c9-43cf-ba67-7189ed74ff2f",
   "metadata": {},
   "outputs": [],
   "source": [
    "in_pluto = in_pluto[~in_pluto['bbl'].isin(second_matches.bbl.to_list())]"
   ]
  },
  {
   "cell_type": "code",
   "execution_count": 22,
   "id": "e39991d4-db9e-4f32-a726-642da98f0dda",
   "metadata": {},
   "outputs": [],
   "source": [
    "in_pluto = in_pluto[~in_pluto['bbl'].isin(first_matches.bbl.to_list())]"
   ]
  },
  {
   "cell_type": "code",
   "execution_count": 34,
   "id": "b4d8fdc6-2b78-40df-a519-5982f3883932",
   "metadata": {},
   "outputs": [],
   "source": [
    "# Filter for only buildings we want to inspect WITHIN PW Region, put into a new df:\n",
    "pluto_only = in_pluto[(in_pluto['borough']!='SI') & (in_pluto['longitude']<-73.74376451)]"
   ]
  },
  {
   "cell_type": "code",
   "execution_count": 35,
   "id": "6897de48-4107-44b8-a2ff-26402e64e967",
   "metadata": {},
   "outputs": [
    {
     "data": {
      "text/plain": [
       "473"
      ]
     },
     "execution_count": 35,
     "metadata": {},
     "output_type": "execute_result"
    }
   ],
   "source": [
    "in_pluto.merge(matched, how = 'inner', on = ['address','zipcode']).bbl_x.nunique()"
   ]
  },
  {
   "cell_type": "code",
   "execution_count": 36,
   "id": "77090a08-088b-4f3e-98a7-e46b56a1a2a7",
   "metadata": {},
   "outputs": [
    {
     "data": {
      "text/plain": [
       "444"
      ]
     },
     "execution_count": 36,
     "metadata": {},
     "output_type": "execute_result"
    }
   ],
   "source": [
    "pluto_only.merge(matched_buildings[['address','bbl','zipcode', 'id']], how='inner', on = ['address','zipcode']).bbl_x.nunique()"
   ]
  },
  {
   "cell_type": "code",
   "execution_count": 40,
   "id": "3837f4fc-d0b0-42f7-bc83-d334849b191a",
   "metadata": {},
   "outputs": [],
   "source": [
    "pluto_only = pluto_only[~pluto_only['bbl'].isin(dups_add_dif.bbl.to_list())]"
   ]
  },
  {
   "cell_type": "code",
   "execution_count": 41,
   "id": "ae86db8f-e7f5-43ef-8a2b-6ba7c83da8c4",
   "metadata": {},
   "outputs": [
    {
     "data": {
      "text/plain": [
       "False    2602\n",
       "True       88\n",
       "dtype: int64"
      ]
     },
     "execution_count": 41,
     "metadata": {},
     "output_type": "execute_result"
    }
   ],
   "source": [
    "pluto_only.duplicated(subset=['address','zipcode']).value_counts()"
   ]
  },
  {
   "cell_type": "code",
   "execution_count": 42,
   "id": "69754e17-7fdb-4c0c-a7d8-796ff5afd632",
   "metadata": {},
   "outputs": [
    {
     "data": {
      "text/html": [
       "<div>\n",
       "<style scoped>\n",
       "    .dataframe tbody tr th:only-of-type {\n",
       "        vertical-align: middle;\n",
       "    }\n",
       "\n",
       "    .dataframe tbody tr th {\n",
       "        vertical-align: top;\n",
       "    }\n",
       "\n",
       "    .dataframe thead th {\n",
       "        text-align: right;\n",
       "    }\n",
       "</style>\n",
       "<table border=\"1\" class=\"dataframe\">\n",
       "  <thead>\n",
       "    <tr style=\"text-align: right;\">\n",
       "      <th></th>\n",
       "      <th>borough</th>\n",
       "      <th>block</th>\n",
       "      <th>lot</th>\n",
       "      <th>cd</th>\n",
       "      <th>bct2020</th>\n",
       "      <th>bctcb2020</th>\n",
       "      <th>ct2010</th>\n",
       "      <th>cb2010</th>\n",
       "      <th>schooldist</th>\n",
       "      <th>council</th>\n",
       "      <th>zipcode</th>\n",
       "      <th>firecomp</th>\n",
       "      <th>policeprct</th>\n",
       "      <th>healthcenterdistrict</th>\n",
       "      <th>healtharea</th>\n",
       "      <th>sanitboro</th>\n",
       "      <th>sanitdistrict</th>\n",
       "      <th>sanitsub</th>\n",
       "      <th>address</th>\n",
       "      <th>zonedist1</th>\n",
       "      <th>zonedist2</th>\n",
       "      <th>zonedist3</th>\n",
       "      <th>zonedist4</th>\n",
       "      <th>overlay1</th>\n",
       "      <th>overlay2</th>\n",
       "      <th>spdist1</th>\n",
       "      <th>spdist2</th>\n",
       "      <th>spdist3</th>\n",
       "      <th>ltdheight</th>\n",
       "      <th>splitzone</th>\n",
       "      <th>bldgclass</th>\n",
       "      <th>landuse</th>\n",
       "      <th>easements</th>\n",
       "      <th>ownertype</th>\n",
       "      <th>ownername</th>\n",
       "      <th>lotarea</th>\n",
       "      <th>bldgarea</th>\n",
       "      <th>comarea</th>\n",
       "      <th>resarea</th>\n",
       "      <th>officearea</th>\n",
       "      <th>...</th>\n",
       "      <th>bldgfront</th>\n",
       "      <th>bldgdepth</th>\n",
       "      <th>ext</th>\n",
       "      <th>proxcode</th>\n",
       "      <th>irrlotcode</th>\n",
       "      <th>lottype</th>\n",
       "      <th>bsmtcode</th>\n",
       "      <th>assessland</th>\n",
       "      <th>assesstot</th>\n",
       "      <th>exempttot</th>\n",
       "      <th>yearbuilt</th>\n",
       "      <th>yearalter1</th>\n",
       "      <th>yearalter2</th>\n",
       "      <th>histdist</th>\n",
       "      <th>landmark</th>\n",
       "      <th>builtfar</th>\n",
       "      <th>residfar</th>\n",
       "      <th>commfar</th>\n",
       "      <th>facilfar</th>\n",
       "      <th>borocode</th>\n",
       "      <th>bbl</th>\n",
       "      <th>condono</th>\n",
       "      <th>tract2010</th>\n",
       "      <th>xcoord</th>\n",
       "      <th>ycoord</th>\n",
       "      <th>zonemap</th>\n",
       "      <th>zmcode</th>\n",
       "      <th>sanborn</th>\n",
       "      <th>taxmap</th>\n",
       "      <th>edesignum</th>\n",
       "      <th>appbbl</th>\n",
       "      <th>appdate</th>\n",
       "      <th>plutomapid</th>\n",
       "      <th>firm07_flag</th>\n",
       "      <th>pfirm15_flag</th>\n",
       "      <th>version</th>\n",
       "      <th>dcpedited</th>\n",
       "      <th>latitude</th>\n",
       "      <th>longitude</th>\n",
       "      <th>notes</th>\n",
       "    </tr>\n",
       "  </thead>\n",
       "  <tbody>\n",
       "    <tr>\n",
       "      <th>44833</th>\n",
       "      <td>QN</td>\n",
       "      <td>13911</td>\n",
       "      <td>140</td>\n",
       "      <td>413.0</td>\n",
       "      <td>4066401.0</td>\n",
       "      <td>4.066401e+10</td>\n",
       "      <td>664.0</td>\n",
       "      <td>1006.0</td>\n",
       "      <td>27.0</td>\n",
       "      <td>31.0</td>\n",
       "      <td>11422</td>\n",
       "      <td>E314</td>\n",
       "      <td>105.0</td>\n",
       "      <td>44.0</td>\n",
       "      <td>3620.0</td>\n",
       "      <td>4.0</td>\n",
       "      <td>13.0</td>\n",
       "      <td>7E</td>\n",
       "      <td>BROAD STREET</td>\n",
       "      <td>M1-1</td>\n",
       "      <td>NaN</td>\n",
       "      <td>NaN</td>\n",
       "      <td>NaN</td>\n",
       "      <td>NaN</td>\n",
       "      <td>NaN</td>\n",
       "      <td>NaN</td>\n",
       "      <td>NaN</td>\n",
       "      <td>NaN</td>\n",
       "      <td>NaN</td>\n",
       "      <td>N</td>\n",
       "      <td>V2</td>\n",
       "      <td>11.0</td>\n",
       "      <td>0.0</td>\n",
       "      <td>NaN</td>\n",
       "      <td>CARRERO, KEVIN</td>\n",
       "      <td>4065.0</td>\n",
       "      <td>0.0</td>\n",
       "      <td>NaN</td>\n",
       "      <td>NaN</td>\n",
       "      <td>NaN</td>\n",
       "      <td>...</td>\n",
       "      <td>0.0</td>\n",
       "      <td>0.0</td>\n",
       "      <td>NaN</td>\n",
       "      <td>0.0</td>\n",
       "      <td>N</td>\n",
       "      <td>5.0</td>\n",
       "      <td>5.0</td>\n",
       "      <td>5880.0</td>\n",
       "      <td>5880.0</td>\n",
       "      <td>0.0</td>\n",
       "      <td>0.0</td>\n",
       "      <td>0.0</td>\n",
       "      <td>0.0</td>\n",
       "      <td>NaN</td>\n",
       "      <td>NaN</td>\n",
       "      <td>0.00</td>\n",
       "      <td>0.00</td>\n",
       "      <td>1.0</td>\n",
       "      <td>2.4</td>\n",
       "      <td>4</td>\n",
       "      <td>4.139110e+09</td>\n",
       "      <td>NaN</td>\n",
       "      <td>664.0</td>\n",
       "      <td>1054838.0</td>\n",
       "      <td>171819.0</td>\n",
       "      <td>25a</td>\n",
       "      <td>NaN</td>\n",
       "      <td>417 085</td>\n",
       "      <td>45703.0</td>\n",
       "      <td>NaN</td>\n",
       "      <td>NaN</td>\n",
       "      <td>NaN</td>\n",
       "      <td>1</td>\n",
       "      <td>1.0</td>\n",
       "      <td>1.0</td>\n",
       "      <td>23v1</td>\n",
       "      <td>NaN</td>\n",
       "      <td>40.637999</td>\n",
       "      <td>-73.745664</td>\n",
       "      <td>NaN</td>\n",
       "    </tr>\n",
       "    <tr>\n",
       "      <th>69957</th>\n",
       "      <td>BK</td>\n",
       "      <td>8845</td>\n",
       "      <td>2032</td>\n",
       "      <td>315.0</td>\n",
       "      <td>3062800.0</td>\n",
       "      <td>3.062800e+10</td>\n",
       "      <td>628.0</td>\n",
       "      <td>3016.0</td>\n",
       "      <td>22.0</td>\n",
       "      <td>46.0</td>\n",
       "      <td>11229</td>\n",
       "      <td>E321</td>\n",
       "      <td>61.0</td>\n",
       "      <td>37.0</td>\n",
       "      <td>8900.0</td>\n",
       "      <td>3.0</td>\n",
       "      <td>15.0</td>\n",
       "      <td>4D</td>\n",
       "      <td>BEACON COURT</td>\n",
       "      <td>R4-1</td>\n",
       "      <td>NaN</td>\n",
       "      <td>NaN</td>\n",
       "      <td>NaN</td>\n",
       "      <td>NaN</td>\n",
       "      <td>NaN</td>\n",
       "      <td>CR-4</td>\n",
       "      <td>NaN</td>\n",
       "      <td>NaN</td>\n",
       "      <td>NaN</td>\n",
       "      <td>N</td>\n",
       "      <td>V0</td>\n",
       "      <td>11.0</td>\n",
       "      <td>0.0</td>\n",
       "      <td>NaN</td>\n",
       "      <td>ROBERT J CANZANELLA</td>\n",
       "      <td>1799.0</td>\n",
       "      <td>0.0</td>\n",
       "      <td>NaN</td>\n",
       "      <td>NaN</td>\n",
       "      <td>NaN</td>\n",
       "      <td>...</td>\n",
       "      <td>0.0</td>\n",
       "      <td>0.0</td>\n",
       "      <td>NaN</td>\n",
       "      <td>0.0</td>\n",
       "      <td>N</td>\n",
       "      <td>3.0</td>\n",
       "      <td>5.0</td>\n",
       "      <td>6480.0</td>\n",
       "      <td>6480.0</td>\n",
       "      <td>0.0</td>\n",
       "      <td>0.0</td>\n",
       "      <td>0.0</td>\n",
       "      <td>0.0</td>\n",
       "      <td>NaN</td>\n",
       "      <td>NaN</td>\n",
       "      <td>0.00</td>\n",
       "      <td>0.75</td>\n",
       "      <td>0.0</td>\n",
       "      <td>2.0</td>\n",
       "      <td>3</td>\n",
       "      <td>3.088452e+09</td>\n",
       "      <td>NaN</td>\n",
       "      <td>628.0</td>\n",
       "      <td>1006400.0</td>\n",
       "      <td>153327.0</td>\n",
       "      <td>29a</td>\n",
       "      <td>NaN</td>\n",
       "      <td>319 042</td>\n",
       "      <td>32605.0</td>\n",
       "      <td>NaN</td>\n",
       "      <td>NaN</td>\n",
       "      <td>NaN</td>\n",
       "      <td>1</td>\n",
       "      <td>NaN</td>\n",
       "      <td>1.0</td>\n",
       "      <td>23v1</td>\n",
       "      <td>NaN</td>\n",
       "      <td>40.587496</td>\n",
       "      <td>-73.920252</td>\n",
       "      <td>NaN</td>\n",
       "    </tr>\n",
       "    <tr>\n",
       "      <th>70017</th>\n",
       "      <td>BK</td>\n",
       "      <td>8932</td>\n",
       "      <td>642</td>\n",
       "      <td>315.0</td>\n",
       "      <td>3062800.0</td>\n",
       "      <td>3.062800e+10</td>\n",
       "      <td>628.0</td>\n",
       "      <td>1002.0</td>\n",
       "      <td>22.0</td>\n",
       "      <td>46.0</td>\n",
       "      <td>11229</td>\n",
       "      <td>E321</td>\n",
       "      <td>61.0</td>\n",
       "      <td>37.0</td>\n",
       "      <td>8900.0</td>\n",
       "      <td>3.0</td>\n",
       "      <td>15.0</td>\n",
       "      <td>4D</td>\n",
       "      <td>28 CELESTE COURT</td>\n",
       "      <td>R4-1</td>\n",
       "      <td>NaN</td>\n",
       "      <td>NaN</td>\n",
       "      <td>NaN</td>\n",
       "      <td>NaN</td>\n",
       "      <td>NaN</td>\n",
       "      <td>CR-4</td>\n",
       "      <td>NaN</td>\n",
       "      <td>NaN</td>\n",
       "      <td>NaN</td>\n",
       "      <td>N</td>\n",
       "      <td>A1</td>\n",
       "      <td>1.0</td>\n",
       "      <td>0.0</td>\n",
       "      <td>NaN</td>\n",
       "      <td>WILLIAM MC CAFFREY</td>\n",
       "      <td>3570.0</td>\n",
       "      <td>1240.0</td>\n",
       "      <td>0.0</td>\n",
       "      <td>1240.0</td>\n",
       "      <td>0.0</td>\n",
       "      <td>...</td>\n",
       "      <td>25.0</td>\n",
       "      <td>40.0</td>\n",
       "      <td>N</td>\n",
       "      <td>1.0</td>\n",
       "      <td>N</td>\n",
       "      <td>3.0</td>\n",
       "      <td>5.0</td>\n",
       "      <td>17460.0</td>\n",
       "      <td>36720.0</td>\n",
       "      <td>1460.0</td>\n",
       "      <td>1920.0</td>\n",
       "      <td>1997.0</td>\n",
       "      <td>1997.0</td>\n",
       "      <td>NaN</td>\n",
       "      <td>NaN</td>\n",
       "      <td>0.35</td>\n",
       "      <td>0.75</td>\n",
       "      <td>0.0</td>\n",
       "      <td>2.0</td>\n",
       "      <td>3</td>\n",
       "      <td>3.089321e+09</td>\n",
       "      <td>NaN</td>\n",
       "      <td>628.0</td>\n",
       "      <td>1004608.0</td>\n",
       "      <td>155171.0</td>\n",
       "      <td>29a</td>\n",
       "      <td>NaN</td>\n",
       "      <td>319 038</td>\n",
       "      <td>32605.0</td>\n",
       "      <td>NaN</td>\n",
       "      <td>NaN</td>\n",
       "      <td>NaN</td>\n",
       "      <td>1</td>\n",
       "      <td>NaN</td>\n",
       "      <td>1.0</td>\n",
       "      <td>23v1</td>\n",
       "      <td>NaN</td>\n",
       "      <td>40.592561</td>\n",
       "      <td>-73.926698</td>\n",
       "      <td>NaN</td>\n",
       "    </tr>\n",
       "    <tr>\n",
       "      <th>70383</th>\n",
       "      <td>BK</td>\n",
       "      <td>8914</td>\n",
       "      <td>92</td>\n",
       "      <td>315.0</td>\n",
       "      <td>3062800.0</td>\n",
       "      <td>3.062800e+10</td>\n",
       "      <td>628.0</td>\n",
       "      <td>4004.0</td>\n",
       "      <td>22.0</td>\n",
       "      <td>46.0</td>\n",
       "      <td>11229</td>\n",
       "      <td>E321</td>\n",
       "      <td>61.0</td>\n",
       "      <td>37.0</td>\n",
       "      <td>8900.0</td>\n",
       "      <td>3.0</td>\n",
       "      <td>15.0</td>\n",
       "      <td>4D</td>\n",
       "      <td>CANTON COURT</td>\n",
       "      <td>R4-1</td>\n",
       "      <td>NaN</td>\n",
       "      <td>NaN</td>\n",
       "      <td>NaN</td>\n",
       "      <td>NaN</td>\n",
       "      <td>NaN</td>\n",
       "      <td>CR-4</td>\n",
       "      <td>NaN</td>\n",
       "      <td>NaN</td>\n",
       "      <td>NaN</td>\n",
       "      <td>N</td>\n",
       "      <td>V0</td>\n",
       "      <td>11.0</td>\n",
       "      <td>0.0</td>\n",
       "      <td>NaN</td>\n",
       "      <td>VASKO, MARCELA</td>\n",
       "      <td>1799.0</td>\n",
       "      <td>0.0</td>\n",
       "      <td>NaN</td>\n",
       "      <td>NaN</td>\n",
       "      <td>NaN</td>\n",
       "      <td>...</td>\n",
       "      <td>0.0</td>\n",
       "      <td>0.0</td>\n",
       "      <td>NaN</td>\n",
       "      <td>0.0</td>\n",
       "      <td>N</td>\n",
       "      <td>5.0</td>\n",
       "      <td>5.0</td>\n",
       "      <td>5580.0</td>\n",
       "      <td>5580.0</td>\n",
       "      <td>0.0</td>\n",
       "      <td>0.0</td>\n",
       "      <td>0.0</td>\n",
       "      <td>0.0</td>\n",
       "      <td>NaN</td>\n",
       "      <td>NaN</td>\n",
       "      <td>0.00</td>\n",
       "      <td>0.75</td>\n",
       "      <td>0.0</td>\n",
       "      <td>2.0</td>\n",
       "      <td>3</td>\n",
       "      <td>3.089140e+09</td>\n",
       "      <td>NaN</td>\n",
       "      <td>628.0</td>\n",
       "      <td>1005468.0</td>\n",
       "      <td>154152.0</td>\n",
       "      <td>29a</td>\n",
       "      <td>NaN</td>\n",
       "      <td>319 039</td>\n",
       "      <td>32605.0</td>\n",
       "      <td>NaN</td>\n",
       "      <td>NaN</td>\n",
       "      <td>NaN</td>\n",
       "      <td>1</td>\n",
       "      <td>NaN</td>\n",
       "      <td>1.0</td>\n",
       "      <td>23v1</td>\n",
       "      <td>NaN</td>\n",
       "      <td>40.589762</td>\n",
       "      <td>-73.923605</td>\n",
       "      <td>NaN</td>\n",
       "    </tr>\n",
       "    <tr>\n",
       "      <th>70457</th>\n",
       "      <td>BK</td>\n",
       "      <td>8914</td>\n",
       "      <td>400</td>\n",
       "      <td>315.0</td>\n",
       "      <td>3062800.0</td>\n",
       "      <td>3.062800e+10</td>\n",
       "      <td>628.0</td>\n",
       "      <td>4004.0</td>\n",
       "      <td>22.0</td>\n",
       "      <td>46.0</td>\n",
       "      <td>11229</td>\n",
       "      <td>E321</td>\n",
       "      <td>61.0</td>\n",
       "      <td>37.0</td>\n",
       "      <td>8900.0</td>\n",
       "      <td>3.0</td>\n",
       "      <td>15.0</td>\n",
       "      <td>4D</td>\n",
       "      <td>CANTON COURT</td>\n",
       "      <td>R4-1</td>\n",
       "      <td>NaN</td>\n",
       "      <td>NaN</td>\n",
       "      <td>NaN</td>\n",
       "      <td>NaN</td>\n",
       "      <td>NaN</td>\n",
       "      <td>CR-4</td>\n",
       "      <td>NaN</td>\n",
       "      <td>NaN</td>\n",
       "      <td>NaN</td>\n",
       "      <td>N</td>\n",
       "      <td>V0</td>\n",
       "      <td>11.0</td>\n",
       "      <td>0.0</td>\n",
       "      <td>NaN</td>\n",
       "      <td>O'KEEFE, WILLIAM</td>\n",
       "      <td>1799.0</td>\n",
       "      <td>0.0</td>\n",
       "      <td>NaN</td>\n",
       "      <td>NaN</td>\n",
       "      <td>NaN</td>\n",
       "      <td>...</td>\n",
       "      <td>0.0</td>\n",
       "      <td>0.0</td>\n",
       "      <td>NaN</td>\n",
       "      <td>0.0</td>\n",
       "      <td>N</td>\n",
       "      <td>5.0</td>\n",
       "      <td>5.0</td>\n",
       "      <td>5580.0</td>\n",
       "      <td>5580.0</td>\n",
       "      <td>0.0</td>\n",
       "      <td>0.0</td>\n",
       "      <td>0.0</td>\n",
       "      <td>0.0</td>\n",
       "      <td>NaN</td>\n",
       "      <td>NaN</td>\n",
       "      <td>0.00</td>\n",
       "      <td>0.75</td>\n",
       "      <td>0.0</td>\n",
       "      <td>2.0</td>\n",
       "      <td>3</td>\n",
       "      <td>3.089140e+09</td>\n",
       "      <td>NaN</td>\n",
       "      <td>628.0</td>\n",
       "      <td>1005364.0</td>\n",
       "      <td>154273.0</td>\n",
       "      <td>29a</td>\n",
       "      <td>NaN</td>\n",
       "      <td>319 039</td>\n",
       "      <td>32605.0</td>\n",
       "      <td>NaN</td>\n",
       "      <td>NaN</td>\n",
       "      <td>NaN</td>\n",
       "      <td>1</td>\n",
       "      <td>NaN</td>\n",
       "      <td>1.0</td>\n",
       "      <td>23v1</td>\n",
       "      <td>NaN</td>\n",
       "      <td>40.590095</td>\n",
       "      <td>-73.923979</td>\n",
       "      <td>NaN</td>\n",
       "    </tr>\n",
       "    <tr>\n",
       "      <th>...</th>\n",
       "      <td>...</td>\n",
       "      <td>...</td>\n",
       "      <td>...</td>\n",
       "      <td>...</td>\n",
       "      <td>...</td>\n",
       "      <td>...</td>\n",
       "      <td>...</td>\n",
       "      <td>...</td>\n",
       "      <td>...</td>\n",
       "      <td>...</td>\n",
       "      <td>...</td>\n",
       "      <td>...</td>\n",
       "      <td>...</td>\n",
       "      <td>...</td>\n",
       "      <td>...</td>\n",
       "      <td>...</td>\n",
       "      <td>...</td>\n",
       "      <td>...</td>\n",
       "      <td>...</td>\n",
       "      <td>...</td>\n",
       "      <td>...</td>\n",
       "      <td>...</td>\n",
       "      <td>...</td>\n",
       "      <td>...</td>\n",
       "      <td>...</td>\n",
       "      <td>...</td>\n",
       "      <td>...</td>\n",
       "      <td>...</td>\n",
       "      <td>...</td>\n",
       "      <td>...</td>\n",
       "      <td>...</td>\n",
       "      <td>...</td>\n",
       "      <td>...</td>\n",
       "      <td>...</td>\n",
       "      <td>...</td>\n",
       "      <td>...</td>\n",
       "      <td>...</td>\n",
       "      <td>...</td>\n",
       "      <td>...</td>\n",
       "      <td>...</td>\n",
       "      <td>...</td>\n",
       "      <td>...</td>\n",
       "      <td>...</td>\n",
       "      <td>...</td>\n",
       "      <td>...</td>\n",
       "      <td>...</td>\n",
       "      <td>...</td>\n",
       "      <td>...</td>\n",
       "      <td>...</td>\n",
       "      <td>...</td>\n",
       "      <td>...</td>\n",
       "      <td>...</td>\n",
       "      <td>...</td>\n",
       "      <td>...</td>\n",
       "      <td>...</td>\n",
       "      <td>...</td>\n",
       "      <td>...</td>\n",
       "      <td>...</td>\n",
       "      <td>...</td>\n",
       "      <td>...</td>\n",
       "      <td>...</td>\n",
       "      <td>...</td>\n",
       "      <td>...</td>\n",
       "      <td>...</td>\n",
       "      <td>...</td>\n",
       "      <td>...</td>\n",
       "      <td>...</td>\n",
       "      <td>...</td>\n",
       "      <td>...</td>\n",
       "      <td>...</td>\n",
       "      <td>...</td>\n",
       "      <td>...</td>\n",
       "      <td>...</td>\n",
       "      <td>...</td>\n",
       "      <td>...</td>\n",
       "      <td>...</td>\n",
       "      <td>...</td>\n",
       "      <td>...</td>\n",
       "      <td>...</td>\n",
       "      <td>...</td>\n",
       "      <td>...</td>\n",
       "    </tr>\n",
       "    <tr>\n",
       "      <th>813050</th>\n",
       "      <td>QN</td>\n",
       "      <td>13845</td>\n",
       "      <td>40</td>\n",
       "      <td>413.0</td>\n",
       "      <td>4066401.0</td>\n",
       "      <td>4.066401e+10</td>\n",
       "      <td>664.0</td>\n",
       "      <td>1000.0</td>\n",
       "      <td>29.0</td>\n",
       "      <td>31.0</td>\n",
       "      <td>11422</td>\n",
       "      <td>E314</td>\n",
       "      <td>105.0</td>\n",
       "      <td>44.0</td>\n",
       "      <td>3620.0</td>\n",
       "      <td>4.0</td>\n",
       "      <td>13.0</td>\n",
       "      <td>7E</td>\n",
       "      <td>NORTH STREET</td>\n",
       "      <td>R3-2</td>\n",
       "      <td>NaN</td>\n",
       "      <td>NaN</td>\n",
       "      <td>NaN</td>\n",
       "      <td>NaN</td>\n",
       "      <td>NaN</td>\n",
       "      <td>NaN</td>\n",
       "      <td>NaN</td>\n",
       "      <td>NaN</td>\n",
       "      <td>NaN</td>\n",
       "      <td>N</td>\n",
       "      <td>V0</td>\n",
       "      <td>11.0</td>\n",
       "      <td>0.0</td>\n",
       "      <td>NaN</td>\n",
       "      <td>DM REALTY USA LLC</td>\n",
       "      <td>1700.0</td>\n",
       "      <td>0.0</td>\n",
       "      <td>NaN</td>\n",
       "      <td>NaN</td>\n",
       "      <td>NaN</td>\n",
       "      <td>...</td>\n",
       "      <td>0.0</td>\n",
       "      <td>0.0</td>\n",
       "      <td>NaN</td>\n",
       "      <td>0.0</td>\n",
       "      <td>N</td>\n",
       "      <td>5.0</td>\n",
       "      <td>5.0</td>\n",
       "      <td>4500.0</td>\n",
       "      <td>4500.0</td>\n",
       "      <td>0.0</td>\n",
       "      <td>0.0</td>\n",
       "      <td>0.0</td>\n",
       "      <td>0.0</td>\n",
       "      <td>NaN</td>\n",
       "      <td>NaN</td>\n",
       "      <td>0.00</td>\n",
       "      <td>0.50</td>\n",
       "      <td>0.0</td>\n",
       "      <td>1.0</td>\n",
       "      <td>4</td>\n",
       "      <td>4.138450e+09</td>\n",
       "      <td>NaN</td>\n",
       "      <td>664.0</td>\n",
       "      <td>1055304.0</td>\n",
       "      <td>174492.0</td>\n",
       "      <td>25a</td>\n",
       "      <td>NaN</td>\n",
       "      <td>417 060</td>\n",
       "      <td>45703.0</td>\n",
       "      <td>NaN</td>\n",
       "      <td>NaN</td>\n",
       "      <td>NaN</td>\n",
       "      <td>1</td>\n",
       "      <td>1.0</td>\n",
       "      <td>1.0</td>\n",
       "      <td>23v1</td>\n",
       "      <td>NaN</td>\n",
       "      <td>40.645332</td>\n",
       "      <td>-73.743957</td>\n",
       "      <td>NaN</td>\n",
       "    </tr>\n",
       "    <tr>\n",
       "      <th>813057</th>\n",
       "      <td>QN</td>\n",
       "      <td>13864</td>\n",
       "      <td>35</td>\n",
       "      <td>413.0</td>\n",
       "      <td>4066401.0</td>\n",
       "      <td>4.066401e+10</td>\n",
       "      <td>664.0</td>\n",
       "      <td>1000.0</td>\n",
       "      <td>29.0</td>\n",
       "      <td>31.0</td>\n",
       "      <td>11422</td>\n",
       "      <td>E314</td>\n",
       "      <td>105.0</td>\n",
       "      <td>44.0</td>\n",
       "      <td>3620.0</td>\n",
       "      <td>4.0</td>\n",
       "      <td>13.0</td>\n",
       "      <td>7E</td>\n",
       "      <td>CANAL AVENUE</td>\n",
       "      <td>R3-2</td>\n",
       "      <td>NaN</td>\n",
       "      <td>NaN</td>\n",
       "      <td>NaN</td>\n",
       "      <td>NaN</td>\n",
       "      <td>NaN</td>\n",
       "      <td>NaN</td>\n",
       "      <td>NaN</td>\n",
       "      <td>NaN</td>\n",
       "      <td>NaN</td>\n",
       "      <td>N</td>\n",
       "      <td>V0</td>\n",
       "      <td>11.0</td>\n",
       "      <td>0.0</td>\n",
       "      <td>C</td>\n",
       "      <td>NYC DEPARTMENT OF PARKS AND RECREATION</td>\n",
       "      <td>2017.0</td>\n",
       "      <td>0.0</td>\n",
       "      <td>NaN</td>\n",
       "      <td>NaN</td>\n",
       "      <td>NaN</td>\n",
       "      <td>...</td>\n",
       "      <td>0.0</td>\n",
       "      <td>0.0</td>\n",
       "      <td>NaN</td>\n",
       "      <td>0.0</td>\n",
       "      <td>Y</td>\n",
       "      <td>5.0</td>\n",
       "      <td>5.0</td>\n",
       "      <td>4920.0</td>\n",
       "      <td>4920.0</td>\n",
       "      <td>4920.0</td>\n",
       "      <td>0.0</td>\n",
       "      <td>0.0</td>\n",
       "      <td>0.0</td>\n",
       "      <td>NaN</td>\n",
       "      <td>NaN</td>\n",
       "      <td>0.00</td>\n",
       "      <td>0.50</td>\n",
       "      <td>0.0</td>\n",
       "      <td>1.0</td>\n",
       "      <td>4</td>\n",
       "      <td>4.138640e+09</td>\n",
       "      <td>NaN</td>\n",
       "      <td>664.0</td>\n",
       "      <td>1055284.0</td>\n",
       "      <td>173903.0</td>\n",
       "      <td>25a</td>\n",
       "      <td>NaN</td>\n",
       "      <td>417 060</td>\n",
       "      <td>45703.0</td>\n",
       "      <td>NaN</td>\n",
       "      <td>NaN</td>\n",
       "      <td>NaN</td>\n",
       "      <td>1</td>\n",
       "      <td>1.0</td>\n",
       "      <td>1.0</td>\n",
       "      <td>23v1</td>\n",
       "      <td>t</td>\n",
       "      <td>40.643715</td>\n",
       "      <td>-73.744035</td>\n",
       "      <td>NaN</td>\n",
       "    </tr>\n",
       "    <tr>\n",
       "      <th>831784</th>\n",
       "      <td>BK</td>\n",
       "      <td>2570</td>\n",
       "      <td>20</td>\n",
       "      <td>301.0</td>\n",
       "      <td>3056100.0</td>\n",
       "      <td>3.056100e+10</td>\n",
       "      <td>561.0</td>\n",
       "      <td>1008.0</td>\n",
       "      <td>14.0</td>\n",
       "      <td>33.0</td>\n",
       "      <td>11222</td>\n",
       "      <td>L106</td>\n",
       "      <td>94.0</td>\n",
       "      <td>30.0</td>\n",
       "      <td>100.0</td>\n",
       "      <td>3.0</td>\n",
       "      <td>1.0</td>\n",
       "      <td>1A</td>\n",
       "      <td>QUAY STREET</td>\n",
       "      <td>R6</td>\n",
       "      <td>R8</td>\n",
       "      <td>NaN</td>\n",
       "      <td>NaN</td>\n",
       "      <td>NaN</td>\n",
       "      <td>NaN</td>\n",
       "      <td>NaN</td>\n",
       "      <td>NaN</td>\n",
       "      <td>NaN</td>\n",
       "      <td>NaN</td>\n",
       "      <td>Y</td>\n",
       "      <td>V0</td>\n",
       "      <td>11.0</td>\n",
       "      <td>0.0</td>\n",
       "      <td>NaN</td>\n",
       "      <td>M &amp; H REALTY LLC</td>\n",
       "      <td>21575.0</td>\n",
       "      <td>0.0</td>\n",
       "      <td>NaN</td>\n",
       "      <td>NaN</td>\n",
       "      <td>NaN</td>\n",
       "      <td>...</td>\n",
       "      <td>0.0</td>\n",
       "      <td>0.0</td>\n",
       "      <td>NaN</td>\n",
       "      <td>0.0</td>\n",
       "      <td>Y</td>\n",
       "      <td>6.0</td>\n",
       "      <td>5.0</td>\n",
       "      <td>443100.0</td>\n",
       "      <td>443100.0</td>\n",
       "      <td>0.0</td>\n",
       "      <td>0.0</td>\n",
       "      <td>0.0</td>\n",
       "      <td>0.0</td>\n",
       "      <td>NaN</td>\n",
       "      <td>NaN</td>\n",
       "      <td>0.00</td>\n",
       "      <td>2.43</td>\n",
       "      <td>0.0</td>\n",
       "      <td>4.8</td>\n",
       "      <td>3</td>\n",
       "      <td>3.025700e+09</td>\n",
       "      <td>NaN</td>\n",
       "      <td>561.0</td>\n",
       "      <td>995240.0</td>\n",
       "      <td>203884.0</td>\n",
       "      <td>12c</td>\n",
       "      <td>NaN</td>\n",
       "      <td>3</td>\n",
       "      <td>3.0</td>\n",
       "      <td>E-138</td>\n",
       "      <td>3.025700e+09</td>\n",
       "      <td>11/08/2019</td>\n",
       "      <td>1</td>\n",
       "      <td>1.0</td>\n",
       "      <td>1.0</td>\n",
       "      <td>23v1</td>\n",
       "      <td>NaN</td>\n",
       "      <td>40.726284</td>\n",
       "      <td>-73.960350</td>\n",
       "      <td>NaN</td>\n",
       "    </tr>\n",
       "    <tr>\n",
       "      <th>834700</th>\n",
       "      <td>QN</td>\n",
       "      <td>13845</td>\n",
       "      <td>74</td>\n",
       "      <td>413.0</td>\n",
       "      <td>4066401.0</td>\n",
       "      <td>4.066401e+10</td>\n",
       "      <td>664.0</td>\n",
       "      <td>1000.0</td>\n",
       "      <td>29.0</td>\n",
       "      <td>31.0</td>\n",
       "      <td>11422</td>\n",
       "      <td>E314</td>\n",
       "      <td>105.0</td>\n",
       "      <td>44.0</td>\n",
       "      <td>3620.0</td>\n",
       "      <td>4.0</td>\n",
       "      <td>13.0</td>\n",
       "      <td>7E</td>\n",
       "      <td>SOUTH ROAD</td>\n",
       "      <td>R3-2</td>\n",
       "      <td>NaN</td>\n",
       "      <td>NaN</td>\n",
       "      <td>NaN</td>\n",
       "      <td>NaN</td>\n",
       "      <td>NaN</td>\n",
       "      <td>NaN</td>\n",
       "      <td>NaN</td>\n",
       "      <td>NaN</td>\n",
       "      <td>NaN</td>\n",
       "      <td>N</td>\n",
       "      <td>V0</td>\n",
       "      <td>11.0</td>\n",
       "      <td>0.0</td>\n",
       "      <td>NaN</td>\n",
       "      <td>DENNIS WILLIAM</td>\n",
       "      <td>1665.0</td>\n",
       "      <td>0.0</td>\n",
       "      <td>NaN</td>\n",
       "      <td>NaN</td>\n",
       "      <td>NaN</td>\n",
       "      <td>...</td>\n",
       "      <td>0.0</td>\n",
       "      <td>0.0</td>\n",
       "      <td>NaN</td>\n",
       "      <td>0.0</td>\n",
       "      <td>N</td>\n",
       "      <td>5.0</td>\n",
       "      <td>5.0</td>\n",
       "      <td>4440.0</td>\n",
       "      <td>4440.0</td>\n",
       "      <td>0.0</td>\n",
       "      <td>0.0</td>\n",
       "      <td>0.0</td>\n",
       "      <td>0.0</td>\n",
       "      <td>NaN</td>\n",
       "      <td>NaN</td>\n",
       "      <td>0.00</td>\n",
       "      <td>0.50</td>\n",
       "      <td>0.0</td>\n",
       "      <td>1.0</td>\n",
       "      <td>4</td>\n",
       "      <td>4.138450e+09</td>\n",
       "      <td>NaN</td>\n",
       "      <td>664.0</td>\n",
       "      <td>1055310.0</td>\n",
       "      <td>174438.0</td>\n",
       "      <td>25a</td>\n",
       "      <td>NaN</td>\n",
       "      <td>417 060</td>\n",
       "      <td>45703.0</td>\n",
       "      <td>NaN</td>\n",
       "      <td>NaN</td>\n",
       "      <td>NaN</td>\n",
       "      <td>1</td>\n",
       "      <td>1.0</td>\n",
       "      <td>1.0</td>\n",
       "      <td>23v1</td>\n",
       "      <td>NaN</td>\n",
       "      <td>40.645184</td>\n",
       "      <td>-73.743936</td>\n",
       "      <td>NaN</td>\n",
       "    </tr>\n",
       "    <tr>\n",
       "      <th>843076</th>\n",
       "      <td>BK</td>\n",
       "      <td>8914</td>\n",
       "      <td>60</td>\n",
       "      <td>315.0</td>\n",
       "      <td>3062800.0</td>\n",
       "      <td>3.062800e+10</td>\n",
       "      <td>628.0</td>\n",
       "      <td>4003.0</td>\n",
       "      <td>22.0</td>\n",
       "      <td>46.0</td>\n",
       "      <td>11229</td>\n",
       "      <td>E321</td>\n",
       "      <td>61.0</td>\n",
       "      <td>37.0</td>\n",
       "      <td>8900.0</td>\n",
       "      <td>3.0</td>\n",
       "      <td>15.0</td>\n",
       "      <td>4D</td>\n",
       "      <td>BEACON COURT</td>\n",
       "      <td>R4-1</td>\n",
       "      <td>NaN</td>\n",
       "      <td>NaN</td>\n",
       "      <td>NaN</td>\n",
       "      <td>NaN</td>\n",
       "      <td>NaN</td>\n",
       "      <td>CR-4</td>\n",
       "      <td>NaN</td>\n",
       "      <td>NaN</td>\n",
       "      <td>NaN</td>\n",
       "      <td>N</td>\n",
       "      <td>V0</td>\n",
       "      <td>11.0</td>\n",
       "      <td>0.0</td>\n",
       "      <td>NaN</td>\n",
       "      <td>STEWART, JOHN  G</td>\n",
       "      <td>1799.0</td>\n",
       "      <td>0.0</td>\n",
       "      <td>NaN</td>\n",
       "      <td>NaN</td>\n",
       "      <td>NaN</td>\n",
       "      <td>...</td>\n",
       "      <td>0.0</td>\n",
       "      <td>0.0</td>\n",
       "      <td>NaN</td>\n",
       "      <td>0.0</td>\n",
       "      <td>N</td>\n",
       "      <td>5.0</td>\n",
       "      <td>5.0</td>\n",
       "      <td>5580.0</td>\n",
       "      <td>5580.0</td>\n",
       "      <td>0.0</td>\n",
       "      <td>0.0</td>\n",
       "      <td>0.0</td>\n",
       "      <td>0.0</td>\n",
       "      <td>NaN</td>\n",
       "      <td>NaN</td>\n",
       "      <td>0.00</td>\n",
       "      <td>0.75</td>\n",
       "      <td>0.0</td>\n",
       "      <td>2.0</td>\n",
       "      <td>3</td>\n",
       "      <td>3.089140e+09</td>\n",
       "      <td>NaN</td>\n",
       "      <td>628.0</td>\n",
       "      <td>1005448.0</td>\n",
       "      <td>154345.0</td>\n",
       "      <td>29a</td>\n",
       "      <td>NaN</td>\n",
       "      <td>319 039</td>\n",
       "      <td>32605.0</td>\n",
       "      <td>NaN</td>\n",
       "      <td>NaN</td>\n",
       "      <td>NaN</td>\n",
       "      <td>1</td>\n",
       "      <td>NaN</td>\n",
       "      <td>1.0</td>\n",
       "      <td>23v1</td>\n",
       "      <td>NaN</td>\n",
       "      <td>40.590292</td>\n",
       "      <td>-73.923676</td>\n",
       "      <td>NaN</td>\n",
       "    </tr>\n",
       "  </tbody>\n",
       "</table>\n",
       "<p>88 rows × 92 columns</p>\n",
       "</div>"
      ],
      "text/plain": [
       "       borough  block   lot     cd  ...  dcpedited   latitude  longitude  notes\n",
       "44833       QN  13911   140  413.0  ...        NaN  40.637999 -73.745664    NaN\n",
       "69957       BK   8845  2032  315.0  ...        NaN  40.587496 -73.920252    NaN\n",
       "70017       BK   8932   642  315.0  ...        NaN  40.592561 -73.926698    NaN\n",
       "70383       BK   8914    92  315.0  ...        NaN  40.589762 -73.923605    NaN\n",
       "70457       BK   8914   400  315.0  ...        NaN  40.590095 -73.923979    NaN\n",
       "...        ...    ...   ...    ...  ...        ...        ...        ...    ...\n",
       "813050      QN  13845    40  413.0  ...        NaN  40.645332 -73.743957    NaN\n",
       "813057      QN  13864    35  413.0  ...          t  40.643715 -73.744035    NaN\n",
       "831784      BK   2570    20  301.0  ...        NaN  40.726284 -73.960350    NaN\n",
       "834700      QN  13845    74  413.0  ...        NaN  40.645184 -73.743936    NaN\n",
       "843076      BK   8914    60  315.0  ...        NaN  40.590292 -73.923676    NaN\n",
       "\n",
       "[88 rows x 92 columns]"
      ]
     },
     "execution_count": 42,
     "metadata": {},
     "output_type": "execute_result"
    }
   ],
   "source": [
    "pluto_only[pluto_only.duplicated(subset=['address','zipcode'])]"
   ]
  },
  {
   "cell_type": "code",
   "execution_count": 43,
   "id": "f452de89-a4cc-4f92-93f5-f3be249bf1a3",
   "metadata": {},
   "outputs": [],
   "source": [
    "pluto_only_nodups = pluto_only.drop_duplicates(subset=['address','zipcode'], keep = False)"
   ]
  },
  {
   "cell_type": "code",
   "execution_count": 46,
   "id": "fe35a8f7-de8a-4d2a-b2ad-270bf3573ee5",
   "metadata": {},
   "outputs": [],
   "source": [
    "# Filter for residential buildings - based on residential area (bldgclass is unreliable)\n",
    "pluto_only_res_nodups = pluto_only_nodups[pluto_only_nodups.resarea > 0]"
   ]
  },
  {
   "cell_type": "markdown",
   "id": "9b4142a9-8d16-4557-ac28-01583ed19053",
   "metadata": {
    "jp-MarkdownHeadingCollapsed": true,
    "tags": []
   },
   "source": [
    "## Explorations and visualizations"
   ]
  },
  {
   "cell_type": "code",
   "execution_count": null,
   "id": "12509ea5-6408-45c7-af25-a03b56faa4cd",
   "metadata": {},
   "outputs": [],
   "source": [
    "import plotly.express as px\n",
    "\n",
    "# Assuming you have a dataframe 'df' with 'year' and 'value' columns\n",
    "# Group the data by year and calculate the sum of values\n",
    "df_grouped = pluto_only_res_nodups.groupby('yearbuilt').size().reset_index(name='count')\n",
    "\n",
    "# Create the bar chart using Plotly\n",
    "fig = px.bar(df_grouped[df_grouped.yearbuilt!=0], x='yearbuilt', y='count', labels={'value': 'Building Count'}, title='Sum of Values by Year')\n",
    "\n",
    "# Show the chart\n",
    "fig.show()\n"
   ]
  },
  {
   "cell_type": "code",
   "execution_count": 496,
   "id": "cdb7aaad-4ceb-4de9-af32-628f1378486e",
   "metadata": {},
   "outputs": [
    {
     "data": {
      "application/vnd.plotly.v1+json": {
       "config": {
        "plotlyServerURL": "https://plot.ly"
       },
       "data": [
        {
         "alignmentgroup": "True",
         "hovertemplate": "borough=%{x}<br>count=%{y}<extra></extra>",
         "legendgroup": "",
         "marker": {
          "color": "#636efa",
          "pattern": {
           "shape": ""
          }
         },
         "name": "",
         "offsetgroup": "",
         "orientation": "v",
         "showlegend": false,
         "textposition": "auto",
         "type": "bar",
         "x": [
          "BK",
          "BX",
          "MN",
          "QN"
         ],
         "xaxis": "x",
         "y": [
          1224,
          292,
          104,
          831
         ],
         "yaxis": "y"
        }
       ],
       "layout": {
        "autosize": true,
        "barmode": "relative",
        "legend": {
         "tracegroupgap": 0
        },
        "template": {
         "data": {
          "bar": [
           {
            "error_x": {
             "color": "#2a3f5f"
            },
            "error_y": {
             "color": "#2a3f5f"
            },
            "marker": {
             "line": {
              "color": "#E5ECF6",
              "width": 0.5
             },
             "pattern": {
              "fillmode": "overlay",
              "size": 10,
              "solidity": 0.2
             }
            },
            "type": "bar"
           }
          ],
          "barpolar": [
           {
            "marker": {
             "line": {
              "color": "#E5ECF6",
              "width": 0.5
             },
             "pattern": {
              "fillmode": "overlay",
              "size": 10,
              "solidity": 0.2
             }
            },
            "type": "barpolar"
           }
          ],
          "carpet": [
           {
            "aaxis": {
             "endlinecolor": "#2a3f5f",
             "gridcolor": "white",
             "linecolor": "white",
             "minorgridcolor": "white",
             "startlinecolor": "#2a3f5f"
            },
            "baxis": {
             "endlinecolor": "#2a3f5f",
             "gridcolor": "white",
             "linecolor": "white",
             "minorgridcolor": "white",
             "startlinecolor": "#2a3f5f"
            },
            "type": "carpet"
           }
          ],
          "choropleth": [
           {
            "colorbar": {
             "outlinewidth": 0,
             "ticks": ""
            },
            "type": "choropleth"
           }
          ],
          "contour": [
           {
            "colorbar": {
             "outlinewidth": 0,
             "ticks": ""
            },
            "colorscale": [
             [
              0,
              "#0d0887"
             ],
             [
              0.1111111111111111,
              "#46039f"
             ],
             [
              0.2222222222222222,
              "#7201a8"
             ],
             [
              0.3333333333333333,
              "#9c179e"
             ],
             [
              0.4444444444444444,
              "#bd3786"
             ],
             [
              0.5555555555555556,
              "#d8576b"
             ],
             [
              0.6666666666666666,
              "#ed7953"
             ],
             [
              0.7777777777777778,
              "#fb9f3a"
             ],
             [
              0.8888888888888888,
              "#fdca26"
             ],
             [
              1,
              "#f0f921"
             ]
            ],
            "type": "contour"
           }
          ],
          "contourcarpet": [
           {
            "colorbar": {
             "outlinewidth": 0,
             "ticks": ""
            },
            "type": "contourcarpet"
           }
          ],
          "heatmap": [
           {
            "colorbar": {
             "outlinewidth": 0,
             "ticks": ""
            },
            "colorscale": [
             [
              0,
              "#0d0887"
             ],
             [
              0.1111111111111111,
              "#46039f"
             ],
             [
              0.2222222222222222,
              "#7201a8"
             ],
             [
              0.3333333333333333,
              "#9c179e"
             ],
             [
              0.4444444444444444,
              "#bd3786"
             ],
             [
              0.5555555555555556,
              "#d8576b"
             ],
             [
              0.6666666666666666,
              "#ed7953"
             ],
             [
              0.7777777777777778,
              "#fb9f3a"
             ],
             [
              0.8888888888888888,
              "#fdca26"
             ],
             [
              1,
              "#f0f921"
             ]
            ],
            "type": "heatmap"
           }
          ],
          "heatmapgl": [
           {
            "colorbar": {
             "outlinewidth": 0,
             "ticks": ""
            },
            "colorscale": [
             [
              0,
              "#0d0887"
             ],
             [
              0.1111111111111111,
              "#46039f"
             ],
             [
              0.2222222222222222,
              "#7201a8"
             ],
             [
              0.3333333333333333,
              "#9c179e"
             ],
             [
              0.4444444444444444,
              "#bd3786"
             ],
             [
              0.5555555555555556,
              "#d8576b"
             ],
             [
              0.6666666666666666,
              "#ed7953"
             ],
             [
              0.7777777777777778,
              "#fb9f3a"
             ],
             [
              0.8888888888888888,
              "#fdca26"
             ],
             [
              1,
              "#f0f921"
             ]
            ],
            "type": "heatmapgl"
           }
          ],
          "histogram": [
           {
            "marker": {
             "pattern": {
              "fillmode": "overlay",
              "size": 10,
              "solidity": 0.2
             }
            },
            "type": "histogram"
           }
          ],
          "histogram2d": [
           {
            "colorbar": {
             "outlinewidth": 0,
             "ticks": ""
            },
            "colorscale": [
             [
              0,
              "#0d0887"
             ],
             [
              0.1111111111111111,
              "#46039f"
             ],
             [
              0.2222222222222222,
              "#7201a8"
             ],
             [
              0.3333333333333333,
              "#9c179e"
             ],
             [
              0.4444444444444444,
              "#bd3786"
             ],
             [
              0.5555555555555556,
              "#d8576b"
             ],
             [
              0.6666666666666666,
              "#ed7953"
             ],
             [
              0.7777777777777778,
              "#fb9f3a"
             ],
             [
              0.8888888888888888,
              "#fdca26"
             ],
             [
              1,
              "#f0f921"
             ]
            ],
            "type": "histogram2d"
           }
          ],
          "histogram2dcontour": [
           {
            "colorbar": {
             "outlinewidth": 0,
             "ticks": ""
            },
            "colorscale": [
             [
              0,
              "#0d0887"
             ],
             [
              0.1111111111111111,
              "#46039f"
             ],
             [
              0.2222222222222222,
              "#7201a8"
             ],
             [
              0.3333333333333333,
              "#9c179e"
             ],
             [
              0.4444444444444444,
              "#bd3786"
             ],
             [
              0.5555555555555556,
              "#d8576b"
             ],
             [
              0.6666666666666666,
              "#ed7953"
             ],
             [
              0.7777777777777778,
              "#fb9f3a"
             ],
             [
              0.8888888888888888,
              "#fdca26"
             ],
             [
              1,
              "#f0f921"
             ]
            ],
            "type": "histogram2dcontour"
           }
          ],
          "mesh3d": [
           {
            "colorbar": {
             "outlinewidth": 0,
             "ticks": ""
            },
            "type": "mesh3d"
           }
          ],
          "parcoords": [
           {
            "line": {
             "colorbar": {
              "outlinewidth": 0,
              "ticks": ""
             }
            },
            "type": "parcoords"
           }
          ],
          "pie": [
           {
            "automargin": true,
            "type": "pie"
           }
          ],
          "scatter": [
           {
            "fillpattern": {
             "fillmode": "overlay",
             "size": 10,
             "solidity": 0.2
            },
            "type": "scatter"
           }
          ],
          "scatter3d": [
           {
            "line": {
             "colorbar": {
              "outlinewidth": 0,
              "ticks": ""
             }
            },
            "marker": {
             "colorbar": {
              "outlinewidth": 0,
              "ticks": ""
             }
            },
            "type": "scatter3d"
           }
          ],
          "scattercarpet": [
           {
            "marker": {
             "colorbar": {
              "outlinewidth": 0,
              "ticks": ""
             }
            },
            "type": "scattercarpet"
           }
          ],
          "scattergeo": [
           {
            "marker": {
             "colorbar": {
              "outlinewidth": 0,
              "ticks": ""
             }
            },
            "type": "scattergeo"
           }
          ],
          "scattergl": [
           {
            "marker": {
             "colorbar": {
              "outlinewidth": 0,
              "ticks": ""
             }
            },
            "type": "scattergl"
           }
          ],
          "scattermapbox": [
           {
            "marker": {
             "colorbar": {
              "outlinewidth": 0,
              "ticks": ""
             }
            },
            "type": "scattermapbox"
           }
          ],
          "scatterpolar": [
           {
            "marker": {
             "colorbar": {
              "outlinewidth": 0,
              "ticks": ""
             }
            },
            "type": "scatterpolar"
           }
          ],
          "scatterpolargl": [
           {
            "marker": {
             "colorbar": {
              "outlinewidth": 0,
              "ticks": ""
             }
            },
            "type": "scatterpolargl"
           }
          ],
          "scatterternary": [
           {
            "marker": {
             "colorbar": {
              "outlinewidth": 0,
              "ticks": ""
             }
            },
            "type": "scatterternary"
           }
          ],
          "surface": [
           {
            "colorbar": {
             "outlinewidth": 0,
             "ticks": ""
            },
            "colorscale": [
             [
              0,
              "#0d0887"
             ],
             [
              0.1111111111111111,
              "#46039f"
             ],
             [
              0.2222222222222222,
              "#7201a8"
             ],
             [
              0.3333333333333333,
              "#9c179e"
             ],
             [
              0.4444444444444444,
              "#bd3786"
             ],
             [
              0.5555555555555556,
              "#d8576b"
             ],
             [
              0.6666666666666666,
              "#ed7953"
             ],
             [
              0.7777777777777778,
              "#fb9f3a"
             ],
             [
              0.8888888888888888,
              "#fdca26"
             ],
             [
              1,
              "#f0f921"
             ]
            ],
            "type": "surface"
           }
          ],
          "table": [
           {
            "cells": {
             "fill": {
              "color": "#EBF0F8"
             },
             "line": {
              "color": "white"
             }
            },
            "header": {
             "fill": {
              "color": "#C8D4E3"
             },
             "line": {
              "color": "white"
             }
            },
            "type": "table"
           }
          ]
         },
         "layout": {
          "annotationdefaults": {
           "arrowcolor": "#2a3f5f",
           "arrowhead": 0,
           "arrowwidth": 1
          },
          "autotypenumbers": "strict",
          "coloraxis": {
           "colorbar": {
            "outlinewidth": 0,
            "ticks": ""
           }
          },
          "colorscale": {
           "diverging": [
            [
             0,
             "#8e0152"
            ],
            [
             0.1,
             "#c51b7d"
            ],
            [
             0.2,
             "#de77ae"
            ],
            [
             0.3,
             "#f1b6da"
            ],
            [
             0.4,
             "#fde0ef"
            ],
            [
             0.5,
             "#f7f7f7"
            ],
            [
             0.6,
             "#e6f5d0"
            ],
            [
             0.7,
             "#b8e186"
            ],
            [
             0.8,
             "#7fbc41"
            ],
            [
             0.9,
             "#4d9221"
            ],
            [
             1,
             "#276419"
            ]
           ],
           "sequential": [
            [
             0,
             "#0d0887"
            ],
            [
             0.1111111111111111,
             "#46039f"
            ],
            [
             0.2222222222222222,
             "#7201a8"
            ],
            [
             0.3333333333333333,
             "#9c179e"
            ],
            [
             0.4444444444444444,
             "#bd3786"
            ],
            [
             0.5555555555555556,
             "#d8576b"
            ],
            [
             0.6666666666666666,
             "#ed7953"
            ],
            [
             0.7777777777777778,
             "#fb9f3a"
            ],
            [
             0.8888888888888888,
             "#fdca26"
            ],
            [
             1,
             "#f0f921"
            ]
           ],
           "sequentialminus": [
            [
             0,
             "#0d0887"
            ],
            [
             0.1111111111111111,
             "#46039f"
            ],
            [
             0.2222222222222222,
             "#7201a8"
            ],
            [
             0.3333333333333333,
             "#9c179e"
            ],
            [
             0.4444444444444444,
             "#bd3786"
            ],
            [
             0.5555555555555556,
             "#d8576b"
            ],
            [
             0.6666666666666666,
             "#ed7953"
            ],
            [
             0.7777777777777778,
             "#fb9f3a"
            ],
            [
             0.8888888888888888,
             "#fdca26"
            ],
            [
             1,
             "#f0f921"
            ]
           ]
          },
          "colorway": [
           "#636efa",
           "#EF553B",
           "#00cc96",
           "#ab63fa",
           "#FFA15A",
           "#19d3f3",
           "#FF6692",
           "#B6E880",
           "#FF97FF",
           "#FECB52"
          ],
          "font": {
           "color": "#2a3f5f"
          },
          "geo": {
           "bgcolor": "white",
           "lakecolor": "white",
           "landcolor": "#E5ECF6",
           "showlakes": true,
           "showland": true,
           "subunitcolor": "white"
          },
          "hoverlabel": {
           "align": "left"
          },
          "hovermode": "closest",
          "mapbox": {
           "style": "light"
          },
          "paper_bgcolor": "white",
          "plot_bgcolor": "#E5ECF6",
          "polar": {
           "angularaxis": {
            "gridcolor": "white",
            "linecolor": "white",
            "ticks": ""
           },
           "bgcolor": "#E5ECF6",
           "radialaxis": {
            "gridcolor": "white",
            "linecolor": "white",
            "ticks": ""
           }
          },
          "scene": {
           "xaxis": {
            "backgroundcolor": "#E5ECF6",
            "gridcolor": "white",
            "gridwidth": 2,
            "linecolor": "white",
            "showbackground": true,
            "ticks": "",
            "zerolinecolor": "white"
           },
           "yaxis": {
            "backgroundcolor": "#E5ECF6",
            "gridcolor": "white",
            "gridwidth": 2,
            "linecolor": "white",
            "showbackground": true,
            "ticks": "",
            "zerolinecolor": "white"
           },
           "zaxis": {
            "backgroundcolor": "#E5ECF6",
            "gridcolor": "white",
            "gridwidth": 2,
            "linecolor": "white",
            "showbackground": true,
            "ticks": "",
            "zerolinecolor": "white"
           }
          },
          "shapedefaults": {
           "line": {
            "color": "#2a3f5f"
           }
          },
          "ternary": {
           "aaxis": {
            "gridcolor": "white",
            "linecolor": "white",
            "ticks": ""
           },
           "baxis": {
            "gridcolor": "white",
            "linecolor": "white",
            "ticks": ""
           },
           "bgcolor": "#E5ECF6",
           "caxis": {
            "gridcolor": "white",
            "linecolor": "white",
            "ticks": ""
           }
          },
          "title": {
           "x": 0.05
          },
          "xaxis": {
           "automargin": true,
           "gridcolor": "white",
           "linecolor": "white",
           "ticks": "",
           "title": {
            "standoff": 15
           },
           "zerolinecolor": "white",
           "zerolinewidth": 2
          },
          "yaxis": {
           "automargin": true,
           "gridcolor": "white",
           "linecolor": "white",
           "ticks": "",
           "title": {
            "standoff": 15
           },
           "zerolinecolor": "white",
           "zerolinewidth": 2
          }
         }
        },
        "title": {
         "text": "Count of PLUTO only Buildings by Borough"
        },
        "xaxis": {
         "anchor": "y",
         "autorange": true,
         "domain": [
          0,
          1
         ],
         "range": [
          -0.5,
          3.5
         ],
         "title": {
          "text": "borough"
         },
         "type": "category"
        },
        "yaxis": {
         "anchor": "x",
         "autorange": true,
         "domain": [
          0,
          1
         ],
         "range": [
          0,
          1288.421052631579
         ],
         "title": {
          "text": "count"
         },
         "type": "linear"
        }
       }
      },
      "image/png": "[encoded data removed]",
      "text/html": [
       "<div>                            <div id=\"f4469b47-0dfd-4475-9bf8-8af6a864f36d\" class=\"plotly-graph-div\" style=\"height:525px; width:100%;\"></div>            <script type=\"text/javascript\">                require([\"plotly\"], function(Plotly) {                    window.PLOTLYENV=window.PLOTLYENV || {};                                    if (document.getElementById(\"f4469b47-0dfd-4475-9bf8-8af6a864f36d\")) {                    Plotly.newPlot(                        \"f4469b47-0dfd-4475-9bf8-8af6a864f36d\",                        [{\"alignmentgroup\":\"True\",\"hovertemplate\":\"borough=%{x}<br>count=%{y}<extra></extra>\",\"legendgroup\":\"\",\"marker\":{\"color\":\"#636efa\",\"pattern\":{\"shape\":\"\"}},\"name\":\"\",\"offsetgroup\":\"\",\"orientation\":\"v\",\"showlegend\":false,\"textposition\":\"auto\",\"x\":[\"BK\",\"BX\",\"MN\",\"QN\"],\"xaxis\":\"x\",\"y\":[1224,292,104,831],\"yaxis\":\"y\",\"type\":\"bar\"}],                        {\"template\":{\"data\":{\"histogram2dcontour\":[{\"type\":\"histogram2dcontour\",\"colorbar\":{\"outlinewidth\":0,\"ticks\":\"\"},\"colorscale\":[[0.0,\"#0d0887\"],[0.1111111111111111,\"#46039f\"],[0.2222222222222222,\"#7201a8\"],[0.3333333333333333,\"#9c179e\"],[0.4444444444444444,\"#bd3786\"],[0.5555555555555556,\"#d8576b\"],[0.6666666666666666,\"#ed7953\"],[0.7777777777777778,\"#fb9f3a\"],[0.8888888888888888,\"#fdca26\"],[1.0,\"#f0f921\"]]}],\"choropleth\":[{\"type\":\"choropleth\",\"colorbar\":{\"outlinewidth\":0,\"ticks\":\"\"}}],\"histogram2d\":[{\"type\":\"histogram2d\",\"colorbar\":{\"outlinewidth\":0,\"ticks\":\"\"},\"colorscale\":[[0.0,\"#0d0887\"],[0.1111111111111111,\"#46039f\"],[0.2222222222222222,\"#7201a8\"],[0.3333333333333333,\"#9c179e\"],[0.4444444444444444,\"#bd3786\"],[0.5555555555555556,\"#d8576b\"],[0.6666666666666666,\"#ed7953\"],[0.7777777777777778,\"#fb9f3a\"],[0.8888888888888888,\"#fdca26\"],[1.0,\"#f0f921\"]]}],\"heatmap\":[{\"type\":\"heatmap\",\"colorbar\":{\"outlinewidth\":0,\"ticks\":\"\"},\"colorscale\":[[0.0,\"#0d0887\"],[0.1111111111111111,\"#46039f\"],[0.2222222222222222,\"#7201a8\"],[0.3333333333333333,\"#9c179e\"],[0.4444444444444444,\"#bd3786\"],[0.5555555555555556,\"#d8576b\"],[0.6666666666666666,\"#ed7953\"],[0.7777777777777778,\"#fb9f3a\"],[0.8888888888888888,\"#fdca26\"],[1.0,\"#f0f921\"]]}],\"heatmapgl\":[{\"type\":\"heatmapgl\",\"colorbar\":{\"outlinewidth\":0,\"ticks\":\"\"},\"colorscale\":[[0.0,\"#0d0887\"],[0.1111111111111111,\"#46039f\"],[0.2222222222222222,\"#7201a8\"],[0.3333333333333333,\"#9c179e\"],[0.4444444444444444,\"#bd3786\"],[0.5555555555555556,\"#d8576b\"],[0.6666666666666666,\"#ed7953\"],[0.7777777777777778,\"#fb9f3a\"],[0.8888888888888888,\"#fdca26\"],[1.0,\"#f0f921\"]]}],\"contourcarpet\":[{\"type\":\"contourcarpet\",\"colorbar\":{\"outlinewidth\":0,\"ticks\":\"\"}}],\"contour\":[{\"type\":\"contour\",\"colorbar\":{\"outlinewidth\":0,\"ticks\":\"\"},\"colorscale\":[[0.0,\"#0d0887\"],[0.1111111111111111,\"#46039f\"],[0.2222222222222222,\"#7201a8\"],[0.3333333333333333,\"#9c179e\"],[0.4444444444444444,\"#bd3786\"],[0.5555555555555556,\"#d8576b\"],[0.6666666666666666,\"#ed7953\"],[0.7777777777777778,\"#fb9f3a\"],[0.8888888888888888,\"#fdca26\"],[1.0,\"#f0f921\"]]}],\"surface\":[{\"type\":\"surface\",\"colorbar\":{\"outlinewidth\":0,\"ticks\":\"\"},\"colorscale\":[[0.0,\"#0d0887\"],[0.1111111111111111,\"#46039f\"],[0.2222222222222222,\"#7201a8\"],[0.3333333333333333,\"#9c179e\"],[0.4444444444444444,\"#bd3786\"],[0.5555555555555556,\"#d8576b\"],[0.6666666666666666,\"#ed7953\"],[0.7777777777777778,\"#fb9f3a\"],[0.8888888888888888,\"#fdca26\"],[1.0,\"#f0f921\"]]}],\"mesh3d\":[{\"type\":\"mesh3d\",\"colorbar\":{\"outlinewidth\":0,\"ticks\":\"\"}}],\"scatter\":[{\"fillpattern\":{\"fillmode\":\"overlay\",\"size\":10,\"solidity\":0.2},\"type\":\"scatter\"}],\"parcoords\":[{\"type\":\"parcoords\",\"line\":{\"colorbar\":{\"outlinewidth\":0,\"ticks\":\"\"}}}],\"scatterpolargl\":[{\"type\":\"scatterpolargl\",\"marker\":{\"colorbar\":{\"outlinewidth\":0,\"ticks\":\"\"}}}],\"bar\":[{\"error_x\":{\"color\":\"#2a3f5f\"},\"error_y\":{\"color\":\"#2a3f5f\"},\"marker\":{\"line\":{\"color\":\"#E5ECF6\",\"width\":0.5},\"pattern\":{\"fillmode\":\"overlay\",\"size\":10,\"solidity\":0.2}},\"type\":\"bar\"}],\"scattergeo\":[{\"type\":\"scattergeo\",\"marker\":{\"colorbar\":{\"outlinewidth\":0,\"ticks\":\"\"}}}],\"scatterpolar\":[{\"type\":\"scatterpolar\",\"marker\":{\"colorbar\":{\"outlinewidth\":0,\"ticks\":\"\"}}}],\"histogram\":[{\"marker\":{\"pattern\":{\"fillmode\":\"overlay\",\"size\":10,\"solidity\":0.2}},\"type\":\"histogram\"}],\"scattergl\":[{\"type\":\"scattergl\",\"marker\":{\"colorbar\":{\"outlinewidth\":0,\"ticks\":\"\"}}}],\"scatter3d\":[{\"type\":\"scatter3d\",\"line\":{\"colorbar\":{\"outlinewidth\":0,\"ticks\":\"\"}},\"marker\":{\"colorbar\":{\"outlinewidth\":0,\"ticks\":\"\"}}}],\"scattermapbox\":[{\"type\":\"scattermapbox\",\"marker\":{\"colorbar\":{\"outlinewidth\":0,\"ticks\":\"\"}}}],\"scatterternary\":[{\"type\":\"scatterternary\",\"marker\":{\"colorbar\":{\"outlinewidth\":0,\"ticks\":\"\"}}}],\"scattercarpet\":[{\"type\":\"scattercarpet\",\"marker\":{\"colorbar\":{\"outlinewidth\":0,\"ticks\":\"\"}}}],\"carpet\":[{\"aaxis\":{\"endlinecolor\":\"#2a3f5f\",\"gridcolor\":\"white\",\"linecolor\":\"white\",\"minorgridcolor\":\"white\",\"startlinecolor\":\"#2a3f5f\"},\"baxis\":{\"endlinecolor\":\"#2a3f5f\",\"gridcolor\":\"white\",\"linecolor\":\"white\",\"minorgridcolor\":\"white\",\"startlinecolor\":\"#2a3f5f\"},\"type\":\"carpet\"}],\"table\":[{\"cells\":{\"fill\":{\"color\":\"#EBF0F8\"},\"line\":{\"color\":\"white\"}},\"header\":{\"fill\":{\"color\":\"#C8D4E3\"},\"line\":{\"color\":\"white\"}},\"type\":\"table\"}],\"barpolar\":[{\"marker\":{\"line\":{\"color\":\"#E5ECF6\",\"width\":0.5},\"pattern\":{\"fillmode\":\"overlay\",\"size\":10,\"solidity\":0.2}},\"type\":\"barpolar\"}],\"pie\":[{\"automargin\":true,\"type\":\"pie\"}]},\"layout\":{\"autotypenumbers\":\"strict\",\"colorway\":[\"#636efa\",\"#EF553B\",\"#00cc96\",\"#ab63fa\",\"#FFA15A\",\"#19d3f3\",\"#FF6692\",\"#B6E880\",\"#FF97FF\",\"#FECB52\"],\"font\":{\"color\":\"#2a3f5f\"},\"hovermode\":\"closest\",\"hoverlabel\":{\"align\":\"left\"},\"paper_bgcolor\":\"white\",\"plot_bgcolor\":\"#E5ECF6\",\"polar\":{\"bgcolor\":\"#E5ECF6\",\"angularaxis\":{\"gridcolor\":\"white\",\"linecolor\":\"white\",\"ticks\":\"\"},\"radialaxis\":{\"gridcolor\":\"white\",\"linecolor\":\"white\",\"ticks\":\"\"}},\"ternary\":{\"bgcolor\":\"#E5ECF6\",\"aaxis\":{\"gridcolor\":\"white\",\"linecolor\":\"white\",\"ticks\":\"\"},\"baxis\":{\"gridcolor\":\"white\",\"linecolor\":\"white\",\"ticks\":\"\"},\"caxis\":{\"gridcolor\":\"white\",\"linecolor\":\"white\",\"ticks\":\"\"}},\"coloraxis\":{\"colorbar\":{\"outlinewidth\":0,\"ticks\":\"\"}},\"colorscale\":{\"sequential\":[[0.0,\"#0d0887\"],[0.1111111111111111,\"#46039f\"],[0.2222222222222222,\"#7201a8\"],[0.3333333333333333,\"#9c179e\"],[0.4444444444444444,\"#bd3786\"],[0.5555555555555556,\"#d8576b\"],[0.6666666666666666,\"#ed7953\"],[0.7777777777777778,\"#fb9f3a\"],[0.8888888888888888,\"#fdca26\"],[1.0,\"#f0f921\"]],\"sequentialminus\":[[0.0,\"#0d0887\"],[0.1111111111111111,\"#46039f\"],[0.2222222222222222,\"#7201a8\"],[0.3333333333333333,\"#9c179e\"],[0.4444444444444444,\"#bd3786\"],[0.5555555555555556,\"#d8576b\"],[0.6666666666666666,\"#ed7953\"],[0.7777777777777778,\"#fb9f3a\"],[0.8888888888888888,\"#fdca26\"],[1.0,\"#f0f921\"]],\"diverging\":[[0,\"#8e0152\"],[0.1,\"#c51b7d\"],[0.2,\"#de77ae\"],[0.3,\"#f1b6da\"],[0.4,\"#fde0ef\"],[0.5,\"#f7f7f7\"],[0.6,\"#e6f5d0\"],[0.7,\"#b8e186\"],[0.8,\"#7fbc41\"],[0.9,\"#4d9221\"],[1,\"#276419\"]]},\"xaxis\":{\"gridcolor\":\"white\",\"linecolor\":\"white\",\"ticks\":\"\",\"title\":{\"standoff\":15},\"zerolinecolor\":\"white\",\"automargin\":true,\"zerolinewidth\":2},\"yaxis\":{\"gridcolor\":\"white\",\"linecolor\":\"white\",\"ticks\":\"\",\"title\":{\"standoff\":15},\"zerolinecolor\":\"white\",\"automargin\":true,\"zerolinewidth\":2},\"scene\":{\"xaxis\":{\"backgroundcolor\":\"#E5ECF6\",\"gridcolor\":\"white\",\"linecolor\":\"white\",\"showbackground\":true,\"ticks\":\"\",\"zerolinecolor\":\"white\",\"gridwidth\":2},\"yaxis\":{\"backgroundcolor\":\"#E5ECF6\",\"gridcolor\":\"white\",\"linecolor\":\"white\",\"showbackground\":true,\"ticks\":\"\",\"zerolinecolor\":\"white\",\"gridwidth\":2},\"zaxis\":{\"backgroundcolor\":\"#E5ECF6\",\"gridcolor\":\"white\",\"linecolor\":\"white\",\"showbackground\":true,\"ticks\":\"\",\"zerolinecolor\":\"white\",\"gridwidth\":2}},\"shapedefaults\":{\"line\":{\"color\":\"#2a3f5f\"}},\"annotationdefaults\":{\"arrowcolor\":\"#2a3f5f\",\"arrowhead\":0,\"arrowwidth\":1},\"geo\":{\"bgcolor\":\"white\",\"landcolor\":\"#E5ECF6\",\"subunitcolor\":\"white\",\"showland\":true,\"showlakes\":true,\"lakecolor\":\"white\"},\"title\":{\"x\":0.05},\"mapbox\":{\"style\":\"light\"}}},\"xaxis\":{\"anchor\":\"y\",\"domain\":[0.0,1.0],\"title\":{\"text\":\"borough\"}},\"yaxis\":{\"anchor\":\"x\",\"domain\":[0.0,1.0],\"title\":{\"text\":\"count\"}},\"legend\":{\"tracegroupgap\":0},\"title\":{\"text\":\"Count of PLUTO only Buildings by Borough\"},\"barmode\":\"relative\"},                        {\"responsive\": true}                    ).then(function(){\n",
       "                            \n",
       "var gd = document.getElementById('f4469b47-0dfd-4475-9bf8-8af6a864f36d');\n",
       "var x = new MutationObserver(function (mutations, observer) {{\n",
       "        var display = window.getComputedStyle(gd).display;\n",
       "        if (!display || display === 'none') {{\n",
       "            console.log([gd, 'removed!']);\n",
       "            Plotly.purge(gd);\n",
       "            observer.disconnect();\n",
       "        }}\n",
       "}});\n",
       "\n",
       "// Listen for the removal of the full notebook cells\n",
       "var notebookContainer = gd.closest('#notebook-container');\n",
       "if (notebookContainer) {{\n",
       "    x.observe(notebookContainer, {childList: true});\n",
       "}}\n",
       "\n",
       "// Listen for the clearing of the current output cell\n",
       "var outputEl = gd.closest('.output');\n",
       "if (outputEl) {{\n",
       "    x.observe(outputEl, {childList: true});\n",
       "}}\n",
       "\n",
       "                        })                };                });            </script>        </div>"
      ]
     },
     "metadata": {},
     "output_type": "display_data"
    }
   ],
   "source": [
    "\n",
    "# Create the bar chart using Plotly\n",
    "fig = px.bar(pluto_only_res_nodups.groupby('borough').size().reset_index(name='count'), x='borough', y='count', labels={'value': 'Building Count'}, title='Count of PLUTO only Buildings by Borough')\n",
    "\n",
    "# Show the chart\n",
    "fig.show()"
   ]
  },
  {
   "cell_type": "code",
   "execution_count": 497,
   "id": "5139047e-3d90-477e-9796-db211f1b3f44",
   "metadata": {},
   "outputs": [
    {
     "data": {
      "application/vnd.plotly.v1+json": {
       "config": {
        "plotlyServerURL": "https://plot.ly"
       },
       "data": [
        {
         "alignmentgroup": "True",
         "hovertemplate": "borough=%{x}<br>count=%{y}<extra></extra>",
         "legendgroup": "",
         "marker": {
          "color": "#636efa",
          "pattern": {
           "shape": ""
          }
         },
         "name": "",
         "offsetgroup": "",
         "orientation": "v",
         "showlegend": false,
         "textposition": "auto",
         "type": "bar",
         "x": [
          "BK",
          "BX",
          "MN",
          "QN"
         ],
         "xaxis": "x",
         "y": [
          948,
          208,
          68,
          674
         ],
         "yaxis": "y"
        }
       ],
       "layout": {
        "autosize": true,
        "barmode": "relative",
        "legend": {
         "tracegroupgap": 0
        },
        "template": {
         "data": {
          "bar": [
           {
            "error_x": {
             "color": "#2a3f5f"
            },
            "error_y": {
             "color": "#2a3f5f"
            },
            "marker": {
             "line": {
              "color": "#E5ECF6",
              "width": 0.5
             },
             "pattern": {
              "fillmode": "overlay",
              "size": 10,
              "solidity": 0.2
             }
            },
            "type": "bar"
           }
          ],
          "barpolar": [
           {
            "marker": {
             "line": {
              "color": "#E5ECF6",
              "width": 0.5
             },
             "pattern": {
              "fillmode": "overlay",
              "size": 10,
              "solidity": 0.2
             }
            },
            "type": "barpolar"
           }
          ],
          "carpet": [
           {
            "aaxis": {
             "endlinecolor": "#2a3f5f",
             "gridcolor": "white",
             "linecolor": "white",
             "minorgridcolor": "white",
             "startlinecolor": "#2a3f5f"
            },
            "baxis": {
             "endlinecolor": "#2a3f5f",
             "gridcolor": "white",
             "linecolor": "white",
             "minorgridcolor": "white",
             "startlinecolor": "#2a3f5f"
            },
            "type": "carpet"
           }
          ],
          "choropleth": [
           {
            "colorbar": {
             "outlinewidth": 0,
             "ticks": ""
            },
            "type": "choropleth"
           }
          ],
          "contour": [
           {
            "colorbar": {
             "outlinewidth": 0,
             "ticks": ""
            },
            "colorscale": [
             [
              0,
              "#0d0887"
             ],
             [
              0.1111111111111111,
              "#46039f"
             ],
             [
              0.2222222222222222,
              "#7201a8"
             ],
             [
              0.3333333333333333,
              "#9c179e"
             ],
             [
              0.4444444444444444,
              "#bd3786"
             ],
             [
              0.5555555555555556,
              "#d8576b"
             ],
             [
              0.6666666666666666,
              "#ed7953"
             ],
             [
              0.7777777777777778,
              "#fb9f3a"
             ],
             [
              0.8888888888888888,
              "#fdca26"
             ],
             [
              1,
              "#f0f921"
             ]
            ],
            "type": "contour"
           }
          ],
          "contourcarpet": [
           {
            "colorbar": {
             "outlinewidth": 0,
             "ticks": ""
            },
            "type": "contourcarpet"
           }
          ],
          "heatmap": [
           {
            "colorbar": {
             "outlinewidth": 0,
             "ticks": ""
            },
            "colorscale": [
             [
              0,
              "#0d0887"
             ],
             [
              0.1111111111111111,
              "#46039f"
             ],
             [
              0.2222222222222222,
              "#7201a8"
             ],
             [
              0.3333333333333333,
              "#9c179e"
             ],
             [
              0.4444444444444444,
              "#bd3786"
             ],
             [
              0.5555555555555556,
              "#d8576b"
             ],
             [
              0.6666666666666666,
              "#ed7953"
             ],
             [
              0.7777777777777778,
              "#fb9f3a"
             ],
             [
              0.8888888888888888,
              "#fdca26"
             ],
             [
              1,
              "#f0f921"
             ]
            ],
            "type": "heatmap"
           }
          ],
          "heatmapgl": [
           {
            "colorbar": {
             "outlinewidth": 0,
             "ticks": ""
            },
            "colorscale": [
             [
              0,
              "#0d0887"
             ],
             [
              0.1111111111111111,
              "#46039f"
             ],
             [
              0.2222222222222222,
              "#7201a8"
             ],
             [
              0.3333333333333333,
              "#9c179e"
             ],
             [
              0.4444444444444444,
              "#bd3786"
             ],
             [
              0.5555555555555556,
              "#d8576b"
             ],
             [
              0.6666666666666666,
              "#ed7953"
             ],
             [
              0.7777777777777778,
              "#fb9f3a"
             ],
             [
              0.8888888888888888,
              "#fdca26"
             ],
             [
              1,
              "#f0f921"
             ]
            ],
            "type": "heatmapgl"
           }
          ],
          "histogram": [
           {
            "marker": {
             "pattern": {
              "fillmode": "overlay",
              "size": 10,
              "solidity": 0.2
             }
            },
            "type": "histogram"
           }
          ],
          "histogram2d": [
           {
            "colorbar": {
             "outlinewidth": 0,
             "ticks": ""
            },
            "colorscale": [
             [
              0,
              "#0d0887"
             ],
             [
              0.1111111111111111,
              "#46039f"
             ],
             [
              0.2222222222222222,
              "#7201a8"
             ],
             [
              0.3333333333333333,
              "#9c179e"
             ],
             [
              0.4444444444444444,
              "#bd3786"
             ],
             [
              0.5555555555555556,
              "#d8576b"
             ],
             [
              0.6666666666666666,
              "#ed7953"
             ],
             [
              0.7777777777777778,
              "#fb9f3a"
             ],
             [
              0.8888888888888888,
              "#fdca26"
             ],
             [
              1,
              "#f0f921"
             ]
            ],
            "type": "histogram2d"
           }
          ],
          "histogram2dcontour": [
           {
            "colorbar": {
             "outlinewidth": 0,
             "ticks": ""
            },
            "colorscale": [
             [
              0,
              "#0d0887"
             ],
             [
              0.1111111111111111,
              "#46039f"
             ],
             [
              0.2222222222222222,
              "#7201a8"
             ],
             [
              0.3333333333333333,
              "#9c179e"
             ],
             [
              0.4444444444444444,
              "#bd3786"
             ],
             [
              0.5555555555555556,
              "#d8576b"
             ],
             [
              0.6666666666666666,
              "#ed7953"
             ],
             [
              0.7777777777777778,
              "#fb9f3a"
             ],
             [
              0.8888888888888888,
              "#fdca26"
             ],
             [
              1,
              "#f0f921"
             ]
            ],
            "type": "histogram2dcontour"
           }
          ],
          "mesh3d": [
           {
            "colorbar": {
             "outlinewidth": 0,
             "ticks": ""
            },
            "type": "mesh3d"
           }
          ],
          "parcoords": [
           {
            "line": {
             "colorbar": {
              "outlinewidth": 0,
              "ticks": ""
             }
            },
            "type": "parcoords"
           }
          ],
          "pie": [
           {
            "automargin": true,
            "type": "pie"
           }
          ],
          "scatter": [
           {
            "fillpattern": {
             "fillmode": "overlay",
             "size": 10,
             "solidity": 0.2
            },
            "type": "scatter"
           }
          ],
          "scatter3d": [
           {
            "line": {
             "colorbar": {
              "outlinewidth": 0,
              "ticks": ""
             }
            },
            "marker": {
             "colorbar": {
              "outlinewidth": 0,
              "ticks": ""
             }
            },
            "type": "scatter3d"
           }
          ],
          "scattercarpet": [
           {
            "marker": {
             "colorbar": {
              "outlinewidth": 0,
              "ticks": ""
             }
            },
            "type": "scattercarpet"
           }
          ],
          "scattergeo": [
           {
            "marker": {
             "colorbar": {
              "outlinewidth": 0,
              "ticks": ""
             }
            },
            "type": "scattergeo"
           }
          ],
          "scattergl": [
           {
            "marker": {
             "colorbar": {
              "outlinewidth": 0,
              "ticks": ""
             }
            },
            "type": "scattergl"
           }
          ],
          "scattermapbox": [
           {
            "marker": {
             "colorbar": {
              "outlinewidth": 0,
              "ticks": ""
             }
            },
            "type": "scattermapbox"
           }
          ],
          "scatterpolar": [
           {
            "marker": {
             "colorbar": {
              "outlinewidth": 0,
              "ticks": ""
             }
            },
            "type": "scatterpolar"
           }
          ],
          "scatterpolargl": [
           {
            "marker": {
             "colorbar": {
              "outlinewidth": 0,
              "ticks": ""
             }
            },
            "type": "scatterpolargl"
           }
          ],
          "scatterternary": [
           {
            "marker": {
             "colorbar": {
              "outlinewidth": 0,
              "ticks": ""
             }
            },
            "type": "scatterternary"
           }
          ],
          "surface": [
           {
            "colorbar": {
             "outlinewidth": 0,
             "ticks": ""
            },
            "colorscale": [
             [
              0,
              "#0d0887"
             ],
             [
              0.1111111111111111,
              "#46039f"
             ],
             [
              0.2222222222222222,
              "#7201a8"
             ],
             [
              0.3333333333333333,
              "#9c179e"
             ],
             [
              0.4444444444444444,
              "#bd3786"
             ],
             [
              0.5555555555555556,
              "#d8576b"
             ],
             [
              0.6666666666666666,
              "#ed7953"
             ],
             [
              0.7777777777777778,
              "#fb9f3a"
             ],
             [
              0.8888888888888888,
              "#fdca26"
             ],
             [
              1,
              "#f0f921"
             ]
            ],
            "type": "surface"
           }
          ],
          "table": [
           {
            "cells": {
             "fill": {
              "color": "#EBF0F8"
             },
             "line": {
              "color": "white"
             }
            },
            "header": {
             "fill": {
              "color": "#C8D4E3"
             },
             "line": {
              "color": "white"
             }
            },
            "type": "table"
           }
          ]
         },
         "layout": {
          "annotationdefaults": {
           "arrowcolor": "#2a3f5f",
           "arrowhead": 0,
           "arrowwidth": 1
          },
          "autotypenumbers": "strict",
          "coloraxis": {
           "colorbar": {
            "outlinewidth": 0,
            "ticks": ""
           }
          },
          "colorscale": {
           "diverging": [
            [
             0,
             "#8e0152"
            ],
            [
             0.1,
             "#c51b7d"
            ],
            [
             0.2,
             "#de77ae"
            ],
            [
             0.3,
             "#f1b6da"
            ],
            [
             0.4,
             "#fde0ef"
            ],
            [
             0.5,
             "#f7f7f7"
            ],
            [
             0.6,
             "#e6f5d0"
            ],
            [
             0.7,
             "#b8e186"
            ],
            [
             0.8,
             "#7fbc41"
            ],
            [
             0.9,
             "#4d9221"
            ],
            [
             1,
             "#276419"
            ]
           ],
           "sequential": [
            [
             0,
             "#0d0887"
            ],
            [
             0.1111111111111111,
             "#46039f"
            ],
            [
             0.2222222222222222,
             "#7201a8"
            ],
            [
             0.3333333333333333,
             "#9c179e"
            ],
            [
             0.4444444444444444,
             "#bd3786"
            ],
            [
             0.5555555555555556,
             "#d8576b"
            ],
            [
             0.6666666666666666,
             "#ed7953"
            ],
            [
             0.7777777777777778,
             "#fb9f3a"
            ],
            [
             0.8888888888888888,
             "#fdca26"
            ],
            [
             1,
             "#f0f921"
            ]
           ],
           "sequentialminus": [
            [
             0,
             "#0d0887"
            ],
            [
             0.1111111111111111,
             "#46039f"
            ],
            [
             0.2222222222222222,
             "#7201a8"
            ],
            [
             0.3333333333333333,
             "#9c179e"
            ],
            [
             0.4444444444444444,
             "#bd3786"
            ],
            [
             0.5555555555555556,
             "#d8576b"
            ],
            [
             0.6666666666666666,
             "#ed7953"
            ],
            [
             0.7777777777777778,
             "#fb9f3a"
            ],
            [
             0.8888888888888888,
             "#fdca26"
            ],
            [
             1,
             "#f0f921"
            ]
           ]
          },
          "colorway": [
           "#636efa",
           "#EF553B",
           "#00cc96",
           "#ab63fa",
           "#FFA15A",
           "#19d3f3",
           "#FF6692",
           "#B6E880",
           "#FF97FF",
           "#FECB52"
          ],
          "font": {
           "color": "#2a3f5f"
          },
          "geo": {
           "bgcolor": "white",
           "lakecolor": "white",
           "landcolor": "#E5ECF6",
           "showlakes": true,
           "showland": true,
           "subunitcolor": "white"
          },
          "hoverlabel": {
           "align": "left"
          },
          "hovermode": "closest",
          "mapbox": {
           "style": "light"
          },
          "paper_bgcolor": "white",
          "plot_bgcolor": "#E5ECF6",
          "polar": {
           "angularaxis": {
            "gridcolor": "white",
            "linecolor": "white",
            "ticks": ""
           },
           "bgcolor": "#E5ECF6",
           "radialaxis": {
            "gridcolor": "white",
            "linecolor": "white",
            "ticks": ""
           }
          },
          "scene": {
           "xaxis": {
            "backgroundcolor": "#E5ECF6",
            "gridcolor": "white",
            "gridwidth": 2,
            "linecolor": "white",
            "showbackground": true,
            "ticks": "",
            "zerolinecolor": "white"
           },
           "yaxis": {
            "backgroundcolor": "#E5ECF6",
            "gridcolor": "white",
            "gridwidth": 2,
            "linecolor": "white",
            "showbackground": true,
            "ticks": "",
            "zerolinecolor": "white"
           },
           "zaxis": {
            "backgroundcolor": "#E5ECF6",
            "gridcolor": "white",
            "gridwidth": 2,
            "linecolor": "white",
            "showbackground": true,
            "ticks": "",
            "zerolinecolor": "white"
           }
          },
          "shapedefaults": {
           "line": {
            "color": "#2a3f5f"
           }
          },
          "ternary": {
           "aaxis": {
            "gridcolor": "white",
            "linecolor": "white",
            "ticks": ""
           },
           "baxis": {
            "gridcolor": "white",
            "linecolor": "white",
            "ticks": ""
           },
           "bgcolor": "#E5ECF6",
           "caxis": {
            "gridcolor": "white",
            "linecolor": "white",
            "ticks": ""
           }
          },
          "title": {
           "x": 0.05
          },
          "xaxis": {
           "automargin": true,
           "gridcolor": "white",
           "linecolor": "white",
           "ticks": "",
           "title": {
            "standoff": 15
           },
           "zerolinecolor": "white",
           "zerolinewidth": 2
          },
          "yaxis": {
           "automargin": true,
           "gridcolor": "white",
           "linecolor": "white",
           "ticks": "",
           "title": {
            "standoff": 15
           },
           "zerolinecolor": "white",
           "zerolinewidth": 2
          }
         }
        },
        "title": {
         "text": "Count of PLUTO only Relevant Prop type Buildings by Borough"
        },
        "xaxis": {
         "anchor": "y",
         "autorange": true,
         "domain": [
          0,
          1
         ],
         "range": [
          -0.5,
          3.5
         ],
         "title": {
          "text": "borough"
         },
         "type": "category"
        },
        "yaxis": {
         "anchor": "x",
         "autorange": true,
         "domain": [
          0,
          1
         ],
         "range": [
          0,
          997.8947368421053
         ],
         "title": {
          "text": "count"
         },
         "type": "linear"
        }
       }
      },
      "image/png": "[encoded data removed]",
      "text/html": [
       "<div>                            <div id=\"a896e80c-7623-44fd-8fa4-a676252304f4\" class=\"plotly-graph-div\" style=\"height:525px; width:100%;\"></div>            <script type=\"text/javascript\">                require([\"plotly\"], function(Plotly) {                    window.PLOTLYENV=window.PLOTLYENV || {};                                    if (document.getElementById(\"a896e80c-7623-44fd-8fa4-a676252304f4\")) {                    Plotly.newPlot(                        \"a896e80c-7623-44fd-8fa4-a676252304f4\",                        [{\"alignmentgroup\":\"True\",\"hovertemplate\":\"borough=%{x}<br>count=%{y}<extra></extra>\",\"legendgroup\":\"\",\"marker\":{\"color\":\"#636efa\",\"pattern\":{\"shape\":\"\"}},\"name\":\"\",\"offsetgroup\":\"\",\"orientation\":\"v\",\"showlegend\":false,\"textposition\":\"auto\",\"x\":[\"BK\",\"BX\",\"MN\",\"QN\"],\"xaxis\":\"x\",\"y\":[948,208,68,674],\"yaxis\":\"y\",\"type\":\"bar\"}],                        {\"template\":{\"data\":{\"histogram2dcontour\":[{\"type\":\"histogram2dcontour\",\"colorbar\":{\"outlinewidth\":0,\"ticks\":\"\"},\"colorscale\":[[0.0,\"#0d0887\"],[0.1111111111111111,\"#46039f\"],[0.2222222222222222,\"#7201a8\"],[0.3333333333333333,\"#9c179e\"],[0.4444444444444444,\"#bd3786\"],[0.5555555555555556,\"#d8576b\"],[0.6666666666666666,\"#ed7953\"],[0.7777777777777778,\"#fb9f3a\"],[0.8888888888888888,\"#fdca26\"],[1.0,\"#f0f921\"]]}],\"choropleth\":[{\"type\":\"choropleth\",\"colorbar\":{\"outlinewidth\":0,\"ticks\":\"\"}}],\"histogram2d\":[{\"type\":\"histogram2d\",\"colorbar\":{\"outlinewidth\":0,\"ticks\":\"\"},\"colorscale\":[[0.0,\"#0d0887\"],[0.1111111111111111,\"#46039f\"],[0.2222222222222222,\"#7201a8\"],[0.3333333333333333,\"#9c179e\"],[0.4444444444444444,\"#bd3786\"],[0.5555555555555556,\"#d8576b\"],[0.6666666666666666,\"#ed7953\"],[0.7777777777777778,\"#fb9f3a\"],[0.8888888888888888,\"#fdca26\"],[1.0,\"#f0f921\"]]}],\"heatmap\":[{\"type\":\"heatmap\",\"colorbar\":{\"outlinewidth\":0,\"ticks\":\"\"},\"colorscale\":[[0.0,\"#0d0887\"],[0.1111111111111111,\"#46039f\"],[0.2222222222222222,\"#7201a8\"],[0.3333333333333333,\"#9c179e\"],[0.4444444444444444,\"#bd3786\"],[0.5555555555555556,\"#d8576b\"],[0.6666666666666666,\"#ed7953\"],[0.7777777777777778,\"#fb9f3a\"],[0.8888888888888888,\"#fdca26\"],[1.0,\"#f0f921\"]]}],\"heatmapgl\":[{\"type\":\"heatmapgl\",\"colorbar\":{\"outlinewidth\":0,\"ticks\":\"\"},\"colorscale\":[[0.0,\"#0d0887\"],[0.1111111111111111,\"#46039f\"],[0.2222222222222222,\"#7201a8\"],[0.3333333333333333,\"#9c179e\"],[0.4444444444444444,\"#bd3786\"],[0.5555555555555556,\"#d8576b\"],[0.6666666666666666,\"#ed7953\"],[0.7777777777777778,\"#fb9f3a\"],[0.8888888888888888,\"#fdca26\"],[1.0,\"#f0f921\"]]}],\"contourcarpet\":[{\"type\":\"contourcarpet\",\"colorbar\":{\"outlinewidth\":0,\"ticks\":\"\"}}],\"contour\":[{\"type\":\"contour\",\"colorbar\":{\"outlinewidth\":0,\"ticks\":\"\"},\"colorscale\":[[0.0,\"#0d0887\"],[0.1111111111111111,\"#46039f\"],[0.2222222222222222,\"#7201a8\"],[0.3333333333333333,\"#9c179e\"],[0.4444444444444444,\"#bd3786\"],[0.5555555555555556,\"#d8576b\"],[0.6666666666666666,\"#ed7953\"],[0.7777777777777778,\"#fb9f3a\"],[0.8888888888888888,\"#fdca26\"],[1.0,\"#f0f921\"]]}],\"surface\":[{\"type\":\"surface\",\"colorbar\":{\"outlinewidth\":0,\"ticks\":\"\"},\"colorscale\":[[0.0,\"#0d0887\"],[0.1111111111111111,\"#46039f\"],[0.2222222222222222,\"#7201a8\"],[0.3333333333333333,\"#9c179e\"],[0.4444444444444444,\"#bd3786\"],[0.5555555555555556,\"#d8576b\"],[0.6666666666666666,\"#ed7953\"],[0.7777777777777778,\"#fb9f3a\"],[0.8888888888888888,\"#fdca26\"],[1.0,\"#f0f921\"]]}],\"mesh3d\":[{\"type\":\"mesh3d\",\"colorbar\":{\"outlinewidth\":0,\"ticks\":\"\"}}],\"scatter\":[{\"fillpattern\":{\"fillmode\":\"overlay\",\"size\":10,\"solidity\":0.2},\"type\":\"scatter\"}],\"parcoords\":[{\"type\":\"parcoords\",\"line\":{\"colorbar\":{\"outlinewidth\":0,\"ticks\":\"\"}}}],\"scatterpolargl\":[{\"type\":\"scatterpolargl\",\"marker\":{\"colorbar\":{\"outlinewidth\":0,\"ticks\":\"\"}}}],\"bar\":[{\"error_x\":{\"color\":\"#2a3f5f\"},\"error_y\":{\"color\":\"#2a3f5f\"},\"marker\":{\"line\":{\"color\":\"#E5ECF6\",\"width\":0.5},\"pattern\":{\"fillmode\":\"overlay\",\"size\":10,\"solidity\":0.2}},\"type\":\"bar\"}],\"scattergeo\":[{\"type\":\"scattergeo\",\"marker\":{\"colorbar\":{\"outlinewidth\":0,\"ticks\":\"\"}}}],\"scatterpolar\":[{\"type\":\"scatterpolar\",\"marker\":{\"colorbar\":{\"outlinewidth\":0,\"ticks\":\"\"}}}],\"histogram\":[{\"marker\":{\"pattern\":{\"fillmode\":\"overlay\",\"size\":10,\"solidity\":0.2}},\"type\":\"histogram\"}],\"scattergl\":[{\"type\":\"scattergl\",\"marker\":{\"colorbar\":{\"outlinewidth\":0,\"ticks\":\"\"}}}],\"scatter3d\":[{\"type\":\"scatter3d\",\"line\":{\"colorbar\":{\"outlinewidth\":0,\"ticks\":\"\"}},\"marker\":{\"colorbar\":{\"outlinewidth\":0,\"ticks\":\"\"}}}],\"scattermapbox\":[{\"type\":\"scattermapbox\",\"marker\":{\"colorbar\":{\"outlinewidth\":0,\"ticks\":\"\"}}}],\"scatterternary\":[{\"type\":\"scatterternary\",\"marker\":{\"colorbar\":{\"outlinewidth\":0,\"ticks\":\"\"}}}],\"scattercarpet\":[{\"type\":\"scattercarpet\",\"marker\":{\"colorbar\":{\"outlinewidth\":0,\"ticks\":\"\"}}}],\"carpet\":[{\"aaxis\":{\"endlinecolor\":\"#2a3f5f\",\"gridcolor\":\"white\",\"linecolor\":\"white\",\"minorgridcolor\":\"white\",\"startlinecolor\":\"#2a3f5f\"},\"baxis\":{\"endlinecolor\":\"#2a3f5f\",\"gridcolor\":\"white\",\"linecolor\":\"white\",\"minorgridcolor\":\"white\",\"startlinecolor\":\"#2a3f5f\"},\"type\":\"carpet\"}],\"table\":[{\"cells\":{\"fill\":{\"color\":\"#EBF0F8\"},\"line\":{\"color\":\"white\"}},\"header\":{\"fill\":{\"color\":\"#C8D4E3\"},\"line\":{\"color\":\"white\"}},\"type\":\"table\"}],\"barpolar\":[{\"marker\":{\"line\":{\"color\":\"#E5ECF6\",\"width\":0.5},\"pattern\":{\"fillmode\":\"overlay\",\"size\":10,\"solidity\":0.2}},\"type\":\"barpolar\"}],\"pie\":[{\"automargin\":true,\"type\":\"pie\"}]},\"layout\":{\"autotypenumbers\":\"strict\",\"colorway\":[\"#636efa\",\"#EF553B\",\"#00cc96\",\"#ab63fa\",\"#FFA15A\",\"#19d3f3\",\"#FF6692\",\"#B6E880\",\"#FF97FF\",\"#FECB52\"],\"font\":{\"color\":\"#2a3f5f\"},\"hovermode\":\"closest\",\"hoverlabel\":{\"align\":\"left\"},\"paper_bgcolor\":\"white\",\"plot_bgcolor\":\"#E5ECF6\",\"polar\":{\"bgcolor\":\"#E5ECF6\",\"angularaxis\":{\"gridcolor\":\"white\",\"linecolor\":\"white\",\"ticks\":\"\"},\"radialaxis\":{\"gridcolor\":\"white\",\"linecolor\":\"white\",\"ticks\":\"\"}},\"ternary\":{\"bgcolor\":\"#E5ECF6\",\"aaxis\":{\"gridcolor\":\"white\",\"linecolor\":\"white\",\"ticks\":\"\"},\"baxis\":{\"gridcolor\":\"white\",\"linecolor\":\"white\",\"ticks\":\"\"},\"caxis\":{\"gridcolor\":\"white\",\"linecolor\":\"white\",\"ticks\":\"\"}},\"coloraxis\":{\"colorbar\":{\"outlinewidth\":0,\"ticks\":\"\"}},\"colorscale\":{\"sequential\":[[0.0,\"#0d0887\"],[0.1111111111111111,\"#46039f\"],[0.2222222222222222,\"#7201a8\"],[0.3333333333333333,\"#9c179e\"],[0.4444444444444444,\"#bd3786\"],[0.5555555555555556,\"#d8576b\"],[0.6666666666666666,\"#ed7953\"],[0.7777777777777778,\"#fb9f3a\"],[0.8888888888888888,\"#fdca26\"],[1.0,\"#f0f921\"]],\"sequentialminus\":[[0.0,\"#0d0887\"],[0.1111111111111111,\"#46039f\"],[0.2222222222222222,\"#7201a8\"],[0.3333333333333333,\"#9c179e\"],[0.4444444444444444,\"#bd3786\"],[0.5555555555555556,\"#d8576b\"],[0.6666666666666666,\"#ed7953\"],[0.7777777777777778,\"#fb9f3a\"],[0.8888888888888888,\"#fdca26\"],[1.0,\"#f0f921\"]],\"diverging\":[[0,\"#8e0152\"],[0.1,\"#c51b7d\"],[0.2,\"#de77ae\"],[0.3,\"#f1b6da\"],[0.4,\"#fde0ef\"],[0.5,\"#f7f7f7\"],[0.6,\"#e6f5d0\"],[0.7,\"#b8e186\"],[0.8,\"#7fbc41\"],[0.9,\"#4d9221\"],[1,\"#276419\"]]},\"xaxis\":{\"gridcolor\":\"white\",\"linecolor\":\"white\",\"ticks\":\"\",\"title\":{\"standoff\":15},\"zerolinecolor\":\"white\",\"automargin\":true,\"zerolinewidth\":2},\"yaxis\":{\"gridcolor\":\"white\",\"linecolor\":\"white\",\"ticks\":\"\",\"title\":{\"standoff\":15},\"zerolinecolor\":\"white\",\"automargin\":true,\"zerolinewidth\":2},\"scene\":{\"xaxis\":{\"backgroundcolor\":\"#E5ECF6\",\"gridcolor\":\"white\",\"linecolor\":\"white\",\"showbackground\":true,\"ticks\":\"\",\"zerolinecolor\":\"white\",\"gridwidth\":2},\"yaxis\":{\"backgroundcolor\":\"#E5ECF6\",\"gridcolor\":\"white\",\"linecolor\":\"white\",\"showbackground\":true,\"ticks\":\"\",\"zerolinecolor\":\"white\",\"gridwidth\":2},\"zaxis\":{\"backgroundcolor\":\"#E5ECF6\",\"gridcolor\":\"white\",\"linecolor\":\"white\",\"showbackground\":true,\"ticks\":\"\",\"zerolinecolor\":\"white\",\"gridwidth\":2}},\"shapedefaults\":{\"line\":{\"color\":\"#2a3f5f\"}},\"annotationdefaults\":{\"arrowcolor\":\"#2a3f5f\",\"arrowhead\":0,\"arrowwidth\":1},\"geo\":{\"bgcolor\":\"white\",\"landcolor\":\"#E5ECF6\",\"subunitcolor\":\"white\",\"showland\":true,\"showlakes\":true,\"lakecolor\":\"white\"},\"title\":{\"x\":0.05},\"mapbox\":{\"style\":\"light\"}}},\"xaxis\":{\"anchor\":\"y\",\"domain\":[0.0,1.0],\"title\":{\"text\":\"borough\"}},\"yaxis\":{\"anchor\":\"x\",\"domain\":[0.0,1.0],\"title\":{\"text\":\"count\"}},\"legend\":{\"tracegroupgap\":0},\"title\":{\"text\":\"Count of PLUTO only Relevant Prop type Buildings by Borough\"},\"barmode\":\"relative\"},                        {\"responsive\": true}                    ).then(function(){\n",
       "                            \n",
       "var gd = document.getElementById('a896e80c-7623-44fd-8fa4-a676252304f4');\n",
       "var x = new MutationObserver(function (mutations, observer) {{\n",
       "        var display = window.getComputedStyle(gd).display;\n",
       "        if (!display || display === 'none') {{\n",
       "            console.log([gd, 'removed!']);\n",
       "            Plotly.purge(gd);\n",
       "            observer.disconnect();\n",
       "        }}\n",
       "}});\n",
       "\n",
       "// Listen for the removal of the full notebook cells\n",
       "var notebookContainer = gd.closest('#notebook-container');\n",
       "if (notebookContainer) {{\n",
       "    x.observe(notebookContainer, {childList: true});\n",
       "}}\n",
       "\n",
       "// Listen for the clearing of the current output cell\n",
       "var outputEl = gd.closest('.output');\n",
       "if (outputEl) {{\n",
       "    x.observe(outputEl, {childList: true});\n",
       "}}\n",
       "\n",
       "                        })                };                });            </script>        </div>"
      ]
     },
     "metadata": {},
     "output_type": "display_data"
    }
   ],
   "source": [
    "# Create the bar chart using Plotly\n",
    "fig = px.bar(pluto_only_res_nodups[pluto_only_res_nodups['bldgclass'].str.startswith(tuple(['A','B','C','R','D','S']))].groupby('borough').size().reset_index(name='count')\n",
    "             , x='borough', y='count', labels={'value': 'Building Count'}, title='Count of PLUTO only Relevant Prop type Buildings by Borough')\n",
    "\n",
    "# Show the chart\n",
    "fig.show()"
   ]
  },
  {
   "cell_type": "code",
   "execution_count": 507,
   "id": "5a5e24dd-fdd5-4af8-b0c9-b7b3ab4c1672",
   "metadata": {},
   "outputs": [
    {
     "name": "stderr",
     "output_type": "stream",
     "text": [
      "/var/folders/9s/qkj1lg4d22j6vzbkv4zxvqmm0000gp/T/ipykernel_94836/3205081795.py:2: SettingWithCopyWarning:\n",
      "\n",
      "\n",
      "A value is trying to be set on a copy of a slice from a DataFrame.\n",
      "Try using .loc[row_indexer,col_indexer] = value instead\n",
      "\n",
      "See the caveats in the documentation: https://pandas.pydata.org/pandas-docs/stable/user_guide/indexing.html#returning-a-view-versus-a-copy\n",
      "\n"
     ]
    }
   ],
   "source": [
    "resbuildings = pluto_only_res_nodups[pluto_only_res_nodups['bldgclass'].str.startswith(tuple(['A','B','C','R','D','S']))]\n",
    "resbuildings['bldgclass'] = resbuildings['bldgclass'].str[0:1]"
   ]
  },
  {
   "cell_type": "code",
   "execution_count": 510,
   "id": "aa7805fd-6f0b-429c-b55d-b63e5f2e87c4",
   "metadata": {},
   "outputs": [
    {
     "data": {
      "application/vnd.plotly.v1+json": {
       "config": {
        "plotlyServerURL": "https://plot.ly"
       },
       "data": [
        {
         "alignmentgroup": "True",
         "hovertemplate": "bldgclass=A<br>borough=%{x}<br>count=%{y}<extra></extra>",
         "legendgroup": "A",
         "marker": {
          "color": "#636efa",
          "pattern": {
           "shape": ""
          }
         },
         "name": "A",
         "offsetgroup": "A",
         "orientation": "v",
         "showlegend": true,
         "textposition": "auto",
         "type": "bar",
         "x": [
          "BK",
          "BX",
          "MN",
          "QN"
         ],
         "xaxis": "x",
         "y": [
          379,
          51,
          2,
          202
         ],
         "yaxis": "y"
        },
        {
         "alignmentgroup": "True",
         "hovertemplate": "bldgclass=B<br>borough=%{x}<br>count=%{y}<extra></extra>",
         "legendgroup": "B",
         "marker": {
          "color": "#EF553B",
          "pattern": {
           "shape": ""
          }
         },
         "name": "B",
         "offsetgroup": "B",
         "orientation": "v",
         "showlegend": true,
         "textposition": "auto",
         "type": "bar",
         "x": [
          "BK",
          "BX",
          "QN"
         ],
         "xaxis": "x",
         "y": [
          176,
          32,
          245
         ],
         "yaxis": "y"
        },
        {
         "alignmentgroup": "True",
         "hovertemplate": "bldgclass=C<br>borough=%{x}<br>count=%{y}<extra></extra>",
         "legendgroup": "C",
         "marker": {
          "color": "#00cc96",
          "pattern": {
           "shape": ""
          }
         },
         "name": "C",
         "offsetgroup": "C",
         "orientation": "v",
         "showlegend": true,
         "textposition": "auto",
         "type": "bar",
         "x": [
          "BK",
          "BX",
          "MN",
          "QN"
         ],
         "xaxis": "x",
         "y": [
          216,
          50,
          4,
          120
         ],
         "yaxis": "y"
        },
        {
         "alignmentgroup": "True",
         "hovertemplate": "bldgclass=D<br>borough=%{x}<br>count=%{y}<extra></extra>",
         "legendgroup": "D",
         "marker": {
          "color": "#ab63fa",
          "pattern": {
           "shape": ""
          }
         },
         "name": "D",
         "offsetgroup": "D",
         "orientation": "v",
         "showlegend": true,
         "textposition": "auto",
         "type": "bar",
         "x": [
          "BK",
          "BX",
          "MN",
          "QN"
         ],
         "xaxis": "x",
         "y": [
          26,
          13,
          4,
          21
         ],
         "yaxis": "y"
        },
        {
         "alignmentgroup": "True",
         "hovertemplate": "bldgclass=R<br>borough=%{x}<br>count=%{y}<extra></extra>",
         "legendgroup": "R",
         "marker": {
          "color": "#FFA15A",
          "pattern": {
           "shape": ""
          }
         },
         "name": "R",
         "offsetgroup": "R",
         "orientation": "v",
         "showlegend": true,
         "textposition": "auto",
         "type": "bar",
         "x": [
          "BK",
          "BX",
          "MN",
          "QN"
         ],
         "xaxis": "x",
         "y": [
          124,
          61,
          57,
          55
         ],
         "yaxis": "y"
        },
        {
         "alignmentgroup": "True",
         "hovertemplate": "bldgclass=S<br>borough=%{x}<br>count=%{y}<extra></extra>",
         "legendgroup": "S",
         "marker": {
          "color": "#19d3f3",
          "pattern": {
           "shape": ""
          }
         },
         "name": "S",
         "offsetgroup": "S",
         "orientation": "v",
         "showlegend": true,
         "textposition": "auto",
         "type": "bar",
         "x": [
          "BK",
          "BX",
          "MN",
          "QN"
         ],
         "xaxis": "x",
         "y": [
          27,
          1,
          1,
          31
         ],
         "yaxis": "y"
        }
       ],
       "layout": {
        "autosize": true,
        "barmode": "relative",
        "legend": {
         "title": {
          "text": "bldgclass"
         },
         "tracegroupgap": 0
        },
        "template": {
         "data": {
          "bar": [
           {
            "error_x": {
             "color": "#2a3f5f"
            },
            "error_y": {
             "color": "#2a3f5f"
            },
            "marker": {
             "line": {
              "color": "#E5ECF6",
              "width": 0.5
             },
             "pattern": {
              "fillmode": "overlay",
              "size": 10,
              "solidity": 0.2
             }
            },
            "type": "bar"
           }
          ],
          "barpolar": [
           {
            "marker": {
             "line": {
              "color": "#E5ECF6",
              "width": 0.5
             },
             "pattern": {
              "fillmode": "overlay",
              "size": 10,
              "solidity": 0.2
             }
            },
            "type": "barpolar"
           }
          ],
          "carpet": [
           {
            "aaxis": {
             "endlinecolor": "#2a3f5f",
             "gridcolor": "white",
             "linecolor": "white",
             "minorgridcolor": "white",
             "startlinecolor": "#2a3f5f"
            },
            "baxis": {
             "endlinecolor": "#2a3f5f",
             "gridcolor": "white",
             "linecolor": "white",
             "minorgridcolor": "white",
             "startlinecolor": "#2a3f5f"
            },
            "type": "carpet"
           }
          ],
          "choropleth": [
           {
            "colorbar": {
             "outlinewidth": 0,
             "ticks": ""
            },
            "type": "choropleth"
           }
          ],
          "contour": [
           {
            "colorbar": {
             "outlinewidth": 0,
             "ticks": ""
            },
            "colorscale": [
             [
              0,
              "#0d0887"
             ],
             [
              0.1111111111111111,
              "#46039f"
             ],
             [
              0.2222222222222222,
              "#7201a8"
             ],
             [
              0.3333333333333333,
              "#9c179e"
             ],
             [
              0.4444444444444444,
              "#bd3786"
             ],
             [
              0.5555555555555556,
              "#d8576b"
             ],
             [
              0.6666666666666666,
              "#ed7953"
             ],
             [
              0.7777777777777778,
              "#fb9f3a"
             ],
             [
              0.8888888888888888,
              "#fdca26"
             ],
             [
              1,
              "#f0f921"
             ]
            ],
            "type": "contour"
           }
          ],
          "contourcarpet": [
           {
            "colorbar": {
             "outlinewidth": 0,
             "ticks": ""
            },
            "type": "contourcarpet"
           }
          ],
          "heatmap": [
           {
            "colorbar": {
             "outlinewidth": 0,
             "ticks": ""
            },
            "colorscale": [
             [
              0,
              "#0d0887"
             ],
             [
              0.1111111111111111,
              "#46039f"
             ],
             [
              0.2222222222222222,
              "#7201a8"
             ],
             [
              0.3333333333333333,
              "#9c179e"
             ],
             [
              0.4444444444444444,
              "#bd3786"
             ],
             [
              0.5555555555555556,
              "#d8576b"
             ],
             [
              0.6666666666666666,
              "#ed7953"
             ],
             [
              0.7777777777777778,
              "#fb9f3a"
             ],
             [
              0.8888888888888888,
              "#fdca26"
             ],
             [
              1,
              "#f0f921"
             ]
            ],
            "type": "heatmap"
           }
          ],
          "heatmapgl": [
           {
            "colorbar": {
             "outlinewidth": 0,
             "ticks": ""
            },
            "colorscale": [
             [
              0,
              "#0d0887"
             ],
             [
              0.1111111111111111,
              "#46039f"
             ],
             [
              0.2222222222222222,
              "#7201a8"
             ],
             [
              0.3333333333333333,
              "#9c179e"
             ],
             [
              0.4444444444444444,
              "#bd3786"
             ],
             [
              0.5555555555555556,
              "#d8576b"
             ],
             [
              0.6666666666666666,
              "#ed7953"
             ],
             [
              0.7777777777777778,
              "#fb9f3a"
             ],
             [
              0.8888888888888888,
              "#fdca26"
             ],
             [
              1,
              "#f0f921"
             ]
            ],
            "type": "heatmapgl"
           }
          ],
          "histogram": [
           {
            "marker": {
             "pattern": {
              "fillmode": "overlay",
              "size": 10,
              "solidity": 0.2
             }
            },
            "type": "histogram"
           }
          ],
          "histogram2d": [
           {
            "colorbar": {
             "outlinewidth": 0,
             "ticks": ""
            },
            "colorscale": [
             [
              0,
              "#0d0887"
             ],
             [
              0.1111111111111111,
              "#46039f"
             ],
             [
              0.2222222222222222,
              "#7201a8"
             ],
             [
              0.3333333333333333,
              "#9c179e"
             ],
             [
              0.4444444444444444,
              "#bd3786"
             ],
             [
              0.5555555555555556,
              "#d8576b"
             ],
             [
              0.6666666666666666,
              "#ed7953"
             ],
             [
              0.7777777777777778,
              "#fb9f3a"
             ],
             [
              0.8888888888888888,
              "#fdca26"
             ],
             [
              1,
              "#f0f921"
             ]
            ],
            "type": "histogram2d"
           }
          ],
          "histogram2dcontour": [
           {
            "colorbar": {
             "outlinewidth": 0,
             "ticks": ""
            },
            "colorscale": [
             [
              0,
              "#0d0887"
             ],
             [
              0.1111111111111111,
              "#46039f"
             ],
             [
              0.2222222222222222,
              "#7201a8"
             ],
             [
              0.3333333333333333,
              "#9c179e"
             ],
             [
              0.4444444444444444,
              "#bd3786"
             ],
             [
              0.5555555555555556,
              "#d8576b"
             ],
             [
              0.6666666666666666,
              "#ed7953"
             ],
             [
              0.7777777777777778,
              "#fb9f3a"
             ],
             [
              0.8888888888888888,
              "#fdca26"
             ],
             [
              1,
              "#f0f921"
             ]
            ],
            "type": "histogram2dcontour"
           }
          ],
          "mesh3d": [
           {
            "colorbar": {
             "outlinewidth": 0,
             "ticks": ""
            },
            "type": "mesh3d"
           }
          ],
          "parcoords": [
           {
            "line": {
             "colorbar": {
              "outlinewidth": 0,
              "ticks": ""
             }
            },
            "type": "parcoords"
           }
          ],
          "pie": [
           {
            "automargin": true,
            "type": "pie"
           }
          ],
          "scatter": [
           {
            "fillpattern": {
             "fillmode": "overlay",
             "size": 10,
             "solidity": 0.2
            },
            "type": "scatter"
           }
          ],
          "scatter3d": [
           {
            "line": {
             "colorbar": {
              "outlinewidth": 0,
              "ticks": ""
             }
            },
            "marker": {
             "colorbar": {
              "outlinewidth": 0,
              "ticks": ""
             }
            },
            "type": "scatter3d"
           }
          ],
          "scattercarpet": [
           {
            "marker": {
             "colorbar": {
              "outlinewidth": 0,
              "ticks": ""
             }
            },
            "type": "scattercarpet"
           }
          ],
          "scattergeo": [
           {
            "marker": {
             "colorbar": {
              "outlinewidth": 0,
              "ticks": ""
             }
            },
            "type": "scattergeo"
           }
          ],
          "scattergl": [
           {
            "marker": {
             "colorbar": {
              "outlinewidth": 0,
              "ticks": ""
             }
            },
            "type": "scattergl"
           }
          ],
          "scattermapbox": [
           {
            "marker": {
             "colorbar": {
              "outlinewidth": 0,
              "ticks": ""
             }
            },
            "type": "scattermapbox"
           }
          ],
          "scatterpolar": [
           {
            "marker": {
             "colorbar": {
              "outlinewidth": 0,
              "ticks": ""
             }
            },
            "type": "scatterpolar"
           }
          ],
          "scatterpolargl": [
           {
            "marker": {
             "colorbar": {
              "outlinewidth": 0,
              "ticks": ""
             }
            },
            "type": "scatterpolargl"
           }
          ],
          "scatterternary": [
           {
            "marker": {
             "colorbar": {
              "outlinewidth": 0,
              "ticks": ""
             }
            },
            "type": "scatterternary"
           }
          ],
          "surface": [
           {
            "colorbar": {
             "outlinewidth": 0,
             "ticks": ""
            },
            "colorscale": [
             [
              0,
              "#0d0887"
             ],
             [
              0.1111111111111111,
              "#46039f"
             ],
             [
              0.2222222222222222,
              "#7201a8"
             ],
             [
              0.3333333333333333,
              "#9c179e"
             ],
             [
              0.4444444444444444,
              "#bd3786"
             ],
             [
              0.5555555555555556,
              "#d8576b"
             ],
             [
              0.6666666666666666,
              "#ed7953"
             ],
             [
              0.7777777777777778,
              "#fb9f3a"
             ],
             [
              0.8888888888888888,
              "#fdca26"
             ],
             [
              1,
              "#f0f921"
             ]
            ],
            "type": "surface"
           }
          ],
          "table": [
           {
            "cells": {
             "fill": {
              "color": "#EBF0F8"
             },
             "line": {
              "color": "white"
             }
            },
            "header": {
             "fill": {
              "color": "#C8D4E3"
             },
             "line": {
              "color": "white"
             }
            },
            "type": "table"
           }
          ]
         },
         "layout": {
          "annotationdefaults": {
           "arrowcolor": "#2a3f5f",
           "arrowhead": 0,
           "arrowwidth": 1
          },
          "autotypenumbers": "strict",
          "coloraxis": {
           "colorbar": {
            "outlinewidth": 0,
            "ticks": ""
           }
          },
          "colorscale": {
           "diverging": [
            [
             0,
             "#8e0152"
            ],
            [
             0.1,
             "#c51b7d"
            ],
            [
             0.2,
             "#de77ae"
            ],
            [
             0.3,
             "#f1b6da"
            ],
            [
             0.4,
             "#fde0ef"
            ],
            [
             0.5,
             "#f7f7f7"
            ],
            [
             0.6,
             "#e6f5d0"
            ],
            [
             0.7,
             "#b8e186"
            ],
            [
             0.8,
             "#7fbc41"
            ],
            [
             0.9,
             "#4d9221"
            ],
            [
             1,
             "#276419"
            ]
           ],
           "sequential": [
            [
             0,
             "#0d0887"
            ],
            [
             0.1111111111111111,
             "#46039f"
            ],
            [
             0.2222222222222222,
             "#7201a8"
            ],
            [
             0.3333333333333333,
             "#9c179e"
            ],
            [
             0.4444444444444444,
             "#bd3786"
            ],
            [
             0.5555555555555556,
             "#d8576b"
            ],
            [
             0.6666666666666666,
             "#ed7953"
            ],
            [
             0.7777777777777778,
             "#fb9f3a"
            ],
            [
             0.8888888888888888,
             "#fdca26"
            ],
            [
             1,
             "#f0f921"
            ]
           ],
           "sequentialminus": [
            [
             0,
             "#0d0887"
            ],
            [
             0.1111111111111111,
             "#46039f"
            ],
            [
             0.2222222222222222,
             "#7201a8"
            ],
            [
             0.3333333333333333,
             "#9c179e"
            ],
            [
             0.4444444444444444,
             "#bd3786"
            ],
            [
             0.5555555555555556,
             "#d8576b"
            ],
            [
             0.6666666666666666,
             "#ed7953"
            ],
            [
             0.7777777777777778,
             "#fb9f3a"
            ],
            [
             0.8888888888888888,
             "#fdca26"
            ],
            [
             1,
             "#f0f921"
            ]
           ]
          },
          "colorway": [
           "#636efa",
           "#EF553B",
           "#00cc96",
           "#ab63fa",
           "#FFA15A",
           "#19d3f3",
           "#FF6692",
           "#B6E880",
           "#FF97FF",
           "#FECB52"
          ],
          "font": {
           "color": "#2a3f5f"
          },
          "geo": {
           "bgcolor": "white",
           "lakecolor": "white",
           "landcolor": "#E5ECF6",
           "showlakes": true,
           "showland": true,
           "subunitcolor": "white"
          },
          "hoverlabel": {
           "align": "left"
          },
          "hovermode": "closest",
          "mapbox": {
           "style": "light"
          },
          "paper_bgcolor": "white",
          "plot_bgcolor": "#E5ECF6",
          "polar": {
           "angularaxis": {
            "gridcolor": "white",
            "linecolor": "white",
            "ticks": ""
           },
           "bgcolor": "#E5ECF6",
           "radialaxis": {
            "gridcolor": "white",
            "linecolor": "white",
            "ticks": ""
           }
          },
          "scene": {
           "xaxis": {
            "backgroundcolor": "#E5ECF6",
            "gridcolor": "white",
            "gridwidth": 2,
            "linecolor": "white",
            "showbackground": true,
            "ticks": "",
            "zerolinecolor": "white"
           },
           "yaxis": {
            "backgroundcolor": "#E5ECF6",
            "gridcolor": "white",
            "gridwidth": 2,
            "linecolor": "white",
            "showbackground": true,
            "ticks": "",
            "zerolinecolor": "white"
           },
           "zaxis": {
            "backgroundcolor": "#E5ECF6",
            "gridcolor": "white",
            "gridwidth": 2,
            "linecolor": "white",
            "showbackground": true,
            "ticks": "",
            "zerolinecolor": "white"
           }
          },
          "shapedefaults": {
           "line": {
            "color": "#2a3f5f"
           }
          },
          "ternary": {
           "aaxis": {
            "gridcolor": "white",
            "linecolor": "white",
            "ticks": ""
           },
           "baxis": {
            "gridcolor": "white",
            "linecolor": "white",
            "ticks": ""
           },
           "bgcolor": "#E5ECF6",
           "caxis": {
            "gridcolor": "white",
            "linecolor": "white",
            "ticks": ""
           }
          },
          "title": {
           "x": 0.05
          },
          "xaxis": {
           "automargin": true,
           "gridcolor": "white",
           "linecolor": "white",
           "ticks": "",
           "title": {
            "standoff": 15
           },
           "zerolinecolor": "white",
           "zerolinewidth": 2
          },
          "yaxis": {
           "automargin": true,
           "gridcolor": "white",
           "linecolor": "white",
           "ticks": "",
           "title": {
            "standoff": 15
           },
           "zerolinecolor": "white",
           "zerolinewidth": 2
          }
         }
        },
        "title": {
         "text": "Building Types per Borough"
        },
        "xaxis": {
         "anchor": "y",
         "autorange": true,
         "domain": [
          0,
          1
         ],
         "range": [
          -0.5,
          3.5
         ],
         "title": {
          "text": "borough"
         },
         "type": "category"
        },
        "yaxis": {
         "anchor": "x",
         "autorange": true,
         "domain": [
          0,
          1
         ],
         "range": [
          0,
          997.8947368421053
         ],
         "title": {
          "text": "count"
         },
         "type": "linear"
        }
       }
      },
      "image/png": "[encoded data removed]",
      "text/html": [
       "<div>                            <div id=\"5ca4843e-37e8-4e84-85c7-43e011fa89fc\" class=\"plotly-graph-div\" style=\"height:525px; width:100%;\"></div>            <script type=\"text/javascript\">                require([\"plotly\"], function(Plotly) {                    window.PLOTLYENV=window.PLOTLYENV || {};                                    if (document.getElementById(\"5ca4843e-37e8-4e84-85c7-43e011fa89fc\")) {                    Plotly.newPlot(                        \"5ca4843e-37e8-4e84-85c7-43e011fa89fc\",                        [{\"alignmentgroup\":\"True\",\"hovertemplate\":\"bldgclass=A<br>borough=%{x}<br>count=%{y}<extra></extra>\",\"legendgroup\":\"A\",\"marker\":{\"color\":\"#636efa\",\"pattern\":{\"shape\":\"\"}},\"name\":\"A\",\"offsetgroup\":\"A\",\"orientation\":\"v\",\"showlegend\":true,\"textposition\":\"auto\",\"x\":[\"BK\",\"BX\",\"MN\",\"QN\"],\"xaxis\":\"x\",\"y\":[379,51,2,202],\"yaxis\":\"y\",\"type\":\"bar\"},{\"alignmentgroup\":\"True\",\"hovertemplate\":\"bldgclass=B<br>borough=%{x}<br>count=%{y}<extra></extra>\",\"legendgroup\":\"B\",\"marker\":{\"color\":\"#EF553B\",\"pattern\":{\"shape\":\"\"}},\"name\":\"B\",\"offsetgroup\":\"B\",\"orientation\":\"v\",\"showlegend\":true,\"textposition\":\"auto\",\"x\":[\"BK\",\"BX\",\"QN\"],\"xaxis\":\"x\",\"y\":[176,32,245],\"yaxis\":\"y\",\"type\":\"bar\"},{\"alignmentgroup\":\"True\",\"hovertemplate\":\"bldgclass=C<br>borough=%{x}<br>count=%{y}<extra></extra>\",\"legendgroup\":\"C\",\"marker\":{\"color\":\"#00cc96\",\"pattern\":{\"shape\":\"\"}},\"name\":\"C\",\"offsetgroup\":\"C\",\"orientation\":\"v\",\"showlegend\":true,\"textposition\":\"auto\",\"x\":[\"BK\",\"BX\",\"MN\",\"QN\"],\"xaxis\":\"x\",\"y\":[216,50,4,120],\"yaxis\":\"y\",\"type\":\"bar\"},{\"alignmentgroup\":\"True\",\"hovertemplate\":\"bldgclass=D<br>borough=%{x}<br>count=%{y}<extra></extra>\",\"legendgroup\":\"D\",\"marker\":{\"color\":\"#ab63fa\",\"pattern\":{\"shape\":\"\"}},\"name\":\"D\",\"offsetgroup\":\"D\",\"orientation\":\"v\",\"showlegend\":true,\"textposition\":\"auto\",\"x\":[\"BK\",\"BX\",\"MN\",\"QN\"],\"xaxis\":\"x\",\"y\":[26,13,4,21],\"yaxis\":\"y\",\"type\":\"bar\"},{\"alignmentgroup\":\"True\",\"hovertemplate\":\"bldgclass=R<br>borough=%{x}<br>count=%{y}<extra></extra>\",\"legendgroup\":\"R\",\"marker\":{\"color\":\"#FFA15A\",\"pattern\":{\"shape\":\"\"}},\"name\":\"R\",\"offsetgroup\":\"R\",\"orientation\":\"v\",\"showlegend\":true,\"textposition\":\"auto\",\"x\":[\"BK\",\"BX\",\"MN\",\"QN\"],\"xaxis\":\"x\",\"y\":[124,61,57,55],\"yaxis\":\"y\",\"type\":\"bar\"},{\"alignmentgroup\":\"True\",\"hovertemplate\":\"bldgclass=S<br>borough=%{x}<br>count=%{y}<extra></extra>\",\"legendgroup\":\"S\",\"marker\":{\"color\":\"#19d3f3\",\"pattern\":{\"shape\":\"\"}},\"name\":\"S\",\"offsetgroup\":\"S\",\"orientation\":\"v\",\"showlegend\":true,\"textposition\":\"auto\",\"x\":[\"BK\",\"BX\",\"MN\",\"QN\"],\"xaxis\":\"x\",\"y\":[27,1,1,31],\"yaxis\":\"y\",\"type\":\"bar\"}],                        {\"template\":{\"data\":{\"histogram2dcontour\":[{\"type\":\"histogram2dcontour\",\"colorbar\":{\"outlinewidth\":0,\"ticks\":\"\"},\"colorscale\":[[0.0,\"#0d0887\"],[0.1111111111111111,\"#46039f\"],[0.2222222222222222,\"#7201a8\"],[0.3333333333333333,\"#9c179e\"],[0.4444444444444444,\"#bd3786\"],[0.5555555555555556,\"#d8576b\"],[0.6666666666666666,\"#ed7953\"],[0.7777777777777778,\"#fb9f3a\"],[0.8888888888888888,\"#fdca26\"],[1.0,\"#f0f921\"]]}],\"choropleth\":[{\"type\":\"choropleth\",\"colorbar\":{\"outlinewidth\":0,\"ticks\":\"\"}}],\"histogram2d\":[{\"type\":\"histogram2d\",\"colorbar\":{\"outlinewidth\":0,\"ticks\":\"\"},\"colorscale\":[[0.0,\"#0d0887\"],[0.1111111111111111,\"#46039f\"],[0.2222222222222222,\"#7201a8\"],[0.3333333333333333,\"#9c179e\"],[0.4444444444444444,\"#bd3786\"],[0.5555555555555556,\"#d8576b\"],[0.6666666666666666,\"#ed7953\"],[0.7777777777777778,\"#fb9f3a\"],[0.8888888888888888,\"#fdca26\"],[1.0,\"#f0f921\"]]}],\"heatmap\":[{\"type\":\"heatmap\",\"colorbar\":{\"outlinewidth\":0,\"ticks\":\"\"},\"colorscale\":[[0.0,\"#0d0887\"],[0.1111111111111111,\"#46039f\"],[0.2222222222222222,\"#7201a8\"],[0.3333333333333333,\"#9c179e\"],[0.4444444444444444,\"#bd3786\"],[0.5555555555555556,\"#d8576b\"],[0.6666666666666666,\"#ed7953\"],[0.7777777777777778,\"#fb9f3a\"],[0.8888888888888888,\"#fdca26\"],[1.0,\"#f0f921\"]]}],\"heatmapgl\":[{\"type\":\"heatmapgl\",\"colorbar\":{\"outlinewidth\":0,\"ticks\":\"\"},\"colorscale\":[[0.0,\"#0d0887\"],[0.1111111111111111,\"#46039f\"],[0.2222222222222222,\"#7201a8\"],[0.3333333333333333,\"#9c179e\"],[0.4444444444444444,\"#bd3786\"],[0.5555555555555556,\"#d8576b\"],[0.6666666666666666,\"#ed7953\"],[0.7777777777777778,\"#fb9f3a\"],[0.8888888888888888,\"#fdca26\"],[1.0,\"#f0f921\"]]}],\"contourcarpet\":[{\"type\":\"contourcarpet\",\"colorbar\":{\"outlinewidth\":0,\"ticks\":\"\"}}],\"contour\":[{\"type\":\"contour\",\"colorbar\":{\"outlinewidth\":0,\"ticks\":\"\"},\"colorscale\":[[0.0,\"#0d0887\"],[0.1111111111111111,\"#46039f\"],[0.2222222222222222,\"#7201a8\"],[0.3333333333333333,\"#9c179e\"],[0.4444444444444444,\"#bd3786\"],[0.5555555555555556,\"#d8576b\"],[0.6666666666666666,\"#ed7953\"],[0.7777777777777778,\"#fb9f3a\"],[0.8888888888888888,\"#fdca26\"],[1.0,\"#f0f921\"]]}],\"surface\":[{\"type\":\"surface\",\"colorbar\":{\"outlinewidth\":0,\"ticks\":\"\"},\"colorscale\":[[0.0,\"#0d0887\"],[0.1111111111111111,\"#46039f\"],[0.2222222222222222,\"#7201a8\"],[0.3333333333333333,\"#9c179e\"],[0.4444444444444444,\"#bd3786\"],[0.5555555555555556,\"#d8576b\"],[0.6666666666666666,\"#ed7953\"],[0.7777777777777778,\"#fb9f3a\"],[0.8888888888888888,\"#fdca26\"],[1.0,\"#f0f921\"]]}],\"mesh3d\":[{\"type\":\"mesh3d\",\"colorbar\":{\"outlinewidth\":0,\"ticks\":\"\"}}],\"scatter\":[{\"fillpattern\":{\"fillmode\":\"overlay\",\"size\":10,\"solidity\":0.2},\"type\":\"scatter\"}],\"parcoords\":[{\"type\":\"parcoords\",\"line\":{\"colorbar\":{\"outlinewidth\":0,\"ticks\":\"\"}}}],\"scatterpolargl\":[{\"type\":\"scatterpolargl\",\"marker\":{\"colorbar\":{\"outlinewidth\":0,\"ticks\":\"\"}}}],\"bar\":[{\"error_x\":{\"color\":\"#2a3f5f\"},\"error_y\":{\"color\":\"#2a3f5f\"},\"marker\":{\"line\":{\"color\":\"#E5ECF6\",\"width\":0.5},\"pattern\":{\"fillmode\":\"overlay\",\"size\":10,\"solidity\":0.2}},\"type\":\"bar\"}],\"scattergeo\":[{\"type\":\"scattergeo\",\"marker\":{\"colorbar\":{\"outlinewidth\":0,\"ticks\":\"\"}}}],\"scatterpolar\":[{\"type\":\"scatterpolar\",\"marker\":{\"colorbar\":{\"outlinewidth\":0,\"ticks\":\"\"}}}],\"histogram\":[{\"marker\":{\"pattern\":{\"fillmode\":\"overlay\",\"size\":10,\"solidity\":0.2}},\"type\":\"histogram\"}],\"scattergl\":[{\"type\":\"scattergl\",\"marker\":{\"colorbar\":{\"outlinewidth\":0,\"ticks\":\"\"}}}],\"scatter3d\":[{\"type\":\"scatter3d\",\"line\":{\"colorbar\":{\"outlinewidth\":0,\"ticks\":\"\"}},\"marker\":{\"colorbar\":{\"outlinewidth\":0,\"ticks\":\"\"}}}],\"scattermapbox\":[{\"type\":\"scattermapbox\",\"marker\":{\"colorbar\":{\"outlinewidth\":0,\"ticks\":\"\"}}}],\"scatterternary\":[{\"type\":\"scatterternary\",\"marker\":{\"colorbar\":{\"outlinewidth\":0,\"ticks\":\"\"}}}],\"scattercarpet\":[{\"type\":\"scattercarpet\",\"marker\":{\"colorbar\":{\"outlinewidth\":0,\"ticks\":\"\"}}}],\"carpet\":[{\"aaxis\":{\"endlinecolor\":\"#2a3f5f\",\"gridcolor\":\"white\",\"linecolor\":\"white\",\"minorgridcolor\":\"white\",\"startlinecolor\":\"#2a3f5f\"},\"baxis\":{\"endlinecolor\":\"#2a3f5f\",\"gridcolor\":\"white\",\"linecolor\":\"white\",\"minorgridcolor\":\"white\",\"startlinecolor\":\"#2a3f5f\"},\"type\":\"carpet\"}],\"table\":[{\"cells\":{\"fill\":{\"color\":\"#EBF0F8\"},\"line\":{\"color\":\"white\"}},\"header\":{\"fill\":{\"color\":\"#C8D4E3\"},\"line\":{\"color\":\"white\"}},\"type\":\"table\"}],\"barpolar\":[{\"marker\":{\"line\":{\"color\":\"#E5ECF6\",\"width\":0.5},\"pattern\":{\"fillmode\":\"overlay\",\"size\":10,\"solidity\":0.2}},\"type\":\"barpolar\"}],\"pie\":[{\"automargin\":true,\"type\":\"pie\"}]},\"layout\":{\"autotypenumbers\":\"strict\",\"colorway\":[\"#636efa\",\"#EF553B\",\"#00cc96\",\"#ab63fa\",\"#FFA15A\",\"#19d3f3\",\"#FF6692\",\"#B6E880\",\"#FF97FF\",\"#FECB52\"],\"font\":{\"color\":\"#2a3f5f\"},\"hovermode\":\"closest\",\"hoverlabel\":{\"align\":\"left\"},\"paper_bgcolor\":\"white\",\"plot_bgcolor\":\"#E5ECF6\",\"polar\":{\"bgcolor\":\"#E5ECF6\",\"angularaxis\":{\"gridcolor\":\"white\",\"linecolor\":\"white\",\"ticks\":\"\"},\"radialaxis\":{\"gridcolor\":\"white\",\"linecolor\":\"white\",\"ticks\":\"\"}},\"ternary\":{\"bgcolor\":\"#E5ECF6\",\"aaxis\":{\"gridcolor\":\"white\",\"linecolor\":\"white\",\"ticks\":\"\"},\"baxis\":{\"gridcolor\":\"white\",\"linecolor\":\"white\",\"ticks\":\"\"},\"caxis\":{\"gridcolor\":\"white\",\"linecolor\":\"white\",\"ticks\":\"\"}},\"coloraxis\":{\"colorbar\":{\"outlinewidth\":0,\"ticks\":\"\"}},\"colorscale\":{\"sequential\":[[0.0,\"#0d0887\"],[0.1111111111111111,\"#46039f\"],[0.2222222222222222,\"#7201a8\"],[0.3333333333333333,\"#9c179e\"],[0.4444444444444444,\"#bd3786\"],[0.5555555555555556,\"#d8576b\"],[0.6666666666666666,\"#ed7953\"],[0.7777777777777778,\"#fb9f3a\"],[0.8888888888888888,\"#fdca26\"],[1.0,\"#f0f921\"]],\"sequentialminus\":[[0.0,\"#0d0887\"],[0.1111111111111111,\"#46039f\"],[0.2222222222222222,\"#7201a8\"],[0.3333333333333333,\"#9c179e\"],[0.4444444444444444,\"#bd3786\"],[0.5555555555555556,\"#d8576b\"],[0.6666666666666666,\"#ed7953\"],[0.7777777777777778,\"#fb9f3a\"],[0.8888888888888888,\"#fdca26\"],[1.0,\"#f0f921\"]],\"diverging\":[[0,\"#8e0152\"],[0.1,\"#c51b7d\"],[0.2,\"#de77ae\"],[0.3,\"#f1b6da\"],[0.4,\"#fde0ef\"],[0.5,\"#f7f7f7\"],[0.6,\"#e6f5d0\"],[0.7,\"#b8e186\"],[0.8,\"#7fbc41\"],[0.9,\"#4d9221\"],[1,\"#276419\"]]},\"xaxis\":{\"gridcolor\":\"white\",\"linecolor\":\"white\",\"ticks\":\"\",\"title\":{\"standoff\":15},\"zerolinecolor\":\"white\",\"automargin\":true,\"zerolinewidth\":2},\"yaxis\":{\"gridcolor\":\"white\",\"linecolor\":\"white\",\"ticks\":\"\",\"title\":{\"standoff\":15},\"zerolinecolor\":\"white\",\"automargin\":true,\"zerolinewidth\":2},\"scene\":{\"xaxis\":{\"backgroundcolor\":\"#E5ECF6\",\"gridcolor\":\"white\",\"linecolor\":\"white\",\"showbackground\":true,\"ticks\":\"\",\"zerolinecolor\":\"white\",\"gridwidth\":2},\"yaxis\":{\"backgroundcolor\":\"#E5ECF6\",\"gridcolor\":\"white\",\"linecolor\":\"white\",\"showbackground\":true,\"ticks\":\"\",\"zerolinecolor\":\"white\",\"gridwidth\":2},\"zaxis\":{\"backgroundcolor\":\"#E5ECF6\",\"gridcolor\":\"white\",\"linecolor\":\"white\",\"showbackground\":true,\"ticks\":\"\",\"zerolinecolor\":\"white\",\"gridwidth\":2}},\"shapedefaults\":{\"line\":{\"color\":\"#2a3f5f\"}},\"annotationdefaults\":{\"arrowcolor\":\"#2a3f5f\",\"arrowhead\":0,\"arrowwidth\":1},\"geo\":{\"bgcolor\":\"white\",\"landcolor\":\"#E5ECF6\",\"subunitcolor\":\"white\",\"showland\":true,\"showlakes\":true,\"lakecolor\":\"white\"},\"title\":{\"x\":0.05},\"mapbox\":{\"style\":\"light\"}}},\"xaxis\":{\"anchor\":\"y\",\"domain\":[0.0,1.0],\"title\":{\"text\":\"borough\"}},\"yaxis\":{\"anchor\":\"x\",\"domain\":[0.0,1.0],\"title\":{\"text\":\"count\"}},\"legend\":{\"title\":{\"text\":\"bldgclass\"},\"tracegroupgap\":0},\"title\":{\"text\":\"Building Types per Borough\"},\"barmode\":\"relative\"},                        {\"responsive\": true}                    ).then(function(){\n",
       "                            \n",
       "var gd = document.getElementById('5ca4843e-37e8-4e84-85c7-43e011fa89fc');\n",
       "var x = new MutationObserver(function (mutations, observer) {{\n",
       "        var display = window.getComputedStyle(gd).display;\n",
       "        if (!display || display === 'none') {{\n",
       "            console.log([gd, 'removed!']);\n",
       "            Plotly.purge(gd);\n",
       "            observer.disconnect();\n",
       "        }}\n",
       "}});\n",
       "\n",
       "// Listen for the removal of the full notebook cells\n",
       "var notebookContainer = gd.closest('#notebook-container');\n",
       "if (notebookContainer) {{\n",
       "    x.observe(notebookContainer, {childList: true});\n",
       "}}\n",
       "\n",
       "// Listen for the clearing of the current output cell\n",
       "var outputEl = gd.closest('.output');\n",
       "if (outputEl) {{\n",
       "    x.observe(outputEl, {childList: true});\n",
       "}}\n",
       "\n",
       "                        })                };                });            </script>        </div>"
      ]
     },
     "metadata": {},
     "output_type": "display_data"
    }
   ],
   "source": [
    "# Create the bar chart using Plotly\n",
    "fig = px.bar(resbuildings.groupby(['borough','bldgclass']).size().reset_index(name = 'count'), x='borough', y='count', color = 'bldgclass', labels={'value': 'Building Count'}, title='Building Types per Borough')\n",
    "\n",
    "# Show the chart\n",
    "fig.show()"
   ]
  },
  {
   "cell_type": "code",
   "execution_count": 532,
   "id": "3546d1b2-5160-4134-8528-de2389253ce1",
   "metadata": {},
   "outputs": [
    {
     "data": {
      "application/vnd.plotly.v1+json": {
       "config": {
        "plotlyServerURL": "https://plot.ly"
       },
       "data": [
        {
         "alignmentgroup": "True",
         "hovertemplate": "bldgclass=A<br>borough=%{x}<br>count=%{y}<extra></extra>",
         "legendgroup": "A",
         "marker": {
          "color": "#636efa",
          "pattern": {
           "shape": ""
          }
         },
         "name": "A",
         "offsetgroup": "A",
         "orientation": "v",
         "showlegend": true,
         "textposition": "auto",
         "type": "bar",
         "x": [
          "BK",
          "BX",
          "MN",
          "QN"
         ],
         "xaxis": "x",
         "y": [
          378,
          49,
          2,
          202
         ],
         "yaxis": "y"
        },
        {
         "alignmentgroup": "True",
         "hovertemplate": "bldgclass=B<br>borough=%{x}<br>count=%{y}<extra></extra>",
         "legendgroup": "B",
         "marker": {
          "color": "#EF553B",
          "pattern": {
           "shape": ""
          }
         },
         "name": "B",
         "offsetgroup": "B",
         "orientation": "v",
         "showlegend": true,
         "textposition": "auto",
         "type": "bar",
         "x": [
          "BK",
          "BX",
          "QN"
         ],
         "xaxis": "x",
         "y": [
          174,
          32,
          244
         ],
         "yaxis": "y"
        },
        {
         "alignmentgroup": "True",
         "hovertemplate": "bldgclass=C<br>borough=%{x}<br>count=%{y}<extra></extra>",
         "legendgroup": "C",
         "marker": {
          "color": "#00cc96",
          "pattern": {
           "shape": ""
          }
         },
         "name": "C",
         "offsetgroup": "C",
         "orientation": "v",
         "showlegend": true,
         "textposition": "auto",
         "type": "bar",
         "x": [
          "BK",
          "BX",
          "MN",
          "QN"
         ],
         "xaxis": "x",
         "y": [
          214,
          50,
          4,
          117
         ],
         "yaxis": "y"
        },
        {
         "alignmentgroup": "True",
         "hovertemplate": "bldgclass=D<br>borough=%{x}<br>count=%{y}<extra></extra>",
         "legendgroup": "D",
         "marker": {
          "color": "#ab63fa",
          "pattern": {
           "shape": ""
          }
         },
         "name": "D",
         "offsetgroup": "D",
         "orientation": "v",
         "showlegend": true,
         "textposition": "auto",
         "type": "bar",
         "x": [
          "BK",
          "BX",
          "MN",
          "QN"
         ],
         "xaxis": "x",
         "y": [
          26,
          13,
          4,
          21
         ],
         "yaxis": "y"
        },
        {
         "alignmentgroup": "True",
         "hovertemplate": "bldgclass=R<br>borough=%{x}<br>count=%{y}<extra></extra>",
         "legendgroup": "R",
         "marker": {
          "color": "#FFA15A",
          "pattern": {
           "shape": ""
          }
         },
         "name": "R",
         "offsetgroup": "R",
         "orientation": "v",
         "showlegend": true,
         "textposition": "auto",
         "type": "bar",
         "x": [
          "BK",
          "BX",
          "MN",
          "QN"
         ],
         "xaxis": "x",
         "y": [
          104,
          47,
          24,
          45
         ],
         "yaxis": "y"
        },
        {
         "alignmentgroup": "True",
         "hovertemplate": "bldgclass=S<br>borough=%{x}<br>count=%{y}<extra></extra>",
         "legendgroup": "S",
         "marker": {
          "color": "#19d3f3",
          "pattern": {
           "shape": ""
          }
         },
         "name": "S",
         "offsetgroup": "S",
         "orientation": "v",
         "showlegend": true,
         "textposition": "auto",
         "type": "bar",
         "x": [
          "BK",
          "BX",
          "MN",
          "QN"
         ],
         "xaxis": "x",
         "y": [
          27,
          1,
          1,
          30
         ],
         "yaxis": "y"
        }
       ],
       "layout": {
        "autosize": true,
        "barmode": "relative",
        "legend": {
         "title": {
          "text": "bldgclass"
         },
         "tracegroupgap": 0
        },
        "template": {
         "data": {
          "bar": [
           {
            "error_x": {
             "color": "#2a3f5f"
            },
            "error_y": {
             "color": "#2a3f5f"
            },
            "marker": {
             "line": {
              "color": "#E5ECF6",
              "width": 0.5
             },
             "pattern": {
              "fillmode": "overlay",
              "size": 10,
              "solidity": 0.2
             }
            },
            "type": "bar"
           }
          ],
          "barpolar": [
           {
            "marker": {
             "line": {
              "color": "#E5ECF6",
              "width": 0.5
             },
             "pattern": {
              "fillmode": "overlay",
              "size": 10,
              "solidity": 0.2
             }
            },
            "type": "barpolar"
           }
          ],
          "carpet": [
           {
            "aaxis": {
             "endlinecolor": "#2a3f5f",
             "gridcolor": "white",
             "linecolor": "white",
             "minorgridcolor": "white",
             "startlinecolor": "#2a3f5f"
            },
            "baxis": {
             "endlinecolor": "#2a3f5f",
             "gridcolor": "white",
             "linecolor": "white",
             "minorgridcolor": "white",
             "startlinecolor": "#2a3f5f"
            },
            "type": "carpet"
           }
          ],
          "choropleth": [
           {
            "colorbar": {
             "outlinewidth": 0,
             "ticks": ""
            },
            "type": "choropleth"
           }
          ],
          "contour": [
           {
            "colorbar": {
             "outlinewidth": 0,
             "ticks": ""
            },
            "colorscale": [
             [
              0,
              "#0d0887"
             ],
             [
              0.1111111111111111,
              "#46039f"
             ],
             [
              0.2222222222222222,
              "#7201a8"
             ],
             [
              0.3333333333333333,
              "#9c179e"
             ],
             [
              0.4444444444444444,
              "#bd3786"
             ],
             [
              0.5555555555555556,
              "#d8576b"
             ],
             [
              0.6666666666666666,
              "#ed7953"
             ],
             [
              0.7777777777777778,
              "#fb9f3a"
             ],
             [
              0.8888888888888888,
              "#fdca26"
             ],
             [
              1,
              "#f0f921"
             ]
            ],
            "type": "contour"
           }
          ],
          "contourcarpet": [
           {
            "colorbar": {
             "outlinewidth": 0,
             "ticks": ""
            },
            "type": "contourcarpet"
           }
          ],
          "heatmap": [
           {
            "colorbar": {
             "outlinewidth": 0,
             "ticks": ""
            },
            "colorscale": [
             [
              0,
              "#0d0887"
             ],
             [
              0.1111111111111111,
              "#46039f"
             ],
             [
              0.2222222222222222,
              "#7201a8"
             ],
             [
              0.3333333333333333,
              "#9c179e"
             ],
             [
              0.4444444444444444,
              "#bd3786"
             ],
             [
              0.5555555555555556,
              "#d8576b"
             ],
             [
              0.6666666666666666,
              "#ed7953"
             ],
             [
              0.7777777777777778,
              "#fb9f3a"
             ],
             [
              0.8888888888888888,
              "#fdca26"
             ],
             [
              1,
              "#f0f921"
             ]
            ],
            "type": "heatmap"
           }
          ],
          "heatmapgl": [
           {
            "colorbar": {
             "outlinewidth": 0,
             "ticks": ""
            },
            "colorscale": [
             [
              0,
              "#0d0887"
             ],
             [
              0.1111111111111111,
              "#46039f"
             ],
             [
              0.2222222222222222,
              "#7201a8"
             ],
             [
              0.3333333333333333,
              "#9c179e"
             ],
             [
              0.4444444444444444,
              "#bd3786"
             ],
             [
              0.5555555555555556,
              "#d8576b"
             ],
             [
              0.6666666666666666,
              "#ed7953"
             ],
             [
              0.7777777777777778,
              "#fb9f3a"
             ],
             [
              0.8888888888888888,
              "#fdca26"
             ],
             [
              1,
              "#f0f921"
             ]
            ],
            "type": "heatmapgl"
           }
          ],
          "histogram": [
           {
            "marker": {
             "pattern": {
              "fillmode": "overlay",
              "size": 10,
              "solidity": 0.2
             }
            },
            "type": "histogram"
           }
          ],
          "histogram2d": [
           {
            "colorbar": {
             "outlinewidth": 0,
             "ticks": ""
            },
            "colorscale": [
             [
              0,
              "#0d0887"
             ],
             [
              0.1111111111111111,
              "#46039f"
             ],
             [
              0.2222222222222222,
              "#7201a8"
             ],
             [
              0.3333333333333333,
              "#9c179e"
             ],
             [
              0.4444444444444444,
              "#bd3786"
             ],
             [
              0.5555555555555556,
              "#d8576b"
             ],
             [
              0.6666666666666666,
              "#ed7953"
             ],
             [
              0.7777777777777778,
              "#fb9f3a"
             ],
             [
              0.8888888888888888,
              "#fdca26"
             ],
             [
              1,
              "#f0f921"
             ]
            ],
            "type": "histogram2d"
           }
          ],
          "histogram2dcontour": [
           {
            "colorbar": {
             "outlinewidth": 0,
             "ticks": ""
            },
            "colorscale": [
             [
              0,
              "#0d0887"
             ],
             [
              0.1111111111111111,
              "#46039f"
             ],
             [
              0.2222222222222222,
              "#7201a8"
             ],
             [
              0.3333333333333333,
              "#9c179e"
             ],
             [
              0.4444444444444444,
              "#bd3786"
             ],
             [
              0.5555555555555556,
              "#d8576b"
             ],
             [
              0.6666666666666666,
              "#ed7953"
             ],
             [
              0.7777777777777778,
              "#fb9f3a"
             ],
             [
              0.8888888888888888,
              "#fdca26"
             ],
             [
              1,
              "#f0f921"
             ]
            ],
            "type": "histogram2dcontour"
           }
          ],
          "mesh3d": [
           {
            "colorbar": {
             "outlinewidth": 0,
             "ticks": ""
            },
            "type": "mesh3d"
           }
          ],
          "parcoords": [
           {
            "line": {
             "colorbar": {
              "outlinewidth": 0,
              "ticks": ""
             }
            },
            "type": "parcoords"
           }
          ],
          "pie": [
           {
            "automargin": true,
            "type": "pie"
           }
          ],
          "scatter": [
           {
            "fillpattern": {
             "fillmode": "overlay",
             "size": 10,
             "solidity": 0.2
            },
            "type": "scatter"
           }
          ],
          "scatter3d": [
           {
            "line": {
             "colorbar": {
              "outlinewidth": 0,
              "ticks": ""
             }
            },
            "marker": {
             "colorbar": {
              "outlinewidth": 0,
              "ticks": ""
             }
            },
            "type": "scatter3d"
           }
          ],
          "scattercarpet": [
           {
            "marker": {
             "colorbar": {
              "outlinewidth": 0,
              "ticks": ""
             }
            },
            "type": "scattercarpet"
           }
          ],
          "scattergeo": [
           {
            "marker": {
             "colorbar": {
              "outlinewidth": 0,
              "ticks": ""
             }
            },
            "type": "scattergeo"
           }
          ],
          "scattergl": [
           {
            "marker": {
             "colorbar": {
              "outlinewidth": 0,
              "ticks": ""
             }
            },
            "type": "scattergl"
           }
          ],
          "scattermapbox": [
           {
            "marker": {
             "colorbar": {
              "outlinewidth": 0,
              "ticks": ""
             }
            },
            "type": "scattermapbox"
           }
          ],
          "scatterpolar": [
           {
            "marker": {
             "colorbar": {
              "outlinewidth": 0,
              "ticks": ""
             }
            },
            "type": "scatterpolar"
           }
          ],
          "scatterpolargl": [
           {
            "marker": {
             "colorbar": {
              "outlinewidth": 0,
              "ticks": ""
             }
            },
            "type": "scatterpolargl"
           }
          ],
          "scatterternary": [
           {
            "marker": {
             "colorbar": {
              "outlinewidth": 0,
              "ticks": ""
             }
            },
            "type": "scatterternary"
           }
          ],
          "surface": [
           {
            "colorbar": {
             "outlinewidth": 0,
             "ticks": ""
            },
            "colorscale": [
             [
              0,
              "#0d0887"
             ],
             [
              0.1111111111111111,
              "#46039f"
             ],
             [
              0.2222222222222222,
              "#7201a8"
             ],
             [
              0.3333333333333333,
              "#9c179e"
             ],
             [
              0.4444444444444444,
              "#bd3786"
             ],
             [
              0.5555555555555556,
              "#d8576b"
             ],
             [
              0.6666666666666666,
              "#ed7953"
             ],
             [
              0.7777777777777778,
              "#fb9f3a"
             ],
             [
              0.8888888888888888,
              "#fdca26"
             ],
             [
              1,
              "#f0f921"
             ]
            ],
            "type": "surface"
           }
          ],
          "table": [
           {
            "cells": {
             "fill": {
              "color": "#EBF0F8"
             },
             "line": {
              "color": "white"
             }
            },
            "header": {
             "fill": {
              "color": "#C8D4E3"
             },
             "line": {
              "color": "white"
             }
            },
            "type": "table"
           }
          ]
         },
         "layout": {
          "annotationdefaults": {
           "arrowcolor": "#2a3f5f",
           "arrowhead": 0,
           "arrowwidth": 1
          },
          "autotypenumbers": "strict",
          "coloraxis": {
           "colorbar": {
            "outlinewidth": 0,
            "ticks": ""
           }
          },
          "colorscale": {
           "diverging": [
            [
             0,
             "#8e0152"
            ],
            [
             0.1,
             "#c51b7d"
            ],
            [
             0.2,
             "#de77ae"
            ],
            [
             0.3,
             "#f1b6da"
            ],
            [
             0.4,
             "#fde0ef"
            ],
            [
             0.5,
             "#f7f7f7"
            ],
            [
             0.6,
             "#e6f5d0"
            ],
            [
             0.7,
             "#b8e186"
            ],
            [
             0.8,
             "#7fbc41"
            ],
            [
             0.9,
             "#4d9221"
            ],
            [
             1,
             "#276419"
            ]
           ],
           "sequential": [
            [
             0,
             "#0d0887"
            ],
            [
             0.1111111111111111,
             "#46039f"
            ],
            [
             0.2222222222222222,
             "#7201a8"
            ],
            [
             0.3333333333333333,
             "#9c179e"
            ],
            [
             0.4444444444444444,
             "#bd3786"
            ],
            [
             0.5555555555555556,
             "#d8576b"
            ],
            [
             0.6666666666666666,
             "#ed7953"
            ],
            [
             0.7777777777777778,
             "#fb9f3a"
            ],
            [
             0.8888888888888888,
             "#fdca26"
            ],
            [
             1,
             "#f0f921"
            ]
           ],
           "sequentialminus": [
            [
             0,
             "#0d0887"
            ],
            [
             0.1111111111111111,
             "#46039f"
            ],
            [
             0.2222222222222222,
             "#7201a8"
            ],
            [
             0.3333333333333333,
             "#9c179e"
            ],
            [
             0.4444444444444444,
             "#bd3786"
            ],
            [
             0.5555555555555556,
             "#d8576b"
            ],
            [
             0.6666666666666666,
             "#ed7953"
            ],
            [
             0.7777777777777778,
             "#fb9f3a"
            ],
            [
             0.8888888888888888,
             "#fdca26"
            ],
            [
             1,
             "#f0f921"
            ]
           ]
          },
          "colorway": [
           "#636efa",
           "#EF553B",
           "#00cc96",
           "#ab63fa",
           "#FFA15A",
           "#19d3f3",
           "#FF6692",
           "#B6E880",
           "#FF97FF",
           "#FECB52"
          ],
          "font": {
           "color": "#2a3f5f"
          },
          "geo": {
           "bgcolor": "white",
           "lakecolor": "white",
           "landcolor": "#E5ECF6",
           "showlakes": true,
           "showland": true,
           "subunitcolor": "white"
          },
          "hoverlabel": {
           "align": "left"
          },
          "hovermode": "closest",
          "mapbox": {
           "style": "light"
          },
          "paper_bgcolor": "white",
          "plot_bgcolor": "#E5ECF6",
          "polar": {
           "angularaxis": {
            "gridcolor": "white",
            "linecolor": "white",
            "ticks": ""
           },
           "bgcolor": "#E5ECF6",
           "radialaxis": {
            "gridcolor": "white",
            "linecolor": "white",
            "ticks": ""
           }
          },
          "scene": {
           "xaxis": {
            "backgroundcolor": "#E5ECF6",
            "gridcolor": "white",
            "gridwidth": 2,
            "linecolor": "white",
            "showbackground": true,
            "ticks": "",
            "zerolinecolor": "white"
           },
           "yaxis": {
            "backgroundcolor": "#E5ECF6",
            "gridcolor": "white",
            "gridwidth": 2,
            "linecolor": "white",
            "showbackground": true,
            "ticks": "",
            "zerolinecolor": "white"
           },
           "zaxis": {
            "backgroundcolor": "#E5ECF6",
            "gridcolor": "white",
            "gridwidth": 2,
            "linecolor": "white",
            "showbackground": true,
            "ticks": "",
            "zerolinecolor": "white"
           }
          },
          "shapedefaults": {
           "line": {
            "color": "#2a3f5f"
           }
          },
          "ternary": {
           "aaxis": {
            "gridcolor": "white",
            "linecolor": "white",
            "ticks": ""
           },
           "baxis": {
            "gridcolor": "white",
            "linecolor": "white",
            "ticks": ""
           },
           "bgcolor": "#E5ECF6",
           "caxis": {
            "gridcolor": "white",
            "linecolor": "white",
            "ticks": ""
           }
          },
          "title": {
           "x": 0.05
          },
          "xaxis": {
           "automargin": true,
           "gridcolor": "white",
           "linecolor": "white",
           "ticks": "",
           "title": {
            "standoff": 15
           },
           "zerolinecolor": "white",
           "zerolinewidth": 2
          },
          "yaxis": {
           "automargin": true,
           "gridcolor": "white",
           "linecolor": "white",
           "ticks": "",
           "title": {
            "standoff": 15
           },
           "zerolinecolor": "white",
           "zerolinewidth": 2
          }
         }
        },
        "title": {
         "text": "Building Types per Borough"
        },
        "xaxis": {
         "anchor": "y",
         "autorange": true,
         "domain": [
          0,
          1
         ],
         "range": [
          -0.5,
          3.5
         ],
         "title": {
          "text": "borough"
         },
         "type": "category"
        },
        "yaxis": {
         "anchor": "x",
         "autorange": true,
         "domain": [
          0,
          1
         ],
         "range": [
          0,
          971.578947368421
         ],
         "title": {
          "text": "count"
         },
         "type": "linear"
        }
       }
      },
      "image/png": "[encoded data removed]",
      "text/html": [
       "<div>                            <div id=\"a5062382-b73f-407e-82cc-4ecc8704a7bb\" class=\"plotly-graph-div\" style=\"height:525px; width:100%;\"></div>            <script type=\"text/javascript\">                require([\"plotly\"], function(Plotly) {                    window.PLOTLYENV=window.PLOTLYENV || {};                                    if (document.getElementById(\"a5062382-b73f-407e-82cc-4ecc8704a7bb\")) {                    Plotly.newPlot(                        \"a5062382-b73f-407e-82cc-4ecc8704a7bb\",                        [{\"alignmentgroup\":\"True\",\"hovertemplate\":\"bldgclass=A<br>borough=%{x}<br>count=%{y}<extra></extra>\",\"legendgroup\":\"A\",\"marker\":{\"color\":\"#636efa\",\"pattern\":{\"shape\":\"\"}},\"name\":\"A\",\"offsetgroup\":\"A\",\"orientation\":\"v\",\"showlegend\":true,\"textposition\":\"auto\",\"x\":[\"BK\",\"BX\",\"MN\",\"QN\"],\"xaxis\":\"x\",\"y\":[378,49,2,202],\"yaxis\":\"y\",\"type\":\"bar\"},{\"alignmentgroup\":\"True\",\"hovertemplate\":\"bldgclass=B<br>borough=%{x}<br>count=%{y}<extra></extra>\",\"legendgroup\":\"B\",\"marker\":{\"color\":\"#EF553B\",\"pattern\":{\"shape\":\"\"}},\"name\":\"B\",\"offsetgroup\":\"B\",\"orientation\":\"v\",\"showlegend\":true,\"textposition\":\"auto\",\"x\":[\"BK\",\"BX\",\"QN\"],\"xaxis\":\"x\",\"y\":[174,32,244],\"yaxis\":\"y\",\"type\":\"bar\"},{\"alignmentgroup\":\"True\",\"hovertemplate\":\"bldgclass=C<br>borough=%{x}<br>count=%{y}<extra></extra>\",\"legendgroup\":\"C\",\"marker\":{\"color\":\"#00cc96\",\"pattern\":{\"shape\":\"\"}},\"name\":\"C\",\"offsetgroup\":\"C\",\"orientation\":\"v\",\"showlegend\":true,\"textposition\":\"auto\",\"x\":[\"BK\",\"BX\",\"MN\",\"QN\"],\"xaxis\":\"x\",\"y\":[214,50,4,117],\"yaxis\":\"y\",\"type\":\"bar\"},{\"alignmentgroup\":\"True\",\"hovertemplate\":\"bldgclass=D<br>borough=%{x}<br>count=%{y}<extra></extra>\",\"legendgroup\":\"D\",\"marker\":{\"color\":\"#ab63fa\",\"pattern\":{\"shape\":\"\"}},\"name\":\"D\",\"offsetgroup\":\"D\",\"orientation\":\"v\",\"showlegend\":true,\"textposition\":\"auto\",\"x\":[\"BK\",\"BX\",\"MN\",\"QN\"],\"xaxis\":\"x\",\"y\":[26,13,4,21],\"yaxis\":\"y\",\"type\":\"bar\"},{\"alignmentgroup\":\"True\",\"hovertemplate\":\"bldgclass=R<br>borough=%{x}<br>count=%{y}<extra></extra>\",\"legendgroup\":\"R\",\"marker\":{\"color\":\"#FFA15A\",\"pattern\":{\"shape\":\"\"}},\"name\":\"R\",\"offsetgroup\":\"R\",\"orientation\":\"v\",\"showlegend\":true,\"textposition\":\"auto\",\"x\":[\"BK\",\"BX\",\"MN\",\"QN\"],\"xaxis\":\"x\",\"y\":[104,47,24,45],\"yaxis\":\"y\",\"type\":\"bar\"},{\"alignmentgroup\":\"True\",\"hovertemplate\":\"bldgclass=S<br>borough=%{x}<br>count=%{y}<extra></extra>\",\"legendgroup\":\"S\",\"marker\":{\"color\":\"#19d3f3\",\"pattern\":{\"shape\":\"\"}},\"name\":\"S\",\"offsetgroup\":\"S\",\"orientation\":\"v\",\"showlegend\":true,\"textposition\":\"auto\",\"x\":[\"BK\",\"BX\",\"MN\",\"QN\"],\"xaxis\":\"x\",\"y\":[27,1,1,30],\"yaxis\":\"y\",\"type\":\"bar\"}],                        {\"template\":{\"data\":{\"histogram2dcontour\":[{\"type\":\"histogram2dcontour\",\"colorbar\":{\"outlinewidth\":0,\"ticks\":\"\"},\"colorscale\":[[0.0,\"#0d0887\"],[0.1111111111111111,\"#46039f\"],[0.2222222222222222,\"#7201a8\"],[0.3333333333333333,\"#9c179e\"],[0.4444444444444444,\"#bd3786\"],[0.5555555555555556,\"#d8576b\"],[0.6666666666666666,\"#ed7953\"],[0.7777777777777778,\"#fb9f3a\"],[0.8888888888888888,\"#fdca26\"],[1.0,\"#f0f921\"]]}],\"choropleth\":[{\"type\":\"choropleth\",\"colorbar\":{\"outlinewidth\":0,\"ticks\":\"\"}}],\"histogram2d\":[{\"type\":\"histogram2d\",\"colorbar\":{\"outlinewidth\":0,\"ticks\":\"\"},\"colorscale\":[[0.0,\"#0d0887\"],[0.1111111111111111,\"#46039f\"],[0.2222222222222222,\"#7201a8\"],[0.3333333333333333,\"#9c179e\"],[0.4444444444444444,\"#bd3786\"],[0.5555555555555556,\"#d8576b\"],[0.6666666666666666,\"#ed7953\"],[0.7777777777777778,\"#fb9f3a\"],[0.8888888888888888,\"#fdca26\"],[1.0,\"#f0f921\"]]}],\"heatmap\":[{\"type\":\"heatmap\",\"colorbar\":{\"outlinewidth\":0,\"ticks\":\"\"},\"colorscale\":[[0.0,\"#0d0887\"],[0.1111111111111111,\"#46039f\"],[0.2222222222222222,\"#7201a8\"],[0.3333333333333333,\"#9c179e\"],[0.4444444444444444,\"#bd3786\"],[0.5555555555555556,\"#d8576b\"],[0.6666666666666666,\"#ed7953\"],[0.7777777777777778,\"#fb9f3a\"],[0.8888888888888888,\"#fdca26\"],[1.0,\"#f0f921\"]]}],\"heatmapgl\":[{\"type\":\"heatmapgl\",\"colorbar\":{\"outlinewidth\":0,\"ticks\":\"\"},\"colorscale\":[[0.0,\"#0d0887\"],[0.1111111111111111,\"#46039f\"],[0.2222222222222222,\"#7201a8\"],[0.3333333333333333,\"#9c179e\"],[0.4444444444444444,\"#bd3786\"],[0.5555555555555556,\"#d8576b\"],[0.6666666666666666,\"#ed7953\"],[0.7777777777777778,\"#fb9f3a\"],[0.8888888888888888,\"#fdca26\"],[1.0,\"#f0f921\"]]}],\"contourcarpet\":[{\"type\":\"contourcarpet\",\"colorbar\":{\"outlinewidth\":0,\"ticks\":\"\"}}],\"contour\":[{\"type\":\"contour\",\"colorbar\":{\"outlinewidth\":0,\"ticks\":\"\"},\"colorscale\":[[0.0,\"#0d0887\"],[0.1111111111111111,\"#46039f\"],[0.2222222222222222,\"#7201a8\"],[0.3333333333333333,\"#9c179e\"],[0.4444444444444444,\"#bd3786\"],[0.5555555555555556,\"#d8576b\"],[0.6666666666666666,\"#ed7953\"],[0.7777777777777778,\"#fb9f3a\"],[0.8888888888888888,\"#fdca26\"],[1.0,\"#f0f921\"]]}],\"surface\":[{\"type\":\"surface\",\"colorbar\":{\"outlinewidth\":0,\"ticks\":\"\"},\"colorscale\":[[0.0,\"#0d0887\"],[0.1111111111111111,\"#46039f\"],[0.2222222222222222,\"#7201a8\"],[0.3333333333333333,\"#9c179e\"],[0.4444444444444444,\"#bd3786\"],[0.5555555555555556,\"#d8576b\"],[0.6666666666666666,\"#ed7953\"],[0.7777777777777778,\"#fb9f3a\"],[0.8888888888888888,\"#fdca26\"],[1.0,\"#f0f921\"]]}],\"mesh3d\":[{\"type\":\"mesh3d\",\"colorbar\":{\"outlinewidth\":0,\"ticks\":\"\"}}],\"scatter\":[{\"fillpattern\":{\"fillmode\":\"overlay\",\"size\":10,\"solidity\":0.2},\"type\":\"scatter\"}],\"parcoords\":[{\"type\":\"parcoords\",\"line\":{\"colorbar\":{\"outlinewidth\":0,\"ticks\":\"\"}}}],\"scatterpolargl\":[{\"type\":\"scatterpolargl\",\"marker\":{\"colorbar\":{\"outlinewidth\":0,\"ticks\":\"\"}}}],\"bar\":[{\"error_x\":{\"color\":\"#2a3f5f\"},\"error_y\":{\"color\":\"#2a3f5f\"},\"marker\":{\"line\":{\"color\":\"#E5ECF6\",\"width\":0.5},\"pattern\":{\"fillmode\":\"overlay\",\"size\":10,\"solidity\":0.2}},\"type\":\"bar\"}],\"scattergeo\":[{\"type\":\"scattergeo\",\"marker\":{\"colorbar\":{\"outlinewidth\":0,\"ticks\":\"\"}}}],\"scatterpolar\":[{\"type\":\"scatterpolar\",\"marker\":{\"colorbar\":{\"outlinewidth\":0,\"ticks\":\"\"}}}],\"histogram\":[{\"marker\":{\"pattern\":{\"fillmode\":\"overlay\",\"size\":10,\"solidity\":0.2}},\"type\":\"histogram\"}],\"scattergl\":[{\"type\":\"scattergl\",\"marker\":{\"colorbar\":{\"outlinewidth\":0,\"ticks\":\"\"}}}],\"scatter3d\":[{\"type\":\"scatter3d\",\"line\":{\"colorbar\":{\"outlinewidth\":0,\"ticks\":\"\"}},\"marker\":{\"colorbar\":{\"outlinewidth\":0,\"ticks\":\"\"}}}],\"scattermapbox\":[{\"type\":\"scattermapbox\",\"marker\":{\"colorbar\":{\"outlinewidth\":0,\"ticks\":\"\"}}}],\"scatterternary\":[{\"type\":\"scatterternary\",\"marker\":{\"colorbar\":{\"outlinewidth\":0,\"ticks\":\"\"}}}],\"scattercarpet\":[{\"type\":\"scattercarpet\",\"marker\":{\"colorbar\":{\"outlinewidth\":0,\"ticks\":\"\"}}}],\"carpet\":[{\"aaxis\":{\"endlinecolor\":\"#2a3f5f\",\"gridcolor\":\"white\",\"linecolor\":\"white\",\"minorgridcolor\":\"white\",\"startlinecolor\":\"#2a3f5f\"},\"baxis\":{\"endlinecolor\":\"#2a3f5f\",\"gridcolor\":\"white\",\"linecolor\":\"white\",\"minorgridcolor\":\"white\",\"startlinecolor\":\"#2a3f5f\"},\"type\":\"carpet\"}],\"table\":[{\"cells\":{\"fill\":{\"color\":\"#EBF0F8\"},\"line\":{\"color\":\"white\"}},\"header\":{\"fill\":{\"color\":\"#C8D4E3\"},\"line\":{\"color\":\"white\"}},\"type\":\"table\"}],\"barpolar\":[{\"marker\":{\"line\":{\"color\":\"#E5ECF6\",\"width\":0.5},\"pattern\":{\"fillmode\":\"overlay\",\"size\":10,\"solidity\":0.2}},\"type\":\"barpolar\"}],\"pie\":[{\"automargin\":true,\"type\":\"pie\"}]},\"layout\":{\"autotypenumbers\":\"strict\",\"colorway\":[\"#636efa\",\"#EF553B\",\"#00cc96\",\"#ab63fa\",\"#FFA15A\",\"#19d3f3\",\"#FF6692\",\"#B6E880\",\"#FF97FF\",\"#FECB52\"],\"font\":{\"color\":\"#2a3f5f\"},\"hovermode\":\"closest\",\"hoverlabel\":{\"align\":\"left\"},\"paper_bgcolor\":\"white\",\"plot_bgcolor\":\"#E5ECF6\",\"polar\":{\"bgcolor\":\"#E5ECF6\",\"angularaxis\":{\"gridcolor\":\"white\",\"linecolor\":\"white\",\"ticks\":\"\"},\"radialaxis\":{\"gridcolor\":\"white\",\"linecolor\":\"white\",\"ticks\":\"\"}},\"ternary\":{\"bgcolor\":\"#E5ECF6\",\"aaxis\":{\"gridcolor\":\"white\",\"linecolor\":\"white\",\"ticks\":\"\"},\"baxis\":{\"gridcolor\":\"white\",\"linecolor\":\"white\",\"ticks\":\"\"},\"caxis\":{\"gridcolor\":\"white\",\"linecolor\":\"white\",\"ticks\":\"\"}},\"coloraxis\":{\"colorbar\":{\"outlinewidth\":0,\"ticks\":\"\"}},\"colorscale\":{\"sequential\":[[0.0,\"#0d0887\"],[0.1111111111111111,\"#46039f\"],[0.2222222222222222,\"#7201a8\"],[0.3333333333333333,\"#9c179e\"],[0.4444444444444444,\"#bd3786\"],[0.5555555555555556,\"#d8576b\"],[0.6666666666666666,\"#ed7953\"],[0.7777777777777778,\"#fb9f3a\"],[0.8888888888888888,\"#fdca26\"],[1.0,\"#f0f921\"]],\"sequentialminus\":[[0.0,\"#0d0887\"],[0.1111111111111111,\"#46039f\"],[0.2222222222222222,\"#7201a8\"],[0.3333333333333333,\"#9c179e\"],[0.4444444444444444,\"#bd3786\"],[0.5555555555555556,\"#d8576b\"],[0.6666666666666666,\"#ed7953\"],[0.7777777777777778,\"#fb9f3a\"],[0.8888888888888888,\"#fdca26\"],[1.0,\"#f0f921\"]],\"diverging\":[[0,\"#8e0152\"],[0.1,\"#c51b7d\"],[0.2,\"#de77ae\"],[0.3,\"#f1b6da\"],[0.4,\"#fde0ef\"],[0.5,\"#f7f7f7\"],[0.6,\"#e6f5d0\"],[0.7,\"#b8e186\"],[0.8,\"#7fbc41\"],[0.9,\"#4d9221\"],[1,\"#276419\"]]},\"xaxis\":{\"gridcolor\":\"white\",\"linecolor\":\"white\",\"ticks\":\"\",\"title\":{\"standoff\":15},\"zerolinecolor\":\"white\",\"automargin\":true,\"zerolinewidth\":2},\"yaxis\":{\"gridcolor\":\"white\",\"linecolor\":\"white\",\"ticks\":\"\",\"title\":{\"standoff\":15},\"zerolinecolor\":\"white\",\"automargin\":true,\"zerolinewidth\":2},\"scene\":{\"xaxis\":{\"backgroundcolor\":\"#E5ECF6\",\"gridcolor\":\"white\",\"linecolor\":\"white\",\"showbackground\":true,\"ticks\":\"\",\"zerolinecolor\":\"white\",\"gridwidth\":2},\"yaxis\":{\"backgroundcolor\":\"#E5ECF6\",\"gridcolor\":\"white\",\"linecolor\":\"white\",\"showbackground\":true,\"ticks\":\"\",\"zerolinecolor\":\"white\",\"gridwidth\":2},\"zaxis\":{\"backgroundcolor\":\"#E5ECF6\",\"gridcolor\":\"white\",\"linecolor\":\"white\",\"showbackground\":true,\"ticks\":\"\",\"zerolinecolor\":\"white\",\"gridwidth\":2}},\"shapedefaults\":{\"line\":{\"color\":\"#2a3f5f\"}},\"annotationdefaults\":{\"arrowcolor\":\"#2a3f5f\",\"arrowhead\":0,\"arrowwidth\":1},\"geo\":{\"bgcolor\":\"white\",\"landcolor\":\"#E5ECF6\",\"subunitcolor\":\"white\",\"showland\":true,\"showlakes\":true,\"lakecolor\":\"white\"},\"title\":{\"x\":0.05},\"mapbox\":{\"style\":\"light\"}}},\"xaxis\":{\"anchor\":\"y\",\"domain\":[0.0,1.0],\"title\":{\"text\":\"borough\"}},\"yaxis\":{\"anchor\":\"x\",\"domain\":[0.0,1.0],\"title\":{\"text\":\"count\"}},\"legend\":{\"title\":{\"text\":\"bldgclass\"},\"tracegroupgap\":0},\"title\":{\"text\":\"Building Types per Borough\"},\"barmode\":\"relative\"},                        {\"responsive\": true}                    ).then(function(){\n",
       "                            \n",
       "var gd = document.getElementById('a5062382-b73f-407e-82cc-4ecc8704a7bb');\n",
       "var x = new MutationObserver(function (mutations, observer) {{\n",
       "        var display = window.getComputedStyle(gd).display;\n",
       "        if (!display || display === 'none') {{\n",
       "            console.log([gd, 'removed!']);\n",
       "            Plotly.purge(gd);\n",
       "            observer.disconnect();\n",
       "        }}\n",
       "}});\n",
       "\n",
       "// Listen for the removal of the full notebook cells\n",
       "var notebookContainer = gd.closest('#notebook-container');\n",
       "if (notebookContainer) {{\n",
       "    x.observe(notebookContainer, {childList: true});\n",
       "}}\n",
       "\n",
       "// Listen for the clearing of the current output cell\n",
       "var outputEl = gd.closest('.output');\n",
       "if (outputEl) {{\n",
       "    x.observe(outputEl, {childList: true});\n",
       "}}\n",
       "\n",
       "                        })                };                });            </script>        </div>"
      ]
     },
     "metadata": {},
     "output_type": "display_data"
    }
   ],
   "source": [
    "# Create the bar chart using Plotly\n",
    "fig = px.bar(resbuildings.groupby(['borough','bldgclass']).size().reset_index(name = 'count'), x='borough', y='count', color = 'bldgclass', labels={'value': 'Building Count'}, title='Building Types per Borough')\n",
    "\n",
    "# Show the chart\n",
    "fig.show()"
   ]
  },
  {
   "cell_type": "code",
   "execution_count": 530,
   "id": "90a916fe-58c7-46d1-b0e1-b83c6e326248",
   "metadata": {},
   "outputs": [
    {
     "data": {
      "application/vnd.plotly.v1+json": {
       "config": {
        "plotlyServerURL": "https://plot.ly"
       },
       "data": [
        {
         "lat": [
          40.6929217,
          40.6929271,
          40.769276,
          40.7654184,
          40.765369,
          40.7653086,
          40.7652647,
          40.7653609,
          40.7654213,
          40.7654789,
          40.7655393,
          40.7738436,
          40.7738186,
          40.7730593,
          40.7736034,
          40.7744148,
          40.775003,
          40.7890661,
          40.7909693
         ],
         "line": {
          "color": "blue"
         },
         "locationmode": "USA-states",
         "lon": [
          -74.0176373,
          -74.0183477,
          -73.9483091,
          -73.9516044,
          -73.9516514,
          -73.951702,
          -73.9517453,
          -73.9520954,
          -73.9520448,
          -73.9519906,
          -73.9519401,
          -73.9901844,
          -73.9899482,
          -73.9900154,
          -73.9913001,
          -73.9914842,
          -73.9907297,
          -73.9243907,
          -73.921922
         ],
         "mode": "lines",
         "type": "scattergeo"
        },
        {
         "lat": [
          40.7757814,
          40.87057,
          40.8855239,
          40.834859,
          40.6651555,
          40.6799076,
          40.6334907,
          40.7268334,
          40.8765305,
          40.8731923,
          40.6923886,
          40.591896,
          40.7189296,
          40.5914134,
          40.7556018,
          40.7764881,
          40.5920912,
          40.5864522,
          40.8865348,
          40.7880019,
          40.6017478,
          40.5867072,
          40.5911164,
          40.6978827,
          40.7528575,
          40.6832638,
          40.7120485,
          40.6878555,
          40.5908469,
          40.5896772,
          40.589477,
          40.6934311,
          40.8871266,
          40.7118125,
          40.6804675,
          40.7577571,
          40.6283208,
          40.5898775,
          40.5895977,
          40.591163,
          40.5890082,
          40.6523367,
          40.7239896,
          40.6623846,
          40.8348076,
          40.6788616,
          40.5895649,
          40.5891756,
          40.7404656,
          40.6831347,
          40.7376988,
          40.7438128,
          40.6817504,
          40.8268499,
          40.8242666,
          40.5900695,
          40.5894387,
          40.5892907,
          40.5912069,
          40.7434707,
          40.6993122,
          40.6773737,
          40.8879443,
          40.6822856,
          40.6540864,
          40.828428,
          40.8761611,
          40.8284993,
          40.6420677,
          40.8285571,
          40.5902341,
          40.5898448,
          40.5896473,
          40.6913046,
          40.7531613,
          40.6242673,
          40.6419662,
          40.6207563,
          40.5900066,
          40.5891785,
          40.7606013,
          40.760593,
          40.7605269,
          40.6961609,
          40.630763,
          40.5901273,
          40.5897325,
          40.6857615,
          40.684595,
          40.7087493,
          40.6954637,
          40.6873598,
          40.6872856,
          40.6872087,
          40.5962384,
          40.589609,
          40.589461,
          40.5912946,
          40.5893048,
          40.5815075,
          40.7480987,
          40.7509355,
          40.6978839,
          40.7502954,
          40.7446429,
          40.7439537,
          40.6921613,
          40.7509628,
          40.6905134,
          40.7509901,
          40.6977603,
          40.7510175,
          40.7510475,
          40.697697,
          40.6976311,
          40.7460652,
          40.7515337,
          40.7515583,
          40.7511022,
          40.7516048,
          40.7516512,
          40.7502298,
          40.5902098,
          40.5900123,
          40.6569472,
          40.7054961,
          40.6911344,
          40.7046458,
          40.6436083,
          40.5924067,
          40.5866439,
          40.5920091,
          40.5865925,
          40.5864829,
          40.8853452,
          40.8870927,
          40.8882509,
          40.7465557,
          40.7465502,
          40.7468329,
          40.7468219,
          40.746542,
          40.7465337,
          40.7468137,
          40.7468027,
          40.7465227,
          40.7465117,
          40.7467944,
          40.7467834,
          40.7465035,
          40.7464952,
          40.7467724,
          40.7467641,
          40.746487,
          40.746476,
          40.7467559,
          40.7467449,
          40.7464567,
          40.7467366,
          40.7467256,
          40.7464457,
          40.746432,
          40.7464209,
          40.7464127,
          40.7464044,
          40.7463934,
          40.6113194,
          40.7695978,
          40.6112539,
          40.6111884,
          40.6063585,
          40.6109317,
          40.610869,
          40.6106696,
          40.6810805,
          40.5803806,
          40.7843102,
          40.668705,
          40.631149,
          40.63446,
          40.8075514,
          40.7495169,
          40.7495661,
          40.6548618,
          40.8286285,
          40.6547794,
          40.6547025,
          40.6546283,
          40.6568786,
          40.6545514,
          40.5904101,
          40.5901742,
          40.590018,
          40.5895846,
          40.693684,
          40.7528035,
          40.7271379,
          40.6544717,
          40.6330604,
          40.6543948,
          40.6292798,
          40.5897466,
          40.8644132,
          40.6914687,
          40.6981733,
          40.6231256,
          40.5902978,
          40.589711,
          40.6926521,
          40.7885598,
          40.5804644,
          40.6880992,
          40.7887767,
          40.7888832,
          40.7888913,
          40.7888939,
          40.6779849,
          40.5803278,
          40.6968081,
          40.6980116,
          40.7897871,
          40.8306491,
          40.8270433,
          40.6420116,
          40.5902623,
          40.6884062,
          40.6868063,
          40.5905749,
          40.5903829,
          40.5899469,
          40.5897961,
          40.5914756,
          40.697484,
          40.7849129,
          40.6272239,
          40.8347698,
          40.5907368,
          40.5905449,
          40.5901967,
          40.5899553,
          40.5897634,
          40.6863153,
          40.7090464,
          40.6815974,
          40.6928764,
          40.688564,
          40.6442645,
          40.8347199,
          40.5908192,
          40.6884281,
          40.5900405,
          40.5898485,
          40.688168,
          40.6845319,
          40.6803507,
          40.6830959,
          40.5867646,
          40.5924671,
          40.8866919,
          40.6894849,
          40.7864887,
          40.5905505,
          40.5903531,
          40.6754357,
          40.683041,
          40.6829861,
          40.5899312,
          40.6911413,
          40.6367619,
          40.6836833,
          40.6842067,
          40.7799294,
          40.6837274,
          40.6194801,
          40.6892599,
          40.6742968,
          40.8305452,
          40.8806865,
          40.636224,
          40.6207597,
          40.6275805,
          40.673295,
          40.6423379,
          40.6965698,
          40.8869172,
          40.6985084,
          40.6713653,
          40.6393932,
          40.6802369,
          40.6352413,
          40.6269186,
          40.6268527,
          40.6528876,
          40.6268614,
          40.7143508,
          40.6685677,
          40.6528107,
          40.6413799,
          40.5923602,
          40.5866196,
          40.5920832,
          40.5918062,
          40.5865654,
          40.6108992,
          40.6071847,
          40.7139006,
          40.6700433,
          40.8072574,
          40.6703803,
          40.6769591,
          40.7566361,
          40.8321873,
          40.8386213,
          40.681792,
          40.7860596,
          40.6704708,
          40.6692917,
          40.6270401,
          40.6388447,
          40.677702,
          40.8406007,
          40.7639455,
          40.7455307,
          40.6704609,
          40.8868339,
          40.6762217,
          40.6752301,
          40.8072899,
          40.6177817,
          40.6368921,
          40.7025342,
          40.6665347,
          40.6718695,
          40.6717453,
          40.672401,
          40.6719325,
          40.7498337,
          40.6154539,
          40.637062,
          40.6368206,
          40.6370153,
          40.7455908,
          40.6740042,
          40.668345,
          40.586847,
          40.5867347,
          40.5866197,
          40.5867216,
          40.7859471,
          40.6106293,
          40.7852517,
          40.7852496,
          40.7724134,
          40.7870755,
          40.7177532,
          40.7032145,
          40.6275972,
          40.616362,
          40.6469074,
          40.6364883,
          40.6825078,
          40.7124378,
          40.88421,
          40.6774758,
          40.7568949,
          40.8840056,
          40.6147447,
          40.692252,
          40.7513773,
          40.6643142,
          40.6626119,
          40.6364966,
          40.6255182,
          40.8839377,
          40.8838316,
          40.8836472,
          40.6931207,
          40.72469,
          40.7308205,
          40.763311,
          40.7647235,
          40.6238122,
          40.8834844,
          40.637225,
          40.8834425,
          40.6203675,
          40.8838822,
          40.8836148,
          40.8015325,
          40.6605775,
          40.6599113,
          40.6635409,
          40.6634449,
          40.6378095,
          40.8842272,
          40.6388413,
          40.6935187,
          40.7437503,
          40.7936814,
          40.6248846,
          40.7005368,
          40.6584433,
          40.6568157,
          40.6992668,
          40.6899093,
          40.655947,
          40.6188935,
          40.614729,
          40.6369562,
          40.6821264,
          40.6757133,
          40.7596204,
          40.7584348,
          40.6706984,
          40.5868115,
          40.5992048,
          40.586702,
          40.885243,
          40.8832332,
          40.7039013,
          40.6113554,
          40.6114921,
          40.6114076,
          40.6115361,
          40.6114516,
          40.6116269,
          40.6115424,
          40.6116736,
          40.6115891,
          40.6116332,
          40.6117203,
          40.6117643,
          40.6117212,
          40.6118111,
          40.7856991,
          40.8767321,
          40.797342,
          40.7972012,
          40.7210397,
          40.7966024,
          40.7966708,
          40.7964043,
          40.7967392,
          40.7968076,
          40.7820791,
          40.771344,
          40.7220594,
          40.6359447,
          40.7807689,
          40.6973271,
          40.6357251,
          40.6148422,
          40.8208141,
          40.6355799,
          40.8624975,
          40.6354506,
          40.5783146,
          40.6517449,
          40.6914959,
          40.7032618,
          40.6796522,
          40.6764125,
          40.6900848,
          40.638845,
          40.6386809,
          40.6385743,
          40.7919069,
          40.6360499,
          40.6724866,
          40.8330777,
          40.6124264,
          40.6358807,
          40.6384842,
          40.6384432,
          40.6386103,
          40.6384022,
          40.6383448,
          40.6368151,
          40.6365921,
          40.6382628,
          40.6379413,
          40.6381589,
          40.6378784,
          40.6381415,
          40.6377992,
          40.6380126,
          40.6379621,
          40.6376379,
          40.6378828,
          40.6648241,
          40.6379945,
          40.6378684,
          40.6375368,
          40.6373148,
          40.6374183,
          40.6375731,
          40.6370955,
          40.6372269,
          40.6370574,
          40.6373899,
          40.6372751,
          40.6372013,
          40.6369508,
          40.6368907,
          40.6370945,
          40.6370206,
          40.6369329,
          40.6367401,
          40.8394753,
          40.6716608,
          40.833607,
          40.6125744,
          40.6105278,
          40.6888386,
          40.6951452,
          40.7367936,
          40.7499433,
          40.6085938,
          40.6108395,
          40.6800279,
          40.690571,
          40.6754757,
          40.5868171,
          40.5923027,
          40.5920669,
          40.5867684,
          40.7846676,
          40.5829965,
          40.7155876,
          40.7780125,
          40.7540578,
          40.7540522,
          40.65498,
          40.6806969,
          40.6333428,
          40.722282,
          40.7070993,
          40.6333578,
          40.6079717,
          40.7623825,
          40.6487622,
          40.8472341,
          40.7225568,
          40.6835799,
          40.6501262,
          40.6175253,
          40.6326727,
          40.84908,
          40.8397183,
          40.7164942,
          40.607431,
          40.6694368,
          40.5829718,
          40.7222142,
          40.7745174,
          40.7772803,
          40.6115869,
          40.6107223,
          40.6149551,
          40.8655978,
          40.6067342,
          40.6176169,
          40.6294517,
          40.6099757,
          40.6623972,
          40.6764814,
          40.6855269,
          40.5924646,
          40.5868479,
          40.5867741,
          40.586964,
          40.7832346,
          40.6064245,
          40.6987411,
          40.7052887,
          40.5803687,
          40.5943823,
          40.6824774,
          40.6140452,
          40.5944482,
          40.7310917,
          40.6156766,
          40.6940156,
          40.6302063,
          40.5945168,
          40.7076528,
          40.7076774,
          40.7076855,
          40.7076936,
          40.7076687,
          40.7076768,
          40.7076849,
          40.707693,
          40.7077011,
          40.6782274,
          40.6728156,
          40.7817208,
          40.6188407,
          40.6072529,
          40.6824337,
          40.6870085,
          40.6727307,
          40.6841789,
          40.6841259,
          40.6060456,
          40.5923714,
          40.5868919,
          40.8831333,
          40.781708,
          40.658956,
          40.8451038,
          40.7886808,
          40.7097729,
          40.6687441,
          40.6637927,
          40.81537,
          40.6109763,
          40.6786409,
          40.8393834,
          40.7104013,
          40.6219778,
          40.577609,
          40.7241106,
          40.6758713,
          40.6060299,
          40.6101898,
          40.7107728,
          40.6864607,
          40.6277901,
          40.7060225,
          40.6909412,
          40.6980845,
          40.5869791,
          40.5868695,
          40.5920562,
          40.6065631,
          40.6912414,
          40.8386329,
          40.7843395,
          40.7846633,
          40.7635213,
          40.6928435,
          40.8391125,
          40.7189731,
          40.7190523,
          40.6245104,
          40.8400078,
          40.6067094,
          40.5997979,
          40.6034019,
          40.5774333,
          40.6844012,
          40.712286,
          40.7191204,
          40.6963059,
          40.8226396,
          40.6038001,
          40.5998184,
          40.6020009,
          40.5811229,
          40.70776,
          40.6084029,
          40.6035424,
          40.7136896,
          40.6511964,
          40.7136549,
          40.7142676,
          40.7143029,
          40.756719,
          40.8514583,
          40.6248971,
          40.6655543,
          40.5918056,
          40.8865219,
          40.888389,
          40.7393077,
          40.5927033,
          40.5869847,
          40.5924456,
          40.5922454,
          40.5869829,
          40.8827961,
          40.7755262,
          40.771367,
          40.5743914,
          40.6208352,
          40.5982231,
          40.6925698,
          40.7496589,
          40.7548936,
          40.6205869,
          40.6149162,
          40.6980989,
          40.6741551,
          40.6124016,
          40.7639838,
          40.7556014,
          40.7571003,
          40.6202203,
          40.8330726,
          40.6718123,
          40.6042253,
          40.7538747,
          40.7563155,
          40.8566119,
          40.7115281,
          40.5986908,
          40.8937768,
          40.5870642,
          40.5869547,
          40.5923689,
          40.6068245,
          40.7799631,
          40.7463102,
          40.7462937,
          40.7462772,
          40.6892057,
          40.718229,
          40.7295965,
          40.7707211,
          40.7586213,
          40.7592944,
          40.6460815,
          40.8102126,
          40.8084413,
          40.6194018,
          40.8315204,
          40.6625337,
          40.604291,
          40.6925113,
          40.7653179,
          40.7337444,
          40.856957,
          40.673558,
          40.7073561,
          40.5871821,
          40.592517,
          40.8831197,
          40.7686466,
          40.6054728,
          40.7117855,
          40.6872605,
          40.6713589,
          40.8139956,
          40.6571681,
          40.6057865,
          40.6644003,
          40.6598169,
          40.6131385,
          40.5961996,
          40.6138866,
          40.8096251,
          40.7221645,
          40.5924403,
          40.7773345,
          40.5870492,
          40.732169,
          40.7773866,
          40.6026595,
          40.782056,
          40.7652794,
          40.7662742,
          40.6690613,
          40.8563958,
          40.5973954,
          40.7708547,
          40.6744762,
          40.5997475,
          40.7331188,
          40.7096339,
          40.6038733,
          40.8554873,
          40.6580161,
          40.8561219,
          40.8181123,
          40.8125446,
          40.5872645,
          40.5925911,
          40.58704,
          40.5923526,
          40.5870548,
          40.587183,
          40.7134726,
          40.7739277,
          40.7708754,
          40.7678658,
          40.6007439,
          40.6006892,
          40.7643701,
          40.7642519,
          40.7641778,
          40.764112,
          40.6747978,
          40.6574946,
          40.6832799,
          40.7674527,
          40.6736088,
          40.8624049,
          40.6746516,
          40.8094245,
          40.8629955,
          40.5928574,
          40.5871755,
          40.8851408,
          40.7671041,
          40.7760373,
          40.7740111,
          40.6005468,
          40.776002,
          40.7617273,
          40.7757246,
          40.7673109,
          40.7672422,
          40.7652975,
          40.639489,
          40.7012505,
          40.7014922,
          40.8635319,
          40.8642632,
          40.6902174,
          40.7671576,
          40.8116078,
          40.5957081,
          40.5956504,
          40.5954719,
          40.6725644,
          40.5951203,
          40.5950599,
          40.5930055,
          40.5927669,
          40.5871671,
          40.58714,
          40.7134067,
          40.6856041,
          40.6779319,
          40.7705257,
          40.7688676,
          40.7777505,
          40.5946616,
          40.7145416,
          40.5945435,
          40.5944831,
          40.815367,
          40.6623349,
          40.730906,
          40.5888246,
          40.7159468,
          40.6422664,
          40.682844,
          40.5870492,
          40.592892,
          40.5929288,
          40.5872074,
          40.5926903,
          40.5875124,
          40.8681772,
          40.5930905,
          40.6335922,
          40.6485848,
          40.6480909,
          40.5857958,
          40.6609693,
          40.5921346,
          40.8674857,
          40.5854471,
          40.5930769,
          40.5872103,
          40.5873777,
          40.7606895,
          40.650337,
          40.6811406,
          40.6491032,
          40.6816227,
          40.6146869,
          40.6679927,
          40.5910249,
          40.590959,
          40.590926,
          40.5908271,
          40.5906568,
          40.5906239,
          40.5905579,
          40.8352813,
          40.5904206,
          40.6696016,
          40.5903217,
          40.5902558,
          40.5902201,
          40.661002,
          40.5772018,
          40.8678632,
          40.5772262,
          40.5929975,
          40.5872926,
          40.5874385,
          40.6784839,
          40.7623311,
          40.670444,
          40.5896543,
          40.5896213,
          40.5895554,
          40.6483452,
          40.5894894,
          40.5894537,
          40.5893878,
          40.5892889,
          40.6643052,
          40.7086319,
          40.5745061,
          40.5887092,
          40.5886268,
          40.5885088,
          40.8201435,
          40.5881187,
          40.6835715,
          40.5917262,
          40.7645958,
          40.58752,
          40.5931483,
          40.5874469,
          40.5873786,
          40.7614413,
          40.7672531,
          40.7671927,
          40.7610251,
          40.7635542,
          40.6862019,
          40.584877,
          40.5849371,
          40.5849699,
          40.8697646,
          40.7336017,
          40.5877314,
          40.6442521,
          40.8702539,
          40.5915717,
          40.7269381,
          40.5874319,
          40.5873468,
          40.5872644,
          40.5849432,
          40.584976,
          40.5850006,
          40.5850252,
          40.5850498,
          40.5850717,
          40.585099,
          40.57824,
          40.5871792,
          40.5916294,
          40.5870968,
          40.5869733,
          40.5869292,
          40.5868441,
          40.591687,
          40.5864816,
          40.8700854,
          40.5864101,
          40.5917447,
          40.5875312,
          40.5928304,
          40.6835578,
          40.5873102,
          40.7567417,
          40.7594084,
          40.6969263,
          40.6583825,
          40.615496,
          40.5851136,
          40.7081543,
          40.5851464,
          40.585171,
          40.5851956,
          40.5852202,
          40.585242,
          40.5852694,
          40.8728211,
          40.6885004,
          40.6884647,
          40.5919149,
          40.7032406,
          40.6884455,
          40.5852865,
          40.5853111,
          40.5853384,
          40.5853603,
          40.5853849,
          40.5854122,
          40.5919918,
          40.6884071,
          40.6883878,
          40.587532,
          40.5873927,
          40.7558593,
          40.7549236,
          40.7548687,
          40.7548165,
          40.7606681,
          40.6576902,
          40.5853936,
          40.5854183,
          40.5854429,
          40.5854647,
          40.5854893,
          40.8751732,
          40.6338782,
          40.5920494,
          40.693363,
          40.8737386,
          40.8841052,
          40.6427418,
          40.6403889,
          40.8718754,
          40.5921071,
          40.5855173,
          40.5855775,
          40.5856048,
          40.5921647,
          40.9025929,
          40.7548648,
          40.7154028,
          40.8368811,
          40.7580829,
          40.5922224,
          40.6757614,
          40.5962372,
          40.6835441,
          40.5874722,
          40.771131,
          40.6663017,
          40.6685988,
          40.6853993,
          40.6757065,
          40.6591647,
          40.6584538,
          40.6755966,
          40.5932911,
          40.7562256,
          40.7514069,
          40.6684772,
          40.6943917,
          40.65925,
          40.8805947,
          40.8806634,
          40.8807156,
          40.8809441,
          40.8809963,
          40.8810458,
          40.881098,
          40.8811639,
          40.6704396,
          40.8095059,
          40.7131063,
          40.8303968,
          40.779904,
          40.7126368,
          40.5932145,
          40.5876359,
          40.6835166,
          40.736903,
          40.5875817,
          40.8850247,
          40.5882697,
          40.5880362,
          40.5878027,
          40.7532795,
          40.7526038,
          40.7525433,
          40.6363472,
          40.7412692,
          40.6363499,
          40.8815238,
          40.8889505,
          40.8890138,
          40.8806503,
          40.8810755,
          40.7124463,
          40.6920871,
          40.8815199,
          40.5933598,
          40.5877538,
          40.5931213,
          40.5876388,
          40.5928442,
          40.587563,
          40.5803962,
          40.5881268,
          40.5878961,
          40.7633716,
          40.7623459,
          40.7554275,
          40.881808,
          40.8799268,
          40.6151726,
          40.6364234,
          40.8430785,
          40.8825075,
          40.8430619,
          40.912257,
          40.8576207,
          40.5878333,
          40.5877623,
          40.5930446,
          40.5876397,
          40.587533,
          40.5878768,
          40.754907,
          40.7528211,
          40.7487566,
          40.7508728,
          40.7514777,
          40.5789814,
          40.6826199,
          40.6100742,
          40.6818391,
          40.587954,
          40.5877848,
          40.5876752,
          40.5876481,
          40.5882009,
          40.765014,
          40.6706532,
          40.6532972,
          40.5931133,
          40.5877634,
          40.5876154,
          40.5878489,
          40.7654701,
          40.6529867,
          40.6446999,
          40.7017284,
          40.6530278,
          40.6530716,
          40.5921183,
          40.5861994,
          40.5916,
          40.5862602,
          40.5913559,
          40.8877924,
          40.5880364,
          40.5935026,
          40.5878064,
          40.706223,
          40.7458595,
          40.7646602,
          40.7608671,
          40.74658,
          40.7459003,
          40.7477001,
          40.6531044,
          40.5764422,
          40.6597926,
          40.6533465,
          40.6531317,
          40.6598751,
          40.6972288,
          40.893769,
          40.7987273,
          40.6706128,
          40.5879467,
          40.5878399,
          40.8849115,
          40.7695775,
          40.7450608,
          40.8939505,
          40.658591,
          40.6403244,
          40.6585965,
          40.5888624,
          40.5878483,
          40.7503264,
          40.7718086,
          40.7593225,
          40.7590371,
          40.7586143,
          40.7602007,
          40.7447722,
          40.6642643,
          40.8135113,
          40.7111353,
          40.588097,
          40.5934974,
          40.5879711,
          40.5879251,
          40.5878541,
          40.6829375,
          40.7625608,
          40.7624565,
          40.7623521,
          40.7566575,
          40.7581925,
          40.7604787,
          40.7583166,
          40.6711494,
          40.6511004,
          40.6510538,
          40.6510126,
          40.6509687,
          40.6756135,
          40.623897,
          40.6613073,
          40.6389702,
          40.7461219,
          40.5936455,
          40.5934042,
          40.588043,
          40.5879424,
          40.6484712,
          40.824527,
          40.8523125,
          40.6689442,
          40.6827425,
          40.6881546,
          40.6603176,
          40.5881795,
          40.5936045,
          40.5880151,
          40.8848148,
          40.587978,
          40.6984685,
          40.739611,
          40.7407441,
          40.5932192,
          40.7601107,
          40.7469482,
          40.7468796,
          40.7468138,
          40.7467451,
          40.7466079,
          40.7552826,
          40.7465393,
          40.7464707,
          40.7585669,
          40.7532737,
          40.8538457,
          40.6639261,
          40.7035335,
          40.5937526,
          40.5881741,
          40.5934756,
          40.5880591,
          40.7176442,
          40.7533764,
          40.7593601,
          40.7517165,
          40.7577174,
          40.6640788,
          40.7237189,
          40.67407,
          40.6705661,
          40.5881386,
          40.5934044,
          40.7108718,
          40.5881999,
          40.7409446,
          40.740947,
          40.6814994,
          40.6330958,
          40.7109365,
          40.6552218,
          40.6552793,
          40.5882538,
          40.5935497,
          40.5880687,
          40.5880158,
          40.9065837,
          40.6553231,
          40.905848,
          40.9059001,
          40.9059522,
          40.9056844,
          40.9067867,
          40.6885543,
          40.6553669,
          40.6554107,
          40.664218,
          40.6554545,
          40.6740822,
          40.6554983,
          40.5883333,
          40.5938133,
          40.5882238,
          40.588255,
          40.5881016,
          40.69491,
          40.6555421,
          40.6624538,
          40.6555859,
          40.6548615,
          40.6556297,
          40.7055248,
          40.6549053,
          40.6556817,
          40.6543335,
          40.6549491,
          40.5863912,
          40.7360691,
          40.7456356,
          40.5939614,
          40.5883389,
          40.5882294,
          40.5892957,
          40.5880926,
          40.7492448,
          40.738134,
          40.6637705,
          40.6549929,
          40.6544239,
          40.6550367,
          40.6544951,
          40.6550806,
          40.7556188,
          40.6551271,
          40.6551709,
          40.6753169,
          40.5883117,
          40.5883646,
          40.6609416,
          40.5883841,
          40.5882279,
          40.5883946,
          40.6492714,
          40.7429107,
          40.7373865,
          40.7339503,
          40.7345491,
          40.6429614,
          40.6552147,
          40.6459234,
          40.5946499,
          40.5885012,
          40.8411211,
          40.6545551,
          40.8132161,
          40.6234391,
          40.5884268,
          40.5894137,
          40.5883702,
          40.5883266,
          40.7419154,
          40.7135419,
          40.8261552,
          40.6760015,
          40.7295747,
          40.6925274,
          40.6791182,
          40.5884624,
          40.5939561,
          40.588562,
          40.5883131,
          40.7415276,
          40.7455493,
          40.7472062,
          40.72831,
          40.7292243,
          40.684407,
          40.6843713,
          40.588627,
          40.5885092,
          40.7125752,
          40.5883187,
          40.5882845,
          40.7448921,
          40.8283821,
          40.5806997,
          40.6583059,
          40.5940248,
          40.5886444,
          40.5885349,
          40.588505,
          40.7062173,
          40.8876874,
          40.5885892,
          40.727298,
          40.6751568,
          40.8160268,
          40.5941783,
          40.5938986,
          40.5886528,
          40.5885405,
          40.5885079,
          40.7273355,
          40.7125094,
          40.588397,
          40.7489689,
          40.7403731,
          40.7487184,
          40.6369788,
          40.6770278,
          40.5940989,
          40.5887295,
          40.5884395,
          40.7061624,
          40.6974997,
          40.7415352,
          40.741367,
          40.7271172,
          40.8056671,
          40.6172845,
          40.6754961,
          40.6511382,
          40.6529279,
          40.6998243,
          40.6922215,
          40.5942498,
          40.5887352,
          40.7010547,
          40.5884863,
          40.7381997,
          40.7425788,
          40.7485135,
          40.7438157,
          40.6923011,
          40.8063034,
          40.692356,
          40.6366837,
          40.7049698,
          40.6332766,
          40.5887539,
          40.5887165,
          40.7061212,
          40.5887839,
          40.7401596,
          40.7105479,
          40.6321372,
          40.6586925,
          40.6612953,
          40.6983227,
          40.5865118,
          40.5862846,
          40.5917098,
          40.5940414,
          40.5887211,
          40.7967718,
          40.5887081,
          40.5885687,
          40.717936,
          40.7246797,
          40.7125398,
          40.8166877,
          40.8186544,
          40.8496286,
          40.6583714,
          40.8148224,
          40.6645488,
          40.6423485,
          40.6435124,
          40.5968335,
          40.643463,
          40.6471342,
          40.5942418,
          40.5888971,
          40.5887848,
          40.7060773,
          40.6827536,
          40.7251099,
          40.7377345,
          40.7252184,
          40.6434136,
          40.6433148,
          40.5970641,
          40.6756664,
          40.6455424,
          40.5943926,
          40.5889954,
          40.6880433,
          40.5886538,
          40.7139154,
          40.7369648,
          40.5981977,
          40.5981605,
          40.6870431,
          40.6764448,
          40.8130101,
          40.7022618,
          40.588927,
          40.5888841,
          40.5887306,
          40.7317433,
          40.6962775,
          40.7250127,
          40.7249567,
          40.7249237,
          40.9124086,
          40.9124882,
          40.6312147,
          40.9126067,
          40.6311735,
          40.6311351,
          40.6310939,
          40.6584009,
          40.6871223,
          40.6701072,
          40.594464,
          40.5889326,
          40.5888485,
          40.5887857,
          40.7183435,
          40.7082746,
          40.6612594,
          40.6871578,
          40.7246095,
          40.5900243,
          40.5890121,
          40.5889524,
          40.887599,
          40.7169065,
          40.7464255,
          40.5891218,
          40.6787437,
          40.7151913,
          40.7131597,
          40.6576435,
          40.589204,
          40.5891059,
          40.5890375,
          40.7042736,
          40.7357585,
          40.7114661,
          40.6442141,
          40.6597467,
          40.5946096,
          40.5892097,
          40.5891002,
          40.6787353,
          40.7371579,
          40.7139759,
          40.6374243,
          40.5892892,
          40.590112,
          40.5892322,
          40.5890983,
          40.732556,
          40.7314346,
          40.7362002,
          40.7245082,
          40.683911,
          40.6192456,
          40.6580341,
          40.5864764,
          40.5918745,
          40.8854006,
          40.5946783,
          40.6894713,
          40.5913473,
          40.7053302,
          40.8193116,
          40.684553,
          40.6477839,
          40.6577963,
          40.6477317,
          40.640274,
          40.5893744,
          40.5946016,
          40.5912978,
          40.7288165,
          40.884631,
          40.6476904,
          40.6476492,
          40.6476053,
          40.8246904,
          40.6956289,
          40.5893772,
          40.5914104,
          40.702976,
          40.6475641,
          40.814664,
          40.8680424,
          40.6475228,
          40.6981505,
          40.6474816,
          40.6474212,
          40.6334308,
          40.6582906,
          40.5894568,
          40.5893998,
          40.6473415,
          40.6876138,
          40.6899893,
          40.6472838,
          40.6596754,
          40.6596863,
          40.6471986,
          40.6357817,
          40.8220384,
          40.6471574,
          40.8818728,
          40.6982729,
          40.881848,
          40.647075,
          40.697343,
          40.6984005,
          40.7276327,
          40.6470338,
          40.6469733,
          40.6659581,
          40.6393991,
          40.6786307,
          40.6659086,
          40.5949886,
          40.5894353,
          40.5906119,
          40.885476,
          40.630443,
          40.6325719,
          40.6731657,
          40.8874775,
          40.6973622,
          40.7056332,
          40.6303627,
          40.6323905,
          40.6900462,
          40.8410498,
          40.589586,
          40.5915913,
          40.7227899,
          40.7038314,
          40.7040739,
          40.7149028,
          40.7228799,
          40.5895999,
          40.6973814,
          40.7349067,
          40.7062632,
          40.7061945,
          40.7061258,
          40.7060572,
          40.7059857,
          40.7059225,
          40.7093505,
          40.6873246,
          40.5922913,
          40.586482,
          40.591784,
          40.5864717,
          40.5915345,
          40.6523533,
          40.6818412,
          40.6825884,
          40.7093884,
          40.7093446,
          40.709298,
          40.6532266,
          40.661639,
          40.6744538,
          40.8473062,
          40.882038,
          40.5903753,
          40.8846961,
          40.6974006,
          40.715114,
          40.7382772,
          40.635569,
          40.610511,
          40.7664157,
          40.6863171,
          40.6734485,
          40.6545554,
          40.8829259,
          40.5907407,
          40.8220464,
          40.8120883,
          40.8874139,
          40.6031298,
          40.6974334,
          40.698295,
          40.6982874,
          40.6982318,
          40.6982215,
          40.6981742,
          40.6981584,
          40.698122,
          40.6980925,
          40.6980726,
          40.6980287,
          40.6980266,
          40.6979848,
          40.6979717,
          40.6979409,
          40.6979278,
          40.7287932,
          40.6978839,
          40.6978372,
          40.7213978,
          40.7001349,
          40.6994574,
          40.6991294,
          40.6982273,
          40.6977936,
          40.6144054,
          40.5900059,
          40.884739,
          40.6970026,
          40.6809868,
          40.7189648,
          40.6933098,
          40.6986867,
          40.6095338,
          40.8290425,
          40.6599459,
          40.6729525,
          40.7043079,
          40.7166373,
          40.7031808,
          40.7187632,
          40.7008867,
          40.6422106,
          40.635858,
          40.884554,
          40.7591045,
          40.7021604,
          40.5905343,
          40.7272138,
          40.6901876,
          40.7393002,
          40.6980959,
          40.7107836,
          40.7047168,
          40.6713105,
          40.8842936,
          40.5908477,
          40.7642194,
          40.7642083,
          40.7641834,
          40.7640543,
          40.7082089,
          40.7102215,
          40.7246405,
          40.7152996,
          40.6938402,
          40.5905782,
          40.8873476,
          40.7113566,
          40.7267013,
          40.7060916,
          40.6226392,
          40.6038458,
          40.5916991,
          40.7885014,
          40.8843741,
          40.5909108,
          40.6756087,
          40.6829029,
          40.7362277,
          40.7362413,
          40.7401266,
          40.7004642,
          40.7385884,
          40.5999741,
          40.599966,
          40.8199572,
          40.5999443,
          40.5906193,
          40.6927114,
          40.6953091,
          40.6868815,
          40.6853121,
          40.6868156,
          40.8201583,
          40.5999527,
          40.8422691,
          40.8218069,
          40.5909519,
          40.6937291,
          40.705591,
          40.8331713,
          40.6621289,
          40.5906632,
          40.6859591,
          40.6438464,
          40.7166811,
          40.6910485,
          40.6939504,
          40.6965318,
          40.6774969,
          40.7432201,
          40.7443643,
          40.6801648,
          40.8872813,
          40.6816456,
          40.7630458,
          40.7420077,
          40.7420268,
          40.6708814,
          40.5910342,
          40.6576406,
          40.7185573,
          40.7429706,
          40.8226453,
          40.6889133,
          40.6910808,
          40.5907592,
          40.7315888,
          40.6855929,
          40.6918156,
          40.6871963,
          40.6323978,
          40.6587293,
          40.755619,
          40.7111063,
          40.745284,
          40.8230634,
          40.8430826,
          40.7590192,
          40.729677,
          40.6028585,
          40.8059028,
          40.8887459,
          40.6345644
         ],
         "lon": [
          -73.7749032,
          -73.861762,
          -73.8647929,
          -73.8643718,
          -73.9042302,
          -73.9503649,
          -73.944498,
          -73.9607207,
          -73.8728387,
          -73.8880859,
          -73.9176921,
          -73.9250784,
          -74.0053968,
          -73.9258171,
          -73.9550947,
          -73.9351826,
          -73.9255391,
          -73.919612,
          -73.8057683,
          -73.8517088,
          -73.7675566,
          -73.9860883,
          -73.9249173,
          -73.9287316,
          -73.8668235,
          -73.8407177,
          -73.7498218,
          -73.8271849,
          -73.9241399,
          -73.9235075,
          -73.9238102,
          -73.9208967,
          -73.808403,
          -73.9642754,
          -73.8580231,
          -73.8670267,
          -73.9189204,
          -73.9234209,
          -73.9236336,
          -73.9248452,
          -73.924538,
          -73.8281419,
          -73.8522517,
          -73.8669537,
          -73.818983,
          -73.9972023,
          -73.9239073,
          -73.9245126,
          -73.8559862,
          -73.8406567,
          -73.8559056,
          -73.8592739,
          -73.8439987,
          -73.8620431,
          -73.8985742,
          -73.9231218,
          -73.9239794,
          -73.9243288,
          -73.9247767,
          -73.8578816,
          -73.790835,
          -73.9559585,
          -73.8115978,
          -73.960098,
          -73.9193359,
          -73.8530713,
          -73.8551933,
          -73.8530712,
          -73.9936726,
          -73.8531216,
          -73.9230928,
          -73.9236981,
          -73.9239972,
          -73.8074873,
          -73.984931,
          -74.0119166,
          -73.8963794,
          -74.0153777,
          -73.9235647,
          -73.924725,
          -73.8629528,
          -73.862877,
          -73.8627039,
          -73.7983386,
          -73.9403607,
          -73.9234926,
          -73.9240907,
          -73.989457,
          -73.8220193,
          -73.8370534,
          -73.7967684,
          -73.8088076,
          -73.8087645,
          -73.8087251,
          -73.9295134,
          -73.9241665,
          -73.9245159,
          -73.9246434,
          -73.9248653,
          -73.8302322,
          -73.8559409,
          -73.8571041,
          -73.7843516,
          -73.8566868,
          -73.8536856,
          -73.8534272,
          -73.7980911,
          -73.8570102,
          -73.8006635,
          -73.8569163,
          -73.7842619,
          -73.8568224,
          -73.8567285,
          -73.7842152,
          -73.7841685,
          -73.8540506,
          -73.8569909,
          -73.8569115,
          -73.8565443,
          -73.8567562,
          -73.8565973,
          -73.8568999,
          -73.9235861,
          -73.9238852,
          -73.956318,
          -73.7598371,
          -73.7947587,
          -73.7614307,
          -73.9581393,
          -73.9252543,
          -73.919097,
          -73.9258416,
          -73.9200691,
          -73.9204761,
          -73.8018189,
          -73.8078462,
          -73.8127941,
          -73.9499219,
          -73.9498714,
          -73.9498279,
          -73.9497773,
          -73.9498245,
          -73.9497739,
          -73.9497268,
          -73.9496763,
          -73.9497234,
          -73.9496765,
          -73.9496258,
          -73.9495753,
          -73.949626,
          -73.9495791,
          -73.9495247,
          -73.9494742,
          -73.9495286,
          -73.9494781,
          -73.9494237,
          -73.9493732,
          -73.9493806,
          -73.9493263,
          -73.9492758,
          -73.9493337,
          -73.9492832,
          -73.9492327,
          -73.9491858,
          -73.9491353,
          -73.9490883,
          -73.745726,
          -73.9334203,
          -73.7458883,
          -73.746047,
          -73.747722,
          -73.7466747,
          -73.7468334,
          -73.7473132,
          -73.8753423,
          -73.9423749,
          -73.8560358,
          -73.9540862,
          -73.9245768,
          -74.033118,
          -73.8507586,
          -73.8531407,
          -73.8529782,
          -73.8748759,
          -73.86209,
          -73.8748184,
          -73.8747608,
          -73.8746961,
          -73.8718086,
          -73.874635,
          -73.9234959,
          -73.9237518,
          -73.9241012,
          -73.9246562,
          -73.9782263,
          -73.853978,
          -73.8399814,
          -73.8745775,
          -73.9071513,
          -73.87452,
          -73.9383266,
          -73.9246308,
          -73.904688,
          -73.8316434,
          -73.762644,
          -73.9488077,
          -73.9238884,
          -73.9247964,
          -73.8319145,
          -73.8544558,
          -73.8357968,
          -73.7875131,
          -73.8544733,
          -73.8540614,
          -73.853917,
          -73.8538483,
          -73.8197837,
          -73.836294,
          -73.7621223,
          -73.7574586,
          -73.8526113,
          -73.8535868,
          -73.8804382,
          -73.8919761,
          -73.9241657,
          -73.9593732,
          -73.7859668,
          -73.9236793,
          -73.923982,
          -73.9245369,
          -73.92489,
          -73.924366,
          -73.9232179,
          -73.850766,
          -74.0047481,
          -73.9222608,
          -73.9236575,
          -73.9239566,
          -73.9246015,
          -73.924861,
          -73.9251636,
          -73.9079714,
          -73.8375216,
          -73.8235993,
          -73.7511594,
          -73.762707,
          -73.9456421,
          -73.9215092,
          -73.923751,
          -73.9592325,
          -73.9249545,
          -73.9252571,
          -73.759694,
          -73.7722222,
          -73.9530254,
          -73.9541664,
          -73.9189096,
          -73.9253226,
          -73.8061331,
          -73.9799188,
          -73.8489425,
          -73.924169,
          -73.9244717,
          -73.7955785,
          -73.9541556,
          -73.9541448,
          -73.9583817,
          -73.9161178,
          -73.9930281,
          -73.8735743,
          -73.7620447,
          -73.8452527,
          -73.7559854,
          -73.9619186,
          -73.821246,
          -73.7941832,
          -73.8724027,
          -73.8462368,
          -73.9930534,
          -73.9489392,
          -73.9241918,
          -73.8134984,
          -73.9460761,
          -73.9271534,
          -73.8079299,
          -73.9241364,
          -73.8134173,
          -73.9045771,
          -73.7725109,
          -73.9929382,
          -73.9235441,
          -73.9235369,
          -73.8767536,
          -73.9241133,
          -73.9623261,
          -73.8113379,
          -73.8766817,
          -73.9459724,
          -73.9255964,
          -73.9195794,
          -73.9259244,
          -73.9262523,
          -73.9205696,
          -73.7455907,
          -73.7553684,
          -73.9621821,
          -73.7931401,
          -73.9275488,
          -73.8053668,
          -73.8067103,
          -73.8324821,
          -73.9011025,
          -73.919282,
          -73.8922938,
          -73.8342859,
          -73.8053485,
          -73.8092992,
          -73.9990922,
          -73.9868269,
          -73.9531498,
          -73.8236222,
          -73.8325937,
          -73.8304999,
          -73.7786112,
          -73.8073189,
          -73.7605337,
          -73.7473606,
          -73.9267794,
          -74.0074309,
          -73.9005632,
          -73.953778,
          -73.99411,
          -73.7704774,
          -73.8397646,
          -73.7452119,
          -73.7443665,
          -73.8192212,
          -74.0096098,
          -73.9002423,
          -73.9004769,
          -73.9001811,
          -73.8266238,
          -73.9303649,
          -73.7455699,
          -73.9190031,
          -73.9194029,
          -73.9197955,
          -73.920321,
          -73.8343042,
          -73.7476915,
          -73.8538816,
          -73.8501261,
          -73.9281175,
          -73.7983522,
          -73.9459285,
          -73.8143776,
          -73.9959688,
          -73.9710477,
          -73.9661011,
          -73.9511863,
          -73.8011886,
          -73.8166677,
          -73.797761,
          -73.9064081,
          -73.8220571,
          -73.7969877,
          -73.9600771,
          -73.808877,
          -73.8146441,
          -73.7486527,
          -73.7459053,
          -73.8883063,
          -73.9268563,
          -73.795827,
          -73.7963807,
          -73.7960847,
          -73.808618,
          -73.8198269,
          -73.8225814,
          -73.8213252,
          -73.8206789,
          -73.9985014,
          -73.7956006,
          -73.8866441,
          -73.7951921,
          -74.0018443,
          -73.7955234,
          -73.7948697,
          -73.9636782,
          -73.7558502,
          -73.7510878,
          -73.7659283,
          -73.7659827,
          -73.9835951,
          -73.7966073,
          -73.9821932,
          -73.8036909,
          -73.8202915,
          -73.9464447,
          -73.9320697,
          -73.8067826,
          -73.7603273,
          -73.7513228,
          -73.8056575,
          -73.7973767,
          -73.7507169,
          -74.002417,
          -73.9481694,
          -73.9420738,
          -73.8917417,
          -74.0004254,
          -73.8133505,
          -73.8117728,
          -73.92862,
          -73.919284,
          -73.9902953,
          -73.9196729,
          -73.8014684,
          -73.7947877,
          -73.9478693,
          -73.7483479,
          -73.7481312,
          -73.7483981,
          -73.7481635,
          -73.7484411,
          -73.7482316,
          -73.74852,
          -73.7482674,
          -73.7485595,
          -73.7486025,
          -73.7482997,
          -73.7483319,
          -73.7486886,
          -73.7483894,
          -73.8138949,
          -73.8845146,
          -73.815401,
          -73.8149318,
          -73.8131014,
          -73.8163854,
          -73.8162299,
          -73.816032,
          -73.8160744,
          -73.8159189,
          -73.8123921,
          -73.8138448,
          -73.8122724,
          -73.9447445,
          -73.8101354,
          -73.9077002,
          -73.9447195,
          -74.0049994,
          -73.8789898,
          -73.9453537,
          -73.8422696,
          -73.9446909,
          -73.9500084,
          -73.9539104,
          -73.7958682,
          -73.8015884,
          -73.7882863,
          -73.9369995,
          -73.9947065,
          -73.7447887,
          -73.7450704,
          -73.7452618,
          -73.8051018,
          -73.982194,
          -73.9108492,
          -73.8846192,
          -73.9554107,
          -73.8900801,
          -73.7454999,
          -73.7455758,
          -73.7442059,
          -73.745648,
          -73.7457563,
          -73.7466197,
          -73.7463178,
          -73.7459043,
          -73.745765,
          -73.7460921,
          -73.745877,
          -73.7444239,
          -73.746025,
          -73.7444965,
          -73.7464496,
          -73.7463175,
          -73.746594,
          -73.8385521,
          -73.7449758,
          -73.7450375,
          -73.7465124,
          -73.7467042,
          -73.7450716,
          -73.7455719,
          -73.7468096,
          -73.7454255,
          -73.7457324,
          -73.7459005,
          -73.7461207,
          -73.7462399,
          -73.745931,
          -73.7460681,
          -73.7463772,
          -73.7464531,
          -73.7465255,
          -73.7461984,
          -73.8641456,
          -73.7802331,
          -73.8841594,
          -73.9483368,
          -73.9657126,
          -73.9925215,
          -73.7951827,
          -73.8108236,
          -73.808877,
          -73.9824246,
          -73.9618011,
          -73.9380994,
          -73.7913167,
          -73.8779881,
          -73.9194964,
          -73.9257693,
          -73.9261476,
          -73.9204757,
          -73.7784879,
          -73.988044,
          -73.9593566,
          -73.8015715,
          -73.8056601,
          -73.8055843,
          -73.8396031,
          -73.781851,
          -73.9451178,
          -73.8058393,
          -73.7986013,
          -73.9422175,
          -73.9735651,
          -73.8023761,
          -73.9638551,
          -73.8179806,
          -73.9409207,
          -74.0009302,
          -73.8349947,
          -73.9225391,
          -73.9444122,
          -73.921261,
          -73.8519297,
          -73.98587,
          -73.9734609,
          -73.9216677,
          -73.9882708,
          -73.8014778,
          -73.7962781,
          -73.7956702,
          -74.0032127,
          -74.004059,
          -73.9209608,
          -73.8374392,
          -73.9753051,
          -73.9241382,
          -73.9839394,
          -74.0040194,
          -73.9113024,
          -73.9327309,
          -73.9520879,
          -73.9257115,
          -73.9203532,
          -73.9208034,
          -73.9215304,
          -73.8041486,
          -73.752861,
          -73.9016034,
          -73.7884357,
          -73.8304079,
          -73.7589693,
          -73.7714937,
          -73.9365577,
          -73.7589834,
          -73.7957289,
          -73.9955877,
          -73.9168138,
          -73.9412475,
          -73.7589976,
          -73.7844895,
          -73.7844137,
          -73.7843415,
          -73.7842694,
          -73.7841829,
          -73.7841071,
          -73.784035,
          -73.7839628,
          -73.7838906,
          -73.7641823,
          -73.9177415,
          -73.9485233,
          -73.9547076,
          -73.9496518,
          -73.9461735,
          -73.9296049,
          -73.9304636,
          -73.7632058,
          -73.7628238,
          -73.957529,
          -73.9258484,
          -73.920508,
          -73.7942094,
          -73.7795268,
          -73.8989661,
          -73.8680737,
          -73.9471926,
          -73.7792598,
          -73.761451,
          -73.912901,
          -73.8608494,
          -73.9360708,
          -73.9703609,
          -73.8653384,
          -74.0100203,
          -73.9851588,
          -73.9494978,
          -73.7802188,
          -73.9077803,
          -73.9407069,
          -73.9963732,
          -73.7698601,
          -73.7596568,
          -73.9781685,
          -73.767579,
          -73.7614689,
          -73.7627754,
          -73.919471,
          -73.91986,
          -73.9265293,
          -73.7509409,
          -73.7593475,
          -73.8817582,
          -73.9432095,
          -73.9430756,
          -73.7897994,
          -73.7589162,
          -73.8811068,
          -73.7707012,
          -73.7704917,
          -73.979697,
          -73.8815859,
          -73.9981525,
          -74.0054196,
          -74.0012964,
          -73.9494655,
          -73.9513099,
          -73.9601378,
          -73.7702317,
          -73.7582041,
          -73.8576186,
          -73.9442057,
          -73.980756,
          -73.960751,
          -73.9578148,
          -73.9412332,
          -73.9958475,
          -73.9447317,
          -73.9430569,
          -73.9238118,
          -73.7631335,
          -73.7634344,
          -73.763243,
          -73.7834573,
          -73.8592413,
          -73.9779065,
          -73.9158004,
          -73.9252189,
          -73.806224,
          -73.8133072,
          -73.9589813,
          -73.9255852,
          -73.9196834,
          -73.9259312,
          -73.9263419,
          -73.9210335,
          -73.7928832,
          -73.9023637,
          -73.8981241,
          -73.9868504,
          -73.9803609,
          -73.9775012,
          -73.9670551,
          -73.7759407,
          -73.7790164,
          -73.9091391,
          -74.0260378,
          -73.9865663,
          -73.8776624,
          -73.9886618,
          -73.7816901,
          -73.7774331,
          -73.7775544,
          -73.9801522,
          -73.8556918,
          -73.9277572,
          -73.9964707,
          -73.7744611,
          -73.7748282,
          -73.8518559,
          -73.9591643,
          -73.9701695,
          -73.8408064,
          -73.9195645,
          -73.9199535,
          -73.9262445,
          -73.7537671,
          -73.822909,
          -73.9471468,
          -73.9470602,
          -73.9469736,
          -73.9856342,
          -73.9543695,
          -73.9513851,
          -73.7768627,
          -73.7707777,
          -73.7710858,
          -73.9586602,
          -73.851952,
          -73.9497634,
          -73.906594,
          -73.8523888,
          -73.9103687,
          -73.9926354,
          -73.9128851,
          -73.766354,
          -73.7529589,
          -73.9060941,
          -73.7547212,
          -73.9404076,
          -73.9193735,
          -73.9260139,
          -73.7927411,
          -73.8779907,
          -73.7570817,
          -73.906479,
          -73.994339,
          -73.7506341,
          -73.8232953,
          -73.9526452,
          -73.9876401,
          -73.7516802,
          -73.7543824,
          -73.9103954,
          -73.9981348,
          -73.908806,
          -73.9302519,
          -73.9830585,
          -73.9263236,
          -73.8464683,
          -73.9216275,
          -73.9600537,
          -73.8464682,
          -73.759746,
          -73.7735713,
          -73.9274104,
          -73.8796556,
          -73.744291,
          -73.8951344,
          -73.9475635,
          -73.7535,
          -73.9102986,
          -73.9609504,
          -73.9852448,
          -73.9397167,
          -73.9120536,
          -73.8892508,
          -73.9524068,
          -73.8897775,
          -73.941143,
          -73.9497964,
          -73.9194671,
          -73.926093,
          -73.9202666,
          -73.9264642,
          -73.9218471,
          -73.9207237,
          -73.9549932,
          -73.9186889,
          -73.9146166,
          -73.9092306,
          -73.7612042,
          -73.761262,
          -73.88041,
          -73.8802658,
          -73.8802659,
          -73.880266,
          -73.9074718,
          -73.9522089,
          -73.9480224,
          -73.7441262,
          -73.8828078,
          -73.8691167,
          -73.9065599,
          -73.9300029,
          -73.8671452,
          -73.9261503,
          -73.9217678,
          -73.8010926,
          -73.9109392,
          -73.841189,
          -73.7986517,
          -73.7627858,
          -73.8414743,
          -73.891883,
          -73.8433127,
          -73.9237403,
          -73.9236971,
          -73.9102051,
          -73.9527623,
          -73.920249,
          -73.9496636,
          -73.8979937,
          -73.8993954,
          -73.9512407,
          -73.9127008,
          -73.9274863,
          -73.9286678,
          -73.928603,
          -73.9284016,
          -73.8788009,
          -73.9280094,
          -73.9279411,
          -73.9259125,
          -73.9262909,
          -73.9214474,
          -73.921937,
          -73.9550221,
          -73.9603087,
          -73.9785884,
          -73.9207798,
          -73.9203125,
          -73.9788523,
          -73.927495,
          -73.9586863,
          -73.9273655,
          -73.9273008,
          -73.8262613,
          -73.9909818,
          -73.9519326,
          -73.9389652,
          -73.9666071,
          -73.967761,
          -73.8716253,
          -73.9455015,
          -73.9943253,
          -73.9262295,
          -73.920234,
          -73.9265934,
          -73.9206909,
          -73.8963849,
          -73.925754,
          -73.9504246,
          -73.9516423,
          -73.9801331,
          -73.9474682,
          -73.9517847,
          -73.9246893,
          -73.8623493,
          -73.9363329,
          -73.9259917,
          -73.9204536,
          -73.9204282,
          -73.90732,
          -73.9420911,
          -73.9259264,
          -73.9509428,
          -73.9953237,
          -73.9461488,
          -73.8999762,
          -73.9235096,
          -73.9234376,
          -73.9233981,
          -73.9232901,
          -73.9230995,
          -73.9230635,
          -73.9229916,
          -73.912138,
          -73.9228333,
          -73.8585364,
          -73.9227254,
          -73.9226535,
          -73.9226139,
          -73.9512801,
          -73.984564,
          -73.8864534,
          -73.9822709,
          -73.926305,
          -73.9203311,
          -73.9210222,
          -73.9354617,
          -73.926753,
          -73.9396151,
          -73.9220241,
          -73.9219882,
          -73.9219126,
          -73.949956,
          -73.9218371,
          -73.9218011,
          -73.9217292,
          -73.9216177,
          -73.9861803,
          -73.9579794,
          -73.953107,
          -73.9208587,
          -73.9207688,
          -73.9207401,
          -73.9226465,
          -73.9201969,
          -74.0047089,
          -73.9255251,
          -73.9228734,
          -73.9197512,
          -73.9260744,
          -73.9212382,
          -73.9216811,
          -73.8829384,
          -73.9235382,
          -73.9235816,
          -73.9154595,
          -73.9210372,
          -73.9784992,
          -73.8222347,
          -73.8220473,
          -73.82195,
          -73.8476939,
          -73.9814318,
          -73.9198769,
          -73.9483988,
          -73.8636597,
          -73.794341,
          -73.9421688,
          -73.9194344,
          -73.9193445,
          -73.919251,
          -73.8224361,
          -73.8223496,
          -73.8222847,
          -73.8222199,
          -73.8221586,
          -73.8220937,
          -73.8220289,
          -73.9633676,
          -73.9191575,
          -73.7943444,
          -73.919064,
          -73.9190318,
          -73.918877,
          -73.9187835,
          -73.7943514,
          -73.9184887,
          -73.8774032,
          -73.9184096,
          -73.7943584,
          -73.920086,
          -73.9267517,
          -74.0046584,
          -73.9220521,
          -73.902929,
          -73.8759284,
          -73.9185773,
          -73.9910688,
          -74.0339874,
          -73.8225437,
          -73.9577669,
          -73.8224608,
          -73.8223959,
          -73.822331,
          -73.8222662,
          -73.8222049,
          -73.8221364,
          -73.8427838,
          -73.9862365,
          -73.9861392,
          -73.7943759,
          -73.9288412,
          -73.9860923,
          -73.8225504,
          -73.8224783,
          -73.8224135,
          -73.8223486,
          -73.8222837,
          -73.8222188,
          -73.7943829,
          -73.985995,
          -73.9859409,
          -73.9213317,
          -73.9222212,
          -73.8951916,
          -73.9016864,
          -73.9016757,
          -73.9016686,
          -73.9272169,
          -73.9232313,
          -73.8226185,
          -73.8225537,
          -73.8224924,
          -73.8224275,
          -73.8223626,
          -73.8387862,
          -73.9455533,
          -73.7943899,
          -73.9069087,
          -73.8748545,
          -73.910117,
          -73.9470739,
          -73.9457209,
          -73.8520316,
          -73.7943933,
          -73.8227118,
          -73.8225568,
          -73.8224776,
          -73.7944004,
          -73.8669395,
          -73.9671506,
          -73.9648975,
          -73.8197508,
          -73.8617127,
          -73.7944074,
          -73.8862145,
          -73.9862124,
          -74.0046115,
          -73.9220987,
          -73.7758829,
          -73.8997336,
          -73.8963236,
          -73.9905856,
          -73.8862002,
          -73.9902613,
          -73.9905966,
          -73.8861715,
          -73.9262327,
          -73.9207282,
          -73.9040773,
          -73.9854873,
          -73.9249056,
          -73.9494288,
          -73.8334898,
          -73.8335257,
          -73.8335582,
          -73.8340783,
          -73.8341071,
          -73.8341359,
          -73.8341647,
          -73.8342007,
          -73.8922725,
          -73.9161457,
          -73.9679359,
          -73.9065291,
          -73.7496065,
          -73.9674023,
          -73.926546,
          -73.9207195,
          -74.0045142,
          -73.9581817,
          -73.9216989,
          -73.8006373,
          -73.9243264,
          -73.9240818,
          -73.9238193,
          -73.8662199,
          -73.8681811,
          -73.8681487,
          -73.942831,
          -74.0044062,
          -73.9427589,
          -73.8760622,
          -73.81953,
          -73.8195986,
          -73.870408,
          -73.8702119,
          -73.9556251,
          -73.9406196,
          -73.8700193,
          -73.9263118,
          -73.9205394,
          -73.9266866,
          -73.9209356,
          -73.9270145,
          -73.9224082,
          -73.9461585,
          -73.9241789,
          -73.9239236,
          -73.7890057,
          -73.7939905,
          -73.9302437,
          -73.869932,
          -73.86654,
          -74.0324024,
          -73.9416131,
          -73.9045632,
          -73.8695581,
          -73.9044909,
          -73.8996158,
          -73.8959278,
          -73.9204133,
          -73.9208598,
          -73.9269891,
          -73.9222857,
          -73.9226891,
          -73.9237076,
          -73.9318649,
          -73.8639181,
          -73.8791062,
          -73.8666795,
          -73.862838,
          -74.0051335,
          -73.934697,
          -73.948879,
          -73.9279843,
          -73.9202367,
          -73.9216123,
          -73.9220084,
          -73.9225017,
          -73.9240637,
          -73.7750515,
          -73.9811285,
          -73.8773367,
          -73.9270682,
          -73.9224224,
          -73.922779,
          -73.9231424,
          -73.7616316,
          -73.8770381,
          -73.994011,
          -73.9167393,
          -73.8769047,
          -73.8768001,
          -73.9249342,
          -73.9193315,
          -73.9256224,
          -73.9199111,
          -73.9260044,
          -73.8110015,
          -73.9203266,
          -73.9264701,
          -73.9211262,
          -73.9608916,
          -73.8974232,
          -73.7655405,
          -73.7853317,
          -73.8843973,
          -73.8881735,
          -73.8692446,
          -73.8766883,
          -74.0093162,
          -73.9473703,
          -73.8772105,
          -73.876573,
          -73.9859974,
          -73.9083206,
          -73.8371678,
          -73.9328675,
          -73.9546616,
          -73.9215833,
          -73.921983,
          -73.8002325,
          -73.907943,
          -73.9142239,
          -73.8434066,
          -73.9488058,
          -73.9897849,
          -73.9487156,
          -73.9241637,
          -73.922199,
          -73.9427368,
          -73.9041093,
          -73.8010099,
          -73.8010468,
          -73.7901542,
          -73.80901,
          -73.8748189,
          -73.9374327,
          -73.8626921,
          -73.9668151,
          -73.9207082,
          -73.926859,
          -73.9210936,
          -73.9220765,
          -73.9226203,
          -74.0051415,
          -73.7616889,
          -73.7616604,
          -73.7616319,
          -73.8176794,
          -73.8030527,
          -73.7717315,
          -73.8083224,
          -73.9175273,
          -74.0105015,
          -74.0105483,
          -74.0105916,
          -74.0106384,
          -74.0153182,
          -74.0266141,
          -73.94645,
          -74.0188553,
          -74.0030748,
          -73.9266284,
          -73.9269995,
          -73.9218928,
          -73.9233475,
          -74.0072217,
          -73.9115271,
          -73.8930262,
          -73.8738942,
          -73.9331681,
          -73.9422385,
          -73.9090237,
          -73.9208017,
          -73.9269813,
          -73.9212483,
          -73.7998748,
          -73.9231782,
          -73.9353198,
          -73.9199289,
          -73.8866448,
          -73.7769769,
          -73.7648273,
          -73.9498855,
          -73.9499072,
          -73.9499289,
          -73.9499506,
          -73.949994,
          -73.8043896,
          -73.9500157,
          -73.9500374,
          -73.7709944,
          -73.8162413,
          -73.8918128,
          -73.8982052,
          -73.9154999,
          -73.9267507,
          -73.9210105,
          -73.9270786,
          -73.9214067,
          -73.9539983,
          -73.8052289,
          -73.760206,
          -73.8156682,
          -73.9607928,
          -73.9001767,
          -74.0092069,
          -73.8828719,
          -73.8840172,
          -73.9212806,
          -73.9273884,
          -73.9668982,
          -73.9225983,
          -73.9194293,
          -73.927076,
          -73.9751656,
          -74.0216963,
          -73.948715,
          -73.8752176,
          -73.8750805,
          -73.9211004,
          -73.9271614,
          -73.9234877,
          -73.9223825,
          -73.8512561,
          -73.8749795,
          -73.8469275,
          -73.846902,
          -73.8468766,
          -73.8456689,
          -73.8490163,
          -73.951808,
          -73.8748749,
          -73.8747739,
          -73.8992069,
          -73.8746693,
          -73.9622191,
          -73.8745647,
          -73.9209779,
          -73.9272115,
          -73.9213777,
          -73.9229727,
          -73.9233185,
          -73.9241332,
          -73.8744601,
          -73.9448163,
          -73.8743591,
          -73.8746128,
          -73.8742545,
          -73.9508616,
          -73.8745082,
          -73.8741319,
          -73.873702,
          -73.8744072,
          -73.9188164,
          -73.9594415,
          -73.955087,
          -73.9269845,
          -73.9211976,
          -73.9215973,
          -73.9236015,
          -73.9222636,
          -73.9875377,
          -73.9276781,
          -73.899085,
          -73.8743026,
          -73.8734964,
          -73.874198,
          -73.8733268,
          -73.8740934,
          -73.9988919,
          -73.8739924,
          -73.8738878,
          -73.960834,
          -73.9214748,
          -73.9225729,
          -73.9300578,
          -73.9231129,
          -73.9234588,
          -73.9222956,
          -73.9526797,
          -73.9129347,
          -73.8778603,
          -73.8947317,
          -73.8837831,
          -73.9413011,
          -73.8737832,
          -74.013643,
          -73.7830719,
          -73.9668868,
          -73.8704308,
          -73.8730168,
          -73.9152415,
          -74.0243408,
          -73.9212911,
          -73.923425,
          -73.9227853,
          -73.923257,
          -73.9595535,
          -73.9131642,
          -73.9486877,
          -73.9992573,
          -73.9791202,
          -73.932776,
          -73.9358793,
          -73.9211182,
          -73.9273698,
          -73.9222738,
          -73.9235523,
          -73.8557819,
          -73.7871855,
          -73.77797,
          -73.9043487,
          -73.8952443,
          -73.9799708,
          -73.9798771,
          -73.9209884,
          -73.9213846,
          -73.9555457,
          -73.9237683,
          -73.9219573,
          -73.8150699,
          -73.9065247,
          -73.8514311,
          -73.9026542,
          -73.9274489,
          -73.9223637,
          -73.9227599,
          -73.9232496,
          -73.9602171,
          -73.8105931,
          -73.921993,
          -73.8988805,
          -73.9582709,
          -73.9154727,
          -73.9272219,
          -73.9275499,
          -73.9225798,
          -73.9229723,
          -73.923462,
          -73.9467181,
          -73.9555854,
          -73.9217844,
          -73.8298848,
          -73.8522984,
          -73.7694764,
          -73.9493484,
          -73.8643756,
          -73.9275281,
          -73.9224573,
          -73.9238005,
          -73.9601883,
          -73.940503,
          -73.8066782,
          -73.8095079,
          -73.8874942,
          -73.9176062,
          -73.9196938,
          -73.9554046,
          -73.9229001,
          -73.9230061,
          -73.9517314,
          -73.9263396,
          -73.927301,
          -73.9226733,
          -73.9536311,
          -73.9239553,
          -73.8548111,
          -73.90623,
          -73.7605518,
          -73.9051276,
          -73.9262638,
          -73.9169697,
          -73.9262493,
          -73.9463076,
          -73.9093559,
          -74.0344036,
          -73.921964,
          -73.923487,
          -73.9601378,
          -73.9216903,
          -73.8080679,
          -73.9034544,
          -74.0027057,
          -73.989364,
          -73.8967279,
          -73.9346455,
          -73.9186291,
          -73.919425,
          -73.9257447,
          -73.9277082,
          -73.9221404,
          -73.9460593,
          -73.9231594,
          -73.9240488,
          -73.9058463,
          -73.9056491,
          -73.9024812,
          -73.9146915,
          -73.9093492,
          -73.9338065,
          -73.9896956,
          -73.9088486,
          -73.8917269,
          -73.9397234,
          -73.9258889,
          -73.8037231,
          -73.9258817,
          -73.90213,
          -73.9276899,
          -73.9226443,
          -73.9230369,
          -73.960091,
          -74.0044817,
          -73.8784853,
          -73.800681,
          -73.9031445,
          -73.9258782,
          -73.9258675,
          -73.8037476,
          -73.8621395,
          -73.9735899,
          -73.9274593,
          -73.9219241,
          -73.9770599,
          -73.9241423,
          -73.9657171,
          -73.8507327,
          -73.7912921,
          -73.7919836,
          -73.9324174,
          -73.982003,
          -73.8863917,
          -73.9594405,
          -73.922151,
          -73.923674,
          -73.9240162,
          -73.8586751,
          -73.9251306,
          -73.867543,
          -73.8665582,
          -73.8664608,
          -73.9003862,
          -73.9003318,
          -74.007872,
          -73.9009213,
          -74.0079224,
          -74.0079728,
          -74.0080233,
          -73.9012674,
          -73.931707,
          -73.9467782,
          -73.9275385,
          -73.9223742,
          -73.9238433,
          -73.9242862,
          -73.8753447,
          -73.893463,
          -73.8933975,
          -73.9314185,
          -73.9455838,
          -73.9254082,
          -73.9222481,
          -73.9232239,
          -73.8102462,
          -73.8740343,
          -73.8981514,
          -73.9220643,
          -73.9095213,
          -73.8794052,
          -73.8870921,
          -73.9476063,
          -73.9219418,
          -73.9228781,
          -73.9233174,
          -73.9004808,
          -73.78704,
          -73.8788636,
          -74.0047746,
          -73.8991776,
          -73.9276967,
          -73.9221615,
          -73.9225576,
          -73.9093987,
          -73.8966067,
          -73.8559858,
          -74.0332095,
          -73.9220389,
          -73.9252749,
          -73.9230183,
          -73.9239114,
          -73.8028218,
          -73.7925418,
          -73.77394,
          -73.8398146,
          -73.9231759,
          -74.0219259,
          -73.8693267,
          -73.91891,
          -73.9256906,
          -73.8021153,
          -73.9277759,
          -73.8679958,
          -73.9254247,
          -73.8802201,
          -73.863251,
          -73.9078188,
          -73.8979524,
          -73.8677665,
          -73.8978948,
          -73.9687168,
          -73.9221325,
          -73.9280892,
          -73.9252051,
          -73.8069857,
          -73.8616845,
          -73.897848,
          -73.8978012,
          -73.8977545,
          -73.9446818,
          -73.9726577,
          -73.9223449,
          -73.9253274,
          -73.878385,
          -73.8977077,
          -73.8908758,
          -73.8666543,
          -73.8976609,
          -73.9466981,
          -73.8976141,
          -73.8975457,
          -73.945496,
          -73.8680179,
          -73.922226,
          -73.9232054,
          -73.8974594,
          -73.9274553,
          -73.939125,
          -73.897391,
          -73.9380966,
          -73.9379524,
          -73.897301,
          -74.0111332,
          -73.9242665,
          -73.8972543,
          -73.8619072,
          -73.9572033,
          -73.8618241,
          -73.8971607,
          -73.9303766,
          -73.895116,
          -73.7908399,
          -73.8971139,
          -73.8970455,
          -73.8817903,
          -73.9084505,
          -73.9632728,
          -73.8817544,
          -73.928132,
          -73.9229281,
          -73.9256956,
          -73.8591259,
          -74.0279137,
          -73.9459903,
          -73.9728255,
          -73.80978,
          -73.9303117,
          -73.873511,
          -74.0308498,
          -73.9453816,
          -73.928318,
          -73.8917144,
          -73.9225787,
          -73.92505,
          -73.8042504,
          -73.869933,
          -73.8660409,
          -73.9431207,
          -73.9769757,
          -73.9228991,
          -73.9302503,
          -73.8845836,
          -73.8582927,
          -73.8582352,
          -73.8581776,
          -73.8581164,
          -73.8580553,
          -73.8579905,
          -73.8718483,
          -73.9258979,
          -73.9251284,
          -73.919126,
          -73.9258311,
          -73.9201449,
          -73.9262022,
          -73.9784488,
          -73.8892147,
          -73.8957358,
          -73.8291779,
          -73.8292465,
          -73.8293152,
          -73.9598163,
          -73.8857087,
          -73.976102,
          -73.8845078,
          -73.8600806,
          -73.9248641,
          -73.799481,
          -73.930189,
          -74.010526,
          -73.8818208,
          -73.9399349,
          -74.0020817,
          -73.9710474,
          -73.9256971,
          -73.9632577,
          -74.0009742,
          -73.858936,
          -73.9254938,
          -73.8618327,
          -73.9050592,
          -73.8095451,
          -73.9907197,
          -73.930088,
          -73.8515946,
          -73.8520923,
          -73.8515948,
          -73.8520961,
          -73.8515985,
          -73.8520962,
          -73.8515986,
          -73.8520964,
          -73.8515987,
          -73.8515988,
          -73.8521001,
          -73.8515989,
          -73.8521002,
          -73.851599,
          -73.8521039,
          -73.8783523,
          -73.852104,
          -73.8521041,
          -73.8698374,
          -73.8523262,
          -73.8526595,
          -73.8516324,
          -73.8523196,
          -73.8523242,
          -74.0103913,
          -73.9225206,
          -73.7989022,
          -73.8562857,
          -73.854038,
          -73.7834393,
          -73.8598456,
          -73.8509951,
          -74.0035259,
          -73.9424595,
          -73.9358221,
          -73.9657382,
          -73.9429639,
          -73.8446493,
          -73.8280505,
          -73.8608347,
          -73.9593295,
          -74.0005297,
          -73.9414767,
          -73.7982626,
          -73.8818849,
          -73.8266213,
          -73.9246191,
          -73.9576249,
          -73.8655496,
          -73.8758648,
          -73.8325679,
          -73.7944313,
          -73.8115783,
          -73.9492646,
          -73.7984551,
          -73.9253316,
          -73.8806124,
          -73.8805402,
          -73.8803922,
          -73.8802661,
          -73.7959072,
          -73.8630564,
          -73.7518923,
          -73.7674925,
          -73.9252163,
          -73.9245542,
          -73.8092885,
          -73.7792653,
          -73.7453687,
          -73.7968515,
          -74.0386272,
          -74.0140125,
          -73.9261336,
          -73.8394042,
          -73.7989612,
          -73.9252344,
          -73.8468539,
          -73.8499559,
          -73.8722838,
          -73.8721394,
          -73.8735177,
          -73.8126975,
          -73.8724669,
          -73.7452722,
          -73.7453479,
          -73.8953255,
          -73.7454344,
          -73.9244894,
          -73.8369087,
          -73.8282511,
          -73.8553448,
          -73.8602843,
          -73.8553124,
          -73.8873008,
          -73.7455352,
          -73.8839961,
          -73.8981155,
          -73.9251695,
          -73.8527083,
          -73.7916665,
          -73.818684,
          -73.8789496,
          -73.9244209,
          -73.989969,
          -73.9956975,
          -73.962516,
          -73.8371796,
          -73.8264083,
          -73.8148939,
          -73.8426314,
          -73.868759,
          -73.8683995,
          -73.9627456,
          -73.8090319,
          -73.9788936,
          -73.8739723,
          -73.8670076,
          -73.8669426,
          -73.8836634,
          -73.9250434,
          -73.9013252,
          -73.8540747,
          -73.866569,
          -73.8995052,
          -73.9250956,
          -73.9551237,
          -73.9242732,
          -73.9570773,
          -73.8459115,
          -73.8214375,
          -73.8381987,
          -73.9434325,
          -73.8774997,
          -73.8695215,
          -73.7637738,
          -73.863919,
          -73.8943595,
          -73.8796432,
          -73.8690383,
          -73.8546277,
          -74.0027981,
          -73.8536448,
          -73.8511586,
          -73.9456212
         ],
         "marker": {
          "color": "blue",
          "size": 5
         },
         "mode": "markers",
         "text": [
          " BELL BLVD",
          " BRONXWOOD AVENUE",
          " CARPENTER AVE",
          " CROSS BRONX EXPRESSWAY",
          " DUMONT AVENUE",
          " HERKIMER STREER",
          " NEW YORK AVENUE",
          " OAK STREET",
          " PARKSIDE PLACE",
          " VILLA AVENUE",
          " WOODBINE STREET",
          "1 ASTER COURT",
          "1 AVENUE OF THE AMERICAS",
          "1 CELESTE COURT",
          "1 EAST LOOP ROAD",
          "1-02 26 AVENUE",
          "10 BEVY COURT",
          "10 CANTON COURT",
          "10 EDGEMERE STREET",
          "10-24 116 STREET",
          "10-31 BAY 31 STREET",
          "100 BAY 50 STREET",
          "100 GOTHAM AVENUE",
          "100 SUYDAM STREET",
          "100-09 37 AVENUE",
          "100-10 103 AVENUE",
          "100-15 BELLAIRE PLACE",
          "101 -58 117 STREET",
          "101 BARTLETT PLACE",
          "101 CANTON COURT",
          "101 DARE COURT",
          "101 GROVE STREET",
          "101 PARK DRIVE",
          "101 SOUTH 5 STREET",
          "101-10 81 STREET",
          "101-11 NORTHERN BOULEVARD",
          "1013 EAST 59 STREET",
          "102 CANTON COURT",
          "102 DARE COURT",
          "102 GOTHAM AVENUE",
          "102 NOEL AVENUE",
          "102-31 164 AVENUE",
          "102-33 68 AVENUE",
          "1024 CRESCENT STREET",
          "1029 CLARENCE AVENUE",
          "103 3 PLACE",
          "103 DARE COURT",
          "103 FRANK COURT",
          "103-08 MARTENSE AVENUE",
          "103-10 101 STREET",
          "103-13 OTIS AVENUE",
          "103-16 CORONA AVENUE",
          "103-22 96 STREET",
          "1030 LELAND AVENUE",
          "1030 REV JAMES A POLITE A",
          "104 BEACON COURT",
          "104 EATON COURT",
          "104 FRANK COURT",
          "104 GOTHAM AVENUE",
          "104-27 ALSTYNE AVENUE",
          "104-76 165 STREET",
          "1040 DEAN STREET",
          "1041 PEACE STREET",
          "1043 FULTON STREET",
          "1044 LINDEN BOULEVARD",
          "1044 OLMSTEAD AVENUE",
          "1046 EAST 213 STREET",
          "1046 OLMSTEAD AVENUE",
          "1048 42 STREET",
          "1048 OLMSTEAD AVENUE",
          "105 ABBEY COURT",
          "105 CANTON COURT",
          "105 DARE COURT",
          "105-28 PINEGROVE STREET",
          "1050 AVENUE OF THE AMERICAS",
          "1051 74 STREET",
          "1052 EAST 99 STREET",
          "1057 80 STREET",
          "106 CANTON COURT",
          "106 NOEL AVENUE",
          "106-10 ASTORIA BOULEVARD",
          "106-12 ASTORIA BOULEVARD",
          "106-18 ASTORIA BOULEVARD",
          "106-31 155 STREET",
          "1065 EAST 37 STREET",
          "107 BEACON COURT",
          "107 DARE COURT",
          "107 WYCKOFF STREET",
          "107-01 120 STREET",
          "107-01 PARK LANE SOUTH",
          "107-25 156 STREET",
          "107-34 VAN WYCK EXPRESSWAY",
          "107-38 VAN WYCK EXPRESSWAY",
          "107-40 VAN WYCK EXPRESSWAY",
          "108 ASTER COURT",
          "108 EATON COURT",
          "108 FRANK COURT",
          "108 GOTHAM AVENUE",
          "108 NOEL AVENUE",
          "108-10 ROCKAWAY BEACH DRIVE",
          "108-34 45 AVENUE",
          "108-42 ROOSEVELT AVENUE",
          "108-43 171 STREET",
          "108-44 41 AVENUE",
          "108-45 51 AVENUE",
          "108-45 52 AVENUE",
          "108-45 SUTPHIN BOULEVARD",
          "108-46 ROOSEVELT AVENUE",
          "108-48 LIVERPOOL STREET",
          "108-48 ROOSEVELT AVENUE",
          "108-49 171 STREET",
          "108-50 ROOSEVELT AVENUE",
          "108-52 ROOSEVELT AVENUE",
          "108-53 171 STREET",
          "108-55 171 STREET",
          "108-55 49 AVENUE",
          "108-55 ROOSEVELT AVENUE",
          "108-57 ROOSEVELT AVENUE",
          "108-58 ROOSEVELT AVENUE",
          "108-61 ROOSEVELT AVENUE",
          "108-65 ROOSEVELT AVENUE",
          "10838 41 AVE",
          "109 BEACON COURT",
          "109 CANTON COURT",
          "109 WINTHROP STREET",
          "109-35 197 STREET",
          "109-49 155 STREET",
          "109-71 195 STREET",
          "1096 FLATBUSH AVENUE",
          "10A ASTER COURT",
          "11 ABBEY COURT",
          "11 BEVY COURT",
          "11 CANTON COURT",
          "11 DARE COURT",
          "11 ELM TREE LANE",
          "11 OAK LANE",
          "11 PARK DRIVE",
          "11-05 46 AVENUE",
          "11-05A 46 AVENUE",
          "11-06 45 ROAD",
          "11-06A 45 ROAD",
          "11-07 46 AVENUE",
          "11-07A 46 AVENUE",
          "11-08 45 ROAD",
          "11-08A 45 ROAD",
          "11-09 46 AVENUE",
          "11-09A 46 AVENUE",
          "11-10 45 ROAD",
          "11-10A 45 ROAD",
          "11-11 46 AVENUE",
          "11-11A 46 AVENUE",
          "11-12 45 ROAD",
          "11-12A 45 ROAD",
          "11-13 46 AVENUE",
          "11-13A 46 AVENUE",
          "11-14 45 ROAD",
          "11-14A 45 ROAD",
          "11-15A 46 AVENUE",
          "11-16 45 ROAD",
          "11-16A 45 ROAD",
          "11-17 46 AVENUE",
          "11-17A 46 AVENUE",
          "11-19 46 AVENUE",
          "11-19A 46 AVENUE",
          "11-21 46 AVENUE",
          "11-21A 46 AVENUE",
          "11-22 BRUNSWICK AVENUE",
          "11-28 30 DRIVE",
          "11-28 BRUNSWICK AVENUE",
          "11-32 BRUNSWICK AVENUE",
          "11-47 BEACH 12 STREET",
          "11-52 BRUNSWICK AVENUE",
          "11-56 BRUNSWICK AVENUE",
          "11-70 BRUNSWICK AVENUE",
          "110 DINSMORE PLACE",
          "110 KENSINGTON STREET",
          "110-20 14 ROAD",
          "1101 PRESIDENT STREET",
          "1104 EAST 54 STREET",
          "111 73 STREET",
          "111 DOLPHIN COURT",
          "111-39 44 AVNUE",
          "111-43 44 AVNUE",
          "1111 ASHFORD STREET",
          "1111A UNDERHILL AVENUE",
          "1113 ASHFORD STREET",
          "1115 ASHFORD STREET",
          "1117 ASHFORD STREET",
          "1117 ESSEX STREET",
          "1119 ASHFORD STREET",
          "112 BEACON COURT",
          "112 CANTON COURT",
          "112 DARE COURT",
          "112 FRANK COURT",
          "112 ST EDWARDS STREET",
          "112-24 39 AVENUE",
          "112-36 68 DRIVE",
          "1121 ASHFORD STREET",
          "1122 EAST 83 STREET",
          "1123 ASHFORD STREET",
          "1127 EAST 39 STREET",
          "113 EATON COURT",
          "113 FATHER ZEISER PLACE",
          "113-17 95 AVENUE",
          "113-52 FARMERS BOULEVARD",
          "1139 EAST 27 STREET",
          "114 CANTON COURT",
          "114 FRANK COURT",
          "114-02 ATLANTIC AVENUE",
          "114-03 TAIPEI COURT",
          "114-06 ROCKAWAY BEACH BOULEVARD",
          "114-08 BEDELL STREET",
          "114-11 TAIPEI COURT",
          "114-21 TAIPEI COURT",
          "114-25 TAIPEI COURT",
          "114-27 TAIPEI COURT",
          "114-29 LEFFERTS BOULEVARD",
          "114-30 ROCKAWAY BEACH BOULEVARD",
          "114-40 FARMERS BOULEVARD",
          "114-41 196 STREET",
          "114-59 DALIAN COURT",
          "1142 OLMSTEAD AVENUE",
          "1144 EVERGREEN AVENUE",
          "1149 EAST 102 STREET",
          "115 CANTON COURT",
          "115 CLIFTON PLACE",
          "115-31 159 STREET",
          "116 BEACON COURT",
          "116 CANTON COURT",
          "116 EATON COURT",
          "116 FRANK COURT",
          "116 GOTHAM AVENUE",
          "116 STANHOPE STREET",
          "116-15 14 ROAD",
          "1163 66 STREET",
          "1169 RIVER AVENUE",
          "117 ABBEY COURT",
          "117 BEACON COURT",
          "117 DARE COURT",
          "117 EATON COURT",
          "117 FRANK COURT",
          "117 MOFFAT STREET",
          "117-01 METROPOLITAN AVENUE",
          "117-04 109 AVENUE",
          "118-22 201 STREET",
          "118-65 RIVERTON STREET",
          "1181 NEW YORK AVENUE",
          "1184 RIVER AVENUE",
          "119 ABBEY COURT",
          "119 CLIFTON PLACE",
          "119 EATON COURT",
          "119 FRANK COURT",
          "119-24 190 STREET",
          "119-47 MERRILL STREET",
          "1190 FULTON STREET",
          "1198 BEDFORD AVENUE",
          "12 ABBEY COURT",
          "12 ASTER COURT",
          "12 EDGEMERE STREET",
          "12 ROCKWELL PLACE",
          "12-38 119 STREET",
          "120 CANTON COURT",
          "120 DARE COURT",
          "120-40 144 STREET",
          "1200 BEDFORD AVENUE",
          "1202 BEDFORD AVENUE",
          "1203 AVENUE Y",
          "1209 PUTNAM AVENUE",
          "1217 48 STREET",
          "122 PINE STREET",
          "122-03 180 STREET",
          "122-18 22 AVENUE",
          "122-28 LUCAS STREET",
          "1229 EAST 13 STREET",
          "123-19 103 AVENUE",
          "123-24 145 STREET",
          "1230 METCALF AVENUE",
          "1231 EAST 222 STREET",
          "1232 48 STREET",
          "1236 EAST 27 STREET",
          "1238 EAST 54 STREET",
          "124-17 SUTTER AVENUE",
          "1248 NEW YORK AVENUE",
          "1249 DEKALB AVE",
          "125 PARK DRIVE",
          "125 STOCKHOLM STREET",
          "125-09 133 AVENUE",
          "1255 REMSEN AVENUE",
          "126-30 LOCUST MANOR LANE",
          "1260 49 STREET",
          "1267 EAST 54 STREET",
          "1269 EAST 54 STREET",
          "127 GATEWAY DRIVE",
          "1270 EAST 54 STREET",
          "127A SOUTH 1 STREET",
          "128-12 135 AVENUE",
          "129 GATEWAY DRIVE",
          "1298 NEW YORK AVE",
          "13 ASTER COURT",
          "13 BEACON COURT",
          "13 BEVY COURT",
          "13 CELESTE COURT",
          "13 DARE COURT",
          "13-34 VIRGINIA STREET",
          "13-62 PINSON STREET",
          "130 SOUTH 1 STREET",
          "130-11 INWOOD STREET",
          "131 ALEXANDER AVENUE",
          "131-05 131 AVENUE",
          "132-15 FOCH BLVD",
          "132-36 41 AVENUE",
          "1320 FRANKLIN AVENUE",
          "1325 JEROME AVENUE",
          "133 SUNNYSIDE AVENUE",
          "133-02 14 AVENUE",
          "133-08 131 AVENUE",
          "133-29 130 STREET",
          "1330 62 STREET",
          "1332 41 STREET",
          "1336 GRANT SQUARE",
          "1339 SIEGFRIED PLACE",
          "134-16 NORTHERN BOULEVARD",
          "134-22 58 STREET",
          "134-49 157 STREET",
          "135 PARK DRIVE",
          "135-11 CHENEY STREET",
          "135-44 224 STREET",
          "136 ALEXANDER AVENUE",
          "1363 78 STREET",
          "1367 EAST 91 STREET",
          "137 LYNCH STREET",
          "137 PROSPECT AVENUE",
          "137-24 170 STREET",
          "137-29 96 STREET",
          "137-42 228 STREET",
          "137-50 229 STREET",
          "137-66 JUNIPER AVENUE",
          "1371 82 STREET",
          "1372 EAST 92 STREET",
          "1373 EAST 91 STREET",
          "1376 EAST 92 STREET",
          "138-15 58 AVENUE",
          "139 UTICA AVENUE",
          "139-46 230 STREET",
          "14 ABBEY COURT",
          "14 BEACON COURT",
          "14 CANTON COURT",
          "14 DARE COURT",
          "14-06 133 PLACE",
          "14-14 BEACH 12 STREET",
          "14-15 113 STREET",
          "14-19 117 STREET",
          "14-21 ASTORIA BOULEVARD",
          "14-65 164 STREET",
          "140 FROST STREET",
          "140-35 QUEENS BOULEVARD",
          "1401 60 STREET",
          "1401 EAST 4 STREET",
          "1409 ALBEMARLE ROAD",
          "1409 FLATBUSH AVENUE",
          "141-17 115 AVENUE",
          "141-38 84 ROAD",
          "1415 PARK LANE",
          "1419 HERKIMER STREET",
          "142-44 FRANKLIN AVENUE",
          "1424 PARK LANE",
          "1427 EAST 14 STREET",
          "143-18 LIBERTY AVENUE",
          "143-21 LABURNUM AVENUE",
          "143-45 229 STREET",
          "143-86 232 STREET",
          "1431 EAST 100 STREET",
          "1432 EAST 51 STREET",
          "1436 ROOSEVELT AVENUE",
          "1437 ROOSEVELT AVENUE",
          "1439 ROOSEVELT AVENUE",
          "144-15 LIBERTY AVE",
          "144-20 73 AVENUE",
          "144-30 69 ROAD",
          "144-35 38 AVENUE",
          "144-74 NORTHERN BLVD",
          "1440 65 STREET",
          "1441 ROOSEVELT AVENUE",
          "1443 EAST 102 STREET",
          "1445 ROOSEVELT AVENUE",
          "1448 71 STREET",
          "1448 ROOSEVELT AVENUE",
          "1449 ROOSEVELT AVENUE",
          "145 WEST 108 STREET",
          "145-106 225 STREET",
          "145-64 230 STREET",
          "145-80 180 STREET",
          "145-84 180 STREET",
          "1450 40 STREET",
          "1450 ROOSEVELT AVENUE",
          "1458 38 STREET",
          "146-11 TUSKEGEE AIRMEN WAY",
          "146-44 58 AVENUE",
          "1465 PARK AVENUE",
          "1469 EAST 45 STREET",
          "147- 40 ARCHER AVENUE",
          "147-32 SPRINGFIELD LANE",
          "147-35 230 PLACE",
          "147-36 94 AVENUE",
          "147-37 110 AVENUE",
          "147-53A 231 STREET",
          "1470 73 STREET",
          "1481 EAST 26 STREET",
          "1487 BROOKLYN AVENUE",
          "149 SUNNYSIDE AVENUE",
          "149 WEST 9 STREET",
          "149-34 ASH AVENUE",
          "149-60 CHERRY AVENUE",
          "1495 ST JOHNS PLACE",
          "15 ABBEY COURT",
          "15 BAY 35 STREET",
          "15 BEACON COURT",
          "15 ELM TREE LANE",
          "15 SHORE ROAD SVC RD E",
          "15 THROOP AVENUE",
          "15-02 BEACH 12 STREET",
          "15-03 BEACH 11 STREET",
          "15-04 BEACH 12 STREET",
          "15-05 BEACH 11 STREET",
          "15-06 BEACH 12 STREET",
          "15-09 BEACH 11 STREET",
          "15-10 BEACH 12 STREET",
          "15-11 BEACH 11 STREET",
          "15-12 BEACH 12 STREET",
          "15-14 BEACH 12 STREET",
          "15-15 BEACH 11 STREET",
          "15-17 BEACH 11 STREET",
          "15-18 BEACH 12 STREET",
          "15-19 BEACH 11 STREET",
          "15-46 150 STREET",
          "150 VAN CORTLANDT AVE EAST",
          "150-118 POWELLS COVE BOULEVA",
          "150-122 POWELLS COVE BOULEVARD",
          "150-19 78 ROAD",
          "150-22 SULLIVAN DRIVE",
          "150-26 SULLIVAN DRIVE",
          "150-29 6 AVENUE",
          "150-32 SULLIVAN DRIVE",
          "150-36 SULLIVAN DRIVE",
          "150-45 19 AVENUE",
          "150-52 BAYSIDE AVENUE",
          "150-59 78 AVENUE",
          "1507 NEW YORK AVENUE",
          "151-54 20 AVENUE",
          "1517 JEFFERSON AVENUE",
          "1519 NEW YORK AVENUE",
          "1520 79 STREET",
          "1520 STORY AVENUE",
          "1524 NEW YORK AVENUE",
          "1526 MACE AVENUE",
          "1527 NEW YORK AVENUE",
          "153 COLERIDGE STREET",
          "153 MARTENSE STREET",
          "153-22 109 ROAD",
          "153-24 90 ROAD",
          "153-30 119 AVENUE",
          "1537 DEAN STREET",
          "154 ATLANTIC AVENUE",
          "154-22 BROAD STREET",
          "154-38 BROAD STREET",
          "154-42 BROAD STREET",
          "154-58 11 AVENUE",
          "1540 41 STREET",
          "1543 EAST NEW YORK AVENUE",
          "1544 BOONE AVENUE",
          "1544 EAST 19 STREET",
          "1549 EAST 98 STREET",
          "155-02 BROAD STREET",
          "155-04 BROAD STREET",
          "155-07 BAYVIEW AVENUE",
          "155-08 BROAD STREET",
          "155-10 BROAD STREET",
          "155-100 BAYVIEW AVENUE",
          "155-103 BAYVIEW AVENUE",
          "155-14 BROAD STREET",
          "155-21 BROAD STREET",
          "155-22 BROAD STREET",
          "155-25 BROAD STREET",
          "155-27 BAYVIEW AVENUE",
          "155-29 BROAD STREET",
          "155-31 BAYVIEW AVENUE",
          "155-32 BROAD STREET",
          "155-39 BROAD STREET",
          "155-40 BROAD STREET",
          "155-40 LAHN STREET",
          "155-42 BAYVIEW AVENUE",
          "155-46 BAYVIEW AVENUE",
          "155-47 BROAD STREET",
          "155-55 BROAD STREET",
          "155-57 BAYVIEW AVENUE",
          "155-60 BAYVIEW AVENUE",
          "155-61 BROAD STREET",
          "155-71 BAYVIEW AVENUE",
          "155-79 BAYVIEW AVENUE",
          "155-80 BAYVIEW AVENUE",
          "155-82 BAYVIEW AVENUE",
          "155-84 BAYVIEW AVENUE",
          "155-85 BAYVIEW AVENUE",
          "155-87 BAYVIEW AVENUE",
          "155-90 BAYVIEW AVENUE",
          "155-92 BAYVIEW AVENUE",
          "155-98 BAYVIEW AVENUE",
          "155-99 BAYVIEW AVENUE",
          "1557 WHITE PLAINS ROAD",
          "156-15 134 AVENUE",
          "1560 BOONE AVE",
          "1562 EAST 26 STREET",
          "1568 EAST 8 STREET",
          "157 COURT STREET",
          "157-11 108 AVENUE",
          "157-16 65 AVENUE",
          "157-44 QUINCE AVENUE",
          "1573 WEST 9 STREET",
          "1574 EAST 12 STREET",
          "1577 FULTON STREET",
          "158-03 111 AVENUE",
          "159 MONTAUK AVENUE",
          "16 BEACON COURT",
          "16 BEVY COURT",
          "16 CELESTE COURT",
          "16 DARE COURT",
          "16-24 BELL BOULEVARD",
          "160 BAY 53 STREET",
          "160-166 NORTH 4 STREET",
          "160-50 21 ROAD",
          "161-01 46 AVENUE",
          "161-03 46 AVENUE",
          "161-23 92 STREET",
          "161-24 119 DRIVE",
          "1612 NEW YORK AVENUE",
          "162-01 78 ROAD",
          "162-11 89 AVENUE",
          "1626 BROOKLYN AVENUE",
          "1629 DAHILL ROAD",
          "163-06 CROCHERON AVENUE",
          "1634 CHURCH AVENUE",
          "1634 LIBRARY AVENUE",
          "164 KINGSLAND AVENUE",
          "164 UNION STREET",
          "164-36 96 STREET",
          "1643 EAST 54 STREET",
          "1643 NEW YORK AVENUE",
          "1643 POPHAM AVENUE",
          "1646 PARKER STREET",
          "165 BROOME STREET",
          "1653 DAHILL ROAD",
          "1655 LINCOLN PLACE",
          "166 BAY 53 STREET",
          "166-08 UNION TURNPIKE",
          "166-51 25 AVENUE",
          "166-65 22 AVENUE",
          "1661 82 STREET",
          "1664 83 STREET",
          "1664 EAST 56 STREET",
          "1664 EAST GUN HILL ROAD",
          "1673 WEST 2 STREET",
          "1674 EAST 53 STREET",
          "1679 50 STREET",
          "1686 84 STREET",
          "169 LIVONIA AVENUE",
          "1690 PACIFIC STREET",
          "169A MONROE STREET",
          "17 ASTER COURT",
          "17 CANTON COURT",
          "17 DARE COURT",
          "17 LOIS AVENUE",
          "17-05 FRANCIS LEWIS BLVD",
          "17-20 VILLAGE LANE",
          "17-36 GEORGE STREET",
          "170-02 93 AVENUE",
          "171 BEACH 109 STREET",
          "172 BEACH 26 STREET",
          "172-31 BAISLEY BOULEVARD",
          "1720 EAST 36 STREET",
          "174 BEACH 26 STREET",
          "174-04 JEWEL AVENUE",
          "1748 72 STREET",
          "175 PALMETTO STREET",
          "1757 BROOKLYN AVENUE",
          "176 BEACH 26 STREET",
          "176-04 JAMAICA AVE",
          "176-06 JAMAICA AVE",
          "176-08 JAMAICA AVE",
          "176-10 JAMAICA AVE",
          "176-12 JAMAICA AVE",
          "176-14 JAMAICA AVE",
          "176-16 JAMAICA AVE",
          "176-18 JAMAICA AVE",
          "176-20 JAMAICA AVE",
          "176-61 132 AVENUE",
          "1765 PROSPECT PLACE",
          "1768 SECOND AVENUE",
          "1773 OCEAN AVENUE",
          "1781 EAST 23 STREET",
          "179 HALSEY STREET",
          "179 MALCOLM X BOULEVARD",
          "179 UTICA AVENUE",
          "179-64 SELOVER ROAD",
          "179-67 ANDERSON ROAD",
          "1795 EAST 15 STREET",
          "18 BEVY COURT",
          "18 DARE COURT",
          "18 SHORE ROAD",
          "18-40 BAY LANE",
          "180 NEW LOTS AVENUE",
          "1801 AMETHYST STREET",
          "181 EAST 101 STREET",
          "182-04 91 AVENUE",
          "182-16 143 AVENUE",
          "183 DUMONT AVENUE",
          "1833 LACOMBE AVENUE",
          "1839 EAST 33 STREET",
          "184 ST MARKS AVENUE",
          "1848 GUERLAIN STREET",
          "185 BROADWAY",
          "1853 59 STREET",
          "186 DOVER STREET",
          "186-12 MIDLAND PARKWAY",
          "1866 EASTERN PARKWAY",
          "1867 BROWN STREET",
          "1869 79 STREET",
          "188-23 WOODHULL AVENUE",
          "188-41 120 ROAD",
          "1885 48 STREET",
          "189-14 104 AVENUE",
          "189-20 117 ROAD",
          "189-33 MURDOCK AVENUE",
          "19 ABBEY COURT",
          "19 BEACON COURT",
          "19 CELESTE COURT",
          "19-15 NAMEOKE AVE",
          "190-31 118 AVENUE",
          "1903 WEST FARMS ROAD",
          "1912 FIRST AVENUE",
          "1918 1 AVENUE",
          "192-08 CROCHERON AVENUE",
          "192-15 LINDEN BOULEVARD",
          "1923 WEST FARM ROAD",
          "193-08 SALERNO AVENUE",
          "193-14 SALERNO AVENUE",
          "1932 52 STREET",
          "1932 BRYANT AVENUE",
          "1933 84 STREET",
          "1934 20 DRIVE",
          "1937 BENSON AVENUE",
          "194 DOVER STREET",
          "194 MADISON STREET",
          "194 SOUTH 2 STREET",
          "194-12 DUNTON AVENUE",
          "194-31 115 ROAD",
          "1940 TURNBULL AVENUE",
          "1943 EAST 28 STREET",
          "1943 WEST 9 STREET",
          "1944 EAST 12 STREET",
          "195 BRIGHTON 10 STREET",
          "195 MONTROSE AVENUE",
          "1950 80 STREET",
          "1954 EAST 28 STREET",
          "196 DEVOE ST",
          "196 EAST 57 STREET",
          "196-19 JAMAICA AVENUE",
          "196-24 91 AVENUE",
          "196-28 91 AVENUE",
          "196-57 45 AVENUE",
          "1961 COLDEN AVENUE",
          "1971 51 STREET",
          "1984 STRAUSS STREET",
          "2 BEVY COURT",
          "2 EDGEMERE STREET",
          "2 SPLIT ROCK ROAD",
          "2-20 MALT DRIVE",
          "20 ASTER COURT",
          "20 BEACON COURT",
          "20 BEVY COURT",
          "20 CELESTE COURT",
          "20 LOIS AVENUE",
          "20 SHORE ROAD",
          "20-33 STEINWAY STREET",
          "20-65 48 STREET",
          "2006 SURF AVENUE",
          "2019 57 STREET",
          "2019 WEST 6 STREET",
          "202 WASHINGTON AVENUE",
          "202-15 53 AVENUE",
          "202-17 46 ROAD",
          "2027 EAST 70 STREET",
          "203 DAHLGREN PLACE",
          "203 JAY STREET",
          "203 MONTAUK AVENUE",
          "2034 71 STREET",
          "204-11 38 AVENUE",
          "204-18 46 AVENUE",
          "204-42 45 ROAD",
          "2044 57 STREET",
          "2044 WESTCHESTER AVE",
          "205 ROCHESTER AVENUE",
          "2054 85 STREET",
          "206-09 48 AVENUE",
          "206-30 46 AVENUE",
          "2063 NARRAGANSETT AVENUE",
          "207 SOUTH 3 STREET",
          "2078 EAST 2 STREET",
          "2079 EDENWALD AVENUE",
          "21 ABBEY COURT",
          "21 BEACON COURT",
          "21 BEVY COURT",
          "21-17 BIRDSALL AVENUE",
          "21-17 PARSONS BOULEVARD",
          "21-20 45 RD",
          "21-22 45 ROAD",
          "21-24 45 ROAD",
          "210 LIVINGSTON ST",
          "210 NORTH 10 STREET",
          "211 MCGUINNESS BOULEVARD",
          "211-03 33 ROAD",
          "211-09 45 DRIVE",
          "211-11 45 ROAD",
          "2116 REGENT PLACE",
          "212 PUGSLEY AVENUE",
          "212 WEST 124 STREET",
          "2131 EAST 71 STREET",
          "2142 GLEASON AVENUE",
          "215 LIVONIA AVENUE",
          "2157 83 STREET",
          "216 CORNELIA STREET",
          "216-15 40 AVENUE",
          "217-34 PECK AVENUE",
          "2175 DAVIDSON AVENUE",
          "218-40 138 ROAD",
          "218A MONTROSE AVENUE",
          "22 ABBEY COURT",
          "22 BEVY COURT",
          "22 SHORE ROAD",
          "22-47 92 STREET",
          "22-53 MOTT AVENUE",
          "2222 HARMAN STREET",
          "223 WARREN STREET",
          "223-04 139 AVENUE",
          "224 BUTTRICK AVENUE",
          "225 WINTHROP STREET",
          "2253 78 STREET",
          "226-07 144 AVENUE",
          "226-11 146 AVENUE",
          "2260 EAST 63 STREET",
          "2266 CROPSEY AVENUE",
          "2266 EAST 65 STREET",
          "227 M EXPRESSWAYAJOR DEEGAN",
          "23 AVENUE B",
          "23 BEVY COURT",
          "23 COLLEGE POINT BOULEVARD",
          "23 EATON COURT",
          "23 INDIA STREET",
          "23-44 COLLEGE POINT BOULEVARD",
          "23-50 CORNAGA AVENUE",
          "23-50 WATERS EDGE DRIVE",
          "23-51 31 ROAD",
          "23-57 89 STREET",
          "230-10 139 AVENUE",
          "2302 WEBSTER AVENUE",
          "2314 AVENUE V",
          "233-12 BAY STREET",
          "2336 DEAN STREET",
          "2347 CONEY ISLAND AVENUE",
          "236 EAST 15 STREET",
          "236 STAGG ST",
          "2366 NATIONAL DRIVE",
          "2369 HOFFMAN STREET",
          "237 HAWTHORNE STREET",
          "2383 LORILLARD PLACE",
          "2389 7 AVENUE",
          "2395 8 AVENUE",
          "24 ABBEY COURT",
          "24 BEVY COURT",
          "24 CANTON COURT",
          "24 CELESTE COURT",
          "24 FRANK COURT",
          "24 LOIS AVENUE",
          "24 MARCY AVENUE",
          "24-13 26 STREET",
          "24-19 33 STREET",
          "24-21 42 STREET",
          "24-33 BEACH CHANNEL DRIVE",
          "24-35 BEACH CHANNEL DRIVE",
          "24-46 89 STREET",
          "24-50 89 STREET",
          "24-54 89 STREET",
          "24-56 89 STREET",
          "2409 DEAN STREET",
          "242 HAWTHORNE STREET",
          "242 JEFFERSON AVENUE",
          "242-16 PINE STREET",
          "2426 PITKIN AVENUE",
          "2436 BARKER AVENUE",
          "2441 DEAN STREET",
          "2457 3 AVENUE",
          "2460 WHITE PLAINS ROAD",
          "25 ASTER COURT",
          "25 EATON COURT",
          "25 ELM TREE LANE",
          "25-11 41 STREET",
          "25-15 127 STREET",
          "25-16 166 STREET",
          "25-16 BEACH CHANNEL DRIVE",
          "25-17 127 STREET",
          "25-25 76 STREET",
          "25-29 125 STREET",
          "25-47 30 ROAD",
          "25-49 30 ROAD",
          "25-57 43 STREET",
          "2506 NEWKIRK AVENUE LLC",
          "251 STANHOPE STREET",
          "251 WALLABOUT STREET",
          "2519 CRESTON AVENUE",
          "2520 JEROME AVENUE",
          "253 NOSTRAND AVENUE",
          "2534 STEINWAY STREET",
          "255 EAST 138 STREET",
          "2552 GERRITSEN AVENUE",
          "2554 GERRITSEN AVENUE",
          "2564 GERRITSEN AVENUE",
          "258 ATKINS AVENUE",
          "2582 GERRITSEN AVENUE",
          "2584 GERRITSEN AVENUE",
          "26 ASTER COURT",
          "26 BEVY COURT",
          "26 EATON COURT",
          "26 FRANK COURT",
          "26 MARCY AVENUE",
          "26 QUINCY STREET",
          "26 ST JOHNS PLACE",
          "26-05 28 STREET",
          "26-59 30 STREET",
          "260 COLUMBUS AVENUE",
          "2612 GERRITSEN AVENUE",
          "262 METROPOLITAN AVENUE",
          "2620 GERRITSEN AVENUE",
          "2624 GERRITSEN AVENUE",
          "2628 MILES AVENUE",
          "262A 18 STREET",
          "263 MCGUINNESS BOULEVARD",
          "2634 HARING STREET",
          "266 KENT AVENUE",
          "266 WESTMINSTER ROAD",
          "267 CRESCENT STREET",
          "2676 EAST 24 STREET",
          "268 BAY 38 STREET",
          "27 ASTER COURT",
          "27 BEACON COURT",
          "27 BEVY COURT",
          "27 LOIS AVENUE",
          "2700 JEROME AVENUE",
          "2702 GERRITSEN AVENUE",
          "2708 GLENWOOD ROAD",
          "2708 SNYDER AVENUE",
          "271 MCDONALD AVENUE",
          "2721 EAST 21 STREET",
          "273 MAPLE STREET",
          "2758 GERRITSEN AVENUE",
          "2768 MATTHEWS AVENUE",
          "2792 BATCHELDER STREET",
          "28 ASTER COURT",
          "28 CANTON COURT",
          "28 LOIS AVENUE",
          "28-53 49 STREET",
          "280 EAST 38 STREET",
          "280 PATCHEN AVENUE",
          "2807 SNYDER AVENUE",
          "281 PRESIDENT STREET",
          "2812 KINGS HIGHWAY",
          "282 HINSDALE STREET",
          "2820 GERRITSEN AVENUE",
          "2824 GERRITSEN AVENUE",
          "2826 GERRITSEN AVENUE",
          "2832 GERRITSEN AVENUE",
          "2842 GERRITSEN AVENUE",
          "2844 GERRITSEN AVENUE",
          "2848 GERRITSEN AVENUE",
          "285 EAST 169 STREET",
          "2856 GERRITSEN AVENUE",
          "2858 LINDEN BLVD",
          "2862 GERRITSEN AVENUE",
          "2866 GERRITSEN AVENUE",
          "2868 GERRITSEN AVENUE",
          "287 MAPLE STREET",
          "2873 WEST 17 STREET",
          "2885 MARION AVENUE",
          "2885 WEST 15 STREET",
          "29 ASTER COURT",
          "29 BEACON COURT",
          "29 CANTON COURT",
          "29 TROY AVENUE",
          "29-10 BROADWAY",
          "290 ALBANY AVENUE",
          "2900 GERRITSEN AVENUE",
          "2902 GERRITSEN AVENUE",
          "2906 GERRITSEN AVENUE",
          "2909 ALBERMARLE ROAD",
          "2910 GERRITSEN AVENUE",
          "2912 GERRITSEN AVENUE",
          "2916 GERRITSEN AVENUE",
          "2922 GERRITSEN AVENUE",
          "295 15 STREET",
          "295 BROADWAY",
          "295 CORBIN PLACE",
          "2956 GERRITSEN AVENUE",
          "2962 GERRITSEN AVENUE",
          "2966 GERRITSEN AVENUE",
          "2980 PARK AVENUE",
          "2990 GERRITSEN AVENUE",
          "29A CARROLL STREET",
          "3 BEVY COURT",
          "30 31 STREET",
          "30 ABBEY COURT",
          "30 ASTER COURT",
          "30 DARE COURT",
          "30 EATON COURT",
          "30-02 86 STREET",
          "30-16 29 STREET",
          "30-18 29 STREET",
          "30-92 42 STREET",
          "30-94 34 STREET",
          "300 ASHLAND PLACE",
          "300-D BEACH 100 STREET",
          "300-E BEACH 100 STREET",
          "300-F BEACH 100 STREET",
          "3008 YOUNG AVENUE",
          "301 FIRST AVENUE",
          "3010 GERRITSEN AVENUE",
          "3012 CORTELYOU ROAD",
          "3017 BARNES AVENUE",
          "303 BEACH 65 STREET",
          "303 KINGSLAND AVENUE",
          "3030 GERRITSEN AVENUE",
          "3036 GERRITSEN AVENUE",
          "3038 GERRITSEN AVENUE",
          "304 BEACH 100 STREET",
          "304-A BEACH 100 STREET",
          "304-B BEACH 100 STREET",
          "304-C BEACH 100 STREET",
          "304-D BEACH 100 STREET",
          "304-E BEACH 100 STREET",
          "304-F BEACH 100 STREET",
          "3043 BRIGHTON 4 STREET",
          "3044 GERRITSEN AVENUE",
          "305 BEACH 65 STREET",
          "3050 GERRITSEN AVENUE",
          "3056 GERRITSEN AVENUE",
          "3060 GERRITSEN AVENUE",
          "3064 GERRITSEN AVENUE",
          "307 BEACH 65 STREET",
          "3082 GERRITSEN AVENUE",
          "3084 WEBSTER AVE",
          "3086 GERRITSEN AVENUE",
          "309 BEACH 65 STREET",
          "31 ABBEY COURT",
          "31 BEVY COURT",
          "31 CARROLL STREET",
          "31 EATON COURT",
          "31-22 60 STREET",
          "31-30 93 STREET",
          "311 WILSON AVENUE",
          "312 23 STREET",
          "312 97 STREET",
          "312 BEACH 100 STREET",
          "312 BROADWAY",
          "312-A BEACH 100 STREET",
          "312-B BEACH 100 STREET",
          "312-C BEACH 100 STREET",
          "312-D BEACH 100 STREET",
          "312-E BEACH 100 STREET",
          "312-F BEACH 100 STREET",
          "3136 MICKLE AVENUE",
          "313A STATE STREET",
          "315A STATE STREET",
          "317 BEACH 65 STREET",
          "317 MELROSE STREET",
          "317 STATE STREET",
          "318-A BEACH 100 STREET",
          "318-B BEACH 100 STREET",
          "318-C BEACH 100 STREET",
          "318-D BEACH 100 STREET",
          "318-E BEACH 100 STREET",
          "318-F BEACH 100 STREET",
          "319 BEACH 65 STREET",
          "319 STATE STREET",
          "319A STATE STREET",
          "32 DARE COURT",
          "32 FRANK COURT",
          "32-26 72 STREET",
          "32-38 61 STREET",
          "32-40 61 STREET",
          "32-42 61 STREET",
          "32-65 30 STREET",
          "320 EAST 92 STREET",
          "320-A BEACH 100 STREET",
          "320-B BEACH 100 STREET",
          "320-C BEACH 100 STREET",
          "320-D BEACH 100 STREET",
          "320-E BEACH 100 STREET",
          "3205 ELY AVENUE",
          "3206 GLENWOOD ROAD",
          "321 BEACH 65 STREET",
          "321 ELDERT STREET",
          "3211 PARKSIDE PLACE",
          "3212 JOHNSON AVENUE",
          "322 EAST 32 STREET",
          "3223 NEWKIRK AVENUE",
          "3223 PEARSALL AVENUE",
          "323 BEACH 65 STREET",
          "324-A BEACH 100 STREET",
          "324-D BEACH 100 STREET",
          "324-F BEACH 100 STREET",
          "325 BEACH 65 STREET",
          "325 EAST 242 STREET",
          "326 EAST 51 STREET",
          "326 WYTHE AVENUE",
          "3260 WATERBURY AVENUE",
          "3265 107 STREET",
          "327 BEACH 65 STREET",
          "329 WARWICK STREET",
          "33 BAY 41 STREET",
          "33 CARROLL STREET",
          "33 EATON COURT",
          "33-21 212 STREET",
          "330 HINSDALE STREET",
          "330 SHEFFIELD AVENUE",
          "331 WARREN STREET",
          "331 WARWICK STREET",
          "334 21 STREET",
          "334-336 22 STREET",
          "335 WARWICK STREET",
          "34 ASTER COURT",
          "34-11 STEINWAY STREET",
          "34-16 58 STREET",
          "340 9 STREET",
          "340 EVERGREEN AVENUE",
          "340 RUTLAND ROAD",
          "3401 WRIGHT AVENUE",
          "3403 WRIGHT AVENUE",
          "3405 WRIGHT AVENUE",
          "3416 HUNTER AVENUE",
          "3418 HUNTER AVENUE",
          "3420 HUNTER AVENUE",
          "3422 HUNTER AVENUE",
          "3424 HUNTER AVENUE",
          "343 WYONA STREET",
          "345 ST ANN'S AVENUE",
          "346 KENT AVENUE",
          "3475 THIRD AVENUE",
          "348 KNOLLWOOD AVENUE",
          "349 KENT AVENUE",
          "35 ASTER COURT",
          "35 BEACON COURT",
          "35 CARROLL STREET",
          "35 COMMERCIAL STREET",
          "35 DARE COURT",
          "35 ELM TREE LANE",
          "35 LESTER COURT",
          "35 MELBA COURT",
          "35 NOVA COURT",
          "35-39 101 STREET",
          "35-51 99 STREET",
          "35-53 99 STREET",
          "3508 FARRAGUT ROAD",
          "351 WEST 15 STREET",
          "3512 FARRAGUT ROAD",
          "3544 TRYON AVENUE",
          "3548 MC OWEN AVENUE",
          "3552 MC OWEN AVENUE",
          "3556 WEBSTER AVENUE",
          "3560 WEBSTER AVENUE",
          "357 GRAND STREET",
          "357 KOSCIUSZKO STREET",
          "3580 WEBSTER AVENUE",
          "36 ASTER COURT",
          "36 BEACON COURT",
          "36 BEVY COURT",
          "36 CANTON COURT",
          "36 CELESTE COURT",
          "36 FRANK COURT",
          "36 GIRARD STREET",
          "36 LESTER COURT",
          "36 MELBA COURT",
          "36-17 193 STREET",
          "36-23 172 STREET",
          "36-37 31 STREET",
          "3600 WEBSTER AVENUE",
          "3609 WILLETT AVE",
          "361 97 STREET",
          "3616 FARRAGUT ROAD",
          "362 EAST 173 STREET",
          "3620 WEBSTER AVENUE",
          "364 EAST 173 STREET",
          "365 WEST 263 STREET",
          "366 EAST 184 STREET",
          "37 ABBEY COURT",
          "37 BEACON COURT",
          "37 BEVY COURT",
          "37 EATON COURT",
          "37 FRANK COURT",
          "37 NOVA COURT",
          "37-05 30 STREET",
          "37-17 103 STREET",
          "37-51 87 STREET",
          "37-60 100 STREET",
          "37-74 104 STREET",
          "3737 CYPRESS AVENUE",
          "375 LEWIS AVENUE",
          "3774 BEDFORD AVENUE",
          "378A DECATUR STREET",
          "38 ABBEY COURT",
          "38 DARE COURT",
          "38 EATON COURT",
          "38 FRANK COURT",
          "38 LESTER COURT",
          "38-24 211 STREET",
          "382 4 STREET",
          "389 SCHROEDERS AVENUE",
          "39 BEVY COURT",
          "39 EATON COURT",
          "39 FRANK COURT",
          "39 SEBA AVE",
          "39-50 222 STREET",
          "392 SCHROEDERS AVENUE",
          "3929 NEW UTRECHT AVE",
          "394 HARMAN STREET",
          "396 SCHROEDERS AVENUE",
          "398 SCHROEDERS AVENUE",
          "4 ASTER COURT",
          "4 CANTON COURT",
          "4 CELESTE COURT",
          "4 DARE COURT",
          "4 DICTUM COURT",
          "4 PEACE STREET",
          "40 ABBEY COURT",
          "40 ASTER COURT",
          "40 CANTON COURT",
          "40 LEE AVENUE",
          "40-14 68 STREET",
          "40-15 217 STREET",
          "40-18 FRANCIS LEWIS BLVD",
          "40-31 81 STREET",
          "40-47 77 STREET",
          "40-57 WARREN STREET",
          "400 SCHROEDERS AVENUE",
          "4003 MANHATTAN AVENUE",
          "401 RUTLAND ROAD",
          "401 SCHROEDERS AVENUE",
          "402 SCHROEDERS AVENUE",
          "403A 18 STREET",
          "406 CORNELIA STREET",
          "4084 AMUNDSON AVENUE",
          "409 EAST 120 STREET",
          "409 EASTERN PARKWAY",
          "41 CANTON COURT",
          "41 DARE COURT",
          "41 ELM TREE LANE",
          "41-10 23 ROAD",
          "41-33 50 STREET",
          "41-35A DE REIMER AVENUE",
          "410 FENIMORE STREET",
          "4113 12 AVENUE",
          "412 FENIMORE STREET",
          "42 CYRUS AVENUE",
          "42 EATON COURT",
          "42 ROAD",
          "42-07 DITMARS BOULEVARD",
          "42-15 165 STREET",
          "42-23 165 STREET",
          "42-25 191 STREET",
          "42-30 157 STREET",
          "42-36 FORLEY STREET",
          "420 420 TROY AVENUE",
          "420 ST LAWRENCE AVENUE",
          "428 WYTHE AVENUE",
          "43 ABBEY COURT",
          "43 ASTER COURT",
          "43 BEACON COURT",
          "43 DARE COURT",
          "43 EATON COURT",
          "43 SUMMIT STREET",
          "43-04 220 PLACE",
          "43-06 220 PLACE",
          "43-08 220 PLACE",
          "43-12 PARSONS BOULEVARD",
          "43-13 163 STREET",
          "43-14 212 STREET",
          "43-24 158 STREET",
          "430 SARATOGA AVENUE",
          "4313 3 AVENUE",
          "4315 3 AVENUE",
          "4317 3 AVENUE",
          "4319 3 AVENUE",
          "432 VAN BRUNT STREET",
          "433 84 STREET",
          "433 MAPLE STREET",
          "434 62 STREET",
          "434 WEST 22 STREET",
          "44 ASTER COURT",
          "44 BEVY COURT",
          "44 DARE COURT",
          "44 NOEL AVENUE",
          "4406 5 AVENUE",
          "443 EAST 162 STREET",
          "4439 THIRD AVENUE",
          "444 FOUNTAIN AVENUE",
          "446 MACON STREET",
          "447 QUINCY STREET",
          "449 CHESTER STREET",
          "45 ABBEY COURT",
          "45 ASTER COURT",
          "45 BEACON COURT",
          "45 ELM TREE LANE",
          "45 FRANK COURT",
          "45 MELROSE STREET",
          "45-07 48 AVEUE",
          "45-13 78 STREET",
          "45-19 ROCKAWAY BEACH BOULEVARD",
          "45-24 217 STREET",
          "45-27 11 STREET",
          "45-29 11 STREET",
          "45-31 11 STREET",
          "45-33 11 STREET",
          "45-37 11 STREET",
          "45-37 162 STREET",
          "45-39 11 STREET",
          "45-41 11 STREET",
          "45-43 211 STREET",
          "45-49 SMART STREET",
          "4511 THIRD AVENUE",
          "453 HINSDALE STREET",
          "459 HARMAN STREET",
          "46 ASTER COURT",
          "46 BEACON COURT",
          "46 BEVY COURT",
          "46 CANTON COURT",
          "46 ROEBLING STREET",
          "46-12 162 STREET",
          "46-20 220 PLACE",
          "46-31 BOWNE STREET",
          "463 EAST 57 STREET",
          "463 LIVONIA AVENUE",
          "465 GREENWICH STREET",
          "466 LINWOOD STREET",
          "469 ASHFORD STREET",
          "47 BEACON COURT",
          "47 BEVY COURT",
          "47 BROADWAY",
          "47 SEBA AVENUE",
          "47-02 46 STREET",
          "47-36 39 STREET",
          "470 DEAN STREET",
          "471 OVINGTON AVENUE",
          "472 LORIMER STREET",
          "475 VANDALIA AVENUE",
          "479 VANDALIA AVENUE",
          "48 BEACON COURT",
          "48 BEVY COURT",
          "48 NOEL AVENUE",
          "48 SEBA AVENUE",
          "4809 ROBERTSON STREET",
          "481 VANDALIA AVENUE",
          "4822 BARNES AVENUE",
          "4824 BARNES AVENUE",
          "4826 BARNES AVENUE",
          "4829 MURDOCK AVENUE",
          "4829 WHITE PLAINS ROAD",
          "483 GREENE AVENUE",
          "483 VANDALIA AVENUE",
          "485 VANDALIA AVENUE",
          "487 LIVONIA AVENUE",
          "487 VANDALIA AVENUE",
          "488 STERLING PLACE",
          "489 VANDALIA AVENUE",
          "49 ABBEY COURT",
          "49 ASTER COURT",
          "49 BEACON COURT",
          "49 EATON COURT",
          "49 FRANK COURT",
          "49 HARMAN STREET",
          "491 VANDALIA AVENUE",
          "492 LEFFERTS AVENUE",
          "493 VANDALIA AVENUE",
          "494 VANDALIA AVENUE",
          "495 VANDALIA AVENUE",
          "496 BROADWAY",
          "496 VANDALIA AVENUE",
          "497 VANDALIA AVENUE",
          "498 SCHROEDERS AVENUE",
          "498 VANDALIA AVENUE",
          "5 ABBEY COURT",
          "5 BLUE SLIP",
          "5-12 47 AVENUE",
          "50 ASTER COURT",
          "50 BEACON COURT",
          "50 CANTON COURT",
          "50 CYRUS AVENUE",
          "50 SEBA AVENUE",
          "50 WEST 34 STREET",
          "50-08 39 STREET",
          "500 LIVONIA AVENUE",
          "500 VANDALIA AVENUE",
          "502 SCHROEDERS AVENUE",
          "502 VANDALIA AVENUE",
          "504 SCHROEDERS AVENUE",
          "504 VANDALIA AVENUE",
          "505 WEST 35 STREET",
          "506 VANDALIA AVENUE",
          "508 VANDALIA AVENUE",
          "509 PARK PLACE",
          "51 BEACON COURT",
          "51 DARE COURT",
          "51 EAST 51 STREET",
          "51 EATON COURT",
          "51 FRANK COURT",
          "51 SEBA AVENUE",
          "51 VERONICA PLACE",
          "51-27 QUEENS BLVD.",
          "51-35 REEDER STREET",
          "51-51 69 PLACE",
          "51-99 MANILLA STREET",
          "510 EAST 38 STREET",
          "510 VANDALIA AVENUE",
          "5108 4 AVENUE",
          "5125 BEACH CHANNEL DRIVE",
          "514 AVENUE Y",
          "515 VAN NEST AVENUE",
          "516 SCHROEDERS AVENUE",
          "518 EAST 147 STREET",
          "519 83 STREET",
          "52 BEACON COURT",
          "52 CYRUS AVENUE",
          "52 EATON COURT",
          "52 FRANK COURT",
          "52-03 CENTER BLVD",
          "52-33 METROPOLITAN AVENUE",
          "521 WEST 145 STREET",
          "524 COURT STREET",
          "524 EAST 14 STREET",
          "528 KOSCIUSZKO STREET",
          "529 HERKIMER STREET",
          "53 ABBEY COURT",
          "53 ASTER COURT",
          "53 CANTON COURT",
          "53 FRANK COURT",
          "53-16 105 STREET",
          "53-24 190 STREET",
          "53-50 FRANCIS LEWIS BLVD",
          "53-60 61 STREET",
          "53-85 69 STREET",
          "535 PACIFIC STREET",
          "537 PACIFIC STREET",
          "54 ABBEY COURT",
          "54 BEACON COURT",
          "54 MARCY AVENUE",
          "54 NOEL AVENUE",
          "54 SEBA AVENUE",
          "54-32 153 STREET",
          "545 EAST 166 STREET",
          "546 BEACH 130 STREET",
          "549 CHRISTOPHER AVENUE",
          "55 ASTER COURT",
          "55 CANTON COURT",
          "55 DARE COURT",
          "55 EATON COURT",
          "55 LEE AVENUE",
          "55 PARK DRIVE",
          "55 SEBA AVENUE",
          "55-04 66 STREET",
          "552 PROSPECT PLACE",
          "556 BERGEN AVENUE",
          "56 ASTER COURT",
          "56 BEVY COURT",
          "56 DARE COURT",
          "56 EATON COURT",
          "56 FRANK COURT",
          "56 JEWEL STREET",
          "56 MARCY AVENUE",
          "56 SEBA AVENUE",
          "56-04 135 STREET",
          "56-12 VAN CLEEF STREET",
          "56-20 OCEANIA STREET",
          "564 EAST 29 STREET",
          "569 ELDERT LANE",
          "57 ASTER COURT",
          "57 CANTON COURT",
          "57 FRANK COURT",
          "57 LEE AVENUE",
          "57 MARCOUS GARVEY BLVD",
          "57-16 162 STREET",
          "57-26 159 STREET",
          "57-50 74 STREET",
          "570 EAST 137 STREET",
          "5703 AVENUE O",
          "572 ST. MARKS AVE",
          "5723 KINGS HIGHWAY",
          "5758 KINGS HIGHWAY",
          "577 FLUSHING AVENUE",
          "577 VAN BUREN STREET",
          "58 ASTER COURT",
          "58 DARE COURT",
          "58 MIDDLETON STREET",
          "58 NOEL AVENUE",
          "58-14 GRANGER STREET",
          "58-27 44 AVENUE",
          "58-47 217 STREET",
          "58-51 41 DRIVE",
          "581 VAN BUREN STREET",
          "582 EAST 138 STREET",
          "583 VAN BUREN STREET",
          "586 EAST 32 STREET",
          "588 ONDERDONK AVENUE",
          "59 BAY RIDGE PARKWAY",
          "59 BEACON COURT",
          "59 EATON COURT",
          "59 LEE AVENUE",
          "59 SEBA AVENUE",
          "59-11 160 STREET",
          "59-37 MENAHAN STREET",
          "5902 11 AVENUE",
          "592 7 AVENUE",
          "593 WILLIAMS AVENUE",
          "594 BUSHWICK AVENUE",
          "6 ABBEY COURT",
          "6 CANTON COURT",
          "6 CELESTE COURT",
          "60 BEVY COURT",
          "60 CANTON COURT",
          "60 EAST 112 STREET",
          "60 EATON COURT",
          "60 NOEL AVENUE",
          "60-16 59 ROAD",
          "60-17 56 ROAD",
          "60-78 METROPOLITAN AVENUE",
          "600 BERGEN AVENUE",
          "600 EAST 156 STREET",
          "601 WEST 181 STREET",
          "602 7 AVENUE",
          "603 PONTIAC PLACE",
          "603 VERMONT STREET",
          "605 EAST 39 STREET",
          "606 EAST 54 STREET",
          "607 BARBADOES DRIVE",
          "608 EAST 54 STREET",
          "608 EAST 99 STREET",
          "61 ASTER COURT",
          "61 CANTON COURT",
          "61 DARE COURT",
          "61 LEE AVENUE",
          "61 SUMMIT STREET",
          "61-04 81 STREET",
          "61-15 168 STREET",
          "61-27 56 AVENUE",
          "610 EAST 54 STREET",
          "614 EAST 54 STREET",
          "615 BARBADOES DRIVE",
          "615 DREW STREET",
          "619 CHURCH AVENUE",
          "62 ASTER COURT",
          "62 BEACON COURT",
          "62 FT GREENE PLACE",
          "62 NOEL AVENUE",
          "62 SOUTH 2 STREET",
          "62-11 108 STREET",
          "62-16 HILLMEYER ROAD",
          "62-44 HILLMEYER ROAD",
          "621 MADISON STREET",
          "621 PRESIDENT STREET",
          "627 FAILE STREET",
          "628 BEDFORD AVE",
          "63 BEACON COURT",
          "63 EATON COURT",
          "63 FRANK COURT",
          "63 ROAD",
          "63 STANHOPE STREET",
          "63-15 CARLTON STREET",
          "63-40 BOURTON STREET",
          "63-42 BOURTON STREET",
          "6306 LIEBIG AVENUE",
          "6308 LIEBIG AVENUE",
          "6313 FT HAMILTON PARKWAY",
          "6313 LIEBIG AVENUE",
          "6315 FT HAMILTON PARKWAY",
          "6317 FT HAMILTON PARKWAY",
          "6319 FT HAMILTON PARKWAY",
          "634 POWELL STREET",
          "637 MASDISON STREET",
          "639 EASTERN PARKWAY",
          "64 ASTER COURT",
          "64 CANTON COURT",
          "64 FRANK COURT",
          "64 NOEL AVENUE",
          "64-22 79 STREET",
          "64-53 MADISON STREET",
          "643 SHEFFIELD AVENUE",
          "643A MADISON STREET",
          "647 HUMBOLDT STREET",
          "65 BARTLETT PLACE",
          "65 BEACON COURT",
          "65 DARE COURT",
          "65 PARK DRIVE",
          "65-23 79 STREET",
          "65-25 ROOSEVELT AVE",
          "66 BEACON COURT",
          "66 SOMERS STREET",
          "66-10 75 STREET",
          "66-58 69 STREET",
          "664 NEW YORK AVE",
          "67 ABBEY COURT",
          "67 CANTON COURT",
          "67 DARE COURT",
          "67-16 60 STREET",
          "67-21 185 STREET",
          "67-43 73 PLACE",
          "672 47 STREET",
          "679 VAN SINDEREN AVENUE",
          "68 ASTER COURT",
          "68 BEACON COURT",
          "68 CANTON COURT",
          "68 SOMERS STREET",
          "68-05 50 AVENUE",
          "68-16 MANSE STREET",
          "69 70 STREET",
          "69 ABBEY COURT",
          "69 BARTLETT PLACE",
          "69 CANTON COURT",
          "69 EATON COURT",
          "69-11 166 STREET",
          "69-48 178 STREET",
          "69-60 199 STREET",
          "69-69 112 STREET",
          "690 MACON STREET",
          "691 86 STREET",
          "698 EGAN STREET",
          "7 ABBEY COURT",
          "7 BEVY COURT",
          "7 ELM TREE LANE",
          "70 ASTER COURT",
          "70 ELDERT LANE",
          "70 FLORENCE AVENUE",
          "70-33 71 PLACE",
          "702 BEACH AVENUE",
          "702 CHAUNCEY STREET",
          "702 EAST 103 STREET",
          "702 VANDALIA AVENUE",
          "704 EAST 103 STREET",
          "707 CONEY ISLAND AVENUE",
          "71 ABBEY COURT",
          "71 ASTER COURT",
          "71 GOTHAM AVENUE",
          "71-57 162 STREET",
          "710 EAST 221 STREET",
          "712 EAST 103 STREET",
          "714 EAST 103 STREET",
          "718 EAST 103 STREET",
          "719 ST. NICHOLAS AVENUE",
          "72 ADELPHI STREET",
          "72 BEACON COURT",
          "72 FLORENCE AVENUE",
          "72-04 COOPER AVENUE",
          "720 EAST 103 STREET",
          "720 TIFFANY STREET",
          "723 ARNOE AVENUE",
          "724 EAST 103 STREET",
          "725 PARK AVENUE",
          "726 EAST 103 STREET",
          "728 EAST 103 STREET",
          "729 EAST 32 STREET",
          "729 VANDALIA AVENUE",
          "73 ABBEY COURT",
          "73 CANTON COURT",
          "730 EAST 103 STREET",
          "731 MADISON STREET",
          "731B GREENE AVENUE",
          "734 EAST 103 STREET",
          "735 FENOMORE STREET",
          "739 FENIMORE STREET",
          "740 EAST 103 STREET",
          "741 61 STREET",
          "741 CONCOURSE VILLAGE WEST",
          "742 EAST 103 STREET",
          "743 EAST 217 STREET",
          "744 BEDFORD AVENUE",
          "745 EAST 217 STREET",
          "746 EAST 103 STREET",
          "75 SUYDAM STREET",
          "75-04 60 LANE",
          "75-44 178 STREET",
          "750 EAST 103 STREET",
          "752 EAST 103 STREET",
          "755 CLEVELAND STREET",
          "755 EAST 87 STREET",
          "757 BERGEN STREET",
          "757 CLEVELAND STREET",
          "76 ASTER COURT",
          "76 CANTON COURT",
          "76 GOTHAM AVENUE",
          "760 EAST 223 STREET",
          "7607 3 AVENUE",
          "764 EAST 32 STREET",
          "77 8 AVENUE",
          "77 PARK DRIVE",
          "77 SUYDAM STREET",
          "77-43 76 STREET",
          "7707 RIDGE BOULEVARD",
          "771 EAST 32 STREET",
          "774 LEXINGTON AVENUE",
          "775 CROTONA PARK NORTH",
          "78 BEACON COURT",
          "78 FLORENCE AVENUE",
          "78-03 164 STREET",
          "78-39 79 PLACE",
          "78-52 83 STREET",
          "785 METROPOLITAN AVENUE",
          "79 AVENUE D",
          "79 BEACON COURT",
          "79 SUYDAM STREET",
          "79-01 KNEELAND AVENUE",
          "79-05 WOODHAVEN BOULEVARD",
          "79-09 WOODHAVEN BOULEVARD",
          "79-11 WOODHAVEN BOULEVARD",
          "79-15 WOODHAVEN BOULEVARD",
          "79-17 WOODHAVEN BOULEVARD",
          "79-21 WOODHAVEN BOULEVARD",
          "79-39 69 ROAD",
          "792 MADISON STREET",
          "8 ASTER COURT",
          "8 BEACON COURT",
          "8 CELESTE COURT",
          "8 DARE COURT",
          "8 DICTUM COURT",
          "8 EAST 4 STREET",
          "8 JEROME STREET",
          "80 JACKIE ROBINSON PKWY",
          "80-57 LEFFERTS BOULEVARD",
          "80-59 LEFFERTS BOULEVARD",
          "80-61 LEFFERTS BOULEVARD",
          "800 FLATBUSH AVENUE",
          "800 HENDRIX STREET",
          "800 UNION STREET",
          "801 EAST 181 STREET",
          "803 E 218 STREET",
          "81 BARTLETT PLACE",
          "81 BEECH TREE LANE",
          "81 SUYDAM STREET",
          "81 WARREN STREET",
          "81-16 DONGAN AVENUE",
          "811 EAST 38 STREET",
          "8134 BAY 16 STREET",
          "815 5 AVNENUE",
          "815 JEFFERSON AVENUE",
          "816 WASHINGTON AVE",
          "817A 5 AVENUE",
          "818 EAST 220 STREET",
          "82 GOTHAM AVENUE",
          "820 THIERIOT AVENUE",
          "828 EAST 149 STREET",
          "83 PARK DRIVE",
          "83 STREET",
          "83 SUYDAM STREET",
          "83-01 94 STREET",
          "83-02 94 STREET",
          "83-03 94 STREET",
          "83-04 94 STREET",
          "83-05 94 STREET",
          "83-06 94 STREET",
          "83-07 94 STREET",
          "83-08 94 STREET",
          "83-09 94 STREET",
          "83-11 94 STREET",
          "83-12 94 STREET",
          "83-13 94 STREET",
          "83-14 94 STREET",
          "83-15 94 STREET",
          "83-16 94 STREET",
          "83-18 58 AVENUE",
          "83-18 94 STREET",
          "83-20 94 STREET",
          "83-46 PENELOPE AVENUE",
          "83-55 WOODHAVEN BOULEVARD",
          "83-75 WOODHAVEN BOULEVARD",
          "83-85 WOODHAVEN BOULEVARD",
          "83-87 WOODHAVEN BOULEVARD",
          "83-97 WOODHAVEN BOULEVARD",
          "8308 14 AVENUE",
          "84 ABBEY COURT",
          "84 BEECH TREE LANE",
          "84-01 89 STREET",
          "84-22 102 AVENUE",
          "84-37 RADNOR STREET",
          "84-54 86 AVENUE",
          "84-56 98 STREET",
          "8411 17 AVENUE",
          "847 ST. NICHOLAS AVENUE",
          "85 EAST 45 STREET",
          "85 EASTERN PARKWAY",
          "85 GRAHAM AVE",
          "85 GREENWAY TERRACE",
          "85-19 123 STREET",
          "85-57A 66 ROAD",
          "85-87 RUTLEDGE STREET",
          "851 47 STREET",
          "858 EAST 37 STREET",
          "86 BEECH TREE LANE",
          "86 STREET",
          "86-13 124 STREET",
          "87 BARTLETT PLACE",
          "87 CALYER STREET",
          "87-18 76 STREET",
          "87-19 51 AVENUE",
          "87-39 116 STREET",
          "87-44 168 PLACE",
          "87-85 144 STREET",
          "876 ST JOHNS PLACE",
          "88 BEECH TREE LANE",
          "88 GOTHAM AVENUE",
          "88-15 ASTORIA BOULEVARD",
          "88-17 ASTORIA BOULEVARD",
          "88-21 ASTORIA BOULEVARD",
          "88-23 ASTORIA BOULEVARD",
          "88-24 MERRICK BOULEVARD",
          "88-31 DORAN AVENUE",
          "88-36 213 STREET",
          "88-56 195 STREET",
          "889 BUSHWICK AVENUE",
          "89 BARTLETT PLACE",
          "89 PARK DRIVE",
          "89-28 182 PLACE",
          "89-38 218 STREET",
          "89-46 164 STREET",
          "8907 SHORE COURT",
          "8918 16 AVENUE",
          "9 CELESTE COURT",
          "9-26 129 STREET",
          "90 BEECH TREE LANE",
          "90 GOTHAM AVENUE",
          "90-04 SILVER ROAD",
          "90-06 101 AVENUE",
          "90-13 56 AVENUE",
          "90-17 56 AVENUE",
          "90-20 50 AVENUE",
          "90-29 138 PLACE",
          "90-31 53 AVENUE",
          "905 HICKSVILLE ROAD",
          "907 HICKSVILLE ROAD",
          "909 BECK STREET",
          "909 HICKSVILLE ROAD",
          "91 BARTLETT PLACE",
          "91-23 109 STREET",
          "91-25 LEFFERTS BOULEVARD",
          "91-46 87 STREET",
          "91-47 80 STREET",
          "91-48 87 STREET",
          "911 BRYANT AVE",
          "911 HICKSVILLE ROAD",
          "913 EAST TREMONT AVENUE",
          "917 WESTCHESTER AVE",
          "92 GOTHAM AVENUE",
          "92-15 JAMAICA AVENUE",
          "92-23 168 STREET",
          "920 WILCOX AVENUE",
          "929 CLEVELAND STREET",
          "93 BARTLETT PLACE",
          "93 WYCKOFF STREET",
          "937 42 STREET",
          "94 NORTH 3 STREET",
          "94-07 108 STREET",
          "94-13 120 STREET",
          "94-15 134 STREET",
          "94-38 109 AVENUE",
          "94-47 ALSTYNE AVENUE",
          "94-66 45 AVENUE",
          "949 PACIFIC STREET",
          "95 PARK DRIVE",
          "95 ST MARKS PLACE",
          "95-05 ASTORIA BLVD",
          "95-13 50 AVENUE",
          "95-15 50 AVENUE",
          "950 SUTTER AVENUE",
          "96 GOTHAM AVENUE",
          "96 NEW LOTS AVE",
          "96-07 68 AVENUE",
          "96-43 CORONA AVE",
          "960 PROSPECT AVE",
          "966 GATES AVENUE",
          "967 BEDFORD AVE",
          "97 BARTLETT PLACE",
          "97 JAVA STREET",
          "97-24 95 STREET",
          "97-26 125 STREET",
          "97-39 105 STREET",
          "977 EAST 34 STREET",
          "979 ASHFORD STREET",
          "98-15 34 AVENUE",
          "98-16 197 STREET",
          "98-37 CORONA AVENUE",
          "980 WESTCHESTER AVENUE",
          "988 EAST 180 STREET",
          "99-20 32 AVENUE",
          "99-22 65 AVENUE",
          "BAY 22 STREET",
          "EAST 13 STREET",
          "EAST 230 STREET",
          "EAST 32 STREET"
         ],
         "type": "scattermapbox"
        }
       ],
       "layout": {
        "autosize": true,
        "geo": {},
        "mapbox": {
         "bearing": 0,
         "center": {
          "lat": 40.715941712739465,
          "lon": -74.33400690782975
         },
         "pitch": 0,
         "style": "carto-positron",
         "zoom": 18.11789587173393
        },
        "showlegend": false,
        "template": {
         "data": {
          "bar": [
           {
            "error_x": {
             "color": "#2a3f5f"
            },
            "error_y": {
             "color": "#2a3f5f"
            },
            "marker": {
             "line": {
              "color": "#E5ECF6",
              "width": 0.5
             },
             "pattern": {
              "fillmode": "overlay",
              "size": 10,
              "solidity": 0.2
             }
            },
            "type": "bar"
           }
          ],
          "barpolar": [
           {
            "marker": {
             "line": {
              "color": "#E5ECF6",
              "width": 0.5
             },
             "pattern": {
              "fillmode": "overlay",
              "size": 10,
              "solidity": 0.2
             }
            },
            "type": "barpolar"
           }
          ],
          "carpet": [
           {
            "aaxis": {
             "endlinecolor": "#2a3f5f",
             "gridcolor": "white",
             "linecolor": "white",
             "minorgridcolor": "white",
             "startlinecolor": "#2a3f5f"
            },
            "baxis": {
             "endlinecolor": "#2a3f5f",
             "gridcolor": "white",
             "linecolor": "white",
             "minorgridcolor": "white",
             "startlinecolor": "#2a3f5f"
            },
            "type": "carpet"
           }
          ],
          "choropleth": [
           {
            "colorbar": {
             "outlinewidth": 0,
             "ticks": ""
            },
            "type": "choropleth"
           }
          ],
          "contour": [
           {
            "colorbar": {
             "outlinewidth": 0,
             "ticks": ""
            },
            "colorscale": [
             [
              0,
              "#0d0887"
             ],
             [
              0.1111111111111111,
              "#46039f"
             ],
             [
              0.2222222222222222,
              "#7201a8"
             ],
             [
              0.3333333333333333,
              "#9c179e"
             ],
             [
              0.4444444444444444,
              "#bd3786"
             ],
             [
              0.5555555555555556,
              "#d8576b"
             ],
             [
              0.6666666666666666,
              "#ed7953"
             ],
             [
              0.7777777777777778,
              "#fb9f3a"
             ],
             [
              0.8888888888888888,
              "#fdca26"
             ],
             [
              1,
              "#f0f921"
             ]
            ],
            "type": "contour"
           }
          ],
          "contourcarpet": [
           {
            "colorbar": {
             "outlinewidth": 0,
             "ticks": ""
            },
            "type": "contourcarpet"
           }
          ],
          "heatmap": [
           {
            "colorbar": {
             "outlinewidth": 0,
             "ticks": ""
            },
            "colorscale": [
             [
              0,
              "#0d0887"
             ],
             [
              0.1111111111111111,
              "#46039f"
             ],
             [
              0.2222222222222222,
              "#7201a8"
             ],
             [
              0.3333333333333333,
              "#9c179e"
             ],
             [
              0.4444444444444444,
              "#bd3786"
             ],
             [
              0.5555555555555556,
              "#d8576b"
             ],
             [
              0.6666666666666666,
              "#ed7953"
             ],
             [
              0.7777777777777778,
              "#fb9f3a"
             ],
             [
              0.8888888888888888,
              "#fdca26"
             ],
             [
              1,
              "#f0f921"
             ]
            ],
            "type": "heatmap"
           }
          ],
          "heatmapgl": [
           {
            "colorbar": {
             "outlinewidth": 0,
             "ticks": ""
            },
            "colorscale": [
             [
              0,
              "#0d0887"
             ],
             [
              0.1111111111111111,
              "#46039f"
             ],
             [
              0.2222222222222222,
              "#7201a8"
             ],
             [
              0.3333333333333333,
              "#9c179e"
             ],
             [
              0.4444444444444444,
              "#bd3786"
             ],
             [
              0.5555555555555556,
              "#d8576b"
             ],
             [
              0.6666666666666666,
              "#ed7953"
             ],
             [
              0.7777777777777778,
              "#fb9f3a"
             ],
             [
              0.8888888888888888,
              "#fdca26"
             ],
             [
              1,
              "#f0f921"
             ]
            ],
            "type": "heatmapgl"
           }
          ],
          "histogram": [
           {
            "marker": {
             "pattern": {
              "fillmode": "overlay",
              "size": 10,
              "solidity": 0.2
             }
            },
            "type": "histogram"
           }
          ],
          "histogram2d": [
           {
            "colorbar": {
             "outlinewidth": 0,
             "ticks": ""
            },
            "colorscale": [
             [
              0,
              "#0d0887"
             ],
             [
              0.1111111111111111,
              "#46039f"
             ],
             [
              0.2222222222222222,
              "#7201a8"
             ],
             [
              0.3333333333333333,
              "#9c179e"
             ],
             [
              0.4444444444444444,
              "#bd3786"
             ],
             [
              0.5555555555555556,
              "#d8576b"
             ],
             [
              0.6666666666666666,
              "#ed7953"
             ],
             [
              0.7777777777777778,
              "#fb9f3a"
             ],
             [
              0.8888888888888888,
              "#fdca26"
             ],
             [
              1,
              "#f0f921"
             ]
            ],
            "type": "histogram2d"
           }
          ],
          "histogram2dcontour": [
           {
            "colorbar": {
             "outlinewidth": 0,
             "ticks": ""
            },
            "colorscale": [
             [
              0,
              "#0d0887"
             ],
             [
              0.1111111111111111,
              "#46039f"
             ],
             [
              0.2222222222222222,
              "#7201a8"
             ],
             [
              0.3333333333333333,
              "#9c179e"
             ],
             [
              0.4444444444444444,
              "#bd3786"
             ],
             [
              0.5555555555555556,
              "#d8576b"
             ],
             [
              0.6666666666666666,
              "#ed7953"
             ],
             [
              0.7777777777777778,
              "#fb9f3a"
             ],
             [
              0.8888888888888888,
              "#fdca26"
             ],
             [
              1,
              "#f0f921"
             ]
            ],
            "type": "histogram2dcontour"
           }
          ],
          "mesh3d": [
           {
            "colorbar": {
             "outlinewidth": 0,
             "ticks": ""
            },
            "type": "mesh3d"
           }
          ],
          "parcoords": [
           {
            "line": {
             "colorbar": {
              "outlinewidth": 0,
              "ticks": ""
             }
            },
            "type": "parcoords"
           }
          ],
          "pie": [
           {
            "automargin": true,
            "type": "pie"
           }
          ],
          "scatter": [
           {
            "fillpattern": {
             "fillmode": "overlay",
             "size": 10,
             "solidity": 0.2
            },
            "type": "scatter"
           }
          ],
          "scatter3d": [
           {
            "line": {
             "colorbar": {
              "outlinewidth": 0,
              "ticks": ""
             }
            },
            "marker": {
             "colorbar": {
              "outlinewidth": 0,
              "ticks": ""
             }
            },
            "type": "scatter3d"
           }
          ],
          "scattercarpet": [
           {
            "marker": {
             "colorbar": {
              "outlinewidth": 0,
              "ticks": ""
             }
            },
            "type": "scattercarpet"
           }
          ],
          "scattergeo": [
           {
            "marker": {
             "colorbar": {
              "outlinewidth": 0,
              "ticks": ""
             }
            },
            "type": "scattergeo"
           }
          ],
          "scattergl": [
           {
            "marker": {
             "colorbar": {
              "outlinewidth": 0,
              "ticks": ""
             }
            },
            "type": "scattergl"
           }
          ],
          "scattermapbox": [
           {
            "marker": {
             "colorbar": {
              "outlinewidth": 0,
              "ticks": ""
             }
            },
            "type": "scattermapbox"
           }
          ],
          "scatterpolar": [
           {
            "marker": {
             "colorbar": {
              "outlinewidth": 0,
              "ticks": ""
             }
            },
            "type": "scatterpolar"
           }
          ],
          "scatterpolargl": [
           {
            "marker": {
             "colorbar": {
              "outlinewidth": 0,
              "ticks": ""
             }
            },
            "type": "scatterpolargl"
           }
          ],
          "scatterternary": [
           {
            "marker": {
             "colorbar": {
              "outlinewidth": 0,
              "ticks": ""
             }
            },
            "type": "scatterternary"
           }
          ],
          "surface": [
           {
            "colorbar": {
             "outlinewidth": 0,
             "ticks": ""
            },
            "colorscale": [
             [
              0,
              "#0d0887"
             ],
             [
              0.1111111111111111,
              "#46039f"
             ],
             [
              0.2222222222222222,
              "#7201a8"
             ],
             [
              0.3333333333333333,
              "#9c179e"
             ],
             [
              0.4444444444444444,
              "#bd3786"
             ],
             [
              0.5555555555555556,
              "#d8576b"
             ],
             [
              0.6666666666666666,
              "#ed7953"
             ],
             [
              0.7777777777777778,
              "#fb9f3a"
             ],
             [
              0.8888888888888888,
              "#fdca26"
             ],
             [
              1,
              "#f0f921"
             ]
            ],
            "type": "surface"
           }
          ],
          "table": [
           {
            "cells": {
             "fill": {
              "color": "#EBF0F8"
             },
             "line": {
              "color": "white"
             }
            },
            "header": {
             "fill": {
              "color": "#C8D4E3"
             },
             "line": {
              "color": "white"
             }
            },
            "type": "table"
           }
          ]
         },
         "layout": {
          "annotationdefaults": {
           "arrowcolor": "#2a3f5f",
           "arrowhead": 0,
           "arrowwidth": 1
          },
          "autotypenumbers": "strict",
          "coloraxis": {
           "colorbar": {
            "outlinewidth": 0,
            "ticks": ""
           }
          },
          "colorscale": {
           "diverging": [
            [
             0,
             "#8e0152"
            ],
            [
             0.1,
             "#c51b7d"
            ],
            [
             0.2,
             "#de77ae"
            ],
            [
             0.3,
             "#f1b6da"
            ],
            [
             0.4,
             "#fde0ef"
            ],
            [
             0.5,
             "#f7f7f7"
            ],
            [
             0.6,
             "#e6f5d0"
            ],
            [
             0.7,
             "#b8e186"
            ],
            [
             0.8,
             "#7fbc41"
            ],
            [
             0.9,
             "#4d9221"
            ],
            [
             1,
             "#276419"
            ]
           ],
           "sequential": [
            [
             0,
             "#0d0887"
            ],
            [
             0.1111111111111111,
             "#46039f"
            ],
            [
             0.2222222222222222,
             "#7201a8"
            ],
            [
             0.3333333333333333,
             "#9c179e"
            ],
            [
             0.4444444444444444,
             "#bd3786"
            ],
            [
             0.5555555555555556,
             "#d8576b"
            ],
            [
             0.6666666666666666,
             "#ed7953"
            ],
            [
             0.7777777777777778,
             "#fb9f3a"
            ],
            [
             0.8888888888888888,
             "#fdca26"
            ],
            [
             1,
             "#f0f921"
            ]
           ],
           "sequentialminus": [
            [
             0,
             "#0d0887"
            ],
            [
             0.1111111111111111,
             "#46039f"
            ],
            [
             0.2222222222222222,
             "#7201a8"
            ],
            [
             0.3333333333333333,
             "#9c179e"
            ],
            [
             0.4444444444444444,
             "#bd3786"
            ],
            [
             0.5555555555555556,
             "#d8576b"
            ],
            [
             0.6666666666666666,
             "#ed7953"
            ],
            [
             0.7777777777777778,
             "#fb9f3a"
            ],
            [
             0.8888888888888888,
             "#fdca26"
            ],
            [
             1,
             "#f0f921"
            ]
           ]
          },
          "colorway": [
           "#636efa",
           "#EF553B",
           "#00cc96",
           "#ab63fa",
           "#FFA15A",
           "#19d3f3",
           "#FF6692",
           "#B6E880",
           "#FF97FF",
           "#FECB52"
          ],
          "font": {
           "color": "#2a3f5f"
          },
          "geo": {
           "bgcolor": "white",
           "lakecolor": "white",
           "landcolor": "#E5ECF6",
           "showlakes": true,
           "showland": true,
           "subunitcolor": "white"
          },
          "hoverlabel": {
           "align": "left"
          },
          "hovermode": "closest",
          "mapbox": {
           "style": "light"
          },
          "paper_bgcolor": "white",
          "plot_bgcolor": "#E5ECF6",
          "polar": {
           "angularaxis": {
            "gridcolor": "white",
            "linecolor": "white",
            "ticks": ""
           },
           "bgcolor": "#E5ECF6",
           "radialaxis": {
            "gridcolor": "white",
            "linecolor": "white",
            "ticks": ""
           }
          },
          "scene": {
           "xaxis": {
            "backgroundcolor": "#E5ECF6",
            "gridcolor": "white",
            "gridwidth": 2,
            "linecolor": "white",
            "showbackground": true,
            "ticks": "",
            "zerolinecolor": "white"
           },
           "yaxis": {
            "backgroundcolor": "#E5ECF6",
            "gridcolor": "white",
            "gridwidth": 2,
            "linecolor": "white",
            "showbackground": true,
            "ticks": "",
            "zerolinecolor": "white"
           },
           "zaxis": {
            "backgroundcolor": "#E5ECF6",
            "gridcolor": "white",
            "gridwidth": 2,
            "linecolor": "white",
            "showbackground": true,
            "ticks": "",
            "zerolinecolor": "white"
           }
          },
          "shapedefaults": {
           "line": {
            "color": "#2a3f5f"
           }
          },
          "ternary": {
           "aaxis": {
            "gridcolor": "white",
            "linecolor": "white",
            "ticks": ""
           },
           "baxis": {
            "gridcolor": "white",
            "linecolor": "white",
            "ticks": ""
           },
           "bgcolor": "#E5ECF6",
           "caxis": {
            "gridcolor": "white",
            "linecolor": "white",
            "ticks": ""
           }
          },
          "title": {
           "x": 0.05
          },
          "xaxis": {
           "automargin": true,
           "gridcolor": "white",
           "linecolor": "white",
           "ticks": "",
           "title": {
            "standoff": 15
           },
           "zerolinecolor": "white",
           "zerolinewidth": 2
          },
          "yaxis": {
           "automargin": true,
           "gridcolor": "white",
           "linecolor": "white",
           "ticks": "",
           "title": {
            "standoff": 15
           },
           "zerolinecolor": "white",
           "zerolinewidth": 2
          }
         }
        },
        "title": {
         "text": "Residential"
        }
       }
      },
      "image/png": "[encoded data removed]",
      "text/html": [
       "<div>                            <div id=\"1ef92d41-ff96-4c30-9d04-9eb3396e797c\" class=\"plotly-graph-div\" style=\"height:525px; width:100%;\"></div>            <script type=\"text/javascript\">                require([\"plotly\"], function(Plotly) {                    window.PLOTLYENV=window.PLOTLYENV || {};                                    if (document.getElementById(\"1ef92d41-ff96-4c30-9d04-9eb3396e797c\")) {                    Plotly.newPlot(                        \"1ef92d41-ff96-4c30-9d04-9eb3396e797c\",                        [{\"lat\":[40.6929217,40.6929271,40.769276,40.7654184,40.765369,40.7653086,40.7652647,40.7653609,40.7654213,40.7654789,40.7655393,40.7738436,40.7738186,40.7730593,40.7736034,40.7744148,40.775003,40.7890661,40.7909693],\"line\":{\"color\":\"blue\"},\"locationmode\":\"USA-states\",\"lon\":[-74.0176373,-74.0183477,-73.9483091,-73.9516044,-73.9516514,-73.951702,-73.9517453,-73.9520954,-73.9520448,-73.9519906,-73.9519401,-73.9901844,-73.9899482,-73.9900154,-73.9913001,-73.9914842,-73.9907297,-73.9243907,-73.921922],\"mode\":\"lines\",\"type\":\"scattergeo\"},{\"lat\":[40.7757814,40.87057,40.8855239,40.834859,40.6651555,40.6799076,40.6334907,40.7268334,40.8765305,40.8731923,40.6923886,40.591896,40.7189296,40.5914134,40.7556018,40.7764881,40.5920912,40.5864522,40.8865348,40.7880019,40.6017478,40.5867072,40.5911164,40.6978827,40.7528575,40.6832638,40.7120485,40.6878555,40.5908469,40.5896772,40.589477,40.6934311,40.8871266,40.7118125,40.6804675,40.7577571,40.6283208,40.5898775,40.5895977,40.591163,40.5890082,40.6523367,40.7239896,40.6623846,40.8348076,40.6788616,40.5895649,40.5891756,40.7404656,40.6831347,40.7376988,40.7438128,40.6817504,40.8268499,40.8242666,40.5900695,40.5894387,40.5892907,40.5912069,40.7434707,40.6993122,40.6773737,40.8879443,40.6822856,40.6540864,40.828428,40.8761611,40.8284993,40.6420677,40.8285571,40.5902341,40.5898448,40.5896473,40.6913046,40.7531613,40.6242673,40.6419662,40.6207563,40.5900066,40.5891785,40.7606013,40.760593,40.7605269,40.6961609,40.630763,40.5901273,40.5897325,40.6857615,40.684595,40.7087493,40.6954637,40.6873598,40.6872856,40.6872087,40.5962384,40.589609,40.589461,40.5912946,40.5893048,40.5815075,40.7480987,40.7509355,40.6978839,40.7502954,40.7446429,40.7439537,40.6921613,40.7509628,40.6905134,40.7509901,40.6977603,40.7510175,40.7510475,40.697697,40.6976311,40.7460652,40.7515337,40.7515583,40.7511022,40.7516048,40.7516512,40.7502298,40.5902098,40.5900123,40.6569472,40.7054961,40.6911344,40.7046458,40.6436083,40.5924067,40.5866439,40.5920091,40.5865925,40.5864829,40.8853452,40.8870927,40.8882509,40.7465557,40.7465502,40.7468329,40.7468219,40.746542,40.7465337,40.7468137,40.7468027,40.7465227,40.7465117,40.7467944,40.7467834,40.7465035,40.7464952,40.7467724,40.7467641,40.746487,40.746476,40.7467559,40.7467449,40.7464567,40.7467366,40.7467256,40.7464457,40.746432,40.7464209,40.7464127,40.7464044,40.7463934,40.6113194,40.7695978,40.6112539,40.6111884,40.6063585,40.6109317,40.610869,40.6106696,40.6810805,40.5803806,40.7843102,40.668705,40.631149,40.63446,40.8075514,40.7495169,40.7495661,40.6548618,40.8286285,40.6547794,40.6547025,40.6546283,40.6568786,40.6545514,40.5904101,40.5901742,40.590018,40.5895846,40.693684,40.7528035,40.7271379,40.6544717,40.6330604,40.6543948,40.6292798,40.5897466,40.8644132,40.6914687,40.6981733,40.6231256,40.5902978,40.589711,40.6926521,40.7885598,40.5804644,40.6880992,40.7887767,40.7888832,40.7888913,40.7888939,40.6779849,40.5803278,40.6968081,40.6980116,40.7897871,40.8306491,40.8270433,40.6420116,40.5902623,40.6884062,40.6868063,40.5905749,40.5903829,40.5899469,40.5897961,40.5914756,40.697484,40.7849129,40.6272239,40.8347698,40.5907368,40.5905449,40.5901967,40.5899553,40.5897634,40.6863153,40.7090464,40.6815974,40.6928764,40.688564,40.6442645,40.8347199,40.5908192,40.6884281,40.5900405,40.5898485,40.688168,40.6845319,40.6803507,40.6830959,40.5867646,40.5924671,40.8866919,40.6894849,40.7864887,40.5905505,40.5903531,40.6754357,40.683041,40.6829861,40.5899312,40.6911413,40.6367619,40.6836833,40.6842067,40.7799294,40.6837274,40.6194801,40.6892599,40.6742968,40.8305452,40.8806865,40.636224,40.6207597,40.6275805,40.673295,40.6423379,40.6965698,40.8869172,40.6985084,40.6713653,40.6393932,40.6802369,40.6352413,40.6269186,40.6268527,40.6528876,40.6268614,40.7143508,40.6685677,40.6528107,40.6413799,40.5923602,40.5866196,40.5920832,40.5918062,40.5865654,40.6108992,40.6071847,40.7139006,40.6700433,40.8072574,40.6703803,40.6769591,40.7566361,40.8321873,40.8386213,40.681792,40.7860596,40.6704708,40.6692917,40.6270401,40.6388447,40.677702,40.8406007,40.7639455,40.7455307,40.6704609,40.8868339,40.6762217,40.6752301,40.8072899,40.6177817,40.6368921,40.7025342,40.6665347,40.6718695,40.6717453,40.672401,40.6719325,40.7498337,40.6154539,40.637062,40.6368206,40.6370153,40.7455908,40.6740042,40.668345,40.586847,40.5867347,40.5866197,40.5867216,40.7859471,40.6106293,40.7852517,40.7852496,40.7724134,40.7870755,40.7177532,40.7032145,40.6275972,40.616362,40.6469074,40.6364883,40.6825078,40.7124378,40.88421,40.6774758,40.7568949,40.8840056,40.6147447,40.692252,40.7513773,40.6643142,40.6626119,40.6364966,40.6255182,40.8839377,40.8838316,40.8836472,40.6931207,40.72469,40.7308205,40.763311,40.7647235,40.6238122,40.8834844,40.637225,40.8834425,40.6203675,40.8838822,40.8836148,40.8015325,40.6605775,40.6599113,40.6635409,40.6634449,40.6378095,40.8842272,40.6388413,40.6935187,40.7437503,40.7936814,40.6248846,40.7005368,40.6584433,40.6568157,40.6992668,40.6899093,40.655947,40.6188935,40.614729,40.6369562,40.6821264,40.6757133,40.7596204,40.7584348,40.6706984,40.5868115,40.5992048,40.586702,40.885243,40.8832332,40.7039013,40.6113554,40.6114921,40.6114076,40.6115361,40.6114516,40.6116269,40.6115424,40.6116736,40.6115891,40.6116332,40.6117203,40.6117643,40.6117212,40.6118111,40.7856991,40.8767321,40.797342,40.7972012,40.7210397,40.7966024,40.7966708,40.7964043,40.7967392,40.7968076,40.7820791,40.771344,40.7220594,40.6359447,40.7807689,40.6973271,40.6357251,40.6148422,40.8208141,40.6355799,40.8624975,40.6354506,40.5783146,40.6517449,40.6914959,40.7032618,40.6796522,40.6764125,40.6900848,40.638845,40.6386809,40.6385743,40.7919069,40.6360499,40.6724866,40.8330777,40.6124264,40.6358807,40.6384842,40.6384432,40.6386103,40.6384022,40.6383448,40.6368151,40.6365921,40.6382628,40.6379413,40.6381589,40.6378784,40.6381415,40.6377992,40.6380126,40.6379621,40.6376379,40.6378828,40.6648241,40.6379945,40.6378684,40.6375368,40.6373148,40.6374183,40.6375731,40.6370955,40.6372269,40.6370574,40.6373899,40.6372751,40.6372013,40.6369508,40.6368907,40.6370945,40.6370206,40.6369329,40.6367401,40.8394753,40.6716608,40.833607,40.6125744,40.6105278,40.6888386,40.6951452,40.7367936,40.7499433,40.6085938,40.6108395,40.6800279,40.690571,40.6754757,40.5868171,40.5923027,40.5920669,40.5867684,40.7846676,40.5829965,40.7155876,40.7780125,40.7540578,40.7540522,40.65498,40.6806969,40.6333428,40.722282,40.7070993,40.6333578,40.6079717,40.7623825,40.6487622,40.8472341,40.7225568,40.6835799,40.6501262,40.6175253,40.6326727,40.84908,40.8397183,40.7164942,40.607431,40.6694368,40.5829718,40.7222142,40.7745174,40.7772803,40.6115869,40.6107223,40.6149551,40.8655978,40.6067342,40.6176169,40.6294517,40.6099757,40.6623972,40.6764814,40.6855269,40.5924646,40.5868479,40.5867741,40.586964,40.7832346,40.6064245,40.6987411,40.7052887,40.5803687,40.5943823,40.6824774,40.6140452,40.5944482,40.7310917,40.6156766,40.6940156,40.6302063,40.5945168,40.7076528,40.7076774,40.7076855,40.7076936,40.7076687,40.7076768,40.7076849,40.707693,40.7077011,40.6782274,40.6728156,40.7817208,40.6188407,40.6072529,40.6824337,40.6870085,40.6727307,40.6841789,40.6841259,40.6060456,40.5923714,40.5868919,40.8831333,40.781708,40.658956,40.8451038,40.7886808,40.7097729,40.6687441,40.6637927,40.81537,40.6109763,40.6786409,40.8393834,40.7104013,40.6219778,40.577609,40.7241106,40.6758713,40.6060299,40.6101898,40.7107728,40.6864607,40.6277901,40.7060225,40.6909412,40.6980845,40.5869791,40.5868695,40.5920562,40.6065631,40.6912414,40.8386329,40.7843395,40.7846633,40.7635213,40.6928435,40.8391125,40.7189731,40.7190523,40.6245104,40.8400078,40.6067094,40.5997979,40.6034019,40.5774333,40.6844012,40.712286,40.7191204,40.6963059,40.8226396,40.6038001,40.5998184,40.6020009,40.5811229,40.70776,40.6084029,40.6035424,40.7136896,40.6511964,40.7136549,40.7142676,40.7143029,40.756719,40.8514583,40.6248971,40.6655543,40.5918056,40.8865219,40.888389,40.7393077,40.5927033,40.5869847,40.5924456,40.5922454,40.5869829,40.8827961,40.7755262,40.771367,40.5743914,40.6208352,40.5982231,40.6925698,40.7496589,40.7548936,40.6205869,40.6149162,40.6980989,40.6741551,40.6124016,40.7639838,40.7556014,40.7571003,40.6202203,40.8330726,40.6718123,40.6042253,40.7538747,40.7563155,40.8566119,40.7115281,40.5986908,40.8937768,40.5870642,40.5869547,40.5923689,40.6068245,40.7799631,40.7463102,40.7462937,40.7462772,40.6892057,40.718229,40.7295965,40.7707211,40.7586213,40.7592944,40.6460815,40.8102126,40.8084413,40.6194018,40.8315204,40.6625337,40.604291,40.6925113,40.7653179,40.7337444,40.856957,40.673558,40.7073561,40.5871821,40.592517,40.8831197,40.7686466,40.6054728,40.7117855,40.6872605,40.6713589,40.8139956,40.6571681,40.6057865,40.6644003,40.6598169,40.6131385,40.5961996,40.6138866,40.8096251,40.7221645,40.5924403,40.7773345,40.5870492,40.732169,40.7773866,40.6026595,40.782056,40.7652794,40.7662742,40.6690613,40.8563958,40.5973954,40.7708547,40.6744762,40.5997475,40.7331188,40.7096339,40.6038733,40.8554873,40.6580161,40.8561219,40.8181123,40.8125446,40.5872645,40.5925911,40.58704,40.5923526,40.5870548,40.587183,40.7134726,40.7739277,40.7708754,40.7678658,40.6007439,40.6006892,40.7643701,40.7642519,40.7641778,40.764112,40.6747978,40.6574946,40.6832799,40.7674527,40.6736088,40.8624049,40.6746516,40.8094245,40.8629955,40.5928574,40.5871755,40.8851408,40.7671041,40.7760373,40.7740111,40.6005468,40.776002,40.7617273,40.7757246,40.7673109,40.7672422,40.7652975,40.639489,40.7012505,40.7014922,40.8635319,40.8642632,40.6902174,40.7671576,40.8116078,40.5957081,40.5956504,40.5954719,40.6725644,40.5951203,40.5950599,40.5930055,40.5927669,40.5871671,40.58714,40.7134067,40.6856041,40.6779319,40.7705257,40.7688676,40.7777505,40.5946616,40.7145416,40.5945435,40.5944831,40.815367,40.6623349,40.730906,40.5888246,40.7159468,40.6422664,40.682844,40.5870492,40.592892,40.5929288,40.5872074,40.5926903,40.5875124,40.8681772,40.5930905,40.6335922,40.6485848,40.6480909,40.5857958,40.6609693,40.5921346,40.8674857,40.5854471,40.5930769,40.5872103,40.5873777,40.7606895,40.650337,40.6811406,40.6491032,40.6816227,40.6146869,40.6679927,40.5910249,40.590959,40.590926,40.5908271,40.5906568,40.5906239,40.5905579,40.8352813,40.5904206,40.6696016,40.5903217,40.5902558,40.5902201,40.661002,40.5772018,40.8678632,40.5772262,40.5929975,40.5872926,40.5874385,40.6784839,40.7623311,40.670444,40.5896543,40.5896213,40.5895554,40.6483452,40.5894894,40.5894537,40.5893878,40.5892889,40.6643052,40.7086319,40.5745061,40.5887092,40.5886268,40.5885088,40.8201435,40.5881187,40.6835715,40.5917262,40.7645958,40.58752,40.5931483,40.5874469,40.5873786,40.7614413,40.7672531,40.7671927,40.7610251,40.7635542,40.6862019,40.584877,40.5849371,40.5849699,40.8697646,40.7336017,40.5877314,40.6442521,40.8702539,40.5915717,40.7269381,40.5874319,40.5873468,40.5872644,40.5849432,40.584976,40.5850006,40.5850252,40.5850498,40.5850717,40.585099,40.57824,40.5871792,40.5916294,40.5870968,40.5869733,40.5869292,40.5868441,40.591687,40.5864816,40.8700854,40.5864101,40.5917447,40.5875312,40.5928304,40.6835578,40.5873102,40.7567417,40.7594084,40.6969263,40.6583825,40.615496,40.5851136,40.7081543,40.5851464,40.585171,40.5851956,40.5852202,40.585242,40.5852694,40.8728211,40.6885004,40.6884647,40.5919149,40.7032406,40.6884455,40.5852865,40.5853111,40.5853384,40.5853603,40.5853849,40.5854122,40.5919918,40.6884071,40.6883878,40.587532,40.5873927,40.7558593,40.7549236,40.7548687,40.7548165,40.7606681,40.6576902,40.5853936,40.5854183,40.5854429,40.5854647,40.5854893,40.8751732,40.6338782,40.5920494,40.693363,40.8737386,40.8841052,40.6427418,40.6403889,40.8718754,40.5921071,40.5855173,40.5855775,40.5856048,40.5921647,40.9025929,40.7548648,40.7154028,40.8368811,40.7580829,40.5922224,40.6757614,40.5962372,40.6835441,40.5874722,40.771131,40.6663017,40.6685988,40.6853993,40.6757065,40.6591647,40.6584538,40.6755966,40.5932911,40.7562256,40.7514069,40.6684772,40.6943917,40.65925,40.8805947,40.8806634,40.8807156,40.8809441,40.8809963,40.8810458,40.881098,40.8811639,40.6704396,40.8095059,40.7131063,40.8303968,40.779904,40.7126368,40.5932145,40.5876359,40.6835166,40.736903,40.5875817,40.8850247,40.5882697,40.5880362,40.5878027,40.7532795,40.7526038,40.7525433,40.6363472,40.7412692,40.6363499,40.8815238,40.8889505,40.8890138,40.8806503,40.8810755,40.7124463,40.6920871,40.8815199,40.5933598,40.5877538,40.5931213,40.5876388,40.5928442,40.587563,40.5803962,40.5881268,40.5878961,40.7633716,40.7623459,40.7554275,40.881808,40.8799268,40.6151726,40.6364234,40.8430785,40.8825075,40.8430619,40.912257,40.8576207,40.5878333,40.5877623,40.5930446,40.5876397,40.587533,40.5878768,40.754907,40.7528211,40.7487566,40.7508728,40.7514777,40.5789814,40.6826199,40.6100742,40.6818391,40.587954,40.5877848,40.5876752,40.5876481,40.5882009,40.765014,40.6706532,40.6532972,40.5931133,40.5877634,40.5876154,40.5878489,40.7654701,40.6529867,40.6446999,40.7017284,40.6530278,40.6530716,40.5921183,40.5861994,40.5916,40.5862602,40.5913559,40.8877924,40.5880364,40.5935026,40.5878064,40.706223,40.7458595,40.7646602,40.7608671,40.74658,40.7459003,40.7477001,40.6531044,40.5764422,40.6597926,40.6533465,40.6531317,40.6598751,40.6972288,40.893769,40.7987273,40.6706128,40.5879467,40.5878399,40.8849115,40.7695775,40.7450608,40.8939505,40.658591,40.6403244,40.6585965,40.5888624,40.5878483,40.7503264,40.7718086,40.7593225,40.7590371,40.7586143,40.7602007,40.7447722,40.6642643,40.8135113,40.7111353,40.588097,40.5934974,40.5879711,40.5879251,40.5878541,40.6829375,40.7625608,40.7624565,40.7623521,40.7566575,40.7581925,40.7604787,40.7583166,40.6711494,40.6511004,40.6510538,40.6510126,40.6509687,40.6756135,40.623897,40.6613073,40.6389702,40.7461219,40.5936455,40.5934042,40.588043,40.5879424,40.6484712,40.824527,40.8523125,40.6689442,40.6827425,40.6881546,40.6603176,40.5881795,40.5936045,40.5880151,40.8848148,40.587978,40.6984685,40.739611,40.7407441,40.5932192,40.7601107,40.7469482,40.7468796,40.7468138,40.7467451,40.7466079,40.7552826,40.7465393,40.7464707,40.7585669,40.7532737,40.8538457,40.6639261,40.7035335,40.5937526,40.5881741,40.5934756,40.5880591,40.7176442,40.7533764,40.7593601,40.7517165,40.7577174,40.6640788,40.7237189,40.67407,40.6705661,40.5881386,40.5934044,40.7108718,40.5881999,40.7409446,40.740947,40.6814994,40.6330958,40.7109365,40.6552218,40.6552793,40.5882538,40.5935497,40.5880687,40.5880158,40.9065837,40.6553231,40.905848,40.9059001,40.9059522,40.9056844,40.9067867,40.6885543,40.6553669,40.6554107,40.664218,40.6554545,40.6740822,40.6554983,40.5883333,40.5938133,40.5882238,40.588255,40.5881016,40.69491,40.6555421,40.6624538,40.6555859,40.6548615,40.6556297,40.7055248,40.6549053,40.6556817,40.6543335,40.6549491,40.5863912,40.7360691,40.7456356,40.5939614,40.5883389,40.5882294,40.5892957,40.5880926,40.7492448,40.738134,40.6637705,40.6549929,40.6544239,40.6550367,40.6544951,40.6550806,40.7556188,40.6551271,40.6551709,40.6753169,40.5883117,40.5883646,40.6609416,40.5883841,40.5882279,40.5883946,40.6492714,40.7429107,40.7373865,40.7339503,40.7345491,40.6429614,40.6552147,40.6459234,40.5946499,40.5885012,40.8411211,40.6545551,40.8132161,40.6234391,40.5884268,40.5894137,40.5883702,40.5883266,40.7419154,40.7135419,40.8261552,40.6760015,40.7295747,40.6925274,40.6791182,40.5884624,40.5939561,40.588562,40.5883131,40.7415276,40.7455493,40.7472062,40.72831,40.7292243,40.684407,40.6843713,40.588627,40.5885092,40.7125752,40.5883187,40.5882845,40.7448921,40.8283821,40.5806997,40.6583059,40.5940248,40.5886444,40.5885349,40.588505,40.7062173,40.8876874,40.5885892,40.727298,40.6751568,40.8160268,40.5941783,40.5938986,40.5886528,40.5885405,40.5885079,40.7273355,40.7125094,40.588397,40.7489689,40.7403731,40.7487184,40.6369788,40.6770278,40.5940989,40.5887295,40.5884395,40.7061624,40.6974997,40.7415352,40.741367,40.7271172,40.8056671,40.6172845,40.6754961,40.6511382,40.6529279,40.6998243,40.6922215,40.5942498,40.5887352,40.7010547,40.5884863,40.7381997,40.7425788,40.7485135,40.7438157,40.6923011,40.8063034,40.692356,40.6366837,40.7049698,40.6332766,40.5887539,40.5887165,40.7061212,40.5887839,40.7401596,40.7105479,40.6321372,40.6586925,40.6612953,40.6983227,40.5865118,40.5862846,40.5917098,40.5940414,40.5887211,40.7967718,40.5887081,40.5885687,40.717936,40.7246797,40.7125398,40.8166877,40.8186544,40.8496286,40.6583714,40.8148224,40.6645488,40.6423485,40.6435124,40.5968335,40.643463,40.6471342,40.5942418,40.5888971,40.5887848,40.7060773,40.6827536,40.7251099,40.7377345,40.7252184,40.6434136,40.6433148,40.5970641,40.6756664,40.6455424,40.5943926,40.5889954,40.6880433,40.5886538,40.7139154,40.7369648,40.5981977,40.5981605,40.6870431,40.6764448,40.8130101,40.7022618,40.588927,40.5888841,40.5887306,40.7317433,40.6962775,40.7250127,40.7249567,40.7249237,40.9124086,40.9124882,40.6312147,40.9126067,40.6311735,40.6311351,40.6310939,40.6584009,40.6871223,40.6701072,40.594464,40.5889326,40.5888485,40.5887857,40.7183435,40.7082746,40.6612594,40.6871578,40.7246095,40.5900243,40.5890121,40.5889524,40.887599,40.7169065,40.7464255,40.5891218,40.6787437,40.7151913,40.7131597,40.6576435,40.589204,40.5891059,40.5890375,40.7042736,40.7357585,40.7114661,40.6442141,40.6597467,40.5946096,40.5892097,40.5891002,40.6787353,40.7371579,40.7139759,40.6374243,40.5892892,40.590112,40.5892322,40.5890983,40.732556,40.7314346,40.7362002,40.7245082,40.683911,40.6192456,40.6580341,40.5864764,40.5918745,40.8854006,40.5946783,40.6894713,40.5913473,40.7053302,40.8193116,40.684553,40.6477839,40.6577963,40.6477317,40.640274,40.5893744,40.5946016,40.5912978,40.7288165,40.884631,40.6476904,40.6476492,40.6476053,40.8246904,40.6956289,40.5893772,40.5914104,40.702976,40.6475641,40.814664,40.8680424,40.6475228,40.6981505,40.6474816,40.6474212,40.6334308,40.6582906,40.5894568,40.5893998,40.6473415,40.6876138,40.6899893,40.6472838,40.6596754,40.6596863,40.6471986,40.6357817,40.8220384,40.6471574,40.8818728,40.6982729,40.881848,40.647075,40.697343,40.6984005,40.7276327,40.6470338,40.6469733,40.6659581,40.6393991,40.6786307,40.6659086,40.5949886,40.5894353,40.5906119,40.885476,40.630443,40.6325719,40.6731657,40.8874775,40.6973622,40.7056332,40.6303627,40.6323905,40.6900462,40.8410498,40.589586,40.5915913,40.7227899,40.7038314,40.7040739,40.7149028,40.7228799,40.5895999,40.6973814,40.7349067,40.7062632,40.7061945,40.7061258,40.7060572,40.7059857,40.7059225,40.7093505,40.6873246,40.5922913,40.586482,40.591784,40.5864717,40.5915345,40.6523533,40.6818412,40.6825884,40.7093884,40.7093446,40.709298,40.6532266,40.661639,40.6744538,40.8473062,40.882038,40.5903753,40.8846961,40.6974006,40.715114,40.7382772,40.635569,40.610511,40.7664157,40.6863171,40.6734485,40.6545554,40.8829259,40.5907407,40.8220464,40.8120883,40.8874139,40.6031298,40.6974334,40.698295,40.6982874,40.6982318,40.6982215,40.6981742,40.6981584,40.698122,40.6980925,40.6980726,40.6980287,40.6980266,40.6979848,40.6979717,40.6979409,40.6979278,40.7287932,40.6978839,40.6978372,40.7213978,40.7001349,40.6994574,40.6991294,40.6982273,40.6977936,40.6144054,40.5900059,40.884739,40.6970026,40.6809868,40.7189648,40.6933098,40.6986867,40.6095338,40.8290425,40.6599459,40.6729525,40.7043079,40.7166373,40.7031808,40.7187632,40.7008867,40.6422106,40.635858,40.884554,40.7591045,40.7021604,40.5905343,40.7272138,40.6901876,40.7393002,40.6980959,40.7107836,40.7047168,40.6713105,40.8842936,40.5908477,40.7642194,40.7642083,40.7641834,40.7640543,40.7082089,40.7102215,40.7246405,40.7152996,40.6938402,40.5905782,40.8873476,40.7113566,40.7267013,40.7060916,40.6226392,40.6038458,40.5916991,40.7885014,40.8843741,40.5909108,40.6756087,40.6829029,40.7362277,40.7362413,40.7401266,40.7004642,40.7385884,40.5999741,40.599966,40.8199572,40.5999443,40.5906193,40.6927114,40.6953091,40.6868815,40.6853121,40.6868156,40.8201583,40.5999527,40.8422691,40.8218069,40.5909519,40.6937291,40.705591,40.8331713,40.6621289,40.5906632,40.6859591,40.6438464,40.7166811,40.6910485,40.6939504,40.6965318,40.6774969,40.7432201,40.7443643,40.6801648,40.8872813,40.6816456,40.7630458,40.7420077,40.7420268,40.6708814,40.5910342,40.6576406,40.7185573,40.7429706,40.8226453,40.6889133,40.6910808,40.5907592,40.7315888,40.6855929,40.6918156,40.6871963,40.6323978,40.6587293,40.755619,40.7111063,40.745284,40.8230634,40.8430826,40.7590192,40.729677,40.6028585,40.8059028,40.8887459,40.6345644],\"lon\":[-73.7749032,-73.861762,-73.8647929,-73.8643718,-73.9042302,-73.9503649,-73.944498,-73.9607207,-73.8728387,-73.8880859,-73.9176921,-73.9250784,-74.0053968,-73.9258171,-73.9550947,-73.9351826,-73.9255391,-73.919612,-73.8057683,-73.8517088,-73.7675566,-73.9860883,-73.9249173,-73.9287316,-73.8668235,-73.8407177,-73.7498218,-73.8271849,-73.9241399,-73.9235075,-73.9238102,-73.9208967,-73.808403,-73.9642754,-73.8580231,-73.8670267,-73.9189204,-73.9234209,-73.9236336,-73.9248452,-73.924538,-73.8281419,-73.8522517,-73.8669537,-73.818983,-73.9972023,-73.9239073,-73.9245126,-73.8559862,-73.8406567,-73.8559056,-73.8592739,-73.8439987,-73.8620431,-73.8985742,-73.9231218,-73.9239794,-73.9243288,-73.9247767,-73.8578816,-73.790835,-73.9559585,-73.8115978,-73.960098,-73.9193359,-73.8530713,-73.8551933,-73.8530712,-73.9936726,-73.8531216,-73.9230928,-73.9236981,-73.9239972,-73.8074873,-73.984931,-74.0119166,-73.8963794,-74.0153777,-73.9235647,-73.924725,-73.8629528,-73.862877,-73.8627039,-73.7983386,-73.9403607,-73.9234926,-73.9240907,-73.989457,-73.8220193,-73.8370534,-73.7967684,-73.8088076,-73.8087645,-73.8087251,-73.9295134,-73.9241665,-73.9245159,-73.9246434,-73.9248653,-73.8302322,-73.8559409,-73.8571041,-73.7843516,-73.8566868,-73.8536856,-73.8534272,-73.7980911,-73.8570102,-73.8006635,-73.8569163,-73.7842619,-73.8568224,-73.8567285,-73.7842152,-73.7841685,-73.8540506,-73.8569909,-73.8569115,-73.8565443,-73.8567562,-73.8565973,-73.8568999,-73.9235861,-73.9238852,-73.956318,-73.7598371,-73.7947587,-73.7614307,-73.9581393,-73.9252543,-73.919097,-73.9258416,-73.9200691,-73.9204761,-73.8018189,-73.8078462,-73.8127941,-73.9499219,-73.9498714,-73.9498279,-73.9497773,-73.9498245,-73.9497739,-73.9497268,-73.9496763,-73.9497234,-73.9496765,-73.9496258,-73.9495753,-73.949626,-73.9495791,-73.9495247,-73.9494742,-73.9495286,-73.9494781,-73.9494237,-73.9493732,-73.9493806,-73.9493263,-73.9492758,-73.9493337,-73.9492832,-73.9492327,-73.9491858,-73.9491353,-73.9490883,-73.745726,-73.9334203,-73.7458883,-73.746047,-73.747722,-73.7466747,-73.7468334,-73.7473132,-73.8753423,-73.9423749,-73.8560358,-73.9540862,-73.9245768,-74.033118,-73.8507586,-73.8531407,-73.8529782,-73.8748759,-73.86209,-73.8748184,-73.8747608,-73.8746961,-73.8718086,-73.874635,-73.9234959,-73.9237518,-73.9241012,-73.9246562,-73.9782263,-73.853978,-73.8399814,-73.8745775,-73.9071513,-73.87452,-73.9383266,-73.9246308,-73.904688,-73.8316434,-73.762644,-73.9488077,-73.9238884,-73.9247964,-73.8319145,-73.8544558,-73.8357968,-73.7875131,-73.8544733,-73.8540614,-73.853917,-73.8538483,-73.8197837,-73.836294,-73.7621223,-73.7574586,-73.8526113,-73.8535868,-73.8804382,-73.8919761,-73.9241657,-73.9593732,-73.7859668,-73.9236793,-73.923982,-73.9245369,-73.92489,-73.924366,-73.9232179,-73.850766,-74.0047481,-73.9222608,-73.9236575,-73.9239566,-73.9246015,-73.924861,-73.9251636,-73.9079714,-73.8375216,-73.8235993,-73.7511594,-73.762707,-73.9456421,-73.9215092,-73.923751,-73.9592325,-73.9249545,-73.9252571,-73.759694,-73.7722222,-73.9530254,-73.9541664,-73.9189096,-73.9253226,-73.8061331,-73.9799188,-73.8489425,-73.924169,-73.9244717,-73.7955785,-73.9541556,-73.9541448,-73.9583817,-73.9161178,-73.9930281,-73.8735743,-73.7620447,-73.8452527,-73.7559854,-73.9619186,-73.821246,-73.7941832,-73.8724027,-73.8462368,-73.9930534,-73.9489392,-73.9241918,-73.8134984,-73.9460761,-73.9271534,-73.8079299,-73.9241364,-73.8134173,-73.9045771,-73.7725109,-73.9929382,-73.9235441,-73.9235369,-73.8767536,-73.9241133,-73.9623261,-73.8113379,-73.8766817,-73.9459724,-73.9255964,-73.9195794,-73.9259244,-73.9262523,-73.9205696,-73.7455907,-73.7553684,-73.9621821,-73.7931401,-73.9275488,-73.8053668,-73.8067103,-73.8324821,-73.9011025,-73.919282,-73.8922938,-73.8342859,-73.8053485,-73.8092992,-73.9990922,-73.9868269,-73.9531498,-73.8236222,-73.8325937,-73.8304999,-73.7786112,-73.8073189,-73.7605337,-73.7473606,-73.9267794,-74.0074309,-73.9005632,-73.953778,-73.99411,-73.7704774,-73.8397646,-73.7452119,-73.7443665,-73.8192212,-74.0096098,-73.9002423,-73.9004769,-73.9001811,-73.8266238,-73.9303649,-73.7455699,-73.9190031,-73.9194029,-73.9197955,-73.920321,-73.8343042,-73.7476915,-73.8538816,-73.8501261,-73.9281175,-73.7983522,-73.9459285,-73.8143776,-73.9959688,-73.9710477,-73.9661011,-73.9511863,-73.8011886,-73.8166677,-73.797761,-73.9064081,-73.8220571,-73.7969877,-73.9600771,-73.808877,-73.8146441,-73.7486527,-73.7459053,-73.8883063,-73.9268563,-73.795827,-73.7963807,-73.7960847,-73.808618,-73.8198269,-73.8225814,-73.8213252,-73.8206789,-73.9985014,-73.7956006,-73.8866441,-73.7951921,-74.0018443,-73.7955234,-73.7948697,-73.9636782,-73.7558502,-73.7510878,-73.7659283,-73.7659827,-73.9835951,-73.7966073,-73.9821932,-73.8036909,-73.8202915,-73.9464447,-73.9320697,-73.8067826,-73.7603273,-73.7513228,-73.8056575,-73.7973767,-73.7507169,-74.002417,-73.9481694,-73.9420738,-73.8917417,-74.0004254,-73.8133505,-73.8117728,-73.92862,-73.919284,-73.9902953,-73.9196729,-73.8014684,-73.7947877,-73.9478693,-73.7483479,-73.7481312,-73.7483981,-73.7481635,-73.7484411,-73.7482316,-73.74852,-73.7482674,-73.7485595,-73.7486025,-73.7482997,-73.7483319,-73.7486886,-73.7483894,-73.8138949,-73.8845146,-73.815401,-73.8149318,-73.8131014,-73.8163854,-73.8162299,-73.816032,-73.8160744,-73.8159189,-73.8123921,-73.8138448,-73.8122724,-73.9447445,-73.8101354,-73.9077002,-73.9447195,-74.0049994,-73.8789898,-73.9453537,-73.8422696,-73.9446909,-73.9500084,-73.9539104,-73.7958682,-73.8015884,-73.7882863,-73.9369995,-73.9947065,-73.7447887,-73.7450704,-73.7452618,-73.8051018,-73.982194,-73.9108492,-73.8846192,-73.9554107,-73.8900801,-73.7454999,-73.7455758,-73.7442059,-73.745648,-73.7457563,-73.7466197,-73.7463178,-73.7459043,-73.745765,-73.7460921,-73.745877,-73.7444239,-73.746025,-73.7444965,-73.7464496,-73.7463175,-73.746594,-73.8385521,-73.7449758,-73.7450375,-73.7465124,-73.7467042,-73.7450716,-73.7455719,-73.7468096,-73.7454255,-73.7457324,-73.7459005,-73.7461207,-73.7462399,-73.745931,-73.7460681,-73.7463772,-73.7464531,-73.7465255,-73.7461984,-73.8641456,-73.7802331,-73.8841594,-73.9483368,-73.9657126,-73.9925215,-73.7951827,-73.8108236,-73.808877,-73.9824246,-73.9618011,-73.9380994,-73.7913167,-73.8779881,-73.9194964,-73.9257693,-73.9261476,-73.9204757,-73.7784879,-73.988044,-73.9593566,-73.8015715,-73.8056601,-73.8055843,-73.8396031,-73.781851,-73.9451178,-73.8058393,-73.7986013,-73.9422175,-73.9735651,-73.8023761,-73.9638551,-73.8179806,-73.9409207,-74.0009302,-73.8349947,-73.9225391,-73.9444122,-73.921261,-73.8519297,-73.98587,-73.9734609,-73.9216677,-73.9882708,-73.8014778,-73.7962781,-73.7956702,-74.0032127,-74.004059,-73.9209608,-73.8374392,-73.9753051,-73.9241382,-73.9839394,-74.0040194,-73.9113024,-73.9327309,-73.9520879,-73.9257115,-73.9203532,-73.9208034,-73.9215304,-73.8041486,-73.752861,-73.9016034,-73.7884357,-73.8304079,-73.7589693,-73.7714937,-73.9365577,-73.7589834,-73.7957289,-73.9955877,-73.9168138,-73.9412475,-73.7589976,-73.7844895,-73.7844137,-73.7843415,-73.7842694,-73.7841829,-73.7841071,-73.784035,-73.7839628,-73.7838906,-73.7641823,-73.9177415,-73.9485233,-73.9547076,-73.9496518,-73.9461735,-73.9296049,-73.9304636,-73.7632058,-73.7628238,-73.957529,-73.9258484,-73.920508,-73.7942094,-73.7795268,-73.8989661,-73.8680737,-73.9471926,-73.7792598,-73.761451,-73.912901,-73.8608494,-73.9360708,-73.9703609,-73.8653384,-74.0100203,-73.9851588,-73.9494978,-73.7802188,-73.9077803,-73.9407069,-73.9963732,-73.7698601,-73.7596568,-73.9781685,-73.767579,-73.7614689,-73.7627754,-73.919471,-73.91986,-73.9265293,-73.7509409,-73.7593475,-73.8817582,-73.9432095,-73.9430756,-73.7897994,-73.7589162,-73.8811068,-73.7707012,-73.7704917,-73.979697,-73.8815859,-73.9981525,-74.0054196,-74.0012964,-73.9494655,-73.9513099,-73.9601378,-73.7702317,-73.7582041,-73.8576186,-73.9442057,-73.980756,-73.960751,-73.9578148,-73.9412332,-73.9958475,-73.9447317,-73.9430569,-73.9238118,-73.7631335,-73.7634344,-73.763243,-73.7834573,-73.8592413,-73.9779065,-73.9158004,-73.9252189,-73.806224,-73.8133072,-73.9589813,-73.9255852,-73.9196834,-73.9259312,-73.9263419,-73.9210335,-73.7928832,-73.9023637,-73.8981241,-73.9868504,-73.9803609,-73.9775012,-73.9670551,-73.7759407,-73.7790164,-73.9091391,-74.0260378,-73.9865663,-73.8776624,-73.9886618,-73.7816901,-73.7774331,-73.7775544,-73.9801522,-73.8556918,-73.9277572,-73.9964707,-73.7744611,-73.7748282,-73.8518559,-73.9591643,-73.9701695,-73.8408064,-73.9195645,-73.9199535,-73.9262445,-73.7537671,-73.822909,-73.9471468,-73.9470602,-73.9469736,-73.9856342,-73.9543695,-73.9513851,-73.7768627,-73.7707777,-73.7710858,-73.9586602,-73.851952,-73.9497634,-73.906594,-73.8523888,-73.9103687,-73.9926354,-73.9128851,-73.766354,-73.7529589,-73.9060941,-73.7547212,-73.9404076,-73.9193735,-73.9260139,-73.7927411,-73.8779907,-73.7570817,-73.906479,-73.994339,-73.7506341,-73.8232953,-73.9526452,-73.9876401,-73.7516802,-73.7543824,-73.9103954,-73.9981348,-73.908806,-73.9302519,-73.9830585,-73.9263236,-73.8464683,-73.9216275,-73.9600537,-73.8464682,-73.759746,-73.7735713,-73.9274104,-73.8796556,-73.744291,-73.8951344,-73.9475635,-73.7535,-73.9102986,-73.9609504,-73.9852448,-73.9397167,-73.9120536,-73.8892508,-73.9524068,-73.8897775,-73.941143,-73.9497964,-73.9194671,-73.926093,-73.9202666,-73.9264642,-73.9218471,-73.9207237,-73.9549932,-73.9186889,-73.9146166,-73.9092306,-73.7612042,-73.761262,-73.88041,-73.8802658,-73.8802659,-73.880266,-73.9074718,-73.9522089,-73.9480224,-73.7441262,-73.8828078,-73.8691167,-73.9065599,-73.9300029,-73.8671452,-73.9261503,-73.9217678,-73.8010926,-73.9109392,-73.841189,-73.7986517,-73.7627858,-73.8414743,-73.891883,-73.8433127,-73.9237403,-73.9236971,-73.9102051,-73.9527623,-73.920249,-73.9496636,-73.8979937,-73.8993954,-73.9512407,-73.9127008,-73.9274863,-73.9286678,-73.928603,-73.9284016,-73.8788009,-73.9280094,-73.9279411,-73.9259125,-73.9262909,-73.9214474,-73.921937,-73.9550221,-73.9603087,-73.9785884,-73.9207798,-73.9203125,-73.9788523,-73.927495,-73.9586863,-73.9273655,-73.9273008,-73.8262613,-73.9909818,-73.9519326,-73.9389652,-73.9666071,-73.967761,-73.8716253,-73.9455015,-73.9943253,-73.9262295,-73.920234,-73.9265934,-73.9206909,-73.8963849,-73.925754,-73.9504246,-73.9516423,-73.9801331,-73.9474682,-73.9517847,-73.9246893,-73.8623493,-73.9363329,-73.9259917,-73.9204536,-73.9204282,-73.90732,-73.9420911,-73.9259264,-73.9509428,-73.9953237,-73.9461488,-73.8999762,-73.9235096,-73.9234376,-73.9233981,-73.9232901,-73.9230995,-73.9230635,-73.9229916,-73.912138,-73.9228333,-73.8585364,-73.9227254,-73.9226535,-73.9226139,-73.9512801,-73.984564,-73.8864534,-73.9822709,-73.926305,-73.9203311,-73.9210222,-73.9354617,-73.926753,-73.9396151,-73.9220241,-73.9219882,-73.9219126,-73.949956,-73.9218371,-73.9218011,-73.9217292,-73.9216177,-73.9861803,-73.9579794,-73.953107,-73.9208587,-73.9207688,-73.9207401,-73.9226465,-73.9201969,-74.0047089,-73.9255251,-73.9228734,-73.9197512,-73.9260744,-73.9212382,-73.9216811,-73.8829384,-73.9235382,-73.9235816,-73.9154595,-73.9210372,-73.9784992,-73.8222347,-73.8220473,-73.82195,-73.8476939,-73.9814318,-73.9198769,-73.9483988,-73.8636597,-73.794341,-73.9421688,-73.9194344,-73.9193445,-73.919251,-73.8224361,-73.8223496,-73.8222847,-73.8222199,-73.8221586,-73.8220937,-73.8220289,-73.9633676,-73.9191575,-73.7943444,-73.919064,-73.9190318,-73.918877,-73.9187835,-73.7943514,-73.9184887,-73.8774032,-73.9184096,-73.7943584,-73.920086,-73.9267517,-74.0046584,-73.9220521,-73.902929,-73.8759284,-73.9185773,-73.9910688,-74.0339874,-73.8225437,-73.9577669,-73.8224608,-73.8223959,-73.822331,-73.8222662,-73.8222049,-73.8221364,-73.8427838,-73.9862365,-73.9861392,-73.7943759,-73.9288412,-73.9860923,-73.8225504,-73.8224783,-73.8224135,-73.8223486,-73.8222837,-73.8222188,-73.7943829,-73.985995,-73.9859409,-73.9213317,-73.9222212,-73.8951916,-73.9016864,-73.9016757,-73.9016686,-73.9272169,-73.9232313,-73.8226185,-73.8225537,-73.8224924,-73.8224275,-73.8223626,-73.8387862,-73.9455533,-73.7943899,-73.9069087,-73.8748545,-73.910117,-73.9470739,-73.9457209,-73.8520316,-73.7943933,-73.8227118,-73.8225568,-73.8224776,-73.7944004,-73.8669395,-73.9671506,-73.9648975,-73.8197508,-73.8617127,-73.7944074,-73.8862145,-73.9862124,-74.0046115,-73.9220987,-73.7758829,-73.8997336,-73.8963236,-73.9905856,-73.8862002,-73.9902613,-73.9905966,-73.8861715,-73.9262327,-73.9207282,-73.9040773,-73.9854873,-73.9249056,-73.9494288,-73.8334898,-73.8335257,-73.8335582,-73.8340783,-73.8341071,-73.8341359,-73.8341647,-73.8342007,-73.8922725,-73.9161457,-73.9679359,-73.9065291,-73.7496065,-73.9674023,-73.926546,-73.9207195,-74.0045142,-73.9581817,-73.9216989,-73.8006373,-73.9243264,-73.9240818,-73.9238193,-73.8662199,-73.8681811,-73.8681487,-73.942831,-74.0044062,-73.9427589,-73.8760622,-73.81953,-73.8195986,-73.870408,-73.8702119,-73.9556251,-73.9406196,-73.8700193,-73.9263118,-73.9205394,-73.9266866,-73.9209356,-73.9270145,-73.9224082,-73.9461585,-73.9241789,-73.9239236,-73.7890057,-73.7939905,-73.9302437,-73.869932,-73.86654,-74.0324024,-73.9416131,-73.9045632,-73.8695581,-73.9044909,-73.8996158,-73.8959278,-73.9204133,-73.9208598,-73.9269891,-73.9222857,-73.9226891,-73.9237076,-73.9318649,-73.8639181,-73.8791062,-73.8666795,-73.862838,-74.0051335,-73.934697,-73.948879,-73.9279843,-73.9202367,-73.9216123,-73.9220084,-73.9225017,-73.9240637,-73.7750515,-73.9811285,-73.8773367,-73.9270682,-73.9224224,-73.922779,-73.9231424,-73.7616316,-73.8770381,-73.994011,-73.9167393,-73.8769047,-73.8768001,-73.9249342,-73.9193315,-73.9256224,-73.9199111,-73.9260044,-73.8110015,-73.9203266,-73.9264701,-73.9211262,-73.9608916,-73.8974232,-73.7655405,-73.7853317,-73.8843973,-73.8881735,-73.8692446,-73.8766883,-74.0093162,-73.9473703,-73.8772105,-73.876573,-73.9859974,-73.9083206,-73.8371678,-73.9328675,-73.9546616,-73.9215833,-73.921983,-73.8002325,-73.907943,-73.9142239,-73.8434066,-73.9488058,-73.9897849,-73.9487156,-73.9241637,-73.922199,-73.9427368,-73.9041093,-73.8010099,-73.8010468,-73.7901542,-73.80901,-73.8748189,-73.9374327,-73.8626921,-73.9668151,-73.9207082,-73.926859,-73.9210936,-73.9220765,-73.9226203,-74.0051415,-73.7616889,-73.7616604,-73.7616319,-73.8176794,-73.8030527,-73.7717315,-73.8083224,-73.9175273,-74.0105015,-74.0105483,-74.0105916,-74.0106384,-74.0153182,-74.0266141,-73.94645,-74.0188553,-74.0030748,-73.9266284,-73.9269995,-73.9218928,-73.9233475,-74.0072217,-73.9115271,-73.8930262,-73.8738942,-73.9331681,-73.9422385,-73.9090237,-73.9208017,-73.9269813,-73.9212483,-73.7998748,-73.9231782,-73.9353198,-73.9199289,-73.8866448,-73.7769769,-73.7648273,-73.9498855,-73.9499072,-73.9499289,-73.9499506,-73.949994,-73.8043896,-73.9500157,-73.9500374,-73.7709944,-73.8162413,-73.8918128,-73.8982052,-73.9154999,-73.9267507,-73.9210105,-73.9270786,-73.9214067,-73.9539983,-73.8052289,-73.760206,-73.8156682,-73.9607928,-73.9001767,-74.0092069,-73.8828719,-73.8840172,-73.9212806,-73.9273884,-73.9668982,-73.9225983,-73.9194293,-73.927076,-73.9751656,-74.0216963,-73.948715,-73.8752176,-73.8750805,-73.9211004,-73.9271614,-73.9234877,-73.9223825,-73.8512561,-73.8749795,-73.8469275,-73.846902,-73.8468766,-73.8456689,-73.8490163,-73.951808,-73.8748749,-73.8747739,-73.8992069,-73.8746693,-73.9622191,-73.8745647,-73.9209779,-73.9272115,-73.9213777,-73.9229727,-73.9233185,-73.9241332,-73.8744601,-73.9448163,-73.8743591,-73.8746128,-73.8742545,-73.9508616,-73.8745082,-73.8741319,-73.873702,-73.8744072,-73.9188164,-73.9594415,-73.955087,-73.9269845,-73.9211976,-73.9215973,-73.9236015,-73.9222636,-73.9875377,-73.9276781,-73.899085,-73.8743026,-73.8734964,-73.874198,-73.8733268,-73.8740934,-73.9988919,-73.8739924,-73.8738878,-73.960834,-73.9214748,-73.9225729,-73.9300578,-73.9231129,-73.9234588,-73.9222956,-73.9526797,-73.9129347,-73.8778603,-73.8947317,-73.8837831,-73.9413011,-73.8737832,-74.013643,-73.7830719,-73.9668868,-73.8704308,-73.8730168,-73.9152415,-74.0243408,-73.9212911,-73.923425,-73.9227853,-73.923257,-73.9595535,-73.9131642,-73.9486877,-73.9992573,-73.9791202,-73.932776,-73.9358793,-73.9211182,-73.9273698,-73.9222738,-73.9235523,-73.8557819,-73.7871855,-73.77797,-73.9043487,-73.8952443,-73.9799708,-73.9798771,-73.9209884,-73.9213846,-73.9555457,-73.9237683,-73.9219573,-73.8150699,-73.9065247,-73.8514311,-73.9026542,-73.9274489,-73.9223637,-73.9227599,-73.9232496,-73.9602171,-73.8105931,-73.921993,-73.8988805,-73.9582709,-73.9154727,-73.9272219,-73.9275499,-73.9225798,-73.9229723,-73.923462,-73.9467181,-73.9555854,-73.9217844,-73.8298848,-73.8522984,-73.7694764,-73.9493484,-73.8643756,-73.9275281,-73.9224573,-73.9238005,-73.9601883,-73.940503,-73.8066782,-73.8095079,-73.8874942,-73.9176062,-73.9196938,-73.9554046,-73.9229001,-73.9230061,-73.9517314,-73.9263396,-73.927301,-73.9226733,-73.9536311,-73.9239553,-73.8548111,-73.90623,-73.7605518,-73.9051276,-73.9262638,-73.9169697,-73.9262493,-73.9463076,-73.9093559,-74.0344036,-73.921964,-73.923487,-73.9601378,-73.9216903,-73.8080679,-73.9034544,-74.0027057,-73.989364,-73.8967279,-73.9346455,-73.9186291,-73.919425,-73.9257447,-73.9277082,-73.9221404,-73.9460593,-73.9231594,-73.9240488,-73.9058463,-73.9056491,-73.9024812,-73.9146915,-73.9093492,-73.9338065,-73.9896956,-73.9088486,-73.8917269,-73.9397234,-73.9258889,-73.8037231,-73.9258817,-73.90213,-73.9276899,-73.9226443,-73.9230369,-73.960091,-74.0044817,-73.8784853,-73.800681,-73.9031445,-73.9258782,-73.9258675,-73.8037476,-73.8621395,-73.9735899,-73.9274593,-73.9219241,-73.9770599,-73.9241423,-73.9657171,-73.8507327,-73.7912921,-73.7919836,-73.9324174,-73.982003,-73.8863917,-73.9594405,-73.922151,-73.923674,-73.9240162,-73.8586751,-73.9251306,-73.867543,-73.8665582,-73.8664608,-73.9003862,-73.9003318,-74.007872,-73.9009213,-74.0079224,-74.0079728,-74.0080233,-73.9012674,-73.931707,-73.9467782,-73.9275385,-73.9223742,-73.9238433,-73.9242862,-73.8753447,-73.893463,-73.8933975,-73.9314185,-73.9455838,-73.9254082,-73.9222481,-73.9232239,-73.8102462,-73.8740343,-73.8981514,-73.9220643,-73.9095213,-73.8794052,-73.8870921,-73.9476063,-73.9219418,-73.9228781,-73.9233174,-73.9004808,-73.78704,-73.8788636,-74.0047746,-73.8991776,-73.9276967,-73.9221615,-73.9225576,-73.9093987,-73.8966067,-73.8559858,-74.0332095,-73.9220389,-73.9252749,-73.9230183,-73.9239114,-73.8028218,-73.7925418,-73.77394,-73.8398146,-73.9231759,-74.0219259,-73.8693267,-73.91891,-73.9256906,-73.8021153,-73.9277759,-73.8679958,-73.9254247,-73.8802201,-73.863251,-73.9078188,-73.8979524,-73.8677665,-73.8978948,-73.9687168,-73.9221325,-73.9280892,-73.9252051,-73.8069857,-73.8616845,-73.897848,-73.8978012,-73.8977545,-73.9446818,-73.9726577,-73.9223449,-73.9253274,-73.878385,-73.8977077,-73.8908758,-73.8666543,-73.8976609,-73.9466981,-73.8976141,-73.8975457,-73.945496,-73.8680179,-73.922226,-73.9232054,-73.8974594,-73.9274553,-73.939125,-73.897391,-73.9380966,-73.9379524,-73.897301,-74.0111332,-73.9242665,-73.8972543,-73.8619072,-73.9572033,-73.8618241,-73.8971607,-73.9303766,-73.895116,-73.7908399,-73.8971139,-73.8970455,-73.8817903,-73.9084505,-73.9632728,-73.8817544,-73.928132,-73.9229281,-73.9256956,-73.8591259,-74.0279137,-73.9459903,-73.9728255,-73.80978,-73.9303117,-73.873511,-74.0308498,-73.9453816,-73.928318,-73.8917144,-73.9225787,-73.92505,-73.8042504,-73.869933,-73.8660409,-73.9431207,-73.9769757,-73.9228991,-73.9302503,-73.8845836,-73.8582927,-73.8582352,-73.8581776,-73.8581164,-73.8580553,-73.8579905,-73.8718483,-73.9258979,-73.9251284,-73.919126,-73.9258311,-73.9201449,-73.9262022,-73.9784488,-73.8892147,-73.8957358,-73.8291779,-73.8292465,-73.8293152,-73.9598163,-73.8857087,-73.976102,-73.8845078,-73.8600806,-73.9248641,-73.799481,-73.930189,-74.010526,-73.8818208,-73.9399349,-74.0020817,-73.9710474,-73.9256971,-73.9632577,-74.0009742,-73.858936,-73.9254938,-73.8618327,-73.9050592,-73.8095451,-73.9907197,-73.930088,-73.8515946,-73.8520923,-73.8515948,-73.8520961,-73.8515985,-73.8520962,-73.8515986,-73.8520964,-73.8515987,-73.8515988,-73.8521001,-73.8515989,-73.8521002,-73.851599,-73.8521039,-73.8783523,-73.852104,-73.8521041,-73.8698374,-73.8523262,-73.8526595,-73.8516324,-73.8523196,-73.8523242,-74.0103913,-73.9225206,-73.7989022,-73.8562857,-73.854038,-73.7834393,-73.8598456,-73.8509951,-74.0035259,-73.9424595,-73.9358221,-73.9657382,-73.9429639,-73.8446493,-73.8280505,-73.8608347,-73.9593295,-74.0005297,-73.9414767,-73.7982626,-73.8818849,-73.8266213,-73.9246191,-73.9576249,-73.8655496,-73.8758648,-73.8325679,-73.7944313,-73.8115783,-73.9492646,-73.7984551,-73.9253316,-73.8806124,-73.8805402,-73.8803922,-73.8802661,-73.7959072,-73.8630564,-73.7518923,-73.7674925,-73.9252163,-73.9245542,-73.8092885,-73.7792653,-73.7453687,-73.7968515,-74.0386272,-74.0140125,-73.9261336,-73.8394042,-73.7989612,-73.9252344,-73.8468539,-73.8499559,-73.8722838,-73.8721394,-73.8735177,-73.8126975,-73.8724669,-73.7452722,-73.7453479,-73.8953255,-73.7454344,-73.9244894,-73.8369087,-73.8282511,-73.8553448,-73.8602843,-73.8553124,-73.8873008,-73.7455352,-73.8839961,-73.8981155,-73.9251695,-73.8527083,-73.7916665,-73.818684,-73.8789496,-73.9244209,-73.989969,-73.9956975,-73.962516,-73.8371796,-73.8264083,-73.8148939,-73.8426314,-73.868759,-73.8683995,-73.9627456,-73.8090319,-73.9788936,-73.8739723,-73.8670076,-73.8669426,-73.8836634,-73.9250434,-73.9013252,-73.8540747,-73.866569,-73.8995052,-73.9250956,-73.9551237,-73.9242732,-73.9570773,-73.8459115,-73.8214375,-73.8381987,-73.9434325,-73.8774997,-73.8695215,-73.7637738,-73.863919,-73.8943595,-73.8796432,-73.8690383,-73.8546277,-74.0027981,-73.8536448,-73.8511586,-73.9456212],\"marker\":{\"color\":\"blue\",\"size\":5},\"mode\":\"markers\",\"text\":[\" BELL BLVD\",\" BRONXWOOD AVENUE\",\" CARPENTER AVE\",\" CROSS BRONX EXPRESSWAY\",\" DUMONT AVENUE\",\" HERKIMER STREER\",\" NEW YORK AVENUE\",\" OAK STREET\",\" PARKSIDE PLACE\",\" VILLA AVENUE\",\" WOODBINE STREET\",\"1 ASTER COURT\",\"1 AVENUE OF THE AMERICAS\",\"1 CELESTE COURT\",\"1 EAST LOOP ROAD\",\"1-02 26 AVENUE\",\"10 BEVY COURT\",\"10 CANTON COURT\",\"10 EDGEMERE STREET\",\"10-24 116 STREET\",\"10-31 BAY 31 STREET\",\"100 BAY 50 STREET\",\"100 GOTHAM AVENUE\",\"100 SUYDAM STREET\",\"100-09 37 AVENUE\",\"100-10 103 AVENUE\",\"100-15 BELLAIRE PLACE\",\"101 -58 117 STREET\",\"101 BARTLETT PLACE\",\"101 CANTON COURT\",\"101 DARE COURT\",\"101 GROVE STREET\",\"101 PARK DRIVE\",\"101 SOUTH 5 STREET\",\"101-10 81 STREET\",\"101-11 NORTHERN BOULEVARD\",\"1013 EAST 59 STREET\",\"102 CANTON COURT\",\"102 DARE COURT\",\"102 GOTHAM AVENUE\",\"102 NOEL AVENUE\",\"102-31 164 AVENUE\",\"102-33 68 AVENUE\",\"1024 CRESCENT STREET\",\"1029 CLARENCE AVENUE\",\"103 3 PLACE\",\"103 DARE COURT\",\"103 FRANK COURT\",\"103-08 MARTENSE AVENUE\",\"103-10 101 STREET\",\"103-13 OTIS AVENUE\",\"103-16 CORONA AVENUE\",\"103-22 96 STREET\",\"1030 LELAND AVENUE\",\"1030 REV JAMES A POLITE A\",\"104 BEACON COURT\",\"104 EATON COURT\",\"104 FRANK COURT\",\"104 GOTHAM AVENUE\",\"104-27 ALSTYNE AVENUE\",\"104-76 165 STREET\",\"1040 DEAN STREET\",\"1041 PEACE STREET\",\"1043 FULTON STREET\",\"1044 LINDEN BOULEVARD\",\"1044 OLMSTEAD AVENUE\",\"1046 EAST 213 STREET\",\"1046 OLMSTEAD AVENUE\",\"1048 42 STREET\",\"1048 OLMSTEAD AVENUE\",\"105 ABBEY COURT\",\"105 CANTON COURT\",\"105 DARE COURT\",\"105-28 PINEGROVE STREET\",\"1050 AVENUE OF THE AMERICAS\",\"1051 74 STREET\",\"1052 EAST 99 STREET\",\"1057 80 STREET\",\"106 CANTON COURT\",\"106 NOEL AVENUE\",\"106-10 ASTORIA BOULEVARD\",\"106-12 ASTORIA BOULEVARD\",\"106-18 ASTORIA BOULEVARD\",\"106-31 155 STREET\",\"1065 EAST 37 STREET\",\"107 BEACON COURT\",\"107 DARE COURT\",\"107 WYCKOFF STREET\",\"107-01 120 STREET\",\"107-01 PARK LANE SOUTH\",\"107-25 156 STREET\",\"107-34 VAN WYCK EXPRESSWAY\",\"107-38 VAN WYCK EXPRESSWAY\",\"107-40 VAN WYCK EXPRESSWAY\",\"108 ASTER COURT\",\"108 EATON COURT\",\"108 FRANK COURT\",\"108 GOTHAM AVENUE\",\"108 NOEL AVENUE\",\"108-10 ROCKAWAY BEACH DRIVE\",\"108-34 45 AVENUE\",\"108-42 ROOSEVELT AVENUE\",\"108-43 171 STREET\",\"108-44 41 AVENUE\",\"108-45 51 AVENUE\",\"108-45 52 AVENUE\",\"108-45 SUTPHIN BOULEVARD\",\"108-46 ROOSEVELT AVENUE\",\"108-48 LIVERPOOL STREET\",\"108-48 ROOSEVELT AVENUE\",\"108-49 171 STREET\",\"108-50 ROOSEVELT AVENUE\",\"108-52 ROOSEVELT AVENUE\",\"108-53 171 STREET\",\"108-55 171 STREET\",\"108-55 49 AVENUE\",\"108-55 ROOSEVELT AVENUE\",\"108-57 ROOSEVELT AVENUE\",\"108-58 ROOSEVELT AVENUE\",\"108-61 ROOSEVELT AVENUE\",\"108-65 ROOSEVELT AVENUE\",\"10838 41 AVE\",\"109 BEACON COURT\",\"109 CANTON COURT\",\"109 WINTHROP STREET\",\"109-35 197 STREET\",\"109-49 155 STREET\",\"109-71 195 STREET\",\"1096 FLATBUSH AVENUE\",\"10A ASTER COURT\",\"11 ABBEY COURT\",\"11 BEVY COURT\",\"11 CANTON COURT\",\"11 DARE COURT\",\"11 ELM TREE LANE\",\"11 OAK LANE\",\"11 PARK DRIVE\",\"11-05 46 AVENUE\",\"11-05A 46 AVENUE\",\"11-06 45 ROAD\",\"11-06A 45 ROAD\",\"11-07 46 AVENUE\",\"11-07A 46 AVENUE\",\"11-08 45 ROAD\",\"11-08A 45 ROAD\",\"11-09 46 AVENUE\",\"11-09A 46 AVENUE\",\"11-10 45 ROAD\",\"11-10A 45 ROAD\",\"11-11 46 AVENUE\",\"11-11A 46 AVENUE\",\"11-12 45 ROAD\",\"11-12A 45 ROAD\",\"11-13 46 AVENUE\",\"11-13A 46 AVENUE\",\"11-14 45 ROAD\",\"11-14A 45 ROAD\",\"11-15A 46 AVENUE\",\"11-16 45 ROAD\",\"11-16A 45 ROAD\",\"11-17 46 AVENUE\",\"11-17A 46 AVENUE\",\"11-19 46 AVENUE\",\"11-19A 46 AVENUE\",\"11-21 46 AVENUE\",\"11-21A 46 AVENUE\",\"11-22 BRUNSWICK AVENUE\",\"11-28 30 DRIVE\",\"11-28 BRUNSWICK AVENUE\",\"11-32 BRUNSWICK AVENUE\",\"11-47 BEACH 12 STREET\",\"11-52 BRUNSWICK AVENUE\",\"11-56 BRUNSWICK AVENUE\",\"11-70 BRUNSWICK AVENUE\",\"110 DINSMORE PLACE\",\"110 KENSINGTON STREET\",\"110-20 14 ROAD\",\"1101 PRESIDENT STREET\",\"1104 EAST 54 STREET\",\"111 73 STREET\",\"111 DOLPHIN COURT\",\"111-39 44 AVNUE\",\"111-43 44 AVNUE\",\"1111 ASHFORD STREET\",\"1111A UNDERHILL AVENUE\",\"1113 ASHFORD STREET\",\"1115 ASHFORD STREET\",\"1117 ASHFORD STREET\",\"1117 ESSEX STREET\",\"1119 ASHFORD STREET\",\"112 BEACON COURT\",\"112 CANTON COURT\",\"112 DARE COURT\",\"112 FRANK COURT\",\"112 ST EDWARDS STREET\",\"112-24 39 AVENUE\",\"112-36 68 DRIVE\",\"1121 ASHFORD STREET\",\"1122 EAST 83 STREET\",\"1123 ASHFORD STREET\",\"1127 EAST 39 STREET\",\"113 EATON COURT\",\"113 FATHER ZEISER PLACE\",\"113-17 95 AVENUE\",\"113-52 FARMERS BOULEVARD\",\"1139 EAST 27 STREET\",\"114 CANTON COURT\",\"114 FRANK COURT\",\"114-02 ATLANTIC AVENUE\",\"114-03 TAIPEI COURT\",\"114-06 ROCKAWAY BEACH BOULEVARD\",\"114-08 BEDELL STREET\",\"114-11 TAIPEI COURT\",\"114-21 TAIPEI COURT\",\"114-25 TAIPEI COURT\",\"114-27 TAIPEI COURT\",\"114-29 LEFFERTS BOULEVARD\",\"114-30 ROCKAWAY BEACH BOULEVARD\",\"114-40 FARMERS BOULEVARD\",\"114-41 196 STREET\",\"114-59 DALIAN COURT\",\"1142 OLMSTEAD AVENUE\",\"1144 EVERGREEN AVENUE\",\"1149 EAST 102 STREET\",\"115 CANTON COURT\",\"115 CLIFTON PLACE\",\"115-31 159 STREET\",\"116 BEACON COURT\",\"116 CANTON COURT\",\"116 EATON COURT\",\"116 FRANK COURT\",\"116 GOTHAM AVENUE\",\"116 STANHOPE STREET\",\"116-15 14 ROAD\",\"1163 66 STREET\",\"1169 RIVER AVENUE\",\"117 ABBEY COURT\",\"117 BEACON COURT\",\"117 DARE COURT\",\"117 EATON COURT\",\"117 FRANK COURT\",\"117 MOFFAT STREET\",\"117-01 METROPOLITAN AVENUE\",\"117-04 109 AVENUE\",\"118-22 201 STREET\",\"118-65 RIVERTON STREET\",\"1181 NEW YORK AVENUE\",\"1184 RIVER AVENUE\",\"119 ABBEY COURT\",\"119 CLIFTON PLACE\",\"119 EATON COURT\",\"119 FRANK COURT\",\"119-24 190 STREET\",\"119-47 MERRILL STREET\",\"1190 FULTON STREET\",\"1198 BEDFORD AVENUE\",\"12 ABBEY COURT\",\"12 ASTER COURT\",\"12 EDGEMERE STREET\",\"12 ROCKWELL PLACE\",\"12-38 119 STREET\",\"120 CANTON COURT\",\"120 DARE COURT\",\"120-40 144 STREET\",\"1200 BEDFORD AVENUE\",\"1202 BEDFORD AVENUE\",\"1203 AVENUE Y\",\"1209 PUTNAM AVENUE\",\"1217 48 STREET\",\"122 PINE STREET\",\"122-03 180 STREET\",\"122-18 22 AVENUE\",\"122-28 LUCAS STREET\",\"1229 EAST 13 STREET\",\"123-19 103 AVENUE\",\"123-24 145 STREET\",\"1230 METCALF AVENUE\",\"1231 EAST 222 STREET\",\"1232 48 STREET\",\"1236 EAST 27 STREET\",\"1238 EAST 54 STREET\",\"124-17 SUTTER AVENUE\",\"1248 NEW YORK AVENUE\",\"1249 DEKALB AVE\",\"125 PARK DRIVE\",\"125 STOCKHOLM STREET\",\"125-09 133 AVENUE\",\"1255 REMSEN AVENUE\",\"126-30 LOCUST MANOR LANE\",\"1260 49 STREET\",\"1267 EAST 54 STREET\",\"1269 EAST 54 STREET\",\"127 GATEWAY DRIVE\",\"1270 EAST 54 STREET\",\"127A SOUTH 1 STREET\",\"128-12 135 AVENUE\",\"129 GATEWAY DRIVE\",\"1298 NEW YORK AVE\",\"13 ASTER COURT\",\"13 BEACON COURT\",\"13 BEVY COURT\",\"13 CELESTE COURT\",\"13 DARE COURT\",\"13-34 VIRGINIA STREET\",\"13-62 PINSON STREET\",\"130 SOUTH 1 STREET\",\"130-11 INWOOD STREET\",\"131 ALEXANDER AVENUE\",\"131-05 131 AVENUE\",\"132-15 FOCH BLVD\",\"132-36 41 AVENUE\",\"1320 FRANKLIN AVENUE\",\"1325 JEROME AVENUE\",\"133 SUNNYSIDE AVENUE\",\"133-02 14 AVENUE\",\"133-08 131 AVENUE\",\"133-29 130 STREET\",\"1330 62 STREET\",\"1332 41 STREET\",\"1336 GRANT SQUARE\",\"1339 SIEGFRIED PLACE\",\"134-16 NORTHERN BOULEVARD\",\"134-22 58 STREET\",\"134-49 157 STREET\",\"135 PARK DRIVE\",\"135-11 CHENEY STREET\",\"135-44 224 STREET\",\"136 ALEXANDER AVENUE\",\"1363 78 STREET\",\"1367 EAST 91 STREET\",\"137 LYNCH STREET\",\"137 PROSPECT AVENUE\",\"137-24 170 STREET\",\"137-29 96 STREET\",\"137-42 228 STREET\",\"137-50 229 STREET\",\"137-66 JUNIPER AVENUE\",\"1371 82 STREET\",\"1372 EAST 92 STREET\",\"1373 EAST 91 STREET\",\"1376 EAST 92 STREET\",\"138-15 58 AVENUE\",\"139 UTICA AVENUE\",\"139-46 230 STREET\",\"14 ABBEY COURT\",\"14 BEACON COURT\",\"14 CANTON COURT\",\"14 DARE COURT\",\"14-06 133 PLACE\",\"14-14 BEACH 12 STREET\",\"14-15 113 STREET\",\"14-19 117 STREET\",\"14-21 ASTORIA BOULEVARD\",\"14-65 164 STREET\",\"140 FROST STREET\",\"140-35 QUEENS BOULEVARD\",\"1401 60 STREET\",\"1401 EAST 4 STREET\",\"1409 ALBEMARLE ROAD\",\"1409 FLATBUSH AVENUE\",\"141-17 115 AVENUE\",\"141-38 84 ROAD\",\"1415 PARK LANE\",\"1419 HERKIMER STREET\",\"142-44 FRANKLIN AVENUE\",\"1424 PARK LANE\",\"1427 EAST 14 STREET\",\"143-18 LIBERTY AVENUE\",\"143-21 LABURNUM AVENUE\",\"143-45 229 STREET\",\"143-86 232 STREET\",\"1431 EAST 100 STREET\",\"1432 EAST 51 STREET\",\"1436 ROOSEVELT AVENUE\",\"1437 ROOSEVELT AVENUE\",\"1439 ROOSEVELT AVENUE\",\"144-15 LIBERTY AVE\",\"144-20 73 AVENUE\",\"144-30 69 ROAD\",\"144-35 38 AVENUE\",\"144-74 NORTHERN BLVD\",\"1440 65 STREET\",\"1441 ROOSEVELT AVENUE\",\"1443 EAST 102 STREET\",\"1445 ROOSEVELT AVENUE\",\"1448 71 STREET\",\"1448 ROOSEVELT AVENUE\",\"1449 ROOSEVELT AVENUE\",\"145 WEST 108 STREET\",\"145-106 225 STREET\",\"145-64 230 STREET\",\"145-80 180 STREET\",\"145-84 180 STREET\",\"1450 40 STREET\",\"1450 ROOSEVELT AVENUE\",\"1458 38 STREET\",\"146-11 TUSKEGEE AIRMEN WAY\",\"146-44 58 AVENUE\",\"1465 PARK AVENUE\",\"1469 EAST 45 STREET\",\"147- 40 ARCHER AVENUE\",\"147-32 SPRINGFIELD LANE\",\"147-35 230 PLACE\",\"147-36 94 AVENUE\",\"147-37 110 AVENUE\",\"147-53A 231 STREET\",\"1470 73 STREET\",\"1481 EAST 26 STREET\",\"1487 BROOKLYN AVENUE\",\"149 SUNNYSIDE AVENUE\",\"149 WEST 9 STREET\",\"149-34 ASH AVENUE\",\"149-60 CHERRY AVENUE\",\"1495 ST JOHNS PLACE\",\"15 ABBEY COURT\",\"15 BAY 35 STREET\",\"15 BEACON COURT\",\"15 ELM TREE LANE\",\"15 SHORE ROAD SVC RD E\",\"15 THROOP AVENUE\",\"15-02 BEACH 12 STREET\",\"15-03 BEACH 11 STREET\",\"15-04 BEACH 12 STREET\",\"15-05 BEACH 11 STREET\",\"15-06 BEACH 12 STREET\",\"15-09 BEACH 11 STREET\",\"15-10 BEACH 12 STREET\",\"15-11 BEACH 11 STREET\",\"15-12 BEACH 12 STREET\",\"15-14 BEACH 12 STREET\",\"15-15 BEACH 11 STREET\",\"15-17 BEACH 11 STREET\",\"15-18 BEACH 12 STREET\",\"15-19 BEACH 11 STREET\",\"15-46 150 STREET\",\"150 VAN CORTLANDT AVE EAST\",\"150-118 POWELLS COVE BOULEVA\",\"150-122 POWELLS COVE BOULEVARD\",\"150-19 78 ROAD\",\"150-22 SULLIVAN DRIVE\",\"150-26 SULLIVAN DRIVE\",\"150-29 6 AVENUE\",\"150-32 SULLIVAN DRIVE\",\"150-36 SULLIVAN DRIVE\",\"150-45 19 AVENUE\",\"150-52 BAYSIDE AVENUE\",\"150-59 78 AVENUE\",\"1507 NEW YORK AVENUE\",\"151-54 20 AVENUE\",\"1517 JEFFERSON AVENUE\",\"1519 NEW YORK AVENUE\",\"1520 79 STREET\",\"1520 STORY AVENUE\",\"1524 NEW YORK AVENUE\",\"1526 MACE AVENUE\",\"1527 NEW YORK AVENUE\",\"153 COLERIDGE STREET\",\"153 MARTENSE STREET\",\"153-22 109 ROAD\",\"153-24 90 ROAD\",\"153-30 119 AVENUE\",\"1537 DEAN STREET\",\"154 ATLANTIC AVENUE\",\"154-22 BROAD STREET\",\"154-38 BROAD STREET\",\"154-42 BROAD STREET\",\"154-58 11 AVENUE\",\"1540 41 STREET\",\"1543 EAST NEW YORK AVENUE\",\"1544 BOONE AVENUE\",\"1544 EAST 19 STREET\",\"1549 EAST 98 STREET\",\"155-02 BROAD STREET\",\"155-04 BROAD STREET\",\"155-07 BAYVIEW AVENUE\",\"155-08 BROAD STREET\",\"155-10 BROAD STREET\",\"155-100 BAYVIEW AVENUE\",\"155-103 BAYVIEW AVENUE\",\"155-14 BROAD STREET\",\"155-21 BROAD STREET\",\"155-22 BROAD STREET\",\"155-25 BROAD STREET\",\"155-27 BAYVIEW AVENUE\",\"155-29 BROAD STREET\",\"155-31 BAYVIEW AVENUE\",\"155-32 BROAD STREET\",\"155-39 BROAD STREET\",\"155-40 BROAD STREET\",\"155-40 LAHN STREET\",\"155-42 BAYVIEW AVENUE\",\"155-46 BAYVIEW AVENUE\",\"155-47 BROAD STREET\",\"155-55 BROAD STREET\",\"155-57 BAYVIEW AVENUE\",\"155-60 BAYVIEW AVENUE\",\"155-61 BROAD STREET\",\"155-71 BAYVIEW AVENUE\",\"155-79 BAYVIEW AVENUE\",\"155-80 BAYVIEW AVENUE\",\"155-82 BAYVIEW AVENUE\",\"155-84 BAYVIEW AVENUE\",\"155-85 BAYVIEW AVENUE\",\"155-87 BAYVIEW AVENUE\",\"155-90 BAYVIEW AVENUE\",\"155-92 BAYVIEW AVENUE\",\"155-98 BAYVIEW AVENUE\",\"155-99 BAYVIEW AVENUE\",\"1557 WHITE PLAINS ROAD\",\"156-15 134 AVENUE\",\"1560 BOONE AVE\",\"1562 EAST 26 STREET\",\"1568 EAST 8 STREET\",\"157 COURT STREET\",\"157-11 108 AVENUE\",\"157-16 65 AVENUE\",\"157-44 QUINCE AVENUE\",\"1573 WEST 9 STREET\",\"1574 EAST 12 STREET\",\"1577 FULTON STREET\",\"158-03 111 AVENUE\",\"159 MONTAUK AVENUE\",\"16 BEACON COURT\",\"16 BEVY COURT\",\"16 CELESTE COURT\",\"16 DARE COURT\",\"16-24 BELL BOULEVARD\",\"160 BAY 53 STREET\",\"160-166 NORTH 4 STREET\",\"160-50 21 ROAD\",\"161-01 46 AVENUE\",\"161-03 46 AVENUE\",\"161-23 92 STREET\",\"161-24 119 DRIVE\",\"1612 NEW YORK AVENUE\",\"162-01 78 ROAD\",\"162-11 89 AVENUE\",\"1626 BROOKLYN AVENUE\",\"1629 DAHILL ROAD\",\"163-06 CROCHERON AVENUE\",\"1634 CHURCH AVENUE\",\"1634 LIBRARY AVENUE\",\"164 KINGSLAND AVENUE\",\"164 UNION STREET\",\"164-36 96 STREET\",\"1643 EAST 54 STREET\",\"1643 NEW YORK AVENUE\",\"1643 POPHAM AVENUE\",\"1646 PARKER STREET\",\"165 BROOME STREET\",\"1653 DAHILL ROAD\",\"1655 LINCOLN PLACE\",\"166 BAY 53 STREET\",\"166-08 UNION TURNPIKE\",\"166-51 25 AVENUE\",\"166-65 22 AVENUE\",\"1661 82 STREET\",\"1664 83 STREET\",\"1664 EAST 56 STREET\",\"1664 EAST GUN HILL ROAD\",\"1673 WEST 2 STREET\",\"1674 EAST 53 STREET\",\"1679 50 STREET\",\"1686 84 STREET\",\"169 LIVONIA AVENUE\",\"1690 PACIFIC STREET\",\"169A MONROE STREET\",\"17 ASTER COURT\",\"17 CANTON COURT\",\"17 DARE COURT\",\"17 LOIS AVENUE\",\"17-05 FRANCIS LEWIS BLVD\",\"17-20 VILLAGE LANE\",\"17-36 GEORGE STREET\",\"170-02 93 AVENUE\",\"171 BEACH 109 STREET\",\"172 BEACH 26 STREET\",\"172-31 BAISLEY BOULEVARD\",\"1720 EAST 36 STREET\",\"174 BEACH 26 STREET\",\"174-04 JEWEL AVENUE\",\"1748 72 STREET\",\"175 PALMETTO STREET\",\"1757 BROOKLYN AVENUE\",\"176 BEACH 26 STREET\",\"176-04 JAMAICA AVE\",\"176-06 JAMAICA AVE\",\"176-08 JAMAICA AVE\",\"176-10 JAMAICA AVE\",\"176-12 JAMAICA AVE\",\"176-14 JAMAICA AVE\",\"176-16 JAMAICA AVE\",\"176-18 JAMAICA AVE\",\"176-20 JAMAICA AVE\",\"176-61 132 AVENUE\",\"1765 PROSPECT PLACE\",\"1768 SECOND AVENUE\",\"1773 OCEAN AVENUE\",\"1781 EAST 23 STREET\",\"179 HALSEY STREET\",\"179 MALCOLM X BOULEVARD\",\"179 UTICA AVENUE\",\"179-64 SELOVER ROAD\",\"179-67 ANDERSON ROAD\",\"1795 EAST 15 STREET\",\"18 BEVY COURT\",\"18 DARE COURT\",\"18 SHORE ROAD\",\"18-40 BAY LANE\",\"180 NEW LOTS AVENUE\",\"1801 AMETHYST STREET\",\"181 EAST 101 STREET\",\"182-04 91 AVENUE\",\"182-16 143 AVENUE\",\"183 DUMONT AVENUE\",\"1833 LACOMBE AVENUE\",\"1839 EAST 33 STREET\",\"184 ST MARKS AVENUE\",\"1848 GUERLAIN STREET\",\"185 BROADWAY\",\"1853 59 STREET\",\"186 DOVER STREET\",\"186-12 MIDLAND PARKWAY\",\"1866 EASTERN PARKWAY\",\"1867 BROWN STREET\",\"1869 79 STREET\",\"188-23 WOODHULL AVENUE\",\"188-41 120 ROAD\",\"1885 48 STREET\",\"189-14 104 AVENUE\",\"189-20 117 ROAD\",\"189-33 MURDOCK AVENUE\",\"19 ABBEY COURT\",\"19 BEACON COURT\",\"19 CELESTE COURT\",\"19-15 NAMEOKE AVE\",\"190-31 118 AVENUE\",\"1903 WEST FARMS ROAD\",\"1912 FIRST AVENUE\",\"1918 1 AVENUE\",\"192-08 CROCHERON AVENUE\",\"192-15 LINDEN BOULEVARD\",\"1923 WEST FARM ROAD\",\"193-08 SALERNO AVENUE\",\"193-14 SALERNO AVENUE\",\"1932 52 STREET\",\"1932 BRYANT AVENUE\",\"1933 84 STREET\",\"1934 20 DRIVE\",\"1937 BENSON AVENUE\",\"194 DOVER STREET\",\"194 MADISON STREET\",\"194 SOUTH 2 STREET\",\"194-12 DUNTON AVENUE\",\"194-31 115 ROAD\",\"1940 TURNBULL AVENUE\",\"1943 EAST 28 STREET\",\"1943 WEST 9 STREET\",\"1944 EAST 12 STREET\",\"195 BRIGHTON 10 STREET\",\"195 MONTROSE AVENUE\",\"1950 80 STREET\",\"1954 EAST 28 STREET\",\"196 DEVOE ST\",\"196 EAST 57 STREET\",\"196-19 JAMAICA AVENUE\",\"196-24 91 AVENUE\",\"196-28 91 AVENUE\",\"196-57 45 AVENUE\",\"1961 COLDEN AVENUE\",\"1971 51 STREET\",\"1984 STRAUSS STREET\",\"2 BEVY COURT\",\"2 EDGEMERE STREET\",\"2 SPLIT ROCK ROAD\",\"2-20 MALT DRIVE\",\"20 ASTER COURT\",\"20 BEACON COURT\",\"20 BEVY COURT\",\"20 CELESTE COURT\",\"20 LOIS AVENUE\",\"20 SHORE ROAD\",\"20-33 STEINWAY STREET\",\"20-65 48 STREET\",\"2006 SURF AVENUE\",\"2019 57 STREET\",\"2019 WEST 6 STREET\",\"202 WASHINGTON AVENUE\",\"202-15 53 AVENUE\",\"202-17 46 ROAD\",\"2027 EAST 70 STREET\",\"203 DAHLGREN PLACE\",\"203 JAY STREET\",\"203 MONTAUK AVENUE\",\"2034 71 STREET\",\"204-11 38 AVENUE\",\"204-18 46 AVENUE\",\"204-42 45 ROAD\",\"2044 57 STREET\",\"2044 WESTCHESTER AVE\",\"205 ROCHESTER AVENUE\",\"2054 85 STREET\",\"206-09 48 AVENUE\",\"206-30 46 AVENUE\",\"2063 NARRAGANSETT AVENUE\",\"207 SOUTH 3 STREET\",\"2078 EAST 2 STREET\",\"2079 EDENWALD AVENUE\",\"21 ABBEY COURT\",\"21 BEACON COURT\",\"21 BEVY COURT\",\"21-17 BIRDSALL AVENUE\",\"21-17 PARSONS BOULEVARD\",\"21-20 45 RD\",\"21-22 45 ROAD\",\"21-24 45 ROAD\",\"210 LIVINGSTON ST\",\"210 NORTH 10 STREET\",\"211 MCGUINNESS BOULEVARD\",\"211-03 33 ROAD\",\"211-09 45 DRIVE\",\"211-11 45 ROAD\",\"2116 REGENT PLACE\",\"212 PUGSLEY AVENUE\",\"212 WEST 124 STREET\",\"2131 EAST 71 STREET\",\"2142 GLEASON AVENUE\",\"215 LIVONIA AVENUE\",\"2157 83 STREET\",\"216 CORNELIA STREET\",\"216-15 40 AVENUE\",\"217-34 PECK AVENUE\",\"2175 DAVIDSON AVENUE\",\"218-40 138 ROAD\",\"218A MONTROSE AVENUE\",\"22 ABBEY COURT\",\"22 BEVY COURT\",\"22 SHORE ROAD\",\"22-47 92 STREET\",\"22-53 MOTT AVENUE\",\"2222 HARMAN STREET\",\"223 WARREN STREET\",\"223-04 139 AVENUE\",\"224 BUTTRICK AVENUE\",\"225 WINTHROP STREET\",\"2253 78 STREET\",\"226-07 144 AVENUE\",\"226-11 146 AVENUE\",\"2260 EAST 63 STREET\",\"2266 CROPSEY AVENUE\",\"2266 EAST 65 STREET\",\"227 M EXPRESSWAYAJOR DEEGAN\",\"23 AVENUE B\",\"23 BEVY COURT\",\"23 COLLEGE POINT BOULEVARD\",\"23 EATON COURT\",\"23 INDIA STREET\",\"23-44 COLLEGE POINT BOULEVARD\",\"23-50 CORNAGA AVENUE\",\"23-50 WATERS EDGE DRIVE\",\"23-51 31 ROAD\",\"23-57 89 STREET\",\"230-10 139 AVENUE\",\"2302 WEBSTER AVENUE\",\"2314 AVENUE V\",\"233-12 BAY STREET\",\"2336 DEAN STREET\",\"2347 CONEY ISLAND AVENUE\",\"236 EAST 15 STREET\",\"236 STAGG ST\",\"2366 NATIONAL DRIVE\",\"2369 HOFFMAN STREET\",\"237 HAWTHORNE STREET\",\"2383 LORILLARD PLACE\",\"2389 7 AVENUE\",\"2395 8 AVENUE\",\"24 ABBEY COURT\",\"24 BEVY COURT\",\"24 CANTON COURT\",\"24 CELESTE COURT\",\"24 FRANK COURT\",\"24 LOIS AVENUE\",\"24 MARCY AVENUE\",\"24-13 26 STREET\",\"24-19 33 STREET\",\"24-21 42 STREET\",\"24-33 BEACH CHANNEL DRIVE\",\"24-35 BEACH CHANNEL DRIVE\",\"24-46 89 STREET\",\"24-50 89 STREET\",\"24-54 89 STREET\",\"24-56 89 STREET\",\"2409 DEAN STREET\",\"242 HAWTHORNE STREET\",\"242 JEFFERSON AVENUE\",\"242-16 PINE STREET\",\"2426 PITKIN AVENUE\",\"2436 BARKER AVENUE\",\"2441 DEAN STREET\",\"2457 3 AVENUE\",\"2460 WHITE PLAINS ROAD\",\"25 ASTER COURT\",\"25 EATON COURT\",\"25 ELM TREE LANE\",\"25-11 41 STREET\",\"25-15 127 STREET\",\"25-16 166 STREET\",\"25-16 BEACH CHANNEL DRIVE\",\"25-17 127 STREET\",\"25-25 76 STREET\",\"25-29 125 STREET\",\"25-47 30 ROAD\",\"25-49 30 ROAD\",\"25-57 43 STREET\",\"2506 NEWKIRK AVENUE LLC\",\"251 STANHOPE STREET\",\"251 WALLABOUT STREET\",\"2519 CRESTON AVENUE\",\"2520 JEROME AVENUE\",\"253 NOSTRAND AVENUE\",\"2534 STEINWAY STREET\",\"255 EAST 138 STREET\",\"2552 GERRITSEN AVENUE\",\"2554 GERRITSEN AVENUE\",\"2564 GERRITSEN AVENUE\",\"258 ATKINS AVENUE\",\"2582 GERRITSEN AVENUE\",\"2584 GERRITSEN AVENUE\",\"26 ASTER COURT\",\"26 BEVY COURT\",\"26 EATON COURT\",\"26 FRANK COURT\",\"26 MARCY AVENUE\",\"26 QUINCY STREET\",\"26 ST JOHNS PLACE\",\"26-05 28 STREET\",\"26-59 30 STREET\",\"260 COLUMBUS AVENUE\",\"2612 GERRITSEN AVENUE\",\"262 METROPOLITAN AVENUE\",\"2620 GERRITSEN AVENUE\",\"2624 GERRITSEN AVENUE\",\"2628 MILES AVENUE\",\"262A 18 STREET\",\"263 MCGUINNESS BOULEVARD\",\"2634 HARING STREET\",\"266 KENT AVENUE\",\"266 WESTMINSTER ROAD\",\"267 CRESCENT STREET\",\"2676 EAST 24 STREET\",\"268 BAY 38 STREET\",\"27 ASTER COURT\",\"27 BEACON COURT\",\"27 BEVY COURT\",\"27 LOIS AVENUE\",\"2700 JEROME AVENUE\",\"2702 GERRITSEN AVENUE\",\"2708 GLENWOOD ROAD\",\"2708 SNYDER AVENUE\",\"271 MCDONALD AVENUE\",\"2721 EAST 21 STREET\",\"273 MAPLE STREET\",\"2758 GERRITSEN AVENUE\",\"2768 MATTHEWS AVENUE\",\"2792 BATCHELDER STREET\",\"28 ASTER COURT\",\"28 CANTON COURT\",\"28 LOIS AVENUE\",\"28-53 49 STREET\",\"280 EAST 38 STREET\",\"280 PATCHEN AVENUE\",\"2807 SNYDER AVENUE\",\"281 PRESIDENT STREET\",\"2812 KINGS HIGHWAY\",\"282 HINSDALE STREET\",\"2820 GERRITSEN AVENUE\",\"2824 GERRITSEN AVENUE\",\"2826 GERRITSEN AVENUE\",\"2832 GERRITSEN AVENUE\",\"2842 GERRITSEN AVENUE\",\"2844 GERRITSEN AVENUE\",\"2848 GERRITSEN AVENUE\",\"285 EAST 169 STREET\",\"2856 GERRITSEN AVENUE\",\"2858 LINDEN BLVD\",\"2862 GERRITSEN AVENUE\",\"2866 GERRITSEN AVENUE\",\"2868 GERRITSEN AVENUE\",\"287 MAPLE STREET\",\"2873 WEST 17 STREET\",\"2885 MARION AVENUE\",\"2885 WEST 15 STREET\",\"29 ASTER COURT\",\"29 BEACON COURT\",\"29 CANTON COURT\",\"29 TROY AVENUE\",\"29-10 BROADWAY\",\"290 ALBANY AVENUE\",\"2900 GERRITSEN AVENUE\",\"2902 GERRITSEN AVENUE\",\"2906 GERRITSEN AVENUE\",\"2909 ALBERMARLE ROAD\",\"2910 GERRITSEN AVENUE\",\"2912 GERRITSEN AVENUE\",\"2916 GERRITSEN AVENUE\",\"2922 GERRITSEN AVENUE\",\"295 15 STREET\",\"295 BROADWAY\",\"295 CORBIN PLACE\",\"2956 GERRITSEN AVENUE\",\"2962 GERRITSEN AVENUE\",\"2966 GERRITSEN AVENUE\",\"2980 PARK AVENUE\",\"2990 GERRITSEN AVENUE\",\"29A CARROLL STREET\",\"3 BEVY COURT\",\"30 31 STREET\",\"30 ABBEY COURT\",\"30 ASTER COURT\",\"30 DARE COURT\",\"30 EATON COURT\",\"30-02 86 STREET\",\"30-16 29 STREET\",\"30-18 29 STREET\",\"30-92 42 STREET\",\"30-94 34 STREET\",\"300 ASHLAND PLACE\",\"300-D BEACH 100 STREET\",\"300-E BEACH 100 STREET\",\"300-F BEACH 100 STREET\",\"3008 YOUNG AVENUE\",\"301 FIRST AVENUE\",\"3010 GERRITSEN AVENUE\",\"3012 CORTELYOU ROAD\",\"3017 BARNES AVENUE\",\"303 BEACH 65 STREET\",\"303 KINGSLAND AVENUE\",\"3030 GERRITSEN AVENUE\",\"3036 GERRITSEN AVENUE\",\"3038 GERRITSEN AVENUE\",\"304 BEACH 100 STREET\",\"304-A BEACH 100 STREET\",\"304-B BEACH 100 STREET\",\"304-C BEACH 100 STREET\",\"304-D BEACH 100 STREET\",\"304-E BEACH 100 STREET\",\"304-F BEACH 100 STREET\",\"3043 BRIGHTON 4 STREET\",\"3044 GERRITSEN AVENUE\",\"305 BEACH 65 STREET\",\"3050 GERRITSEN AVENUE\",\"3056 GERRITSEN AVENUE\",\"3060 GERRITSEN AVENUE\",\"3064 GERRITSEN AVENUE\",\"307 BEACH 65 STREET\",\"3082 GERRITSEN AVENUE\",\"3084 WEBSTER AVE\",\"3086 GERRITSEN AVENUE\",\"309 BEACH 65 STREET\",\"31 ABBEY COURT\",\"31 BEVY COURT\",\"31 CARROLL STREET\",\"31 EATON COURT\",\"31-22 60 STREET\",\"31-30 93 STREET\",\"311 WILSON AVENUE\",\"312 23 STREET\",\"312 97 STREET\",\"312 BEACH 100 STREET\",\"312 BROADWAY\",\"312-A BEACH 100 STREET\",\"312-B BEACH 100 STREET\",\"312-C BEACH 100 STREET\",\"312-D BEACH 100 STREET\",\"312-E BEACH 100 STREET\",\"312-F BEACH 100 STREET\",\"3136 MICKLE AVENUE\",\"313A STATE STREET\",\"315A STATE STREET\",\"317 BEACH 65 STREET\",\"317 MELROSE STREET\",\"317 STATE STREET\",\"318-A BEACH 100 STREET\",\"318-B BEACH 100 STREET\",\"318-C BEACH 100 STREET\",\"318-D BEACH 100 STREET\",\"318-E BEACH 100 STREET\",\"318-F BEACH 100 STREET\",\"319 BEACH 65 STREET\",\"319 STATE STREET\",\"319A STATE STREET\",\"32 DARE COURT\",\"32 FRANK COURT\",\"32-26 72 STREET\",\"32-38 61 STREET\",\"32-40 61 STREET\",\"32-42 61 STREET\",\"32-65 30 STREET\",\"320 EAST 92 STREET\",\"320-A BEACH 100 STREET\",\"320-B BEACH 100 STREET\",\"320-C BEACH 100 STREET\",\"320-D BEACH 100 STREET\",\"320-E BEACH 100 STREET\",\"3205 ELY AVENUE\",\"3206 GLENWOOD ROAD\",\"321 BEACH 65 STREET\",\"321 ELDERT STREET\",\"3211 PARKSIDE PLACE\",\"3212 JOHNSON AVENUE\",\"322 EAST 32 STREET\",\"3223 NEWKIRK AVENUE\",\"3223 PEARSALL AVENUE\",\"323 BEACH 65 STREET\",\"324-A BEACH 100 STREET\",\"324-D BEACH 100 STREET\",\"324-F BEACH 100 STREET\",\"325 BEACH 65 STREET\",\"325 EAST 242 STREET\",\"326 EAST 51 STREET\",\"326 WYTHE AVENUE\",\"3260 WATERBURY AVENUE\",\"3265 107 STREET\",\"327 BEACH 65 STREET\",\"329 WARWICK STREET\",\"33 BAY 41 STREET\",\"33 CARROLL STREET\",\"33 EATON COURT\",\"33-21 212 STREET\",\"330 HINSDALE STREET\",\"330 SHEFFIELD AVENUE\",\"331 WARREN STREET\",\"331 WARWICK STREET\",\"334 21 STREET\",\"334-336 22 STREET\",\"335 WARWICK STREET\",\"34 ASTER COURT\",\"34-11 STEINWAY STREET\",\"34-16 58 STREET\",\"340 9 STREET\",\"340 EVERGREEN AVENUE\",\"340 RUTLAND ROAD\",\"3401 WRIGHT AVENUE\",\"3403 WRIGHT AVENUE\",\"3405 WRIGHT AVENUE\",\"3416 HUNTER AVENUE\",\"3418 HUNTER AVENUE\",\"3420 HUNTER AVENUE\",\"3422 HUNTER AVENUE\",\"3424 HUNTER AVENUE\",\"343 WYONA STREET\",\"345 ST ANN'S AVENUE\",\"346 KENT AVENUE\",\"3475 THIRD AVENUE\",\"348 KNOLLWOOD AVENUE\",\"349 KENT AVENUE\",\"35 ASTER COURT\",\"35 BEACON COURT\",\"35 CARROLL STREET\",\"35 COMMERCIAL STREET\",\"35 DARE COURT\",\"35 ELM TREE LANE\",\"35 LESTER COURT\",\"35 MELBA COURT\",\"35 NOVA COURT\",\"35-39 101 STREET\",\"35-51 99 STREET\",\"35-53 99 STREET\",\"3508 FARRAGUT ROAD\",\"351 WEST 15 STREET\",\"3512 FARRAGUT ROAD\",\"3544 TRYON AVENUE\",\"3548 MC OWEN AVENUE\",\"3552 MC OWEN AVENUE\",\"3556 WEBSTER AVENUE\",\"3560 WEBSTER AVENUE\",\"357 GRAND STREET\",\"357 KOSCIUSZKO STREET\",\"3580 WEBSTER AVENUE\",\"36 ASTER COURT\",\"36 BEACON COURT\",\"36 BEVY COURT\",\"36 CANTON COURT\",\"36 CELESTE COURT\",\"36 FRANK COURT\",\"36 GIRARD STREET\",\"36 LESTER COURT\",\"36 MELBA COURT\",\"36-17 193 STREET\",\"36-23 172 STREET\",\"36-37 31 STREET\",\"3600 WEBSTER AVENUE\",\"3609 WILLETT AVE\",\"361 97 STREET\",\"3616 FARRAGUT ROAD\",\"362 EAST 173 STREET\",\"3620 WEBSTER AVENUE\",\"364 EAST 173 STREET\",\"365 WEST 263 STREET\",\"366 EAST 184 STREET\",\"37 ABBEY COURT\",\"37 BEACON COURT\",\"37 BEVY COURT\",\"37 EATON COURT\",\"37 FRANK COURT\",\"37 NOVA COURT\",\"37-05 30 STREET\",\"37-17 103 STREET\",\"37-51 87 STREET\",\"37-60 100 STREET\",\"37-74 104 STREET\",\"3737 CYPRESS AVENUE\",\"375 LEWIS AVENUE\",\"3774 BEDFORD AVENUE\",\"378A DECATUR STREET\",\"38 ABBEY COURT\",\"38 DARE COURT\",\"38 EATON COURT\",\"38 FRANK COURT\",\"38 LESTER COURT\",\"38-24 211 STREET\",\"382 4 STREET\",\"389 SCHROEDERS AVENUE\",\"39 BEVY COURT\",\"39 EATON COURT\",\"39 FRANK COURT\",\"39 SEBA AVE\",\"39-50 222 STREET\",\"392 SCHROEDERS AVENUE\",\"3929 NEW UTRECHT AVE\",\"394 HARMAN STREET\",\"396 SCHROEDERS AVENUE\",\"398 SCHROEDERS AVENUE\",\"4 ASTER COURT\",\"4 CANTON COURT\",\"4 CELESTE COURT\",\"4 DARE COURT\",\"4 DICTUM COURT\",\"4 PEACE STREET\",\"40 ABBEY COURT\",\"40 ASTER COURT\",\"40 CANTON COURT\",\"40 LEE AVENUE\",\"40-14 68 STREET\",\"40-15 217 STREET\",\"40-18 FRANCIS LEWIS BLVD\",\"40-31 81 STREET\",\"40-47 77 STREET\",\"40-57 WARREN STREET\",\"400 SCHROEDERS AVENUE\",\"4003 MANHATTAN AVENUE\",\"401 RUTLAND ROAD\",\"401 SCHROEDERS AVENUE\",\"402 SCHROEDERS AVENUE\",\"403A 18 STREET\",\"406 CORNELIA STREET\",\"4084 AMUNDSON AVENUE\",\"409 EAST 120 STREET\",\"409 EASTERN PARKWAY\",\"41 CANTON COURT\",\"41 DARE COURT\",\"41 ELM TREE LANE\",\"41-10 23 ROAD\",\"41-33 50 STREET\",\"41-35A DE REIMER AVENUE\",\"410 FENIMORE STREET\",\"4113 12 AVENUE\",\"412 FENIMORE STREET\",\"42 CYRUS AVENUE\",\"42 EATON COURT\",\"42 ROAD\",\"42-07 DITMARS BOULEVARD\",\"42-15 165 STREET\",\"42-23 165 STREET\",\"42-25 191 STREET\",\"42-30 157 STREET\",\"42-36 FORLEY STREET\",\"420 420 TROY AVENUE\",\"420 ST LAWRENCE AVENUE\",\"428 WYTHE AVENUE\",\"43 ABBEY COURT\",\"43 ASTER COURT\",\"43 BEACON COURT\",\"43 DARE COURT\",\"43 EATON COURT\",\"43 SUMMIT STREET\",\"43-04 220 PLACE\",\"43-06 220 PLACE\",\"43-08 220 PLACE\",\"43-12 PARSONS BOULEVARD\",\"43-13 163 STREET\",\"43-14 212 STREET\",\"43-24 158 STREET\",\"430 SARATOGA AVENUE\",\"4313 3 AVENUE\",\"4315 3 AVENUE\",\"4317 3 AVENUE\",\"4319 3 AVENUE\",\"432 VAN BRUNT STREET\",\"433 84 STREET\",\"433 MAPLE STREET\",\"434 62 STREET\",\"434 WEST 22 STREET\",\"44 ASTER COURT\",\"44 BEVY COURT\",\"44 DARE COURT\",\"44 NOEL AVENUE\",\"4406 5 AVENUE\",\"443 EAST 162 STREET\",\"4439 THIRD AVENUE\",\"444 FOUNTAIN AVENUE\",\"446 MACON STREET\",\"447 QUINCY STREET\",\"449 CHESTER STREET\",\"45 ABBEY COURT\",\"45 ASTER COURT\",\"45 BEACON COURT\",\"45 ELM TREE LANE\",\"45 FRANK COURT\",\"45 MELROSE STREET\",\"45-07 48 AVEUE\",\"45-13 78 STREET\",\"45-19 ROCKAWAY BEACH BOULEVARD\",\"45-24 217 STREET\",\"45-27 11 STREET\",\"45-29 11 STREET\",\"45-31 11 STREET\",\"45-33 11 STREET\",\"45-37 11 STREET\",\"45-37 162 STREET\",\"45-39 11 STREET\",\"45-41 11 STREET\",\"45-43 211 STREET\",\"45-49 SMART STREET\",\"4511 THIRD AVENUE\",\"453 HINSDALE STREET\",\"459 HARMAN STREET\",\"46 ASTER COURT\",\"46 BEACON COURT\",\"46 BEVY COURT\",\"46 CANTON COURT\",\"46 ROEBLING STREET\",\"46-12 162 STREET\",\"46-20 220 PLACE\",\"46-31 BOWNE STREET\",\"463 EAST 57 STREET\",\"463 LIVONIA AVENUE\",\"465 GREENWICH STREET\",\"466 LINWOOD STREET\",\"469 ASHFORD STREET\",\"47 BEACON COURT\",\"47 BEVY COURT\",\"47 BROADWAY\",\"47 SEBA AVENUE\",\"47-02 46 STREET\",\"47-36 39 STREET\",\"470 DEAN STREET\",\"471 OVINGTON AVENUE\",\"472 LORIMER STREET\",\"475 VANDALIA AVENUE\",\"479 VANDALIA AVENUE\",\"48 BEACON COURT\",\"48 BEVY COURT\",\"48 NOEL AVENUE\",\"48 SEBA AVENUE\",\"4809 ROBERTSON STREET\",\"481 VANDALIA AVENUE\",\"4822 BARNES AVENUE\",\"4824 BARNES AVENUE\",\"4826 BARNES AVENUE\",\"4829 MURDOCK AVENUE\",\"4829 WHITE PLAINS ROAD\",\"483 GREENE AVENUE\",\"483 VANDALIA AVENUE\",\"485 VANDALIA AVENUE\",\"487 LIVONIA AVENUE\",\"487 VANDALIA AVENUE\",\"488 STERLING PLACE\",\"489 VANDALIA AVENUE\",\"49 ABBEY COURT\",\"49 ASTER COURT\",\"49 BEACON COURT\",\"49 EATON COURT\",\"49 FRANK COURT\",\"49 HARMAN STREET\",\"491 VANDALIA AVENUE\",\"492 LEFFERTS AVENUE\",\"493 VANDALIA AVENUE\",\"494 VANDALIA AVENUE\",\"495 VANDALIA AVENUE\",\"496 BROADWAY\",\"496 VANDALIA AVENUE\",\"497 VANDALIA AVENUE\",\"498 SCHROEDERS AVENUE\",\"498 VANDALIA AVENUE\",\"5 ABBEY COURT\",\"5 BLUE SLIP\",\"5-12 47 AVENUE\",\"50 ASTER COURT\",\"50 BEACON COURT\",\"50 CANTON COURT\",\"50 CYRUS AVENUE\",\"50 SEBA AVENUE\",\"50 WEST 34 STREET\",\"50-08 39 STREET\",\"500 LIVONIA AVENUE\",\"500 VANDALIA AVENUE\",\"502 SCHROEDERS AVENUE\",\"502 VANDALIA AVENUE\",\"504 SCHROEDERS AVENUE\",\"504 VANDALIA AVENUE\",\"505 WEST 35 STREET\",\"506 VANDALIA AVENUE\",\"508 VANDALIA AVENUE\",\"509 PARK PLACE\",\"51 BEACON COURT\",\"51 DARE COURT\",\"51 EAST 51 STREET\",\"51 EATON COURT\",\"51 FRANK COURT\",\"51 SEBA AVENUE\",\"51 VERONICA PLACE\",\"51-27 QUEENS BLVD.\",\"51-35 REEDER STREET\",\"51-51 69 PLACE\",\"51-99 MANILLA STREET\",\"510 EAST 38 STREET\",\"510 VANDALIA AVENUE\",\"5108 4 AVENUE\",\"5125 BEACH CHANNEL DRIVE\",\"514 AVENUE Y\",\"515 VAN NEST AVENUE\",\"516 SCHROEDERS AVENUE\",\"518 EAST 147 STREET\",\"519 83 STREET\",\"52 BEACON COURT\",\"52 CYRUS AVENUE\",\"52 EATON COURT\",\"52 FRANK COURT\",\"52-03 CENTER BLVD\",\"52-33 METROPOLITAN AVENUE\",\"521 WEST 145 STREET\",\"524 COURT STREET\",\"524 EAST 14 STREET\",\"528 KOSCIUSZKO STREET\",\"529 HERKIMER STREET\",\"53 ABBEY COURT\",\"53 ASTER COURT\",\"53 CANTON COURT\",\"53 FRANK COURT\",\"53-16 105 STREET\",\"53-24 190 STREET\",\"53-50 FRANCIS LEWIS BLVD\",\"53-60 61 STREET\",\"53-85 69 STREET\",\"535 PACIFIC STREET\",\"537 PACIFIC STREET\",\"54 ABBEY COURT\",\"54 BEACON COURT\",\"54 MARCY AVENUE\",\"54 NOEL AVENUE\",\"54 SEBA AVENUE\",\"54-32 153 STREET\",\"545 EAST 166 STREET\",\"546 BEACH 130 STREET\",\"549 CHRISTOPHER AVENUE\",\"55 ASTER COURT\",\"55 CANTON COURT\",\"55 DARE COURT\",\"55 EATON COURT\",\"55 LEE AVENUE\",\"55 PARK DRIVE\",\"55 SEBA AVENUE\",\"55-04 66 STREET\",\"552 PROSPECT PLACE\",\"556 BERGEN AVENUE\",\"56 ASTER COURT\",\"56 BEVY COURT\",\"56 DARE COURT\",\"56 EATON COURT\",\"56 FRANK COURT\",\"56 JEWEL STREET\",\"56 MARCY AVENUE\",\"56 SEBA AVENUE\",\"56-04 135 STREET\",\"56-12 VAN CLEEF STREET\",\"56-20 OCEANIA STREET\",\"564 EAST 29 STREET\",\"569 ELDERT LANE\",\"57 ASTER COURT\",\"57 CANTON COURT\",\"57 FRANK COURT\",\"57 LEE AVENUE\",\"57 MARCOUS GARVEY BLVD\",\"57-16 162 STREET\",\"57-26 159 STREET\",\"57-50 74 STREET\",\"570 EAST 137 STREET\",\"5703 AVENUE O\",\"572 ST. MARKS AVE\",\"5723 KINGS HIGHWAY\",\"5758 KINGS HIGHWAY\",\"577 FLUSHING AVENUE\",\"577 VAN BUREN STREET\",\"58 ASTER COURT\",\"58 DARE COURT\",\"58 MIDDLETON STREET\",\"58 NOEL AVENUE\",\"58-14 GRANGER STREET\",\"58-27 44 AVENUE\",\"58-47 217 STREET\",\"58-51 41 DRIVE\",\"581 VAN BUREN STREET\",\"582 EAST 138 STREET\",\"583 VAN BUREN STREET\",\"586 EAST 32 STREET\",\"588 ONDERDONK AVENUE\",\"59 BAY RIDGE PARKWAY\",\"59 BEACON COURT\",\"59 EATON COURT\",\"59 LEE AVENUE\",\"59 SEBA AVENUE\",\"59-11 160 STREET\",\"59-37 MENAHAN STREET\",\"5902 11 AVENUE\",\"592 7 AVENUE\",\"593 WILLIAMS AVENUE\",\"594 BUSHWICK AVENUE\",\"6 ABBEY COURT\",\"6 CANTON COURT\",\"6 CELESTE COURT\",\"60 BEVY COURT\",\"60 CANTON COURT\",\"60 EAST 112 STREET\",\"60 EATON COURT\",\"60 NOEL AVENUE\",\"60-16 59 ROAD\",\"60-17 56 ROAD\",\"60-78 METROPOLITAN AVENUE\",\"600 BERGEN AVENUE\",\"600 EAST 156 STREET\",\"601 WEST 181 STREET\",\"602 7 AVENUE\",\"603 PONTIAC PLACE\",\"603 VERMONT STREET\",\"605 EAST 39 STREET\",\"606 EAST 54 STREET\",\"607 BARBADOES DRIVE\",\"608 EAST 54 STREET\",\"608 EAST 99 STREET\",\"61 ASTER COURT\",\"61 CANTON COURT\",\"61 DARE COURT\",\"61 LEE AVENUE\",\"61 SUMMIT STREET\",\"61-04 81 STREET\",\"61-15 168 STREET\",\"61-27 56 AVENUE\",\"610 EAST 54 STREET\",\"614 EAST 54 STREET\",\"615 BARBADOES DRIVE\",\"615 DREW STREET\",\"619 CHURCH AVENUE\",\"62 ASTER COURT\",\"62 BEACON COURT\",\"62 FT GREENE PLACE\",\"62 NOEL AVENUE\",\"62 SOUTH 2 STREET\",\"62-11 108 STREET\",\"62-16 HILLMEYER ROAD\",\"62-44 HILLMEYER ROAD\",\"621 MADISON STREET\",\"621 PRESIDENT STREET\",\"627 FAILE STREET\",\"628 BEDFORD AVE\",\"63 BEACON COURT\",\"63 EATON COURT\",\"63 FRANK COURT\",\"63 ROAD\",\"63 STANHOPE STREET\",\"63-15 CARLTON STREET\",\"63-40 BOURTON STREET\",\"63-42 BOURTON STREET\",\"6306 LIEBIG AVENUE\",\"6308 LIEBIG AVENUE\",\"6313 FT HAMILTON PARKWAY\",\"6313 LIEBIG AVENUE\",\"6315 FT HAMILTON PARKWAY\",\"6317 FT HAMILTON PARKWAY\",\"6319 FT HAMILTON PARKWAY\",\"634 POWELL STREET\",\"637 MASDISON STREET\",\"639 EASTERN PARKWAY\",\"64 ASTER COURT\",\"64 CANTON COURT\",\"64 FRANK COURT\",\"64 NOEL AVENUE\",\"64-22 79 STREET\",\"64-53 MADISON STREET\",\"643 SHEFFIELD AVENUE\",\"643A MADISON STREET\",\"647 HUMBOLDT STREET\",\"65 BARTLETT PLACE\",\"65 BEACON COURT\",\"65 DARE COURT\",\"65 PARK DRIVE\",\"65-23 79 STREET\",\"65-25 ROOSEVELT AVE\",\"66 BEACON COURT\",\"66 SOMERS STREET\",\"66-10 75 STREET\",\"66-58 69 STREET\",\"664 NEW YORK AVE\",\"67 ABBEY COURT\",\"67 CANTON COURT\",\"67 DARE COURT\",\"67-16 60 STREET\",\"67-21 185 STREET\",\"67-43 73 PLACE\",\"672 47 STREET\",\"679 VAN SINDEREN AVENUE\",\"68 ASTER COURT\",\"68 BEACON COURT\",\"68 CANTON COURT\",\"68 SOMERS STREET\",\"68-05 50 AVENUE\",\"68-16 MANSE STREET\",\"69 70 STREET\",\"69 ABBEY COURT\",\"69 BARTLETT PLACE\",\"69 CANTON COURT\",\"69 EATON COURT\",\"69-11 166 STREET\",\"69-48 178 STREET\",\"69-60 199 STREET\",\"69-69 112 STREET\",\"690 MACON STREET\",\"691 86 STREET\",\"698 EGAN STREET\",\"7 ABBEY COURT\",\"7 BEVY COURT\",\"7 ELM TREE LANE\",\"70 ASTER COURT\",\"70 ELDERT LANE\",\"70 FLORENCE AVENUE\",\"70-33 71 PLACE\",\"702 BEACH AVENUE\",\"702 CHAUNCEY STREET\",\"702 EAST 103 STREET\",\"702 VANDALIA AVENUE\",\"704 EAST 103 STREET\",\"707 CONEY ISLAND AVENUE\",\"71 ABBEY COURT\",\"71 ASTER COURT\",\"71 GOTHAM AVENUE\",\"71-57 162 STREET\",\"710 EAST 221 STREET\",\"712 EAST 103 STREET\",\"714 EAST 103 STREET\",\"718 EAST 103 STREET\",\"719 ST. NICHOLAS AVENUE\",\"72 ADELPHI STREET\",\"72 BEACON COURT\",\"72 FLORENCE AVENUE\",\"72-04 COOPER AVENUE\",\"720 EAST 103 STREET\",\"720 TIFFANY STREET\",\"723 ARNOE AVENUE\",\"724 EAST 103 STREET\",\"725 PARK AVENUE\",\"726 EAST 103 STREET\",\"728 EAST 103 STREET\",\"729 EAST 32 STREET\",\"729 VANDALIA AVENUE\",\"73 ABBEY COURT\",\"73 CANTON COURT\",\"730 EAST 103 STREET\",\"731 MADISON STREET\",\"731B GREENE AVENUE\",\"734 EAST 103 STREET\",\"735 FENOMORE STREET\",\"739 FENIMORE STREET\",\"740 EAST 103 STREET\",\"741 61 STREET\",\"741 CONCOURSE VILLAGE WEST\",\"742 EAST 103 STREET\",\"743 EAST 217 STREET\",\"744 BEDFORD AVENUE\",\"745 EAST 217 STREET\",\"746 EAST 103 STREET\",\"75 SUYDAM STREET\",\"75-04 60 LANE\",\"75-44 178 STREET\",\"750 EAST 103 STREET\",\"752 EAST 103 STREET\",\"755 CLEVELAND STREET\",\"755 EAST 87 STREET\",\"757 BERGEN STREET\",\"757 CLEVELAND STREET\",\"76 ASTER COURT\",\"76 CANTON COURT\",\"76 GOTHAM AVENUE\",\"760 EAST 223 STREET\",\"7607 3 AVENUE\",\"764 EAST 32 STREET\",\"77 8 AVENUE\",\"77 PARK DRIVE\",\"77 SUYDAM STREET\",\"77-43 76 STREET\",\"7707 RIDGE BOULEVARD\",\"771 EAST 32 STREET\",\"774 LEXINGTON AVENUE\",\"775 CROTONA PARK NORTH\",\"78 BEACON COURT\",\"78 FLORENCE AVENUE\",\"78-03 164 STREET\",\"78-39 79 PLACE\",\"78-52 83 STREET\",\"785 METROPOLITAN AVENUE\",\"79 AVENUE D\",\"79 BEACON COURT\",\"79 SUYDAM STREET\",\"79-01 KNEELAND AVENUE\",\"79-05 WOODHAVEN BOULEVARD\",\"79-09 WOODHAVEN BOULEVARD\",\"79-11 WOODHAVEN BOULEVARD\",\"79-15 WOODHAVEN BOULEVARD\",\"79-17 WOODHAVEN BOULEVARD\",\"79-21 WOODHAVEN BOULEVARD\",\"79-39 69 ROAD\",\"792 MADISON STREET\",\"8 ASTER COURT\",\"8 BEACON COURT\",\"8 CELESTE COURT\",\"8 DARE COURT\",\"8 DICTUM COURT\",\"8 EAST 4 STREET\",\"8 JEROME STREET\",\"80 JACKIE ROBINSON PKWY\",\"80-57 LEFFERTS BOULEVARD\",\"80-59 LEFFERTS BOULEVARD\",\"80-61 LEFFERTS BOULEVARD\",\"800 FLATBUSH AVENUE\",\"800 HENDRIX STREET\",\"800 UNION STREET\",\"801 EAST 181 STREET\",\"803 E 218 STREET\",\"81 BARTLETT PLACE\",\"81 BEECH TREE LANE\",\"81 SUYDAM STREET\",\"81 WARREN STREET\",\"81-16 DONGAN AVENUE\",\"811 EAST 38 STREET\",\"8134 BAY 16 STREET\",\"815 5 AVNENUE\",\"815 JEFFERSON AVENUE\",\"816 WASHINGTON AVE\",\"817A 5 AVENUE\",\"818 EAST 220 STREET\",\"82 GOTHAM AVENUE\",\"820 THIERIOT AVENUE\",\"828 EAST 149 STREET\",\"83 PARK DRIVE\",\"83 STREET\",\"83 SUYDAM STREET\",\"83-01 94 STREET\",\"83-02 94 STREET\",\"83-03 94 STREET\",\"83-04 94 STREET\",\"83-05 94 STREET\",\"83-06 94 STREET\",\"83-07 94 STREET\",\"83-08 94 STREET\",\"83-09 94 STREET\",\"83-11 94 STREET\",\"83-12 94 STREET\",\"83-13 94 STREET\",\"83-14 94 STREET\",\"83-15 94 STREET\",\"83-16 94 STREET\",\"83-18 58 AVENUE\",\"83-18 94 STREET\",\"83-20 94 STREET\",\"83-46 PENELOPE AVENUE\",\"83-55 WOODHAVEN BOULEVARD\",\"83-75 WOODHAVEN BOULEVARD\",\"83-85 WOODHAVEN BOULEVARD\",\"83-87 WOODHAVEN BOULEVARD\",\"83-97 WOODHAVEN BOULEVARD\",\"8308 14 AVENUE\",\"84 ABBEY COURT\",\"84 BEECH TREE LANE\",\"84-01 89 STREET\",\"84-22 102 AVENUE\",\"84-37 RADNOR STREET\",\"84-54 86 AVENUE\",\"84-56 98 STREET\",\"8411 17 AVENUE\",\"847 ST. NICHOLAS AVENUE\",\"85 EAST 45 STREET\",\"85 EASTERN PARKWAY\",\"85 GRAHAM AVE\",\"85 GREENWAY TERRACE\",\"85-19 123 STREET\",\"85-57A 66 ROAD\",\"85-87 RUTLEDGE STREET\",\"851 47 STREET\",\"858 EAST 37 STREET\",\"86 BEECH TREE LANE\",\"86 STREET\",\"86-13 124 STREET\",\"87 BARTLETT PLACE\",\"87 CALYER STREET\",\"87-18 76 STREET\",\"87-19 51 AVENUE\",\"87-39 116 STREET\",\"87-44 168 PLACE\",\"87-85 144 STREET\",\"876 ST JOHNS PLACE\",\"88 BEECH TREE LANE\",\"88 GOTHAM AVENUE\",\"88-15 ASTORIA BOULEVARD\",\"88-17 ASTORIA BOULEVARD\",\"88-21 ASTORIA BOULEVARD\",\"88-23 ASTORIA BOULEVARD\",\"88-24 MERRICK BOULEVARD\",\"88-31 DORAN AVENUE\",\"88-36 213 STREET\",\"88-56 195 STREET\",\"889 BUSHWICK AVENUE\",\"89 BARTLETT PLACE\",\"89 PARK DRIVE\",\"89-28 182 PLACE\",\"89-38 218 STREET\",\"89-46 164 STREET\",\"8907 SHORE COURT\",\"8918 16 AVENUE\",\"9 CELESTE COURT\",\"9-26 129 STREET\",\"90 BEECH TREE LANE\",\"90 GOTHAM AVENUE\",\"90-04 SILVER ROAD\",\"90-06 101 AVENUE\",\"90-13 56 AVENUE\",\"90-17 56 AVENUE\",\"90-20 50 AVENUE\",\"90-29 138 PLACE\",\"90-31 53 AVENUE\",\"905 HICKSVILLE ROAD\",\"907 HICKSVILLE ROAD\",\"909 BECK STREET\",\"909 HICKSVILLE ROAD\",\"91 BARTLETT PLACE\",\"91-23 109 STREET\",\"91-25 LEFFERTS BOULEVARD\",\"91-46 87 STREET\",\"91-47 80 STREET\",\"91-48 87 STREET\",\"911 BRYANT AVE\",\"911 HICKSVILLE ROAD\",\"913 EAST TREMONT AVENUE\",\"917 WESTCHESTER AVE\",\"92 GOTHAM AVENUE\",\"92-15 JAMAICA AVENUE\",\"92-23 168 STREET\",\"920 WILCOX AVENUE\",\"929 CLEVELAND STREET\",\"93 BARTLETT PLACE\",\"93 WYCKOFF STREET\",\"937 42 STREET\",\"94 NORTH 3 STREET\",\"94-07 108 STREET\",\"94-13 120 STREET\",\"94-15 134 STREET\",\"94-38 109 AVENUE\",\"94-47 ALSTYNE AVENUE\",\"94-66 45 AVENUE\",\"949 PACIFIC STREET\",\"95 PARK DRIVE\",\"95 ST MARKS PLACE\",\"95-05 ASTORIA BLVD\",\"95-13 50 AVENUE\",\"95-15 50 AVENUE\",\"950 SUTTER AVENUE\",\"96 GOTHAM AVENUE\",\"96 NEW LOTS AVE\",\"96-07 68 AVENUE\",\"96-43 CORONA AVE\",\"960 PROSPECT AVE\",\"966 GATES AVENUE\",\"967 BEDFORD AVE\",\"97 BARTLETT PLACE\",\"97 JAVA STREET\",\"97-24 95 STREET\",\"97-26 125 STREET\",\"97-39 105 STREET\",\"977 EAST 34 STREET\",\"979 ASHFORD STREET\",\"98-15 34 AVENUE\",\"98-16 197 STREET\",\"98-37 CORONA AVENUE\",\"980 WESTCHESTER AVENUE\",\"988 EAST 180 STREET\",\"99-20 32 AVENUE\",\"99-22 65 AVENUE\",\"BAY 22 STREET\",\"EAST 13 STREET\",\"EAST 230 STREET\",\"EAST 32 STREET\"],\"type\":\"scattermapbox\"}],                        {\"mapbox\":{\"center\":{\"lat\":40.7128,\"lon\":-74.006},\"style\":\"carto-positron\",\"zoom\":11},\"showlegend\":false,\"title\":{\"text\":\"Residential\"},\"template\":{\"data\":{\"histogram2dcontour\":[{\"type\":\"histogram2dcontour\",\"colorbar\":{\"outlinewidth\":0,\"ticks\":\"\"},\"colorscale\":[[0.0,\"#0d0887\"],[0.1111111111111111,\"#46039f\"],[0.2222222222222222,\"#7201a8\"],[0.3333333333333333,\"#9c179e\"],[0.4444444444444444,\"#bd3786\"],[0.5555555555555556,\"#d8576b\"],[0.6666666666666666,\"#ed7953\"],[0.7777777777777778,\"#fb9f3a\"],[0.8888888888888888,\"#fdca26\"],[1.0,\"#f0f921\"]]}],\"choropleth\":[{\"type\":\"choropleth\",\"colorbar\":{\"outlinewidth\":0,\"ticks\":\"\"}}],\"histogram2d\":[{\"type\":\"histogram2d\",\"colorbar\":{\"outlinewidth\":0,\"ticks\":\"\"},\"colorscale\":[[0.0,\"#0d0887\"],[0.1111111111111111,\"#46039f\"],[0.2222222222222222,\"#7201a8\"],[0.3333333333333333,\"#9c179e\"],[0.4444444444444444,\"#bd3786\"],[0.5555555555555556,\"#d8576b\"],[0.6666666666666666,\"#ed7953\"],[0.7777777777777778,\"#fb9f3a\"],[0.8888888888888888,\"#fdca26\"],[1.0,\"#f0f921\"]]}],\"heatmap\":[{\"type\":\"heatmap\",\"colorbar\":{\"outlinewidth\":0,\"ticks\":\"\"},\"colorscale\":[[0.0,\"#0d0887\"],[0.1111111111111111,\"#46039f\"],[0.2222222222222222,\"#7201a8\"],[0.3333333333333333,\"#9c179e\"],[0.4444444444444444,\"#bd3786\"],[0.5555555555555556,\"#d8576b\"],[0.6666666666666666,\"#ed7953\"],[0.7777777777777778,\"#fb9f3a\"],[0.8888888888888888,\"#fdca26\"],[1.0,\"#f0f921\"]]}],\"heatmapgl\":[{\"type\":\"heatmapgl\",\"colorbar\":{\"outlinewidth\":0,\"ticks\":\"\"},\"colorscale\":[[0.0,\"#0d0887\"],[0.1111111111111111,\"#46039f\"],[0.2222222222222222,\"#7201a8\"],[0.3333333333333333,\"#9c179e\"],[0.4444444444444444,\"#bd3786\"],[0.5555555555555556,\"#d8576b\"],[0.6666666666666666,\"#ed7953\"],[0.7777777777777778,\"#fb9f3a\"],[0.8888888888888888,\"#fdca26\"],[1.0,\"#f0f921\"]]}],\"contourcarpet\":[{\"type\":\"contourcarpet\",\"colorbar\":{\"outlinewidth\":0,\"ticks\":\"\"}}],\"contour\":[{\"type\":\"contour\",\"colorbar\":{\"outlinewidth\":0,\"ticks\":\"\"},\"colorscale\":[[0.0,\"#0d0887\"],[0.1111111111111111,\"#46039f\"],[0.2222222222222222,\"#7201a8\"],[0.3333333333333333,\"#9c179e\"],[0.4444444444444444,\"#bd3786\"],[0.5555555555555556,\"#d8576b\"],[0.6666666666666666,\"#ed7953\"],[0.7777777777777778,\"#fb9f3a\"],[0.8888888888888888,\"#fdca26\"],[1.0,\"#f0f921\"]]}],\"surface\":[{\"type\":\"surface\",\"colorbar\":{\"outlinewidth\":0,\"ticks\":\"\"},\"colorscale\":[[0.0,\"#0d0887\"],[0.1111111111111111,\"#46039f\"],[0.2222222222222222,\"#7201a8\"],[0.3333333333333333,\"#9c179e\"],[0.4444444444444444,\"#bd3786\"],[0.5555555555555556,\"#d8576b\"],[0.6666666666666666,\"#ed7953\"],[0.7777777777777778,\"#fb9f3a\"],[0.8888888888888888,\"#fdca26\"],[1.0,\"#f0f921\"]]}],\"mesh3d\":[{\"type\":\"mesh3d\",\"colorbar\":{\"outlinewidth\":0,\"ticks\":\"\"}}],\"scatter\":[{\"fillpattern\":{\"fillmode\":\"overlay\",\"size\":10,\"solidity\":0.2},\"type\":\"scatter\"}],\"parcoords\":[{\"type\":\"parcoords\",\"line\":{\"colorbar\":{\"outlinewidth\":0,\"ticks\":\"\"}}}],\"scatterpolargl\":[{\"type\":\"scatterpolargl\",\"marker\":{\"colorbar\":{\"outlinewidth\":0,\"ticks\":\"\"}}}],\"bar\":[{\"error_x\":{\"color\":\"#2a3f5f\"},\"error_y\":{\"color\":\"#2a3f5f\"},\"marker\":{\"line\":{\"color\":\"#E5ECF6\",\"width\":0.5},\"pattern\":{\"fillmode\":\"overlay\",\"size\":10,\"solidity\":0.2}},\"type\":\"bar\"}],\"scattergeo\":[{\"type\":\"scattergeo\",\"marker\":{\"colorbar\":{\"outlinewidth\":0,\"ticks\":\"\"}}}],\"scatterpolar\":[{\"type\":\"scatterpolar\",\"marker\":{\"colorbar\":{\"outlinewidth\":0,\"ticks\":\"\"}}}],\"histogram\":[{\"marker\":{\"pattern\":{\"fillmode\":\"overlay\",\"size\":10,\"solidity\":0.2}},\"type\":\"histogram\"}],\"scattergl\":[{\"type\":\"scattergl\",\"marker\":{\"colorbar\":{\"outlinewidth\":0,\"ticks\":\"\"}}}],\"scatter3d\":[{\"type\":\"scatter3d\",\"line\":{\"colorbar\":{\"outlinewidth\":0,\"ticks\":\"\"}},\"marker\":{\"colorbar\":{\"outlinewidth\":0,\"ticks\":\"\"}}}],\"scattermapbox\":[{\"type\":\"scattermapbox\",\"marker\":{\"colorbar\":{\"outlinewidth\":0,\"ticks\":\"\"}}}],\"scatterternary\":[{\"type\":\"scatterternary\",\"marker\":{\"colorbar\":{\"outlinewidth\":0,\"ticks\":\"\"}}}],\"scattercarpet\":[{\"type\":\"scattercarpet\",\"marker\":{\"colorbar\":{\"outlinewidth\":0,\"ticks\":\"\"}}}],\"carpet\":[{\"aaxis\":{\"endlinecolor\":\"#2a3f5f\",\"gridcolor\":\"white\",\"linecolor\":\"white\",\"minorgridcolor\":\"white\",\"startlinecolor\":\"#2a3f5f\"},\"baxis\":{\"endlinecolor\":\"#2a3f5f\",\"gridcolor\":\"white\",\"linecolor\":\"white\",\"minorgridcolor\":\"white\",\"startlinecolor\":\"#2a3f5f\"},\"type\":\"carpet\"}],\"table\":[{\"cells\":{\"fill\":{\"color\":\"#EBF0F8\"},\"line\":{\"color\":\"white\"}},\"header\":{\"fill\":{\"color\":\"#C8D4E3\"},\"line\":{\"color\":\"white\"}},\"type\":\"table\"}],\"barpolar\":[{\"marker\":{\"line\":{\"color\":\"#E5ECF6\",\"width\":0.5},\"pattern\":{\"fillmode\":\"overlay\",\"size\":10,\"solidity\":0.2}},\"type\":\"barpolar\"}],\"pie\":[{\"automargin\":true,\"type\":\"pie\"}]},\"layout\":{\"autotypenumbers\":\"strict\",\"colorway\":[\"#636efa\",\"#EF553B\",\"#00cc96\",\"#ab63fa\",\"#FFA15A\",\"#19d3f3\",\"#FF6692\",\"#B6E880\",\"#FF97FF\",\"#FECB52\"],\"font\":{\"color\":\"#2a3f5f\"},\"hovermode\":\"closest\",\"hoverlabel\":{\"align\":\"left\"},\"paper_bgcolor\":\"white\",\"plot_bgcolor\":\"#E5ECF6\",\"polar\":{\"bgcolor\":\"#E5ECF6\",\"angularaxis\":{\"gridcolor\":\"white\",\"linecolor\":\"white\",\"ticks\":\"\"},\"radialaxis\":{\"gridcolor\":\"white\",\"linecolor\":\"white\",\"ticks\":\"\"}},\"ternary\":{\"bgcolor\":\"#E5ECF6\",\"aaxis\":{\"gridcolor\":\"white\",\"linecolor\":\"white\",\"ticks\":\"\"},\"baxis\":{\"gridcolor\":\"white\",\"linecolor\":\"white\",\"ticks\":\"\"},\"caxis\":{\"gridcolor\":\"white\",\"linecolor\":\"white\",\"ticks\":\"\"}},\"coloraxis\":{\"colorbar\":{\"outlinewidth\":0,\"ticks\":\"\"}},\"colorscale\":{\"sequential\":[[0.0,\"#0d0887\"],[0.1111111111111111,\"#46039f\"],[0.2222222222222222,\"#7201a8\"],[0.3333333333333333,\"#9c179e\"],[0.4444444444444444,\"#bd3786\"],[0.5555555555555556,\"#d8576b\"],[0.6666666666666666,\"#ed7953\"],[0.7777777777777778,\"#fb9f3a\"],[0.8888888888888888,\"#fdca26\"],[1.0,\"#f0f921\"]],\"sequentialminus\":[[0.0,\"#0d0887\"],[0.1111111111111111,\"#46039f\"],[0.2222222222222222,\"#7201a8\"],[0.3333333333333333,\"#9c179e\"],[0.4444444444444444,\"#bd3786\"],[0.5555555555555556,\"#d8576b\"],[0.6666666666666666,\"#ed7953\"],[0.7777777777777778,\"#fb9f3a\"],[0.8888888888888888,\"#fdca26\"],[1.0,\"#f0f921\"]],\"diverging\":[[0,\"#8e0152\"],[0.1,\"#c51b7d\"],[0.2,\"#de77ae\"],[0.3,\"#f1b6da\"],[0.4,\"#fde0ef\"],[0.5,\"#f7f7f7\"],[0.6,\"#e6f5d0\"],[0.7,\"#b8e186\"],[0.8,\"#7fbc41\"],[0.9,\"#4d9221\"],[1,\"#276419\"]]},\"xaxis\":{\"gridcolor\":\"white\",\"linecolor\":\"white\",\"ticks\":\"\",\"title\":{\"standoff\":15},\"zerolinecolor\":\"white\",\"automargin\":true,\"zerolinewidth\":2},\"yaxis\":{\"gridcolor\":\"white\",\"linecolor\":\"white\",\"ticks\":\"\",\"title\":{\"standoff\":15},\"zerolinecolor\":\"white\",\"automargin\":true,\"zerolinewidth\":2},\"scene\":{\"xaxis\":{\"backgroundcolor\":\"#E5ECF6\",\"gridcolor\":\"white\",\"linecolor\":\"white\",\"showbackground\":true,\"ticks\":\"\",\"zerolinecolor\":\"white\",\"gridwidth\":2},\"yaxis\":{\"backgroundcolor\":\"#E5ECF6\",\"gridcolor\":\"white\",\"linecolor\":\"white\",\"showbackground\":true,\"ticks\":\"\",\"zerolinecolor\":\"white\",\"gridwidth\":2},\"zaxis\":{\"backgroundcolor\":\"#E5ECF6\",\"gridcolor\":\"white\",\"linecolor\":\"white\",\"showbackground\":true,\"ticks\":\"\",\"zerolinecolor\":\"white\",\"gridwidth\":2}},\"shapedefaults\":{\"line\":{\"color\":\"#2a3f5f\"}},\"annotationdefaults\":{\"arrowcolor\":\"#2a3f5f\",\"arrowhead\":0,\"arrowwidth\":1},\"geo\":{\"bgcolor\":\"white\",\"landcolor\":\"#E5ECF6\",\"subunitcolor\":\"white\",\"showland\":true,\"showlakes\":true,\"lakecolor\":\"white\"},\"title\":{\"x\":0.05},\"mapbox\":{\"style\":\"light\"}}}},                        {\"responsive\": true}                    ).then(function(){\n",
       "                            \n",
       "var gd = document.getElementById('1ef92d41-ff96-4c30-9d04-9eb3396e797c');\n",
       "var x = new MutationObserver(function (mutations, observer) {{\n",
       "        var display = window.getComputedStyle(gd).display;\n",
       "        if (!display || display === 'none') {{\n",
       "            console.log([gd, 'removed!']);\n",
       "            Plotly.purge(gd);\n",
       "            observer.disconnect();\n",
       "        }}\n",
       "}});\n",
       "\n",
       "// Listen for the removal of the full notebook cells\n",
       "var notebookContainer = gd.closest('#notebook-container');\n",
       "if (notebookContainer) {{\n",
       "    x.observe(notebookContainer, {childList: true});\n",
       "}}\n",
       "\n",
       "// Listen for the clearing of the current output cell\n",
       "var outputEl = gd.closest('.output');\n",
       "if (outputEl) {{\n",
       "    x.observe(outputEl, {childList: true});\n",
       "}}\n",
       "\n",
       "                        })                };                });            </script>        </div>"
      ]
     },
     "metadata": {},
     "output_type": "display_data"
    }
   ],
   "source": [
    "import geopandas as gpd\n",
    "import pandas as pd\n",
    "import plotly.graph_objects as go\n",
    "\n",
    "\n",
    "# Create a trace for points\n",
    "point_trace = go.Scattermapbox(\n",
    "    lon=resbuildings['longitude'],\n",
    "    lat=resbuildings['latitude'],\n",
    "    mode='markers',\n",
    "    marker=dict(color='blue', size=5),\n",
    "        text=resbuildings['address']\n",
    ")\n",
    "\n",
    "# Create the layout\n",
    "layout = go.Layout(\n",
    "    title='Residential',\n",
    "    showlegend=False,\n",
    "    mapbox=dict(\n",
    "        style='carto-positron',\n",
    "        center=dict(lat=40.7128, lon=-74.0060),\n",
    "        zoom=11\n",
    "    )\n",
    ")\n",
    "\n",
    "# Create the figure\n",
    "fig = go.Figure(data=[polygon_trace, point_trace], layout=layout)\n",
    "\n",
    "# Display the plot\n",
    "fig.show()\n"
   ]
  },
  {
   "cell_type": "code",
   "execution_count": 531,
   "id": "38363a01-e96a-4ce8-bbd4-1bae17a7620b",
   "metadata": {},
   "outputs": [],
   "source": [
    "# Export the figure to an HTML file\n",
    "fig.write_html(\"PLUTO_Only.html\")"
   ]
  }
 ],
 "metadata": {
  "kernelspec": {
   "display_name": "Python 3 (ipykernel)",
   "language": "python",
   "name": "python3"
  },
  "language_info": {
   "codemirror_mode": {
    "name": "ipython",
    "version": 3
   },
   "file_extension": ".py",
   "mimetype": "text/x-python",
   "name": "python",
   "nbconvert_exporter": "python",
   "pygments_lexer": "ipython3",
   "version": "3.9.13"
  }
 },
 "nbformat": 4,
 "nbformat_minor": 5
}
