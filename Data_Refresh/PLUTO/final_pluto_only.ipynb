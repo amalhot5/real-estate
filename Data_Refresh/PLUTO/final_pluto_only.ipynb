{
 "cells": [
  {
   "attachments": {},
   "cell_type": "markdown",
   "metadata": {},
   "source": [
    "## Final Prototyping for PLUTO only buildings"
   ]
  },
  {
   "cell_type": "code",
   "execution_count": 1,
   "metadata": {},
   "outputs": [],
   "source": [
    "import pandas as pd\n",
    "import sqlalchemy as db\n",
    "from sqlalchemy import create_engine, text\n",
    "import numpy as np\n",
    "from sqlalchemy.orm import sessionmaker\n",
    "import geopandas as gpd\n",
    "#import geodatasets\n",
    "\n",
    "import pickle as pkl\n",
    "\n",
    "from datetime import datetime"
   ]
  },
  {
   "cell_type": "code",
   "execution_count": 2,
   "metadata": {},
   "outputs": [],
   "source": [
    "with open('data/in_pw.pkl', 'rb') as f:\n",
    "    in_pw = pkl.load(f)\n",
    "\n",
    "with open('data/from_pluto.pkl', 'rb') as f:\n",
    "    pw_from_pluto = pkl.load(f)\n",
    "\n",
    "with open('data/manually_created.pkl', 'rb') as f:\n",
    "    pw_manually_created = pkl.load(f)"
   ]
  },
  {
   "cell_type": "code",
   "execution_count": 3,
   "metadata": {},
   "outputs": [
    {
     "data": {
      "text/plain": [
       "\"from_pluto_post2017 = from_pluto[(from_pluto['last_acris_sale'] >= datetime.fromisoformat('2017-01-01')) |                            (from_pluto['last_listing'] >= datetime.fromisoformat('2017-01-01')) |                             (from_pluto['last_mlsli_listing'] >= datetime.fromisoformat('2017-01-01'))]\""
      ]
     },
     "execution_count": 3,
     "metadata": {},
     "output_type": "execute_result"
    }
   ],
   "source": [
    "'''from_pluto_post2017 = from_pluto[(from_pluto['last_acris_sale'] >= datetime.fromisoformat('2017-01-01')) | \\\n",
    "                           (from_pluto['last_listing'] >= datetime.fromisoformat('2017-01-01')) | \\\n",
    "                            (from_pluto['last_mlsli_listing'] >= datetime.fromisoformat('2017-01-01'))]'''"
   ]
  },
  {
   "cell_type": "code",
   "execution_count": 4,
   "metadata": {},
   "outputs": [
    {
     "data": {
      "text/plain": [
       "source\n",
       "manual_future_building      49\n",
       "manually entered            15\n",
       "manually_entered           409\n",
       "pluto_merge                  1\n",
       "pluto_split                  3\n",
       "pluto_v09_1                  1\n",
       "pluto_v13_1                  1\n",
       "pluto_v13_2                  2\n",
       "pluto_v14_1                  1\n",
       "pluto_v14_2                  1\n",
       "pluto_v15_1                  1\n",
       "pluto_v16_2                  3\n",
       "pluto_v17_1               3094\n",
       "Name: id, dtype: int64"
      ]
     },
     "execution_count": 4,
     "metadata": {},
     "output_type": "execute_result"
    }
   ],
   "source": [
    "in_pw.groupby(['source'])['id'].nunique()"
   ]
  },
  {
   "cell_type": "code",
   "execution_count": 5,
   "metadata": {},
   "outputs": [
    {
     "data": {
      "text/plain": [
       "source\n",
       "manual_future_building       3\n",
       "manually entered             2\n",
       "pluto_split                  1\n",
       "pluto_v14_1                  1\n",
       "pluto_v17_1               1116\n",
       "Name: id, dtype: int64"
      ]
     },
     "execution_count": 5,
     "metadata": {},
     "output_type": "execute_result"
    }
   ],
   "source": [
    "no_listings = in_pw[(in_pw['num_acris'] + in_pw['num_mlsli'] + in_pw['num_other_listings'] + in_pw['num_rls']) == 0]\n",
    "no_listings.groupby('source')['id'].nunique()"
   ]
  },
  {
   "cell_type": "code",
   "execution_count": 6,
   "metadata": {},
   "outputs": [
    {
     "data": {
      "text/plain": [
       "source\n",
       "manual_future_building      46\n",
       "manually entered            13\n",
       "manually_entered           409\n",
       "pluto_merge                  1\n",
       "pluto_split                  2\n",
       "pluto_v09_1                  1\n",
       "pluto_v13_1                  1\n",
       "pluto_v13_2                  2\n",
       "pluto_v14_2                  1\n",
       "pluto_v15_1                  1\n",
       "pluto_v16_2                  3\n",
       "pluto_v17_1               1978\n",
       "Name: id, dtype: int64"
      ]
     },
     "execution_count": 6,
     "metadata": {},
     "output_type": "execute_result"
    }
   ],
   "source": [
    "has_listings = in_pw[~in_pw['id'].isin(no_listings['id'])]\n",
    "has_listings.groupby('source')['id'].nunique()"
   ]
  },
  {
   "cell_type": "code",
   "execution_count": null,
   "metadata": {},
   "outputs": [],
   "source": [
    "print(in_pw.shape, no_listings.shape)"
   ]
  },
  {
   "cell_type": "code",
   "execution_count": 7,
   "metadata": {},
   "outputs": [
    {
     "data": {
      "text/plain": [
       "source\n",
       "manual_future_building     46\n",
       "manually entered           13\n",
       "manually_entered          409\n",
       "Name: id, dtype: int64"
      ]
     },
     "execution_count": 7,
     "metadata": {},
     "output_type": "execute_result"
    }
   ],
   "source": [
    "pw_manually_created.groupby('source')['id'].nunique()"
   ]
  },
  {
   "cell_type": "code",
   "execution_count": 8,
   "metadata": {},
   "outputs": [
    {
     "name": "stdout",
     "output_type": "stream",
     "text": [
      "(410, 105) (32, 105) (26, 105)\n"
     ]
    }
   ],
   "source": [
    "for_mlsli = pw_manually_created[(pw_manually_created['num_mlsli'] > 0) & (pw_manually_created['num_rls'] == 0)]\n",
    "for_rls = pw_manually_created[(pw_manually_created['num_mlsli'] == 0) & (pw_manually_created['num_rls'] > 0)]\n",
    "for_other = pw_manually_created[~(pw_manually_created['id'].isin(for_mlsli['id'])) & ~(pw_manually_created['id'].isin(for_rls['id']))]\n",
    "print(for_mlsli.shape, for_rls.shape, for_other.shape)"
   ]
  },
  {
   "attachments": {},
   "cell_type": "markdown",
   "metadata": {},
   "source": [
    "## Address Matching"
   ]
  },
  {
   "cell_type": "code",
   "execution_count": 9,
   "metadata": {},
   "outputs": [],
   "source": [
    "address_dict = {\n",
    "  \"FIRST\": \"1ST\",\n",
    "  \"SECOND\": \"2ND\",\n",
    "  \"THIRD\": \"3RD\",\n",
    "  \"FOURTH\": \"4TH\",\n",
    "  \"FIFTH\": \"5TH\",\n",
    "  \"SIXTH\": \"6TH\",\n",
    "  \"SEVENTH\": \"7TH\",\n",
    "  \"EIGHTH\": \"8TH\",\n",
    "  \"NINTH\": \"9TH\",\n",
    "  \"TENTH\": \"10TH\",\n",
    "  \"ELEVENTH\": \"11TH\",\n",
    "  \"TWELFTH\": \"12TH\",\n",
    "  \"THIRTEENTH\": \"13TH\",\n",
    "  \"FOURTEENTH\": \"14TH\",\n",
    "  \"FIFTEENTH\": \"15TH\",\n",
    "  \"SIXTEENTH\": \"16TH\",\n",
    "  \"SEVENTEENTH\": \"17TH\",\n",
    "  \"EIGHTEENTH\": \"18TH\",\n",
    "  \"NINETEENTH\": \"19TH\",\n",
    "  \"TWENTIETH\": \"20TH\",\n",
    "  \"TWENTY-FIRST\": \"21ST\",\n",
    "  \"TWENTY-SECOND\": \"22ND\",\n",
    "  \"TWENTY-THIRD\": \"23RD\",\n",
    "  \"TWENTY-FOURTH\": \"24TH\",\n",
    "  \"TWENTY-FIFTH\": \"25TH\",\n",
    "  \"TWENTY-SIXTH\": \"26TH\",\n",
    "  \"TWENTY-SEVENTH\": \"27TH\",\n",
    "  \"TWENTY-EIGHTH\": \"28TH\",\n",
    "  \"TWENTY-NINTH\": \"29TH\",\n",
    "  \"THIRTIETH\": \"30TH\",\n",
    "  \"THIRTY-FIRST\": \"31ST\",\n",
    "  \"THIRTY-SECOND\": \"32ND\",\n",
    "  \"THIRTY-THIRD\": \"33RD\",\n",
    "  \"THIRTY-FOURTH\": \"34TH\",\n",
    "  \"THIRTY-FIFTH\": \"35TH\",\n",
    "  \"THIRTY-SIXTH\": \"36TH\",\n",
    "  \"THIRTY-SEVENTH\": \"37TH\",\n",
    "  \"THIRTY-EIGHTH\": \"38TH\",\n",
    "  \"THIRTY-NINTH\": \"39TH\",\n",
    "  \"FORTIETH\": \"40TH\",\n",
    "  \"FORTY-FIRST\": \"41ST\",\n",
    "  \"FORTY-SECOND\": \"42ND\",\n",
    "  \"FORTY-THIRD\": \"43RD\",\n",
    "  \"FORTY-FOURTH\": \"44TH\",\n",
    "  \"FORTY-FIFTH\": \"45TH\",\n",
    "  \"FORTY-SIXTH\": \"46TH\",\n",
    "  \"FORTY-SEVENTH\": \"47TH\",\n",
    "  \"FORTY-EIGHTH\": \"48TH\",\n",
    "  \"FORTY-NINTH\": \"49TH\",\n",
    "  \"FIFTIETH\": \"50TH\",\n",
    "  \"FIFTY-FIRST\": \"51ST\",\n",
    "  \"FIFTY-SECOND\": \"52ND\",\n",
    "  \"FIFTY-THIRD\": \"53RD\",\n",
    "  \"FIFTY-FOURTH\": \"54TH\",\n",
    "  \"FIFTY-FIFTH\": \"55TH\",\n",
    "  \"FIFTY-SIXTH\": \"56TH\",\n",
    "  \"FIFTY-SEVENTH\": \"57TH\",\n",
    "  \"FIFTY-EIGHTH\": \"58TH\",\n",
    "  \"FIFTY-NINTH\": \"59TH\",\n",
    "  \"SIXTIETH\": \"60TH\",\n",
    "  \"SIXTY-FIRST\": \"61ST\",\n",
    "  \"SIXTY-SECOND\": \"62ND\",\n",
    "  \"SIXTY-THIRD\": \"63RD\",\n",
    "\"SIXTY-FOURTH\": \"64TH\",\n",
    "\"SIXTY-FIFTH\": \"65TH\",\n",
    "\"SIXTY-SIXTH\": \"66TH\",\n",
    "\"SIXTY-SEVENTH\": \"67TH\",\n",
    "\"SIXTY-EIGHTH\": \"68TH\",\n",
    "\"SIXTY-NINTH\": \"69TH\",\n",
    "\"SEVENTIETH\": \"70TH\",\n",
    "\"SEVENTY-FIRST\": \"71ST\",\n",
    "\"SEVENTY-SECOND\": \"72ND\",\n",
    "\"SEVENTY-THIRD\": \"73RD\",\n",
    "\"SEVENTY-FOURTH\": \"74TH\",\n",
    "\"SEVENTY-FIFTH\": \"75TH\",\n",
    "\"SEVENTY-SIXTH\": \"76TH\",\n",
    "\"SEVENTY-SEVENTH\": \"77TH\",\n",
    "\"SEVENTY-EIGHTH\": \"78TH\",\n",
    "\"SEVENTY-NINTH\": \"79TH\",\n",
    "\"EIGHTIETH\": \"80TH\",\n",
    "\"EIGHTY-FIRST\": \"81ST\",\n",
    "\"EIGHTY-SECOND\": \"82ND\",\n",
    "\"EIGHTY-THIRD\": \"83RD\",\n",
    "\"EIGHTY-FOURTH\": \"84TH\",\n",
    "\"EIGHTY-FIFTH\": \"85TH\",\n",
    "\"EIGHTY-SIXTH\": \"86TH\",\n",
    "\"EIGHTY-SEVENTH\": \"87TH\",\n",
    "\"EIGHTY-EIGHTH\": \"88TH\",\n",
    "\"EIGHTY-NINTH\": \"89TH\",\n",
    "\"NINETIETH\": \"90TH\",\n",
    "\"NINETY-FIRST\": \"91ST\",\n",
    "\"NINETY-SECOND\": \"92ND\",\n",
    "\"NINETY-THIRD\": \"93RD\",\n",
    "\"NINETY-FOURTH\": \"94TH\",\n",
    "\"NINETY-FIFTH\": \"95TH\",\n",
    "\"NINETY-SIXTH\": \"96TH\",\n",
    "\"NINETY-SEVENTH\": \"97TH\",\n",
    "\"NINETY-EIGHTH\": \"98TH\",\n",
    "\"NINETY-NINTH\": \"99TH\",\n",
    "\"ONE HUNDREDTH\": \"100TH\"\n",
    "}"
   ]
  },
  {
   "cell_type": "code",
   "execution_count": 10,
   "metadata": {},
   "outputs": [],
   "source": [
    "with open('data/resbuildings.pkl', 'rb') as f:\n",
    "    resbuildings = pkl.load(f)"
   ]
  },
  {
   "cell_type": "code",
   "execution_count": 11,
   "metadata": {},
   "outputs": [],
   "source": [
    "resbuildings['address'] = [x.upper() for x in resbuildings['address']]\n",
    "pw_manually_created['display_address'] = [x.upper() for x in pw_manually_created['display_address']]"
   ]
  },
  {
   "cell_type": "code",
   "execution_count": 12,
   "metadata": {},
   "outputs": [],
   "source": [
    "import re\n",
    "resbuildings['address'] = [re.sub(r\"(?<=\\d)(ST|ND|RD|TH)\\b\", '', x) for x in resbuildings['address']]\n",
    "resbuildings['address'] = [re.sub('-', '', x) for x in resbuildings['address']]\n",
    "pw_manually_created['display_address'] = [re.sub(r\"(?<=\\d)(ST|ND|RD|TH)\\b\", '', x) for x in pw_manually_created['display_address']]"
   ]
  },
  {
   "cell_type": "code",
   "execution_count": 13,
   "metadata": {},
   "outputs": [
    {
     "data": {
      "text/plain": [
       "295               1752 72 STREET\n",
       "1372            5203 CENTER BLVD\n",
       "1652              8936 43 AVENUE\n",
       "1663       2624 GERRITSEN AVENUE\n",
       "1970          3136 MICKLE AVENUE\n",
       "                   ...          \n",
       "857394          174 DUANE STREET\n",
       "857445          25 MONROE STREET\n",
       "857717      1044 OLMSTEAD AVENUE\n",
       "858326    926 SOUTHERN BOULEVARD\n",
       "858842         100 GOTHAM AVENUE\n",
       "Name: address, Length: 2286, dtype: object"
      ]
     },
     "execution_count": 13,
     "metadata": {},
     "output_type": "execute_result"
    }
   ],
   "source": [
    "resbuildings['address']"
   ]
  },
  {
   "cell_type": "code",
   "execution_count": 14,
   "metadata": {},
   "outputs": [
    {
     "data": {
      "text/html": [
       "<div>\n",
       "<style scoped>\n",
       "    .dataframe tbody tr th:only-of-type {\n",
       "        vertical-align: middle;\n",
       "    }\n",
       "\n",
       "    .dataframe tbody tr th {\n",
       "        vertical-align: top;\n",
       "    }\n",
       "\n",
       "    .dataframe thead th {\n",
       "        text-align: right;\n",
       "    }\n",
       "</style>\n",
       "<table border=\"1\" class=\"dataframe\">\n",
       "  <thead>\n",
       "    <tr style=\"text-align: right;\">\n",
       "      <th></th>\n",
       "      <th>bbl</th>\n",
       "      <th>source_id</th>\n",
       "      <th>source</th>\n",
       "      <th>address</th>\n",
       "      <th>display_address</th>\n",
       "      <th>zip</th>\n",
       "      <th>zipcode</th>\n",
       "    </tr>\n",
       "  </thead>\n",
       "  <tbody>\n",
       "    <tr>\n",
       "      <th>0</th>\n",
       "      <td>3.016728e+09</td>\n",
       "      <td>3.016720e+09</td>\n",
       "      <td>manual_future_building</td>\n",
       "      <td>269 MALCOLM X BOULEVARD</td>\n",
       "      <td>269 MALCOLM X BOULEVARD</td>\n",
       "      <td>11233</td>\n",
       "      <td>11233.0</td>\n",
       "    </tr>\n",
       "    <tr>\n",
       "      <th>1</th>\n",
       "      <td>1.007658e+09</td>\n",
       "      <td>1.007658e+09</td>\n",
       "      <td>manual_future_building</td>\n",
       "      <td>246 WEST 16 STREET</td>\n",
       "      <td>246 WEST 16 STREET</td>\n",
       "      <td>10011</td>\n",
       "      <td>10011.0</td>\n",
       "    </tr>\n",
       "    <tr>\n",
       "      <th>2</th>\n",
       "      <td>3.076208e+09</td>\n",
       "      <td>3.076201e+09</td>\n",
       "      <td>manual_future_building</td>\n",
       "      <td>1673 OCEAN AVENUE</td>\n",
       "      <td>1673 OCEAN AVENUE</td>\n",
       "      <td>11230</td>\n",
       "      <td>11230.0</td>\n",
       "    </tr>\n",
       "    <tr>\n",
       "      <th>3</th>\n",
       "      <td>3.014818e+09</td>\n",
       "      <td>3.014810e+09</td>\n",
       "      <td>manual_future_building</td>\n",
       "      <td>832 MONROE STREET</td>\n",
       "      <td>832 MONROE STREET</td>\n",
       "      <td>11221</td>\n",
       "      <td>11221.0</td>\n",
       "    </tr>\n",
       "    <tr>\n",
       "      <th>4</th>\n",
       "      <td>3.056328e+09</td>\n",
       "      <td>3.056320e+09</td>\n",
       "      <td>manual_future_building</td>\n",
       "      <td>4814 11 AVENUE</td>\n",
       "      <td>4814 11 AVENUE</td>\n",
       "      <td>11219</td>\n",
       "      <td>11219.0</td>\n",
       "    </tr>\n",
       "    <tr>\n",
       "      <th>5</th>\n",
       "      <td>3.058550e+09</td>\n",
       "      <td>3.006490e+09</td>\n",
       "      <td>manual_future_building</td>\n",
       "      <td>6734 5 AVENUE</td>\n",
       "      <td>6734 5 AVENUE</td>\n",
       "      <td>11220</td>\n",
       "      <td>11220.0</td>\n",
       "    </tr>\n",
       "    <tr>\n",
       "      <th>6</th>\n",
       "      <td>3.032048e+09</td>\n",
       "      <td>3.032048e+09</td>\n",
       "      <td>manual_future_building</td>\n",
       "      <td>900 WILLOUGHBY AVENUE</td>\n",
       "      <td>900 WILLOUGHBY AVENUE</td>\n",
       "      <td>11221</td>\n",
       "      <td>11221.0</td>\n",
       "    </tr>\n",
       "    <tr>\n",
       "      <th>7</th>\n",
       "      <td>3.025128e+09</td>\n",
       "      <td>3.025120e+09</td>\n",
       "      <td>manual_future_building</td>\n",
       "      <td>153 GREEN STREET</td>\n",
       "      <td>153 GREEN STREET</td>\n",
       "      <td>11222</td>\n",
       "      <td>11222.0</td>\n",
       "    </tr>\n",
       "    <tr>\n",
       "      <th>8</th>\n",
       "      <td>3.019858e+09</td>\n",
       "      <td>3.019858e+09</td>\n",
       "      <td>manual_future_building</td>\n",
       "      <td>25 MONROE STREET</td>\n",
       "      <td>25 MONROE STREET</td>\n",
       "      <td>11238</td>\n",
       "      <td>11238.0</td>\n",
       "    </tr>\n",
       "    <tr>\n",
       "      <th>9</th>\n",
       "      <td>3.057208e+09</td>\n",
       "      <td>3.057200e+09</td>\n",
       "      <td>manual_future_building</td>\n",
       "      <td>1449 61 STREET</td>\n",
       "      <td>1449 61 STREET</td>\n",
       "      <td>11219</td>\n",
       "      <td>11219.0</td>\n",
       "    </tr>\n",
       "    <tr>\n",
       "      <th>10</th>\n",
       "      <td>3.004158e+09</td>\n",
       "      <td>3.004151e+09</td>\n",
       "      <td>manual_future_building</td>\n",
       "      <td>377 DEGRAW STREET</td>\n",
       "      <td>377 DEGRAW STREET</td>\n",
       "      <td>11231</td>\n",
       "      <td>11231.0</td>\n",
       "    </tr>\n",
       "    <tr>\n",
       "      <th>11</th>\n",
       "      <td>3.009878e+09</td>\n",
       "      <td>3.009870e+09</td>\n",
       "      <td>manual_future_building</td>\n",
       "      <td>315 6 STREET</td>\n",
       "      <td>315 6 STREET</td>\n",
       "      <td>11215</td>\n",
       "      <td>11215.0</td>\n",
       "    </tr>\n",
       "    <tr>\n",
       "      <th>12</th>\n",
       "      <td>3.023388e+09</td>\n",
       "      <td>3.023380e+09</td>\n",
       "      <td>manual_future_building</td>\n",
       "      <td>243 NORTH 5 STREET</td>\n",
       "      <td>243 NORTH 5 STREET</td>\n",
       "      <td>11211</td>\n",
       "      <td>11211.0</td>\n",
       "    </tr>\n",
       "    <tr>\n",
       "      <th>13</th>\n",
       "      <td>3.012888e+09</td>\n",
       "      <td>3.012880e+09</td>\n",
       "      <td>manual_future_building</td>\n",
       "      <td>1090 CARROLL STREET</td>\n",
       "      <td>1090 CARROLL STREET</td>\n",
       "      <td>11225</td>\n",
       "      <td>11225.0</td>\n",
       "    </tr>\n",
       "    <tr>\n",
       "      <th>14</th>\n",
       "      <td>1.017358e+09</td>\n",
       "      <td>1.017350e+09</td>\n",
       "      <td>manual_future_building</td>\n",
       "      <td>66 WEST 138 STREET</td>\n",
       "      <td>66 WEST 138 STREET</td>\n",
       "      <td>10037</td>\n",
       "      <td>10037.0</td>\n",
       "    </tr>\n",
       "    <tr>\n",
       "      <th>15</th>\n",
       "      <td>3.056348e+09</td>\n",
       "      <td>3.056340e+09</td>\n",
       "      <td>manual_future_building</td>\n",
       "      <td>1236 48 STREET</td>\n",
       "      <td>1236 48 STREET</td>\n",
       "      <td>11219</td>\n",
       "      <td>11219.0</td>\n",
       "    </tr>\n",
       "    <tr>\n",
       "      <th>16</th>\n",
       "      <td>3.012738e+09</td>\n",
       "      <td>3.012738e+09</td>\n",
       "      <td>manual_future_building</td>\n",
       "      <td>1019 PRESIDENT STREET</td>\n",
       "      <td>1019 PRESIDENT STREET</td>\n",
       "      <td>11225</td>\n",
       "      <td>11225.0</td>\n",
       "    </tr>\n",
       "    <tr>\n",
       "      <th>17</th>\n",
       "      <td>3.020128e+09</td>\n",
       "      <td>3.020120e+09</td>\n",
       "      <td>manual_future_building</td>\n",
       "      <td>574 WASHINGTON AVENUE</td>\n",
       "      <td>574 WASHINGTON AVENUE</td>\n",
       "      <td>11238</td>\n",
       "      <td>11238.0</td>\n",
       "    </tr>\n",
       "    <tr>\n",
       "      <th>18</th>\n",
       "      <td>3.016010e+09</td>\n",
       "      <td>3.016018e+09</td>\n",
       "      <td>manual_future_building</td>\n",
       "      <td>934 DEKALB AVENUE</td>\n",
       "      <td>934 DEKALB AVENUE</td>\n",
       "      <td>11221</td>\n",
       "      <td>11221.0</td>\n",
       "    </tr>\n",
       "  </tbody>\n",
       "</table>\n",
       "</div>"
      ],
      "text/plain": [
       "             bbl     source_id                  source  \\\n",
       "0   3.016728e+09  3.016720e+09  manual_future_building   \n",
       "1   1.007658e+09  1.007658e+09  manual_future_building   \n",
       "2   3.076208e+09  3.076201e+09  manual_future_building   \n",
       "3   3.014818e+09  3.014810e+09  manual_future_building   \n",
       "4   3.056328e+09  3.056320e+09  manual_future_building   \n",
       "5   3.058550e+09  3.006490e+09  manual_future_building   \n",
       "6   3.032048e+09  3.032048e+09  manual_future_building   \n",
       "7   3.025128e+09  3.025120e+09  manual_future_building   \n",
       "8   3.019858e+09  3.019858e+09  manual_future_building   \n",
       "9   3.057208e+09  3.057200e+09  manual_future_building   \n",
       "10  3.004158e+09  3.004151e+09  manual_future_building   \n",
       "11  3.009878e+09  3.009870e+09  manual_future_building   \n",
       "12  3.023388e+09  3.023380e+09  manual_future_building   \n",
       "13  3.012888e+09  3.012880e+09  manual_future_building   \n",
       "14  1.017358e+09  1.017350e+09  manual_future_building   \n",
       "15  3.056348e+09  3.056340e+09  manual_future_building   \n",
       "16  3.012738e+09  3.012738e+09  manual_future_building   \n",
       "17  3.020128e+09  3.020120e+09  manual_future_building   \n",
       "18  3.016010e+09  3.016018e+09  manual_future_building   \n",
       "\n",
       "                    address          display_address    zip  zipcode  \n",
       "0   269 MALCOLM X BOULEVARD  269 MALCOLM X BOULEVARD  11233  11233.0  \n",
       "1        246 WEST 16 STREET       246 WEST 16 STREET  10011  10011.0  \n",
       "2         1673 OCEAN AVENUE        1673 OCEAN AVENUE  11230  11230.0  \n",
       "3         832 MONROE STREET        832 MONROE STREET  11221  11221.0  \n",
       "4            4814 11 AVENUE           4814 11 AVENUE  11219  11219.0  \n",
       "5             6734 5 AVENUE            6734 5 AVENUE  11220  11220.0  \n",
       "6     900 WILLOUGHBY AVENUE    900 WILLOUGHBY AVENUE  11221  11221.0  \n",
       "7          153 GREEN STREET         153 GREEN STREET  11222  11222.0  \n",
       "8          25 MONROE STREET         25 MONROE STREET  11238  11238.0  \n",
       "9            1449 61 STREET           1449 61 STREET  11219  11219.0  \n",
       "10        377 DEGRAW STREET        377 DEGRAW STREET  11231  11231.0  \n",
       "11             315 6 STREET             315 6 STREET  11215  11215.0  \n",
       "12       243 NORTH 5 STREET       243 NORTH 5 STREET  11211  11211.0  \n",
       "13      1090 CARROLL STREET      1090 CARROLL STREET  11225  11225.0  \n",
       "14       66 WEST 138 STREET       66 WEST 138 STREET  10037  10037.0  \n",
       "15           1236 48 STREET           1236 48 STREET  11219  11219.0  \n",
       "16    1019 PRESIDENT STREET    1019 PRESIDENT STREET  11225  11225.0  \n",
       "17    574 WASHINGTON AVENUE    574 WASHINGTON AVENUE  11238  11238.0  \n",
       "18        934 DEKALB AVENUE        934 DEKALB AVENUE  11221  11221.0  "
      ]
     },
     "execution_count": 14,
     "metadata": {},
     "output_type": "execute_result"
    }
   ],
   "source": [
    "address_match = pw_manually_created.merge(resbuildings, how='inner', left_on='display_address', right_on='address')\n",
    "address_match[['bbl', 'source_id', 'source', 'address', 'display_address', 'zip', 'zipcode']]"
   ]
  },
  {
   "cell_type": "code",
   "execution_count": 15,
   "metadata": {},
   "outputs": [
    {
     "data": {
      "text/plain": [
       "(19, 197)"
      ]
     },
     "execution_count": 15,
     "metadata": {},
     "output_type": "execute_result"
    }
   ],
   "source": [
    "address_match = address_match[pd.to_numeric(address_match['zip']) == address_match['zipcode']]\n",
    "address_match.shape"
   ]
  },
  {
   "cell_type": "code",
   "execution_count": 16,
   "metadata": {},
   "outputs": [],
   "source": [
    "address_match.to_csv('data/final_address_match.csv')"
   ]
  },
  {
   "cell_type": "code",
   "execution_count": 17,
   "metadata": {},
   "outputs": [
    {
     "data": {
      "text/plain": [
       "(2267, 92)"
      ]
     },
     "execution_count": 17,
     "metadata": {},
     "output_type": "execute_result"
    }
   ],
   "source": [
    "resbuildings_no_match = resbuildings[~resbuildings['bbl'].isin(address_match['bbl'])]\n",
    "resbuildings_no_match.shape"
   ]
  },
  {
   "attachments": {},
   "cell_type": "markdown",
   "metadata": {},
   "source": [
    "## Dealing with `resbuildings_no_match`"
   ]
  },
  {
   "cell_type": "code",
   "execution_count": 18,
   "metadata": {},
   "outputs": [
    {
     "name": "stdout",
     "output_type": "stream",
     "text": [
      "(2458, 105) (744425, 105)\n"
     ]
    }
   ],
   "source": [
    "# getting preso geometries\n",
    "from shapely.geometry import shape\n",
    "import json\n",
    "'''preso = has_listings[has_listings.geometry_json.notnull()]\n",
    "preso_gdf = gpd.GeoDataFrame(preso)\n",
    "# Transform geojson to shapes\n",
    "preso_gdf['geometry'] = [shape(json.loads(x)) for x in preso_gdf['geometry_json']]\n",
    "#for i,r in gdf.iterrows():\n",
    " #   gdf.at[i, 'geometry_json'] = shape(json.loads(gdf['geometry_json'][i]))\n",
    "    \n",
    "# Set geometry for geodf\n",
    "preso_gdf = preso_gdf.set_geometry('geometry')\n",
    "preso_gdf.set_crs(crs=\"EPSG:4326\", inplace=True)\n",
    "'''\n",
    "# TODO need to change this to all preso\n",
    "with open('data/preso_gdf.pkl', 'rb') as f:\n",
    "    preso_gdf = pkl.load(f)\n",
    "print(has_listings.shape, preso_gdf.shape)\n",
    "\n",
    "\n",
    "preso_gdf.drop(columns=['created_at',\n",
    "                            'updated_at',\n",
    "                            'new_dev_start_date',\n",
    "                            'new_dev_end_date',\n",
    "                            'land_lease_expiration',\n",
    "                            'last_rls_listing',\n",
    "                            'last_mlsli_listing',\n",
    "                            'last_listing',\n",
    "                            'last_acris_created'], inplace=True)"
   ]
  },
  {
   "cell_type": "code",
   "execution_count": 19,
   "metadata": {},
   "outputs": [],
   "source": [
    "# getting pluto geometries\n",
    "try:\n",
    "    with open('data/gdf.pkl', 'rb') as f:\n",
    "        pluto_gdf = pkl.load(f)\n",
    "except FileNotFoundError:\n",
    "    shapefile_path = 'data/nyc_mappluto_23v1_1_shp/MapPLUTO.shp'\n",
    "    pluto_gdf = gpd.read_file(shapefile_path)\n",
    "    # formatting for geospatial join\n",
    "    pluto_gdf.to_crs('epsg:4326', inplace=True)\n",
    "    with open('data/gdf.pkl', 'wb') as f:\n",
    "        pkl.dump(pluto_gdf, f)"
   ]
  },
  {
   "cell_type": "code",
   "execution_count": 20,
   "metadata": {},
   "outputs": [],
   "source": [
    "resbuildings_no_match = pluto_gdf[pluto_gdf['BBL'].isin(resbuildings_no_match['bbl'])]"
   ]
  },
  {
   "cell_type": "code",
   "execution_count": 21,
   "metadata": {},
   "outputs": [
    {
     "data": {
      "text/plain": [
       "(2267, 95)"
      ]
     },
     "execution_count": 21,
     "metadata": {},
     "output_type": "execute_result"
    }
   ],
   "source": [
    "resbuildings_no_match.shape"
   ]
  },
  {
   "cell_type": "code",
   "execution_count": 22,
   "metadata": {},
   "outputs": [
    {
     "name": "stdout",
     "output_type": "stream",
     "text": [
      "within 32\n",
      "intersects 1979\n",
      "None 2255\n",
      "covers 152\n",
      "overlaps 1883\n",
      "crosses 0\n",
      "touches 0\n",
      "contains_properly 152\n",
      "contains 152\n"
     ]
    }
   ],
   "source": [
    "tst = ['within', 'intersects', None, 'covers', 'overlaps', 'crosses', 'touches', 'contains_properly', 'contains']\n",
    "for t in tst:\n",
    "    sp1 = gpd.sjoin(preso_gdf, resbuildings_no_match, op=t)\n",
    "    print(t, sp1.BBL.nunique())\n",
    "#sp1 = gpd.sjoin(preso_gdf, resbuildings_no_match, op='covered_by')"
   ]
  },
  {
   "cell_type": "code",
   "execution_count": 23,
   "metadata": {},
   "outputs": [],
   "source": [
    "sp1 = gpd.sjoin(preso_gdf, resbuildings_no_match, op='intersects')"
   ]
  },
  {
   "cell_type": "code",
   "execution_count": 24,
   "metadata": {},
   "outputs": [],
   "source": [
    "#sp1_over = sp1\n",
    "#sp1_inter = gpd.sjoin(preso_gdf, resbuildings_no_match, op='intersects')\n",
    "#inter_only = sp1_inter[~sp1_inter.BBL.isin(sp1_over.BBL)]"
   ]
  },
  {
   "cell_type": "code",
   "execution_count": 25,
   "metadata": {},
   "outputs": [],
   "source": [
    "#resbuildings_no_match[resbuildings_no_match['BBL'].isin(inter_only.BBL)].to_file('data/inter_only')\n"
   ]
  },
  {
   "cell_type": "code",
   "execution_count": 26,
   "metadata": {},
   "outputs": [
    {
     "data": {
      "text/html": [
       "<div>\n",
       "<style scoped>\n",
       "    .dataframe tbody tr th:only-of-type {\n",
       "        vertical-align: middle;\n",
       "    }\n",
       "\n",
       "    .dataframe tbody tr th {\n",
       "        vertical-align: top;\n",
       "    }\n",
       "\n",
       "    .dataframe thead th {\n",
       "        text-align: right;\n",
       "    }\n",
       "</style>\n",
       "<table border=\"1\" class=\"dataframe\">\n",
       "  <thead>\n",
       "    <tr style=\"text-align: right;\">\n",
       "      <th></th>\n",
       "      <th>BBL</th>\n",
       "      <th>source_id</th>\n",
       "      <th>source</th>\n",
       "      <th>Address</th>\n",
       "      <th>display_address</th>\n",
       "      <th>zip</th>\n",
       "      <th>ZipCode</th>\n",
       "      <th>YearBuilt</th>\n",
       "    </tr>\n",
       "  </thead>\n",
       "  <tbody>\n",
       "    <tr>\n",
       "      <th>50</th>\n",
       "      <td>1.002250e+09</td>\n",
       "      <td>1002250004.0</td>\n",
       "      <td>pluto_v17_1</td>\n",
       "      <td>465 GREENWICH STREET</td>\n",
       "      <td>123 Watts Street</td>\n",
       "      <td>10013</td>\n",
       "      <td>10013</td>\n",
       "      <td>1910</td>\n",
       "    </tr>\n",
       "    <tr>\n",
       "      <th>93955</th>\n",
       "      <td>1.002250e+09</td>\n",
       "      <td>1002257501.0</td>\n",
       "      <td>pluto_v17_1</td>\n",
       "      <td>465 GREENWICH STREET</td>\n",
       "      <td>463-469 Greenwich Street</td>\n",
       "      <td>10013</td>\n",
       "      <td>10013</td>\n",
       "      <td>1910</td>\n",
       "    </tr>\n",
       "    <tr>\n",
       "      <th>327716</th>\n",
       "      <td>1.002250e+09</td>\n",
       "      <td>1002257502.0</td>\n",
       "      <td>pluto_v17_1</td>\n",
       "      <td>465 GREENWICH STREET</td>\n",
       "      <td>16 Desbrosses Street</td>\n",
       "      <td>10013</td>\n",
       "      <td>10013</td>\n",
       "      <td>1910</td>\n",
       "    </tr>\n",
       "    <tr>\n",
       "      <th>696281</th>\n",
       "      <td>1.002250e+09</td>\n",
       "      <td>1002250005.0</td>\n",
       "      <td>pluto_v09_1</td>\n",
       "      <td>465 GREENWICH STREET</td>\n",
       "      <td>16 DESBROSSES STREET</td>\n",
       "      <td>10013</td>\n",
       "      <td>10013</td>\n",
       "      <td>1910</td>\n",
       "    </tr>\n",
       "    <tr>\n",
       "      <th>80</th>\n",
       "      <td>1.001418e+09</td>\n",
       "      <td>1001410028.0</td>\n",
       "      <td>pluto_v17_1</td>\n",
       "      <td>174 DUANE STREET</td>\n",
       "      <td>172 Duane Street</td>\n",
       "      <td>10013</td>\n",
       "      <td>10013</td>\n",
       "      <td>1910</td>\n",
       "    </tr>\n",
       "    <tr>\n",
       "      <th>...</th>\n",
       "      <td>...</td>\n",
       "      <td>...</td>\n",
       "      <td>...</td>\n",
       "      <td>...</td>\n",
       "      <td>...</td>\n",
       "      <td>...</td>\n",
       "      <td>...</td>\n",
       "      <td>...</td>\n",
       "    </tr>\n",
       "    <tr>\n",
       "      <th>732998</th>\n",
       "      <td>4.157110e+09</td>\n",
       "      <td>4157110020.0</td>\n",
       "      <td>pluto_v17_1</td>\n",
       "      <td>11-34 MCBRIDE STREET</td>\n",
       "      <td>11-30 MC BRIDE STREET</td>\n",
       "      <td>11691</td>\n",
       "      <td>11691</td>\n",
       "      <td>2019</td>\n",
       "    </tr>\n",
       "    <tr>\n",
       "      <th>733723</th>\n",
       "      <td>4.117630e+09</td>\n",
       "      <td>4117630006.0</td>\n",
       "      <td>pluto_v17_1</td>\n",
       "      <td>125-09 133RD AVENUE</td>\n",
       "      <td>125-09 133 AVENUE</td>\n",
       "      <td>11420</td>\n",
       "      <td>11420</td>\n",
       "      <td>2022</td>\n",
       "    </tr>\n",
       "    <tr>\n",
       "      <th>736187</th>\n",
       "      <td>4.063700e+09</td>\n",
       "      <td>4063700105.0</td>\n",
       "      <td>pluto_v17_1</td>\n",
       "      <td>134 60 AVENUE</td>\n",
       "      <td>134-22 60 AVENUE</td>\n",
       "      <td>11355</td>\n",
       "      <td>11355</td>\n",
       "      <td>2017</td>\n",
       "    </tr>\n",
       "    <tr>\n",
       "      <th>748092</th>\n",
       "      <td>2.056550e+09</td>\n",
       "      <td>2056550019.0</td>\n",
       "      <td>pluto_v17_1</td>\n",
       "      <td>3548 MC OWEN AVENUE</td>\n",
       "      <td>3544 McOwen Avenue</td>\n",
       "      <td>10475</td>\n",
       "      <td>10475</td>\n",
       "      <td>0</td>\n",
       "    </tr>\n",
       "    <tr>\n",
       "      <th>748092</th>\n",
       "      <td>2.056550e+09</td>\n",
       "      <td>2056550019.0</td>\n",
       "      <td>pluto_v17_1</td>\n",
       "      <td>3552 MC OWEN AVENUE</td>\n",
       "      <td>3544 McOwen Avenue</td>\n",
       "      <td>10475</td>\n",
       "      <td>10475</td>\n",
       "      <td>0</td>\n",
       "    </tr>\n",
       "  </tbody>\n",
       "</table>\n",
       "<p>5626 rows × 8 columns</p>\n",
       "</div>"
      ],
      "text/plain": [
       "                 BBL     source_id       source               Address  \\\n",
       "50      1.002250e+09  1002250004.0  pluto_v17_1  465 GREENWICH STREET   \n",
       "93955   1.002250e+09  1002257501.0  pluto_v17_1  465 GREENWICH STREET   \n",
       "327716  1.002250e+09  1002257502.0  pluto_v17_1  465 GREENWICH STREET   \n",
       "696281  1.002250e+09  1002250005.0  pluto_v09_1  465 GREENWICH STREET   \n",
       "80      1.001418e+09  1001410028.0  pluto_v17_1      174 DUANE STREET   \n",
       "...              ...           ...          ...                   ...   \n",
       "732998  4.157110e+09  4157110020.0  pluto_v17_1  11-34 MCBRIDE STREET   \n",
       "733723  4.117630e+09  4117630006.0  pluto_v17_1   125-09 133RD AVENUE   \n",
       "736187  4.063700e+09  4063700105.0  pluto_v17_1         134 60 AVENUE   \n",
       "748092  2.056550e+09  2056550019.0  pluto_v17_1   3548 MC OWEN AVENUE   \n",
       "748092  2.056550e+09  2056550019.0  pluto_v17_1   3552 MC OWEN AVENUE   \n",
       "\n",
       "                     display_address    zip  ZipCode  YearBuilt  \n",
       "50                  123 Watts Street  10013    10013       1910  \n",
       "93955       463-469 Greenwich Street  10013    10013       1910  \n",
       "327716          16 Desbrosses Street  10013    10013       1910  \n",
       "696281  16 DESBROSSES STREET          10013    10013       1910  \n",
       "80                  172 Duane Street  10013    10013       1910  \n",
       "...                              ...    ...      ...        ...  \n",
       "732998  11-30 MC BRIDE STREET         11691    11691       2019  \n",
       "733723  125-09 133 AVENUE             11420    11420       2022  \n",
       "736187  134-22 60 AVENUE              11355    11355       2017  \n",
       "748092            3544 McOwen Avenue  10475    10475          0  \n",
       "748092            3544 McOwen Avenue  10475    10475          0  \n",
       "\n",
       "[5626 rows x 8 columns]"
      ]
     },
     "execution_count": 26,
     "metadata": {},
     "output_type": "execute_result"
    }
   ],
   "source": [
    "sp1[['BBL', 'source_id', 'source', 'Address', 'display_address', 'zip', 'ZipCode', 'YearBuilt']]"
   ]
  },
  {
   "cell_type": "code",
   "execution_count": 27,
   "metadata": {},
   "outputs": [],
   "source": [
    "dupes = sp1.groupby('BBL')['id'].nunique()\n",
    "dupes = dupes[dupes > 1]"
   ]
  },
  {
   "cell_type": "code",
   "execution_count": 28,
   "metadata": {},
   "outputs": [
    {
     "data": {
      "text/plain": [
       "BBL\n",
       "1.000168e+09    3\n",
       "1.000638e+09    6\n",
       "1.000908e+09    5\n",
       "1.001320e+09    3\n",
       "1.001418e+09    3\n",
       "               ..\n",
       "4.161560e+09    2\n",
       "4.161560e+09    2\n",
       "4.161668e+09    6\n",
       "4.161668e+09    5\n",
       "4.161808e+09    6\n",
       "Name: id, Length: 1398, dtype: int64"
      ]
     },
     "execution_count": 28,
     "metadata": {},
     "output_type": "execute_result"
    }
   ],
   "source": [
    "dupes"
   ]
  },
  {
   "cell_type": "code",
   "execution_count": 33,
   "metadata": {},
   "outputs": [
    {
     "name": "stderr",
     "output_type": "stream",
     "text": [
      "/Users/arnavmalhotra/anaconda3/envs/pluto/lib/python3.10/site-packages/geopandas/io/file.py:299: FutureWarning: pandas.Int64Index is deprecated and will be removed from pandas in a future version. Use pandas.Index with the appropriate dtype instead.\n",
      "  pd.Int64Index,\n",
      "/Users/arnavmalhotra/anaconda3/envs/pluto/lib/python3.10/site-packages/geopandas/io/file.py:299: FutureWarning: pandas.Int64Index is deprecated and will be removed from pandas in a future version. Use pandas.Index with the appropriate dtype instead.\n",
      "  pd.Int64Index,\n",
      "/Users/arnavmalhotra/anaconda3/envs/pluto/lib/python3.10/site-packages/geopandas/io/file.py:299: FutureWarning: pandas.Int64Index is deprecated and will be removed from pandas in a future version. Use pandas.Index with the appropriate dtype instead.\n",
      "  pd.Int64Index,\n"
     ]
    }
   ],
   "source": [
    "resbuildings_no_match[resbuildings_no_match['BBL'].isin(sp1.BBL)].to_file('data/geospatial_found')\n",
    "resbuildings_no_match[resbuildings_no_match['BBL'].isin(dupes.index)].to_file('data/geospatial_dupes')\n",
    "not_found = resbuildings_no_match[~resbuildings_no_match['BBL'].isin(sp1.BBL)]\n",
    "not_found.to_file('data/geospatial_not_found')"
   ]
  },
  {
   "cell_type": "code",
   "execution_count": 34,
   "metadata": {},
   "outputs": [
    {
     "data": {
      "text/plain": [
       "(1398,)"
      ]
     },
     "execution_count": 34,
     "metadata": {},
     "output_type": "execute_result"
    }
   ],
   "source": [
    "dupes.shape"
   ]
  },
  {
   "cell_type": "code",
   "execution_count": 35,
   "metadata": {},
   "outputs": [
    {
     "data": {
      "text/plain": [
       "(5626, 191)"
      ]
     },
     "execution_count": 35,
     "metadata": {},
     "output_type": "execute_result"
    }
   ],
   "source": [
    "sp1.shape"
   ]
  },
  {
   "cell_type": "code",
   "execution_count": 36,
   "metadata": {},
   "outputs": [
    {
     "data": {
      "text/plain": [
       "1837"
      ]
     },
     "execution_count": 36,
     "metadata": {},
     "output_type": "execute_result"
    }
   ],
   "source": [
    "sp1[sp1['in_search'] == True].BBL.nunique()"
   ]
  },
  {
   "cell_type": "code",
   "execution_count": 37,
   "metadata": {},
   "outputs": [
    {
     "data": {
      "text/plain": [
       "641"
      ]
     },
     "execution_count": 37,
     "metadata": {},
     "output_type": "execute_result"
    }
   ],
   "source": [
    "sp1[sp1['in_search'] != True].BBL.nunique()"
   ]
  },
  {
   "cell_type": "code",
   "execution_count": 41,
   "metadata": {},
   "outputs": [
    {
     "data": {
      "text/plain": [
       "in_search\n",
       "False     641\n",
       "True     1837\n",
       "Name: BBL, dtype: int64"
      ]
     },
     "execution_count": 41,
     "metadata": {},
     "output_type": "execute_result"
    }
   ],
   "source": [
    "sp1.groupby('in_search')['BBL'].nunique()"
   ]
  },
  {
   "cell_type": "code",
   "execution_count": 39,
   "metadata": {},
   "outputs": [
    {
     "data": {
      "text/plain": [
       "(288, 95)"
      ]
     },
     "execution_count": 39,
     "metadata": {},
     "output_type": "execute_result"
    }
   ],
   "source": [
    "not_found.shape"
   ]
  },
  {
   "cell_type": "code",
   "execution_count": 42,
   "metadata": {},
   "outputs": [
    {
     "data": {
      "text/plain": [
       "2267"
      ]
     },
     "execution_count": 42,
     "metadata": {},
     "output_type": "execute_result"
    }
   ],
   "source": [
    "resbuildings_no_match.BBL.nunique()"
   ]
  },
  {
   "cell_type": "code",
   "execution_count": 45,
   "metadata": {},
   "outputs": [],
   "source": [
    "x = sp1.groupby('BBL')['id'].nunique()[sp1.groupby('BBL')['id'].nunique() == 1]"
   ]
  },
  {
   "cell_type": "code",
   "execution_count": 46,
   "metadata": {},
   "outputs": [
    {
     "data": {
      "text/plain": [
       "BBL\n",
       "1.001370e+09    1\n",
       "1.001370e+09    1\n",
       "1.002240e+09    1\n",
       "1.006020e+09    1\n",
       "1.006020e+09    1\n",
       "               ..\n",
       "4.161560e+09    1\n",
       "4.161560e+09    1\n",
       "4.161560e+09    1\n",
       "4.161560e+09    1\n",
       "4.161560e+09    1\n",
       "Name: id, Length: 581, dtype: int64"
      ]
     },
     "execution_count": 46,
     "metadata": {},
     "output_type": "execute_result"
    }
   ],
   "source": [
    "x"
   ]
  },
  {
   "cell_type": "code",
   "execution_count": 47,
   "metadata": {},
   "outputs": [
    {
     "data": {
      "text/plain": [
       "BBL\n",
       "1.000168e+09    3\n",
       "1.000638e+09    6\n",
       "1.000908e+09    5\n",
       "1.001320e+09    3\n",
       "1.001418e+09    3\n",
       "               ..\n",
       "4.161560e+09    2\n",
       "4.161560e+09    2\n",
       "4.161668e+09    6\n",
       "4.161668e+09    5\n",
       "4.161808e+09    6\n",
       "Name: id, Length: 1398, dtype: int64"
      ]
     },
     "execution_count": 47,
     "metadata": {},
     "output_type": "execute_result"
    }
   ],
   "source": [
    "sp1.groupby('BBL')['id'].nunique()[sp1.groupby('BBL')['id'].nunique() != 1]"
   ]
  },
  {
   "cell_type": "code",
   "execution_count": null,
   "metadata": {},
   "outputs": [],
   "source": []
  }
 ],
 "metadata": {
  "kernelspec": {
   "display_name": "pluto",
   "language": "python",
   "name": "python3"
  },
  "language_info": {
   "codemirror_mode": {
    "name": "ipython",
    "version": 3
   },
   "file_extension": ".py",
   "mimetype": "text/x-python",
   "name": "python",
   "nbconvert_exporter": "python",
   "pygments_lexer": "ipython3",
   "version": "3.10.11"
  },
  "orig_nbformat": 4
 },
 "nbformat": 4,
 "nbformat_minor": 2
}
