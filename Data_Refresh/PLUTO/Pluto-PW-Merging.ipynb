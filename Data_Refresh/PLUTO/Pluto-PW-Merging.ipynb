{
 "cells": [
  {
   "cell_type": "markdown",
   "id": "324a4b75-b190-4f04-9753-fdc0b05319f6",
   "metadata": {},
   "source": [
    "## PLUTO - PERCHWELL Building data merge"
   ]
  },
  {
   "cell_type": "code",
   "execution_count": 1,
   "id": "353f4ee2-ac96-4756-b096-2a5be8663607",
   "metadata": {},
   "outputs": [],
   "source": [
    "import requests\n",
    "from bs4 import BeautifulSoup\n",
    "import pandas as pd"
   ]
  },
  {
   "cell_type": "code",
   "execution_count": 2,
   "id": "01b49218-54aa-4187-b6a9-636aed8d61b1",
   "metadata": {},
   "outputs": [
    {
     "name": "stderr",
     "output_type": "stream",
     "text": [
      "/var/folders/9s/qkj1lg4d22j6vzbkv4zxvqmm0000gp/T/ipykernel_42762/1775343207.py:1: DtypeWarning: Columns (21,22,24,26,66) have mixed types. Specify dtype option on import or set low_memory=False.\n",
      "  pluto = pd.read_csv(\"/Users/perchwellallusers/Downloads/pluto_23v1.csv\")\n"
     ]
    }
   ],
   "source": [
    "pluto = pd.read_csv(\"/Users/perchwellallusers/Downloads/pluto_23v1.csv\")"
   ]
  },
  {
   "cell_type": "code",
   "execution_count": null,
   "id": "89901032-4d7e-4297-bea2-de6f8c343fe0",
   "metadata": {},
   "outputs": [],
   "source": [
    "# First round - BBL\n",
    "# Second round - Parcel id\n",
    "# Third round - Address\n"
   ]
  },
  {
   "cell_type": "code",
   "execution_count": 58,
   "id": "d4b9f8b4-e651-4ffa-afc5-241babe7c1d0",
   "metadata": {},
   "outputs": [],
   "source": [
    "import pandas as pd\n",
    "import sqlalchemy as db\n",
    "from sqlalchemy import create_engine, text\n",
    "import pgspecial\n",
    "import numpy as np\n",
    "import recordlinkage\n",
    "from sqlalchemy.orm import sessionmaker"
   ]
  },
  {
   "cell_type": "code",
   "execution_count": 27,
   "id": "d8380187-bc4f-4fd8-b514-8de1095f773d",
   "metadata": {},
   "outputs": [],
   "source": [
    "# load sql_Magic\n",
    "%load_ext sql"
   ]
  },
  {
   "cell_type": "code",
   "execution_count": 28,
   "id": "313930d6-4b20-450a-94af-c14487a6f140",
   "metadata": {},
   "outputs": [],
   "source": [
    "#connection string\n",
    "%sql postgresql://teleport:@localhost:2024/perchwell"
   ]
  },
  {
   "cell_type": "code",
   "execution_count": 116,
   "id": "3aa08d9d-f074-4767-9aa1-8b2ebc584a17",
   "metadata": {},
   "outputs": [
    {
     "name": "stdout",
     "output_type": "stream",
     "text": [
      "100000 rows appended\n",
      "200000 rows appended\n",
      "300000 rows appended\n",
      "400000 rows appended\n",
      "500000 rows appended\n",
      "600000 rows appended\n",
      "700000 rows appended\n",
      "800000 rows appended\n"
     ]
    }
   ],
   "source": [
    "\n",
    "rowlist = []\n",
    "# Create the SQLAlchemy engine\n",
    "engine = create_engine('postgresql://teleport:@localhost:2024/perchwell')\n",
    "currentrow = len(rowlist)\n",
    "# Define the SQL query string\n",
    "for ran in range(0,800000,100000):\n",
    "    if len(rowlist) ==0:\n",
    "        n = 0\n",
    "    else:\n",
    "        n = 100000\n",
    "    query_string = f'''select *\n",
    "        from buildings\n",
    "        ---join with geographies\n",
    "        inner join building_geographies on buildings.id = building_geographies.building_id\n",
    "        ---filter for only NYC region code = 1278\n",
    "        inner join (select * from geographies where geographies.id = 1278) as geo on geo.id = building_geographies.geography_id\n",
    "        where source_id is not null\n",
    "        LIMIT 100000 OFFSET {currentrow};\n",
    "        '''\n",
    "    try:\n",
    "        # Execute the query\n",
    "        with engine.connect() as conn:\n",
    "            result = conn.execute(text(query_string))\n",
    "\n",
    "            # Process the query result\n",
    "            for row in result:\n",
    "                # Access the row data\n",
    "                rowlist.append(row)\n",
    "        print(f'{len(rowlist)} rows appended')\n",
    "    except:\n",
    "        engine = create_engine('postgresql://teleport:@localhost:2024/perchwell')\n",
    "        with engine.connect() as conn:\n",
    "            result = conn.execute(text(query_string))\n",
    "            for row in result:\n",
    "                rowlist.append(row)\n",
    "        print(f'{len(rowlist)} rows appended')\n"
   ]
  },
  {
   "cell_type": "code",
   "execution_count": 117,
   "id": "c43b40d3-f25c-4bdc-b24f-b03a697fee24",
   "metadata": {},
   "outputs": [],
   "source": [
    "preso = pd.DataFrame(rowlist)"
   ]
  },
  {
   "cell_type": "code",
   "execution_count": 118,
   "id": "38c38362-8871-487b-9297-6bfa61587ded",
   "metadata": {},
   "outputs": [
    {
     "data": {
      "text/plain": [
       "800000"
      ]
     },
     "execution_count": 118,
     "metadata": {},
     "output_type": "execute_result"
    }
   ],
   "source": [
    "len(preso)"
   ]
  },
  {
   "cell_type": "code",
   "execution_count": 119,
   "id": "bd4c1e8f-491e-4aea-8874-4b1bae185b41",
   "metadata": {},
   "outputs": [],
   "source": [
    "preso['borough'] = preso['source_id'].astype(str).str[0]\n",
    "preso['block'] = preso['source_id'].astype(str).str[1:6]\n",
    "preso['lot'] = preso['source_id'].astype(str).str[6:10]"
   ]
  },
  {
   "cell_type": "code",
   "execution_count": 128,
   "id": "a2397f2d-d2ab-490b-959a-9eaea14b8470",
   "metadata": {},
   "outputs": [],
   "source": [
    "preso = preso[preso.source_id.notnull()]"
   ]
  },
  {
   "cell_type": "code",
   "execution_count": 121,
   "id": "9a9aa78c-7c8f-42bf-9579-a1bba39c94d4",
   "metadata": {},
   "outputs": [],
   "source": [
    "preso[['borough','block','lot']] = preso[['borough','block','lot']].astype(int)"
   ]
  },
  {
   "cell_type": "code",
   "execution_count": 122,
   "id": "53c88f36-85e0-4324-b599-ecd29ebf3ace",
   "metadata": {},
   "outputs": [],
   "source": [
    "borough_mapping = {\n",
    "    'MN': 1,\n",
    "    'BX': 2,\n",
    "    'BK': 3,\n",
    "    'QN': 4,\n",
    "    'SI': 5\n",
    "}\n"
   ]
  },
  {
   "cell_type": "code",
   "execution_count": 123,
   "id": "888ca2e4-e0b5-48fb-96a0-ec775f6d6487",
   "metadata": {},
   "outputs": [],
   "source": [
    "pluto['borough'] = pluto['borough'].map(borough_mapping)"
   ]
  },
  {
   "cell_type": "code",
   "execution_count": 124,
   "id": "1db3ea6f-0af1-44d0-94af-5ddc6e945f35",
   "metadata": {},
   "outputs": [],
   "source": [
    "PWPLUTOmer = preso.merge(pluto, how = 'left', on = ['borough','block','lot'])"
   ]
  },
  {
   "cell_type": "code",
   "execution_count": null,
   "id": "0374324b-a751-415b-a2e8-4448d4b6da7b",
   "metadata": {},
   "outputs": [],
   "source": [
    "PWPLUTOmer[PWPLUTOmer.borough.notnull() & PWPLUTOmer.bbl.notnull()].id.nunique()"
   ]
  }
 ],
 "metadata": {
  "kernelspec": {
   "display_name": "Python 3 (ipykernel)",
   "language": "python",
   "name": "python3"
  },
  "language_info": {
   "codemirror_mode": {
    "name": "ipython",
    "version": 3
   },
   "file_extension": ".py",
   "mimetype": "text/x-python",
   "name": "python",
   "nbconvert_exporter": "python",
   "pygments_lexer": "ipython3",
   "version": "3.9.13"
  }
 },
 "nbformat": 4,
 "nbformat_minor": 5
}
