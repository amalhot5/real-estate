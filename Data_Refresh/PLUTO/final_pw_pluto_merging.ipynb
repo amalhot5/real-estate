{
 "cells": [
  {
   "attachments": {},
   "cell_type": "markdown",
   "metadata": {},
   "source": [
    "# Updating Perchwell's `buildings` dataset with PLUTO\n",
    "The purpose of this notebook is to lay out the final process for ingesting the latest version of PLUTO (in this case v23_1). Once the process is finalized, this notebook will be transformed into a script that can be used in a DAG."
   ]
  },
  {
   "cell_type": "code",
   "execution_count": 1,
   "metadata": {},
   "outputs": [],
   "source": [
    "import pandas as pd\n",
    "import sqlalchemy as db\n",
    "from sqlalchemy import create_engine, text\n",
    "import numpy as np\n",
    "from sqlalchemy.orm import sessionmaker\n",
    "import geopandas as gpd\n",
    "#import geodatasets\n",
    "\n",
    "import pickle as pkl\n",
    "\n",
    "from datetime import datetime"
   ]
  },
  {
   "attachments": {},
   "cell_type": "markdown",
   "metadata": {},
   "source": [
    "## Getting Perchwell's `Buildings` table"
   ]
  },
  {
   "cell_type": "code",
   "execution_count": 2,
   "metadata": {},
   "outputs": [],
   "source": [
    "%load_ext sql"
   ]
  },
  {
   "cell_type": "code",
   "execution_count": 3,
   "metadata": {},
   "outputs": [
    {
     "data": {
      "text/plain": [
       "'Connected: teleport@perchwell'"
      ]
     },
     "execution_count": 3,
     "metadata": {},
     "output_type": "execute_result"
    }
   ],
   "source": [
    "%sql postgresql://teleport:@localhost:2023/perchwell"
   ]
  },
  {
   "cell_type": "code",
   "execution_count": 4,
   "metadata": {},
   "outputs": [],
   "source": [
    "def pull_data(sql_query:str, file_out=\"pw.csv\", port_num=2023):\n",
    "    \"\"\"\n",
    "    For a given sql_query, this function will connect to Perchwell's database, \n",
    "    pull the corresponding data, save it to a csv in the file specified \n",
    "    (default is pw.csv), and returns that data in the form of a Pandas\n",
    "    DataFrame.\n",
    "\n",
    "    Args:\n",
    "        sql_query (str): query whose results you wish to download\n",
    "        file_out (str, optional): filepath for the output file. Defaults to \n",
    "            \"pw.csv\".\n",
    "        port_num (int, optional): Port number for Teleport Connection. Defaults\n",
    "            to 2023.\n",
    "\n",
    "    Returns:\n",
    "        pd.DataFrame: DataFrame containing results of sql_query \n",
    "    \"\"\"    \n",
    "    pw_df = []\n",
    "    prev_row_count = -1\n",
    "    current_row = 0\n",
    "    # Create the SQLAlchemy engine\n",
    "    engine = create_engine(f\"postgresql://teleport:@localhost:{port_num}/perchwell\")\n",
    "\n",
    "    # in order to get around the 300k row limit\n",
    "    while prev_row_count <= current_row:\n",
    "        current_row = len(pw_df)\n",
    "        if prev_row_count == current_row:\n",
    "            print(f\"final row count: {current_row}\")\n",
    "            break\n",
    "        # Define the SQL query string, but keep last line\n",
    "        query_string = f\"\"\"{sql_query}\n",
    "            -- NOTE: DO NOT DELETE BELOW THIS\n",
    "            LIMIT 100000 OFFSET {current_row};\n",
    "            \"\"\"\n",
    "        try:\n",
    "            # Execute the query\n",
    "            with engine.connect() as conn:\n",
    "                result = conn.execute(text(query_string))\n",
    "\n",
    "                # Process the query result\n",
    "                for row in result:\n",
    "                    # Access the row data\n",
    "                    pw_df.append(row)\n",
    "        except:\n",
    "            # in case of timeout\n",
    "            engine = create_engine(f\"postgresql://teleport:@localhost:{port_num}/perchwell\")\n",
    "            with engine.connect() as conn:\n",
    "                result = conn.execute(text(query_string))\n",
    "                for row in result:\n",
    "                    pw_df.append(row)\n",
    "        print(f\"{len(pw_df)} rows appended\")\n",
    "        prev_row_count = current_row\n",
    "    pw_df = pd.DataFrame(pw_df)\n",
    "    #pw_df.to_csv(file_out)\n",
    "    return pw_df"
   ]
  },
  {
   "cell_type": "code",
   "execution_count": 5,
   "metadata": {},
   "outputs": [
    {
     "name": "stdout",
     "output_type": "stream",
     "text": [
      "(749222, 105)\n"
     ]
    }
   ],
   "source": [
    "try:\n",
    "    with open('data/buildings_final2.pkl', 'rb') as f:\n",
    "        preso = pkl.load(f)\n",
    "    print(preso.shape)\n",
    "except FileNotFoundError:\n",
    "    query_string = f'''\n",
    "        select \n",
    "            b.*\n",
    "            , rls.*\n",
    "            , mlsli.*\n",
    "            , l.*\n",
    "            , a.*\n",
    "            , st_asgeojson(b.geometry) as geometry_json\n",
    "        from buildings b\n",
    "        ---join with geographies\n",
    "        inner join building_geographies bg\n",
    "            on b.id = bg.building_id\n",
    "        left join (\n",
    "            select\n",
    "                building_id\n",
    "                , count(*) as num_other_listings\n",
    "                , max(created_at) as last_listing\n",
    "            from listings\n",
    "            where not(\n",
    "                    lower(source) like '%mlsli%' \n",
    "                    or lower(source) like '%rls%' \n",
    "                    or source = 'real_plus')\n",
    "            group by building_id\n",
    "        ) l on l.building_id = b.id\n",
    "        left join (\n",
    "            select\n",
    "                building_id\n",
    "                , count(distinct(id)) as num_rls\n",
    "                , max(created_at) as last_rls_listing\n",
    "            from listings\n",
    "            where --not(lower(source) like '%mlsli%')\n",
    "                lower(source) like '%rls%' or source = 'real_plus'\n",
    "            group by building_id\n",
    "        ) rls on rls.building_id = b.id\n",
    "        left join (\n",
    "            select\n",
    "                building_id\n",
    "                , count(distinct(id)) as num_mlsli\n",
    "                , max(created_at) as last_mlsli_listing\n",
    "            from listings\n",
    "            where lower(source) like '%mlsli%'\n",
    "            group by building_id\n",
    "        ) mlsli on mlsli.building_id = b.id\n",
    "        left join (\n",
    "            select \n",
    "                building_id\n",
    "                , count(distinct(acris_document_id)) as num_acris\n",
    "                , max(created_at) as last_acris_created\n",
    "                , max(sale_date) as last_acris_sale\n",
    "            from historicals\n",
    "            group by building_id\n",
    "            order by count(distinct(acris_document_id)) desc\n",
    "        ) a on b.id = a.building_id\n",
    "        where bg.geography_id = 1278\n",
    "        '''\n",
    "    preso = pull_data(query_string)\n",
    "    with open('data/buildings_final2.pkl', 'wb') as f:\n",
    "        pkl.dump(preso, f)"
   ]
  },
  {
   "cell_type": "code",
   "execution_count": 6,
   "metadata": {},
   "outputs": [],
   "source": [
    "from shapely.geometry import shape\n",
    "import json\n",
    "preso = preso[preso.geometry_json.notnull()]\n",
    "# Transform normal df to geopandas df\n",
    "preso_gdf = gpd.GeoDataFrame(preso)\n",
    "# Transform geojson to shapes\n",
    "preso_gdf['geometry'] = [shape(json.loads(x)) for x in preso_gdf['geometry_json']]\n",
    "#for i,r in gdf.iterrows():\n",
    " #   gdf.at[i, 'geometry_json'] = shape(json.loads(gdf['geometry_json'][i]))\n",
    "    \n",
    "# Set geometry for geodf\n",
    "preso_gdf = preso_gdf.set_geometry('geometry')\n",
    "preso_gdf.set_crs(crs=\"EPSG:4326\", inplace=True)\n",
    "with open('data/preso_gdf.pkl', 'wb') as f:\n",
    "    pkl.dump(preso_gdf, f)"
   ]
  },
  {
   "cell_type": "code",
   "execution_count": 7,
   "metadata": {},
   "outputs": [
    {
     "data": {
      "text/plain": [
       "(744425, 105)"
      ]
     },
     "execution_count": 7,
     "metadata": {},
     "output_type": "execute_result"
    }
   ],
   "source": [
    "preso.shape"
   ]
  },
  {
   "attachments": {},
   "cell_type": "markdown",
   "metadata": {},
   "source": [
    "## Reading the PLUTO files"
   ]
  },
  {
   "cell_type": "code",
   "execution_count": 8,
   "metadata": {},
   "outputs": [
    {
     "name": "stderr",
     "output_type": "stream",
     "text": [
      "/var/folders/_3/v349phgn4ljd3jkf3ll9p2cm0000gp/T/ipykernel_75616/3752845133.py:1: DtypeWarning: Columns (21,22,24,26,28,66) have mixed types. Specify dtype option on import or set low_memory=False.\n",
      "  pluto = pd.read_csv(\"data/pluto_23v1_1.csv\")\n"
     ]
    },
    {
     "data": {
      "text/plain": [
       "(859068, 92)"
      ]
     },
     "execution_count": 8,
     "metadata": {},
     "output_type": "execute_result"
    }
   ],
   "source": [
    "pluto = pd.read_csv(\"data/pluto_23v1_1.csv\")\n",
    "pluto.shape"
   ]
  },
  {
   "cell_type": "code",
   "execution_count": 9,
   "metadata": {},
   "outputs": [],
   "source": [
    "try:\n",
    "    with open('data/pluto_map.pkl', 'rb') as f:\n",
    "        pluto = pkl.load(f)\n",
    "except FileNotFoundError:\n",
    "    shapefile_path = 'data/nyc_mappluto_23v1_1_shp/MapPLUTO.shp'\n",
    "    gdf = gpd.read_file(shapefile_path)\n",
    "    pluto = pluto[pluto['bbl'].isin(gdf['BBL'].to_list())]\n",
    "    with open('data/pluto_map.pkl', 'wb') as f:\n",
    "        pkl.dump(pluto, f)\n",
    "    # Print GeoDataFrame information\n",
    "    print(gdf.head())"
   ]
  },
  {
   "cell_type": "code",
   "execution_count": 10,
   "metadata": {},
   "outputs": [
    {
     "data": {
      "text/plain": [
       "(856903, 92)"
      ]
     },
     "execution_count": 10,
     "metadata": {},
     "output_type": "execute_result"
    }
   ],
   "source": [
    "pluto.shape"
   ]
  },
  {
   "attachments": {},
   "cell_type": "markdown",
   "metadata": {},
   "source": [
    "## Identifying Buildings That Need Updating\n",
    "The next step is to match the buildings in PW's `buildings` table to PLUTO using the BBL. Once this is complete, we identify which building and fields need to be updated."
   ]
  },
  {
   "cell_type": "code",
   "execution_count": 11,
   "metadata": {},
   "outputs": [],
   "source": [
    "mapped_fields = [('zip', 'zipcode'),\n",
    "                 ('year_built', 'yearbuilt'),\n",
    "                 #('school_district_code', 'schooldist'),\n",
    "                 ('num_stories', 'numfloors'), \n",
    "                 ('num_units', 'unitsres'), \n",
    "                 ('lot_area', 'lotarea'), \n",
    "                 ('lot_front', 'lotfront'), \n",
    "                 ('lot_depth', 'lotdepth'),\n",
    "                 ('building_class', 'bldgclass'),\n",
    "                 ('building_front', 'bldgfront'),\n",
    "                 ('building_depth', 'bldgdepth'),\n",
    "                 ('building_area', 'bldgarea'),\n",
    "                 ('landmark_x', 'landmark_y')]"
   ]
  },
  {
   "cell_type": "code",
   "execution_count": 12,
   "metadata": {},
   "outputs": [
    {
     "name": "stdout",
     "output_type": "stream",
     "text": [
      "(730044, 197)\n"
     ]
    }
   ],
   "source": [
    "preso['source_id'] = pd.to_numeric(preso['source_id'])\n",
    "matched_buildings = preso.merge(pluto, how='inner', left_on='source_id', right_on='bbl')\n",
    "print(matched_buildings.shape)"
   ]
  },
  {
   "cell_type": "code",
   "execution_count": 13,
   "metadata": {},
   "outputs": [],
   "source": [
    "# map mismatched fields\n",
    "matched_buildings['zip'] = pd.to_numeric(matched_buildings['zip'])\n",
    "matched_buildings['numfloors'] = np.ceil(matched_buildings['numfloors'])\n",
    "\n",
    "# map landmark field\n",
    "matched_buildings['landmark_y'] = [True if type(x) == str else False for x in matched_buildings['landmark_y']]\n",
    "matched_buildings['landmark_x'] = [x if x else 'f' for x in matched_buildings['landmark_x']]\n",
    "matched_buildings['landmark_x'] = [False if (x.lower() in ('f', 'false') or x.isspace()) else True for x in matched_buildings['landmark_x']]"
   ]
  },
  {
   "cell_type": "code",
   "execution_count": 14,
   "metadata": {},
   "outputs": [
    {
     "name": "stdout",
     "output_type": "stream",
     "text": [
      "('zip', 'zipcode')\n",
      "('year_built', 'yearbuilt')\n",
      "('num_stories', 'numfloors')\n",
      "('num_units', 'unitsres')\n",
      "('lot_area', 'lotarea')\n",
      "('lot_front', 'lotfront')\n",
      "('lot_depth', 'lotdepth')\n",
      "('building_class', 'bldgclass')\n",
      "('building_front', 'bldgfront')\n",
      "('building_depth', 'bldgdepth')\n",
      "('building_area', 'bldgarea')\n",
      "('landmark_x', 'landmark_y')\n"
     ]
    },
    {
     "data": {
      "text/plain": [
       "419965"
      ]
     },
     "execution_count": 14,
     "metadata": {},
     "output_type": "execute_result"
    }
   ],
   "source": [
    "# TODO: is this the right format for the update df?\n",
    "update_df = {'id': [], 'field_name': [], 'old_value': [], 'new_value': [], 'in_search': []}\n",
    "for fnames in mapped_fields:\n",
    "    print(fnames)\n",
    "    wrong = matched_buildings[matched_buildings[f'{fnames[0]}'] != matched_buildings[f'{fnames[1]}']]\n",
    "    wrong = wrong[(wrong[f'{fnames[1]}'] != 0)]\n",
    "    wrong = wrong[~(wrong[f'{fnames[1]}'].isna())]\n",
    "    if fnames[0] in ('num_stories', 'year_built'):\n",
    "        # new value should be greater for both year_built and num_stories\n",
    "        wrong = wrong[wrong[f'{fnames[0]}'] < wrong[f'{fnames[1]}']]\n",
    "    update_df['id'] += list(wrong['id'])\n",
    "    update_df['old_value'] += list(wrong[f'{fnames[0]}'])\n",
    "    update_df['new_value'] += list(wrong[f'{fnames[1]}'])\n",
    "    update_df['in_search'] += list(wrong['in_search'])\n",
    "    update_df['field_name'] += [f'{fnames[0]}'] * len(wrong['id'])\n",
    "\n",
    "update_df = pd.DataFrame(update_df)\n",
    "update_df['id'].nunique()"
   ]
  },
  {
   "cell_type": "code",
   "execution_count": 15,
   "metadata": {},
   "outputs": [
    {
     "name": "stdout",
     "output_type": "stream",
     "text": [
      "(545452, 5) 419965\n",
      "(545452, 5) 419965\n"
     ]
    }
   ],
   "source": [
    "# checking to see if rules worked, should be same numbers printed\n",
    "print(update_df.shape, update_df['id'].nunique())\n",
    "update_df = update_df[(update_df['new_value'] != 0)]\n",
    "update_df =  update_df[~(update_df['new_value'].isna())]\n",
    "print(update_df.shape, update_df['id'].nunique())"
   ]
  },
  {
   "cell_type": "code",
   "execution_count": 16,
   "metadata": {},
   "outputs": [
    {
     "name": "stdout",
     "output_type": "stream",
     "text": [
      "(19524, 5)\n",
      "(19524, 5)\n"
     ]
    }
   ],
   "source": [
    "# checking to see if rules worked, should be same numbers being printed\n",
    "print(update_df[update_df['field_name'] == 'num_stories'].shape)\n",
    "print(update_df[(update_df['field_name'] == 'num_stories') & (update_df['old_value'] < update_df['new_value'])].shape)"
   ]
  },
  {
   "cell_type": "code",
   "execution_count": 17,
   "metadata": {},
   "outputs": [
    {
     "data": {
      "text/html": [
       "<div>\n",
       "<style scoped>\n",
       "    .dataframe tbody tr th:only-of-type {\n",
       "        vertical-align: middle;\n",
       "    }\n",
       "\n",
       "    .dataframe tbody tr th {\n",
       "        vertical-align: top;\n",
       "    }\n",
       "\n",
       "    .dataframe thead th {\n",
       "        text-align: right;\n",
       "    }\n",
       "</style>\n",
       "<table border=\"1\" class=\"dataframe\">\n",
       "  <thead>\n",
       "    <tr style=\"text-align: right;\">\n",
       "      <th></th>\n",
       "      <th>id</th>\n",
       "      <th>field_name</th>\n",
       "      <th>old_value</th>\n",
       "      <th>new_value</th>\n",
       "      <th>in_search</th>\n",
       "    </tr>\n",
       "  </thead>\n",
       "  <tbody>\n",
       "    <tr>\n",
       "      <th>0</th>\n",
       "      <td>538</td>\n",
       "      <td>zip</td>\n",
       "      <td>10005</td>\n",
       "      <td>10038.0</td>\n",
       "      <td>True</td>\n",
       "    </tr>\n",
       "    <tr>\n",
       "      <th>1</th>\n",
       "      <td>1757</td>\n",
       "      <td>zip</td>\n",
       "      <td>10038</td>\n",
       "      <td>10007.0</td>\n",
       "      <td>False</td>\n",
       "    </tr>\n",
       "    <tr>\n",
       "      <th>2</th>\n",
       "      <td>5051</td>\n",
       "      <td>zip</td>\n",
       "      <td>10001</td>\n",
       "      <td>10123.0</td>\n",
       "      <td>True</td>\n",
       "    </tr>\n",
       "    <tr>\n",
       "      <th>3</th>\n",
       "      <td>10005</td>\n",
       "      <td>zip</td>\n",
       "      <td>10020</td>\n",
       "      <td>10036.0</td>\n",
       "      <td>True</td>\n",
       "    </tr>\n",
       "    <tr>\n",
       "      <th>4</th>\n",
       "      <td>11722</td>\n",
       "      <td>zip</td>\n",
       "      <td>10007</td>\n",
       "      <td>10038.0</td>\n",
       "      <td>False</td>\n",
       "    </tr>\n",
       "  </tbody>\n",
       "</table>\n",
       "</div>"
      ],
      "text/plain": [
       "      id field_name old_value new_value  in_search\n",
       "0    538        zip     10005   10038.0       True\n",
       "1   1757        zip     10038   10007.0      False\n",
       "2   5051        zip     10001   10123.0       True\n",
       "3  10005        zip     10020   10036.0       True\n",
       "4  11722        zip     10007   10038.0      False"
      ]
     },
     "execution_count": 17,
     "metadata": {},
     "output_type": "execute_result"
    }
   ],
   "source": [
    "update_df.head()"
   ]
  },
  {
   "attachments": {},
   "cell_type": "markdown",
   "metadata": {},
   "source": [
    "## Splitting PW Only Buildings into Buckets\n",
    "Now it is time to deal with the buildings that are only in Perchwell's `buildings` table. These tables will be split into separate categories based on [the rules laid out in the Whimsical.](https://whimsical.com/building-matchup-XDNFzadmfuQ5c6SAous4SY@7YNFXnKbYxTaFmKVEDgBL)"
   ]
  },
  {
   "cell_type": "code",
   "execution_count": 18,
   "metadata": {},
   "outputs": [
    {
     "name": "stdout",
     "output_type": "stream",
     "text": [
      "(14381, 105) (130936, 92)\n"
     ]
    }
   ],
   "source": [
    "in_pluto = pluto[~pluto['bbl'].isin(matched_buildings['bbl'])]\n",
    "in_pw = preso[~(preso['id'].isin(matched_buildings['id']))]\n",
    "print(in_pw.shape, in_pluto.shape)"
   ]
  },
  {
   "cell_type": "code",
   "execution_count": 19,
   "metadata": {},
   "outputs": [
    {
     "name": "stdout",
     "output_type": "stream",
     "text": [
      "(14381, 105)\n",
      "(4562, 105)\n"
     ]
    }
   ],
   "source": [
    "already_hidden = in_pw[in_pw['in_search'] != True]\n",
    "print(in_pw.shape)\n",
    "in_pw = in_pw[in_pw['in_search'] == True]\n",
    "print(in_pw.shape)"
   ]
  },
  {
   "cell_type": "code",
   "execution_count": 20,
   "metadata": {},
   "outputs": [
    {
     "data": {
      "text/plain": [
       "(3581, 105)"
      ]
     },
     "execution_count": 20,
     "metadata": {},
     "output_type": "execute_result"
    }
   ],
   "source": [
    "keep = in_pw[~((in_pw['source'].str.contains('manual')) | (in_pw['source'].str.contains('pluto')))]\n",
    "in_pw = in_pw[(in_pw['source'].str.contains('manual')) | (in_pw['source'].str.contains('pluto'))]\n",
    "in_pw.shape"
   ]
  },
  {
   "cell_type": "code",
   "execution_count": 21,
   "metadata": {},
   "outputs": [
    {
     "data": {
      "text/plain": [
       "(981, 105)"
      ]
     },
     "execution_count": 21,
     "metadata": {},
     "output_type": "execute_result"
    }
   ],
   "source": [
    "keep.shape"
   ]
  },
  {
   "cell_type": "code",
   "execution_count": 22,
   "metadata": {},
   "outputs": [
    {
     "data": {
      "text/plain": [
       "source\n",
       "                  1\n",
       "pitney_bowes    980\n",
       "Name: id, dtype: int64"
      ]
     },
     "execution_count": 22,
     "metadata": {},
     "output_type": "execute_result"
    }
   ],
   "source": [
    "keep.groupby('source')['id'].nunique()"
   ]
  },
  {
   "cell_type": "code",
   "execution_count": 23,
   "metadata": {},
   "outputs": [],
   "source": [
    "in_pw['num_rls'].fillna(0, inplace=True)\n",
    "in_pw['num_mlsli'].fillna(0, inplace=True)\n",
    "in_pw['num_other_listings'].fillna(0, inplace=True)\n",
    "in_pw['num_acris'].fillna(0, inplace=True)"
   ]
  },
  {
   "cell_type": "code",
   "execution_count": 24,
   "metadata": {},
   "outputs": [],
   "source": [
    "no_listings = in_pw[(in_pw['num_acris'] + in_pw['num_mlsli'] + in_pw['num_other_listings'] + in_pw['num_rls']) == 0]"
   ]
  },
  {
   "cell_type": "code",
   "execution_count": 25,
   "metadata": {},
   "outputs": [
    {
     "data": {
      "text/plain": [
       "(1123, 105)"
      ]
     },
     "execution_count": 25,
     "metadata": {},
     "output_type": "execute_result"
    }
   ],
   "source": [
    "no_listings.shape"
   ]
  },
  {
   "cell_type": "code",
   "execution_count": 26,
   "metadata": {},
   "outputs": [
    {
     "data": {
      "text/plain": [
       "(2458, 105)"
      ]
     },
     "execution_count": 26,
     "metadata": {},
     "output_type": "execute_result"
    }
   ],
   "source": [
    "has_listings = in_pw[~in_pw['id'].isin(no_listings['id'])]\n",
    "has_listings.shape"
   ]
  },
  {
   "cell_type": "code",
   "execution_count": 27,
   "metadata": {},
   "outputs": [],
   "source": [
    "from_pluto = has_listings[has_listings['source'].str.contains('pluto')]\n",
    "manually_created = has_listings[has_listings['source'].str.contains('manual')]"
   ]
  },
  {
   "cell_type": "code",
   "execution_count": 28,
   "metadata": {},
   "outputs": [
    {
     "name": "stdout",
     "output_type": "stream",
     "text": [
      "(1990, 105)\n",
      "(468, 105)\n"
     ]
    }
   ],
   "source": [
    "print(from_pluto.shape)\n",
    "print(manually_created.shape)"
   ]
  },
  {
   "cell_type": "code",
   "execution_count": 29,
   "metadata": {},
   "outputs": [],
   "source": [
    "with open('data/in_pw.pkl', 'wb') as f:\n",
    "    pkl.dump(in_pw, f)\n",
    "\n",
    "with open('data/from_pluto.pkl', 'wb') as f:\n",
    "    pkl.dump(from_pluto, f)\n",
    "\n",
    "with open('data/manually_created.pkl', 'wb') as f:\n",
    "    pkl.dump(manually_created, f)"
   ]
  },
  {
   "cell_type": "code",
   "execution_count": 30,
   "metadata": {},
   "outputs": [
    {
     "name": "stderr",
     "output_type": "stream",
     "text": [
      "/var/folders/_3/v349phgn4ljd3jkf3ll9p2cm0000gp/T/ipykernel_75616/2244161854.py:1: SettingWithCopyWarning: \n",
      "A value is trying to be set on a copy of a slice from a DataFrame.\n",
      "Try using .loc[row_indexer,col_indexer] = value instead\n",
      "\n",
      "See the caveats in the documentation: https://pandas.pydata.org/pandas-docs/stable/user_guide/indexing.html#returning-a-view-versus-a-copy\n",
      "  from_pluto['last_acris_sale'] = pd.to_datetime(from_pluto['last_acris_sale'],format='%Y-%m-%d', errors='coerce')\n"
     ]
    }
   ],
   "source": [
    "from_pluto['last_acris_sale'] = pd.to_datetime(from_pluto['last_acris_sale'],format='%Y-%m-%d', errors='coerce')"
   ]
  },
  {
   "cell_type": "code",
   "execution_count": 31,
   "metadata": {},
   "outputs": [],
   "source": [
    "from_pluto_post2017 = from_pluto[(from_pluto['last_acris_sale'] >= datetime.fromisoformat('2017-01-01')) | \\\n",
    "                           (from_pluto['last_listing'] >= datetime.fromisoformat('2017-01-01')) | \\\n",
    "                            (from_pluto['last_mlsli_listing'] >= datetime.fromisoformat('2017-01-01'))]"
   ]
  },
  {
   "cell_type": "code",
   "execution_count": 32,
   "metadata": {},
   "outputs": [
    {
     "data": {
      "text/plain": [
       "(1527, 105)"
      ]
     },
     "execution_count": 32,
     "metadata": {},
     "output_type": "execute_result"
    }
   ],
   "source": [
    "from_pluto_post2017.shape"
   ]
  },
  {
   "cell_type": "code",
   "execution_count": 33,
   "metadata": {},
   "outputs": [
    {
     "data": {
      "text/plain": [
       "(1990, 105)"
      ]
     },
     "execution_count": 33,
     "metadata": {},
     "output_type": "execute_result"
    }
   ],
   "source": [
    "from_pluto.shape"
   ]
  },
  {
   "cell_type": "code",
   "execution_count": 34,
   "metadata": {},
   "outputs": [
    {
     "data": {
      "text/plain": [
       "88       2019-05-15 03:58:52.735464\n",
       "206      2019-05-15 02:58:22.756099\n",
       "437      2019-05-15 03:51:56.164466\n",
       "554      2019-05-15 05:39:45.907035\n",
       "588      2019-05-15 02:55:15.236699\n",
       "                    ...            \n",
       "744973                          NaT\n",
       "745676   2020-08-11 05:06:02.485419\n",
       "747120   2020-08-11 06:41:09.204408\n",
       "748111   2020-08-11 05:52:52.716649\n",
       "748822   2019-05-15 04:34:29.052688\n",
       "Name: last_listing, Length: 1527, dtype: datetime64[ns]"
      ]
     },
     "execution_count": 34,
     "metadata": {},
     "output_type": "execute_result"
    }
   ],
   "source": [
    "from_pluto_post2017['last_listing']"
   ]
  },
  {
   "cell_type": "code",
   "execution_count": 35,
   "metadata": {},
   "outputs": [
    {
     "data": {
      "text/plain": [
       "(463, 105)"
      ]
     },
     "execution_count": 35,
     "metadata": {},
     "output_type": "execute_result"
    }
   ],
   "source": [
    "from_pluto_pre2017 = from_pluto[~(from_pluto['id'].isin(from_pluto_post2017['id']))]\n",
    "from_pluto_pre2017.shape"
   ]
  },
  {
   "cell_type": "code",
   "execution_count": 36,
   "metadata": {},
   "outputs": [],
   "source": [
    "zips_bx = [10463, 10471,10466, 10469, 10470, 10475,10458, 10467, 10468,10461, 10462, 10464, 10465, 10472, 10473,10453, 10457, 10460 ,10451, 10452, 10456, 10454, 10455, 10459, 10474]\n",
    "zips_bk = [11211, 11222, 11201, 11205, 11215, 11217, 11231, 11213, 11212, 11216, 11233, 11238, 11207, 11208, 11220, 11232, 11204, 11218, 11219, 11230, 11203, 11210, 11225, 11226, 11234, 11236, 11239, 11209, 11214, 11228, 11223, 11224, 11229, 11235, 11206, 11221, 11237]\n",
    "zips_mn = [10031, 10032, 10033, 10034, 10040,10026, 10027, 10030, 10037, 10039,10029, 10035,10023, 10024, 10025,10021, 10028, 10044, 10128,10001, 10011, 10018, 10019, 10020, 10036,10010, 10016, 10017, 10022,10012, 10013, 10014,10002, 10003, 10009, 10004, 10005, 10006, 10007, 10038, 10280]\n",
    "zips_qn = [11101, 11102, 11103, 11104, 11105, 11106,11368, 11369, 11370, 11372, 11373, 11377, 11378,11354, 11355, 11356, 11357, 11358, 11359, 11360,11361, 11362, 11363, 11364,11374, 11375, 11379, 11385,11365, 11366, 11367,11414, 11415, 11416, 11417, 11418, 11419, 11420, 11421,11412, 11423, 11432, 11433, 11434, 11435, 11436,11004, 11005, 11411, 11413, 11422, 11426, 11427, 11428, 11429,11691, 11692, 11693, 11694, 11695, 11697]\n",
    "zips = zips_bk + zips_bx + zips_mn + zips_qn"
   ]
  },
  {
   "cell_type": "code",
   "execution_count": 37,
   "metadata": {},
   "outputs": [
    {
     "name": "stdout",
     "output_type": "stream",
     "text": [
      "(468, 105)\n"
     ]
    }
   ],
   "source": [
    "print(manually_created.shape)\n",
    "# manually_created_outside = manually_created[~manually_created['zip'].astype(int).isin(zips)]\n",
    "# manually_created = manually_created[manually_created['zip'].astype(int).isin(zips)]\n",
    "# print(manually_created.shape, manually_created_outside.shape)"
   ]
  },
  {
   "cell_type": "code",
   "execution_count": 38,
   "metadata": {},
   "outputs": [],
   "source": [
    "for_mlsli = manually_created[(manually_created['num_mlsli'] > 0) & (manually_created['num_rls'] == 0)]\n",
    "for_rls = manually_created[(manually_created['num_mlsli'] == 0) & (manually_created['num_rls'] > 0)]\n",
    "for_other = manually_created[~(manually_created['id'].isin(for_mlsli['id'])) & ~(manually_created['id'].isin(for_rls['id']))]"
   ]
  },
  {
   "cell_type": "code",
   "execution_count": 39,
   "metadata": {},
   "outputs": [
    {
     "name": "stdout",
     "output_type": "stream",
     "text": [
      "(410, 105) (32, 105) (26, 105)\n"
     ]
    }
   ],
   "source": [
    "print(for_mlsli.shape, for_rls.shape, for_other.shape)"
   ]
  },
  {
   "cell_type": "code",
   "execution_count": 40,
   "metadata": {},
   "outputs": [],
   "source": [
    "# TODO: address matching between manually created buildings and PLUTO"
   ]
  },
  {
   "attachments": {},
   "cell_type": "markdown",
   "metadata": {},
   "source": [
    "## Saving out the categories\n",
    "Need to save:\n",
    "  - Update Building\n",
    "    - update_df\n",
    "  - Manual Review:\n",
    "    - for_mlsli\n",
    "    - for_other\n",
    "    - for_rls\n",
    "    - from_pluto_post2017\n",
    "  - Deprecate:\n",
    "    - from_pluto_pre2017\n",
    "    - no_listings"
   ]
  },
  {
   "cell_type": "code",
   "execution_count": 41,
   "metadata": {},
   "outputs": [
    {
     "name": "stderr",
     "output_type": "stream",
     "text": [
      "/var/folders/_3/v349phgn4ljd3jkf3ll9p2cm0000gp/T/ipykernel_75616/1768039707.py:3: UserWarning: Column names longer than 10 characters will be truncated when saved to ESRI Shapefile.\n",
      "  for_mlsli_gdf[['id', 'geometry', 'display_address', 'zip', 'source_id']].to_file('data/for_mlsli')\n",
      "/var/folders/_3/v349phgn4ljd3jkf3ll9p2cm0000gp/T/ipykernel_75616/1768039707.py:5: UserWarning: Column names longer than 10 characters will be truncated when saved to ESRI Shapefile.\n",
      "  for_other_gdf[['id', 'geometry', 'display_address', 'zip', 'source_id']].to_file('data/for_other')\n",
      "/var/folders/_3/v349phgn4ljd3jkf3ll9p2cm0000gp/T/ipykernel_75616/1768039707.py:7: UserWarning: Column names longer than 10 characters will be truncated when saved to ESRI Shapefile.\n",
      "  for_rls_gdf[['id', 'geometry', 'display_address', 'zip', 'source_id']].to_file('data/for_rls')\n",
      "/var/folders/_3/v349phgn4ljd3jkf3ll9p2cm0000gp/T/ipykernel_75616/1768039707.py:9: UserWarning: Column names longer than 10 characters will be truncated when saved to ESRI Shapefile.\n",
      "  from_pluto_post2017_gdf[['id', 'geometry', 'display_address', 'zip', 'source_id']].to_file('data/from_pluto_post2017')\n"
     ]
    }
   ],
   "source": [
    "preso_gdf['source_id'] = pd.to_numeric(preso_gdf['source_id'], errors='coerce')\n",
    "for_mlsli_gdf = preso_gdf[preso_gdf['id'].isin(for_mlsli['id'])]\n",
    "for_mlsli_gdf[['id', 'geometry', 'display_address', 'zip', 'source_id']].to_file('data/for_mlsli')\n",
    "for_other_gdf = preso_gdf[preso_gdf['id'].isin(for_other['id'])]\n",
    "for_other_gdf[['id', 'geometry', 'display_address', 'zip', 'source_id']].to_file('data/for_other')\n",
    "for_rls_gdf = preso_gdf[preso_gdf['id'].isin(for_rls['id'])]\n",
    "for_rls_gdf[['id', 'geometry', 'display_address', 'zip', 'source_id']].to_file('data/for_rls')\n",
    "from_pluto_post2017_gdf = preso_gdf[preso_gdf['id'].isin(from_pluto_post2017['id'])]\n",
    "from_pluto_post2017_gdf[['id', 'geometry', 'display_address', 'zip', 'source_id']].to_file('data/from_pluto_post2017')"
   ]
  },
  {
   "cell_type": "code",
   "execution_count": 42,
   "metadata": {},
   "outputs": [],
   "source": [
    "update_df.to_csv('data/final_buildings_update.csv')"
   ]
  },
  {
   "cell_type": "code",
   "execution_count": 43,
   "metadata": {},
   "outputs": [],
   "source": [
    "manual_review = pd.concat([for_mlsli, for_other, for_rls, from_pluto_post2017])\n",
    "manual_review.to_csv('data/final_manual_review.csv')"
   ]
  },
  {
   "cell_type": "code",
   "execution_count": 44,
   "metadata": {},
   "outputs": [],
   "source": [
    "dep = pd.concat([from_pluto_pre2017, no_listings])\n",
    "dep.to_csv('data/final_deprecate.csv')"
   ]
  },
  {
   "attachments": {},
   "cell_type": "markdown",
   "metadata": {},
   "source": [
    "## Dealing with PLUTO only buildings\n"
   ]
  },
  {
   "cell_type": "code",
   "execution_count": 45,
   "metadata": {},
   "outputs": [
    {
     "data": {
      "text/plain": [
       "(130936, 92)"
      ]
     },
     "execution_count": 45,
     "metadata": {},
     "output_type": "execute_result"
    }
   ],
   "source": [
    "in_pluto.shape"
   ]
  },
  {
   "cell_type": "code",
   "execution_count": 46,
   "metadata": {},
   "outputs": [
    {
     "name": "stderr",
     "output_type": "stream",
     "text": [
      "/var/folders/_3/v349phgn4ljd3jkf3ll9p2cm0000gp/T/ipykernel_75616/153628175.py:1: SettingWithCopyWarning: \n",
      "A value is trying to be set on a copy of a slice from a DataFrame\n",
      "\n",
      "See the caveats in the documentation: https://pandas.pydata.org/pandas-docs/stable/user_guide/indexing.html#returning-a-view-versus-a-copy\n",
      "  in_pluto['bldgclass'].fillna('NaN', inplace=True)\n"
     ]
    }
   ],
   "source": [
    "in_pluto['bldgclass'].fillna('NaN', inplace=True)"
   ]
  },
  {
   "cell_type": "code",
   "execution_count": 47,
   "metadata": {},
   "outputs": [
    {
     "name": "stdout",
     "output_type": "stream",
     "text": [
      "(3791, 92) (2286, 92)\n"
     ]
    }
   ],
   "source": [
    "# filtering based on PW boundaries and building class\n",
    "in_pluto = in_pluto[(in_pluto['borough'] != 'SI') & (in_pluto['longitude'] < -73.74376451)]\n",
    "resbuildings = in_pluto[in_pluto['resarea'] > 0]\n",
    "print(in_pluto.shape, resbuildings.shape)"
   ]
  },
  {
   "cell_type": "code",
   "execution_count": 48,
   "metadata": {},
   "outputs": [],
   "source": [
    "with open('data/resbuildings.pkl', 'wb') as f:\n",
    "    pkl.dump(resbuildings, f)"
   ]
  },
  {
   "cell_type": "code",
   "execution_count": 49,
   "metadata": {},
   "outputs": [],
   "source": [
    "dup_check = pluto.groupby(['address', 'zipcode'])['bbl'].nunique()"
   ]
  },
  {
   "cell_type": "code",
   "execution_count": 50,
   "metadata": {},
   "outputs": [
    {
     "data": {
      "text/plain": [
       "address         zipcode\n",
       "                10026.0    2\n",
       "                10312.0    4\n",
       "                10314.0    2\n",
       "                10453.0    2\n",
       "                10454.0    2\n",
       "                          ..\n",
       "WEST 8 STREET   11204.0    3\n",
       "                11224.0    3\n",
       "WEST 87 STREET  10024.0    2\n",
       "WEST 9 STREET   11231.0    3\n",
       "WEST 97 STREET  10025.0    2\n",
       "Name: bbl, Length: 5421, dtype: int64"
      ]
     },
     "execution_count": 50,
     "metadata": {},
     "output_type": "execute_result"
    }
   ],
   "source": [
    "dup_check[dup_check >= 2]"
   ]
  },
  {
   "cell_type": "code",
   "execution_count": 51,
   "metadata": {},
   "outputs": [
    {
     "name": "stdout",
     "output_type": "stream",
     "text": [
      "(153, 92)\n"
     ]
    }
   ],
   "source": [
    "# TODO: is this right?? we should also be getting the buildings that have been \n",
    "# matched but were duplicates right?\n",
    "dupes = pd.DataFrame(columns=resbuildings.columns)\n",
    "for address, zipcode in dup_check[dup_check >= 2].index:\n",
    "    _ = resbuildings[(resbuildings['address'] == address) & (resbuildings['zipcode'] == zipcode)]\n",
    "    dupes = pd.concat([dupes, _])\n",
    "print(dupes.shape)"
   ]
  },
  {
   "cell_type": "code",
   "execution_count": 52,
   "metadata": {},
   "outputs": [],
   "source": [
    "no_dupes = resbuildings[~resbuildings['bbl'].isin(dupes['bbl'])]"
   ]
  },
  {
   "cell_type": "code",
   "execution_count": 53,
   "metadata": {},
   "outputs": [
    {
     "data": {
      "text/plain": [
       "(2133, 92)"
      ]
     },
     "execution_count": 53,
     "metadata": {},
     "output_type": "execute_result"
    }
   ],
   "source": [
    "no_dupes.shape"
   ]
  },
  {
   "cell_type": "code",
   "execution_count": 51,
   "metadata": {},
   "outputs": [],
   "source": [
    "try:\n",
    "    with open('data/gdf.pkl', 'rb') as f:\n",
    "        gdf = pkl.load(f)\n",
    "except FileNotFoundError:\n",
    "    shapefile_path = 'data/nyc_mappluto_23v1_1_shp/MapPLUTO.shp'\n",
    "    gdf = gpd.read_file(shapefile_path)\n",
    "    # formatting for geospatial join\n",
    "    gdf.to_crs('epsg:4326', inplace=True)\n",
    "    with open('data/gdf.pkl', 'wb') as f:\n",
    "        pkl.dump(gdf, f)"
   ]
  },
  {
   "cell_type": "code",
   "execution_count": 52,
   "metadata": {},
   "outputs": [
    {
     "data": {
      "text/html": [
       "<div>\n",
       "<style scoped>\n",
       "    .dataframe tbody tr th:only-of-type {\n",
       "        vertical-align: middle;\n",
       "    }\n",
       "\n",
       "    .dataframe tbody tr th {\n",
       "        vertical-align: top;\n",
       "    }\n",
       "\n",
       "    .dataframe thead th {\n",
       "        text-align: right;\n",
       "    }\n",
       "</style>\n",
       "<table border=\"1\" class=\"dataframe\">\n",
       "  <thead>\n",
       "    <tr style=\"text-align: right;\">\n",
       "      <th></th>\n",
       "      <th>Borough</th>\n",
       "      <th>Block</th>\n",
       "      <th>Lot</th>\n",
       "      <th>CD</th>\n",
       "      <th>BCT2020</th>\n",
       "      <th>BCTCB2020</th>\n",
       "      <th>CT2010</th>\n",
       "      <th>CB2010</th>\n",
       "      <th>SchoolDist</th>\n",
       "      <th>Council</th>\n",
       "      <th>...</th>\n",
       "      <th>FIRM07_FLA</th>\n",
       "      <th>PFIRM15_FL</th>\n",
       "      <th>Version</th>\n",
       "      <th>DCPEdited</th>\n",
       "      <th>Latitude</th>\n",
       "      <th>Longitude</th>\n",
       "      <th>Notes</th>\n",
       "      <th>Shape_Leng</th>\n",
       "      <th>Shape_Area</th>\n",
       "      <th>geometry</th>\n",
       "    </tr>\n",
       "  </thead>\n",
       "  <tbody>\n",
       "    <tr>\n",
       "      <th>0</th>\n",
       "      <td>MN</td>\n",
       "      <td>1</td>\n",
       "      <td>10</td>\n",
       "      <td>101</td>\n",
       "      <td>1000500</td>\n",
       "      <td>10005000003</td>\n",
       "      <td>5</td>\n",
       "      <td>1000</td>\n",
       "      <td>02</td>\n",
       "      <td>1</td>\n",
       "      <td>...</td>\n",
       "      <td>1</td>\n",
       "      <td>1</td>\n",
       "      <td>23v1.1</td>\n",
       "      <td>NaN</td>\n",
       "      <td>40.688766</td>\n",
       "      <td>-74.018682</td>\n",
       "      <td>NaN</td>\n",
       "      <td>0.0</td>\n",
       "      <td>7.478663e+06</td>\n",
       "      <td>POLYGON ((-74.01208 40.69205, -74.01215 40.692...</td>\n",
       "    </tr>\n",
       "    <tr>\n",
       "      <th>1</th>\n",
       "      <td>MN</td>\n",
       "      <td>1</td>\n",
       "      <td>101</td>\n",
       "      <td>101</td>\n",
       "      <td>1000100</td>\n",
       "      <td>10001001001</td>\n",
       "      <td>1</td>\n",
       "      <td>1001</td>\n",
       "      <td>02</td>\n",
       "      <td>1</td>\n",
       "      <td>...</td>\n",
       "      <td>NaN</td>\n",
       "      <td>1</td>\n",
       "      <td>23v1.1</td>\n",
       "      <td>NaN</td>\n",
       "      <td>40.689920</td>\n",
       "      <td>-74.045337</td>\n",
       "      <td>NaN</td>\n",
       "      <td>0.0</td>\n",
       "      <td>5.018973e+05</td>\n",
       "      <td>MULTIPOLYGON (((-74.04263 40.69004, -74.04257 ...</td>\n",
       "    </tr>\n",
       "    <tr>\n",
       "      <th>2</th>\n",
       "      <td>BK</td>\n",
       "      <td>457</td>\n",
       "      <td>23</td>\n",
       "      <td>306</td>\n",
       "      <td>3007700</td>\n",
       "      <td>30077001003</td>\n",
       "      <td>77</td>\n",
       "      <td>1003</td>\n",
       "      <td>15</td>\n",
       "      <td>39</td>\n",
       "      <td>...</td>\n",
       "      <td>NaN</td>\n",
       "      <td>NaN</td>\n",
       "      <td>23v1.1</td>\n",
       "      <td>NaN</td>\n",
       "      <td>40.678323</td>\n",
       "      <td>-73.991928</td>\n",
       "      <td>NaN</td>\n",
       "      <td>0.0</td>\n",
       "      <td>1.596315e+03</td>\n",
       "      <td>POLYGON ((-73.99182 40.67841, -73.99198 40.678...</td>\n",
       "    </tr>\n",
       "    <tr>\n",
       "      <th>3</th>\n",
       "      <td>MN</td>\n",
       "      <td>1</td>\n",
       "      <td>201</td>\n",
       "      <td>101</td>\n",
       "      <td>1000100</td>\n",
       "      <td>10001001000</td>\n",
       "      <td>1</td>\n",
       "      <td>1000</td>\n",
       "      <td>02</td>\n",
       "      <td>0</td>\n",
       "      <td>...</td>\n",
       "      <td>NaN</td>\n",
       "      <td>1</td>\n",
       "      <td>23v1.1</td>\n",
       "      <td>NaN</td>\n",
       "      <td>40.698188</td>\n",
       "      <td>-74.041329</td>\n",
       "      <td>NaN</td>\n",
       "      <td>0.0</td>\n",
       "      <td>1.148539e+06</td>\n",
       "      <td>POLYGON ((-74.03823 40.69836, -74.03868 40.698...</td>\n",
       "    </tr>\n",
       "    <tr>\n",
       "      <th>4</th>\n",
       "      <td>MN</td>\n",
       "      <td>2</td>\n",
       "      <td>1</td>\n",
       "      <td>101</td>\n",
       "      <td>1000900</td>\n",
       "      <td>10009001022</td>\n",
       "      <td>9</td>\n",
       "      <td>1025</td>\n",
       "      <td>02</td>\n",
       "      <td>1</td>\n",
       "      <td>...</td>\n",
       "      <td>1</td>\n",
       "      <td>1</td>\n",
       "      <td>23v1.1</td>\n",
       "      <td>t</td>\n",
       "      <td>40.700369</td>\n",
       "      <td>-74.012911</td>\n",
       "      <td>NaN</td>\n",
       "      <td>0.0</td>\n",
       "      <td>1.008250e+05</td>\n",
       "      <td>POLYGON ((-74.01313 40.69977, -74.01313 40.699...</td>\n",
       "    </tr>\n",
       "  </tbody>\n",
       "</table>\n",
       "<p>5 rows × 95 columns</p>\n",
       "</div>"
      ],
      "text/plain": [
       "  Borough  Block  Lot   CD  BCT2020    BCTCB2020 CT2010 CB2010 SchoolDist  \\\n",
       "0      MN      1   10  101  1000500  10005000003      5   1000         02   \n",
       "1      MN      1  101  101  1000100  10001001001      1   1001         02   \n",
       "2      BK    457   23  306  3007700  30077001003     77   1003         15   \n",
       "3      MN      1  201  101  1000100  10001001000      1   1000         02   \n",
       "4      MN      2    1  101  1000900  10009001022      9   1025         02   \n",
       "\n",
       "   Council  ...  FIRM07_FLA PFIRM15_FL  Version  DCPEdited   Latitude  \\\n",
       "0        1  ...           1          1   23v1.1        NaN  40.688766   \n",
       "1        1  ...         NaN          1   23v1.1        NaN  40.689920   \n",
       "2       39  ...         NaN        NaN   23v1.1        NaN  40.678323   \n",
       "3        0  ...         NaN          1   23v1.1        NaN  40.698188   \n",
       "4        1  ...           1          1   23v1.1          t  40.700369   \n",
       "\n",
       "   Longitude Notes Shape_Leng    Shape_Area  \\\n",
       "0 -74.018682   NaN        0.0  7.478663e+06   \n",
       "1 -74.045337   NaN        0.0  5.018973e+05   \n",
       "2 -73.991928   NaN        0.0  1.596315e+03   \n",
       "3 -74.041329   NaN        0.0  1.148539e+06   \n",
       "4 -74.012911   NaN        0.0  1.008250e+05   \n",
       "\n",
       "                                            geometry  \n",
       "0  POLYGON ((-74.01208 40.69205, -74.01215 40.692...  \n",
       "1  MULTIPOLYGON (((-74.04263 40.69004, -74.04257 ...  \n",
       "2  POLYGON ((-73.99182 40.67841, -73.99198 40.678...  \n",
       "3  POLYGON ((-74.03823 40.69836, -74.03868 40.698...  \n",
       "4  POLYGON ((-74.01313 40.69977, -74.01313 40.699...  \n",
       "\n",
       "[5 rows x 95 columns]"
      ]
     },
     "execution_count": 52,
     "metadata": {},
     "output_type": "execute_result"
    }
   ],
   "source": [
    "gdf.head()"
   ]
  },
  {
   "cell_type": "code",
   "execution_count": 53,
   "metadata": {},
   "outputs": [
    {
     "data": {
      "text/plain": [
       "Index(['Borough', 'Block', 'Lot', 'CD', 'BCT2020', 'BCTCB2020', 'CT2010',\n",
       "       'CB2010', 'SchoolDist', 'Council', 'ZipCode', 'FireComp', 'PolicePrct',\n",
       "       'HealthCent', 'HealthArea', 'Sanitboro', 'SanitDistr', 'SanitSub',\n",
       "       'Address', 'ZoneDist1', 'ZoneDist2', 'ZoneDist3', 'ZoneDist4',\n",
       "       'Overlay1', 'Overlay2', 'SPDist1', 'SPDist2', 'SPDist3', 'LtdHeight',\n",
       "       'SplitZone', 'BldgClass', 'LandUse', 'Easements', 'OwnerType',\n",
       "       'OwnerName', 'LotArea', 'BldgArea', 'ComArea', 'ResArea', 'OfficeArea',\n",
       "       'RetailArea', 'GarageArea', 'StrgeArea', 'FactryArea', 'OtherArea',\n",
       "       'AreaSource', 'NumBldgs', 'NumFloors', 'UnitsRes', 'UnitsTotal',\n",
       "       'LotFront', 'LotDepth', 'BldgFront', 'BldgDepth', 'Ext', 'ProxCode',\n",
       "       'IrrLotCode', 'LotType', 'BsmtCode', 'AssessLand', 'AssessTot',\n",
       "       'ExemptTot', 'YearBuilt', 'YearAlter1', 'YearAlter2', 'HistDist',\n",
       "       'Landmark', 'BuiltFAR', 'ResidFAR', 'CommFAR', 'FacilFAR', 'BoroCode',\n",
       "       'BBL', 'CondoNo', 'Tract2010', 'XCoord', 'YCoord', 'ZoneMap', 'ZMCode',\n",
       "       'Sanborn', 'TaxMap', 'EDesigNum', 'APPBBL', 'APPDate', 'PLUTOMapID',\n",
       "       'FIRM07_FLA', 'PFIRM15_FL', 'Version', 'DCPEdited', 'Latitude',\n",
       "       'Longitude', 'Notes', 'Shape_Leng', 'Shape_Area', 'geometry'],\n",
       "      dtype='object')"
      ]
     },
     "execution_count": 53,
     "metadata": {},
     "output_type": "execute_result"
    }
   ],
   "source": [
    "gdf.columns"
   ]
  },
  {
   "cell_type": "code",
   "execution_count": 57,
   "metadata": {},
   "outputs": [
    {
     "name": "stdout",
     "output_type": "stream",
     "text": [
      "(2133, 92) (2133, 95)\n"
     ]
    }
   ],
   "source": [
    "no_dupes_gdf = gdf[gdf['BBL'].isin(no_dupes['bbl'])]\n",
    "print(no_dupes.shape, no_dupes_gdf.shape)"
   ]
  },
  {
   "cell_type": "code",
   "execution_count": 58,
   "metadata": {},
   "outputs": [
    {
     "name": "stdout",
     "output_type": "stream",
     "text": [
      "centroid_latitude\n"
     ]
    }
   ],
   "source": [
    "for c in preso.columns:\n",
    "    if 'lat' in c:\n",
    "        print(c)"
   ]
  },
  {
   "cell_type": "code",
   "execution_count": 59,
   "metadata": {},
   "outputs": [
    {
     "data": {
      "text/html": [
       "<div>\n",
       "<style scoped>\n",
       "    .dataframe tbody tr th:only-of-type {\n",
       "        vertical-align: middle;\n",
       "    }\n",
       "\n",
       "    .dataframe tbody tr th {\n",
       "        vertical-align: top;\n",
       "    }\n",
       "\n",
       "    .dataframe thead th {\n",
       "        text-align: right;\n",
       "    }\n",
       "</style>\n",
       "<table border=\"1\" class=\"dataframe\">\n",
       "  <thead>\n",
       "    <tr style=\"text-align: right;\">\n",
       "      <th></th>\n",
       "      <th>centroid_latitude</th>\n",
       "      <th>centroid_longitude</th>\n",
       "    </tr>\n",
       "  </thead>\n",
       "  <tbody>\n",
       "    <tr>\n",
       "      <th>0</th>\n",
       "      <td>40.705330</td>\n",
       "      <td>-74.002719</td>\n",
       "    </tr>\n",
       "    <tr>\n",
       "      <th>1</th>\n",
       "      <td>40.705284</td>\n",
       "      <td>-74.014269</td>\n",
       "    </tr>\n",
       "    <tr>\n",
       "      <th>2</th>\n",
       "      <td>40.703212</td>\n",
       "      <td>-74.006179</td>\n",
       "    </tr>\n",
       "    <tr>\n",
       "      <th>3</th>\n",
       "      <td>40.705775</td>\n",
       "      <td>-74.007242</td>\n",
       "    </tr>\n",
       "    <tr>\n",
       "      <th>4</th>\n",
       "      <td>40.703809</td>\n",
       "      <td>-74.012756</td>\n",
       "    </tr>\n",
       "    <tr>\n",
       "      <th>...</th>\n",
       "      <td>...</td>\n",
       "      <td>...</td>\n",
       "    </tr>\n",
       "    <tr>\n",
       "      <th>749213</th>\n",
       "      <td>40.780273</td>\n",
       "      <td>-73.780304</td>\n",
       "    </tr>\n",
       "    <tr>\n",
       "      <th>749214</th>\n",
       "      <td>40.695855</td>\n",
       "      <td>-73.799332</td>\n",
       "    </tr>\n",
       "    <tr>\n",
       "      <th>749215</th>\n",
       "      <td>40.703458</td>\n",
       "      <td>-73.811952</td>\n",
       "    </tr>\n",
       "    <tr>\n",
       "      <th>749216</th>\n",
       "      <td>40.821019</td>\n",
       "      <td>-73.821910</td>\n",
       "    </tr>\n",
       "    <tr>\n",
       "      <th>749218</th>\n",
       "      <td>40.633818</td>\n",
       "      <td>-73.947599</td>\n",
       "    </tr>\n",
       "  </tbody>\n",
       "</table>\n",
       "<p>744368 rows × 2 columns</p>\n",
       "</div>"
      ],
      "text/plain": [
       "       centroid_latitude centroid_longitude\n",
       "0              40.705330         -74.002719\n",
       "1              40.705284         -74.014269\n",
       "2              40.703212         -74.006179\n",
       "3              40.705775         -74.007242\n",
       "4              40.703809         -74.012756\n",
       "...                  ...                ...\n",
       "749213         40.780273         -73.780304\n",
       "749214         40.695855         -73.799332\n",
       "749215         40.703458         -73.811952\n",
       "749216         40.821019         -73.821910\n",
       "749218         40.633818         -73.947599\n",
       "\n",
       "[744368 rows x 2 columns]"
      ]
     },
     "execution_count": 59,
     "metadata": {},
     "output_type": "execute_result"
    }
   ],
   "source": [
    "preso.dropna(subset=['centroid_latitude', 'centroid_longitude'])[['centroid_latitude', 'centroid_longitude']]"
   ]
  },
  {
   "cell_type": "code",
   "execution_count": 60,
   "metadata": {},
   "outputs": [
    {
     "data": {
      "text/plain": [
       "0         40.705330\n",
       "1         40.705284\n",
       "2         40.703212\n",
       "3         40.705775\n",
       "4         40.703809\n",
       "            ...    \n",
       "749213    40.780273\n",
       "749214    40.695855\n",
       "749215    40.703458\n",
       "749216    40.821019\n",
       "749218    40.633818\n",
       "Name: centroid_latitude, Length: 744425, dtype: object"
      ]
     },
     "execution_count": 60,
     "metadata": {},
     "output_type": "execute_result"
    }
   ],
   "source": [
    "preso.centroid_latitude"
   ]
  },
  {
   "cell_type": "code",
   "execution_count": 54,
   "metadata": {},
   "outputs": [
    {
     "data": {
      "text/plain": [
       "<GeometryArray>\n",
       "[<POINT (-74.003 40.705)>, <POINT (-74.014 40.705)>, <POINT (-74.006 40.703)>,\n",
       " <POINT (-74.007 40.706)>, <POINT (-74.013 40.704)>, <POINT (-74.012 40.703)>,\n",
       " <POINT (-74.013 40.703)>, <POINT (-74.007 40.708)>, <POINT (-74.012 40.703)>,\n",
       " <POINT (-74.013 40.705)>,\n",
       " ...\n",
       " <POINT (-73.816 40.742)>, <POINT (-73.824 40.763)>, <POINT (-73.778 40.739)>,\n",
       "  <POINT (-74.012 40.71)>, <POINT (-73.986 40.688)>,   <POINT (-73.78 40.78)>,\n",
       " <POINT (-73.799 40.696)>, <POINT (-73.812 40.703)>, <POINT (-73.822 40.821)>,\n",
       " <POINT (-73.948 40.634)>]\n",
       "Length: 744368, dtype: geometry"
      ]
     },
     "execution_count": 54,
     "metadata": {},
     "output_type": "execute_result"
    }
   ],
   "source": [
    "preso_geo = preso.dropna(subset=['centroid_latitude', 'centroid_longitude'])\n",
    "geometry = gpd.points_from_xy(preso_geo.centroid_longitude, preso_geo.centroid_latitude)\n",
    "preso_geo = preso_geo.drop(['centroid_latitude', 'centroid_longitude'], axis=1)\n",
    "preso_geo = gpd.GeoDataFrame(preso_geo, crs=\"EPSG:4326\", geometry=geometry)\n",
    "geometry"
   ]
  },
  {
   "cell_type": "code",
   "execution_count": 62,
   "metadata": {},
   "outputs": [],
   "source": [
    "sp1 = gpd.sjoin(preso_geo, no_dupes_gdf, how = 'inner', op = 'within')"
   ]
  },
  {
   "cell_type": "code",
   "execution_count": 63,
   "metadata": {},
   "outputs": [
    {
     "data": {
      "text/plain": [
       "(1446, 198)"
      ]
     },
     "execution_count": 63,
     "metadata": {},
     "output_type": "execute_result"
    }
   ],
   "source": [
    "sp1.shape"
   ]
  },
  {
   "cell_type": "code",
   "execution_count": 64,
   "metadata": {},
   "outputs": [
    {
     "data": {
      "text/plain": [
       "2133"
      ]
     },
     "execution_count": 64,
     "metadata": {},
     "output_type": "execute_result"
    }
   ],
   "source": [
    "no_dupes_gdf['BBL'].nunique()"
   ]
  },
  {
   "cell_type": "code",
   "execution_count": 65,
   "metadata": {},
   "outputs": [
    {
     "data": {
      "text/plain": [
       "(2133, 95)"
      ]
     },
     "execution_count": 65,
     "metadata": {},
     "output_type": "execute_result"
    }
   ],
   "source": [
    "no_dupes_gdf.shape"
   ]
  },
  {
   "cell_type": "code",
   "execution_count": 66,
   "metadata": {},
   "outputs": [
    {
     "data": {
      "text/plain": [
       "947"
      ]
     },
     "execution_count": 66,
     "metadata": {},
     "output_type": "execute_result"
    }
   ],
   "source": [
    "sp1['BBL'].nunique()"
   ]
  },
  {
   "cell_type": "code",
   "execution_count": 67,
   "metadata": {},
   "outputs": [],
   "source": [
    "sp1['num_rls'].fillna(0, inplace=True)\n",
    "sp1['num_mlsli'].fillna(0, inplace=True)\n",
    "sp1['num_other_listings'].fillna(0, inplace=True)\n",
    "sp1['num_acris'].fillna(0, inplace=True)"
   ]
  },
  {
   "cell_type": "code",
   "execution_count": 68,
   "metadata": {},
   "outputs": [
    {
     "data": {
      "text/plain": [
       "(525, 198)"
      ]
     },
     "execution_count": 68,
     "metadata": {},
     "output_type": "execute_result"
    }
   ],
   "source": [
    "sp1_no_listings = sp1[(sp1['num_acris'] + sp1['num_mlsli'] + sp1['num_other_listings'] + sp1['num_rls']) == 0]\n",
    "sp1_no_listings.shape"
   ]
  },
  {
   "cell_type": "code",
   "execution_count": 69,
   "metadata": {},
   "outputs": [
    {
     "data": {
      "text/plain": [
       "BBL\n",
       "1.000908e+09    1\n",
       "1.001320e+09    1\n",
       "1.003728e+09    1\n",
       "1.004078e+09    1\n",
       "1.004208e+09    1\n",
       "               ..\n",
       "4.158538e+09    2\n",
       "4.159100e+09    1\n",
       "4.160620e+09    1\n",
       "4.161668e+09    1\n",
       "4.161808e+09    5\n",
       "Name: id, Length: 284, dtype: int64"
      ]
     },
     "execution_count": 69,
     "metadata": {},
     "output_type": "execute_result"
    }
   ],
   "source": [
    "sp1_no_listings.groupby(['BBL'])['id'].nunique()"
   ]
  },
  {
   "cell_type": "code",
   "execution_count": 70,
   "metadata": {},
   "outputs": [
    {
     "data": {
      "text/plain": [
       "(759, 198)"
      ]
     },
     "execution_count": 70,
     "metadata": {},
     "output_type": "execute_result"
    }
   ],
   "source": [
    "sp1_has_listings = sp1[~sp1['BBL'].isin(sp1_no_listings['BBL'])]\n",
    "sp1_has_listings.shape"
   ]
  },
  {
   "cell_type": "code",
   "execution_count": 71,
   "metadata": {},
   "outputs": [
    {
     "data": {
      "text/plain": [
       "BBL\n",
       "1.000168e+09    1\n",
       "1.000638e+09    3\n",
       "1.001418e+09    1\n",
       "1.002240e+09    1\n",
       "1.002250e+09    1\n",
       "               ..\n",
       "4.160640e+09    1\n",
       "4.161180e+09    1\n",
       "4.161260e+09    1\n",
       "4.161560e+09    1\n",
       "4.161668e+09    4\n",
       "Name: id, Length: 663, dtype: int64"
      ]
     },
     "execution_count": 71,
     "metadata": {},
     "output_type": "execute_result"
    }
   ],
   "source": [
    "sp1_has_listings.groupby('BBL')['id'].nunique()"
   ]
  },
  {
   "cell_type": "code",
   "execution_count": 72,
   "metadata": {},
   "outputs": [
    {
     "data": {
      "text/html": [
       "<div>\n",
       "<style scoped>\n",
       "    .dataframe tbody tr th:only-of-type {\n",
       "        vertical-align: middle;\n",
       "    }\n",
       "\n",
       "    .dataframe tbody tr th {\n",
       "        vertical-align: top;\n",
       "    }\n",
       "\n",
       "    .dataframe thead th {\n",
       "        text-align: right;\n",
       "    }\n",
       "</style>\n",
       "<table border=\"1\" class=\"dataframe\">\n",
       "  <thead>\n",
       "    <tr style=\"text-align: right;\">\n",
       "      <th></th>\n",
       "      <th>id</th>\n",
       "      <th>city</th>\n",
       "      <th>state</th>\n",
       "      <th>zip</th>\n",
       "      <th>google_map_params</th>\n",
       "      <th>building_bike_storage</th>\n",
       "      <th>building_doorman</th>\n",
       "      <th>building_elevator</th>\n",
       "      <th>building_gym</th>\n",
       "      <th>building_laundry</th>\n",
       "      <th>...</th>\n",
       "      <th>PLUTOMapID</th>\n",
       "      <th>FIRM07_FLA</th>\n",
       "      <th>PFIRM15_FL</th>\n",
       "      <th>Version</th>\n",
       "      <th>DCPEdited</th>\n",
       "      <th>Latitude</th>\n",
       "      <th>Longitude</th>\n",
       "      <th>Notes</th>\n",
       "      <th>Shape_Leng</th>\n",
       "      <th>Shape_Area</th>\n",
       "    </tr>\n",
       "  </thead>\n",
       "  <tbody>\n",
       "    <tr>\n",
       "      <th>959</th>\n",
       "      <td>15991</td>\n",
       "      <td>New York</td>\n",
       "      <td>NY</td>\n",
       "      <td>10028</td>\n",
       "      <td>None</td>\n",
       "      <td>None</td>\n",
       "      <td>None</td>\n",
       "      <td>None</td>\n",
       "      <td>None</td>\n",
       "      <td>None</td>\n",
       "      <td>...</td>\n",
       "      <td>1</td>\n",
       "      <td>NaN</td>\n",
       "      <td>NaN</td>\n",
       "      <td>23v1.1</td>\n",
       "      <td>NaN</td>\n",
       "      <td>40.774952</td>\n",
       "      <td>-73.955392</td>\n",
       "      <td>NaN</td>\n",
       "      <td>0.0</td>\n",
       "      <td>2595.442358</td>\n",
       "    </tr>\n",
       "    <tr>\n",
       "      <th>1267</th>\n",
       "      <td>20873</td>\n",
       "      <td>New York</td>\n",
       "      <td>NY</td>\n",
       "      <td>10021</td>\n",
       "      <td></td>\n",
       "      <td>None</td>\n",
       "      <td>True</td>\n",
       "      <td>True</td>\n",
       "      <td>None</td>\n",
       "      <td>None</td>\n",
       "      <td>...</td>\n",
       "      <td>1</td>\n",
       "      <td>NaN</td>\n",
       "      <td>NaN</td>\n",
       "      <td>23v1.1</td>\n",
       "      <td>NaN</td>\n",
       "      <td>40.771223</td>\n",
       "      <td>-73.964850</td>\n",
       "      <td>NaN</td>\n",
       "      <td>0.0</td>\n",
       "      <td>4788.678065</td>\n",
       "    </tr>\n",
       "    <tr>\n",
       "      <th>1920</th>\n",
       "      <td>31185</td>\n",
       "      <td>New York</td>\n",
       "      <td>NY</td>\n",
       "      <td>10027</td>\n",
       "      <td>None</td>\n",
       "      <td>None</td>\n",
       "      <td>None</td>\n",
       "      <td>None</td>\n",
       "      <td>None</td>\n",
       "      <td>None</td>\n",
       "      <td>...</td>\n",
       "      <td>1</td>\n",
       "      <td>NaN</td>\n",
       "      <td>NaN</td>\n",
       "      <td>23v1.1</td>\n",
       "      <td>NaN</td>\n",
       "      <td>40.807039</td>\n",
       "      <td>-73.944480</td>\n",
       "      <td>NaN</td>\n",
       "      <td>0.0</td>\n",
       "      <td>12869.472509</td>\n",
       "    </tr>\n",
       "    <tr>\n",
       "      <th>423896</th>\n",
       "      <td>41136</td>\n",
       "      <td>New York</td>\n",
       "      <td>NY</td>\n",
       "      <td>10027</td>\n",
       "      <td>None</td>\n",
       "      <td>None</td>\n",
       "      <td>None</td>\n",
       "      <td>None</td>\n",
       "      <td>None</td>\n",
       "      <td>None</td>\n",
       "      <td>...</td>\n",
       "      <td>1</td>\n",
       "      <td>NaN</td>\n",
       "      <td>NaN</td>\n",
       "      <td>23v1.1</td>\n",
       "      <td>NaN</td>\n",
       "      <td>40.807039</td>\n",
       "      <td>-73.944480</td>\n",
       "      <td>NaN</td>\n",
       "      <td>0.0</td>\n",
       "      <td>12869.472509</td>\n",
       "    </tr>\n",
       "    <tr>\n",
       "      <th>564289</th>\n",
       "      <td>35281</td>\n",
       "      <td>New York</td>\n",
       "      <td>NY</td>\n",
       "      <td>10027</td>\n",
       "      <td>None</td>\n",
       "      <td>None</td>\n",
       "      <td>None</td>\n",
       "      <td>None</td>\n",
       "      <td>None</td>\n",
       "      <td>None</td>\n",
       "      <td>...</td>\n",
       "      <td>1</td>\n",
       "      <td>NaN</td>\n",
       "      <td>NaN</td>\n",
       "      <td>23v1.1</td>\n",
       "      <td>NaN</td>\n",
       "      <td>40.807039</td>\n",
       "      <td>-73.944480</td>\n",
       "      <td>NaN</td>\n",
       "      <td>0.0</td>\n",
       "      <td>12869.472509</td>\n",
       "    </tr>\n",
       "  </tbody>\n",
       "</table>\n",
       "<p>5 rows × 198 columns</p>\n",
       "</div>"
      ],
      "text/plain": [
       "           id      city state    zip google_map_params building_bike_storage  \\\n",
       "959     15991  New York    NY  10028              None                  None   \n",
       "1267    20873  New York    NY  10021                                    None   \n",
       "1920    31185  New York    NY  10027              None                  None   \n",
       "423896  41136  New York    NY  10027              None                  None   \n",
       "564289  35281  New York    NY  10027              None                  None   \n",
       "\n",
       "       building_doorman building_elevator building_gym building_laundry  ...  \\\n",
       "959                None              None         None             None  ...   \n",
       "1267               True              True         None             None  ...   \n",
       "1920               None              None         None             None  ...   \n",
       "423896             None              None         None             None  ...   \n",
       "564289             None              None         None             None  ...   \n",
       "\n",
       "       PLUTOMapID FIRM07_FLA PFIRM15_FL Version DCPEdited   Latitude  \\\n",
       "959             1        NaN        NaN  23v1.1       NaN  40.774952   \n",
       "1267            1        NaN        NaN  23v1.1       NaN  40.771223   \n",
       "1920            1        NaN        NaN  23v1.1       NaN  40.807039   \n",
       "423896          1        NaN        NaN  23v1.1       NaN  40.807039   \n",
       "564289          1        NaN        NaN  23v1.1       NaN  40.807039   \n",
       "\n",
       "        Longitude  Notes Shape_Leng    Shape_Area  \n",
       "959    -73.955392    NaN        0.0   2595.442358  \n",
       "1267   -73.964850    NaN        0.0   4788.678065  \n",
       "1920   -73.944480    NaN        0.0  12869.472509  \n",
       "423896 -73.944480    NaN        0.0  12869.472509  \n",
       "564289 -73.944480    NaN        0.0  12869.472509  \n",
       "\n",
       "[5 rows x 198 columns]"
      ]
     },
     "execution_count": 72,
     "metadata": {},
     "output_type": "execute_result"
    }
   ],
   "source": [
    "sp1.head()"
   ]
  },
  {
   "cell_type": "code",
   "execution_count": 73,
   "metadata": {},
   "outputs": [],
   "source": [
    "sp1_matched = sp1[sp1['id'].isin(matched_buildings['id'])]"
   ]
  },
  {
   "cell_type": "code",
   "execution_count": 74,
   "metadata": {},
   "outputs": [
    {
     "data": {
      "text/plain": [
       "(344, 198)"
      ]
     },
     "execution_count": 74,
     "metadata": {},
     "output_type": "execute_result"
    }
   ],
   "source": [
    "sp1_matched.shape"
   ]
  },
  {
   "cell_type": "code",
   "execution_count": 75,
   "metadata": {},
   "outputs": [],
   "source": [
    "sp1_unmatched = sp1[~sp1['id'].isin(matched_buildings['id'])]"
   ]
  },
  {
   "cell_type": "code",
   "execution_count": 76,
   "metadata": {},
   "outputs": [],
   "source": [
    "sp1_matched.to_csv('data/sp1_matched.csv')\n",
    "sp1_unmatched.to_csv('data/sp1_unmatched.csv')"
   ]
  },
  {
   "cell_type": "code",
   "execution_count": 77,
   "metadata": {},
   "outputs": [
    {
     "data": {
      "text/plain": [
       "(1102, 198)"
      ]
     },
     "execution_count": 77,
     "metadata": {},
     "output_type": "execute_result"
    }
   ],
   "source": [
    "sp1_unmatched.shape"
   ]
  },
  {
   "cell_type": "code",
   "execution_count": 78,
   "metadata": {},
   "outputs": [
    {
     "data": {
      "text/plain": [
       "(142, 198)"
      ]
     },
     "execution_count": 78,
     "metadata": {},
     "output_type": "execute_result"
    }
   ],
   "source": [
    "sp1_unmatched_mn = sp1_unmatched[sp1_unmatched['Borough'] == 'MN']\n",
    "sp1_unmatched_mn.shape"
   ]
  },
  {
   "cell_type": "code",
   "execution_count": 79,
   "metadata": {},
   "outputs": [
    {
     "data": {
      "text/plain": [
       "(960, 198)"
      ]
     },
     "execution_count": 79,
     "metadata": {},
     "output_type": "execute_result"
    }
   ],
   "source": [
    "sp1_unmatched_not_mn = sp1_unmatched[sp1_unmatched['Borough'] != 'MN']\n",
    "sp1_unmatched_not_mn.shape"
   ]
  },
  {
   "attachments": {},
   "cell_type": "markdown",
   "metadata": {},
   "source": [
    "## Saving out the categories\n",
    "Need to save:\n",
    "  - Update Building\n",
    "    - update_df\n",
    "  - Manual Review:\n",
    "    - for_mlsli\n",
    "    - for_other\n",
    "    - for_rls\n",
    "    - from_pluto_post2017\n",
    "  - Deprecate:\n",
    "    - from_pluto_pre2017\n",
    "    - no_listings"
   ]
  },
  {
   "cell_type": "code",
   "execution_count": 80,
   "metadata": {},
   "outputs": [
    {
     "data": {
      "text/plain": [
       "Index(['Borough', 'Block', 'Lot', 'CD', 'BCT2020', 'BCTCB2020', 'CT2010',\n",
       "       'CB2010', 'SchoolDist', 'Council', 'ZipCode', 'FireComp', 'PolicePrct',\n",
       "       'HealthCent', 'HealthArea', 'Sanitboro', 'SanitDistr', 'SanitSub',\n",
       "       'Address', 'ZoneDist1', 'ZoneDist2', 'ZoneDist3', 'ZoneDist4',\n",
       "       'Overlay1', 'Overlay2', 'SPDist1', 'SPDist2', 'SPDist3', 'LtdHeight',\n",
       "       'SplitZone', 'BldgClass', 'LandUse', 'Easements', 'OwnerType',\n",
       "       'OwnerName', 'LotArea', 'BldgArea', 'ComArea', 'ResArea', 'OfficeArea',\n",
       "       'RetailArea', 'GarageArea', 'StrgeArea', 'FactryArea', 'OtherArea',\n",
       "       'AreaSource', 'NumBldgs', 'NumFloors', 'UnitsRes', 'UnitsTotal',\n",
       "       'LotFront', 'LotDepth', 'BldgFront', 'BldgDepth', 'Ext', 'ProxCode',\n",
       "       'IrrLotCode', 'LotType', 'BsmtCode', 'AssessLand', 'AssessTot',\n",
       "       'ExemptTot', 'YearBuilt', 'YearAlter1', 'YearAlter2', 'HistDist',\n",
       "       'Landmark', 'BuiltFAR', 'ResidFAR', 'CommFAR', 'FacilFAR', 'BoroCode',\n",
       "       'BBL', 'CondoNo', 'Tract2010', 'XCoord', 'YCoord', 'ZoneMap', 'ZMCode',\n",
       "       'Sanborn', 'TaxMap', 'EDesigNum', 'APPBBL', 'APPDate', 'PLUTOMapID',\n",
       "       'FIRM07_FLA', 'PFIRM15_FL', 'Version', 'DCPEdited', 'Latitude',\n",
       "       'Longitude', 'Notes', 'Shape_Leng', 'Shape_Area', 'geometry'],\n",
       "      dtype='object')"
      ]
     },
     "execution_count": 80,
     "metadata": {},
     "output_type": "execute_result"
    }
   ],
   "source": [
    "no_dupes_gdf.columns"
   ]
  },
  {
   "cell_type": "code",
   "execution_count": 81,
   "metadata": {},
   "outputs": [],
   "source": [
    "not_in_pw = no_dupes_gdf[~no_dupes_gdf['BBL'].isin(sp1['BBL'])]"
   ]
  },
  {
   "cell_type": "code",
   "execution_count": 82,
   "metadata": {},
   "outputs": [
    {
     "name": "stdout",
     "output_type": "stream",
     "text": [
      "947 284 663\n",
      "(1446, 198) (525, 198) (759, 198)\n"
     ]
    }
   ],
   "source": [
    "print(sp1['BBL'].nunique(), sp1_no_listings['BBL'].nunique(), sp1_has_listings['BBL'].nunique())\n",
    "print(sp1.shape, sp1_no_listings.shape, sp1_has_listings.shape)"
   ]
  },
  {
   "cell_type": "code",
   "execution_count": 83,
   "metadata": {},
   "outputs": [
    {
     "data": {
      "text/plain": [
       "(2133, 95)"
      ]
     },
     "execution_count": 83,
     "metadata": {},
     "output_type": "execute_result"
    }
   ],
   "source": [
    "no_dupes_gdf.shape"
   ]
  },
  {
   "cell_type": "code",
   "execution_count": 84,
   "metadata": {},
   "outputs": [
    {
     "data": {
      "text/plain": [
       "1186"
      ]
     },
     "execution_count": 84,
     "metadata": {},
     "output_type": "execute_result"
    }
   ],
   "source": [
    "not_in_pw['BBL'].nunique()"
   ]
  },
  {
   "cell_type": "code",
   "execution_count": 85,
   "metadata": {},
   "outputs": [
    {
     "data": {
      "text/plain": [
       "(19, 95)"
      ]
     },
     "execution_count": 85,
     "metadata": {},
     "output_type": "execute_result"
    }
   ],
   "source": [
    "not_in_pw[not_in_pw['Borough'] == 'MN'].shape"
   ]
  },
  {
   "cell_type": "code",
   "execution_count": 86,
   "metadata": {},
   "outputs": [
    {
     "data": {
      "text/plain": [
       "(1167, 95)"
      ]
     },
     "execution_count": 86,
     "metadata": {},
     "output_type": "execute_result"
    }
   ],
   "source": [
    "not_in_pw[not_in_pw['Borough'] != 'MN'].shape"
   ]
  },
  {
   "cell_type": "code",
   "execution_count": 87,
   "metadata": {},
   "outputs": [],
   "source": [
    "dupes_matched = dupes[dupes['bbl'].isin(preso['source_id'])] \n",
    "dupes_matched_post17 = dupes_matched[dupes_matched['yearbuilt'] >= 2017] #new construction\n",
    "dupes_matched_pre17 = dupes_matched[dupes_matched['yearbuilt'] < 2017] #update other building\n",
    "\n",
    "dupes_unmatched = dupes[~dupes['bbl'].isin(matched_buildings['bbl'])] # manual review"
   ]
  },
  {
   "cell_type": "code",
   "execution_count": 88,
   "metadata": {},
   "outputs": [
    {
     "data": {
      "text/plain": [
       "(0, 92)"
      ]
     },
     "execution_count": 88,
     "metadata": {},
     "output_type": "execute_result"
    }
   ],
   "source": [
    "dupes_matched.shape"
   ]
  },
  {
   "cell_type": "code",
   "execution_count": 89,
   "metadata": {},
   "outputs": [
    {
     "data": {
      "text/plain": [
       "559567    4.115550e+09\n",
       "640674    4.115550e+09\n",
       "797527    4.115550e+09\n",
       "218958    2.044700e+09\n",
       "758524    3.035180e+09\n",
       "              ...     \n",
       "515701    3.074350e+09\n",
       "341624    2.048580e+09\n",
       "333020    2.049020e+09\n",
       "550447    3.048880e+09\n",
       "748775    3.024360e+09\n",
       "Name: bbl, Length: 153, dtype: float64"
      ]
     },
     "execution_count": 89,
     "metadata": {},
     "output_type": "execute_result"
    }
   ],
   "source": [
    "dupes['bbl']"
   ]
  },
  {
   "cell_type": "code",
   "execution_count": 90,
   "metadata": {},
   "outputs": [
    {
     "data": {
      "text/plain": [
       "0         1.000730e+09\n",
       "1         1.000130e+09\n",
       "2         1.000360e+09\n",
       "3         1.000398e+09\n",
       "4         1.000100e+09\n",
       "              ...     \n",
       "749213    4.058720e+09\n",
       "749214    4.101220e+09\n",
       "749215    4.096830e+09\n",
       "749216    2.055790e+09\n",
       "749218             NaN\n",
       "Name: source_id, Length: 744425, dtype: float64"
      ]
     },
     "execution_count": 90,
     "metadata": {},
     "output_type": "execute_result"
    }
   ],
   "source": [
    "preso.source_id"
   ]
  },
  {
   "cell_type": "code",
   "execution_count": 91,
   "metadata": {},
   "outputs": [
    {
     "data": {
      "text/plain": [
       "559567    4.115550e+09\n",
       "640674    4.115550e+09\n",
       "797527    4.115550e+09\n",
       "218958    2.044700e+09\n",
       "758524    3.035180e+09\n",
       "              ...     \n",
       "515701    3.074350e+09\n",
       "341624    2.048580e+09\n",
       "333020    2.049020e+09\n",
       "550447    3.048880e+09\n",
       "748775    3.024360e+09\n",
       "Name: bbl, Length: 153, dtype: float64"
      ]
     },
     "execution_count": 91,
     "metadata": {},
     "output_type": "execute_result"
    }
   ],
   "source": [
    "dupes_unmatched.bbl"
   ]
  },
  {
   "cell_type": "code",
   "execution_count": 92,
   "metadata": {},
   "outputs": [
    {
     "data": {
      "text/plain": [
       "134"
      ]
     },
     "execution_count": 92,
     "metadata": {},
     "output_type": "execute_result"
    }
   ],
   "source": [
    "merge_check = sp1_has_listings.groupby('BBL')['id'].nunique()\n",
    "sp1_has_listings[sp1_has_listings['BBL'].isin(merge_check[merge_check > 1].index)]['id'].nunique()"
   ]
  },
  {
   "cell_type": "code",
   "execution_count": 93,
   "metadata": {},
   "outputs": [
    {
     "data": {
      "text/plain": [
       "0"
      ]
     },
     "execution_count": 93,
     "metadata": {},
     "output_type": "execute_result"
    }
   ],
   "source": [
    "split_check = sp1_has_listings.groupby('id')['BBL'].nunique()\n",
    "sp1_has_listings[sp1_has_listings['id'].isin(split_check[split_check > 1].index)]['BBL'].nunique()"
   ]
  },
  {
   "cell_type": "code",
   "execution_count": 94,
   "metadata": {},
   "outputs": [
    {
     "data": {
      "text/plain": [
       "id\n",
       "115        False\n",
       "1896       False\n",
       "2566       False\n",
       "2646       False\n",
       "2828       False\n",
       "           ...  \n",
       "1826711    False\n",
       "1826906    False\n",
       "5108856    False\n",
       "5108860    False\n",
       "7069212    False\n",
       "Name: BBL, Length: 759, dtype: bool"
      ]
     },
     "execution_count": 94,
     "metadata": {},
     "output_type": "execute_result"
    }
   ],
   "source": [
    "split_check > 1"
   ]
  },
  {
   "cell_type": "code",
   "execution_count": 95,
   "metadata": {},
   "outputs": [],
   "source": [
    "sp1_has_listings = sp1_has_listings.drop(['index_right'], axis=1)\n",
    "sp2 = gpd.sjoin(preso_gdf, sp1_has_listings, how = 'inner', op = 'intersects')"
   ]
  },
  {
   "cell_type": "code",
   "execution_count": 96,
   "metadata": {},
   "outputs": [],
   "source": [
    "for x in preso_gdf.columns:\n",
    "    if 'index' in x:\n",
    "        print('preso', x)\n",
    "for x in sp1_has_listings.columns:\n",
    "    if 'index' in x:\n",
    "        print(x)"
   ]
  },
  {
   "cell_type": "code",
   "execution_count": 97,
   "metadata": {},
   "outputs": [
    {
     "data": {
      "text/plain": [
       "Index(['Borough', 'Block', 'Lot', 'CD', 'BCT2020', 'BCTCB2020', 'CT2010',\n",
       "       'CB2010', 'SchoolDist', 'Council', 'ZipCode', 'FireComp', 'PolicePrct',\n",
       "       'HealthCent', 'HealthArea', 'Sanitboro', 'SanitDistr', 'SanitSub',\n",
       "       'Address', 'ZoneDist1', 'ZoneDist2', 'ZoneDist3', 'ZoneDist4',\n",
       "       'Overlay1', 'Overlay2', 'SPDist1', 'SPDist2', 'SPDist3', 'LtdHeight',\n",
       "       'SplitZone', 'BldgClass', 'LandUse', 'Easements', 'OwnerType',\n",
       "       'OwnerName', 'LotArea', 'BldgArea', 'ComArea', 'ResArea', 'OfficeArea',\n",
       "       'RetailArea', 'GarageArea', 'StrgeArea', 'FactryArea', 'OtherArea',\n",
       "       'AreaSource', 'NumBldgs', 'NumFloors', 'UnitsRes', 'UnitsTotal',\n",
       "       'LotFront', 'LotDepth', 'BldgFront', 'BldgDepth', 'Ext', 'ProxCode',\n",
       "       'IrrLotCode', 'LotType', 'BsmtCode', 'AssessLand', 'AssessTot',\n",
       "       'ExemptTot', 'YearBuilt', 'YearAlter1', 'YearAlter2', 'HistDist',\n",
       "       'Landmark', 'BuiltFAR', 'ResidFAR', 'CommFAR', 'FacilFAR', 'BoroCode',\n",
       "       'BBL', 'CondoNo', 'Tract2010', 'XCoord', 'YCoord', 'ZoneMap', 'ZMCode',\n",
       "       'Sanborn', 'TaxMap', 'EDesigNum', 'APPBBL', 'APPDate', 'PLUTOMapID',\n",
       "       'FIRM07_FLA', 'PFIRM15_FL', 'Version', 'DCPEdited', 'Latitude',\n",
       "       'Longitude', 'Notes', 'Shape_Leng', 'Shape_Area', 'geometry'],\n",
       "      dtype='object')"
      ]
     },
     "execution_count": 97,
     "metadata": {},
     "output_type": "execute_result"
    }
   ],
   "source": [
    "gdf.columns"
   ]
  },
  {
   "cell_type": "code",
   "execution_count": 98,
   "metadata": {},
   "outputs": [
    {
     "data": {
      "text/plain": [
       "Index(['id', 'city', 'state', 'zip', 'google_map_params',\n",
       "       'building_bike_storage', 'building_doorman', 'building_elevator',\n",
       "       'building_gym', 'building_laundry',\n",
       "       ...\n",
       "       'num_mlsli', 'last_mlsli_listing', 'building_id', 'num_other_listings',\n",
       "       'last_listing', 'building_id', 'num_acris', 'last_acris_created',\n",
       "       'last_acris_sale', 'geometry_json'],\n",
       "      dtype='object', length=105)"
      ]
     },
     "execution_count": 98,
     "metadata": {},
     "output_type": "execute_result"
    }
   ],
   "source": [
    "preso_gdf.columns"
   ]
  },
  {
   "cell_type": "code",
   "execution_count": 99,
   "metadata": {},
   "outputs": [
    {
     "data": {
      "text/html": [
       "<div>\n",
       "<style scoped>\n",
       "    .dataframe tbody tr th:only-of-type {\n",
       "        vertical-align: middle;\n",
       "    }\n",
       "\n",
       "    .dataframe tbody tr th {\n",
       "        vertical-align: top;\n",
       "    }\n",
       "\n",
       "    .dataframe thead th {\n",
       "        text-align: right;\n",
       "    }\n",
       "</style>\n",
       "<table border=\"1\" class=\"dataframe\">\n",
       "  <thead>\n",
       "    <tr style=\"text-align: right;\">\n",
       "      <th></th>\n",
       "      <th>id_left</th>\n",
       "      <th>city_left</th>\n",
       "      <th>state_left</th>\n",
       "      <th>zip_left</th>\n",
       "      <th>google_map_params_left</th>\n",
       "      <th>building_bike_storage_left</th>\n",
       "      <th>building_doorman_left</th>\n",
       "      <th>building_elevator_left</th>\n",
       "      <th>building_gym_left</th>\n",
       "      <th>building_laundry_left</th>\n",
       "      <th>...</th>\n",
       "      <th>PLUTOMapID</th>\n",
       "      <th>FIRM07_FLA</th>\n",
       "      <th>PFIRM15_FL</th>\n",
       "      <th>Version</th>\n",
       "      <th>DCPEdited</th>\n",
       "      <th>Latitude</th>\n",
       "      <th>Longitude</th>\n",
       "      <th>Notes</th>\n",
       "      <th>Shape_Leng</th>\n",
       "      <th>Shape_Area</th>\n",
       "    </tr>\n",
       "  </thead>\n",
       "  <tbody>\n",
       "    <tr>\n",
       "      <th>959</th>\n",
       "      <td>15991</td>\n",
       "      <td>New York</td>\n",
       "      <td>NY</td>\n",
       "      <td>10028</td>\n",
       "      <td>None</td>\n",
       "      <td>None</td>\n",
       "      <td>None</td>\n",
       "      <td>None</td>\n",
       "      <td>None</td>\n",
       "      <td>None</td>\n",
       "      <td>...</td>\n",
       "      <td>1</td>\n",
       "      <td>NaN</td>\n",
       "      <td>NaN</td>\n",
       "      <td>23v1.1</td>\n",
       "      <td>NaN</td>\n",
       "      <td>40.774952</td>\n",
       "      <td>-73.955392</td>\n",
       "      <td>NaN</td>\n",
       "      <td>0.0</td>\n",
       "      <td>2595.442358</td>\n",
       "    </tr>\n",
       "    <tr>\n",
       "      <th>1267</th>\n",
       "      <td>20873</td>\n",
       "      <td>New York</td>\n",
       "      <td>NY</td>\n",
       "      <td>10021</td>\n",
       "      <td></td>\n",
       "      <td>None</td>\n",
       "      <td>True</td>\n",
       "      <td>True</td>\n",
       "      <td>None</td>\n",
       "      <td>None</td>\n",
       "      <td>...</td>\n",
       "      <td>1</td>\n",
       "      <td>NaN</td>\n",
       "      <td>NaN</td>\n",
       "      <td>23v1.1</td>\n",
       "      <td>NaN</td>\n",
       "      <td>40.771223</td>\n",
       "      <td>-73.964850</td>\n",
       "      <td>NaN</td>\n",
       "      <td>0.0</td>\n",
       "      <td>4788.678065</td>\n",
       "    </tr>\n",
       "    <tr>\n",
       "      <th>2300</th>\n",
       "      <td>36726</td>\n",
       "      <td>New York</td>\n",
       "      <td>NY</td>\n",
       "      <td>10032</td>\n",
       "      <td>None</td>\n",
       "      <td>None</td>\n",
       "      <td>None</td>\n",
       "      <td>None</td>\n",
       "      <td>None</td>\n",
       "      <td>None</td>\n",
       "      <td>...</td>\n",
       "      <td>1</td>\n",
       "      <td>NaN</td>\n",
       "      <td>NaN</td>\n",
       "      <td>23v1.1</td>\n",
       "      <td>NaN</td>\n",
       "      <td>40.836486</td>\n",
       "      <td>-73.942308</td>\n",
       "      <td>NaN</td>\n",
       "      <td>0.0</td>\n",
       "      <td>4042.880381</td>\n",
       "    </tr>\n",
       "    <tr>\n",
       "      <th>2810</th>\n",
       "      <td>45331</td>\n",
       "      <td>Brooklyn</td>\n",
       "      <td>NY</td>\n",
       "      <td>11210</td>\n",
       "      <td>None</td>\n",
       "      <td>None</td>\n",
       "      <td>None</td>\n",
       "      <td>None</td>\n",
       "      <td>None</td>\n",
       "      <td>None</td>\n",
       "      <td>...</td>\n",
       "      <td>1</td>\n",
       "      <td>NaN</td>\n",
       "      <td>NaN</td>\n",
       "      <td>23v1.1</td>\n",
       "      <td>NaN</td>\n",
       "      <td>40.632673</td>\n",
       "      <td>-73.944412</td>\n",
       "      <td>NaN</td>\n",
       "      <td>0.0</td>\n",
       "      <td>2194.139191</td>\n",
       "    </tr>\n",
       "    <tr>\n",
       "      <th>2979</th>\n",
       "      <td>48096</td>\n",
       "      <td>Brooklyn</td>\n",
       "      <td>NY</td>\n",
       "      <td>11216</td>\n",
       "      <td>None</td>\n",
       "      <td>None</td>\n",
       "      <td>None</td>\n",
       "      <td>None</td>\n",
       "      <td>None</td>\n",
       "      <td>None</td>\n",
       "      <td>...</td>\n",
       "      <td>1</td>\n",
       "      <td>NaN</td>\n",
       "      <td>NaN</td>\n",
       "      <td>23v1.1</td>\n",
       "      <td>NaN</td>\n",
       "      <td>40.683001</td>\n",
       "      <td>-73.944154</td>\n",
       "      <td>NaN</td>\n",
       "      <td>0.0</td>\n",
       "      <td>8178.308193</td>\n",
       "    </tr>\n",
       "  </tbody>\n",
       "</table>\n",
       "<p>5 rows × 302 columns</p>\n",
       "</div>"
      ],
      "text/plain": [
       "      id_left city_left state_left zip_left google_map_params_left  \\\n",
       "959     15991  New York         NY    10028                   None   \n",
       "1267    20873  New York         NY    10021                          \n",
       "2300    36726  New York         NY    10032                   None   \n",
       "2810    45331  Brooklyn         NY    11210                   None   \n",
       "2979    48096  Brooklyn         NY    11216                   None   \n",
       "\n",
       "     building_bike_storage_left building_doorman_left building_elevator_left  \\\n",
       "959                        None                  None                   None   \n",
       "1267                       None                  True                   True   \n",
       "2300                       None                  None                   None   \n",
       "2810                       None                  None                   None   \n",
       "2979                       None                  None                   None   \n",
       "\n",
       "     building_gym_left building_laundry_left  ... PLUTOMapID FIRM07_FLA  \\\n",
       "959               None                  None  ...          1        NaN   \n",
       "1267              None                  None  ...          1        NaN   \n",
       "2300              None                  None  ...          1        NaN   \n",
       "2810              None                  None  ...          1        NaN   \n",
       "2979              None                  None  ...          1        NaN   \n",
       "\n",
       "     PFIRM15_FL Version DCPEdited   Latitude  Longitude  Notes Shape_Leng  \\\n",
       "959         NaN  23v1.1       NaN  40.774952 -73.955392    NaN        0.0   \n",
       "1267        NaN  23v1.1       NaN  40.771223 -73.964850    NaN        0.0   \n",
       "2300        NaN  23v1.1       NaN  40.836486 -73.942308    NaN        0.0   \n",
       "2810        NaN  23v1.1       NaN  40.632673 -73.944412    NaN        0.0   \n",
       "2979        NaN  23v1.1       NaN  40.683001 -73.944154    NaN        0.0   \n",
       "\n",
       "       Shape_Area  \n",
       "959   2595.442358  \n",
       "1267  4788.678065  \n",
       "2300  4042.880381  \n",
       "2810  2194.139191  \n",
       "2979  8178.308193  \n",
       "\n",
       "[5 rows x 302 columns]"
      ]
     },
     "execution_count": 99,
     "metadata": {},
     "output_type": "execute_result"
    }
   ],
   "source": [
    "sp2.head()"
   ]
  },
  {
   "cell_type": "code",
   "execution_count": 100,
   "metadata": {},
   "outputs": [
    {
     "data": {
      "text/plain": [
       "789"
      ]
     },
     "execution_count": 100,
     "metadata": {},
     "output_type": "execute_result"
    }
   ],
   "source": [
    "sp2['id_left'].nunique()"
   ]
  },
  {
   "cell_type": "code",
   "execution_count": 101,
   "metadata": {},
   "outputs": [
    {
     "data": {
      "text/plain": [
       "726"
      ]
     },
     "execution_count": 101,
     "metadata": {},
     "output_type": "execute_result"
    }
   ],
   "source": [
    "sp2['source_id_left'].nunique()"
   ]
  },
  {
   "cell_type": "code",
   "execution_count": 102,
   "metadata": {},
   "outputs": [
    {
     "data": {
      "text/plain": [
       "657"
      ]
     },
     "execution_count": 102,
     "metadata": {},
     "output_type": "execute_result"
    }
   ],
   "source": [
    "sp2['BBL'].nunique()"
   ]
  },
  {
   "cell_type": "code",
   "execution_count": 103,
   "metadata": {},
   "outputs": [],
   "source": [
    "sp2_grouped = sp2.groupby('BBL')['id_left'].nunique()"
   ]
  },
  {
   "cell_type": "code",
   "execution_count": 104,
   "metadata": {},
   "outputs": [
    {
     "data": {
      "text/plain": [
       "BBL\n",
       "1.000638e+09    3\n",
       "1.003468e+09    2\n",
       "1.003468e+09    2\n",
       "1.004268e+09    2\n",
       "1.006938e+09    2\n",
       "               ..\n",
       "4.123900e+09    2\n",
       "4.124580e+09    2\n",
       "4.157930e+09    2\n",
       "4.160050e+09    3\n",
       "4.161668e+09    4\n",
       "Name: id_left, Length: 72, dtype: int64"
      ]
     },
     "execution_count": 104,
     "metadata": {},
     "output_type": "execute_result"
    }
   ],
   "source": [
    "sp2_grouped[sp2_grouped > 1]"
   ]
  },
  {
   "cell_type": "code",
   "execution_count": 105,
   "metadata": {},
   "outputs": [
    {
     "data": {
      "text/plain": [
       "BBL\n",
       "1.000168e+09    1\n",
       "1.001418e+09    1\n",
       "1.002240e+09    1\n",
       "1.002250e+09    1\n",
       "1.002760e+09    1\n",
       "               ..\n",
       "4.160620e+09    1\n",
       "4.160640e+09    1\n",
       "4.161180e+09    1\n",
       "4.161260e+09    1\n",
       "4.161560e+09    1\n",
       "Name: id_left, Length: 585, dtype: int64"
      ]
     },
     "execution_count": 105,
     "metadata": {},
     "output_type": "execute_result"
    }
   ],
   "source": [
    "sp2_grouped[sp2_grouped == 1]"
   ]
  },
  {
   "cell_type": "code",
   "execution_count": 106,
   "metadata": {},
   "outputs": [],
   "source": [
    "sp2_grouped2 = sp2.groupby('id_left')['BBL'].nunique()"
   ]
  },
  {
   "cell_type": "code",
   "execution_count": 107,
   "metadata": {},
   "outputs": [
    {
     "data": {
      "text/plain": [
       "id_left\n",
       "124930    2\n",
       "220639    3\n",
       "627858    2\n",
       "629054    2\n",
       "650816    2\n",
       "654401    2\n",
       "661534    2\n",
       "Name: BBL, dtype: int64"
      ]
     },
     "execution_count": 107,
     "metadata": {},
     "output_type": "execute_result"
    }
   ],
   "source": [
    "sp2_grouped2[sp2_grouped2 > 1]"
   ]
  },
  {
   "cell_type": "code",
   "execution_count": 108,
   "metadata": {},
   "outputs": [
    {
     "data": {
      "text/plain": [
       "id_left\n",
       "115        1\n",
       "1896       1\n",
       "2566       1\n",
       "2646       1\n",
       "2828       1\n",
       "          ..\n",
       "1826711    1\n",
       "1826906    1\n",
       "5108856    1\n",
       "5108860    1\n",
       "7069212    1\n",
       "Name: BBL, Length: 782, dtype: int64"
      ]
     },
     "execution_count": 108,
     "metadata": {},
     "output_type": "execute_result"
    }
   ],
   "source": [
    "sp2_grouped2[sp2_grouped2 == 1]"
   ]
  },
  {
   "cell_type": "code",
   "execution_count": 109,
   "metadata": {},
   "outputs": [
    {
     "data": {
      "text/plain": [
       "(759, 197)"
      ]
     },
     "execution_count": 109,
     "metadata": {},
     "output_type": "execute_result"
    }
   ],
   "source": [
    "sp1_has_listings.shape"
   ]
  },
  {
   "cell_type": "code",
   "execution_count": 110,
   "metadata": {},
   "outputs": [
    {
     "data": {
      "text/plain": [
       "BBL\n",
       "1.000168e+09    1\n",
       "1.000638e+09    3\n",
       "1.001418e+09    1\n",
       "1.002240e+09    1\n",
       "1.002250e+09    1\n",
       "               ..\n",
       "4.160640e+09    1\n",
       "4.161180e+09    1\n",
       "4.161260e+09    1\n",
       "4.161560e+09    1\n",
       "4.161668e+09    4\n",
       "Name: id_left, Length: 657, dtype: int64"
      ]
     },
     "execution_count": 110,
     "metadata": {},
     "output_type": "execute_result"
    }
   ],
   "source": [
    "sp2_grouped"
   ]
  },
  {
   "cell_type": "code",
   "execution_count": 111,
   "metadata": {},
   "outputs": [
    {
     "data": {
      "text/plain": [
       "BBL\n",
       "1.000168e+09    1\n",
       "1.001418e+09    1\n",
       "1.002240e+09    1\n",
       "1.002250e+09    1\n",
       "1.002760e+09    1\n",
       "               ..\n",
       "4.160620e+09    1\n",
       "4.160640e+09    1\n",
       "4.161180e+09    1\n",
       "4.161260e+09    1\n",
       "4.161560e+09    1\n",
       "Name: id_left, Length: 585, dtype: int64"
      ]
     },
     "execution_count": 111,
     "metadata": {},
     "output_type": "execute_result"
    }
   ],
   "source": [
    "sp2_grouped[sp2_grouped == 1]"
   ]
  },
  {
   "cell_type": "code",
   "execution_count": 112,
   "metadata": {},
   "outputs": [
    {
     "data": {
      "text/plain": [
       "id_left\n",
       "124930    2\n",
       "220639    3\n",
       "627858    2\n",
       "629054    2\n",
       "650816    2\n",
       "654401    2\n",
       "661534    2\n",
       "Name: BBL, dtype: int64"
      ]
     },
     "execution_count": 112,
     "metadata": {},
     "output_type": "execute_result"
    }
   ],
   "source": [
    "sp2_grouped2[sp2_grouped2 > 1]"
   ]
  },
  {
   "cell_type": "code",
   "execution_count": 113,
   "metadata": {},
   "outputs": [],
   "source": [
    "update_buildings_pluto = sp2_grouped[sp2_grouped == 1]"
   ]
  },
  {
   "cell_type": "code",
   "execution_count": 114,
   "metadata": {},
   "outputs": [
    {
     "data": {
      "text/html": [
       "<div>\n",
       "<style scoped>\n",
       "    .dataframe tbody tr th:only-of-type {\n",
       "        vertical-align: middle;\n",
       "    }\n",
       "\n",
       "    .dataframe tbody tr th {\n",
       "        vertical-align: top;\n",
       "    }\n",
       "\n",
       "    .dataframe thead th {\n",
       "        text-align: right;\n",
       "    }\n",
       "</style>\n",
       "<table border=\"1\" class=\"dataframe\">\n",
       "  <thead>\n",
       "    <tr style=\"text-align: right;\">\n",
       "      <th></th>\n",
       "      <th>id_left</th>\n",
       "      <th>city_left</th>\n",
       "      <th>state_left</th>\n",
       "      <th>zip_left</th>\n",
       "      <th>google_map_params_left</th>\n",
       "      <th>building_bike_storage_left</th>\n",
       "      <th>building_doorman_left</th>\n",
       "      <th>building_elevator_left</th>\n",
       "      <th>building_gym_left</th>\n",
       "      <th>building_laundry_left</th>\n",
       "      <th>...</th>\n",
       "      <th>PLUTOMapID</th>\n",
       "      <th>FIRM07_FLA</th>\n",
       "      <th>PFIRM15_FL</th>\n",
       "      <th>Version</th>\n",
       "      <th>DCPEdited</th>\n",
       "      <th>Latitude</th>\n",
       "      <th>Longitude</th>\n",
       "      <th>Notes</th>\n",
       "      <th>Shape_Leng</th>\n",
       "      <th>Shape_Area</th>\n",
       "    </tr>\n",
       "  </thead>\n",
       "  <tbody>\n",
       "    <tr>\n",
       "      <th>959</th>\n",
       "      <td>15991</td>\n",
       "      <td>New York</td>\n",
       "      <td>NY</td>\n",
       "      <td>10028</td>\n",
       "      <td>None</td>\n",
       "      <td>None</td>\n",
       "      <td>None</td>\n",
       "      <td>None</td>\n",
       "      <td>None</td>\n",
       "      <td>None</td>\n",
       "      <td>...</td>\n",
       "      <td>1</td>\n",
       "      <td>NaN</td>\n",
       "      <td>NaN</td>\n",
       "      <td>23v1.1</td>\n",
       "      <td>NaN</td>\n",
       "      <td>40.774952</td>\n",
       "      <td>-73.955392</td>\n",
       "      <td>NaN</td>\n",
       "      <td>0.0</td>\n",
       "      <td>2595.442358</td>\n",
       "    </tr>\n",
       "    <tr>\n",
       "      <th>1267</th>\n",
       "      <td>20873</td>\n",
       "      <td>New York</td>\n",
       "      <td>NY</td>\n",
       "      <td>10021</td>\n",
       "      <td></td>\n",
       "      <td>None</td>\n",
       "      <td>True</td>\n",
       "      <td>True</td>\n",
       "      <td>None</td>\n",
       "      <td>None</td>\n",
       "      <td>...</td>\n",
       "      <td>1</td>\n",
       "      <td>NaN</td>\n",
       "      <td>NaN</td>\n",
       "      <td>23v1.1</td>\n",
       "      <td>NaN</td>\n",
       "      <td>40.771223</td>\n",
       "      <td>-73.964850</td>\n",
       "      <td>NaN</td>\n",
       "      <td>0.0</td>\n",
       "      <td>4788.678065</td>\n",
       "    </tr>\n",
       "    <tr>\n",
       "      <th>2300</th>\n",
       "      <td>36726</td>\n",
       "      <td>New York</td>\n",
       "      <td>NY</td>\n",
       "      <td>10032</td>\n",
       "      <td>None</td>\n",
       "      <td>None</td>\n",
       "      <td>None</td>\n",
       "      <td>None</td>\n",
       "      <td>None</td>\n",
       "      <td>None</td>\n",
       "      <td>...</td>\n",
       "      <td>1</td>\n",
       "      <td>NaN</td>\n",
       "      <td>NaN</td>\n",
       "      <td>23v1.1</td>\n",
       "      <td>NaN</td>\n",
       "      <td>40.836486</td>\n",
       "      <td>-73.942308</td>\n",
       "      <td>NaN</td>\n",
       "      <td>0.0</td>\n",
       "      <td>4042.880381</td>\n",
       "    </tr>\n",
       "    <tr>\n",
       "      <th>2810</th>\n",
       "      <td>45331</td>\n",
       "      <td>Brooklyn</td>\n",
       "      <td>NY</td>\n",
       "      <td>11210</td>\n",
       "      <td>None</td>\n",
       "      <td>None</td>\n",
       "      <td>None</td>\n",
       "      <td>None</td>\n",
       "      <td>None</td>\n",
       "      <td>None</td>\n",
       "      <td>...</td>\n",
       "      <td>1</td>\n",
       "      <td>NaN</td>\n",
       "      <td>NaN</td>\n",
       "      <td>23v1.1</td>\n",
       "      <td>NaN</td>\n",
       "      <td>40.632673</td>\n",
       "      <td>-73.944412</td>\n",
       "      <td>NaN</td>\n",
       "      <td>0.0</td>\n",
       "      <td>2194.139191</td>\n",
       "    </tr>\n",
       "    <tr>\n",
       "      <th>5289</th>\n",
       "      <td>85000</td>\n",
       "      <td>Brooklyn</td>\n",
       "      <td>NY</td>\n",
       "      <td>11220</td>\n",
       "      <td>None</td>\n",
       "      <td>None</td>\n",
       "      <td>None</td>\n",
       "      <td>None</td>\n",
       "      <td>None</td>\n",
       "      <td>None</td>\n",
       "      <td>...</td>\n",
       "      <td>1</td>\n",
       "      <td>NaN</td>\n",
       "      <td>NaN</td>\n",
       "      <td>23v1.1</td>\n",
       "      <td>NaN</td>\n",
       "      <td>40.635227</td>\n",
       "      <td>-74.008607</td>\n",
       "      <td>NaN</td>\n",
       "      <td>0.0</td>\n",
       "      <td>2537.012498</td>\n",
       "    </tr>\n",
       "  </tbody>\n",
       "</table>\n",
       "<p>5 rows × 302 columns</p>\n",
       "</div>"
      ],
      "text/plain": [
       "      id_left city_left state_left zip_left google_map_params_left  \\\n",
       "959     15991  New York         NY    10028                   None   \n",
       "1267    20873  New York         NY    10021                          \n",
       "2300    36726  New York         NY    10032                   None   \n",
       "2810    45331  Brooklyn         NY    11210                   None   \n",
       "5289    85000  Brooklyn         NY    11220                   None   \n",
       "\n",
       "     building_bike_storage_left building_doorman_left building_elevator_left  \\\n",
       "959                        None                  None                   None   \n",
       "1267                       None                  True                   True   \n",
       "2300                       None                  None                   None   \n",
       "2810                       None                  None                   None   \n",
       "5289                       None                  None                   None   \n",
       "\n",
       "     building_gym_left building_laundry_left  ... PLUTOMapID FIRM07_FLA  \\\n",
       "959               None                  None  ...          1        NaN   \n",
       "1267              None                  None  ...          1        NaN   \n",
       "2300              None                  None  ...          1        NaN   \n",
       "2810              None                  None  ...          1        NaN   \n",
       "5289              None                  None  ...          1        NaN   \n",
       "\n",
       "     PFIRM15_FL Version DCPEdited   Latitude  Longitude  Notes Shape_Leng  \\\n",
       "959         NaN  23v1.1       NaN  40.774952 -73.955392    NaN        0.0   \n",
       "1267        NaN  23v1.1       NaN  40.771223 -73.964850    NaN        0.0   \n",
       "2300        NaN  23v1.1       NaN  40.836486 -73.942308    NaN        0.0   \n",
       "2810        NaN  23v1.1       NaN  40.632673 -73.944412    NaN        0.0   \n",
       "5289        NaN  23v1.1       NaN  40.635227 -74.008607    NaN        0.0   \n",
       "\n",
       "       Shape_Area  \n",
       "959   2595.442358  \n",
       "1267  4788.678065  \n",
       "2300  4042.880381  \n",
       "2810  2194.139191  \n",
       "5289  2537.012498  \n",
       "\n",
       "[5 rows x 302 columns]"
      ]
     },
     "execution_count": 114,
     "metadata": {},
     "output_type": "execute_result"
    }
   ],
   "source": [
    "sp2_update_buildings = sp2[sp2['BBL'].isin(update_buildings_pluto.index)]\n",
    "sp2_update_buildings.head()"
   ]
  },
  {
   "cell_type": "code",
   "execution_count": 115,
   "metadata": {},
   "outputs": [
    {
     "data": {
      "text/html": [
       "<div>\n",
       "<style scoped>\n",
       "    .dataframe tbody tr th:only-of-type {\n",
       "        vertical-align: middle;\n",
       "    }\n",
       "\n",
       "    .dataframe tbody tr th {\n",
       "        vertical-align: top;\n",
       "    }\n",
       "\n",
       "    .dataframe thead th {\n",
       "        text-align: right;\n",
       "    }\n",
       "</style>\n",
       "<table border=\"1\" class=\"dataframe\">\n",
       "  <thead>\n",
       "    <tr style=\"text-align: right;\">\n",
       "      <th></th>\n",
       "      <th>id</th>\n",
       "      <th>city</th>\n",
       "      <th>state</th>\n",
       "      <th>zip</th>\n",
       "      <th>google_map_params</th>\n",
       "      <th>building_bike_storage</th>\n",
       "      <th>building_doorman</th>\n",
       "      <th>building_elevator</th>\n",
       "      <th>building_gym</th>\n",
       "      <th>building_laundry</th>\n",
       "      <th>...</th>\n",
       "      <th>PLUTOMapID</th>\n",
       "      <th>FIRM07_FLA</th>\n",
       "      <th>PFIRM15_FL</th>\n",
       "      <th>Version</th>\n",
       "      <th>DCPEdited</th>\n",
       "      <th>Latitude</th>\n",
       "      <th>Longitude</th>\n",
       "      <th>Notes</th>\n",
       "      <th>Shape_Leng</th>\n",
       "      <th>Shape_Area</th>\n",
       "    </tr>\n",
       "  </thead>\n",
       "  <tbody>\n",
       "    <tr>\n",
       "      <th>959</th>\n",
       "      <td>15991</td>\n",
       "      <td>New York</td>\n",
       "      <td>NY</td>\n",
       "      <td>10028</td>\n",
       "      <td>None</td>\n",
       "      <td>None</td>\n",
       "      <td>None</td>\n",
       "      <td>None</td>\n",
       "      <td>None</td>\n",
       "      <td>None</td>\n",
       "      <td>...</td>\n",
       "      <td>1</td>\n",
       "      <td>NaN</td>\n",
       "      <td>NaN</td>\n",
       "      <td>23v1.1</td>\n",
       "      <td>NaN</td>\n",
       "      <td>40.774952</td>\n",
       "      <td>-73.955392</td>\n",
       "      <td>NaN</td>\n",
       "      <td>0.0</td>\n",
       "      <td>2595.442358</td>\n",
       "    </tr>\n",
       "    <tr>\n",
       "      <th>1267</th>\n",
       "      <td>20873</td>\n",
       "      <td>New York</td>\n",
       "      <td>NY</td>\n",
       "      <td>10021</td>\n",
       "      <td></td>\n",
       "      <td>None</td>\n",
       "      <td>True</td>\n",
       "      <td>True</td>\n",
       "      <td>None</td>\n",
       "      <td>None</td>\n",
       "      <td>...</td>\n",
       "      <td>1</td>\n",
       "      <td>NaN</td>\n",
       "      <td>NaN</td>\n",
       "      <td>23v1.1</td>\n",
       "      <td>NaN</td>\n",
       "      <td>40.771223</td>\n",
       "      <td>-73.964850</td>\n",
       "      <td>NaN</td>\n",
       "      <td>0.0</td>\n",
       "      <td>4788.678065</td>\n",
       "    </tr>\n",
       "    <tr>\n",
       "      <th>2300</th>\n",
       "      <td>36726</td>\n",
       "      <td>New York</td>\n",
       "      <td>NY</td>\n",
       "      <td>10032</td>\n",
       "      <td>None</td>\n",
       "      <td>None</td>\n",
       "      <td>None</td>\n",
       "      <td>None</td>\n",
       "      <td>None</td>\n",
       "      <td>None</td>\n",
       "      <td>...</td>\n",
       "      <td>1</td>\n",
       "      <td>NaN</td>\n",
       "      <td>NaN</td>\n",
       "      <td>23v1.1</td>\n",
       "      <td>NaN</td>\n",
       "      <td>40.836486</td>\n",
       "      <td>-73.942308</td>\n",
       "      <td>NaN</td>\n",
       "      <td>0.0</td>\n",
       "      <td>4042.880381</td>\n",
       "    </tr>\n",
       "    <tr>\n",
       "      <th>2810</th>\n",
       "      <td>45331</td>\n",
       "      <td>Brooklyn</td>\n",
       "      <td>NY</td>\n",
       "      <td>11210</td>\n",
       "      <td>None</td>\n",
       "      <td>None</td>\n",
       "      <td>None</td>\n",
       "      <td>None</td>\n",
       "      <td>None</td>\n",
       "      <td>None</td>\n",
       "      <td>...</td>\n",
       "      <td>1</td>\n",
       "      <td>NaN</td>\n",
       "      <td>NaN</td>\n",
       "      <td>23v1.1</td>\n",
       "      <td>NaN</td>\n",
       "      <td>40.632673</td>\n",
       "      <td>-73.944412</td>\n",
       "      <td>NaN</td>\n",
       "      <td>0.0</td>\n",
       "      <td>2194.139191</td>\n",
       "    </tr>\n",
       "    <tr>\n",
       "      <th>5289</th>\n",
       "      <td>85000</td>\n",
       "      <td>Brooklyn</td>\n",
       "      <td>NY</td>\n",
       "      <td>11220</td>\n",
       "      <td>None</td>\n",
       "      <td>None</td>\n",
       "      <td>None</td>\n",
       "      <td>None</td>\n",
       "      <td>None</td>\n",
       "      <td>None</td>\n",
       "      <td>...</td>\n",
       "      <td>1</td>\n",
       "      <td>NaN</td>\n",
       "      <td>NaN</td>\n",
       "      <td>23v1.1</td>\n",
       "      <td>NaN</td>\n",
       "      <td>40.635227</td>\n",
       "      <td>-74.008607</td>\n",
       "      <td>NaN</td>\n",
       "      <td>0.0</td>\n",
       "      <td>2537.012498</td>\n",
       "    </tr>\n",
       "  </tbody>\n",
       "</table>\n",
       "<p>5 rows × 199 columns</p>\n",
       "</div>"
      ],
      "text/plain": [
       "         id      city state    zip google_map_params building_bike_storage  \\\n",
       "959   15991  New York    NY  10028              None                  None   \n",
       "1267  20873  New York    NY  10021                                    None   \n",
       "2300  36726  New York    NY  10032              None                  None   \n",
       "2810  45331  Brooklyn    NY  11210              None                  None   \n",
       "5289  85000  Brooklyn    NY  11220              None                  None   \n",
       "\n",
       "     building_doorman building_elevator building_gym building_laundry  ...  \\\n",
       "959              None              None         None             None  ...   \n",
       "1267             True              True         None             None  ...   \n",
       "2300             None              None         None             None  ...   \n",
       "2810             None              None         None             None  ...   \n",
       "5289             None              None         None             None  ...   \n",
       "\n",
       "     PLUTOMapID FIRM07_FLA PFIRM15_FL Version DCPEdited   Latitude  Longitude  \\\n",
       "959           1        NaN        NaN  23v1.1       NaN  40.774952 -73.955392   \n",
       "1267          1        NaN        NaN  23v1.1       NaN  40.771223 -73.964850   \n",
       "2300          1        NaN        NaN  23v1.1       NaN  40.836486 -73.942308   \n",
       "2810          1        NaN        NaN  23v1.1       NaN  40.632673 -73.944412   \n",
       "5289          1        NaN        NaN  23v1.1       NaN  40.635227 -74.008607   \n",
       "\n",
       "      Notes Shape_Leng   Shape_Area  \n",
       "959     NaN        0.0  2595.442358  \n",
       "1267    NaN        0.0  4788.678065  \n",
       "2300    NaN        0.0  4042.880381  \n",
       "2810    NaN        0.0  2194.139191  \n",
       "5289    NaN        0.0  2537.012498  \n",
       "\n",
       "[5 rows x 199 columns]"
      ]
     },
     "execution_count": 115,
     "metadata": {},
     "output_type": "execute_result"
    }
   ],
   "source": [
    "cols_to_drop = [x for x in sp2.columns if '_right' in x]\n",
    "sp2.drop(columns=cols_to_drop, inplace=True)\n",
    "cols_update = [x.replace('_left', '') if '_left' in x else x for x in sp2.columns]\n",
    "sp2.columns = cols_update\n",
    "sp2_update_buildings = sp2[sp2['BBL'].isin(update_buildings_pluto.index)]\n",
    "sp2_update_buildings.head()"
   ]
  },
  {
   "cell_type": "code",
   "execution_count": 116,
   "metadata": {},
   "outputs": [],
   "source": [
    "def update_buildings(matched_buildings, mapped_fields):\n",
    "    update_df = {'id': [], 'field_name': [], 'old_value': [],\n",
    "             'new_value': [], 'in_search': []}\n",
    "    for fnames in mapped_fields:\n",
    "        wrong = matched_buildings[matched_buildings[f'{fnames[0]}'] != \\\n",
    "                                matched_buildings[f'{fnames[1]}']]\n",
    "        wrong = wrong[(wrong[f'{fnames[1]}'] != 0)]\n",
    "        wrong = wrong[~(wrong[f'{fnames[1]}'].isna())]\n",
    "        if fnames[0] in ('num_stories', 'year_built'):\n",
    "            # new value should be greater for both year_built and num_stories\n",
    "            wrong = wrong[wrong[f'{fnames[0]}'] < wrong[f'{fnames[1]}']]\n",
    "        update_df['id'] += list(wrong['id'])\n",
    "        update_df['old_value'] += list(wrong[f'{fnames[0]}'])\n",
    "        update_df['new_value'] += list(wrong[f'{fnames[1]}'])\n",
    "        update_df['in_search'] += list(wrong['in_search'])\n",
    "        update_df['field_name'] += [f'{fnames[0]}'] * len(wrong['id'])\n",
    "    \n",
    "    update_df = pd.DataFrame(update_df)\n",
    "    return update_df"
   ]
  },
  {
   "cell_type": "code",
   "execution_count": 117,
   "metadata": {},
   "outputs": [
    {
     "name": "stderr",
     "output_type": "stream",
     "text": [
      "/Users/arnavmalhotra/anaconda3/envs/pluto/lib/python3.10/site-packages/geopandas/geodataframe.py:1322: SettingWithCopyWarning: \n",
      "A value is trying to be set on a copy of a slice from a DataFrame.\n",
      "Try using .loc[row_indexer,col_indexer] = value instead\n",
      "\n",
      "See the caveats in the documentation: https://pandas.pydata.org/pandas-docs/stable/user_guide/indexing.html#returning-a-view-versus-a-copy\n",
      "  super(GeoDataFrame, self).__setitem__(key, value)\n",
      "/Users/arnavmalhotra/anaconda3/envs/pluto/lib/python3.10/site-packages/geopandas/geodataframe.py:1322: SettingWithCopyWarning: \n",
      "A value is trying to be set on a copy of a slice from a DataFrame.\n",
      "Try using .loc[row_indexer,col_indexer] = value instead\n",
      "\n",
      "See the caveats in the documentation: https://pandas.pydata.org/pandas-docs/stable/user_guide/indexing.html#returning-a-view-versus-a-copy\n",
      "  super(GeoDataFrame, self).__setitem__(key, value)\n",
      "/Users/arnavmalhotra/anaconda3/envs/pluto/lib/python3.10/site-packages/geopandas/geodataframe.py:1322: SettingWithCopyWarning: \n",
      "A value is trying to be set on a copy of a slice from a DataFrame.\n",
      "Try using .loc[row_indexer,col_indexer] = value instead\n",
      "\n",
      "See the caveats in the documentation: https://pandas.pydata.org/pandas-docs/stable/user_guide/indexing.html#returning-a-view-versus-a-copy\n",
      "  super(GeoDataFrame, self).__setitem__(key, value)\n",
      "/Users/arnavmalhotra/anaconda3/envs/pluto/lib/python3.10/site-packages/geopandas/geodataframe.py:1322: SettingWithCopyWarning: \n",
      "A value is trying to be set on a copy of a slice from a DataFrame.\n",
      "Try using .loc[row_indexer,col_indexer] = value instead\n",
      "\n",
      "See the caveats in the documentation: https://pandas.pydata.org/pandas-docs/stable/user_guide/indexing.html#returning-a-view-versus-a-copy\n",
      "  super(GeoDataFrame, self).__setitem__(key, value)\n",
      "/Users/arnavmalhotra/anaconda3/envs/pluto/lib/python3.10/site-packages/geopandas/geodataframe.py:1322: SettingWithCopyWarning: \n",
      "A value is trying to be set on a copy of a slice from a DataFrame.\n",
      "Try using .loc[row_indexer,col_indexer] = value instead\n",
      "\n",
      "See the caveats in the documentation: https://pandas.pydata.org/pandas-docs/stable/user_guide/indexing.html#returning-a-view-versus-a-copy\n",
      "  super(GeoDataFrame, self).__setitem__(key, value)\n"
     ]
    }
   ],
   "source": [
    "mapped_fields = [('zip', 'ZipCode'),\n",
    "                 ('year_built', 'YearBuilt'),\n",
    "                 #('school_district_code', 'schooldist'),\n",
    "                 ('num_stories', 'NumFloors'), \n",
    "                 ('num_units', 'UnitsRes'), \n",
    "                 ('lot_area', 'LotArea'), \n",
    "                 ('lot_front', 'LotFront'), \n",
    "                 ('lot_depth', 'LotDepth'),\n",
    "                 ('building_class', 'BldgClass'),\n",
    "                 ('building_front', 'BldgFront'),\n",
    "                 ('building_depth', 'BldgDepth'),\n",
    "                 ('building_area', 'BldgArea'),\n",
    "                 ('landmark', 'Landmark')]\n",
    "\n",
    "# map mismatched fields\n",
    "sp2_update_buildings['zip'] = pd.to_numeric(sp2_update_buildings['zip'])\n",
    "sp2_update_buildings['NumFloors'] = np.ceil(sp2_update_buildings['NumFloors'])\n",
    "\n",
    "# map landmark field\n",
    "sp2_update_buildings['Landmark'] = [True if type(x) == str else False for x in sp2_update_buildings['Landmark']]\n",
    "sp2_update_buildings['landmark'] = [x if x else 'f' for x in sp2_update_buildings['landmark']]\n",
    "sp2_update_buildings['landmark'] = [False if (x.lower() in ('f', 'false') or x.isspace()) else True for x in sp2_update_buildings['landmark']]\n",
    "\n",
    "update_buildings2 = update_buildings(sp2_update_buildings, mapped_fields)"
   ]
  },
  {
   "cell_type": "code",
   "execution_count": 118,
   "metadata": {},
   "outputs": [
    {
     "data": {
      "text/plain": [
       "578"
      ]
     },
     "execution_count": 118,
     "metadata": {},
     "output_type": "execute_result"
    }
   ],
   "source": [
    "update_buildings2['id'].nunique()"
   ]
  },
  {
   "cell_type": "code",
   "execution_count": 119,
   "metadata": {},
   "outputs": [
    {
     "name": "stdout",
     "output_type": "stream",
     "text": [
      "id\n",
      "city\n",
      "state\n",
      "zip\n",
      "google_map_params\n",
      "building_bike_storage\n",
      "building_doorman\n",
      "building_elevator\n",
      "building_gym\n",
      "building_laundry\n",
      "building_pets\n",
      "building_pool\n",
      "building_prewar\n",
      "building_rooftop\n",
      "building_storage\n",
      "building_style_code\n",
      "county_code\n",
      "school_district_code\n",
      "created_at\n",
      "updated_at\n",
      "neighborhood_id\n",
      "source_id\n",
      "display_address\n",
      "display_name\n",
      "building_garage\n",
      "garage_type_code\n",
      "year_built\n",
      "benefit_construction_completed\n",
      "num_stories\n",
      "num_units\n",
      "tax_class\n",
      "centroid_latitude\n",
      "centroid_longitude\n",
      "tax_benefit_code\n",
      "tax_benefit_start_date\n",
      "tax_exemption_end_date\n",
      "tax_abatement_end_date\n",
      "j51_crc_perc\n",
      "building_class\n",
      "landmark\n",
      "building_front\n",
      "building_depth\n",
      "tranche\n",
      "new_development\n",
      "in_search\n",
      "architect\n",
      "developer\n",
      "management_firm_id\n",
      "building_style\n",
      "conversion_notes\n",
      "account_executive_name\n",
      "account_executive_phone\n",
      "service_level\n",
      "pet_policy\n",
      "sublet_policy\n",
      "front_desk_phone\n",
      "building_type\n",
      "source\n",
      "building_complex_id\n",
      "apportionment_date\n",
      "lot_front\n",
      "lot_depth\n",
      "built_far\n",
      "corner_lot\n",
      "building_area\n",
      "lot_area\n",
      "zoning_primary\n",
      "zoning_secondary\n",
      "geometry\n",
      "max_allowed_far\n",
      "years_last_altered\n",
      "apportionment_source_id\n",
      "description\n",
      "offering_plan_id\n",
      "new_dev_start_date\n",
      "new_dev_end_date\n",
      "manual_new_dev_start_date\n",
      "manual_new_dev_end_date\n",
      "developer_brokerage_id\n",
      "property_type\n",
      "unit_schemes\n",
      "cross_streets\n",
      "tax_id\n",
      "sponsor_names\n",
      "place_name_override\n",
      "land_lease_building\n",
      "land_lease_expiration\n",
      "timezone\n",
      "census_tract\n",
      "owner_name\n",
      "owner_name2\n",
      "building_id\n",
      "num_rls\n",
      "last_rls_listing\n",
      "building_id\n",
      "num_mlsli\n",
      "last_mlsli_listing\n",
      "building_id\n",
      "num_other_listings\n",
      "last_listing\n",
      "building_id\n",
      "num_acris\n",
      "last_acris_created\n",
      "last_acris_sale\n",
      "geometry_json\n",
      "Borough\n",
      "Block\n",
      "Lot\n",
      "CD\n",
      "BCT2020\n",
      "BCTCB2020\n",
      "CT2010\n",
      "CB2010\n",
      "SchoolDist\n",
      "Council\n",
      "ZipCode\n",
      "FireComp\n",
      "PolicePrct\n",
      "HealthCent\n",
      "HealthArea\n",
      "Sanitboro\n",
      "SanitDistr\n",
      "SanitSub\n",
      "Address\n",
      "ZoneDist1\n",
      "ZoneDist2\n",
      "ZoneDist3\n",
      "ZoneDist4\n",
      "Overlay1\n",
      "Overlay2\n",
      "SPDist1\n",
      "SPDist2\n",
      "SPDist3\n",
      "LtdHeight\n",
      "SplitZone\n",
      "BldgClass\n",
      "LandUse\n",
      "Easements\n",
      "OwnerType\n",
      "OwnerName\n",
      "LotArea\n",
      "BldgArea\n",
      "ComArea\n",
      "ResArea\n",
      "OfficeArea\n",
      "RetailArea\n",
      "GarageArea\n",
      "StrgeArea\n",
      "FactryArea\n",
      "OtherArea\n",
      "AreaSource\n",
      "NumBldgs\n",
      "NumFloors\n",
      "UnitsRes\n",
      "UnitsTotal\n",
      "LotFront\n",
      "LotDepth\n",
      "BldgFront\n",
      "BldgDepth\n",
      "Ext\n",
      "ProxCode\n",
      "IrrLotCode\n",
      "LotType\n",
      "BsmtCode\n",
      "AssessLand\n",
      "AssessTot\n",
      "ExemptTot\n",
      "YearBuilt\n",
      "YearAlter1\n",
      "YearAlter2\n",
      "HistDist\n",
      "Landmark\n",
      "BuiltFAR\n",
      "ResidFAR\n",
      "CommFAR\n",
      "FacilFAR\n",
      "BoroCode\n",
      "BBL\n",
      "CondoNo\n",
      "Tract2010\n",
      "XCoord\n",
      "YCoord\n",
      "ZoneMap\n",
      "ZMCode\n",
      "Sanborn\n",
      "TaxMap\n",
      "EDesigNum\n",
      "APPBBL\n",
      "APPDate\n",
      "PLUTOMapID\n",
      "FIRM07_FLA\n",
      "PFIRM15_FL\n",
      "Version\n",
      "DCPEdited\n",
      "Latitude\n",
      "Longitude\n",
      "Notes\n",
      "Shape_Leng\n",
      "Shape_Area\n"
     ]
    }
   ],
   "source": [
    "for c in sp2.columns:\n",
    "    print(c)"
   ]
  },
  {
   "cell_type": "code",
   "execution_count": 120,
   "metadata": {},
   "outputs": [
    {
     "data": {
      "text/plain": [
       "(730044, 197)"
      ]
     },
     "execution_count": 120,
     "metadata": {},
     "output_type": "execute_result"
    }
   ],
   "source": [
    "matched_buildings.shape"
   ]
  },
  {
   "cell_type": "code",
   "execution_count": 121,
   "metadata": {},
   "outputs": [
    {
     "data": {
      "text/plain": [
       "BBL\n",
       "1.000168e+09    1\n",
       "1.001418e+09    1\n",
       "1.002240e+09    1\n",
       "1.002250e+09    1\n",
       "1.002760e+09    1\n",
       "               ..\n",
       "4.160620e+09    1\n",
       "4.160640e+09    1\n",
       "4.161180e+09    1\n",
       "4.161260e+09    1\n",
       "4.161560e+09    1\n",
       "Name: id_left, Length: 585, dtype: int64"
      ]
     },
     "execution_count": 121,
     "metadata": {},
     "output_type": "execute_result"
    }
   ],
   "source": [
    "sp2_grouped[sp2_grouped == 1]"
   ]
  },
  {
   "cell_type": "code",
   "execution_count": 122,
   "metadata": {},
   "outputs": [
    {
     "data": {
      "text/plain": [
       "source\n",
       "manual_future_building          65\n",
       "manually_entered_backlog_22      2\n",
       "pluto_v15_1                      1\n",
       "pluto_v17_1                    517\n",
       "Name: id, dtype: int64"
      ]
     },
     "execution_count": 122,
     "metadata": {},
     "output_type": "execute_result"
    }
   ],
   "source": [
    "sp2[sp2['BBL'].isin(sp2_grouped[sp2_grouped == 1].index)].groupby('source')['id'].nunique()"
   ]
  },
  {
   "cell_type": "code",
   "execution_count": 123,
   "metadata": {},
   "outputs": [
    {
     "ename": "KeyboardInterrupt",
     "evalue": "",
     "output_type": "error",
     "traceback": [
      "\u001b[0;31m---------------------------------------------------------------------------\u001b[0m",
      "\u001b[0;31mKeyboardInterrupt\u001b[0m                         Traceback (most recent call last)",
      "Cell \u001b[0;32mIn[123], line 2\u001b[0m\n\u001b[1;32m      1\u001b[0m \u001b[39mwith\u001b[39;00m \u001b[39mopen\u001b[39m(\u001b[39m'\u001b[39m\u001b[39mdata/buildings_final2.pkl\u001b[39m\u001b[39m'\u001b[39m, \u001b[39m'\u001b[39m\u001b[39mrb\u001b[39m\u001b[39m'\u001b[39m) \u001b[39mas\u001b[39;00m f:\n\u001b[0;32m----> 2\u001b[0m     preso \u001b[39m=\u001b[39m pkl\u001b[39m.\u001b[39;49mload(f)\n\u001b[1;32m      3\u001b[0m preso\u001b[39m.\u001b[39mgroupby(\u001b[39m'\u001b[39m\u001b[39msource\u001b[39m\u001b[39m'\u001b[39m)[\u001b[39m'\u001b[39m\u001b[39mid\u001b[39m\u001b[39m'\u001b[39m]\u001b[39m.\u001b[39mnunique()\n",
      "File \u001b[0;32m~/anaconda3/envs/pluto/lib/python3.10/site-packages/pandas/_libs/internals.pyx:575\u001b[0m, in \u001b[0;36mpandas._libs.internals._unpickle_block\u001b[0;34m()\u001b[0m\n",
      "File \u001b[0;32m~/anaconda3/envs/pluto/lib/python3.10/site-packages/pandas/core/internals/blocks.py:2172\u001b[0m, in \u001b[0;36mnew_block\u001b[0;34m(values, placement, ndim)\u001b[0m\n\u001b[1;32m   2168\u001b[0m     values \u001b[39m=\u001b[39m maybe_coerce_values(values)\n\u001b[1;32m   2169\u001b[0m     \u001b[39mreturn\u001b[39;00m klass(values, ndim\u001b[39m=\u001b[39m\u001b[39m2\u001b[39m, placement\u001b[39m=\u001b[39mplacement)\n\u001b[0;32m-> 2172\u001b[0m \u001b[39mdef\u001b[39;00m \u001b[39mnew_block\u001b[39m(values, placement, \u001b[39m*\u001b[39m, ndim: \u001b[39mint\u001b[39m) \u001b[39m-\u001b[39m\u001b[39m>\u001b[39m Block:\n\u001b[1;32m   2173\u001b[0m     \u001b[39m# caller is responsible for ensuring values is NOT a PandasArray\u001b[39;00m\n\u001b[1;32m   2175\u001b[0m     \u001b[39mif\u001b[39;00m \u001b[39mnot\u001b[39;00m \u001b[39misinstance\u001b[39m(placement, BlockPlacement):\n\u001b[1;32m   2176\u001b[0m         placement \u001b[39m=\u001b[39m BlockPlacement(placement)\n",
      "\u001b[0;31mKeyboardInterrupt\u001b[0m: "
     ]
    }
   ],
   "source": [
    "with open('data/buildings_final2.pkl', 'rb') as f:\n",
    "    preso = pkl.load(f)\n",
    "preso.groupby('source')['id'].nunique()"
   ]
  },
  {
   "cell_type": "code",
   "execution_count": null,
   "metadata": {},
   "outputs": [
    {
     "data": {
      "text/plain": [
       "source\n",
       "manual_future_buildin               1\n",
       "manual_future_building           1192\n",
       "manual_future_buildings             1\n",
       "manual_future_listing               2\n",
       "manually entered                   76\n",
       "manually_entered                  414\n",
       "manually_entered_backlog_22        44\n",
       "manually_entered_future             2\n",
       "pitney_bowes                      979\n",
       "pluto_merge                         1\n",
       "pluto_split                        35\n",
       "pluto_v09_1                      2141\n",
       "pluto_v10_1                      1182\n",
       "pluto_v10_2                       798\n",
       "pluto_v11_1                       544\n",
       "pluto_v11_2                       565\n",
       "pluto_v12_1                       515\n",
       "pluto_v12_2                       427\n",
       "pluto_v13_1                       480\n",
       "pluto_v13_2                       509\n",
       "pluto_v14_1                       767\n",
       "pluto_v14_2                      1031\n",
       "pluto_v15_1                      1351\n",
       "pluto_v16_1                       277\n",
       "pluto_v16_2                      2171\n",
       "pluto_v17_1                    728861\n",
       "Name: id, dtype: int64"
      ]
     },
     "execution_count": 124,
     "metadata": {},
     "output_type": "execute_result"
    }
   ],
   "source": [
    "preso_geo.groupby('source')['id'].nunique()"
   ]
  },
  {
   "cell_type": "code",
   "execution_count": null,
   "metadata": {},
   "outputs": [
    {
     "name": "stderr",
     "output_type": "stream",
     "text": [
      "/var/folders/_3/v349phgn4ljd3jkf3ll9p2cm0000gp/T/ipykernel_13513/2832418156.py:3: SettingWithCopyWarning: \n",
      "A value is trying to be set on a copy of a slice from a DataFrame\n",
      "\n",
      "See the caveats in the documentation: https://pandas.pydata.org/pandas-docs/stable/user_guide/indexing.html#returning-a-view-versus-a-copy\n",
      "  gs_preso_gdf.drop(columns=['created_at',\n",
      "/Users/arnavmalhotra/anaconda3/envs/pluto/lib/python3.10/site-packages/geopandas/geodataframe.py:1322: SettingWithCopyWarning: \n",
      "A value is trying to be set on a copy of a slice from a DataFrame.\n",
      "Try using .loc[row_indexer,col_indexer] = value instead\n",
      "\n",
      "See the caveats in the documentation: https://pandas.pydata.org/pandas-docs/stable/user_guide/indexing.html#returning-a-view-versus-a-copy\n",
      "  super(GeoDataFrame, self).__setitem__(key, value)\n",
      "/Users/arnavmalhotra/anaconda3/envs/pluto/lib/python3.10/site-packages/geopandas/io/file.py:299: FutureWarning: pandas.Int64Index is deprecated and will be removed from pandas in a future version. Use pandas.Index with the appropriate dtype instead.\n",
      "  pd.Int64Index,\n",
      "/var/folders/_3/v349phgn4ljd3jkf3ll9p2cm0000gp/T/ipykernel_13513/2832418156.py:13: UserWarning: Column names longer than 10 characters will be truncated when saved to ESRI Shapefile.\n",
      "  gs_preso_gdf[['id', 'geometry', 'display_address', 'zip', 'source_id']].to_file('data/gs_one_one')\n"
     ]
    }
   ],
   "source": [
    "gs_match = sp2[sp2['BBL'].isin(sp2_grouped[sp2_grouped == 1].index)]\n",
    "gs_preso_gdf = preso_gdf[preso_gdf['id'].isin(gs_match['id'])]\n",
    "gs_preso_gdf.drop(columns=['created_at',\n",
    "                            'updated_at',\n",
    "                            'new_dev_start_date',\n",
    "                            'new_dev_end_date',\n",
    "                            'land_lease_expiration',\n",
    "                            'last_rls_listing',\n",
    "                            'last_mlsli_listing',\n",
    "                            'last_listing',\n",
    "                            'last_acris_created'], inplace=True)\n",
    "gs_preso_gdf['source_id'] = pd.to_numeric(gs_preso_gdf['source_id'], errors='coerce')\n",
    "gs_preso_gdf[['id', 'geometry', 'display_address', 'zip', 'source_id']].to_file('data/gs_one_one')"
   ]
  },
  {
   "cell_type": "code",
   "execution_count": null,
   "metadata": {},
   "outputs": [
    {
     "name": "stderr",
     "output_type": "stream",
     "text": [
      "/var/folders/_3/v349phgn4ljd3jkf3ll9p2cm0000gp/T/ipykernel_13513/2668510686.py:3: SettingWithCopyWarning: \n",
      "A value is trying to be set on a copy of a slice from a DataFrame\n",
      "\n",
      "See the caveats in the documentation: https://pandas.pydata.org/pandas-docs/stable/user_guide/indexing.html#returning-a-view-versus-a-copy\n",
      "  gs_preso_gdf.drop(columns=['created_at',\n",
      "/Users/arnavmalhotra/anaconda3/envs/pluto/lib/python3.10/site-packages/geopandas/geodataframe.py:1322: SettingWithCopyWarning: \n",
      "A value is trying to be set on a copy of a slice from a DataFrame.\n",
      "Try using .loc[row_indexer,col_indexer] = value instead\n",
      "\n",
      "See the caveats in the documentation: https://pandas.pydata.org/pandas-docs/stable/user_guide/indexing.html#returning-a-view-versus-a-copy\n",
      "  super(GeoDataFrame, self).__setitem__(key, value)\n",
      "/Users/arnavmalhotra/anaconda3/envs/pluto/lib/python3.10/site-packages/geopandas/io/file.py:299: FutureWarning: pandas.Int64Index is deprecated and will be removed from pandas in a future version. Use pandas.Index with the appropriate dtype instead.\n",
      "  pd.Int64Index,\n",
      "/var/folders/_3/v349phgn4ljd3jkf3ll9p2cm0000gp/T/ipykernel_13513/2668510686.py:13: UserWarning: Column names longer than 10 characters will be truncated when saved to ESRI Shapefile.\n",
      "  gs_preso_gdf[['id', 'geometry', 'display_address', 'zip', 'source_id']].to_file('data/gs_one_many')\n"
     ]
    }
   ],
   "source": [
    "gs_match = sp2[sp2['BBL'].isin(sp2_grouped[sp2_grouped > 1].index)]\n",
    "gs_preso_gdf = preso_gdf[preso_gdf['id'].isin(gs_match['id'])]\n",
    "gs_preso_gdf.drop(columns=['created_at',\n",
    "                            'updated_at',\n",
    "                            'new_dev_start_date',\n",
    "                            'new_dev_end_date',\n",
    "                            'land_lease_expiration',\n",
    "                            'last_rls_listing',\n",
    "                            'last_mlsli_listing',\n",
    "                            'last_listing',\n",
    "                            'last_acris_created'], inplace=True)\n",
    "gs_preso_gdf['source_id'] = pd.to_numeric(gs_preso_gdf['source_id'], errors='coerce')\n",
    "gs_preso_gdf[['id', 'geometry', 'display_address', 'zip', 'source_id']].to_file('data/gs_one_many')"
   ]
  },
  {
   "cell_type": "code",
   "execution_count": null,
   "metadata": {},
   "outputs": [
    {
     "name": "stderr",
     "output_type": "stream",
     "text": [
      "/var/folders/_3/v349phgn4ljd3jkf3ll9p2cm0000gp/T/ipykernel_13513/2587900097.py:3: SettingWithCopyWarning: \n",
      "A value is trying to be set on a copy of a slice from a DataFrame\n",
      "\n",
      "See the caveats in the documentation: https://pandas.pydata.org/pandas-docs/stable/user_guide/indexing.html#returning-a-view-versus-a-copy\n",
      "  gs_preso_gdf.drop(columns=['created_at',\n",
      "/Users/arnavmalhotra/anaconda3/envs/pluto/lib/python3.10/site-packages/geopandas/geodataframe.py:1322: SettingWithCopyWarning: \n",
      "A value is trying to be set on a copy of a slice from a DataFrame.\n",
      "Try using .loc[row_indexer,col_indexer] = value instead\n",
      "\n",
      "See the caveats in the documentation: https://pandas.pydata.org/pandas-docs/stable/user_guide/indexing.html#returning-a-view-versus-a-copy\n",
      "  super(GeoDataFrame, self).__setitem__(key, value)\n",
      "/Users/arnavmalhotra/anaconda3/envs/pluto/lib/python3.10/site-packages/geopandas/io/file.py:299: FutureWarning: pandas.Int64Index is deprecated and will be removed from pandas in a future version. Use pandas.Index with the appropriate dtype instead.\n",
      "  pd.Int64Index,\n",
      "/var/folders/_3/v349phgn4ljd3jkf3ll9p2cm0000gp/T/ipykernel_13513/2587900097.py:13: UserWarning: Column names longer than 10 characters will be truncated when saved to ESRI Shapefile.\n",
      "  gs_preso_gdf[['id', 'geometry', 'display_address', 'zip', 'source_id']].to_file('data/gs_many_one')\n"
     ]
    }
   ],
   "source": [
    "gs_match = sp2[sp2['id'].isin(sp2_grouped2[sp2_grouped2 > 1].index)]\n",
    "gs_preso_gdf = preso_gdf[preso_gdf['id'].isin(gs_match['id'])]\n",
    "gs_preso_gdf.drop(columns=['created_at',\n",
    "                            'updated_at',\n",
    "                            'new_dev_start_date',\n",
    "                            'new_dev_end_date',\n",
    "                            'land_lease_expiration',\n",
    "                            'last_rls_listing',\n",
    "                            'last_mlsli_listing',\n",
    "                            'last_listing',\n",
    "                            'last_acris_created'], inplace=True)\n",
    "gs_preso_gdf['source_id'] = pd.to_numeric(gs_preso_gdf['source_id'], errors='coerce')\n",
    "gs_preso_gdf[['id', 'geometry', 'display_address', 'zip', 'source_id']].to_file('data/gs_many_one')"
   ]
  },
  {
   "cell_type": "code",
   "execution_count": null,
   "metadata": {},
   "outputs": [
    {
     "name": "stdout",
     "output_type": "stream",
     "text": [
      "years_last_altered\n",
      "last_acris_sale\n"
     ]
    }
   ],
   "source": [
    "for c in gs_preso_gdf.columns:\n",
    "    if 'last' in c:\n",
    "        print(c)"
   ]
  },
  {
   "cell_type": "code",
   "execution_count": null,
   "metadata": {},
   "outputs": [
    {
     "data": {
      "text/plain": [
       "['created_at',\n",
       " 'updated_at',\n",
       " 'new_dev_start_date',\n",
       " 'new_dev_end_date',\n",
       " 'land_lease_expiration',\n",
       " 'last_rls_listing',\n",
       " 'last_mlsli_listing',\n",
       " 'last_listing',\n",
       " 'last_acris_created']"
      ]
     },
     "execution_count": 129,
     "metadata": {},
     "output_type": "execute_result"
    }
   ],
   "source": [
    "from pandas.api.types import is_datetime64_any_dtype as is_datetime\n",
    "\n",
    "[column for column in preso_gdf.columns if is_datetime(preso_gdf[column])]"
   ]
  },
  {
   "cell_type": "code",
   "execution_count": null,
   "metadata": {},
   "outputs": [
    {
     "data": {
      "text/plain": [
       "Index(['id', 'city', 'state', 'zip', 'google_map_params',\n",
       "       'building_bike_storage', 'building_doorman', 'building_elevator',\n",
       "       'building_gym', 'building_laundry',\n",
       "       ...\n",
       "       'num_mlsli', 'last_mlsli_listing', 'building_id', 'num_other_listings',\n",
       "       'last_listing', 'building_id', 'num_acris', 'last_acris_created',\n",
       "       'last_acris_sale', 'geometry_json'],\n",
       "      dtype='object', length=105)"
      ]
     },
     "execution_count": 130,
     "metadata": {},
     "output_type": "execute_result"
    }
   ],
   "source": [
    "preso_gdf.columns"
   ]
  },
  {
   "cell_type": "code",
   "execution_count": null,
   "metadata": {},
   "outputs": [],
   "source": [
    "preso_gdf['geometry'] = [x.geoms[0] for x in preso_gdf['geometry']]"
   ]
  },
  {
   "cell_type": "code",
   "execution_count": null,
   "metadata": {},
   "outputs": [
    {
     "data": {
      "text/plain": [
       "(730044, 197)"
      ]
     },
     "execution_count": 132,
     "metadata": {},
     "output_type": "execute_result"
    }
   ],
   "source": [
    "matched_buildings.shape"
   ]
  },
  {
   "cell_type": "code",
   "execution_count": null,
   "metadata": {},
   "outputs": [
    {
     "data": {
      "text/html": [
       "<div>\n",
       "<style scoped>\n",
       "    .dataframe tbody tr th:only-of-type {\n",
       "        vertical-align: middle;\n",
       "    }\n",
       "\n",
       "    .dataframe tbody tr th {\n",
       "        vertical-align: top;\n",
       "    }\n",
       "\n",
       "    .dataframe thead th {\n",
       "        text-align: right;\n",
       "    }\n",
       "</style>\n",
       "<table border=\"1\" class=\"dataframe\">\n",
       "  <thead>\n",
       "    <tr style=\"text-align: right;\">\n",
       "      <th></th>\n",
       "      <th>id</th>\n",
       "      <th>city</th>\n",
       "      <th>state</th>\n",
       "      <th>zip</th>\n",
       "      <th>google_map_params</th>\n",
       "      <th>building_bike_storage</th>\n",
       "      <th>building_doorman</th>\n",
       "      <th>building_elevator</th>\n",
       "      <th>building_gym</th>\n",
       "      <th>building_laundry</th>\n",
       "      <th>...</th>\n",
       "      <th>appbbl</th>\n",
       "      <th>appdate</th>\n",
       "      <th>plutomapid</th>\n",
       "      <th>firm07_flag</th>\n",
       "      <th>pfirm15_flag</th>\n",
       "      <th>version</th>\n",
       "      <th>dcpedited</th>\n",
       "      <th>latitude</th>\n",
       "      <th>longitude</th>\n",
       "      <th>notes</th>\n",
       "    </tr>\n",
       "  </thead>\n",
       "  <tbody>\n",
       "  </tbody>\n",
       "</table>\n",
       "<p>0 rows × 197 columns</p>\n",
       "</div>"
      ],
      "text/plain": [
       "Empty DataFrame\n",
       "Columns: [id, city, state, zip, google_map_params, building_bike_storage, building_doorman, building_elevator, building_gym, building_laundry, building_pets, building_pool, building_prewar, building_rooftop, building_storage, building_style_code, county_code, school_district_code, created_at, updated_at, neighborhood_id, source_id, display_address, display_name, building_garage, garage_type_code, year_built, benefit_construction_completed, num_stories, num_units, tax_class, centroid_latitude, centroid_longitude, tax_benefit_code, tax_benefit_start_date, tax_exemption_end_date, tax_abatement_end_date, j51_crc_perc, building_class, landmark_x, building_front, building_depth, tranche, new_development, in_search, architect, developer, management_firm_id, building_style, conversion_notes, account_executive_name, account_executive_phone, service_level, pet_policy, sublet_policy, front_desk_phone, building_type, source, building_complex_id, apportionment_date, lot_front, lot_depth, built_far, corner_lot, building_area, lot_area, zoning_primary, zoning_secondary, geometry, max_allowed_far, years_last_altered, apportionment_source_id, description, offering_plan_id, new_dev_start_date, new_dev_end_date, manual_new_dev_start_date, manual_new_dev_end_date, developer_brokerage_id, property_type, unit_schemes, cross_streets, tax_id, sponsor_names, place_name_override, land_lease_building, land_lease_expiration, timezone, census_tract, owner_name, owner_name2, building_id, num_rls, last_rls_listing, building_id, num_mlsli, last_mlsli_listing, building_id, num_other_listings, last_listing, ...]\n",
       "Index: []\n",
       "\n",
       "[0 rows x 197 columns]"
      ]
     },
     "execution_count": 133,
     "metadata": {},
     "output_type": "execute_result"
    }
   ],
   "source": [
    "matched_buildings[matched_buildings['id'].isin(matched_buildings.groupby('id')['source_id'].nunique() > 1)]"
   ]
  },
  {
   "cell_type": "code",
   "execution_count": null,
   "metadata": {},
   "outputs": [
    {
     "name": "stdout",
     "output_type": "stream",
     "text": [
      "(730044, 197) 730044 725967\n"
     ]
    }
   ],
   "source": [
    "print(matched_buildings.shape, matched_buildings.id.nunique(), matched_buildings.bbl.nunique())"
   ]
  },
  {
   "cell_type": "code",
   "execution_count": null,
   "metadata": {},
   "outputs": [],
   "source": [
    "dup_bbls = matched_buildings.groupby('bbl')['id'].nunique()[matched_buildings.groupby('bbl')['id'].nunique() > 1]"
   ]
  },
  {
   "cell_type": "code",
   "execution_count": null,
   "metadata": {},
   "outputs": [
    {
     "data": {
      "text/plain": [
       "in_search\n",
       "False    4497\n",
       "True     3105\n",
       "Name: id, dtype: int64"
      ]
     },
     "execution_count": 136,
     "metadata": {},
     "output_type": "execute_result"
    }
   ],
   "source": [
    "matched_buildings[matched_buildings.bbl.isin(dup_bbls.index)].groupby(['in_search'])['id'].nunique()"
   ]
  },
  {
   "cell_type": "code",
   "execution_count": null,
   "metadata": {},
   "outputs": [
    {
     "name": "stdout",
     "output_type": "stream",
     "text": [
      "(3105, 197) 3105 3059\n"
     ]
    }
   ],
   "source": [
    "_ = matched_buildings[(matched_buildings.bbl.isin(dup_bbls.index)) & (matched_buildings['in_search'] == True)]\n",
    "print(_.shape, _['id'].nunique(), _['bbl'].nunique())"
   ]
  },
  {
   "cell_type": "code",
   "execution_count": null,
   "metadata": {},
   "outputs": [
    {
     "data": {
      "text/html": [
       "<div>\n",
       "<style scoped>\n",
       "    .dataframe tbody tr th:only-of-type {\n",
       "        vertical-align: middle;\n",
       "    }\n",
       "\n",
       "    .dataframe tbody tr th {\n",
       "        vertical-align: top;\n",
       "    }\n",
       "\n",
       "    .dataframe thead th {\n",
       "        text-align: right;\n",
       "    }\n",
       "</style>\n",
       "<table border=\"1\" class=\"dataframe\">\n",
       "  <thead>\n",
       "    <tr style=\"text-align: right;\">\n",
       "      <th></th>\n",
       "      <th>id</th>\n",
       "      <th>display_address</th>\n",
       "      <th>source_id</th>\n",
       "    </tr>\n",
       "  </thead>\n",
       "  <tbody>\n",
       "    <tr>\n",
       "      <th>87</th>\n",
       "      <td>1345</td>\n",
       "      <td>345 West 58th St</td>\n",
       "      <td>1.010490e+09</td>\n",
       "    </tr>\n",
       "    <tr>\n",
       "      <th>88</th>\n",
       "      <td>42939</td>\n",
       "      <td>30 West 60th Street</td>\n",
       "      <td>1.010490e+09</td>\n",
       "    </tr>\n",
       "    <tr>\n",
       "      <th>277</th>\n",
       "      <td>4413</td>\n",
       "      <td>30 East 30th Street</td>\n",
       "      <td>1.008590e+09</td>\n",
       "    </tr>\n",
       "    <tr>\n",
       "      <th>278</th>\n",
       "      <td>661058</td>\n",
       "      <td>30 EAST 30 STREET</td>\n",
       "      <td>1.008590e+09</td>\n",
       "    </tr>\n",
       "    <tr>\n",
       "      <th>296</th>\n",
       "      <td>4713</td>\n",
       "      <td>545 WEST 37TH STREET</td>\n",
       "      <td>1.007090e+09</td>\n",
       "    </tr>\n",
       "    <tr>\n",
       "      <th>...</th>\n",
       "      <td>...</td>\n",
       "      <td>...</td>\n",
       "      <td>...</td>\n",
       "    </tr>\n",
       "    <tr>\n",
       "      <th>723663</th>\n",
       "      <td>662057</td>\n",
       "      <td>28-13 ASTORIA BOULEVARD</td>\n",
       "      <td>4.008390e+09</td>\n",
       "    </tr>\n",
       "    <tr>\n",
       "      <th>729725</th>\n",
       "      <td>831929</td>\n",
       "      <td>2681 MARION AVENUE</td>\n",
       "      <td>2.032870e+09</td>\n",
       "    </tr>\n",
       "    <tr>\n",
       "      <th>729726</th>\n",
       "      <td>860737</td>\n",
       "      <td>2681 Marion Avenue</td>\n",
       "      <td>2.032870e+09</td>\n",
       "    </tr>\n",
       "    <tr>\n",
       "      <th>730021</th>\n",
       "      <td>855928</td>\n",
       "      <td>1993 Arthur Avenue</td>\n",
       "      <td>2.030680e+09</td>\n",
       "    </tr>\n",
       "    <tr>\n",
       "      <th>730022</th>\n",
       "      <td>883037</td>\n",
       "      <td>1993 ARTHUR AVENUE</td>\n",
       "      <td>2.030680e+09</td>\n",
       "    </tr>\n",
       "  </tbody>\n",
       "</table>\n",
       "<p>7602 rows × 3 columns</p>\n",
       "</div>"
      ],
      "text/plain": [
       "            id               display_address     source_id\n",
       "87        1345              345 West 58th St  1.010490e+09\n",
       "88       42939           30 West 60th Street  1.010490e+09\n",
       "277       4413           30 East 30th Street  1.008590e+09\n",
       "278     661058  30 EAST 30 STREET             1.008590e+09\n",
       "296       4713          545 WEST 37TH STREET  1.007090e+09\n",
       "...        ...                           ...           ...\n",
       "723663  662057  28-13 ASTORIA BOULEVARD       4.008390e+09\n",
       "729725  831929  2681 MARION AVENUE            2.032870e+09\n",
       "729726  860737            2681 Marion Avenue  2.032870e+09\n",
       "730021  855928            1993 Arthur Avenue  2.030680e+09\n",
       "730022  883037            1993 ARTHUR AVENUE  2.030680e+09\n",
       "\n",
       "[7602 rows x 3 columns]"
      ]
     },
     "execution_count": 138,
     "metadata": {},
     "output_type": "execute_result"
    }
   ],
   "source": [
    "matched_buildings[matched_buildings.bbl.isin(matched_buildings.groupby('bbl')['id'].nunique()[matched_buildings.groupby('bbl')['id'].nunique() > 1].index)][['id', 'display_address', 'source_id']]"
   ]
  },
  {
   "cell_type": "code",
   "execution_count": null,
   "metadata": {},
   "outputs": [
    {
     "data": {
      "text/plain": [
       "(1186, 95)"
      ]
     },
     "execution_count": 139,
     "metadata": {},
     "output_type": "execute_result"
    }
   ],
   "source": [
    "not_in_pw.shape"
   ]
  },
  {
   "cell_type": "code",
   "execution_count": null,
   "metadata": {},
   "outputs": [
    {
     "name": "stderr",
     "output_type": "stream",
     "text": [
      "/Users/arnavmalhotra/anaconda3/envs/pluto/lib/python3.10/site-packages/geopandas/io/file.py:299: FutureWarning: pandas.Int64Index is deprecated and will be removed from pandas in a future version. Use pandas.Index with the appropriate dtype instead.\n",
      "  pd.Int64Index,\n"
     ]
    }
   ],
   "source": [
    "not_in_pw.to_file('data/not_in_pw')"
   ]
  },
  {
   "cell_type": "code",
   "execution_count": null,
   "metadata": {},
   "outputs": [
    {
     "name": "stderr",
     "output_type": "stream",
     "text": [
      "/Users/arnavmalhotra/anaconda3/envs/pluto/lib/python3.10/site-packages/geopandas/io/file.py:299: FutureWarning: pandas.Int64Index is deprecated and will be removed from pandas in a future version. Use pandas.Index with the appropriate dtype instead.\n",
      "  pd.Int64Index,\n",
      "/var/folders/_3/v349phgn4ljd3jkf3ll9p2cm0000gp/T/ipykernel_13513/3027116490.py:1: UserWarning: Column names longer than 10 characters will be truncated when saved to ESRI Shapefile.\n",
      "  preso_gdf[['id', 'display_address', 'source_id', 'geometry']].to_file('data/preso_gdf')\n"
     ]
    },
    {
     "ename": "KeyboardInterrupt",
     "evalue": "",
     "output_type": "error",
     "traceback": [
      "\u001b[0;31m---------------------------------------------------------------------------\u001b[0m",
      "\u001b[0;31mKeyboardInterrupt\u001b[0m                         Traceback (most recent call last)",
      "Cell \u001b[0;32mIn[141], line 1\u001b[0m\n\u001b[0;32m----> 1\u001b[0m preso_gdf[[\u001b[39m'\u001b[39;49m\u001b[39mid\u001b[39;49m\u001b[39m'\u001b[39;49m, \u001b[39m'\u001b[39;49m\u001b[39mdisplay_address\u001b[39;49m\u001b[39m'\u001b[39;49m, \u001b[39m'\u001b[39;49m\u001b[39msource_id\u001b[39;49m\u001b[39m'\u001b[39;49m, \u001b[39m'\u001b[39;49m\u001b[39mgeometry\u001b[39;49m\u001b[39m'\u001b[39;49m]]\u001b[39m.\u001b[39;49mto_file(\u001b[39m'\u001b[39;49m\u001b[39mdata/preso_gdf\u001b[39;49m\u001b[39m'\u001b[39;49m)\n",
      "File \u001b[0;32m~/anaconda3/envs/pluto/lib/python3.10/site-packages/geopandas/geodataframe.py:1086\u001b[0m, in \u001b[0;36mGeoDataFrame.to_file\u001b[0;34m(self, filename, driver, schema, index, **kwargs)\u001b[0m\n\u001b[1;32m   1027\u001b[0m \u001b[39m\u001b[39m\u001b[39m\"\"\"Write the ``GeoDataFrame`` to a file.\u001b[39;00m\n\u001b[1;32m   1028\u001b[0m \n\u001b[1;32m   1029\u001b[0m \u001b[39mBy default, an ESRI shapefile is written, but any OGR data source\u001b[39;00m\n\u001b[0;32m   (...)\u001b[0m\n\u001b[1;32m   1082\u001b[0m \u001b[39m>>> gdf.to_file('dataframe.shp', mode=\"a\")  # doctest: +SKIP\u001b[39;00m\n\u001b[1;32m   1083\u001b[0m \u001b[39m\"\"\"\u001b[39;00m\n\u001b[1;32m   1084\u001b[0m \u001b[39mfrom\u001b[39;00m \u001b[39mgeopandas\u001b[39;00m\u001b[39m.\u001b[39;00m\u001b[39mio\u001b[39;00m\u001b[39m.\u001b[39;00m\u001b[39mfile\u001b[39;00m \u001b[39mimport\u001b[39;00m _to_file\n\u001b[0;32m-> 1086\u001b[0m _to_file(\u001b[39mself\u001b[39;49m, filename, driver, schema, index, \u001b[39m*\u001b[39;49m\u001b[39m*\u001b[39;49mkwargs)\n",
      "File \u001b[0;32m~/anaconda3/envs/pluto/lib/python3.10/site-packages/geopandas/io/file.py:330\u001b[0m, in \u001b[0;36m_to_file\u001b[0;34m(df, filename, driver, schema, index, mode, crs, **kwargs)\u001b[0m\n\u001b[1;32m    326\u001b[0m     crs_wkt \u001b[39m=\u001b[39m crs\u001b[39m.\u001b[39mto_wkt(\u001b[39m\"\u001b[39m\u001b[39mWKT1_GDAL\u001b[39m\u001b[39m\"\u001b[39m)\n\u001b[1;32m    327\u001b[0m \u001b[39mwith\u001b[39;00m fiona\u001b[39m.\u001b[39mopen(\n\u001b[1;32m    328\u001b[0m     filename, mode\u001b[39m=\u001b[39mmode, driver\u001b[39m=\u001b[39mdriver, crs_wkt\u001b[39m=\u001b[39mcrs_wkt, schema\u001b[39m=\u001b[39mschema, \u001b[39m*\u001b[39m\u001b[39m*\u001b[39mkwargs\n\u001b[1;32m    329\u001b[0m ) \u001b[39mas\u001b[39;00m colxn:\n\u001b[0;32m--> 330\u001b[0m     colxn\u001b[39m.\u001b[39;49mwriterecords(df\u001b[39m.\u001b[39;49miterfeatures())\n",
      "File \u001b[0;32m~/anaconda3/envs/pluto/lib/python3.10/site-packages/fiona/collection.py:549\u001b[0m, in \u001b[0;36mCollection.writerecords\u001b[0;34m(self, records)\u001b[0m\n\u001b[1;32m    547\u001b[0m \u001b[39mif\u001b[39;00m \u001b[39mself\u001b[39m\u001b[39m.\u001b[39mmode \u001b[39mnot\u001b[39;00m \u001b[39min\u001b[39;00m (\u001b[39m\"\u001b[39m\u001b[39ma\u001b[39m\u001b[39m\"\u001b[39m, \u001b[39m\"\u001b[39m\u001b[39mw\u001b[39m\u001b[39m\"\u001b[39m):\n\u001b[1;32m    548\u001b[0m     \u001b[39mraise\u001b[39;00m \u001b[39mOSError\u001b[39;00m(\u001b[39m\"\u001b[39m\u001b[39mcollection not open for writing\u001b[39m\u001b[39m\"\u001b[39m)\n\u001b[0;32m--> 549\u001b[0m \u001b[39mself\u001b[39;49m\u001b[39m.\u001b[39;49msession\u001b[39m.\u001b[39;49mwriterecs(records, \u001b[39mself\u001b[39;49m)\n\u001b[1;32m    550\u001b[0m \u001b[39mself\u001b[39m\u001b[39m.\u001b[39m_len \u001b[39m=\u001b[39m \u001b[39mself\u001b[39m\u001b[39m.\u001b[39msession\u001b[39m.\u001b[39mget_length()\n\u001b[1;32m    551\u001b[0m \u001b[39mself\u001b[39m\u001b[39m.\u001b[39m_bounds \u001b[39m=\u001b[39m \u001b[39mNone\u001b[39;00m\n",
      "File \u001b[0;32mfiona/ogrext.pyx:1391\u001b[0m, in \u001b[0;36mfiona.ogrext.WritingSession.writerecs\u001b[0;34m()\u001b[0m\n",
      "File \u001b[0;32m~/anaconda3/envs/pluto/lib/python3.10/site-packages/geopandas/geodataframe.py:838\u001b[0m, in \u001b[0;36mGeoDataFrame.iterfeatures\u001b[0;34m(self, na, show_bbox, drop_id)\u001b[0m\n\u001b[1;32m    836\u001b[0m feature[\u001b[39m\"\u001b[39m\u001b[39mtype\u001b[39m\u001b[39m\"\u001b[39m] \u001b[39m=\u001b[39m \u001b[39m\"\u001b[39m\u001b[39mFeature\u001b[39m\u001b[39m\"\u001b[39m\n\u001b[1;32m    837\u001b[0m feature[\u001b[39m\"\u001b[39m\u001b[39mproperties\u001b[39m\u001b[39m\"\u001b[39m] \u001b[39m=\u001b[39m properties_items\n\u001b[0;32m--> 838\u001b[0m feature[\u001b[39m\"\u001b[39m\u001b[39mgeometry\u001b[39m\u001b[39m\"\u001b[39m] \u001b[39m=\u001b[39m mapping(geom) \u001b[39mif\u001b[39;00m geom \u001b[39melse\u001b[39;00m \u001b[39mNone\u001b[39;00m\n\u001b[1;32m    840\u001b[0m \u001b[39mif\u001b[39;00m show_bbox:\n\u001b[1;32m    841\u001b[0m     feature[\u001b[39m\"\u001b[39m\u001b[39mbbox\u001b[39m\u001b[39m\"\u001b[39m] \u001b[39m=\u001b[39m geom\u001b[39m.\u001b[39mbounds \u001b[39mif\u001b[39;00m geom \u001b[39melse\u001b[39;00m \u001b[39mNone\u001b[39;00m\n",
      "File \u001b[0;32m~/anaconda3/envs/pluto/lib/python3.10/site-packages/shapely/geometry/geo.py:136\u001b[0m, in \u001b[0;36mmapping\u001b[0;34m(ob)\u001b[0m\n\u001b[1;32m    116\u001b[0m \u001b[39mdef\u001b[39;00m \u001b[39mmapping\u001b[39m(ob):\n\u001b[1;32m    117\u001b[0m \u001b[39m    \u001b[39m\u001b[39m\"\"\"\u001b[39;00m\n\u001b[1;32m    118\u001b[0m \u001b[39m    Returns a GeoJSON-like mapping from a Geometry or any\u001b[39;00m\n\u001b[1;32m    119\u001b[0m \u001b[39m    object which implements __geo_interface__\u001b[39;00m\n\u001b[0;32m   (...)\u001b[0m\n\u001b[1;32m    134\u001b[0m \u001b[39m    {'type': 'Point', 'coordinates': (0.0, 0.0)}\u001b[39;00m\n\u001b[1;32m    135\u001b[0m \u001b[39m    \"\"\"\u001b[39;00m\n\u001b[0;32m--> 136\u001b[0m     \u001b[39mreturn\u001b[39;00m ob\u001b[39m.\u001b[39;49m__geo_interface__\n",
      "File \u001b[0;32m~/anaconda3/envs/pluto/lib/python3.10/site-packages/shapely/geometry/polygon.py:265\u001b[0m, in \u001b[0;36mPolygon.__geo_interface__\u001b[0;34m(self)\u001b[0m\n\u001b[1;32m    263\u001b[0m     coords \u001b[39m=\u001b[39m []\n\u001b[1;32m    264\u001b[0m \u001b[39melse\u001b[39;00m:\n\u001b[0;32m--> 265\u001b[0m     coords \u001b[39m=\u001b[39m [\u001b[39mtuple\u001b[39m(\u001b[39mself\u001b[39;49m\u001b[39m.\u001b[39;49mexterior\u001b[39m.\u001b[39;49mcoords)]\n\u001b[1;32m    266\u001b[0m     \u001b[39mfor\u001b[39;00m hole \u001b[39min\u001b[39;00m \u001b[39mself\u001b[39m\u001b[39m.\u001b[39minteriors:\n\u001b[1;32m    267\u001b[0m         coords\u001b[39m.\u001b[39mappend(\u001b[39mtuple\u001b[39m(hole\u001b[39m.\u001b[39mcoords))\n",
      "File \u001b[0;32m~/anaconda3/envs/pluto/lib/python3.10/site-packages/shapely/geometry/base.py:207\u001b[0m, in \u001b[0;36mBaseGeometry.coords\u001b[0;34m(self)\u001b[0m\n\u001b[1;32m    205\u001b[0m \u001b[39m\u001b[39m\u001b[39m\"\"\"Access to geometry's coordinates (CoordinateSequence)\"\"\"\u001b[39;00m\n\u001b[1;32m    206\u001b[0m coords_array \u001b[39m=\u001b[39m shapely\u001b[39m.\u001b[39mget_coordinates(\u001b[39mself\u001b[39m, include_z\u001b[39m=\u001b[39m\u001b[39mself\u001b[39m\u001b[39m.\u001b[39mhas_z)\n\u001b[0;32m--> 207\u001b[0m \u001b[39mreturn\u001b[39;00m CoordinateSequence(coords_array)\n",
      "File \u001b[0;32m~/anaconda3/envs/pluto/lib/python3.10/site-packages/shapely/coords.py:20\u001b[0m, in \u001b[0;36mCoordinateSequence.__init__\u001b[0;34m(self, coords)\u001b[0m\n\u001b[1;32m      6\u001b[0m \u001b[39mclass\u001b[39;00m \u001b[39mCoordinateSequence\u001b[39;00m:\n\u001b[1;32m      7\u001b[0m \u001b[39m    \u001b[39m\u001b[39m\"\"\"\u001b[39;00m\n\u001b[1;32m      8\u001b[0m \u001b[39m    Iterative access to coordinate tuples from the parent geometry's coordinate\u001b[39;00m\n\u001b[1;32m      9\u001b[0m \u001b[39m    sequence.\u001b[39;00m\n\u001b[0;32m   (...)\u001b[0m\n\u001b[1;32m     17\u001b[0m \n\u001b[1;32m     18\u001b[0m \u001b[39m    \"\"\"\u001b[39;00m\n\u001b[0;32m---> 20\u001b[0m     \u001b[39mdef\u001b[39;00m \u001b[39m__init__\u001b[39m(\u001b[39mself\u001b[39m, coords):\n\u001b[1;32m     21\u001b[0m         \u001b[39mself\u001b[39m\u001b[39m.\u001b[39m_coords \u001b[39m=\u001b[39m coords\n\u001b[1;32m     23\u001b[0m     \u001b[39mdef\u001b[39;00m \u001b[39m__len__\u001b[39m(\u001b[39mself\u001b[39m):\n",
      "\u001b[0;31mKeyboardInterrupt\u001b[0m: "
     ]
    }
   ],
   "source": [
    "preso_gdf[['id', 'display_address', 'source_id', 'geometry']].to_file('data/preso_gdf')"
   ]
  },
  {
   "cell_type": "code",
   "execution_count": null,
   "metadata": {},
   "outputs": [
    {
     "name": "stderr",
     "output_type": "stream",
     "text": [
      "/Users/arnavmalhotra/anaconda3/envs/pluto/lib/python3.10/site-packages/geopandas/io/file.py:299: FutureWarning: pandas.Int64Index is deprecated and will be removed from pandas in a future version. Use pandas.Index with the appropriate dtype instead.\n",
      "  pd.Int64Index,\n"
     ]
    }
   ],
   "source": [
    "no_dupes_gdf.to_file('data/no_dupes')"
   ]
  },
  {
   "cell_type": "code",
   "execution_count": 11,
   "metadata": {},
   "outputs": [
    {
     "name": "stderr",
     "output_type": "stream",
     "text": [
      "/var/folders/_3/v349phgn4ljd3jkf3ll9p2cm0000gp/T/ipykernel_88794/3336320074.py:1: DtypeWarning: Columns (3,4) have mixed types. Specify dtype option on import or set low_memory=False.\n",
      "  update_df = pd.read_csv('data/update_df.csv')\n"
     ]
    }
   ],
   "source": [
    "update_df = pd.read_csv('data/update_df.csv')\n",
    "update_df['id'] = pd.to_numeric(update_df['id'], 'coerce')"
   ]
  },
  {
   "cell_type": "code",
   "execution_count": 12,
   "metadata": {},
   "outputs": [
    {
     "data": {
      "text/html": [
       "<div>\n",
       "<style scoped>\n",
       "    .dataframe tbody tr th:only-of-type {\n",
       "        vertical-align: middle;\n",
       "    }\n",
       "\n",
       "    .dataframe tbody tr th {\n",
       "        vertical-align: top;\n",
       "    }\n",
       "\n",
       "    .dataframe thead th {\n",
       "        text-align: right;\n",
       "    }\n",
       "</style>\n",
       "<table border=\"1\" class=\"dataframe\">\n",
       "  <thead>\n",
       "    <tr style=\"text-align: right;\">\n",
       "      <th></th>\n",
       "      <th>Unnamed: 0</th>\n",
       "      <th>id</th>\n",
       "      <th>field_name</th>\n",
       "      <th>old_value</th>\n",
       "      <th>new_value</th>\n",
       "      <th>in_search</th>\n",
       "    </tr>\n",
       "  </thead>\n",
       "  <tbody>\n",
       "    <tr>\n",
       "      <th>53478</th>\n",
       "      <td>53478</td>\n",
       "      <td>636458</td>\n",
       "      <td>num_units</td>\n",
       "      <td>802.0</td>\n",
       "      <td>19201.0</td>\n",
       "      <td>True</td>\n",
       "    </tr>\n",
       "    <tr>\n",
       "      <th>371232</th>\n",
       "      <td>371232</td>\n",
       "      <td>636458</td>\n",
       "      <td>lot_area</td>\n",
       "      <td>1800.0</td>\n",
       "      <td>38000</td>\n",
       "      <td>True</td>\n",
       "    </tr>\n",
       "    <tr>\n",
       "      <th>452828</th>\n",
       "      <td>452828</td>\n",
       "      <td>636458</td>\n",
       "      <td>lot_front</td>\n",
       "      <td>18.0</td>\n",
       "      <td>20.5</td>\n",
       "      <td>True</td>\n",
       "    </tr>\n",
       "    <tr>\n",
       "      <th>484129</th>\n",
       "      <td>484129</td>\n",
       "      <td>636458</td>\n",
       "      <td>building_class</td>\n",
       "      <td>V1</td>\n",
       "      <td>RM</td>\n",
       "      <td>True</td>\n",
       "    </tr>\n",
       "    <tr>\n",
       "      <th>499306</th>\n",
       "      <td>499306</td>\n",
       "      <td>636458</td>\n",
       "      <td>building_front</td>\n",
       "      <td>0.0</td>\n",
       "      <td>190.0</td>\n",
       "      <td>True</td>\n",
       "    </tr>\n",
       "    <tr>\n",
       "      <th>513906</th>\n",
       "      <td>513906</td>\n",
       "      <td>636458</td>\n",
       "      <td>building_depth</td>\n",
       "      <td>0.0</td>\n",
       "      <td>200.0</td>\n",
       "      <td>True</td>\n",
       "    </tr>\n",
       "    <tr>\n",
       "      <th>539262</th>\n",
       "      <td>539262</td>\n",
       "      <td>636458</td>\n",
       "      <td>building_area</td>\n",
       "      <td>0.0</td>\n",
       "      <td>707634</td>\n",
       "      <td>True</td>\n",
       "    </tr>\n",
       "    <tr>\n",
       "      <th>1132712</th>\n",
       "      <td>1132712</td>\n",
       "      <td>636458</td>\n",
       "      <td>geometry_x</td>\n",
       "      <td>MULTIPOLYGON (((-73.944240962493 40.7479289436...</td>\n",
       "      <td>POLYGON ((-73.94420534847346 40.74763782275416...</td>\n",
       "      <td>True</td>\n",
       "    </tr>\n",
       "  </tbody>\n",
       "</table>\n",
       "</div>"
      ],
      "text/plain": [
       "         Unnamed: 0      id      field_name  \\\n",
       "53478         53478  636458       num_units   \n",
       "371232       371232  636458        lot_area   \n",
       "452828       452828  636458       lot_front   \n",
       "484129       484129  636458  building_class   \n",
       "499306       499306  636458  building_front   \n",
       "513906       513906  636458  building_depth   \n",
       "539262       539262  636458   building_area   \n",
       "1132712     1132712  636458      geometry_x   \n",
       "\n",
       "                                                 old_value  \\\n",
       "53478                                                802.0   \n",
       "371232                                              1800.0   \n",
       "452828                                                18.0   \n",
       "484129                                                  V1   \n",
       "499306                                                 0.0   \n",
       "513906                                                 0.0   \n",
       "539262                                                 0.0   \n",
       "1132712  MULTIPOLYGON (((-73.944240962493 40.7479289436...   \n",
       "\n",
       "                                                 new_value  in_search  \n",
       "53478                                              19201.0       True  \n",
       "371232                                               38000       True  \n",
       "452828                                                20.5       True  \n",
       "484129                                                  RM       True  \n",
       "499306                                               190.0       True  \n",
       "513906                                               200.0       True  \n",
       "539262                                              707634       True  \n",
       "1132712  POLYGON ((-73.94420534847346 40.74763782275416...       True  "
      ]
     },
     "execution_count": 12,
     "metadata": {},
     "output_type": "execute_result"
    }
   ],
   "source": [
    "update_df[update_df['id'] == 636458]"
   ]
  },
  {
   "cell_type": "code",
   "execution_count": 13,
   "metadata": {},
   "outputs": [
    {
     "data": {
      "text/html": [
       "<div>\n",
       "<style scoped>\n",
       "    .dataframe tbody tr th:only-of-type {\n",
       "        vertical-align: middle;\n",
       "    }\n",
       "\n",
       "    .dataframe tbody tr th {\n",
       "        vertical-align: top;\n",
       "    }\n",
       "\n",
       "    .dataframe thead th {\n",
       "        text-align: right;\n",
       "    }\n",
       "</style>\n",
       "<table border=\"1\" class=\"dataframe\">\n",
       "  <thead>\n",
       "    <tr style=\"text-align: right;\">\n",
       "      <th></th>\n",
       "      <th>id</th>\n",
       "      <th>city</th>\n",
       "      <th>state</th>\n",
       "      <th>zip</th>\n",
       "      <th>google_map_params</th>\n",
       "      <th>building_bike_storage</th>\n",
       "      <th>building_doorman</th>\n",
       "      <th>building_elevator</th>\n",
       "      <th>building_gym</th>\n",
       "      <th>building_laundry</th>\n",
       "      <th>...</th>\n",
       "      <th>appbbl</th>\n",
       "      <th>appdate</th>\n",
       "      <th>plutomapid</th>\n",
       "      <th>firm07_flag</th>\n",
       "      <th>pfirm15_flag</th>\n",
       "      <th>version</th>\n",
       "      <th>dcpedited</th>\n",
       "      <th>latitude</th>\n",
       "      <th>longitude</th>\n",
       "      <th>notes</th>\n",
       "    </tr>\n",
       "  </thead>\n",
       "  <tbody>\n",
       "    <tr>\n",
       "      <th>588521</th>\n",
       "      <td>636458</td>\n",
       "      <td>Queens</td>\n",
       "      <td>NY</td>\n",
       "      <td>11101</td>\n",
       "      <td>None</td>\n",
       "      <td>None</td>\n",
       "      <td>None</td>\n",
       "      <td>None</td>\n",
       "      <td>None</td>\n",
       "      <td>None</td>\n",
       "      <td>...</td>\n",
       "      <td>NaN</td>\n",
       "      <td>NaN</td>\n",
       "      <td>1</td>\n",
       "      <td>NaN</td>\n",
       "      <td>NaN</td>\n",
       "      <td>23v1.1</td>\n",
       "      <td>NaN</td>\n",
       "      <td>40.747961</td>\n",
       "      <td>-73.944457</td>\n",
       "      <td>NaN</td>\n",
       "    </tr>\n",
       "  </tbody>\n",
       "</table>\n",
       "<p>1 rows × 197 columns</p>\n",
       "</div>"
      ],
      "text/plain": [
       "            id    city state    zip google_map_params building_bike_storage  \\\n",
       "588521  636458  Queens    NY  11101              None                  None   \n",
       "\n",
       "       building_doorman building_elevator building_gym building_laundry  ...  \\\n",
       "588521             None              None         None             None  ...   \n",
       "\n",
       "       appbbl appdate plutomapid firm07_flag pfirm15_flag  version  dcpedited  \\\n",
       "588521    NaN     NaN          1         NaN          NaN   23v1.1        NaN   \n",
       "\n",
       "         latitude  longitude notes  \n",
       "588521  40.747961 -73.944457   NaN  \n",
       "\n",
       "[1 rows x 197 columns]"
      ]
     },
     "execution_count": 13,
     "metadata": {},
     "output_type": "execute_result"
    }
   ],
   "source": [
    "matched_buildings[matched_buildings['id'] == 636458]"
   ]
  },
  {
   "cell_type": "code",
   "execution_count": 28,
   "metadata": {},
   "outputs": [
    {
     "data": {
      "text/plain": [
       "594114    pluto_v17_1\n",
       "Name: source, dtype: object"
      ]
     },
     "execution_count": 28,
     "metadata": {},
     "output_type": "execute_result"
    }
   ],
   "source": [
    "preso[preso['id'] == 514129]['source']"
   ]
  },
  {
   "cell_type": "code",
   "execution_count": 14,
   "metadata": {},
   "outputs": [
    {
     "data": {
      "text/html": [
       "<div>\n",
       "<style scoped>\n",
       "    .dataframe tbody tr th:only-of-type {\n",
       "        vertical-align: middle;\n",
       "    }\n",
       "\n",
       "    .dataframe tbody tr th {\n",
       "        vertical-align: top;\n",
       "    }\n",
       "\n",
       "    .dataframe thead th {\n",
       "        text-align: right;\n",
       "    }\n",
       "</style>\n",
       "<table border=\"1\" class=\"dataframe\">\n",
       "  <thead>\n",
       "    <tr style=\"text-align: right;\">\n",
       "      <th></th>\n",
       "      <th>borough</th>\n",
       "      <th>block</th>\n",
       "      <th>lot</th>\n",
       "      <th>cd</th>\n",
       "      <th>bct2020</th>\n",
       "      <th>bctcb2020</th>\n",
       "      <th>ct2010</th>\n",
       "      <th>cb2010</th>\n",
       "      <th>schooldist</th>\n",
       "      <th>council</th>\n",
       "      <th>...</th>\n",
       "      <th>appbbl</th>\n",
       "      <th>appdate</th>\n",
       "      <th>plutomapid</th>\n",
       "      <th>firm07_flag</th>\n",
       "      <th>pfirm15_flag</th>\n",
       "      <th>version</th>\n",
       "      <th>dcpedited</th>\n",
       "      <th>latitude</th>\n",
       "      <th>longitude</th>\n",
       "      <th>notes</th>\n",
       "    </tr>\n",
       "  </thead>\n",
       "  <tbody>\n",
       "    <tr>\n",
       "      <th>692294</th>\n",
       "      <td>QN</td>\n",
       "      <td>437</td>\n",
       "      <td>7502</td>\n",
       "      <td>402.0</td>\n",
       "      <td>4001903.0</td>\n",
       "      <td>4.001903e+10</td>\n",
       "      <td>19.0</td>\n",
       "      <td>1059.0</td>\n",
       "      <td>30.0</td>\n",
       "      <td>26.0</td>\n",
       "      <td>...</td>\n",
       "      <td>NaN</td>\n",
       "      <td>NaN</td>\n",
       "      <td>1</td>\n",
       "      <td>NaN</td>\n",
       "      <td>NaN</td>\n",
       "      <td>23v1.1</td>\n",
       "      <td>NaN</td>\n",
       "      <td>40.747961</td>\n",
       "      <td>-73.944457</td>\n",
       "      <td>NaN</td>\n",
       "    </tr>\n",
       "  </tbody>\n",
       "</table>\n",
       "<p>1 rows × 92 columns</p>\n",
       "</div>"
      ],
      "text/plain": [
       "       borough  block   lot     cd    bct2020     bctcb2020  ct2010  cb2010  \\\n",
       "692294      QN    437  7502  402.0  4001903.0  4.001903e+10    19.0  1059.0   \n",
       "\n",
       "        schooldist  council  ...  appbbl appdate  plutomapid  firm07_flag  \\\n",
       "692294        30.0     26.0  ...     NaN     NaN           1          NaN   \n",
       "\n",
       "        pfirm15_flag  version  dcpedited   latitude  longitude notes  \n",
       "692294           NaN   23v1.1        NaN  40.747961 -73.944457   NaN  \n",
       "\n",
       "[1 rows x 92 columns]"
      ]
     },
     "execution_count": 14,
     "metadata": {},
     "output_type": "execute_result"
    }
   ],
   "source": [
    "pluto[pluto['bbl'] == 4004377502]"
   ]
  },
  {
   "cell_type": "code",
   "execution_count": 27,
   "metadata": {},
   "outputs": [
    {
     "data": {
      "text/html": [
       "<div>\n",
       "<style scoped>\n",
       "    .dataframe tbody tr th:only-of-type {\n",
       "        vertical-align: middle;\n",
       "    }\n",
       "\n",
       "    .dataframe tbody tr th {\n",
       "        vertical-align: top;\n",
       "    }\n",
       "\n",
       "    .dataframe thead th {\n",
       "        text-align: right;\n",
       "    }\n",
       "</style>\n",
       "<table border=\"1\" class=\"dataframe\">\n",
       "  <thead>\n",
       "    <tr style=\"text-align: right;\">\n",
       "      <th></th>\n",
       "      <th>address</th>\n",
       "      <th>bbl</th>\n",
       "    </tr>\n",
       "  </thead>\n",
       "  <tbody>\n",
       "    <tr>\n",
       "      <th>65639</th>\n",
       "      <td>9-11 44 DRIVE</td>\n",
       "      <td>4.004500e+09</td>\n",
       "    </tr>\n",
       "    <tr>\n",
       "      <th>413917</th>\n",
       "      <td>11-11 44 DRIVE</td>\n",
       "      <td>4.004470e+09</td>\n",
       "    </tr>\n",
       "  </tbody>\n",
       "</table>\n",
       "</div>"
      ],
      "text/plain": [
       "               address           bbl\n",
       "65639    9-11 44 DRIVE  4.004500e+09\n",
       "413917  11-11 44 DRIVE  4.004470e+09"
      ]
     },
     "execution_count": 27,
     "metadata": {},
     "output_type": "execute_result"
    }
   ],
   "source": [
    "pluto['address'].fillna('na', inplace=True)\n",
    "pluto[pluto['address'].str.contains('11 44 DRIVE')][['address', 'bbl']]"
   ]
  },
  {
   "cell_type": "code",
   "execution_count": 18,
   "metadata": {},
   "outputs": [
    {
     "data": {
      "text/plain": [
       "'{\"type\": \"FeatureCollection\", \"features\": [{\"id\": \"428653\", \"type\": \"Feature\", \"properties\": {}, \"geometry\": {\"type\": \"Polygon\", \"coordinates\": [[[-73.94420534847346, 40.747637822754164], [-73.94421008999788, 40.7476245812946], [-73.9442740531848, 40.74763698074852], [-73.94434051551112, 40.747649865020755], [-73.94440116869998, 40.74766162254412], [-73.94447048533753, 40.747675060953874], [-73.94456094254194, 40.74769259601946], [-73.94489668008083, 40.74775768124105], [-73.94486061047967, 40.74785842412541], [-73.94479696974952, 40.748036172165904], [-73.94470239876253, 40.74830031052474], [-73.94436666452401, 40.74823520859924], [-73.9440169470451, 40.74816739462963], [-73.94410764390622, 40.74790191854325], [-73.94419747648031, 40.74765101935653], [-73.9442155250827, 40.74763979522918], [-73.94420534847346, 40.747637822754164]]]}, \"bbox\": [-73.94489668008083, 40.7476245812946, -73.9440169470451, 40.74830031052474]}], \"bbox\": [-73.94489668008083, 40.7476245812946, -73.9440169470451, 40.74830031052474]}'"
      ]
     },
     "execution_count": 18,
     "metadata": {},
     "output_type": "execute_result"
    }
   ],
   "source": [
    "gdf[gdf['BBL'] == 4004377502]['geometry'].to_json()"
   ]
  },
  {
   "cell_type": "code",
   "execution_count": 19,
   "metadata": {},
   "outputs": [
    {
     "data": {
      "text/plain": [
       "428653    POLYGON ((-73.94421 40.74764, -73.94421 40.747...\n",
       "Name: geometry, dtype: geometry"
      ]
     },
     "execution_count": 19,
     "metadata": {},
     "output_type": "execute_result"
    }
   ],
   "source": [
    "gdf[gdf['BBL'] == 4004377502]['geometry']"
   ]
  },
  {
   "cell_type": "code",
   "execution_count": 8,
   "metadata": {},
   "outputs": [
    {
     "data": {
      "text/plain": [
       "'{\"type\":\"MultiPolygon\",\"coordinates\":[[[[-73.94420534847346,40.747637822754164],[-73.94421008999788,40.7476245812946],[-73.9442740531848,40.74763698074852],[-73.94434051551112,40.747649865020755],[-73.94440116869998,40.74766162254412],[-73.94447048533753,40.747675060953874],[-73.94456094254194,40.74769259601946],[-73.94489668008083,40.74775768124105],[-73.94486061047967,40.74785842412541],[-73.94479696974952,40.748036172165904],[-73.94470239876253,40.74830031052474],[-73.94436666452401,40.74823520859924],[-73.9440169470451,40.74816739462963],[-73.94410764390622,40.74790191854325],[-73.94419747648031,40.74765101935653],[-73.9442155250827,40.74763979522918],[-73.94420534847346,40.747637822754164]]]]}'"
      ]
     },
     "execution_count": 8,
     "metadata": {},
     "output_type": "execute_result"
    }
   ],
   "source": [
    "from shapely.geometry.multipolygon import MultiPolygon\n",
    "from shapely import to_geojson\n",
    "m = MultiPolygon([gdf[gdf['BBL'] == 4004377502]['geometry'].item()])\n",
    "to_geojson(m)"
   ]
  },
  {
   "cell_type": "code",
   "execution_count": 15,
   "metadata": {},
   "outputs": [
    {
     "data": {
      "text/plain": [
       "['{\"type\":\"MultiPolygon\",\"coordinates\":[[[[-74.01208461672105,40.692051314720516],[-74.01214566414592,40.69203822219325],[-74.01220121297158,40.69204419488755],[-74.01232466003289,40.69209116083113],[-74.01235945131845,40.69210738615592],[-74.0123897516398,40.69212275742716],[-74.01240883072332,40.692133858707955],[-74.0124301561227,40.69215521212171],[-74.01244811749179,40.69219364494922],[-74.01245766028099,40.69221286264119],[-74.01254013665607,40.69219619980666],[-74.01255921308709,40.692192778527854],[-74.01262527212305,40.692179572351044],[-74.01282852345757,40.6921389393151],[-74.01322351230438,40.69205860411361],[-74.01324483280364,40.69205433146317],[-74.01328522976273,40.69204664016842],[-74.01330318329525,40.692042367051904],[-74.01331440493563,40.692037240009846],[-74.01332674728117,40.692027844518186],[-74.01333235455567,40.692019301630594],[-74.0133351589944,40.692009904460946],[-74.01333347343666,40.69199965595879],[-74.01332561499622,40.69198513515223],[-74.01331551368865,40.691972325641714],[-74.01327510787881,40.69193474741274],[-74.01326556831144,40.6919262062406],[-74.01297543424884,40.6916512026287],[-74.01289574608982,40.69157604395195],[-74.01287554375325,40.69155554777798],[-74.01286544340778,40.69154700487747],[-74.01281605806084,40.69150003505076],[-74.0127543353502,40.69147612514129],[-74.01265108323487,40.691399263243845],[-74.01262527407656,40.691408659191836],[-74.01261067878536,40.69136510126101],[-74.01259664339005,40.69132324879108],[-74.01258036350677,40.69127370890992],[-74.01255791077499,40.6912199003581],[-74.01252759770387,40.69114559157298],[-74.01248944347836,40.691143033671516],[-74.01248944174246,40.69113363865868],[-74.0122358326336,40.691125123086444],[-74.01220553537769,40.691123417954294],[-74.01220552597243,40.691071315283864],[-74.01220552473865,40.691064480395646],[-74.01220663663415,40.691011097003525],[-74.01221108363299,40.69077492389008],[-74.01222336640001,40.69044308409724],[-74.01223904354093,40.69026328364309],[-74.01225696194406,40.69006084675355],[-74.0122737536411,40.689837057980625],[-74.01228829773751,40.68959532940701],[-74.01230619397293,40.689280145798065],[-74.01271567301174,40.68877358950631],[-74.01272240416547,40.68876590204502],[-74.01273137965121,40.68875308949113],[-74.01274035298667,40.68874112877583],[-74.01274933015752,40.68873087726458],[-74.01275830337727,40.68871891930944],[-74.01278410464259,40.688685604765574],[-74.01286824461656,40.68858224203705],[-74.01288731587101,40.688556615943135],[-74.01294116248714,40.68848571629545],[-74.01296247831935,40.68845667245331],[-74.01299950016873,40.68841054319815],[-74.01301183919837,40.68839345916171],[-74.0130253007568,40.68837552039858],[-74.01303876367987,40.6883584361519],[-74.01306007745177,40.688331100575276],[-74.01307578272775,40.688311454110014],[-74.01313411785388,40.688237134707144],[-74.0131655266975,40.68818844497952],[-74.01318347640763,40.68816367172268],[-74.01323060027005,40.688139750614326],[-74.01325416263316,40.688129499255595],[-74.01328109003686,40.68811668278613],[-74.01330689645242,40.688106431163725],[-74.013351775656,40.68807994737412],[-74.01347856132185,40.688012453952766],[-74.01424711258869,40.68760237077165],[-74.01488101892619,40.687253796504166],[-74.0149113149132,40.687246960433875],[-74.01492028992249,40.68724524924933],[-74.01495507347985,40.68724011995806],[-74.01498537161216,40.68723755411581],[-74.01501454532442,40.68723755037613],[-74.01504147628852,40.68723840151955],[-74.01510543712854,40.6872443708931],[-74.01518398409807,40.68725461218471],[-74.01524906611142,40.68726400049411],[-74.0152591655214,40.6872597271716],[-74.01530629105599,40.68725459624605],[-74.01532424593152,40.687257156697896],[-74.0153354669574,40.68725886351156],[-74.01551837284966,40.687280193227004],[-74.01560701990965,40.68728872368632],[-74.01568332296358,40.68729469201096],[-74.0157585026732,40.68729211809656],[-74.01584490121162,40.68728185680058],[-74.01593915454205,40.68727074068692],[-74.01602218579146,40.68725877143257],[-74.01611868198155,40.68724252825517],[-74.01616580670954,40.687228854638946],[-74.01620507590737,40.687218599581485],[-74.01627015105726,40.68718954904387],[-74.0163486889566,40.68715195700927],[-74.01650351739792,40.68707506213245],[-74.01675820508416,40.686970818631224],[-74.0169579145115,40.68689135296938],[-74.0170364522084,40.68685632150822],[-74.01710377034473,40.68682556188538],[-74.01729450295022,40.686739264736616],[-74.01771971948925,40.68654530808732],[-74.01844000272204,40.686212929979234],[-74.01895159961066,40.68597539377684],[-74.01950807308401,40.68572503519409],[-74.02027097340945,40.68538409800996],[-74.0204302835345,40.68531061269033],[-74.02053910913747,40.68526276016416],[-74.02060081440035,40.6852354178012],[-74.02067149183122,40.68520294628305],[-74.02106639766926,40.68502264969486],[-74.02154095802607,40.68481073355686],[-74.021997565607,40.684603089015035],[-74.02222642714379,40.684498838234646],[-74.02231954356257,40.684456112706684],[-74.02238461197415,40.6844262050147],[-74.02239918671177,40.684419544006985],[-74.02403679052325,40.683921389787265],[-74.02406075994449,40.68392021088982],[-74.02418418521577,40.683918476154396],[-74.02425487428661,40.68392358711564],[-74.02432444009948,40.683923572577875],[-74.02433790483099,40.6839252780444],[-74.02436146743679,40.6839278350758],[-74.02440522737103,40.683930388698116],[-74.02453987651202,40.68394231825549],[-74.02458981724281,40.68394796288517],[-74.02590223553982,40.68435867921263],[-74.02592238943116,40.68437592999215],[-74.02603014058089,40.68446644524024],[-74.02610534447923,40.6845321972857],[-74.0261839176898,40.684610761953095],[-74.02628044401787,40.68468761505813],[-74.02633544382483,40.68473885164474],[-74.0263736108197,40.684784967258075],[-74.0264173922268,40.6848404766033],[-74.0264623058626,40.684917339524354],[-74.02652181776037,40.685028365459324],[-74.02656448545387,40.68510266864211],[-74.02658919395157,40.685159891486215],[-74.02661727376531,40.68523163334451],[-74.02663412805416,40.685293127308974],[-74.02663638975943,40.68533754361241],[-74.0266386380586,40.6853512102104],[-74.02664425768808,40.6853734155333],[-74.02665548905136,40.68539818337567],[-74.02666222764657,40.685414411744866],[-74.02667008982998,40.6854357628704],[-74.02667571057849,40.68545797095287],[-74.02667347225781,40.68547249134145],[-74.02667235597507,40.68549128256095],[-74.02666563625765,40.68552288757788],[-74.02667686595593,40.6855433860872],[-74.02667350551371,40.685556198449696],[-74.02667014988653,40.685586948091476],[-74.02666903978972,40.68561855366011],[-74.026670170924,40.68563990725062],[-74.02666457553872,40.685675781339555],[-74.02666121659124,40.68569542859592],[-74.02665785885145,40.685715074011675],[-74.02662983536788,40.68578597504193],[-74.0266141380631,40.68581416654803],[-74.02661750944999,40.685826123683306],[-74.0266231251949,40.685841497710136],[-74.02661864511826,40.68586199890288],[-74.02659285582473,40.6859081272377],[-74.02656818524132,40.685947424932664],[-74.02654800312311,40.68598159498532],[-74.0265121221756,40.686046520249526],[-74.02646726586407,40.686117424158944],[-74.02642577206126,40.6861746630171],[-74.02637642295477,40.68623104720113],[-74.0263124906228,40.68629512408057],[-74.02622051487047,40.686383977756975],[-74.02617452745176,40.68642840226549],[-74.02606572487784,40.6865300711114],[-74.02578418652166,40.68679406691211],[-74.02558004449381,40.68699740086975],[-74.02538710904219,40.68716656565751],[-74.02518744916357,40.68735623081718],[-74.02498441967222,40.68754504358671],[-74.02495974392221,40.68756811009545],[-74.02474887029005,40.6877868184699],[-74.02456378988053,40.68796452151916],[-74.02445722434818,40.688060208975514],[-74.02433944101672,40.688165295539186],[-74.02432261563919,40.68817981800881],[-74.02419473715703,40.68829430247076],[-74.02397151517401,40.68851301104316],[-74.02381110735901,40.688664230000164],[-74.02367425247391,40.6887915263765],[-74.02353627679062,40.688915406329635],[-74.02339044852899,40.689048682711345],[-74.02313356655458,40.6892947313584],[-74.02268486168113,40.689716771602725],[-74.02243918803542,40.689939752693824],[-74.02225072994608,40.6901217219387],[-74.02189960623106,40.69044295240663],[-74.02171457761347,40.69061869854423],[-74.01976260136573,40.69212699672205],[-74.01927201461963,40.69324013512355],[-74.01919828333241,40.69324248603575],[-74.0191500297633,40.693243349487744],[-74.01909728832696,40.69324677285711],[-74.01905801253054,40.69324934299998],[-74.01882235390437,40.69325792257947],[-74.01873706777548,40.69325708262349],[-74.0186854464793,40.69325111153403],[-74.01864167849679,40.6932451400037],[-74.01861025638955,40.69324001841262],[-74.01858107908038,40.69324087766272],[-74.01855190117239,40.693239174020924],[-74.0183891846487,40.69324176357276],[-74.01801774613665,40.693265738110476],[-74.01772822621635,40.693281155959305],[-74.01742074837829,40.693298285796786],[-74.0172322273529,40.69331966582093],[-74.0171188868926,40.69332566100868],[-74.0170066710023,40.69334361557329],[-74.01690567819837,40.69335302699086],[-74.01682151062812,40.69334535148657],[-74.01673734725827,40.69334963289307],[-74.01668909178363,40.693342806744994],[-74.01665991307935,40.69333341673308],[-74.01654656515282,40.693304390435266],[-74.01634456078956,40.69326598411718],[-74.0162671270381,40.693255741703965],[-74.01622224386645,40.69327539624206],[-74.01618745787586,40.693283087789695],[-74.0161638909758,40.69327967272649],[-74.0161021645249,40.69325661913139],[-74.01605165964934,40.69323356580546],[-74.01595402067319,40.69319685087704],[-74.0157834408532,40.69315672832659],[-74.01543330070054,40.69308075473283],[-74.01538840897905,40.693068802748385],[-74.01536933189841,40.69306453325077],[-74.01532331873005,40.693053008228894],[-74.01530311968996,40.693047460102704],[-74.01527842725412,40.69304148488243],[-74.01524924901263,40.69302782158896],[-74.01523353588192,40.69302013690618],[-74.01518190934276,40.69299451861968],[-74.01515329888527,40.693016729833126],[-74.01510560402471,40.693007340064234],[-74.01508428195554,40.69300050976592],[-74.015066324399,40.69299282442933],[-74.01490135655993,40.69296124209816],[-74.0148901346807,40.692959962920696],[-74.01488059662671,40.69296039013725],[-74.01486095979826,40.692971497679686],[-74.01485086058143,40.692975200058235],[-74.01484216498748,40.69297598464926],[-74.0147913836145,40.69296723448224],[-74.01469150528749,40.6929484578669],[-74.01458377096193,40.69292797034584],[-74.01454561398914,40.69292285116122],[-74.0144558385634,40.69291688198496],[-74.01438962866666,40.692908349639715],[-74.01437395589375,40.692905828083944],[-74.01433127307759,40.69289896085975],[-74.01430209405014,40.692891275855374],[-74.0142751616076,40.692882738728755],[-74.01426281495839,40.6928776153841],[-74.01424934887498,40.69287163765645],[-74.0142257779299,40.6928588280233],[-74.01419435431895,40.692838331688016],[-74.01415058163641,40.692806733542355],[-74.01405293721727,40.69273585076324],[-74.01402487666306,40.69271279201519],[-74.01400018479285,40.69269144113981],[-74.01396875661312,40.69265984237142],[-74.01389692448046,40.69258553889511],[-74.01381049799674,40.692500134637164],[-74.01377570162202,40.69246170132347],[-74.01370498783655,40.692375439700825],[-74.01367243838874,40.69233785977309],[-74.01364886590838,40.69231651053261],[-74.01359387224511,40.6922729537435],[-74.01357142395669,40.692252458957064],[-74.01354673258221,40.69222598129529],[-74.01349622185809,40.69216534312201],[-74.01347152829875,40.69213972096585],[-74.01346591720639,40.692134597765765],[-74.01345918099747,40.69213032645203],[-74.01345132807259,40.69212605718858],[-74.01344347059353,40.69212264152418],[-74.0134322486282,40.69212007992463],[-74.01341878153957,40.692119512400744],[-74.01337501896766,40.69212862787604],[-74.0132919845781,40.692151699335604],[-74.01325607624328,40.69216024481104],[-74.01312702985517,40.692185028785715],[-74.0130810229421,40.69219443252957],[-74.0130585813287,40.692201264477234],[-74.01301033188594,40.692220063536496],[-74.01299798951906,40.69222348146962],[-74.0129867673302,40.69222604459087],[-74.01295422413075,40.69223117211345],[-74.01288352973158,40.692239721304745],[-74.01285323204269,40.692244851228885],[-74.01272643108193,40.692271342707265],[-74.01262527181659,40.69228972190669],[-74.01260411785977,40.69229356524204],[-74.01258840974462,40.69229783717234],[-74.012572699524,40.69230381637993],[-74.01255811343468,40.69231065282706],[-74.01254576940309,40.69231834187813],[-74.01253342810095,40.69232773728538],[-74.01252220745963,40.69233884453657],[-74.01251323371254,40.692350802467324],[-74.01250762420176,40.69236105175626],[-74.01249915549103,40.6923723644342],[-74.01208461672105,40.692051314720516]],[[-74.0184271505682,40.693147894569336],[-74.01842204170958,40.69271044047052],[-74.01826333726811,40.6927002067596],[-74.01708107220198,40.692623963772725],[-74.01706949013096,40.692728005982524],[-74.01707230716188,40.69272818753425],[-74.01706754542617,40.69277095888114],[-74.01700049511953,40.69276663448986],[-74.01698745511149,40.69288377585502],[-74.0170516884974,40.6928879187005],[-74.01703101123982,40.69307366305009],[-74.01703084256454,40.693075574822],[-74.01703076259116,40.69307749026132],[-74.01703076901141,40.6930794065257],[-74.01703086413221,40.69308132102072],[-74.01703104564375,40.69308323182017],[-74.01703131585668,40.693085137253696],[-74.01703167366786,40.69308703372219],[-74.0170321165511,40.69308892022356],[-74.0170326470332,40.69309079324189],[-74.01703326280436,40.69309265085365],[-74.0170339636458,40.693094491386155],[-74.01703474845637,40.693096312163114],[-74.01703561492796,40.69309811125955],[-74.01703656536904,40.693099885077274],[-74.01703759516099,40.693101633702],[-74.01703870529332,40.69310335353566],[-74.01703989235925,40.69310504273731],[-74.0170411575654,40.69310669946785],[-74.01704249717487,40.69310832205388],[-74.0170439101982,40.69310990765018],[-74.01704539542615,40.69311145450055],[-74.01704695153964,40.693112961685046],[-74.01704857512965,40.69311442569005],[-74.01705026377687,40.69311584643346],[-74.01705201748209,40.69311722039979],[-74.01705383382789,40.69311854834324],[-74.01705570940507,40.693119825913925],[-74.01705764168447,40.69312105394978],[-74.01705962956832,40.6931222296881],[-74.01706167074691,40.69312335145655],[-74.01706376148344,40.69312441825311],[-74.0170658995802,40.6931254292405],[-74.01706808382467,40.69312638341503],[-74.0170703094927,40.6931272782671],[-74.01707257526535,40.693128113545605],[-74.0170748778442,40.69312888766343],[-74.01707721458976,40.69312960053589],[-74.01707958209545,40.69313025124212],[-74.01708197805323,40.69313083802859],[-74.01708439993563,40.69313136181321],[-74.01708684433387,40.693131819753695],[-74.01708930762004,40.693132212936916],[-74.01709178869682,40.693132540359166],[-74.01709428272721,40.693132802021175],[-74.01709678619116,40.69313299708841],[-74.01718661650833,40.69313879043205],[-74.01718408685011,40.6931612999941],[-74.01718395828524,40.693162734472985],[-74.01718389600144,40.693164171701056],[-74.01718389988476,40.693165609840804],[-74.01718396883743,40.69316704612952],[-74.01718410527884,40.69316848065186],[-74.01718430678697,40.69316990972657],[-74.01718457336361,40.69317133343736],[-74.017184905008,40.693172748940256],[-74.01718530160964,40.69317415456124],[-74.01718576217793,40.69317554946421],[-74.01718628671384,40.693176930721286],[-74.01718687389636,40.69317829674121],[-74.01718752372719,40.69317964736036],[-74.01718823510497,40.69318097914461],[-74.01718900803114,40.693182291094004],[-74.0171898400844,40.693183582284895],[-74.01719073005873,40.69318485004358],[-74.01719167806047,40.693186093531075],[-74.01719268277226,40.69318731174503],[-74.017193743203,40.693188502090244],[-74.01719485671617,40.693189662729516],[-74.01719602353016,40.69319079357647],[-74.01719724001806,40.693191892875184],[-74.01719850738678,40.69319295987424],[-74.01719982332969,40.693193991643575],[-74.01720118531722,40.69319498743227],[-74.01720259225226,40.69319594715675],[-74.01720404171331,40.69319686905964],[-74.01720553392173,40.693197751300715],[-74.01720706502924,40.693198593964304],[-74.01720863283761,40.69319939428916],[-74.01721023734704,40.69320015319667],[-74.01721187602968,40.69320086976713],[-74.01721354679556,40.693201541321685],[-74.01721524590816,40.693202167778495],[-74.01721697446634,40.693202749306174],[-74.01721872675411,40.693203284815354],[-74.01722050397987,40.69320377263448],[-74.01722230240905,40.69320421359917],[-74.01722411973017,40.69320460595463],[-74.01722595363587,40.693204950619986],[-74.01722780280677,40.693205245672765],[-74.01722966394664,40.6932054912797],[-74.01723153441617,40.69320568819376],[-74.01723341443504,40.693205834742216],[-74.01730850680507,40.69321067734394],[-74.01738062820237,40.693210453217176],[-74.01826838064338,40.69315738572965],[-74.0184271505682,40.693147894569336]]]]}',\n",
       " '{\"type\":\"MultiPolygon\",\"coordinates\":[[[[-74.04262597137871,40.6900387859515],[-74.04257394913655,40.68997520921867],[-74.0425815988139,40.68995079950094],[-74.04263874166367,40.68992552733582],[-74.04269484743865,40.6899964148001],[-74.04272708703743,40.68998136098572],[-74.042694998039,40.69005628525752],[-74.04262597137871,40.6900387859515]]],[[[-74.04318297640073,40.689830633915456],[-74.04287172792422,40.68997472427156],[-74.04279180154741,40.6899511435634],[-74.04308511650567,40.68981418471289],[-74.04318297640073,40.689830633915456]]],[[[-74.04383060699307,40.689939493971636],[-74.04384862498283,40.68992739864606],[-74.04371194356015,40.68918186224848],[-74.04399394019077,40.688888592746295],[-74.04476776736047,40.68875406294338],[-74.04540090386972,40.688930258174544],[-74.04595686880053,40.68932644604762],[-74.04641417850654,40.69001423145112],[-74.04676666173714,40.689878434480804],[-74.04681856891155,40.68994521804086],[-74.0468321610535,40.68993716739912],[-74.04682766759198,40.68992988765407],[-74.04690091008096,40.68989360971532],[-74.04746087771677,40.68961744545803],[-74.04746929114107,40.68961699717828],[-74.0474777117424,40.689618297671664],[-74.04748556083955,40.68962117968506],[-74.04749301039236,40.68962619339004],[-74.04761476492541,40.689773188913534],[-74.04746560831958,40.689830653042705],[-74.04743235669031,40.68979043385904],[-74.04734149255236,40.68983746700745],[-74.04700324796475,40.69000383949583],[-74.04695675194162,40.69002669537266],[-74.04691813960427,40.690041571160364],[-74.04690848379806,40.690031954086336],[-74.04689224141956,40.69003987889739],[-74.04696005238881,40.69012711469817],[-74.04722064561714,40.69051902880582],[-74.04713245449231,40.69054128559375],[-74.04710347955753,40.690563428370666],[-74.0471189928239,40.690645838675096],[-74.04718360265562,40.69068422368421],[-74.04721195332706,40.69072287745366],[-74.0472130567438,40.69072914517444],[-74.04698517972562,40.69081693643461],[-74.04706529918266,40.69093742838802],[-74.04678435437145,40.69104266449779],[-74.04467477845222,40.69062123800947],[-74.04396194097924,40.69006602192852],[-74.04373204641742,40.69002737976121],[-74.04366369226912,40.68993417737016],[-74.04365085500288,40.689909279528194],[-74.04383060699307,40.689939493971636]]]]}',\n",
       " '{\"type\":\"MultiPolygon\",\"coordinates\":[[[[-73.99181737328169,40.67841218132084],[-73.99197642004178,40.678212352837036],[-73.9919980362649,40.67822221857692],[-73.99203452449983,40.67823887165731],[-73.99187612608468,40.678437887161685],[-73.99181737328169,40.67841218132084]]]]}',\n",
       " '{\"type\":\"MultiPolygon\",\"coordinates\":[[[[-74.0382342615138,40.698364419055636],[-74.03867685122614,40.6983685274843],[-74.03880703657433,40.698369338569215],[-74.03900399474836,40.69836927161536],[-74.03935174778064,40.69810949071564],[-74.03955216053957,40.69825676319506],[-74.03961278781975,40.698298171448705],[-74.03968352284902,40.69835110449938],[-74.03977109830328,40.69841598870123],[-74.0398833769162,40.69850136447537],[-74.04003046009066,40.69860979390551],[-74.0403392274128,40.69884030676715],[-74.04055817060336,40.69900422601194],[-74.04055032029977,40.69901448020988],[-74.0408894044366,40.69926548203273],[-74.04124758185297,40.69953526615562],[-74.04155045802595,40.69930197512089],[-74.04175573706769,40.699143028647605],[-74.04167545506222,40.69908113029849],[-74.04166366602497,40.69907216720809],[-74.03991881606547,40.697703575970095],[-74.03992554530245,40.69769844704812],[-74.04000743832728,40.69764418185913],[-74.04028789070016,40.69745488731681],[-74.04078483568226,40.69709938791649],[-74.04131990860571,40.696705434342654],[-74.04155771468703,40.69652939389221],[-74.04166315659126,40.696449920070705],[-74.04166989493125,40.696454186973206],[-74.04237388852059,40.69700315261556],[-74.04328224807938,40.69771005483339],[-74.04368422289309,40.698022523620565],[-74.0436449608338,40.69805072445864],[-74.04366629421864,40.698066092631244],[-74.04271395188589,40.698796746148034],[-74.04297669155683,40.69899310535268],[-74.04237545191297,40.69947421328138],[-74.04174098345142,40.69998196419585],[-74.04107670870928,40.700463384776555],[-74.04091700112373,40.700347682116636],[-74.04080135059739,40.70026230763057],[-74.04070319247182,40.70033537176821],[-74.04001495405271,40.70084079487422],[-74.03792785451095,40.69917253029993],[-74.03809813847242,40.69904008264412],[-74.03823211439149,40.698365975028786],[-74.0382342615138,40.698364419055636]]]]}',\n",
       " '{\"type\":\"MultiPolygon\",\"coordinates\":[[[[-74.01312889493403,40.69976574738597],[-74.01313187142676,40.69976989950071],[-74.01314085237726,40.699790398621644],[-74.0131453468185,40.69980577340199],[-74.01314825222568,40.69981461608113],[-74.01315208597657,40.699839938939064],[-74.01315433254545,40.69985018653345],[-74.01317342900292,40.69993218481237],[-74.01319477682816,40.70005432589179],[-74.0132048920874,40.70013290777234],[-74.01321501019319,40.70021917469924],[-74.0132284929142,40.70029177591902],[-74.0132408477586,40.700343878059215],[-74.01325769296068,40.70039683429066],[-74.01327678285728,40.7004557660287],[-74.01329025824104,40.700489931630116],[-74.0134720689925,40.70047795396295],[-74.01348420487844,40.70028572064193],[-74.01348549517687,40.7002652680566],[-74.0134900097983,40.70024462878747],[-74.0134929804831,40.70023105506165],[-74.01349574089097,40.70021864299823],[-74.01350007215143,40.70020462244978],[-74.01350515336652,40.7001891456878],[-74.01351801931499,40.70015764253243],[-74.01352811649772,40.70013799316912],[-74.01360778914636,40.70007648626812],[-74.0136886035386,40.70012003908837],[-74.01365718703977,40.70016274943629],[-74.01361904719931,40.70025073104715],[-74.01358088721788,40.700239632183084],[-74.01357304268538,40.7003054018649],[-74.01356968790883,40.70036263054314],[-74.01356522046311,40.70047025560408],[-74.01357756484165,40.7004693995772],[-74.01357981493342,40.70049673164392],[-74.01354951320546,40.70050015162182],[-74.01356413102368,40.700636815000415],[-74.01350352726682,40.70064280142534],[-74.01353725616225,40.70093662595016],[-74.01359703717598,40.7009443863326],[-74.01357532697037,40.701050091260235],[-74.01323636547455,40.701061091823945],[-74.01320098091276,40.701067610092736],[-74.01320011007313,40.70106765076606],[-74.01286513110023,40.701128252593456],[-74.01268703654634,40.701167695416274],[-74.0126274584233,40.70118142111253],[-74.0126135738486,40.70114713835448],[-74.01245900822795,40.70118209907081],[-74.01202735356603,40.7000368270197],[-74.01205339072067,40.70004590705187],[-74.0120718236645,40.70005697958306],[-74.01208594011582,40.70006725752129],[-74.01209604959242,40.70008086408395],[-74.0121005349978,40.700086901545255],[-74.0121274777138,40.70013131374416],[-74.01219034601893,40.70023124323516],[-74.01222851507906,40.70029444700995],[-74.01225770484874,40.70034483830349],[-74.01233068101901,40.70049259995046],[-74.01237109745978,40.7005694686843],[-74.01239018403223,40.700601069161856],[-74.01240926804768,40.700625837516625],[-74.01243733220774,40.700660001676304],[-74.01245866033898,40.700681351468006],[-74.01257649778157,40.70065486212704],[-74.01258883531585,40.700616423358724],[-74.01259331851476,40.70058481947365],[-74.01259331485392,40.70056517487241],[-74.01259331023807,40.70054040542744],[-74.0125899392702,40.70050880054107],[-74.01257983237362,40.70047805281703],[-74.01255736750831,40.70038153496101],[-74.01252142763327,40.70023120847942],[-74.01251693219798,40.70020985423369],[-74.01251468502758,40.70018935702456],[-74.01251692460464,40.70016885490523],[-74.01252589839658,40.700144937264106],[-74.01253487560957,40.700132981101525],[-74.01254273082556,40.700125291703266],[-74.01255282930346,40.70011760390664],[-74.01256741830927,40.700110769308885],[-74.01258088489342,40.70010649578613],[-74.0125943528463,40.70010307962393],[-74.01261230906918,40.70010136941894],[-74.01262643102487,40.70010295822295],[-74.01263803197634,40.700106535590876],[-74.01264774450597,40.70011009701527],[-74.01266243221933,40.700118533183364],[-74.01267185460675,40.70012710862791],[-74.01269312280427,40.70015175422127],[-74.01281772949906,40.700311466944],[-74.01283207801258,40.70033420779421],[-74.01284816048914,40.70035969672855],[-74.01285814516186,40.70037552394587],[-74.01287049529905,40.70039858559985],[-74.01288172232628,40.700419937254026],[-74.01290642541382,40.70048057847693],[-74.0129198986833,40.70051730616594],[-74.01311068888852,40.70050447164201],[-74.0131174127075,40.700441264999704],[-74.01311852322692,40.70038318190175],[-74.0131128978319,40.70032083031684],[-74.01310277884187,40.70022260466296],[-74.01309603514919,40.70017135556294],[-74.01308704869997,40.700122669594016],[-74.01307244580728,40.70006373456184],[-74.01305447557475,40.69999284118167],[-74.01300506350988,40.699833975015736],[-74.01300219108657,40.699823922920935],[-74.01299988800352,40.69981520173198],[-74.0129983233832,40.69980066407231],[-74.01299946384435,40.69979372457171],[-74.01300056532483,40.69978699765927],[-74.01300505249219,40.699776746640616],[-74.01300954004343,40.69976905850261],[-74.01301459008057,40.699763079503704],[-74.01301985854523,40.69975826621664],[-74.01312889493403,40.69976574738597]]]]}',\n",
       " '{\"type\":\"MultiPolygon\",\"coordinates\":[[[[-74.01245900822795,40.70118209907081],[-74.01138174591573,40.701425749288546],[-74.01122768493244,40.701044106168595],[-74.01112855715765,40.70106648877433],[-74.0111114687625,40.70102415549165],[-74.0111119375784,40.7010240024313],[-74.01108723710921,40.70095652686945],[-74.0110842531602,40.70095673387661],[-74.01106462930716,40.700908119532386],[-74.01111304083484,40.700897586873815],[-74.01102097845349,40.70070968336559],[-74.01089411252548,40.70042184609922],[-74.01077959710217,40.70018013164392],[-74.01082336430841,40.700164753278976],[-74.01089411281077,40.700312250833434],[-74.01094012352117,40.70040817476083],[-74.01098839997383,40.70050896077119],[-74.0110726037781,40.700701137130494],[-74.01114557796863,40.70084377475993],[-74.01116915421764,40.70089587329632],[-74.0113565757286,40.700853149639066],[-74.01131614629631,40.70070709346694],[-74.01130266881091,40.70064730442916],[-74.01129705185987,40.70061036154259],[-74.01129705032707,40.70060117904256],[-74.01130041629143,40.70059263647906],[-74.01130602667986,40.70058238818073],[-74.01131275936248,40.700576407172136],[-74.01132397999602,40.700569573975734],[-74.01133744661128,40.70056444783976],[-74.0113497921016,40.7005627383712],[-74.01136213816663,40.700564445463705],[-74.01137560713397,40.700566153365365],[-74.01138683101546,40.70057212988505],[-74.01139693213976,40.70057896286924],[-74.0114053511221,40.70058750337634],[-74.01141713937055,40.70060714775825],[-74.01145867903531,40.70069170434046],[-74.01151032205316,40.7007882196444],[-74.01152390315923,40.70081552721882],[-74.01172917031295,40.70076940439054],[-74.01170334501415,40.70070022254652],[-74.0116853788685,40.70064555884105],[-74.01167527207323,40.700613102757366],[-74.01167302541026,40.70060114242123],[-74.01167526853474,40.70059260087801],[-74.01167863459965,40.700584913740364],[-74.01168536691665,40.70057637083325],[-74.01169624190085,40.70056952500222],[-74.01170556615057,40.70056526646737],[-74.01171791239815,40.70056099324103],[-74.01172688928072,40.70055928498698],[-74.01173699075731,40.70056099134253],[-74.0117493356214,40.70056269922995],[-74.01176168364816,40.700568676521165],[-74.01177178385814,40.700576362233065],[-74.01178076572724,40.70059002933908],[-74.01186496537252,40.700738642912334],[-74.01201755822804,40.70070454423474],[-74.01207146257315,40.700692498684006],[-74.01207365008115,40.70067749681104],[-74.01206921106795,40.700653206949475],[-74.01205910503302,40.70061989629988],[-74.0120175587318,40.7005020282468],[-74.01197264296853,40.70037220171568],[-74.01191538708522,40.700266290424324],[-74.01187159857466,40.70016550693876],[-74.01186037101431,40.70013902766539],[-74.01185924678134,40.70012450885508],[-74.01186092668969,40.70010955840282],[-74.01186372933161,40.7001005918002],[-74.0118715847808,40.70008692484454],[-74.01187943935793,40.700075820770444],[-74.01189739212889,40.70006129819491],[-74.0119175909817,40.70004848191164],[-74.01194003595667,40.70003823179334],[-74.01195990268177,40.70003459988002],[-74.01196809267508,40.700033102346744],[-74.0119916620457,40.700031392588166],[-74.01201755996985,40.700035204153345],[-74.01202645310596,40.70003651296331],[-74.01202735356603,40.7000368270197],[-74.01245900822795,40.70118209907081]]]]}',\n",
       " '{\"type\":\"MultiPolygon\",\"coordinates\":[[[[-74.0110842531602,40.70095673387661],[-74.01107489019081,40.70095738346561],[-74.01105804620612,40.700909551762386],[-74.01106462930716,40.700908119532386],[-74.0110842531602,40.70095673387661]]],[[[-74.01112855715765,40.70106648877433],[-74.01122768493244,40.701044106168595],[-74.01138174591573,40.701425749288546],[-74.01135279190198,40.70143229790858],[-74.01106570975101,40.701501743750576],[-74.01106387826232,40.70149720638275],[-74.01119169684038,40.70146644619993],[-74.01113667989341,40.701331493802925],[-74.01116682846228,40.70127155748513],[-74.01128705676429,40.701253752869704],[-74.01120734038503,40.70105132665296],[-74.01112092377622,40.701071833110326],[-74.01110408246004,40.70102656697112],[-74.0111114687625,40.70102415549165],[-74.01112855715765,40.70106648877433]]]]}',\n",
       " '{\"type\":\"MultiPolygon\",\"coordinates\":[[[[-74.01106570975101,40.701501743750576],[-74.0105407835345,40.70162349882739],[-74.01077981762424,40.701565566809805],[-74.01089410973904,40.7015380619476],[-74.01106387826232,40.70149720638275],[-74.01106570975101,40.701501743750576]]],[[[-74.00992438114068,40.70192431761365],[-74.00937049124792,40.70217487380806],[-74.00928354941006,40.702227933297124],[-74.00917419869334,40.70212227864712],[-74.00864107925106,40.70244143240865],[-74.00854952336884,40.70235890078089],[-74.00870684800306,40.70226346794841],[-74.0089291689877,40.702128604553266],[-74.00912821175739,40.702009114197416],[-74.00930990811734,40.701947407973186],[-74.00927818663753,40.70190564564087],[-74.00912143877119,40.70169629508668],[-74.00870008307004,40.70113353705338],[-74.0077540127891,40.701543593850545],[-74.00759574197978,40.70133006611343],[-74.00853731967182,40.700918302562634],[-74.00835210580566,40.70066719401172],[-74.00862032680843,40.700553571904344],[-74.00947571767854,40.70169629592856],[-74.00959692262096,40.70185821475568],[-74.00985483760472,40.70179298652586],[-74.00992438114068,40.70192431761365]]]]}',\n",
       " '{\"type\":\"MultiPolygon\",\"coordinates\":[[[[-74.01500518215579,40.7009686111299],[-74.01502545891191,40.700978297854775],[-74.0150770733812,40.700917647299704],[-74.01514526068591,40.70084404966107],[-74.0151825599384,40.70087150775868],[-74.01528358633911,40.700948369360454],[-74.0153273652862,40.70098167532871],[-74.01544747475188,40.70107219961591],[-74.01555870325993,40.70115752440005],[-74.0155816941845,40.701175871036234],[-74.0157460684196,40.701313030142096],[-74.01592534423436,40.70146185757658],[-74.01605904652736,40.70157373133454],[-74.01606487159896,40.70157862840365],[-74.01618913111844,40.70169631199515],[-74.01622989144214,40.701734915304485],[-74.01631408548411,40.70181348669168],[-74.01635898871609,40.701857896310585],[-74.01640501786696,40.70190486763187],[-74.01654983508111,40.70205090645958],[-74.01670587978049,40.70221231961796],[-74.01674292733057,40.702254166488586],[-74.01688887012203,40.70240960148072],[-74.01696184310588,40.702495006128146],[-74.01701461174628,40.7025607681474],[-74.01702111796281,40.70256771912249],[-74.01704267733092,40.70259236838291],[-74.01718076724548,40.702748657823875],[-74.01724924987585,40.70282722898695],[-74.01736039658623,40.70295618902058],[-74.017395198962,40.70299803776916],[-74.01742887997834,40.70304074035319],[-74.01746031899695,40.70308429786234],[-74.01748951205171,40.703127853858376],[-74.01751645870823,40.703173120304285],[-74.01754228717962,40.70321838774769],[-74.01756586638412,40.70326450744554],[-74.01758720489194,40.703311482913385],[-74.01760629621181,40.70335845787769],[-74.0176242673594,40.7034062876091],[-74.01763999141984,40.70345411667125],[-74.01765235170534,40.703502801843015],[-74.01765580370481,40.70351801814453],[-74.01766920571161,40.70357711121055],[-74.01768269451904,40.70365142191883],[-74.01768719166328,40.703681315517535],[-74.01768944422054,40.703711211213175],[-74.01769169700341,40.703741957826075],[-74.01769170485943,40.70377185386097],[-74.01769058975805,40.70380175098442],[-74.01768835411504,40.703831646437024],[-74.01768387024426,40.70386154047303],[-74.0176793886801,40.703891438106254],[-74.0176726637204,40.703921335156814],[-74.01766481425075,40.703950376019904],[-74.01765767610092,40.70397756752566],[-74.0175208895115,40.70431683051461],[-74.01698485595179,40.70418759719893],[-74.01681107233891,40.704620568614764],[-74.01637948423146,40.70460504008604],[-74.01637380109302,40.70462081061658],[-74.01446720762439,40.704535469759804],[-74.0144579444982,40.704533806711574],[-74.01445062772487,40.70453205976037],[-74.01444209447438,40.70452950152767],[-74.01443576336037,40.70452721416969],[-74.0144242439898,40.70452208530754],[-74.01441224272823,40.704515154689304],[-74.01440396434276,40.704509156521716],[-74.01439286041656,40.70449887222842],[-74.0143845301932,40.70448844629056],[-74.01437812738166,40.70447726808543],[-74.01437427351843,40.70446728190748],[-74.01437230519097,40.70445915779905],[-74.01437132371248,40.704450923639456],[-74.01451394668692,40.70361670868618],[-74.01454807461191,40.70346787985921],[-74.01455917756203,40.70338671370816],[-74.01456445792101,40.70332875174359],[-74.01456511951243,40.70326929548972],[-74.0145630940558,40.70320475438476],[-74.01455226499468,40.70311272719556],[-74.01452737093925,40.70302876485571],[-74.01448017354899,40.70293363898825],[-74.01442438515669,40.702824366275514],[-74.01437725934674,40.70274755047048],[-74.01433863116145,40.70270078266366],[-74.01406514163428,40.70244257642827],[-74.01404174845241,40.70241364228294],[-74.01402871507725,40.70238045823944],[-74.0140265662107,40.70235739005715],[-74.01403292051133,40.70232420821432],[-74.01405150156984,40.702291799360424],[-74.0140814498391,40.70225230930087],[-74.01409750699844,40.70222577108985],[-74.01410859906528,40.70218714064747],[-74.01410593328784,40.702136727658164],[-74.01409708795913,40.70209479649399],[-74.01408493332045,40.701991735398884],[-74.01403418982576,40.70145228988192],[-74.01403364842587,40.70144910303503],[-74.01403306863232,40.70144314173239],[-74.01403280672486,40.70143545864172],[-74.01403298291213,40.701429509881265],[-74.01403351412097,40.70142333586329],[-74.01403499006658,40.701414053210264],[-74.01403671366835,40.701406823745344],[-74.01404003412573,40.701396616079926],[-74.01404324144772,40.70138895139883],[-74.01405224261748,40.701372711488936],[-74.0140584775713,40.70136395867959],[-74.01406722670488,40.7013536918007],[-74.01407652978085,40.7013445603901],[-74.01408913628225,40.701334266024055],[-74.01409562064954,40.70132969608117],[-74.01410128646042,40.701326041158325],[-74.01410677240086,40.70132277067874],[-74.01411331028731,40.70131918860193],[-74.01412160625364,40.70131509029112],[-74.01412999585769,40.70131140977268],[-74.01413842808745,40.701308139020675],[-74.01414513420478,40.7013058221335],[-74.01415452861258,40.701302975344326],[-74.01416688443283,40.70129989143569],[-74.01417375882201,40.70129848576433],[-74.01419114307883,40.7012990528117],[-74.01452386140295,40.701369332049346],[-74.01453615173779,40.70137457868618],[-74.01454716789956,40.70138086379977],[-74.0145556768646,40.701387862437834],[-74.0145590640619,40.70139693191043],[-74.01455823183942,40.70140579760491],[-74.01455983604995,40.70142120146525],[-74.0145647993191,40.701435490204126],[-74.01457200128438,40.70144979389132],[-74.014576028071,40.70145641301039],[-74.01458098134474,40.70146308162569],[-74.01458663748164,40.701469659129984],[-74.01459005900412,40.701473224685074],[-74.01459545099661,40.7014783344661],[-74.01460341212282,40.70148494774033],[-74.01461035640135,40.70148998161442],[-74.01461721546139,40.70149439590437],[-74.01462543768828,40.701499060504176],[-74.01463370233641,40.7015031522699],[-74.01464050183316,40.70150611679711],[-74.01464644935436,40.7015084384934],[-74.01465181812173,40.70151033158125],[-74.0146548734685,40.70151132710391],[-74.01465911335886,40.70151261345178],[-74.01466603804883,40.70151448651744],[-74.0146770747333,40.70151691566597],[-74.01468600498467,40.70151840489127],[-74.01469424885082,40.70151941783384],[-74.01470641988125,40.70152029609052],[-74.01471607405723,40.7015204776804],[-74.01472599899245,40.70152017834943],[-74.01473414544384,40.70151960190417],[-74.01474603322774,40.70151813976665],[-74.01475478418712,40.701516610507895],[-74.01476524467913,40.70151423546863],[-74.01477869377123,40.70151025802081],[-74.01479080556543,40.70150569536175],[-74.01480262496888,40.701500219742805],[-74.01481360766601,40.7014940714232],[-74.01482305452524,40.70148779730338],[-74.01483409456785,40.70147899791477],[-74.0149487763379,40.701316692495496],[-74.01477871820545,40.70125452481491],[-74.01500518215579,40.7009686111299]]],[[[-74.01484415611768,40.70062052030356],[-74.01467695385416,40.700825460598715],[-74.01465038484895,40.70081324585146],[-74.01485158483493,40.70057641787237],[-74.01487790124843,40.70059645619716],[-74.01485211930552,40.70062686810406],[-74.01484415611768,40.70062052030356]]],[[[-74.01408562119384,40.70055360502455],[-74.01395763518657,40.70100581971898],[-74.01364885263857,40.70097119896922],[-74.01365327888391,40.70095168720914],[-74.0139514022891,40.70099038753664],[-74.01402206139058,40.700756342716936],[-74.01408823284521,40.70054364867575],[-74.01409496596033,40.70054621250586],[-74.01423516464446,40.70011143276429],[-74.01424318752942,40.70011315989928],[-74.0142876399222,40.70014700772356],[-74.01415557940933,40.70057609941773],[-74.01429475774941,40.70064356236249],[-74.01446979423493,40.70042487709874],[-74.01454372116844,40.70034199821621],[-74.01456916597505,40.70036137286705],[-74.0145202960704,40.70041718321777],[-74.01432618731577,40.7006580774528],[-74.01438006533877,40.70068455126736],[-74.01458008342838,40.700780925944294],[-74.01408562119384,40.70055360502455]]]]}',\n",
       " '{\"type\":\"MultiPolygon\",\"coordinates\":[[[[-74.01368153353003,40.70202229420351],[-74.01367447219508,40.70201782215689],[-74.01365650334895,40.70200627798023],[-74.0135838825013,40.701959627306444],[-74.01354757569084,40.70193631458574],[-74.01352171010454,40.701919698660824],[-74.01350668008384,40.70191219647072],[-74.01349497644185,40.701905390795524],[-74.01348304644695,40.70189743170536],[-74.01347215300852,40.70188908606422],[-74.01346441794588,40.70188240517162],[-74.01345762831477,40.70187591692696],[-74.01344979233387,40.70186754307432],[-74.01344251008032,40.70185868107731],[-74.01343376339,40.7018461289463],[-74.01342889980316,40.7018378466121],[-74.0134258482124,40.70183195670174],[-74.01342375296095,40.701827503062944],[-74.01342158657322,40.70182243703112],[-74.01341821486952,40.701813219778266],[-74.01341628489003,40.7018067966493],[-74.01341479868157,40.70180086514804],[-74.01341281815782,40.7017901295341],[-74.01341173698512,40.7017795027453],[-74.01341149047254,40.70177149094578],[-74.01341174442724,40.701763289931606],[-74.01341296675065,40.70175178937105],[-74.01341478228652,40.70174213657105],[-74.01341568559653,40.701738391284856],[-74.01341641509161,40.70173566083104],[-74.0134175100093,40.70173192539525],[-74.01341838043483,40.701729203960014],[-74.01341951798244,40.701725907992135],[-74.01342036716402,40.70172360252337],[-74.01342222744111,40.701718936769005],[-74.0134233758861,40.70171627118922],[-74.01342446634187,40.70171386663735],[-74.01342771187667,40.70170722414273],[-74.01343260519361,40.701698668710755],[-74.0134352300142,40.70169451169771],[-74.01343801215042,40.70169038880025],[-74.01344267999514,40.70168402440082],[-74.01344570722242,40.70168020767505],[-74.01345196391019,40.70167295695199],[-74.01345772044226,40.70166691745041],[-74.01346487654058,40.70166010609643],[-74.01347326310027,40.701652887505304],[-74.01347924823439,40.701648278000526],[-74.01349074057651,40.70163981735021],[-74.01357607303976,40.70157703650904],[-74.0136014901427,40.70155835065666],[-74.0136039283683,40.701556223368925],[-74.0136061891142,40.70155436900435],[-74.01360817191969,40.701552859523424],[-74.01360857540847,40.70155256406915],[-74.0136089740611,40.70155227589372],[-74.01361050855566,40.701551203177246],[-74.01361287467327,40.70154965131991],[-74.01361481026592,40.7015484192663],[-74.01361877010423,40.701546207972996],[-74.01362220942312,40.70154449937694],[-74.01362550093435,40.70154302839688],[-74.01362839379587,40.701541860148765],[-74.01362963490413,40.701541392589],[-74.0136323892968,40.701540422467886],[-74.01363403031117,40.701539888267106],[-74.0136356158223,40.701539401842766],[-74.01363712428248,40.70153896579274],[-74.01363817503027,40.70153867662009],[-74.01363952378216,40.70153832341363],[-74.01364070820185,40.701538029708736],[-74.01364269946247,40.70153756933997],[-74.01364466709964,40.70153715398369],[-74.01364933130746,40.70153632586413],[-74.01365475042051,40.701535630008166],[-74.01365728257744,40.70153540098328],[-74.01365809658513,40.70153533973347],[-74.01365883254506,40.70153528920004],[-74.01366002173752,40.70153521970563],[-74.01366206627952,40.70153512944834],[-74.01366245674319,40.701535116770344],[-74.01366399617365,40.70153507969611],[-74.01366710220083,40.70153507205652],[-74.01366965332448,40.70153513124351],[-74.01367208727328,40.701535244404774],[-74.01367533295907,40.701535479951964],[-74.01367825436796,40.701535776777085],[-74.01368310114124,40.70153644801255],[-74.01368727934722,40.70153721118673],[-74.01369104577812,40.70153805179442],[-74.01369463469487,40.7015389923996],[-74.01369832544002,40.70154010951641],[-74.01370262922585,40.70154161642552],[-74.01370719460378,40.701543472755915],[-74.01371284745795,40.701546183559756],[-74.01371705435018,40.701548538804495],[-74.01371748158468,40.70154879450669],[-74.01371783779643,40.70154900964162],[-74.0137181418957,40.70154919332687],[-74.01371846380707,40.70154938964258],[-74.01371859155934,40.701549467934726],[-74.01371964722554,40.70155011886416],[-74.0137209193702,40.7015509165926],[-74.01372237963145,40.70155185209122],[-74.01372424470743,40.70155307834832],[-74.01372735468765,40.701555203150136],[-74.01373129433522,40.70155805010269],[-74.01373166583952,40.701558327479894],[-74.01373172565046,40.70155837198139],[-74.01373192860964,40.70155852463881],[-74.01373231913435,40.70155881991823],[-74.01373259366981,40.70155902887205],[-74.01373284225586,40.70155921883812],[-74.01373324696613,40.70155952850487],[-74.01373478543972,40.701560727860866],[-74.01373998659247,40.701565019998775],[-74.0137400096806,40.701565040660775],[-74.0137402860898,40.70156527931371],[-74.01374080559376,40.70156573219598],[-74.0137414127293,40.70156626613532],[-74.01374177478948,40.70156658843959],[-74.0137425274963,40.701567263749354],[-74.01374295003104,40.701567646450485],[-74.01374343281643,40.701568087624544],[-74.01374379850648,40.7015684243187],[-74.01374449679595,40.70156907445213],[-74.0137449595727,40.7015695093541],[-74.01374522642135,40.701569761895875],[-74.0137452687522,40.701569802634005],[-74.01374543884401,40.70156996399616],[-74.01374595132205,40.70157045477828],[-74.01374706610699,40.70157153973529],[-74.01374846028472,40.701572929939466],[-74.01375066041898,40.7015752052693],[-74.01375275633725,40.70157746982022],[-74.01375546186776,40.70158055468292],[-74.01375807991317,40.70158372773387],[-74.01375994512007,40.70158612022894],[-74.01376209569622,40.701589029467875],[-74.01376376929602,40.70159142106525],[-74.01376578501868,40.7015944681095],[-74.01376624543697,40.701595192979816],[-74.0137672905422,40.70159688315148],[-74.01376732485188,40.701596938949635],[-74.01376734387681,40.70159697048695],[-74.01376743613721,40.70159712357743],[-74.0137674788041,40.70159719284349],[-74.01376749892658,40.701597226222184],[-74.01376764210329,40.70159746480691],[-74.01376774272316,40.70159763412556],[-74.01376785752662,40.70159782502734],[-74.01376824691904,40.701598485906764],[-74.01376866237455,40.70159919999125],[-74.01376892277761,40.70159965382385],[-74.01376924949251,40.70160022920775],[-74.01376959281568,40.70160084240501],[-74.01376991469466,40.70160142590537],[-74.01377129141818,40.70160401288692],[-74.01377148552037,40.70160439017663],[-74.01377158614422,40.70160458735447],[-74.01377191881278,40.70160524656659],[-74.01377193531016,40.70160528028075],[-74.01377197435038,40.70160535908449],[-74.0137720821234,40.70160557433216],[-74.01377219814637,40.70160580840339],[-74.01377235321021,40.70160612445743],[-74.0137725047561,40.701606435157586],[-74.01377279706877,40.70160704024621],[-74.01377386252565,40.70160933729345],[-74.01377491965059,40.70161174427334],[-74.01377515402268,40.70161230168119],[-74.01377535408119,40.70161278430014],[-74.0137755777874,40.701613332674526],[-74.01377578620792,40.701613852270135],[-74.01377583471158,40.7016139719847],[-74.01377600870927,40.70161441235718],[-74.01377621713274,40.70161494634308],[-74.01377645624444,40.701615571265016],[-74.01377665873159,40.70161610608793],[-74.01377703995631,40.701617141686725],[-74.01377736553074,40.70161805205129],[-74.01377744362671,40.70161827717473],[-74.0137775134714,40.70161847703399],[-74.01377758331664,40.701618679653514],[-74.01377768517109,40.70161897412901],[-74.01377786864273,40.70161951531233],[-74.0137786595299,40.7016219664131],[-74.01377928116216,40.70162405193371],[-74.0137793273647,40.701624213142836],[-74.0137793581667,40.701624322067055],[-74.013779379508,40.701624395017284],[-74.01377940316087,40.70162447783826],[-74.0137794265924,40.701624562919534],[-74.0137794458432,40.70162463093453],[-74.01377946586487,40.70162470112333],[-74.01377948247587,40.701624760605206],[-74.01377950975899,40.701624859656214],[-74.01377960095637,40.70162518835163],[-74.0137802463019,40.70162765201828],[-74.01378037887643,40.70162819320756],[-74.01378038833752,40.70162823102173],[-74.01378040968231,40.70162832112253],[-74.01378053521735,40.70162884248427],[-74.01378060871389,40.70162915587137],[-74.01378085495469,40.70163023917356],[-74.01378117482194,40.70163173307558],[-74.01378204401588,40.70164675252535],[-74.01378276210136,40.70165767300463],[-74.01378332228008,40.70166619618845],[-74.01378410211491,40.701678044129984],[-74.01378465997576,40.70168652506454],[-74.01378551215102,40.701699481511305],[-74.01378627181168,40.701711039485716],[-74.01378667297655,40.70171713140543],[-74.01378753595941,40.701730256261214],[-74.01378876206499,40.70174889753387],[-74.01378984097174,40.7017653560162],[-74.01379074067326,40.70177902483269],[-74.01379273824351,40.70180940503847],[-74.01379705636619,40.70187504370219],[-74.01379992994,40.701918735158614],[-74.01380298513473,40.70196518766708],[-74.01380325331793,40.701969274992265],[-74.01380332455314,40.70197035204053],[-74.01380361641696,40.70197412697236],[-74.01380366752839,40.70197517331846],[-74.01380368901987,40.701975980146415],[-74.01380369499886,40.70197672581845],[-74.01380369501854,40.701976822112385],[-74.01380369279806,40.70197725798885],[-74.0138036915959,40.70197729128626],[-74.0138036904081,40.7019773948586],[-74.01380368813338,40.70197755699481],[-74.01380368105083,40.701977864953285],[-74.01380365044582,40.70197872039374],[-74.01380361979061,40.70197933012067],[-74.01380359743601,40.70197968484712],[-74.01380358088495,40.701979919017646],[-74.0138035691557,40.701980075716875],[-74.0138035006127,40.701980878036125],[-74.01380334589899,40.70198227929774],[-74.01380330100807,40.701982621478045],[-74.01380329508302,40.701982669250064],[-74.0138032910198,40.70198269710975],[-74.01380328333674,40.7019827511551],[-74.01380327565334,40.70198281197874],[-74.01380325018648,40.701982992522055],[-74.01380324074542,40.70198305284334],[-74.01380316038677,40.701983589539594],[-74.01380308594794,40.70198404433154],[-74.01380251863105,40.7019868693062],[-74.01380231521387,40.701987705023654],[-74.01380222777905,40.701988042690935],[-74.01380208355022,40.70198857579811],[-74.01380202082817,40.701988804536],[-74.01380193097053,40.70198911835978],[-74.01380183397066,40.70198944841487],[-74.01380179376358,40.701989585289084],[-74.0138016129413,40.70199017336641],[-74.01380074962732,40.70199266875094],[-74.01380034991415,40.70199369180748],[-74.01380015356763,40.70199417003871],[-74.01380004479026,40.701994429319015],[-74.0137999867768,40.70199456535897],[-74.01379982602592,40.70199493633216],[-74.01379891885036,40.70199689595378],[-74.01379860776844,40.70199752010395],[-74.01379815833431,40.7019983846296],[-74.01379787801076,40.70199890336247],[-74.01379740010258,40.70199975801915],[-74.01379720021224,40.70200010473561],[-74.0137968595492,40.702000679277724],[-74.0137963674516,40.70200148440831],[-74.01379592864447,40.70200217600437],[-74.01379546378794,40.702002882076215],[-74.01379537741101,40.70200301084124],[-74.01379504387465,40.702003501721165],[-74.01379464165207,40.70200407802824],[-74.01379439559166,40.702004423912506],[-74.01379413062654,40.70200478862349],[-74.0137932043929,40.702006017968756],[-74.01379242124072,40.70200700677048],[-74.01379206164147,40.70200744628549],[-74.01379192327414,40.70200761287061],[-74.01379176589435,40.702007801127806],[-74.01379152817515,40.70200808209046],[-74.013790956787,40.702008744002676],[-74.01379073203431,40.70200899802472],[-74.01379039133163,40.7020093789738],[-74.01379022328715,40.70200956447068],[-74.01378964485806,40.70201019133001],[-74.01378956319851,40.702010278681314],[-74.0137894685697,40.70201037950436],[-74.01378926744293,40.70201059211174],[-74.01378919413565,40.70201066867099],[-74.01378876945789,40.70201110810987],[-74.01378872560491,40.702011152288456],[-74.0137882264104,40.70201165749304],[-74.01378760301625,40.70201227264516],[-74.01378700676797,40.702012844539425],[-74.01378581656856,40.70201394415686],[-74.01378544518428,40.70201427650316],[-74.01378512930584,40.70201455571857],[-74.01378506423879,40.70201461152838],[-74.01378455909202,40.70201504838264],[-74.01378387874715,40.70201562296458],[-74.01378322214147,40.702016163326356],[-74.01378215863848,40.70201700901701],[-74.01377831838901,40.70201980107825],[-74.01377703711557,40.70202064955464],[-74.01377673188274,40.702020846780094],[-74.0137766490072,40.70202089991415],[-74.01377623847351,40.702021159313595],[-74.01377532628658,40.70202172488666],[-74.01377444135419,40.702022257244366],[-74.0137728926335,40.702023148920375],[-74.01377127773145,40.702024029813025],[-74.01376936340372,40.702025013392884],[-74.01376742422207,40.70202594560635],[-74.01376696871728,40.70202615548325],[-74.0137668775949,40.70202619698957],[-74.01376642450697,40.70202640142681],[-74.01376622335509,40.7020264914699],[-74.01376570629427,40.70202672026101],[-74.01376360506718,40.702027605727245],[-74.01376285134366,40.70202790841888],[-74.01376201133014,40.70202823538192],[-74.01376156648101,40.70202840384436],[-74.01376133103022,40.70202849213508],[-74.01375987809175,40.70202901995743],[-74.01375874337275,40.702029413633284],[-74.01375789862398,40.70202969466699],[-74.01375608600544,40.70203026762496],[-74.0137549596288,40.70203060181597],[-74.01375411597068,40.70203084235774],[-74.01375315172403,40.7020311072587],[-74.01375282272423,40.70203119463894],[-74.01375184187643,40.70203144866566],[-74.0137503783508,40.70203180632237],[-74.01374994052352,40.70203190818942],[-74.01374985291376,40.70203192886438],[-74.01374967373694,40.70203196946089],[-74.01374940805081,40.70203202981214],[-74.01374937254484,40.7020320374296],[-74.01374933121278,40.70203204688793],[-74.0137492778997,40.702032058606655],[-74.01374922590571,40.702032070325245],[-74.0137471422853,40.70203251004189],[-74.01374566797178,40.70203279206928],[-74.01374550110437,40.70203282178817],[-74.01374467523486,40.702032967790274],[-74.01374386354449,40.702033104756055],[-74.01374380561512,40.70203311379749],[-74.013743571363,40.70203315164017],[-74.01374336777965,40.702033184041184],[-74.01374200711685,40.7020333895046],[-74.01374080496474,40.70203355445897],[-74.01374020740437,40.70203363107819],[-74.01374008087747,40.70203364640337],[-74.0137399790868,40.70203365904786],[-74.01373984772414,40.702033675209954],[-74.01373933777445,40.70203373567349],[-74.01373635721261,40.70203403402365],[-74.01373477403423,40.70203415585161],[-74.01373358967169,40.70203423070055],[-74.01373309026926,40.7020342577805],[-74.01373274597348,40.70203427488887],[-74.01373262769093,40.70203428126086],[-74.01373188105757,40.70203431280394],[-74.01373117696592,40.70203433815269],[-74.0137306208356,40.702034354448195],[-74.01373045165687,40.70203435890088],[-74.0137301038407,40.702034367057415],[-74.01372959970703,40.702034376151026],[-74.01372940447405,40.70203437977174],[-74.01372517669753,40.70203435232283],[-74.01371953725962,40.70203403331148],[-74.01371818719215,40.70203390923224],[-74.01371764643905,40.702033854329564],[-74.01371700630587,40.70203378421316],[-74.0137169577167,40.70203377786067],[-74.01371682403993,40.70203376348596],[-74.01371645367993,40.70203372211735],[-74.01371457219068,40.70203348373422],[-74.01371403506049,40.70203340900402],[-74.01371381607589,40.70203337749004],[-74.0137136314991,40.702033350488705],[-74.01371337007843,40.70203331186762],[-74.01371316648398,40.70203328127061],[-74.01371308425367,40.70203326864763],[-74.01371292507113,40.70203324432115],[-74.01371144240518,40.702033004051245],[-74.01371117977595,40.70203295907213],[-74.01371090879015,40.70203291233758],[-74.01370884511913,40.702032525309875],[-74.0137063116888,40.70203198707719],[-74.01370592120138,40.70203189710323],[-74.01370565494022,40.70203183589405],[-74.0137049011182,40.70203165502285],[-74.01370452250335,40.702031562287196],[-74.01370313325471,40.702031207641674],[-74.01370237953839,40.702031005101915],[-74.01370166122007,40.70203080531824],[-74.01370094180157,40.70203059917653],[-74.01369905672831,40.70203002932851],[-74.01369584987269,40.70202895540735],[-74.01369448082045,40.70202845485393],[-74.01369388440938,40.70202822895454],[-74.01369367607737,40.70202814883161],[-74.0136935565733,40.70202810199429],[-74.0136925117222,40.70202768874606],[-74.013690709499,40.70202693884785],[-74.01368985747207,40.702026567072764],[-74.01368932844368,40.70202633120943],[-74.01368914154713,40.702026245645904],[-74.01368892375787,40.702026146615765],[-74.01368889297329,40.70202613223036],[-74.01368866693865,40.70202602868317],[-74.01368670143242,40.702025089647755],[-74.01368392047898,40.70202364647881],[-74.01368153353003,40.70202229420351]]]]}',\n",
       " '{\"type\":\"MultiPolygon\",\"coordinates\":[[[[-74.01275558809515,40.701810411897725],[-74.01270856847498,40.701648845630395],[-74.01270422620978,40.70164957730062],[-74.01268497654982,40.701652822089855],[-74.01265356950655,40.70154490562096],[-74.01346491835898,40.70155559376704],[-74.01327610462114,40.70169440186156],[-74.01326289654574,40.70171441597942],[-74.01325396484384,40.701735756062874],[-74.0132495296022,40.70175789686373],[-74.01324969998846,40.70178029306625],[-74.01325447194189,40.70180239325734],[-74.01326372773534,40.701823653233376],[-74.01327723971758,40.701843549549736],[-74.01329467492792,40.70186159223951],[-74.01331560434168,40.701877336939944],[-74.01373726911719,40.7021482168162],[-74.01374883660964,40.702157652042345],[-74.01375816687431,40.70216842711371],[-74.01376499667609,40.70218023837208],[-74.0137691335683,40.70219275278387],[-74.01377046073432,40.70220561748207],[-74.01376894094174,40.702218469962546],[-74.01376461698659,40.702230947635684],[-74.01375761070855,40.70224269885709],[-74.01374811980139,40.702253392303064],[-74.01373641155328,40.702262726428636],[-74.01372281635842,40.70227043816024],[-74.0137077172796,40.702276309937204],[-74.01369154014884,40.702280176390396],[-74.01367474104671,40.702281928291065],[-74.01350038720338,40.70228885176688],[-74.0131460376818,40.702303128996334],[-74.0129385290812,40.70231148986358],[-74.01292675095857,40.70231191891888],[-74.01288550999712,40.70231342098111],[-74.01288249863511,40.70231313134151],[-74.01288040414325,40.70231255071063],[-74.012879254993,40.702311693558165],[-74.01287843486142,40.70231082557855],[-74.0128773540805,40.702308194380755],[-74.0128388558553,40.702185265472146],[-74.01278614554153,40.70201695048736],[-74.01281431423767,40.70201220265497],[-74.01280979957973,40.70199668648071],[-74.01276857792676,40.7018550443082],[-74.01275558809515,40.701810411897725]]]]}',\n",
       " '{\"type\":\"MultiPolygon\",\"coordinates\":[[[[-74.01387335746885,40.70116914893089],[-74.01388014380743,40.70116939635146],[-74.0138868359608,40.701170289231285],[-74.01393356206016,40.70118062657896],[-74.01397882339995,40.701194224532834],[-74.0140222279597,40.701210965343904],[-74.01402946309535,40.7012147045599],[-74.01403581205676,40.70121928208402],[-74.0140411088282,40.70122457829976],[-74.0140452150911,40.70123045493428],[-74.014048023525,40.70123675831166],[-74.0140494605514,40.7012433236309],[-74.01404948886787,40.701249979472],[-74.01404810756237,40.7012565518204],[-74.01404535287118,40.701262868916054],[-74.01404129654418,40.70126876560016],[-74.01403604474022,40.7012740876749],[-74.01400611202742,40.701304455962834],[-74.01398304696352,40.701338116670634],[-74.01396746012799,40.70137417856761],[-74.01396672011415,40.70137588735558],[-74.01396562336082,40.70137748123373],[-74.01396419920788,40.701378917282845],[-74.0139624861228,40.70138015709673],[-74.01396052982959,40.70138116728892],[-74.0139583830873,40.701381920746464],[-74.01395610338386,40.70138239721794],[-74.01395375216764,40.701382583978386],[-74.01395139231592,40.70138247591731],[-74.013949087368,40.70138207604004],[-74.01394689921737,40.701381394961466],[-74.01394488667553,40.70138045108292],[-74.01394310361468,40.7013792696619],[-74.01394159808193,40.70137788248483],[-74.01394041053629,40.70137632685964],[-74.0139237603729,40.70134971064318],[-74.01386427403253,40.7012687627098],[-74.01383010329576,40.70123419971639],[-74.01382549313225,40.70122828255797],[-74.01382224201748,40.701221863690016],[-74.01382044056732,40.70121512255601],[-74.01382013905628,40.70120824713622],[-74.01382134587767,40.701201429515024],[-74.01382402743397,40.70119486002783],[-74.01382810878941,40.70118872198398],[-74.01383347598376,40.70118318682],[-74.01383997921788,40.701178409076],[-74.01384743702847,40.701174522043466],[-74.01385564112314,40.70117163434218],[-74.01386436242967,40.70116982647872],[-74.01387335746885,40.70116914893089]]]]}',\n",
       " '{\"type\":\"MultiPolygon\",\"coordinates\":[[[[-74.0146130627736,40.70120144329453],[-74.01454142239953,40.70117945637625],[-74.01448502453495,40.701162477006406],[-74.01442404428647,40.701147223604046],[-74.0143557455783,40.701130731035896],[-74.01429155687283,40.70111730863244],[-74.01423218332745,40.701106328688546],[-74.01417745550573,40.70109714837635],[-74.01412048913697,40.70108799884443],[-74.01405940875125,40.701079440509794],[-74.01399512569132,40.70107273035303],[-74.01393566319287,40.70106601599044],[-74.01387074813931,40.70105855757111],[-74.01382716034243,40.70105354872108],[-74.0137292408354,40.70104926202432],[-74.01368017077644,40.701048761682415],[-74.0135945957091,40.701048771617295],[-74.01357532697037,40.701050091260235],[-74.01359703717598,40.7009443863326],[-74.01365327888391,40.70095168720914],[-74.01364885263857,40.70097119896922],[-74.01395763518657,40.70100581971898],[-74.01408562119384,40.70055360502455],[-74.01458008342838,40.700780925944294],[-74.01464944839637,40.70081434812283],[-74.01465038484895,40.70081324585146],[-74.01467695385416,40.700825460598715],[-74.01484415611768,40.70062052030356],[-74.01485211930552,40.70062686810406],[-74.01468087460218,40.70082886487432],[-74.01481556773888,40.7008937639477],[-74.01482545304654,40.70088564370083],[-74.01494352344285,40.70094072648174],[-74.0149771955913,40.70095524110821],[-74.01500518215579,40.7009686111299],[-74.01477871820545,40.70125452481491],[-74.01469643089747,40.70122662832614],[-74.0146130627736,40.70120144329453]]]]}',\n",
       " '{\"type\":\"MultiPolygon\",\"coordinates\":[[[[-74.01264338382403,40.702390138243025],[-74.01255702195681,40.70243828880501],[-74.01246042768135,40.702489452527836],[-74.01232575979337,40.702554848272705],[-74.0121165159937,40.70264448781971],[-74.01191840452827,40.70271801762628],[-74.01181475762388,40.702751428836606],[-74.01169065257663,40.702788861911436],[-74.01159692548673,40.70281335607163],[-74.01152507665411,40.70255739036305],[-74.01149013740735,40.70243291443359],[-74.01131790249958,40.70181930366106],[-74.01250193900515,40.70155634486151],[-74.01266100310336,40.70210291147231],[-74.01267218571157,40.702164073806756],[-74.01270660409226,40.70235230011852],[-74.01264338382403,40.702390138243025]]]]}',\n",
       " '{\"type\":\"MultiPolygon\",\"coordinates\":[[[[-74.01028534569868,40.70317076390471],[-74.01011807521594,40.70260307250118],[-74.01120291768348,40.70242557500637],[-74.01122475051534,40.70249966782817],[-74.01126206679334,40.70262630926639],[-74.01134301129926,40.70290100577802],[-74.01028534569868,40.70317076390471]]]]}',\n",
       " '{\"type\":\"MultiPolygon\",\"coordinates\":[[[[-74.01104611175182,40.701893417118974],[-74.01120291768348,40.70242557500637],[-74.01011807521594,40.70260307250118],[-74.00998886346592,40.702164538640645],[-74.010206321256,40.702104325433936],[-74.01104611175182,40.701893417118974]]]]}',\n",
       " '{\"type\":\"MultiPolygon\",\"coordinates\":[[[[-74.01028534569868,40.70317076390471],[-74.0102306309919,40.70318471933812],[-74.00940404693733,40.70242103378124],[-74.00998886346592,40.702164538640645],[-74.01011807521594,40.70260307250118],[-74.01028534569868,40.70317076390471]]]]}',\n",
       " '{\"type\":\"MultiPolygon\",\"coordinates\":[[[[-74.01108022554918,40.70336529143777],[-74.01101452061995,40.70338030817875],[-74.01095827273775,40.703213967543476],[-74.01102335114749,40.70319704006674],[-74.01108022554918,40.70336529143777]]]]}',\n",
       " '{\"type\":\"MultiPolygon\",\"coordinates\":[[[[-74.01108446427725,40.70330144750721],[-74.01109811184217,40.70334315515061],[-74.01110868047833,40.70334075433311],[-74.011114171232,40.70335753301136],[-74.01108022554918,40.70336529143777],[-74.01102335114749,40.70319704006674],[-74.01109185626417,40.7031792233311],[-74.01113025876447,40.703290981100544],[-74.01108446427725,40.70330144750721]]]]}',\n",
       " '{\"type\":\"MultiPolygon\",\"coordinates\":[[[[-74.01110134756267,40.703318344918735],[-74.01110868047833,40.70334075433311],[-74.01109811184217,40.70334315515061],[-74.01108446427725,40.70330144750721],[-74.01113025876447,40.703290981100544],[-74.01109185626417,40.7031792233311],[-74.01115694296033,40.703162293017634],[-74.01119396302484,40.7032711593949],[-74.01120208787209,40.70329532109738],[-74.01110134756267,40.703318344918735]]]]}',\n",
       " '{\"type\":\"MultiPolygon\",\"coordinates\":[[[[-74.01129596927001,40.70324790028373],[-74.01119396302484,40.7032711593949],[-74.01115694296033,40.703162293017634],[-74.01125115099107,40.70313779021954],[-74.01129596927001,40.70324790028373]]]]}',\n",
       " '{\"type\":\"MultiPolygon\",\"coordinates\":[[[[-74.01125115099107,40.70313779021954],[-74.01141902273285,40.70309412631518],[-74.01143349231529,40.70321654207461],[-74.01129596927001,40.70324790028373],[-74.01125115099107,40.70313779021954]]]]}',\n",
       " '{\"type\":\"MultiPolygon\",\"coordinates\":[[[[-74.01120208787209,40.70329532109738],[-74.01119396302484,40.7032711593949],[-74.01129596927001,40.70324790028373],[-74.01143349231529,40.70321654207461],[-74.0114430388347,40.703313920484625],[-74.01131539322807,40.7033430922744],[-74.01131791861596,40.70335189629672],[-74.01122746416402,40.703372565346235],[-74.01120208787209,40.70329532109738]]]]}',\n",
       " '{\"type\":\"MultiPolygon\",\"coordinates\":[[[[-74.01122746416402,40.703372565346235],[-74.01131791861596,40.70335189629672],[-74.01131539322807,40.7033430922744],[-74.0114430388347,40.703313920484625],[-74.0114540296606,40.70343597005417],[-74.01126263479229,40.70347971280294],[-74.01122746416402,40.703372565346235]]]]}',\n",
       " '{\"type\":\"MultiPolygon\",\"coordinates\":[[[[-74.011114171232,40.70335753301136],[-74.01110868047833,40.70334075433311],[-74.01110134756267,40.703318344918735],[-74.01120208787209,40.70329532109738],[-74.01122746416402,40.703372565346235],[-74.01126263479229,40.70347971280294],[-74.0111617002036,40.70350278078448],[-74.011114171232,40.70335753301136]]]]}',\n",
       " '{\"type\":\"MultiPolygon\",\"coordinates\":[[[[-74.01101452061995,40.70338030817875],[-74.01108022554918,40.70336529143777],[-74.011114171232,40.70335753301136],[-74.0111617002036,40.70350278078448],[-74.01105884752812,40.70352628573566],[-74.0110116726189,40.703380958576844],[-74.01101452061995,40.70338030817875]]]]}',\n",
       " '{\"type\":\"MultiPolygon\",\"coordinates\":[[[[-74.01059896279503,40.70330742289302],[-74.01085337049442,40.70324125282214],[-74.01095614746909,40.7035497580372],[-74.01069856875583,40.70360862548793],[-74.01059896279503,40.70330742289302]]]]}',\n",
       " '{\"type\":\"MultiPolygon\",\"coordinates\":[[[[-74.01085337049442,40.70324125282214],[-74.01095827273775,40.703213967543476],[-74.01101452061995,40.70338030817875],[-74.0110116726189,40.703380958576844],[-74.01105884752812,40.70352628573566],[-74.01095614746909,40.7035497580372],[-74.01085337049442,40.70324125282214]]]]}',\n",
       " '{\"type\":\"MultiPolygon\",\"coordinates\":[[[[-74.01213019216158,40.70308662792048],[-74.01212111667773,40.70306752722059],[-74.01220429203664,40.703046335002405],[-74.01221508278708,40.70306904299455],[-74.0122821368297,40.70305197404924],[-74.01227661717505,40.70304035624463],[-74.01240011399828,40.70300889024842],[-74.0124735822066,40.70316350013792],[-74.01220024102496,40.70323302831354],[-74.01213061812396,40.70308651083423],[-74.01213019216158,40.70308662792048]]]]}',\n",
       " '{\"type\":\"MultiPolygon\",\"coordinates\":[[[[-74.0120578269722,40.702934329345524],[-74.01212111667773,40.70306752722059],[-74.01213019216158,40.70308662792048],[-74.01213061812396,40.70308651083423],[-74.01220024102496,40.70323302831354],[-74.01171705949503,40.70335592669626],[-74.01165272206403,40.7030379332564],[-74.0120578269722,40.702934329345524]]]]}',\n",
       " '{\"type\":\"MultiPolygon\",\"coordinates\":[[[[-74.01212111667773,40.70306752722059],[-74.0120578269722,40.702934329345524],[-74.01233144259209,40.702864352129055],[-74.01240011399828,40.70300889024842],[-74.01227661717505,40.70304035624463],[-74.0122821368297,40.70305197404924],[-74.01221508278708,40.70306904299455],[-74.01220429203664,40.703046335002405],[-74.01212111667773,40.70306752722059]]]]}',\n",
       " '{\"type\":\"MultiPolygon\",\"coordinates\":[[[[-74.01277942611401,40.70274401326289],[-74.01288578471876,40.703058651613134],[-74.01260320941131,40.70313052762312],[-74.01245114588227,40.70282797237675],[-74.01277942611401,40.70274401326289]]]]}',\n",
       " '{\"type\":\"MultiPolygon\",\"coordinates\":[[[[-74.01354606372534,40.702462301861985],[-74.01357538164629,40.7027636722313],[-74.0135392995029,40.70276539462963],[-74.01354543646327,40.70290995189201],[-74.01355219298023,40.70306908564207],[-74.01313278088816,40.70307861290677],[-74.01295395487972,40.70250705101758],[-74.01354606372534,40.702462301861985]]]]}',\n",
       " '{\"type\":\"MultiPolygon\",\"coordinates\":[[[[-74.01357538164629,40.7027636722313],[-74.01354606372534,40.702462301861985],[-74.01362675338689,40.7024543581758],[-74.01373629659868,40.70248599474733],[-74.01385090683644,40.70255363752908],[-74.01373612054293,40.702777977956835],[-74.01366994901596,40.702761961102574],[-74.01357538164629,40.7027636722313]]]]}',\n",
       " '{\"type\":\"MultiPolygon\",\"coordinates\":[[[[-74.01355219298023,40.70306908564207],[-74.01354543646327,40.70290995189201],[-74.0135392995029,40.70276539462963],[-74.01357538164629,40.7027636722313],[-74.01366994901596,40.702761961102574],[-74.01373612054293,40.702777977956835],[-74.01385090683644,40.70255363752908],[-74.01417372646945,40.702856904334034],[-74.01427999722472,40.703076711395056],[-74.01375157010831,40.7030728041458],[-74.01375139682668,40.70306455909254],[-74.01355219298023,40.70306908564207]]]]}',\n",
       " '{\"type\":\"MultiPolygon\",\"coordinates\":[[[[-74.01432645447117,40.703237001898934],[-74.01427708212071,40.703532038439505],[-74.01325450381715,40.70353588552879],[-74.01315036279867,40.70317394258818],[-74.01342040654313,40.703136323882596],[-74.01380243326763,40.703155342531986],[-74.01432645447117,40.703237001898934]]]]}',\n",
       " '{\"type\":\"MultiPolygon\",\"coordinates\":[[[[-74.01172285720624,40.70353817139981],[-74.01172538177376,40.70348037189436],[-74.01236830617331,40.70333042618013],[-74.01246550998425,40.70354269135606],[-74.01172285720624,40.70353817139981]]]]}',\n",
       " '{\"type\":\"MultiPolygon\",\"coordinates\":[[[[-74.01246550998425,40.70354269135606],[-74.01236830617331,40.70333042618013],[-74.01266606322997,40.70326097956301],[-74.01291458466544,40.70320301734257],[-74.01295445015482,40.70334361499471],[-74.01298712543893,40.703437522884364],[-74.01288351802579,40.70344588108128],[-74.0128788426367,40.70343205522253],[-74.01274949362485,40.70345553387951],[-74.01278212862695,40.703544615994936],[-74.01246550998425,40.70354269135606]]]]}',\n",
       " '{\"type\":\"MultiPolygon\",\"coordinates\":[[[[-74.01278212862695,40.703544615994936],[-74.01274949362485,40.70345553387951],[-74.0128788426367,40.70343205522253],[-74.01288351802579,40.70344588108128],[-74.01298712543893,40.703437522884364],[-74.01300098183734,40.703530970867575],[-74.0128307804262,40.70354491146319],[-74.01278212862695,40.703544615994936]]]]}',\n",
       " '{\"type\":\"MultiPolygon\",\"coordinates\":[[[[-74.01219820227328,40.70362679368691],[-74.01218281580911,40.703861312387396],[-74.01220141360413,40.70386189400067],[-74.01219269295757,40.70399390423966],[-74.01169224982006,40.703979124471445],[-74.01171588879849,40.70361973575797],[-74.01219820227328,40.70362679368691]]]]}',\n",
       " '{\"type\":\"MultiPolygon\",\"coordinates\":[[[[-74.01232034081573,40.70362858019539],[-74.01240374936273,40.703629800592545],[-74.01242029170534,40.703771604007265],[-74.0124258972098,40.70381859111759],[-74.01234071735185,40.70381880805625],[-74.01232034081573,40.70362858019539]]]]}',\n",
       " '{\"type\":\"MultiPolygon\",\"coordinates\":[[[[-74.01242029170534,40.703771604007265],[-74.01240374936273,40.703629800592545],[-74.01301741817461,40.703638778105486],[-74.01306877276572,40.703988162263734],[-74.01266202792178,40.703998069064866],[-74.0125380505652,40.704000127435236],[-74.01250001385154,40.70376328566046],[-74.01243422577869,40.70377015000951],[-74.01242029170534,40.703771604007265]]]]}',\n",
       " '{\"type\":\"MultiPolygon\",\"coordinates\":[[[[-74.0124258972098,40.70381859111759],[-74.01242029170534,40.703771604007265],[-74.01243422577869,40.70377015000951],[-74.01250001385154,40.70376328566046],[-74.0125380505652,40.704000127435236],[-74.0124533109863,40.704001600667745],[-74.0124258972098,40.70381859111759]]]]}',\n",
       " '{\"type\":\"MultiPolygon\",\"coordinates\":[[[[-74.01219269295757,40.70399390423966],[-74.01220141360413,40.70386189400067],[-74.01218281580911,40.703861312387396],[-74.01219820227328,40.70362679368691],[-74.01232034081573,40.70362858019539],[-74.01234071735185,40.70381880805625],[-74.0124258972098,40.70381859111759],[-74.0124533109863,40.704001600667745],[-74.01219269295757,40.70399390423966]]]]}',\n",
       " '{\"type\":\"MultiPolygon\",\"coordinates\":[[[[-74.01261468794944,40.704656142542504],[-74.01244023017534,40.70466010355755],[-74.01243819765202,40.70468121979878],[-74.01222441126683,40.7046895169495],[-74.01201094573167,40.70469227738478],[-74.01200731970131,40.70459706417362],[-74.01164248953764,40.704600655027015],[-74.01164810052073,40.704489427117686],[-74.01205007967393,40.704485470366464],[-74.01204471976563,40.704328729049024],[-74.01212932571052,40.70432452400434],[-74.01218100313687,40.70432195579401],[-74.01231628313016,40.70431523209272],[-74.0123130211975,40.70409013819402],[-74.01308915140153,40.704104468952764],[-74.01323163921309,40.70496662467189],[-74.01264089810282,40.70493468005116],[-74.01261468794944,40.704656142542504]]]]}',\n",
       " '{\"type\":\"MultiPolygon\",\"coordinates\":[[[[-74.01241849164875,40.704916597153634],[-74.012438055512,40.70472544300693],[-74.01256694437541,40.70472024867973],[-74.0125658641237,40.7049245672411],[-74.01241849164875,40.704916597153634]]]]}',\n",
       " '{\"type\":\"MultiPolygon\",\"coordinates\":[[[[-74.01233092633416,40.704911861585884],[-74.01233984945945,40.70472939930427],[-74.012438055512,40.70472544300693],[-74.01241849164875,40.704916597153634],[-74.01233092633416,40.704911861585884]]]]}',\n",
       " '{\"type\":\"MultiPolygon\",\"coordinates\":[[[[-74.01233092633416,40.704911861585884],[-74.0122369900725,40.70490678167826],[-74.01224546532286,40.70473319675148],[-74.01233984945945,40.70472939930427],[-74.01233092633416,40.704911861585884]]]]}',\n",
       " '{\"type\":\"MultiPolygon\",\"coordinates\":[[[[-74.0122369900725,40.70490678167826],[-74.01215779908932,40.704902498051595],[-74.01216600573274,40.704734270241424],[-74.01224546532286,40.70473319675148],[-74.0122369900725,40.70490678167826]]]]}',\n",
       " '{\"type\":\"MultiPolygon\",\"coordinates\":[[[[-74.01216600573274,40.704734270241424],[-74.01215779908932,40.704902498051595],[-74.01207680946924,40.70489811817713],[-74.01208474048163,40.704735369128144],[-74.01216600573274,40.704734270241424]]]]}',\n",
       " '{\"type\":\"MultiPolygon\",\"coordinates\":[[[[-74.01208474048163,40.704735369128144],[-74.01207680946924,40.70489811817713],[-74.01188868968431,40.70488794358894],[-74.01188520217971,40.704738065740784],[-74.01200004706294,40.7047365133163],[-74.01208474048163,40.704735369128144]]]]}',\n",
       " '{\"type\":\"MultiPolygon\",\"coordinates\":[[[[-74.01188520217971,40.704738065740784],[-74.01188868968431,40.70488794358894],[-74.01163021836629,40.70487396278844],[-74.01163591807226,40.70474143328678],[-74.01188520217971,40.704738065740784]]]]}',\n",
       " '{\"type\":\"MultiPolygon\",\"coordinates\":[[[[-74.01201094573167,40.70469227738478],[-74.01163712565423,40.704697110084744],[-74.01164248953764,40.704600655027015],[-74.01200731970131,40.70459706417362],[-74.01201094573167,40.70469227738478]]]]}',\n",
       " '{\"type\":\"MultiPolygon\",\"coordinates\":[[[[-74.0116674892177,40.70412152096586],[-74.01204185438938,40.70413939445326],[-74.01204471976563,40.704328729049024],[-74.01205007967393,40.704485470366464],[-74.01164810052073,40.704489427117686],[-74.0116674892177,40.70412152096586]]]]}',\n",
       " '{\"type\":\"MultiPolygon\",\"coordinates\":[[[[-74.0116674892177,40.70412152096586],[-74.0116697714332,40.70407825663791],[-74.01204057862468,40.704085104591606],[-74.01204185438938,40.70413939445326],[-74.0116674892177,40.70412152096586]]]]}',\n",
       " '{\"type\":\"MultiPolygon\",\"coordinates\":[[[[-74.01212529885557,40.704086669992265],[-74.01215185428413,40.70408715985356],[-74.01215126644297,40.70417384122013],[-74.01216208530835,40.7041740958559],[-74.01216121045962,40.70430364061541],[-74.01218100313687,40.70432195579401],[-74.01212932571052,40.70432452400434],[-74.01212529885557,40.704086669992265]]]]}',\n",
       " '{\"type\":\"MultiPolygon\",\"coordinates\":[[[[-74.01215126644297,40.70417384122013],[-74.01215185428413,40.70408715985356],[-74.0123130211975,40.70409013819402],[-74.01231628313016,40.70431523209272],[-74.01218100313687,40.70432195579401],[-74.01216121045962,40.70430364061541],[-74.01216208530835,40.7041740958559],[-74.01215126644297,40.70417384122013]]]]}',\n",
       " '{\"type\":\"MultiPolygon\",\"coordinates\":[[[[-74.01204185438938,40.70413939445326],[-74.01204057862468,40.704085104591606],[-74.01212529885557,40.704086669992265],[-74.01212932571052,40.70432452400434],[-74.01204471976563,40.704328729049024],[-74.01204185438938,40.70413939445326]]]]}',\n",
       " '{\"type\":\"MultiPolygon\",\"coordinates\":[[[[-74.0133665273503,40.70445708552555],[-74.01324068948215,40.70364645169372],[-74.01426672009865,40.703660632568365],[-74.01411020315412,40.70446624056152],[-74.0133665273503,40.70445708552555]]]]}',\n",
       " '{\"type\":\"MultiPolygon\",\"coordinates\":[[[[-74.01365179043091,40.704726886109896],[-74.0136833065297,40.704727256996925],[-74.01371876427967,40.704733996800194],[-74.01374584942178,40.70474261150131],[-74.0137803218266,40.7047508498578],[-74.01380445403801,40.704762087172014],[-74.01382386743093,40.704774788438336],[-74.01384290342925,40.704787501375854],[-74.01384373309658,40.704788022655684],[-74.01386357191274,40.70480322901967],[-74.01387887770268,40.7048199334526],[-74.01389385571557,40.70484163308835],[-74.01390479395864,40.70486369428083],[-74.0139147821839,40.70489226719592],[-74.01391680165725,40.70494764922644],[-74.01389146259358,40.705023379666734],[-74.01385558813134,40.705085718175056],[-74.01383777520473,40.7051058664152],[-74.01383391758334,40.70511110875136],[-74.01381964020887,40.70513054436343],[-74.01380067868047,40.705152917956376],[-74.01378351322741,40.705174109869475],[-74.01375792900144,40.70520351002317],[-74.013730337665,40.705231763158196],[-74.01369352140304,40.70526130323477],[-74.01365037243367,40.70528650452472],[-74.01361073579076,40.7053021618136],[-74.01356357098332,40.70530560356879],[-74.01352312673671,40.70529441309189],[-74.01350067339307,40.705282540622115],[-74.01348060098687,40.70526498124871],[-74.01346202775903,40.705241314343304],[-74.0134514889334,40.70522833474741],[-74.01344245317165,40.70521001128111],[-74.01342940325243,40.705184433752244],[-74.01342036610266,40.70515962034324],[-74.01341132797373,40.705129843308534],[-74.01340612713379,40.70509851877238],[-74.01340224290284,40.70506569110965],[-74.01339835794256,40.705035261514894],[-74.01339568530382,40.7050018790388],[-74.0133956811328,40.70498085487291],[-74.01339487695293,40.7049591823397],[-74.0133985863956,40.704934478243516],[-74.01340593938374,40.70490980343113],[-74.0134132555397,40.70488512686595],[-74.01342062511179,40.70486705543634],[-74.01343510355895,40.70484126318041],[-74.01344599264837,40.704824820483815],[-74.01345987349876,40.70480464740491],[-74.01348948089651,40.704781037136925],[-74.01350340240838,40.704769152455455],[-74.01351895021034,40.70475968631686],[-74.01354542736351,40.704745632605615],[-74.01358038814915,40.70473513761295],[-74.0136173200211,40.70472838940318],[-74.01365179043091,40.704726886109896]]]]}',\n",
       " '{\"type\":\"MultiPolygon\",\"coordinates\":[[[[-74.0147005762193,40.70515411362014],[-74.01422954184363,40.70504295141389],[-74.01407922978177,40.70500162353229],[-74.01413199357906,40.70489560285896],[-74.01418713730679,40.70475207299958],[-74.0148207926116,40.70488247311637],[-74.0147005762193,40.70515411362014]]]]}',\n",
       " '{\"type\":\"MultiPolygon\",\"coordinates\":[[[[-74.01379778227486,40.70540317272292],[-74.01407922978177,40.70500162353229],[-74.01422954184363,40.70504295141389],[-74.0147005762193,40.70515411362014],[-74.01452306347964,40.705555213798974],[-74.01379778227486,40.70540317272292]]]]}',\n",
       " '{\"type\":\"MultiPolygon\",\"coordinates\":[[[[-74.01379778227486,40.70540317272292],[-74.01452306347964,40.705555213798974],[-74.01425449511784,40.70616204894666],[-74.0134051791734,40.70587320407471],[-74.01379778227486,40.70540317272292]]]]}',\n",
       " '{\"type\":\"MultiPolygon\",\"coordinates\":[[[[-74.01581113901604,40.706556652775944],[-74.01517870062972,40.70640258524782],[-74.0152531059441,40.70620901284237],[-74.01588676995203,40.70636335261615],[-74.01581113901604,40.706556652775944]]]]}',\n",
       " '{\"type\":\"MultiPolygon\",\"coordinates\":[[[[-74.01634515350841,40.70519179201638],[-74.01596685291588,40.706158676620454],[-74.0153319327994,40.70600393395098],[-74.01569641324721,40.70505568213628],[-74.01634515350841,40.70519179201638]]]]}',\n",
       " '{\"type\":\"MultiPolygon\",\"coordinates\":[[[[-74.01596685291588,40.706158676620454],[-74.01588676995203,40.70636335261615],[-74.0152531059441,40.70620901284237],[-74.0153319327994,40.70600393395098],[-74.01596685291588,40.706158676620454]]]]}',\n",
       " '{\"type\":\"MultiPolygon\",\"coordinates\":[[[[-74.01751736880074,40.704678974139945],[-74.01752583073083,40.70467984336826],[-74.01757409370677,40.70468324992725],[-74.01766051670675,40.7046772593111],[-74.0178614175418,40.70465587592849],[-74.01807690784389,40.70463277990479],[-74.01811167736028,40.70454308910396],[-74.01824188150648,40.70457381765335],[-74.01828215715507,40.70458303594186],[-74.01817017005209,40.70456903720284],[-74.01813316260184,40.70465760990001],[-74.01750662913952,40.7047063716445],[-74.01751736880074,40.704678974139945]]],[[[-74.01761089346844,40.70444038675608],[-74.01764803596714,40.70434563037849],[-74.01761476614855,40.70433809449888],[-74.01776480161806,40.70431679096395],[-74.01777377552125,40.704293727608984],[-74.01755642858434,40.704249037441926],[-74.01753807660744,40.70429803518394],[-74.01752959309457,40.70431880194553],[-74.0175208895115,40.70431683051461],[-74.01765767610092,40.70397756752566],[-74.01765696631746,40.703980271398706],[-74.01764687212169,40.70400931619709],[-74.0176356572605,40.70403750296515],[-74.01757977756589,40.704186697059015],[-74.01779283959475,40.704235641760015],[-74.01785452796597,40.70407420066907],[-74.01775126334577,40.704051152471486],[-74.017794073285,40.70394708300887],[-74.01780146185564,40.703943379955426],[-74.01781198341851,40.703942275195445],[-74.01782464001369,40.70394753405711],[-74.01782924407854,40.70395618728171],[-74.0178017643859,40.704031500200564],[-74.01791176468883,40.7040562537605],[-74.01783998206182,40.704240762095175],[-74.01844492139347,40.70416464719985],[-74.01866049117376,40.70443025444861],[-74.01756071714178,40.70456838973569],[-74.01761089346844,40.70444038675608]]]]}',\n",
       " '{\"type\":\"MultiPolygon\",\"coordinates\":[[[[-74.01318770317103,40.71832824696063],[-74.01321793924748,40.71820806174593],[-74.01438905121346,40.71836830856669],[-74.01476848367756,40.71842022447516],[-74.01493396025856,40.71820940985653],[-74.01462433826657,40.718068556123],[-74.01339437870733,40.717509009574925],[-74.0134114316995,40.71744144246911],[-74.01343157268013,40.71735704003998],[-74.0137568649123,40.71750503973639],[-74.01387880272372,40.71735068104987],[-74.01414269880812,40.71701662040986],[-74.01391361702868,40.71691315492871],[-74.01390807130404,40.71692017417015],[-74.01389876559615,40.7169159698733],[-74.01390434088928,40.71690891197728],[-74.01387425549923,40.71689531690699],[-74.013581801079,40.71676316268926],[-74.01360339971517,40.716678679906735],[-74.013645263931,40.71651984333706],[-74.01378049868894,40.71587016555831],[-74.01381943532648,40.71568310916474],[-74.01388049543021,40.71538976397234],[-74.0139160358767,40.715236229379585],[-74.01467231845227,40.71535221299685],[-74.0154837966085,40.71547665549444],[-74.01598880818113,40.71483598205241],[-74.01509331166164,40.71442834391298],[-74.01419744980296,40.714020526919015],[-74.01420464821702,40.713989426923895],[-74.01425129572877,40.71379944368767],[-74.01425924532174,40.71376706667762],[-74.01509222283427,40.71414250730465],[-74.01616663499152,40.71462688385269],[-74.01668511706754,40.713934759378375],[-74.0156210721379,40.713455057143676],[-74.01624378092535,40.71262377487696],[-74.0160391468793,40.71250208392489],[-74.01612219664895,40.7122236135433],[-74.01582280961831,40.71215396928874],[-74.01584073805927,40.712086104486126],[-74.01545652491603,40.71198564898764],[-74.01558453353513,40.71159976299678],[-74.01490462434354,40.711310244833484],[-74.01491222614753,40.71128147352493],[-74.01496807552765,40.71109661083208],[-74.01566897279035,40.71138985837125],[-74.01584989690522,40.71091477406996],[-74.01598481619138,40.71055531748291],[-74.01610679592545,40.71023526878254],[-74.01615519060945,40.71012040937948],[-74.01542015392761,40.70995474077156],[-74.01544601062915,40.70989101184993],[-74.01549250931954,40.709776403369766],[-74.0158976688851,40.70986675667286],[-74.01625419766772,40.70994626234873],[-74.01637896938418,40.70962800404721],[-74.01648930823993,40.709346555984844],[-74.01573514331285,40.70917837604173],[-74.01593441607778,40.70868810548358],[-74.01595609794406,40.70863376848006],[-74.01650655365994,40.708810469484646],[-74.01686870656042,40.7089267222669],[-74.01716866869263,40.70850556438115],[-74.01683568722086,40.70836470374013],[-74.01617811815375,40.708086528154645],[-74.01628267787625,40.707828580640424],[-74.01659981113441,40.70796785849746],[-74.01695755607423,40.70747659454685],[-74.01649591543321,40.7072846474862],[-74.01655329895848,40.70713827056396],[-74.01706848187189,40.7073545188922],[-74.01743066610668,40.70685966964742],[-74.01676784358756,40.70659099581964],[-74.01682937788554,40.70643402629789],[-74.01714532784865,40.706567048825185],[-74.01749661382739,40.706714946038566],[-74.01768710886185,40.70640160840753],[-74.01777111246169,40.706200956757655],[-74.01735723345051,40.706026486552965],[-74.01704134121518,40.705893321448386],[-74.01711112370957,40.705715310162816],[-74.01783787526495,40.7060204682015],[-74.01784369576623,40.70600160428642],[-74.01784876274381,40.70598349251784],[-74.01785664909535,40.70595073256585],[-74.01786236386485,40.70592123908062],[-74.01786796478419,40.70588198677536],[-74.01787203842368,40.70582640309722],[-74.01787218148799,40.705785965642406],[-74.01786930997899,40.705738361551624],[-74.01786453675673,40.705699656551296],[-74.0178587215505,40.70566667087949],[-74.01784970968178,40.705627572146184],[-74.01783916369413,40.70559101753574],[-74.01782472817983,40.70554977187425],[-74.01780736503238,40.70550821870027],[-74.01778394185321,40.70546083918357],[-74.01776008712297,40.70541937884853],[-74.01773233448253,40.705377145566366],[-74.01768897005331,40.705320302944095],[-74.01764022943843,40.70526591674147],[-74.017595929277,40.70522292142286],[-74.01755552678772,40.705187921934126],[-74.01749842309995,40.705144041437116],[-74.01742734973112,40.705096924800046],[-74.01736707261438,40.70506238382277],[-74.01745146822587,40.704847088154004],[-74.01750662913952,40.7047063716445],[-74.01813316260184,40.70465760990001],[-74.01817017005209,40.70456903720284],[-74.01828215715507,40.70458303594186],[-74.01835749455961,40.70460027902788],[-74.01886484400744,40.70471807057236],[-74.01887326158204,40.704720632010186],[-74.01888280346876,40.7047240461083],[-74.01889402969051,40.70472917089162],[-74.01890244798739,40.70473429437041],[-74.01890918218976,40.704738563520785],[-74.01891535672968,40.704743259517755],[-74.01892097062054,40.704748384370504],[-74.01892602351788,40.70475350830872],[-74.01893182489776,40.70476076732983],[-74.0189366903019,40.70476802641726],[-74.01894005969802,40.704774006149364],[-74.01894286712091,40.70478041013346],[-74.01903105261049,40.70506055709],[-74.01907823692872,40.70521088138733],[-74.01910519752158,40.705298853195465],[-74.0191770973175,40.705525192742655],[-74.01922989898323,40.70569430612333],[-74.01929056120254,40.705882208254195],[-74.0193450474886,40.70606029129318],[-74.0193472949712,40.706069685917285],[-74.01934898131712,40.70607822695289],[-74.0193501070153,40.70608762092507],[-74.01934954978786,40.70609616325362],[-74.01930638533975,40.70627255415816],[-74.01922790701683,40.706586892757144],[-74.01919315365652,40.706727834519675],[-74.01913205029223,40.70697127669723],[-74.01912952683907,40.706977256465485],[-74.0191233548842,40.70698708198729],[-74.01911578260973,40.706995195943655],[-74.01910961069628,40.70700053604952],[-74.01910203523057,40.707005556797014],[-74.01908884846567,40.70701142938043],[-74.01907672033818,40.707014769780166],[-74.01856678213046,40.70689924062309],[-74.01856424995869,40.70690566629481],[-74.01855566783921,40.70690218433643],[-74.01846593531629,40.707126840621186],[-74.01845939736523,40.70714303496202],[-74.0183548909168,40.70740189446322],[-74.01831675564397,40.7075035454593],[-74.01826403922522,40.70763680126287],[-74.0181911309234,40.707822162662566],[-74.01818440060894,40.70784180837938],[-74.01819442678823,40.70784415418847],[-74.01819395009119,40.70784536391993],[-74.01837202767673,40.70788570833301],[-74.01840329037701,40.70789302302521],[-74.0186091256466,40.70793942420908],[-74.01866267404773,40.70795155584405],[-74.01868953040132,40.707957894416516],[-74.01870212046614,40.70796049267938],[-74.01882240296855,40.707987743266436],[-74.0188317146732,40.70799274839246],[-74.01883882442216,40.70799780180885],[-74.0188440633679,40.70800256823495],[-74.01884977125393,40.708008689897845],[-74.0188549649135,40.708017017873026],[-74.01885931744104,40.70802577282489],[-74.01886184561523,40.70803601933292],[-74.01880859446233,40.70826878618767],[-74.01871777904292,40.70863693901568],[-74.01868526411808,40.70876677611729],[-74.01867405121753,40.70881204827088],[-74.01857090020675,40.709219493929425],[-74.0185125967711,40.7094620815701],[-74.01846102002153,40.70966452150272],[-74.0183903839471,40.70995152768784],[-74.01830628987707,40.710287221997625],[-74.01821546645084,40.71065025216649],[-74.01813362356224,40.71102011120726],[-74.01811008363316,40.71113200949275],[-74.01807756779557,40.71126696929053],[-74.0179766897668,40.71181620455949],[-74.01792289123745,40.71212285327788],[-74.01789823064512,40.71224670677959],[-74.01787131740281,40.71235946002855],[-74.01786402268462,40.712359461142],[-74.01777255636556,40.71284168425625],[-74.01776986659277,40.712840748914175],[-74.01776702002537,40.71283935990089],[-74.01776472492105,40.7128378545979],[-74.01776292567624,40.712836335667006],[-74.01776148980169,40.712834805052246],[-74.01776000991651,40.71283273139855],[-74.01775923088391,40.71283126100291],[-74.01775866593243,40.71282984453799],[-74.01775824784384,40.712828332675755],[-74.01775802494852,40.71282695848954],[-74.01775795234185,40.712825135021106],[-74.01775810692993,40.712823477166744],[-74.01776258261631,40.71279624150044],[-74.0177592807268,40.71279597813372],[-74.01783964900406,40.712351950073774],[-74.01694367361812,40.71220612592817],[-74.0166614868906,40.712160198064566],[-74.01665924804352,40.712169023553976],[-74.01663875220102,40.71216574937126],[-74.01663202498692,40.712192228851],[-74.01657371063942,40.71242029374],[-74.01656585922322,40.712451900050276],[-74.01656137321821,40.712468127864334],[-74.01657260350865,40.712485210733114],[-74.0165827096012,40.71250229200339],[-74.01659169611214,40.71251937426887],[-74.01659955500676,40.712537310371324],[-74.01660741984139,40.71255524647236],[-74.01661415794698,40.71257318097612],[-74.01661977669055,40.71259111831467],[-74.01662539290722,40.71260905657466],[-74.01662876444358,40.712627845232916],[-74.01663213719318,40.71264663564857],[-74.01663550962421,40.71266457422632],[-74.01663663627136,40.71268336412421],[-74.01663776281099,40.712702154858384],[-74.0166377674531,40.71272094759192],[-74.01663665019557,40.71273973772439],[-74.01663440983093,40.71275852902005],[-74.01663104656578,40.712778175910664],[-74.01662768198813,40.71279696636174],[-74.01662319781926,40.71281576065181],[-74.01661759174664,40.71283455234047],[-74.01661085904145,40.71285334335213],[-74.01660300674172,40.712872136278335],[-74.01659515312814,40.71289007552489],[-74.01658617639872,40.71290801225326],[-74.01657608007304,40.7129259518157],[-74.01656598022278,40.712943891379034],[-74.01655475946328,40.712960975578966],[-74.01654241668676,40.712978060019864],[-74.0165289506923,40.71299429177614],[-74.01651548347975,40.71301052085317],[-74.0165008955684,40.713026752762815],[-74.01648518322828,40.713042129394346],[-74.0164694717713,40.71305665226053],[-74.01643917111525,40.71308228143938],[-74.01640886618563,40.71310534681271],[-74.01637298046646,40.7132462859923],[-74.01633373231208,40.713406872039236],[-74.01635254026593,40.713409222053656],[-74.01635160519898,40.71341301730814],[-74.01704257820215,40.713507529913095],[-74.01761234988138,40.71360856743057],[-74.01770175317901,40.71311430863756],[-74.01770523495742,40.71311457105733],[-74.01771103673944,40.71308474537784],[-74.0177119223244,40.71308165914869],[-74.0177139202508,40.71307816850022],[-74.01771606755514,40.713075771951075],[-74.01771921009241,40.71307333559584],[-74.01772242274372,40.713071607924014],[-74.0177263348567,40.71307021060829],[-74.0177296073767,40.71306954115784],[-74.01773418633513,40.71307653997871],[-74.0176336728526,40.713606555181784],[-74.0176415303208,40.71360826227687],[-74.01760117918782,40.71383461758179],[-74.01758324951467,40.71395163953874],[-74.0175541018872,40.714101119452096],[-74.01754849566295,40.714127599730894],[-74.01748124120695,40.714500017898835],[-74.01747563348948,40.71452564457749],[-74.0174621839059,40.71460081290234],[-74.01742519216933,40.71480752120519],[-74.01742407134729,40.71481606359806],[-74.01737698988701,40.715067189187884],[-74.01732093989541,40.71536529743613],[-74.01727161320464,40.71562838199167],[-74.0172559190419,40.71571209200048],[-74.01721298189523,40.71597975284757],[-74.01670211241684,40.71865352260818],[-74.01669452250215,40.71865866776138],[-74.01668273827157,40.71866507746314],[-74.01667291449439,40.718668530551966],[-74.01666000636031,40.718671699462256],[-74.01658647223961,40.718665839463526],[-74.01653258605606,40.718659012205556],[-74.01646073488816,40.71864791721232],[-74.01643828184329,40.71864792036028],[-74.01614863860303,40.718609525139605],[-74.01596227717961,40.71858392480296],[-74.01595891462901,40.718598445991006],[-74.01579949683713,40.71857796931593],[-74.01566590104967,40.718560048174155],[-74.01566926548523,40.71854296595986],[-74.01563895549032,40.7185404089642],[-74.01533303147833,40.71849859546555],[-74.01525500869266,40.71848835512272],[-74.01516407295468,40.71847555536081],[-74.01501476329804,40.71845592721169],[-74.01499681333972,40.718523551385374],[-74.01499078254655,40.71853141722345],[-74.01498053966472,40.71853985357968],[-74.0149709990593,40.71854476436596],[-74.01496108283922,40.71854818310316],[-74.01495079361355,40.718550461752365],[-74.01493718186207,40.71855138919257],[-74.0149260953692,40.71855032350384],[-74.0148430199897,40.71853965760408],[-74.01473524566826,40.71852600502952],[-74.01466564153918,40.7185157632321],[-74.0145679714844,40.71850296208141],[-74.01434119672179,40.718472241213405],[-74.0141817806475,40.71845090677994],[-74.01405267630294,40.71843469417918],[-74.01398082699843,40.71842359763848],[-74.01384386492742,40.718405677543046],[-74.01370690154887,40.7183869026024],[-74.01361933453417,40.71837410122728],[-74.01351941969112,40.718361298526766],[-74.01338021267783,40.7183433772161],[-74.013224165616,40.71832204107575],[-74.01322164446768,40.71833289087077],[-74.01318770317103,40.71832824696063]],[[-74.01489146138931,40.71735601877439],[-74.01456783411167,40.717209310621335],[-74.01419422429437,40.71768528671474],[-74.0145177891943,40.71783207782166],[-74.01495287005,40.71802945616703],[-74.01495828869216,40.718031560893714],[-74.01496572418905,40.71803387786423],[-74.01497285650275,40.718035538382146],[-74.01497867029589,40.71803651739686],[-74.01498627709704,40.71803731606027],[-74.01499201606904,40.7180375684034],[-74.01499757036231,40.71803752895952],[-74.01500265366026,40.718037250974504],[-74.01500777825008,40.718036731621396],[-74.01501240448161,40.71803604927602],[-74.01501668751446,40.71803523470557],[-74.01515929672155,40.7179672622076],[-74.01525537494857,40.717915487697596],[-74.01540425602938,40.717825732563476],[-74.01552351356834,40.71774358963513],[-74.0156067982152,40.71768029353509],[-74.01489146138931,40.71735601877439]],[[-74.01511599881978,40.71726239301516],[-74.01524144193009,40.717101846770646],[-74.01504049167524,40.71700990738101],[-74.01527233839691,40.71671318059805],[-74.01505537259311,40.71661486314463],[-74.01469829927169,40.71707196868932],[-74.01511599881978,40.71726239301516]],[[-74.01515922182037,40.71580296388436],[-74.01460263666964,40.715552988258416],[-74.01458547080169,40.71555041856022],[-74.01457076428308,40.71582244152104],[-74.01456277429838,40.7159044669372],[-74.01454771984407,40.715985915714896],[-74.014525665801,40.716066436045324],[-74.01449670762014,40.71614568013408],[-74.01446097032924,40.71622330561995],[-74.01441860810185,40.71629897707907],[-74.01438419126298,40.71636619149782],[-74.01434166077588,40.716430661135774],[-74.01429138979329,40.71649182047227],[-74.01423381910382,40.716549133009416],[-74.01416945393441,40.71660209595437],[-74.01398188914953,40.71677535196649],[-74.0142957976079,40.71691629426521],[-74.01468262071204,40.716417516127734],[-74.01515922182037,40.71580296388436]],[[-74.0159824982228,40.716713693875946],[-74.01599020492749,40.716717203917725],[-74.01596788710573,40.716830833127425],[-74.01619690580132,40.716935146372975],[-74.01632996573346,40.716361986681],[-74.01607836858574,40.71624713631923],[-74.0159339568109,40.71642996646672],[-74.01602974265671,40.71647869341654],[-74.01602526495357,40.716496834782355],[-74.01601419031397,40.71649431131635],[-74.01599167687279,40.71660600890736],[-74.01600024848331,40.71660870572725],[-74.0159824982228,40.716713693875946]],[[-74.01543440677733,40.71649330740162],[-74.01544801743003,40.716499520047485],[-74.01546954383666,40.7164722164828],[-74.01548312611749,40.716478417415786],[-74.01557786073379,40.716358580506764],[-74.01556424899861,40.71635236787628],[-74.01558747678352,40.716322960486906],[-74.0155738661539,40.71631674794118],[-74.01574797817983,40.71609631709835],[-74.0155314740422,40.71599748361362],[-74.01516285953042,40.7164641563998],[-74.01537949247499,40.716562829424134],[-74.01543440677733,40.71649330740162]],[[-74.01632273994642,40.71613550526223],[-74.01632461522661,40.716113438948604],[-74.01634970395847,40.715960727205115],[-74.01637322257689,40.71585915733192],[-74.01639663983082,40.715774187433446],[-74.01642237951496,40.715700406971095],[-74.01645055358632,40.71563653892237],[-74.01648556998883,40.715570373656476],[-74.01652816967845,40.715502415287666],[-74.01653748272622,40.715488722655316],[-74.01601471769746,40.71525245845844],[-74.01558417971498,40.71580171416352],[-74.01580128203726,40.715899833338604],[-74.01611136248265,40.715500197696144],[-74.01629996474105,40.71558307602372],[-74.0162948011332,40.715592831968834],[-74.01626367689055,40.71566338399633],[-74.0162352326593,40.715741238679605],[-74.01620312684591,40.71583507339651],[-74.01618505054437,40.71594505955095],[-74.0161654413849,40.71606441387258],[-74.01632273994642,40.71613550526223]],[[-74.01579095958331,40.71709194874815],[-74.01578228108342,40.717088017338725],[-74.01569134413604,40.71720440228714],[-74.01570001077539,40.71720834985162],[-74.01562995999484,40.71729800388858],[-74.01564048374951,40.717302796856934],[-74.01552600696272,40.717449308511114],[-74.01573912231493,40.71754646211111],[-74.0157413782201,40.71754723893692],[-74.01574274887842,40.71754753775798],[-74.01574410279457,40.717547718536515],[-74.01574581074145,40.71754779485666],[-74.01574775042751,40.71754767939582],[-74.01574943333135,40.7175473973158],[-74.01575098370752,40.717546978299275],[-74.01575294346836,40.7175461891956],[-74.01575623434512,40.71754400051286],[-74.01576231785005,40.71753990874858],[-74.01577077642314,40.71753412093883],[-74.01577867395794,40.71752860961874],[-74.01578670053283,40.717522899335115],[-74.01579295194378,40.71751837434909],[-74.01580431666223,40.717509967467436],[-74.01582065103062,40.717497460852734],[-74.01584829301585,40.717475071322625],[-74.01587917315364,40.71744803840394],[-74.01589615059108,40.71743215654931],[-74.01592022380446,40.717408232135284],[-74.01595262987577,40.71737302236586],[-74.01597684379344,40.71734402362063],[-74.0160103658338,40.71729905937731],[-74.01602405559625,40.71727868978149],[-74.01603741131592,40.717257417943266],[-74.01604742454906,40.71724040867868],[-74.0160607677542,40.71721605894557],[-74.0160684996444,40.71720089957228],[-74.0160793884424,40.7171779630436],[-74.01609021755928,40.71715285626626],[-74.01610289104978,40.71711951773002],[-74.01610769154593,40.71710529082555],[-74.01610812545026,40.71710355554926],[-74.0161083061787,40.71710202820558],[-74.01610829511321,40.71710035239033],[-74.0161081611364,40.71709921143888],[-74.01610796320284,40.71709822635479],[-74.0161075806925,40.71709693233649],[-74.01610719815048,40.717095958907755],[-74.01610670443213,40.71709493872819],[-74.0161062627848,40.71709418148754],[-74.01610537129079,40.71709285608332],[-74.01610448931136,40.7170917845879],[-74.01610269224271,40.71709003422496],[-74.0161007355883,40.717088561220216],[-74.01587391353505,40.716985779323565],[-74.01579095958331,40.71709194874815]],[[-74.01695423633362,40.71404635056514],[-74.01643006122359,40.714728655218124],[-74.01700003938986,40.71499109297281],[-74.01708559935952,40.71487972087931],[-74.01716069713713,40.714610348814205],[-74.01727757847013,40.71419109886352],[-74.01695423633362,40.71404635056514]],[[-74.01762903929689,40.71176595135094],[-74.01778327619398,40.71179246335611],[-74.01782127370721,40.711426412270306],[-74.01786573606319,40.71143562847359],[-74.01798960559823,40.71114278824853],[-74.01786887482628,40.71111612107055],[-74.01792595992616,40.71097225233273],[-74.01784455185688,40.71094982047269],[-74.01796742379818,40.71059382319704],[-74.01736950473884,40.71045414630586],[-74.0173821268353,40.71041694078258],[-74.0164859912744,40.71020760375447],[-74.0162334135859,40.71084412256622],[-74.01607701359413,40.71123826012475],[-74.01611940676455,40.71126634113612],[-74.01603179835074,40.71148997031807],[-74.01601849176092,40.71152389517431],[-74.01696490959941,40.71171473842006],[-74.01697291505087,40.71169426418774],[-74.0175025111046,40.71180690301018],[-74.01750053399097,40.71183580064559],[-74.01761070301734,40.71185533684223],[-74.01762903929689,40.71176595135094]],[[-74.0180160152715,40.71034944810651],[-74.01808679398054,40.710070168513845],[-74.0181715376759,40.70973578723405],[-74.01793113056982,40.70968079689134],[-74.01771931144093,40.70963234478539],[-74.01685637759229,40.70943494999988],[-74.01684209315019,40.709459274806534],[-74.01680700888826,40.70951900159478],[-74.01678059506968,40.709563967864106],[-74.0167277555615,40.709653901222985],[-74.01670267617929,40.709697372339754],[-74.01666148377842,40.709774637440624],[-74.01661388599824,40.70987754092148],[-74.0165609681543,40.71000225453057],[-74.01654988028412,40.71002838793686],[-74.01702739450197,40.710133040708655],[-74.01784269512812,40.71031150375209],[-74.0180160152715,40.71034944810651]],[[-74.0177734320274,40.70951852933671],[-74.01778133695454,40.70951816789057],[-74.01778867958978,40.7095171933762],[-74.01779519611603,40.70951578311249],[-74.01780545398576,40.70951240372867],[-74.01781248124477,40.70950911761673],[-74.01781962068321,40.709504736444764],[-74.01782531743068,40.70950021770264],[-74.01783080092282,40.70949457609104],[-74.01783724419766,40.70948476130955],[-74.01786115408044,40.709425125931496],[-74.01786063841439,40.709408398194306],[-74.01785684134914,40.709396312065415],[-74.01785117856141,40.709386234425686],[-74.0178471844347,40.70938101214625],[-74.01784041828678,40.70937386942757],[-74.01783116592972,40.70936674507423],[-74.01782272702587,40.70936167197051],[-74.01781477726468,40.70935789830198],[-74.01708710820016,40.70913344224247],[-74.01695779151305,40.709299733761725],[-74.01693391031301,40.70933044189969],[-74.01774978010518,40.70951535229356],[-74.01776111394602,40.70951769643542],[-74.0177734320274,40.70951852933671]],[[-74.01675522081493,40.70903082127004],[-74.01616673792614,40.70885182861766],[-74.01616202204632,40.70885099265507],[-74.016157586589,40.70885046561486],[-74.01615044257107,40.70885012618112],[-74.01614475648817,40.70885029721613],[-74.01613798300356,40.70885101763572],[-74.01613129013344,40.70885230719117],[-74.01612451694072,40.708854248729516],[-74.01611913188691,40.70885630711889],[-74.01611207872189,40.70885982453809],[-74.01610744763015,40.708862763524536],[-74.01601606233666,40.709104864522075],[-74.01601623219095,40.7091071572347],[-74.01601647753212,40.70910881051488],[-74.01601721431722,40.70911188747493],[-74.01601850860112,40.70911537229172],[-74.01602021698514,40.709118657100866],[-74.0160213380301,40.70912040663898],[-74.01602261650801,40.70912214711957],[-74.01602424409336,40.70912407763249],[-74.01602711797052,40.709126932764555],[-74.01602992904903,40.70912923406954],[-74.01603164650786,40.70913045671064],[-74.01603378628499,40.709131820682586],[-74.01603677124561,40.70913346731226],[-74.01604239519699,40.70913590602159],[-74.0160489811294,40.7091378637134],[-74.01657949634394,40.70925598087482],[-74.01664375004688,40.70917365252354],[-74.01675522081493,40.70903082127004]],[[-74.01772172941511,40.7092244082302],[-74.01807074997593,40.70933152449546],[-74.01826797817019,40.70939205498785],[-74.01837785970028,40.70895330770016],[-74.01827809794679,40.708910732809734],[-74.0178921119631,40.708746005569644],[-74.01748543673641,40.708572447004215],[-74.0171343792394,40.709044144349384],[-74.01772172941511,40.7092244082302]],[[-74.0180718110754,40.708651198445054],[-74.01813819599944,40.70856003588066],[-74.0184554113978,40.70869140303861],[-74.0185854039212,40.708157698135736],[-74.01796229081894,40.70789964912002],[-74.0175671901484,40.70844222111442],[-74.0180718110754,40.708651198445054]],[[-74.01766677452885,40.70777726438239],[-74.0175082945049,40.70771175724907],[-74.0171787100593,40.707575136616505],[-74.01681960464946,40.70806827002023],[-74.01730767163869,40.70827039929842],[-74.01766677452885,40.70777726438239]],[[-74.01777046263985,40.70764366254919],[-74.01812406599103,40.70716467855],[-74.01797166367079,40.70710001123467],[-74.0176354352052,40.70695734061441],[-74.01727977827272,40.707439103322145],[-74.01760738730631,40.707575678956005],[-74.01777046263985,40.70764366254919]],[[-74.01824254001545,40.70702084513982],[-74.01852766613149,40.70663460946534],[-74.01859287299557,40.706546278064174],[-74.01803017942167,40.70630751405442],[-74.01791002187487,40.706556335232726],[-74.017747080075,40.70681061004348],[-74.01808077666159,40.70695220635426],[-74.01824254001545,40.70702084513982]],[[-74.01899705345157,40.70651752553251],[-74.01910516592048,40.70607914510144],[-74.01899288499,40.70571842093845],[-74.01807677731257,40.705512745610136],[-74.01809021927139,40.70555480633891],[-74.0181030973317,40.70560361025231],[-74.01811419392764,40.70565859901773],[-74.01812236215319,40.705719566755235],[-74.01812614891132,40.70577725556485],[-74.01812575764387,40.70584458581384],[-74.01811980675282,40.705914946299714],[-74.01810980193078,40.70597700202129],[-74.01809832182002,40.70602745933496],[-74.01808796468784,40.70606441872969],[-74.01806602293995,40.70612845471425],[-74.01899705345157,40.70651752553251]],[[-74.01880483896768,40.706877587591094],[-74.01879641720502,40.70686926105179],[-74.01878968255616,40.70686413729441],[-74.01877929800447,40.706857091588],[-74.01877059664088,40.70685218248684],[-74.01876217734521,40.70684834052351],[-74.01875319824934,40.706844497644184],[-74.01874421829358,40.70684150936571],[-74.01873411527241,40.706838308850365],[-74.0187228895978,40.70683638802879],[-74.01871278803205,40.706834468866354],[-74.01870156380701,40.706833402642545],[-74.01868809495016,40.70683297703648],[-74.01867686993012,40.70683340659053],[-74.01866676803878,40.70683426280414],[-74.01865779048939,40.706835970677254],[-74.01864768883223,40.70683768056784],[-74.0186387104201,40.70684024487985],[-74.01862973201511,40.70684323510973],[-74.0186207526292,40.706846654856875],[-74.01861233546892,40.70685049951361],[-74.01860448042467,40.70685477100273],[-74.0185966245166,40.706859897091505],[-74.01858933060663,40.70686502392674],[-74.0185807226101,40.70687212311821],[-74.01862076279224,40.70688338215722],[-74.0186308578352,40.706857755600694],[-74.01864208368839,40.70686031761129],[-74.01863423322274,40.70688508912719],[-74.01870046111611,40.70690216126429],[-74.01872401474571,40.70684407548382],[-74.0187374852969,40.70684663620416],[-74.0187172969529,40.70690386684979],[-74.0187812793598,40.706918377257416],[-74.01879586278868,40.706884209570084],[-74.01881007854873,40.706885343738044],[-74.01880483896768,40.706877587591094]],[[-74.01879699301838,40.70692264497032],[-74.01883061388997,40.706930679323484],[-74.01883010527915,40.706923067400766],[-74.01882785843661,40.70691580872393],[-74.01882476988635,40.706907266067326],[-74.01881999729653,40.70689787092062],[-74.01881606666684,40.7068910385183],[-74.01881007854873,40.706885343738044],[-74.01879699301838,40.70692264497032]]]]}',\n",
       " '{\"type\":\"MultiPolygon\",\"coordinates\":[[[[-74.01811980675282,40.705914946299714],[-74.01812575764387,40.70584458581384],[-74.01812614891132,40.70577725556485],[-74.01812236215319,40.705719566755235],[-74.01811419392764,40.70565859901773],[-74.0181030973317,40.70560361025231],[-74.01809021927139,40.70555480633891],[-74.01807677731257,40.705512745610136],[-74.01899288499,40.70571842093845],[-74.01910516592048,40.70607914510144],[-74.01899705345157,40.70651752553251],[-74.01806602293995,40.70612845471425],[-74.01808796468784,40.70606441872969],[-74.01809832182002,40.70602745933496],[-74.01810980193078,40.70597700202129],[-74.01811980675282,40.705914946299714]]]]}',\n",
       " '{\"type\":\"MultiPolygon\",\"coordinates\":[[[[-74.01318770317103,40.71832824696063],[-74.01322164446768,40.71833289087077],[-74.01317593306356,40.718529604587644],[-74.0131400391476,40.71867908486789],[-74.0131007807866,40.718843087157396],[-74.0130774364562,40.71895370851355],[-74.01303637815171,40.718948780651004],[-74.01318770317103,40.71832824696063]]]]}',\n",
       " '{\"type\":\"MultiPolygon\",\"coordinates\":[[[[-74.01791002187487,40.706556335232726],[-74.01803017942167,40.70630751405442],[-74.01859287299557,40.706546278064174],[-74.01852766613149,40.70663460946534],[-74.01824254001545,40.70702084513982],[-74.01808077666159,40.70695220635426],[-74.017747080075,40.70681061004348],[-74.01791002187487,40.706556335232726]]]]}',\n",
       " '{\"type\":\"MultiPolygon\",\"coordinates\":[[[[-74.01812406599103,40.70716467855],[-74.01777046263985,40.70764366254919],[-74.01760738730631,40.707575678956005],[-74.01727977827272,40.707439103322145],[-74.0176354352052,40.70695734061441],[-74.01797166367079,40.70710001123467],[-74.01812406599103,40.70716467855]]]]}',\n",
       " '{\"type\":\"MultiPolygon\",\"coordinates\":[[[[-74.01777111246169,40.706200956757655],[-74.01768710886185,40.70640160840753],[-74.01749661382739,40.706714946038566],[-74.01714532784865,40.706567048825185],[-74.01735723345051,40.706026486552965],[-74.01777111246169,40.706200956757655]]]]}',\n",
       " '{\"type\":\"MultiPolygon\",\"coordinates\":[[[[-74.01696490959941,40.71171473842006],[-74.01601849176092,40.71152389517431],[-74.01603179835074,40.71148997031807],[-74.01611940676455,40.71126634113612],[-74.01607701359413,40.71123826012475],[-74.0162334135859,40.71084412256622],[-74.0164859912744,40.71020760375447],[-74.0173821268353,40.71041694078258],[-74.01736950473884,40.71045414630586],[-74.01796742379818,40.71059382319704],[-74.01784455185688,40.71094982047269],[-74.01792595992616,40.71097225233273],[-74.01786887482628,40.71111612107055],[-74.01798960559823,40.71114278824853],[-74.01786573606319,40.71143562847359],[-74.01782127370721,40.711426412270306],[-74.01778327619398,40.71179246335611],[-74.01762903929689,40.71176595135094],[-74.01761070301734,40.71185533684223],[-74.01750053399097,40.71183580064559],[-74.0175025111046,40.71180690301018],[-74.01697291505087,40.71169426418774],[-74.01696490959941,40.71171473842006]]]]}',\n",
       " '{\"type\":\"MultiPolygon\",\"coordinates\":[[[[-74.01496807552765,40.71109661083208],[-74.01498908701268,40.71102706182764],[-74.01503628877037,40.71090083952519],[-74.0151469556357,40.71062808893071],[-74.01520441467494,40.710486468298576],[-74.01539062826194,40.71002751294428],[-74.01542015392761,40.70995474077156],[-74.01615519060945,40.71012040937948],[-74.01610679592545,40.71023526878254],[-74.01598481619138,40.71055531748291],[-74.01584989690522,40.71091477406996],[-74.01566897279035,40.71138985837125],[-74.01496807552765,40.71109661083208]]]]}',\n",
       " '{\"type\":\"MultiPolygon\",\"coordinates\":[[[[-74.0155404955054,40.7133833081122],[-74.01550036348999,40.71343540330953],[-74.01525705491231,40.71331081470898],[-74.01529508747056,40.713258680130096],[-74.01516457893082,40.713190457457515],[-74.01517599491518,40.71317680782901],[-74.0150862677163,40.71312222786067],[-74.01498695906508,40.71296472442665],[-74.01489094818008,40.71294706412821],[-74.0148448001522,40.7130835745219],[-74.0144582725693,40.71299961967077],[-74.01448302085088,40.712905955561105],[-74.01452781201694,40.71273642833106],[-74.01458113696016,40.712534610473085],[-74.01464299057875,40.71230050105572],[-74.01478305107611,40.71177039073294],[-74.01484916954362,40.71152013536453],[-74.01490462434354,40.711310244833484],[-74.01558453353513,40.71159976299678],[-74.01545652491603,40.71198564898764],[-74.01584073805927,40.712086104486126],[-74.01582280961831,40.71215396928874],[-74.01612219664895,40.7122236135433],[-74.0160391468793,40.71250208392489],[-74.01624378092535,40.71262377487696],[-74.0156210721379,40.713455057143676],[-74.01556031142103,40.71346135795861],[-74.01560044340565,40.713409264496946],[-74.0155404955054,40.7133833081122]]]]}',\n",
       " '{\"type\":\"MultiPolygon\",\"coordinates\":[[[[-74.01425924532174,40.71376706667762],[-74.0142923677945,40.71363216374224],[-74.01430847737548,40.71356655609321],[-74.01442627915277,40.713120710564134],[-74.0144582725693,40.71299961967077],[-74.0148448001522,40.7130835745219],[-74.01489094818008,40.71294706412821],[-74.01498695906508,40.71296472442665],[-74.0150862677163,40.71312222786067],[-74.01517599491518,40.71317680782901],[-74.01516457893082,40.713190457457515],[-74.01529508747056,40.713258680130096],[-74.01525705491231,40.71331081470898],[-74.01550036348999,40.71343540330953],[-74.0155404955054,40.7133833081122],[-74.01560044340565,40.713409264496946],[-74.01556031142103,40.71346135795861],[-74.0152293042937,40.7138929424003],[-74.01527757128055,40.713916688799],[-74.01509222283427,40.71414250730465],[-74.01425924532174,40.71376706667762]]]]}',\n",
       " '{\"type\":\"MultiPolygon\",\"coordinates\":[[[[-74.01509222283427,40.71414250730465],[-74.01527757128055,40.713916688799],[-74.0152293042937,40.7138929424003],[-74.01556031142103,40.71346135795861],[-74.0156210721379,40.713455057143676],[-74.01668511706754,40.713934759378375],[-74.01616663499152,40.71462688385269],[-74.01509222283427,40.71414250730465]]]]}',\n",
       " '{\"type\":\"MultiPolygon\",\"coordinates\":[[[[-74.01776258261631,40.71279624150044],[-74.01775810692993,40.712823477166744],[-74.01775795234185,40.712825135021106],[-74.01775802494852,40.71282695848954],[-74.01775824784384,40.712828332675755],[-74.01775866593243,40.71282984453799],[-74.01775923088391,40.71283126100291],[-74.01776000991651,40.71283273139855],[-74.01776148980169,40.712834805052246],[-74.01776292567624,40.712836335667006],[-74.01776472492105,40.7128378545979],[-74.01776702002537,40.71283935990089],[-74.01776986659277,40.712840748914175],[-74.01777255636556,40.71284168425625],[-74.01777252375635,40.71284185618546],[-74.01776237708083,40.71284732557092],[-74.01774497826665,40.712847697405316],[-74.01773370437265,40.71284175573815],[-74.01772869771511,40.712834673988056],[-74.01781014082214,40.71235477043658],[-74.01766476849033,40.712331304490846],[-74.01745821974254,40.71229802383],[-74.01724044218305,40.712262609418595],[-74.0172258487035,40.71226047368694],[-74.0170686927673,40.71223487360256],[-74.01701368468257,40.71222633937508],[-74.01700021541826,40.71222378029356],[-74.01685877422094,40.71220159244122],[-74.01680825726349,40.712193057470614],[-74.01679366480609,40.712190496684556],[-74.01665924804352,40.712169023553976],[-74.0166614868906,40.712160198064566],[-74.01694367361812,40.71220612592817],[-74.01783964900406,40.712351950073774],[-74.0177592807268,40.71279597813372],[-74.01776258261631,40.71279624150044]]],[[[-74.0177263348567,40.71307021060829],[-74.01772242274372,40.713071607924014],[-74.01771921009241,40.71307333559584],[-74.01771606755514,40.713075771951075],[-74.0177139202508,40.71307816850022],[-74.0177119223244,40.71308165914869],[-74.01771103673944,40.71308474537784],[-74.01770523495742,40.71311457105733],[-74.01770175317901,40.71311430863756],[-74.01761234988138,40.71360856743057],[-74.01704257820215,40.713507529913095],[-74.01635160519898,40.71341301730814],[-74.01635254026593,40.713409222053656],[-74.0164156783145,40.713417111100334],[-74.01643027102526,40.71341967009399],[-74.01661325193676,40.71344356003358],[-74.01663121128189,40.71344526568041],[-74.01665478423088,40.71344868073076],[-74.01681082308639,40.71346915670541],[-74.01683215102106,40.71347257112004],[-74.01697134901237,40.71349134193624],[-74.01707125830578,40.713508410037974],[-74.01708585326057,40.71351097170716],[-74.01731485855127,40.713550229067785],[-74.01733282080124,40.713553642968336],[-74.01737323284561,40.713560469089096],[-74.01758315692919,40.71359716687203],[-74.01768546758439,40.71306849771718],[-74.01769779385496,40.71306202574826],[-74.01771168618188,40.7130612762182],[-74.01772192957985,40.713063906817204],[-74.0177293204089,40.713069102565434],[-74.0177296073767,40.71306954115784],[-74.0177263348567,40.71307021060829]]]]}',\n",
       " '{\"type\":\"MultiPolygon\",\"coordinates\":[[[[-73.99197642004178,40.678212352837036],[-73.99181737328169,40.67841218132084],[-73.99175021230137,40.67838279632034],[-73.99190999853641,40.67818203766431],[-73.99194877780238,40.67819973645541],[-73.99197642004178,40.678212352837036]]]]}',\n",
       " '{\"type\":\"MultiPolygon\",\"coordinates\":[[[[-74.01601419031397,40.71649431131635],[-74.01602526495357,40.716496834782355],[-74.01602974265671,40.71647869341654],[-74.0159339568109,40.71642996646672],[-74.01607836858574,40.71624713631923],[-74.01632996573346,40.716361986681],[-74.01619690580132,40.716935146372975],[-74.01596788710573,40.716830833127425],[-74.01599020492749,40.716717203917725],[-74.0159824982228,40.716713693875946],[-74.01600024848331,40.71660870572725],[-74.01599167687279,40.71660600890736],[-74.01601419031397,40.71649431131635]]]]}',\n",
       " '{\"type\":\"MultiPolygon\",\"coordinates\":[[[[-74.0155738661539,40.71631674794118],[-74.01558747678352,40.716322960486906],[-74.01556424899861,40.71635236787628],[-74.01557786073379,40.716358580506764],[-74.01548312611749,40.716478417415786],[-74.01546954383666,40.7164722164828],[-74.01544801743003,40.716499520047485],[-74.01543440677733,40.71649330740162],[-74.01537949247499,40.716562829424134],[-74.01516285953042,40.7164641563998],[-74.0155314740422,40.71599748361362],[-74.01574797817983,40.71609631709835],[-74.0155738661539,40.71631674794118]]]]}',\n",
       " '{\"type\":\"MultiPolygon\",\"coordinates\":[[[[-74.01527233839691,40.71671318059805],[-74.01504049167524,40.71700990738101],[-74.01524144193009,40.717101846770646],[-74.01511599881978,40.71726239301516],[-74.01469829927169,40.71707196868932],[-74.01505537259311,40.71661486314463],[-74.01527233839691,40.71671318059805]]]]}',\n",
       " '{\"type\":\"MultiPolygon\",\"coordinates\":[[[[-74.01489146138931,40.71735601877439],[-74.0145177891943,40.71783207782166],[-74.01419422429437,40.71768528671474],[-74.01456783411167,40.717209310621335],[-74.01489146138931,40.71735601877439]]]]}',\n",
       " '{\"type\":\"MultiPolygon\",\"coordinates\":[[[[-74.01438905121346,40.71836830856669],[-74.01462433826657,40.718068556123],[-74.01493396025856,40.71820940985653],[-74.01476848367756,40.71842022447516],[-74.01438905121346,40.71836830856669]]]]}',\n",
       " '{\"type\":\"MultiPolygon\",\"coordinates\":[[[[-73.99169118158821,40.67835696799741],[-73.99185161748971,40.67815539268215],[-73.99189693974523,40.67817607801286],[-73.99190999853641,40.67818203766431],[-73.99175021230137,40.67838279632034],[-73.99169118158821,40.67835696799741]]]]}',\n",
       " '{\"type\":\"MultiPolygon\",\"coordinates\":[[[[-74.01321793924748,40.71820806174593],[-74.01329841390414,40.71788921871822],[-74.01334403420262,40.717708476110275],[-74.01339437870733,40.717509009574925],[-74.01462433826657,40.718068556123],[-74.01438905121346,40.71836830856669],[-74.01321793924748,40.71820806174593]]]]}',\n",
       " '{\"type\":\"MultiPolygon\",\"coordinates\":[[[[-73.99169118158821,40.67835696799741],[-73.99162481320155,40.67832792959083],[-73.99178598143425,40.6781254359847],[-73.99179751095726,40.67813069855149],[-73.99184275274442,40.678151346083695],[-73.99185161748971,40.67815539268215],[-73.99169118158821,40.67835696799741]]]]}',\n",
       " '{\"type\":\"MultiPolygon\",\"coordinates\":[[[[-74.01343157268013,40.71735704003998],[-74.01344983814464,40.71728050104887],[-74.01345409762888,40.7172626507012],[-74.01350051814876,40.717081083944265],[-74.013581801079,40.71676316268926],[-74.01387425549923,40.71689531690699],[-74.01380363561972,40.71698471331172],[-74.01384085474038,40.71700153219702],[-74.01382784660254,40.717018000417674],[-74.01397052360969,40.71708247260474],[-74.01379025750005,40.71731066829204],[-74.01387880272372,40.71735068104987],[-74.0137568649123,40.71750503973639],[-74.01343157268013,40.71735704003998]]]]}',\n",
       " '{\"type\":\"MultiPolygon\",\"coordinates\":[[[[-73.99156420476423,40.67830141129646],[-73.99172604047271,40.678098079451125],[-73.99174642768644,40.67810738411333],[-73.99178598143425,40.6781254359847],[-73.99162481320155,40.67832792959083],[-73.99156420476423,40.67830141129646]]]]}',\n",
       " '{\"type\":\"MultiPolygon\",\"coordinates\":[[[[-74.01384085474038,40.71700153219702],[-74.01380363561972,40.71698471331172],[-74.01387425549923,40.71689531690699],[-74.01390434088928,40.71690891197728],[-74.01389876559615,40.7169159698733],[-74.01390807130404,40.71692017417015],[-74.01391361702868,40.71691315492871],[-74.01414269880812,40.71701662040986],[-74.01387880272372,40.71735068104987],[-74.01379025750005,40.71731066829204],[-74.01397052360969,40.71708247260474],[-74.01382784660254,40.717018000417674],[-74.01384085474038,40.71700153219702]]]]}',\n",
       " '{\"type\":\"MultiPolygon\",\"coordinates\":[[[[-73.99149750760512,40.67827222872719],[-73.99166007685865,40.678067973069965],[-73.99169908894542,40.678085778213095],[-73.99172604047271,40.678098079451125],[-73.99156420476423,40.67830141129646],[-73.99149750760512,40.67827222872719]]]]}',\n",
       " '{\"type\":\"MultiPolygon\",\"coordinates\":[[[[-74.01643006122359,40.714728655218124],[-74.01695423633362,40.71404635056514],[-74.01727757847013,40.71419109886352],[-74.01716069713713,40.714610348814205],[-74.01708559935952,40.71487972087931],[-74.01700003938986,40.71499109297281],[-74.01643006122359,40.714728655218124]]]]}',\n",
       " '{\"type\":\"MultiPolygon\",\"coordinates\":[[[[-73.99160280429352,40.678041832355554],[-73.9916500802278,40.67806341034787],[-73.99166007685865,40.678067973069965],[-73.99149750760512,40.67827222872719],[-73.99143959493381,40.67824688936104],[-73.99160280429352,40.678041832355554]]]]}',\n",
       " '{\"type\":\"MultiPolygon\",\"coordinates\":[[[[-74.01509331166164,40.71442834391298],[-74.01483139004792,40.714760621871285],[-74.01467231845227,40.71535221299685],[-74.0139160358767,40.715236229379585],[-74.01395331787329,40.71507517526608],[-74.01407741501157,40.714539078597625],[-74.01411774215994,40.71436486406275],[-74.01419744980296,40.714020526919015],[-74.01509331166164,40.71442834391298]]]]}',\n",
       " '{\"type\":\"MultiPolygon\",\"coordinates\":[[[[-74.01758860592209,40.709961104506185],[-74.01771931144093,40.70963234478539],[-74.01793113056982,40.70968079689134],[-74.0181715376759,40.70973578723405],[-74.01808679398054,40.710070168513845],[-74.01758860592209,40.709961104506185]]]]}',\n",
       " '{\"type\":\"MultiPolygon\",\"coordinates\":[[[[-73.99137199662039,40.678217312268615],[-73.99153594897899,40.67801131974354],[-73.99155175412254,40.67801853406233],[-73.99160280429352,40.678041832355554],[-73.99143959493381,40.67824688936104],[-73.99137199662039,40.678217312268615]]]]}',\n",
       " '{\"type\":\"MultiPolygon\",\"coordinates\":[[[[-74.01702739450197,40.710133040708655],[-74.01713208405427,40.70986972635865],[-74.01758547198362,40.70996898620185],[-74.01758860592209,40.709961104506185],[-74.01808679398054,40.710070168513845],[-74.0180160152715,40.71034944810651],[-74.01784269512812,40.71031150375209],[-74.01702739450197,40.710133040708655]]]]}',\n",
       " '{\"type\":\"MultiPolygon\",\"coordinates\":[[[[-73.99131304663486,40.67819151973237],[-73.9913515283703,40.678141084979146],[-73.99138895822205,40.67809203155133],[-73.99143123146438,40.67803662798142],[-73.99147260184998,40.67798240855609],[-73.9915045457199,40.67799698665541],[-73.99153594897899,40.67801131974354],[-73.99137199662039,40.678217312268615],[-73.99131304663486,40.67819151973237]]]]}',\n",
       " '{\"type\":\"MultiPolygon\",\"coordinates\":[[[[-74.0158976688851,40.70986675667286],[-74.01602244215351,40.70954849783607],[-74.01637896938418,40.70962800404721],[-74.01625419766772,40.70994626234873],[-74.0158976688851,40.70986675667286]]]]}',\n",
       " '{\"type\":\"MultiPolygon\",\"coordinates\":[[[[-73.99104055245127,40.67807229213961],[-73.99108968319523,40.678013611379356],[-73.9913515283703,40.678141084979146],[-73.99131304663486,40.67819151973237],[-73.99104055245127,40.67807229213961]]]]}',\n",
       " '{\"type\":\"MultiPolygon\",\"coordinates\":[[[[-74.01654988028412,40.71002838793686],[-74.0165609681543,40.71000225453057],[-74.01661388599824,40.70987754092148],[-74.01666148377842,40.709774637440624],[-74.01670267617929,40.709697372339754],[-74.01716070609454,40.70979773543102],[-74.01713208405427,40.70986972635865],[-74.01702739450197,40.710133040708655],[-74.01654988028412,40.71002838793686]]]]}',\n",
       " '{\"type\":\"MultiPolygon\",\"coordinates\":[[[[-74.01772172941511,40.7092244082302],[-74.0178410465526,40.708994135253235],[-74.01777446424452,40.70897297892119],[-74.0178921119631,40.708746005569644],[-74.01827809794679,40.708910732809734],[-74.01837785970028,40.70895330770016],[-74.01826797817019,40.70939205498785],[-74.01807074997593,40.70933152449546],[-74.01772172941511,40.7092244082302]]]]}',\n",
       " '{\"type\":\"MultiPolygon\",\"coordinates\":[[[[-73.9913515283703,40.678141084979146],[-73.99108968319523,40.678013611379356],[-73.99112969979588,40.67796581625885],[-73.99138895822205,40.67809203155133],[-73.9913515283703,40.678141084979146]]]]}',\n",
       " '{\"type\":\"MultiPolygon\",\"coordinates\":[[[[-74.01650655365994,40.708810469484646],[-74.01661623087399,40.70865647853436],[-74.01673538907544,40.70869472781312],[-74.01688318979798,40.70848721028353],[-74.0167706870756,40.70843961925843],[-74.01683568722086,40.70836470374013],[-74.01716866869263,40.70850556438115],[-74.01686870656042,40.7089267222669],[-74.01650655365994,40.708810469484646]]]]}',\n",
       " '{\"type\":\"MultiPolygon\",\"coordinates\":[[[[-73.99112969979588,40.67796581625885],[-73.99117489450225,40.67791183584431],[-73.99143123146438,40.67803662798142],[-73.99138895822205,40.67809203155133],[-73.99112969979588,40.67796581625885]]]]}',\n",
       " '{\"type\":\"MultiPolygon\",\"coordinates\":[[[[-74.01748543673641,40.708572447004215],[-74.0178921119631,40.708746005569644],[-74.01777446424452,40.70897297892119],[-74.0178410465526,40.708994135253235],[-74.01772172941511,40.7092244082302],[-74.0171343792394,40.709044144349384],[-74.01748543673641,40.708572447004215]]]]}',\n",
       " '{\"type\":\"MultiPolygon\",\"coordinates\":[[[[-73.99179751095726,40.67813069855149],[-73.99196817884571,40.677926853656984],[-73.99201269648995,40.67794836646657],[-73.99184275274442,40.678151346083695],[-73.99179751095726,40.67813069855149]]]]}',\n",
       " '{\"type\":\"MultiPolygon\",\"coordinates\":[[[[-74.01595609794406,40.70863376848006],[-74.01598173747747,40.70857141911291],[-74.01617811815375,40.708086528154645],[-74.01683568722086,40.70836470374013],[-74.0167706870756,40.70843961925843],[-74.01688318979798,40.70848721028353],[-74.01673538907544,40.70869472781312],[-74.01661623087399,40.70865647853436],[-74.01650655365994,40.708810469484646],[-74.01595609794406,40.70863376848006]]]]}',\n",
       " '{\"type\":\"MultiPolygon\",\"coordinates\":[[[[-74.01813819599944,40.70856003588066],[-74.0180718110754,40.708651198445054],[-74.0175671901484,40.70844222111442],[-74.01796229081894,40.70789964912002],[-74.0185854039212,40.708157698135736],[-74.0184554113978,40.70869140303861],[-74.01813819599944,40.70856003588066]]]]}',\n",
       " '{\"type\":\"MultiPolygon\",\"coordinates\":[[[[-74.01695755607423,40.70747659454685],[-74.01659981113441,40.70796785849746],[-74.01628267787625,40.707828580640424],[-74.01649591543321,40.7072846474862],[-74.01695755607423,40.70747659454685]]]]}',\n",
       " '{\"type\":\"MultiPolygon\",\"coordinates\":[[[[-73.99185161748971,40.67815539268215],[-73.99184275274442,40.678151346083695],[-73.99201269648995,40.67794836646657],[-73.9920660151373,40.677974132981404],[-73.99189693974523,40.67817607801286],[-73.99185161748971,40.67815539268215]]]]}',\n",
       " '{\"type\":\"MultiPolygon\",\"coordinates\":[[[[-74.01681960464946,40.70806827002023],[-74.0171787100593,40.707575136616505],[-74.0175082945049,40.70771175724907],[-74.01766677452885,40.70777726438239],[-74.01730767163869,40.70827039929842],[-74.01681960464946,40.70806827002023]]]]}',\n",
       " '{\"type\":\"MultiPolygon\",\"coordinates\":[[[[-73.99211702265151,40.67799878359935],[-73.99194877780238,40.67819973645541],[-73.99190999853641,40.67818203766431],[-73.99189693974523,40.67817607801286],[-73.9920660151373,40.677974132981404],[-73.99211702265151,40.67799878359935]]]]}',\n",
       " '{\"type\":\"MultiPolygon\",\"coordinates\":[[[[-74.01483139004792,40.714760621871285],[-74.01509331166164,40.71442834391298],[-74.01598880818113,40.71483598205241],[-74.0154837966085,40.71547665549444],[-74.01467231845227,40.71535221299685],[-74.01483139004792,40.714760621871285]]]]}',\n",
       " '{\"type\":\"MultiPolygon\",\"coordinates\":[[[[-73.99216549190373,40.67802220661926],[-73.9919980362649,40.67822221857692],[-73.99197642004178,40.678212352837036],[-73.99194877780238,40.67819973645541],[-73.99211702265151,40.67799878359935],[-73.99216549190373,40.67802220661926]]]]}',\n",
       " '{\"type\":\"MultiPolygon\",\"coordinates\":[[[[-74.01711112370957,40.705715310162816],[-74.01724819841475,40.70536563469936],[-74.01736707261438,40.70506238382277],[-74.01742734973112,40.705096924800046],[-74.01749842309995,40.705144041437116],[-74.01755552678772,40.705187921934126],[-74.017595929277,40.70522292142286],[-74.01764022943843,40.70526591674147],[-74.01768897005331,40.705320302944095],[-74.01773233448253,40.705377145566366],[-74.01776008712297,40.70541937884853],[-74.01778394185321,40.70546083918357],[-74.01780736503238,40.70550821870027],[-74.01782472817983,40.70554977187425],[-74.01783916369413,40.70559101753574],[-74.01784970968178,40.705627572146184],[-74.0178587215505,40.70566667087949],[-74.01786453675673,40.705699656551296],[-74.01786930997899,40.705738361551624],[-74.01787218148799,40.705785965642406],[-74.01787203842368,40.70582640309722],[-74.01786796478419,40.70588198677536],[-74.01786236386485,40.70592123908062],[-74.01785664909535,40.70595073256585],[-74.01784876274381,40.70598349251784],[-74.01784369576623,40.70600160428642],[-74.01783787526495,40.7060204682015],[-74.01711112370957,40.705715310162816]]]]}',\n",
       " '{\"type\":\"MultiPolygon\",\"coordinates\":[[[[-74.01704134121518,40.705893321448386],[-74.01735723345051,40.706026486552965],[-74.01714532784865,40.706567048825185],[-74.01682937788554,40.70643402629789],[-74.01704134121518,40.705893321448386]]]]}',\n",
       " '{\"type\":\"MultiPolygon\",\"coordinates\":[[[[-73.99203452449983,40.67823887165731],[-73.9919980362649,40.67822221857692],[-73.99216549190373,40.67802220661926],[-73.99221480937787,40.67804604037207],[-73.99204815701981,40.67824509336087],[-73.99203452449983,40.67823887165731]]]]}',\n",
       " '{\"type\":\"MultiPolygon\",\"coordinates\":[[[[-74.01549250931954,40.709776403369766],[-74.0155697454903,40.70958603980277],[-74.01560428300115,40.709500912823195],[-74.01573514331285,40.70917837604173],[-74.01648930823993,40.709346555984844],[-74.01637896938418,40.70962800404721],[-74.01602244215351,40.70954849783607],[-74.0158976688851,40.70986675667286],[-74.01549250931954,40.709776403369766]]]]}',\n",
       " '{\"type\":\"MultiPolygon\",\"coordinates\":[[[[-73.99226984895324,40.67807263901052],[-73.9921040922071,40.67827062227612],[-73.99209933401336,40.678268450840854],[-73.99204815701981,40.67824509336087],[-73.99221480937787,40.67804604037207],[-73.99226984895324,40.67807263901052]]]]}',\n",
       " '{\"type\":\"MultiPolygon\",\"coordinates\":[[[[-74.01632273994642,40.71613550526223],[-74.0161654413849,40.71606441387258],[-74.01618505054437,40.71594505955095],[-74.01620312684591,40.71583507339651],[-74.0162352326593,40.715741238679605],[-74.01626367689055,40.71566338399633],[-74.0162948011332,40.715592831968834],[-74.01629996474105,40.71558307602372],[-74.01611136248265,40.715500197696144],[-74.01580128203726,40.715899833338604],[-74.01558417971498,40.71580171416352],[-74.01601471769746,40.71525245845844],[-74.01653748272622,40.715488722655316],[-74.01652816967845,40.715502415287666],[-74.01648556998883,40.715570373656476],[-74.01645055358632,40.71563653892237],[-74.01642237951496,40.715700406971095],[-74.01639663983082,40.715774187433446],[-74.01637322257689,40.71585915733192],[-74.01634970395847,40.715960727205115],[-74.01632461522661,40.716113438948604],[-74.01632273994642,40.71613550526223]]]]}',\n",
       " '{\"type\":\"MultiPolygon\",\"coordinates\":[[[[-74.01655329895848,40.70713827056396],[-74.0166765231013,40.7068239472931],[-74.0167018825436,40.70675925552471],[-74.01676784358756,40.70659099581964],[-74.01743066610668,40.70685966964742],[-74.01706848187189,40.7073545188922],[-74.01655329895848,40.70713827056396]]]]}',\n",
       " '{\"type\":\"MultiPolygon\",\"coordinates\":[[[[-73.99215212073187,40.67829254329405],[-73.9921040922071,40.67827062227612],[-73.99226984895324,40.67807263901052],[-73.9923171108026,40.67809547834351],[-73.99215212073187,40.67829254329405]]]]}',\n",
       " '{\"type\":\"MultiPolygon\",\"coordinates\":[[[[-74.01713208405427,40.70986972635865],[-74.01716070609454,40.70979773543102],[-74.01670267617929,40.709697372339754],[-74.0167277555615,40.709653901222985],[-74.01678059506968,40.709563967864106],[-74.01680700888826,40.70951900159478],[-74.01684209315019,40.709459274806534],[-74.01685637759229,40.70943494999988],[-74.01771931144093,40.70963234478539],[-74.01758860592209,40.709961104506185],[-74.01758547198362,40.70996898620185],[-74.01713208405427,40.70986972635865]]]]}',\n",
       " '{\"type\":\"MultiPolygon\",\"coordinates\":[[[[-73.99215744318465,40.67829497227698],[-73.99215212073187,40.67829254329405],[-73.9923171108026,40.67809547834351],[-73.99237001685229,40.678121045658294],[-73.99220588930505,40.678317082375784],[-73.99215744318465,40.67829497227698]]]]}',\n",
       " '{\"type\":\"MultiPolygon\",\"coordinates\":[[[[-74.01441860810185,40.71629897707907],[-74.01442287551433,40.71629194081858],[-74.01442831061853,40.71628281263576],[-74.01443766564576,40.71628600558623],[-74.01443743021242,40.71628640635314],[-74.01445692306869,40.71628890550993],[-74.01445672446539,40.71628979886857],[-74.01449108851716,40.71629420082243],[-74.01446962089294,40.71632188150894],[-74.01468262071204,40.716417516127734],[-74.0142957976079,40.71691629426521],[-74.01398188914953,40.71677535196649],[-74.01416945393441,40.71660209595437],[-74.01423381910382,40.716549133009416],[-74.01429138979329,40.71649182047227],[-74.01434166077588,40.716430661135774],[-74.01438419126298,40.71636619149782],[-74.01441860810185,40.71629897707907]]]]}',\n",
       " '{\"type\":\"MultiPolygon\",\"coordinates\":[[[[-73.99225474697249,40.67833937971785],[-73.99220997929976,40.67831894847965],[-73.99220588930505,40.678317082375784],[-73.99237001685229,40.678121045658294],[-73.99241809245636,40.67814427854894],[-73.99225474697249,40.67833937971785]]]]}',\n",
       " '{\"type\":\"MultiPolygon\",\"coordinates\":[[[[-74.01457076428308,40.71582244152104],[-74.01458547080169,40.71555041856022],[-74.01460263666964,40.715552988258416],[-74.01515922182037,40.71580296388436],[-74.01468262071204,40.716417516127734],[-74.01446962089294,40.71632188150894],[-74.01449108851716,40.71629420082243],[-74.01445672446539,40.71628979886857],[-74.01445692306869,40.71628890550993],[-74.01443743021242,40.71628640635314],[-74.01443766564576,40.71628600558623],[-74.01442831061853,40.71628281263576],[-74.01446789668978,40.71620946637391],[-74.01450129856391,40.71613435979344],[-74.01452838196334,40.71605779443144],[-74.01454903834141,40.71598007775895],[-74.014563184663,40.71590152159468],[-74.01457076428308,40.71582244152104]]]]}',\n",
       " '{\"type\":\"MultiPolygon\",\"coordinates\":[[[[-73.99230951029206,40.67836437360396],[-73.99225474697249,40.67833937971785],[-73.99241809245636,40.67814427854894],[-73.9924729631944,40.67817079517326],[-73.99231050969038,40.678364830296985],[-73.99230951029206,40.67836437360396]]]]}',\n",
       " '{\"type\":\"MultiPolygon\",\"coordinates\":[[[[-73.9923556535588,40.67838543344649],[-73.99231050969038,40.678364830296985],[-73.9924729631944,40.67817079517326],[-73.99252237659705,40.67819467372628],[-73.99236072768552,40.678387749042045],[-73.9923556535588,40.67838543344649]]]]}',\n",
       " '{\"type\":\"MultiPolygon\",\"coordinates\":[[[[-74.01573912231493,40.71754646211111],[-74.01552600696272,40.717449308511114],[-74.01564048374951,40.717302796856934],[-74.01562995999484,40.71729800388858],[-74.01570001077539,40.71720834985162],[-74.01569134413604,40.71720440228714],[-74.01578228108342,40.717088017338725],[-74.01579095958331,40.71709194874815],[-74.01587391353505,40.716985779323565],[-74.0161007355883,40.717088561220216],[-74.01610269224271,40.71709003422496],[-74.01610448931136,40.7170917845879],[-74.01610537129079,40.71709285608332],[-74.0161062627848,40.71709418148754],[-74.01610670443213,40.71709493872819],[-74.01610719815048,40.717095958907755],[-74.0161075806925,40.71709693233649],[-74.01610796320284,40.71709822635479],[-74.0161081611364,40.71709921143888],[-74.01610829511321,40.71710035239033],[-74.0161083061787,40.71710202820558],[-74.01610812545026,40.71710355554926],[-74.01610769154593,40.71710529082555],[-74.01610289104978,40.71711951773002],[-74.01609021755928,40.71715285626626],[-74.0160793884424,40.7171779630436],[-74.0160684996444,40.71720089957228],[-74.0160607677542,40.71721605894557],[-74.01604742454906,40.71724040867868],[-74.01603741131592,40.717257417943266],[-74.01602405559625,40.71727868978149],[-74.0160103658338,40.71729905937731],[-74.01597684379344,40.71734402362063],[-74.01595262987577,40.71737302236586],[-74.01592022380446,40.717408232135284],[-74.01589615059108,40.71743215654931],[-74.01587917315364,40.71744803840394],[-74.01584829301585,40.717475071322625],[-74.01582065103062,40.717497460852734],[-74.01580431666223,40.717509967467436],[-74.01579295194378,40.71751837434909],[-74.01578670053283,40.717522899335115],[-74.01577867395794,40.71752860961874],[-74.01577077642314,40.71753412093883],[-74.01576231785005,40.71753990874858],[-74.01575623434512,40.71754400051286],[-74.01575294346836,40.7175461891956],[-74.01575098370752,40.717546978299275],[-74.01574943333135,40.7175473973158],[-74.01574775042751,40.71754767939582],[-74.01574581074145,40.71754779485666],[-74.01574410279457,40.717547718536515],[-74.01574274887842,40.71754753775798],[-74.0157413782201,40.71754723893692],[-74.01573912231493,40.71754646211111]]]]}',\n",
       " '{\"type\":\"MultiPolygon\",\"coordinates\":[[[[-74.0145177891943,40.71783207782166],[-74.01489146138931,40.71735601877439],[-74.0156067982152,40.71768029353509],[-74.01552351356834,40.71774358963513],[-74.01540425602938,40.717825732563476],[-74.01525537494857,40.717915487697596],[-74.01515929672155,40.7179672622076],[-74.01501668751446,40.71803523470557],[-74.01501240448161,40.71803604927602],[-74.01500777825008,40.718036731621396],[-74.01500265366026,40.718037250974504],[-74.01499757036231,40.71803752895952],[-74.01499201606904,40.7180375684034],[-74.01498627709704,40.71803731606027],[-74.01497867029589,40.71803651739686],[-74.01497285650275,40.718035538382146],[-74.01496572418905,40.71803387786423],[-74.01495828869216,40.718031560893714],[-74.01495287005,40.71802945616703],[-74.0145177891943,40.71783207782166]]]]}',\n",
       " '{\"type\":\"MultiPolygon\",\"coordinates\":[[[[-73.9924094530473,40.67840998690894],[-73.99236072768552,40.678387749042045],[-73.99252237659705,40.67819467372628],[-73.99257319995525,40.67821923410909],[-73.99241237685165,40.678411321675256],[-73.9924094530473,40.67840998690894]]]]}',\n",
       " '{\"type\":\"MultiPolygon\",\"coordinates\":[[[[-74.01524544830885,40.708002403218444],[-74.01512419052982,40.70831229595279],[-74.0148169513857,40.70821550601687],[-74.01477915498059,40.70830239919008],[-74.01447378407926,40.7082068390955],[-74.01463238004042,40.70778987990931],[-74.01524544830885,40.708002403218444]]]]}',\n",
       " '{\"type\":\"MultiPolygon\",\"coordinates\":[[[[-74.01473325044711,40.707524796029084],[-74.01473327286237,40.707524741061775],[-74.01512148641712,40.7065655137744],[-74.01574946505202,40.7067142773356],[-74.0153526774829,40.707728359609945],[-74.01473325044711,40.707524796029084]]]]}',\n",
       " '{\"type\":\"MultiPolygon\",\"coordinates\":[[[[-73.99241237685165,40.678411321675256],[-73.99257319995525,40.67821923410909],[-73.99262150393145,40.678242578617905],[-73.99246146882125,40.67843372703555],[-73.99241237685165,40.678411321675256]]]]}',\n",
       " '{\"type\":\"MultiPolygon\",\"coordinates\":[[[[-74.01473253842951,40.70752655392596],[-74.01473325044711,40.707524796029084],[-74.0153526774829,40.707728359609945],[-74.01535198801788,40.70773012202566],[-74.01524544830885,40.708002403218444],[-74.01463238004042,40.70778987990931],[-74.01473253842951,40.70752655392596]]]]}',\n",
       " '{\"type\":\"MultiPolygon\",\"coordinates\":[[[[-73.99605002200283,40.679622250917674],[-73.99617632746032,40.67935785319714],[-73.99623821903269,40.679375165829676],[-73.99611190906177,40.67963956277967],[-73.99605002200283,40.679622250917674]]]]}',\n",
       " '{\"type\":\"MultiPolygon\",\"coordinates\":[[[[-74.01477915498059,40.70830239919008],[-74.0148169513857,40.70821550601687],[-74.01512419052982,40.70831229595279],[-74.01508972700529,40.70840035126987],[-74.01477915498059,40.70830239919008]]]]}',\n",
       " '{\"type\":\"MultiPolygon\",\"coordinates\":[[[[-74.01512148641712,40.7065655137744],[-74.01473253842951,40.70752655392596],[-74.01458282798076,40.70747658442312],[-74.01445737602987,40.70780045193961],[-74.01430036483772,40.70774391288306],[-74.01417369024948,40.70769829762373],[-74.01407392960756,40.70766237475968],[-74.01386907150679,40.70758860502568],[-74.01410462177115,40.70703152630166],[-74.01442049336198,40.70628447006069],[-74.01444922187618,40.70621652578859],[-74.01471343010512,40.7055916444933],[-74.01500166663233,40.704909914793305],[-74.01553920226071,40.70502269669297],[-74.01508423543572,40.70617528270528],[-74.01507211935531,40.70621257703103],[-74.01505892230813,40.7062683023268],[-74.01503708097303,40.706376429301315],[-74.01502971169317,40.70644786049683],[-74.01502584913301,40.70654285845663],[-74.01512148641712,40.7065655137744]]]]}',\n",
       " '{\"type\":\"MultiPolygon\",\"coordinates\":[[[[-73.99611190906177,40.67963956277967],[-73.99623821903269,40.679375165829676],[-73.99629120393759,40.67938998827644],[-73.9961648999731,40.67965438528425],[-73.99611190906177,40.67963956277967]]]]}',\n",
       " '{\"type\":\"MultiPolygon\",\"coordinates\":[[[[-74.01386907150679,40.70758860502568],[-74.01407392960756,40.70766237475968],[-74.01417369024948,40.70769829762373],[-74.01430036483772,40.70774391288306],[-74.01445737602987,40.70780045193961],[-74.01431642496863,40.7081550592597],[-74.0137116575287,40.70796188022095],[-74.01386907150679,40.70758860502568]]]]}',\n",
       " '{\"type\":\"MultiPolygon\",\"coordinates\":[[[[-74.01358146002148,40.707069149066854],[-74.01358251516046,40.70706729927776],[-74.01382619165797,40.70716139841782],[-74.01382500392863,40.707163196940606],[-74.01358146002148,40.707069149066854]]]]}',\n",
       " '{\"type\":\"MultiPolygon\",\"coordinates\":[[[[-74.01330610138675,40.70756278226656],[-74.01327386803739,40.70755014008846],[-74.01330100254721,40.70750972662632],[-74.01362288329572,40.707634056438614],[-74.01360203178686,40.70768253243903],[-74.01329964002845,40.70757308839127],[-74.01330610138675,40.70756278226656]]]]}',\n",
       " '{\"type\":\"MultiPolygon\",\"coordinates\":[[[[-73.99619438808342,40.67966263408392],[-73.9961648999731,40.67965438528425],[-73.99629120393759,40.67938998827644],[-73.99634781062358,40.67940582212056],[-73.99622150685339,40.67967022002624],[-73.99619438808342,40.67966263408392]]]]}',\n",
       " '{\"type\":\"MultiPolygon\",\"coordinates\":[[[[-74.01347020934604,40.7077453383171],[-74.01329596466478,40.70768804967352],[-74.01329492107082,40.70768887736849],[-74.01320022551245,40.707657743032875],[-74.01327386803739,40.70755014008846],[-74.01330610138675,40.70756278226656],[-74.01329964002845,40.70757308839127],[-74.01360203178686,40.70768253243903],[-74.01356209218663,40.70777554704259],[-74.01347020934604,40.7077453383171]]]]}',\n",
       " '{\"type\":\"MultiPolygon\",\"coordinates\":[[[[-73.99640680898621,40.67942232505668],[-73.99628050432004,40.67968672302644],[-73.99622150685339,40.67967022002624],[-73.99634781062358,40.67940582212056],[-73.99640680898621,40.67942232505668]]]]}',\n",
       " '{\"type\":\"MultiPolygon\",\"coordinates\":[[[[-74.01347020934604,40.7077453383171],[-74.01356209218663,40.70777554704259],[-74.01350662594501,40.707905547380655],[-74.01340455479358,40.7078719880514],[-74.01347020934604,40.7077453383171]]]]}',\n",
       " '{\"type\":\"MultiPolygon\",\"coordinates\":[[[[-73.99628050432004,40.67968672302644],[-73.99640680898621,40.67942232505668],[-73.99645960473445,40.67943709429377],[-73.99633330134982,40.67970149232228],[-73.99628050432004,40.67968672302644]]]]}',\n",
       " '{\"type\":\"MultiPolygon\",\"coordinates\":[[[[-74.01311770527995,40.70777767674743],[-74.01320022551245,40.707657743032875],[-74.01329492107082,40.70768887736849],[-74.01329596466478,40.70768804967352],[-74.01347020934604,40.7077453383171],[-74.01340455479358,40.7078719880514],[-74.01311770527995,40.70777767674743]]]]}',\n",
       " '{\"type\":\"MultiPolygon\",\"coordinates\":[[[[-73.9963495653763,40.67970604137499],[-73.99633330134982,40.67970149232228],[-73.99645960473445,40.67943709429377],[-73.99652153535435,40.6794544176511],[-73.99639523108205,40.679718815745616],[-73.9963495653763,40.67970604137499]]]]}',\n",
       " '{\"type\":\"MultiPolygon\",\"coordinates\":[[[[-74.01352410507732,40.70717147876295],[-74.01358146002148,40.707069149066854],[-74.01382500392863,40.707163196940606],[-74.0138253589456,40.70716333376823],[-74.01377946940198,40.707270019824044],[-74.01362288329572,40.707634056438614],[-74.01330100254721,40.70750972662632],[-74.01347752744734,40.7072487478008],[-74.01352410507732,40.70717147876295]]]]}',\n",
       " '{\"type\":\"MultiPolygon\",\"coordinates\":[[[[-73.99641279028948,40.679723725916205],[-73.99639523108205,40.679718815745616],[-73.99652153535435,40.6794544176511],[-73.99657487049679,40.67946933627236],[-73.99648861185312,40.67964989982583],[-73.99644856761618,40.67973373450998],[-73.99641279028948,40.679723725916205]]]]}',\n",
       " '{\"type\":\"MultiPolygon\",\"coordinates\":[[[[-74.01321068414468,40.70611038707271],[-74.01335003116954,40.7059421290907],[-74.01396202378537,40.70615320593613],[-74.01381487306854,40.70636993816583],[-74.01355259964082,40.7062564432691],[-74.01355153618732,40.70625788688249],[-74.01321068414468,40.70611038707271]]]]}',\n",
       " '{\"type\":\"MultiPolygon\",\"coordinates\":[[[[-73.99648861185312,40.67964989982583],[-73.99657487049679,40.67946933627236],[-73.99662881720157,40.67948442698022],[-73.9965425585763,40.67966498697582],[-73.99648861185312,40.67964989982583]]]]}',\n",
       " '{\"type\":\"MultiPolygon\",\"coordinates\":[[[[-74.01303941987514,40.70631594211197],[-74.01321068414468,40.70611038707271],[-74.01355153618732,40.70625788688249],[-74.01355259964082,40.7062564432691],[-74.01381487306854,40.70636993816583],[-74.01364506123114,40.70657802526777],[-74.01303941987514,40.70631594211197]]]]}',\n",
       " '{\"type\":\"MultiPolygon\",\"coordinates\":[[[[-74.01288178349006,40.70650581844656],[-74.01303941987514,40.70631594211197],[-74.01364506123114,40.70657802526777],[-74.01359219948189,40.70664318244211],[-74.01349899057631,40.70677290797688],[-74.01288178349006,40.70650581844656]]]]}',\n",
       " '{\"type\":\"MultiPolygon\",\"coordinates\":[[[[-74.0128318381341,40.70656586542286],[-74.01288178349006,40.70650581844656],[-74.01349899057631,40.70677290797688],[-74.01345423264128,40.706835199508625],[-74.0128318381341,40.70656586542286]]]]}',\n",
       " '{\"type\":\"MultiPolygon\",\"coordinates\":[[[[-74.01278098305778,40.70662700475695],[-74.0128318381341,40.70656586542286],[-74.01345423264128,40.706835199508625],[-74.0134086606506,40.706898624977086],[-74.01278098305778,40.70662700475695]]]]}',\n",
       " '{\"type\":\"MultiPolygon\",\"coordinates\":[[[[-74.01262869380743,40.70681009564436],[-74.01278098305778,40.70662700475695],[-74.0134086606506,40.706898624977086],[-74.01327218804525,40.707088560573354],[-74.01262869380743,40.70681009564436]]]]}',\n",
       " '{\"type\":\"MultiPolygon\",\"coordinates\":[[[[-74.0124044134121,40.707080286813316],[-74.01261394674948,40.70682788595387],[-74.01324972306041,40.707110413086724],[-74.0130649507972,40.70738988714252],[-74.0124044134121,40.707080286813316]]]]}',\n",
       " '{\"type\":\"MultiPolygon\",\"coordinates\":[[[[-74.01225053676093,40.70726564490905],[-74.0124044134121,40.707080286813316],[-74.0130649507972,40.70738988714252],[-74.01294510451173,40.70757296135437],[-74.01259887669659,40.707422975853916],[-74.01225053676093,40.70726564490905]]]]}',\n",
       " '{\"type\":\"MultiPolygon\",\"coordinates\":[[[[-74.01286733389881,40.707705403316155],[-74.01208978442993,40.70745928278472],[-74.01225053676093,40.70726564490905],[-74.01259887669659,40.707422975853916],[-74.01294510451173,40.70757296135437],[-74.01286733389881,40.707705403316155]]]]}',\n",
       " '{\"type\":\"MultiPolygon\",\"coordinates\":[[[[-74.01267425605225,40.70506415896076],[-74.01325625894663,40.70509870776861],[-74.01328194039004,40.7053161798003],[-74.01324696396505,40.70555080889775],[-74.01319673541435,40.70570002185161],[-74.01316321619825,40.70577595742425],[-74.0131189517469,40.70585501098737],[-74.01263930432592,40.70568191883362],[-74.01263486328837,40.705687900505836],[-74.01241162560972,40.70560323936312],[-74.01267425605225,40.70506415896076]]]]}',\n",
       " '{\"type\":\"MultiPolygon\",\"coordinates\":[[[[-73.99668692734944,40.679500681186816],[-73.99660067138774,40.679681238547836],[-73.9965425585763,40.67966498697582],[-73.99662881720157,40.67948442698022],[-73.99668692734944,40.679500681186816]]]]}',\n",
       " '{\"type\":\"MultiPolygon\",\"coordinates\":[[[[-74.01263486328837,40.705687900505836],[-74.01263930432592,40.70568191883362],[-74.0131189517469,40.70585501098737],[-74.01300890189397,40.70599069846235],[-74.01235666992292,40.70570624632017],[-74.01241162560972,40.70560323936312],[-74.01263486328837,40.705687900505836]]]]}',\n",
       " '{\"type\":\"MultiPolygon\",\"coordinates\":[[[[-73.99660067138774,40.679681238547836],[-73.99668692734944,40.679500681186816],[-73.99674472895299,40.67951684985174],[-73.99665847422551,40.679697403659084],[-73.99660067138774,40.679681238547836]]]]}',\n",
       " '{\"type\":\"MultiPolygon\",\"coordinates\":[[[[-74.01235666992292,40.70570624632017],[-74.01300890189397,40.70599069846235],[-74.0127887630373,40.7062621164305],[-74.01243762217959,40.70610669456875],[-74.01221008625733,40.70600605577842],[-74.01235666992292,40.70570624632017]]]]}',\n",
       " '{\"type\":\"MultiPolygon\",\"coordinates\":[[[[-74.01211009283246,40.70620944172582],[-74.01221008625733,40.70600605577842],[-74.01243762217959,40.70610669456875],[-74.0127887630373,40.7062621164305],[-74.0126334752673,40.70645357529356],[-74.01211009283246,40.70620944172582]]]]}',\n",
       " '{\"type\":\"MultiPolygon\",\"coordinates\":[[[[-73.99665847422551,40.679697403659084],[-73.99674472895299,40.67951684985174],[-73.99681284600773,40.67953590310565],[-73.99673152218087,40.679706140807134],[-73.9967143662547,40.67970133694761],[-73.99670943682995,40.67971165578122],[-73.99665847422551,40.679697403659084]]]]}',\n",
       " '{\"type\":\"MultiPolygon\",\"coordinates\":[[[[-74.01211009283246,40.70620944172582],[-74.0126334752673,40.70645357529356],[-74.01239589370095,40.70674649396762],[-74.01194566821243,40.70654985020938],[-74.01211009283246,40.70620944172582]]]]}',\n",
       " '{\"type\":\"MultiPolygon\",\"coordinates\":[[[[-74.01140556624965,40.706813278454206],[-74.0115956897761,40.706884077772905],[-74.01134369146124,40.7072759266194],[-74.01124158442299,40.70743489796864],[-74.01104425608266,40.70730256052901],[-74.01079772266182,40.707139696496256],[-74.0108907031285,40.70699539654657],[-74.01111302218192,40.70665036815523],[-74.01136479239798,40.70675882408556],[-74.0113414573982,40.70679636765116],[-74.01140008978635,40.70682014088043],[-74.01140556624965,40.706813278454206]]]]}',\n",
       " '{\"type\":\"MultiPolygon\",\"coordinates\":[[[[-73.99673152218087,40.679706140807134],[-73.99681284600773,40.67953590310565],[-73.99687657835602,40.67955373063531],[-73.99679524280157,40.67972398996588],[-73.99673152218087,40.679706140807134]]]]}',\n",
       " '{\"type\":\"MultiPolygon\",\"coordinates\":[[[[-74.0113414573982,40.70679636765116],[-74.01136479239798,40.70675882408556],[-74.01111302218192,40.70665036815523],[-74.0113091278951,40.70634601953182],[-74.01180039417972,40.70655744805863],[-74.01168591101805,40.706753592262814],[-74.0115956897761,40.706884077772905],[-74.01140556624965,40.706813278454206],[-74.01140008978635,40.70682014088043],[-74.0113414573982,40.70679636765116]]]]}',\n",
       " '{\"type\":\"MultiPolygon\",\"coordinates\":[[[[-73.99686167763743,40.67975179614685],[-73.99680168523673,40.679735018754585],[-73.99679524280157,40.67972398996588],[-73.99687657835602,40.67955373063531],[-73.99694690033311,40.67957340163017],[-73.99686167763743,40.67975179614685]]]]}',\n",
       " '{\"type\":\"MultiPolygon\",\"coordinates\":[[[[-74.01191730176147,40.70661271858567],[-74.01235308903433,40.70679937280504],[-74.01165931162375,40.707650922120315],[-74.01139918111055,40.70753703937113],[-74.01133133666808,40.70749146389893],[-74.01191730176147,40.70661271858567]]]]}',\n",
       " '{\"type\":\"MultiPolygon\",\"coordinates\":[[[[-73.99686167763743,40.67975179614685],[-73.99694690033311,40.67957340163017],[-73.99701641212687,40.679592845586306],[-73.99693119200957,40.67977123563475],[-73.99686167763743,40.67975179614685]]]]}',\n",
       " '{\"type\":\"MultiPolygon\",\"coordinates\":[[[[-74.01200541206131,40.70560898346539],[-74.0115629503618,40.70561712683819],[-74.01161786102494,40.70501803661254],[-74.012534950965,40.70505598017011],[-74.01225518185987,40.7056363296401],[-74.01200553180516,40.70561035131491],[-74.01200541206131,40.70560898346539]]]]}',\n",
       " '{\"type\":\"MultiPolygon\",\"coordinates\":[[[[-74.01193236515148,40.70589226605692],[-74.01198862509392,40.705779638964295],[-74.01217454528145,40.70580318988443],[-74.01211086608491,40.705934905906034],[-74.01193236515148,40.70589226605692]]]]}',\n",
       " '{\"type\":\"MultiPolygon\",\"coordinates\":[[[[-73.99387360713945,40.678610652166185],[-73.99405541490289,40.6783896023958],[-73.99408939376403,40.67840600972987],[-73.99411513694818,40.67841843993379],[-73.99393332215845,40.678639498917136],[-73.99387360713945,40.678610652166185]]]]}',\n",
       " '{\"type\":\"MultiPolygon\",\"coordinates\":[[[[-74.01145556424879,40.7060562006617],[-74.01160759116374,40.70610767430337],[-74.01195021903368,40.70626737339438],[-74.01183702863166,40.70650159028228],[-74.01135378958159,40.70628587115455],[-74.01145556424879,40.7060562006617]]]]}',\n",
       " '{\"type\":\"MultiPolygon\",\"coordinates\":[[[[-74.01152642750216,40.70583348961261],[-74.01153835166427,40.70578386049162],[-74.01155472317359,40.705716445801514],[-74.0115629503618,40.70561712683819],[-74.01200541206131,40.70560898346539],[-74.01200553180516,40.70561035131491],[-74.01225518185987,40.7056363296401],[-74.01217454528145,40.70580318988443],[-74.01198862509392,40.705779638964295],[-74.01193236515148,40.70589226605692],[-74.01183311497972,40.7058706773089],[-74.01152642750216,40.70583348961261]]]]}',\n",
       " '{\"type\":\"MultiPolygon\",\"coordinates\":[[[[-74.01145556424879,40.7060562006617],[-74.01150096823889,40.70594374243667],[-74.01152642750216,40.70583348961261],[-74.01183311497972,40.7058706773089],[-74.01193236515148,40.70589226605692],[-74.01211086608491,40.705934905906034],[-74.01195021903368,40.70626737339438],[-74.01160759116374,40.70610767430337],[-74.01145556424879,40.7060562006617]]]]}',\n",
       " '{\"type\":\"MultiPolygon\",\"coordinates\":[[[[-73.99380930873875,40.67857959269992],[-73.99399111080704,40.678358551982114],[-73.99402963504095,40.67837715410449],[-73.99405541490289,40.6783896023958],[-73.99387360713945,40.678610652166185],[-73.99380930873875,40.67857959269992]]]]}',\n",
       " '{\"type\":\"MultiPolygon\",\"coordinates\":[[[[-74.01080464750218,40.70544114000431],[-74.01079540826677,40.70540406325543],[-74.0107026285866,40.70541347839807],[-74.01062185803481,40.705141643394974],[-74.0107445371605,40.705132679464576],[-74.01143391625284,40.705102069420725],[-74.011363526133,40.70546194156018],[-74.01100473982284,40.70544858856046],[-74.01095286429621,40.70544665729158],[-74.01080464750218,40.70544114000431]]]]}',\n",
       " '{\"type\":\"MultiPolygon\",\"coordinates\":[[[[-74.01069587604324,40.70567931315152],[-74.01065960691929,40.70553378503373],[-74.01063142512425,40.70542070336748],[-74.0107026285866,40.70541347839807],[-74.01079540826677,40.70540406325543],[-74.01080464750218,40.70544114000431],[-74.01095286429621,40.70544665729158],[-74.01100473982284,40.70544858856046],[-74.011363526133,40.70546194156018],[-74.0113299830214,40.70563343159008],[-74.0108459066467,40.705606689521225],[-74.01086851541959,40.70569740839954],[-74.01086742829195,40.705707148429866],[-74.01069587604324,40.70567931315152]]]]}',\n",
       " '{\"type\":\"MultiPolygon\",\"coordinates\":[[[[-73.99375284401583,40.67855231664424],[-73.99393463784288,40.67833128404529],[-73.99399111080704,40.678358551982114],[-73.99380930873875,40.67857959269992],[-73.99375284401583,40.67855231664424]]]]}',\n",
       " '{\"type\":\"MultiPolygon\",\"coordinates\":[[[[-74.0108459066467,40.705606689521225],[-74.0113299830214,40.70563343159008],[-74.01129900662849,40.70579179909013],[-74.01123375712429,40.705919375129874],[-74.01084769826328,40.70585855205972],[-74.01088143322134,40.705790200287154],[-74.01085889823884,40.70578355839948],[-74.01086742829195,40.705707148429866],[-74.01086851541959,40.70569740839954],[-74.0108459066467,40.705606689521225]]]]}',\n",
       " '{\"type\":\"MultiPolygon\",\"coordinates\":[[[[-73.99375284401583,40.67855231664424],[-73.99368829507928,40.67852113637292],[-73.99387008200313,40.678300112910684],[-73.99393054077676,40.67832930539389],[-73.99393463784288,40.67833128404529],[-73.99375284401583,40.67855231664424]]]]}',\n",
       " '{\"type\":\"MultiPolygon\",\"coordinates\":[[[[-74.00994391080398,40.705773488284535],[-74.00999722834875,40.7055703251807],[-74.01040869986987,40.70556068038594],[-74.01065960691929,40.70553378503373],[-74.01069587604324,40.70567931315152],[-74.01071095279505,40.705739808931696],[-74.01046822389817,40.70565098456001],[-74.01029782179084,40.70590903607804],[-74.00994391080398,40.705773488284535]]]]}',\n",
       " '{\"type\":\"MultiPolygon\",\"coordinates\":[[[[-73.99375911611716,40.67833587241901],[-73.99381170966718,40.67827192628919],[-73.99382630744383,40.67827897541538],[-73.99387008200313,40.678300112910684],[-73.99368829507928,40.67852113637292],[-73.993629928562,40.67849294154576],[-73.99375911611716,40.67833587241901]]]]}',\n",
       " '{\"type\":\"MultiPolygon\",\"coordinates\":[[[[-74.01062185803481,40.705141643394974],[-74.0107026285866,40.70541347839807],[-74.01063142512425,40.70542070336748],[-74.01065960691929,40.70553378503373],[-74.01040869986987,40.70556068038594],[-74.00999722834875,40.7055703251807],[-74.01009649372023,40.705193131957365],[-74.01034726914966,40.705164924314715],[-74.01062185803481,40.705141643394974]]]]}',\n",
       " '{\"type\":\"MultiPolygon\",\"coordinates\":[[[[-73.993695460312,40.67830512263868],[-73.99375911611716,40.67833587241901],[-73.993629928562,40.67849294154576],[-73.99356627266816,40.67846219261597],[-73.993695460312,40.67830512263868]]]]}',\n",
       " '{\"type\":\"MultiPolygon\",\"coordinates\":[[[[-74.01069587604324,40.70567931315152],[-74.01086742829195,40.705707148429866],[-74.01085889823884,40.70578355839948],[-74.01088143322134,40.705790200287154],[-74.01084769826328,40.70585855205972],[-74.01123375712429,40.705919375129874],[-74.01108487555533,40.706210470873636],[-74.01029782179084,40.70590903607804],[-74.01046822389817,40.70565098456001],[-74.01071095279505,40.705739808931696],[-74.01069587604324,40.70567931315152]]]]}',\n",
       " '{\"type\":\"MultiPolygon\",\"coordinates\":[[[[-73.99363571360891,40.678276262292194],[-73.993695460312,40.67830512263868],[-73.99356627266816,40.67846219261597],[-73.99350652598868,40.67843333136538],[-73.99363571360891,40.678276262292194]]]]}',\n",
       " '{\"type\":\"MultiPolygon\",\"coordinates\":[[[[-74.00991043856192,40.70654466959011],[-74.0100272185388,40.706428050928885],[-74.01015887008903,40.70627117097614],[-74.01012228666097,40.706257649344174],[-74.01012033223299,40.70625997822269],[-74.01004708021566,40.706232906147996],[-74.01020570457635,40.70597756740935],[-74.01053786808511,40.70610032736946],[-74.010365469732,40.70636469532445],[-74.0104211363811,40.70639045760565],[-74.01039604372161,40.706420622378666],[-74.0103787303459,40.70641259492518],[-74.01025292964036,40.70653162534182],[-74.01023995572717,40.70652467546774],[-74.01009512711552,40.70666357983161],[-74.00991043856192,40.70654466959011]]]]}',\n",
       " '{\"type\":\"MultiPolygon\",\"coordinates\":[[[[-73.99350652598868,40.67843333136538],[-73.99344040768774,40.67840139263843],[-73.99355260140393,40.678236113620734],[-73.99363571360891,40.678276262292194],[-73.99350652598868,40.67843333136538]]]]}',\n",
       " '{\"type\":\"MultiPolygon\",\"coordinates\":[[[[-74.01020570457635,40.70597756740935],[-74.01004708021566,40.706232906147996],[-74.01012033223299,40.70625997822269],[-74.01012228666097,40.706257649344174],[-74.01015887008903,40.70627117097614],[-74.0100272185388,40.706428050928885],[-74.00991043856192,40.70654466959011],[-74.00961152157129,40.70635221295345],[-74.00991175741942,40.70586892967342],[-74.01020570457635,40.70597756740935]]]]}',\n",
       " '{\"type\":\"MultiPolygon\",\"coordinates\":[[[[-74.01009512711552,40.70666357983161],[-74.01023995572717,40.70652467546774],[-74.01025292964036,40.70653162534182],[-74.0103787303459,40.70641259492518],[-74.01039604372161,40.706420622378666],[-74.0104211363811,40.70639045760565],[-74.010365469732,40.70636469532445],[-74.01053786808511,40.70610032736946],[-74.01104549762171,40.706287932771765],[-74.01064479300925,40.706964659368076],[-74.01060894839254,40.70699439739217],[-74.01009512711552,40.70666357983161]]]]}',\n",
       " '{\"type\":\"MultiPolygon\",\"coordinates\":[[[[-73.99372550190658,40.67823029985809],[-73.99381170966718,40.67827192628919],[-73.99375911611716,40.67833587241901],[-73.993695460312,40.67830512263868],[-73.99363571360891,40.678276262292194],[-73.99355260140393,40.678236113620734],[-73.99359825574692,40.67816885695141],[-73.99372550190658,40.67823029985809]]]]}',\n",
       " '{\"type\":\"MultiPolygon\",\"coordinates\":[[[[-74.00846742370808,40.70576405730899],[-74.00863752169069,40.7055186192935],[-74.00869059413574,40.70552450919926],[-74.00868005783266,40.7053943980203],[-74.0089934931374,40.70535604004147],[-74.00901533493793,40.705544565486235],[-74.00880977125998,40.70593274747129],[-74.00863363439166,40.7058432262524],[-74.00846742370808,40.70576405730899]]]]}',\n",
       " '{\"type\":\"MultiPolygon\",\"coordinates\":[[[[-73.99389292436663,40.67802674098191],[-73.99372550190658,40.67823029985809],[-73.99359825574692,40.67816885695141],[-73.99374365178768,40.677954661971505],[-73.99389292436663,40.67802674098191]]]]}',\n",
       " '{\"type\":\"MultiPolygon\",\"coordinates\":[[[[-74.00868005783266,40.7053943980203],[-74.00869059413574,40.70552450919926],[-74.00863752169069,40.7055186192935],[-74.00846742370808,40.70576405730899],[-74.00803455886663,40.70551576093908],[-74.00808036881749,40.70546778312086],[-74.00868005783266,40.7053943980203]]]]}',\n",
       " '{\"type\":\"MultiPolygon\",\"coordinates\":[[[[-74.00888761756251,40.705980158044845],[-74.00909498489293,40.705597150151306],[-74.00980282596386,40.70583022673552],[-74.00951840750773,40.70629965591551],[-74.00888761756251,40.705980158044845]]]]}',\n",
       " '{\"type\":\"MultiPolygon\",\"coordinates\":[[[[-74.00911725369966,40.70549977449471],[-74.00909796486023,40.70534325567281],[-74.00990426338008,40.70524457988062],[-74.00992257344387,40.70531456954597],[-74.0099267959468,40.70538229475887],[-74.00982164807176,40.705741702342216],[-74.00911725369966,40.70549977449471]]]]}',\n",
       " '{\"type\":\"MultiPolygon\",\"coordinates\":[[[[-74.00938505555241,40.704876079422014],[-74.00970073553401,40.7048079448666],[-74.0098074342661,40.70497438900374],[-74.00988621648015,40.705097283146],[-74.00972231413043,40.70515390008965],[-74.00948943113292,40.70518951699607],[-74.0094569864579,40.70509065085601],[-74.00938505555241,40.704876079422014]]]]}',\n",
       " '{\"type\":\"MultiPolygon\",\"coordinates\":[[[[-74.00938505555241,40.704876079422014],[-74.0094569864579,40.70509065085601],[-74.00948943113292,40.70518951699607],[-74.00905706141806,40.70524667644859],[-74.00897150384156,40.70496293138599],[-74.00938505555241,40.704876079422014]]]]}',\n",
       " '{\"type\":\"MultiPolygon\",\"coordinates\":[[[[-74.00873362154002,40.70502521208487],[-74.00887809597369,40.70498879383607],[-74.00896547003751,40.70524893011702],[-74.0088174277458,40.705269534079854],[-74.00873362154002,40.70502521208487]]]]}',\n",
       " '{\"type\":\"MultiPolygon\",\"coordinates\":[[[[-74.00873362154002,40.70502521208487],[-74.0088174277458,40.705269534079854],[-74.00875534050608,40.705278014223836],[-74.00866490088566,40.70504246823402],[-74.00873362154002,40.70502521208487]]]]}',\n",
       " '{\"type\":\"MultiPolygon\",\"coordinates\":[[[[-73.99399372972019,40.67807541647887],[-73.99382630744383,40.67827897541538],[-73.99381170966718,40.67827192628919],[-73.99372550190658,40.67823029985809],[-73.99389292436663,40.67802674098191],[-73.99399372972019,40.67807541647887]]]]}',\n",
       " '{\"type\":\"MultiPolygon\",\"coordinates\":[[[[-74.009562849309,40.70471812208066],[-74.00956435920001,40.70472634452519],[-74.00956335470838,40.704735522668265],[-74.00955782292846,40.70474471280499],[-74.00955165878743,40.7047514221006],[-74.00954361444666,40.70475734897834],[-74.00953065191699,40.70476114297329],[-74.00900883821213,40.704873205346026],[-74.0090003139079,40.70487468194388],[-74.00899673546756,40.70487401944994],[-74.00899424550418,40.7048718295537],[-74.00899393394245,40.70486928384749],[-74.00899541280779,40.70486703517221],[-74.0090014826819,40.70486357046588],[-74.00942657297676,40.70462976332558],[-74.0094383188153,40.70462412964367],[-74.00944922379459,40.70462181989206],[-74.00946473799627,40.704622160828954],[-74.0094747446247,40.704626350122304],[-74.00948429002985,40.70463331299187],[-74.0095592038841,40.70471171710003],[-74.009562849309,40.70471812208066]]]]}',\n",
       " '{\"type\":\"MultiPolygon\",\"coordinates\":[[[[-74.0082510131611,40.705291950561765],[-74.00829056773654,40.705262856781616],[-74.00844621323381,40.70514917451117],[-74.0084757134041,40.70513269130874],[-74.00855753215778,40.70508697468755],[-74.00860967973368,40.70506270848478],[-74.00866490088566,40.70504246823402],[-74.00875534050608,40.705278014223836],[-74.00829899642252,40.70534034243629],[-74.0082510131611,40.705291950561765]]]]}',\n",
       " '{\"type\":\"MultiPolygon\",\"coordinates\":[[[[-73.99382630744383,40.67827897541538],[-73.99399372972019,40.67807541647887],[-73.99409796165115,40.67812574630696],[-73.99393054077676,40.67832930539389],[-73.99387008200313,40.678300112910684],[-73.99382630744383,40.67827897541538]]]]}',\n",
       " '{\"type\":\"MultiPolygon\",\"coordinates\":[[[[-74.01077541633956,40.704438535663215],[-74.01066152857689,40.70422565016357],[-74.01067067464703,40.70410063242072],[-74.01063103443587,40.70399476036042],[-74.01061964879324,40.703964353848335],[-74.0105337700216,40.70386141345629],[-74.01051808217305,40.703839732353515],[-74.01074545206669,40.70370213106277],[-74.01148831604996,40.70358769369359],[-74.01148246355338,40.70376939465059],[-74.01145507881046,40.70376884707189],[-74.01145112955474,40.70388415598813],[-74.01148206901983,40.703884775253236],[-74.01148078751277,40.704233164705236],[-74.01113868870372,40.70432086297787],[-74.01078393507511,40.70445446048237],[-74.01077541633956,40.704438535663215]]]]}',\n",
       " '{\"type\":\"MultiPolygon\",\"coordinates\":[[[[-73.9941970569416,40.67817359478964],[-73.99425681676504,40.67820245032891],[-73.99408939376403,40.67840600972987],[-73.99405541490289,40.6783896023958],[-73.99402963504095,40.67837715410449],[-73.9941970569416,40.67817359478964]]]]}',\n",
       " '{\"type\":\"MultiPolygon\",\"coordinates\":[[[[-74.01063103443587,40.70399476036042],[-74.01067067464703,40.70410063242072],[-74.01059964484483,40.704135229243185],[-74.010525286338,40.70400159658338],[-74.01045678537137,40.70391457014507],[-74.0105337700216,40.70386141345629],[-74.01061964879324,40.703964353848335],[-74.01063103443587,40.70399476036042]]]]}',\n",
       " '{\"type\":\"MultiPolygon\",\"coordinates\":[[[[-74.01045678537137,40.70391457014507],[-74.010525286338,40.70400159658338],[-74.01059964484483,40.704135229243185],[-74.01052560732305,40.70417129136655],[-74.0103816192407,40.70396647044708],[-74.01045678537137,40.70391457014507]]]]}',\n",
       " '{\"type\":\"MultiPolygon\",\"coordinates\":[[[[-73.99494057340064,40.678817003320674],[-73.99490457748037,40.678799623580815],[-73.99488306716691,40.67878923701369],[-73.99505048749785,40.67858567646929],[-73.99510799252725,40.67861344269195],[-73.99494057340064,40.678817003320674]]]]}',\n",
       " '{\"type\":\"MultiPolygon\",\"coordinates\":[[[[-74.0103816192407,40.70396647044708],[-74.01052560732305,40.70417129136655],[-74.01045780398671,40.704204317240475],[-74.0103015782143,40.704021736400726],[-74.0103816192407,40.70396647044708]]]]}',\n",
       " '{\"type\":\"MultiPolygon\",\"coordinates\":[[[[-74.0103015782143,40.704021736400726],[-74.01045780398671,40.704204317240475],[-74.01039224392758,40.70423624975799],[-74.01022176085472,40.70407684817506],[-74.0103015782143,40.704021736400726]]]]}',\n",
       " '{\"type\":\"MultiPolygon\",\"coordinates\":[[[[-73.99494057340064,40.678817003320674],[-73.99510799252725,40.67861344269195],[-73.99517043327388,40.678643591949836],[-73.99500301437043,40.67884715258483],[-73.99496840936577,40.67883044380927],[-73.99494057340064,40.678817003320674]]]]}',\n",
       " '{\"type\":\"MultiPolygon\",\"coordinates\":[[[[-74.01033042962086,40.704272968006286],[-74.0101573811618,40.70412130020316],[-74.01022176085472,40.70407684817506],[-74.01039224392758,40.70423624975799],[-74.01039452085514,40.70423837924032],[-74.01033042962086,40.704272968006286]]]]}',\n",
       " '{\"type\":\"MultiPolygon\",\"coordinates\":[[[[-73.99502650114727,40.67885849379544],[-73.99500301437043,40.67884715258483],[-73.99517043327388,40.678643591949836],[-73.99523129280539,40.67867297735889],[-73.99506387159673,40.678876538165355],[-73.99502650114727,40.67885849379544]]]]}',\n",
       " '{\"type\":\"MultiPolygon\",\"coordinates\":[[[[-74.01008412060314,40.70417188448775],[-74.0101573811618,40.70412130020316],[-74.01033042962086,40.704272968006286],[-74.01026705169521,40.70432219004062],[-74.01008412060314,40.70417188448775]]]]}',\n",
       " '{\"type\":\"MultiPolygon\",\"coordinates\":[[[[-74.00989550341436,40.704313126521015],[-74.00996589185786,40.70425823178306],[-74.01010502951803,40.70435566423387],[-74.01011668956228,40.70434673733088],[-74.01017739458032,40.704391819792185],[-74.01007701903002,40.70446977292924],[-74.00989550341436,40.704313126521015]]]]}',\n",
       " '{\"type\":\"MultiPolygon\",\"coordinates\":[[[[-73.9950888569232,40.678888601679496],[-73.99506387159673,40.678876538165355],[-73.99523129280539,40.67867297735889],[-73.99529297192636,40.678702759076074],[-73.99512555203971,40.67890631997022],[-73.9950888569232,40.678888601679496]]]]}',\n",
       " '{\"type\":\"MultiPolygon\",\"coordinates\":[[[[-74.01024819672354,40.70474226330736],[-74.01000356011889,40.70500817871159],[-74.00997447793758,40.705006903320445],[-74.00981208875915,40.7047653677501],[-74.00995315465254,40.70467582635637],[-74.0100670841226,40.70458959916549],[-74.01024819672354,40.70474226330736]]]]}',\n",
       " '{\"type\":\"MultiPolygon\",\"coordinates\":[[[[-74.01022507497397,40.704460000473965],[-74.01031368897712,40.7045334033104],[-74.01042233586185,40.704626421800306],[-74.01030843918963,40.70470017008826],[-74.01011655250049,40.70453841900224],[-74.01022507497397,40.704460000473965]]]]}',\n",
       " '{\"type\":\"MultiPolygon\",\"coordinates\":[[[[-73.99521254097782,40.67894832093886],[-73.9951895118175,40.67893720224296],[-73.99535693169487,40.67873364033516],[-73.99541718569482,40.67876273397591],[-73.99524976603668,40.678966294966756],[-73.99521254097782,40.67894832093886]]]]}',\n",
       " '{\"type\":\"MultiPolygon\",\"coordinates\":[[[[-74.01028005318685,40.70442027332975],[-74.01046913770598,40.704596118224934],[-74.01042233586185,40.704626421800306],[-74.01031368897712,40.7045334033104],[-74.01022507497397,40.704460000473965],[-74.01028005318685,40.70442027332975]]]]}',\n",
       " '{\"type\":\"MultiPolygon\",\"coordinates\":[[[[-73.99524976603668,40.678966294966756],[-73.99541718569482,40.67876273397591],[-73.99547754029132,40.67879187611314],[-73.99527879039945,40.67903353123001],[-73.99524110750636,40.67901533565673],[-73.99527243797407,40.67897724171168],[-73.99524976603668,40.678966294966756]]]]}',\n",
       " '{\"type\":\"MultiPolygon\",\"coordinates\":[[[[-74.01028005318685,40.70442027332975],[-74.01033705254059,40.70438183009925],[-74.01041934228788,40.70445073443754],[-74.01050961896827,40.70456990706655],[-74.01046913770598,40.704596118224934],[-74.01028005318685,40.70442027332975]]]]}',\n",
       " '{\"type\":\"MultiPolygon\",\"coordinates\":[[[[-73.99547754029132,40.67879187611314],[-73.99566843240324,40.67888404490772],[-73.9954963515716,40.67913857787277],[-73.99542680982873,40.67910500030074],[-73.99536364932129,40.67907450362488],[-73.99530127786348,40.67904438877784],[-73.99527879039945,40.67903353123001],[-73.99547754029132,40.67879187611314]]]]}',\n",
       " '{\"type\":\"MultiPolygon\",\"coordinates\":[[[[-74.01050961896827,40.70456990706655],[-74.01041934228788,40.70445073443754],[-74.01033705254059,40.70438183009925],[-74.01040623317924,40.704339048933996],[-74.01056454178695,40.70453993143484],[-74.01050961896827,40.70456990706655]]]]}',\n",
       " '{\"type\":\"MultiPolygon\",\"coordinates\":[[[[-74.01040623317924,40.704339048933996],[-74.01048585028285,40.70429594621322],[-74.01061783295626,40.70451084741862],[-74.01056454178695,40.70453993143484],[-74.01040623317924,40.704339048933996]]]]}',\n",
       " '{\"type\":\"MultiPolygon\",\"coordinates\":[[[[-73.99399111080704,40.678358551982114],[-73.99393463784288,40.67833128404529],[-73.99393054077676,40.67832930539389],[-73.99409796165115,40.67812574630696],[-73.9941970569416,40.67817359478964],[-73.99402963504095,40.67837715410449],[-73.99399111080704,40.678358551982114]]]]}',\n",
       " '{\"type\":\"MultiPolygon\",\"coordinates\":[[[[-74.01100777994526,40.70480889039972],[-74.01099735206869,40.70474737848616],[-74.01100303520722,40.704745362556785],[-74.01099127532129,40.70472946700145],[-74.01106728518468,40.704718195414415],[-74.01100520997142,40.70460638036652],[-74.01093849156733,40.70448620000451],[-74.0111996654901,40.704395224070375],[-74.01146365809106,40.70433047182201],[-74.01144599166065,40.70498184296314],[-74.01104269358417,40.705014198889025],[-74.01100777994526,40.70480889039972]]]]}',\n",
       " '{\"type\":\"MultiPolygon\",\"coordinates\":[[[[-73.99529297192636,40.678702759076074],[-73.99535693169487,40.67873364033516],[-73.9951895118175,40.67893720224296],[-73.99514864260655,40.67891746930254],[-73.99512555203971,40.67890631997022],[-73.99529297192636,40.678702759076074]]]]}',\n",
       " '{\"type\":\"MultiPolygon\",\"coordinates\":[[[[-74.01049780156694,40.70470048925281],[-74.01056293453657,40.704795699790736],[-74.01059752675867,40.70484626484256],[-74.01065609955963,40.70482669781206],[-74.01065223096509,40.704816789820256],[-74.0107148648071,40.70479733224035],[-74.01073741729799,40.70483477431118],[-74.01100777994526,40.70480889039972],[-74.01104269358417,40.705014198889025],[-74.01068820707218,40.705042639006585],[-74.0105987386385,40.704884704838335],[-74.01056754554298,40.704899612808624],[-74.01042721277126,40.70474522927277],[-74.01049780156694,40.70470048925281]]]]}',\n",
       " '{\"type\":\"MultiPolygon\",\"coordinates\":[[[[-74.01049780156694,40.70470048925281],[-74.01060675592942,40.704630718898024],[-74.010664902042,40.70460097609412],[-74.01093849156733,40.70448620000451],[-74.01100520997142,40.70460638036652],[-74.01106728518468,40.704718195414415],[-74.01099127532129,40.70472946700145],[-74.01100303520722,40.704745362556785],[-74.01099735206869,40.70474737848616],[-74.01100777994526,40.70480889039972],[-74.01073741729799,40.70483477431118],[-74.0107148648071,40.70479733224035],[-74.01065223096509,40.704816789820256],[-74.01065609955963,40.70482669781206],[-74.01059752675867,40.70484626484256],[-74.01056293453657,40.704795699790736],[-74.01049780156694,40.70470048925281]]]]}',\n",
       " '{\"type\":\"MultiPolygon\",\"coordinates\":[[[[-73.99353686438327,40.677980498537615],[-73.99332565797886,40.677878298649205],[-73.99338913944419,40.67780210279493],[-73.99359105752755,40.677899808489755],[-73.99353686438327,40.677980498537615]]]]}',\n",
       " '{\"type\":\"MultiPolygon\",\"coordinates\":[[[[-74.01033260814306,40.704824374375804],[-74.01042721277126,40.70474522927277],[-74.01056754554298,40.704899612808624],[-74.0105987386385,40.704884704838335],[-74.01068820707218,40.705042639006585],[-74.01011844980775,40.70508834674907],[-74.01012498930301,40.70504452825607],[-74.01033260814306,40.704824374375804]]]]}',\n",
       " '{\"type\":\"MultiPolygon\",\"coordinates\":[[[[-73.99323630559809,40.677897723685746],[-73.99327351226492,40.67785306587891],[-73.99332565797886,40.677878298649205],[-73.99353686438327,40.677980498537615],[-73.99350510324696,40.67802779074654],[-73.99348188561156,40.6780623609472],[-73.99320910787364,40.67793036828846],[-73.99323630559809,40.677897723685746]]]]}',\n",
       " '{\"type\":\"MultiPolygon\",\"coordinates\":[[[[-74.00975216026359,40.70471447400496],[-74.00960048312464,40.70454320402973],[-74.00971898769012,40.70445078587575],[-74.00981261961428,40.70437776477537],[-74.00989550341436,40.704313126521015],[-74.01007701903002,40.70446977292924],[-74.00989144370575,40.70461389447804],[-74.00975216026359,40.70471447400496]]]]}',\n",
       " '{\"type\":\"MultiPolygon\",\"coordinates\":[[[[-73.99339266895586,40.67810568395382],[-73.99333125023014,40.6780760452963],[-73.99327324137457,40.67804805209962],[-73.99321572704454,40.67802029658564],[-73.99315756818335,40.67799223128719],[-73.99320910787364,40.67793036828846],[-73.99348188561156,40.6780623609472],[-73.99343807306994,40.67812759424045],[-73.99339266895586,40.67810568395382]]]]}',\n",
       " '{\"type\":\"MultiPolygon\",\"coordinates\":[[[[-74.01048585028285,40.70429594621322],[-74.01055215981725,40.70426643331125],[-74.01066152857689,40.70422565016357],[-74.01077541633956,40.704438535663215],[-74.01067735911428,40.70448353225014],[-74.01061783295626,40.70451084741862],[-74.01048585028285,40.70429594621322]]]]}',\n",
       " '{\"type\":\"MultiPolygon\",\"coordinates\":[[[[-74.00996589185786,40.70425823178306],[-74.01001862150513,40.70421710922944],[-74.01008412060314,40.70417188448775],[-74.01026705169521,40.70432219004062],[-74.01017739458032,40.704391819792185],[-74.01011668956228,40.70434673733088],[-74.01010502951803,40.70435566423387],[-74.00996589185786,40.70425823178306]]]]}',\n",
       " '{\"type\":\"MultiPolygon\",\"coordinates\":[[[[-73.99235041221542,40.677933064995784],[-73.99254671909962,40.67769744916436],[-73.99261216335505,40.677729030878716],[-73.9924158564989,40.6779646477409],[-73.99235041221542,40.677933064995784]]]]}',\n",
       " '{\"type\":\"MultiPolygon\",\"coordinates\":[[[[-74.01028349714643,40.70360505215793],[-74.01027896092789,40.70360077963565],[-74.01035115623613,40.703553044484146],[-74.0105236562065,40.70371535435783],[-74.0104540858553,40.703765558564086],[-74.01028349714643,40.70360505215793]]]]}',\n",
       " '{\"type\":\"MultiPolygon\",\"coordinates\":[[[[-74.01021469389408,40.703650542926745],[-74.01028349714643,40.70360505215793],[-74.0104540858553,40.703765558564086],[-74.01038778310448,40.70381340394559],[-74.01021469389408,40.703650542926745]]]]}',\n",
       " '{\"type\":\"MultiPolygon\",\"coordinates\":[[[[-73.9922906700493,40.67790423465272],[-73.99248697585111,40.677668618838496],[-73.99254671909962,40.67769744916436],[-73.99235041221542,40.677933064995784],[-73.9922906700493,40.67790423465272]]]]}',\n",
       " '{\"type\":\"MultiPolygon\",\"coordinates\":[[[[-74.01012964574923,40.703699501886604],[-74.01021015646782,40.70364627031811],[-74.01021469389408,40.703650542926745],[-74.01038778310448,40.70381340394559],[-74.0103102013415,40.70386939001413],[-74.01012964574923,40.703699501886604]]]]}',\n",
       " '{\"type\":\"MultiPolygon\",\"coordinates\":[[[[-74.00984019916942,40.70366380492264],[-74.00998775419787,40.7035662420718],[-74.01012964574923,40.703699501886604],[-74.0103102013415,40.70386939001413],[-74.01015473921211,40.703981574600704],[-74.00998236490288,40.7038193831357],[-74.00999655476807,40.70381064878626],[-74.00984019916942,40.70366380492264]]]]}',\n",
       " '{\"type\":\"MultiPolygon\",\"coordinates\":[[[[-73.99222866884915,40.677874313509946],[-73.99242497599045,40.67763869780067],[-73.99248697585111,40.677668618838496],[-73.9922906700493,40.67790423465272],[-73.99222866884915,40.677874313509946]]]]}',\n",
       " '{\"type\":\"MultiPolygon\",\"coordinates\":[[[[-74.01006826486876,40.703513009765246],[-74.01021015646782,40.70364627031811],[-74.01012964574923,40.703699501886604],[-74.00998775419787,40.7035662420718],[-74.01006826486876,40.703513009765246]]]]}',\n",
       " '{\"type\":\"MultiPolygon\",\"coordinates\":[[[[-74.01021015646782,40.70364627031811],[-74.01006826486876,40.703513009765246],[-74.01013706807714,40.703467517326715],[-74.01027896092789,40.70360077963565],[-74.01028349714643,40.70360505215793],[-74.01021469389408,40.703650542926745],[-74.01021015646782,40.70364627031811]]]]}',\n",
       " '{\"type\":\"MultiPolygon\",\"coordinates\":[[[[-73.99217014615898,40.67784607208111],[-73.99236645342394,40.67761045555203],[-73.99238234257554,40.67761812454726],[-73.99242497599045,40.67763869780067],[-73.99222866884915,40.677874313509946],[-73.99217014615898,40.67784607208111]]]]}',\n",
       " '{\"type\":\"MultiPolygon\",\"coordinates\":[[[[-74.01013706807714,40.703467517326715],[-74.01020926213542,40.70341978226343],[-74.01035115623613,40.703553044484146],[-74.01027896092789,40.70360077963565],[-74.01013706807714,40.703467517326715]]]]}',\n",
       " '{\"type\":\"MultiPolygon\",\"coordinates\":[[[[-73.9921074767585,40.677815828478664],[-73.99230378547595,40.67758021297446],[-73.99233445888306,40.677595015890326],[-73.99236645342394,40.67761045555203],[-73.99217014615898,40.67784607208111],[-73.9921074767585,40.677815828478664]]]]}',\n",
       " '{\"type\":\"MultiPolygon\",\"coordinates\":[[[[-74.00984019916942,40.70366380492264],[-74.00999655476807,40.70381064878626],[-74.00998236490288,40.7038193831357],[-74.01015473921211,40.703981574600704],[-74.0101508986948,40.70398434671285],[-74.00950821882839,40.70444811400661],[-74.00913978972554,40.70412690408009],[-74.00945548354102,40.7039181744492],[-74.00983330478613,40.70366836386544],[-74.00984019916942,40.70366380492264]]]]}',\n",
       " '{\"type\":\"MultiPolygon\",\"coordinates\":[[[[-73.99204585427012,40.677786090063414],[-73.9922421617974,40.67755047474842],[-73.99229060011321,40.677573849943435],[-73.99230378547595,40.67758021297446],[-73.9921074767585,40.677815828478664],[-73.99204585427012,40.677786090063414]]]]}',\n",
       " '{\"type\":\"MultiPolygon\",\"coordinates\":[[[[-74.00853693384319,40.704696261144825],[-74.00844382862122,40.70460447880125],[-74.00895672830032,40.704247939358225],[-74.00927542336996,40.704561726395916],[-74.00879640981384,40.70484006804343],[-74.0087207790867,40.704877494303624],[-74.00853693384319,40.704696261144825]]]]}',\n",
       " '{\"type\":\"MultiPolygon\",\"coordinates\":[[[[-73.99198918391538,40.67775874293301],[-73.99218549167416,40.677523126708685],[-73.9922421617974,40.67755047474842],[-73.99204585427012,40.677786090063414],[-73.99198918391538,40.67775874293301]]]]}',\n",
       " '{\"type\":\"MultiPolygon\",\"coordinates\":[[[[-74.00847118239399,40.704742137828006],[-74.00853693384319,40.704696261144825],[-74.0087207790867,40.704877494303624],[-74.00864762275543,40.70491645125045],[-74.00847118239399,40.704742137828006]]]]}',\n",
       " '{\"type\":\"MultiPolygon\",\"coordinates\":[[[[-74.00853693384319,40.704696261144825],[-74.00847118239399,40.704742137828006],[-74.00837813643525,40.70465021312015],[-74.00844382862122,40.70460447880125],[-74.00853693384319,40.704696261144825]]]]}',\n",
       " '{\"type\":\"MultiPolygon\",\"coordinates\":[[[[-73.99192586659294,40.67772818670857],[-73.99212217558384,40.67749257151153],[-73.99217693677879,40.677518998168246],[-73.99218549167416,40.677523126708685],[-73.99198918391538,40.67775874293301],[-73.99192586659294,40.67772818670857]]]]}',\n",
       " '{\"type\":\"MultiPolygon\",\"coordinates\":[[[[-74.00837813643525,40.70465021312015],[-74.00847118239399,40.704742137828006],[-74.00864762275543,40.70491645125045],[-74.00856358155937,40.70495816440219],[-74.00849329781693,40.70499422853861],[-74.00836422052211,40.70506169845349],[-74.00819361610691,40.705179227803974],[-74.00791720154695,40.70543619519298],[-74.00758894192211,40.70519889889266],[-74.00837813643525,40.70465021312015]]]]}',\n",
       " '{\"type\":\"MultiPolygon\",\"coordinates\":[[[[-74.00940404693733,40.70242103378124],[-74.0102306309919,40.70318471933812],[-74.01005611192426,40.7032292276368],[-74.0089396654793,40.70397129047486],[-74.00809804342771,40.703196191710596],[-74.00923091705565,40.70250665256255],[-74.00925799727807,40.70249087887321],[-74.00940404693733,40.70242103378124]]]]}',\n",
       " '{\"type\":\"MultiPolygon\",\"coordinates\":[[[[-73.99186637082015,40.67769947404104],[-73.99206267872822,40.677463858108226],[-73.99208839172218,40.67747626718173],[-73.99211299161884,40.67748813939924],[-73.99212217558384,40.67749257151153],[-73.99192586659294,40.67772818670857],[-73.99186637082015,40.67769947404104]]]]}',\n",
       " '{\"type\":\"MultiPolygon\",\"coordinates\":[[[[-74.0083339672598,40.70389522960723],[-74.00864248000353,40.704151842146516],[-74.00825881854827,40.70441647883469],[-74.00805182985731,40.70455928867809],[-74.00775306103107,40.70430605803719],[-74.0083339672598,40.70389522960723]]]]}',\n",
       " '{\"type\":\"MultiPolygon\",\"coordinates\":[[[[-73.9918011375924,40.67766799189342],[-73.99199744442787,40.677432376908506],[-73.99204904640986,40.67745727975692],[-73.99206267872822,40.677463858108226],[-73.99186637082015,40.67769947404104],[-73.9918011375924,40.67766799189342]]]]}',\n",
       " '{\"type\":\"MultiPolygon\",\"coordinates\":[[[[-74.00736123643962,40.70483439388263],[-74.00739699193872,40.7048641859711],[-74.00745126004631,40.70482673581385],[-74.00725130816639,40.70466096873811],[-74.00767170308518,40.70436252796806],[-74.00796405036202,40.70461905324193],[-74.00737658439222,40.70502516241738],[-74.00724398445826,40.70491528484789],[-74.00736123643962,40.70483439388263]]]]}',\n",
       " '{\"type\":\"MultiPolygon\",\"coordinates\":[[[[-73.9917416264334,40.67763927288559],[-73.99193793471306,40.677403658000095],[-73.99198510137005,40.677426420078945],[-73.99199744442787,40.677432376908506],[-73.9918011375924,40.67766799189342],[-73.9917416264334,40.67763927288559]]]]}',\n",
       " '{\"type\":\"MultiPolygon\",\"coordinates\":[[[[-74.00724398445826,40.70491528484789],[-74.00708178580199,40.70478088173049],[-74.00725130816639,40.70466096873811],[-74.00745126004631,40.70482673581385],[-74.00739699193872,40.7048641859711],[-74.00736123643962,40.70483439388263],[-74.00724398445826,40.70491528484789]]]]}',\n",
       " '{\"type\":\"MultiPolygon\",\"coordinates\":[[[[-73.9917416264334,40.67763927288559],[-73.99167987054281,40.67760947034681],[-73.99183095206504,40.67742813794056],[-73.99187617774435,40.677373855565676],[-73.99192115627937,40.677395560281504],[-73.99193793471306,40.677403658000095],[-73.9917416264334,40.67763927288559]]]]}',\n",
       " '{\"type\":\"MultiPolygon\",\"coordinates\":[[[[-74.00884257337472,40.704035905676044],[-74.00874779901942,40.70409884212817],[-74.00848192293412,40.70386710168577],[-74.00828264252863,40.703693406413464],[-74.00787071592687,40.70333435959776],[-74.00797865728431,40.70326872867037],[-74.00838026907196,40.70362537056658],[-74.00857591209687,40.703799106425436],[-74.00884257337472,40.704035905676044]]]]}',\n",
       " '{\"type\":\"MultiPolygon\",\"coordinates\":[[[[-73.99177338327003,40.677400354759754],[-73.99183095206504,40.67742813794056],[-73.99167987054281,40.67760947034681],[-73.99162230165415,40.67758168792737],[-73.99177338327003,40.677400354759754]]]]}',\n",
       " '{\"type\":\"MultiPolygon\",\"coordinates\":[[[[-74.00775651376877,40.703421357174754],[-74.00821767332879,40.70381151456356],[-74.00765152799731,40.704205468572304],[-74.00715078038097,40.70378528928347],[-74.00775651376877,40.703421357174754]]]]}',\n",
       " '{\"type\":\"MultiPolygon\",\"coordinates\":[[[[-74.00642178217518,40.70425429796421],[-74.00676832850242,40.70403166035597],[-74.00706244609432,40.703844429170765],[-74.00756235564012,40.704263171760694],[-74.00694707826379,40.70469431105545],[-74.00642178217518,40.70425429796421]]]]}',\n",
       " '{\"type\":\"MultiPolygon\",\"coordinates\":[[[[-73.99291578553108,40.6778755530656],[-73.99285513476529,40.677846284320395],[-73.99279130600416,40.677815480902034],[-73.99297101990982,40.677599778996345],[-73.99315493038596,40.67768877181531],[-73.9929753611374,40.67790430292617],[-73.99291578553108,40.6778755530656]]]]}',\n",
       " '{\"type\":\"MultiPolygon\",\"coordinates\":[[[[-74.00864107925106,40.70244143240865],[-74.00829082559063,40.70265110964349],[-74.00840200294549,40.702758674064114],[-74.0081514822749,40.70290864533201],[-74.00802216733508,40.70298605829809],[-74.00788894128453,40.70306335165752],[-74.00721710000634,40.70345128162747],[-74.0071218567797,40.703359668165724],[-74.00735963691184,40.70321481883752],[-74.0074096376437,40.70318486835016],[-74.00747949453157,40.70314186644275],[-74.00759704919086,40.70300505807096],[-74.00770478175406,40.702874366438124],[-74.00842078772224,40.70243699156581],[-74.00855075690848,40.702358152509326],[-74.00864107925106,40.70244143240865]]]]}',\n",
       " '{\"type\":\"MultiPolygon\",\"coordinates\":[[[[-73.99309769309545,40.67796333651842],[-73.99303583575652,40.67793348693134],[-73.9929753611374,40.67790430292617],[-73.99315493038596,40.67768877181531],[-73.99333699387572,40.67777687097323],[-73.99327351226492,40.67785306587891],[-73.99323630559809,40.677897723685746],[-73.99320910787364,40.67793036828846],[-73.99315756818335,40.67799223128719],[-73.99309769309545,40.67796333651842]]]]}',\n",
       " '{\"type\":\"MultiPolygon\",\"coordinates\":[[[[-73.99332565797886,40.677878298649205],[-73.99327351226492,40.67785306587891],[-73.99333699387572,40.67777687097323],[-73.99338913944419,40.67780210279493],[-73.99332565797886,40.677878298649205]]]]}',\n",
       " '{\"type\":\"MultiPolygon\",\"coordinates\":[[[[-74.00721710000634,40.70345128162747],[-74.00687207812224,40.70364451349246],[-74.00669851212918,40.70374172074511],[-74.00661640025871,40.703787713489945],[-74.00653783937953,40.703833321392196],[-74.00626756197099,40.70399029640257],[-74.00620873370706,40.703933733704744],[-74.00631203391488,40.70386697014006],[-74.00634145456131,40.70384808582254],[-74.00627498875353,40.70378839002495],[-74.00615016764597,40.70387742311855],[-74.00613557518027,40.70386339260821],[-74.00625815164095,40.70377387014524],[-74.00624804911651,40.70376447567262],[-74.00633334322497,40.703708096556745],[-74.00634007898573,40.703714075642374],[-74.00650168792508,40.70359960949848],[-74.0063793408085,40.70349028604156],[-74.00622445440966,40.70349029414549],[-74.00623119165004,40.703526166506876],[-74.00584173562217,40.70355437465586],[-74.00582601373134,40.70346127168422],[-74.00621547027816,40.7034313562284],[-74.00622108474546,40.7034680868454],[-74.00635352428745,40.7034672253324],[-74.0063119935866,40.7034296438497],[-74.00628730021852,40.70340829134847],[-74.00625362621935,40.70337839882751],[-74.00596740135396,40.7031230224002],[-74.00593821840181,40.70309654436745],[-74.00577772302562,40.70309655214693],[-74.00578221593099,40.70315292567787],[-74.00539051351431,40.70316490245293],[-74.00538489509277,40.703070091608936],[-74.00577435106365,40.70305811671721],[-74.0057765973252,40.703076906686384],[-74.00591576768618,40.703076899954766],[-74.00564301673838,40.70283347993186],[-74.00560260881184,40.702797608175636],[-74.00531975679628,40.702545646445685],[-74.00548697969478,40.70243716173919],[-74.00608972502386,40.70297012325102],[-74.00598533687145,40.702859089259725],[-74.00600553752209,40.70284542117819],[-74.00587533605756,40.70272669989339],[-74.00598082962121,40.70266775900518],[-74.00622664504519,40.70289580435494],[-74.00613237348149,40.70295560033301],[-74.00602910896879,40.702866773798455],[-74.00619635676843,40.703064073393605],[-74.00631196924822,40.70316571152354],[-74.00644105141326,40.70328016045701],[-74.00636247843548,40.7031904782994],[-74.00638492371324,40.70317595727442],[-74.00625920841814,40.70306321554481],[-74.0063523603552,40.70300085848349],[-74.0066060323433,40.70322463328147],[-74.00650614887479,40.70328784459077],[-74.00640063827446,40.70319602887656],[-74.00654319314845,40.7033698421163],[-74.00677217480447,40.70357226316681],[-74.00709539443054,40.703375788341056],[-74.0071218567797,40.703359668165724],[-74.00721710000634,40.70345128162747]],[[-74.00635916048729,40.703725176992066],[-74.00643208166898,40.70378991441149],[-74.00655557211587,40.70371064577785],[-74.0065976602113,40.70368501944367],[-74.00651515714807,40.70361156756615],[-74.00635916048729,40.703725176992066]]]]}',\n",
       " '{\"type\":\"MultiPolygon\",\"coordinates\":[[[[-73.99164398548733,40.677337909017645],[-73.99171067194506,40.67737009110775],[-73.99166818706406,40.67742108312744],[-73.9916015017845,40.67738890009293],[-73.99164398548733,40.677337909017645]]]]}',\n",
       " '{\"type\":\"MultiPolygon\",\"coordinates\":[[[[-73.99196715151533,40.677114005666716],[-73.99196731468918,40.677114084905746],[-73.9919990854106,40.67712945889625],[-73.99203765694155,40.67714812385287],[-73.99210155206357,40.67717904298332],[-73.9921183162873,40.677187155065184],[-73.99216544735312,40.67720996207682],[-73.99222934259356,40.67724088113603],[-73.99226865584812,40.67725990622912],[-73.99229323679292,40.67727180099453],[-73.99235713215181,40.677302719982485],[-73.99242230626847,40.677334256777],[-73.9922421617974,40.67755047474842],[-73.99218549167416,40.677523126708685],[-73.99217693677879,40.677518998168246],[-73.99212217558384,40.67749257151153],[-73.99211299161884,40.67748813939924],[-73.99208839172218,40.67747626718173],[-73.99206267872822,40.677463858108226],[-73.99204904640986,40.67745727975692],[-73.99199744442787,40.677432376908506],[-73.99198510137005,40.677426420078945],[-73.99193793471306,40.677403658000095],[-73.99192115627937,40.677395560281504],[-73.99187617774435,40.677373855565676],[-73.99185721014922,40.67736470145217],[-73.99181861018576,40.6773460733288],[-73.99185066680663,40.677307595850564],[-73.99178651146785,40.67727663423021],[-73.99172127034016,40.67724514927463],[-73.99176937186306,40.67718741644771],[-73.99186978971228,40.67706689101737],[-73.99193497985154,40.67709843704247],[-73.99196715151533,40.677114005666716]]]]}',\n",
       " '{\"type\":\"MultiPolygon\",\"coordinates\":[[[[-74.00615016764597,40.70387742311855],[-74.00607858555634,40.70392848163689],[-74.00613746226468,40.70397979691108],[-74.00620873370706,40.703933733704744],[-74.00626756197099,40.70399029640257],[-74.00567548061136,40.70434719236335],[-74.00526783666676,40.70458719573791],[-74.00513973392702,40.704456504468396],[-74.00536366585484,40.704312883589914],[-74.00416490404282,40.70323071909717],[-74.00420755220685,40.70320167806015],[-74.00411775820736,40.70312053523481],[-74.00427263758725,40.70302059495284],[-74.0043029410945,40.70301974113853],[-74.00522108939288,40.703840543590914],[-74.00564087711363,40.70411214465944],[-74.00565659129713,40.70411299852676],[-74.00593380162921,40.7039353200352],[-74.00602246358959,40.70387552718695],[-74.00606399573049,40.70391566989484],[-74.00613557518027,40.70386339260821],[-74.00615016764597,40.70387742311855]],[[-74.00598879693584,40.70393104716525],[-74.00595400554539,40.70395411095695],[-74.00597869915782,40.70397717172483],[-74.0060123675167,40.703953255221634],[-74.00598879693584,40.70393104716525]],[[-74.00602920567957,40.70396606418137],[-74.00599441443438,40.703990838021916],[-74.006048853283,40.70403738629068],[-74.00608287797077,40.704015074456024],[-74.00602920567957,40.70396606418137]]]]}',\n",
       " '{\"type\":\"MultiPolygon\",\"coordinates\":[[[[-73.99273276422852,40.677787230723325],[-73.99291252319779,40.6775714731088],[-73.99297101990982,40.677599778996345],[-73.99279130600416,40.677815480902034],[-73.99273276422852,40.677787230723325]]]]}',\n",
       " '{\"type\":\"MultiPolygon\",\"coordinates\":[[[[-74.00526783666676,40.70458719573791],[-74.00513751951402,40.70465946273998],[-74.00503442409938,40.70471677995805],[-74.00500987282794,40.704730478579464],[-74.0049376873688,40.70477200763586],[-74.00473864148918,40.7048866126467],[-74.0046679750349,40.70492729950642],[-74.00452743154516,40.70499719691512],[-74.00447029157053,40.705025607366935],[-74.00445758918153,40.70503184385679],[-74.00438662970738,40.705066529529695],[-74.00430800101134,40.7049877923192],[-74.00460609382395,40.70479721683901],[-74.00350386472424,40.70379789507201],[-74.00351284192787,40.70379191638437],[-74.00333437860372,40.70363134143996],[-74.00349711572512,40.703524568965705],[-74.00354313448737,40.70356812801433],[-74.00357456011336,40.70354592056757],[-74.0036654756154,40.70362620825754],[-74.00369465824629,40.70363645607086],[-74.00481035896202,40.70464602334202],[-74.00483055941518,40.70463406559106],[-74.00484290794346,40.704646876656916],[-74.00513973392702,40.704456504468396],[-74.00526783666676,40.70458719573791]]]]}',\n",
       " '{\"type\":\"MultiPolygon\",\"coordinates\":[[[[-73.99150992674814,40.67726408212812],[-73.99144310919884,40.67723172706611],[-73.99138323675709,40.67720273502399],[-73.99142418966021,40.67715423560407],[-73.99147003606136,40.677176435838156],[-73.99155087959682,40.67721558274857],[-73.99150992674814,40.67726408212812]]]]}',\n",
       " '{\"type\":\"MultiPolygon\",\"coordinates\":[[[[-74.00617206148794,40.70479407757483],[-74.00619028433594,40.704806155155666],[-74.00610376915965,40.7048817600819],[-74.00613504811685,40.70490248909242],[-74.00601998251754,40.70499678725802],[-74.00595178725762,40.70495364542671],[-74.00585218431627,40.70504257294493],[-74.00552256844507,40.704834867834805],[-74.0060854150102,40.70446950580495],[-74.00637330561085,40.70465468346805],[-74.00617206148794,40.70479407757483]]]]}',\n",
       " '{\"type\":\"MultiPolygon\",\"coordinates\":[[[[-74.00617206148794,40.70479407757483],[-74.00637330561085,40.70465468346805],[-74.00671217057547,40.70487264878092],[-74.0062861303852,40.70516515280361],[-74.00601998251754,40.70499678725802],[-74.00613504811685,40.70490248909242],[-74.00610376915965,40.7048817600819],[-74.00619028433594,40.704806155155666],[-74.00617206148794,40.70479407757483]]]]}',\n",
       " '{\"type\":\"MultiPolygon\",\"coordinates\":[[[[-73.99144310919884,40.67723172706611],[-73.99150992674814,40.67726408212812],[-73.99135394752984,40.67744880605013],[-73.99128704942,40.6774165454299],[-73.99144310919884,40.67723172706611]]]]}',\n",
       " '{\"type\":\"MultiPolygon\",\"coordinates\":[[[[-74.00601998251754,40.70499678725802],[-74.0062861303852,40.70516515280361],[-74.0061708537425,40.70524416412038],[-74.00585218431627,40.70504257294493],[-74.00595178725762,40.70495364542671],[-74.00601998251754,40.70499678725802]]]]}',\n",
       " '{\"type\":\"MultiPolygon\",\"coordinates\":[[[[-73.99122710588165,40.67738763972359],[-73.99138323675709,40.67720273502399],[-73.99144310919884,40.67723172706611],[-73.99128704942,40.6774165454299],[-73.99122710588165,40.67738763972359]]]]}',\n",
       " '{\"type\":\"MultiPolygon\",\"coordinates\":[[[[-74.00578589179182,40.705082053549354],[-74.00611035956223,40.705285680677115],[-74.00595908002826,40.7053895044374],[-74.00589747805388,40.70543178275609],[-74.00554268259356,40.7056752793408],[-74.00492500615945,40.7052227556307],[-74.00524448963257,40.70501537477165],[-74.00531279372072,40.70497103693416],[-74.00545822260402,40.70487663638293],[-74.00578589179182,40.705082053549354]]]]}',\n",
       " '{\"type\":\"MultiPolygon\",\"coordinates\":[[[[-73.99116493421924,40.67735765859171],[-73.99136209253403,40.67712416632142],[-73.99141276212764,40.677148702863754],[-73.99142418966021,40.67715423560407],[-73.99138323675709,40.67720273502399],[-73.99122710588165,40.67738763972359],[-73.99116493421924,40.67735765859171]]]]}',\n",
       " '{\"type\":\"MultiPolygon\",\"coordinates\":[[[[-74.0063309006202,40.705328910888305],[-74.00632739899885,40.705326749849455],[-74.00653577289333,40.70517821945104],[-74.00684495991969,40.70495806004232],[-74.00717518916959,40.70517046560434],[-74.00665933882824,40.705531598832934],[-74.0063309006202,40.705328910888305]]]]}',\n",
       " '{\"type\":\"MultiPolygon\",\"coordinates\":[[[[-74.0063309006202,40.705328910888305],[-74.00665933882824,40.705531598832934],[-74.00598787132898,40.706001429093696],[-74.00568184559661,40.70577723222927],[-74.0063309006202,40.705328910888305]]]]}',\n",
       " '{\"type\":\"MultiPolygon\",\"coordinates\":[[[[-73.9968805051373,40.67922268971382],[-73.99700754116984,40.67895827117995],[-73.99709628382337,40.67898293233398],[-73.99696930502411,40.67924723208353],[-73.9968805051373,40.67922268971382]]]]}',\n",
       " '{\"type\":\"MultiPolygon\",\"coordinates\":[[[[-74.00729241997041,40.70541810678981],[-74.00743996195747,40.70531568902609],[-74.00771125879693,40.70548633281658],[-74.00785289512756,40.70557542009004],[-74.00766908841484,40.70575412640958],[-74.0075379387922,40.705679015122605],[-74.00754013835764,40.705676839372245],[-74.00748376757821,40.70564458396131],[-74.0075240661785,40.705609416507556],[-74.00750228591731,40.70559733484373],[-74.00752624083815,40.70557385530787],[-74.00753161839114,40.705568584225325],[-74.00729241997041,40.70541810678981]]]]}',\n",
       " '{\"type\":\"MultiPolygon\",\"coordinates\":[[[[-73.99680147673484,40.67920083736502],[-73.99692856029773,40.67893632262475],[-73.99700754116984,40.67895827117995],[-73.9968805051373,40.67922268971382],[-73.99680147673484,40.67920083736502]]]]}',\n",
       " '{\"type\":\"MultiPolygon\",\"coordinates\":[[[[-74.00727448837692,40.7056871036497],[-74.00737545621867,40.705590036923184],[-74.00741045255539,40.70560941464593],[-74.00741282124811,40.705606657107495],[-74.00748298546351,40.70564526660212],[-74.00748376757821,40.70564458396131],[-74.00754013835764,40.705676839372245],[-74.0075379387922,40.705679015122605],[-74.00766908841484,40.70575412640958],[-74.00756195404327,40.70585828708644],[-74.00727448837692,40.7056871036497]]]]}',\n",
       " '{\"type\":\"MultiPolygon\",\"coordinates\":[[[[-74.00683551915603,40.70573526800322],[-74.00736843406433,40.70604643637929],[-74.006801579885,40.70659754664243],[-74.0062137199499,40.706166886287555],[-74.00683551915603,40.70573526800322]]]]}',\n",
       " '{\"type\":\"MultiPolygon\",\"coordinates\":[[[[-74.00707557352955,40.70556863186584],[-74.00719152637477,40.70548814465729],[-74.00737545621867,40.705590036923184],[-74.00727448837692,40.7056871036497],[-74.00707557352955,40.70556863186584]]]]}',\n",
       " '{\"type\":\"MultiPolygon\",\"coordinates\":[[[[-73.99665449731097,40.67916020447937],[-73.99678167007076,40.67889550082697],[-73.99683948304532,40.678911566793666],[-73.99671234356627,40.679176196637364],[-73.99665449731097,40.67916020447937]]]]}',\n",
       " '{\"type\":\"MultiPolygon\",\"coordinates\":[[[[-74.00748298546351,40.70564526660212],[-74.00741282124811,40.705606657107495],[-74.00741045255539,40.70560941464593],[-74.00737545621867,40.705590036923184],[-74.00719152637477,40.70548814465729],[-74.00724215419443,40.70545300010615],[-74.00729241997041,40.70541810678981],[-74.00753161839114,40.705568584225325],[-74.00752624083815,40.70557385530787],[-74.00750228591731,40.70559733484373],[-74.0075240661785,40.705609416507556],[-74.00748376757821,40.70564458396131],[-74.00748298546351,40.70564526660212]]]]}',\n",
       " '{\"type\":\"MultiPolygon\",\"coordinates\":[[[[-73.996591919777,40.67914290284129],[-73.99671913308543,40.67887812178767],[-73.99677445846304,40.678893497839795],[-73.99678167007076,40.67889550082697],[-73.99665449731097,40.67916020447937],[-73.996591919777,40.67914290284129]]]]}',\n",
       " '{\"type\":\"MultiPolygon\",\"coordinates\":[[[[-74.00690965712946,40.705683804127986],[-74.00707557352955,40.70556863186584],[-74.00727448837692,40.7056871036497],[-74.00756195404327,40.70585828708644],[-74.0074280234616,40.70598850019376],[-74.00690965712946,40.705683804127986]]]]}',\n",
       " '{\"type\":\"MultiPolygon\",\"coordinates\":[[[[-73.99652249614583,40.67912370886235],[-73.9966497510174,40.67885883970643],[-73.99670875491093,40.67887523799662],[-73.99671913308543,40.67887812178767],[-73.996591919777,40.67914290284129],[-73.99652249614583,40.67912370886235]]]]}',\n",
       " '{\"type\":\"MultiPolygon\",\"coordinates\":[[[[-74.00795596206339,40.70628566502231],[-74.00809818473081,40.706133606198804],[-74.00812154383254,40.706146496310716],[-74.00817113534707,40.70609347543721],[-74.0081431432464,40.70607802912995],[-74.00814375848037,40.70607738431002],[-74.00808414223576,40.70604448555776],[-74.00808602464961,40.70604247362838],[-74.0080071864732,40.7059989654612],[-74.00822365931299,40.705767517963025],[-74.00837913287093,40.70585215594845],[-74.00852873959396,40.70593360003855],[-74.00910061672387,40.70624491789534],[-74.00884356070618,40.706530198887],[-74.0088728964347,40.706546168139454],[-74.00871097679575,40.70671616934429],[-74.00829481478254,40.706467770014655],[-74.00795596206339,40.70628566502231]]]]}',\n",
       " '{\"type\":\"MultiPolygon\",\"coordinates\":[[[[-73.99646443009213,40.67910765452493],[-73.996591719454,40.678842713318424],[-73.99664013822722,40.67885616935339],[-73.9966497510174,40.67885883970643],[-73.99652249614583,40.67912370886235],[-73.99646443009213,40.67910765452493]]]]}',\n",
       " '{\"type\":\"MultiPolygon\",\"coordinates\":[[[[-74.0088728964347,40.706546168139454],[-74.00884356070618,40.706530198887],[-74.00910061672387,40.70624491789534],[-74.0093969595512,40.70640623817471],[-74.00911546245382,40.70671864694119],[-74.00898775161372,40.706642421340106],[-74.00900614618583,40.706622005344464],[-74.0088728964347,40.706546168139454]]]]}',\n",
       " '{\"type\":\"MultiPolygon\",\"coordinates\":[[[[-73.996591719454,40.678842713318424],[-73.99646443009213,40.67910765452493],[-73.99640614516717,40.67909153974691],[-73.99653347022712,40.678826525652475],[-73.9965710259823,40.678836962026004],[-73.996591719454,40.678842713318424]]]]}',\n",
       " '{\"type\":\"MultiPolygon\",\"coordinates\":[[[[-74.00871097679575,40.70671616934429],[-74.0088728964347,40.706546168139454],[-74.00900614618583,40.706622005344464],[-74.00898775161372,40.706642421340106],[-74.00911546245382,40.70671864694119],[-74.00897545422525,40.706874028781066],[-74.00871097679575,40.70671616934429]]]]}',\n",
       " '{\"type\":\"MultiPolygon\",\"coordinates\":[[[[-73.99653347022712,40.678826525652475],[-73.99640614516717,40.67909153974691],[-73.9963493150968,40.679075828404144],[-73.99647667464312,40.67881074058382],[-73.99649666909436,40.67881629827729],[-73.99653347022712,40.678826525652475]]]]}',\n",
       " '{\"type\":\"MultiPolygon\",\"coordinates\":[[[[-74.00753171267166,40.706057663680504],[-74.00795833410146,40.70562307702878],[-74.00822365931299,40.705767517963025],[-74.0080071864732,40.7059989654612],[-74.00808602464961,40.70604247362838],[-74.00808414223576,40.70604448555776],[-74.00814375848037,40.70607738431002],[-74.0081431432464,40.70607802912995],[-74.00817113534707,40.70609347543721],[-74.00812154383254,40.706146496310716],[-74.00809818473081,40.706133606198804],[-74.00795596206339,40.70628566502231],[-74.00753171267166,40.706057663680504]]]]}',\n",
       " '{\"type\":\"MultiPolygon\",\"coordinates\":[[[[-73.99629003429864,40.67905943351862],[-73.99641742833961,40.67879427632564],[-73.99647667464312,40.67881074058382],[-73.9963493150968,40.679075828404144],[-73.99629003429864,40.67905943351862]]]]}',\n",
       " '{\"type\":\"MultiPolygon\",\"coordinates\":[[[[-74.00807482911715,40.70669026777924],[-74.00804860562505,40.70667348492459],[-74.0082020725183,40.70651823655791],[-74.00841097166507,40.70663983578357],[-74.00810683241507,40.70693840374757],[-74.00793354204436,40.70682868377275],[-74.00807482911715,40.70669026777924]]]]}',\n",
       " '{\"type\":\"MultiPolygon\",\"coordinates\":[[[[-74.00852718707259,40.707065121987625],[-74.00854464509617,40.70704798406521],[-74.00854581074736,40.707048721455386],[-74.00874991146318,40.70684022786199],[-74.00891579277048,40.70693826127682],[-74.00868488667554,40.707179193428445],[-74.00852718707259,40.707065121987625]]]]}',\n",
       " '{\"type\":\"MultiPolygon\",\"coordinates\":[[[[-73.99620227941216,40.6790351761135],[-73.99632972826753,40.67876990381606],[-73.99641742833961,40.67879427632564],[-73.99629003429864,40.67905943351862],[-73.99620227941216,40.6790351761135]]]]}',\n",
       " '{\"type\":\"MultiPolygon\",\"coordinates\":[[[[-74.00826087597228,40.70703582199043],[-74.0082967862941,40.70699250588605],[-74.00829401114733,40.70699075002943],[-74.0083459724407,40.70693974156005],[-74.00839592034608,40.706971349544716],[-74.00840211083238,40.7069652716191],[-74.0084151535097,40.706973523798126],[-74.0084089618165,40.70697960180832],[-74.00852718707259,40.707065121987625],[-74.00868488667554,40.707179193428445],[-74.00861034705892,40.70725696692112],[-74.00826087597228,40.70703582199043]]]]}',\n",
       " '{\"type\":\"MultiPolygon\",\"coordinates\":[[[[-73.99612002949586,40.6790124361206],[-73.99624752820192,40.67874706042639],[-73.9962914580888,40.678759268307836],[-73.99632972826753,40.67876990381606],[-73.99620227941216,40.6790351761135],[-73.99612002949586,40.6790124361206]]]]}',\n",
       " '{\"type\":\"MultiPolygon\",\"coordinates\":[[[[-74.00854581074736,40.707048721455386],[-74.00854464509617,40.70704798406521],[-74.00852718707259,40.707065121987625],[-74.0084089618165,40.70697960180832],[-74.0084151535097,40.706973523798126],[-74.00862174055682,40.70676444855835],[-74.00874991146318,40.70684022786199],[-74.00854581074736,40.707048721455386]]]]}',\n",
       " '{\"type\":\"MultiPolygon\",\"coordinates\":[[[[-73.99612311611524,40.67841491095264],[-73.99637366320052,40.67848454174689],[-73.99624752820192,40.67874706042639],[-73.99612002949586,40.6790124361206],[-73.9958693269347,40.67894312084791],[-73.99612311611524,40.67841491095264]]]]}',\n",
       " '{\"type\":\"MultiPolygon\",\"coordinates\":[[[[-74.0084151535097,40.706973523798126],[-74.00840211083238,40.7069652716191],[-74.00839592034608,40.706971349544716],[-74.0083459724407,40.70693974156005],[-74.00834928896056,40.70693648598407],[-74.00834040852024,40.70693086657711],[-74.00855195994266,40.70672319135261],[-74.00862174055682,40.70676444855835],[-74.0084151535097,40.706973523798126]]]]}',\n",
       " '{\"type\":\"MultiPolygon\",\"coordinates\":[[[[-73.99624752820192,40.67874706042639],[-73.99637366320052,40.67848454174689],[-73.99641759293931,40.67849675058448],[-73.9962914580888,40.678759268307836],[-73.99624752820192,40.67874706042639]]]]}',\n",
       " '{\"type\":\"MultiPolygon\",\"coordinates\":[[[[-74.00855195994266,40.70672319135261],[-74.00834040852024,40.70693086657711],[-74.00834928896056,40.70693648598407],[-74.0083459724407,40.70693974156005],[-74.00829401114733,40.70699075002943],[-74.0082967862941,40.70699250588605],[-74.00826087597228,40.70703582199043],[-74.00810683241507,40.70693840374757],[-74.00841097166507,40.70663983578357],[-74.00855195994266,40.70672319135261]]]]}',\n",
       " '{\"type\":\"MultiPolygon\",\"coordinates\":[[[[-73.99632972826753,40.67876990381606],[-73.9962914580888,40.678759268307836],[-73.99641759293931,40.67849675058448],[-73.99645586166729,40.678507385047254],[-73.99632972826753,40.67876990381606]]]]}',\n",
       " '{\"type\":\"MultiPolygon\",\"coordinates\":[[[[-74.00747901571519,40.70611134280295],[-74.0082020725183,40.70651823655791],[-74.00804860562505,40.70667348492459],[-74.00807482911715,40.70669026777924],[-74.00793354204436,40.70682868377275],[-74.00721881640905,40.706376394076365],[-74.00747901571519,40.70611134280295]]]]}',\n",
       " '{\"type\":\"MultiPolygon\",\"coordinates\":[[[[-74.00687173179824,40.70672994906592],[-74.00715203999991,40.7064444171168],[-74.00758945227477,40.70672142384924],[-74.00749842772511,40.70680744901348],[-74.00746079533364,40.7067861641747],[-74.00727042583374,40.70699502752499],[-74.00687173179824,40.70672994906592]]]]}',\n",
       " '{\"type\":\"MultiPolygon\",\"coordinates\":[[[[-73.99561205986613,40.67823580234341],[-73.99565382183556,40.67818610283848],[-73.99593638360746,40.67832290067878],[-73.99590926472402,40.67837968863681],[-73.99561205986613,40.67823580234341]]]]}',\n",
       " '{\"type\":\"MultiPolygon\",\"coordinates\":[[[[-74.00782980869873,40.70736693504523],[-74.00798936280022,40.707183977885826],[-74.00807035496275,40.70723871802431],[-74.00819469406198,40.70710470830362],[-74.00854417003875,40.707326018245375],[-74.00824218747144,40.70764110345735],[-74.00782980869873,40.70736693504523]]]]}',\n",
       " '{\"type\":\"MultiPolygon\",\"coordinates\":[[[[-74.00743709950544,40.707105840268504],[-74.00771452087616,40.70680062741917],[-74.00819469406198,40.70710470830362],[-74.00807035496275,40.70723871802431],[-74.00798936280022,40.707183977885826],[-74.00782980869873,40.70736693504523],[-74.00743709950544,40.707105840268504]]]]}',\n",
       " '{\"type\":\"MultiPolygon\",\"coordinates\":[[[[-74.00727042583374,40.70699502752499],[-74.00746079533364,40.7067861641747],[-74.00749842772511,40.70680744901348],[-74.00758945227477,40.70672142384924],[-74.00771452087616,40.70680062741917],[-74.00743709950544,40.707105840268504],[-74.00727042583374,40.70699502752499]]]]}',\n",
       " '{\"type\":\"MultiPolygon\",\"coordinates\":[[[[-73.99585966437708,40.678483555533106],[-73.9957502063625,40.67871276520011],[-73.99566146217576,40.678669800954374],[-73.9958085604997,40.678458814711746],[-73.99585966437708,40.678483555533106]]]]}',\n",
       " '{\"type\":\"MultiPolygon\",\"coordinates\":[[[[-74.00948399281522,40.706477398548486],[-74.00969045162401,40.70660612233554],[-74.00942342392638,40.70689409170313],[-74.0094628632151,40.70691808805457],[-74.009314541896,40.70708789533937],[-74.00907699265511,40.70694335676609],[-74.00948399281522,40.706477398548486]]]]}',\n",
       " '{\"type\":\"MultiPolygon\",\"coordinates\":[[[[-73.99576815853037,40.678439254101725],[-73.9958085604997,40.678458814711746],[-73.99566146217576,40.678669800954374],[-73.99559959721576,40.67863985018014],[-73.99576815853037,40.678439254101725]]]]}',\n",
       " '{\"type\":\"MultiPolygon\",\"coordinates\":[[[[-74.009314541896,40.70708789533937],[-74.0094628632151,40.70691808805457],[-74.00942342392638,40.70689409170313],[-74.00969045162401,40.70660612233554],[-74.01012073277937,40.70687439232955],[-74.00989474559157,40.70710711388611],[-74.00985616258853,40.70714684850362],[-74.01001967272016,40.70724633480792],[-74.0100618000563,40.70727236135231],[-74.00989678491501,40.70744215908428],[-74.009314541896,40.70708789533937]]]]}',\n",
       " '{\"type\":\"MultiPolygon\",\"coordinates\":[[[[-73.99553966368534,40.67861083420078],[-73.99570822521515,40.67841023812564],[-73.99576815853037,40.678439254101725],[-73.99559959721576,40.67863985018014],[-73.99553966368534,40.67861083420078]]]]}',\n",
       " '{\"type\":\"MultiPolygon\",\"coordinates\":[[[[-74.00989678491501,40.70744215908428],[-74.0100618000563,40.70727236135231],[-74.01001967272016,40.70724633480792],[-74.00985616258853,40.70714684850362],[-74.00989474559157,40.70710711388611],[-74.01012073277937,40.70687439232955],[-74.01034700743745,40.70701546733297],[-74.00991933799811,40.70745588191247],[-74.00989678491501,40.70744215908428]]]]}',\n",
       " '{\"type\":\"MultiPolygon\",\"coordinates\":[[[[-73.99548231232389,40.67858306903655],[-73.99565087274921,40.67838247220833],[-73.99570822521515,40.67841023812564],[-73.99553966368534,40.67861083420078],[-73.99548231232389,40.67858306903655]]]]}',\n",
       " '{\"type\":\"MultiPolygon\",\"coordinates\":[[[[-74.00991933799811,40.70745588191247],[-74.01034700743745,40.70701546733297],[-74.01061448745394,40.70718223241479],[-74.0101892726002,40.70762012002742],[-74.00991933799811,40.70745588191247]]]]}',\n",
       " '{\"type\":\"MultiPolygon\",\"coordinates\":[[[[-73.9954265116231,40.678556053180365],[-73.9955950733547,40.678355457269575],[-73.99565087274921,40.67838247220833],[-73.99548231232389,40.67858306903655],[-73.9954265116231,40.678556053180365]]]]}',\n",
       " '{\"type\":\"MultiPolygon\",\"coordinates\":[[[[-73.99536919464106,40.678528304191445],[-73.99553775526805,40.67832770836384],[-73.9955950733547,40.678355457269575],[-73.9954265116231,40.678556053180365],[-73.99536919464106,40.678528304191445]]]]}',\n",
       " '{\"type\":\"MultiPolygon\",\"coordinates\":[[[[-74.00934134545578,40.70852970897011],[-74.00837855968132,40.70772090520045],[-74.00867287937598,40.707411769846495],[-74.00874694569676,40.707333974848765],[-74.00902478739094,40.707042143026925],[-74.00965874996342,40.70742803711321],[-74.00967227914126,40.70743627304706],[-74.00952712399976,40.70758976756166],[-74.00951050604442,40.70757965173825],[-74.00935390941822,40.707740912969406],[-74.00959016983414,40.70789370608818],[-74.00979502316429,40.70802618585493],[-74.00981619305455,40.70803987635579],[-74.00934134545578,40.70852970897011]]]]}',\n",
       " '{\"type\":\"MultiPolygon\",\"coordinates\":[[[[-74.00979502316429,40.70802618585493],[-74.00959016983414,40.70789370608818],[-74.00935390941822,40.707740912969406],[-74.00951050604442,40.70757965173825],[-74.00952712399976,40.70758976756166],[-74.00967227914126,40.70743627304706],[-74.01010918024006,40.707702211968986],[-74.00979502316429,40.70802618585493]]]]}',\n",
       " '{\"type\":\"MultiPolygon\",\"coordinates\":[[[[-74.01112261981254,40.70774305097013],[-74.01106860872177,40.707711009595755],[-74.01122662564336,40.70754136303224],[-74.01157143768468,40.70775088104175],[-74.01142732370468,40.70792381093636],[-74.01112261981254,40.70774305097013]]]]}',\n",
       " '{\"type\":\"MultiPolygon\",\"coordinates\":[[[[-74.01112261981254,40.70774305097013],[-74.01142732370468,40.70792381093636],[-74.01117631837654,40.70822500133326],[-74.01080134994079,40.708002557153705],[-74.0109788926127,40.707811950670006],[-74.0109761173791,40.70781030480971],[-74.01106860872177,40.707711009595755],[-74.01112261981254,40.70774305097013]]]]}',\n",
       " '{\"type\":\"MultiPolygon\",\"coordinates\":[[[[-74.01028295797056,40.70769443818216],[-74.01049659514557,40.707453423302105],[-74.01054500322026,40.70748214074645],[-74.01059385670453,40.707429367375404],[-74.01059689930551,40.70743117360172],[-74.01075895959082,40.70725718855467],[-74.01122662564336,40.70754136303224],[-74.01106860872177,40.707711009595755],[-74.0109761173791,40.70781030480971],[-74.0109788926127,40.707811950670006],[-74.01080134994079,40.708002557153705],[-74.01028295797056,40.70769443818216]]]]}',\n",
       " '{\"type\":\"MultiPolygon\",\"coordinates\":[[[[-74.01022885020488,40.70775608280902],[-74.01112041488956,40.70828778199578],[-74.01079058295127,40.70869529220992],[-74.00990830639621,40.70811747814419],[-74.01022885020488,40.70775608280902]]]]}',\n",
       " '{\"type\":\"MultiPolygon\",\"coordinates\":[[[[-74.01073612296635,40.708769679208],[-74.01048427941332,40.7090708790073],[-74.00973618119896,40.70873927886852],[-74.00971637858514,40.70873050057895],[-74.00948831059137,40.708608953801104],[-74.00986909447602,40.70819774928268],[-74.01073612296635,40.708769679208]]]]}',\n",
       " '{\"type\":\"MultiPolygon\",\"coordinates\":[[[[-74.01212123888868,40.70879859654253],[-74.01127635649978,40.70843937880715],[-74.01201962896967,40.70752904972959],[-74.01281124014403,40.70777160138531],[-74.01212123888868,40.70879859654253]]]]}',\n",
       " '{\"type\":\"MultiPolygon\",\"coordinates\":[[[[-74.01212123888868,40.70879859654253],[-74.01199032381516,40.70899344592635],[-74.01113723486995,40.708609765712986],[-74.01127635649978,40.70843937880715],[-74.01212123888868,40.70879859654253]]]]}',\n",
       " '{\"type\":\"MultiPolygon\",\"coordinates\":[[[[-74.01098165407836,40.708822589554174],[-74.01110765553724,40.70866841863001],[-74.01194949501723,40.709047040284105],[-74.0118414716732,40.70920922389571],[-74.01098165407836,40.708822589554174]]]]}',\n",
       " '{\"type\":\"MultiPolygon\",\"coordinates\":[[[[-74.01347707662825,40.707972045326244],[-74.01332218955416,40.708327291429654],[-74.01295350013447,40.70822568850872],[-74.0129474140814,40.70823762002593],[-74.01282379750408,40.70819925202841],[-74.01306411603811,40.70784003937826],[-74.01347707662825,40.707972045326244]]]]}',\n",
       " '{\"type\":\"MultiPolygon\",\"coordinates\":[[[[-74.01319536974285,40.70861816126235],[-74.01282595985609,40.7084757847843],[-74.01276716719565,40.708591073450926],[-74.01260804201216,40.70852174503334],[-74.01277371158797,40.70827411505334],[-74.01282379750408,40.70819925202841],[-74.0129474140814,40.70823762002593],[-74.01295350013447,40.70822568850872],[-74.01332218955416,40.708327291429654],[-74.0132283980752,40.70854240580425],[-74.01319536974285,40.70861816126235]]]]}',\n",
       " '{\"type\":\"MultiPolygon\",\"coordinates\":[[[[-74.01265139255345,40.708927422656714],[-74.01265192495418,40.70892661208945],[-74.01241087851808,40.70881644598676],[-74.01260804201216,40.70852174503334],[-74.01276716719565,40.708591073450926],[-74.01282595985609,40.7084757847843],[-74.01319536974285,40.70861816126235],[-74.01299711036853,40.709072875770886],[-74.01265139255345,40.708927422656714]]]]}',\n",
       " '{\"type\":\"MultiPolygon\",\"coordinates\":[[[[-74.01252248596842,40.70912346652493],[-74.01265139255345,40.708927422656714],[-74.01299711036853,40.709072875770886],[-74.01290389153459,40.70928667330115],[-74.01252248596842,40.70912346652493]]]]}',\n",
       " '{\"type\":\"MultiPolygon\",\"coordinates\":[[[[-74.01241087851808,40.70881644598676],[-74.01265192495418,40.70892661208945],[-74.01265139255345,40.708927422656714],[-74.01252248596842,40.70912346652493],[-74.01227564501355,40.70901857677091],[-74.01241087851808,40.70881644598676]]]]}',\n",
       " '{\"type\":\"MultiPolygon\",\"coordinates\":[[[[-74.0122459740105,40.70906310738391],[-74.01252727463455,40.70918436295396],[-74.01243408754735,40.709309057357544],[-74.01257764589485,40.7093727422969],[-74.0125689418366,40.709383983447786],[-74.01247631806744,40.70950369169629],[-74.01208067060814,40.70932874855069],[-74.0122459740105,40.70906310738391]]]]}',\n",
       " '{\"type\":\"MultiPolygon\",\"coordinates\":[[[[-74.0125689418366,40.709383983447786],[-74.01257764589485,40.7093727422969],[-74.01243408754735,40.709309057357544],[-74.01252727463455,40.70918436295396],[-74.01287345213385,40.70933358231349],[-74.0128076573468,40.70948979280784],[-74.0125689418366,40.709383983447786]]]]}',\n",
       " '{\"type\":\"MultiPolygon\",\"coordinates\":[[[[-74.01247631806744,40.70950369169629],[-74.0125689418366,40.709383983447786],[-74.0128076573468,40.70948979280784],[-74.012749300469,40.70962439551929],[-74.01247631806744,40.70950369169629]]]]}',\n",
       " '{\"type\":\"MultiPolygon\",\"coordinates\":[[[[-74.01193533832347,40.70955001495048],[-74.01189242918059,40.70953249986612],[-74.01200575130395,40.709372026630696],[-74.0120494984243,40.70939121380794],[-74.01193533832347,40.70955001495048]]]]}',\n",
       " '{\"type\":\"MultiPolygon\",\"coordinates\":[[[[-74.01189853427474,40.70971387983001],[-74.01197686085892,40.70956976249252],[-74.011982288306,40.7095719781277],[-74.01210947008109,40.70941842919407],[-74.012315875101,40.70951209226181],[-74.01218775705308,40.709662737385244],[-74.01214066428746,40.709643513710276],[-74.01206349600228,40.70978523113426],[-74.01189853427474,40.70971387983001]]]]}',\n",
       " '{\"type\":\"MultiPolygon\",\"coordinates\":[[[[-74.01252214478805,40.70981089283372],[-74.01254238588128,40.709819079945355],[-74.01245859742436,40.70995612292692],[-74.01230641532402,40.7098902999437],[-74.0123902677496,40.7097525033612],[-74.01235619417423,40.70973859591447],[-74.01239257138951,40.70968609056843],[-74.01246922154539,40.709581684635836],[-74.012619024911,40.70964965357073],[-74.01252214478805,40.70981089283372]]]]}',\n",
       " '{\"type\":\"MultiPolygon\",\"coordinates\":[[[[-74.01254238588128,40.709819079945355],[-74.01252214478805,40.70981089283372],[-74.012619024911,40.70964965357073],[-74.01273503877196,40.7097023118627],[-74.01259813190161,40.71001647377633],[-74.01245859742436,40.70995612292692],[-74.01254238588128,40.709819079945355]]]]}',\n",
       " '{\"type\":\"MultiPolygon\",\"coordinates\":[[[[-74.01189242918059,40.70953249986612],[-74.01193533832347,40.70955001495048],[-74.0120494984243,40.70939121380794],[-74.01210947008109,40.70941842919407],[-74.011982288306,40.7095719781277],[-74.01197686085892,40.70956976249252],[-74.01189853427474,40.70971387983001],[-74.0117992239072,40.70967092473533],[-74.01189242918059,40.70953249986612]]]]}',\n",
       " '{\"type\":\"MultiPolygon\",\"coordinates\":[[[[-74.01206349600228,40.70978523113426],[-74.01214066428746,40.709643513710276],[-74.01218775705308,40.709662737385244],[-74.012315875101,40.70951209226181],[-74.01246922154539,40.709581684635836],[-74.01239257138951,40.70968609056843],[-74.01235619417423,40.70973859591447],[-74.0123902677496,40.7097525033612],[-74.01230641532402,40.7098902999437],[-74.01206349600228,40.70978523113426]]]]}',\n",
       " '{\"type\":\"MultiPolygon\",\"coordinates\":[[[[-74.01393380332445,40.70830026832776],[-74.01394050035721,40.70828458966439],[-74.013961885159,40.708234694396346],[-74.01397195377625,40.7082374694993],[-74.01397622485175,40.70822755345911],[-74.0139686935656,40.708225476878525],[-74.01398492024066,40.70818749683627],[-74.01400349351496,40.708144023398205],[-74.01430672384149,40.708239209446255],[-74.01425051370096,40.70838268102769],[-74.01393380332445,40.70830026832776]]]]}',\n",
       " '{\"type\":\"MultiPolygon\",\"coordinates\":[[[[-74.01390561388652,40.7083662475182],[-74.01393380332445,40.70830026832776],[-74.01425051370096,40.70838268102769],[-74.01422449957164,40.70844908051372],[-74.01390561388652,40.7083662475182]]]]}',\n",
       " '{\"type\":\"MultiPolygon\",\"coordinates\":[[[[-74.01385042096588,40.70849542935502],[-74.01388686060379,40.70841014144204],[-74.01390561388652,40.7083662475182],[-74.01422449957164,40.70844908051372],[-74.01417348008376,40.70857930308003],[-74.01385042096588,40.70849542935502]]]]}',\n",
       " '{\"type\":\"MultiPolygon\",\"coordinates\":[[[[-74.01387256250156,40.70857920027141],[-74.01382035778414,40.70856579426678],[-74.01382860305559,40.708546412498194],[-74.01385042096588,40.70849542935502],[-74.01417348008376,40.70857930308003],[-74.01414567869004,40.70865026472623],[-74.01387256250156,40.70857920027141]]]]}',\n",
       " '{\"type\":\"MultiPolygon\",\"coordinates\":[[[[-74.01380248387991,40.7086278216475],[-74.01384660697508,40.70863926550232],[-74.01387256250156,40.70857920027141],[-74.01414567869004,40.70865026472623],[-74.01400380981491,40.70901236577122],[-74.01367882442138,40.70887482963027],[-74.01375726846352,40.708778882860436],[-74.01379387639756,40.708734109762176],[-74.01376339802604,40.708719304455435],[-74.01377742256983,40.70868648016082],[-74.01380248387991,40.7086278216475]]]]}',\n",
       " '{\"type\":\"MultiPolygon\",\"coordinates\":[[[[-74.01377742256983,40.70868648016082],[-74.01376339802604,40.708719304455435],[-74.01379387639756,40.708734109762176],[-74.01375726846352,40.708778882860436],[-74.01367882442138,40.70887482963027],[-74.01336580067824,40.70874233222105],[-74.01342814476425,40.70859634351532],[-74.01377742256983,40.70868648016082]]]]}',\n",
       " '{\"type\":\"MultiPolygon\",\"coordinates\":[[[[-74.01377742256983,40.70868648016082],[-74.01342814476425,40.70859634351532],[-74.01345859989961,40.70852502509176],[-74.01380786560802,40.70861515804885],[-74.01380248387991,40.7086278216475],[-74.01377742256983,40.70868648016082]]]]}',\n",
       " '{\"type\":\"MultiPolygon\",\"coordinates\":[[[[-74.01380248387991,40.7086278216475],[-74.01380786560802,40.70861515804885],[-74.01345859989961,40.70852502509176],[-74.0134871021431,40.708458283320496],[-74.01382860305559,40.708546412498194],[-74.01382035778414,40.70856579426678],[-74.01387256250156,40.70857920027141],[-74.01384660697508,40.70863926550232],[-74.01380248387991,40.7086278216475]]]]}',\n",
       " '{\"type\":\"MultiPolygon\",\"coordinates\":[[[[-74.01382860305559,40.708546412498194],[-74.0134871021431,40.708458283320496],[-74.0135453023704,40.70832199704883],[-74.01388686060379,40.70841014144204],[-74.01385042096588,40.70849542935502],[-74.01382860305559,40.708546412498194]]]]}',\n",
       " '{\"type\":\"MultiPolygon\",\"coordinates\":[[[[-74.0135453023704,40.70832199704883],[-74.01359892015728,40.70819644099921],[-74.01394050035721,40.70828458966439],[-74.01393380332445,40.70830026832776],[-74.01390561388652,40.7083662475182],[-74.01388686060379,40.70841014144204],[-74.0135453023704,40.70832199704883]]]]}',\n",
       " '{\"type\":\"MultiPolygon\",\"coordinates\":[[[[-74.01359892015728,40.70819644099921],[-74.01362186181558,40.70814271752526],[-74.013961885159,40.708234694396346],[-74.01394050035721,40.70828458966439],[-74.01359892015728,40.70819644099921]]]]}',\n",
       " '{\"type\":\"MultiPolygon\",\"coordinates\":[[[[-74.013961885159,40.708234694396346],[-74.01362186181558,40.70814271752526],[-74.01364397895428,40.70809092755535],[-74.01398492024066,40.70818749683627],[-74.0139686935656,40.708225476878525],[-74.01397622485175,40.70822755345911],[-74.01397195377625,40.7082374694993],[-74.013961885159,40.708234694396346]]]]}',\n",
       " '{\"type\":\"MultiPolygon\",\"coordinates\":[[[[-74.01398492024066,40.70818749683627],[-74.01364397895428,40.70809092755535],[-74.01366648286042,40.708038230730466],[-74.01400349351496,40.708144023398205],[-74.01398492024066,40.70818749683627]]]]}',\n",
       " '{\"type\":\"MultiPolygon\",\"coordinates\":[[[[-74.01334086191196,40.70880073035286],[-74.01362921565448,40.70892461642716],[-74.01351776396297,40.709076648804384],[-74.01348893014307,40.70906645472829],[-74.01341715557814,40.709219775600495],[-74.01320159900895,40.7091268322564],[-74.01334086191196,40.70880073035286]]]]}',\n",
       " '{\"type\":\"MultiPolygon\",\"coordinates\":[[[[-74.01341715557814,40.709219775600495],[-74.01348893014307,40.70906645472829],[-74.01351776396297,40.709076648804384],[-74.01362921565448,40.70892461642716],[-74.01397927718283,40.70907498202444],[-74.01384953461319,40.7094061290966],[-74.01341715557814,40.709219775600495]]]]}',\n",
       " '{\"type\":\"MultiPolygon\",\"coordinates\":[[[[-74.01296547208165,40.7096797478812],[-74.01298379093177,40.70963685458638],[-74.0131456886071,40.70925775280308],[-74.01379913099215,40.70953477547973],[-74.01363426622054,40.70995556038438],[-74.01362309721252,40.70998406640083],[-74.01332618062715,40.709853821031935],[-74.01333796867252,40.70984347105217],[-74.01296547208165,40.7096797478812]]]]}',\n",
       " '{\"type\":\"MultiPolygon\",\"coordinates\":[[[[-74.01296547208165,40.7096797478812],[-74.01333796867252,40.70984347105217],[-74.01332618062715,40.709853821031935],[-74.01362309721252,40.70998406640083],[-74.01357242547574,40.710113397137974],[-74.01345782329985,40.710405295984366],[-74.0132395421063,40.71030629261227],[-74.01328370214605,40.710247774383376],[-74.01328818922553,40.71024879872686],[-74.01329283604858,40.71024925139597],[-74.0132975176081,40.71024912002093],[-74.01330210791117,40.710248408213886],[-74.01330648360465,40.71024713514836],[-74.01332765869674,40.710237626576976],[-74.01334638747888,40.710225504870124],[-74.01336211920754,40.71021112640384],[-74.01337439143728,40.71019491405624],[-74.0133828429916,40.71017734457072],[-74.01338722561617,40.71015893466805],[-74.01338741045785,40.71014022556886],[-74.0133866799718,40.710136761824934],[-74.01338522674956,40.71013343260863],[-74.01338308873851,40.710130324585826],[-74.01338032158486,40.71012751873495],[-74.01337699742753,40.71012508808413],[-74.01337320269282,40.710123095956504],[-74.01332764632605,40.7101031025746],[-74.01333515773557,40.7100931861939],[-74.0131460279135,40.71001018147221],[-74.01303847339211,40.71015413258771],[-74.01310137156848,40.7101817370775],[-74.01306647025541,40.71022779479211],[-74.01278578911975,40.71010048817796],[-74.01291069155138,40.709808021556135],[-74.01291962089927,40.70978711430254],[-74.01296547208165,40.7096797478812]]]]}',\n",
       " '{\"type\":\"MultiPolygon\",\"coordinates\":[[[[-74.01306647025541,40.71022779479211],[-74.01310137156848,40.7101817370775],[-74.01303847339211,40.71015413258771],[-74.0131460279135,40.71001018147221],[-74.01333515773557,40.7100931861939],[-74.01332764632605,40.7101031025746],[-74.01337320269282,40.710123095956504],[-74.01337699742753,40.71012508808413],[-74.01338032158486,40.71012751873495],[-74.01338308873851,40.710130324585826],[-74.01338522674956,40.71013343260863],[-74.0133866799718,40.710136761824934],[-74.01338741045785,40.71014022556886],[-74.01338722561617,40.71015893466805],[-74.0133828429916,40.71017734457072],[-74.01337439143728,40.71019491405624],[-74.01336211920754,40.71021112640384],[-74.01334638747888,40.710225504870124],[-74.01332765869674,40.710237626576976],[-74.01330648360465,40.71024713514836],[-74.01330210791117,40.710248408213886],[-74.0132975176081,40.71024912002093],[-74.01329283604858,40.71024925139597],[-74.01328818922553,40.71024879872686],[-74.01328370214605,40.710247774383376],[-74.0132395421063,40.71030629261227],[-74.01306647025541,40.71022779479211]]]]}',\n",
       " '{\"type\":\"MultiPolygon\",\"coordinates\":[[[[-74.0145705564216,40.708888787500705],[-74.01456580201717,40.708901912115394],[-74.01487053557419,40.708968407202555],[-74.0147319351201,40.709320507603444],[-74.0141234653133,40.70906698894217],[-74.01424758419851,40.70874376762513],[-74.01459097084589,40.708823199983726],[-74.01456736700531,40.708888091835775],[-74.0145705564216,40.708888787500705]]]]}',\n",
       " '{\"type\":\"MultiPolygon\",\"coordinates\":[[[[-74.01397830691194,40.70946382480598],[-74.01411101230222,40.7091447638591],[-74.01469982377785,40.70939509721837],[-74.01457512846338,40.70971885759592],[-74.01397830691194,40.70946382480598]]]]}',\n",
       " '{\"type\":\"MultiPolygon\",\"coordinates\":[[[[-74.0145705564216,40.708888787500705],[-74.01456736700531,40.708888091835775],[-74.01459097084589,40.708823199983726],[-74.01424758419851,40.70874376762513],[-74.0144159670587,40.70830528003436],[-74.01505619187547,40.708496964083466],[-74.01487053557419,40.708968407202555],[-74.01456580201717,40.708901912115394],[-74.0145705564216,40.708888787500705]]]]}',\n",
       " '{\"type\":\"MultiPolygon\",\"coordinates\":[[[[-74.01396477652729,40.71011204634065],[-74.01376899925468,40.71002614465066],[-74.01393869271533,40.709593946837316],[-74.01418441410995,40.709698129735635],[-74.01408732957769,40.7099504750067],[-74.01403514927462,40.70992872397215],[-74.01396477652729,40.71011204634065]]]]}',\n",
       " '{\"type\":\"MultiPolygon\",\"coordinates\":[[[[-74.01396477652729,40.71011204634065],[-74.01403514927462,40.70992872397215],[-74.01408732957769,40.7099504750067],[-74.01418441410995,40.709698129735635],[-74.01452623741115,40.709843057428074],[-74.01435325059828,40.710282499304064],[-74.01396477652729,40.71011204634065]]]]}',\n",
       " '{\"type\":\"MultiPolygon\",\"coordinates\":[[[[-74.01359428537116,40.710467187600315],[-74.01371682089136,40.71015924782918],[-74.01404491377201,40.710299918178585],[-74.01394911721351,40.710441442811614],[-74.01401902705902,40.71047141608993],[-74.01403440775218,40.71044906808849],[-74.01425110711286,40.71054197726537],[-74.01417658530764,40.7107312886378],[-74.01359428537116,40.710467187600315]]]]}',\n",
       " '{\"type\":\"MultiPolygon\",\"coordinates\":[[[[-74.01404491377201,40.710299918178585],[-74.01411629325008,40.71033052152625],[-74.01403440775218,40.71044906808849],[-74.01401902705902,40.71047141608993],[-74.01394911721351,40.710441442811614],[-74.01404491377201,40.710299918178585]]]]}',\n",
       " '{\"type\":\"MultiPolygon\",\"coordinates\":[[[[-74.01403440775218,40.71044906808849],[-74.01411629325008,40.71033052152625],[-74.0143028602356,40.71041051106883],[-74.01425110711286,40.71054197726537],[-74.01403440775218,40.71044906808849]]]]}',\n",
       " '{\"type\":\"MultiPolygon\",\"coordinates\":[[[[-74.01243986586974,40.71294708672862],[-74.01195159481924,40.7127250608712],[-74.01196684988804,40.712701085956795],[-74.01189647330298,40.71267656410489],[-74.01165208285094,40.71244066411919],[-74.01158268947209,40.71254971814018],[-74.01036250768989,40.711988870935755],[-74.01058424876524,40.711615588460184],[-74.01078245847651,40.711708376211135],[-74.0108619589458,40.71160043116464],[-74.01063127054029,40.711492440543104],[-74.01086846019342,40.71113318165698],[-74.01121605461188,40.71129589905611],[-74.0112971910666,40.71118397880298],[-74.01094400265309,40.71101864072254],[-74.01126971492698,40.71053936725358],[-74.01164884401308,40.71071684872703],[-74.01169060933287,40.71065863838782],[-74.0115076035677,40.71057296844051],[-74.01156595969364,40.710497402763316],[-74.01135694732466,40.71039962415267],[-74.01169079832786,40.70989665446258],[-74.01241481989273,40.710244452606275],[-74.01233692674994,40.710428347501676],[-74.0125539954139,40.71053495835379],[-74.01264143602806,40.71037134628965],[-74.012813240242,40.71043665519012],[-74.01326779875255,40.71065876767076],[-74.0131519282525,40.71090920148565],[-74.0133196743306,40.71098784208269],[-74.01342870978182,40.7107350954812],[-74.01398666344883,40.71100842506761],[-74.01386780871111,40.711521482650696],[-74.01380014875366,40.7115028942253],[-74.01375294659776,40.71172220249969],[-74.01381274939774,40.711743405201496],[-74.0136970323433,40.71224207471704],[-74.01365408097794,40.71222560405449],[-74.01361820931035,40.71240437900413],[-74.01365337537376,40.71242305873678],[-74.0136042000391,40.712628528165624],[-74.01356587859001,40.7127852688504],[-74.01355880861702,40.71278447722597],[-74.01352335439934,40.71292915077178],[-74.01353223580199,40.71293340919495],[-74.01340804175815,40.71339992036352],[-74.01263780767394,40.713040963585165],[-74.01266682436749,40.712995363191084],[-74.01246394669084,40.71290924388875],[-74.01243986586974,40.71294708672862]]]]}',\n",
       " '{\"type\":\"MultiPolygon\",\"coordinates\":[[[[-74.01071650210345,40.70912458169376],[-74.0109025425722,40.708906681028],[-74.01178205623629,40.70930287111917],[-74.01161476895419,40.709531613516404],[-74.01071650210345,40.70912458169376]]],[[[-74.01058978219281,40.70927466748287],[-74.01150378033347,40.70969071819013],[-74.01113591128352,40.71024609302809],[-74.01014535858053,40.709795194488386],[-74.01058978219281,40.70927466748287]]]]}',\n",
       " '{\"type\":\"MultiPolygon\",\"coordinates\":[[[[-74.01036601310668,40.71005593130868],[-74.01051903561816,40.71012534166242],[-74.01028395278158,40.710413094861316],[-74.01012966827787,40.71034306830803],[-74.0101302420765,40.71034237035714],[-74.01017897626073,40.71028363231747],[-74.01022899519467,40.71022228165695],[-74.01028146923625,40.710158480574265],[-74.01032364007223,40.71010731086925],[-74.01036601310668,40.71005593130868]]]]}',\n",
       " '{\"type\":\"MultiPolygon\",\"coordinates\":[[[[-74.0101073198604,40.71062929978655],[-74.01028395278158,40.710413094861316],[-74.01051903561816,40.71012534166242],[-74.01088566435796,40.71029193331832],[-74.0106164724759,40.71061337927889],[-74.01064424785017,40.71062617929581],[-74.0104917143979,40.71080374629234],[-74.0101073198604,40.71062929978655]]]]}',\n",
       " '{\"type\":\"MultiPolygon\",\"coordinates\":[[[[-74.0104917143979,40.71080374629234],[-74.01064424785017,40.71062617929581],[-74.0106164724759,40.71061337927889],[-74.01088566435796,40.71029193331832],[-74.01105183766023,40.71036725091254],[-74.01069646573342,40.710897060348685],[-74.0104917143979,40.71080374629234]]]]}',\n",
       " '{\"type\":\"MultiPolygon\",\"coordinates\":[[[[-74.00971424722849,40.71029916451612],[-74.0100340112997,40.71044423784293],[-74.00994267121244,40.710554651583195],[-74.00962076828006,40.710408606535914],[-74.00971424722849,40.71029916451612]]]]}',\n",
       " '{\"type\":\"MultiPolygon\",\"coordinates\":[[[[-74.01012154466608,40.710338424214015],[-74.00980383070839,40.71019428202438],[-74.00985359948076,40.710136014045304],[-74.01017897626073,40.71028363231747],[-74.0101302420765,40.71034237035714],[-74.01012154466608,40.710338424214015]]]]}',\n",
       " '{\"type\":\"MultiPolygon\",\"coordinates\":[[[[-74.01022899519467,40.71022228165695],[-74.01017897626073,40.71028363231747],[-74.00985359948076,40.710136014045304],[-74.0099053347003,40.710075443356175],[-74.01022899519467,40.71022228165695]]]]}',\n",
       " '{\"type\":\"MultiPolygon\",\"coordinates\":[[[[-74.01028146923625,40.710158480574265],[-74.01022899519467,40.71022228165695],[-74.0099053347003,40.710075443356175],[-74.0099568543778,40.71001512648782],[-74.01028146923625,40.710158480574265]]]]}',\n",
       " '{\"type\":\"MultiPolygon\",\"coordinates\":[[[[-74.01032364007223,40.71010731086925],[-74.01028146923625,40.710158480574265],[-74.0099568543778,40.71001512648782],[-74.01000259177205,40.70996157660564],[-74.01032364007223,40.71010731086925]]]]}',\n",
       " '{\"type\":\"MultiPolygon\",\"coordinates\":[[[[-74.01000259177205,40.70996157660564],[-74.01004605731082,40.7099106878263],[-74.01036601310668,40.71005593130868],[-74.01032364007223,40.71010731086925],[-74.01000259177205,40.70996157660564]]]]}',\n",
       " '{\"type\":\"MultiPolygon\",\"coordinates\":[[[[-74.00976220460979,40.710243050750215],[-74.00980383070839,40.71019428202438],[-74.01012154466608,40.710338424214015],[-74.0101302420765,40.71034237035714],[-74.01012966827787,40.71034306830803],[-74.01028395278158,40.710413094861316],[-74.0101073198604,40.71062929978655],[-74.00994267121244,40.710554651583195],[-74.0100340112997,40.71044423784293],[-74.00971424722849,40.71029916451612],[-74.00976220460979,40.710243050750215]]]]}',\n",
       " '{\"type\":\"MultiPolygon\",\"coordinates\":[[[[-74.0090998328929,40.70917297592104],[-74.00918149836778,40.70908873875191],[-74.00921694737151,40.709052172616715],[-74.00907054339471,40.708962348099995],[-74.00910990526121,40.70893047517741],[-74.0092321214701,40.70897984972454],[-74.00928109222302,40.70899963455541],[-74.00927575267492,40.70900728846924],[-74.00933893663301,40.70903281475647],[-74.00914774778235,40.709224714630146],[-74.0090998328929,40.70917297592104]]]]}',\n",
       " '{\"type\":\"MultiPolygon\",\"coordinates\":[[[[-74.0091399063537,40.709063923850366],[-74.00918149836778,40.70908873875191],[-74.0090998328929,40.70917297592104],[-74.00906423412208,40.70913453680295],[-74.00913080384431,40.70907244611649],[-74.0091399063537,40.709063923850366]]]]}',\n",
       " '{\"type\":\"MultiPolygon\",\"coordinates\":[[[[-74.00897581134984,40.70903905800609],[-74.00903183226978,40.7089936942293],[-74.00913080384431,40.70907244611649],[-74.00906423412208,40.70913453680295],[-74.00897581134984,40.70903905800609]]]]}',\n",
       " '{\"type\":\"MultiPolygon\",\"coordinates\":[[[[-74.0091399063537,40.709063923850366],[-74.00913080384431,40.70907244611649],[-74.00903183226978,40.7089936942293],[-74.00907054339471,40.708962348099995],[-74.00921694737151,40.709052172616715],[-74.00918149836778,40.70908873875191],[-74.0091399063537,40.709063923850366]]]]}',\n",
       " '{\"type\":\"MultiPolygon\",\"coordinates\":[[[[-74.00928109222302,40.70899963455541],[-74.0092321214701,40.70897984972454],[-74.00910990526121,40.70893047517741],[-74.00917444777225,40.70887820921023],[-74.00937930669309,40.708992294017655],[-74.00934590580862,40.70902581904059],[-74.00928109222302,40.70899963455541]]]]}',\n",
       " '{\"type\":\"MultiPolygon\",\"coordinates\":[[[[-74.00937930669309,40.708992294017655],[-74.00917444777225,40.70887820921023],[-74.00939061033124,40.70870205444863],[-74.00957882390587,40.70879144826992],[-74.00937930669309,40.708992294017655]]]]}',\n",
       " '{\"type\":\"MultiPolygon\",\"coordinates\":[[[[-74.00942276239522,40.70903320970979],[-74.00963449035221,40.70882069140079],[-74.00989394779113,40.7089381361219],[-74.00967591476457,40.7091639937817],[-74.00942276239522,40.70903320970979]]]]}',\n",
       " '{\"type\":\"MultiPolygon\",\"coordinates\":[[[[-74.00974063735495,40.709197430645325],[-74.00996328979163,40.70896952386321],[-74.01039821647315,40.70916688896063],[-74.01020638735737,40.7093953558821],[-74.00983876985403,40.70921904379207],[-74.00979961406057,40.70925912327688],[-74.00972088493495,40.70921764691248],[-74.00974063735495,40.709197430645325]]]]}',\n",
       " '{\"type\":\"MultiPolygon\",\"coordinates\":[[[[-74.00986803807736,40.7094201656582],[-74.00988236527522,40.709404012909744],[-74.00974314980091,40.70933875100702],[-74.00957308910395,40.709536453674154],[-74.00951116993028,40.70950487954462],[-74.00968943772307,40.709300144237],[-74.00962996495109,40.7092696623354],[-74.00957557040562,40.70924144211088],[-74.0095484457323,40.70927200214904],[-74.0094846389419,40.70923753490021],[-74.00941066630973,40.709198444214195],[-74.00931152374507,40.70914486181512],[-74.00942276239522,40.70903320970979],[-74.00967591476457,40.7091639937817],[-74.00974063735495,40.709197430645325],[-74.00972088493495,40.70921764691248],[-74.00979961406057,40.70925912327688],[-74.00983876985403,40.70921904379207],[-74.01020638735737,40.7093953558821],[-74.01008576395289,40.70953901548365],[-74.00986803807736,40.7094201656582]]]]}',\n",
       " '{\"type\":\"MultiPolygon\",\"coordinates\":[[[[-74.00945380125046,40.70946665930635],[-74.00962996495109,40.7092696623354],[-74.00968943772307,40.709300144237],[-74.00951116993028,40.70950487954462],[-74.00945380125046,40.70946665930635]]]]}',\n",
       " '{\"type\":\"MultiPolygon\",\"coordinates\":[[[[-74.00933172954828,40.70938289277021],[-74.0094846389419,40.70923753490021],[-74.0095484457323,40.70927200214904],[-74.00957557040562,40.70924144211088],[-74.00962996495109,40.7092696623354],[-74.00945380125046,40.70946665930635],[-74.00933172954828,40.70938289277021]]]]}',\n",
       " '{\"type\":\"MultiPolygon\",\"coordinates\":[[[[-74.00936569135196,40.70924523372728],[-74.00941066630973,40.709198444214195],[-74.0094846389419,40.70923753490021],[-74.00933172954828,40.70938289277021],[-74.00927725338587,40.70933723941667],[-74.00936569135196,40.70924523372728]]]]}',\n",
       " '{\"type\":\"MultiPolygon\",\"coordinates\":[[[[-74.00919162949535,40.70926548539032],[-74.00925332486361,40.70920327796991],[-74.00929197236192,40.70922581914815],[-74.00928583516064,40.70923257343272],[-74.009317765155,40.70925020563574],[-74.00931441075815,40.709253548583156],[-74.00933975355711,40.70926736943752],[-74.00936569135196,40.70924523372728],[-74.00927725338587,40.70933723941667],[-74.00919162949535,40.70926548539032]]]]}',\n",
       " '{\"type\":\"MultiPolygon\",\"coordinates\":[[[[-74.00941066630973,40.709198444214195],[-74.00936569135196,40.70924523372728],[-74.00933975355711,40.70926736943752],[-74.00931441075815,40.709253548583156],[-74.009317765155,40.70925020563574],[-74.00928583516064,40.70923257343272],[-74.00929197236192,40.70922581914815],[-74.00925332486361,40.70920327796991],[-74.00931152374507,40.70914486181512],[-74.00941066630973,40.709198444214195]]]]}',\n",
       " '{\"type\":\"MultiPolygon\",\"coordinates\":[[[[-74.00928109222302,40.70899963455541],[-74.00934590580862,40.70902581904059],[-74.00933893663301,40.70903281475647],[-74.00927575267492,40.70900728846924],[-74.00928109222302,40.70899963455541]]]]}',\n",
       " '{\"type\":\"MultiPolygon\",\"coordinates\":[[[[-74.00967591476457,40.7091639937817],[-74.00989394779113,40.7089381361219],[-74.00996328979163,40.70896952386321],[-74.00974063735495,40.709197430645325],[-74.00967591476457,40.7091639937817]]]]}',\n",
       " '{\"type\":\"MultiPolygon\",\"coordinates\":[[[[-74.01008576395289,40.70953901548365],[-74.00993377995661,40.70972002521673],[-74.00957308910395,40.709536453674154],[-74.00974314980091,40.70933875100702],[-74.00988236527522,40.709404012909744],[-74.00986803807736,40.7094201656582],[-74.01008576395289,40.70953901548365]]]]}',\n",
       " '{\"type\":\"MultiPolygon\",\"coordinates\":[[[[-74.00867006146792,40.70935709377303],[-74.00871802115705,40.709307977360496],[-74.00884959669763,40.709399184755135],[-74.00880595133516,40.70944637284567],[-74.00880237963752,40.70944445952663],[-74.00879816023848,40.70944906329755],[-74.00867006146792,40.70935709377303]]]]}',\n",
       " '{\"type\":\"MultiPolygon\",\"coordinates\":[[[[-74.00884959669763,40.709399184755135],[-74.00871802115705,40.709307977360496],[-74.00887958793385,40.70914251126282],[-74.0089831779912,40.70925476097489],[-74.00884959669763,40.709399184755135]]]]}',\n",
       " '{\"type\":\"MultiPolygon\",\"coordinates\":[[[[-74.00878579094964,40.70946276005868],[-74.00879816023848,40.70944906329755],[-74.00880237963752,40.70944445952663],[-74.00880595133516,40.70944637284567],[-74.00884959669763,40.709399184755135],[-74.0089831779912,40.70925476097489],[-74.009102444956,40.70936058964759],[-74.0089177048707,40.709550781277485],[-74.00878579094964,40.70946276005868]]]]}',\n",
       " '{\"type\":\"MultiPolygon\",\"coordinates\":[[[[-74.00890961417318,40.70980408258509],[-74.00904776829654,40.7096472655727],[-74.00898564524697,40.70960345061813],[-74.00883935692168,40.70975454899529],[-74.00877008578561,40.70970625891392],[-74.00891802911728,40.70955099743463],[-74.0089177048707,40.709550781277485],[-74.009102444956,40.70936058964759],[-74.00922227189717,40.709465572589906],[-74.00928018850622,40.70950462675179],[-74.00910378242256,40.709688819765574],[-74.00911080989593,40.709692810287095],[-74.00908965050454,40.709716034257355],[-74.00897038098715,40.70984693951027],[-74.00890961417318,40.70980408258509]]]]}',\n",
       " '{\"type\":\"MultiPolygon\",\"coordinates\":[[[[-74.00908965050454,40.709716034257355],[-74.00911080989593,40.709692810287095],[-74.00910378242256,40.709688819765574],[-74.00928018850622,40.70950462675179],[-74.00943021188176,40.70960445985574],[-74.00927015004724,40.70979187378506],[-74.00925828816995,40.709786190765],[-74.00923691830616,40.7098105601848],[-74.00908965050454,40.709716034257355]]]]}',\n",
       " '{\"type\":\"MultiPolygon\",\"coordinates\":[[[[-74.00967103899762,40.70972697549817],[-74.00983344627495,40.7098095973634],[-74.00978356396686,40.709866534380126],[-74.00962310580714,40.70978490551241],[-74.00967103899762,40.70972697549817]]]]}',\n",
       " '{\"type\":\"MultiPolygon\",\"coordinates\":[[[[-74.00930885015862,40.70989330322836],[-74.00920879220928,40.709842635824366],[-74.00923691830616,40.7098105601848],[-74.00925828816995,40.709786190765],[-74.00927015004724,40.70979187378506],[-74.00943021188176,40.70960445985574],[-74.00967103899762,40.70972697549817],[-74.00962310580714,40.70978490551241],[-74.00978356396686,40.709866534380126],[-74.00962144304779,40.71005159147204],[-74.00930885015862,40.70989330322836]]]]}',\n",
       " '{\"type\":\"MultiPolygon\",\"coordinates\":[[[[-74.00911536248556,40.709949183178],[-74.00897038098715,40.70984693951027],[-74.00908965050454,40.709716034257355],[-74.00923691830616,40.7098105601848],[-74.00920879220928,40.709842635824366],[-74.00911536248556,40.709949183178]]]]}',\n",
       " '{\"type\":\"MultiPolygon\",\"coordinates\":[[[[-74.00883935692168,40.70975454899529],[-74.00898564524697,40.70960345061813],[-74.00904776829654,40.7096472655727],[-74.00890961417318,40.70980408258509],[-74.00883935692168,40.70975454899529]]]]}',\n",
       " '{\"type\":\"MultiPolygon\",\"coordinates\":[[[[-74.00864410659102,40.709619658919976],[-74.00878579094964,40.70946276005868],[-74.0089177048707,40.709550781277485],[-74.00891802911728,40.70955099743463],[-74.00877008578561,40.70970625891392],[-74.00864410659102,40.709619658919976]]]]}',\n",
       " '{\"type\":\"MultiPolygon\",\"coordinates\":[[[[-74.00867006146792,40.70935709377303],[-74.00879816023848,40.70944906329755],[-74.00878579094964,40.70946276005868],[-74.00864410659102,40.709619658919976],[-74.00850625376786,40.709524852383645],[-74.00867006146792,40.70935709377303]]]]}',\n",
       " '{\"type\":\"MultiPolygon\",\"coordinates\":[[[[-74.00911536248556,40.709949183178],[-74.00920879220928,40.709842635824366],[-74.00930885015862,40.70989330322836],[-74.00962144304779,40.71005159147204],[-74.00957042452382,40.71010982883123],[-74.00948219865981,40.71021053357731],[-74.00911536248556,40.709949183178]]]]}',\n",
       " '{\"type\":\"MultiPolygon\",\"coordinates\":[[[[-74.00826826990442,40.70779811625921],[-74.00882959847586,40.708268268023566],[-74.00906356519243,40.708458714461145],[-74.00928013233035,40.70862569906827],[-74.00888577236145,40.70896283841344],[-74.00808951766368,40.70798217824959],[-74.00826826990442,40.70779811625921]]]]}',\n",
       " '{\"type\":\"MultiPolygon\",\"coordinates\":[[[[-74.00814055846953,40.70892353848901],[-74.0079469230513,40.70910793354465],[-74.0073848193152,40.708699598464],[-74.00796404827493,40.70812161259303],[-74.0085578882436,40.70876198492689],[-74.00828320366703,40.709040491354635],[-74.00818658086875,40.708961271245656],[-74.00814055846953,40.70892353848901]]]]}',\n",
       " '{\"type\":\"MultiPolygon\",\"coordinates\":[[[[-74.00828320366703,40.709040491354635],[-74.0085578882436,40.70876198492689],[-74.00881607071457,40.70906534685693],[-74.00842881303105,40.70945799331394],[-74.00811379379604,40.70922915523892],[-74.00829241829128,40.70904804691345],[-74.00828320366703,40.709040491354635]]]]}',\n",
       " '{\"type\":\"MultiPolygon\",\"coordinates\":[[[[-74.00811379379604,40.70922915523892],[-74.00799549658176,40.709143219450425],[-74.00818658086875,40.708961271245656],[-74.00828320366703,40.709040491354635],[-74.00829241829128,40.70904804691345],[-74.00811379379604,40.70922915523892]]]]}',\n",
       " '{\"type\":\"MultiPolygon\",\"coordinates\":[[[[-74.00818658086875,40.708961271245656],[-74.00799549658176,40.709143219450425],[-74.0079469230513,40.70910793354465],[-74.00814055846953,40.70892353848901],[-74.00818658086875,40.708961271245656]]]]}',\n",
       " '{\"type\":\"MultiPolygon\",\"coordinates\":[[[[-74.00729158010267,40.70770040433642],[-74.00730265155985,40.707689921744596],[-74.00721122134571,40.707648505672736],[-74.00721240335443,40.707646986397],[-74.00709481149612,40.70759154005525],[-74.00714877486402,40.70752615357235],[-74.0072414201842,40.70744482927178],[-74.00741594225586,40.70730930994689],[-74.00759442263859,40.707553047750594],[-74.00736028231888,40.70773627550401],[-74.00729158010267,40.70770040433642]]]]}',\n",
       " '{\"type\":\"MultiPolygon\",\"coordinates\":[[[[-74.00732304970049,40.70787235021959],[-74.00724584005364,40.70782387505816],[-74.00724147782968,40.70782113692155],[-74.0072502992828,40.70780524869788],[-74.00699893640076,40.707707712264536],[-74.00709481149612,40.70759154005525],[-74.00721240335443,40.707646986397],[-74.00721122134571,40.707648505672736],[-74.00730265155985,40.707689921744596],[-74.00729158010267,40.70770040433642],[-74.00736028231888,40.70773627550401],[-74.00759442263859,40.707553047750594],[-74.00777711310873,40.707802533865305],[-74.00765540217469,40.70791318280675],[-74.00758796142365,40.707870746084716],[-74.00747683614733,40.7079689023668],[-74.00735400004152,40.70789178224669],[-74.00732304970049,40.70787235021959]]]]}',\n",
       " '{\"type\":\"MultiPolygon\",\"coordinates\":[[[[-74.00756166263764,40.7080206510594],[-74.00751010254892,40.70798828007895],[-74.00750865526595,40.70798887818005],[-74.00747683614733,40.7079689023668],[-74.00758796142365,40.707870746084716],[-74.00765540217469,40.70791318280675],[-74.00777711310873,40.707802533865305],[-74.00791435787335,40.707989955089566],[-74.0077572514714,40.70814344730998],[-74.00756166263764,40.7080206510594]]]]}',\n",
       " '{\"type\":\"MultiPolygon\",\"coordinates\":[[[[-74.00732304970049,40.70787235021959],[-74.00719405704281,40.70802038732809],[-74.00689370313302,40.707835221530175],[-74.00694501055324,40.707773053663395],[-74.00721061116627,40.707876116689086],[-74.00724584005364,40.70782387505816],[-74.00732304970049,40.70787235021959]]]]}',\n",
       " '{\"type\":\"MultiPolygon\",\"coordinates\":[[[[-74.00724147782968,40.70782113692155],[-74.00724584005364,40.70782387505816],[-74.00721061116627,40.707876116689086],[-74.00694501055324,40.707773053663395],[-74.00699893640076,40.707707712264536],[-74.0072502992828,40.70780524869788],[-74.00724147782968,40.70782113692155]]]]}',\n",
       " '{\"type\":\"MultiPolygon\",\"coordinates\":[[[[-74.0068759977785,40.70836452844298],[-74.00708557423371,40.70807007493079],[-74.00754296412192,40.708349888451615],[-74.00727146948014,40.70861529251371],[-74.0068759977785,40.70836452844298]]]]}',\n",
       " '{\"type\":\"MultiPolygon\",\"coordinates\":[[[[-74.00661360248478,40.708198144370634],[-74.00678240586804,40.70801128644048],[-74.0068423825127,40.707921300597214],[-74.00708557423371,40.70807007493079],[-74.0068759977785,40.70836452844298],[-74.00661360248478,40.708198144370634]]]]}',\n",
       " '{\"type\":\"MultiPolygon\",\"coordinates\":[[[[-74.00719405704281,40.70802038732809],[-74.00732304970049,40.70787235021959],[-74.00735400004152,40.70789178224669],[-74.00747683614733,40.7079689023668],[-74.00750865526595,40.70798887818005],[-74.00751010254892,40.70798828007895],[-74.00756166263764,40.7080206510594],[-74.0077572514714,40.70814344730998],[-74.007616564037,40.70828111006088],[-74.00719405704281,40.70802038732809]]]]}',\n",
       " '{\"type\":\"MultiPolygon\",\"coordinates\":[[[[-74.00654190613851,40.707196175696794],[-74.00623908097367,40.70736093005636],[-74.00606952450308,40.707233541847344],[-74.00627654288162,40.707149448852796],[-74.00635473414775,40.70710601678392],[-74.00641854259594,40.70707057474373],[-74.00654190613851,40.707196175696794]]]]}',\n",
       " '{\"type\":\"MultiPolygon\",\"coordinates\":[[[[-74.00667548825048,40.707332180399405],[-74.00654190613851,40.707196175696794],[-74.00641854259594,40.70707057474373],[-74.00648638239592,40.707032892001465],[-74.00654962862373,40.70699776063736],[-74.0066296865889,40.70695192745136],[-74.00668303654965,40.706906718052096],[-74.00677509276096,40.706829905753466],[-74.00703638810677,40.70702730403026],[-74.00709015496379,40.707067904854654],[-74.0069356618428,40.70718788873021],[-74.00692618964739,40.7071807347335],[-74.00682007371012,40.7072442834547],[-74.0068361804241,40.70725790727801],[-74.0067618352528,40.70730242998157],[-74.00674925271923,40.70728996315305],[-74.00667548825048,40.707332180399405]]]]}',\n",
       " '{\"type\":\"MultiPolygon\",\"coordinates\":[[[[-74.00654762762228,40.7075910380252],[-74.00673324165379,40.70745479061468],[-74.00665990072494,40.70738786427136],[-74.00662863976892,40.707358992071704],[-74.00667548825048,40.707332180399405],[-74.00674925271923,40.70728996315305],[-74.0067618352528,40.70730242998157],[-74.0068361804241,40.70725790727801],[-74.00682007371012,40.7072442834547],[-74.00692618964739,40.7071807347335],[-74.0069356618428,40.70718788873021],[-74.00709015496379,40.707067904854654],[-74.00735135990969,40.70726506557295],[-74.00718222633193,40.70739642057279],[-74.0070730204866,40.70748123255393],[-74.00707681940608,40.70748549620931],[-74.00702215373663,40.70752225097462],[-74.00697790016505,40.70757085137386],[-74.00682785762841,40.70779958760499],[-74.00654762762228,40.7075910380252]]]]}',\n",
       " '{\"type\":\"MultiPolygon\",\"coordinates\":[[[[-73.99531132179308,40.678500285007225],[-73.9955184696451,40.67825377101314],[-73.99557426298936,40.67828078230883],[-73.99553567709535,40.67832670149676],[-73.99553775526805,40.67832770836384],[-73.99536919464106,40.678528304191445],[-73.99531132179308,40.678500285007225]]]]}',\n",
       " '{\"type\":\"MultiPolygon\",\"coordinates\":[[[[-73.99524823290416,40.67846974141709],[-73.99545537968605,40.67822322569537],[-73.99551131736887,40.67825030822287],[-73.9955184696451,40.67825377101314],[-73.99531132179308,40.678500285007225],[-73.99524823290416,40.67846974141709]]]]}',\n",
       " '{\"type\":\"MultiPolygon\",\"coordinates\":[[[[-73.99519431430474,40.67844363769018],[-73.99540146230504,40.678197122148504],[-73.99545028074898,40.67822075813877],[-73.99545537968605,40.67822322569537],[-73.99524823290416,40.67846974141709],[-73.99519431430474,40.67844363769018]]]]}',\n",
       " '{\"type\":\"MultiPolygon\",\"coordinates\":[[[[-73.99540146230504,40.678197122148504],[-73.99519431430474,40.67844363769018],[-73.99513535933328,40.67841509523456],[-73.99534250636256,40.67816857971429],[-73.99538615473716,40.678189712109585],[-73.99540146230504,40.678197122148504]]]]}',\n",
       " '{\"type\":\"MultiPolygon\",\"coordinates\":[[[[-73.99534250636256,40.67816857971429],[-73.99513535933328,40.67841509523456],[-73.99507965121703,40.67838812422343],[-73.99528679836838,40.6781416088026],[-73.9953272721019,40.67816120388807],[-73.99534250636256,40.67816857971429]]]]}',\n",
       " '{\"type\":\"MultiPolygon\",\"coordinates\":[[[[-73.99503252123561,40.67801850209904],[-73.99511762715898,40.67805970618359],[-73.99491047842669,40.678306220297245],[-73.99482537352705,40.67826501614463],[-73.99503252123561,40.67801850209904]]]]}',\n",
       " '{\"type\":\"MultiPolygon\",\"coordinates\":[[[[-73.9949482529647,40.67797770416604],[-73.99503252123561,40.67801850209904],[-73.99482537352705,40.67826501614463],[-73.99474110507147,40.67822421806123],[-73.9949482529647,40.67797770416604]]]]}',\n",
       " '{\"type\":\"MultiPolygon\",\"coordinates\":[[[[-73.99474110507147,40.67822421806123],[-73.9946599721898,40.67818493835647],[-73.99486712136115,40.67793842368477],[-73.9949482529647,40.67797770416604],[-73.99474110507147,40.67822421806123]]]]}',\n",
       " '{\"type\":\"MultiPolygon\",\"coordinates\":[[[[-73.99478309932476,40.677897744524614],[-73.99486712136115,40.67793842368477],[-73.9946599721898,40.67818493835647],[-73.99457595106958,40.67814425812634],[-73.99478309932476,40.677897744524614]]]]}',\n",
       " '{\"type\":\"MultiPolygon\",\"coordinates\":[[[[-73.99469985669558,40.67785744265487],[-73.99478309932476,40.677897744524614],[-73.99457595106958,40.67814425812634],[-73.9944927082579,40.678103956943005],[-73.99469985669558,40.67785744265487]]]]}',\n",
       " '{\"type\":\"MultiPolygon\",\"coordinates\":[[[[-73.99461771894987,40.67781767562493],[-73.99469985669558,40.67785744265487],[-73.9944927082579,40.678103956943005],[-73.99441057033044,40.67806418985154],[-73.99461771894987,40.67781767562493]]]]}',\n",
       " '{\"type\":\"MultiPolygon\",\"coordinates\":[[[[-73.99441057033044,40.67806418985154],[-73.99435410338461,40.678036851008414],[-73.99456125333624,40.67779033780273],[-73.99461771894987,40.67781767562493],[-73.99441057033044,40.67806418985154]]]]}',\n",
       " '{\"type\":\"MultiPolygon\",\"coordinates\":[[[[-73.99428719863228,40.678004457942215],[-73.9944943475202,40.677757945775994],[-73.99456125333624,40.67779033780273],[-73.99435410338461,40.678036851008414],[-73.99428719863228,40.678004457942215]]]]}',\n",
       " '{\"type\":\"MultiPolygon\",\"coordinates\":[[[[-73.99422847980864,40.677976029313285],[-73.99443562882703,40.67772951641553],[-73.99446437133115,40.67774343168632],[-73.9944943475202,40.677757945775994],[-73.99428719863228,40.678004457942215],[-73.99422847980864,40.677976029313285]]]]}',\n",
       " '{\"type\":\"MultiPolygon\",\"coordinates\":[[[[-73.99437519873321,40.67770025843848],[-73.99443562882703,40.67772951641553],[-73.99422847980864,40.677976029313285],[-73.9941680495823,40.67794677214846],[-73.99437519873321,40.67770025843848]]]]}',\n",
       " '{\"type\":\"MultiPolygon\",\"coordinates\":[[[[-73.99437519873321,40.67770025843848],[-73.9941680495823,40.67794677214846],[-73.99410663176585,40.677917035768715],[-73.99427750145784,40.677713697208475],[-73.99431378225982,40.677670523089816],[-73.99437519873321,40.67770025843848]]]]}',\n",
       " '{\"type\":\"MultiPolygon\",\"coordinates\":[[[[-73.99427750145784,40.677713697208475],[-73.99410663176585,40.677917035768715],[-73.994046571847,40.67788795776262],[-73.99421744274609,40.67768461920712],[-73.99427750145784,40.677713697208475]]]]}',\n",
       " '{\"type\":\"MultiPolygon\",\"coordinates\":[[[[-73.99415911816972,40.6776563814777],[-73.99421744274609,40.67768461920712],[-73.994046571847,40.67788795776262],[-73.99398824837374,40.67785971994742],[-73.99415911816972,40.6776563814777]]]]}',\n",
       " '{\"type\":\"MultiPolygon\",\"coordinates\":[[[[-73.99409854750014,40.6776270558315],[-73.99415911816972,40.6776563814777],[-73.99398824837374,40.67785971994742],[-73.99392767880504,40.677830393292],[-73.99409854750014,40.6776270558315]]]]}',\n",
       " '{\"type\":\"MultiPolygon\",\"coordinates\":[[[[-73.99399990725522,40.677579297304604],[-73.99409854750014,40.6776270558315],[-73.99392767880504,40.677830393292],[-73.99385422415982,40.67779482976445],[-73.99399990725522,40.677579297304604]]]]}',\n",
       " '{\"type\":\"MultiPolygon\",\"coordinates\":[[[[-73.99421744274609,40.67768461920712],[-73.99415911816972,40.6776563814777],[-73.99409854750014,40.6776270558315],[-73.99399990725522,40.677579297304604],[-73.99418723585075,40.677302148248984],[-73.99434180867068,40.67737698611835],[-73.99415837136516,40.677595279883974],[-73.99431378225982,40.677670523089816],[-73.99427750145784,40.677713697208475],[-73.99421744274609,40.67768461920712]]]]}',\n",
       " '{\"type\":\"MultiPolygon\",\"coordinates\":[[[[-73.99434180867068,40.67737698611835],[-73.99449721574818,40.67745222907706],[-73.99431378225982,40.677670523089816],[-73.99415837136516,40.677595279883974],[-73.99434180867068,40.67737698611835]]]]}',\n",
       " '{\"type\":\"MultiPolygon\",\"coordinates\":[[[[-73.99443562882703,40.67772951641553],[-73.99437519873321,40.67770025843848],[-73.99431378225982,40.677670523089816],[-73.99449721574818,40.67745222907706],[-73.99464780573581,40.67752513743692],[-73.99446437133115,40.67774343168632],[-73.99443562882703,40.67772951641553]]]]}',\n",
       " '{\"type\":\"MultiPolygon\",\"coordinates\":[[[[-73.99456125333624,40.67779033780273],[-73.9944943475202,40.677757945775994],[-73.99446437133115,40.67774343168632],[-73.99464780573581,40.67752513743692],[-73.99480115415545,40.67759938113319],[-73.99461771894987,40.67781767562493],[-73.99456125333624,40.67779033780273]]]]}',\n",
       " '{\"type\":\"MultiPolygon\",\"coordinates\":[[[[-73.99532690633843,40.67785392282865],[-73.99514347215147,40.67807221815135],[-73.99511762715898,40.67805970618359],[-73.99503252123561,40.67801850209904],[-73.9949482529647,40.67797770416604],[-73.99486712136115,40.67793842368477],[-73.99478309932476,40.677897744524614],[-73.99469985669558,40.67785744265487],[-73.99461771894987,40.67781767562493],[-73.99480115415545,40.67759938113319],[-73.99532690633843,40.67785392282865]]]]}',\n",
       " '{\"type\":\"MultiPolygon\",\"coordinates\":[[[[-73.99514347215147,40.67807221815135],[-73.99532690633843,40.67785392282865],[-73.99538905790638,40.67788401331111],[-73.99520562505029,40.67810230873341],[-73.9951997820947,40.67809948088678],[-73.99514347215147,40.67807221815135]]]]}',\n",
       " '{\"type\":\"MultiPolygon\",\"coordinates\":[[[[-73.99538905790638,40.67788401331111],[-73.99544803504364,40.677912566517186],[-73.995264602192,40.67813086203137],[-73.99520562505029,40.67810230873341],[-73.99538905790638,40.67788401331111]]]]}',\n",
       " '{\"type\":\"MultiPolygon\",\"coordinates\":[[[[-73.99528679836838,40.6781416088026],[-73.995264602192,40.67813086203137],[-73.99544803504364,40.677912566517186],[-73.99551070593216,40.677942908274865],[-73.9953272721019,40.67816120388807],[-73.99528679836838,40.6781416088026]]]]}',\n",
       " '{\"type\":\"MultiPolygon\",\"coordinates\":[[[[-73.99534250636256,40.67816857971429],[-73.9953272721019,40.67816120388807],[-73.99551070593216,40.677942908274865],[-73.99556958845149,40.67797141548323],[-73.99538615473716,40.678189712109585],[-73.99534250636256,40.67816857971429]]]]}',\n",
       " '{\"type\":\"MultiPolygon\",\"coordinates\":[[[[-73.99538615473716,40.678189712109585],[-73.99556958845149,40.67797141548323],[-73.99563371313026,40.678002462331094],[-73.99545028074898,40.67822075813877],[-73.99540146230504,40.678197122148504],[-73.99538615473716,40.678189712109585]]]]}',\n",
       " '{\"type\":\"MultiPolygon\",\"coordinates\":[[[[-73.99545028074898,40.67822075813877],[-73.99563371313026,40.678002462331094],[-73.99569475084192,40.67803201231875],[-73.99551131736887,40.67825030822287],[-73.99545537968605,40.67822322569537],[-73.99545028074898,40.67822075813877]]]]}',\n",
       " '{\"type\":\"MultiPolygon\",\"coordinates\":[[[[-73.9955184696451,40.67825377101314],[-73.99551131736887,40.67825030822287],[-73.99569475084192,40.67803201231875],[-73.99575769524003,40.6780624863039],[-73.99569362831943,40.67813873028991],[-73.99565382183556,40.67818610283848],[-73.99561205986613,40.67823580234341],[-73.99557426298936,40.67828078230883],[-73.9955184696451,40.67825377101314]]]]}',\n",
       " '{\"type\":\"MultiPolygon\",\"coordinates\":[[[[-73.9958085604997,40.678458814711746],[-73.99576815853037,40.678439254101725],[-73.99570822521515,40.67841023812564],[-73.99565087274921,40.67838247220833],[-73.9955950733547,40.678355457269575],[-73.99553775526805,40.67832770836384],[-73.99553567709535,40.67832670149676],[-73.99557426298936,40.67828078230883],[-73.99561205986613,40.67823580234341],[-73.99590926472402,40.67837968863681],[-73.99585966437708,40.678483555533106],[-73.9958085604997,40.678458814711746]]]]}',\n",
       " '{\"type\":\"MultiPolygon\",\"coordinates\":[[[[-73.99528679836838,40.6781416088026],[-73.99507965121703,40.67838812422343],[-73.99499263354244,40.678345995230835],[-73.9951997820947,40.67809948088678],[-73.99520562505029,40.67810230873341],[-73.995264602192,40.67813086203137],[-73.99528679836838,40.6781416088026]]]]}',\n",
       " '{\"type\":\"MultiPolygon\",\"coordinates\":[[[[-73.9951997820947,40.67809948088678],[-73.99499263354244,40.678345995230835],[-73.99491047842669,40.678306220297245],[-73.99511762715898,40.67805970618359],[-73.99514347215147,40.67807221815135],[-73.9951997820947,40.67809948088678]]]]}',\n",
       " '{\"type\":\"MultiPolygon\",\"coordinates\":[[[[-73.99368396062879,40.677551257699754],[-73.99362712662385,40.677523846444195],[-73.9935426137931,40.67748308444233],[-73.99347865726632,40.677452238144376],[-73.99341165648595,40.677419922031625],[-73.99336418650763,40.67739702632777],[-73.99336770227201,40.677392808570865],[-73.99348345209917,40.67725394904717],[-73.99365129614254,40.67705259232983],[-73.99403346314595,40.677238075866725],[-73.99387010381284,40.677478867763746],[-73.99376255453863,40.67743541293149],[-73.99368396062879,40.677551257699754]]]]}',\n",
       " '{\"type\":\"MultiPolygon\",\"coordinates\":[[[[-73.99368396062879,40.677551257699754],[-73.99376255453863,40.67743541293149],[-73.99387010381284,40.677478867763746],[-73.99371017024238,40.677714605871685],[-73.99360692335776,40.67766480799972],[-73.99368396062879,40.677551257699754]]]]}',\n",
       " '{\"type\":\"MultiPolygon\",\"coordinates\":[[[[-73.99301510082083,40.67702841348311],[-73.99318379264619,40.6768256877867],[-73.99365129614254,40.67705259232983],[-73.99348345209917,40.67725394904717],[-73.99336770227201,40.677392808570865],[-73.99336418650763,40.67739702632777],[-73.99341165648595,40.677419922031625],[-73.99347865726632,40.677452238144376],[-73.9935426137931,40.67748308444233],[-73.99362712662385,40.677523846444195],[-73.99368396062879,40.677551257699754],[-73.99360692335776,40.67766480799972],[-73.99353763715952,40.677631390510854],[-73.99345312413722,40.677590628360065],[-73.99338916875897,40.67755978201286],[-73.99332216670369,40.677527465848364],[-73.9932186199787,40.677477523459196],[-73.99280670754892,40.67727884824574],[-73.99301510082083,40.67702841348311]]]]}',\n",
       " '{\"type\":\"MultiPolygon\",\"coordinates\":[[[[-73.99280459316083,40.6769740398129],[-73.99262397778116,40.677190713143446],[-73.99256885472518,40.67716412637955],[-73.99274947021357,40.676947453134765],[-73.99280459316083,40.6769740398129]]]]}',\n",
       " '{\"type\":\"MultiPolygon\",\"coordinates\":[[[[-73.99250434910579,40.677133012035426],[-73.9926849646077,40.67691633897349],[-73.99274947021357,40.676947453134765],[-73.99256885472518,40.67716412637955],[-73.99250434910579,40.677133012035426]]]]}',\n",
       " '{\"type\":\"MultiPolygon\",\"coordinates\":[[[[-73.99226048437977,40.677015389416994],[-73.99244110035521,40.67679871673588],[-73.99262621082308,40.67688800138127],[-73.9926849646077,40.67691633897349],[-73.99250434910579,40.677133012035426],[-73.99226048437977,40.677015389416994]]]]}',\n",
       " '{\"type\":\"MultiPolygon\",\"coordinates\":[[[[-73.99239814784463,40.67644436372774],[-73.99282380070696,40.67665096221733],[-73.99262621082308,40.67688800138127],[-73.99244110035521,40.67679871673588],[-73.99226048437977,40.677015389416994],[-73.99201917162472,40.67689899478075],[-73.99239814784463,40.67644436372774]]]]}',\n",
       " '{\"type\":\"MultiPolygon\",\"coordinates\":[[[[-73.99262621082308,40.67688800138127],[-73.99282380070696,40.67665096221733],[-73.9928824467742,40.67667942670156],[-73.9926849646077,40.67691633897349],[-73.99262621082308,40.67688800138127]]]]}',\n",
       " '{\"type\":\"MultiPolygon\",\"coordinates\":[[[[-73.9926849646077,40.67691633897349],[-73.9928824467742,40.67667942670156],[-73.99294683981019,40.67671067945608],[-73.99274947021357,40.676947453134765],[-73.9926849646077,40.67691633897349]]]]}',\n",
       " '{\"type\":\"MultiPolygon\",\"coordinates\":[[[[-73.99280459316083,40.6769740398129],[-73.99274947021357,40.676947453134765],[-73.99294683981019,40.67671067945608],[-73.99300186329175,40.676737386758674],[-73.99280459316083,40.6769740398129]]]]}',\n",
       " '{\"type\":\"MultiPolygon\",\"coordinates\":[[[[-73.99300186329175,40.676737386758674],[-73.99306276736195,40.67676694625457],[-73.99286560737359,40.6770034689076],[-73.99280459316083,40.6769740398129],[-73.99300186329175,40.676737386758674]]]]}',\n",
       " '{\"type\":\"MultiPolygon\",\"coordinates\":[[[[-73.99292709940676,40.677033128486244],[-73.99286560737359,40.6770034689076],[-73.99306276736195,40.67676694625457],[-73.99312414815458,40.67679673899521],[-73.99292709940676,40.677033128486244]]]]}',\n",
       " '{\"type\":\"MultiPolygon\",\"coordinates\":[[[[-73.99318379264619,40.6768256877867],[-73.99301510082083,40.67702841348311],[-73.99280670754892,40.67727884824574],[-73.99262397778116,40.677190713143446],[-73.99280459316083,40.6769740398129],[-73.99286560737359,40.6770034689076],[-73.99292709940676,40.677033128486244],[-73.99312414815458,40.67679673899521],[-73.99318379264619,40.6768256877867]]]]}',\n",
       " '{\"type\":\"MultiPolygon\",\"coordinates\":[[[[-73.99188339796862,40.67682813542483],[-73.9911778641473,40.676483318275785],[-73.99129041492675,40.67634554494542],[-73.99144347661655,40.676420351465666],[-73.99156456672577,40.67627212357808],[-73.99211703735844,40.676542131106416],[-73.99188339796862,40.67682813542483]]]]}',\n",
       " '{\"type\":\"MultiPolygon\",\"coordinates\":[[[[-73.99105502576376,40.67642328308407],[-73.99145577152052,40.67593272635799],[-73.99153782111982,40.67594520465609],[-73.99190672454633,40.67600130947974],[-73.99188750037746,40.67604215895766],[-73.99186633211339,40.67605085455334],[-73.99165225682783,40.676020727566474],[-73.99137157712002,40.67636384237287],[-73.99130289075727,40.67633027231612],[-73.99129041492675,40.67634554494542],[-73.9911778641473,40.676483318275785],[-73.99105502576376,40.67642328308407]]]]}',\n",
       " '{\"type\":\"MultiPolygon\",\"coordinates\":[[[[-73.99045357385614,40.67612932797794],[-73.99050741518776,40.67606751405596],[-73.99072252519893,40.67582054555368],[-73.99078299188011,40.67582632642182],[-73.99099297625597,40.67584640142322],[-73.99118761189162,40.67588270652658],[-73.99145577152052,40.67593272635799],[-73.99105502576376,40.67642328308407],[-73.99045357385614,40.67612932797794]]]]}',\n",
       " '{\"type\":\"MultiPolygon\",\"coordinates\":[[[[-73.99216655584505,40.67603265939537],[-73.99216567789466,40.67603599667791],[-73.99217083640943,40.67603680269894],[-73.9921674362764,40.67604899479843],[-73.99224334292236,40.6760598917976],[-73.99248288582189,40.676094282450315],[-73.99222837967447,40.676405832732755],[-73.99190899440657,40.67624974044874],[-73.99198418640104,40.67615769634269],[-73.99193484756968,40.67606059769438],[-73.99194935042398,40.67600657426739],[-73.99216655584505,40.67603265939537]]]]}',\n",
       " '{\"type\":\"MultiPolygon\",\"coordinates\":[[[[-73.99129041492675,40.67634554494542],[-73.99130289075727,40.67633027231612],[-73.99137157712002,40.67636384237287],[-73.99165225682783,40.676020727566474],[-73.99186633211339,40.67605085455334],[-73.99188750037746,40.67604215895766],[-73.99190672454633,40.67600130947974],[-73.99194935042398,40.67600657426739],[-73.99193484756968,40.67606059769438],[-73.99198418640104,40.67615769634269],[-73.99190899440657,40.67624974044874],[-73.99222837967447,40.676405832732755],[-73.99211703735844,40.676542131106416],[-73.99156456672577,40.67627212357808],[-73.99144347661655,40.676420351465666],[-73.99129041492675,40.67634554494542]]]]}',\n",
       " '{\"type\":\"MultiPolygon\",\"coordinates\":[[[[-73.99766043866823,40.67798569668803],[-73.99769005288599,40.67792384475389],[-73.99787548587186,40.67797590819942],[-73.99784587290142,40.678037760180835],[-73.99766043866823,40.67798569668803]]]]}',\n",
       " '{\"type\":\"MultiPolygon\",\"coordinates\":[[[[-73.99766043866823,40.67798569668803],[-73.99784587290142,40.678037760180835],[-73.99782420789931,40.67808301143917],[-73.99751486452891,40.677996157373805],[-73.99753652971258,40.677950907177035],[-73.99766043866823,40.67798569668803]]]]}',\n",
       " '{\"type\":\"MultiPolygon\",\"coordinates\":[[[[-73.99747675537297,40.67807575284306],[-73.99751486452891,40.677996157373805],[-73.99782420789931,40.67808301143917],[-73.99778609917283,40.678162606926115],[-73.99747675537297,40.67807575284306]]]]}',\n",
       " '{\"type\":\"MultiPolygon\",\"coordinates\":[[[[-73.99778609917283,40.678162606926115],[-73.9977500817186,40.67823783413916],[-73.99747217332413,40.67815980842104],[-73.99744073289268,40.678150980796424],[-73.99747675537297,40.67807575284306],[-73.99778609917283,40.678162606926115]]]]}',\n",
       " '{\"type\":\"MultiPolygon\",\"coordinates\":[[[[-73.99744732831735,40.67821170167483],[-73.99747217332413,40.67815980842104],[-73.9977500817186,40.67823783413916],[-73.99772523568859,40.678289729208785],[-73.99744732831735,40.67821170167483]]]]}',\n",
       " '{\"type\":\"MultiPolygon\",\"coordinates\":[[[[-73.99772523568859,40.678289729208785],[-73.9976982531919,40.678346084557504],[-73.99742034682602,40.67826805687528],[-73.99744732831735,40.67821170167483],[-73.99772523568859,40.678289729208785]]]]}',\n",
       " '{\"type\":\"MultiPolygon\",\"coordinates\":[[[[-73.99739680888275,40.67831721625678],[-73.99742034682602,40.67826805687528],[-73.9976982531919,40.678346084557504],[-73.99767471663611,40.67839524483168],[-73.99739680888275,40.67831721625678]]]]}',\n",
       " '{\"type\":\"MultiPolygon\",\"coordinates\":[[[[-73.99746639502314,40.6783985557753],[-73.99737072639655,40.678371694771506],[-73.99739680888275,40.67831721625678],[-73.99767471663611,40.67839524483168],[-73.99764863434635,40.67844972257248],[-73.99746639502314,40.6783985557753]]]]}',\n",
       " '{\"type\":\"MultiPolygon\",\"coordinates\":[[[[-73.99764863434635,40.67844972257248],[-73.99762216275084,40.67850500989134],[-73.99743969745258,40.67845431397843],[-73.99746639502314,40.6783985557753],[-73.99764863434635,40.67844972257248]]]]}',\n",
       " '{\"type\":\"MultiPolygon\",\"coordinates\":[[[[-73.99746639502314,40.6783985557753],[-73.99743969745258,40.67845431397843],[-73.99734390808712,40.67842770694603],[-73.99737072639655,40.678371694771506],[-73.99746639502314,40.6783985557753]]]]}',\n",
       " '{\"type\":\"MultiPolygon\",\"coordinates\":[[[[-73.99740631427001,40.67814131655915],[-73.99744073289268,40.678150980796424],[-73.99747217332413,40.67815980842104],[-73.99744732831735,40.67821170167483],[-73.99742034682602,40.67826805687528],[-73.99739680888275,40.67831721625678],[-73.99737072639655,40.678371694771506],[-73.99734390808712,40.67842770694603],[-73.99727797066389,40.67840938793696],[-73.99740631427001,40.67814131655915]]]]}',\n",
       " '{\"type\":\"MultiPolygon\",\"coordinates\":[[[[-73.99719034166014,40.6783850439432],[-73.99731879437252,40.67811674393378],[-73.99733644553089,40.67812170081692],[-73.99740631427001,40.67814131655915],[-73.99727797066389,40.67840938793696],[-73.99719034166014,40.6783850439432]]]]}',\n",
       " '{\"type\":\"MultiPolygon\",\"coordinates\":[[[[-73.99703810739236,40.67834273474505],[-73.99716674394703,40.67807405399733],[-73.99723425767881,40.67809300877181],[-73.99710570169546,40.67836151582999],[-73.99703810739236,40.67834273474505]]]]}',\n",
       " '{\"type\":\"MultiPolygon\",\"coordinates\":[[[[-73.99697251079164,40.67832450918765],[-73.99710122802256,40.67805565834753],[-73.99714645285889,40.67806835678046],[-73.99716674394703,40.67807405399733],[-73.99703810739236,40.67834273474505],[-73.99697251079164,40.67832450918765]]]]}',\n",
       " '{\"type\":\"MultiPolygon\",\"coordinates\":[[[[-73.99690010717919,40.678304391559394],[-73.99702891467118,40.67803535524054],[-73.99708415183453,40.67805086533523],[-73.99710122802256,40.67805565834753],[-73.99697251079164,40.67832450918765],[-73.99690010717919,40.678304391559394]]]]}',\n",
       " '{\"type\":\"MultiPolygon\",\"coordinates\":[[[[-73.99683464087083,40.67828620198467],[-73.9969635289308,40.67801699732982],[-73.9970144595458,40.67803129709091],[-73.99702891467118,40.67803535524054],[-73.99690010717919,40.678304391559394],[-73.99683464087083,40.67828620198467]]]]}',\n",
       " '{\"type\":\"MultiPolygon\",\"coordinates\":[[[[-73.99676352072896,40.67826644171028],[-73.99689249651898,40.67799705350068],[-73.99695115674032,40.6780135237741],[-73.9969635289308,40.67801699732982],[-73.99683464087083,40.67828620198467],[-73.99676352072896,40.67826644171028]]]]}',\n",
       " '{\"type\":\"MultiPolygon\",\"coordinates\":[[[[-73.99669985106124,40.678248751070136],[-73.99682890642138,40.67797919904071],[-73.99687690956246,40.67799267655047],[-73.99689249651898,40.67799705350068],[-73.99676352072896,40.67826644171028],[-73.99669985106124,40.678248751070136]]]]}',\n",
       " '{\"type\":\"MultiPolygon\",\"coordinates\":[[[[-73.99682890642138,40.67797919904071],[-73.99669985106124,40.678248751070136],[-73.99662855825535,40.6782289430206],[-73.99675770266536,40.67795920735177],[-73.99677614614166,40.67796438579614],[-73.99682890642138,40.67797919904071]]]]}',\n",
       " '{\"type\":\"MultiPolygon\",\"coordinates\":[[[[-73.99656470899096,40.67821120176823],[-73.99669423439649,40.6779413860345],[-73.99671228281684,40.677946454714],[-73.99675770266536,40.67795920735177],[-73.99662855825535,40.6782289430206],[-73.99656470899096,40.67821120176823]]]]}',\n",
       " '{\"type\":\"MultiPolygon\",\"coordinates\":[[[[-73.99669423439649,40.6779413860345],[-73.99656470899096,40.67821120176823],[-73.9965088613804,40.678195685130554],[-73.99663845566803,40.67792572531044],[-73.99669423439649,40.6779413860345]]]]}',\n",
       " '{\"type\":\"MultiPolygon\",\"coordinates\":[[[[-73.99651726153934,40.6775945543342],[-73.99676416051403,40.67766388432613],[-73.99663845566803,40.67792572531044],[-73.9965088613804,40.678195685130554],[-73.99626558960067,40.67812809086333],[-73.99651726153934,40.6775945543342]]]]}',\n",
       " '{\"type\":\"MultiPolygon\",\"coordinates\":[[[[-73.99669423439649,40.6779413860345],[-73.99663845566803,40.67792572531044],[-73.99676416051403,40.67766388432613],[-73.99683769763784,40.6776845262968],[-73.99671228281684,40.677946454714],[-73.99669423439649,40.6779413860345]]]]}',\n",
       " '{\"type\":\"MultiPolygon\",\"coordinates\":[[[[-73.99671228281684,40.677946454714],[-73.99683769763784,40.6776845262968],[-73.99690156074738,40.677702457311305],[-73.99677614614166,40.67796438579614],[-73.99675770266536,40.67795920735177],[-73.99671228281684,40.677946454714]]]]}',\n",
       " '{\"type\":\"MultiPolygon\",\"coordinates\":[[[[-73.99689249651898,40.67799705350068],[-73.99687690956246,40.67799267655047],[-73.99700232261549,40.67773074887692],[-73.99707656954106,40.677751595936606],[-73.99695115674032,40.6780135237741],[-73.99689249651898,40.67799705350068]]]]}',\n",
       " '{\"type\":\"MultiPolygon\",\"coordinates\":[[[[-73.9969635289308,40.67801699732982],[-73.99695115674032,40.6780135237741],[-73.99707656954106,40.677751595936606],[-73.99713987333996,40.67776936926891],[-73.9970144595458,40.67803129709091],[-73.9969635289308,40.67801699732982]]]]}',\n",
       " '{\"type\":\"MultiPolygon\",\"coordinates\":[[[[-73.99702891467118,40.67803535524054],[-73.9970144595458,40.67803129709091],[-73.99713987333996,40.67776936926891],[-73.99720956418335,40.67778893743795],[-73.99708415183453,40.67805086533523],[-73.99702891467118,40.67803535524054]]]]}',\n",
       " '{\"type\":\"MultiPolygon\",\"coordinates\":[[[[-73.99710122802256,40.67805565834753],[-73.99708415183453,40.67805086533523],[-73.99720956418335,40.67778893743795],[-73.997271864996,40.677806429652264],[-73.99714645285889,40.67806835678046],[-73.99710122802256,40.67805565834753]]]]}',\n",
       " '{\"type\":\"MultiPolygon\",\"coordinates\":[[[[-73.99723425767881,40.67809300877181],[-73.99716674394703,40.67807405399733],[-73.99714645285889,40.67806835678046],[-73.997271864996,40.677806429652264],[-73.99737322562798,40.67783488931854],[-73.99724781383536,40.67809681563475],[-73.99723425767881,40.67809300877181]]]]}',\n",
       " '{\"type\":\"MultiPolygon\",\"coordinates\":[[[[-73.99724781383536,40.67809681563475],[-73.99737322562798,40.67783488931854],[-73.99746185702239,40.67785977440501],[-73.99733644553089,40.67812170081692],[-73.99731879437252,40.67811674393378],[-73.99724781383536,40.67809681563475]]]]}',\n",
       " '{\"type\":\"MultiPolygon\",\"coordinates\":[[[[-73.99733644553089,40.67812170081692],[-73.99746185702239,40.67785977440501],[-73.99756614413978,40.67788905519072],[-73.99753652971258,40.677950907177035],[-73.99751486452891,40.677996157373805],[-73.99747675537297,40.67807575284306],[-73.99744073289268,40.678150980796424],[-73.99740631427001,40.67814131655915],[-73.99733644553089,40.67812170081692]]]]}',\n",
       " '{\"type\":\"MultiPolygon\",\"coordinates\":[[[[-73.99769005288599,40.67792384475389],[-73.99766043866823,40.67798569668803],[-73.99753652971258,40.677950907177035],[-73.99756614413978,40.67788905519072],[-73.99769005288599,40.67792384475389]]]]}',\n",
       " '{\"type\":\"MultiPolygon\",\"coordinates\":[[[[-73.99700232261549,40.67773074887692],[-73.99687690956246,40.67799267655047],[-73.99682890642138,40.67797919904071],[-73.99677614614166,40.67796438579614],[-73.99690156074738,40.677702457311305],[-73.99700232261549,40.67773074887692]]]]}',\n",
       " '{\"type\":\"MultiPolygon\",\"coordinates\":[[[[-73.99710570169546,40.67836151582999],[-73.99723425767881,40.67809300877181],[-73.99724781383536,40.67809681563475],[-73.99731879437252,40.67811674393378],[-73.99719034166014,40.6783850439432],[-73.99710570169546,40.67836151582999]]]]}',\n",
       " '{\"type\":\"MultiPolygon\",\"coordinates\":[[[[-73.99633297553373,40.67750349566909],[-73.9963109217259,40.6775495850039],[-73.99600667211787,40.67746726024921],[-73.99607905028215,40.677381124321265],[-73.99633297553373,40.67750349566909]]]]}',\n",
       " '{\"type\":\"MultiPolygon\",\"coordinates\":[[[[-73.99595005476466,40.677534639036296],[-73.99600667211787,40.67746726024921],[-73.9963109217259,40.6775495850039],[-73.99627588480251,40.677622801826125],[-73.99595005476466,40.677534639036296]]]]}',\n",
       " '{\"type\":\"MultiPolygon\",\"coordinates\":[[[[-73.99590972433755,40.67770086144257],[-73.99582878433995,40.67767896066319],[-73.99588076251553,40.67761710367782],[-73.99595005476466,40.677534639036296],[-73.99627588480251,40.677622801826125],[-73.99620083982592,40.677779633476874],[-73.99590972433755,40.67770086144257]]]]}',\n",
       " '{\"type\":\"MultiPolygon\",\"coordinates\":[[[[-73.99554670734705,40.67712457414079],[-73.99534841846003,40.67736055342281],[-73.99529891587228,40.67733669674225],[-73.99521363811735,40.67729559911442],[-73.99514565494341,40.67726283545862],[-73.9953439454674,40.6770268565218],[-73.99554670734705,40.67712457414079]]]]}',\n",
       " '{\"type\":\"MultiPolygon\",\"coordinates\":[[[[-73.99548045853423,40.677424187365844],[-73.99541898027773,40.67739455977412],[-73.99534841846003,40.67736055342281],[-73.99554670734705,40.67712457414079],[-73.99573931570096,40.677217397559126],[-73.99554102600909,40.67745337633389],[-73.99548045853423,40.677424187365844]]]]}',\n",
       " '{\"type\":\"MultiPolygon\",\"coordinates\":[[[[-73.99554102600909,40.67745337633389],[-73.99573931570096,40.677217397559126],[-73.99581117629612,40.677252028672406],[-73.99561288554689,40.67748800840621],[-73.99554102600909,40.67745337633389]]]]}',\n",
       " '{\"type\":\"MultiPolygon\",\"coordinates\":[[[[-73.99561288554689,40.67748800840621],[-73.99581117629612,40.677252028672406],[-73.99588148989594,40.67728591576303],[-73.995683200505,40.67752189478069],[-73.99561288554689,40.67748800840621]]]]}',\n",
       " '{\"type\":\"MultiPolygon\",\"coordinates\":[[[[-73.995683200505,40.67752189478069],[-73.99588148989594,40.67728591576303],[-73.99594776551132,40.67731785493749],[-73.99574947746663,40.67755383498983],[-73.995683200505,40.67752189478069]]]]}',\n",
       " '{\"type\":\"MultiPolygon\",\"coordinates\":[[[[-73.99581944246752,40.67758755193632],[-73.99574947746663,40.67755383498983],[-73.99594776551132,40.67731785493749],[-73.99607905028215,40.677381124321265],[-73.99600667211787,40.67746726024921],[-73.99595005476466,40.677534639036296],[-73.99588076251553,40.67761710367782],[-73.99581944246752,40.67758755193632]]]]}',\n",
       " '{\"type\":\"MultiPolygon\",\"coordinates\":[[[[-73.99568237278905,40.67785319972403],[-73.99582878433995,40.67767896066319],[-73.99590972433755,40.67770086144257],[-73.9958673040253,40.67775134534492],[-73.99582507410202,40.67780160226513],[-73.99596408511312,40.677839216414675],[-73.99592964827006,40.67788019659441],[-73.99589402360877,40.677922593193415],[-73.9958742240884,40.677946155313194],[-73.99568237278905,40.67785319972403]]]]}',\n",
       " '{\"type\":\"MultiPolygon\",\"coordinates\":[[[[-73.99522130644749,40.67762980313537],[-73.99541898027773,40.67739455977412],[-73.99548045853423,40.677424187365844],[-73.99554102600909,40.67745337633389],[-73.99561288554689,40.67748800840621],[-73.99541491166235,40.67772361057556],[-73.99534318681567,40.677688857663206],[-73.9952826901016,40.67765954519402],[-73.99522130644749,40.67762980313537]]]]}',\n",
       " '{\"type\":\"MultiPolygon\",\"coordinates\":[[[[-73.99792709667,40.67721442477981],[-73.99799125309603,40.677081353597266],[-73.99826976319333,40.67715958790653],[-73.9982500812754,40.677200413250965],[-73.99805649707582,40.677146035085975],[-73.99803331365169,40.677194122905135],[-73.99801202292659,40.67723828100376],[-73.99792709667,40.67721442477981]]]]}',\n",
       " '{\"type\":\"MultiPolygon\",\"coordinates\":[[[[-73.99803331365169,40.677194122905135],[-73.99805649707582,40.677146035085975],[-73.9982500812754,40.677200413250965],[-73.99822689676337,40.67724850110874],[-73.99803331365169,40.677194122905135]]]]}',\n",
       " '{\"type\":\"MultiPolygon\",\"coordinates\":[[[[-73.99803331365169,40.677194122905135],[-73.99822689676337,40.67724850110874],[-73.99820560724753,40.677292659242866],[-73.99804202457935,40.67724670854438],[-73.99801202292659,40.67723828100376],[-73.99803331365169,40.677194122905135]]]]}',\n",
       " '{\"type\":\"MultiPolygon\",\"coordinates\":[[[[-73.99804202457935,40.67724670854438],[-73.99820560724753,40.677292659242866],[-73.9981741330537,40.67735794132226],[-73.99801055145562,40.67731199150089],[-73.99804202457935,40.67724670854438]]]]}',\n",
       " '{\"type\":\"MultiPolygon\",\"coordinates\":[[[[-73.99720088072945,40.677157244552674],[-73.99718840220372,40.67715376373967],[-73.99731491256345,40.67689136379347],[-73.9974157312935,40.676919684701204],[-73.9972892308374,40.6771820631726],[-73.99720088072945,40.677157244552674]]]]}',\n",
       " '{\"type\":\"MultiPolygon\",\"coordinates\":[[[[-73.99746252233562,40.67723074278884],[-73.99738641877862,40.677209364596166],[-73.99751291780584,40.67694698518262],[-73.9976198481611,40.676977023289844],[-73.99749334125545,40.67723941813009],[-73.99746252233562,40.67723074278884]]]]}',\n",
       " '{\"type\":\"MultiPolygon\",\"coordinates\":[[[[-73.99749334125545,40.67723941813009],[-73.9976198481611,40.676977023289844],[-73.9977231368532,40.677006036449434],[-73.99759663150734,40.67726842964579],[-73.99749334125545,40.67723941813009]]]]}',\n",
       " '{\"type\":\"MultiPolygon\",\"coordinates\":[[[[-73.9979207606986,40.67706155179853],[-73.99799125309603,40.677081353597266],[-73.99792709667,40.67721442477981],[-73.99785660535954,40.6771946228584],[-73.9979207606986,40.67706155179853]]]]}',\n",
       " '{\"type\":\"MultiPolygon\",\"coordinates\":[[[[-73.99769649036394,40.67752672596784],[-73.9977301557898,40.67745689823243],[-73.99807915996239,40.677554934914404],[-73.99804581772595,40.6776240919577],[-73.99769649036394,40.67752672596784]]]]}',\n",
       " '{\"type\":\"MultiPolygon\",\"coordinates\":[[[[-73.9972892308374,40.6771820631726],[-73.99737787078163,40.677206985220366],[-73.99724866425802,40.677474974670204],[-73.99715993290039,40.677450241511956],[-73.9972892308374,40.6771820631726]]]]}',\n",
       " '{\"type\":\"MultiPolygon\",\"coordinates\":[[[[-73.99772595293464,40.677304756492255],[-73.99762423098844,40.67727616837261],[-73.99759663150734,40.67726842964579],[-73.9977231368532,40.677006036449434],[-73.9979207606986,40.67706155179853],[-73.99785660535954,40.6771946228584],[-73.99779425723506,40.67732394152844],[-73.99772595293464,40.677304756492255]]]]}',\n",
       " '{\"type\":\"MultiPolygon\",\"coordinates\":[[[[-73.99738641877862,40.677209364596166],[-73.99737787078163,40.677206985220366],[-73.9972892308374,40.6771820631726],[-73.9974157312935,40.676919684701204],[-73.99751291780584,40.67694698518262],[-73.99738641877862,40.677209364596166]]]]}',\n",
       " '{\"type\":\"MultiPolygon\",\"coordinates\":[[[[-73.99759706577316,40.67757208532574],[-73.99772595293464,40.677304756492255],[-73.99779425723506,40.67732394152844],[-73.99776336936188,40.67738800698527],[-73.9977301557898,40.67745689823243],[-73.99769649036394,40.67752672596784],[-73.99766543306076,40.67759114252144],[-73.99759706577316,40.67757208532574]]]]}',\n",
       " '{\"type\":\"MultiPolygon\",\"coordinates\":[[[[-73.99474573552511,40.676566266070004],[-73.99509244833986,40.675847623042465],[-73.9968601679375,40.676362885576886],[-73.9963782693618,40.67735414890153],[-73.99474573552511,40.676566266070004]]]]}',\n",
       " '{\"type\":\"MultiPolygon\",\"coordinates\":[[[[-73.99835784624726,40.676968235756746],[-73.99832409060312,40.67703891652467],[-73.99788715982328,40.67691584898968],[-73.99792091586801,40.676845168432486],[-73.99835784624726,40.676968235756746]]]]}',\n",
       " '{\"type\":\"MultiPolygon\",\"coordinates\":[[[[-73.99747009557225,40.67679837613363],[-73.99749412028847,40.67674892501303],[-73.9976660210619,40.676797646626675],[-73.99764212657323,40.67684683124046],[-73.99747009557225,40.67679837613363]]]]}',\n",
       " '{\"type\":\"MultiPolygon\",\"coordinates\":[[[[-73.9976660210619,40.676797646626675],[-73.99749412028847,40.67674892501303],[-73.99754003092313,40.67665442623377],[-73.99771193258509,40.67670314786193],[-73.9976660210619,40.676797646626675]]]]}',\n",
       " '{\"type\":\"MultiPolygon\",\"coordinates\":[[[[-73.99754003092313,40.67665442623377],[-73.99756400937795,40.676605071473354],[-73.99773591093027,40.67665379306736],[-73.99771193258509,40.67670314786193],[-73.99754003092313,40.67665442623377]]]]}',\n",
       " '{\"type\":\"MultiPolygon\",\"coordinates\":[[[[-73.99756400937795,40.676605071473354],[-73.99758548601845,40.67656086669208],[-73.99775738626401,40.6766095890906],[-73.99773591093027,40.67665379306736],[-73.99756400937795,40.676605071473354]]]]}',\n",
       " '{\"type\":\"MultiPolygon\",\"coordinates\":[[[[-73.99758548601845,40.67656086669208],[-73.99760854293152,40.676513407506285],[-73.99778044318168,40.67656212987068],[-73.99775738626401,40.6766095890906],[-73.99758548601845,40.67656086669208]]]]}',\n",
       " '{\"type\":\"MultiPolygon\",\"coordinates\":[[[[-73.99778044318168,40.67656212987068],[-73.99760854293152,40.676513407506285],[-73.99763130529139,40.676466555190174],[-73.99780324444967,40.67651519829432],[-73.99778044318168,40.67656212987068]]]]}',\n",
       " '{\"type\":\"MultiPolygon\",\"coordinates\":[[[[-73.99763130529139,40.676466555190174],[-73.99765334011053,40.6764212004789],[-73.99782524136607,40.67646992277704],[-73.99780324444967,40.67651519829432],[-73.99763130529139,40.676466555190174]]]]}',\n",
       " '{\"type\":\"MultiPolygon\",\"coordinates\":[[[[-73.99767637571718,40.67637378536678],[-73.99784827554714,40.67642250763081],[-73.99782524136607,40.67646992277704],[-73.99765334011053,40.6764212004789],[-73.99767637571718,40.67637378536678]]]]}',\n",
       " '{\"type\":\"MultiPolygon\",\"coordinates\":[[[[-73.99767637571718,40.67637378536678],[-73.99769967965413,40.67632582001446],[-73.99787157948924,40.67637454316408],[-73.99784827554714,40.67642250763081],[-73.99767637571718,40.67637378536678]]]]}',\n",
       " '{\"type\":\"MultiPolygon\",\"coordinates\":[[[[-73.99769967965413,40.67632582001446],[-73.99772297191002,40.676277877245624],[-73.99789487152685,40.67632660128217],[-73.99787157948924,40.67637454316408],[-73.99769967965413,40.67632582001446]]]]}',\n",
       " '{\"type\":\"MultiPolygon\",\"coordinates\":[[[[-73.99744354955777,40.67625396864877],[-73.99746694134556,40.67620512715696],[-73.99763858037238,40.67625396769223],[-73.9976151875929,40.67630280921727],[-73.99744354955777,40.67625396864877]]]]}',\n",
       " '{\"type\":\"MultiPolygon\",\"coordinates\":[[[[-73.99742092667933,40.676301200838665],[-73.99744354955777,40.67625396864877],[-73.9976151875929,40.67630280921727],[-73.99759256481936,40.676350042361975],[-73.99742092667933,40.676301200838665]]]]}',\n",
       " '{\"type\":\"MultiPolygon\",\"coordinates\":[[[[-73.99739801287224,40.67634904274456],[-73.99742092667933,40.676301200838665],[-73.99759256481936,40.676350042361975],[-73.99756965112029,40.67639788430175],[-73.99739801287224,40.67634904274456]]]]}',\n",
       " '{\"type\":\"MultiPolygon\",\"coordinates\":[[[[-73.99737425909449,40.67639864068007],[-73.99739801287224,40.67634904274456],[-73.99756965112029,40.67639788430175],[-73.99754589624249,40.67644748218855],[-73.99737425909449,40.67639864068007]]]]}',\n",
       " '{\"type\":\"MultiPolygon\",\"coordinates\":[[[[-73.99754988115804,40.67608293842459],[-73.99767201875008,40.67582137373165],[-73.99774542170307,40.67584224552981],[-73.99762328436056,40.67610381130376],[-73.99754988115804,40.67608293842459]]]]}',\n",
       " '{\"type\":\"MultiPolygon\",\"coordinates\":[[[[-73.99728757688266,40.67600835166943],[-73.99753062624669,40.67548784746909],[-73.99779336997207,40.675561485547696],[-73.99767201875008,40.67582137373165],[-73.99754988115804,40.67608293842459],[-73.99728757688266,40.67600835166943]]]]}',\n",
       " '{\"type\":\"MultiPolygon\",\"coordinates\":[[[[-73.99767201875008,40.67582137373165],[-73.99779336997207,40.675561485547696],[-73.99786689806571,40.67558209256663],[-73.99774542170307,40.67584224552981],[-73.99767201875008,40.67582137373165]]]]}',\n",
       " '{\"type\":\"MultiPolygon\",\"coordinates\":[[[[-73.99774542170307,40.67584224552981],[-73.99786689806571,40.67558209256663],[-73.99792838439477,40.67559932506254],[-73.99780680406077,40.675859700628365],[-73.99774542170307,40.67584224552981]]]]}',\n",
       " '{\"type\":\"MultiPolygon\",\"coordinates\":[[[[-73.99788042357099,40.675880634505276],[-73.99780680406077,40.675859700628365],[-73.99792838439477,40.67559932506254],[-73.99800212772723,40.675619992403256],[-73.99788042357099,40.675880634505276]]]]}',\n",
       " '{\"type\":\"MultiPolygon\",\"coordinates\":[[[[-73.99794252761515,40.67589829393053],[-73.99806433562787,40.67563742663208],[-73.99813647648531,40.67565764534684],[-73.99801454563624,40.67591877290566],[-73.99794252761515,40.67589829393053]]]]}',\n",
       " '{\"type\":\"MultiPolygon\",\"coordinates\":[[[[-73.99801454563624,40.67591877290566],[-73.99813647648531,40.67565764534684],[-73.99820458175547,40.67567673292481],[-73.99808253761873,40.675938105514746],[-73.99801454563624,40.67591877290566]]]]}',\n",
       " '{\"type\":\"MultiPolygon\",\"coordinates\":[[[[-73.99815493779558,40.675958692583144],[-73.99808253761873,40.675938105514746],[-73.99820458175547,40.67567673292481],[-73.9982771047665,40.675697057808165],[-73.99815493779558,40.675958692583144]]]]}',\n",
       " '{\"type\":\"MultiPolygon\",\"coordinates\":[[[[-73.998215967965,40.67597604555829],[-73.99815493779558,40.675958692583144],[-73.9982771047665,40.675697057808165],[-73.99833823637906,40.67571419018667],[-73.998215967965,40.67597604555829]]]]}',\n",
       " '{\"type\":\"MultiPolygon\",\"coordinates\":[[[[-73.99840587936966,40.675733147880045],[-73.99828349634743,40.67599524744372],[-73.99827868842482,40.675993881337824],[-73.998215967965,40.67597604555829],[-73.99833823637906,40.67571419018667],[-73.99840587936966,40.675733147880045]]]]}',\n",
       " '{\"type\":\"MultiPolygon\",\"coordinates\":[[[[-73.99828349634743,40.67599524744372],[-73.99840587936966,40.675733147880045],[-73.99847525385687,40.67575259012583],[-73.99835275282712,40.67601494099684],[-73.99828349634743,40.67599524744372]]]]}',\n",
       " '{\"type\":\"MultiPolygon\",\"coordinates\":[[[[-73.99835275282712,40.67601494099684],[-73.99847525385687,40.67575259012583],[-73.99854143852889,40.67577113894687],[-73.99841882772272,40.67603372857327],[-73.99835275282712,40.67601494099684]]]]}',\n",
       " '{\"type\":\"MultiPolygon\",\"coordinates\":[[[[-73.99869635230792,40.67626846646809],[-73.99842341281719,40.67619085821876],[-73.99845448417344,40.67612431435632],[-73.99872837668994,40.67620219360801],[-73.99869635230792,40.67626846646809]]]]}',\n",
       " '{\"type\":\"MultiPolygon\",\"coordinates\":[[[[-73.99841882772272,40.67603372857327],[-73.99854143852889,40.67577113894687],[-73.99861037190556,40.675790457705126],[-73.99858249112137,40.675850169433446],[-73.99855758154018,40.67590351371538],[-73.99853567867319,40.675950422952305],[-73.99851119605796,40.67600285941701],[-73.99848764430152,40.676053296797186],[-73.99841882772272,40.67603372857327]]]]}',\n",
       " '{\"type\":\"MultiPolygon\",\"coordinates\":[[[[-73.99794252761515,40.67589829393053],[-73.99788042357099,40.675880634505276],[-73.99800212772723,40.675619992403256],[-73.99806433562787,40.67563742663208],[-73.99794252761515,40.67589829393053]]]]}',\n",
       " '{\"type\":\"MultiPolygon\",\"coordinates\":[[[[-73.99892904931262,40.67530554796785],[-73.99899642030086,40.67516740458161],[-73.99922325421375,40.67523107124511],[-73.99910944859703,40.675464429168315],[-73.99891666134056,40.67540980204474],[-73.99896287298738,40.67531504701669],[-73.99892904931262,40.67530554796785]]]]}',\n",
       " '{\"type\":\"MultiPolygon\",\"coordinates\":[[[[-73.99889186102517,40.67546065646645],[-73.99891666134056,40.67540980204474],[-73.99910944859703,40.675464429168315],[-73.99908457159663,40.67551544024369],[-73.99889186102517,40.67546065646645]]]]}',\n",
       " '{\"type\":\"MultiPolygon\",\"coordinates\":[[[[-73.99768837319293,40.675118029228074],[-73.99796840630192,40.675196675853556],[-73.99799657114364,40.67514192164151],[-73.99802387362097,40.675088847665535],[-73.99805091110657,40.675036283427154],[-73.9980797027427,40.67498030900104],[-73.99811126094627,40.674918958523314],[-73.99844092131318,40.67501148902812],[-73.99831058909699,40.67527873044641],[-73.99833598068234,40.675286593206],[-73.99820726918725,40.67555050621709],[-73.99755926954286,40.67536900927208],[-73.99768837319293,40.675118029228074]]]]}',\n",
       " '{\"type\":\"MultiPolygon\",\"coordinates\":[[[[-73.99799657114364,40.67514192164151],[-73.99796840630192,40.675196675853556],[-73.99768837319293,40.675118029228074],[-73.99771653812122,40.675063275083964],[-73.99799657114364,40.67514192164151]]]]}',\n",
       " '{\"type\":\"MultiPolygon\",\"coordinates\":[[[[-73.99771653812122,40.675063275083964],[-73.99774383969067,40.67501020025373],[-73.99802387362097,40.675088847665535],[-73.99799657114364,40.67514192164151],[-73.99771653812122,40.675063275083964]]]]}',\n",
       " '{\"type\":\"MultiPolygon\",\"coordinates\":[[[[-73.99774383969067,40.67501020025373],[-73.99777087736328,40.67495763700069],[-73.99805091110657,40.675036283427154],[-73.99802387362097,40.675088847665535],[-73.99774383969067,40.67501020025373]]]]}',\n",
       " '{\"type\":\"MultiPolygon\",\"coordinates\":[[[[-73.99779965139834,40.674901701379135],[-73.9980797027427,40.67498030900104],[-73.99805091110657,40.675036283427154],[-73.99777087736328,40.67495763700069],[-73.99779965139834,40.674901701379135]]]]}',\n",
       " '{\"type\":\"MultiPolygon\",\"coordinates\":[[[[-73.99779965139834,40.674901701379135],[-73.99783120861545,40.674840350893724],[-73.99811126094627,40.674918958523314],[-73.9980797027427,40.67498030900104],[-73.99779965139834,40.674901701379135]]]]}',\n",
       " '{\"type\":\"MultiPolygon\",\"coordinates\":[[[[-73.99820726918725,40.67555050621709],[-73.99833598068234,40.675286593206],[-73.99831058909699,40.67527873044641],[-73.99844092131318,40.67501148902812],[-73.99899642030086,40.67516740458161],[-73.99892904931262,40.67530554796785],[-73.99896287298738,40.67531504701669],[-73.99891666134056,40.67540980204474],[-73.99889186102517,40.67546065646645],[-73.99908457159663,40.67551544024369],[-73.99896396612385,40.67576274065334],[-73.99820726918725,40.67555050621709]]]]}',\n",
       " '{\"type\":\"MultiPolygon\",\"coordinates\":[[[[-73.99689211820774,40.67468423204359],[-73.99665025705241,40.67461365614366],[-73.99637998158808,40.674486072457064],[-73.99642898505373,40.674430405475114],[-73.99641565330055,40.67438354375356],[-73.99644840167149,40.67433838144814],[-73.99649630535637,40.67428093056861],[-73.99652435387738,40.67424847252229],[-73.9965538414421,40.67421328237741],[-73.9973119593855,40.674583101284185],[-73.99730050740338,40.67459570361288],[-73.99747736888834,40.67490754394526],[-73.99746673616339,40.67492873726648],[-73.9975457330286,40.674967271124736],[-73.9973750840608,40.67530741518572],[-73.99711289421252,40.675233316107246],[-73.99720294214373,40.675053829987114],[-73.99702783633391,40.67472476880345],[-73.99690163925291,40.67466561242388],[-73.99689211820774,40.67468423204359]]]]}',\n",
       " '{\"type\":\"MultiPolygon\",\"coordinates\":[[[[-73.99665025705241,40.67461365614366],[-73.99689211820774,40.67468423204359],[-73.99690163925291,40.67466561242388],[-73.99702783633391,40.67472476880345],[-73.99720294214373,40.675053829987114],[-73.99711289421252,40.675233316107246],[-73.99601552573102,40.67492317097965],[-73.99628537532202,40.67459354306358],[-73.99637998158808,40.674486072457064],[-73.99665025705241,40.67461365614366]]]]}',\n",
       " '{\"type\":\"MultiPolygon\",\"coordinates\":[[[[-73.9973119593855,40.674583101284185],[-73.99757561503895,40.67471171434397],[-73.99747736888834,40.67490754394526],[-73.99730050740338,40.67459570361288],[-73.9973119593855,40.674583101284185]]]]}',\n",
       " '{\"type\":\"MultiPolygon\",\"coordinates\":[[[[-73.99747736888834,40.67490754394526],[-73.99757561503895,40.67471171434397],[-73.99765461171009,40.67475024812858],[-73.9975457330286,40.674967271124736],[-73.99746673616339,40.67492873726648],[-73.99747736888834,40.67490754394526]]]]}',\n",
       " '{\"type\":\"MultiPolygon\",\"coordinates\":[[[[-73.99903505392659,40.67491496960501],[-73.99905821572041,40.67486731552356],[-73.9993437978807,40.67494757444652],[-73.99932088581775,40.67499471339808],[-73.99903505392659,40.67491496960501]]]]}',\n",
       " '{\"type\":\"MultiPolygon\",\"coordinates\":[[[[-73.99900817094685,40.67497027700451],[-73.99903505392659,40.67491496960501],[-73.99932088581775,40.67499471339808],[-73.99929400425128,40.67505002002741],[-73.99900817094685,40.67497027700451]]]]}',\n",
       " '{\"type\":\"MultiPolygon\",\"coordinates\":[[[[-73.99893814187753,40.67495074329328],[-73.99898825059016,40.67484765216775],[-73.99905821572041,40.67486731552356],[-73.99903505392659,40.67491496960501],[-73.99900817094685,40.67497027700451],[-73.99893814187753,40.67495074329328]]]]}',\n",
       " '{\"type\":\"MultiPolygon\",\"coordinates\":[[[[-73.99885126427952,40.674986317986196],[-73.99897487312498,40.67473200544113],[-73.99897605942745,40.67473233951378],[-73.99903609523473,40.67474921216281],[-73.99901357576248,40.674795546903056],[-73.99898825059016,40.67484765216775],[-73.99893814187753,40.67495074329328],[-73.99891254450232,40.67500340856855],[-73.99885126427952,40.674986317986196]]]]}',\n",
       " '{\"type\":\"MultiPolygon\",\"coordinates\":[[[[-73.9987872685264,40.674968458238105],[-73.99891093197675,40.674714034993386],[-73.99897487312498,40.67473200544113],[-73.99885126427952,40.674986317986196],[-73.9987872685264,40.674968458238105]]]]}',\n",
       " '{\"type\":\"MultiPolygon\",\"coordinates\":[[[[-73.99872569849282,40.674951281079586],[-73.998849416542,40.674696747132714],[-73.99890415820501,40.674712131197865],[-73.99891093197675,40.674714034993386],[-73.9987872685264,40.674968458238105],[-73.99872569849282,40.674951281079586]]]]}',\n",
       " '{\"type\":\"MultiPolygon\",\"coordinates\":[[[[-73.99872569849282,40.674951281079586],[-73.9986576684232,40.67493230005949],[-73.99878144460833,40.674677644624985],[-73.99883968844642,40.67469401304223],[-73.998849416542,40.674696747132714],[-73.99872569849282,40.674951281079586]]]]}',\n",
       " '{\"type\":\"MultiPolygon\",\"coordinates\":[[[[-73.99872037525685,40.67466048102174],[-73.99876190184015,40.67467215216795],[-73.99878144460833,40.674677644624985],[-73.9986576684232,40.67493230005949],[-73.99859654436572,40.67491524715873],[-73.99872037525685,40.67466048102174]]]]}',\n",
       " '{\"type\":\"MultiPolygon\",\"coordinates\":[[[[-73.99865617514085,40.674642438397335],[-73.99872037525685,40.67466048102174],[-73.99859654436572,40.67491524715873],[-73.99853228854462,40.67489732058645],[-73.99865617514085,40.674642438397335]]]]}',\n",
       " '{\"type\":\"MultiPolygon\",\"coordinates\":[[[[-73.9984689314966,40.674879643470106],[-73.99859287401515,40.67462464698436],[-73.99862662158756,40.67463413165914],[-73.99865617514085,40.674642438397335],[-73.99853228854462,40.67489732058645],[-73.9984689314966,40.674879643470106]]]]}',\n",
       " '{\"type\":\"MultiPolygon\",\"coordinates\":[[[[-73.99840306485109,40.67486126845882],[-73.99852706659765,40.67460615223986],[-73.99859287401515,40.67462464698436],[-73.9984689314966,40.674879643470106],[-73.99840306485109,40.67486126845882]]]]}',\n",
       " '{\"type\":\"MultiPolygon\",\"coordinates\":[[[[-73.99832215694708,40.674838695781695],[-73.99844506969649,40.67458310686104],[-73.99852706659765,40.67460615223986],[-73.99840306485109,40.67486126845882],[-73.99832215694708,40.674838695781695]]]]}',\n",
       " '{\"type\":\"MultiPolygon\",\"coordinates\":[[[[-73.99823680673352,40.67481488302469],[-73.99835979426952,40.67455914017368],[-73.99844506969649,40.67458310686104],[-73.99832215694708,40.674838695781695],[-73.99823680673352,40.67481488302469]]]]}',\n",
       " '{\"type\":\"MultiPolygon\",\"coordinates\":[[[[-73.9979163618303,40.67467057169689],[-73.9979435969365,40.67461393718085],[-73.99820218135369,40.67468608290372],[-73.99817494533737,40.674742716642754],[-73.9979163618303,40.67467057169689]]]]}',\n",
       " '{\"type\":\"MultiPolygon\",\"coordinates\":[[[[-73.9979435969365,40.67461393718085],[-73.99796628502109,40.67456676151893],[-73.99822486697305,40.67463890718995],[-73.99820218135369,40.67468608290372],[-73.9979435969365,40.67461393718085]]]]}',\n",
       " '{\"type\":\"MultiPolygon\",\"coordinates\":[[[[-73.99796628502109,40.67456676151893],[-73.9979923975053,40.674512462885204],[-73.99825075696508,40.67458507499152],[-73.99822486697305,40.67463890718995],[-73.99796628502109,40.67456676151893]]]]}',\n",
       " '{\"type\":\"MultiPolygon\",\"coordinates\":[[[[-73.9979923975053,40.674512462885204],[-73.99801636663044,40.67446261993737],[-73.99827472581502,40.674535231990376],[-73.99825075696508,40.67458507499152],[-73.9979923975053,40.674512462885204]]]]}',\n",
       " '{\"type\":\"MultiPolygon\",\"coordinates\":[[[[-73.99827472581502,40.674535231990376],[-73.99801636663044,40.67446261993737],[-73.99805855133424,40.674374902631044],[-73.99812957320555,40.674394862901124],[-73.99827012893326,40.67443436631815],[-73.99833993375809,40.6744539851819],[-73.99829775047263,40.67454170342677],[-73.99827472581502,40.674535231990376]]]]}',\n",
       " '{\"type\":\"MultiPolygon\",\"coordinates\":[[[[-73.99814349304812,40.67419827120008],[-73.99821451585525,40.674218232339655],[-73.99812957320555,40.674394862901124],[-73.99805855133424,40.674374902631044],[-73.99814349304812,40.67419827120008]]]]}',\n",
       " '{\"type\":\"MultiPolygon\",\"coordinates\":[[[[-73.99812957320555,40.674394862901124],[-73.99821451585525,40.674218232339655],[-73.99835791227349,40.674258534498726],[-73.99831527375288,40.67434719828799],[-73.99831243284561,40.67434639952458],[-73.99827012893326,40.67443436631815],[-73.99812957320555,40.674394862901124]]]]}',\n",
       " '{\"type\":\"MultiPolygon\",\"coordinates\":[[[[-73.99827012893326,40.67443436631815],[-73.99831243284561,40.67434639952458],[-73.99831527375288,40.67434719828799],[-73.99835791227349,40.674258534498726],[-73.99842487603624,40.67427735354651],[-73.99833993375809,40.6744539851819],[-73.99827012893326,40.67443436631815]]]]}',\n",
       " '{\"type\":\"MultiPolygon\",\"coordinates\":[[[[-73.99835979426952,40.67455914017368],[-73.99829775047263,40.67454170342677],[-73.99833993375809,40.6744539851819],[-73.99842487603624,40.67427735354651],[-73.9985721947536,40.6743187576559],[-73.99844506969649,40.67458310686104],[-73.99835979426952,40.67455914017368]]]]}',\n",
       " '{\"type\":\"MultiPolygon\",\"coordinates\":[[[[-73.99885486160365,40.67447884371914],[-73.99885824424642,40.67447979381943],[-73.99889240735465,40.67440875179523],[-73.99896681204314,40.67442966340517],[-73.99883968844642,40.67469401304223],[-73.99878144460833,40.674677644624985],[-73.99876190184015,40.67467215216795],[-73.99885486160365,40.67447884371914]]]]}',\n",
       " '{\"type\":\"MultiPolygon\",\"coordinates\":[[[[-73.99903303454674,40.674448275027984],[-73.99890415820501,40.674712131197865],[-73.998849416542,40.674696747132714],[-73.99883968844642,40.67469401304223],[-73.99896681204314,40.67442966340517],[-73.99903303454674,40.674448275027984]]]]}',\n",
       " '{\"type\":\"MultiPolygon\",\"coordinates\":[[[[-73.99897487312498,40.67473200544113],[-73.99891093197675,40.674714034993386],[-73.99890415820501,40.674712131197865],[-73.99903303454674,40.674448275027984],[-73.99910468477024,40.67446841122887],[-73.99897605942745,40.67473233951378],[-73.99897487312498,40.67473200544113]]]]}',\n",
       " '{\"type\":\"MultiPolygon\",\"coordinates\":[[[[-73.99903609523473,40.67474921216281],[-73.99897605942745,40.67473233951378],[-73.99910468477024,40.67446841122887],[-73.99916749503625,40.674486064564924],[-73.99903917274737,40.67475007666779],[-73.99903609523473,40.67474921216281]]]]}',\n",
       " '{\"type\":\"MultiPolygon\",\"coordinates\":[[[[-73.99913166444108,40.67471620113414],[-73.99910606269283,40.6747688754898],[-73.99903917274737,40.67475007666779],[-73.99916749503625,40.674486064564924],[-73.99951996546578,40.674585121719055],[-73.99941724604295,40.674796460714134],[-73.99913166444108,40.67471620113414]]]]}',\n",
       " '{\"type\":\"MultiPolygon\",\"coordinates\":[[[[-73.9981516646978,40.67479112868545],[-73.99817494533737,40.674742716642754],[-73.99820218135369,40.67468608290372],[-73.99822486697305,40.67463890718995],[-73.99825075696508,40.67458507499152],[-73.99827472581502,40.674535231990376],[-73.99829775047263,40.67454170342677],[-73.99835979426952,40.67455914017368],[-73.99823680673352,40.67481488302469],[-73.9981516646978,40.67479112868545]]]]}',\n",
       " '{\"type\":\"MultiPolygon\",\"coordinates\":[[[[-73.99901357576248,40.674795546903056],[-73.99903609523473,40.67474921216281],[-73.99903917274737,40.67475007666779],[-73.99910606269283,40.6747688754898],[-73.99913166444108,40.67471620113414],[-73.99941724604295,40.674796460714134],[-73.99939164438103,40.674849135215204],[-73.99936912281328,40.674895470024374],[-73.9993437978807,40.67494757444652],[-73.99905821572041,40.67486731552356],[-73.99898825059016,40.67484765216775],[-73.99901357576248,40.674795546903056]]]]}',\n",
       " '{\"type\":\"MultiPolygon\",\"coordinates\":[[[[-73.99789307981807,40.67471898368774],[-73.9979163618303,40.67467057169689],[-73.99817494533737,40.674742716642754],[-73.9981516646978,40.67479112868545],[-73.99789307981807,40.67471898368774]]]]}',\n",
       " '{\"type\":\"MultiPolygon\",\"coordinates\":[[[[-73.99929400425128,40.67505002002741],[-73.99926840602035,40.67510268906279],[-73.99891254450232,40.67500340856855],[-73.99893814187753,40.67495074329328],[-73.99900817094685,40.67497027700451],[-73.99929400425128,40.67505002002741]]]]}',\n",
       " '{\"type\":\"MultiPolygon\",\"coordinates\":[[[[-73.99862662158756,40.67463413165914],[-73.99875685658971,40.6743706558043],[-73.99889240735465,40.67440875179523],[-73.99885824424642,40.67447979381943],[-73.99885486160365,40.67447884371914],[-73.99876190184015,40.67467215216795],[-73.99872037525685,40.67466048102174],[-73.99865617514085,40.674642438397335],[-73.99862662158756,40.67463413165914]]]]}',\n",
       " '{\"type\":\"MultiPolygon\",\"coordinates\":[[[[-73.99875685658971,40.6743706558043],[-73.99862662158756,40.67463413165914],[-73.99859287401515,40.67462464698436],[-73.99852706659765,40.67460615223986],[-73.99844506969649,40.67458310686104],[-73.9985721947536,40.6743187576559],[-73.99875685658971,40.6743706558043]]]]}',\n",
       " '{\"type\":\"MultiPolygon\",\"coordinates\":[[[[-73.99937161531474,40.674058632159365],[-73.99935039372984,40.67410229524546],[-73.99926667156873,40.67407851203993],[-73.99939343514092,40.67381770364091],[-73.99957785975742,40.67387007592156],[-73.99972274169627,40.67410413890762],[-73.99939412363148,40.67401232252653],[-73.99937161531474,40.674058632159365]]]]}',\n",
       " '{\"type\":\"MultiPolygon\",\"coordinates\":[[[[-73.99972752445065,40.67415807421998],[-73.99937161531474,40.674058632159365],[-73.99939412363148,40.67401232252653],[-73.99972274169627,40.67410413890762],[-73.99974008777983,40.67413222860784],[-73.99972752445065,40.67415807421998]]]]}',\n",
       " '{\"type\":\"MultiPolygon\",\"coordinates\":[[[[-73.99934709495676,40.67410907967462],[-73.99935039372984,40.67410229524546],[-73.99937161531474,40.674058632159365],[-73.99972752445065,40.67415807421998],[-73.99970300553366,40.67420852181038],[-73.99934709495676,40.67410907967462]]]]}',\n",
       " '{\"type\":\"MultiPolygon\",\"coordinates\":[[[[-73.9993229578445,40.67415874185652],[-73.99934709495676,40.67410907967462],[-73.99970300553366,40.67420852181038],[-73.99967886744015,40.674258184066254],[-73.9993229578445,40.67415874185652]]]]}',\n",
       " '{\"type\":\"MultiPolygon\",\"coordinates\":[[[[-73.99929970066314,40.674206593183385],[-73.9993229578445,40.67415874185652],[-73.99967886744015,40.674258184066254],[-73.9996556104811,40.674306035464376],[-73.99929970066314,40.674206593183385]]]]}',\n",
       " '{\"type\":\"MultiPolygon\",\"coordinates\":[[[[-73.99927761923418,40.674252021173835],[-73.99929970066314,40.674206593183385],[-73.9996556104811,40.674306035464376],[-73.99963353156845,40.6743514644426],[-73.99927761923418,40.674252021173835]]]]}',\n",
       " '{\"type\":\"MultiPolygon\",\"coordinates\":[[[[-73.99931876055525,40.6743220327773],[-73.99931892857029,40.67432168608445],[-73.99925274742773,40.67430319351051],[-73.99927761923418,40.674252021173835],[-73.99963353156845,40.6743514644426],[-73.99960848857529,40.674402988985534],[-73.99931876055525,40.6743220327773]]]]}',\n",
       " '{\"type\":\"MultiPolygon\",\"coordinates\":[[[[-73.99913928251709,40.67434060892658],[-73.99926667156873,40.67407851203993],[-73.99935039372984,40.67410229524546],[-73.99934709495676,40.67410907967462],[-73.9993229578445,40.67415874185652],[-73.99929970066314,40.674206593183385],[-73.99927761923418,40.674252021173835],[-73.99925274742773,40.67430319351051],[-73.99922317177051,40.674364047287625],[-73.99913928251709,40.67434060892658]]]]}',\n",
       " '{\"type\":\"MultiPolygon\",\"coordinates\":[[[[-73.99913928251709,40.67434060892658],[-73.99905577296931,40.674317275838256],[-73.99918331966121,40.67405485753323],[-73.99926667156873,40.67407851203993],[-73.99913928251709,40.67434060892658]]]]}',\n",
       " '{\"type\":\"MultiPolygon\",\"coordinates\":[[[[-73.99896968386774,40.67429322133069],[-73.99909739766086,40.6740304600256],[-73.99918331966121,40.67405485753323],[-73.99905577296931,40.674317275838256],[-73.99896968386774,40.67429322133069]]]]}',\n",
       " '{\"type\":\"MultiPolygon\",\"coordinates\":[[[[-73.99854201899164,40.67417372868157],[-73.99866934266242,40.67390896431408],[-73.99875900891529,40.67393442560948],[-73.99884534228677,40.67395890260241],[-73.99892602568322,40.67398181892828],[-73.99909739766086,40.6740304600256],[-73.99896968386774,40.67429322133069],[-73.99854201899164,40.67417372868157]]]]}',\n",
       " '{\"type\":\"MultiPolygon\",\"coordinates\":[[[[-73.99850335411624,40.6741000635011],[-73.99847670518298,40.67415547887587],[-73.99820110397401,40.67407847156258],[-73.99822775420384,40.67402305717114],[-73.99850335411624,40.6741000635011]]]]}',\n",
       " '{\"type\":\"MultiPolygon\",\"coordinates\":[[[[-73.99847670518298,40.67415547887587],[-73.99850335411624,40.6741000635011],[-73.99822775420384,40.67402305717114],[-73.99832909957648,40.67381231352743],[-73.99866934266242,40.67390896431408],[-73.99854201899164,40.67417372868157],[-73.99847670518298,40.67415547887587]]]]}',\n",
       " '{\"type\":\"MultiPolygon\",\"coordinates\":[[[[-73.99865148362393,40.67378281116842],[-73.9987190394709,40.67380199381513],[-73.99866934266242,40.67390896431408],[-73.99832909957648,40.67381231352743],[-73.99845468354425,40.67355116663419],[-73.99872583461067,40.673628198470865],[-73.99865148362393,40.67378281116842]]]]}',\n",
       " '{\"type\":\"MultiPolygon\",\"coordinates\":[[[[-73.99872583461067,40.673628198470865],[-73.99879492559054,40.673647814291456],[-73.9987190394709,40.67380199381513],[-73.99865148362393,40.67378281116842],[-73.99872583461067,40.673628198470865]]]]}',\n",
       " '{\"type\":\"MultiPolygon\",\"coordinates\":[[[[-73.99866934266242,40.67390896431408],[-73.9987190394709,40.67380199381513],[-73.99879492559054,40.673647814291456],[-73.99888461043984,40.67367324043764],[-73.99875900891529,40.67393442560948],[-73.99866934266242,40.67390896431408]]]]}',\n",
       " '{\"type\":\"MultiPolygon\",\"coordinates\":[[[[-73.99875900891529,40.67393442560948],[-73.99888461043984,40.67367324043764],[-73.99897092220303,40.67369775791266],[-73.99884534228677,40.67395890260241],[-73.99875900891529,40.67393442560948]]]]}',\n",
       " '{\"type\":\"MultiPolygon\",\"coordinates\":[[[[-73.99884534228677,40.67395890260241],[-73.99897092220303,40.67369775791266],[-73.99905159829238,40.67372068937791],[-73.99892602568322,40.67398181892828],[-73.99884534228677,40.67395890260241]]]]}',\n",
       " '{\"type\":\"MultiPolygon\",\"coordinates\":[[[[-73.99905159829238,40.67372068937791],[-73.99939343514092,40.67381770364091],[-73.99926667156873,40.67407851203993],[-73.99918331966121,40.67405485753323],[-73.99909739766086,40.6740304600256],[-73.99892602568322,40.67398181892828],[-73.99905159829238,40.67372068937791]]]]}',\n",
       " '{\"type\":\"MultiPolygon\",\"coordinates\":[[[[-73.99922317177051,40.674364047287625],[-73.99925274742773,40.67430319351051],[-73.99931892857029,40.67432168608445],[-73.99931876055525,40.6743220327773],[-73.99960848857529,40.674402988985534],[-73.99957908231426,40.674463490639475],[-73.99928935164844,40.674382539879694],[-73.99922317177051,40.674364047287625]]]]}',\n",
       " '{\"type\":\"MultiPolygon\",\"coordinates\":[[[[-73.99722552539315,40.67345275233556],[-73.99722821281449,40.67344944484199],[-73.99730653459729,40.673353068494116],[-73.99741741169066,40.67321663084919],[-73.99743231613098,40.67319829141259],[-73.99828591241004,40.67344023244795],[-73.9980366174177,40.673955331534074],[-73.99704570877711,40.67367447106129],[-73.99722458350358,40.67345231584861],[-73.99722552539315,40.67345275233556]]]]}',\n",
       " '{\"type\":\"MultiPolygon\",\"coordinates\":[[[[-73.99695089735994,40.67401099830972],[-73.99680631148843,40.6739407359784],[-73.99703524828081,40.67368662923219],[-73.99704156146414,40.67367962190945],[-73.99704570877711,40.67367447106129],[-73.9980366174177,40.673955331534074],[-73.99772514673002,40.67459888601099],[-73.99682288643997,40.674160443868836],[-73.99695089735994,40.67401099830972]]]]}',\n",
       " '{\"type\":\"MultiPolygon\",\"coordinates\":[[[[-73.99695089735994,40.67401099830972],[-73.99682288643997,40.674160443868836],[-73.9966739125305,40.674088050717714],[-73.99667093796005,40.67408660528902],[-73.9967924565973,40.673944737941355],[-73.99680147032934,40.673946109336654],[-73.99680631148843,40.6739407359784],[-73.99695089735994,40.67401099830972]]]]}',\n",
       " '{\"type\":\"MultiPolygon\",\"coordinates\":[[[[-74.00014389052049,40.67329493233635],[-74.00001061142324,40.67357181568205],[-73.99977503768923,40.67319341581733],[-74.00014389052049,40.67329493233635]]]]}',\n",
       " '{\"type\":\"MultiPolygon\",\"coordinates\":[[[[-73.99863797170964,40.67317002069703],[-73.99876428773659,40.67290734529466],[-73.9990144429814,40.672982868781745],[-73.99923428027061,40.673338895957],[-73.99863797170964,40.67317002069703]]]]}',\n",
       " '{\"type\":\"MultiPolygon\",\"coordinates\":[[[[-73.99851245302013,40.67343103545063],[-73.99863797170964,40.67317002069703],[-73.99923428027061,40.673338895957],[-73.99945622027228,40.67369832388958],[-73.99851245302013,40.67343103545063]]]]}',\n",
       " '{\"type\":\"MultiPolygon\",\"coordinates\":[[[[-73.99872396573592,40.672535095128204],[-73.99869756958613,40.672589638813314],[-73.99858607069143,40.672820028258336],[-73.9979179137975,40.67263064854078],[-73.99805575991003,40.67246674469219],[-73.99810512186707,40.672436850373835],[-73.99842710045051,40.67210459063378],[-73.99844345933631,40.67208420831889],[-73.99872396573592,40.672535095128204]]]]}',\n",
       " '{\"type\":\"MultiPolygon\",\"coordinates\":[[[[-73.99858607069143,40.672820028258336],[-73.99848859789323,40.67302143205996],[-73.99776210555143,40.67281551769529],[-73.99777416680853,40.67280156888119],[-73.9979179137975,40.67263064854078],[-73.99858607069143,40.672820028258336]]]]}',\n",
       " '{\"type\":\"MultiPolygon\",\"coordinates\":[[[[-73.9974655159456,40.67315852047818],[-73.99776210555143,40.67281551769529],[-73.99848859789323,40.67302143205996],[-73.99828591241004,40.67344023244795],[-73.99743231613098,40.67319829141259],[-73.9974655159456,40.67315852047818]]]]}',\n",
       " '{\"type\":\"MultiPolygon\",\"coordinates\":[[[[-73.99996710505955,40.67281310523548],[-74.00009364959452,40.672550212294034],[-74.00045298579005,40.67265278695638],[-74.0003264412151,40.67291568563577],[-73.99996710505955,40.67281310523548]]]]}',\n",
       " '{\"type\":\"MultiPolygon\",\"coordinates\":[[[[-73.99984371055743,40.67306945681664],[-73.99993302907201,40.67288389995342],[-73.99996710505955,40.67281310523548],[-74.0003264412151,40.67291568563577],[-74.00020340141589,40.67317130184257],[-73.99984371055743,40.67306945681664]]]]}',\n",
       " '{\"type\":\"MultiPolygon\",\"coordinates\":[[[[-73.99993302907201,40.67288389995342],[-73.99984371055743,40.67306945681664],[-73.99970349257285,40.67302975352531],[-73.99985776598568,40.67286258914262],[-73.99993302907201,40.67288389995342]]]]}',\n",
       " '{\"type\":\"MultiPolygon\",\"coordinates\":[[[[-73.99963573525991,40.672968814606804],[-73.99973166509196,40.67288666484909],[-73.9998359137488,40.67285563169481],[-73.99989018372187,40.67279115242355],[-73.99996710505955,40.67281310523548],[-73.99993302907201,40.67288389995342],[-73.99985776598568,40.67286258914262],[-73.99970349257285,40.67302975352531],[-73.99966732464837,40.67301951184807],[-73.99963573525991,40.672968814606804]]]]}',\n",
       " '{\"type\":\"MultiPolygon\",\"coordinates\":[[[[-73.99960112532645,40.67291327350171],[-73.99985428433833,40.67278090536733],[-73.99989018372187,40.67279115242355],[-73.9998359137488,40.67285563169481],[-73.99973166509196,40.67288666484909],[-73.99963573525991,40.672968814606804],[-73.99960112532645,40.67291327350171]]]]}',\n",
       " '{\"type\":\"MultiPolygon\",\"coordinates\":[[[[-73.9995207893637,40.67278434299503],[-73.99967533973813,40.67272982310592],[-73.99971559396666,40.67274131378197],[-73.99980473272053,40.67276675544105],[-73.99985428433833,40.67278090536733],[-73.99960112532645,40.67291327350171],[-73.9995207893637,40.67278434299503]]]]}',\n",
       " '{\"type\":\"MultiPolygon\",\"coordinates\":[[[[-73.99948215848612,40.6727223441571],[-73.999556844629,40.67269599737499],[-73.9995425335709,40.6726919116801],[-73.9995680502102,40.672641223760245],[-73.99957478953299,40.672627836767454],[-73.99965918069397,40.67265192679406],[-73.99962692359281,40.672716002651526],[-73.99967533973813,40.67272982310592],[-73.9995207893637,40.67278434299503],[-73.99948215848612,40.6727223441571]]]]}',\n",
       " '{\"type\":\"MultiPolygon\",\"coordinates\":[[[[-73.9995425335709,40.6726919116801],[-73.999556844629,40.67269599737499],[-73.99948215848612,40.6727223441571],[-73.99945619792629,40.672680680848146],[-73.9995680502102,40.672641223760245],[-73.9995425335709,40.6726919116801]]]]}',\n",
       " '{\"type\":\"MultiPolygon\",\"coordinates\":[[[[-73.99938279904448,40.67256288246636],[-73.99960577356501,40.67248422666805],[-73.99961454936727,40.67248673187613],[-73.99962229155854,40.67247135298493],[-73.99973401888316,40.672503247880634],[-73.99965918069397,40.67265192679406],[-73.99957478953299,40.672627836767454],[-73.9995680502102,40.672641223760245],[-73.99945619792629,40.672680680848146],[-73.99938279904448,40.67256288246636]]]]}',\n",
       " '{\"type\":\"MultiPolygon\",\"coordinates\":[[[[-73.99960577356501,40.67248422666805],[-73.99938279904448,40.67256288246636],[-73.99934711799683,40.67250561851477],[-73.99942128962164,40.672358278883465],[-73.9997585382397,40.672454550892546],[-73.99973401888316,40.672503247880634],[-73.99962229155854,40.67247135298493],[-73.99961454936727,40.67248673187613],[-73.99960577356501,40.67248422666805]]]]}',\n",
       " '{\"type\":\"MultiPolygon\",\"coordinates\":[[[[-73.99967533973813,40.67272982310592],[-73.99962692359281,40.672716002651526],[-73.99965918069397,40.67265192679406],[-73.99973401888316,40.672503247880634],[-73.9997585382397,40.672454550892546],[-73.99984214030685,40.67247841656928],[-73.99971559396666,40.67274131378197],[-73.99967533973813,40.67272982310592]]]]}',\n",
       " '{\"type\":\"MultiPolygon\",\"coordinates\":[[[[-73.99993127754932,40.67250386172914],[-73.99980473272053,40.67276675544105],[-73.99971559396666,40.67274131378197],[-73.99984214030685,40.67247841656928],[-73.99993127754932,40.67250386172914]]]]}',\n",
       " '{\"type\":\"MultiPolygon\",\"coordinates\":[[[[-73.99989018372187,40.67279115242355],[-73.99985428433833,40.67278090536733],[-73.99980473272053,40.67276675544105],[-73.99993127754932,40.67250386172914],[-74.00009364959452,40.672550212294034],[-73.99996710505955,40.67281310523548],[-73.99989018372187,40.67279115242355]]]]}',\n",
       " '{\"type\":\"MultiPolygon\",\"coordinates\":[[[[-74.00027807901682,40.672166211815025],[-74.000404473263,40.67190505566857],[-74.00076950251135,40.672006169526746],[-74.00064310950354,40.6722673252361],[-74.00027807901682,40.672166211815025]]]]}',\n",
       " '{\"type\":\"MultiPolygon\",\"coordinates\":[[[[-74.00015406808191,40.672422443911245],[-74.00027807901682,40.672166211815025],[-74.00064310950354,40.6722673252361],[-74.00051912812944,40.67252349823989],[-74.00015406808191,40.672422443911245]]]]}',\n",
       " '{\"type\":\"MultiPolygon\",\"coordinates\":[[[[-74.00006858141921,40.67181201102875],[-74.000404473263,40.67190505566857],[-74.00027807901682,40.672166211815025],[-74.00015406808191,40.672422443911245],[-73.99981814592618,40.67232945448157],[-73.99994380521815,40.67206981877362],[-74.00000451101798,40.671944392721954],[-74.00006858141921,40.67181201102875]]]]}',\n",
       " '{\"type\":\"MultiPolygon\",\"coordinates\":[[[[-73.999774249675,40.672022851159426],[-73.99964857673531,40.672282513623045],[-73.99947020850435,40.67223313748696],[-73.9995968009675,40.67197369583648],[-73.999774249675,40.672022851159426]]]]}',\n",
       " '{\"type\":\"MultiPolygon\",\"coordinates\":[[[[-74.00000451101798,40.671944392721954],[-73.99994380521815,40.67206981877362],[-73.999774249675,40.672022851159426],[-73.9995968009675,40.67197369583648],[-73.9996579413462,40.67184838968629],[-74.00000451101798,40.671944392721954]]]]}',\n",
       " '{\"type\":\"MultiPolygon\",\"coordinates\":[[[[-73.9997224710964,40.671716136925276],[-74.00006858141921,40.67181201102875],[-74.00000451101798,40.671944392721954],[-73.9996579413462,40.67184838968629],[-73.9997224710964,40.671716136925276]]]]}',\n",
       " '{\"type\":\"MultiPolygon\",\"coordinates\":[[[[-73.99964857673531,40.672282513623045],[-73.999774249675,40.672022851159426],[-73.99994380521815,40.67206981877362],[-73.99981814592618,40.67232945448157],[-73.99964857673531,40.672282513623045]]]]}',\n",
       " '{\"type\":\"MultiPolygon\",\"coordinates\":[[[[-73.99911256301219,40.67213543985095],[-73.99882534281969,40.67166807664989],[-73.99882054812467,40.6716685781441],[-73.9988171337877,40.67166081480736],[-73.99890111075922,40.67148605760836],[-73.99953677861812,40.67166200979838],[-73.99928806393564,40.672185867393665],[-73.99911256301219,40.67213543985095]]]]}',\n",
       " '{\"type\":\"MultiPolygon\",\"coordinates\":[[[[-74.00056777168165,40.67121569866305],[-74.00044304349692,40.67147659122422],[-73.9999085370382,40.671328446725525],[-74.00003395527736,40.67106774563425],[-74.00056777168165,40.67121569866305]]]]}',\n",
       " '{\"type\":\"MultiPolygon\",\"coordinates\":[[[[-74.0009508715143,40.67161733758283],[-74.000822903456,40.671884299127605],[-73.99978188424946,40.67159170964727],[-73.9999085370382,40.671328446725525],[-74.00044304349692,40.67147659122422],[-74.0009508715143,40.67161733758283]]]]}',\n",
       " '{\"type\":\"MultiPolygon\",\"coordinates\":[[[[-74.00044304349692,40.67147659122422],[-74.00056777168165,40.67121569866305],[-74.00107589025511,40.67135652645915],[-74.0009508715143,40.67161733758283],[-74.00044304349692,40.67147659122422]]]]}',\n",
       " '{\"type\":\"MultiPolygon\",\"coordinates\":[[[[-73.99923488728987,40.67079143778411],[-73.99926400464388,40.67080030565234],[-73.99927025578064,40.67078567888845],[-73.99987354826352,40.67095266772532],[-73.9995965834725,40.67153604182246],[-73.99896155306952,40.67136026824852],[-73.99923488728987,40.67079143778411]]]]}',\n",
       " '{\"type\":\"MultiPolygon\",\"coordinates\":[[[[-74.00094010054876,40.67080432525659],[-74.00102691776442,40.67062392033366],[-74.0013842013116,40.67072714760512],[-74.00129738492728,40.67090755288013],[-74.00094010054876,40.67080432525659]]]]}',\n",
       " '{\"type\":\"MultiPolygon\",\"coordinates\":[[[[-74.00094010054876,40.67080432525659],[-74.00129738492728,40.67090755288013],[-74.00113514470866,40.67124468580173],[-74.00077785866652,40.671141457761905],[-74.00094010054876,40.67080432525659]]]]}',\n",
       " '{\"type\":\"MultiPolygon\",\"coordinates\":[[[[-74.0004381653703,40.67104331194324],[-74.00068586897706,40.670525383465666],[-74.00102691776442,40.67062392033366],[-74.00094010054876,40.67080432525659],[-74.00077785866652,40.671141457761905],[-74.0004381653703,40.67104331194324]]]]}',\n",
       " '{\"type\":\"MultiPolygon\",\"coordinates\":[[[[-74.0003420619561,40.670426046954525],[-74.00068586897706,40.670525383465666],[-74.0004381653703,40.67104331194324],[-74.00009435605035,40.6709439746117],[-74.0003420619561,40.670426046954525]]]]}',\n",
       " '{\"type\":\"MultiPolygon\",\"coordinates\":[[[[-74.00017992068199,40.670307342200935],[-73.99987354826352,40.67095266772532],[-73.99927025578064,40.67078567888845],[-73.9993559950782,40.67058506112501],[-73.99937730913452,40.67052441345539],[-73.99938404109324,40.6705150203081],[-73.99939357603459,40.6705039170537],[-73.99941208649268,40.670494520306576],[-73.9994614470266,40.67040312564881],[-73.99949285633781,40.67033991788923],[-73.99949846715343,40.67033393946268],[-73.99950519792444,40.670318563247214],[-73.9995152935213,40.67030746082218],[-73.99953436442794,40.67029379388402],[-73.99956016665949,40.67021264960419],[-73.99959211883964,40.670144641816584],[-74.00017992068199,40.670307342200935]]]]}',\n",
       " '{\"type\":\"MultiPolygon\",\"coordinates\":[[[[-74.00106291948023,40.67048582266098],[-74.00114001332196,40.670324622078056],[-74.00112775944936,40.67032112369712],[-74.00130007955407,40.66996080684007],[-74.0016982741041,40.67007449137288],[-74.00144749560658,40.670595618811895],[-74.00106291948023,40.67048582266098]]]]}',\n",
       " '{\"type\":\"MultiPolygon\",\"coordinates\":[[[[-74.00112775944936,40.67032112369712],[-74.00114001332196,40.670324622078056],[-74.00106291948023,40.67048582266098],[-74.0007579411609,40.67039874938664],[-74.00100735589746,40.66987723258511],[-74.00130007955407,40.66996080684007],[-74.00112775944936,40.67032112369712]]]]}',\n",
       " '{\"type\":\"MultiPolygon\",\"coordinates\":[[[[-74.0007579411609,40.67039874938664],[-74.00040351297453,40.6702975570742],[-74.00065293010375,40.669776041037366],[-74.00100735589746,40.66987723258511],[-74.0007579411609,40.67039874938664]]]]}',\n",
       " '{\"type\":\"MultiPolygon\",\"coordinates\":[[[[-73.9998815494456,40.66948063424534],[-74.00046014099713,40.66969488822783],[-74.00017992068199,40.670307342200935],[-73.99959211883964,40.670144641816584],[-73.99960952700475,40.670107589672845],[-73.99964093713875,40.67005804808319],[-73.99971834345132,40.66992650765201],[-73.99977331254236,40.66985390579124],[-73.99980920850571,40.66977361517128],[-73.99985183752226,40.669657451786506],[-73.99989222291502,40.66952249462653],[-73.99986846138593,40.669510115735584],[-73.9998815494456,40.66948063424534]]]]}',\n",
       " '{\"type\":\"MultiPolygon\",\"coordinates\":[[[[-74.00072850709716,40.66965810767971],[-74.00096691726706,40.66916267792201],[-74.00197331664387,40.669448764675884],[-74.00173943532353,40.66993479865232],[-74.00072850709716,40.66965810767971]]]]}',\n",
       " '{\"type\":\"MultiPolygon\",\"coordinates\":[[[[-73.99996547123256,40.66930280099132],[-74.0000085526522,40.66920973384745],[-74.00007677754283,40.66907734759296],[-74.00015447172443,40.66893088096256],[-74.00016634336549,40.66893290532915],[-74.00025261968179,40.668769756499636],[-74.00027683583549,40.66872396319759],[-74.00035103258028,40.66874863127219],[-74.00055941390377,40.66881607308547],[-74.00088580644834,40.66896237988917],[-74.00087047946928,40.66899441845665],[-74.00082132888666,40.66898054628699],[-74.00051305828457,40.66959023040079],[-74.00046014099713,40.66969488822783],[-73.9998815494456,40.66948063424534],[-73.99996547123256,40.66930280099132]]]]}',\n",
       " '{\"type\":\"MultiPolygon\",\"coordinates\":[[[[-74.00104021285456,40.66904227692976],[-74.00105682647452,40.669007751153536],[-74.00111747269628,40.669022684799536],[-74.00140919677104,40.6684042777122],[-74.00228413411283,40.66866325391611],[-74.00227326145537,40.66868623253684],[-74.00233218213788,40.66870298103211],[-74.00203397841001,40.669322700773705],[-74.00104021285456,40.66904227692976]]]]}',\n",
       " '{\"type\":\"MultiPolygon\",\"coordinates\":[[[[-74.00089013978972,40.66896134061843],[-74.00087385955977,40.668995371176955],[-74.00087047946928,40.66899441845665],[-74.00088580644834,40.66896237988917],[-74.00055941390377,40.66881607308547],[-74.00058334068491,40.6688238169003],[-74.00089013978972,40.66896134061843]]]]}',\n",
       " '{\"type\":\"MultiPolygon\",\"coordinates\":[[[[-74.00623908097367,40.70736093005636],[-74.00654190613851,40.707196175696794],[-74.00667548825048,40.707332180399405],[-74.00662863976892,40.707358992071704],[-74.00665990072494,40.70738786427136],[-74.00673324165379,40.70745479061468],[-74.00654762762228,40.7075910380252],[-74.00643584393733,40.70750784686534],[-74.00630733404866,40.7074122087654],[-74.00623908097367,40.70736093005636]]]]}',\n",
       " '{\"type\":\"MultiPolygon\",\"coordinates\":[[[[-74.00599202241726,40.70761128598594],[-74.00596925121131,40.70762544493846],[-74.00597035651666,40.70762652913406],[-74.00587354695669,40.70768672211997],[-74.00560367245619,40.70742209402752],[-74.00573166288927,40.707372969769054],[-74.00595870881837,40.707285826443915],[-74.00616403387771,40.70743471535931],[-74.0060137599263,40.70756404332169],[-74.00601422389629,40.707564378277524],[-74.00597749082432,40.70759703885948],[-74.00599202241726,40.70761128598594]]]]}',\n",
       " '{\"type\":\"MultiPolygon\",\"coordinates\":[[[[-74.00596004798672,40.70777152789408],[-74.0059140305481,40.70772641373064],[-74.00603361254925,40.70765206175034],[-74.00599202241726,40.70761128598594],[-74.00597749082432,40.70759703885948],[-74.00601422389629,40.707564378277524],[-74.0060137599263,40.70756404332169],[-74.00616403387771,40.70743471535931],[-74.00628540372652,40.707522724001805],[-74.00648374679429,40.70766654919303],[-74.00640889304327,40.70773368164824],[-74.00639988247367,40.7077278639896],[-74.00629662238323,40.707823874476794],[-74.0061883390843,40.707924555266715],[-74.00612882007965,40.707887627464544],[-74.00600594718169,40.70781652767899],[-74.00596004798672,40.70777152789408]]]]}',\n",
       " '{\"type\":\"MultiPolygon\",\"coordinates\":[[[[-74.00587354695669,40.70768672211997],[-74.00597035651666,40.70762652913406],[-74.00596925121131,40.70762544493846],[-74.00599202241726,40.70761128598594],[-74.00603361254925,40.70765206175034],[-74.0059140305481,40.70772641373064],[-74.00587354695669,40.70768672211997]]]]}',\n",
       " '{\"type\":\"MultiPolygon\",\"coordinates\":[[[[-74.0061883390843,40.707924555266715],[-74.00629662238323,40.707823874476794],[-74.00639988247367,40.7077278639896],[-74.00640889304327,40.70773368164824],[-74.00648374679429,40.70766654919303],[-74.00677752326696,40.7078795719484],[-74.00665293941336,40.708060763153604],[-74.00655622172295,40.708152795164686],[-74.0061883390843,40.707924555266715]]]]}',\n",
       " '{\"type\":\"MultiPolygon\",\"coordinates\":[[[[-74.00620722751788,40.70692922655582],[-74.00614692600244,40.70685216130589],[-74.00619218937123,40.706820635764466],[-74.00630019566397,40.706905897645626],[-74.00634800173896,40.70697397365209],[-74.00626671621605,40.70700543085644],[-74.00620722751788,40.70692922655582]]]]}',\n",
       " '{\"type\":\"MultiPolygon\",\"coordinates\":[[[[-74.00545992226971,40.70668352066869],[-74.00567052274397,40.706855982045504],[-74.0056733496387,40.70685425832451],[-74.00587952556306,40.707040877268184],[-74.00595120445462,40.70712753159986],[-74.00555098681762,40.707282409426256],[-74.00515464251689,40.70689668280038],[-74.00545992226971,40.70668352066869]]]]}',\n",
       " '{\"type\":\"MultiPolygon\",\"coordinates\":[[[[-74.00545992226971,40.70668352066869],[-74.00575632430952,40.70647655551736],[-74.00619218937123,40.706820635764466],[-74.00614692600244,40.70685216130589],[-74.00620722751788,40.70692922655582],[-74.00626671621605,40.70700543085644],[-74.00595120445462,40.70712753159986],[-74.00587952556306,40.707040877268184],[-74.0056733496387,40.70685425832451],[-74.00567052274397,40.706855982045504],[-74.00545992226971,40.70668352066869]]]]}',\n",
       " '{\"type\":\"MultiPolygon\",\"coordinates\":[[[[-74.00645440580807,40.706928724575306],[-74.0058294770436,40.706439363664344],[-74.00605921825002,40.706278567210724],[-74.00666687341196,40.70673723135476],[-74.00645440580807,40.706928724575306]]]]}',\n",
       " '{\"type\":\"MultiPolygon\",\"coordinates\":[[[[-74.00529806630234,40.706030376549506],[-74.00554135192027,40.705887669101976],[-74.00583419762847,40.70610871787766],[-74.00560499486745,40.70627006134103],[-74.00529806630234,40.706030376549506]]]]}',\n",
       " '{\"type\":\"MultiPolygon\",\"coordinates\":[[[[-74.0050267700127,40.70667341489015],[-74.00470318197544,40.706388235554336],[-74.00524432566876,40.70606190026941],[-74.00555457622983,40.706305521229105],[-74.0050267700127,40.70667341489015]]]]}',\n",
       " '{\"type\":\"MultiPolygon\",\"coordinates\":[[[[-74.00482360991575,40.70565082145701],[-74.0049625661137,40.7055593132987],[-74.00500800443155,40.70559478708499],[-74.00531185681638,40.705833110286],[-74.00516145735757,40.70593392072474],[-74.00486844251223,40.70568833222255],[-74.00482360991575,40.70565082145701]]]]}',\n",
       " '{\"type\":\"MultiPolygon\",\"coordinates\":[[[[-74.00488015143628,40.70577126868828],[-74.00511363703106,40.705965902512524],[-74.0050278763646,40.70602335409708],[-74.00479283838148,40.705829761158306],[-74.00488015143628,40.70577126868828]]]]}',\n",
       " '{\"type\":\"MultiPolygon\",\"coordinates\":[[[[-74.00464082009798,40.70583545731804],[-74.00453816500634,40.70574988211938],[-74.0046332166212,40.70568620715302],[-74.00463152561011,40.705684779955355],[-74.00471184903445,40.70563096964365],[-74.00488015143628,40.70577126868828],[-74.00479283838148,40.705829761158306],[-74.0050278763646,40.70602335409708],[-74.00495659045102,40.70607110927502],[-74.00470337906498,40.705860031685404],[-74.00470270222328,40.7058604846541],[-74.00465919385975,40.705824215557655],[-74.00464082009798,40.70583545731804]]]]}',\n",
       " '{\"type\":\"MultiPolygon\",\"coordinates\":[[[[-74.00470244616953,40.7059571624559],[-74.004704085019,40.70595608542084],[-74.00459383818543,40.70586418267808],[-74.00464082009798,40.70583545731804],[-74.00465919385975,40.705824215557655],[-74.00470270222328,40.7058604846541],[-74.00470337906498,40.705860031685404],[-74.00495659045102,40.70607110927502],[-74.0048914705657,40.706114734390944],[-74.00470244616953,40.7059571624559]]]]}',\n",
       " '{\"type\":\"MultiPolygon\",\"coordinates\":[[[[-74.0045472836394,40.706056381954504],[-74.00464806416709,40.705991949463055],[-74.00483551135878,40.706152222134456],[-74.00460218187558,40.70630853161832],[-74.00450225231182,40.70621970186747],[-74.00456479191804,40.706177804255475],[-74.00442399410535,40.70605264579204],[-74.00449156251345,40.70600743053364],[-74.0045472836394,40.706056381954504]]]]}',\n",
       " '{\"type\":\"MultiPolygon\",\"coordinates\":[[[[-74.00434948930608,40.70608390780957],[-74.00447952858102,40.705996858948886],[-74.00449156251345,40.70600743053364],[-74.00442399410535,40.70605264579204],[-74.00456479191804,40.706177804255475],[-74.00450225231182,40.70621970186747],[-74.00434948930608,40.70608390780957]]]]}',\n",
       " '{\"type\":\"MultiPolygon\",\"coordinates\":[[[[-74.0042064863101,40.7058585160967],[-74.0041434438425,40.705900748511674],[-74.00401826926743,40.70578947763113],[-74.00407812755398,40.705751209342566],[-74.0042064863101,40.7058585160967]]]]}',\n",
       " '{\"type\":\"MultiPolygon\",\"coordinates\":[[[[-74.00449156251345,40.70600743053364],[-74.00447952858102,40.705996858948886],[-74.0041486151235,40.705706144610744],[-74.00424139781136,40.70564682578393],[-74.00442949497933,40.70580546921136],[-74.00448264275231,40.7057714891803],[-74.00459383818543,40.70586418267808],[-74.004704085019,40.70595608542084],[-74.00470244616953,40.7059571624559],[-74.00464806416709,40.705991949463055],[-74.0045472836394,40.706056381954504],[-74.00449156251345,40.70600743053364]]]]}',\n",
       " '{\"type\":\"MultiPolygon\",\"coordinates\":[[[[-74.00442949497933,40.70580546921136],[-74.00424139781136,40.70564682578393],[-74.00451841483223,40.70546971990201],[-74.00471184903445,40.70563096964365],[-74.00463152561011,40.705684779955355],[-74.0046332166212,40.70568620715302],[-74.00453816500634,40.70574988211938],[-74.00464082009798,40.70583545731804],[-74.00459383818543,40.70586418267808],[-74.00448264275231,40.7057714891803],[-74.00442949497933,40.70580546921136]]]]}',\n",
       " '{\"type\":\"MultiPolygon\",\"coordinates\":[[[[-74.0048914705657,40.706114734390944],[-74.00483551135878,40.706152222134456],[-74.00464806416709,40.705991949463055],[-74.00470244616953,40.7059571624559],[-74.0048914705657,40.706114734390944]]]]}',\n",
       " '{\"type\":\"MultiPolygon\",\"coordinates\":[[[[-74.0041486151235,40.705706144610744],[-74.00447952858102,40.705996858948886],[-74.00434948930608,40.70608390780957],[-74.0041434438425,40.705900748511674],[-74.0042064863101,40.7058585160967],[-74.00407812755398,40.705751209342566],[-74.0041486151235,40.705706144610744]]]]}',\n",
       " '{\"type\":\"MultiPolygon\",\"coordinates\":[[[[-74.0049625661137,40.7055593132987],[-74.00482360991575,40.70565082145701],[-74.0045687201549,40.70543755814545],[-74.00469950237651,40.70535394354505],[-74.00496201937568,40.70555888740106],[-74.0049625661137,40.7055593132987]]]]}',\n",
       " '{\"type\":\"MultiPolygon\",\"coordinates\":[[[[-74.00438662970738,40.705066529529695],[-74.0042241240625,40.705165834452814],[-74.00421916741318,40.705168863914096],[-74.0041224718834,40.70522385773735],[-74.00402455398192,40.70527954758064],[-74.00387796660071,40.705362916946775],[-74.00387246431976,40.705366046385606],[-74.00384410368265,40.705382175402626],[-74.00380745761166,40.70540301161864],[-74.00371832502618,40.705453688698576],[-74.0036940157374,40.70546752482095],[-74.00366678143367,40.705484128371836],[-74.00359497668347,40.705527903293216],[-74.00354987855913,40.70548430609972],[-74.00383504453423,40.705302901104155],[-74.00331539483875,40.70483861595974],[-74.00290679103728,40.70447354574322],[-74.00292475053234,40.70446073193628],[-74.00266098158822,40.704224993245724],[-74.00286412604997,40.70409174220451],[-74.00331539561687,40.70450413840938],[-74.00359594768084,40.704760523052386],[-74.00360268220345,40.704766500457055],[-74.00405614678924,40.70515170927469],[-74.00408645246898,40.70513206092847],[-74.00409655253608,40.70514060282795],[-74.00428082182997,40.705024401099124],[-74.00426939266325,40.705012475162626],[-74.00430800101134,40.7049877923192],[-74.00438662970738,40.705066529529695]]]]}',\n",
       " '{\"type\":\"MultiPolygon\",\"coordinates\":[[[[-74.00359497668347,40.705527903293216],[-74.0035158012124,40.705575522695135],[-74.00343193732408,40.705625229519015],[-74.00319036032431,40.70576634666779],[-74.00305348215993,40.705846001008716],[-74.0029727958881,40.70589193797739],[-74.00290435891053,40.70593075779696],[-74.00280697350773,40.70582967683226],[-74.0026469630322,40.70568102678727],[-74.00240874829088,40.70545971717097],[-74.00257909548256,40.705530137030095],[-74.0026935770661,40.70545326085727],[-74.00248395566128,40.70526706928062],[-74.00236470573971,40.70516114821107],[-74.00241409002855,40.70512783472595],[-74.00197522367696,40.70473236972513],[-74.00217500355531,40.70460595207663],[-74.0023534691142,40.70476652971815],[-74.0023691818329,40.704756278919085],[-74.00233999830164,40.704727238941864],[-74.00244325580499,40.704667446843175],[-74.0024993756869,40.70472296574298],[-74.0023972423598,40.704783612554714],[-74.0023792839898,40.704766529250655],[-74.00236357124206,40.7047759272912],[-74.00290871008124,40.70526707033061],[-74.0033153928608,40.70563347144266],[-74.00354987855913,40.70548430609972],[-74.00359497668347,40.705527903293216]]]]}',\n",
       " '{\"type\":\"MultiPolygon\",\"coordinates\":[[[[-74.0026469630322,40.70568102678727],[-74.00280697350773,40.70582967683226],[-74.0027547417429,40.70585911836622],[-74.00258813599362,40.70595298281899],[-74.00249574879568,40.70600503314901],[-74.00226656070618,40.70578925450538],[-74.00216246354333,40.705847222967826],[-74.00167362245891,40.70611943956706],[-74.00174458352446,40.70619326966973],[-74.00162117829315,40.70626214664148],[-74.00131937579887,40.70594849597962],[-74.00121892137025,40.70600530216764],[-74.00059357622438,40.70543961860392],[-74.00059581960363,40.70541314005691],[-74.00082457248966,40.705267065207565],[-74.00143985169088,40.70487416607473],[-74.00147352265088,40.70487672768976],[-74.0018978883354,40.70526706778581],[-74.00206503579416,40.705420813403265],[-74.00210993094694,40.705392626798066],[-74.00203809520323,40.70533283671142],[-74.00202125933808,40.70534394207996],[-74.00197523920522,40.70530294347242],[-74.00202911433215,40.70526706812747],[-74.00207513444886,40.705307213035084],[-74.00205268622122,40.70532258781512],[-74.00212564385056,40.70538237687092],[-74.00216380381546,40.705358459671736],[-74.00240874829088,40.70545971717097],[-74.0026469630322,40.70568102678727]]]]}',\n",
       " '{\"type\":\"MultiPolygon\",\"coordinates\":[[[[-74.00174458352446,40.70619326966973],[-74.00167362245891,40.70611943956706],[-74.00216246354333,40.705847222967826],[-74.00226656070618,40.70578925450538],[-74.00249574879568,40.70600503314901],[-74.00188824199921,40.70634427692127],[-74.00174458352446,40.70619326966973]]]]}',\n",
       " '{\"type\":\"MultiPolygon\",\"coordinates\":[[[[-74.00131937579887,40.70594849597962],[-74.00162117829315,40.70626214664148],[-74.00113431994022,40.706533875504626],[-74.00100833409452,40.70640271241172],[-74.00140844759989,40.70617674641171],[-74.00121892137025,40.70600530216764],[-74.00131937579887,40.70594849597962]]]]}',\n",
       " '{\"type\":\"MultiPolygon\",\"coordinates\":[[[[-74.00113432290875,40.70653387826617],[-74.00141826837513,40.706827301448826],[-74.00118010372489,40.706963839631484],[-74.00073777943149,40.70722041537941],[-73.99949043447103,40.70794393650937],[-73.9993894998197,40.707847219466395],[-73.9994049323328,40.70783978216824],[-73.99944870949572,40.70781842682739],[-73.99946666697566,40.70780903194735],[-73.9994846268618,40.707800489822695],[-73.99951493147749,40.70778639792895],[-73.99952110501539,40.707781699966624],[-73.99952727867463,40.70777571972815],[-73.99953469127045,40.70776556739319],[-73.99949585173754,40.70772020136422],[-73.99955197240985,40.707692868458246],[-73.99959770614566,40.707746057330894],[-73.99961258444833,40.7077475333538],[-73.99963644901366,40.70774980453329],[-73.99995598768453,40.70759315287736],[-73.99995155851798,40.70758439278357],[-73.99995053722066,40.70757506078839],[-73.99994931375211,40.7075638908386],[-73.99995142955349,40.70755101445705],[-73.99995380337359,40.70753997602881],[-73.99995717124489,40.70753228748268],[-73.99996729604437,40.70751831523587],[-73.99997571315517,40.70750977477566],[-73.99998635508823,40.70749897680242],[-74.00006829259547,40.70744943638022],[-74.00019849403765,40.70737256182356],[-74.0003343077206,40.707290564203404],[-74.0004207343917,40.70724529461478],[-74.00054420069532,40.70718977437356],[-74.00071705346161,40.707109485325816],[-74.00083266302694,40.70705481764485],[-74.00095276199865,40.70698819370891],[-74.00098643253315,40.70696940252218],[-74.0010504092632,40.70693352766833],[-74.00110428628714,40.7069036312828],[-74.00114693699808,40.70687971431103],[-74.00119278153095,40.70685294269198],[-74.00113459003815,40.706796008472615],[-74.0012400965464,40.706737925653236],[-74.00116489327773,40.70666105067728],[-74.00119968767861,40.70664140665887],[-74.00098193610518,40.70641762076082],[-74.00100833420285,40.70640271232795],[-74.00113432290875,40.70653387826617]]]]}',\n",
       " '{\"type\":\"MultiPolygon\",\"coordinates\":[[[[-73.99886525318351,40.70814098493406],[-73.99886728036282,40.7081404376457],[-73.99890207727528,40.70812591728418],[-73.99898177037566,40.70807296098194],[-73.9990300365835,40.70803537782405],[-73.99906370954623,40.70800462929733],[-73.99913105738369,40.707962776041484],[-73.99916248640028,40.707947401054916],[-73.99919952564551,40.7079277576276],[-73.99923207641038,40.70791494459021],[-73.99927472950864,40.70789700854164],[-73.99933758490722,40.70787223875506],[-73.9993894998197,40.707847219466395],[-73.99949043447103,40.70794393650937],[-73.99898580150631,40.70824201001799],[-73.99886525318351,40.70814098493406]]]]}',\n",
       " '{\"type\":\"MultiPolygon\",\"coordinates\":[[[[-73.99898580150631,40.70824201001799],[-73.998716071284,40.708389886804184],[-73.99863244863757,40.708319827638555],[-73.99871687226853,40.7082847856287],[-73.99872136247387,40.708261724548535],[-73.99872136298958,40.70823780797486],[-73.99873932245787,40.7082019336736],[-73.99876064710122,40.70817887187817],[-73.99878085316014,40.708168623451904],[-73.99880666952369,40.70815837324932],[-73.99883248584528,40.70814983223894],[-73.99886525318351,40.70814098493406],[-73.99898580150631,40.70824201001799]]]]}',\n",
       " '{\"type\":\"MultiPolygon\",\"coordinates\":[[[[-74.00431170545636,40.706346050169074],[-74.00412816409677,40.70646616105519],[-74.00423081298098,40.706557674553096],[-74.003821546131,40.70682575149829],[-74.00329303858994,40.70625756935451],[-74.00382686830324,40.70591382423843],[-74.00431170545636,40.706346050169074]]]]}',\n",
       " '{\"type\":\"MultiPolygon\",\"coordinates\":[[[[-74.00423081298098,40.706557674553096],[-74.00412816409677,40.70646616105519],[-74.00431170545636,40.706346050169074],[-74.00382686830324,40.70591382423843],[-74.00388267174536,40.70587789124796],[-74.00454528132288,40.70646862182624],[-74.00384649053518,40.706926896938754],[-74.00324979876156,40.706285411522686],[-74.00329303858994,40.70625756935451],[-74.003821546131,40.70682575149829],[-74.00423081298098,40.706557674553096]]]]}',\n",
       " '{\"type\":\"MultiPolygon\",\"coordinates\":[[[[-74.00384649053518,40.706926896938754],[-74.00454528132288,40.70646862182624],[-74.00491037404855,40.70679533332386],[-74.00415702689513,40.70725764403192],[-74.00384649053518,40.706926896938754]]]]}',\n",
       " '{\"type\":\"MultiPolygon\",\"coordinates\":[[[[-74.00495657730069,40.707022701176705],[-74.00499712250708,40.707060989189635],[-74.00484139738886,40.707166527942704],[-74.0048825497336,40.70720538955278],[-74.00492328796074,40.707243860384956],[-74.0050913514205,40.70714997359896],[-74.0053315605197,40.70737680981323],[-74.00438468225674,40.70774213452446],[-74.00418698132572,40.70750131813297],[-74.00495657730069,40.707022701176705]]]]}',\n",
       " '{\"type\":\"MultiPolygon\",\"coordinates\":[[[[-74.00499712250708,40.707060989189635],[-74.00504382392289,40.70710509239647],[-74.0048825497336,40.70720538955278],[-74.00484139738886,40.707166527942704],[-74.00499712250708,40.707060989189635]]]]}',\n",
       " '{\"type\":\"MultiPolygon\",\"coordinates\":[[[[-74.00492328796074,40.707243860384956],[-74.0048825497336,40.70720538955278],[-74.00504382392289,40.70710509239647],[-74.0050913514205,40.70714997359896],[-74.00492328796074,40.707243860384956]]]]}',\n",
       " '{\"type\":\"MultiPolygon\",\"coordinates\":[[[[-74.00487017492357,40.707683547991124],[-74.00500292005086,40.70794668411323],[-74.00500347270015,40.707946481463054],[-74.00500421115719,40.707947945672856],[-74.00500365861794,40.70794814832303],[-74.00491732552176,40.707979783977656],[-74.00492856662906,40.70800206937501],[-74.00484540235095,40.70803265222208],[-74.00484517276354,40.708032160553266],[-74.00483240239933,40.708004797221356],[-74.0047589591533,40.708032728480894],[-74.00475853307547,40.70803181633918],[-74.00465636561195,40.70806945518905],[-74.00446635953254,40.70783179712105],[-74.00470826447031,40.70774298886451],[-74.00487017492357,40.707683547991124]]]]}',\n",
       " '{\"type\":\"MultiPolygon\",\"coordinates\":[[[[-74.00500347270015,40.707946481463054],[-74.00500292005086,40.70794668411323],[-74.00487017492357,40.707683547991124],[-74.00501465018591,40.70763050844521],[-74.00515713143777,40.707912939204206],[-74.00514922682258,40.70791584099423],[-74.0050805278069,40.70794106171689],[-74.00507419351385,40.7079285061845],[-74.00500421115719,40.707947945672856],[-74.00500347270015,40.707946481463054]]]]}',\n",
       " '{\"type\":\"MultiPolygon\",\"coordinates\":[[[[-74.00552064113002,40.70804772227119],[-74.0052639848489,40.70753897193997],[-74.00545581325083,40.70746854731503],[-74.00589294394516,40.7078999924456],[-74.00561435774759,40.708010535987476],[-74.00552064113002,40.70804772227119]]]]}',\n",
       " '{\"type\":\"MultiPolygon\",\"coordinates\":[[[[-74.0052639848489,40.70753897193997],[-74.00552064113002,40.70804772227119],[-74.00526661000555,40.70814852133011],[-74.00514922682258,40.70791584099423],[-74.00515713143777,40.707912939204206],[-74.00501465018591,40.70763050844521],[-74.0052639848489,40.70753897193997]]]]}',\n",
       " '{\"type\":\"MultiPolygon\",\"coordinates\":[[[[-74.00514922682258,40.70791584099423],[-74.00526661000555,40.70814852133011],[-74.00519876757086,40.708175440409896],[-74.0050805278069,40.70794106171689],[-74.00514922682258,40.70791584099423]]]]}',\n",
       " '{\"type\":\"MultiPolygon\",\"coordinates\":[[[[-74.00484540235095,40.70803265222208],[-74.00492856662906,40.70800206937501],[-74.00494003139107,40.70802479323072],[-74.0050465088676,40.70823585566057],[-74.00495684343429,40.70827143309721],[-74.00484540235095,40.70803265222208]]]]}',\n",
       " '{\"type\":\"MultiPolygon\",\"coordinates\":[[[[-74.00484540235095,40.70803265222208],[-74.00495684343429,40.70827143309721],[-74.00485132109496,40.7083133038413],[-74.00479883430982,40.708247654254],[-74.00484873991256,40.708225452943836],[-74.0047589591533,40.708032728480894],[-74.00483240239933,40.708004797221356],[-74.00484517276354,40.708032160553266],[-74.00484540235095,40.70803265222208]]]]}',\n",
       " '{\"type\":\"MultiPolygon\",\"coordinates\":[[[[-74.00484873991256,40.708225452943836],[-74.00479883430982,40.708247654254],[-74.00465636561195,40.70806945518905],[-74.00475853307547,40.70803181633918],[-74.0047589591533,40.708032728480894],[-74.00484873991256,40.708225452943836]]]]}',\n",
       " '{\"type\":\"MultiPolygon\",\"coordinates\":[[[[-74.00500421115719,40.707947945672856],[-74.00507419351385,40.7079285061845],[-74.0050805278069,40.70794106171689],[-74.00519876757086,40.708175440409896],[-74.00513228598169,40.70820181919053],[-74.00500421115719,40.707947945672856]]]]}',\n",
       " '{\"type\":\"MultiPolygon\",\"coordinates\":[[[[-74.00492856662906,40.70800206937501],[-74.00491732552176,40.707979783977656],[-74.00500365861794,40.70794814832303],[-74.00500421115719,40.707947945672856],[-74.00513228598169,40.70820181919053],[-74.0050465088676,40.70823585566057],[-74.00494003139107,40.70802479323072],[-74.00492856662906,40.70800206937501]]]]}',\n",
       " '{\"type\":\"MultiPolygon\",\"coordinates\":[[[[-74.00518603510129,40.70871604643191],[-74.00540811457306,40.70862298355148],[-74.00542440857284,40.70864093903857],[-74.0054282792626,40.708638471444424],[-74.00551806701687,40.70870749143789],[-74.00530447902416,40.70885794903135],[-74.00518603510129,40.70871604643191]]]]}',\n",
       " '{\"type\":\"MultiPolygon\",\"coordinates\":[[[[-74.00493608459209,40.70841659422599],[-74.00513194801204,40.708335834813106],[-74.00540811457306,40.70862298355148],[-74.00518603510129,40.70871604643191],[-74.00493608459209,40.70841659422599]]]]}',\n",
       " '{\"type\":\"MultiPolygon\",\"coordinates\":[[[[-74.00540811457306,40.70862298355148],[-74.00513194801204,40.708335834813106],[-74.00521693224901,40.70830079329218],[-74.00558693825128,40.70865226091073],[-74.00559099865639,40.70865611675467],[-74.00551806701687,40.70870749143789],[-74.0054282792626,40.708638471444424],[-74.00542440857284,40.70864093903857],[-74.00540811457306,40.70862298355148]]]]}',\n",
       " '{\"type\":\"MultiPolygon\",\"coordinates\":[[[[-74.00521693224901,40.70830079329218],[-74.00538924923886,40.708229742748166],[-74.00552297774658,40.708365951389254],[-74.00549267229205,40.70838637631318],[-74.00556145522805,40.70845832210444],[-74.00552119687258,40.70848408298593],[-74.00565028256565,40.708606326618614],[-74.00558693825128,40.70865226091073],[-74.00521693224901,40.70830079329218]]]]}',\n",
       " '{\"type\":\"MultiPolygon\",\"coordinates\":[[[[-74.00591643117164,40.70870872615023],[-74.00576787324773,40.70858323559821],[-74.00582842355078,40.70853827390244],[-74.00597539889188,40.70865863786104],[-74.00591643117164,40.70870872615023]]]]}',\n",
       " '{\"type\":\"MultiPolygon\",\"coordinates\":[[[[-74.00565991286095,40.7086634022948],[-74.00576787324773,40.70858323559821],[-74.00591643117164,40.70870872615023],[-74.0058215399657,40.70878932906823],[-74.00577696549718,40.708827190423506],[-74.00572899493449,40.70886793798195],[-74.00555675873585,40.70873999984723],[-74.00560803708419,40.708701923091006],[-74.00565991286095,40.7086634022948]]]]}',\n",
       " '{\"type\":\"MultiPolygon\",\"coordinates\":[[[[-74.00572899493449,40.70886793798195],[-74.0055513390055,40.70901884191375],[-74.00535689423411,40.70888841005258],[-74.00555675873585,40.70873999984723],[-74.00572899493449,40.70886793798195]]]]}',\n",
       " '{\"type\":\"MultiPolygon\",\"coordinates\":[[[[-74.00538924923886,40.708229742748166],[-74.0055737280504,40.708153676564585],[-74.00587801358499,40.70842598163542],[-74.00580097681687,40.70847211122375],[-74.00581701499024,40.70848541727745],[-74.00565028256565,40.708606326618614],[-74.00552119687258,40.70848408298593],[-74.00556145522805,40.70845832210444],[-74.00549267229205,40.70838637631318],[-74.00552297774658,40.708365951389254],[-74.00538924923886,40.708229742748166]]]]}',\n",
       " '{\"type\":\"MultiPolygon\",\"coordinates\":[[[[-74.00581701499024,40.70848541727745],[-74.00580097681687,40.70847211122375],[-74.00587801358499,40.70842598163542],[-74.0055737280504,40.708153676564585],[-74.00601261251312,40.7079727090127],[-74.00645554815517,40.70825079762321],[-74.00600030102858,40.70863748539387],[-74.00581701499024,40.70848541727745]]]]}',\n",
       " '{\"type\":\"MultiPolygon\",\"coordinates\":[[[[-74.00651494951637,40.70828809085995],[-74.00670763065801,40.70840906096365],[-74.00645321406088,40.70863338455066],[-74.00651256282876,40.708675908792635],[-74.00639074269283,40.70878455462337],[-74.00614609483308,40.70860120104762],[-74.00651494951637,40.70828809085995]]]]}',\n",
       " '{\"type\":\"MultiPolygon\",\"coordinates\":[[[[-74.00628836928055,40.708875858092235],[-74.00639074269283,40.70878455462337],[-74.00651256282876,40.708675908792635],[-74.00645321406088,40.70863338455066],[-74.00670763065801,40.70840906096365],[-74.00719222132277,40.708713295229515],[-74.00678075593476,40.70912821893132],[-74.00628836928055,40.708875858092235]]]]}',\n",
       " '{\"type\":\"MultiPolygon\",\"coordinates\":[[[[-74.00625527195965,40.70919184044274],[-74.00631217307068,40.70913459930631],[-74.0066186559655,40.70929167758415],[-74.00656150776166,40.70934930615262],[-74.00625527195965,40.70919184044274]]]]}',\n",
       " '{\"type\":\"MultiPolygon\",\"coordinates\":[[[[-74.00613005568195,40.70931751833664],[-74.00625527195965,40.70919184044274],[-74.00656150776166,40.70934930615262],[-74.00643856486718,40.709473278653384],[-74.00613005568195,40.70931751833664]]]]}',\n",
       " '{\"type\":\"MultiPolygon\",\"coordinates\":[[[[-74.00561097587017,40.709055441298624],[-74.00614609483308,40.70860120104762],[-74.00639074269283,40.70878455462337],[-74.00628836928055,40.708875858092235],[-74.00622966564315,40.70892794485886],[-74.0061131019291,40.70903256743666],[-74.00600329788689,40.70913073660005],[-74.00591546960543,40.70920917701419],[-74.00561097587017,40.709055441298624]]]]}',\n",
       " '{\"type\":\"MultiPolygon\",\"coordinates\":[[[[-74.00591546960543,40.70920917701419],[-74.00600329788689,40.70913073660005],[-74.0061131019291,40.70903256743666],[-74.00622966564315,40.70892794485886],[-74.00628836928055,40.708875858092235],[-74.00678075593476,40.70912821893132],[-74.0066186559655,40.70929167758415],[-74.00631217307068,40.70913459930631],[-74.00625527195965,40.70919184044274],[-74.00613005568195,40.70931751833664],[-74.00605524245383,40.70927974663441],[-74.0059798684774,40.70924169129889],[-74.00591546960543,40.70920917701419]]]]}',\n",
       " '{\"type\":\"MultiPolygon\",\"coordinates\":[[[[-74.00672769359693,40.709348421715134],[-74.00686652920673,40.70941969633544],[-74.00686509989761,40.70942117956254],[-74.00669091876715,40.709602228689576],[-74.00654804867109,40.70952996612357],[-74.00672769359693,40.709348421715134]]]]}',\n",
       " '{\"type\":\"MultiPolygon\",\"coordinates\":[[[[-74.00706908315253,40.70945452171014],[-74.00706007121414,40.70944996387375],[-74.00703518960296,40.709475803604434],[-74.00703387506411,40.70947716978593],[-74.00701208180288,40.70949980083792],[-74.00686509989761,40.70942117956254],[-74.00686652920673,40.70941969633544],[-74.00672769359693,40.709348421715134],[-74.00700825739429,40.70906521164389],[-74.00726434306192,40.70922549343652],[-74.00731440176327,40.709174960093165],[-74.00755323699339,40.70930115703267],[-74.00729545775104,40.709569023236035],[-74.00706908315253,40.70945452171014]]]]}',\n",
       " '{\"type\":\"MultiPolygon\",\"coordinates\":[[[[-74.00684067100262,40.70967797283534],[-74.00701208180288,40.70949980083792],[-74.00703387506411,40.70947716978593],[-74.00703518960296,40.709475803604434],[-74.00706007121414,40.70944996387375],[-74.00706908315253,40.70945452171014],[-74.00729545775104,40.709569023236035],[-74.00724614564767,40.70962024622663],[-74.00716439407911,40.70957889345653],[-74.00699431341934,40.709755682514256],[-74.00684067100262,40.70967797283534]]]]}',\n",
       " '{\"type\":\"MultiPolygon\",\"coordinates\":[[[[-74.00789663763729,40.70999463686769],[-74.0077379982149,40.70991439654297],[-74.00777400692597,40.7098775697126],[-74.00793263926917,40.70995780722825],[-74.00789663763729,40.70999463686769]]]]}',\n",
       " '{\"type\":\"MultiPolygon\",\"coordinates\":[[[[-74.00789663763729,40.70999463686769],[-74.00786063596759,40.71003146825209],[-74.00770198935223,40.70995122252423],[-74.0077379982149,40.70991439654297],[-74.00789663763729,40.70999463686769]]]]}',\n",
       " '{\"type\":\"MultiPolygon\",\"coordinates\":[[[[-74.00766317735311,40.70999091582774],[-74.00770198935223,40.70995122252423],[-74.00786063596759,40.71003146825209],[-74.0078218323704,40.710071165288525],[-74.00766317735311,40.70999091582774]]]]}',\n",
       " '{\"type\":\"MultiPolygon\",\"coordinates\":[[[[-74.0078218323704,40.710071165288525],[-74.00775041440232,40.710144057106945],[-74.00759233797895,40.71006332311215],[-74.00766317735311,40.70999091582774],[-74.0078218323704,40.710071165288525]]]]}',\n",
       " '{\"type\":\"MultiPolygon\",\"coordinates\":[[[[-74.00769716974068,40.7098387068455],[-74.00777400692597,40.7098775697126],[-74.0077379982149,40.70991439654297],[-74.00770198935223,40.70995122252423],[-74.00766317735311,40.70999091582774],[-74.00759233797895,40.71006332311215],[-74.00751573142564,40.71002419900276],[-74.00769716974068,40.7098387068455]]]]}',\n",
       " '{\"type\":\"MultiPolygon\",\"coordinates\":[[[[-74.00743981005168,40.70998542333249],[-74.00762225091225,40.70980081460907],[-74.00762572198151,40.70980257043702],[-74.00769716974068,40.7098387068455],[-74.00751573142564,40.71002419900276],[-74.00743981005168,40.70998542333249]]]]}',\n",
       " '{\"type\":\"MultiPolygon\",\"coordinates\":[[[[-74.00762225091225,40.70980081460907],[-74.00743981005168,40.70998542333249],[-74.00736457517407,40.709946997859106],[-74.00721124537625,40.70986868713225],[-74.00713260721204,40.709828523733094],[-74.00730958042257,40.70964696051092],[-74.00738837577326,40.709686809548614],[-74.00747139278485,40.709728798740876],[-74.00747406218382,40.70972586382171],[-74.00754555584658,40.70976202466665],[-74.00762225091225,40.70980081460907]]]]}',\n",
       " '{\"type\":\"MultiPolygon\",\"coordinates\":[[[[-74.00813674148216,40.70939371901187],[-74.00788366715457,40.709652566692654],[-74.00780921593015,40.70961491047102],[-74.0078415244566,40.70958186777499],[-74.00776606435471,40.70953802241618],[-74.00776750442083,40.70953654637168],[-74.00800165520413,40.70929708100676],[-74.00813674148216,40.70939371901187]]]]}',\n",
       " '{\"type\":\"MultiPolygon\",\"coordinates\":[[[[-74.00788366715457,40.709652566692654],[-74.00811609605833,40.70977012703557],[-74.00793263926917,40.70995780722825],[-74.00777400692597,40.7098775697126],[-74.00769716974068,40.7098387068455],[-74.00762572198151,40.70980257043702],[-74.00779006378049,40.709634496898445],[-74.00780921593015,40.70961491047102],[-74.00788366715457,40.709652566692654]]]]}',\n",
       " '{\"type\":\"MultiPolygon\",\"coordinates\":[[[[-74.00754555584658,40.70976202466665],[-74.00747406218382,40.70972586382171],[-74.00747139278485,40.709728798740876],[-74.00738837577326,40.709686809548614],[-74.00730958042257,40.70964696051092],[-74.00748940540136,40.70946210727301],[-74.00779006378049,40.709634496898445],[-74.00762572198151,40.70980257043702],[-74.00762225091225,40.70980081460907],[-74.00754555584658,40.70976202466665]]]]}',\n",
       " '{\"type\":\"MultiPolygon\",\"coordinates\":[[[[-74.00788366715457,40.709652566692654],[-74.00813674148216,40.70939371901187],[-74.00834111425124,40.709539925081295],[-74.00811609605833,40.70977012703557],[-74.00788366715457,40.709652566692654]]]]}',\n",
       " '{\"type\":\"MultiPolygon\",\"coordinates\":[[[[-74.00669091876715,40.709602228689576],[-74.00686509989761,40.70942117956254],[-74.00701208180288,40.70949980083792],[-74.00684067100262,40.70967797283534],[-74.00669091876715,40.709602228689576]]]]}',\n",
       " '{\"type\":\"MultiPolygon\",\"coordinates\":[[[[-74.00700825739429,40.70906521164389],[-74.00728584656046,40.708784992616636],[-74.00752864289981,40.70895868946232],[-74.00731440176327,40.709174960093165],[-74.00726434306192,40.70922549343652],[-74.00700825739429,40.70906521164389]]]]}',\n",
       " '{\"type\":\"MultiPolygon\",\"coordinates\":[[[[-74.00754138556712,40.709408673176945],[-74.0077942660134,40.70914871690587],[-74.00800165520413,40.70929708100676],[-74.00776750442083,40.70953654637168],[-74.00754138556712,40.709408673176945]]]]}',\n",
       " '{\"type\":\"MultiPolygon\",\"coordinates\":[[[[-74.00748940540136,40.70946210727301],[-74.00754138556712,40.709408673176945],[-74.00776750442083,40.70953654637168],[-74.00776606435471,40.70953802241618],[-74.0078415244566,40.70958186777499],[-74.00780921593015,40.70961491047102],[-74.00779006378049,40.709634496898445],[-74.00748940540136,40.70946210727301]]]]}',\n",
       " '{\"type\":\"MultiPolygon\",\"coordinates\":[[[[-74.00699431341934,40.709755682514256],[-74.00716439407911,40.70957889345653],[-74.00724614564767,40.70962024622663],[-74.00707599055426,40.70979699399557],[-74.00699431341934,40.709755682514256]]]]}',\n",
       " '{\"type\":\"MultiPolygon\",\"coordinates\":[[[[-74.00773839900923,40.70910874869998],[-74.00755323699339,40.70930115703267],[-74.00731440176327,40.709174960093165],[-74.00752864289981,40.70895868946232],[-74.00773839900923,40.70910874869998]]]]}',\n",
       " '{\"type\":\"MultiPolygon\",\"coordinates\":[[[[-74.00797352918241,40.710059542251415],[-74.00802582410547,40.7100053902734],[-74.00834942847473,40.71019363478889],[-74.00830055280272,40.71024977597074],[-74.00797352918241,40.710059542251415]]]]}',\n",
       " '{\"type\":\"MultiPolygon\",\"coordinates\":[[[[-74.00834942847473,40.71019363478889],[-74.00802582410547,40.7100053902734],[-74.00808064752788,40.70994861841684],[-74.00837806496777,40.710121630749505],[-74.0084006658478,40.710134778446246],[-74.00834942847473,40.71019363478889]]]]}',\n",
       " '{\"type\":\"MultiPolygon\",\"coordinates\":[[[[-74.00808064752788,40.70994861841684],[-74.00818807914061,40.709837369436286],[-74.00849481876374,40.71002662783982],[-74.00841614489264,40.71011699951086],[-74.0084006658478,40.710134778446246],[-74.00837806496777,40.710121630749505],[-74.00808064752788,40.70994861841684]]]]}',\n",
       " '{\"type\":\"MultiPolygon\",\"coordinates\":[[[[-74.0083039669431,40.70971736043311],[-74.00859475844732,40.709911829100534],[-74.00849481876374,40.71002662783982],[-74.00818807914061,40.709837369436286],[-74.0083039669431,40.70971736043311]]]]}',\n",
       " '{\"type\":\"MultiPolygon\",\"coordinates\":[[[[-74.00856769539392,40.71019365084552],[-74.00849678531479,40.71015778591809],[-74.00841614489264,40.71011699951086],[-74.00849481876374,40.71002662783982],[-74.00859475844732,40.709911829100534],[-74.00869692928163,40.709794466476936],[-74.00890455206832,40.70994299373976],[-74.00865006991184,40.710235312368475],[-74.00856769539392,40.71019365084552]]]]}',\n",
       " '{\"type\":\"MultiPolygon\",\"coordinates\":[[[[-74.00890455206832,40.70994299373976],[-74.00897529015465,40.70999359702842],[-74.0088724272996,40.71011175422598],[-74.00878058805844,40.71021724847417],[-74.0087332058654,40.710271674256376],[-74.00872977219638,40.7102756223142],[-74.00865006991184,40.710235312368475],[-74.00890455206832,40.70994299373976]]]]}',\n",
       " '{\"type\":\"MultiPolygon\",\"coordinates\":[[[[-74.0088724272996,40.71011175422598],[-74.00897529015465,40.70999359702842],[-74.00941138912256,40.71030556539655],[-74.00936756534263,40.710355906482384],[-74.00927572533924,40.7104614011228],[-74.00922834579498,40.71051582702332],[-74.00913212632001,40.710626353105724],[-74.0089997294702,40.71077842851283],[-74.00850837828932,40.71052992235852],[-74.00863698603231,40.71038219984417],[-74.00872977219638,40.7102756223142],[-74.0087332058654,40.710271674256376],[-74.00878058805844,40.71021724847417],[-74.0088724272996,40.71011175422598]]]]}',\n",
       " '{\"type\":\"MultiPolygon\",\"coordinates\":[[[[-74.00865006991184,40.710235312368475],[-74.00872977219638,40.7102756223142],[-74.00863698603231,40.71038219984417],[-74.00850837828932,40.71052992235852],[-74.00842867825139,40.710489613096854],[-74.00865006991184,40.710235312368475]]]]}',\n",
       " '{\"type\":\"MultiPolygon\",\"coordinates\":[[[[-74.00827539332903,40.71041208635389],[-74.00849678531479,40.71015778591809],[-74.00856769539392,40.71019365084552],[-74.00865006991184,40.710235312368475],[-74.00842867825139,40.710489613096854],[-74.0083463035577,40.710447951416675],[-74.00827539332903,40.71041208635389]]]]}',\n",
       " '{\"type\":\"MultiPolygon\",\"coordinates\":[[[[-74.0081947515241,40.710371300712914],[-74.00830055280272,40.71024977597074],[-74.00834942847473,40.71019363478889],[-74.0084006658478,40.710134778446246],[-74.00841614489264,40.71011699951086],[-74.00849678531479,40.71015778591809],[-74.00827539332903,40.71041208635389],[-74.0081947515241,40.710371300712914]]]]}',\n",
       " '{\"type\":\"MultiPolygon\",\"coordinates\":[[[[-74.00784385402912,40.710193826683394],[-74.00797352918241,40.710059542251415],[-74.00830055280272,40.71024977597074],[-74.0081947515241,40.710371300712914],[-74.00784385402912,40.710193826683394]]]]}',\n",
       " '{\"type\":\"MultiPolygon\",\"coordinates\":[[[[-74.00869692928163,40.709794466476936],[-74.00859475844732,40.709911829100534],[-74.0083039669431,40.70971736043311],[-74.00842048146639,40.70959670297618],[-74.00869692928163,40.709794466476936]]]]}',\n",
       " '{\"type\":\"MultiPolygon\",\"coordinates\":[[[[-74.01022272241596,40.7110801756958],[-74.00999474350361,40.710973319094805],[-74.00982788875322,40.71116255798326],[-74.00921755536486,40.71088066918725],[-74.00953606609104,40.71050763245509],[-74.01038329813616,40.710899434084205],[-74.01022272241596,40.7110801756958]]]]}',\n",
       " '{\"type\":\"MultiPolygon\",\"coordinates\":[[[[-74.01038329813616,40.710899434084205],[-74.01060560455839,40.7110016050624],[-74.01034141550068,40.71139973176137],[-74.00982788875322,40.71116255798326],[-74.00999474350361,40.710973319094805],[-74.01022272241596,40.7110801756958],[-74.01038329813616,40.710899434084205]]]]}',\n",
       " '{\"type\":\"MultiPolygon\",\"coordinates\":[[[[-74.01120278840449,40.71331846249383],[-74.01128359051755,40.71325171626559],[-74.01126090690734,40.71324209563323],[-74.01164503716366,40.71292478117143],[-74.01240613555203,40.713238591342645],[-74.0122772175169,40.713799115774925],[-74.01120278840449,40.71331846249383]]]]}',\n",
       " '{\"type\":\"MultiPolygon\",\"coordinates\":[[[[-74.01259706038766,40.713301645456625],[-74.01340923385331,40.71366969730747],[-74.01327231937474,40.71424673277261],[-74.0124632920587,40.713883264109946],[-74.01259706038766,40.713301645456625]]]]}',\n",
       " '{\"type\":\"MultiPolygon\",\"coordinates\":[[[[-74.01005584310413,40.712473870909626],[-74.01005661366344,40.712474226571466],[-74.01025269407599,40.712225354082506],[-74.01147129010371,40.71278760199255],[-74.01095740302003,40.71322311438882],[-74.00986432042161,40.71271838693847],[-74.01005584310413,40.712473870909626]]]]}',\n",
       " '{\"type\":\"MultiPolygon\",\"coordinates\":[[[[-74.00881135809293,40.711379622503266],[-74.00913820643741,40.71099330832849],[-74.01030375287839,40.71153017651621],[-74.01005312464129,40.71196210381743],[-74.00881135809293,40.711379622503266]]]]}',\n",
       " '{\"type\":\"MultiPolygon\",\"coordinates\":[[[[-74.0084952474646,40.71175324054288],[-74.00870140793194,40.71150957586171],[-74.00920184735611,40.711740487265295],[-74.00900297138689,40.71198769492125],[-74.0084952474646,40.71175324054288]]]]}',\n",
       " '{\"type\":\"MultiPolygon\",\"coordinates\":[[[[-74.00900297138689,40.71198769492125],[-74.00920184735611,40.711740487265295],[-74.00943182049714,40.71184659968115],[-74.00923519481803,40.712094927780186],[-74.00900297138689,40.71198769492125]]]]}',\n",
       " '{\"type\":\"MultiPolygon\",\"coordinates\":[[[[-74.00923519481803,40.712094927780186],[-74.00943182049714,40.71184659968115],[-74.00950892804441,40.71188217799534],[-74.00931228715629,40.712130526973446],[-74.00923519481803,40.712094927780186]]]]}',\n",
       " '{\"type\":\"MultiPolygon\",\"coordinates\":[[[[-74.00931228715629,40.712130526973446],[-74.00950892804441,40.71188217799534],[-74.00974009746166,40.711988840773834],[-74.00959262239985,40.71217510061692],[-74.00952097750205,40.71214213332385],[-74.00947183229677,40.712204198473835],[-74.00939400596056,40.71216826178773],[-74.00931228715629,40.712130526973446]]]]}',\n",
       " '{\"type\":\"MultiPolygon\",\"coordinates\":[[[[-74.00974009746166,40.711988840773834],[-74.00981443121965,40.7120231386755],[-74.00966700828425,40.71220933101058],[-74.00959262239985,40.71217510061692],[-74.00974009746166,40.711988840773834]]]]}',\n",
       " '{\"type\":\"MultiPolygon\",\"coordinates\":[[[[-74.00982905595973,40.712283898743266],[-74.00966700828425,40.71220933101058],[-74.00981443121965,40.7120231386755],[-74.00997636142685,40.712097854795125],[-74.00982905595973,40.712283898743266]]]]}',\n",
       " '{\"type\":\"MultiPolygon\",\"coordinates\":[[[[-74.00927878033319,40.712448008561346],[-74.00947183229677,40.712204198473835],[-74.00952097750205,40.71214213332385],[-74.00959262239985,40.71217510061692],[-74.00966700828425,40.71220933101058],[-74.00982905595973,40.712283898743266],[-74.00958657453923,40.71259013665006],[-74.00927878033319,40.712448008561346]]]]}',\n",
       " '{\"type\":\"MultiPolygon\",\"coordinates\":[[[[-74.00089013978972,40.66896134061843],[-74.00058334068491,40.6688238169003],[-74.00068643245045,40.66885718212856],[-74.00080759843536,40.668896396961216],[-74.00088387945553,40.66892116875777],[-74.00108804410635,40.66900572655972],[-74.00113179369193,40.668947644871636],[-74.00138306181896,40.66837365154073],[-74.00142456669182,40.66835144078198],[-74.00157488561943,40.668397564365755],[-74.00159844157753,40.66839158461879],[-74.0016758456199,40.66840952281075],[-74.00170501160017,40.668430875401306],[-74.00198545722259,40.66851201494558],[-74.00221654490726,40.66858119850748],[-74.00269101889828,40.66759634947023],[-74.00276161852607,40.6674498925766],[-74.0028992336929,40.66739488549499],[-74.00233700013524,40.668551522645814],[-74.00228413411283,40.66866325391611],[-74.00140919677104,40.6684042777122],[-74.00111747269628,40.669022684799536],[-74.00105682647452,40.669007751153536],[-74.00104021285456,40.66904227692976],[-74.00087385955977,40.668995371176955],[-74.00089013978972,40.66896134061843]]]]}',\n",
       " '{\"type\":\"MultiPolygon\",\"coordinates\":[[[[-74.00677850093145,40.684408464348515],[-74.00646938671579,40.683930297855305],[-74.00668918108975,40.683747488038],[-74.00717822819696,40.684070795676035],[-74.00677850093145,40.684408464348515]]]]}',\n",
       " '{\"type\":\"MultiPolygon\",\"coordinates\":[[[[-74.00638860842194,40.68379749641824],[-74.0061168042092,40.68336983666538],[-74.00655239873412,40.68365718411006],[-74.00638860842194,40.68379749641824]]]]}',\n",
       " '{\"type\":\"MultiPolygon\",\"coordinates\":[[[[-74.00719115565538,40.68292922906568],[-74.0071893542617,40.68293076453061],[-74.0071148254817,40.682880970660385],[-74.00711711302142,40.68287902907483],[-74.00681950545737,40.68268019082912],[-74.00732442634396,40.68224749709348],[-74.00781625071916,40.68257609600148],[-74.00731270591427,40.68300678634324],[-74.00719115565538,40.68292922906568]]]]}',\n",
       " '{\"type\":\"MultiPolygon\",\"coordinates\":[[[[-74.00679156913368,40.68313734831241],[-74.00664447549353,40.68303794897706],[-74.00664340506232,40.6830388289043],[-74.00650737770862,40.682947661319986],[-74.00681950545737,40.68268019082912],[-74.00711711302142,40.68287902907483],[-74.0071148254817,40.682880970660385],[-74.0071893542617,40.68293076453061],[-74.00719115565538,40.68292922906568],[-74.00731270591427,40.68300678634324],[-74.00670882289798,40.683523181060714],[-74.00650228537104,40.683384754936995],[-74.00679156913368,40.68313734831241]]]]}',\n",
       " '{\"type\":\"MultiPolygon\",\"coordinates\":[[[[-74.00650228537104,40.683384754936995],[-74.0062189312291,40.68319485017627],[-74.00650737770862,40.682947661319986],[-74.00664340506232,40.6830388289043],[-74.00664447549353,40.68303794897706],[-74.00679156913368,40.68313734831241],[-74.00650228537104,40.683384754936995]]]]}',\n",
       " '{\"type\":\"MultiPolygon\",\"coordinates\":[[[[-74.00629567958931,40.68195436160186],[-74.00646559487193,40.68180897557063],[-74.00693251062303,40.682127442594805],[-74.00703701178428,40.68203802823269],[-74.00715715314759,40.6821199721381],[-74.00665787043432,40.68254717897814],[-74.0064940615532,40.682436483476785],[-74.00629567958931,40.68195436160186]]]]}',\n",
       " '{\"type\":\"MultiPolygon\",\"coordinates\":[[[[-74.00629567958931,40.68195436160186],[-74.00605430742283,40.68136775590109],[-74.00703701178428,40.68203802823269],[-74.00693251062303,40.682127442594805],[-74.00646559487193,40.68180897557063],[-74.00629567958931,40.68195436160186]]]]}',\n",
       " '{\"type\":\"MultiPolygon\",\"coordinates\":[[[[-74.00576631313253,40.68289547133377],[-74.00527036655956,40.68209617143803],[-74.00526962349325,40.68209398865789],[-74.00526959972842,40.682092193032005],[-74.00527007984336,40.68209046222107],[-74.00527082018739,40.68208866204377],[-74.0052719603191,40.682086661981074],[-74.00527347432062,40.68208467989021],[-74.00527518582487,40.682082939989385],[-74.00527775142324,40.682080939865514],[-74.00528011947398,40.68207952772262],[-74.00528282931496,40.68207828489557],[-74.00528600655991,40.6820772348038],[-74.00528910800391,40.68207656378634],[-74.0052921929898,40.6820762070023],[-74.00529535965137,40.6820761456228],[-74.0052989769146,40.682076449824265],[-74.00530171062722,40.68207695585634],[-74.00547015823295,40.68211158377382],[-74.00609946239527,40.68189254070761],[-74.00636486663448,40.682533617937544],[-74.0065419367432,40.682653489058],[-74.00603734081605,40.68308120580344],[-74.00576631313253,40.68289547133377]]]]}',\n",
       " '{\"type\":\"MultiPolygon\",\"coordinates\":[[[[-74.00601830602507,40.68039458104598],[-74.00576798417944,40.680610052687484],[-74.00573772457666,40.680589545850985],[-74.00567705466837,40.68064176859536],[-74.00559167260012,40.680583904751074],[-74.00545940215947,40.680697759041564],[-74.00511776052986,40.68026239060993],[-74.00528735326345,40.67989920836332],[-74.00601830602507,40.68039458104598]]]]}',\n",
       " '{\"type\":\"MultiPolygon\",\"coordinates\":[[[[-74.00576798417944,40.680610052687484],[-74.00601830602507,40.68039458104598],[-74.00609984973153,40.680449844067354],[-74.00584952903866,40.68066531496599],[-74.00576798417944,40.680610052687484]]]]}',\n",
       " '{\"type\":\"MultiPolygon\",\"coordinates\":[[[[-74.00555687392644,40.680821969451564],[-74.00545940215947,40.680697759041564],[-74.00559167260012,40.680583904751074],[-74.00567705466837,40.68064176859536],[-74.00573772457666,40.680589545850985],[-74.00576798417944,40.680610052687484],[-74.00584952903866,40.68066531496599],[-74.00609984973153,40.680449844067354],[-74.0062913103004,40.680579596211345],[-74.00581084846922,40.680993167331316],[-74.00555687392644,40.680821969451564]]]]}',\n",
       " '{\"type\":\"MultiPolygon\",\"coordinates\":[[[[-74.00869415601102,40.68164108775182],[-74.00882954531912,40.681525956190995],[-74.00879894138966,40.681505544722434],[-74.00891205080367,40.6814094092336],[-74.00906223869505,40.681509836496886],[-74.0088137377485,40.68172104711177],[-74.00869415601102,40.68164108775182]]]]}',\n",
       " '{\"type\":\"MultiPolygon\",\"coordinates\":[[[[-74.00869415601102,40.68164108775182],[-74.0088137377485,40.68172104711177],[-74.00821054339293,40.682233713444205],[-74.0081449174418,40.682186480749735],[-74.00872897241031,40.6816899406777],[-74.0086773122552,40.68165541159094],[-74.00869415601102,40.68164108775182]]]]}',\n",
       " '{\"type\":\"MultiPolygon\",\"coordinates\":[[[[-74.0074603152134,40.68212337635684],[-74.00857098509022,40.68118134632224],[-74.00891205080367,40.6814094092336],[-74.00879894138966,40.681505544722434],[-74.00882954531912,40.681525956190995],[-74.00869415601102,40.68164108775182],[-74.0086773122552,40.68165541159094],[-74.00872897241031,40.6816899406777],[-74.0081449174418,40.682186480749735],[-74.00821054339293,40.682233713444205],[-74.00794964135184,40.68245545718326],[-74.0074603152134,40.68212337635684]]]]}',\n",
       " '{\"type\":\"MultiPolygon\",\"coordinates\":[[[[-74.00764800164286,40.681695460725045],[-74.0073978027116,40.68152484745095],[-74.00752167018703,40.68141878454645],[-74.00777187848875,40.681589390358205],[-74.00764800164286,40.681695460725045]]]]}',\n",
       " '{\"type\":\"MultiPolygon\",\"coordinates\":[[[[-74.00728029337445,40.68162546446991],[-74.0073978027116,40.68152484745095],[-74.00764800164286,40.681695460725045],[-74.00753049238433,40.6817960789176],[-74.00728029337445,40.68162546446991]]]]}',\n",
       " '{\"type\":\"MultiPolygon\",\"coordinates\":[[[[-74.00700591410839,40.68161835974926],[-74.00712296716111,40.6815181329017],[-74.00728029337445,40.68162546446991],[-74.00753049238433,40.6817960789176],[-74.00741343703729,40.68189630701421],[-74.00700591410839,40.68161835974926]]]]}',\n",
       " '{\"type\":\"MultiPolygon\",\"coordinates\":[[[[-74.00677083783964,40.681649708426015],[-74.00700991102231,40.68144497843814],[-74.00701249542773,40.681442791791476],[-74.00701540907106,40.68144481062376],[-74.00712296716111,40.6815181329017],[-74.00700591410839,40.68161835974926],[-74.00741343703729,40.68189630701421],[-74.00728984882358,40.682002130255476],[-74.00677083783964,40.681649708426015]]]]}',\n",
       " '{\"type\":\"MultiPolygon\",\"coordinates\":[[[[-74.00657923385504,40.68115253631689],[-74.0068724098621,40.68135161139391],[-74.00700991102231,40.68144497843814],[-74.00677083783964,40.681649708426015],[-74.00634014380358,40.68135725010874],[-74.00657923385504,40.68115253631689]]]]}',\n",
       " '{\"type\":\"MultiPolygon\",\"coordinates\":[[[[-74.00607092294793,40.681174436685],[-74.00631000954273,40.680969723364576],[-74.00647190645377,40.68107965826072],[-74.00657923385504,40.68115253631689],[-74.00634014380358,40.68135725010874],[-74.00607092294793,40.681174436685]]]]}',\n",
       " '{\"type\":\"MultiPolygon\",\"coordinates\":[[[[-74.00620387847363,40.680895433960096],[-74.0063114572902,40.68096848601775],[-74.00631000954273,40.680969723364576],[-74.00607092294793,40.681174436685],[-74.00596274191257,40.68110097649994],[-74.00620387847363,40.680895433960096]]]]}',\n",
       " '{\"type\":\"MultiPolygon\",\"coordinates\":[[[[-74.00631000954273,40.680969723364576],[-74.0063114572902,40.68096848601775],[-74.00620387847363,40.680895433960096],[-74.00644856669005,40.68068684786119],[-74.00671691363459,40.68086987212463],[-74.00647190645377,40.68107965826072],[-74.00631000954273,40.680969723364576]]]]}',\n",
       " '{\"type\":\"MultiPolygon\",\"coordinates\":[[[[-74.00657923385504,40.68115253631689],[-74.00647190645377,40.68107965826072],[-74.00671691363459,40.68086987212463],[-74.00711663275109,40.68114249626019],[-74.0068724098621,40.68135161139391],[-74.00657923385504,40.68115253631689]]]]}',\n",
       " '{\"type\":\"MultiPolygon\",\"coordinates\":[[[[-74.00700991102231,40.68144497843814],[-74.0068724098621,40.68135161139391],[-74.00711663275109,40.68114249626019],[-74.00725679550025,40.68123812397268],[-74.00701540907106,40.68144481062376],[-74.00701249542773,40.681442791791476],[-74.00700991102231,40.68144497843814]]]]}',\n",
       " '{\"type\":\"MultiPolygon\",\"coordinates\":[[[[-74.00701540907106,40.68144481062376],[-74.00725679550025,40.68123812397268],[-74.00736435242395,40.681311447029394],[-74.00712296716111,40.6815181329017],[-74.00701540907106,40.68144481062376]]]]}',\n",
       " '{\"type\":\"MultiPolygon\",\"coordinates\":[[[[-74.00712296716111,40.6815181329017],[-74.00736435242395,40.681311447029394],[-74.00752167018703,40.68141878454645],[-74.0073978027116,40.68152484745095],[-74.00728029337445,40.68162546446991],[-74.00712296716111,40.6815181329017]]]]}',\n",
       " '{\"type\":\"MultiPolygon\",\"coordinates\":[[[[-74.00808320900896,40.68094006577156],[-74.0081428934231,40.68088969785891],[-74.00839044901262,40.68105758837025],[-74.00833078705728,40.681107972639225],[-74.00808320900896,40.68094006577156]]]]}',\n",
       " '{\"type\":\"MultiPolygon\",\"coordinates\":[[[[-74.00802342638713,40.68099056969425],[-74.00808320900896,40.68094006577156],[-74.00833078705728,40.681107972639225],[-74.00827099260201,40.681158468574495],[-74.00802342638713,40.68099056969425]]]]}',\n",
       " '{\"type\":\"MultiPolygon\",\"coordinates\":[[[[-74.00796292447824,40.68104163466709],[-74.00802342638713,40.68099056969425],[-74.00827099260201,40.681158468574495],[-74.00821050974466,40.68120954714542],[-74.00796292447824,40.68104163466709]]]]}',\n",
       " '{\"type\":\"MultiPolygon\",\"coordinates\":[[[[-74.00821050974466,40.68120954714542],[-74.00815069741503,40.6812600574089],[-74.00790310145193,40.68109213852919],[-74.00796292447824,40.68104163466709],[-74.00821050974466,40.68120954714542]]]]}',\n",
       " '{\"type\":\"MultiPolygon\",\"coordinates\":[[[[-74.00784108791066,40.681144563205265],[-74.00790310145193,40.68109213852919],[-74.00815069741503,40.6812600574089],[-74.008088643578,40.68131245436088],[-74.00784108791066,40.681144563205265]]]]}',\n",
       " '{\"type\":\"MultiPolygon\",\"coordinates\":[[[[-74.008088643578,40.68131245436088],[-74.0079073180597,40.681465589784004],[-74.0076597882121,40.681297674814616],[-74.00784108791066,40.681144563205265],[-74.008088643578,40.68131245436088]]]]}',\n",
       " '{\"type\":\"MultiPolygon\",\"coordinates\":[[[[-74.00752822969372,40.68120842891754],[-74.00801132088598,40.680800463303314],[-74.0081428934231,40.68088969785891],[-74.00808320900896,40.68094006577156],[-74.00802342638713,40.68099056969425],[-74.00796292447824,40.68104163466709],[-74.00790310145193,40.68109213852919],[-74.00784108791066,40.681144563205265],[-74.0076597882121,40.681297674814616],[-74.00752822969372,40.68120842891754]]]]}',\n",
       " '{\"type\":\"MultiPolygon\",\"coordinates\":[[[[-74.00738823109143,40.68111345885354],[-74.00787130706856,40.68070550737624],[-74.00801132088598,40.680800463303314],[-74.00752822969372,40.68120842891754],[-74.00738823109143,40.68111345885354]]]]}',\n",
       " '{\"type\":\"MultiPolygon\",\"coordinates\":[[[[-74.00725699157718,40.6810244278875],[-74.00754952206607,40.680774662409256],[-74.00755033358436,40.68077520716178],[-74.00774038478343,40.68061671369815],[-74.00787130706856,40.68070550737624],[-74.00738823109143,40.68111345885354],[-74.00725699157718,40.6810244278875]]]]}',\n",
       " '{\"type\":\"MultiPolygon\",\"coordinates\":[[[[-74.00705760202435,40.68088916578372],[-74.00718372340499,40.680782658187056],[-74.00754064169774,40.68048124622184],[-74.00774038478343,40.68061671369815],[-74.00755033358436,40.68077520716178],[-74.00754952206607,40.680774662409256],[-74.00725699157718,40.6810244278875],[-74.00705760202435,40.68088916578372]]]]}',\n",
       " '{\"type\":\"MultiPolygon\",\"coordinates\":[[[[-74.00670954201364,40.68046104076877],[-74.00697934266123,40.68064404367718],[-74.00718372340499,40.680782658187056],[-74.00705760202435,40.68088916578372],[-74.0065833152146,40.68056763611624],[-74.00670954201364,40.68046104076877]]]]}',\n",
       " '{\"type\":\"MultiPolygon\",\"coordinates\":[[[[-74.00697934266123,40.68064404367718],[-74.00670954201364,40.68046104076877],[-74.00706644896978,40.68015964021853],[-74.0073362611357,40.680342632341016],[-74.00697934266123,40.68064404367718]]]]}',\n",
       " '{\"type\":\"MultiPolygon\",\"coordinates\":[[[[-74.00718372340499,40.680782658187056],[-74.00697934266123,40.68064404367718],[-74.0073362611357,40.680342632341016],[-74.00754064169774,40.68048124622184],[-74.00718372340499,40.680782658187056]]]]}',\n",
       " '{\"type\":\"MultiPolygon\",\"coordinates\":[[[[-74.00574170036016,40.67962951815641],[-74.00574710039352,40.67961807149228],[-74.00576677125217,40.679576366018956],[-74.0057893573366,40.679528481996556],[-74.00581179561027,40.67948091128808],[-74.005833546709,40.67943479682154],[-74.00579970692725,40.6794120397612],[-74.00583934142362,40.67937792283137],[-74.00587957430669,40.6793432907549],[-74.00617064405937,40.679539650012],[-74.00592364716803,40.67975226179427],[-74.00574170036016,40.67962951815641]]]]}',\n",
       " '{\"type\":\"MultiPolygon\",\"coordinates\":[[[[-74.00630304200357,40.67962896586427],[-74.00605604630209,40.67984157884856],[-74.00592364716803,40.67975226179427],[-74.00617064405937,40.679539650012],[-74.00630304200357,40.67962896586427]]]]}',\n",
       " '{\"type\":\"MultiPolygon\",\"coordinates\":[[[[-74.0065783079024,40.679814660997955],[-74.00633131239061,40.680027274568516],[-74.00612563337884,40.679888523489474],[-74.00605604630209,40.67984157884856],[-74.00630304200357,40.67962896586427],[-74.0065783079024,40.679814660997955]]]]}',\n",
       " '{\"type\":\"MultiPolygon\",\"coordinates\":[[[[-74.00639547254767,40.68007055788684],[-74.00633131239061,40.680027274568516],[-74.0065783079024,40.679814660997955],[-74.00691560878654,40.68004220323952],[-74.00666861361722,40.680254817613545],[-74.00639547254767,40.68007055788684]]]]}',\n",
       " '{\"type\":\"MultiPolygon\",\"coordinates\":[[[[-74.00630492559264,40.680148501207704],[-74.00639547254767,40.68007055788684],[-74.00666861361722,40.680254817613545],[-74.00657844879821,40.68033243149956],[-74.00630492559264,40.680148501207704]]]]}',\n",
       " '{\"type\":\"MultiPolygon\",\"coordinates\":[[[[-74.0061608922887,40.680272483158035],[-74.00630492559264,40.680148501207704],[-74.00657844879821,40.68033243149956],[-74.00643441670563,40.68045641286948],[-74.0061608922887,40.680272483158035]]]]}',\n",
       " '{\"type\":\"MultiPolygon\",\"coordinates\":[[[[-74.00572462181495,40.67966572861102],[-74.00574170036016,40.67962951815641],[-74.00592364716803,40.67975226179427],[-74.00605604630209,40.67984157884856],[-74.00612563337884,40.679888523489474],[-74.00633131239061,40.680027274568516],[-74.00639547254767,40.68007055788684],[-74.00630492559264,40.680148501207704],[-74.0061608922887,40.680272483158035],[-74.00589067449792,40.68009077334249],[-74.00582098804018,40.680043913147095],[-74.00557528700092,40.67987868799126],[-74.00561709220636,40.67984243315249],[-74.00565813793851,40.67980667553566],[-74.00568010339481,40.67976010981984],[-74.00570283155945,40.679711925045],[-74.00572462181495,40.67966572861102]]]]}',\n",
       " '{\"type\":\"MultiPolygon\",\"coordinates\":[[[[-74.0053950649415,40.67969312754311],[-74.00561709220636,40.67984243315249],[-74.00557528700092,40.67987868799126],[-74.00537219112528,40.679742112904215],[-74.0053950649415,40.67969312754311]]]]}',\n",
       " '{\"type\":\"MultiPolygon\",\"coordinates\":[[[[-74.00565813793851,40.67980667553566],[-74.00561709220636,40.67984243315249],[-74.0053950649415,40.67969312754311],[-74.00541731782705,40.67964547409595],[-74.00565813793851,40.67980667553566]]]]}',\n",
       " '{\"type\":\"MultiPolygon\",\"coordinates\":[[[[-74.00568010339481,40.67976010981984],[-74.00565813793851,40.67980667553566],[-74.00541731782705,40.67964547409595],[-74.00543937905914,40.67959823042866],[-74.00568010339481,40.67976010981984]]]]}',\n",
       " '{\"type\":\"MultiPolygon\",\"coordinates\":[[[[-74.00568010339481,40.67976010981984],[-74.00543937905914,40.67959823042866],[-74.0054619334846,40.67954992950203],[-74.00570283155945,40.679711925045],[-74.00568010339481,40.67976010981984]]]]}',\n",
       " '{\"type\":\"MultiPolygon\",\"coordinates\":[[[[-74.0054619334846,40.67954992950203],[-74.00548355702784,40.6795036205958],[-74.00572462181495,40.67966572861102],[-74.00570283155945,40.679711925045],[-74.0054619334846,40.67954992950203]]]]}',\n",
       " '{\"type\":\"MultiPolygon\",\"coordinates\":[[[[-74.00548355702784,40.6795036205958],[-74.00550586538212,40.679455849166224],[-74.00574710039352,40.67961807149228],[-74.00574170036016,40.67962951815641],[-74.00572462181495,40.67966572861102],[-74.00548355702784,40.6795036205958]]]]}',\n",
       " '{\"type\":\"MultiPolygon\",\"coordinates\":[[[[-74.01826333726811,40.6927002067596],[-74.01826575763211,40.69293051400037],[-74.01826031545498,40.69293054722897],[-74.01826148791396,40.69301362460117],[-74.01826617656191,40.693013722922],[-74.01826838064338,40.69315738572965],[-74.01738062820237,40.693210453217176],[-74.01730850680507,40.69321067734394],[-74.01723341443504,40.693205834742216],[-74.01723153441617,40.69320568819376],[-74.01722966394664,40.6932054912797],[-74.01722780280677,40.693205245672765],[-74.01722595363587,40.693204950619986],[-74.01722411973017,40.69320460595463],[-74.01722230240905,40.69320421359917],[-74.01722050397987,40.69320377263448],[-74.01721872675411,40.693203284815354],[-74.01721697446634,40.693202749306174],[-74.01721524590816,40.693202167778495],[-74.01721354679556,40.693201541321685],[-74.01721187602968,40.69320086976713],[-74.01721023734704,40.69320015319667],[-74.01720863283761,40.69319939428916],[-74.01720706502924,40.693198593964304],[-74.01720553392173,40.693197751300715],[-74.01720404171331,40.69319686905964],[-74.01720259225226,40.69319594715675],[-74.01720118531722,40.69319498743227],[-74.01719982332969,40.693193991643575],[-74.01719850738678,40.69319295987424],[-74.01719724001806,40.693191892875184],[-74.01719602353016,40.69319079357647],[-74.01719485671617,40.693189662729516],[-74.017193743203,40.693188502090244],[-74.01719268277226,40.69318731174503],[-74.01719167806047,40.693186093531075],[-74.01719073005873,40.69318485004358],[-74.0171898400844,40.693183582284895],[-74.01718900803114,40.693182291094004],[-74.01718823510497,40.69318097914461],[-74.01718752372719,40.69317964736036],[-74.01718687389636,40.69317829674121],[-74.01718628671384,40.693176930721286],[-74.01718576217793,40.69317554946421],[-74.01718530160964,40.69317415456124],[-74.017184905008,40.693172748940256],[-74.01718457336361,40.69317133343736],[-74.01718430678697,40.69316990972657],[-74.01718410527884,40.69316848065186],[-74.01718396883743,40.69316704612952],[-74.01718389988476,40.693165609840804],[-74.01718389600144,40.693164171701056],[-74.01718395828524,40.693162734472985],[-74.01718408685011,40.6931612999941],[-74.01718661650833,40.69313879043205],[-74.01709678619116,40.69313299708841],[-74.01709428272721,40.693132802021175],[-74.01709178869682,40.693132540359166],[-74.01708930762004,40.693132212936916],[-74.01708684433387,40.693131819753695],[-74.01708439993563,40.69313136181321],[-74.01708197805323,40.69313083802859],[-74.01707958209545,40.69313025124212],[-74.01707721458976,40.69312960053589],[-74.0170748778442,40.69312888766343],[-74.01707257526535,40.693128113545605],[-74.0170703094927,40.6931272782671],[-74.01706808382467,40.69312638341503],[-74.0170658995802,40.6931254292405],[-74.01706376148344,40.69312441825311],[-74.01706167074691,40.69312335145655],[-74.01705962956832,40.6931222296881],[-74.01705764168447,40.69312105394978],[-74.01705570940507,40.693119825913925],[-74.01705383382789,40.69311854834324],[-74.01705201748209,40.69311722039979],[-74.01705026377687,40.69311584643346],[-74.01704857512965,40.69311442569005],[-74.01704695153964,40.693112961685046],[-74.01704539542615,40.69311145450055],[-74.0170439101982,40.69310990765018],[-74.01704249717487,40.69310832205388],[-74.0170411575654,40.69310669946785],[-74.01703989235925,40.69310504273731],[-74.01703870529332,40.69310335353566],[-74.01703759516099,40.693101633702],[-74.01703656536904,40.693099885077274],[-74.01703561492796,40.69309811125955],[-74.01703474845637,40.693096312163114],[-74.0170339636458,40.693094491386155],[-74.01703326280436,40.69309265085365],[-74.0170326470332,40.69309079324189],[-74.0170321165511,40.69308892022356],[-74.01703167366786,40.69308703372219],[-74.01703131585668,40.693085137253696],[-74.01703104564375,40.69308323182017],[-74.01703086413221,40.69308132102072],[-74.01703076901141,40.6930794065257],[-74.01703076259116,40.69307749026132],[-74.01703084256454,40.693075574822],[-74.01703101123982,40.69307366305009],[-74.0170516884974,40.6928879187005],[-74.01698745511149,40.69288377585502],[-74.01700049511953,40.69276663448986],[-74.01706754542617,40.69277095888114],[-74.01707230716188,40.69272818753425],[-74.01706949013096,40.692728005982524],[-74.01708107220198,40.692623963772725],[-74.01826333726811,40.6927002067596]]]]}',\n",
       " '{\"type\":\"MultiPolygon\",\"coordinates\":[[[[-74.01826333726811,40.6927002067596],[-74.01842204170958,40.69271044047052],[-74.0184271505682,40.693147894569336],[-74.01826838064338,40.69315738572965],[-74.01826617656191,40.693013722922],[-74.01826148791396,40.69301362460117],[-74.01826031545498,40.69293054722897],[-74.01826575763211,40.69293051400037],[-74.01826333726811,40.6927002067596]]]]}',\n",
       " '{\"type\":\"MultiPolygon\",\"coordinates\":[[[[-74.00881123545888,40.71223211100926],[-74.00900297138689,40.71198769492125],[-74.00923519481803,40.712094927780186],[-74.00931228715629,40.712130526973446],[-74.00939400596056,40.71216826178773],[-74.00947183229677,40.712204198473835],[-74.00927878033319,40.712448008561346],[-74.00881123545888,40.71223211100926]]]]}',\n",
       " '{\"type\":\"MultiPolygon\",\"coordinates\":[[[[-74.00829268030928,40.71199265603043],[-74.0084952474646,40.71175324054288],[-74.00900297138689,40.71198769492125],[-74.00881123545888,40.71223211100926],[-74.00829268030928,40.71199265603043]]]]}',\n",
       " '{\"type\":\"MultiPolygon\",\"coordinates\":[[[[-74.00746618983192,40.71056543333997],[-74.00773151922067,40.71030101708055],[-74.00796508649074,40.71042049307016],[-74.0077915769827,40.710593258154475],[-74.00786281937413,40.710636574276315],[-74.00775698057726,40.710742239705546],[-74.00746618983192,40.71056543333997]]]]}',\n",
       " '{\"type\":\"MultiPolygon\",\"coordinates\":[[[[-74.00786281937413,40.710636574276315],[-74.0077915769827,40.710593258154475],[-74.00796508649074,40.71042049307016],[-74.00804130909616,40.71045889465831],[-74.00786281937413,40.710636574276315]]]]}',\n",
       " '{\"type\":\"MultiPolygon\",\"coordinates\":[[[[-74.00804130909616,40.71045889465831],[-74.00816970068071,40.71052427011935],[-74.00787746585499,40.710815495467585],[-74.00775698057726,40.710742239705546],[-74.00786281937413,40.710636574276315],[-74.00804130909616,40.71045889465831]]]]}',\n",
       " '{\"type\":\"MultiPolygon\",\"coordinates\":[[[[-74.00864876476601,40.71117606718458],[-74.00852109363683,40.711206825139826],[-74.00787746585499,40.710815495467585],[-74.00816970068071,40.71052427011935],[-74.00889234896032,40.71089244557905],[-74.00864876476601,40.71117606718458]]]]}',\n",
       " '{\"type\":\"MultiPolygon\",\"coordinates\":[[[[-74.00796539673553,40.711090300682116],[-74.00794849318515,40.71109256300273],[-74.00792383200913,40.71103094463902],[-74.00796661132681,40.71099197407367],[-74.00838792159061,40.71124511878983],[-74.00807050443724,40.7113233013282],[-74.00796539673553,40.711090300682116]]]]}',\n",
       " '{\"type\":\"MultiPolygon\",\"coordinates\":[[[[-74.00709454571304,40.71085258589311],[-74.0071609158539,40.71080561504568],[-74.00729299316477,40.71071214236429],[-74.00747037380748,40.71085209038959],[-74.00759147081712,40.710766567705875],[-74.0076895665928,40.71082550964303],[-74.00748871043771,40.71096697433631],[-74.0074235910881,40.711012911574855],[-74.00735711921854,40.71105980159521],[-74.00709454571304,40.71085258589311]]]]}',\n",
       " '{\"type\":\"MultiPolygon\",\"coordinates\":[[[[-74.00764497205422,40.71090861779063],[-74.00772941821549,40.71084945526739],[-74.00779067323155,40.71088626047463],[-74.00771639157527,40.710956694983565],[-74.00764497205422,40.71090861779063]]]]}',\n",
       " '{\"type\":\"MultiPolygon\",\"coordinates\":[[[[-74.00771639157527,40.710956694983565],[-74.00779067323155,40.71088626047463],[-74.00785267642546,40.710923514943296],[-74.00773171294558,40.711038172992836],[-74.00770096390676,40.710971311256884],[-74.00771639157527,40.710956694983565]]]]}',\n",
       " '{\"type\":\"MultiPolygon\",\"coordinates\":[[[[-74.00773171294558,40.711038172992836],[-74.00785267642546,40.710923514943296],[-74.00790986270643,40.71095787736204],[-74.00776256826389,40.711102249380474],[-74.00773171294558,40.711038172992836]]]]}',\n",
       " '{\"type\":\"MultiPolygon\",\"coordinates\":[[[[-74.00752158866695,40.71099505826707],[-74.00764497205422,40.71090861779063],[-74.00771639157527,40.710956694983565],[-74.00770096390676,40.710971311256884],[-74.00773171294558,40.711038172992836],[-74.00776256826389,40.711102249380474],[-74.00790986270643,40.71095787736204],[-74.00796661132681,40.71099197407367],[-74.00792383200913,40.71103094463902],[-74.00794849318515,40.71109256300273],[-74.00796539673553,40.711090300682116],[-74.00807050443724,40.7113233013282],[-74.00771049403936,40.71141197384478],[-74.00752158866695,40.71099505826707]]]]}',\n",
       " '{\"type\":\"MultiPolygon\",\"coordinates\":[[[[-74.00747037380748,40.71085209038959],[-74.00729299316477,40.71071214236429],[-74.00738845471125,40.71064458301288],[-74.00759147081712,40.710766567705875],[-74.00747037380748,40.71085209038959]]]]}',\n",
       " '{\"type\":\"MultiPolygon\",\"coordinates\":[[[[-74.00696332226806,40.710945453172904],[-74.00709454571304,40.71085258589311],[-74.00735711921854,40.71105980159521],[-74.00722569682524,40.71115251156596],[-74.00681573306119,40.7114417060723],[-74.00656886512108,40.71122460982642],[-74.00696332226806,40.710945453172904]]]]}',\n",
       " '{\"type\":\"MultiPolygon\",\"coordinates\":[[[[-74.00729798920248,40.71115170571504],[-74.00752158866695,40.71099505826707],[-74.00771049403936,40.71141197384478],[-74.00744478703392,40.7114774180748],[-74.00736394507722,40.71149732966706],[-74.00720092720374,40.711537480714114],[-74.00709077781308,40.711296873941],[-74.00722983317867,40.71119945487931],[-74.00729798920248,40.71115170571504]]]]}',\n",
       " '{\"type\":\"MultiPolygon\",\"coordinates\":[[[[-74.00702145231574,40.71134544067017],[-74.00709077781308,40.711296873941],[-74.00720092720374,40.711537480714114],[-74.00711714194976,40.711558116313775],[-74.00698514289597,40.711590627947274],[-74.00684602772391,40.7114683368948],[-74.00702145231574,40.71134544067017]]]]}',\n",
       " '{\"type\":\"MultiPolygon\",\"coordinates\":[[[[-74.00698553038733,40.71033498775009],[-74.00683482746486,40.71025794350528],[-74.00710616124412,40.70998014764337],[-74.00725746264592,40.710056579182535],[-74.00698553038733,40.71033498775009]]]]}',\n",
       " '{\"type\":\"MultiPolygon\",\"coordinates\":[[[[-74.00706231587733,40.710374242795154],[-74.00698553038733,40.71033498775009],[-74.00725746264592,40.710056579182535],[-74.0073345519328,40.71009552247504],[-74.00706231587733,40.710374242795154]]]]}',\n",
       " '{\"type\":\"MultiPolygon\",\"coordinates\":[[[[-74.00764247117445,40.710251071611026],[-74.00735795385913,40.710525379107864],[-74.00713633437186,40.71041208232147],[-74.00740886378563,40.71013306188419],[-74.00764247117445,40.710251071611026]]]]}',\n",
       " '{\"type\":\"MultiPolygon\",\"coordinates\":[[[[-74.00703205203557,40.709942709758465],[-74.00710616124412,40.70998014764337],[-74.00683482746486,40.71025794350528],[-74.00676101040732,40.71022020550533],[-74.00703205203557,40.709942709758465]]]]}',\n",
       " '{\"type\":\"MultiPolygon\",\"coordinates\":[[[[-74.0064364600634,40.709641832556045],[-74.00703205203557,40.709942709758465],[-74.00676101040732,40.71022020550533],[-74.00616776840893,40.7099169196892],[-74.0064364600634,40.709641832556045]]]]}',\n",
       " '{\"type\":\"MultiPolygon\",\"coordinates\":[[[[-74.00740886378563,40.71013306188419],[-74.00713633437186,40.71041208232147],[-74.00706231587733,40.710374242795154],[-74.0073345519328,40.71009552247504],[-74.00740886378563,40.71013306188419]]]]}',\n",
       " '{\"type\":\"MultiPolygon\",\"coordinates\":[[[[-74.00580840799958,40.71028482967951],[-74.00592401943943,40.71016646930081],[-74.00617657185242,40.71032565042431],[-74.00614300687768,40.710349647177694],[-74.00608948618608,40.710307610455814],[-74.00596695284679,40.71039520910791],[-74.00588376885877,40.71033551570896],[-74.0058871294292,40.71033228906788],[-74.00580840799958,40.71028482967951]]]]}',\n",
       " '{\"type\":\"MultiPolygon\",\"coordinates\":[[[[-74.00640536086122,40.71060406790128],[-74.00629995591133,40.71051098327463],[-74.00629943404873,40.71051140470347],[-74.00623683292156,40.710456123028706],[-74.00618179449624,40.71040751726443],[-74.00617389929333,40.71040054325033],[-74.0064686169512,40.710161478667295],[-74.00662986505681,40.7102441726222],[-74.00644201140766,40.71039655349241],[-74.00649236055725,40.710435352782056],[-74.00663351656023,40.710544109534744],[-74.00647924340912,40.710669250853215],[-74.00640536086122,40.71060406790128]]]]}',\n",
       " '{\"type\":\"MultiPolygon\",\"coordinates\":[[[[-74.00649236055725,40.710435352782056],[-74.00644201140766,40.71039655349241],[-74.00662986505681,40.7102441726222],[-74.00669001548879,40.710275019873436],[-74.00649236055725,40.710435352782056]]]]}',\n",
       " '{\"type\":\"MultiPolygon\",\"coordinates\":[[[[-74.00649236055725,40.710435352782056],[-74.00669001548879,40.710275019873436],[-74.00685863829196,40.710361496173334],[-74.00663351656023,40.710544109534744],[-74.00649236055725,40.710435352782056]]]]}',\n",
       " '{\"type\":\"MultiPolygon\",\"coordinates\":[[[[-74.00650010762718,40.710702955831955],[-74.00647112822038,40.710675833167976],[-74.00647924340912,40.710669250853215],[-74.00663351656023,40.710544109534744],[-74.00685863829196,40.710361496173334],[-74.0069421102867,40.71040430250247],[-74.00653438692623,40.71073503730289],[-74.00650010762718,40.710702955831955]]]]}',\n",
       " '{\"type\":\"MultiPolygon\",\"coordinates\":[[[[-74.0070720780601,40.71060565418264],[-74.00715137472183,40.71054133057017],[-74.00714808915826,40.71053697502859],[-74.00716851180631,40.710520408972414],[-74.00729830620833,40.71058697121811],[-74.00718191536696,40.710670179912874],[-74.0070720780601,40.71060565418264]]]]}',\n",
       " '{\"type\":\"MultiPolygon\",\"coordinates\":[[[[-74.00672824053538,40.71068474757538],[-74.00668225347266,40.71072205015755],[-74.00663967313669,40.71075659062421],[-74.00659560654361,40.71079233428976],[-74.00653438692623,40.71073503730289],[-74.0069421102867,40.71040430250247],[-74.00716851180631,40.710520408972414],[-74.00714808915826,40.71053697502859],[-74.00715137472183,40.71054133057017],[-74.0070720780601,40.71060565418264],[-74.00718191536696,40.710670179912874],[-74.00698500166514,40.710810957302854],[-74.00676761398519,40.71065280794817],[-74.00672824053538,40.71068474757538]]]]}',\n",
       " '{\"type\":\"MultiPolygon\",\"coordinates\":[[[[-74.00698500166514,40.710810957302854],[-74.00693243960716,40.71084853410634],[-74.00672824053538,40.71068474757538],[-74.00676761398519,40.71065280794817],[-74.00698500166514,40.710810957302854]]]]}',\n",
       " '{\"type\":\"MultiPolygon\",\"coordinates\":[[[[-74.00668225347266,40.71072205015755],[-74.00672824053538,40.71068474757538],[-74.00693243960716,40.71084853410634],[-74.00688020059249,40.7108858812155],[-74.00668225347266,40.71072205015755]]]]}',\n",
       " '{\"type\":\"MultiPolygon\",\"coordinates\":[[[[-74.00663967313669,40.71075659062421],[-74.00668225347266,40.71072205015755],[-74.00688020059249,40.7108858812155],[-74.00683206059522,40.710920296915],[-74.00663967313669,40.71075659062421]]]]}',\n",
       " '{\"type\":\"MultiPolygon\",\"coordinates\":[[[[-74.00659560654361,40.71079233428976],[-74.00663967313669,40.71075659062421],[-74.00683206059522,40.710920296915],[-74.00678175744468,40.710956258021554],[-74.006667805114,40.71085380892862],[-74.00666431665219,40.7108566394642],[-74.00659560654361,40.71079233428976]]]]}',\n",
       " '{\"type\":\"MultiPolygon\",\"coordinates\":[[[[-74.00623070267962,40.710895535745564],[-74.00650010762718,40.710702955831955],[-74.00653438692623,40.71073503730289],[-74.00659560654361,40.71079233428976],[-74.00666431665219,40.7108566394642],[-74.006667805114,40.71085380892862],[-74.00678175744468,40.710956258021554],[-74.00650426654411,40.711154639255916],[-74.00623070267962,40.710895535745564]]]]}',\n",
       " '{\"type\":\"MultiPolygon\",\"coordinates\":[[[[-74.00613046173504,40.71080059484386],[-74.00640536086122,40.71060406790128],[-74.00647924340912,40.710669250853215],[-74.00647112822038,40.710675833167976],[-74.00650010762718,40.710702955831955],[-74.00623070267962,40.710895535745564],[-74.00613046173504,40.71080059484386]]]]}',\n",
       " '{\"type\":\"MultiPolygon\",\"coordinates\":[[[[-74.00596895940974,40.7106476262071],[-74.00623683292156,40.710456123028706],[-74.00629943404873,40.71051140470347],[-74.00629995591133,40.71051098327463],[-74.00640536086122,40.71060406790128],[-74.00613046173504,40.71080059484386],[-74.00596895940974,40.7106476262071]]]]}',\n",
       " '{\"type\":\"MultiPolygon\",\"coordinates\":[[[[-74.00587042940688,40.71055430408806],[-74.00570148993114,40.710394291658844],[-74.00580840799958,40.71028482967951],[-74.0058871294292,40.71033228906788],[-74.00588376885877,40.71033551570896],[-74.00596695284679,40.71039520910791],[-74.00608948618608,40.710307610455814],[-74.00614300687768,40.710349647177694],[-74.00614153362643,40.710350699877765],[-74.00614680488542,40.71035484017085],[-74.00613317766135,40.71036458254312],[-74.00617389929333,40.71040054325033],[-74.00618179449624,40.71040751726443],[-74.00623683292156,40.710456123028706],[-74.00596895940974,40.7106476262071],[-74.00591604027034,40.71059750469014],[-74.00587042940688,40.71055430408806]]]]}',\n",
       " '{\"type\":\"MultiPolygon\",\"coordinates\":[[[[-74.00613317766135,40.71036458254312],[-74.00614680488542,40.71035484017085],[-74.00614153362643,40.710350699877765],[-74.00614300687768,40.710349647177694],[-74.00617657185242,40.71032565042431],[-74.00592401943943,40.71016646930081],[-74.00610902303082,40.70997706321596],[-74.0064686169512,40.710161478667295],[-74.00617389929333,40.71040054325033],[-74.00613317766135,40.71036458254312]]]]}',\n",
       " '{\"type\":\"MultiPolygon\",\"coordinates\":[[[[-74.00553369881798,40.70918577189983],[-74.00633224967996,40.70958918888772],[-74.00606241210214,40.70986305747913],[-74.00524367350184,40.70944447673929],[-74.00553369881798,40.70918577189983]]]]}',\n",
       " '{\"type\":\"MultiPolygon\",\"coordinates\":[[[[-74.00553717994173,40.71007712375141],[-74.00559186208577,40.7100314069124],[-74.00577746407181,40.71015225823612],[-74.00572865068949,40.71020179937483],[-74.00553717994173,40.71007712375141]]]]}',\n",
       " '{\"type\":\"MultiPolygon\",\"coordinates\":[[[[-74.0054465899813,40.7101528597412],[-74.00553717994173,40.71007712375141],[-74.00572865068949,40.71020179937483],[-74.00567564249879,40.71025559829075],[-74.00557938360122,40.71018145657142],[-74.00553365561349,40.710235324443396],[-74.0054465899813,40.7101528597412]]]]}',\n",
       " '{\"type\":\"MultiPolygon\",\"coordinates\":[[[[-74.00557938360122,40.71018145657142],[-74.00567564249879,40.71025559829075],[-74.00561743237424,40.71031467619656],[-74.00553365561349,40.710235324443396],[-74.00557938360122,40.71018145657142]]]]}',\n",
       " '{\"type\":\"MultiPolygon\",\"coordinates\":[[[[-74.00539011175027,40.71009936483489],[-74.00565178766561,40.7098832099876],[-74.00572149271284,40.70992303264423],[-74.00559186208577,40.7100314069124],[-74.00553717994173,40.71007712375141],[-74.0054465899813,40.7101528597412],[-74.00539011175027,40.71009936483489]]]]}',\n",
       " '{\"type\":\"MultiPolygon\",\"coordinates\":[[[[-74.00554597350789,40.70988278534993],[-74.00558946379128,40.70984760314093],[-74.00565178766561,40.7098832099876],[-74.00539011175027,40.71009936483489],[-74.005338580618,40.71005055588467],[-74.00554597350789,40.70988278534993]]]]}',\n",
       " '{\"type\":\"MultiPolygon\",\"coordinates\":[[[[-74.00528281734834,40.709997738048564],[-74.00548265239865,40.709836080577034],[-74.00554597350789,40.70988278534993],[-74.005338580618,40.71005055588467],[-74.00528281734834,40.709997738048564]]]]}',\n",
       " '{\"type\":\"MultiPolygon\",\"coordinates\":[[[[-74.00519232041772,40.709490283378194],[-74.00520016416574,40.70949419663286],[-74.00542755575948,40.70960766890253],[-74.00512388701169,40.709847203061706],[-74.0049630141459,40.70969482646545],[-74.00519232041772,40.709490283378194]]]]}',\n",
       " '{\"type\":\"MultiPolygon\",\"coordinates\":[[[[-74.00559186208577,40.7100314069124],[-74.00572149271284,40.70992303264423],[-74.00565178766561,40.7098832099876],[-74.00558946379128,40.70984760314093],[-74.00554597350789,40.70988278534993],[-74.00548265239865,40.709836080577034],[-74.00528281734834,40.709997738048564],[-74.00512388701169,40.709847203061706],[-74.00542755575948,40.70960766890253],[-74.00602184913728,40.709904226267255],[-74.00577746407181,40.71015225823612],[-74.00559186208577,40.7100314069124]]]]}',\n",
       " '{\"type\":\"MultiPolygon\",\"coordinates\":[[[[-74.0050464767122,40.70894351196373],[-74.00484166631355,40.70900894316433],[-74.00482496062433,40.709059746942216],[-74.00502043605447,40.70919554041812],[-74.00502340652947,40.70923139766782],[-74.00507841052044,40.709270021785066],[-74.00479796532804,40.70950128028131],[-74.00467285444734,40.70960731559785],[-74.00471999303596,40.709653245146576],[-74.00445145648824,40.709857564499764],[-74.0040269678715,40.710179055424135],[-74.00401206940587,40.7101673439203],[-74.00400582738517,40.710172633686916],[-74.00316225399183,40.70954958381591],[-74.00308030233336,40.70960671415069],[-74.00302728847792,40.70956997818955],[-74.00251800100531,40.70995097301463],[-74.00247350907587,40.709985244514606],[-74.00240998120088,40.70992433706904],[-74.00243464069136,40.709888314515844],[-74.00232144405331,40.70980029450306],[-74.00229864,40.70983196126142],[-74.0018745280271,40.70950637704674],[-74.00188858020205,40.709484706168766],[-74.00189840907089,40.70947134516604],[-74.00270425862533,40.708861612472724],[-74.00337860679457,40.70830535896271],[-74.00342071569976,40.70828383203838],[-74.00361543339471,40.70851176622797],[-74.00370165787936,40.70861511871504],[-74.00381645723975,40.708736941577996],[-74.00382783119447,40.70874832007737],[-74.003845685488,40.70876187306618],[-74.00386210890231,40.708771227975035],[-74.00387554043509,40.708777227657954],[-74.0038917292544,40.70878284090498],[-74.00390191121073,40.70878557179111],[-74.00391360779945,40.708788017260005],[-74.00392965560104,40.7087902392142],[-74.00394368097317,40.708791159042555],[-74.00395245092813,40.708791259659414],[-74.00396806429711,40.70879054143255],[-74.00398148358475,40.70878788266659],[-74.00400858465702,40.70877811852769],[-74.00462986857556,40.70852184875954],[-74.00464478966008,40.70854028336895],[-74.00469455490072,40.70852101061062],[-74.0050464767122,40.70894351196373]]]]}',\n",
       " '{\"type\":\"MultiPolygon\",\"coordinates\":[[[[-74.00507841052044,40.709270021785066],[-74.00502340652947,40.70923139766782],[-74.00502043605447,40.70919554041812],[-74.00482496062433,40.709059746942216],[-74.00484166631355,40.70900894316433],[-74.0050464767122,40.70894351196373],[-74.00509823691762,40.708918546806416],[-74.00514605920007,40.708971113085816],[-74.00519957591581,40.70902039857837],[-74.0052584001576,40.709066047063],[-74.00527667014418,40.70907906847851],[-74.00528370804206,40.709086630228896],[-74.00528897441538,40.70909498499771],[-74.00529231917335,40.70910389477424],[-74.00529364686916,40.709113105734865],[-74.00529291977249,40.70912235543638],[-74.00529015863886,40.709131380260104],[-74.00528544194684,40.70913992311441],[-74.00527890435586,40.70914774053634],[-74.00527073186528,40.709154609811684],[-74.00510697616883,40.70927082566526],[-74.00507967083685,40.70927082680455],[-74.00507841052044,40.709270021785066]]]]}',\n",
       " '{\"type\":\"MultiPolygon\",\"coordinates\":[[[[-74.00293273692931,40.710275622992874],[-74.0028412088183,40.71020445336895],[-74.00277938954883,40.7102690257048],[-74.00247350907587,40.709985244514606],[-74.00251800100531,40.70995097301463],[-74.00302728847792,40.70956997818955],[-74.00308030233336,40.70960671415069],[-74.00316225399183,40.70954958381591],[-74.00400582738517,40.710172633686916],[-74.00392214859971,40.71024355237667],[-74.00393720452875,40.710255696163514],[-74.0036689932876,40.71045945982149],[-74.00343208731336,40.71063730450496],[-74.00336112317633,40.71068498201744],[-74.00316263456646,40.710564615211396],[-74.00287335414482,40.71033786845424],[-74.00293273692931,40.710275622992874]]]]}',\n",
       " '{\"type\":\"MultiPolygon\",\"coordinates\":[[[[-74.00409637384405,40.70837024703637],[-74.00382231094594,40.70849144092322],[-74.00382206117062,40.70849156884933],[-74.00357595062442,40.70819348051212],[-74.0037547405923,40.7081170498843],[-74.00398849224534,40.70801712389133],[-74.00412257525709,40.70795980393552],[-74.00415164482048,40.7079473768426],[-74.0045498063236,40.70842675251214],[-74.00438800762223,40.70849222180286],[-74.0042138234871,40.70826398837682],[-74.00413602519774,40.70829541876801],[-74.00406263234878,40.70832516594923],[-74.00409637384405,40.70837024703637]]]]}',\n",
       " '{\"type\":\"MultiPolygon\",\"coordinates\":[[[[-74.00382206117062,40.70849156884933],[-74.00382231094594,40.70849144092322],[-74.00409637384405,40.70837024703637],[-74.00423424007434,40.708554442527046],[-74.00415320977797,40.70858789019434],[-74.00396455196788,40.70866415150058],[-74.00382206117062,40.70849156884933]]]]}',\n",
       " '{\"type\":\"MultiPolygon\",\"coordinates\":[[[[-74.00438800762223,40.70849222180286],[-74.00430899041102,40.708524570033255],[-74.00423424007434,40.708554442527046],[-74.00409637384405,40.70837024703637],[-74.00406263234878,40.70832516594923],[-74.00413602519774,40.70829541876801],[-74.0042138234871,40.70826398837682],[-74.00438800762223,40.70849222180286]]]]}',\n",
       " '{\"type\":\"MultiPolygon\",\"coordinates\":[[[[-74.00346269031594,40.70755789514725],[-74.00386864449268,40.707342878500725],[-74.00390025264807,40.70738169307093],[-74.00357205659112,40.70771678963726],[-74.00346269031594,40.70755789514725]]]]}',\n",
       " '{\"type\":\"MultiPolygon\",\"coordinates\":[[[[-74.00337562407324,40.70760400808277],[-74.00346269031594,40.70755789514725],[-74.00357205659112,40.70771678963726],[-74.00337315654741,40.707919869014],[-74.00321449577088,40.707689351786236],[-74.00337562407324,40.70760400808277]]]]}',\n",
       " '{\"type\":\"MultiPolygon\",\"coordinates\":[[[[-74.00307571755026,40.706377559637296],[-74.00340713238309,40.70678754409133],[-74.00277815328276,40.70711349071279],[-74.00246494700501,40.70672819607517],[-74.00305786508359,40.7063878096605],[-74.00307571755026,40.706377559637296]]]]}',\n",
       " '{\"type\":\"MultiPolygon\",\"coordinates\":[[[[-74.00313284559469,40.70707822035627],[-74.0032777908391,40.707256522990576],[-74.00333782868572,40.70722625703989],[-74.00319288345668,40.70704795456415],[-74.00333520521002,40.7069762072571],[-74.00338427771646,40.70703657523914],[-74.00347906078497,40.70715317058758],[-74.00354800767845,40.70711841258965],[-74.00357457546265,40.70715109401955],[-74.00366482546363,40.70710559675006],[-74.00378180661497,40.70724949831208],[-74.00315382609642,40.707575623458254],[-74.00286091683374,40.70721530321426],[-74.00313284559469,40.70707822035627]]]]}',\n",
       " '{\"type\":\"MultiPolygon\",\"coordinates\":[[[[-74.00333782868572,40.70722625703989],[-74.0032777908391,40.707256522990576],[-74.00313284559469,40.70707822035627],[-74.00319288345668,40.70704795456415],[-74.00333782868572,40.70722625703989]]]]}',\n",
       " '{\"type\":\"MultiPolygon\",\"coordinates\":[[[[-74.00354800767845,40.70711841258965],[-74.00353112866804,40.70709765001722],[-74.00345322563952,40.70700181729866],[-74.00341105124866,40.70702307945337],[-74.00338427771646,40.70703657523914],[-74.00333520521002,40.7069762072571],[-74.00336125700571,40.70696307442377],[-74.00349440183092,40.70689595312849],[-74.00362137983545,40.707052152781365],[-74.00366482546363,40.70710559675006],[-74.00357457546265,40.70715109401955],[-74.00354800767845,40.70711841258965]]]]}',\n",
       " '{\"type\":\"MultiPolygon\",\"coordinates\":[[[[-74.00338427771646,40.70703657523914],[-74.00341105124866,40.70702307945337],[-74.00345322563952,40.70700181729866],[-74.00353112866804,40.70709765001722],[-74.00354800767845,40.70711841258965],[-74.00347906078497,40.70715317058758],[-74.00338427771646,40.70703657523914]]]]}',\n",
       " '{\"type\":\"MultiPolygon\",\"coordinates\":[[[[-74.0014626788933,40.70730357054113],[-74.00161503398996,40.70721610865952],[-74.001715145384,40.70733947551275],[-74.00156022706852,40.70742840798304],[-74.0014626788933,40.70730357054113]]]]}',\n",
       " '{\"type\":\"MultiPolygon\",\"coordinates\":[[[[-74.00175094863955,40.70738359641559],[-74.001715145384,40.70733947551275],[-74.00161503398996,40.70721610865952],[-74.00172595559714,40.70715243324938],[-74.00187412557361,40.70733502398902],[-74.00175898260474,40.707393497371775],[-74.00175094863955,40.70738359641559]]]]}',\n",
       " '{\"type\":\"MultiPolygon\",\"coordinates\":[[[[-74.00172595559714,40.70715243324938],[-74.00177749654843,40.70712284453734],[-74.00192755408007,40.707307892650164],[-74.00187412557361,40.70733502398902],[-74.00172595559714,40.70715243324938]]]]}',\n",
       " '{\"type\":\"MultiPolygon\",\"coordinates\":[[[[-74.00194514424925,40.70729895938478],[-74.00192755408007,40.707307892650164],[-74.00177749654843,40.70712284453734],[-74.00182540351705,40.70709534236113],[-74.00197529422391,40.707280051837884],[-74.00194307690703,40.707296413685874],[-74.00194514424925,40.70729895938478]]]]}',\n",
       " '{\"type\":\"MultiPolygon\",\"coordinates\":[[[[-74.00197529422391,40.707280051837884],[-74.00182540351705,40.70709534236113],[-74.00187327724453,40.70706785907354],[-74.00202499052642,40.707254815267206],[-74.00197529422391,40.707280051837884]]]]}',\n",
       " '{\"type\":\"MultiPolygon\",\"coordinates\":[[[[-74.00202499052642,40.707254815267206],[-74.00187327724453,40.70706785907354],[-74.00191863296246,40.70704182288997],[-74.00207568200524,40.70723535446499],[-74.00202859859279,40.70725926456878],[-74.00202499052642,40.707254815267206]]]]}',\n",
       " '{\"type\":\"MultiPolygon\",\"coordinates\":[[[[-74.00191863296246,40.70704182288997],[-74.00196653024895,40.70701432600903],[-74.00212540308142,40.70721010513401],[-74.00207568200524,40.70723535446499],[-74.00191863296246,40.70704182288997]]]]}',\n",
       " '{\"type\":\"MultiPolygon\",\"coordinates\":[[[[-74.00217396778173,40.707180776561856],[-74.00217664937442,40.70718408055122],[-74.00212540308142,40.70721010513401],[-74.00196653024895,40.70701432600903],[-74.00201589722843,40.70698598536232],[-74.00217396778173,40.707180776561856]]]]}',\n",
       " '{\"type\":\"MultiPolygon\",\"coordinates\":[[[[-74.00201589722843,40.70698598536232],[-74.00209121797795,40.70694274539327],[-74.00225215604512,40.707141069120304],[-74.00217396778173,40.707180776561856],[-74.00201589722843,40.70698598536232]]]]}',\n",
       " '{\"type\":\"MultiPolygon\",\"coordinates\":[[[[-74.00225215604512,40.707141069120304],[-74.00209121797795,40.70694274539327],[-74.00216082319767,40.706902787749],[-74.00223440897994,40.70686054269587],[-74.00231213394892,40.706815922881745],[-74.00239359823098,40.70691631024129],[-74.00231587320127,40.70696093010849],[-74.00239046815369,40.70705285274374],[-74.00241558916623,40.707083810040984],[-74.00233920214706,40.70712260172195],[-74.00232441207852,40.707104375710955],[-74.00225215604512,40.707141069120304]]]]}',\n",
       " '{\"type\":\"MultiPolygon\",\"coordinates\":[[[[-74.00231587320127,40.70696093010849],[-74.00239359823098,40.70691631024129],[-74.00246819313227,40.707008232909246],[-74.00239046815369,40.70705285274374],[-74.00231587320127,40.70696093010849]]]]}',\n",
       " '{\"type\":\"MultiPolygon\",\"coordinates\":[[[[-74.00254298954187,40.707100403078854],[-74.00246230595636,40.70714137689488],[-74.00241558916623,40.707083810040984],[-74.00239046815369,40.70705285274374],[-74.00246819313227,40.707008232909246],[-74.00254298954187,40.707100403078854]]]]}',\n",
       " '{\"type\":\"MultiPolygon\",\"coordinates\":[[[[-74.00254003006272,40.707237155402396],[-74.00246230595636,40.70714137689488],[-74.00254298954187,40.707100403078854],[-74.00262071371635,40.70719618245255],[-74.00254003006272,40.707237155402396]]]]}',\n",
       " '{\"type\":\"MultiPolygon\",\"coordinates\":[[[[-74.00202859859279,40.70725926456878],[-74.00207568200524,40.70723535446499],[-74.00212540308142,40.70721010513401],[-74.00217664937442,40.70718408055122],[-74.00217396778173,40.707180776561856],[-74.00225215604512,40.707141069120304],[-74.00232441207852,40.707104375710955],[-74.00233920214706,40.70712260172195],[-74.00241558916623,40.707083810040984],[-74.00246230595636,40.70714137689488],[-74.00254003006272,40.707237155402396],[-74.00216514983478,40.707427532553474],[-74.00202859859279,40.70725926456878]]]]}',\n",
       " '{\"type\":\"MultiPolygon\",\"coordinates\":[[[[-74.00187412557361,40.70733502398902],[-74.00192755408007,40.707307892650164],[-74.00194514424925,40.70729895938478],[-74.00194307690703,40.707296413685874],[-74.00197529422391,40.707280051837884],[-74.00202499052642,40.707254815267206],[-74.00202859859279,40.70725926456878],[-74.00216514983478,40.707427532553474],[-74.00201221851762,40.70750519484053],[-74.00187412557361,40.70733502398902]]]]}',\n",
       " '{\"type\":\"MultiPolygon\",\"coordinates\":[[[[-74.00175898260474,40.707393497371775],[-74.00187412557361,40.70733502398902],[-74.00201221851762,40.70750519484053],[-74.001897074167,40.707563668442404],[-74.00181862388786,40.707466925067536],[-74.00175898260474,40.707393497371775]]]]}',\n",
       " '{\"type\":\"MultiPolygon\",\"coordinates\":[[[[-74.00159511438491,40.70747305483917],[-74.00175094863955,40.70738359641559],[-74.00175898260474,40.707393497371775],[-74.00181862388786,40.707466925067536],[-74.001897074167,40.707563668442404],[-74.00173158574535,40.70764770618507],[-74.00159511438491,40.70747305483917]]]]}',\n",
       " '{\"type\":\"MultiPolygon\",\"coordinates\":[[[[-74.00159511438491,40.70747305483917],[-74.00156022706852,40.70742840798304],[-74.001715145384,40.70733947551275],[-74.00175094863955,40.70738359641559],[-74.00159511438491,40.70747305483917]]]]}',\n",
       " '{\"type\":\"MultiPolygon\",\"coordinates\":[[[[-74.00206771786002,40.70796861329586],[-74.00199577306074,40.70800432769766],[-74.00180727954708,40.707768295115436],[-74.00187868569533,40.70773190636056],[-74.00198229777278,40.707861707897784],[-74.0020172790201,40.707905454093094],[-74.00206771786002,40.70796861329586]]]]}',\n",
       " '{\"type\":\"MultiPolygon\",\"coordinates\":[[[[-74.0020172790201,40.707905454093094],[-74.00198229777278,40.707861707897784],[-74.00187868569533,40.70773190636056],[-74.00199342446079,40.70767343554629],[-74.00212723808268,40.70784100026813],[-74.0021328817828,40.707848066457046],[-74.0020172790201,40.707905454093094]]]]}',\n",
       " '{\"type\":\"MultiPolygon\",\"coordinates\":[[[[-74.00212723808268,40.70784100026813],[-74.00199342446079,40.70767343554629],[-74.00209940985044,40.70761942406582],[-74.00223402478454,40.70778798999364],[-74.00212723808268,40.70784100026813]]]]}',\n",
       " '{\"type\":\"MultiPolygon\",\"coordinates\":[[[[-74.00231230620219,40.70775568829106],[-74.00223777384296,40.70779268608694],[-74.00223402478454,40.70778798999364],[-74.00209940985044,40.70761942406582],[-74.00217338237294,40.70758172662553],[-74.00231230620219,40.70775568829106]]]]}',\n",
       " '{\"type\":\"MultiPolygon\",\"coordinates\":[[[[-74.00270933272111,40.70730859842184],[-74.0027804684114,40.70739767438244],[-74.00269596000818,40.70743962644346],[-74.00262545766101,40.70735134277275],[-74.00270933272111,40.70730859842184]]]]}',\n",
       " '{\"type\":\"MultiPolygon\",\"coordinates\":[[[[-74.00276718333399,40.707528811336765],[-74.00273346921911,40.70748659349672],[-74.00281797765652,40.70744464140847],[-74.00285169169533,40.70748685922403],[-74.00276718333399,40.707528811336765]]]]}',\n",
       " '{\"type\":\"MultiPolygon\",\"coordinates\":[[[[-74.00276718333399,40.707528811336765],[-74.00285169169533,40.70748685922403],[-74.00288715971111,40.70753127251306],[-74.0028026513175,40.70757322373016],[-74.00276718333399,40.707528811336765]]]]}',\n",
       " '{\"type\":\"MultiPolygon\",\"coordinates\":[[[[-74.00264372792586,40.70759016113419],[-74.00278675479447,40.707769257773464],[-74.00268593373085,40.70781930749893],[-74.00254347499198,40.70764092309936],[-74.00254290581479,40.7076402108182],[-74.00264372792586,40.70759016113419]]]]}',\n",
       " '{\"type\":\"MultiPolygon\",\"coordinates\":[[[[-74.00238022725024,40.7079710655052],[-74.00227344158058,40.70802407591386],[-74.0021328817828,40.707848066457046],[-74.00212723808268,40.70784100026813],[-74.00223402478454,40.70778798999364],[-74.00223777384296,40.70779268608694],[-74.00238022725024,40.7079710655052]]]]}',\n",
       " '{\"type\":\"MultiPolygon\",\"coordinates\":[[[[-74.00206771786002,40.70796861329586],[-74.00215783863379,40.70808146276945],[-74.00208589255199,40.70811717814709],[-74.00199577306074,40.70800432769766],[-74.00206771786002,40.70796861329586]]]]}',\n",
       " '{\"type\":\"MultiPolygon\",\"coordinates\":[[[[-74.00273346921911,40.70748659349672],[-74.00269596000818,40.70743962644346],[-74.0027804684114,40.70739767438244],[-74.00281797765652,40.70744464140847],[-74.00273346921911,40.70748659349672]]]]}',\n",
       " '{\"type\":\"MultiPolygon\",\"coordinates\":[[[[-74.00206771786002,40.70796861329586],[-74.0020172790201,40.707905454093094],[-74.0021328817828,40.707848066457046],[-74.00227344158058,40.70802407591386],[-74.00215783863379,40.70808146276945],[-74.00206771786002,40.70796861329586]]]]}',\n",
       " '{\"type\":\"MultiPolygon\",\"coordinates\":[[[[-74.00269246448339,40.707565966130424],[-74.00265777761618,40.70752252992956],[-74.00273346921911,40.70748659349672],[-74.00276718333399,40.707528811336765],[-74.0028026513175,40.70757322373016],[-74.00288715971111,40.70753127251306],[-74.00299475562228,40.707666001537945],[-74.00278675479447,40.707769257773464],[-74.00264372792586,40.70759016113419],[-74.00269246448339,40.707565966130424]]]]}',\n",
       " '{\"type\":\"MultiPolygon\",\"coordinates\":[[[[-74.00217338237294,40.70758172662553],[-74.00240282425702,40.70746480052085],[-74.00254290581479,40.7076402108182],[-74.00254347499198,40.70764092309936],[-74.00246129624189,40.7076817168177],[-74.00245567626841,40.70767467582564],[-74.00245558743946,40.70767472000072],[-74.00238416030768,40.707710177044156],[-74.00238978742297,40.70771722523401],[-74.002389744767,40.70771724598195],[-74.00231230620219,40.70775568829106],[-74.00217338237294,40.70758172662553]]]]}',\n",
       " '{\"type\":\"MultiPolygon\",\"coordinates\":[[[[-74.00269596000818,40.70743962644346],[-74.00273346921911,40.70748659349672],[-74.00265777761618,40.70752252992956],[-74.00269246448339,40.707565966130424],[-74.00264372792586,40.70759016113419],[-74.00254290581479,40.7076402108182],[-74.00240282425702,40.70746480052085],[-74.00262545766101,40.70735134277275],[-74.00269596000818,40.70743962644346]]]]}',\n",
       " '{\"type\":\"MultiPolygon\",\"coordinates\":[[[[-74.00223777384296,40.70779268608694],[-74.00231230620219,40.70775568829106],[-74.002389744767,40.70771724598195],[-74.00238978742297,40.70771722523401],[-74.00238416030768,40.707710177044156],[-74.00245558743946,40.70767472000072],[-74.00245567626841,40.70767467582564],[-74.00246129624189,40.7076817168177],[-74.00254347499198,40.70764092309936],[-74.00268593373085,40.70781930749893],[-74.00238022725024,40.7079710655052],[-74.00223777384296,40.70779268608694]]]]}',\n",
       " '{\"type\":\"MultiPolygon\",\"coordinates\":[[[[-74.00306959766723,40.70776767895626],[-74.00325837120283,40.7080260609929],[-74.00247954033024,40.70868059480216],[-74.00207423000549,40.7082640550072],[-74.00306959766723,40.70776767895626]]]]}',\n",
       " '{\"type\":\"MultiPolygon\",\"coordinates\":[[[[-74.0045623819462,40.71034479177385],[-74.00439849595128,40.71018879256499],[-74.0046298139952,40.70998626502205],[-74.00484794599487,40.709792315733694],[-74.00536624292107,40.71028436737632],[-74.00560188056038,40.710508068445485],[-74.00518771869012,40.71094002046531],[-74.00509510195789,40.710851863598414],[-74.00465669193052,40.710434561747014],[-74.00464212683148,40.710420698044516],[-74.0045623819462,40.71034479177385]]]]}',\n",
       " '{\"type\":\"MultiPolygon\",\"coordinates\":[[[[-74.00598174750749,40.71124747356753],[-74.00621221037902,40.711087475773716],[-74.00638196466343,40.71124862653085],[-74.00615150175068,40.711408624660926],[-74.00598174750749,40.71124747356753]]]]}',\n",
       " '{\"type\":\"MultiPolygon\",\"coordinates\":[[[[-74.00565330635703,40.71138318346176],[-74.00592558633494,40.71119415719685],[-74.00598174750749,40.71124747356753],[-74.00615150175068,40.711408624660926],[-74.00587888072681,40.71159789015606],[-74.00565330635703,40.71138318346176]]]]}',\n",
       " '{\"type\":\"MultiPolygon\",\"coordinates\":[[[[-74.00518771869012,40.71094002046531],[-74.00560188056038,40.710508068445485],[-74.00560220601774,40.71050837906423],[-74.00561712515757,40.710522541633985],[-74.00621221037902,40.711087475773716],[-74.00598174750749,40.71124747356753],[-74.00592558633494,40.71119415719685],[-74.00565330635703,40.71138318346176],[-74.00544484217808,40.711184760379965],[-74.00518771869012,40.71094002046531]]]]}',\n",
       " '{\"type\":\"MultiPolygon\",\"coordinates\":[[[[-74.0061962607073,40.711497433267816],[-74.00645298578256,40.711319201946395],[-74.00678933967625,40.71163604737066],[-74.00643492329901,40.71172225267235],[-74.0061962607073,40.711497433267816]]]]}',\n",
       " '{\"type\":\"MultiPolygon\",\"coordinates\":[[[[-74.00595505637511,40.71166488693234],[-74.0061962607073,40.711497433267816],[-74.00643492329901,40.71172225267235],[-74.006100728045,40.71180353825764],[-74.00595505637511,40.71166488693234]]]]}',\n",
       " '{\"type\":\"MultiPolygon\",\"coordinates\":[[[[-74.00441103617183,40.71137287607626],[-74.00442262155232,40.711349882047436],[-74.00442806321193,40.711337041445944],[-74.00443485360084,40.71131799003879],[-74.0044393780132,40.71130213917245],[-74.00444243393932,40.71128871419869],[-74.0044449950276,40.711273923306116],[-74.00444678689807,40.7112584308591],[-74.00444764760326,40.711243977684255],[-74.00444771050498,40.711228785140875],[-74.00444703269915,40.71121513801327],[-74.00444506705438,40.711197123400446],[-74.00444094612271,40.71117491250001],[-74.00443557807897,40.711154166721286],[-74.00442989667555,40.71113825046358],[-74.00442059717254,40.71111628102848],[-74.00441060431366,40.711096898840474],[-74.0044015632974,40.711081776060546],[-74.0043815902634,40.71105367998922],[-74.00436140559503,40.71102894551471],[-74.00435932025758,40.711026763620154],[-74.0043575462203,40.71102535081255],[-74.0043553272411,40.71102396136177],[-74.00386185358569,40.71073973564417],[-74.003887140653,40.7106969760289],[-74.00391508591031,40.7106602118215],[-74.00393796316678,40.7106347816036],[-74.00397285846901,40.710596560200294],[-74.00400248098684,40.71056836617177],[-74.00403201371138,40.71054301586726],[-74.00429652066532,40.71030952206162],[-74.0057531830672,40.71168964810093],[-74.00563285337442,40.711772183599436],[-74.005536666637,40.711827363086805],[-74.00549778199888,40.71184641241628],[-74.00547520402554,40.71185453426059],[-74.00544957277786,40.71186163590428],[-74.00540614997092,40.71187074645467],[-74.00537351369601,40.71187432207247],[-74.00534827128693,40.711875501886425],[-74.00532347259674,40.711874998745806],[-74.00528110558963,40.71187146515038],[-74.00525071490223,40.71186729804199],[-74.00521115940707,40.71185908981381],[-74.00517508783331,40.71184888585206],[-74.00514600544976,40.71183798100655],[-74.00509873882841,40.711814612063826],[-74.00441103617183,40.71137287607626]]]]}',\n",
       " '{\"type\":\"MultiPolygon\",\"coordinates\":[[[[-74.00126143244674,40.70890638450668],[-74.00122653631715,40.70892784482286],[-74.0012101416175,40.708912797477865],[-74.00117369159128,40.70893586609398],[-74.00101153066454,40.70878309671157],[-74.00108864926509,40.70874451657755],[-74.00126143244674,40.70890638450668]]]]}',\n",
       " '{\"type\":\"MultiPolygon\",\"coordinates\":[[[[-74.00145250389288,40.708981558124755],[-74.00138854438681,40.709020849748505],[-74.00138556942288,40.70902267693836],[-74.00126143244674,40.70890638450668],[-74.00108864926509,40.70874451657755],[-74.00116063679397,40.70870863977515],[-74.00142901464277,40.708960061438965],[-74.00143019330433,40.70895933742264],[-74.00145250389288,40.708981558124755]]]]}',\n",
       " '{\"type\":\"MultiPolygon\",\"coordinates\":[[[[-74.00150288948828,40.70891457867434],[-74.00124054801414,40.708668813215695],[-74.00132199982616,40.70862821849362],[-74.00157746826069,40.70886754694916],[-74.00159988416388,40.70888854566491],[-74.00151826421015,40.70892898213107],[-74.00150288948828,40.70891457867434]]]]}',\n",
       " '{\"type\":\"MultiPolygon\",\"coordinates\":[[[[-74.00552538611375,40.67941404284437],[-74.00554780087438,40.67936604359018],[-74.0057893573366,40.679528481996556],[-74.00576677125217,40.679576366018956],[-74.00574710039352,40.67961807149228],[-74.00550586538212,40.679455849166224],[-74.00552538611375,40.67941404284437]]]]}',\n",
       " '{\"type\":\"MultiPolygon\",\"coordinates\":[[[[-74.00581179561027,40.67948091128808],[-74.0057893573366,40.679528481996556],[-74.00554780087438,40.67936604359018],[-74.00557006771531,40.679318356814605],[-74.00581179561027,40.67948091128808]]]]}',\n",
       " '{\"type\":\"MultiPolygon\",\"coordinates\":[[[[-74.00557006771531,40.679318356814605],[-74.00559165452131,40.67927213071223],[-74.00579970692725,40.6794120397612],[-74.005833546709,40.67943479682154],[-74.00581179561027,40.67948091128808],[-74.00557006771531,40.679318356814605]]]]}',\n",
       " '{\"type\":\"MultiPolygon\",\"coordinates\":[[[[-74.00559165452131,40.67927213071223],[-74.00561324953905,40.67922588385791],[-74.00583934142362,40.67937792283137],[-74.00579970692725,40.6794120397612],[-74.00559165452131,40.67927213071223]]]]}',\n",
       " '{\"type\":\"MultiPolygon\",\"coordinates\":[[[[-74.00561324953905,40.67922588385791],[-74.00563535784973,40.67917853749441],[-74.00587957430669,40.6793432907549],[-74.00583934142362,40.67937792283137],[-74.00561324953905,40.67922588385791]]]]}',\n",
       " '{\"type\":\"MultiPolygon\",\"coordinates\":[[[[-74.00525366409443,40.67918388937614],[-74.00528735209106,40.679112977038294],[-74.00540910502106,40.67914674629714],[-74.00537541724853,40.67921765950681],[-74.00525366409443,40.67918388937614]]]]}',\n",
       " '{\"type\":\"MultiPolygon\",\"coordinates\":[[[[-74.00500016622367,40.679191517624176],[-74.00506657052202,40.679051739992914],[-74.0051744316647,40.67908165763543],[-74.0051407435656,40.679152569939056],[-74.00525366409443,40.67918388937614],[-74.00537541724853,40.67921765950681],[-74.00534285758805,40.67928619808906],[-74.00500016622367,40.679191517624176]]]]}',\n",
       " '{\"type\":\"MultiPolygon\",\"coordinates\":[[[[-74.00500016622367,40.679191517624176],[-74.00534285758805,40.67928619808906],[-74.005312712783,40.67934964867851],[-74.00497002366271,40.679254968040404],[-74.00500016622367,40.679191517624176]]]]}',\n",
       " '{\"type\":\"MultiPolygon\",\"coordinates\":[[[[-74.005312712783,40.67934964867851],[-74.0052815012604,40.679415348714386],[-74.00493881053022,40.679320668067575],[-74.00497002366271,40.679254968040404],[-74.005312712783,40.67934964867851]]]]}',\n",
       " '{\"type\":\"MultiPolygon\",\"coordinates\":[[[[-74.00493917600697,40.67938631994732],[-74.0049221491358,40.67935574008705],[-74.00493881053022,40.679320668067575],[-74.0052815012604,40.679415348714386],[-74.00525388136515,40.679473487923424],[-74.00493917600697,40.67938631994732]]]]}',\n",
       " '{\"type\":\"MultiPolygon\",\"coordinates\":[[[[-74.00522135222135,40.67954196071043],[-74.00499029484796,40.679478122425216],[-74.00493917600697,40.67938631994732],[-74.00525388136515,40.679473487923424],[-74.00522135222135,40.67954196071043]]]]}',\n",
       " '{\"type\":\"MultiPolygon\",\"coordinates\":[[[[-74.00518972771853,40.67960852981316],[-74.00503985227537,40.67956712161281],[-74.00499251891478,40.679482117004596],[-74.00499029484796,40.679478122425216],[-74.00522135222135,40.67954196071043],[-74.00518972771853,40.67960852981316]]]]}',\n",
       " '{\"type\":\"MultiPolygon\",\"coordinates\":[[[[-74.005090113679,40.679657384204425],[-74.00503985227537,40.67956712161281],[-74.00518972771853,40.67960852981316],[-74.00515765376468,40.67967604438602],[-74.005090113679,40.679657384204425]]]]}',\n",
       " '{\"type\":\"MultiPolygon\",\"coordinates\":[[[[-74.00499251891478,40.679482117004596],[-74.00503985227537,40.67956712161281],[-74.005090113679,40.679657384204425],[-74.00493023932331,40.67961321252417],[-74.00499251891478,40.679482117004596]]]]}',\n",
       " '{\"type\":\"MultiPolygon\",\"coordinates\":[[[[-74.00493023932331,40.67961321252417],[-74.00484148918213,40.679588692485154],[-74.00493917600697,40.67938631994732],[-74.00499029484796,40.679478122425216],[-74.00499251891478,40.679482117004596],[-74.00493023932331,40.67961321252417]]]]}',\n",
       " '{\"type\":\"MultiPolygon\",\"coordinates\":[[[[-74.00476038401925,40.67956628378036],[-74.00488881928177,40.67929588260586],[-74.0049221491358,40.67935574008705],[-74.00493917600697,40.67938631994732],[-74.00484148918213,40.679588692485154],[-74.00476038401925,40.67956628378036]]]]}',\n",
       " '{\"type\":\"MultiPolygon\",\"coordinates\":[[[[-74.00467609340468,40.679542995272094],[-74.00479641343644,40.67928973124224],[-74.00480863765625,40.679282860805635],[-74.00482100274766,40.67927591104972],[-74.00486418445482,40.67925164320416],[-74.00488454746258,40.67928821218538],[-74.00488881928177,40.67929588260586],[-74.00476038401925,40.67956628378036],[-74.00467609340468,40.679542995272094]]]]}',\n",
       " '{\"type\":\"MultiPolygon\",\"coordinates\":[[[[-74.0046526968309,40.679370502038665],[-74.00479641343644,40.67928973124224],[-74.00467609340468,40.679542995272094],[-74.00458297273804,40.67951726754869],[-74.0046526968309,40.679370502038665]]]]}',\n",
       " '{\"type\":\"MultiPolygon\",\"coordinates\":[[[[-74.00447949942632,40.67946784316652],[-74.0046526968309,40.679370502038665],[-74.00458297273804,40.67951726754869],[-74.00450574877198,40.679495931894174],[-74.00447949942632,40.67946784316652]]]]}',\n",
       " '{\"type\":\"MultiPolygon\",\"coordinates\":[[[[-74.0044581841583,40.679445033963844],[-74.00456695353334,40.67921608540404],[-74.00464984430822,40.67923898677684],[-74.00473135718174,40.67926150815379],[-74.00480863765625,40.679282860805635],[-74.00479641343644,40.67928973124224],[-74.0046526968309,40.679370502038665],[-74.00447949942632,40.67946784316652],[-74.0044581841583,40.679445033963844]]]]}',\n",
       " '{\"type\":\"MultiPolygon\",\"coordinates\":[[[[-74.00413190803295,40.679095886092796],[-74.00413652706892,40.679097162026096],[-74.00422676084777,40.67912209233104],[-74.00430804024077,40.679144549177686],[-74.00439947946022,40.67916981336583],[-74.00448848317521,40.67919440493205],[-74.00456695353334,40.67921608540404],[-74.0044581841583,40.679445033963844],[-74.00413190803295,40.679095886092796]]]]}',\n",
       " '{\"type\":\"MultiPolygon\",\"coordinates\":[[[[-74.00413190803295,40.679095886092796],[-74.00385486322759,40.678799419351435],[-74.00389048621041,40.67872552758725],[-74.00426371024083,40.67882904980563],[-74.00413652706892,40.679097162026096],[-74.00413190803295,40.679095886092796]]]]}',\n",
       " '{\"type\":\"MultiPolygon\",\"coordinates\":[[[[-74.00413652706892,40.679097162026096],[-74.00426371024083,40.67882904980563],[-74.00435407140613,40.6788541150364],[-74.00422676084777,40.67912209233104],[-74.00413652706892,40.679097162026096]]]]}',\n",
       " '{\"type\":\"MultiPolygon\",\"coordinates\":[[[[-74.00443531403688,40.67887664926579],[-74.00430804024077,40.679144549177686],[-74.00422676084777,40.67912209233104],[-74.00435407140613,40.6788541150364],[-74.00443531403688,40.67887664926579]]]]}',\n",
       " '{\"type\":\"MultiPolygon\",\"coordinates\":[[[[-74.00430804024077,40.679144549177686],[-74.00443531403688,40.67887664926579],[-74.00452671030486,40.67890199977672],[-74.00439947946022,40.67916981336583],[-74.00430804024077,40.679144549177686]]]]}',\n",
       " ...]"
      ]
     },
     "execution_count": 15,
     "metadata": {},
     "output_type": "execute_result"
    }
   ],
   "source": [
    "def convert_geos(geo):\n",
    "    try:\n",
    "        return to_geojson(MultiPolygon([geo]))\n",
    "    except ValueError:\n",
    "        return to_geojson(geo)\n",
    "[convert_geos(x) for x in gdf['geometry']]"
   ]
  },
  {
   "cell_type": "code",
   "execution_count": 13,
   "metadata": {},
   "outputs": [
    {
     "data": {
      "text/plain": [
       "0         POLYGON ((-74.01208 40.69205, -74.01215 40.692...\n",
       "1         MULTIPOLYGON (((-74.04263 40.69004, -74.04257 ...\n",
       "2         POLYGON ((-73.99182 40.67841, -73.99198 40.678...\n",
       "3         POLYGON ((-74.03823 40.69836, -74.03868 40.698...\n",
       "4         POLYGON ((-74.01313 40.69977, -74.01313 40.699...\n",
       "                                ...                        \n",
       "856898    POLYGON ((-74.24997 40.50916, -74.25033 40.509...\n",
       "856899    POLYGON ((-74.24983 40.50903, -74.25064 40.508...\n",
       "856900    POLYGON ((-74.24971 40.50891, -74.25009 40.508...\n",
       "856901    POLYGON ((-74.24960 40.50880, -74.24984 40.508...\n",
       "856902    POLYGON ((-74.24977 40.50860, -74.24984 40.508...\n",
       "Name: geometry, Length: 856903, dtype: geometry"
      ]
     },
     "execution_count": 13,
     "metadata": {},
     "output_type": "execute_result"
    }
   ],
   "source": [
    "gdf['geometry']"
   ]
  },
  {
   "cell_type": "code",
   "execution_count": 58,
   "metadata": {},
   "outputs": [
    {
     "ename": "AttributeError",
     "evalue": "module 'geopandas' has no attribute 'read_csv'",
     "output_type": "error",
     "traceback": [
      "\u001b[0;31m---------------------------------------------------------------------------\u001b[0m",
      "\u001b[0;31mAttributeError\u001b[0m                            Traceback (most recent call last)",
      "Cell \u001b[0;32mIn[58], line 1\u001b[0m\n\u001b[0;32m----> 1\u001b[0m address_match \u001b[39m=\u001b[39m gpd\u001b[39m.\u001b[39;49mread_csv(\u001b[39m'\u001b[39m\u001b[39mdata/address_match.csv\u001b[39m\u001b[39m'\u001b[39m)\n",
      "\u001b[0;31mAttributeError\u001b[0m: module 'geopandas' has no attribute 'read_csv'"
     ]
    }
   ],
   "source": [
    "address_match = pd.read_csv('data/address_match.csv')"
   ]
  },
  {
   "cell_type": "code",
   "execution_count": 56,
   "metadata": {},
   "outputs": [
    {
     "data": {
      "text/html": [
       "<div>\n",
       "<style scoped>\n",
       "    .dataframe tbody tr th:only-of-type {\n",
       "        vertical-align: middle;\n",
       "    }\n",
       "\n",
       "    .dataframe tbody tr th {\n",
       "        vertical-align: top;\n",
       "    }\n",
       "\n",
       "    .dataframe thead th {\n",
       "        text-align: right;\n",
       "    }\n",
       "</style>\n",
       "<table border=\"1\" class=\"dataframe\">\n",
       "  <thead>\n",
       "    <tr style=\"text-align: right;\">\n",
       "      <th></th>\n",
       "      <th>Unnamed: 0</th>\n",
       "      <th>id</th>\n",
       "      <th>city</th>\n",
       "      <th>state</th>\n",
       "      <th>zip</th>\n",
       "      <th>google_map_params</th>\n",
       "      <th>building_bike_storage</th>\n",
       "      <th>building_doorman</th>\n",
       "      <th>building_elevator</th>\n",
       "      <th>building_gym</th>\n",
       "      <th>...</th>\n",
       "      <th>firm07_fla</th>\n",
       "      <th>pfirm15_fl</th>\n",
       "      <th>version</th>\n",
       "      <th>dcpedited</th>\n",
       "      <th>latitude</th>\n",
       "      <th>longitude</th>\n",
       "      <th>notes</th>\n",
       "      <th>shape_leng</th>\n",
       "      <th>shape_area</th>\n",
       "      <th>geometry_y</th>\n",
       "    </tr>\n",
       "  </thead>\n",
       "  <tbody>\n",
       "    <tr>\n",
       "      <th>0</th>\n",
       "      <td>0</td>\n",
       "      <td>243063</td>\n",
       "      <td>Brooklyn</td>\n",
       "      <td>NY</td>\n",
       "      <td>11219</td>\n",
       "      <td>NaN</td>\n",
       "      <td>NaN</td>\n",
       "      <td>NaN</td>\n",
       "      <td>NaN</td>\n",
       "      <td>NaN</td>\n",
       "      <td>...</td>\n",
       "      <td>NaN</td>\n",
       "      <td>NaN</td>\n",
       "      <td>23v1.1</td>\n",
       "      <td>NaN</td>\n",
       "      <td>40.638096</td>\n",
       "      <td>-73.996509</td>\n",
       "      <td>NaN</td>\n",
       "      <td>0.0</td>\n",
       "      <td>1831.452923</td>\n",
       "      <td>POLYGON ((-73.99634628603779 40.63803417679382...</td>\n",
       "    </tr>\n",
       "    <tr>\n",
       "      <th>1</th>\n",
       "      <td>1</td>\n",
       "      <td>61336</td>\n",
       "      <td>Brooklyn</td>\n",
       "      <td>NY</td>\n",
       "      <td>11220</td>\n",
       "      <td>NaN</td>\n",
       "      <td>NaN</td>\n",
       "      <td>NaN</td>\n",
       "      <td>NaN</td>\n",
       "      <td>NaN</td>\n",
       "      <td>...</td>\n",
       "      <td>NaN</td>\n",
       "      <td>NaN</td>\n",
       "      <td>23v1.1</td>\n",
       "      <td>NaN</td>\n",
       "      <td>40.634768</td>\n",
       "      <td>-74.020807</td>\n",
       "      <td>NaN</td>\n",
       "      <td>0.0</td>\n",
       "      <td>1911.676971</td>\n",
       "      <td>POLYGON ((-74.02066406291931 40.63467951208545...</td>\n",
       "    </tr>\n",
       "    <tr>\n",
       "      <th>2</th>\n",
       "      <td>2</td>\n",
       "      <td>172582</td>\n",
       "      <td>Brooklyn</td>\n",
       "      <td>NY</td>\n",
       "      <td>11219</td>\n",
       "      <td>NaN</td>\n",
       "      <td>NaN</td>\n",
       "      <td>NaN</td>\n",
       "      <td>NaN</td>\n",
       "      <td>NaN</td>\n",
       "      <td>...</td>\n",
       "      <td>NaN</td>\n",
       "      <td>NaN</td>\n",
       "      <td>23v1.1</td>\n",
       "      <td>NaN</td>\n",
       "      <td>40.626280</td>\n",
       "      <td>-73.995414</td>\n",
       "      <td>NaN</td>\n",
       "      <td>0.0</td>\n",
       "      <td>2530.695092</td>\n",
       "      <td>POLYGON ((-73.99526068571095 40.62637314294976...</td>\n",
       "    </tr>\n",
       "    <tr>\n",
       "      <th>3</th>\n",
       "      <td>3</td>\n",
       "      <td>24140</td>\n",
       "      <td>New York</td>\n",
       "      <td>NY</td>\n",
       "      <td>10037</td>\n",
       "      <td>NaN</td>\n",
       "      <td>NaN</td>\n",
       "      <td>NaN</td>\n",
       "      <td>NaN</td>\n",
       "      <td>NaN</td>\n",
       "      <td>...</td>\n",
       "      <td>NaN</td>\n",
       "      <td>NaN</td>\n",
       "      <td>23v1.1</td>\n",
       "      <td>NaN</td>\n",
       "      <td>40.815583</td>\n",
       "      <td>-73.938999</td>\n",
       "      <td>NaN</td>\n",
       "      <td>0.0</td>\n",
       "      <td>2710.235940</td>\n",
       "      <td>POLYGON ((-73.9388667161788 40.81568616935353,...</td>\n",
       "    </tr>\n",
       "    <tr>\n",
       "      <th>4</th>\n",
       "      <td>4</td>\n",
       "      <td>166571</td>\n",
       "      <td>Brooklyn</td>\n",
       "      <td>NY</td>\n",
       "      <td>11219</td>\n",
       "      <td>NaN</td>\n",
       "      <td>NaN</td>\n",
       "      <td>NaN</td>\n",
       "      <td>NaN</td>\n",
       "      <td>NaN</td>\n",
       "      <td>...</td>\n",
       "      <td>NaN</td>\n",
       "      <td>NaN</td>\n",
       "      <td>23v1.1</td>\n",
       "      <td>NaN</td>\n",
       "      <td>40.636180</td>\n",
       "      <td>-73.992981</td>\n",
       "      <td>NaN</td>\n",
       "      <td>0.0</td>\n",
       "      <td>2165.427046</td>\n",
       "      <td>POLYGON ((-73.99312431675497 40.63609267150114...</td>\n",
       "    </tr>\n",
       "  </tbody>\n",
       "</table>\n",
       "<p>5 rows × 201 columns</p>\n",
       "</div>"
      ],
      "text/plain": [
       "   Unnamed: 0      id      city state    zip  google_map_params  \\\n",
       "0           0  243063  Brooklyn    NY  11219                NaN   \n",
       "1           1   61336  Brooklyn    NY  11220                NaN   \n",
       "2           2  172582  Brooklyn    NY  11219                NaN   \n",
       "3           3   24140  New York    NY  10037                NaN   \n",
       "4           4  166571  Brooklyn    NY  11219                NaN   \n",
       "\n",
       "   building_bike_storage  building_doorman  building_elevator  building_gym  \\\n",
       "0                    NaN               NaN                NaN           NaN   \n",
       "1                    NaN               NaN                NaN           NaN   \n",
       "2                    NaN               NaN                NaN           NaN   \n",
       "3                    NaN               NaN                NaN           NaN   \n",
       "4                    NaN               NaN                NaN           NaN   \n",
       "\n",
       "   ...  firm07_fla  pfirm15_fl  version dcpedited   latitude  longitude  \\\n",
       "0  ...         NaN         NaN   23v1.1       NaN  40.638096 -73.996509   \n",
       "1  ...         NaN         NaN   23v1.1       NaN  40.634768 -74.020807   \n",
       "2  ...         NaN         NaN   23v1.1       NaN  40.626280 -73.995414   \n",
       "3  ...         NaN         NaN   23v1.1       NaN  40.815583 -73.938999   \n",
       "4  ...         NaN         NaN   23v1.1       NaN  40.636180 -73.992981   \n",
       "\n",
       "   notes  shape_leng   shape_area  \\\n",
       "0    NaN         0.0  1831.452923   \n",
       "1    NaN         0.0  1911.676971   \n",
       "2    NaN         0.0  2530.695092   \n",
       "3    NaN         0.0  2710.235940   \n",
       "4    NaN         0.0  2165.427046   \n",
       "\n",
       "                                          geometry_y  \n",
       "0  POLYGON ((-73.99634628603779 40.63803417679382...  \n",
       "1  POLYGON ((-74.02066406291931 40.63467951208545...  \n",
       "2  POLYGON ((-73.99526068571095 40.62637314294976...  \n",
       "3  POLYGON ((-73.9388667161788 40.81568616935353,...  \n",
       "4  POLYGON ((-73.99312431675497 40.63609267150114...  \n",
       "\n",
       "[5 rows x 201 columns]"
      ]
     },
     "execution_count": 56,
     "metadata": {},
     "output_type": "execute_result"
    }
   ],
   "source": [
    "address_match.head()"
   ]
  },
  {
   "cell_type": "code",
   "execution_count": 59,
   "metadata": {},
   "outputs": [
    {
     "data": {
      "text/plain": [
       "pandas.core.frame.DataFrame"
      ]
     },
     "execution_count": 59,
     "metadata": {},
     "output_type": "execute_result"
    }
   ],
   "source": [
    "type(address_match)"
   ]
  },
  {
   "cell_type": "code",
   "execution_count": 60,
   "metadata": {},
   "outputs": [
    {
     "data": {
      "text/plain": [
       "0     MULTIPOLYGON (((-73.9963462906372 40.638034514...\n",
       "1     MULTIPOLYGON (((-74.0206425867218 40.634732934...\n",
       "2     MULTIPOLYGON (((-73.9953841743279 40.626448025...\n",
       "3     MULTIPOLYGON (((-73.9388668750637 40.815686663...\n",
       "4     MULTIPOLYGON (((-73.9928374422694 40.636271764...\n",
       "5     MULTIPOLYGON (((-73.9381641354613 40.692514656...\n",
       "6     MULTIPOLYGON (((-73.9286953136072 40.683188550...\n",
       "7     MULTIPOLYGON (((-74.0007578329469 40.740656429...\n",
       "8     MULTIPOLYGON (((-73.9549934555418 40.621393211...\n",
       "9     MULTIPOLYGON (((-73.9227425020167 40.688294165...\n",
       "10    MULTIPOLYGON (((-73.932285556198 40.6961601477...\n",
       "11    MULTIPOLYGON (((-73.9553888021747 40.733981691...\n",
       "12    MULTIPOLYGON (((-73.9580715148739 40.684701934...\n",
       "13    MULTIPOLYGON (((-73.9915502454587 40.682726104...\n",
       "14    MULTIPOLYGON (((-73.9851425540873 40.671581194...\n",
       "15    MULTIPOLYGON (((-73.9553229565855 40.714957858...\n",
       "16    MULTIPOLYGON (((-73.9545564402107 40.667302180...\n",
       "17    MULTIPOLYGON (((-73.9572890377662 40.669094365...\n",
       "18    MULTIPOLYGON (((-73.9646509904798 40.681769734...\n",
       "Name: geometry_x, dtype: object"
      ]
     },
     "execution_count": 60,
     "metadata": {},
     "output_type": "execute_result"
    }
   ],
   "source": [
    "address_match['geometry_x']"
   ]
  },
  {
   "cell_type": "code",
   "execution_count": null,
   "metadata": {},
   "outputs": [],
   "source": []
  }
 ],
 "metadata": {
  "kernelspec": {
   "display_name": "base",
   "language": "python",
   "name": "python3"
  },
  "language_info": {
   "codemirror_mode": {
    "name": "ipython",
    "version": 3
   },
   "file_extension": ".py",
   "mimetype": "text/x-python",
   "name": "python",
   "nbconvert_exporter": "python",
   "pygments_lexer": "ipython3",
   "version": "3.10.12"
  },
  "orig_nbformat": 4
 },
 "nbformat": 4,
 "nbformat_minor": 2
}
