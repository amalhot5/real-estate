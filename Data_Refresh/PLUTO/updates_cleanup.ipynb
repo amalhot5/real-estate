{
 "cells": [
  {
   "cell_type": "code",
   "execution_count": 157,
   "metadata": {},
   "outputs": [],
   "source": [
    "import pickle as pkl\n",
    "import pandas as pd\n",
    "import sqlalchemy as db\n",
    "import numpy as np\n",
    "import geopandas as gpd\n",
    "import json\n",
    "import re\n",
    "\n",
    "from sqlalchemy import create_engine, text\n",
    "from shapely.geometry import shape\n",
    "from shapely.geometry.multipolygon import MultiPolygon\n",
    "from shapely import to_geojson\n",
    "from sqlalchemy.orm import sessionmaker\n",
    "from datetime import datetime\n",
    "\n",
    "from building_refresh_v2 import pull_data"
   ]
  },
  {
   "cell_type": "code",
   "execution_count": 158,
   "metadata": {},
   "outputs": [],
   "source": [
    "try:\n",
    "    change_ids = pd.read_csv('data/pluto_v17_pw_comparison_2023_07_25 (1).csv')\n",
    "except FileNotFoundError:\n",
    "    with open('pluto_v17_comparison.sql', 'r') as f:\n",
    "        sql_query = f.read()\n",
    "    change_ids = pull_data(sql_query)"
   ]
  },
  {
   "cell_type": "code",
   "execution_count": 159,
   "metadata": {},
   "outputs": [
    {
     "data": {
      "text/plain": [
       "(3688, 2)"
      ]
     },
     "execution_count": 159,
     "metadata": {},
     "output_type": "execute_result"
    }
   ],
   "source": [
    "change_ids.shape"
   ]
  },
  {
   "cell_type": "code",
   "execution_count": 160,
   "metadata": {},
   "outputs": [
    {
     "data": {
      "text/plain": [
       "field_name\n",
       "building_area     1500\n",
       "building_class    2888\n",
       "building_depth    1036\n",
       "building_front     848\n",
       "geometry          5331\n",
       "landmark           384\n",
       "lot_area           445\n",
       "lot_depth          274\n",
       "lot_front          445\n",
       "num_stories        592\n",
       "num_units          229\n",
       "year_built        1108\n",
       "zip                 69\n",
       "Name: id, dtype: int64"
      ]
     },
     "execution_count": 160,
     "metadata": {},
     "output_type": "execute_result"
    }
   ],
   "source": [
    "updates_df = pd.read_csv('updates_MN.csv')\n",
    "updates_df.groupby('field_name')['id'].nunique()"
   ]
  },
  {
   "cell_type": "code",
   "execution_count": 161,
   "metadata": {},
   "outputs": [
    {
     "data": {
      "text/plain": [
       "(15149, 3)"
      ]
     },
     "execution_count": 161,
     "metadata": {},
     "output_type": "execute_result"
    }
   ],
   "source": [
    "updates_df.shape"
   ]
  },
  {
   "cell_type": "code",
   "execution_count": 162,
   "metadata": {},
   "outputs": [
    {
     "data": {
      "text/plain": [
       "id            5331\n",
       "field_name      13\n",
       "new_value     8111\n",
       "dtype: int64"
      ]
     },
     "execution_count": 162,
     "metadata": {},
     "output_type": "execute_result"
    }
   ],
   "source": [
    "updates_df.nunique()"
   ]
  },
  {
   "cell_type": "code",
   "execution_count": 163,
   "metadata": {},
   "outputs": [
    {
     "data": {
      "text/plain": [
       "{'building_area',\n",
       " 'building_class',\n",
       " 'building_depth',\n",
       " 'building_front',\n",
       " 'geometry',\n",
       " 'landmark',\n",
       " 'lot_area',\n",
       " 'lot_depth',\n",
       " 'lot_front',\n",
       " 'num_stories',\n",
       " 'num_units',\n",
       " 'year_built',\n",
       " 'zip'}"
      ]
     },
     "execution_count": 163,
     "metadata": {},
     "output_type": "execute_result"
    }
   ],
   "source": [
    "set(updates_df['field_name'])"
   ]
  },
  {
   "cell_type": "code",
   "execution_count": 164,
   "metadata": {},
   "outputs": [],
   "source": [
    "def get_key(b_id, f_name):\n",
    "    if f_name in ('lot_area', 'lot_front', 'lot_depth'):\n",
    "        f_name = 'lot'\n",
    "    elif f_name in ('building_area', 'building_front', 'building_depth'):\n",
    "        f_name = 'building_area'\n",
    "    return str(b_id) + f_name"
   ]
  },
  {
   "cell_type": "code",
   "execution_count": 165,
   "metadata": {},
   "outputs": [
    {
     "data": {
      "text/html": [
       "<div>\n",
       "<style scoped>\n",
       "    .dataframe tbody tr th:only-of-type {\n",
       "        vertical-align: middle;\n",
       "    }\n",
       "\n",
       "    .dataframe tbody tr th {\n",
       "        vertical-align: top;\n",
       "    }\n",
       "\n",
       "    .dataframe thead th {\n",
       "        text-align: right;\n",
       "    }\n",
       "</style>\n",
       "<table border=\"1\" class=\"dataframe\">\n",
       "  <thead>\n",
       "    <tr style=\"text-align: right;\">\n",
       "      <th></th>\n",
       "      <th>id</th>\n",
       "      <th>field_name</th>\n",
       "      <th>new_value</th>\n",
       "      <th>key</th>\n",
       "    </tr>\n",
       "  </thead>\n",
       "  <tbody>\n",
       "    <tr>\n",
       "      <th>0</th>\n",
       "      <td>538</td>\n",
       "      <td>zip</td>\n",
       "      <td>10038.0</td>\n",
       "      <td>538zip</td>\n",
       "    </tr>\n",
       "    <tr>\n",
       "      <th>1</th>\n",
       "      <td>12094</td>\n",
       "      <td>zip</td>\n",
       "      <td>10001.0</td>\n",
       "      <td>12094zip</td>\n",
       "    </tr>\n",
       "    <tr>\n",
       "      <th>2</th>\n",
       "      <td>5467</td>\n",
       "      <td>zip</td>\n",
       "      <td>10005.0</td>\n",
       "      <td>5467zip</td>\n",
       "    </tr>\n",
       "    <tr>\n",
       "      <th>3</th>\n",
       "      <td>8181</td>\n",
       "      <td>zip</td>\n",
       "      <td>10038.0</td>\n",
       "      <td>8181zip</td>\n",
       "    </tr>\n",
       "    <tr>\n",
       "      <th>4</th>\n",
       "      <td>12304</td>\n",
       "      <td>zip</td>\n",
       "      <td>10005.0</td>\n",
       "      <td>12304zip</td>\n",
       "    </tr>\n",
       "    <tr>\n",
       "      <th>...</th>\n",
       "      <td>...</td>\n",
       "      <td>...</td>\n",
       "      <td>...</td>\n",
       "      <td>...</td>\n",
       "    </tr>\n",
       "    <tr>\n",
       "      <th>15144</th>\n",
       "      <td>34903</td>\n",
       "      <td>landmark</td>\n",
       "      <td>True</td>\n",
       "      <td>34903landmark</td>\n",
       "    </tr>\n",
       "    <tr>\n",
       "      <th>15145</th>\n",
       "      <td>35617</td>\n",
       "      <td>landmark</td>\n",
       "      <td>True</td>\n",
       "      <td>35617landmark</td>\n",
       "    </tr>\n",
       "    <tr>\n",
       "      <th>15146</th>\n",
       "      <td>37099</td>\n",
       "      <td>landmark</td>\n",
       "      <td>True</td>\n",
       "      <td>37099landmark</td>\n",
       "    </tr>\n",
       "    <tr>\n",
       "      <th>15147</th>\n",
       "      <td>39445</td>\n",
       "      <td>landmark</td>\n",
       "      <td>True</td>\n",
       "      <td>39445landmark</td>\n",
       "    </tr>\n",
       "    <tr>\n",
       "      <th>15148</th>\n",
       "      <td>42059</td>\n",
       "      <td>landmark</td>\n",
       "      <td>True</td>\n",
       "      <td>42059landmark</td>\n",
       "    </tr>\n",
       "  </tbody>\n",
       "</table>\n",
       "<p>15149 rows × 4 columns</p>\n",
       "</div>"
      ],
      "text/plain": [
       "          id field_name new_value            key\n",
       "0        538        zip   10038.0         538zip\n",
       "1      12094        zip   10001.0       12094zip\n",
       "2       5467        zip   10005.0        5467zip\n",
       "3       8181        zip   10038.0        8181zip\n",
       "4      12304        zip   10005.0       12304zip\n",
       "...      ...        ...       ...            ...\n",
       "15144  34903   landmark      True  34903landmark\n",
       "15145  35617   landmark      True  35617landmark\n",
       "15146  37099   landmark      True  37099landmark\n",
       "15147  39445   landmark      True  39445landmark\n",
       "15148  42059   landmark      True  42059landmark\n",
       "\n",
       "[15149 rows x 4 columns]"
      ]
     },
     "execution_count": 165,
     "metadata": {},
     "output_type": "execute_result"
    }
   ],
   "source": [
    "updates_df['key'] = [get_key(x, y) for x, y in zip(updates_df['id'], updates_df['field_name'])]\n",
    "updates_df"
   ]
  },
  {
   "cell_type": "code",
   "execution_count": 166,
   "metadata": {},
   "outputs": [],
   "source": [
    "change_ids['key'] = [get_key(x, y) for x, y in zip(change_ids['building_id'], change_ids['field_name'])]"
   ]
  },
  {
   "cell_type": "code",
   "execution_count": 167,
   "metadata": {},
   "outputs": [
    {
     "data": {
      "text/plain": [
       "field_name\n",
       "building_area     1500\n",
       "building_class    2888\n",
       "building_depth    1036\n",
       "building_front     848\n",
       "geometry          5331\n",
       "landmark           384\n",
       "lot_area           445\n",
       "lot_depth          274\n",
       "lot_front          445\n",
       "num_stories        592\n",
       "num_units          229\n",
       "year_built        1108\n",
       "zip                 69\n",
       "Name: id, dtype: int64"
      ]
     },
     "execution_count": 167,
     "metadata": {},
     "output_type": "execute_result"
    }
   ],
   "source": [
    "updates_df.groupby('field_name')['id'].nunique()"
   ]
  },
  {
   "cell_type": "code",
   "execution_count": 168,
   "metadata": {},
   "outputs": [
    {
     "name": "stdout",
     "output_type": "stream",
     "text": [
      "5331\n"
     ]
    }
   ],
   "source": [
    "updates_df[updates_df['key'].isin(change_ids['key'])][['id', 'field_name', 'new_value']].to_csv('data/updates_with_changes.csv')\n",
    "with open('data/MN_updates_change_id.txt', 'w') as f:\n",
    "     f.write(str(set(updates_df['id'])))\n",
    "\n",
    "print(len(set(updates_df['id'])))"
   ]
  },
  {
   "cell_type": "code",
   "execution_count": 169,
   "metadata": {},
   "outputs": [
    {
     "name": "stderr",
     "output_type": "stream",
     "text": [
      "/var/folders/_3/v349phgn4ljd3jkf3ll9p2cm0000gp/T/ipykernel_62221/1516084749.py:5: FutureWarning: The frame.append method is deprecated and will be removed from pandas in a future version. Use pandas.concat instead.\n",
      "  updates_df = updates_df.append(updated_geos)\n"
     ]
    }
   ],
   "source": [
    "geos = updates_df[updates_df['field_name'] == 'geometry']\n",
    "updates_df = updates_df[updates_df['field_name'] != 'geometry']\n",
    "updates_df = updates_df[~updates_df['key'].isin(change_ids['key'])][['id', 'field_name', 'new_value']]\n",
    "updated_geos = geos[geos['id'].isin(updates_df['id'])]\n",
    "updates_df = updates_df.append(updated_geos)"
   ]
  },
  {
   "cell_type": "code",
   "execution_count": 170,
   "metadata": {},
   "outputs": [],
   "source": [
    "updates_df[['id', 'field_name', 'new_value']].to_csv('MN_updates_no_change_v17.csv')\n",
    "with open('MN_updates_no_change_id.txt', 'w') as f:\n",
    "     f.write(str(set(updates_df['id'])))"
   ]
  },
  {
   "cell_type": "code",
   "execution_count": 171,
   "metadata": {},
   "outputs": [
    {
     "data": {
      "text/plain": [
       "field_name\n",
       "building_area     1448\n",
       "building_class    2231\n",
       "building_depth     988\n",
       "building_front     801\n",
       "geometry          4047\n",
       "landmark           384\n",
       "lot_area           411\n",
       "lot_depth          244\n",
       "lot_front          413\n",
       "num_stories        505\n",
       "num_units          203\n",
       "year_built         222\n",
       "zip                 33\n",
       "Name: id, dtype: int64"
      ]
     },
     "execution_count": 171,
     "metadata": {},
     "output_type": "execute_result"
    }
   ],
   "source": [
    "updates_df[~updates_df['key'].isin(change_ids['key'])][['id', 'field_name', 'new_value']].groupby('field_name')['id'].nunique()"
   ]
  },
  {
   "cell_type": "code",
   "execution_count": 172,
   "metadata": {},
   "outputs": [
    {
     "data": {
      "text/plain": [
       "(11930, 4)"
      ]
     },
     "execution_count": 172,
     "metadata": {},
     "output_type": "execute_result"
    }
   ],
   "source": [
    "updates_df.shape"
   ]
  },
  {
   "cell_type": "code",
   "execution_count": null,
   "metadata": {},
   "outputs": [],
   "source": []
  }
 ],
 "metadata": {
  "kernelspec": {
   "display_name": "pw",
   "language": "python",
   "name": "python3"
  },
  "language_info": {
   "codemirror_mode": {
    "name": "ipython",
    "version": 3
   },
   "file_extension": ".py",
   "mimetype": "text/x-python",
   "name": "python",
   "nbconvert_exporter": "python",
   "pygments_lexer": "ipython3",
   "version": "3.10.12"
  },
  "orig_nbformat": 4
 },
 "nbformat": 4,
 "nbformat_minor": 2
}
