{
 "cells": [
  {
   "cell_type": "code",
   "execution_count": 36,
   "metadata": {},
   "outputs": [],
   "source": [
    "import pandas as pd\n",
    "import sqlalchemy as db\n",
    "from sqlalchemy import create_engine, text\n",
    "import numpy as np\n",
    "from sqlalchemy.orm import sessionmaker\n",
    "import geopandas as gpd\n",
    "#import geodatasets\n",
    "\n",
    "import pickle as pkl\n",
    "\n",
    "from datetime import datetime"
   ]
  },
  {
   "cell_type": "code",
   "execution_count": 37,
   "metadata": {},
   "outputs": [
    {
     "name": "stdout",
     "output_type": "stream",
     "text": [
      "(749222, 105)\n"
     ]
    }
   ],
   "source": [
    "try:\n",
    "    with open('data/buildings_final2.pkl', 'rb') as f:\n",
    "        preso = pkl.load(f)\n",
    "    print(preso.shape)\n",
    "except FileNotFoundError:\n",
    "    query_string = f'''\n",
    "        select \n",
    "            b.*\n",
    "            , rls.*\n",
    "            , mlsli.*\n",
    "            , l.*\n",
    "            , a.*\n",
    "            , st_asgeojson(b.geometry) as geometry_json\n",
    "        from buildings b\n",
    "        ---join with geographies\n",
    "        inner join building_geographies bg\n",
    "            on b.id = bg.building_id\n",
    "        left join (\n",
    "            select\n",
    "                building_id\n",
    "                , count(*) as num_other_listings\n",
    "                , max(created_at) as last_listing\n",
    "            from listings\n",
    "            where not(\n",
    "                    lower(source) like '%mlsli%' \n",
    "                    or lower(source) like '%rls%' \n",
    "                    or source = 'real_plus')\n",
    "            group by building_id\n",
    "        ) l on l.building_id = b.id\n",
    "        left join (\n",
    "            select\n",
    "                building_id\n",
    "                , count(distinct(id)) as num_rls\n",
    "                , max(created_at) as last_rls_listing\n",
    "            from listings\n",
    "            where --not(lower(source) like '%mlsli%')\n",
    "                lower(source) like '%rls%' or source = 'real_plus'\n",
    "            group by building_id\n",
    "        ) rls on rls.building_id = b.id\n",
    "        left join (\n",
    "            select\n",
    "                building_id\n",
    "                , count(distinct(id)) as num_mlsli\n",
    "                , max(created_at) as last_mlsli_listing\n",
    "            from listings\n",
    "            where lower(source) like '%mlsli%'\n",
    "            group by building_id\n",
    "        ) mlsli on mlsli.building_id = b.id\n",
    "        left join (\n",
    "            select \n",
    "                building_id\n",
    "                , count(distinct(acris_document_id)) as num_acris\n",
    "                , max(created_at) as last_acris_created\n",
    "                , max(sale_date) as last_acris_sale\n",
    "            from historicals\n",
    "            group by building_id\n",
    "            order by count(distinct(acris_document_id)) desc\n",
    "        ) a on b.id = a.building_id\n",
    "        where bg.geography_id = 1278\n",
    "        '''\n",
    "    preso = pull_data(query_string)\n",
    "    with open('data/buildings_final2.pkl', 'wb') as f:\n",
    "        pkl.dump(preso, f)"
   ]
  },
  {
   "cell_type": "code",
   "execution_count": 38,
   "metadata": {},
   "outputs": [],
   "source": [
    "try:\n",
    "    with open('data/pluto_map.pkl', 'rb') as f:\n",
    "        pluto = pkl.load(f)\n",
    "except FileNotFoundError:\n",
    "    shapefile_path = 'data/nyc_mappluto_23v1_1_shp/MapPLUTO.shp'\n",
    "    gdf = gpd.read_file(shapefile_path)\n",
    "    pluto = pluto[pluto['bbl'].isin(gdf['BBL'].to_list())]\n",
    "    with open('data/pluto_map.pkl', 'wb') as f:\n",
    "        pkl.dump(pluto, f)\n",
    "    # Print GeoDataFrame information\n",
    "    print(gdf.head())"
   ]
  },
  {
   "cell_type": "code",
   "execution_count": 39,
   "metadata": {},
   "outputs": [
    {
     "name": "stdout",
     "output_type": "stream",
     "text": [
      "(730482, 197)\n"
     ]
    }
   ],
   "source": [
    "preso['source_id'] = pd.to_numeric(preso['source_id'])\n",
    "matched_buildings = preso.merge(pluto, how='inner', left_on='source_id', right_on='bbl')\n",
    "print(matched_buildings.shape)"
   ]
  },
  {
   "cell_type": "code",
   "execution_count": 40,
   "metadata": {},
   "outputs": [
    {
     "data": {
      "text/html": [
       "<div>\n",
       "<style scoped>\n",
       "    .dataframe tbody tr th:only-of-type {\n",
       "        vertical-align: middle;\n",
       "    }\n",
       "\n",
       "    .dataframe tbody tr th {\n",
       "        vertical-align: top;\n",
       "    }\n",
       "\n",
       "    .dataframe thead th {\n",
       "        text-align: right;\n",
       "    }\n",
       "</style>\n",
       "<table border=\"1\" class=\"dataframe\">\n",
       "  <thead>\n",
       "    <tr style=\"text-align: right;\">\n",
       "      <th></th>\n",
       "      <th>display_address</th>\n",
       "      <th>address</th>\n",
       "    </tr>\n",
       "  </thead>\n",
       "  <tbody>\n",
       "    <tr>\n",
       "      <th>184213</th>\n",
       "      <td>1563 61ST STREET</td>\n",
       "      <td>1563 61ST STREET</td>\n",
       "    </tr>\n",
       "  </tbody>\n",
       "</table>\n",
       "</div>"
      ],
      "text/plain": [
       "         display_address           address\n",
       "184213  1563 61ST STREET  1563 61ST STREET"
      ]
     },
     "execution_count": 40,
     "metadata": {},
     "output_type": "execute_result"
    }
   ],
   "source": [
    "matched_buildings[matched_buildings['bbl'] == 3055167510][['display_address', 'address']]"
   ]
  },
  {
   "cell_type": "code",
   "execution_count": 41,
   "metadata": {},
   "outputs": [],
   "source": [
    "mn_ids = matched_buildings[matched_buildings['borough'] == 'BK']['id']"
   ]
  },
  {
   "cell_type": "code",
   "execution_count": 42,
   "metadata": {},
   "outputs": [],
   "source": [
    "def get_percent_change(old_value, new_value):\n",
    "    try:\n",
    "        return abs(float(old_value) - float(new_value)) / float(old_value)\n",
    "    except ZeroDivisionError:\n",
    "        return 1\n",
    "def clean_updates(field_name, old_value, new_value):\n",
    "    match field_name:\n",
    "        case 'building_area':\n",
    "            return get_percent_change(old_value, new_value) >= 0.05\n",
    "        case 'year_built':\n",
    "            return float(new_value) - float(old_value) >= 5\n",
    "        case 'lot_area':\n",
    "            return get_percent_change(old_value, new_value) >= 0.1\n",
    "        case 'lot_depth':\n",
    "            return get_percent_change(old_value, new_value) >= 0.1\n",
    "        case 'lot_front':\n",
    "            return get_percent_change(old_value, new_value) >= 0.1\n",
    "        case 'num_units':\n",
    "            return old_value == 0\n",
    "        case _:\n",
    "            return True"
   ]
  },
  {
   "cell_type": "code",
   "execution_count": 43,
   "metadata": {},
   "outputs": [
    {
     "name": "stderr",
     "output_type": "stream",
     "text": [
      "/var/folders/_3/v349phgn4ljd3jkf3ll9p2cm0000gp/T/ipykernel_6631/547334704.py:1: DtypeWarning: Columns (3,4) have mixed types. Specify dtype option on import or set low_memory=False.\n",
      "  update_df = pd.read_csv('data/update_df.csv')\n"
     ]
    },
    {
     "data": {
      "text/plain": [
       "field_name\n",
       "building_area      27564\n",
       "building_class     31948\n",
       "building_depth     15464\n",
       "building_front     11180\n",
       "geometry_x        730063\n",
       "landmark_x          1261\n",
       "lot_area          390865\n",
       "lot_depth           4288\n",
       "lot_front           6750\n",
       "num_stories        19526\n",
       "num_units          14903\n",
       "year_built         19026\n",
       "zip                 2779\n",
       "Name: id, dtype: int64"
      ]
     },
     "execution_count": 43,
     "metadata": {},
     "output_type": "execute_result"
    }
   ],
   "source": [
    "update_df = pd.read_csv('data/update_df.csv')\n",
    "update_df.groupby('field_name')['id'].nunique()"
   ]
  },
  {
   "cell_type": "code",
   "execution_count": 44,
   "metadata": {},
   "outputs": [
    {
     "data": {
      "text/plain": [
       "field_name\n",
       "building_area      24666\n",
       "building_class     31948\n",
       "building_depth     15464\n",
       "building_front     11180\n",
       "geometry_x        730063\n",
       "landmark_x          1261\n",
       "lot_area            8510\n",
       "lot_depth           2971\n",
       "lot_front           5920\n",
       "num_stories        19526\n",
       "num_units           3426\n",
       "year_built          9417\n",
       "zip                 2779\n",
       "Name: id, dtype: int64"
      ]
     },
     "execution_count": 44,
     "metadata": {},
     "output_type": "execute_result"
    }
   ],
   "source": [
    "keep = [clean_updates(x, y, z) for x, y, z in zip(update_df['field_name'], update_df['old_value'], update_df['new_value'])]\n",
    "update_df = update_df[keep]\n",
    "update_df.groupby('field_name')['id'].nunique()"
   ]
  },
  {
   "cell_type": "code",
   "execution_count": 45,
   "metadata": {},
   "outputs": [],
   "source": [
    "update_class = update_df[update_df['field_name'] == 'building_class']\n",
    "resbuildings = set(update_class[(update_class['old_value'].str[0].isin(['A', 'R', 'B', 'C', 'D', 'L', 'S'])) | (update_class['new_value'].str[0].isin(['A', 'R', 'B', 'C', 'D', 'L', 'S']))]['id'])\n",
    "res_ids = set(preso[(preso['building_class'].str[0].isin(['A', 'R', 'B', 'C', 'D', 'L', 'S']))]['id'])\n",
    "all_res_ids = set(update_df[(update_df['id'].isin(resbuildings)) | (update_df['id'].isin(res_ids))]['id'])"
   ]
  },
  {
   "cell_type": "code",
   "execution_count": 46,
   "metadata": {},
   "outputs": [
    {
     "data": {
      "text/plain": [
       "field_name\n",
       "building_area      10574\n",
       "building_class     11688\n",
       "building_depth      6825\n",
       "building_front      4479\n",
       "geometry_x        275448\n",
       "landmark_x           199\n",
       "lot_area            3195\n",
       "lot_depth           1263\n",
       "lot_front           2393\n",
       "num_stories         4468\n",
       "num_units           1489\n",
       "year_built          3965\n",
       "zip                  712\n",
       "Name: id, dtype: int64"
      ]
     },
     "execution_count": 46,
     "metadata": {},
     "output_type": "execute_result"
    }
   ],
   "source": [
    "update_df = update_df[update_df['id'].isin(mn_ids)]\n",
    "update_df.groupby('field_name')['id'].nunique()"
   ]
  },
  {
   "cell_type": "code",
   "execution_count": 47,
   "metadata": {},
   "outputs": [
    {
     "data": {
      "text/plain": [
       "field_name\n",
       "building_area       8650\n",
       "building_class      8447\n",
       "building_depth      5692\n",
       "building_front      3602\n",
       "geometry_x        246793\n",
       "landmark_x            90\n",
       "lot_area            2010\n",
       "lot_depth            875\n",
       "lot_front           1757\n",
       "num_stories         3841\n",
       "num_units           1344\n",
       "year_built          3444\n",
       "zip                  222\n",
       "Name: id, dtype: int64"
      ]
     },
     "execution_count": 47,
     "metadata": {},
     "output_type": "execute_result"
    }
   ],
   "source": [
    "update_df = update_df[update_df['id'].isin(all_res_ids)]\n",
    "update_df.groupby('field_name')['id'].nunique()"
   ]
  },
  {
   "cell_type": "code",
   "execution_count": 48,
   "metadata": {},
   "outputs": [
    {
     "data": {
      "text/plain": [
       "field_name\n",
       "building_area      8650\n",
       "building_class     8447\n",
       "building_depth     5692\n",
       "building_front     3602\n",
       "geometry_x        14807\n",
       "landmark_x           90\n",
       "lot_area           2010\n",
       "lot_depth           875\n",
       "lot_front          1757\n",
       "num_stories        3841\n",
       "num_units          1344\n",
       "year_built         3444\n",
       "zip                 222\n",
       "Name: id, dtype: int64"
      ]
     },
     "execution_count": 48,
     "metadata": {},
     "output_type": "execute_result"
    }
   ],
   "source": [
    "not_geo = set(update_df[update_df['field_name'] != 'geometry_x']['id'])\n",
    "update_df = update_df[update_df['id'].isin(not_geo)]\n",
    "update_df.groupby('field_name')['id'].nunique()"
   ]
  },
  {
   "cell_type": "code",
   "execution_count": 49,
   "metadata": {},
   "outputs": [
    {
     "data": {
      "text/html": [
       "<div>\n",
       "<style scoped>\n",
       "    .dataframe tbody tr th:only-of-type {\n",
       "        vertical-align: middle;\n",
       "    }\n",
       "\n",
       "    .dataframe tbody tr th {\n",
       "        vertical-align: top;\n",
       "    }\n",
       "\n",
       "    .dataframe thead th {\n",
       "        text-align: right;\n",
       "    }\n",
       "</style>\n",
       "<table border=\"1\" class=\"dataframe\">\n",
       "  <thead>\n",
       "    <tr style=\"text-align: right;\">\n",
       "      <th></th>\n",
       "      <th>Unnamed: 0</th>\n",
       "      <th>id</th>\n",
       "      <th>field_name</th>\n",
       "      <th>old_value</th>\n",
       "      <th>new_value</th>\n",
       "      <th>in_search</th>\n",
       "    </tr>\n",
       "  </thead>\n",
       "  <tbody>\n",
       "    <tr>\n",
       "      <th>546800</th>\n",
       "      <td>546800</td>\n",
       "      <td>43239</td>\n",
       "      <td>geometry_x</td>\n",
       "      <td>MULTIPOLYGON (((-73.964026121154 40.6108355417...</td>\n",
       "      <td>{\"type\":\"MultiPolygon\",\"coordinates\":[[[[-73.9...</td>\n",
       "      <td>True</td>\n",
       "    </tr>\n",
       "    <tr>\n",
       "      <th>546806</th>\n",
       "      <td>546806</td>\n",
       "      <td>43300</td>\n",
       "      <td>geometry_x</td>\n",
       "      <td>MULTIPOLYGON (((-73.8823456253682 40.674005424...</td>\n",
       "      <td>{\"type\":\"MultiPolygon\",\"coordinates\":[[[[-73.8...</td>\n",
       "      <td>True</td>\n",
       "    </tr>\n",
       "    <tr>\n",
       "      <th>546818</th>\n",
       "      <td>546818</td>\n",
       "      <td>43467</td>\n",
       "      <td>geometry_x</td>\n",
       "      <td>MULTIPOLYGON (((-73.9447584562312 40.676927717...</td>\n",
       "      <td>{\"type\":\"MultiPolygon\",\"coordinates\":[[[[-73.9...</td>\n",
       "      <td>True</td>\n",
       "    </tr>\n",
       "    <tr>\n",
       "      <th>546855</th>\n",
       "      <td>546855</td>\n",
       "      <td>43989</td>\n",
       "      <td>geometry_x</td>\n",
       "      <td>MULTIPOLYGON (((-74.0354179170091 40.623609404...</td>\n",
       "      <td>{\"type\":\"MultiPolygon\",\"coordinates\":[[[[-74.0...</td>\n",
       "      <td>True</td>\n",
       "    </tr>\n",
       "    <tr>\n",
       "      <th>546864</th>\n",
       "      <td>546864</td>\n",
       "      <td>44146</td>\n",
       "      <td>geometry_x</td>\n",
       "      <td>MULTIPOLYGON (((-74.026673163054 40.6127037959...</td>\n",
       "      <td>{\"type\":\"MultiPolygon\",\"coordinates\":[[[[-74.0...</td>\n",
       "      <td>True</td>\n",
       "    </tr>\n",
       "    <tr>\n",
       "      <th>...</th>\n",
       "      <td>...</td>\n",
       "      <td>...</td>\n",
       "      <td>...</td>\n",
       "      <td>...</td>\n",
       "      <td>...</td>\n",
       "      <td>...</td>\n",
       "    </tr>\n",
       "    <tr>\n",
       "      <th>1274198</th>\n",
       "      <td>1274198</td>\n",
       "      <td>853673</td>\n",
       "      <td>geometry_x</td>\n",
       "      <td>MULTIPOLYGON (((-73.9809912275208 40.634233818...</td>\n",
       "      <td>{\"type\":\"MultiPolygon\",\"coordinates\":[[[[-73.9...</td>\n",
       "      <td>True</td>\n",
       "    </tr>\n",
       "    <tr>\n",
       "      <th>1274200</th>\n",
       "      <td>1274200</td>\n",
       "      <td>854066</td>\n",
       "      <td>geometry_x</td>\n",
       "      <td>MULTIPOLYGON (((-73.9530369432236 40.714819492...</td>\n",
       "      <td>{\"type\":\"MultiPolygon\",\"coordinates\":[[[[-73.9...</td>\n",
       "      <td>True</td>\n",
       "    </tr>\n",
       "    <tr>\n",
       "      <th>1274204</th>\n",
       "      <td>1274204</td>\n",
       "      <td>854197</td>\n",
       "      <td>geometry_x</td>\n",
       "      <td>MULTIPOLYGON (((-73.9605574121217 40.686194539...</td>\n",
       "      <td>{\"type\":\"MultiPolygon\",\"coordinates\":[[[[-73.9...</td>\n",
       "      <td>True</td>\n",
       "    </tr>\n",
       "    <tr>\n",
       "      <th>1274206</th>\n",
       "      <td>1274206</td>\n",
       "      <td>854419</td>\n",
       "      <td>geometry_x</td>\n",
       "      <td>MULTIPOLYGON (((-73.9508904829116 40.701667735...</td>\n",
       "      <td>{\"type\":\"MultiPolygon\",\"coordinates\":[[[[-73.9...</td>\n",
       "      <td>True</td>\n",
       "    </tr>\n",
       "    <tr>\n",
       "      <th>1274230</th>\n",
       "      <td>1274230</td>\n",
       "      <td>1826247</td>\n",
       "      <td>geometry_x</td>\n",
       "      <td>MULTIPOLYGON (((-73.986302 40.688431, -73.9863...</td>\n",
       "      <td>{\"type\":\"MultiPolygon\",\"coordinates\":[[[[-73.9...</td>\n",
       "      <td>True</td>\n",
       "    </tr>\n",
       "  </tbody>\n",
       "</table>\n",
       "<p>14807 rows × 6 columns</p>\n",
       "</div>"
      ],
      "text/plain": [
       "         Unnamed: 0       id  field_name  \\\n",
       "546800       546800    43239  geometry_x   \n",
       "546806       546806    43300  geometry_x   \n",
       "546818       546818    43467  geometry_x   \n",
       "546855       546855    43989  geometry_x   \n",
       "546864       546864    44146  geometry_x   \n",
       "...             ...      ...         ...   \n",
       "1274198     1274198   853673  geometry_x   \n",
       "1274200     1274200   854066  geometry_x   \n",
       "1274204     1274204   854197  geometry_x   \n",
       "1274206     1274206   854419  geometry_x   \n",
       "1274230     1274230  1826247  geometry_x   \n",
       "\n",
       "                                                 old_value  \\\n",
       "546800   MULTIPOLYGON (((-73.964026121154 40.6108355417...   \n",
       "546806   MULTIPOLYGON (((-73.8823456253682 40.674005424...   \n",
       "546818   MULTIPOLYGON (((-73.9447584562312 40.676927717...   \n",
       "546855   MULTIPOLYGON (((-74.0354179170091 40.623609404...   \n",
       "546864   MULTIPOLYGON (((-74.026673163054 40.6127037959...   \n",
       "...                                                    ...   \n",
       "1274198  MULTIPOLYGON (((-73.9809912275208 40.634233818...   \n",
       "1274200  MULTIPOLYGON (((-73.9530369432236 40.714819492...   \n",
       "1274204  MULTIPOLYGON (((-73.9605574121217 40.686194539...   \n",
       "1274206  MULTIPOLYGON (((-73.9508904829116 40.701667735...   \n",
       "1274230  MULTIPOLYGON (((-73.986302 40.688431, -73.9863...   \n",
       "\n",
       "                                                 new_value  in_search  \n",
       "546800   {\"type\":\"MultiPolygon\",\"coordinates\":[[[[-73.9...       True  \n",
       "546806   {\"type\":\"MultiPolygon\",\"coordinates\":[[[[-73.8...       True  \n",
       "546818   {\"type\":\"MultiPolygon\",\"coordinates\":[[[[-73.9...       True  \n",
       "546855   {\"type\":\"MultiPolygon\",\"coordinates\":[[[[-74.0...       True  \n",
       "546864   {\"type\":\"MultiPolygon\",\"coordinates\":[[[[-74.0...       True  \n",
       "...                                                    ...        ...  \n",
       "1274198  {\"type\":\"MultiPolygon\",\"coordinates\":[[[[-73.9...       True  \n",
       "1274200  {\"type\":\"MultiPolygon\",\"coordinates\":[[[[-73.9...       True  \n",
       "1274204  {\"type\":\"MultiPolygon\",\"coordinates\":[[[[-73.9...       True  \n",
       "1274206  {\"type\":\"MultiPolygon\",\"coordinates\":[[[[-73.9...       True  \n",
       "1274230  {\"type\":\"MultiPolygon\",\"coordinates\":[[[[-73.9...       True  \n",
       "\n",
       "[14807 rows x 6 columns]"
      ]
     },
     "execution_count": 49,
     "metadata": {},
     "output_type": "execute_result"
    }
   ],
   "source": [
    "update_df[update_df['field_name'] == 'geometry_x']"
   ]
  },
  {
   "cell_type": "code",
   "execution_count": 50,
   "metadata": {},
   "outputs": [],
   "source": [
    "update_df = update_df[(update_df['field_name'] != 'geometry_x') & (update_df['field_name'] != 'num_units')]\n",
    "updates_mapped = update_df.groupby(['field_name', 'old_value', 'new_value'])['id'].nunique()"
   ]
  },
  {
   "cell_type": "code",
   "execution_count": 51,
   "metadata": {},
   "outputs": [
    {
     "data": {
      "text/plain": [
       "field_name     old_value  new_value\n",
       "building_area  0.0        10023        1\n",
       "                          10029        1\n",
       "                          10030        1\n",
       "                          10233        1\n",
       "                          102534       1\n",
       "                                      ..\n",
       "zip            11235.0    11234.0      1\n",
       "               11237.0    11221.0      1\n",
       "               11238.0    11215.0      1\n",
       "                          11216.0      1\n",
       "               11249.0    11201.0      1\n",
       "Name: id, Length: 18070, dtype: int64"
      ]
     },
     "execution_count": 51,
     "metadata": {},
     "output_type": "execute_result"
    }
   ],
   "source": [
    "updates_mapped"
   ]
  },
  {
   "cell_type": "code",
   "execution_count": 52,
   "metadata": {},
   "outputs": [],
   "source": [
    "# updates_mapped.drop('geometry_x', level=0, axis=0, inplace=True)\n",
    "# \n",
    "# updates_mapped.drop('lot_area', level=0, axis=0, inplace=True)\n",
    "updates_mapped.to_csv('data/updates_mapping_bk.csv')"
   ]
  },
  {
   "cell_type": "code",
   "execution_count": 53,
   "metadata": {},
   "outputs": [],
   "source": [
    "update_df = update_df[(update_df['field_name'] != 'geometry_x') & (update_df['field_name'] != 'num_units')]"
   ]
  },
  {
   "cell_type": "code",
   "execution_count": 54,
   "metadata": {},
   "outputs": [],
   "source": [
    "updated_ids = set(update_df['id'].values.tolist())"
   ]
  },
  {
   "cell_type": "code",
   "execution_count": 55,
   "metadata": {},
   "outputs": [],
   "source": [
    "def get_updated_fields(id):\n",
    "    tmp = update_df[update_df['id'] == id]['field_name']\n",
    "    return tmp.values.tolist()"
   ]
  },
  {
   "cell_type": "code",
   "execution_count": 56,
   "metadata": {},
   "outputs": [],
   "source": [
    "matched_buildings = matched_buildings[matched_buildings['id'].isin(updated_ids)]\n",
    "updated_fields = [get_updated_fields(x) for x in matched_buildings['id']]\n",
    "matched_buildings['updated_fields'] = updated_fields"
   ]
  },
  {
   "cell_type": "code",
   "execution_count": 57,
   "metadata": {},
   "outputs": [
    {
     "data": {
      "text/plain": [
       "Index(['id', 'city', 'state', 'zip', 'google_map_params',\n",
       "       'building_bike_storage', 'building_doorman', 'building_elevator',\n",
       "       'building_gym', 'building_laundry',\n",
       "       ...\n",
       "       'appdate', 'plutomapid', 'firm07_flag', 'pfirm15_flag', 'version',\n",
       "       'dcpedited', 'latitude', 'longitude', 'notes', 'updated_fields'],\n",
       "      dtype='object', length=198)"
      ]
     },
     "execution_count": 57,
     "metadata": {},
     "output_type": "execute_result"
    }
   ],
   "source": [
    "matched_buildings.columns"
   ]
  },
  {
   "cell_type": "code",
   "execution_count": 58,
   "metadata": {},
   "outputs": [],
   "source": [
    "to_export = matched_buildings[['id', 'display_address', 'address', 'bbl', 'updated_fields', 'year_built', 'yearbuilt', 'in_search', 'num_stories', 'numfloors', 'num_units', 'unitsres', 'building_class', 'bldgclass', 'lot_area', 'lotarea', 'building_area', 'bldgarea']] \n",
    "to_export.columns = ['Building_ID', 'PW Address', 'PLUTO Address', 'Source_ID', 'Change_List', 'PW_Year_Built', 'PLUTO_Year_Built', 'in_search', 'PW_floors', 'PLUTO_floors', 'PW_Units', 'PLUTO_units', 'PW_building_class', 'PLUTO_building_class', 'PW_lot_area', 'PLUTO_lot_area', 'PW_building_area', 'PLUTO_building_area']\n",
    "to_export.to_csv('data/update_bk_deep_dive.csv')"
   ]
  },
  {
   "cell_type": "code",
   "execution_count": 59,
   "metadata": {},
   "outputs": [
    {
     "data": {
      "text/plain": [
       "(14806, 18)"
      ]
     },
     "execution_count": 59,
     "metadata": {},
     "output_type": "execute_result"
    }
   ],
   "source": [
    "to_export.shape"
   ]
  },
  {
   "cell_type": "code",
   "execution_count": 60,
   "metadata": {},
   "outputs": [
    {
     "data": {
      "text/html": [
       "<div>\n",
       "<style scoped>\n",
       "    .dataframe tbody tr th:only-of-type {\n",
       "        vertical-align: middle;\n",
       "    }\n",
       "\n",
       "    .dataframe tbody tr th {\n",
       "        vertical-align: top;\n",
       "    }\n",
       "\n",
       "    .dataframe thead th {\n",
       "        text-align: right;\n",
       "    }\n",
       "</style>\n",
       "<table border=\"1\" class=\"dataframe\">\n",
       "  <thead>\n",
       "    <tr style=\"text-align: right;\">\n",
       "      <th></th>\n",
       "      <th>bbl</th>\n",
       "      <th>address</th>\n",
       "      <th>unitsres</th>\n",
       "      <th>unitstotal</th>\n",
       "      <th>resarea</th>\n",
       "    </tr>\n",
       "  </thead>\n",
       "  <tbody>\n",
       "    <tr>\n",
       "      <th>702664</th>\n",
       "      <td>1.000238e+09</td>\n",
       "      <td>1 WALL STREET</td>\n",
       "      <td>1.0</td>\n",
       "      <td>2.0</td>\n",
       "      <td>874513.0</td>\n",
       "    </tr>\n",
       "  </tbody>\n",
       "</table>\n",
       "</div>"
      ],
      "text/plain": [
       "                 bbl        address  unitsres  unitstotal   resarea\n",
       "702664  1.000238e+09  1 WALL STREET       1.0         2.0  874513.0"
      ]
     },
     "execution_count": 60,
     "metadata": {},
     "output_type": "execute_result"
    }
   ],
   "source": [
    "pluto[pluto['bbl'] == 1000237501][['bbl', 'address', 'unitsres', 'unitstotal', 'resarea']]"
   ]
  },
  {
   "cell_type": "code",
   "execution_count": 61,
   "metadata": {},
   "outputs": [
    {
     "data": {
      "text/html": [
       "<div>\n",
       "<style scoped>\n",
       "    .dataframe tbody tr th:only-of-type {\n",
       "        vertical-align: middle;\n",
       "    }\n",
       "\n",
       "    .dataframe tbody tr th {\n",
       "        vertical-align: top;\n",
       "    }\n",
       "\n",
       "    .dataframe thead th {\n",
       "        text-align: right;\n",
       "    }\n",
       "</style>\n",
       "<table border=\"1\" class=\"dataframe\">\n",
       "  <thead>\n",
       "    <tr style=\"text-align: right;\">\n",
       "      <th></th>\n",
       "      <th>id</th>\n",
       "      <th>city</th>\n",
       "      <th>in_search</th>\n",
       "      <th>display_address</th>\n",
       "      <th>source_id</th>\n",
       "    </tr>\n",
       "  </thead>\n",
       "  <tbody>\n",
       "    <tr>\n",
       "      <th>339163</th>\n",
       "      <td>186341</td>\n",
       "      <td>Brooklyn</td>\n",
       "      <td>True</td>\n",
       "      <td>1326 East 51st Street</td>\n",
       "      <td>3.077760e+09</td>\n",
       "    </tr>\n",
       "  </tbody>\n",
       "</table>\n",
       "</div>"
      ],
      "text/plain": [
       "            id      city  in_search        display_address     source_id\n",
       "339163  186341  Brooklyn       True  1326 East 51st Street  3.077760e+09"
      ]
     },
     "execution_count": 61,
     "metadata": {},
     "output_type": "execute_result"
    }
   ],
   "source": [
    "preso[preso['display_address'].str.contains('326 East 51st')][['id', 'city', 'in_search', 'display_address', 'source_id']]"
   ]
  },
  {
   "cell_type": "code",
   "execution_count": 62,
   "metadata": {},
   "outputs": [
    {
     "data": {
      "text/html": [
       "<div>\n",
       "<style scoped>\n",
       "    .dataframe tbody tr th:only-of-type {\n",
       "        vertical-align: middle;\n",
       "    }\n",
       "\n",
       "    .dataframe tbody tr th {\n",
       "        vertical-align: top;\n",
       "    }\n",
       "\n",
       "    .dataframe thead th {\n",
       "        text-align: right;\n",
       "    }\n",
       "</style>\n",
       "<table border=\"1\" class=\"dataframe\">\n",
       "  <thead>\n",
       "    <tr style=\"text-align: right;\">\n",
       "      <th></th>\n",
       "      <th>borough</th>\n",
       "      <th>bbl</th>\n",
       "      <th>address</th>\n",
       "    </tr>\n",
       "  </thead>\n",
       "  <tbody>\n",
       "    <tr>\n",
       "      <th>500873</th>\n",
       "      <td>MN</td>\n",
       "      <td>1.013430e+09</td>\n",
       "      <td>326 EAST 51 STREET</td>\n",
       "    </tr>\n",
       "    <tr>\n",
       "      <th>690319</th>\n",
       "      <td>BK</td>\n",
       "      <td>3.077760e+09</td>\n",
       "      <td>1326 EAST 51 STREET</td>\n",
       "    </tr>\n",
       "  </tbody>\n",
       "</table>\n",
       "</div>"
      ],
      "text/plain": [
       "       borough           bbl              address\n",
       "500873      MN  1.013430e+09   326 EAST 51 STREET\n",
       "690319      BK  3.077760e+09  1326 EAST 51 STREET"
      ]
     },
     "execution_count": 62,
     "metadata": {},
     "output_type": "execute_result"
    }
   ],
   "source": [
    "pluto['address'].fillna('na', inplace=True)\n",
    "pluto[pluto['address'].str.contains('326 EAST 51 STREET')][['borough', 'bbl', 'address']]"
   ]
  },
  {
   "cell_type": "code",
   "execution_count": 63,
   "metadata": {},
   "outputs": [
    {
     "data": {
      "text/html": [
       "<div>\n",
       "<style scoped>\n",
       "    .dataframe tbody tr th:only-of-type {\n",
       "        vertical-align: middle;\n",
       "    }\n",
       "\n",
       "    .dataframe tbody tr th {\n",
       "        vertical-align: top;\n",
       "    }\n",
       "\n",
       "    .dataframe thead th {\n",
       "        text-align: right;\n",
       "    }\n",
       "</style>\n",
       "<table border=\"1\" class=\"dataframe\">\n",
       "  <thead>\n",
       "    <tr style=\"text-align: right;\">\n",
       "      <th></th>\n",
       "      <th>id</th>\n",
       "      <th>city</th>\n",
       "      <th>state</th>\n",
       "      <th>zip</th>\n",
       "      <th>google_map_params</th>\n",
       "      <th>building_bike_storage</th>\n",
       "      <th>building_doorman</th>\n",
       "      <th>building_elevator</th>\n",
       "      <th>building_gym</th>\n",
       "      <th>building_laundry</th>\n",
       "      <th>...</th>\n",
       "      <th>appdate</th>\n",
       "      <th>plutomapid</th>\n",
       "      <th>firm07_flag</th>\n",
       "      <th>pfirm15_flag</th>\n",
       "      <th>version</th>\n",
       "      <th>dcpedited</th>\n",
       "      <th>latitude</th>\n",
       "      <th>longitude</th>\n",
       "      <th>notes</th>\n",
       "      <th>updated_fields</th>\n",
       "    </tr>\n",
       "  </thead>\n",
       "  <tbody>\n",
       "  </tbody>\n",
       "</table>\n",
       "<p>0 rows × 198 columns</p>\n",
       "</div>"
      ],
      "text/plain": [
       "Empty DataFrame\n",
       "Columns: [id, city, state, zip, google_map_params, building_bike_storage, building_doorman, building_elevator, building_gym, building_laundry, building_pets, building_pool, building_prewar, building_rooftop, building_storage, building_style_code, county_code, school_district_code, created_at, updated_at, neighborhood_id, source_id, display_address, display_name, building_garage, garage_type_code, year_built, benefit_construction_completed, num_stories, num_units, tax_class, centroid_latitude, centroid_longitude, tax_benefit_code, tax_benefit_start_date, tax_exemption_end_date, tax_abatement_end_date, j51_crc_perc, building_class, landmark_x, building_front, building_depth, tranche, new_development, in_search, architect, developer, management_firm_id, building_style, conversion_notes, account_executive_name, account_executive_phone, service_level, pet_policy, sublet_policy, front_desk_phone, building_type, source, building_complex_id, apportionment_date, lot_front, lot_depth, built_far, corner_lot, building_area, lot_area, zoning_primary, zoning_secondary, geometry, max_allowed_far, years_last_altered, apportionment_source_id, description, offering_plan_id, new_dev_start_date, new_dev_end_date, manual_new_dev_start_date, manual_new_dev_end_date, developer_brokerage_id, property_type, unit_schemes, cross_streets, tax_id, sponsor_names, place_name_override, land_lease_building, land_lease_expiration, timezone, census_tract, owner_name, owner_name2, building_id, num_rls, last_rls_listing, building_id, num_mlsli, last_mlsli_listing, building_id, num_other_listings, last_listing, ...]\n",
       "Index: []\n",
       "\n",
       "[0 rows x 198 columns]"
      ]
     },
     "execution_count": 63,
     "metadata": {},
     "output_type": "execute_result"
    }
   ],
   "source": [
    "matched_buildings[matched_buildings['display_address'].str.contains('39 Worth')]"
   ]
  },
  {
   "cell_type": "code",
   "execution_count": 64,
   "metadata": {},
   "outputs": [],
   "source": [
    "bbl = preso[preso['display_address'].str.contains('39 Worth')]['source_id'].item()"
   ]
  },
  {
   "cell_type": "code",
   "execution_count": 65,
   "metadata": {},
   "outputs": [
    {
     "data": {
      "text/plain": [
       "1001760011.0"
      ]
     },
     "execution_count": 65,
     "metadata": {},
     "output_type": "execute_result"
    }
   ],
   "source": [
    "bbl"
   ]
  },
  {
   "cell_type": "code",
   "execution_count": 66,
   "metadata": {},
   "outputs": [
    {
     "data": {
      "text/plain": [
       "1001760010.0"
      ]
     },
     "execution_count": 66,
     "metadata": {},
     "output_type": "execute_result"
    }
   ],
   "source": [
    "pluto[pluto['address'].str.contains('39 WORTH')]['bbl'].item()"
   ]
  },
  {
   "cell_type": "code",
   "execution_count": 67,
   "metadata": {},
   "outputs": [
    {
     "data": {
      "text/html": [
       "<div>\n",
       "<style scoped>\n",
       "    .dataframe tbody tr th:only-of-type {\n",
       "        vertical-align: middle;\n",
       "    }\n",
       "\n",
       "    .dataframe tbody tr th {\n",
       "        vertical-align: top;\n",
       "    }\n",
       "\n",
       "    .dataframe thead th {\n",
       "        text-align: right;\n",
       "    }\n",
       "</style>\n",
       "<table border=\"1\" class=\"dataframe\">\n",
       "  <thead>\n",
       "    <tr style=\"text-align: right;\">\n",
       "      <th></th>\n",
       "      <th>display_address</th>\n",
       "    </tr>\n",
       "  </thead>\n",
       "  <tbody>\n",
       "    <tr>\n",
       "      <th>140919</th>\n",
       "      <td>41 Worth Street</td>\n",
       "    </tr>\n",
       "  </tbody>\n",
       "</table>\n",
       "</div>"
      ],
      "text/plain": [
       "        display_address\n",
       "140919  41 Worth Street"
      ]
     },
     "execution_count": 67,
     "metadata": {},
     "output_type": "execute_result"
    }
   ],
   "source": [
    "preso[preso['source_id'] == 1001760010][['display_address']]"
   ]
  },
  {
   "cell_type": "code",
   "execution_count": 68,
   "metadata": {},
   "outputs": [
    {
     "data": {
      "text/html": [
       "<div>\n",
       "<style scoped>\n",
       "    .dataframe tbody tr th:only-of-type {\n",
       "        vertical-align: middle;\n",
       "    }\n",
       "\n",
       "    .dataframe tbody tr th {\n",
       "        vertical-align: top;\n",
       "    }\n",
       "\n",
       "    .dataframe thead th {\n",
       "        text-align: right;\n",
       "    }\n",
       "</style>\n",
       "<table border=\"1\" class=\"dataframe\">\n",
       "  <thead>\n",
       "    <tr style=\"text-align: right;\">\n",
       "      <th></th>\n",
       "      <th>id</th>\n",
       "      <th>city</th>\n",
       "      <th>state</th>\n",
       "      <th>zip</th>\n",
       "      <th>google_map_params</th>\n",
       "      <th>building_bike_storage</th>\n",
       "      <th>building_doorman</th>\n",
       "      <th>building_elevator</th>\n",
       "      <th>building_gym</th>\n",
       "      <th>building_laundry</th>\n",
       "      <th>...</th>\n",
       "      <th>appdate</th>\n",
       "      <th>plutomapid</th>\n",
       "      <th>firm07_flag</th>\n",
       "      <th>pfirm15_flag</th>\n",
       "      <th>version</th>\n",
       "      <th>dcpedited</th>\n",
       "      <th>latitude</th>\n",
       "      <th>longitude</th>\n",
       "      <th>notes</th>\n",
       "      <th>updated_fields</th>\n",
       "    </tr>\n",
       "  </thead>\n",
       "  <tbody>\n",
       "  </tbody>\n",
       "</table>\n",
       "<p>0 rows × 198 columns</p>\n",
       "</div>"
      ],
      "text/plain": [
       "Empty DataFrame\n",
       "Columns: [id, city, state, zip, google_map_params, building_bike_storage, building_doorman, building_elevator, building_gym, building_laundry, building_pets, building_pool, building_prewar, building_rooftop, building_storage, building_style_code, county_code, school_district_code, created_at, updated_at, neighborhood_id, source_id, display_address, display_name, building_garage, garage_type_code, year_built, benefit_construction_completed, num_stories, num_units, tax_class, centroid_latitude, centroid_longitude, tax_benefit_code, tax_benefit_start_date, tax_exemption_end_date, tax_abatement_end_date, j51_crc_perc, building_class, landmark_x, building_front, building_depth, tranche, new_development, in_search, architect, developer, management_firm_id, building_style, conversion_notes, account_executive_name, account_executive_phone, service_level, pet_policy, sublet_policy, front_desk_phone, building_type, source, building_complex_id, apportionment_date, lot_front, lot_depth, built_far, corner_lot, building_area, lot_area, zoning_primary, zoning_secondary, geometry, max_allowed_far, years_last_altered, apportionment_source_id, description, offering_plan_id, new_dev_start_date, new_dev_end_date, manual_new_dev_start_date, manual_new_dev_end_date, developer_brokerage_id, property_type, unit_schemes, cross_streets, tax_id, sponsor_names, place_name_override, land_lease_building, land_lease_expiration, timezone, census_tract, owner_name, owner_name2, building_id, num_rls, last_rls_listing, building_id, num_mlsli, last_mlsli_listing, building_id, num_other_listings, last_listing, ...]\n",
       "Index: []\n",
       "\n",
       "[0 rows x 198 columns]"
      ]
     },
     "execution_count": 68,
     "metadata": {},
     "output_type": "execute_result"
    }
   ],
   "source": [
    "matched_buildings[matched_buildings['bbl'] == 3055167510]"
   ]
  },
  {
   "cell_type": "code",
   "execution_count": 69,
   "metadata": {},
   "outputs": [
    {
     "data": {
      "text/plain": [
       "242878    1563 61ST STREET\n",
       "Name: address, dtype: object"
      ]
     },
     "execution_count": 69,
     "metadata": {},
     "output_type": "execute_result"
    }
   ],
   "source": [
    "pluto[pluto['bbl'] == 3055167510]['address']"
   ]
  },
  {
   "cell_type": "code",
   "execution_count": null,
   "metadata": {},
   "outputs": [],
   "source": []
  }
 ],
 "metadata": {
  "kernelspec": {
   "display_name": "pw",
   "language": "python",
   "name": "python3"
  },
  "language_info": {
   "codemirror_mode": {
    "name": "ipython",
    "version": 3
   },
   "file_extension": ".py",
   "mimetype": "text/x-python",
   "name": "python",
   "nbconvert_exporter": "python",
   "pygments_lexer": "ipython3",
   "version": "3.10.12"
  },
  "orig_nbformat": 4
 },
 "nbformat": 4,
 "nbformat_minor": 2
}
