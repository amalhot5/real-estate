{
 "cells": [
  {
   "cell_type": "code",
   "execution_count": 1,
   "metadata": {},
   "outputs": [],
   "source": [
    "import a_parcel_matching\n",
    "import b_first_match\n",
    "import c_second_match\n",
    "import d_fuzzy_match\n",
    "\n",
    "from tqdm.notebook import tqdm\n",
    "from datetime import timedelta\n",
    "\n",
    "import pandas as pd\n",
    "import pickle as pkl\n",
    "\n",
    "import warnings\n",
    "warnings.filterwarnings('ignore')"
   ]
  },
  {
   "cell_type": "code",
   "execution_count": 2,
   "metadata": {},
   "outputs": [],
   "source": [
    "day_thresh = [timedelta(days=0), timedelta(days=14), timedelta(days=30), timedelta(days=90), timedelta(days=180), timedelta(days=365), timedelta(days=520), None]\n",
    "#day_thresh = [timedelta(days=520), None]\n",
    "price_thresh = [0, 0.1, 0.3, 0.6, 1, None]\n",
    "#price_thresh = [1,None]\n",
    "\n",
    "try:\n",
    "    with open('matches_buckets1.pkl', 'rb') as f:\n",
    "        retdict = pkl.load(f)\n",
    "except:\n",
    "    retdict = {}"
   ]
  },
  {
   "cell_type": "code",
   "execution_count": 3,
   "metadata": {},
   "outputs": [
    {
     "data": {
      "application/vnd.jupyter.widget-view+json": {
       "model_id": "7ac21c4941fd4870aa4522ae4509ad15",
       "version_major": 2,
       "version_minor": 0
      },
      "text/plain": [
       "  0%|          | 0/7 [00:00<?, ?it/s]"
      ]
     },
     "metadata": {},
     "output_type": "display_data"
    },
    {
     "data": {
      "application/vnd.jupyter.widget-view+json": {
       "model_id": "7cd10fb4020149719e3de2d63296e49b",
       "version_major": 2,
       "version_minor": 0
      },
      "text/plain": [
       "  0%|          | 0/5 [00:00<?, ?it/s]"
      ]
     },
     "metadata": {},
     "output_type": "display_data"
    },
    {
     "data": {
      "application/vnd.jupyter.widget-view+json": {
       "model_id": "b7a5daec94e046f3b4dfff642adc8759",
       "version_major": 2,
       "version_minor": 0
      },
      "text/plain": [
       "  0%|          | 0/379102 [00:00<?, ?it/s]"
      ]
     },
     "metadata": {},
     "output_type": "display_data"
    },
    {
     "name": "stdout",
     "output_type": "stream",
     "text": [
      "(datetime.timedelta(0), datetime.timedelta(days=14)) (0, 0.1) 27743\n"
     ]
    },
    {
     "data": {
      "application/vnd.jupyter.widget-view+json": {
       "model_id": "95b286d4684049f3b00e430cfc516d3a",
       "version_major": 2,
       "version_minor": 0
      },
      "text/plain": [
       "  0%|          | 0/378767 [00:00<?, ?it/s]"
      ]
     },
     "metadata": {},
     "output_type": "display_data"
    },
    {
     "name": "stdout",
     "output_type": "stream",
     "text": [
      "(datetime.timedelta(0), datetime.timedelta(days=14)) (0.1, 0.3) 138\n"
     ]
    },
    {
     "data": {
      "application/vnd.jupyter.widget-view+json": {
       "model_id": "91b45a3ebe93433781082f3755d0d927",
       "version_major": 2,
       "version_minor": 0
      },
      "text/plain": [
       "  0%|          | 0/378589 [00:00<?, ?it/s]"
      ]
     },
     "metadata": {},
     "output_type": "display_data"
    },
    {
     "name": "stdout",
     "output_type": "stream",
     "text": [
      "(datetime.timedelta(0), datetime.timedelta(days=14)) (0.3, 0.6) 159\n"
     ]
    },
    {
     "data": {
      "application/vnd.jupyter.widget-view+json": {
       "model_id": "6d51437a621c4c23a20fd65ae94a580c",
       "version_major": 2,
       "version_minor": 0
      },
      "text/plain": [
       "  0%|          | 0/378436 [00:00<?, ?it/s]"
      ]
     },
     "metadata": {},
     "output_type": "display_data"
    },
    {
     "name": "stdout",
     "output_type": "stream",
     "text": [
      "(datetime.timedelta(0), datetime.timedelta(days=14)) (0.6, 1) 161\n"
     ]
    },
    {
     "data": {
      "application/vnd.jupyter.widget-view+json": {
       "model_id": "63a41198cabe466a9443b69da84f5389",
       "version_major": 2,
       "version_minor": 0
      },
      "text/plain": [
       "  0%|          | 0/378382 [00:00<?, ?it/s]"
      ]
     },
     "metadata": {},
     "output_type": "display_data"
    },
    {
     "name": "stdout",
     "output_type": "stream",
     "text": [
      "(datetime.timedelta(0), datetime.timedelta(days=14)) (1, None) 26\n"
     ]
    },
    {
     "data": {
      "application/vnd.jupyter.widget-view+json": {
       "model_id": "93ef0d314a444e0cbbebecff0ac78ac9",
       "version_major": 2,
       "version_minor": 0
      },
      "text/plain": [
       "  0%|          | 0/5 [00:00<?, ?it/s]"
      ]
     },
     "metadata": {},
     "output_type": "display_data"
    },
    {
     "data": {
      "application/vnd.jupyter.widget-view+json": {
       "model_id": "ec8ceb33b7b04a1eae771ef92fecb652",
       "version_major": 2,
       "version_minor": 0
      },
      "text/plain": [
       "  0%|          | 0/375163 [00:00<?, ?it/s]"
      ]
     },
     "metadata": {},
     "output_type": "display_data"
    },
    {
     "name": "stdout",
     "output_type": "stream",
     "text": [
      "(datetime.timedelta(days=14), datetime.timedelta(days=30)) (0, 0.1) 3228\n"
     ]
    },
    {
     "data": {
      "application/vnd.jupyter.widget-view+json": {
       "model_id": "0d7430368748422ebc85cf96d6292512",
       "version_major": 2,
       "version_minor": 0
      },
      "text/plain": [
       "  0%|          | 0/375105 [00:00<?, ?it/s]"
      ]
     },
     "metadata": {},
     "output_type": "display_data"
    },
    {
     "name": "stdout",
     "output_type": "stream",
     "text": [
      "(datetime.timedelta(days=14), datetime.timedelta(days=30)) (0.1, 0.3) 32\n"
     ]
    },
    {
     "data": {
      "application/vnd.jupyter.widget-view+json": {
       "model_id": "f305e1769d784d7cb75e1ee4493a2f05",
       "version_major": 2,
       "version_minor": 0
      },
      "text/plain": [
       "  0%|          | 0/375076 [00:00<?, ?it/s]"
      ]
     },
     "metadata": {},
     "output_type": "display_data"
    },
    {
     "name": "stdout",
     "output_type": "stream",
     "text": [
      "(datetime.timedelta(days=14), datetime.timedelta(days=30)) (0.3, 0.6) 29\n"
     ]
    },
    {
     "data": {
      "application/vnd.jupyter.widget-view+json": {
       "model_id": "4c03c5312ae242b0ba0d55066888cf36",
       "version_major": 2,
       "version_minor": 0
      },
      "text/plain": [
       "  0%|          | 0/375045 [00:00<?, ?it/s]"
      ]
     },
     "metadata": {},
     "output_type": "display_data"
    },
    {
     "name": "stdout",
     "output_type": "stream",
     "text": [
      "(datetime.timedelta(days=14), datetime.timedelta(days=30)) (0.6, 1) 29\n"
     ]
    },
    {
     "data": {
      "application/vnd.jupyter.widget-view+json": {
       "model_id": "0216e278457441edba9c31457f02ae92",
       "version_major": 2,
       "version_minor": 0
      },
      "text/plain": [
       "  0%|          | 0/375036 [00:00<?, ?it/s]"
      ]
     },
     "metadata": {},
     "output_type": "display_data"
    },
    {
     "name": "stdout",
     "output_type": "stream",
     "text": [
      "(datetime.timedelta(days=14), datetime.timedelta(days=30)) (1, None) 10\n"
     ]
    },
    {
     "data": {
      "application/vnd.jupyter.widget-view+json": {
       "model_id": "6052fe75998147959ef8367ec1d08819",
       "version_major": 2,
       "version_minor": 0
      },
      "text/plain": [
       "  0%|          | 0/5 [00:00<?, ?it/s]"
      ]
     },
     "metadata": {},
     "output_type": "display_data"
    },
    {
     "data": {
      "application/vnd.jupyter.widget-view+json": {
       "model_id": "9ed3127d941f475ba8f158c8df60df56",
       "version_major": 2,
       "version_minor": 0
      },
      "text/plain": [
       "  0%|          | 0/373959 [00:00<?, ?it/s]"
      ]
     },
     "metadata": {},
     "output_type": "display_data"
    },
    {
     "name": "stdout",
     "output_type": "stream",
     "text": [
      "(datetime.timedelta(days=30), datetime.timedelta(days=90)) (0, 0.1) 1067\n"
     ]
    },
    {
     "data": {
      "application/vnd.jupyter.widget-view+json": {
       "model_id": "f690b2b560fe45418b83ea24dfd8981c",
       "version_major": 2,
       "version_minor": 0
      },
      "text/plain": [
       "  0%|          | 0/373859 [00:00<?, ?it/s]"
      ]
     },
     "metadata": {},
     "output_type": "display_data"
    },
    {
     "name": "stdout",
     "output_type": "stream",
     "text": [
      "(datetime.timedelta(days=30), datetime.timedelta(days=90)) (0.1, 0.3) 79\n"
     ]
    },
    {
     "data": {
      "application/vnd.jupyter.widget-view+json": {
       "model_id": "27d989950a364d6a800a34e707afe478",
       "version_major": 2,
       "version_minor": 0
      },
      "text/plain": [
       "  0%|          | 0/373820 [00:00<?, ?it/s]"
      ]
     },
     "metadata": {},
     "output_type": "display_data"
    },
    {
     "name": "stdout",
     "output_type": "stream",
     "text": [
      "(datetime.timedelta(days=30), datetime.timedelta(days=90)) (0.3, 0.6) 45\n"
     ]
    },
    {
     "data": {
      "application/vnd.jupyter.widget-view+json": {
       "model_id": "f34f6436fd0840cbb5a085401918bf71",
       "version_major": 2,
       "version_minor": 0
      },
      "text/plain": [
       "  0%|          | 0/373781 [00:00<?, ?it/s]"
      ]
     },
     "metadata": {},
     "output_type": "display_data"
    },
    {
     "name": "stdout",
     "output_type": "stream",
     "text": [
      "(datetime.timedelta(days=30), datetime.timedelta(days=90)) (0.6, 1) 36\n"
     ]
    },
    {
     "data": {
      "application/vnd.jupyter.widget-view+json": {
       "model_id": "35f5735d89ee486eb30a1c5ae34feef5",
       "version_major": 2,
       "version_minor": 0
      },
      "text/plain": [
       "  0%|          | 0/373760 [00:00<?, ?it/s]"
      ]
     },
     "metadata": {},
     "output_type": "display_data"
    },
    {
     "name": "stdout",
     "output_type": "stream",
     "text": [
      "(datetime.timedelta(days=30), datetime.timedelta(days=90)) (1, None) 19\n"
     ]
    },
    {
     "data": {
      "application/vnd.jupyter.widget-view+json": {
       "model_id": "d5d76b2afc6d4e6ca3b02e173ed37d8e",
       "version_major": 2,
       "version_minor": 0
      },
      "text/plain": [
       "  0%|          | 0/5 [00:00<?, ?it/s]"
      ]
     },
     "metadata": {},
     "output_type": "display_data"
    },
    {
     "data": {
      "application/vnd.jupyter.widget-view+json": {
       "model_id": "4265b936f5ee438982365a6d81ce9aea",
       "version_major": 2,
       "version_minor": 0
      },
      "text/plain": [
       "  0%|          | 0/373573 [00:00<?, ?it/s]"
      ]
     },
     "metadata": {},
     "output_type": "display_data"
    },
    {
     "name": "stdout",
     "output_type": "stream",
     "text": [
      "(datetime.timedelta(days=90), datetime.timedelta(days=180)) (0, 0.1) 180\n"
     ]
    },
    {
     "data": {
      "application/vnd.jupyter.widget-view+json": {
       "model_id": "81de22c1a260487181aee1a174ff5eba",
       "version_major": 2,
       "version_minor": 0
      },
      "text/plain": [
       "  0%|          | 0/373488 [00:00<?, ?it/s]"
      ]
     },
     "metadata": {},
     "output_type": "display_data"
    },
    {
     "name": "stdout",
     "output_type": "stream",
     "text": [
      "(datetime.timedelta(days=90), datetime.timedelta(days=180)) (0.1, 0.3) 78\n"
     ]
    },
    {
     "data": {
      "application/vnd.jupyter.widget-view+json": {
       "model_id": "82f1f081c59141fd9ed08ad32c4d4345",
       "version_major": 2,
       "version_minor": 0
      },
      "text/plain": [
       "  0%|          | 0/373412 [00:00<?, ?it/s]"
      ]
     },
     "metadata": {},
     "output_type": "display_data"
    },
    {
     "name": "stdout",
     "output_type": "stream",
     "text": [
      "(datetime.timedelta(days=90), datetime.timedelta(days=180)) (0.3, 0.6) 70\n"
     ]
    },
    {
     "data": {
      "application/vnd.jupyter.widget-view+json": {
       "model_id": "9fb9bca77ab04526bda602a235698cd3",
       "version_major": 2,
       "version_minor": 0
      },
      "text/plain": [
       "  0%|          | 0/373349 [00:00<?, ?it/s]"
      ]
     },
     "metadata": {},
     "output_type": "display_data"
    },
    {
     "name": "stdout",
     "output_type": "stream",
     "text": [
      "(datetime.timedelta(days=90), datetime.timedelta(days=180)) (0.6, 1) 63\n"
     ]
    },
    {
     "data": {
      "application/vnd.jupyter.widget-view+json": {
       "model_id": "d90b7d78a833467fa3d1b9b961608352",
       "version_major": 2,
       "version_minor": 0
      },
      "text/plain": [
       "  0%|          | 0/373322 [00:00<?, ?it/s]"
      ]
     },
     "metadata": {},
     "output_type": "display_data"
    },
    {
     "name": "stdout",
     "output_type": "stream",
     "text": [
      "(datetime.timedelta(days=90), datetime.timedelta(days=180)) (1, None) 23\n"
     ]
    },
    {
     "data": {
      "application/vnd.jupyter.widget-view+json": {
       "model_id": "2bb5b69d0157482c9a74163ed01feb6f",
       "version_major": 2,
       "version_minor": 0
      },
      "text/plain": [
       "  0%|          | 0/5 [00:00<?, ?it/s]"
      ]
     },
     "metadata": {},
     "output_type": "display_data"
    },
    {
     "data": {
      "application/vnd.jupyter.widget-view+json": {
       "model_id": "dd78cf603383402ba1aca8fefa644b58",
       "version_major": 2,
       "version_minor": 0
      },
      "text/plain": [
       "  0%|          | 0/373048 [00:00<?, ?it/s]"
      ]
     },
     "metadata": {},
     "output_type": "display_data"
    },
    {
     "name": "stdout",
     "output_type": "stream",
     "text": [
      "(datetime.timedelta(days=180), datetime.timedelta(days=365)) (0, 0.1) 275\n"
     ]
    },
    {
     "data": {
      "application/vnd.jupyter.widget-view+json": {
       "model_id": "6c68af9241b24083a134981d77f52898",
       "version_major": 2,
       "version_minor": 0
      },
      "text/plain": [
       "  0%|          | 0/372948 [00:00<?, ?it/s]"
      ]
     },
     "metadata": {},
     "output_type": "display_data"
    },
    {
     "name": "stdout",
     "output_type": "stream",
     "text": [
      "(datetime.timedelta(days=180), datetime.timedelta(days=365)) (0.1, 0.3) 96\n"
     ]
    },
    {
     "data": {
      "application/vnd.jupyter.widget-view+json": {
       "model_id": "559257513b804941b544c876d38b37e6",
       "version_major": 2,
       "version_minor": 0
      },
      "text/plain": [
       "  0%|          | 0/372856 [00:00<?, ?it/s]"
      ]
     },
     "metadata": {},
     "output_type": "display_data"
    },
    {
     "name": "stdout",
     "output_type": "stream",
     "text": [
      "(datetime.timedelta(days=180), datetime.timedelta(days=365)) (0.3, 0.6) 108\n"
     ]
    },
    {
     "data": {
      "application/vnd.jupyter.widget-view+json": {
       "model_id": "e0815a2c73d34ea7a0b03a07b3a0432d",
       "version_major": 2,
       "version_minor": 0
      },
      "text/plain": [
       "  0%|          | 0/372739 [00:00<?, ?it/s]"
      ]
     },
     "metadata": {},
     "output_type": "display_data"
    },
    {
     "name": "stdout",
     "output_type": "stream",
     "text": [
      "(datetime.timedelta(days=180), datetime.timedelta(days=365)) (0.6, 1) 105\n"
     ]
    },
    {
     "data": {
      "application/vnd.jupyter.widget-view+json": {
       "model_id": "6853c6d4754345cbabb483c5822a6d09",
       "version_major": 2,
       "version_minor": 0
      },
      "text/plain": [
       "  0%|          | 0/372702 [00:00<?, ?it/s]"
      ]
     },
     "metadata": {},
     "output_type": "display_data"
    },
    {
     "name": "stdout",
     "output_type": "stream",
     "text": [
      "(datetime.timedelta(days=180), datetime.timedelta(days=365)) (1, None) 28\n"
     ]
    },
    {
     "data": {
      "application/vnd.jupyter.widget-view+json": {
       "model_id": "d273d982162d4e6d9d277b1bedb24a76",
       "version_major": 2,
       "version_minor": 0
      },
      "text/plain": [
       "  0%|          | 0/5 [00:00<?, ?it/s]"
      ]
     },
     "metadata": {},
     "output_type": "display_data"
    },
    {
     "data": {
      "application/vnd.jupyter.widget-view+json": {
       "model_id": "b7698769ac954a06805d8f6e34d31fb0",
       "version_major": 2,
       "version_minor": 0
      },
      "text/plain": [
       "  0%|          | 0/372581 [00:00<?, ?it/s]"
      ]
     },
     "metadata": {},
     "output_type": "display_data"
    },
    {
     "name": "stdout",
     "output_type": "stream",
     "text": [
      "(datetime.timedelta(days=365), datetime.timedelta(days=520)) (0, 0.1) 117\n"
     ]
    },
    {
     "data": {
      "application/vnd.jupyter.widget-view+json": {
       "model_id": "1b49cbc0003241b18747c90ae22ab54a",
       "version_major": 2,
       "version_minor": 0
      },
      "text/plain": [
       "  0%|          | 0/372519 [00:00<?, ?it/s]"
      ]
     },
     "metadata": {},
     "output_type": "display_data"
    },
    {
     "name": "stdout",
     "output_type": "stream",
     "text": [
      "(datetime.timedelta(days=365), datetime.timedelta(days=520)) (0.1, 0.3) 62\n"
     ]
    },
    {
     "data": {
      "application/vnd.jupyter.widget-view+json": {
       "model_id": "e8ba8835fc1549879f2181bbb0fc11f7",
       "version_major": 2,
       "version_minor": 0
      },
      "text/plain": [
       "  0%|          | 0/372463 [00:00<?, ?it/s]"
      ]
     },
     "metadata": {},
     "output_type": "display_data"
    },
    {
     "name": "stdout",
     "output_type": "stream",
     "text": [
      "(datetime.timedelta(days=365), datetime.timedelta(days=520)) (0.3, 0.6) 57\n"
     ]
    },
    {
     "data": {
      "application/vnd.jupyter.widget-view+json": {
       "model_id": "12584f6cd97c46f79e2446ed3462af8a",
       "version_major": 2,
       "version_minor": 0
      },
      "text/plain": [
       "  0%|          | 0/372402 [00:00<?, ?it/s]"
      ]
     },
     "metadata": {},
     "output_type": "display_data"
    },
    {
     "name": "stdout",
     "output_type": "stream",
     "text": [
      "(datetime.timedelta(days=365), datetime.timedelta(days=520)) (0.6, 1) 61\n"
     ]
    },
    {
     "data": {
      "application/vnd.jupyter.widget-view+json": {
       "model_id": "bdd48fcec6be435a92b9baf1c275e72f",
       "version_major": 2,
       "version_minor": 0
      },
      "text/plain": [
       "  0%|          | 0/372382 [00:00<?, ?it/s]"
      ]
     },
     "metadata": {},
     "output_type": "display_data"
    },
    {
     "name": "stdout",
     "output_type": "stream",
     "text": [
      "(datetime.timedelta(days=365), datetime.timedelta(days=520)) (1, None) 14\n"
     ]
    },
    {
     "data": {
      "application/vnd.jupyter.widget-view+json": {
       "model_id": "ee1663241da5427893d6e2246a537b1b",
       "version_major": 2,
       "version_minor": 0
      },
      "text/plain": [
       "  0%|          | 0/5 [00:00<?, ?it/s]"
      ]
     },
     "metadata": {},
     "output_type": "display_data"
    },
    {
     "data": {
      "application/vnd.jupyter.widget-view+json": {
       "model_id": "90340680d8354b59b12e4d9b10d3a749",
       "version_major": 2,
       "version_minor": 0
      },
      "text/plain": [
       "  0%|          | 0/368359 [00:00<?, ?it/s]"
      ]
     },
     "metadata": {},
     "output_type": "display_data"
    },
    {
     "name": "stdout",
     "output_type": "stream",
     "text": [
      "(datetime.timedelta(days=520), None) (0, 0.1) 2049\n"
     ]
    },
    {
     "data": {
      "application/vnd.jupyter.widget-view+json": {
       "model_id": "8fca39d210014f13aab91688bac7ff64",
       "version_major": 2,
       "version_minor": 0
      },
      "text/plain": [
       "  0%|          | 0/366275 [00:00<?, ?it/s]"
      ]
     },
     "metadata": {},
     "output_type": "display_data"
    },
    {
     "name": "stdout",
     "output_type": "stream",
     "text": [
      "(datetime.timedelta(days=520), None) (0.1, 0.3) 1647\n"
     ]
    },
    {
     "data": {
      "application/vnd.jupyter.widget-view+json": {
       "model_id": "335edd2035c044b3bba31cb46129d70c",
       "version_major": 2,
       "version_minor": 0
      },
      "text/plain": [
       "  0%|          | 0/365340 [00:00<?, ?it/s]"
      ]
     },
     "metadata": {},
     "output_type": "display_data"
    },
    {
     "name": "stdout",
     "output_type": "stream",
     "text": [
      "(datetime.timedelta(days=520), None) (0.3, 0.6) 786\n"
     ]
    },
    {
     "data": {
      "application/vnd.jupyter.widget-view+json": {
       "model_id": "14335332407f4854af18e4145a1e97d2",
       "version_major": 2,
       "version_minor": 0
      },
      "text/plain": [
       "  0%|          | 0/364707 [00:00<?, ?it/s]"
      ]
     },
     "metadata": {},
     "output_type": "display_data"
    },
    {
     "name": "stdout",
     "output_type": "stream",
     "text": [
      "(datetime.timedelta(days=520), None) (0.6, 1) 530\n"
     ]
    },
    {
     "data": {
      "application/vnd.jupyter.widget-view+json": {
       "model_id": "42423c0b56344a95aac929800c2bf05a",
       "version_major": 2,
       "version_minor": 0
      },
      "text/plain": [
       "  0%|          | 0/364471 [00:00<?, ?it/s]"
      ]
     },
     "metadata": {},
     "output_type": "display_data"
    },
    {
     "name": "stdout",
     "output_type": "stream",
     "text": [
      "(datetime.timedelta(days=520), None) (1, None) 98\n"
     ]
    }
   ],
   "source": [
    "for i in tqdm(range(len(day_thresh)-1)):\n",
    "    for j in tqdm(range(len(price_thresh)-1),leave=True):\n",
    "        day_range = (day_thresh[i], day_thresh[i+1])\n",
    "        price_range = (price_thresh[j], price_thresh[j+1])\n",
    "        try:\n",
    "            if retdict[(day_range, price_range)]:\n",
    "                pass\n",
    "        except:\n",
    "            parcel_match = a_parcel_matching.main(day_range, price_range)\n",
    "            first_match = b_first_match.main(day_range, price_range)\n",
    "            second_match = c_second_match.main(day_range, price_range)\n",
    "            third_match = d_fuzzy_match.main(day_range, price_range)\n",
    "            retdict[(day_range, price_range)] = [parcel_match, first_match, second_match, third_match]\n",
    "            print(day_range, price_range, parcel_match['id'].nunique() + first_match['id'].nunique() + second_match['id'].nunique() + third_match['id'].nunique())\n",
    "        "
   ]
  },
  {
   "cell_type": "code",
   "execution_count": 4,
   "metadata": {},
   "outputs": [
    {
     "data": {
      "text/plain": [
       "str"
      ]
     },
     "execution_count": 4,
     "metadata": {},
     "output_type": "execute_result"
    }
   ],
   "source": [
    "type(str(4743))"
   ]
  },
  {
   "cell_type": "code",
   "execution_count": 5,
   "metadata": {},
   "outputs": [],
   "source": [
    "with open('matches_buckets.pkl', 'wb') as f:\n",
    "    pkl.dump(retdict, f)"
   ]
  },
  {
   "cell_type": "code",
   "execution_count": 6,
   "metadata": {},
   "outputs": [],
   "source": [
    "for k in retdict.keys():\n",
    "    if type(retdict[k]) == list:\n",
    "        retdict[k] = pd.concat(retdict[k])"
   ]
  },
  {
   "cell_type": "code",
   "execution_count": 7,
   "metadata": {},
   "outputs": [
    {
     "data": {
      "text/plain": [
       "dict_keys([((datetime.timedelta(0), datetime.timedelta(days=14)), (0, 0.1)), ((datetime.timedelta(0), datetime.timedelta(days=14)), (0.1, 0.3)), ((datetime.timedelta(0), datetime.timedelta(days=14)), (0.3, 0.6)), ((datetime.timedelta(0), datetime.timedelta(days=14)), (0.6, 1)), ((datetime.timedelta(0), datetime.timedelta(days=14)), (1, None)), ((datetime.timedelta(days=14), datetime.timedelta(days=30)), (0, 0.1)), ((datetime.timedelta(days=14), datetime.timedelta(days=30)), (0.1, 0.3)), ((datetime.timedelta(days=14), datetime.timedelta(days=30)), (0.3, 0.6)), ((datetime.timedelta(days=14), datetime.timedelta(days=30)), (0.6, 1)), ((datetime.timedelta(days=14), datetime.timedelta(days=30)), (1, None)), ((datetime.timedelta(days=30), datetime.timedelta(days=90)), (0, 0.1)), ((datetime.timedelta(days=30), datetime.timedelta(days=90)), (0.1, 0.3)), ((datetime.timedelta(days=30), datetime.timedelta(days=90)), (0.3, 0.6)), ((datetime.timedelta(days=30), datetime.timedelta(days=90)), (0.6, 1)), ((datetime.timedelta(days=30), datetime.timedelta(days=90)), (1, None)), ((datetime.timedelta(days=90), datetime.timedelta(days=180)), (0, 0.1)), ((datetime.timedelta(days=90), datetime.timedelta(days=180)), (0.1, 0.3)), ((datetime.timedelta(days=90), datetime.timedelta(days=180)), (0.3, 0.6)), ((datetime.timedelta(days=90), datetime.timedelta(days=180)), (0.6, 1)), ((datetime.timedelta(days=90), datetime.timedelta(days=180)), (1, None)), ((datetime.timedelta(days=180), datetime.timedelta(days=365)), (0, 0.1)), ((datetime.timedelta(days=180), datetime.timedelta(days=365)), (0.1, 0.3)), ((datetime.timedelta(days=180), datetime.timedelta(days=365)), (0.3, 0.6)), ((datetime.timedelta(days=180), datetime.timedelta(days=365)), (0.6, 1)), ((datetime.timedelta(days=180), datetime.timedelta(days=365)), (1, None)), ((datetime.timedelta(days=365), datetime.timedelta(days=520)), (0, 0.1)), ((datetime.timedelta(days=365), datetime.timedelta(days=520)), (0.1, 0.3)), ((datetime.timedelta(days=365), datetime.timedelta(days=520)), (0.3, 0.6)), ((datetime.timedelta(days=365), datetime.timedelta(days=520)), (0.6, 1)), ((datetime.timedelta(days=365), datetime.timedelta(days=520)), (1, None)), ((datetime.timedelta(days=520), None), (0, 0.1)), ((datetime.timedelta(days=520), None), (0.1, 0.3)), ((datetime.timedelta(days=520), None), (0.3, 0.6)), ((datetime.timedelta(days=520), None), (0.6, 1)), ((datetime.timedelta(days=520), None), (1, None))])"
      ]
     },
     "execution_count": 7,
     "metadata": {},
     "output_type": "execute_result"
    }
   ],
   "source": [
    "retdict.keys()"
   ]
  },
  {
   "cell_type": "code",
   "execution_count": 8,
   "metadata": {},
   "outputs": [
    {
     "name": "stdout",
     "output_type": "stream",
     "text": [
      "27743\n",
      "138\n",
      "159\n",
      "161\n",
      "26\n",
      "3228\n",
      "32\n",
      "29\n",
      "29\n",
      "10\n",
      "1067\n",
      "79\n",
      "45\n",
      "36\n",
      "19\n",
      "180\n",
      "78\n",
      "70\n",
      "63\n",
      "23\n",
      "275\n",
      "96\n",
      "108\n",
      "105\n",
      "28\n",
      "117\n",
      "62\n",
      "57\n",
      "61\n",
      "14\n",
      "2049\n",
      "1647\n",
      "786\n",
      "530\n",
      "98\n"
     ]
    }
   ],
   "source": [
    "n = 0\n",
    "for k in retdict:\n",
    "    n += retdict[k]['id'].nunique()\n",
    "    print(retdict[k]['id'].nunique())"
   ]
  },
  {
   "cell_type": "code",
   "execution_count": 2,
   "metadata": {},
   "outputs": [
    {
     "name": "stdout",
     "output_type": "stream",
     "text": [
      "46887\n"
     ]
    }
   ],
   "source": [
    "#print(n)\n",
    "closings = pd.read_csv('data/ICAAR_Babylon_Closings_2024_03_19 (1).csv')\n",
    "closings['last_event'] = pd.to_datetime(closings['last_event'], dayfirst=True)\n",
    "print(closings['id'].nunique())"
   ]
  },
  {
   "cell_type": "code",
   "execution_count": 10,
   "metadata": {},
   "outputs": [
    {
     "data": {
      "text/html": [
       "<div>\n",
       "<style scoped>\n",
       "    .dataframe tbody tr th:only-of-type {\n",
       "        vertical-align: middle;\n",
       "    }\n",
       "\n",
       "    .dataframe tbody tr th {\n",
       "        vertical-align: top;\n",
       "    }\n",
       "\n",
       "    .dataframe thead th {\n",
       "        text-align: right;\n",
       "    }\n",
       "</style>\n",
       "<table border=\"1\" class=\"dataframe\">\n",
       "  <thead>\n",
       "    <tr style=\"text-align: right;\">\n",
       "      <th></th>\n",
       "      <th>id</th>\n",
       "      <th>DEED_LID</th>\n",
       "    </tr>\n",
       "  </thead>\n",
       "  <tbody>\n",
       "    <tr>\n",
       "      <th>2</th>\n",
       "      <td>28667755.0</td>\n",
       "      <td>0402PLGBUG3VMNMYOBKZ2K</td>\n",
       "    </tr>\n",
       "    <tr>\n",
       "      <th>3</th>\n",
       "      <td>28666310.0</td>\n",
       "      <td>0400WON13PGC4OJR5LANZ6</td>\n",
       "    </tr>\n",
       "    <tr>\n",
       "      <th>5</th>\n",
       "      <td>28694152.0</td>\n",
       "      <td>0403EB10Z1F5ZLSLBR5TJY</td>\n",
       "    </tr>\n",
       "    <tr>\n",
       "      <th>8</th>\n",
       "      <td>28701531.0</td>\n",
       "      <td>0407KPCWCK4U0BMVE53OP4</td>\n",
       "    </tr>\n",
       "    <tr>\n",
       "      <th>12</th>\n",
       "      <td>28661213.0</td>\n",
       "      <td>04006JL7J8WU64LG4W3MKW</td>\n",
       "    </tr>\n",
       "    <tr>\n",
       "      <th>...</th>\n",
       "      <td>...</td>\n",
       "      <td>...</td>\n",
       "    </tr>\n",
       "    <tr>\n",
       "      <th>2068261</th>\n",
       "      <td>28702619.0</td>\n",
       "      <td>04038FGOB9KD1HCT62TRYL</td>\n",
       "    </tr>\n",
       "    <tr>\n",
       "      <th>2068270</th>\n",
       "      <td>28685500.0</td>\n",
       "      <td>04000KRCFUHDIJBXGG33QZ</td>\n",
       "    </tr>\n",
       "    <tr>\n",
       "      <th>2069836</th>\n",
       "      <td>28676314.0</td>\n",
       "      <td>0403X6ZKR8HALO5WRBLOSL</td>\n",
       "    </tr>\n",
       "    <tr>\n",
       "      <th>2072258</th>\n",
       "      <td>28700909.0</td>\n",
       "      <td>0402K2KEDJLTIHMT1ZTNNF</td>\n",
       "    </tr>\n",
       "    <tr>\n",
       "      <th>2123759</th>\n",
       "      <td>28676388.0</td>\n",
       "      <td>0402PM2RRKZSZSD0U78IZR</td>\n",
       "    </tr>\n",
       "  </tbody>\n",
       "</table>\n",
       "<p>29843 rows × 2 columns</p>\n",
       "</div>"
      ],
      "text/plain": [
       "                 id                DEED_LID\n",
       "2        28667755.0  0402PLGBUG3VMNMYOBKZ2K\n",
       "3        28666310.0  0400WON13PGC4OJR5LANZ6\n",
       "5        28694152.0  0403EB10Z1F5ZLSLBR5TJY\n",
       "8        28701531.0  0407KPCWCK4U0BMVE53OP4\n",
       "12       28661213.0  04006JL7J8WU64LG4W3MKW\n",
       "...             ...                     ...\n",
       "2068261  28702619.0  04038FGOB9KD1HCT62TRYL\n",
       "2068270  28685500.0  04000KRCFUHDIJBXGG33QZ\n",
       "2069836  28676314.0  0403X6ZKR8HALO5WRBLOSL\n",
       "2072258  28700909.0  0402K2KEDJLTIHMT1ZTNNF\n",
       "2123759  28676388.0  0402PM2RRKZSZSD0U78IZR\n",
       "\n",
       "[29843 rows x 2 columns]"
      ]
     },
     "execution_count": 10,
     "metadata": {},
     "output_type": "execute_result"
    }
   ],
   "source": [
    "k=((day_thresh[0],day_thresh[1]),(price_thresh[0],price_thresh[1]))\n",
    "retdict[k]"
   ]
  },
  {
   "cell_type": "code",
   "execution_count": 11,
   "metadata": {},
   "outputs": [
    {
     "data": {
      "text/plain": [
       "39248"
      ]
     },
     "execution_count": 11,
     "metadata": {},
     "output_type": "execute_result"
    }
   ],
   "source": [
    "n"
   ]
  },
  {
   "cell_type": "code",
   "execution_count": 12,
   "metadata": {},
   "outputs": [
    {
     "data": {
      "text/plain": [
       "False"
      ]
     },
     "execution_count": 12,
     "metadata": {},
     "output_type": "execute_result"
    }
   ],
   "source": [
    "'28658735' in retdict[k]['id'].values"
   ]
  },
  {
   "cell_type": "code",
   "execution_count": 13,
   "metadata": {},
   "outputs": [],
   "source": [
    "num_matches = []\n",
    "for i in closings['id']:\n",
    "    count = 0\n",
    "    for k in retdict:\n",
    "        if int(i) in retdict[k]['id'].values:\n",
    "            count += 1\n",
    "\n",
    "    num_matches.append(count)"
   ]
  },
  {
   "cell_type": "code",
   "execution_count": 14,
   "metadata": {},
   "outputs": [],
   "source": [
    "closings['num_matches'] = num_matches"
   ]
  },
  {
   "cell_type": "code",
   "execution_count": 15,
   "metadata": {},
   "outputs": [],
   "source": [
    "num_matches.sort()"
   ]
  },
  {
   "cell_type": "code",
   "execution_count": 16,
   "metadata": {},
   "outputs": [
    {
     "data": {
      "text/html": [
       "<div>\n",
       "<style scoped>\n",
       "    .dataframe tbody tr th:only-of-type {\n",
       "        vertical-align: middle;\n",
       "    }\n",
       "\n",
       "    .dataframe tbody tr th {\n",
       "        vertical-align: top;\n",
       "    }\n",
       "\n",
       "    .dataframe thead th {\n",
       "        text-align: right;\n",
       "    }\n",
       "</style>\n",
       "<table border=\"1\" class=\"dataframe\">\n",
       "  <thead>\n",
       "    <tr style=\"text-align: right;\">\n",
       "      <th></th>\n",
       "      <th>id</th>\n",
       "      <th>num_matches</th>\n",
       "    </tr>\n",
       "  </thead>\n",
       "  <tbody>\n",
       "    <tr>\n",
       "      <th>0</th>\n",
       "      <td>28689862</td>\n",
       "      <td>1</td>\n",
       "    </tr>\n",
       "    <tr>\n",
       "      <th>29936</th>\n",
       "      <td>28667008</td>\n",
       "      <td>1</td>\n",
       "    </tr>\n",
       "    <tr>\n",
       "      <th>29938</th>\n",
       "      <td>28750810</td>\n",
       "      <td>1</td>\n",
       "    </tr>\n",
       "    <tr>\n",
       "      <th>29939</th>\n",
       "      <td>28753302</td>\n",
       "      <td>1</td>\n",
       "    </tr>\n",
       "    <tr>\n",
       "      <th>29940</th>\n",
       "      <td>28754616</td>\n",
       "      <td>1</td>\n",
       "    </tr>\n",
       "    <tr>\n",
       "      <th>...</th>\n",
       "      <td>...</td>\n",
       "      <td>...</td>\n",
       "    </tr>\n",
       "    <tr>\n",
       "      <th>38443</th>\n",
       "      <td>28712273</td>\n",
       "      <td>0</td>\n",
       "    </tr>\n",
       "    <tr>\n",
       "      <th>38445</th>\n",
       "      <td>28697895</td>\n",
       "      <td>0</td>\n",
       "    </tr>\n",
       "    <tr>\n",
       "      <th>38446</th>\n",
       "      <td>28669429</td>\n",
       "      <td>0</td>\n",
       "    </tr>\n",
       "    <tr>\n",
       "      <th>7197</th>\n",
       "      <td>28731871</td>\n",
       "      <td>0</td>\n",
       "    </tr>\n",
       "    <tr>\n",
       "      <th>16756</th>\n",
       "      <td>28678820</td>\n",
       "      <td>0</td>\n",
       "    </tr>\n",
       "  </tbody>\n",
       "</table>\n",
       "<p>46897 rows × 2 columns</p>\n",
       "</div>"
      ],
      "text/plain": [
       "             id  num_matches\n",
       "0      28689862            1\n",
       "29936  28667008            1\n",
       "29938  28750810            1\n",
       "29939  28753302            1\n",
       "29940  28754616            1\n",
       "...         ...          ...\n",
       "38443  28712273            0\n",
       "38445  28697895            0\n",
       "38446  28669429            0\n",
       "7197   28731871            0\n",
       "16756  28678820            0\n",
       "\n",
       "[46897 rows x 2 columns]"
      ]
     },
     "execution_count": 16,
     "metadata": {},
     "output_type": "execute_result"
    }
   ],
   "source": [
    "closings[['id','num_matches']].sort_values('num_matches', ascending=False)"
   ]
  },
  {
   "cell_type": "code",
   "execution_count": 17,
   "metadata": {},
   "outputs": [],
   "source": [
    "deeds = []\n",
    "for k in retdict:\n",
    "    deeds += list(retdict[k][(retdict[k]['id'] == 28681001)]['DEED_LID'].values)"
   ]
  },
  {
   "cell_type": "code",
   "execution_count": 18,
   "metadata": {},
   "outputs": [
    {
     "data": {
      "text/plain": [
       "1"
      ]
     },
     "execution_count": 18,
     "metadata": {},
     "output_type": "execute_result"
    }
   ],
   "source": [
    "len(deeds)"
   ]
  },
  {
   "cell_type": "code",
   "execution_count": 3,
   "metadata": {},
   "outputs": [],
   "source": [
    "with open(f'deeds_df.pkl', 'rb') as f:\n",
    "    deeds_df = pkl.load(f)"
   ]
  },
  {
   "cell_type": "code",
   "execution_count": 20,
   "metadata": {},
   "outputs": [
    {
     "data": {
      "text/html": [
       "<div>\n",
       "<style scoped>\n",
       "    .dataframe tbody tr th:only-of-type {\n",
       "        vertical-align: middle;\n",
       "    }\n",
       "\n",
       "    .dataframe tbody tr th {\n",
       "        vertical-align: top;\n",
       "    }\n",
       "\n",
       "    .dataframe thead th {\n",
       "        text-align: right;\n",
       "    }\n",
       "</style>\n",
       "<table border=\"1\" class=\"dataframe\">\n",
       "  <thead>\n",
       "    <tr style=\"text-align: right;\">\n",
       "      <th></th>\n",
       "      <th>DEED_LID</th>\n",
       "      <th>SITE_ADDR</th>\n",
       "      <th>SITE_CITY</th>\n",
       "      <th>SITE_ZIP</th>\n",
       "      <th>DATE_TRANSFER</th>\n",
       "      <th>VAL_TRANSFER</th>\n",
       "      <th>SITE_HOUSE_NUMBER</th>\n",
       "      <th>SITE_DIRECTION</th>\n",
       "      <th>SITE_STREET_NAME</th>\n",
       "      <th>SITE_UNIT_NUMBER</th>\n",
       "      <th>SITE_MODE</th>\n",
       "      <th>ASSESSMENT_LID</th>\n",
       "    </tr>\n",
       "  </thead>\n",
       "  <tbody>\n",
       "    <tr>\n",
       "      <th>1752745</th>\n",
       "      <td>0406N5MXET3IW11W2LPBV0</td>\n",
       "      <td>4602 TWIN PINE DR NE</td>\n",
       "      <td>CEDAR RAPIDS</td>\n",
       "      <td>52402.0</td>\n",
       "      <td>2023-09-12 00:00:00</td>\n",
       "      <td>215000.0</td>\n",
       "      <td>4602</td>\n",
       "      <td>NaN</td>\n",
       "      <td>TWIN PINE</td>\n",
       "      <td>NaN</td>\n",
       "      <td>DR</td>\n",
       "      <td>0300HXPUU8AVVJA1TVGN27</td>\n",
       "    </tr>\n",
       "  </tbody>\n",
       "</table>\n",
       "</div>"
      ],
      "text/plain": [
       "                       DEED_LID             SITE_ADDR     SITE_CITY  SITE_ZIP  \\\n",
       "1752745  0406N5MXET3IW11W2LPBV0  4602 TWIN PINE DR NE  CEDAR RAPIDS   52402.0   \n",
       "\n",
       "               DATE_TRANSFER  VAL_TRANSFER SITE_HOUSE_NUMBER SITE_DIRECTION  \\\n",
       "1752745  2023-09-12 00:00:00      215000.0              4602            NaN   \n",
       "\n",
       "        SITE_STREET_NAME SITE_UNIT_NUMBER SITE_MODE          ASSESSMENT_LID  \n",
       "1752745        TWIN PINE              NaN        DR  0300HXPUU8AVVJA1TVGN27  "
      ]
     },
     "execution_count": 20,
     "metadata": {},
     "output_type": "execute_result"
    }
   ],
   "source": [
    "deeds_df[deeds_df['DEED_LID'].isin(deeds)]"
   ]
  },
  {
   "cell_type": "code",
   "execution_count": 21,
   "metadata": {},
   "outputs": [
    {
     "data": {
      "text/html": [
       "<div>\n",
       "<style scoped>\n",
       "    .dataframe tbody tr th:only-of-type {\n",
       "        vertical-align: middle;\n",
       "    }\n",
       "\n",
       "    .dataframe tbody tr th {\n",
       "        vertical-align: top;\n",
       "    }\n",
       "\n",
       "    .dataframe thead th {\n",
       "        text-align: right;\n",
       "    }\n",
       "</style>\n",
       "<table border=\"1\" class=\"dataframe\">\n",
       "  <thead>\n",
       "    <tr style=\"text-align: right;\">\n",
       "      <th></th>\n",
       "      <th>id</th>\n",
       "      <th>rebny_id</th>\n",
       "      <th>building_id</th>\n",
       "      <th>address</th>\n",
       "      <th>zip</th>\n",
       "      <th>sold_price</th>\n",
       "      <th>last_event</th>\n",
       "      <th>add_address_lid</th>\n",
       "      <th>add_house_number</th>\n",
       "      <th>add_prefix_direction</th>\n",
       "      <th>add_street_name</th>\n",
       "      <th>add_suffix_direction</th>\n",
       "      <th>add_suffix_type</th>\n",
       "      <th>parcel_lid</th>\n",
       "      <th>assessment_lid</th>\n",
       "      <th>land_assessed_value</th>\n",
       "      <th>land_market_value</th>\n",
       "      <th>num_matches</th>\n",
       "    </tr>\n",
       "  </thead>\n",
       "  <tbody>\n",
       "    <tr>\n",
       "      <th>37439</th>\n",
       "      <td>28681001</td>\n",
       "      <td>202304359</td>\n",
       "      <td>15198859.0</td>\n",
       "      <td>4602 NE Twin Pine Dr. NE</td>\n",
       "      <td>52402</td>\n",
       "      <td>215000</td>\n",
       "      <td>2023-09-12 04:00:00</td>\n",
       "      <td>0602JKA4NSKOEKWYH1METH</td>\n",
       "      <td>4602</td>\n",
       "      <td>NaN</td>\n",
       "      <td>Twin Pine</td>\n",
       "      <td>Ne</td>\n",
       "      <td>Dr</td>\n",
       "      <td>02015SHJZ451MZBTHOZPI6</td>\n",
       "      <td>0300HXPUU8AVVJA1TVGN27</td>\n",
       "      <td>36700.0</td>\n",
       "      <td>36700.0</td>\n",
       "      <td>1</td>\n",
       "    </tr>\n",
       "  </tbody>\n",
       "</table>\n",
       "</div>"
      ],
      "text/plain": [
       "             id   rebny_id  building_id                   address    zip  \\\n",
       "37439  28681001  202304359   15198859.0  4602 NE Twin Pine Dr. NE  52402   \n",
       "\n",
       "       sold_price          last_event         add_address_lid  \\\n",
       "37439      215000 2023-09-12 04:00:00  0602JKA4NSKOEKWYH1METH   \n",
       "\n",
       "      add_house_number add_prefix_direction add_street_name  \\\n",
       "37439             4602                  NaN       Twin Pine   \n",
       "\n",
       "      add_suffix_direction add_suffix_type              parcel_lid  \\\n",
       "37439                   Ne              Dr  02015SHJZ451MZBTHOZPI6   \n",
       "\n",
       "               assessment_lid  land_assessed_value  land_market_value  \\\n",
       "37439  0300HXPUU8AVVJA1TVGN27              36700.0            36700.0   \n",
       "\n",
       "       num_matches  \n",
       "37439            1  "
      ]
     },
     "execution_count": 21,
     "metadata": {},
     "output_type": "execute_result"
    }
   ],
   "source": [
    "closings[closings['id'] == 28681001]"
   ]
  },
  {
   "cell_type": "code",
   "execution_count": 22,
   "metadata": {},
   "outputs": [],
   "source": [
    "with open('matches_buckets.pkl', 'rb') as f:\n",
    "    retdict = pkl.load(f)"
   ]
  },
  {
   "cell_type": "code",
   "execution_count": 23,
   "metadata": {},
   "outputs": [],
   "source": [
    "for k in retdict:\n",
    "    retdict[k][0]['type_of_match'] = ['0_parcel'] * len(retdict[k][0])\n",
    "    retdict[k][1]['type_of_match'] = ['1_exact'] * len(retdict[k][1])\n",
    "    retdict[k][2]['type_of_match'] = ['2_standardized'] * len(retdict[k][2])\n",
    "    retdict[k][3]['type_of_match'] = ['3_fuzzy'] * len(retdict[k][3])"
   ]
  },
  {
   "cell_type": "code",
   "execution_count": 24,
   "metadata": {},
   "outputs": [],
   "source": [
    "for k in retdict.keys():\n",
    "    if type(retdict[k]) == list:\n",
    "        retdict[k] = pd.concat(retdict[k])"
   ]
  },
  {
   "cell_type": "code",
   "execution_count": 25,
   "metadata": {},
   "outputs": [
    {
     "data": {
      "text/plain": [
       "type_of_match\n",
       "0_parcel          129\n",
       "1_exact            31\n",
       "2_standardized      6\n",
       "3_fuzzy            24\n",
       "Name: DEED_LID, dtype: int64"
      ]
     },
     "execution_count": 25,
     "metadata": {},
     "output_type": "execute_result"
    }
   ],
   "source": [
    "retdict[k].groupby('type_of_match')['DEED_LID'].nunique()"
   ]
  },
  {
   "cell_type": "code",
   "execution_count": 26,
   "metadata": {},
   "outputs": [],
   "source": [
    "extreme_bucket = retdict[k].merge(deeds_df, on='DEED_LID', how='inner').merge(closings, on='id', how='inner')"
   ]
  },
  {
   "cell_type": "code",
   "execution_count": 27,
   "metadata": {},
   "outputs": [
    {
     "data": {
      "text/plain": [
       "Index(['id', 'DEED_LID', 'type_of_match', 'SITE_ADDR', 'SITE_CITY', 'SITE_ZIP',\n",
       "       'DATE_TRANSFER', 'VAL_TRANSFER', 'SITE_HOUSE_NUMBER', 'SITE_DIRECTION',\n",
       "       'SITE_STREET_NAME', 'SITE_UNIT_NUMBER', 'SITE_MODE', 'ASSESSMENT_LID',\n",
       "       'rebny_id', 'building_id', 'address', 'zip', 'sold_price', 'last_event',\n",
       "       'add_address_lid', 'add_house_number', 'add_prefix_direction',\n",
       "       'add_street_name', 'add_suffix_direction', 'add_suffix_type',\n",
       "       'parcel_lid', 'assessment_lid', 'land_assessed_value',\n",
       "       'land_market_value', 'num_matches'],\n",
       "      dtype='object')"
      ]
     },
     "execution_count": 27,
     "metadata": {},
     "output_type": "execute_result"
    }
   ],
   "source": [
    "extreme_bucket.columns"
   ]
  },
  {
   "cell_type": "code",
   "execution_count": 28,
   "metadata": {},
   "outputs": [
    {
     "data": {
      "text/plain": [
       "197"
      ]
     },
     "execution_count": 28,
     "metadata": {},
     "output_type": "execute_result"
    }
   ],
   "source": [
    "len(retdict[k])"
   ]
  },
  {
   "cell_type": "code",
   "execution_count": 29,
   "metadata": {},
   "outputs": [],
   "source": [
    "extreme_bucket[['id', 'DEED_LID', 'type_of_match', 'SITE_ADDR', 'SITE_ZIP', 'VAL_TRANSFER', 'DATE_TRANSFER', 'building_id', 'address', 'zip', 'sold_price', 'last_event']].to_clipboard(index=False)"
   ]
  },
  {
   "cell_type": "code",
   "execution_count": 30,
   "metadata": {},
   "outputs": [
    {
     "data": {
      "text/html": [
       "<div>\n",
       "<style scoped>\n",
       "    .dataframe tbody tr th:only-of-type {\n",
       "        vertical-align: middle;\n",
       "    }\n",
       "\n",
       "    .dataframe tbody tr th {\n",
       "        vertical-align: top;\n",
       "    }\n",
       "\n",
       "    .dataframe thead th {\n",
       "        text-align: right;\n",
       "    }\n",
       "</style>\n",
       "<table border=\"1\" class=\"dataframe\">\n",
       "  <thead>\n",
       "    <tr style=\"text-align: right;\">\n",
       "      <th></th>\n",
       "      <th>id</th>\n",
       "      <th>DEED_LID</th>\n",
       "      <th>type_of_match</th>\n",
       "      <th>SITE_ADDR</th>\n",
       "      <th>SITE_ZIP</th>\n",
       "      <th>VAL_TRANSFER</th>\n",
       "      <th>DATE_TRANSFER</th>\n",
       "      <th>building_id</th>\n",
       "      <th>address</th>\n",
       "      <th>zip</th>\n",
       "      <th>sold_price</th>\n",
       "      <th>last_event</th>\n",
       "    </tr>\n",
       "  </thead>\n",
       "  <tbody>\n",
       "    <tr>\n",
       "      <th>0</th>\n",
       "      <td>28747425.0</td>\n",
       "      <td>0403SWCLXFK4C6Y7NB1B5M</td>\n",
       "      <td>0_parcel</td>\n",
       "      <td>1199 TIMBER LN</td>\n",
       "      <td>52772.0</td>\n",
       "      <td>30000.0</td>\n",
       "      <td>2007-05-25 00:00:00</td>\n",
       "      <td>15139333.0</td>\n",
       "      <td>333 Timber Lane</td>\n",
       "      <td>52772</td>\n",
       "      <td>257500</td>\n",
       "      <td>2015-03-27 04:00:00</td>\n",
       "    </tr>\n",
       "    <tr>\n",
       "      <th>1</th>\n",
       "      <td>28700133.0</td>\n",
       "      <td>0407N8TZNF4Z90TLFCNTXH</td>\n",
       "      <td>0_parcel</td>\n",
       "      <td>2919 TWIN MILL DR NE</td>\n",
       "      <td>52317.0</td>\n",
       "      <td>45000.0</td>\n",
       "      <td>2012-10-09 00:00:00</td>\n",
       "      <td>15094641.0</td>\n",
       "      <td>2919 Twinmill Dr NE</td>\n",
       "      <td>52317</td>\n",
       "      <td>391000</td>\n",
       "      <td>2016-04-29 04:00:00</td>\n",
       "    </tr>\n",
       "    <tr>\n",
       "      <th>2</th>\n",
       "      <td>28669049.0</td>\n",
       "      <td>0401HWG33977GJBG3CXVYS</td>\n",
       "      <td>0_parcel</td>\n",
       "      <td>3065 RIVER OAKS DR NE</td>\n",
       "      <td>52317.0</td>\n",
       "      <td>86500.0</td>\n",
       "      <td>2005-02-22 00:00:00</td>\n",
       "      <td>15111265.0</td>\n",
       "      <td>3065 NE River Oaks Drive</td>\n",
       "      <td>52317</td>\n",
       "      <td>740000</td>\n",
       "      <td>2022-09-06 04:00:00</td>\n",
       "    </tr>\n",
       "    <tr>\n",
       "      <th>3</th>\n",
       "      <td>28725109.0</td>\n",
       "      <td>04069M114XDGDF56MUFRWA</td>\n",
       "      <td>0_parcel</td>\n",
       "      <td>411 W ZELLER ST</td>\n",
       "      <td>52317.0</td>\n",
       "      <td>81000.0</td>\n",
       "      <td>2008-12-22 00:00:00</td>\n",
       "      <td>15173866.0</td>\n",
       "      <td>407-417 W Zeller St.</td>\n",
       "      <td>52317</td>\n",
       "      <td>430000</td>\n",
       "      <td>2017-08-30 04:02:00</td>\n",
       "    </tr>\n",
       "    <tr>\n",
       "      <th>4</th>\n",
       "      <td>28725109.0</td>\n",
       "      <td>0402LD3XHYDL7W4SNMBNP9</td>\n",
       "      <td>0_parcel</td>\n",
       "      <td>421 W ZELLER ST</td>\n",
       "      <td>52317.0</td>\n",
       "      <td>87500.0</td>\n",
       "      <td>2005-09-01 00:00:00</td>\n",
       "      <td>15173866.0</td>\n",
       "      <td>407-417 W Zeller St.</td>\n",
       "      <td>52317</td>\n",
       "      <td>430000</td>\n",
       "      <td>2017-08-30 04:02:00</td>\n",
       "    </tr>\n",
       "  </tbody>\n",
       "</table>\n",
       "</div>"
      ],
      "text/plain": [
       "           id                DEED_LID type_of_match              SITE_ADDR  \\\n",
       "0  28747425.0  0403SWCLXFK4C6Y7NB1B5M      0_parcel         1199 TIMBER LN   \n",
       "1  28700133.0  0407N8TZNF4Z90TLFCNTXH      0_parcel   2919 TWIN MILL DR NE   \n",
       "2  28669049.0  0401HWG33977GJBG3CXVYS      0_parcel  3065 RIVER OAKS DR NE   \n",
       "3  28725109.0  04069M114XDGDF56MUFRWA      0_parcel        411 W ZELLER ST   \n",
       "4  28725109.0  0402LD3XHYDL7W4SNMBNP9      0_parcel        421 W ZELLER ST   \n",
       "\n",
       "   SITE_ZIP  VAL_TRANSFER        DATE_TRANSFER  building_id  \\\n",
       "0   52772.0       30000.0  2007-05-25 00:00:00   15139333.0   \n",
       "1   52317.0       45000.0  2012-10-09 00:00:00   15094641.0   \n",
       "2   52317.0       86500.0  2005-02-22 00:00:00   15111265.0   \n",
       "3   52317.0       81000.0  2008-12-22 00:00:00   15173866.0   \n",
       "4   52317.0       87500.0  2005-09-01 00:00:00   15173866.0   \n",
       "\n",
       "                    address    zip  sold_price          last_event  \n",
       "0           333 Timber Lane  52772      257500 2015-03-27 04:00:00  \n",
       "1       2919 Twinmill Dr NE  52317      391000 2016-04-29 04:00:00  \n",
       "2  3065 NE River Oaks Drive  52317      740000 2022-09-06 04:00:00  \n",
       "3      407-417 W Zeller St.  52317      430000 2017-08-30 04:02:00  \n",
       "4      407-417 W Zeller St.  52317      430000 2017-08-30 04:02:00  "
      ]
     },
     "execution_count": 30,
     "metadata": {},
     "output_type": "execute_result"
    }
   ],
   "source": [
    "extreme_bucket[['id', 'DEED_LID', 'type_of_match', 'SITE_ADDR', 'SITE_ZIP', 'VAL_TRANSFER', 'DATE_TRANSFER', 'building_id', 'address', 'zip', 'sold_price', 'last_event']].head()"
   ]
  },
  {
   "cell_type": "code",
   "execution_count": 31,
   "metadata": {},
   "outputs": [],
   "source": [
    "output = {}\n",
    "for k in retdict:\n",
    "    bucket = retdict[k].merge(deeds_df, on='DEED_LID', how='inner').merge(closings, on='id', how='inner')[['id', 'DEED_LID', 'type_of_match', 'SITE_ADDR', 'SITE_ZIP', 'VAL_TRANSFER', 'DATE_TRANSFER', 'building_id', 'address', 'zip', 'sold_price', 'last_event']]\n",
    "    try:\n",
    "        try:\n",
    "            output[f'{k[0][0].days}-{k[0][1].days} days,{k[1][0]*100:.0f}%-{k[1][1]*100:.0f}% price'] = bucket\n",
    "        except:\n",
    "            output[f'{k[0][0].days}-{k[0][1].days} days,>{k[1][0]*100:.0f}% price'] = bucket\n",
    "    except:\n",
    "        try:\n",
    "            output[f'>{k[0][0].days} days,{k[1][0]*100:.0f}%-{k[1][1]*100:.0f}% price'] = bucket\n",
    "        except:\n",
    "            output[f'>{k[0][0].days} days,>{k[1][0]*100:.0f}% price'] = bucket"
   ]
  },
  {
   "cell_type": "code",
   "execution_count": 32,
   "metadata": {},
   "outputs": [],
   "source": [
    "def report_writer(dfs:dict, report_name:str):\n",
    "    \"\"\"Creates an excel report using a dictionary of dfs.\n",
    "\n",
    "    Args:\n",
    "        dfs (dict): Data\n",
    "        report_name (str): Name of file.\n",
    "    \"\"\"\n",
    "    writer = pd.ExcelWriter(report_name, engine='xlsxwriter')\n",
    "    workbook = writer.book\n",
    "    format = workbook.add_format()\n",
    "    format.set_align('center')\n",
    "    for sheetname, df in dfs.items():\n",
    "        df.to_excel(writer, sheet_name=sheetname, index=False)\n",
    "        worksheet = writer.sheets[sheetname]\n",
    "        for idx, col in enumerate(df):\n",
    "            series =df[col]\n",
    "            max_len = max((\n",
    "                series.astype(str).map(len).max(),\n",
    "                len(str(series.name))\n",
    "            ))+1\n",
    "            worksheet.set_column(idx, idx, max_len, format)\n",
    "\n",
    "    writer.close()"
   ]
  },
  {
   "cell_type": "code",
   "execution_count": 33,
   "metadata": {},
   "outputs": [],
   "source": [
    "report_writer(output, 'matches_by_bucket.xlsx')"
   ]
  },
  {
   "cell_type": "code",
   "execution_count": 34,
   "metadata": {},
   "outputs": [],
   "source": [
    "all_matches = []\n",
    "for k in retdict:\n",
    "    all_matches += list(retdict[k]['id'])"
   ]
  },
  {
   "cell_type": "code",
   "execution_count": 35,
   "metadata": {},
   "outputs": [],
   "source": [
    "closings[~closings['id'].isin(all_matches)].to_clipboard(index=False)"
   ]
  },
  {
   "cell_type": "code",
   "execution_count": 36,
   "metadata": {},
   "outputs": [
    {
     "data": {
      "text/html": [
       "<div>\n",
       "<style scoped>\n",
       "    .dataframe tbody tr th:only-of-type {\n",
       "        vertical-align: middle;\n",
       "    }\n",
       "\n",
       "    .dataframe tbody tr th {\n",
       "        vertical-align: top;\n",
       "    }\n",
       "\n",
       "    .dataframe thead th {\n",
       "        text-align: right;\n",
       "    }\n",
       "</style>\n",
       "<table border=\"1\" class=\"dataframe\">\n",
       "  <thead>\n",
       "    <tr style=\"text-align: right;\">\n",
       "      <th></th>\n",
       "      <th>DEED_LID</th>\n",
       "      <th>SITE_ADDR</th>\n",
       "      <th>SITE_CITY</th>\n",
       "      <th>SITE_ZIP</th>\n",
       "      <th>DATE_TRANSFER</th>\n",
       "      <th>VAL_TRANSFER</th>\n",
       "      <th>SITE_HOUSE_NUMBER</th>\n",
       "      <th>SITE_DIRECTION</th>\n",
       "      <th>SITE_STREET_NAME</th>\n",
       "      <th>SITE_UNIT_NUMBER</th>\n",
       "      <th>SITE_MODE</th>\n",
       "      <th>ASSESSMENT_LID</th>\n",
       "    </tr>\n",
       "  </thead>\n",
       "  <tbody>\n",
       "    <tr>\n",
       "      <th>1208160</th>\n",
       "      <td>0405S8YI76A7UDO96QYMQM</td>\n",
       "      <td>2230 PEMBROKESHIRE DR</td>\n",
       "      <td>CORALVILLE</td>\n",
       "      <td>52241.0</td>\n",
       "      <td>2020-02-28 00:00:00</td>\n",
       "      <td>225000.0</td>\n",
       "      <td>2230</td>\n",
       "      <td>NaN</td>\n",
       "      <td>PEMBROKESHIRE</td>\n",
       "      <td>NaN</td>\n",
       "      <td>DR</td>\n",
       "      <td>0303Q6JP48Y57TREIZ6W2T</td>\n",
       "    </tr>\n",
       "  </tbody>\n",
       "</table>\n",
       "</div>"
      ],
      "text/plain": [
       "                       DEED_LID              SITE_ADDR   SITE_CITY  SITE_ZIP  \\\n",
       "1208160  0405S8YI76A7UDO96QYMQM  2230 PEMBROKESHIRE DR  CORALVILLE   52241.0   \n",
       "\n",
       "               DATE_TRANSFER  VAL_TRANSFER SITE_HOUSE_NUMBER SITE_DIRECTION  \\\n",
       "1208160  2020-02-28 00:00:00      225000.0              2230            NaN   \n",
       "\n",
       "        SITE_STREET_NAME SITE_UNIT_NUMBER SITE_MODE          ASSESSMENT_LID  \n",
       "1208160    PEMBROKESHIRE              NaN        DR  0303Q6JP48Y57TREIZ6W2T  "
      ]
     },
     "execution_count": 36,
     "metadata": {},
     "output_type": "execute_result"
    }
   ],
   "source": [
    "deeds_df[deeds_df['DEED_LID']=='0405S8YI76A7UDO96QYMQM']"
   ]
  },
  {
   "cell_type": "code",
   "execution_count": 4,
   "metadata": {},
   "outputs": [],
   "source": [
    "deeds = pd.read_csv('Deed_IA.csv')\n",
    "#deeds[deeds['DEED_LID'] == '0405S8YI76A7UDO96QYMQM']"
   ]
  },
  {
   "cell_type": "code",
   "execution_count": 38,
   "metadata": {},
   "outputs": [],
   "source": [
    "#deeds[deeds['DEED_LID'] == '0404RAXJMNEKZYV3N3A5FF']"
   ]
  },
  {
   "cell_type": "code",
   "execution_count": 39,
   "metadata": {},
   "outputs": [],
   "source": [
    "#deeds[(~deeds['SITE_ADDR'].isna()) & (deeds['SITE_STREET_NAME'].isna())]"
   ]
  },
  {
   "cell_type": "code",
   "execution_count": 40,
   "metadata": {},
   "outputs": [],
   "source": [
    "#(len(deeds) - len(deeds[(~deeds['SITE_ADDR'].isna()) & (deeds['SITE_STREET_NAME'].isna())]))/len(deeds)"
   ]
  },
  {
   "cell_type": "code",
   "execution_count": 41,
   "metadata": {},
   "outputs": [],
   "source": [
    "#deeds.groupby('DOC_TYPE_DESC')['DEED_LID'].nunique().sort_values(ascending=False)"
   ]
  },
  {
   "cell_type": "code",
   "execution_count": 42,
   "metadata": {},
   "outputs": [],
   "source": [
    "with open('data/threshold_match.pkl', 'rb') as f:\n",
    "    threshold_match = pkl.load(f)\n",
    "\n",
    "threshold_match['type_of_match'] = ['4_threshold']*len(threshold_match)"
   ]
  },
  {
   "cell_type": "code",
   "execution_count": 33,
   "metadata": {},
   "outputs": [
    {
     "data": {
      "application/vnd.jupyter.widget-view+json": {
       "model_id": "8d8b842a728a4c3cab134d0f3b80eced",
       "version_major": 2,
       "version_minor": 0
      },
      "text/plain": [
       "  0%|          | 0/7643 [00:00<?, ?it/s]"
      ]
     },
     "metadata": {},
     "output_type": "display_data"
    },
    {
     "name": "stdout",
     "output_type": "stream",
     "text": [
      "done threshold match: 3234 out of 7643\n",
      "42.31322779013477%\n"
     ]
    }
   ],
   "source": [
    "import e_threshold_matching\n",
    "threshold_match = e_threshold_matching.main((timedelta(days=0), timedelta(days=30)), (0, 0.1))"
   ]
  },
  {
   "cell_type": "code",
   "execution_count": 34,
   "metadata": {},
   "outputs": [
    {
     "name": "stdout",
     "output_type": "stream",
     "text": [
      "8594\n"
     ]
    }
   ],
   "source": [
    "threshold_match['type_of_match'] = ['4_threshold']*len(threshold_match)\n",
    "bucket = threshold_match.merge(deeds_df, on='DEED_LID', how='inner').merge(closings, on='id', how='inner')[['id', 'DEED_LID', 'type_of_match', 'SITE_ADDR', 'SITE_ZIP', 'VAL_TRANSFER', 'DATE_TRANSFER', 'building_id', 'address', 'zip', 'sold_price', 'last_event']]\n",
    "print(len(bucket))"
   ]
  },
  {
   "cell_type": "code",
   "execution_count": 35,
   "metadata": {},
   "outputs": [],
   "source": [
    "bucket.to_clipboard(index=False)"
   ]
  },
  {
   "cell_type": "code",
   "execution_count": 36,
   "metadata": {},
   "outputs": [
    {
     "data": {
      "text/html": [
       "<div>\n",
       "<style scoped>\n",
       "    .dataframe tbody tr th:only-of-type {\n",
       "        vertical-align: middle;\n",
       "    }\n",
       "\n",
       "    .dataframe tbody tr th {\n",
       "        vertical-align: top;\n",
       "    }\n",
       "\n",
       "    .dataframe thead th {\n",
       "        text-align: right;\n",
       "    }\n",
       "</style>\n",
       "<table border=\"1\" class=\"dataframe\">\n",
       "  <thead>\n",
       "    <tr style=\"text-align: right;\">\n",
       "      <th></th>\n",
       "      <th>id</th>\n",
       "      <th>DEED_LID</th>\n",
       "      <th>type_of_match</th>\n",
       "      <th>SITE_ADDR</th>\n",
       "      <th>SITE_ZIP</th>\n",
       "      <th>VAL_TRANSFER</th>\n",
       "      <th>DATE_TRANSFER</th>\n",
       "      <th>building_id</th>\n",
       "      <th>address</th>\n",
       "      <th>zip</th>\n",
       "      <th>sold_price</th>\n",
       "      <th>last_event</th>\n",
       "    </tr>\n",
       "  </thead>\n",
       "  <tbody>\n",
       "    <tr>\n",
       "      <th>1195</th>\n",
       "      <td>28720421</td>\n",
       "      <td>0404BTSXZMKXPJSBVYS8J9</td>\n",
       "      <td>4_threshold</td>\n",
       "      <td>515 HIGHWAY 1 S</td>\n",
       "      <td>52353.0</td>\n",
       "      <td>98000.0</td>\n",
       "      <td>2014-09-12 00:00:00</td>\n",
       "      <td>NaN</td>\n",
       "      <td>515 Hwy 1</td>\n",
       "      <td>52353</td>\n",
       "      <td>98000</td>\n",
       "      <td>2014-09-12 04:00:00</td>\n",
       "    </tr>\n",
       "    <tr>\n",
       "      <th>6663</th>\n",
       "      <td>28732224</td>\n",
       "      <td>040245RICZD5N8Y3GKJ9ZP</td>\n",
       "      <td>4_threshold</td>\n",
       "      <td>1385 SALM DR</td>\n",
       "      <td>52317.0</td>\n",
       "      <td>135000.0</td>\n",
       "      <td>2017-09-29 00:00:00</td>\n",
       "      <td>NaN</td>\n",
       "      <td>Lot 33 Scanlon North Ridge</td>\n",
       "      <td>52317</td>\n",
       "      <td>135000</td>\n",
       "      <td>2017-09-29 04:00:00</td>\n",
       "    </tr>\n",
       "    <tr>\n",
       "      <th>8143</th>\n",
       "      <td>28732905</td>\n",
       "      <td>0405TSE7ZR0S8TG7DD8K8Q</td>\n",
       "      <td>4_threshold</td>\n",
       "      <td>RUNDELL ST</td>\n",
       "      <td>52240.0</td>\n",
       "      <td>62000.0</td>\n",
       "      <td>2018-09-10 00:00:00</td>\n",
       "      <td>NaN</td>\n",
       "      <td>2764/2774 Blazing Star Dr</td>\n",
       "      <td>52240</td>\n",
       "      <td>60000</td>\n",
       "      <td>2018-09-21 04:00:00</td>\n",
       "    </tr>\n",
       "    <tr>\n",
       "      <th>8115</th>\n",
       "      <td>28728988</td>\n",
       "      <td>04035YOW1SJNVTYK5BAFQ7</td>\n",
       "      <td>4_threshold</td>\n",
       "      <td>909 HORIZON DR</td>\n",
       "      <td>52340.0</td>\n",
       "      <td>92500.0</td>\n",
       "      <td>2018-08-28 00:00:00</td>\n",
       "      <td>14875615.0</td>\n",
       "      <td>1107 Croell Ave</td>\n",
       "      <td>52340</td>\n",
       "      <td>92500</td>\n",
       "      <td>2018-08-15 04:00:00</td>\n",
       "    </tr>\n",
       "    <tr>\n",
       "      <th>625</th>\n",
       "      <td>28751376</td>\n",
       "      <td>040339FDRL1JVDI10JZ9CE</td>\n",
       "      <td>4_threshold</td>\n",
       "      <td>3114 WINTERGREEN DR</td>\n",
       "      <td>52240.0</td>\n",
       "      <td>260000.0</td>\n",
       "      <td>2013-07-10 00:00:00</td>\n",
       "      <td>15104712.0</td>\n",
       "      <td>3025 Jasper Avenue NW</td>\n",
       "      <td>52240</td>\n",
       "      <td>282250</td>\n",
       "      <td>2013-07-11 04:00:00</td>\n",
       "    </tr>\n",
       "    <tr>\n",
       "      <th>1969</th>\n",
       "      <td>28706133</td>\n",
       "      <td>04060K1K2NSPDF556ZSXFD</td>\n",
       "      <td>4_threshold</td>\n",
       "      <td>1235 COPPER MOUNTAIN DR</td>\n",
       "      <td>52317.0</td>\n",
       "      <td>65000.0</td>\n",
       "      <td>2013-03-12 00:00:00</td>\n",
       "      <td>NaN</td>\n",
       "      <td>Lot 7 Locust Ridge Rd</td>\n",
       "      <td>52317</td>\n",
       "      <td>65000</td>\n",
       "      <td>2013-03-01 05:00:00</td>\n",
       "    </tr>\n",
       "    <tr>\n",
       "      <th>7012</th>\n",
       "      <td>28733441</td>\n",
       "      <td>0407KVB2IPGCDRST507XTX</td>\n",
       "      <td>4_threshold</td>\n",
       "      <td>2415 110TH ST</td>\n",
       "      <td>52247.0</td>\n",
       "      <td>120000.0</td>\n",
       "      <td>2023-07-19 00:00:00</td>\n",
       "      <td>NaN</td>\n",
       "      <td>Lot 10 North Ridge Place</td>\n",
       "      <td>52247</td>\n",
       "      <td>125000</td>\n",
       "      <td>2023-06-30 04:00:00</td>\n",
       "    </tr>\n",
       "    <tr>\n",
       "      <th>373</th>\n",
       "      <td>28732348</td>\n",
       "      <td>0403N9CFSO3EIMNZD8LWLR</td>\n",
       "      <td>4_threshold</td>\n",
       "      <td>775 CHUKAR CIR</td>\n",
       "      <td>52317.0</td>\n",
       "      <td>62500.0</td>\n",
       "      <td>2012-05-07 00:00:00</td>\n",
       "      <td>NaN</td>\n",
       "      <td>Lot 20 WOOD DUCK CT</td>\n",
       "      <td>52317</td>\n",
       "      <td>65000</td>\n",
       "      <td>2012-04-27 04:00:00</td>\n",
       "    </tr>\n",
       "    <tr>\n",
       "      <th>5903</th>\n",
       "      <td>28655474</td>\n",
       "      <td>0400PFVZFVDEACF4HUXTL5</td>\n",
       "      <td>4_threshold</td>\n",
       "      <td>1500 PARKLAND DR</td>\n",
       "      <td>52227.0</td>\n",
       "      <td>337500.0</td>\n",
       "      <td>2017-07-17 00:00:00</td>\n",
       "      <td>NaN</td>\n",
       "      <td>2010 ROGERS CREEK RD.</td>\n",
       "      <td>52227</td>\n",
       "      <td>307000</td>\n",
       "      <td>2017-06-26 04:00:00</td>\n",
       "    </tr>\n",
       "    <tr>\n",
       "      <th>4975</th>\n",
       "      <td>28728595</td>\n",
       "      <td>0407IQGZ2PT09N4RFSQVKA</td>\n",
       "      <td>4_threshold</td>\n",
       "      <td>603 2ND ST SW</td>\n",
       "      <td>52404.0</td>\n",
       "      <td>110000.0</td>\n",
       "      <td>2015-04-20 00:00:00</td>\n",
       "      <td>NaN</td>\n",
       "      <td>5120 Burr Oak Ct. SW</td>\n",
       "      <td>52404</td>\n",
       "      <td>120000</td>\n",
       "      <td>2015-04-30 04:00:00</td>\n",
       "    </tr>\n",
       "  </tbody>\n",
       "</table>\n",
       "</div>"
      ],
      "text/plain": [
       "            id                DEED_LID type_of_match                SITE_ADDR  \\\n",
       "1195  28720421  0404BTSXZMKXPJSBVYS8J9   4_threshold          515 HIGHWAY 1 S   \n",
       "6663  28732224  040245RICZD5N8Y3GKJ9ZP   4_threshold             1385 SALM DR   \n",
       "8143  28732905  0405TSE7ZR0S8TG7DD8K8Q   4_threshold               RUNDELL ST   \n",
       "8115  28728988  04035YOW1SJNVTYK5BAFQ7   4_threshold           909 HORIZON DR   \n",
       "625   28751376  040339FDRL1JVDI10JZ9CE   4_threshold      3114 WINTERGREEN DR   \n",
       "1969  28706133  04060K1K2NSPDF556ZSXFD   4_threshold  1235 COPPER MOUNTAIN DR   \n",
       "7012  28733441  0407KVB2IPGCDRST507XTX   4_threshold            2415 110TH ST   \n",
       "373   28732348  0403N9CFSO3EIMNZD8LWLR   4_threshold           775 CHUKAR CIR   \n",
       "5903  28655474  0400PFVZFVDEACF4HUXTL5   4_threshold         1500 PARKLAND DR   \n",
       "4975  28728595  0407IQGZ2PT09N4RFSQVKA   4_threshold            603 2ND ST SW   \n",
       "\n",
       "      SITE_ZIP  VAL_TRANSFER        DATE_TRANSFER  building_id  \\\n",
       "1195   52353.0       98000.0  2014-09-12 00:00:00          NaN   \n",
       "6663   52317.0      135000.0  2017-09-29 00:00:00          NaN   \n",
       "8143   52240.0       62000.0  2018-09-10 00:00:00          NaN   \n",
       "8115   52340.0       92500.0  2018-08-28 00:00:00   14875615.0   \n",
       "625    52240.0      260000.0  2013-07-10 00:00:00   15104712.0   \n",
       "1969   52317.0       65000.0  2013-03-12 00:00:00          NaN   \n",
       "7012   52247.0      120000.0  2023-07-19 00:00:00          NaN   \n",
       "373    52317.0       62500.0  2012-05-07 00:00:00          NaN   \n",
       "5903   52227.0      337500.0  2017-07-17 00:00:00          NaN   \n",
       "4975   52404.0      110000.0  2015-04-20 00:00:00          NaN   \n",
       "\n",
       "                         address    zip  sold_price          last_event  \n",
       "1195                   515 Hwy 1  52353       98000 2014-09-12 04:00:00  \n",
       "6663  Lot 33 Scanlon North Ridge  52317      135000 2017-09-29 04:00:00  \n",
       "8143   2764/2774 Blazing Star Dr  52240       60000 2018-09-21 04:00:00  \n",
       "8115             1107 Croell Ave  52340       92500 2018-08-15 04:00:00  \n",
       "625        3025 Jasper Avenue NW  52240      282250 2013-07-11 04:00:00  \n",
       "1969       Lot 7 Locust Ridge Rd  52317       65000 2013-03-01 05:00:00  \n",
       "7012    Lot 10 North Ridge Place  52247      125000 2023-06-30 04:00:00  \n",
       "373          Lot 20 WOOD DUCK CT  52317       65000 2012-04-27 04:00:00  \n",
       "5903       2010 ROGERS CREEK RD.  52227      307000 2017-06-26 04:00:00  \n",
       "4975        5120 Burr Oak Ct. SW  52404      120000 2015-04-30 04:00:00  "
      ]
     },
     "execution_count": 36,
     "metadata": {},
     "output_type": "execute_result"
    }
   ],
   "source": [
    "bucket.sample(10)"
   ]
  },
  {
   "cell_type": "code",
   "execution_count": null,
   "metadata": {},
   "outputs": [],
   "source": []
  }
 ],
 "metadata": {
  "kernelspec": {
   "display_name": "pw",
   "language": "python",
   "name": "python3"
  },
  "language_info": {
   "codemirror_mode": {
    "name": "ipython",
    "version": 3
   },
   "file_extension": ".py",
   "mimetype": "text/x-python",
   "name": "python",
   "nbconvert_exporter": "python",
   "pygments_lexer": "ipython3",
   "version": "3.10.12"
  }
 },
 "nbformat": 4,
 "nbformat_minor": 2
}
