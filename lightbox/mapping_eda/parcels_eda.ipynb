{
 "cells": [
  {
   "cell_type": "code",
   "execution_count": 1,
   "metadata": {},
   "outputs": [],
   "source": [
    "import pandas as pd\n",
    "from tqdm.auto import tqdm\n",
    "import folium\n",
    "import shapely\n",
    "import geopandas as gpd"
   ]
  },
  {
   "cell_type": "code",
   "execution_count": 2,
   "metadata": {},
   "outputs": [
    {
     "name": "stderr",
     "output_type": "stream",
     "text": [
      "/var/folders/6l/yzmcq93j41zf3wrth_tyl6g80000gn/T/ipykernel_69166/1202796510.py:1: DtypeWarning: Columns (3) have mixed types. Specify dtype option on import or set low_memory=False.\n",
      "  df = pd.read_csv(\"data/SF_Professional_OH_20240715/Parcels_OH.csv\")\n"
     ]
    },
    {
     "data": {
      "text/html": [
       "<div>\n",
       "<style scoped>\n",
       "    .dataframe tbody tr th:only-of-type {\n",
       "        vertical-align: middle;\n",
       "    }\n",
       "\n",
       "    .dataframe tbody tr th {\n",
       "        vertical-align: top;\n",
       "    }\n",
       "\n",
       "    .dataframe thead th {\n",
       "        text-align: right;\n",
       "    }\n",
       "</style>\n",
       "<table border=\"1\" class=\"dataframe\">\n",
       "  <thead>\n",
       "    <tr style=\"text-align: right;\">\n",
       "      <th></th>\n",
       "      <th>GEOMETRY</th>\n",
       "      <th>PARCEL_LID</th>\n",
       "      <th>FIPS_CODE</th>\n",
       "      <th>PARCEL_APN</th>\n",
       "      <th>AGGR_ACREAGE</th>\n",
       "      <th>AGGR_GROUP</th>\n",
       "      <th>AGGR_LOT_WIDTH_MEDIAN</th>\n",
       "      <th>AGGR_LOT_COUNT</th>\n",
       "      <th>ASSOCIATED_ASSESSMENT_COUNT</th>\n",
       "      <th>PRIMARY_ASSESSMENT_LID</th>\n",
       "      <th>PRIMARY_BUILDING_LID</th>\n",
       "    </tr>\n",
       "  </thead>\n",
       "  <tbody>\n",
       "    <tr>\n",
       "      <th>0</th>\n",
       "      <td>MULTIPOLYGON (((-83.1698589042381 40.142254874...</td>\n",
       "      <td>0206Y0A73FQFDQHR0T5W0C</td>\n",
       "      <td>39049</td>\n",
       "      <td>273-000395</td>\n",
       "      <td>1.46</td>\n",
       "      <td>100660192_172776649</td>\n",
       "      <td>165.0</td>\n",
       "      <td>2</td>\n",
       "      <td>1.0</td>\n",
       "      <td>03000W5RAAXOU35DKIQXSQ</td>\n",
       "      <td>NaN</td>\n",
       "    </tr>\n",
       "    <tr>\n",
       "      <th>1</th>\n",
       "      <td>MULTIPOLYGON (((-83.1686299819446 40.140341464...</td>\n",
       "      <td>0203NCLMW10GJBHKYHNLDR</td>\n",
       "      <td>39049</td>\n",
       "      <td>273-012864</td>\n",
       "      <td>47.99</td>\n",
       "      <td>526376163_11450</td>\n",
       "      <td>56.0</td>\n",
       "      <td>11</td>\n",
       "      <td>1.0</td>\n",
       "      <td>0305I07FAFRS8H5CZVNLU3</td>\n",
       "      <td>NaN</td>\n",
       "    </tr>\n",
       "    <tr>\n",
       "      <th>2</th>\n",
       "      <td>MULTIPOLYGON (((-83.1692111585599 40.142321776...</td>\n",
       "      <td>0203904GLKHARIIY026MQ4</td>\n",
       "      <td>39049</td>\n",
       "      <td>273-000362</td>\n",
       "      <td>1.46</td>\n",
       "      <td>100660192_172776649</td>\n",
       "      <td>165.0</td>\n",
       "      <td>2</td>\n",
       "      <td>1.0</td>\n",
       "      <td>03044M2J8SLQ7P1MUDTTQX</td>\n",
       "      <td>NaN</td>\n",
       "    </tr>\n",
       "    <tr>\n",
       "      <th>3</th>\n",
       "      <td>MULTIPOLYGON (((-83.1682168360375 40.141944265...</td>\n",
       "      <td>0205TT7832JH2MGHGNLWX6</td>\n",
       "      <td>39049</td>\n",
       "      <td>273-012855</td>\n",
       "      <td>0.27</td>\n",
       "      <td>533796168_659</td>\n",
       "      <td>NaN</td>\n",
       "      <td>1</td>\n",
       "      <td>1.0</td>\n",
       "      <td>0303HV6Q8ZXKC1ULG2GA9G</td>\n",
       "      <td>0505FUGA4SS46FCOYFPUUX</td>\n",
       "    </tr>\n",
       "    <tr>\n",
       "      <th>4</th>\n",
       "      <td>MULTIPOLYGON (((-83.1673269809366 40.142133897...</td>\n",
       "      <td>0202TMQ1GFBBRM4RZD9POK</td>\n",
       "      <td>39049</td>\n",
       "      <td>273-012810</td>\n",
       "      <td>0.27</td>\n",
       "      <td>526376163_11536</td>\n",
       "      <td>NaN</td>\n",
       "      <td>1</td>\n",
       "      <td>1.0</td>\n",
       "      <td>0300M7J20T9BGPQBUJ6BQY</td>\n",
       "      <td>0502WRKPEJ30EY3MZJ4LZX</td>\n",
       "    </tr>\n",
       "  </tbody>\n",
       "</table>\n",
       "</div>"
      ],
      "text/plain": [
       "                                            GEOMETRY              PARCEL_LID  \\\n",
       "0  MULTIPOLYGON (((-83.1698589042381 40.142254874...  0206Y0A73FQFDQHR0T5W0C   \n",
       "1  MULTIPOLYGON (((-83.1686299819446 40.140341464...  0203NCLMW10GJBHKYHNLDR   \n",
       "2  MULTIPOLYGON (((-83.1692111585599 40.142321776...  0203904GLKHARIIY026MQ4   \n",
       "3  MULTIPOLYGON (((-83.1682168360375 40.141944265...  0205TT7832JH2MGHGNLWX6   \n",
       "4  MULTIPOLYGON (((-83.1673269809366 40.142133897...  0202TMQ1GFBBRM4RZD9POK   \n",
       "\n",
       "   FIPS_CODE  PARCEL_APN  AGGR_ACREAGE           AGGR_GROUP  \\\n",
       "0      39049  273-000395          1.46  100660192_172776649   \n",
       "1      39049  273-012864         47.99      526376163_11450   \n",
       "2      39049  273-000362          1.46  100660192_172776649   \n",
       "3      39049  273-012855          0.27        533796168_659   \n",
       "4      39049  273-012810          0.27      526376163_11536   \n",
       "\n",
       "   AGGR_LOT_WIDTH_MEDIAN  AGGR_LOT_COUNT  ASSOCIATED_ASSESSMENT_COUNT  \\\n",
       "0                  165.0               2                          1.0   \n",
       "1                   56.0              11                          1.0   \n",
       "2                  165.0               2                          1.0   \n",
       "3                    NaN               1                          1.0   \n",
       "4                    NaN               1                          1.0   \n",
       "\n",
       "   PRIMARY_ASSESSMENT_LID    PRIMARY_BUILDING_LID  \n",
       "0  03000W5RAAXOU35DKIQXSQ                     NaN  \n",
       "1  0305I07FAFRS8H5CZVNLU3                     NaN  \n",
       "2  03044M2J8SLQ7P1MUDTTQX                     NaN  \n",
       "3  0303HV6Q8ZXKC1ULG2GA9G  0505FUGA4SS46FCOYFPUUX  \n",
       "4  0300M7J20T9BGPQBUJ6BQY  0502WRKPEJ30EY3MZJ4LZX  "
      ]
     },
     "execution_count": 2,
     "metadata": {},
     "output_type": "execute_result"
    }
   ],
   "source": [
    "df = pd.read_csv(\"data/SF_Professional_OH_20240715/Parcels_OH.csv\")\n",
    "df.head()"
   ]
  },
  {
   "cell_type": "code",
   "execution_count": 3,
   "metadata": {},
   "outputs": [
    {
     "data": {
      "application/vnd.jupyter.widget-view+json": {
       "model_id": "985bf2b99a7645268e33410a921b65dd",
       "version_major": 2,
       "version_minor": 0
      },
      "text/plain": [
       "  0%|          | 0/6088419 [00:00<?, ?it/s]"
      ]
     },
     "metadata": {},
     "output_type": "display_data"
    }
   ],
   "source": [
    "df['GEOMETRY'] = [shapely.from_wkt(x) for x in tqdm(df['GEOMETRY'])]\n",
    "df = gpd.GeoDataFrame(df, geometry='GEOMETRY', crs='EPSG:4326')"
   ]
  },
  {
   "cell_type": "code",
   "execution_count": 4,
   "metadata": {},
   "outputs": [],
   "source": [
    "df['GEOMETRY'].to_file('data/parcels.geojson', driver='GeoJSON')"
   ]
  },
  {
   "cell_type": "code",
   "execution_count": 5,
   "metadata": {},
   "outputs": [],
   "source": [
    "m = folium.Map(location=(39.9833, -82.98333), tiles=\"CartoDB positron\", zoom_start=6, control_scale=True)\n",
    "buildings_viz = folium.GeoJson(df)"
   ]
  },
  {
   "cell_type": "code",
   "execution_count": 6,
   "metadata": {},
   "outputs": [
    {
     "data": {
      "text/plain": [
       "<folium.features.GeoJson at 0x107a920f0>"
      ]
     },
     "execution_count": 6,
     "metadata": {},
     "output_type": "execute_result"
    }
   ],
   "source": [
    "buildings_viz.add_to(m)"
   ]
  },
  {
   "cell_type": "code",
   "execution_count": 7,
   "metadata": {},
   "outputs": [],
   "source": [
    "m.save('data/parcel_geos.html')"
   ]
  },
  {
   "cell_type": "code",
   "execution_count": null,
   "metadata": {},
   "outputs": [],
   "source": []
  }
 ],
 "metadata": {
  "kernelspec": {
   "display_name": "pw_3.12",
   "language": "python",
   "name": "python3"
  },
  "language_info": {
   "codemirror_mode": {
    "name": "ipython",
    "version": 3
   },
   "file_extension": ".py",
   "mimetype": "text/x-python",
   "name": "python",
   "nbconvert_exporter": "python",
   "pygments_lexer": "ipython3",
   "version": "3.12.4"
  }
 },
 "nbformat": 4,
 "nbformat_minor": 2
}
