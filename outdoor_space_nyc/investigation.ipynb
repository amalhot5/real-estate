{
 "cells": [
  {
   "cell_type": "code",
   "execution_count": 1,
   "metadata": {},
   "outputs": [],
   "source": [
    "import pandas as pd"
   ]
  },
  {
   "cell_type": "code",
   "execution_count": 2,
   "metadata": {},
   "outputs": [
    {
     "data": {
      "text/html": [
       "<div>\n",
       "<style scoped>\n",
       "    .dataframe tbody tr th:only-of-type {\n",
       "        vertical-align: middle;\n",
       "    }\n",
       "\n",
       "    .dataframe tbody tr th {\n",
       "        vertical-align: top;\n",
       "    }\n",
       "\n",
       "    .dataframe thead th {\n",
       "        text-align: right;\n",
       "    }\n",
       "</style>\n",
       "<table border=\"1\" class=\"dataframe\">\n",
       "  <thead>\n",
       "    <tr style=\"text-align: right;\">\n",
       "      <th></th>\n",
       "      <th>has_private_in_desc</th>\n",
       "      <th>id</th>\n",
       "      <th>address</th>\n",
       "      <th>unit_number</th>\n",
       "      <th>description</th>\n",
       "      <th>property_type_code</th>\n",
       "    </tr>\n",
       "  </thead>\n",
       "  <tbody>\n",
       "    <tr>\n",
       "      <th>0</th>\n",
       "      <td>True</td>\n",
       "      <td>20973383</td>\n",
       "      <td>18 Menayas Court</td>\n",
       "      <td>NaN</td>\n",
       "      <td>Rent your dream home. Come see this grand, sta...</td>\n",
       "      <td>590</td>\n",
       "    </tr>\n",
       "    <tr>\n",
       "      <th>1</th>\n",
       "      <td>True</td>\n",
       "      <td>7743146</td>\n",
       "      <td>332 21st St</td>\n",
       "      <td>1B</td>\n",
       "      <td>Attention gardening enthusiasts! Welcome to yo...</td>\n",
       "      <td>540</td>\n",
       "    </tr>\n",
       "    <tr>\n",
       "      <th>2</th>\n",
       "      <td>False</td>\n",
       "      <td>7645039</td>\n",
       "      <td>273 Bennett Ave</td>\n",
       "      <td>5-E</td>\n",
       "      <td>CHARMING STUDIO HOME IN FORT TRYON GARDENS&lt;br&gt;...</td>\n",
       "      <td>550</td>\n",
       "    </tr>\n",
       "    <tr>\n",
       "      <th>3</th>\n",
       "      <td>True</td>\n",
       "      <td>35024437</td>\n",
       "      <td>701 Ridge Hill Boulevard</td>\n",
       "      <td>9A</td>\n",
       "      <td>Adjust your Compass to Monarch @ Ridge Hill, W...</td>\n",
       "      <td>540</td>\n",
       "    </tr>\n",
       "    <tr>\n",
       "      <th>4</th>\n",
       "      <td>False</td>\n",
       "      <td>2171093</td>\n",
       "      <td>4 Cottage Dr</td>\n",
       "      <td>NaN</td>\n",
       "      <td>Absolutely Stunning Craftsman Style Ranch in 5...</td>\n",
       "      <td>540</td>\n",
       "    </tr>\n",
       "  </tbody>\n",
       "</table>\n",
       "</div>"
      ],
      "text/plain": [
       "   has_private_in_desc        id                   address unit_number  \\\n",
       "0                 True  20973383          18 Menayas Court         NaN   \n",
       "1                 True   7743146               332 21st St          1B   \n",
       "2                False   7645039           273 Bennett Ave         5-E   \n",
       "3                 True  35024437  701 Ridge Hill Boulevard          9A   \n",
       "4                False   2171093              4 Cottage Dr         NaN   \n",
       "\n",
       "                                         description  property_type_code  \n",
       "0  Rent your dream home. Come see this grand, sta...                 590  \n",
       "1  Attention gardening enthusiasts! Welcome to yo...                 540  \n",
       "2  CHARMING STUDIO HOME IN FORT TRYON GARDENS<br>...                 550  \n",
       "3  Adjust your Compass to Monarch @ Ridge Hill, W...                 540  \n",
       "4  Absolutely Stunning Craftsman Style Ranch in 5...                 540  "
      ]
     },
     "execution_count": 2,
     "metadata": {},
     "output_type": "execute_result"
    }
   ],
   "source": [
    "listings = pd.read_csv('data/nyc_outdoor_space_investigation.csv')\n",
    "listings.head()"
   ]
  },
  {
   "cell_type": "code",
   "execution_count": 3,
   "metadata": {},
   "outputs": [],
   "source": [
    "listings[listings['has_private_in_desc']].sample(10000, random_state=42).to_csv('data/has_private.csv', index=False)"
   ]
  },
  {
   "cell_type": "code",
   "execution_count": 4,
   "metadata": {},
   "outputs": [],
   "source": [
    "listings[~listings['has_private_in_desc']].sample(10000, random_state=42).to_csv('data/no_private.csv', index=False)"
   ]
  },
  {
   "cell_type": "code",
   "execution_count": 5,
   "metadata": {},
   "outputs": [
    {
     "name": "stdout",
     "output_type": "stream",
     "text": [
      "234590 92257\n"
     ]
    }
   ],
   "source": [
    "print(len(listings[listings['has_private_in_desc']]), len(listings[~listings['has_private_in_desc']]))"
   ]
  },
  {
   "cell_type": "markdown",
   "metadata": {},
   "source": [
    "## Checking Data in RLS"
   ]
  },
  {
   "cell_type": "code",
   "execution_count": 17,
   "metadata": {},
   "outputs": [
    {
     "data": {
      "text/html": [
       "<div>\n",
       "<style scoped>\n",
       "    .dataframe tbody tr th:only-of-type {\n",
       "        vertical-align: middle;\n",
       "    }\n",
       "\n",
       "    .dataframe tbody tr th {\n",
       "        vertical-align: top;\n",
       "    }\n",
       "\n",
       "    .dataframe thead th {\n",
       "        text-align: right;\n",
       "    }\n",
       "</style>\n",
       "<table border=\"1\" class=\"dataframe\">\n",
       "  <thead>\n",
       "    <tr style=\"text-align: right;\">\n",
       "      <th></th>\n",
       "      <th>originating_system_i_d</th>\n",
       "      <th>exterior_features</th>\n",
       "    </tr>\n",
       "  </thead>\n",
       "  <tbody>\n",
       "    <tr>\n",
       "      <th>0</th>\n",
       "      <td>BNYC</td>\n",
       "      <td>[]</td>\n",
       "    </tr>\n",
       "    <tr>\n",
       "      <th>1</th>\n",
       "      <td>BNYC</td>\n",
       "      <td>['Balcony']</td>\n",
       "    </tr>\n",
       "    <tr>\n",
       "      <th>2</th>\n",
       "      <td>BNYC</td>\n",
       "      <td>['Balcony', 'Garden']</td>\n",
       "    </tr>\n",
       "    <tr>\n",
       "      <th>3</th>\n",
       "      <td>BNYC</td>\n",
       "      <td>['Courtyard']</td>\n",
       "    </tr>\n",
       "    <tr>\n",
       "      <th>4</th>\n",
       "      <td>BNYC</td>\n",
       "      <td>['Courtyard', 'Balcony', 'Garden']</td>\n",
       "    </tr>\n",
       "  </tbody>\n",
       "</table>\n",
       "</div>"
      ],
      "text/plain": [
       "  originating_system_i_d                   exterior_features\n",
       "0                   BNYC                                  []\n",
       "1                   BNYC                         ['Balcony']\n",
       "2                   BNYC               ['Balcony', 'Garden']\n",
       "3                   BNYC                       ['Courtyard']\n",
       "4                   BNYC  ['Courtyard', 'Balcony', 'Garden']"
      ]
     },
     "execution_count": 17,
     "metadata": {},
     "output_type": "execute_result"
    }
   ],
   "source": [
    "rls_df = pd.read_csv('data/RLS_exterior_features_2024_07_29.csv')\n",
    "rls_df.head()"
   ]
  },
  {
   "cell_type": "code",
   "execution_count": 23,
   "metadata": {},
   "outputs": [
    {
     "name": "stdout",
     "output_type": "stream",
     "text": [
      "nan\n",
      "nan\n"
     ]
    },
    {
     "data": {
      "text/plain": [
       "{'BNYC': {'', 'Balcony', 'Courtyard', 'Garden'},\n",
       " 'OLRS': {'', 'Balcony', 'Garden', 'Juliet Balcony', 'Roof Deck'},\n",
       " 'PRCH': {'Awning(s)',\n",
       "  'Balcony',\n",
       "  'Barbecue',\n",
       "  'Basketball Court',\n",
       "  'Built-in Barbecue',\n",
       "  'Courtyard',\n",
       "  'Garden',\n",
       "  'Gas Grill',\n",
       "  'Juliet Balcony',\n",
       "  'Lighting',\n",
       "  'None',\n",
       "  'Other',\n",
       "  'Outdoor Grill',\n",
       "  'Outdoor Kitchen',\n",
       "  'Outdoor Shower',\n",
       "  'Playground',\n",
       "  'Private Entrance',\n",
       "  'Private Yard',\n",
       "  'Roof Deck',\n",
       "  'Storage',\n",
       "  'Tennis Court(s)',\n",
       "  'Uncovered Courtyard'},\n",
       " 'RLMX': {'Balcony',\n",
       "  'Basketball Court',\n",
       "  'Courtyard',\n",
       "  'Garden',\n",
       "  'Roof Deck',\n",
       "  'Storage'},\n",
       " 'RPLU': {'', 'Balcony', 'Juliet Balcony', 'None'}}"
      ]
     },
     "execution_count": 23,
     "metadata": {},
     "output_type": "execute_result"
    }
   ],
   "source": [
    "rls_dict = {}\n",
    "for index, row in rls_df.iterrows():\n",
    "    try:\n",
    "        s = row['exterior_features'].replace('[', '').replace(']', '').replace(\"'\", '').split(', ')\n",
    "    except:\n",
    "        print(row['exterior_features'])\n",
    "    for j in s:\n",
    "        try:\n",
    "            rls_dict[row['originating_system_i_d']].add(j)\n",
    "        except KeyError:\n",
    "            rls_dict[row['originating_system_i_d']] = {j}\n",
    "rls_dict"
   ]
  },
  {
   "cell_type": "markdown",
   "metadata": {},
   "source": [
    "## Combining Above with OCR results"
   ]
  },
  {
   "cell_type": "code",
   "execution_count": 14,
   "metadata": {},
   "outputs": [
    {
     "data": {
      "text/html": [
       "<div>\n",
       "<style scoped>\n",
       "    .dataframe tbody tr th:only-of-type {\n",
       "        vertical-align: middle;\n",
       "    }\n",
       "\n",
       "    .dataframe tbody tr th {\n",
       "        vertical-align: top;\n",
       "    }\n",
       "\n",
       "    .dataframe thead th {\n",
       "        text-align: right;\n",
       "    }\n",
       "</style>\n",
       "<table border=\"1\" class=\"dataframe\">\n",
       "  <thead>\n",
       "    <tr style=\"text-align: right;\">\n",
       "      <th></th>\n",
       "      <th>listing_id</th>\n",
       "      <th>public_or_private</th>\n",
       "    </tr>\n",
       "  </thead>\n",
       "  <tbody>\n",
       "    <tr>\n",
       "      <th>0</th>\n",
       "      <td>279</td>\n",
       "      <td>private</td>\n",
       "    </tr>\n",
       "    <tr>\n",
       "      <th>1</th>\n",
       "      <td>393</td>\n",
       "      <td>public</td>\n",
       "    </tr>\n",
       "    <tr>\n",
       "      <th>2</th>\n",
       "      <td>441</td>\n",
       "      <td>private</td>\n",
       "    </tr>\n",
       "    <tr>\n",
       "      <th>3</th>\n",
       "      <td>560</td>\n",
       "      <td>public</td>\n",
       "    </tr>\n",
       "    <tr>\n",
       "      <th>4</th>\n",
       "      <td>567</td>\n",
       "      <td>public</td>\n",
       "    </tr>\n",
       "  </tbody>\n",
       "</table>\n",
       "</div>"
      ],
      "text/plain": [
       "   listing_id public_or_private\n",
       "0         279           private\n",
       "1         393            public\n",
       "2         441           private\n",
       "3         560            public\n",
       "4         567            public"
      ]
     },
     "execution_count": 14,
     "metadata": {},
     "output_type": "execute_result"
    }
   ],
   "source": [
    "ocr = pd.read_csv('data/ocr_results.csv')\n",
    "ocr.head()"
   ]
  },
  {
   "cell_type": "code",
   "execution_count": 15,
   "metadata": {},
   "outputs": [
    {
     "data": {
      "text/html": [
       "<div>\n",
       "<style scoped>\n",
       "    .dataframe tbody tr th:only-of-type {\n",
       "        vertical-align: middle;\n",
       "    }\n",
       "\n",
       "    .dataframe tbody tr th {\n",
       "        vertical-align: top;\n",
       "    }\n",
       "\n",
       "    .dataframe thead th {\n",
       "        text-align: right;\n",
       "    }\n",
       "</style>\n",
       "<table border=\"1\" class=\"dataframe\">\n",
       "  <thead>\n",
       "    <tr style=\"text-align: right;\">\n",
       "      <th></th>\n",
       "      <th>has_private_in_desc</th>\n",
       "      <th>id</th>\n",
       "      <th>address</th>\n",
       "      <th>unit_number</th>\n",
       "      <th>description</th>\n",
       "      <th>property_type_code</th>\n",
       "    </tr>\n",
       "  </thead>\n",
       "  <tbody>\n",
       "    <tr>\n",
       "      <th>0</th>\n",
       "      <td>True</td>\n",
       "      <td>20973383</td>\n",
       "      <td>18 Menayas Court</td>\n",
       "      <td>NaN</td>\n",
       "      <td>Rent your dream home. Come see this grand, sta...</td>\n",
       "      <td>590</td>\n",
       "    </tr>\n",
       "    <tr>\n",
       "      <th>1</th>\n",
       "      <td>True</td>\n",
       "      <td>7743146</td>\n",
       "      <td>332 21st St</td>\n",
       "      <td>1B</td>\n",
       "      <td>Attention gardening enthusiasts! Welcome to yo...</td>\n",
       "      <td>540</td>\n",
       "    </tr>\n",
       "    <tr>\n",
       "      <th>2</th>\n",
       "      <td>False</td>\n",
       "      <td>7645039</td>\n",
       "      <td>273 Bennett Ave</td>\n",
       "      <td>5-E</td>\n",
       "      <td>CHARMING STUDIO HOME IN FORT TRYON GARDENS&lt;br&gt;...</td>\n",
       "      <td>550</td>\n",
       "    </tr>\n",
       "    <tr>\n",
       "      <th>3</th>\n",
       "      <td>True</td>\n",
       "      <td>35024437</td>\n",
       "      <td>701 Ridge Hill Boulevard</td>\n",
       "      <td>9A</td>\n",
       "      <td>Adjust your Compass to Monarch @ Ridge Hill, W...</td>\n",
       "      <td>540</td>\n",
       "    </tr>\n",
       "    <tr>\n",
       "      <th>4</th>\n",
       "      <td>False</td>\n",
       "      <td>2171093</td>\n",
       "      <td>4 Cottage Dr</td>\n",
       "      <td>NaN</td>\n",
       "      <td>Absolutely Stunning Craftsman Style Ranch in 5...</td>\n",
       "      <td>540</td>\n",
       "    </tr>\n",
       "  </tbody>\n",
       "</table>\n",
       "</div>"
      ],
      "text/plain": [
       "   has_private_in_desc        id                   address unit_number  \\\n",
       "0                 True  20973383          18 Menayas Court         NaN   \n",
       "1                 True   7743146               332 21st St          1B   \n",
       "2                False   7645039           273 Bennett Ave         5-E   \n",
       "3                 True  35024437  701 Ridge Hill Boulevard          9A   \n",
       "4                False   2171093              4 Cottage Dr         NaN   \n",
       "\n",
       "                                         description  property_type_code  \n",
       "0  Rent your dream home. Come see this grand, sta...                 590  \n",
       "1  Attention gardening enthusiasts! Welcome to yo...                 540  \n",
       "2  CHARMING STUDIO HOME IN FORT TRYON GARDENS<br>...                 550  \n",
       "3  Adjust your Compass to Monarch @ Ridge Hill, W...                 540  \n",
       "4  Absolutely Stunning Craftsman Style Ranch in 5...                 540  "
      ]
     },
     "execution_count": 15,
     "metadata": {},
     "output_type": "execute_result"
    }
   ],
   "source": [
    "listings.head()"
   ]
  },
  {
   "cell_type": "code",
   "execution_count": 16,
   "metadata": {},
   "outputs": [
    {
     "data": {
      "text/plain": [
       "327930"
      ]
     },
     "execution_count": 16,
     "metadata": {},
     "output_type": "execute_result"
    }
   ],
   "source": [
    "listings_sup = pd.read_csv('data/nyc_listings_balcony_property_type.csv')\n",
    "len(listings_sup)"
   ]
  },
  {
   "cell_type": "code",
   "execution_count": null,
   "metadata": {},
   "outputs": [],
   "source": []
  }
 ],
 "metadata": {
  "kernelspec": {
   "display_name": "pw_3.12",
   "language": "python",
   "name": "python3"
  },
  "language_info": {
   "codemirror_mode": {
    "name": "ipython",
    "version": 3
   },
   "file_extension": ".py",
   "mimetype": "text/x-python",
   "name": "python",
   "nbconvert_exporter": "python",
   "pygments_lexer": "ipython3",
   "version": "3.12.4"
  }
 },
 "nbformat": 4,
 "nbformat_minor": 2
}
